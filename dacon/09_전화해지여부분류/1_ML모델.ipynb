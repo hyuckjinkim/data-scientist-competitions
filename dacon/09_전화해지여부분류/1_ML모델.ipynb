{
 "cells": [
  {
   "cell_type": "code",
   "execution_count": 33,
   "id": "3e1f5a59-35f7-41a8-92e4-7f4eaa7ed5c2",
   "metadata": {},
   "outputs": [],
   "source": [
    "import pandas as pd\n",
    "import numpy as np\n",
    "import matplotlib.pyplot as plt\n",
    "import seaborn as sns\n",
    "\n",
    "from sklearn.model_selection import train_test_split\n",
    "from sklearn.metrics import f1_score\n",
    "\n",
    "import catboost\n",
    "from catboost import CatBoostClassifier, Pool"
   ]
  },
  {
   "cell_type": "code",
   "execution_count": 90,
   "id": "f1d92fd4-6e51-4275-b718-57b65ac0bbc6",
   "metadata": {},
   "outputs": [],
   "source": [
    "SEED = 42"
   ]
  },
  {
   "cell_type": "code",
   "execution_count": 2,
   "id": "06fc15bb-f5ab-401a-98e3-bbb2a65c1596",
   "metadata": {},
   "outputs": [],
   "source": [
    "train_df = pd.read_csv('./data/train.csv')\n",
    "test_df  = pd.read_csv('./data/test.csv')"
   ]
  },
  {
   "cell_type": "code",
   "execution_count": 3,
   "id": "e02ae1bf-8a6b-4308-b755-39020f299f06",
   "metadata": {},
   "outputs": [],
   "source": [
    "# ID : 샘플 별 고유 ID\n",
    "# 가입일 : 서비스에 가입한 일수\n",
    "# 음성사서함이용 : 음성사서함 이용 건수\n",
    "# 주간통화시간 : 8시 ~ 16시까지의 통화 시간\n",
    "# 주간통화횟수 : 8시 ~ 16시까지의 통화 횟수\n",
    "# 주간통화요금 : 8시 ~ 16시까지의 통화 요금\n",
    "# 저녁통화시간 : 16시 ~ 0시까지의 통화 시간\n",
    "# 저녁통화횟수 : 16시 ~ 0시까지의 통화 횟수\n",
    "# 저녁통화요금 : 16시 ~ 0시까지의 통화 요금\n",
    "# 밤통화시간 : 0시 ~ 8시까지의 통화 시간\n",
    "# 밤통화횟수 : 0시 ~ 8시까지의 통화 횟수\n",
    "# 밤통화요금 : 0시 ~ 8시까지의 통화 요금\n",
    "# 상담전화건수 : 고객센터에 전화를 건 횟수\n",
    "# 전화해지여부 : 0(서비스 유지)/ 1(서비스 해지)"
   ]
  },
  {
   "cell_type": "code",
   "execution_count": 4,
   "id": "01df4a14-b576-4b06-80fa-6bb0700fe6e0",
   "metadata": {},
   "outputs": [],
   "source": [
    "tr_rename_dict = {\n",
    "    'ID':'id',\n",
    "    '가입일':'days_subscription',\n",
    "    '음성사서함이용':'n_voicemail',\n",
    "    '주간통화시간':'time_call_morning',\n",
    "    '주간통화횟수':'n_call_morning',\n",
    "    '주간통화요금':'pay_call_morning',\n",
    "    '저녁통화시간':'time_call_evening',\n",
    "    '저녁통화횟수':'n_call_evening',\n",
    "    '저녁통화요금':'pay_call_evening',\n",
    "    '밤통화시간':'time_call_night',\n",
    "    '밤통화횟수':'n_call_night',\n",
    "    '밤통화요금':'pay_call_night',\n",
    "    '상담전화건수':'n_call',\n",
    "    '전화해지여부':'target',\n",
    "}\n",
    "te_rename_dict = tr_rename_dict.copy()\n",
    "del te_rename_dict['전화해지여부']\n",
    "\n",
    "train_df = train_df.rename(columns=tr_rename_dict)\n",
    "test_df  = test_df .rename(columns=te_rename_dict)"
   ]
  },
  {
   "cell_type": "code",
   "execution_count": 5,
   "id": "16963f6f-f93f-44cf-b21e-9736bceecba0",
   "metadata": {},
   "outputs": [],
   "source": [
    "# train_df.describe()\n",
    "# train_df.isnull().sum()"
   ]
  },
  {
   "cell_type": "code",
   "execution_count": 6,
   "id": "9a416856-b205-4f95-9e0c-9f2dc3ebebf1",
   "metadata": {},
   "outputs": [
    {
     "data": {
      "text/plain": [
       "((30200, 14), (12943, 13))"
      ]
     },
     "execution_count": 6,
     "metadata": {},
     "output_type": "execute_result"
    }
   ],
   "source": [
    "train_df.shape, test_df.shape"
   ]
  },
  {
   "cell_type": "code",
   "execution_count": 7,
   "id": "4fb4749f-3716-491f-891a-0f16f502240f",
   "metadata": {},
   "outputs": [
    {
     "data": {
      "text/html": [
       "<div>\n",
       "<style scoped>\n",
       "    .dataframe tbody tr th:only-of-type {\n",
       "        vertical-align: middle;\n",
       "    }\n",
       "\n",
       "    .dataframe tbody tr th {\n",
       "        vertical-align: top;\n",
       "    }\n",
       "\n",
       "    .dataframe thead th {\n",
       "        text-align: right;\n",
       "    }\n",
       "</style>\n",
       "<table border=\"1\" class=\"dataframe\">\n",
       "  <thead>\n",
       "    <tr style=\"text-align: right;\">\n",
       "      <th></th>\n",
       "      <th>id</th>\n",
       "      <th>days_subscription</th>\n",
       "      <th>n_voicemail</th>\n",
       "      <th>time_call_morning</th>\n",
       "      <th>n_call_morning</th>\n",
       "      <th>pay_call_morning</th>\n",
       "      <th>time_call_evening</th>\n",
       "      <th>n_call_evening</th>\n",
       "      <th>pay_call_evening</th>\n",
       "      <th>time_call_night</th>\n",
       "      <th>n_call_night</th>\n",
       "      <th>pay_call_night</th>\n",
       "      <th>n_call</th>\n",
       "      <th>target</th>\n",
       "    </tr>\n",
       "  </thead>\n",
       "  <tbody>\n",
       "    <tr>\n",
       "      <th>0</th>\n",
       "      <td>TRAIN_00000</td>\n",
       "      <td>329</td>\n",
       "      <td>0</td>\n",
       "      <td>99.2</td>\n",
       "      <td>93</td>\n",
       "      <td>27.3</td>\n",
       "      <td>268.8</td>\n",
       "      <td>68</td>\n",
       "      <td>28.92</td>\n",
       "      <td>262.9</td>\n",
       "      <td>328</td>\n",
       "      <td>32.89</td>\n",
       "      <td>2</td>\n",
       "      <td>0</td>\n",
       "    </tr>\n",
       "    <tr>\n",
       "      <th>1</th>\n",
       "      <td>TRAIN_00001</td>\n",
       "      <td>2</td>\n",
       "      <td>80</td>\n",
       "      <td>323.9</td>\n",
       "      <td>323</td>\n",
       "      <td>83.7</td>\n",
       "      <td>269.4</td>\n",
       "      <td>326</td>\n",
       "      <td>32.09</td>\n",
       "      <td>322.8</td>\n",
       "      <td>209</td>\n",
       "      <td>32.32</td>\n",
       "      <td>2</td>\n",
       "      <td>0</td>\n",
       "    </tr>\n",
       "    <tr>\n",
       "      <th>2</th>\n",
       "      <td>TRAIN_00002</td>\n",
       "      <td>93</td>\n",
       "      <td>28</td>\n",
       "      <td>282.4</td>\n",
       "      <td>323</td>\n",
       "      <td>34.2</td>\n",
       "      <td>207.0</td>\n",
       "      <td>322</td>\n",
       "      <td>32.82</td>\n",
       "      <td>280.8</td>\n",
       "      <td>328</td>\n",
       "      <td>8.28</td>\n",
       "      <td>0</td>\n",
       "      <td>0</td>\n",
       "    </tr>\n",
       "    <tr>\n",
       "      <th>3</th>\n",
       "      <td>TRAIN_00003</td>\n",
       "      <td>223</td>\n",
       "      <td>1</td>\n",
       "      <td>221.4</td>\n",
       "      <td>223</td>\n",
       "      <td>25.1</td>\n",
       "      <td>233.0</td>\n",
       "      <td>61</td>\n",
       "      <td>23.90</td>\n",
       "      <td>203.8</td>\n",
       "      <td>234</td>\n",
       "      <td>9.36</td>\n",
       "      <td>0</td>\n",
       "      <td>0</td>\n",
       "    </tr>\n",
       "    <tr>\n",
       "      <th>4</th>\n",
       "      <td>TRAIN_00004</td>\n",
       "      <td>222</td>\n",
       "      <td>0</td>\n",
       "      <td>96.3</td>\n",
       "      <td>222</td>\n",
       "      <td>28.7</td>\n",
       "      <td>223.9</td>\n",
       "      <td>69</td>\n",
       "      <td>28.08</td>\n",
       "      <td>263.1</td>\n",
       "      <td>223</td>\n",
       "      <td>2.80</td>\n",
       "      <td>8</td>\n",
       "      <td>0</td>\n",
       "    </tr>\n",
       "  </tbody>\n",
       "</table>\n",
       "</div>"
      ],
      "text/plain": [
       "            id  days_subscription  n_voicemail  time_call_morning  \\\n",
       "0  TRAIN_00000                329            0               99.2   \n",
       "1  TRAIN_00001                  2           80              323.9   \n",
       "2  TRAIN_00002                 93           28              282.4   \n",
       "3  TRAIN_00003                223            1              221.4   \n",
       "4  TRAIN_00004                222            0               96.3   \n",
       "\n",
       "   n_call_morning  pay_call_morning  time_call_evening  n_call_evening  \\\n",
       "0              93              27.3              268.8              68   \n",
       "1             323              83.7              269.4             326   \n",
       "2             323              34.2              207.0             322   \n",
       "3             223              25.1              233.0              61   \n",
       "4             222              28.7              223.9              69   \n",
       "\n",
       "   pay_call_evening  time_call_night  n_call_night  pay_call_night  n_call  \\\n",
       "0             28.92            262.9           328           32.89       2   \n",
       "1             32.09            322.8           209           32.32       2   \n",
       "2             32.82            280.8           328            8.28       0   \n",
       "3             23.90            203.8           234            9.36       0   \n",
       "4             28.08            263.1           223            2.80       8   \n",
       "\n",
       "   target  \n",
       "0       0  \n",
       "1       0  \n",
       "2       0  \n",
       "3       0  \n",
       "4       0  "
      ]
     },
     "execution_count": 7,
     "metadata": {},
     "output_type": "execute_result"
    }
   ],
   "source": [
    "train_df.head()"
   ]
  },
  {
   "cell_type": "code",
   "execution_count": 8,
   "id": "6ee010b8-c759-4f2b-ab22-b8f752a98156",
   "metadata": {},
   "outputs": [],
   "source": [
    "target_feature = 'target'\n",
    "unuse_features = ['id']\n",
    "cat_features = [] #['n_call']\n",
    "num_features = [col for col in train_df.columns if col not in [target_feature]+unuse_features+cat_features]"
   ]
  },
  {
   "cell_type": "code",
   "execution_count": 103,
   "id": "a71406db-6c8e-4814-a773-2f1b225644c9",
   "metadata": {},
   "outputs": [
    {
     "data": {
      "text/plain": [
       "id                   30200\n",
       "days_subscription      345\n",
       "n_voicemail             76\n",
       "time_call_morning     2771\n",
       "n_call_morning         239\n",
       "pay_call_morning       735\n",
       "time_call_evening     2606\n",
       "n_call_evening         241\n",
       "pay_call_evening      1840\n",
       "time_call_night       2545\n",
       "n_call_night           233\n",
       "pay_call_night        1216\n",
       "n_call                  11\n",
       "target                   2\n",
       "dtype: int64"
      ]
     },
     "execution_count": 103,
     "metadata": {},
     "output_type": "execute_result"
    }
   ],
   "source": [
    "train_df.apply(lambda x: x.nunique())"
   ]
  },
  {
   "cell_type": "code",
   "execution_count": 13,
   "id": "1985ab13-64d2-44a6-b050-4289ca846d66",
   "metadata": {},
   "outputs": [
    {
     "data": {
      "text/html": [
       "<div>\n",
       "<style scoped>\n",
       "    .dataframe tbody tr th:only-of-type {\n",
       "        vertical-align: middle;\n",
       "    }\n",
       "\n",
       "    .dataframe tbody tr th {\n",
       "        vertical-align: top;\n",
       "    }\n",
       "\n",
       "    .dataframe thead th {\n",
       "        text-align: right;\n",
       "    }\n",
       "</style>\n",
       "<table border=\"1\" class=\"dataframe\">\n",
       "  <thead>\n",
       "    <tr style=\"text-align: right;\">\n",
       "      <th></th>\n",
       "      <th>count</th>\n",
       "      <th>mean</th>\n",
       "      <th>std</th>\n",
       "      <th>min</th>\n",
       "      <th>25%</th>\n",
       "      <th>50%</th>\n",
       "      <th>75%</th>\n",
       "      <th>max</th>\n",
       "    </tr>\n",
       "  </thead>\n",
       "  <tbody>\n",
       "    <tr>\n",
       "      <th>days_subscription</th>\n",
       "      <td>30200.0</td>\n",
       "      <td>159.7</td>\n",
       "      <td>123.8</td>\n",
       "      <td>1.0</td>\n",
       "      <td>63.0</td>\n",
       "      <td>118.0</td>\n",
       "      <td>228.0</td>\n",
       "      <td>2212.0</td>\n",
       "    </tr>\n",
       "    <tr>\n",
       "      <th>n_voicemail</th>\n",
       "      <td>30200.0</td>\n",
       "      <td>12.0</td>\n",
       "      <td>24.9</td>\n",
       "      <td>0.0</td>\n",
       "      <td>0.0</td>\n",
       "      <td>1.0</td>\n",
       "      <td>22.0</td>\n",
       "      <td>1112.0</td>\n",
       "    </tr>\n",
       "    <tr>\n",
       "      <th>time_call_morning</th>\n",
       "      <td>30200.0</td>\n",
       "      <td>250.6</td>\n",
       "      <td>84.4</td>\n",
       "      <td>0.0</td>\n",
       "      <td>222.8</td>\n",
       "      <td>234.0</td>\n",
       "      <td>289.6</td>\n",
       "      <td>481.9</td>\n",
       "    </tr>\n",
       "    <tr>\n",
       "      <th>n_call_morning</th>\n",
       "      <td>30200.0</td>\n",
       "      <td>159.2</td>\n",
       "      <td>101.6</td>\n",
       "      <td>0.0</td>\n",
       "      <td>88.0</td>\n",
       "      <td>117.5</td>\n",
       "      <td>223.0</td>\n",
       "      <td>489.0</td>\n",
       "    </tr>\n",
       "    <tr>\n",
       "      <th>pay_call_morning</th>\n",
       "      <td>30200.0</td>\n",
       "      <td>41.1</td>\n",
       "      <td>23.2</td>\n",
       "      <td>0.0</td>\n",
       "      <td>24.4</td>\n",
       "      <td>30.8</td>\n",
       "      <td>45.9</td>\n",
       "      <td>118.6</td>\n",
       "    </tr>\n",
       "    <tr>\n",
       "      <th>time_call_evening</th>\n",
       "      <td>30200.0</td>\n",
       "      <td>263.2</td>\n",
       "      <td>74.1</td>\n",
       "      <td>0.1</td>\n",
       "      <td>223.7</td>\n",
       "      <td>243.0</td>\n",
       "      <td>290.3</td>\n",
       "      <td>481.6</td>\n",
       "    </tr>\n",
       "    <tr>\n",
       "      <th>n_call_evening</th>\n",
       "      <td>30200.0</td>\n",
       "      <td>158.5</td>\n",
       "      <td>102.2</td>\n",
       "      <td>0.0</td>\n",
       "      <td>87.0</td>\n",
       "      <td>112.0</td>\n",
       "      <td>223.0</td>\n",
       "      <td>489.0</td>\n",
       "    </tr>\n",
       "    <tr>\n",
       "      <th>pay_call_evening</th>\n",
       "      <td>30200.0</td>\n",
       "      <td>25.4</td>\n",
       "      <td>8.1</td>\n",
       "      <td>0.0</td>\n",
       "      <td>22.2</td>\n",
       "      <td>23.3</td>\n",
       "      <td>28.8</td>\n",
       "      <td>50.0</td>\n",
       "    </tr>\n",
       "    <tr>\n",
       "      <th>time_call_night</th>\n",
       "      <td>30200.0</td>\n",
       "      <td>263.4</td>\n",
       "      <td>73.8</td>\n",
       "      <td>20.8</td>\n",
       "      <td>223.7</td>\n",
       "      <td>242.8</td>\n",
       "      <td>290.5</td>\n",
       "      <td>481.8</td>\n",
       "    </tr>\n",
       "    <tr>\n",
       "      <th>n_call_night</th>\n",
       "      <td>30200.0</td>\n",
       "      <td>157.0</td>\n",
       "      <td>101.7</td>\n",
       "      <td>20.0</td>\n",
       "      <td>87.0</td>\n",
       "      <td>108.0</td>\n",
       "      <td>222.0</td>\n",
       "      <td>490.0</td>\n",
       "    </tr>\n",
       "    <tr>\n",
       "      <th>pay_call_night</th>\n",
       "      <td>30200.0</td>\n",
       "      <td>12.1</td>\n",
       "      <td>9.4</td>\n",
       "      <td>1.0</td>\n",
       "      <td>4.7</td>\n",
       "      <td>9.1</td>\n",
       "      <td>20.3</td>\n",
       "      <td>45.0</td>\n",
       "    </tr>\n",
       "    <tr>\n",
       "      <th>n_call</th>\n",
       "      <td>30200.0</td>\n",
       "      <td>2.3</td>\n",
       "      <td>2.1</td>\n",
       "      <td>0.0</td>\n",
       "      <td>2.0</td>\n",
       "      <td>2.0</td>\n",
       "      <td>2.0</td>\n",
       "      <td>11.0</td>\n",
       "    </tr>\n",
       "    <tr>\n",
       "      <th>target</th>\n",
       "      <td>30200.0</td>\n",
       "      <td>0.1</td>\n",
       "      <td>0.3</td>\n",
       "      <td>0.0</td>\n",
       "      <td>0.0</td>\n",
       "      <td>0.0</td>\n",
       "      <td>0.0</td>\n",
       "      <td>1.0</td>\n",
       "    </tr>\n",
       "  </tbody>\n",
       "</table>\n",
       "</div>"
      ],
      "text/plain": [
       "                     count   mean    std   min    25%    50%    75%     max\n",
       "days_subscription  30200.0  159.7  123.8   1.0   63.0  118.0  228.0  2212.0\n",
       "n_voicemail        30200.0   12.0   24.9   0.0    0.0    1.0   22.0  1112.0\n",
       "time_call_morning  30200.0  250.6   84.4   0.0  222.8  234.0  289.6   481.9\n",
       "n_call_morning     30200.0  159.2  101.6   0.0   88.0  117.5  223.0   489.0\n",
       "pay_call_morning   30200.0   41.1   23.2   0.0   24.4   30.8   45.9   118.6\n",
       "time_call_evening  30200.0  263.2   74.1   0.1  223.7  243.0  290.3   481.6\n",
       "n_call_evening     30200.0  158.5  102.2   0.0   87.0  112.0  223.0   489.0\n",
       "pay_call_evening   30200.0   25.4    8.1   0.0   22.2   23.3   28.8    50.0\n",
       "time_call_night    30200.0  263.4   73.8  20.8  223.7  242.8  290.5   481.8\n",
       "n_call_night       30200.0  157.0  101.7  20.0   87.0  108.0  222.0   490.0\n",
       "pay_call_night     30200.0   12.1    9.4   1.0    4.7    9.1   20.3    45.0\n",
       "n_call             30200.0    2.3    2.1   0.0    2.0    2.0    2.0    11.0\n",
       "target             30200.0    0.1    0.3   0.0    0.0    0.0    0.0     1.0"
      ]
     },
     "execution_count": 13,
     "metadata": {},
     "output_type": "execute_result"
    }
   ],
   "source": [
    "train_df.describe().round(1).T"
   ]
  },
  {
   "cell_type": "code",
   "execution_count": 42,
   "id": "89a770ea-32a9-4ccb-8561-505180e1a1ee",
   "metadata": {},
   "outputs": [
    {
     "data": {
      "text/plain": [
       "0    26882\n",
       "1     3318\n",
       "Name: target, dtype: int64"
      ]
     },
     "execution_count": 42,
     "metadata": {},
     "output_type": "execute_result"
    }
   ],
   "source": [
    "y.value_counts()"
   ]
  },
  {
   "cell_type": "code",
   "execution_count": 14,
   "id": "600f7e3c-b998-4df1-a5a9-9f761151e3bd",
   "metadata": {},
   "outputs": [],
   "source": [
    "# i=0\n",
    "# for col in num_features:\n",
    "#     i+=1\n",
    "#     print('\\n({}/{}) {}'.format(i,len(num_features),col))\n",
    "#     plt.figure(figsize=(15,7))\n",
    "#     sns.boxplot(x=train_df[target_feature],y=train_df[col])\n",
    "#     plt.grid()\n",
    "#     plt.show()"
   ]
  },
  {
   "cell_type": "code",
   "execution_count": 65,
   "id": "a4bce731-9498-456c-933b-53fbe963562c",
   "metadata": {},
   "outputs": [],
   "source": [
    "# https://stackoverflow.com/questions/65462220/how-to-create-custom-eval-metric-for-catboost\n",
    "class CustomEvalMetric:\n",
    "    def is_max_optimal(self):\n",
    "        return True # greater is better\n",
    "    \n",
    "    def get_final_error(self, error, weight):\n",
    "        return error\n",
    "\n",
    "    def evaluate(self, approxes, target, weight):\n",
    "        assert len(approxes) == 1\n",
    "        assert len(target) == len(approxes[0])\n",
    "\n",
    "        approx = approxes[0]\n",
    "\n",
    "        y_pred = np.array(approx)\n",
    "        y_true = np.array(target)\n",
    "\n",
    "        output_weight = 1 # weight is not used\n",
    "\n",
    "        score = f1_score(y_true,y_pred,average='macro')\n",
    " \n",
    "        return score, output_weight"
   ]
  },
  {
   "cell_type": "code",
   "execution_count": 126,
   "id": "1510b22c-0bfb-441a-842c-aac900720523",
   "metadata": {},
   "outputs": [
    {
     "data": {
      "text/plain": [
       "0    0.888535\n",
       "1    0.111465\n",
       "Name: target, dtype: float64"
      ]
     },
     "metadata": {},
     "output_type": "display_data"
    },
    {
     "name": "stdout",
     "output_type": "stream",
     "text": [
      "\n"
     ]
    },
    {
     "data": {
      "text/plain": [
       "0    0.896523\n",
       "1    0.103477\n",
       "Name: target, dtype: float64"
      ]
     },
     "metadata": {},
     "output_type": "display_data"
    }
   ],
   "source": [
    "display(y_train.value_counts() / len(y_train))\n",
    "print('')\n",
    "display(y_valid.value_counts() / len(y_valid))\n",
    "# stratify"
   ]
  },
  {
   "cell_type": "code",
   "execution_count": 127,
   "id": "3f3bcb76-2fcf-4ad4-8b3c-305b4abe5a97",
   "metadata": {},
   "outputs": [
    {
     "name": "stdout",
     "output_type": "stream",
     "text": [
      "Learning rate set to 0.034553\n",
      "0:\tlearn: 0.6640878\ttest: 0.6643365\tbest: 0.6643365 (0)\ttotal: 8.88ms\tremaining: 44.4s\n",
      "500:\tlearn: 0.2424610\ttest: 0.2772312\tbest: 0.2772312 (500)\ttotal: 2.62s\tremaining: 23.5s\n",
      "1000:\tlearn: 0.1907160\ttest: 0.2498529\tbest: 0.2498529 (1000)\ttotal: 5.11s\tremaining: 20.4s\n",
      "1500:\tlearn: 0.1559802\ttest: 0.2311058\tbest: 0.2311058 (1500)\ttotal: 7.66s\tremaining: 17.9s\n",
      "2000:\tlearn: 0.1330452\ttest: 0.2196852\tbest: 0.2196852 (2000)\ttotal: 10.1s\tremaining: 15.2s\n",
      "2500:\tlearn: 0.1148975\ttest: 0.2125384\tbest: 0.2125384 (2500)\ttotal: 12.6s\tremaining: 12.6s\n",
      "3000:\tlearn: 0.1008474\ttest: 0.2067260\tbest: 0.2067260 (3000)\ttotal: 15.1s\tremaining: 10.1s\n",
      "3500:\tlearn: 0.0896437\ttest: 0.2029976\tbest: 0.2029976 (3500)\ttotal: 17.6s\tremaining: 7.55s\n",
      "4000:\tlearn: 0.0802318\ttest: 0.2000155\tbest: 0.2000155 (4000)\ttotal: 20.1s\tremaining: 5.02s\n",
      "4500:\tlearn: 0.0722930\ttest: 0.1991293\tbest: 0.1991293 (4500)\ttotal: 22.6s\tremaining: 2.51s\n",
      "4999:\tlearn: 0.0655785\ttest: 0.1980701\tbest: 0.1980701 (4999)\ttotal: 25.1s\tremaining: 0us\n",
      "\n",
      "bestTest = 0.1980700991\n",
      "bestIteration = 4999\n",
      "\n"
     ]
    },
    {
     "data": {
      "text/plain": [
       "<catboost.core.CatBoostClassifier at 0x15fd62b50>"
      ]
     },
     "execution_count": 127,
     "metadata": {},
     "output_type": "execute_result"
    }
   ],
   "source": [
    "X = train_df[num_features+cat_features]\n",
    "y = train_df[target_feature]\n",
    "\n",
    "X_train, X_valid, y_train, y_valid = train_test_split(X,y,test_size=0.2,random_state=SEED,stratify=y)\n",
    "\n",
    "train_dataset = Pool(X_train,y_train)\n",
    "valid_dataset = Pool(X_valid,y_valid)\n",
    "\n",
    "model = CatBoostClassifier(\n",
    "    iterations=5000,\n",
    "    metric_period=500,\n",
    "    #learning_rate=0.2,\n",
    "    #eval_metric=CustomEvalMetric(),\n",
    "    #eval_metric='TotalF1',\n",
    "    use_best_model=True,\n",
    "    random_state=SEED,\n",
    ")\n",
    "model.fit(train_dataset,eval_set=valid_dataset)"
   ]
  },
  {
   "cell_type": "code",
   "execution_count": 128,
   "id": "676fda23-2296-47d5-be49-1b3bc5f5298b",
   "metadata": {},
   "outputs": [
    {
     "name": "stdout",
     "output_type": "stream",
     "text": [
      "> Macro F1 Score: 0.7322\n",
      "> Cross Table:\n"
     ]
    },
    {
     "data": {
      "text/html": [
       "<div>\n",
       "<style scoped>\n",
       "    .dataframe tbody tr th:only-of-type {\n",
       "        vertical-align: middle;\n",
       "    }\n",
       "\n",
       "    .dataframe tbody tr th {\n",
       "        vertical-align: top;\n",
       "    }\n",
       "\n",
       "    .dataframe thead th {\n",
       "        text-align: right;\n",
       "    }\n",
       "</style>\n",
       "<table border=\"1\" class=\"dataframe\">\n",
       "  <thead>\n",
       "    <tr style=\"text-align: right;\">\n",
       "      <th>col_0</th>\n",
       "      <th>0</th>\n",
       "      <th>1</th>\n",
       "    </tr>\n",
       "    <tr>\n",
       "      <th>target</th>\n",
       "      <th></th>\n",
       "      <th></th>\n",
       "    </tr>\n",
       "  </thead>\n",
       "  <tbody>\n",
       "    <tr>\n",
       "      <th>0</th>\n",
       "      <td>5290</td>\n",
       "      <td>86</td>\n",
       "    </tr>\n",
       "    <tr>\n",
       "      <th>1</th>\n",
       "      <td>408</td>\n",
       "      <td>256</td>\n",
       "    </tr>\n",
       "  </tbody>\n",
       "</table>\n",
       "</div>"
      ],
      "text/plain": [
       "col_0      0    1\n",
       "target           \n",
       "0       5290   86\n",
       "1        408  256"
      ]
     },
     "execution_count": 128,
     "metadata": {},
     "output_type": "execute_result"
    }
   ],
   "source": [
    "y_pred = model.predict(X_valid)\n",
    "y_true = y_valid.copy()\n",
    "\n",
    "print('> Macro F1 Score: {:.4f}'.format(f1_score(y_pred,y_true,average='macro')))\n",
    "print('> Cross Table:')\n",
    "pd.crosstab(y_true,y_pred)"
   ]
  },
  {
   "cell_type": "code",
   "execution_count": null,
   "id": "81e44eba-17ed-4632-a14c-f8223b8fa06d",
   "metadata": {},
   "outputs": [],
   "source": []
  }
 ],
 "metadata": {
  "kernelspec": {
   "display_name": "Python 3 (ipykernel)",
   "language": "python",
   "name": "python3"
  },
  "language_info": {
   "codemirror_mode": {
    "name": "ipython",
    "version": 3
   },
   "file_extension": ".py",
   "mimetype": "text/x-python",
   "name": "python",
   "nbconvert_exporter": "python",
   "pygments_lexer": "ipython3",
   "version": "3.8.10"
  }
 },
 "nbformat": 4,
 "nbformat_minor": 5
}
