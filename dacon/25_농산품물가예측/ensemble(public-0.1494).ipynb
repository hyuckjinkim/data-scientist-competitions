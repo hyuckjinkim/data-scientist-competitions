{
 "cells": [
  {
   "cell_type": "markdown",
   "metadata": {},
   "source": [
    "# 농산물 가격 예측을 위한 AI 모델 개발 \n",
    "- '2024 농산물 가격 예측 AI 경진대회'는 데이터와 AI 기술을 활용하여 농산물 가격 예측 능력을 향상시키는 것을 목표로 합니다.<br>  이 대회는 농업 분야의 복잡한 시계열 데이터를 효율적으로 분석하고 예측할 수 있는 AI 알고리즘 개발에 초점을 맞추고 있습니다. <br> <br>\n",
    "- 이 대회의 궁극적 목적은 참가자들의 시계열 데이터 분석 및 예측 역량을 강화하고, <br> AI 기술이 실제 농산물 가격 예측과 관련 정책 결정에 어떻게 기여할 수 있는지 탐구하는 것입니다. "
   ]
  },
  {
   "cell_type": "markdown",
   "metadata": {},
   "source": [
    "# Import Library"
   ]
  },
  {
   "cell_type": "code",
   "execution_count": 1,
   "metadata": {},
   "outputs": [],
   "source": [
    "import sys\n",
    "lib_dir = \"g:/My Drive/Storage/Github/hyuckjinkim\"\n",
    "sys.path.append(lib_dir)\n",
    "\n",
    "from lib.python.graph import MatplotlibFontManager\n",
    "fm = MatplotlibFontManager()\n",
    "fm.set_korean_font(check=False)\n",
    "\n",
    "from lib.python.torch import seed_everything\n",
    "from lib.python.torch.build_model import train, predict\n",
    "from lib.python.log import get_logger\n",
    "seed_everything(42)"
   ]
  },
  {
   "cell_type": "code",
   "execution_count": 2,
   "metadata": {},
   "outputs": [],
   "source": [
    "# import pandas as pd\n",
    "# pd.set_option(\"display.max_rows\", None)\n",
    "# pd.set_option(\"display.max_columns\", None)\n",
    "\n",
    "# train_df = pd.read_csv('data/train/train.csv')\n",
    "\n",
    "# train_meta1_df = pd.read_csv('data/train/meta/TRAIN_산지공판장_2018-2021.csv')\n",
    "# train_meta1_df.drop(['품목코드','품종코드','공판장코드'], axis=1, inplace=True)\n",
    "\n",
    "# train_meta2_df = pd.read_csv('data/train/meta/TRAIN_전국도매_2018-2021.csv')\n",
    "# train_meta2_df.drop(['품목코드','품종코드','시장코드']  , axis=1, inplace=True)\n",
    "\n",
    "# train_df.head(2) # ['평년 평균가격(원)','평균가격(원)']\n",
    "# train_meta1_df.head(2)\n",
    "# train_meta2_df.head(2)"
   ]
  },
  {
   "cell_type": "code",
   "execution_count": 3,
   "metadata": {},
   "outputs": [],
   "source": [
    "import os\n",
    "import pandas as pd\n",
    "import numpy as np\n",
    "from tqdm.notebook import tqdm\n",
    "from types import SimpleNamespace\n",
    "from copy import deepcopy\n",
    "import pickle\n",
    "import gc\n",
    "gc.collect()\n",
    "\n",
    "from sklearn.preprocessing import MinMaxScaler\n",
    "from sklearn.model_selection import train_test_split\n",
    "\n",
    "import torch\n",
    "import torch.nn as nn\n",
    "import torch.nn.functional as F\n",
    "from torch.utils.data import Dataset, DataLoader"
   ]
  },
  {
   "cell_type": "markdown",
   "metadata": {},
   "source": [
    "# Hyperparameter Setting"
   ]
  },
  {
   "cell_type": "markdown",
   "metadata": {},
   "source": [
    "# Define Function for Feature Engineering\n",
    "- 타겟의 필터 조건을 제외한 메타데이터의 필터 조건은 참가자들 각자의 기준에 맞춰 자유롭게 사용가능 \n",
    "- 밑의 필터 조건은 임의로 제공하는 예시"
   ]
  },
  {
   "cell_type": "code",
   "execution_count": 4,
   "metadata": {},
   "outputs": [],
   "source": [
    "def process_data(raw_file, 산지공판장_file, 전국도매_file, 품목명, scalers=None):\n",
    "    raw_data = pd.read_csv(raw_file)\n",
    "    산지공판장 = pd.read_csv(산지공판장_file)\n",
    "    전국도매 = pd.read_csv(전국도매_file)\n",
    "\n",
    "    # 품목코드, 품종코드, 공판장코드, 시장코드 제거\n",
    "    산지공판장.drop(['품목코드','품종코드','공판장코드'], axis=1, inplace=True)\n",
    "    전국도매  .drop(['품목코드','품종코드','시장코드']  , axis=1, inplace=True)\n",
    "\n",
    "    # 연도 중복제거 및 2018년을 기준으로 1년단위로 변경\n",
    "    산지공판장.drop('연도', axis=1, inplace=True)\n",
    "    전국도매['연도'] -= 2018\n",
    "\n",
    "    # 이상값(0이하) 처리\n",
    "    for col in ['전순 평균가격(원) PreVious SOON', '전달 평균가격(원) PreVious MMonth', '전년 평균가격(원) PreVious YeaR']:\n",
    "        loc = 전국도매[col] < 0\n",
    "        전국도매.loc[loc,col] = 0\n",
    "\n",
    "    # log변환\n",
    "    raw_cols = ['평년 평균가격(원)', '평균가격(원)']\n",
    "    산지공판장_cols =  ['총반입량(kg)', '총거래금액(원)', '평균가(원/kg)', '중간가(원/kg)', '최저가(원/kg)', '최고가(원/kg)', '경매 건수', \n",
    "                       '전순 평균가격(원) PreVious SOON', '전달 평균가격(원) PreVious MMonth', '전년 평균가격(원) PreVious YeaR', '평년 평균가격(원) Common Year SOON']\n",
    "    전국도매_cols = ['총반입량(kg)', '총거래금액(원)', '평균가(원/kg)', '고가(20%) 평균가', '중가(60%) 평균가 ', '저가(20%) 평균가', '중간가(원/kg)', '최저가(원/kg)',\n",
    "                    '최고가(원/kg)', '경매 건수', '전순 평균가격(원) PreVious SOON', '전달 평균가격(원) PreVious MMonth', '전년 평균가격(원) PreVious YeaR', '평년 평균가격(원) Common Year SOON']\n",
    "    for col in raw_cols: raw_data[col] = np.log1p(raw_data[col])\n",
    "    for col in 산지공판장_cols: 산지공판장[col] = np.log1p(산지공판장[col])\n",
    "    for col in 전국도매_cols: 전국도매[col] = np.log1p(전국도매[col])\n",
    "\n",
    "    # 타겟 및 메타데이터 필터 조건 정의\n",
    "    conditions = {\n",
    "    '감자': {\n",
    "        'target': lambda df: (df['품종명'] == '감자 수미') & (df['거래단위'] == '20키로상자') & (df['등급'] == '상'),\n",
    "        '공판장': {'공판장명': ['*전국농협공판장'], '품목명': ['감자'], '품종명': ['수미'], '등급명': ['상']},\n",
    "        '도매': {'시장명': ['*전국도매시장'], '품목명': ['감자'], '품종명': ['수미']}\n",
    "    },\n",
    "    '건고추': {\n",
    "        'target': lambda df: (df['품종명'] == '화건') & (df['거래단위'] == '30 kg') & (df['등급'] == '상품'),\n",
    "        '공판장': None, \n",
    "        '도매': None  \n",
    "    },\n",
    "    '깐마늘(국산)': {\n",
    "        'target': lambda df: (df['거래단위'] == '20 kg') & (df['등급'] == '상품'),\n",
    "        '공판장': {'공판장명': ['*전국농협공판장'], '품목명': ['마늘'], '품종명': ['깐마늘'], '등급명': ['상']},\n",
    "        '도매': {'시장명': ['*전국도매시장'], '품목명': ['마늘'], '품종명': ['깐마늘']}\n",
    "    },\n",
    "    '대파': {\n",
    "        'target': lambda df: (df['품종명'] == '대파(일반)') & (df['거래단위'] == '1키로단') & (df['등급'] == '상'),\n",
    "        '공판장': {'공판장명': ['*전국농협공판장'], '품목명': ['대파'], '품종명': ['대파(일반)'], '등급명': ['상']},\n",
    "        '도매': {'시장명': ['*전국도매시장'], '품목명': ['대파'], '품종명': ['대파(일반)']}\n",
    "    },\n",
    "    '무': {\n",
    "        'target': lambda df: (df['거래단위'] == '20키로상자') & (df['등급'] == '상'),\n",
    "        '공판장': {'공판장명': ['*전국농협공판장'], '품목명': ['무'], '품종명': ['기타무'], '등급명': ['상']},\n",
    "        '도매': {'시장명': ['*전국도매시장'], '품목명': ['무'], '품종명': ['무']}\n",
    "    },\n",
    "    '배추': {\n",
    "        'target': lambda df: (df['거래단위'] == '10키로망대') & (df['등급'] == '상'),\n",
    "        '공판장': {'공판장명': ['*전국농협공판장'], '품목명': ['배추'], '품종명': ['쌈배추'], '등급명': ['상']},\n",
    "        '도매': {'시장명': ['*전국도매시장'], '품목명': ['배추'], '품종명': ['배추']}\n",
    "    },\n",
    "    '사과': {\n",
    "        'target': lambda df: (df['품종명'].isin(['홍로', '후지'])) & (df['거래단위'] == '10 개') & (df['등급'] == '상품'),\n",
    "        '공판장': {'공판장명': ['*전국농협공판장'], '품목명': ['사과'], '품종명': ['후지'], '등급명': ['상']},\n",
    "        '도매': {'시장명': ['*전국도매시장'], '품목명': ['사과'], '품종명': ['후지']}\n",
    "    },\n",
    "    '상추': {\n",
    "        'target': lambda df: (df['품종명'] == '청') & (df['거래단위'] == '100 g') & (df['등급'] == '상품'),\n",
    "        '공판장': {'공판장명': ['*전국농협공판장'], '품목명': ['상추'], '품종명': ['청상추'], '등급명': ['상']},\n",
    "        '도매': {'시장명': ['*전국도매시장'], '품목명': ['상추'], '품종명': ['청상추']}\n",
    "    },\n",
    "    '양파': {\n",
    "        'target': lambda df: (df['품종명'] == '양파') & (df['거래단위'] == '1키로') & (df['등급'] == '상'),\n",
    "        '공판장': {'공판장명': ['*전국농협공판장'], '품목명': ['양파'], '품종명': ['기타양파'], '등급명': ['상']},\n",
    "        '도매': {'시장명': ['*전국도매시장'], '품목명': ['양파'], '품종명': ['양파(일반)']}\n",
    "    },\n",
    "    '배': {\n",
    "        'target': lambda df: (df['품종명'] == '신고') & (df['거래단위'] == '10 개') & (df['등급'] == '상품'),\n",
    "        '공판장': {'공판장명': ['*전국농협공판장'], '품목명': ['배'], '품종명': ['신고'], '등급명': ['상']},\n",
    "        '도매': {'시장명': ['*전국도매시장'], '품목명': ['배'], '품종명': ['신고']}\n",
    "    }\n",
    "    }\n",
    "\n",
    "    # 타겟 데이터 필터링\n",
    "    raw_품목 = raw_data[raw_data['품목명'] == 품목명]\n",
    "    target_mask = conditions[품목명]['target'](raw_품목)\n",
    "    filtered_data = raw_품목[target_mask]\n",
    "\n",
    "    # 다른 품종에 대한 파생변수 생성\n",
    "    other_data = raw_품목[~target_mask]\n",
    "    unique_combinations = other_data[['품종명', '거래단위', '등급']].drop_duplicates()\n",
    "    for _, row in unique_combinations.iterrows():\n",
    "        품종명, 거래단위, 등급 = row['품종명'], row['거래단위'], row['등급']\n",
    "        mask = (other_data['품종명'] == 품종명) & (other_data['거래단위'] == 거래단위) & (other_data['등급'] == 등급)\n",
    "        temp_df = other_data[mask]\n",
    "        for col in ['평년 평균가격(원)', '평균가격(원)']:\n",
    "            new_col_name = f'{품종명}_{거래단위}_{등급}_{col}'\n",
    "            filtered_data = filtered_data.merge(temp_df[['시점', col]], on='시점', how='left', suffixes=('', f'_{new_col_name}'))\n",
    "            filtered_data.rename(columns={f'{col}_{new_col_name}': new_col_name}, inplace=True)\n",
    "\n",
    "    # 공판장 데이터 처리\n",
    "    if conditions[품목명]['공판장']:\n",
    "        filtered_공판장 = 산지공판장\n",
    "        for key, value in conditions[품목명]['공판장'].items():\n",
    "            filtered_공판장 = filtered_공판장[filtered_공판장[key].isin(value)]\n",
    "        \n",
    "        filtered_공판장 = filtered_공판장.add_prefix('공판장_').rename(columns={'공판장_시점': '시점'})\n",
    "        filtered_data = filtered_data.merge(filtered_공판장, on='시점', how='left')\n",
    "\n",
    "    # 도매 데이터 처리\n",
    "    if conditions[품목명]['도매']:\n",
    "        filtered_도매 = 전국도매\n",
    "        for key, value in conditions[품목명]['도매'].items():\n",
    "            filtered_도매 = filtered_도매[filtered_도매[key].isin(value)]\n",
    "        \n",
    "        filtered_도매 = filtered_도매.add_prefix('도매_').rename(columns={'도매_시점': '시점'})\n",
    "        filtered_data = filtered_data.merge(filtered_도매, on='시점', how='left')\n",
    "\n",
    "    # 수치형 컬럼 처리\n",
    "    numeric_columns = filtered_data.select_dtypes(include=[np.number]).columns\n",
    "    filtered_data = filtered_data[['시점'] + list(numeric_columns)]\n",
    "    filtered_data[numeric_columns] = filtered_data[numeric_columns].fillna(0)\n",
    "\n",
    "    # 정규화 적용\n",
    "    if scalers is None:\n",
    "        scalers = {}\n",
    "        for col in numeric_columns:\n",
    "            scaler = MinMaxScaler()\n",
    "            filtered_data[col] = scaler.fit_transform(filtered_data[col].values.reshape(-1,1))\n",
    "            scalers[col] = scaler\n",
    "    else:\n",
    "        for col in numeric_columns:\n",
    "            scaler = scalers[col]\n",
    "            filtered_data[col] = scaler.transform(filtered_data[col].values.reshape(-1,1))\n",
    "\n",
    "    return filtered_data, scalers\n"
   ]
  },
  {
   "cell_type": "markdown",
   "metadata": {},
   "source": [
    "# Define Custom Dataset Class"
   ]
  },
  {
   "cell_type": "code",
   "execution_count": 5,
   "metadata": {},
   "outputs": [],
   "source": [
    "class AgriculturePriceDataset(Dataset):\n",
    "    def __init__(self, dataframe, window_size=9, prediction_length=3, is_test=False):\n",
    "        self.data = dataframe\n",
    "        self.window_size = window_size\n",
    "        self.prediction_length = prediction_length\n",
    "        self.is_test = is_test\n",
    "        \n",
    "        self.price_column = '평균가격(원)'\n",
    "        self.numeric_columns = self.data.select_dtypes(include=[np.number]).columns.tolist()\n",
    "\n",
    "        self.sequences = []\n",
    "        if not self.is_test:\n",
    "            for i in range(len(self.data) - self.window_size - self.prediction_length + 1):\n",
    "                x = self.data[self.numeric_columns].iloc[i:i+self.window_size].values\n",
    "                y = self.data[self.price_column].iloc[i+self.window_size:i+self.window_size+self.prediction_length].values\n",
    "                self.sequences.append((x, y))\n",
    "        else:\n",
    "            self.sequences = [self.data[self.numeric_columns].values]\n",
    "    \n",
    "    def __len__(self):\n",
    "        return len(self.sequences)\n",
    "    \n",
    "    def __getitem__(self, idx):\n",
    "        if not self.is_test:\n",
    "            x, y = self.sequences[idx]\n",
    "            return torch.FloatTensor(x), torch.FloatTensor(y)\n",
    "        else:\n",
    "            return torch.FloatTensor(self.sequences[idx])"
   ]
  },
  {
   "cell_type": "markdown",
   "metadata": {},
   "source": [
    "# Define Model Architecture and Training Functions"
   ]
  },
  {
   "cell_type": "code",
   "execution_count": 33,
   "metadata": {},
   "outputs": [],
   "source": [
    "# https://github.com/lss-1138/SegRNN/blob/main/models/SegRNN.py\n",
    "from lib.python.torch.models.SegRNN import Model as SegRNN\n",
    "from lib.python.torch.models.NLinear import Model as NLinear\n",
    "from lib.python.torch.models.DLinear import Model as DLinear\n",
    "from lib.python.torch.models.TimeSeriesTransformer import Model as TimeSeriesTransformer\n",
    "\n",
    "class EnsembleModel(nn.Module):\n",
    "    def __init__(self, config):\n",
    "        super().__init__()\n",
    "        assert config.ensemble in ['average','weightedsum','cat'], \"ensemble must be one of ['average','weightedsum','cat']\"\n",
    "        self.ensemble = config.ensemble\n",
    "        \n",
    "        self.segrnn_layer = SegRNN(config)\n",
    "        self.nlinear_layer = NLinear(config)\n",
    "        self.dlinear_layer = DLinear(config)\n",
    "        self.transformer_layer = TimeSeriesTransformer(config)\n",
    "\n",
    "        self.fc_segrnn = nn.Linear(config.d_model, 1)\n",
    "        self.fc_nlinear = nn.Linear(config.d_model, 1)\n",
    "        self.fc_dlinear = nn.Linear(config.d_model, 1)\n",
    "\n",
    "        self.fc_cat = nn.Sequential(\n",
    "            nn.Linear(4*config.pred_len, 2*config.pred_len),\n",
    "            nn.ReLU(),\n",
    "            nn.Dropout(config.dropout),\n",
    "            nn.Linear(2*config.pred_len, config.pred_len),\n",
    "        )\n",
    "        self.layernorm = nn.LayerNorm(4*config.pred_len)\n",
    "        self.dropout = nn.Dropout(config.dropout)\n",
    "\n",
    "        if self.ensemble == 'weightedsum':\n",
    "            self.ensemble_weights = nn.Parameter(torch.ones(4)/4, requires_grad=True)\n",
    "\n",
    "    def forward(self, x):\n",
    "        segrnn_out = self.fc_segrnn(self.segrnn_layer(x)).squeeze(-1)\n",
    "        nlinear_out = self.fc_nlinear(self.nlinear_layer(x)).squeeze(-1)\n",
    "        dlinear_out = self.fc_dlinear(self.dlinear_layer(x)).squeeze(-1)\n",
    "        transformer_out = self.transformer_layer(x)\n",
    "\n",
    "        if self.ensemble == 'average':\n",
    "            ensembled = (segrnn_out + nlinear_out + dlinear_out + transformer_out) / 4\n",
    "        elif self.ensemble == 'weightedsum':\n",
    "            weights = torch.softmax(self.ensemble_weights, dim=0)\n",
    "            ensembled = (weights[0] * segrnn_out + \n",
    "                         weights[1] * nlinear_out + \n",
    "                         weights[2] * dlinear_out + \n",
    "                         weights[3] * transformer_out)\n",
    "        elif self.ensemble == 'cat':\n",
    "            ensembled = torch.cat([segrnn_out, nlinear_out, dlinear_out, transformer_out], dim=-1)\n",
    "            ensembled = self.layernorm(ensembled)\n",
    "            ensembled = self.dropout(ensembled)\n",
    "            ensembled = self.fc(ensembled)\n",
    "\n",
    "        return ensembled"
   ]
  },
  {
   "cell_type": "markdown",
   "metadata": {},
   "source": [
    "# Train Models and Generate Predictions"
   ]
  },
  {
   "cell_type": "code",
   "execution_count": 46,
   "metadata": {},
   "outputs": [],
   "source": [
    "def nmae(true,pred):\n",
    "    true, pred = np.array(true), np.array(pred)\n",
    "    return np.mean(np.abs(true - pred) / true)\n",
    "\n",
    "def inverse_transform(x, scaler, is_train=True):\n",
    "    origin = scaler.data_min_[0] + x * (scaler.data_max_[0] - scaler.data_min_[0]) # (1) minmax scaler\n",
    "    origin = torch.expm1(origin) if is_train else np.expm1(origin)                 # (2) log\n",
    "    return origin\n",
    "\n",
    "def variance_threshold_select(data, threshold=0.01, ignore_features=list()):\n",
    "    cols = data.select_dtypes(include=[np.number]).columns\n",
    "    cols = list(set(cols)-set(ignore_features))\n",
    "\n",
    "    del_features = []\n",
    "    for col in cols:\n",
    "        variance = train_data[col].std()**2\n",
    "        if variance<threshold:\n",
    "            del_features.append(col)\n",
    "    \n",
    "    return del_features"
   ]
  },
  {
   "cell_type": "code",
   "execution_count": 35,
   "metadata": {},
   "outputs": [],
   "source": [
    "def predict(best_model, loader, device, inverse_transform):\n",
    "    best_model.to(device)\n",
    "    best_model.eval()\n",
    "    \n",
    "    true_list = []\n",
    "    pred_list = []\n",
    "    with torch.no_grad():\n",
    "        for data,label in loader:\n",
    "            data = data.float().to(device)\n",
    "\n",
    "            output = best_model(data)\n",
    "            output = inverse_transform(output)\n",
    "            output = output.cpu().numpy().tolist()\n",
    "\n",
    "            label  = inverse_transform(label)\n",
    "            label = label.cpu().numpy().tolist()\n",
    "\n",
    "            true_list += label\n",
    "            pred_list += output\n",
    "\n",
    "    return true_list, pred_list\n",
    "\n",
    "def inference(best_model, loader, device, inverse_transform):\n",
    "    best_model.to(device)\n",
    "    best_model.eval()\n",
    "    \n",
    "    true_list = []\n",
    "    pred_list = []\n",
    "    with torch.no_grad():\n",
    "        for data in loader:\n",
    "            data = data.float().to(device)\n",
    "\n",
    "            output = best_model(data)\n",
    "            output = inverse_transform(output)\n",
    "            output = output.cpu().numpy().tolist()\n",
    "\n",
    "            pred_list += output\n",
    "\n",
    "    return pred_list"
   ]
  },
  {
   "cell_type": "code",
   "execution_count": 36,
   "metadata": {},
   "outputs": [],
   "source": [
    "config = {\n",
    "    \"learning_rate\": 5e-4, #0.001,\n",
    "    \"epoch\": 10_000,\n",
    "    \"batch_size\": 16,\n",
    "    \"output_size\": 3,\n",
    "    \"weight_decay\": 5e-3,\n",
    "    \"test_size\": 0.2,\n",
    "    \"seed\": 42,\n",
    "    \"threshold\": 0.01,\n",
    "    \"device\": 'cpu',\n",
    "}\n",
    "\n",
    "model_config = {\n",
    "    \"seq_len\": 9,\n",
    "    \"pred_len\": 3,\n",
    "    \"dropout\": 0.5,\n",
    "\n",
    "    # SegRNN\n",
    "    \"rnn_type\": 'rnn', # rnn, gru, lstm\n",
    "    \"dec_way\": 'pmf',  # rmf, pmf\n",
    "    \"seg_len\": 3,\n",
    "    \"channel_id\": False,\n",
    "    \"revin\": True,\n",
    "\n",
    "    # NLinear\n",
    "    \"channels\": 3,\n",
    "    \"individual\": True,\n",
    "\n",
    "    # TimeSeriesTransfromer\n",
    "    \"hidden_size\": 256,\n",
    "    \"num_layers\": 3,\n",
    "    \"num_heads\": 8,\n",
    "    \"method\": 'multihead', # multihead, performer, linformer\n",
    "\n",
    "    # Ensemble\n",
    "    \"ensemble\": 'weightedsum', # average, weightedsum, cat\n",
    "}\n",
    "\n",
    "CFG = SimpleNamespace(**config)\n",
    "MODEL_CFG = SimpleNamespace(**model_config)\n",
    "품목_리스트 = ['건고추', '사과', '감자', '배', '깐마늘(국산)', '무', '상추', '배추', '양파', '대파']\n",
    "model_path_fmt = 'models/EnsembleModel_{}.pth'"
   ]
  },
  {
   "cell_type": "code",
   "execution_count": 38,
   "metadata": {},
   "outputs": [
    {
     "name": "stdout",
     "output_type": "stream",
     "text": [
      "\n",
      "======================================================================================================================================================\n",
      "> [01/10] 건고추\n",
      "======================================================================================================================================================\n",
      "\n",
      "*[00100/10000] tr_loss: 51960.0262, val_loss: 35245.1123, best: 35245.1123(100), elapsed: 96.8s, total: 96.8s, remaining: 9586.0s\n",
      " [00200/10000] tr_loss: 17132.3660, val_loss: 18482.2305, best: 17854.4844(192), elapsed: 56.9s, total: 154.0s, remaining: 5577.8s\n",
      " [00300/10000] tr_loss: 14874.2336, val_loss: 18181.2822, best: 17854.4844(192), elapsed: 44.8s, total: 198.7s, remaining: 4343.2s\n",
      "<Stopped> [00392/10000] tr_loss: 15526.2002, val_loss: 18232.8320, best: 17854.4844(192), elapsed: 41.9s, total: 240.6s, remaining: 4025.9s\n",
      "<Score> train_nmae=0.0238, val_nmae=0.0328\n",
      "\n",
      "\n",
      "======================================================================================================================================================\n",
      "> [02/10] 사과\n",
      "======================================================================================================================================================\n",
      "\n",
      "*[00100/10000] tr_loss: 975.2650, val_loss: 1312.8509, best: 1312.8509(100), elapsed: 66.4s, total: 66.4s, remaining: 6577.0s\n",
      " [00200/10000] tr_loss: 600.2759, val_loss: 1103.5985, best: 1102.6537(178), elapsed: 69.0s, total: 135.6s, remaining: 6758.1s\n",
      " [00300/10000] tr_loss: 501.0782, val_loss: 1109.1046, best: 1087.9397(246), elapsed: 61.8s, total: 197.5s, remaining: 5998.9s\n",
      " [00400/10000] tr_loss: 472.9329, val_loss: 1118.1723, best: 1087.9397(246), elapsed: 60.6s, total: 258.1s, remaining: 5819.2s\n",
      "<Stopped> [00446/10000] tr_loss: 451.4928, val_loss: 1119.8911, best: 1087.9397(246), elapsed: 26.7s, total: 284.8s, remaining: 2553.3s\n",
      "<Score> train_nmae=0.0168, val_nmae=0.0451\n",
      "\n",
      "\n",
      "======================================================================================================================================================\n",
      "> [03/10] 감자\n",
      "======================================================================================================================================================\n",
      "\n",
      " [00100/10000] tr_loss: 2411.2218, val_loss: 4040.6385, best: 4049.7197(97), elapsed: 128.9s, total: 128.9s, remaining: 12760.7s\n",
      " [00200/10000] tr_loss: 1663.8160, val_loss: 4522.4225, best: 4035.1765(109), elapsed: 128.6s, total: 257.5s, remaining: 12601.5s\n",
      " [00300/10000] tr_loss: 1492.1431, val_loss: 4501.9747, best: 4035.1765(109), elapsed: 160.7s, total: 418.2s, remaining: 15588.5s\n",
      "<Stopped> [00309/10000] tr_loss: 1478.1627, val_loss: 4532.8431, best: 4035.1765(109), elapsed: 14.8s, total: 432.9s, remaining: 1429.6s\n",
      "<Score> train_nmae=0.0392, val_nmae=0.1246\n",
      "\n",
      "\n",
      "======================================================================================================================================================\n",
      "> [04/10] 배\n",
      "======================================================================================================================================================\n",
      "\n",
      " [00100/10000] tr_loss: 1410.0429, val_loss: 2080.3135, best: 2042.5562(98), elapsed: 95.6s, total: 95.6s, remaining: 9459.8s\n",
      " [00200/10000] tr_loss: 997.1849, val_loss: 1988.8680, best: 1970.7131(195), elapsed: 100.3s, total: 195.9s, remaining: 9831.0s\n",
      " [00300/10000] tr_loss: 806.7185, val_loss: 2044.8303, best: 1970.7131(195), elapsed: 84.5s, total: 280.4s, remaining: 8196.2s\n",
      "<Stopped> [00395/10000] tr_loss: 801.9577, val_loss: 2063.4161, best: 1970.7131(195), elapsed: 77.1s, total: 357.4s, remaining: 7401.9s\n",
      "<Score> train_nmae=0.0216, val_nmae=0.0555\n",
      "\n",
      "\n",
      "======================================================================================================================================================\n",
      "> [05/10] 깐마늘(국산)\n",
      "======================================================================================================================================================\n",
      "\n",
      "*[00100/10000] tr_loss: 3400.3710, val_loss: 5693.6064, best: 5693.6064(100), elapsed: 104.6s, total: 104.6s, remaining: 10350.9s\n",
      " [00200/10000] tr_loss: 2197.8417, val_loss: 5082.8391, best: 5038.2952(191), elapsed: 86.6s, total: 191.4s, remaining: 8487.2s\n",
      " [00300/10000] tr_loss: 1669.5636, val_loss: 4845.0527, best: 4790.0475(277), elapsed: 81.2s, total: 272.6s, remaining: 7876.5s\n",
      " [00400/10000] tr_loss: 1447.7088, val_loss: 4888.4250, best: 4800.0054(302), elapsed: 78.6s, total: 351.2s, remaining: 7547.5s\n",
      " [00500/10000] tr_loss: 1479.3898, val_loss: 4894.2295, best: 4800.0054(302), elapsed: 78.4s, total: 429.6s, remaining: 7446.9s\n",
      "<Stopped> [00502/10000] tr_loss: 1389.3528, val_loss: 4930.6284, best: 4800.0054(302), elapsed: 1.5s, total: 431.1s, remaining: 144.0s\n",
      "<Score> train_nmae=0.0111, val_nmae=0.0442\n",
      "\n",
      "\n",
      "======================================================================================================================================================\n",
      "> [06/10] 무\n",
      "======================================================================================================================================================\n",
      "\n",
      "*[00100/10000] tr_loss: 1523.7625, val_loss: 2805.7690, best: 2805.7690(100), elapsed: 199.9s, total: 199.9s, remaining: 19787.6s\n",
      " [00200/10000] tr_loss: 1047.2667, val_loss: 2396.9717, best: 2315.3430(195), elapsed: 188.3s, total: 388.6s, remaining: 18451.5s\n",
      " [00300/10000] tr_loss: 783.3870, val_loss: 2293.9424, best: 2244.3850(249), elapsed: 180.3s, total: 568.9s, remaining: 17485.0s\n",
      " [00400/10000] tr_loss: 717.4741, val_loss: 2321.5814, best: 2244.3850(249), elapsed: 176.6s, total: 745.5s, remaining: 16956.5s\n",
      "<Stopped> [00449/10000] tr_loss: 669.5914, val_loss: 2337.0725, best: 2244.3850(249), elapsed: 92.2s, total: 837.7s, remaining: 8807.0s\n",
      "<Score> train_nmae=0.0421, val_nmae=0.1819\n",
      "\n",
      "\n",
      "======================================================================================================================================================\n",
      "> [07/10] 상추\n",
      "======================================================================================================================================================\n",
      "\n",
      " [00100/10000] tr_loss: 110.4117, val_loss: 130.9334, best: 130.6519(98), elapsed: 101.7s, total: 101.7s, remaining: 10063.9s\n",
      " [00200/10000] tr_loss: 80.8097, val_loss: 122.5059, best: 120.2370(186), elapsed: 78.0s, total: 179.7s, remaining: 7643.6s\n",
      " [00300/10000] tr_loss: 67.6597, val_loss: 122.0811, best: 119.0191(221), elapsed: 73.6s, total: 253.3s, remaining: 7139.3s\n",
      " [00400/10000] tr_loss: 62.6579, val_loss: 125.8156, best: 119.0191(221), elapsed: 72.3s, total: 325.5s, remaining: 6939.4s\n",
      "<Stopped> [00421/10000] tr_loss: 66.6841, val_loss: 126.0250, best: 119.0191(221), elapsed: 15.2s, total: 340.7s, remaining: 1452.0s\n",
      "<Score> train_nmae=0.0495, val_nmae=0.1131\n",
      "\n",
      "\n",
      "======================================================================================================================================================\n",
      "> [08/10] 배추\n",
      "======================================================================================================================================================\n",
      "\n",
      " [00100/10000] tr_loss: 1169.8341, val_loss: 1801.4479, best: 1759.7474(97), elapsed: 170.0s, total: 170.0s, remaining: 16830.8s\n",
      " [00200/10000] tr_loss: 835.5462, val_loss: 1734.8880, best: 1730.5098(118), elapsed: 138.9s, total: 308.9s, remaining: 13616.2s\n",
      " [00300/10000] tr_loss: 708.9383, val_loss: 1742.5986, best: 1730.5098(118), elapsed: 136.3s, total: 445.2s, remaining: 13217.3s\n",
      "<Stopped> [00318/10000] tr_loss: 782.9847, val_loss: 1744.3085, best: 1730.5098(118), elapsed: 24.2s, total: 469.4s, remaining: 2344.6s\n",
      "<Score> train_nmae=0.0784, val_nmae=0.2533\n",
      "\n",
      "\n",
      "======================================================================================================================================================\n",
      "> [09/10] 양파\n",
      "======================================================================================================================================================\n",
      "\n",
      " [00100/10000] tr_loss: 52.4945, val_loss: 94.5270, best: 90.2276(99), elapsed: 212.6s, total: 212.6s, remaining: 21048.9s\n",
      " [00200/10000] tr_loss: 32.6725, val_loss: 92.2232, best: 89.2556(111), elapsed: 172.0s, total: 384.7s, remaining: 16859.8s\n",
      " [00300/10000] tr_loss: 28.3472, val_loss: 93.5922, best: 89.2556(111), elapsed: 169.0s, total: 553.6s, remaining: 16391.2s\n",
      "<Stopped> [00311/10000] tr_loss: 27.8917, val_loss: 93.7718, best: 89.2556(111), elapsed: 17.6s, total: 571.3s, remaining: 1709.0s\n",
      "<Score> train_nmae=0.0300, val_nmae=0.1254\n",
      "\n",
      "\n",
      "======================================================================================================================================================\n",
      "> [10/10] 대파\n",
      "======================================================================================================================================================\n",
      "\n",
      " [00100/10000] tr_loss: 194.6564, val_loss: 299.1351, best: 305.4584(65), elapsed: 204.4s, total: 204.4s, remaining: 20234.1s\n",
      " [00200/10000] tr_loss: 117.0204, val_loss: 279.9022, best: 272.2673(199), elapsed: 188.7s, total: 393.1s, remaining: 18491.0s\n",
      " [00300/10000] tr_loss: 90.4724, val_loss: 283.7160, best: 272.2673(199), elapsed: 181.6s, total: 574.7s, remaining: 17615.6s\n",
      "<Stopped> [00399/10000] tr_loss: 77.4272, val_loss: 285.3570, best: 272.2673(199), elapsed: 179.3s, total: 753.9s, remaining: 17211.1s\n",
      "<Score> train_nmae=0.0354, val_nmae=0.1675\n",
      "\n"
     ]
    }
   ],
   "source": [
    "# logger = get_logger(save_path='log/TimeSeriesTransformer_log.log')\n",
    "# trace_func = logger.info\n",
    "trace_func = print\n",
    "\n",
    "os.makedirs('models', exist_ok=True)\n",
    "\n",
    "품목별_scalers = {}\n",
    "품목별_delcols = {}\n",
    "품목별_hyperparams = {}\n",
    "\n",
    "train_nmae_list = []\n",
    "val_nmae_list = []\n",
    "\n",
    "for i, 품목명 in enumerate(품목_리스트):\n",
    "    model_path = model_path_fmt.format(품목명)\n",
    "    trace_func('')\n",
    "    trace_func('='*150)\n",
    "    trace_func(f'> [{i+1:02d}/{len(품목_리스트)}] {품목명}')\n",
    "    trace_func('='*150)\n",
    "    trace_func('')\n",
    "\n",
    "    # preprocessing\n",
    "    train_data, scalers = process_data(\"data/train/train.csv\", \"data/train/meta/TRAIN_산지공판장_2018-2021.csv\", \"data/train/meta/TRAIN_전국도매_2018-2021.csv\", 품목명)\n",
    "    품목별_scalers[품목명] = scalers\n",
    "    \n",
    "    # 분산이 threshold보다 작은 컬럼 제거\n",
    "    del_cols = variance_threshold_select(train_data, threshold=CFG.threshold, ignore_features=['평균가격(원)'])\n",
    "    train_data.drop(del_cols, axis=1, inplace=True)\n",
    "    품목별_delcols[품목명] = del_cols\n",
    "\n",
    "    # train, validation split\n",
    "    dataset = AgriculturePriceDataset(train_data)\n",
    "    tr_data, val_data = train_test_split(dataset, test_size=CFG.test_size, random_state=CFG.seed, shuffle=True)\n",
    "    train_loader = DataLoader(tr_data, CFG.batch_size, shuffle=True)\n",
    "    val_loader = DataLoader(val_data, CFG.batch_size, shuffle=False)\n",
    "\n",
    "    # define model\n",
    "    model_cfg = deepcopy(MODEL_CFG)\n",
    "    model_cfg.enc_in = len(dataset.numeric_columns)\n",
    "    model_cfg.d_model = len(dataset.numeric_columns)\n",
    "    품목별_hyperparams[품목명] = model_cfg\n",
    "    model = EnsembleModel(model_cfg).to(CFG.device)\n",
    "\n",
    "    criterion = nn.HuberLoss() #nn.L1Loss()\n",
    "    optimizer = torch.optim.AdamW(model.parameters(), lr=CFG.learning_rate, weight_decay=CFG.weight_decay)\n",
    "    scheduler = torch.optim.lr_scheduler.ReduceLROnPlateau(optimizer, mode='min', factor=0.5, patience=50)\n",
    "    # scheduler = None\n",
    "\n",
    "    price_scaler = 품목별_scalers[품목명][dataset.price_column]\n",
    "    inverse_transform_ = lambda x: inverse_transform(x, price_scaler)\n",
    "    # inverse_transform = None\n",
    "\n",
    "    # train\n",
    "    best_model = train(\n",
    "        model, optimizer, train_loader, val_loader, CFG.epoch,\n",
    "        early_stopping=True, early_stopping_patience=200, early_stopping_verbose=False,\n",
    "        device=CFG.device, scheduler=scheduler, metric_period=100, \n",
    "        verbose=True, save_model_path=model_path,\n",
    "        inverse_transform=inverse_transform_,\n",
    "    )\n",
    "\n",
    "    # scoring\n",
    "    true, pred = predict(best_model, train_loader, device='cpu', inverse_transform=inverse_transform_)\n",
    "    train_nmae = nmae(true,pred)\n",
    "    true, pred = predict(best_model, val_loader, device='cpu', inverse_transform=inverse_transform_)\n",
    "    val_nmae = nmae(true,pred)\n",
    "    trace_func(f'<Score> {train_nmae=:.4f}, {val_nmae=:.4f}')\n",
    "    trace_func('')\n",
    "\n",
    "    train_nmae_list.append(train_nmae)\n",
    "    val_nmae_list.append(val_nmae)"
   ]
  },
  {
   "cell_type": "code",
   "execution_count": 39,
   "metadata": {},
   "outputs": [
    {
     "data": {
      "text/plain": [
       "'train_nmae=0.0348, val_nmae=0.1143'"
      ]
     },
     "execution_count": 39,
     "metadata": {},
     "output_type": "execute_result"
    }
   ],
   "source": [
    "f'train_nmae={np.mean(train_nmae_list):.4f}, val_nmae={np.mean(val_nmae_list):.4f}'"
   ]
  },
  {
   "cell_type": "code",
   "execution_count": 40,
   "metadata": {},
   "outputs": [],
   "source": [
    "with open('out/scalers.pkl', 'wb') as pickle_file:\n",
    "    pickle.dump(품목별_scalers, pickle_file)\n",
    "\n",
    "with open('out/delcols.pkl', 'wb') as pickle_file:\n",
    "    pickle.dump(품목별_delcols, pickle_file)\n",
    "\n",
    "with open('out/hyperparams.pkl', 'wb') as pickle_file:\n",
    "    pickle.dump(품목별_hyperparams, pickle_file)"
   ]
  },
  {
   "cell_type": "code",
   "execution_count": 41,
   "metadata": {},
   "outputs": [],
   "source": [
    "# true, pred = predict(best_model, train_loader, device='cpu', inverse_transform=inverse_transform)\n",
    "# print(criterion(torch.tensor(true), torch.tensor(pred)).item())\n",
    "# true[:5], pred[:5]"
   ]
  },
  {
   "cell_type": "markdown",
   "metadata": {},
   "source": [
    "# Inference"
   ]
  },
  {
   "cell_type": "code",
   "execution_count": 42,
   "metadata": {},
   "outputs": [],
   "source": [
    "with open('out/scalers.pkl', 'rb') as pickle_file:\n",
    "    품목별_scalers = pickle.load(pickle_file)\n",
    "\n",
    "with open('out/delcols.pkl', 'rb') as pickle_file:\n",
    "    품목별_delcols = pickle.load(pickle_file)\n",
    "\n",
    "with open('out/hyperparams.pkl', 'rb') as pickle_file:\n",
    "    품목별_hyperparams = pickle.load(pickle_file)"
   ]
  },
  {
   "cell_type": "code",
   "execution_count": 43,
   "metadata": {},
   "outputs": [
    {
     "name": "stdout",
     "output_type": "stream",
     "text": [
      "건고추 ['양건_30 kg_중품_평균가격(원)', '양건_30 kg_상품_평균가격(원)', '화건_30 kg_중품_평균가격(원)']\n",
      "사과 []\n",
      "감자 ['감자 수미(햇)_20키로상자_중_평년 평균가격(원)', '홍감자_10키로상자_중_평균가격(원)', '감자 수미(저장)_20키로상자_하_평년 평균가격(원)', '홍감자_10키로상자_특_평균가격(원)', '감자_20키로상자_특_평년 평균가격(원)', '감자 두백_20키로상자_상_평년 평균가격(원)', '홍감자_10키로상자_중_평년 평균가격(원)', '홍감자_10키로상자_하_평균가격(원)', '감자_20키로상자_상_평년 평균가격(원)', '감자 두백_20키로상자_중_평년 평균가격(원)', '감자 조풍_20키로상자_중_평년 평균가격(원)', '감자 조풍_20키로상자_중_평균가격(원)', '감자_20키로상자_중_평년 평균가격(원)', '홍감자_10키로상자_상_평년 평균가격(원)', '감자 수미(저장)_20키로상자_상_평년 평균가격(원)', '감자 수입_23키로상자_상_평년 평균가격(원)', '감자 수미(햇)_20키로상자_특_평년 평균가격(원)', '감자 수미(햇)_20키로상자_상_평년 평균가격(원)', '감자 조풍_20키로상자_상_평균가격(원)', '감자 수미(햇)_20키로상자_하_평년 평균가격(원)', '감자 조풍_20키로상자_하_평균가격(원)', '감자 조풍_20키로상자_특_평균가격(원)', '감자 수미(저장)_20키로상자_특_평년 평균가격(원)', '감자 조풍_20키로상자_특_평년 평균가격(원)', '감자 두백_20키로상자_하_평년 평균가격(원)', '감자 조풍_20키로상자_상_평년 평균가격(원)', '홍감자_10키로상자_상_평균가격(원)', '홍감자_10키로상자_특_평년 평균가격(원)', '감자_20키로상자_하_평년 평균가격(원)', '감자 조풍_20키로상자_하_평년 평균가격(원)', '홍감자_10키로상자_하_평년 평균가격(원)', '감자 두백_20키로상자_특_평년 평균가격(원)', '감자 수미(저장)_20키로상자_중_평년 평균가격(원)']\n",
      "배 ['공판장_등급코드']\n",
      "깐마늘(국산) ['깐마늘(국산)_20 kg_중품_평년 평균가격(원)', '평년 평균가격(원)']\n",
      "무 ['다발무_8톤트럭_상_평년 평균가격(원)', '다발무_10키로_특_평년 평균가격(원)', '다발무_8톤트럭_중_평년 평균가격(원)', '무_20키로상자_하_평년 평균가격(원)', '다발무_1000키로_중_평년 평균가격(원)', '다발무_1000키로_하_평균가격(원)', '다발무_5000키로_중_평균가격(원)', '다발무_1000키로_특_평균가격(원)', '무_20키로상자_중_평년 평균가격(원)', '다발무_8톤트럭_하_평년 평균가격(원)', '다발무_1000키로_하_평년 평균가격(원)', '다발무_10키로_상_평년 평균가격(원)', '다발무_5000키로_상_평년 평균가격(원)', '다발무_5000키로_특_평균가격(원)', '평년 평균가격(원)', '다발무_10키로_중_평년 평균가격(원)', '열무_4키로상자_중_평년 평균가격(원)', '다발무_5000키로_특_평년 평균가격(원)', '다발무_1000키로_특_평년 평균가격(원)', '다발무_5000키로_하_평년 평균가격(원)', '다발무_5000키로_중_평년 평균가격(원)', '다발무_5000키로_상_평균가격(원)', '다발무_1000키로_중_평균가격(원)', '공판장_전년 평균가격(원) PreVious YeaR', '다발무_10키로_하_평년 평균가격(원)', '다발무_1000키로_상_평년 평균가격(원)', '도매_평년 평균가격(원) Common Year SOON', '다발무_5000키로_하_평균가격(원)', '다발무_1000키로_상_평균가격(원)', '공판장_등급코드', '무_20키로상자_특_평년 평균가격(원)']\n",
      "상추 ['공판장_평년 평균가격(원) Common Year SOON', '공판장_전순 평균가격(원) PreVious SOON', '공판장_전달 평균가격(원) PreVious MMonth', '공판장_전년 평균가격(원) PreVious YeaR', '도매_경매 건수', '도매_총반입량(kg)']\n",
      "배추 ['쌈배추_1키로상자_하_평년 평균가격(원)', '쌈배추_1키로상자_특_평년 평균가격(원)', '얼갈이배추_8키로상자_상_평년 평균가격(원)', '봄동배추_15키로상자_중_평년 평균가격(원)', '얼갈이배추_8키로상자_하_평년 평균가격(원)', '쌈배추_1키로상자_상_평년 평균가격(원)', '쌈배추_1키로상자_중_평년 평균가격(원)', '얼갈이배추_8키로상자_중_평년 평균가격(원)', '봄동배추_15키로상자_하_평년 평균가격(원)', '도매_평년 평균가격(원) Common Year SOON']\n",
      "양파 ['조생양파_15키로_특_평년 평균가격(원)', '조생양파_12키로_특_평년 평균가격(원)', '양파(햇)_12키로_특_평년 평균가격(원)', '저장양파_15키로_중_평년 평균가격(원)', '양파(햇)_20키로_중_평년 평균가격(원)', '저장양파_12키로_하_평년 평균가격(원)', '자주양파_1키로_하_평년 평균가격(원)', '양파(햇)_15키로_하_평년 평균가격(원)', '양파(햇)_20키로_상_평년 평균가격(원)', '양파_12키로_상_평년 평균가격(원)', '저장양파_20키로_특_평년 평균가격(원)', '조생양파_15키로_중_평년 평균가격(원)', '저장양파_15키로_하_평년 평균가격(원)', '조생양파_12키로_상_평년 평균가격(원)', '양파_15키로_중_평년 평균가격(원)', '양파_10키로_중_평년 평균가격(원)', '조생양파_12키로_상_평균가격(원)', '도매_전순 평균가격(원) PreVious SOON', '자주양파_1키로_특_평년 평균가격(원)', '조생양파_12키로_특_평균가격(원)', '조생양파_12키로_중_평균가격(원)', '양파_15키로_하_평년 평균가격(원)', '양파(햇)_20키로_특_평년 평균가격(원)', '공판장_등급코드', '양파(햇)_12키로_하_평년 평균가격(원)', '저장양파_20키로_하_평년 평균가격(원)', '조생양파_15키로_특_평균가격(원)', '저장양파_20키로_중_평년 평균가격(원)', '저장양파_15키로_상_평년 평균가격(원)', '양파(햇)_12키로_상_평년 평균가격(원)', '조생양파_15키로_중_평균가격(원)', '양파_10키로_상_평년 평균가격(원)', '양파_12키로_하_평년 평균가격(원)', '자주양파_1키로_상_평년 평균가격(원)', '양파 수입_1키로_특_평년 평균가격(원)', '조생양파_12키로_중_평년 평균가격(원)', '양파(햇)_15키로_특_평년 평균가격(원)', '조생양파_15키로_상_평균가격(원)', '양파_12키로_중_평년 평균가격(원)', '양파(햇)_15키로_중_평년 평균가격(원)', '자주양파_1키로_중_평년 평균가격(원)', '양파(햇)_12키로_중_평년 평균가격(원)', '양파_10키로_특_평년 평균가격(원)', '양파_15키로_특_평년 평균가격(원)', '양파(햇)_15키로_상_평년 평균가격(원)', '양파_12키로_특_평년 평균가격(원)', '저장양파_20키로_상_평년 평균가격(원)', '양파(햇)_20키로_하_평년 평균가격(원)', '저장양파_12키로_특_평년 평균가격(원)', '조생양파_15키로_하_평년 평균가격(원)', '조생양파_12키로_하_평년 평균가격(원)', '저장양파_12키로_중_평년 평균가격(원)', '저장양파_15키로_특_평년 평균가격(원)', '양파_10키로_하_평년 평균가격(원)', '조생양파_12키로_하_평균가격(원)', '양파_15키로_상_평년 평균가격(원)', '조생양파_15키로_하_평균가격(원)', '저장양파_12키로_상_평년 평균가격(원)', '조생양파_15키로_상_평년 평균가격(원)']\n",
      "대파 ['대파(일반)_10키로묶음_중_평년 평균가격(원)', '대파(일반)_10키로묶음_특_평년 평균가격(원)', '대파 수입_10키로상자_상_평년 평균가격(원)', '대파(일반)_10키로묶음_상_평균가격(원)', '대파(일반)_10키로묶음_하_평년 평균가격(원)', '대파(일반)_10키로묶음_중_평균가격(원)', '대파(일반)_10키로묶음_하_평균가격(원)', '대파(일반)_10키로묶음_상_평년 평균가격(원)', '대파(일반)_10키로묶음_특_평균가격(원)']\n"
     ]
    }
   ],
   "source": [
    "for k,v in 품목별_delcols.items():\n",
    "    print(k,v)"
   ]
  },
  {
   "cell_type": "code",
   "execution_count": 47,
   "metadata": {},
   "outputs": [
    {
     "data": {
      "application/vnd.jupyter.widget-view+json": {
       "model_id": "eb22c4f2a42c46bcbb5cc3f4948d69a2",
       "version_major": 2,
       "version_minor": 0
      },
      "text/plain": [
       "  0%|          | 0/10 [00:00<?, ?it/s]"
      ]
     },
     "metadata": {},
     "output_type": "display_data"
    },
    {
     "data": {
      "application/vnd.jupyter.widget-view+json": {
       "model_id": "3e4c5bdc179d428bb22a705a523e006d",
       "version_major": 2,
       "version_minor": 0
      },
      "text/plain": [
       "테스트 파일 추론 중:   0%|          | 0/25 [00:00<?, ?it/s]"
      ]
     },
     "metadata": {},
     "output_type": "display_data"
    },
    {
     "data": {
      "application/vnd.jupyter.widget-view+json": {
       "model_id": "ddcebbf29c7e4d189202bb3a5cf6c85c",
       "version_major": 2,
       "version_minor": 0
      },
      "text/plain": [
       "테스트 파일 추론 중:   0%|          | 0/25 [00:00<?, ?it/s]"
      ]
     },
     "metadata": {},
     "output_type": "display_data"
    },
    {
     "data": {
      "application/vnd.jupyter.widget-view+json": {
       "model_id": "46660d59ee1a491a891e66c30f75504c",
       "version_major": 2,
       "version_minor": 0
      },
      "text/plain": [
       "테스트 파일 추론 중:   0%|          | 0/25 [00:00<?, ?it/s]"
      ]
     },
     "metadata": {},
     "output_type": "display_data"
    },
    {
     "data": {
      "application/vnd.jupyter.widget-view+json": {
       "model_id": "90af0337bfd24726a574951775cd2347",
       "version_major": 2,
       "version_minor": 0
      },
      "text/plain": [
       "테스트 파일 추론 중:   0%|          | 0/25 [00:00<?, ?it/s]"
      ]
     },
     "metadata": {},
     "output_type": "display_data"
    },
    {
     "data": {
      "application/vnd.jupyter.widget-view+json": {
       "model_id": "51bda30befd0479eb0503522e1cf62da",
       "version_major": 2,
       "version_minor": 0
      },
      "text/plain": [
       "테스트 파일 추론 중:   0%|          | 0/25 [00:00<?, ?it/s]"
      ]
     },
     "metadata": {},
     "output_type": "display_data"
    },
    {
     "data": {
      "application/vnd.jupyter.widget-view+json": {
       "model_id": "b90d8f1c680d4e8894f573ea531a4468",
       "version_major": 2,
       "version_minor": 0
      },
      "text/plain": [
       "테스트 파일 추론 중:   0%|          | 0/25 [00:00<?, ?it/s]"
      ]
     },
     "metadata": {},
     "output_type": "display_data"
    },
    {
     "data": {
      "application/vnd.jupyter.widget-view+json": {
       "model_id": "0d0d280dc786408e9a0e8afc7bdad92a",
       "version_major": 2,
       "version_minor": 0
      },
      "text/plain": [
       "테스트 파일 추론 중:   0%|          | 0/25 [00:00<?, ?it/s]"
      ]
     },
     "metadata": {},
     "output_type": "display_data"
    },
    {
     "data": {
      "application/vnd.jupyter.widget-view+json": {
       "model_id": "6064fa7e13294a5a87502935cb26fcb2",
       "version_major": 2,
       "version_minor": 0
      },
      "text/plain": [
       "테스트 파일 추론 중:   0%|          | 0/25 [00:00<?, ?it/s]"
      ]
     },
     "metadata": {},
     "output_type": "display_data"
    },
    {
     "data": {
      "application/vnd.jupyter.widget-view+json": {
       "model_id": "e5f11a4af9a5487fac9f9661eb3abd0e",
       "version_major": 2,
       "version_minor": 0
      },
      "text/plain": [
       "테스트 파일 추론 중:   0%|          | 0/25 [00:00<?, ?it/s]"
      ]
     },
     "metadata": {},
     "output_type": "display_data"
    },
    {
     "data": {
      "application/vnd.jupyter.widget-view+json": {
       "model_id": "2f6e9549e1c54dd1af7b8fb57bf3bb99",
       "version_major": 2,
       "version_minor": 0
      },
      "text/plain": [
       "테스트 파일 추론 중:   0%|          | 0/25 [00:00<?, ?it/s]"
      ]
     },
     "metadata": {},
     "output_type": "display_data"
    }
   ],
   "source": [
    "품목별_predictions = {}\n",
    "\n",
    "pbar_outer = tqdm(품목_리스트, position=0)\n",
    "for 품목명 in pbar_outer:\n",
    "    pbar_outer.set_description(품목명)\n",
    "    model_path = model_path_fmt.format(품목명)\n",
    "\n",
    "    # define model\n",
    "    model = EnsembleModel(품목별_hyperparams[품목명]).to(CFG.device)\n",
    "    model.load_state_dict(torch.load(model_path))\n",
    "\n",
    "    # inference\n",
    "    품목_predictions = []\n",
    "    pbar_inner = tqdm(range(25), desc=\"테스트 파일 추론 중\", position=1, leave=False)\n",
    "    for i in pbar_inner:\n",
    "        test_file = f\"data/test/TEST_{i:02d}.csv\"\n",
    "        산지공판장_file = f\"data/test/meta/TEST_산지공판장_{i:02d}.csv\"\n",
    "        전국도매_file = f\"data/test/meta/TEST_전국도매_{i:02d}.csv\"\n",
    "\n",
    "        test_data, _ = process_data(test_file, 산지공판장_file, 전국도매_file, 품목명, scalers=품목별_scalers[품목명])\n",
    "        test_data.drop(품목별_delcols[품목명], axis=1, inplace=True)\n",
    "        test_dataset = AgriculturePriceDataset(test_data, is_test=True)\n",
    "        test_loader = DataLoader(test_dataset, batch_size=1, shuffle=False)\n",
    "\n",
    "        price_scaler = 품목별_scalers[품목명][test_dataset.price_column]\n",
    "        inverse_transform_ = lambda x: inverse_transform(x, price_scaler)\n",
    "\n",
    "        predictions = inference(model, test_loader, device='cpu', inverse_transform=inverse_transform_)\n",
    "        predictions = np.concatenate(predictions)\n",
    "        \n",
    "        if np.isnan(predictions).any():\n",
    "            pbar_inner.set_postfix({\"상태\": \"NaN\"})\n",
    "            raise ValueError\n",
    "        else:\n",
    "            pbar_inner.set_postfix({\"상태\": \"정상\"})\n",
    "            품목_predictions.extend(predictions.flatten())\n",
    "\n",
    "    품목별_predictions[품목명] = 품목_predictions"
   ]
  },
  {
   "cell_type": "markdown",
   "metadata": {},
   "source": [
    "# Prepare Submission File"
   ]
  },
  {
   "cell_type": "code",
   "execution_count": 48,
   "metadata": {},
   "outputs": [],
   "source": [
    "sample_submission = pd.read_csv('data/sample_submission.csv')\n",
    "\n",
    "for 품목명, predictions in 품목별_predictions.items():\n",
    "    sample_submission[품목명] = predictions\n",
    "\n",
    "# 결과 저장\n",
    "save_path = 'out/baseline_submission_12.csv'\n",
    "sample_submission.to_csv(save_path, index=False)"
   ]
  },
  {
   "cell_type": "code",
   "execution_count": 49,
   "metadata": {},
   "outputs": [
    {
     "data": {
      "text/html": [
       "<div>\n",
       "<style scoped>\n",
       "    .dataframe tbody tr th:only-of-type {\n",
       "        vertical-align: middle;\n",
       "    }\n",
       "\n",
       "    .dataframe tbody tr th {\n",
       "        vertical-align: top;\n",
       "    }\n",
       "\n",
       "    .dataframe thead th {\n",
       "        text-align: right;\n",
       "    }\n",
       "</style>\n",
       "<table border=\"1\" class=\"dataframe\">\n",
       "  <thead>\n",
       "    <tr style=\"text-align: right;\">\n",
       "      <th></th>\n",
       "      <th>시점</th>\n",
       "      <th>감자</th>\n",
       "      <th>건고추</th>\n",
       "      <th>깐마늘(국산)</th>\n",
       "      <th>대파</th>\n",
       "      <th>무</th>\n",
       "      <th>배추</th>\n",
       "      <th>사과</th>\n",
       "      <th>상추</th>\n",
       "      <th>양파</th>\n",
       "      <th>배</th>\n",
       "    </tr>\n",
       "  </thead>\n",
       "  <tbody>\n",
       "    <tr>\n",
       "      <th>0</th>\n",
       "      <td>TEST_00+1순</td>\n",
       "      <td>35918.980469</td>\n",
       "      <td>619554.5625</td>\n",
       "      <td>157492.171875</td>\n",
       "      <td>1889.855347</td>\n",
       "      <td>22552.324219</td>\n",
       "      <td>12492.137695</td>\n",
       "      <td>25625.259766</td>\n",
       "      <td>1111.631714</td>\n",
       "      <td>1106.422974</td>\n",
       "      <td>30142.238281</td>\n",
       "    </tr>\n",
       "    <tr>\n",
       "      <th>1</th>\n",
       "      <td>TEST_00+2순</td>\n",
       "      <td>37729.972656</td>\n",
       "      <td>645381.6875</td>\n",
       "      <td>155593.640625</td>\n",
       "      <td>1800.209961</td>\n",
       "      <td>22582.089844</td>\n",
       "      <td>10602.303711</td>\n",
       "      <td>26945.113281</td>\n",
       "      <td>1035.493530</td>\n",
       "      <td>925.351746</td>\n",
       "      <td>29886.220703</td>\n",
       "    </tr>\n",
       "    <tr>\n",
       "      <th>2</th>\n",
       "      <td>TEST_00+3순</td>\n",
       "      <td>43800.933594</td>\n",
       "      <td>650302.0625</td>\n",
       "      <td>169580.359375</td>\n",
       "      <td>1932.129517</td>\n",
       "      <td>20400.304688</td>\n",
       "      <td>8098.622559</td>\n",
       "      <td>27048.539062</td>\n",
       "      <td>1139.960938</td>\n",
       "      <td>921.317932</td>\n",
       "      <td>30536.644531</td>\n",
       "    </tr>\n",
       "    <tr>\n",
       "      <th>3</th>\n",
       "      <td>TEST_01+1순</td>\n",
       "      <td>42286.527344</td>\n",
       "      <td>630761.0000</td>\n",
       "      <td>169347.468750</td>\n",
       "      <td>1538.324463</td>\n",
       "      <td>9943.556641</td>\n",
       "      <td>6429.744141</td>\n",
       "      <td>23619.898438</td>\n",
       "      <td>727.944824</td>\n",
       "      <td>1178.042358</td>\n",
       "      <td>27206.902344</td>\n",
       "    </tr>\n",
       "    <tr>\n",
       "      <th>4</th>\n",
       "      <td>TEST_01+2순</td>\n",
       "      <td>40589.757812</td>\n",
       "      <td>646534.3125</td>\n",
       "      <td>173158.406250</td>\n",
       "      <td>1374.736084</td>\n",
       "      <td>9122.009766</td>\n",
       "      <td>6108.567871</td>\n",
       "      <td>23120.433594</td>\n",
       "      <td>575.979492</td>\n",
       "      <td>1029.802734</td>\n",
       "      <td>26833.125000</td>\n",
       "    </tr>\n",
       "    <tr>\n",
       "      <th>...</th>\n",
       "      <td>...</td>\n",
       "      <td>...</td>\n",
       "      <td>...</td>\n",
       "      <td>...</td>\n",
       "      <td>...</td>\n",
       "      <td>...</td>\n",
       "      <td>...</td>\n",
       "      <td>...</td>\n",
       "      <td>...</td>\n",
       "      <td>...</td>\n",
       "      <td>...</td>\n",
       "    </tr>\n",
       "    <tr>\n",
       "      <th>70</th>\n",
       "      <td>TEST_23+2순</td>\n",
       "      <td>49044.640625</td>\n",
       "      <td>614391.4375</td>\n",
       "      <td>160550.500000</td>\n",
       "      <td>1415.836304</td>\n",
       "      <td>5155.831543</td>\n",
       "      <td>4047.434570</td>\n",
       "      <td>24283.656250</td>\n",
       "      <td>817.424194</td>\n",
       "      <td>929.613037</td>\n",
       "      <td>28449.347656</td>\n",
       "    </tr>\n",
       "    <tr>\n",
       "      <th>71</th>\n",
       "      <td>TEST_23+3순</td>\n",
       "      <td>52447.804688</td>\n",
       "      <td>618444.7500</td>\n",
       "      <td>181202.859375</td>\n",
       "      <td>1346.124512</td>\n",
       "      <td>4700.876953</td>\n",
       "      <td>4072.006348</td>\n",
       "      <td>24166.289062</td>\n",
       "      <td>1023.823120</td>\n",
       "      <td>950.039734</td>\n",
       "      <td>28676.369141</td>\n",
       "    </tr>\n",
       "    <tr>\n",
       "      <th>72</th>\n",
       "      <td>TEST_24+1순</td>\n",
       "      <td>42419.781250</td>\n",
       "      <td>541316.0000</td>\n",
       "      <td>145217.375000</td>\n",
       "      <td>1538.627686</td>\n",
       "      <td>12698.209961</td>\n",
       "      <td>12484.205078</td>\n",
       "      <td>28438.333984</td>\n",
       "      <td>926.284668</td>\n",
       "      <td>481.544373</td>\n",
       "      <td>37521.917969</td>\n",
       "    </tr>\n",
       "    <tr>\n",
       "      <th>73</th>\n",
       "      <td>TEST_24+2순</td>\n",
       "      <td>32584.992188</td>\n",
       "      <td>542418.7500</td>\n",
       "      <td>148373.468750</td>\n",
       "      <td>1148.403076</td>\n",
       "      <td>17554.705078</td>\n",
       "      <td>11934.880859</td>\n",
       "      <td>29603.310547</td>\n",
       "      <td>923.403137</td>\n",
       "      <td>423.135773</td>\n",
       "      <td>38367.777344</td>\n",
       "    </tr>\n",
       "    <tr>\n",
       "      <th>74</th>\n",
       "      <td>TEST_24+3순</td>\n",
       "      <td>28970.554688</td>\n",
       "      <td>544042.8750</td>\n",
       "      <td>166669.515625</td>\n",
       "      <td>1170.519897</td>\n",
       "      <td>20141.078125</td>\n",
       "      <td>9992.718750</td>\n",
       "      <td>30116.003906</td>\n",
       "      <td>958.223999</td>\n",
       "      <td>442.335999</td>\n",
       "      <td>38181.761719</td>\n",
       "    </tr>\n",
       "  </tbody>\n",
       "</table>\n",
       "<p>75 rows × 11 columns</p>\n",
       "</div>"
      ],
      "text/plain": [
       "            시점            감자          건고추        깐마늘(국산)           대파  \\\n",
       "0   TEST_00+1순  35918.980469  619554.5625  157492.171875  1889.855347   \n",
       "1   TEST_00+2순  37729.972656  645381.6875  155593.640625  1800.209961   \n",
       "2   TEST_00+3순  43800.933594  650302.0625  169580.359375  1932.129517   \n",
       "3   TEST_01+1순  42286.527344  630761.0000  169347.468750  1538.324463   \n",
       "4   TEST_01+2순  40589.757812  646534.3125  173158.406250  1374.736084   \n",
       "..         ...           ...          ...            ...          ...   \n",
       "70  TEST_23+2순  49044.640625  614391.4375  160550.500000  1415.836304   \n",
       "71  TEST_23+3순  52447.804688  618444.7500  181202.859375  1346.124512   \n",
       "72  TEST_24+1순  42419.781250  541316.0000  145217.375000  1538.627686   \n",
       "73  TEST_24+2순  32584.992188  542418.7500  148373.468750  1148.403076   \n",
       "74  TEST_24+3순  28970.554688  544042.8750  166669.515625  1170.519897   \n",
       "\n",
       "               무            배추            사과           상추           양파  \\\n",
       "0   22552.324219  12492.137695  25625.259766  1111.631714  1106.422974   \n",
       "1   22582.089844  10602.303711  26945.113281  1035.493530   925.351746   \n",
       "2   20400.304688   8098.622559  27048.539062  1139.960938   921.317932   \n",
       "3    9943.556641   6429.744141  23619.898438   727.944824  1178.042358   \n",
       "4    9122.009766   6108.567871  23120.433594   575.979492  1029.802734   \n",
       "..           ...           ...           ...          ...          ...   \n",
       "70   5155.831543   4047.434570  24283.656250   817.424194   929.613037   \n",
       "71   4700.876953   4072.006348  24166.289062  1023.823120   950.039734   \n",
       "72  12698.209961  12484.205078  28438.333984   926.284668   481.544373   \n",
       "73  17554.705078  11934.880859  29603.310547   923.403137   423.135773   \n",
       "74  20141.078125   9992.718750  30116.003906   958.223999   442.335999   \n",
       "\n",
       "               배  \n",
       "0   30142.238281  \n",
       "1   29886.220703  \n",
       "2   30536.644531  \n",
       "3   27206.902344  \n",
       "4   26833.125000  \n",
       "..           ...  \n",
       "70  28449.347656  \n",
       "71  28676.369141  \n",
       "72  37521.917969  \n",
       "73  38367.777344  \n",
       "74  38181.761719  \n",
       "\n",
       "[75 rows x 11 columns]"
      ]
     },
     "execution_count": 49,
     "metadata": {},
     "output_type": "execute_result"
    }
   ],
   "source": [
    "sample_submission"
   ]
  },
  {
   "cell_type": "code",
   "execution_count": null,
   "metadata": {},
   "outputs": [],
   "source": [
    "tmp = pd.read_csv('data/train/train.csv')\n",
    "tmp.groupby('품목명')['평균가격(원)'].describe().astype(int)"
   ]
  },
  {
   "cell_type": "code",
   "execution_count": null,
   "metadata": {},
   "outputs": [],
   "source": [
    "import matplotlib.pyplot as plt\n",
    "import pandas as pd\n",
    "pd.set_option(\"display.max_rows\", None)\n",
    "pd.set_option(\"display.max_columns\", None)"
   ]
  },
  {
   "cell_type": "code",
   "execution_count": null,
   "metadata": {},
   "outputs": [],
   "source": [
    "품목명 = '무'\n",
    "train_data, scaler = process_data(\"data/train/train.csv\", \"data/train/meta/TRAIN_산지공판장_2018-2021.csv\", \"data/train/meta/TRAIN_전국도매_2018-2021.csv\", 품목명)\n",
    "scaler = 품목별_scalers[품목명]['평균가격(원)']\n",
    "tmp = minmax_inverse_transform(train_data['평균가격(원)'], scaler, is_train=False)\n",
    "tmp.max()"
   ]
  },
  {
   "cell_type": "code",
   "execution_count": null,
   "metadata": {},
   "outputs": [],
   "source": [
    "tmp.describe()"
   ]
  },
  {
   "cell_type": "code",
   "execution_count": null,
   "metadata": {},
   "outputs": [],
   "source": [
    "i=0\n",
    "\n",
    "test_file = f\"data/test/TEST_{i:02d}.csv\"\n",
    "산지공판장_file = f\"data/test/meta/TEST_산지공판장_{i:02d}.csv\"\n",
    "전국도매_file = f\"data/test/meta/TEST_전국도매_{i:02d}.csv\"\n",
    "\n",
    "test_data, _ = process_data(test_file, 산지공판장_file, 전국도매_file, 품목명, scalers=품목별_scalers[품목명])"
   ]
  },
  {
   "cell_type": "code",
   "execution_count": null,
   "metadata": {},
   "outputs": [],
   "source": [
    "test_data.describe()"
   ]
  },
  {
   "cell_type": "code",
   "execution_count": null,
   "metadata": {},
   "outputs": [],
   "source": [
    "train_df = pd.read_csv('data/train/train.csv')\n",
    "t = train_df[train_df['품목명']==품목명]\n",
    "t['평균가격(원)'].describe().astype(int)\n",
    "\n",
    "# plt.hist(t['평균가격(원)'], bins=50)\n",
    "# plt.yscale('log')\n",
    "\n",
    "plt.boxplot(t['평균가격(원)'])\n",
    "plt.show()\n",
    "plt.boxplot(np.log1p(t['평균가격(원)']))\n",
    "plt.show()"
   ]
  },
  {
   "cell_type": "code",
   "execution_count": null,
   "metadata": {},
   "outputs": [],
   "source": [
    "t[t['평균가격(원)']>10000000]\n",
    "t.groupby('거래단위')['평균가격(원)'].mean().astype(int)"
   ]
  },
  {
   "cell_type": "code",
   "execution_count": null,
   "metadata": {},
   "outputs": [],
   "source": [
    "tt = pd.read_csv('data/sample_submission.csv')\n",
    "tt"
   ]
  },
  {
   "cell_type": "code",
   "execution_count": null,
   "metadata": {},
   "outputs": [],
   "source": [
    "# sample_submission = pd.read_csv('out/baseline_submission.csv')\n",
    "# sample_submission.head()"
   ]
  }
 ],
 "metadata": {
  "kernelspec": {
   "display_name": ".venv",
   "language": "python",
   "name": "python3"
  },
  "language_info": {
   "codemirror_mode": {
    "name": "ipython",
    "version": 3
   },
   "file_extension": ".py",
   "mimetype": "text/x-python",
   "name": "python",
   "nbconvert_exporter": "python",
   "pygments_lexer": "ipython3",
   "version": "3.12.4"
  }
 },
 "nbformat": 4,
 "nbformat_minor": 2
}
