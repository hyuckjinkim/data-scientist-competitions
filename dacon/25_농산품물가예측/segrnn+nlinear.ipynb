{
 "cells": [
  {
   "cell_type": "markdown",
   "metadata": {},
   "source": [
    "# 농산물 가격 예측을 위한 AI 모델 개발 \n",
    "- '2024 농산물 가격 예측 AI 경진대회'는 데이터와 AI 기술을 활용하여 농산물 가격 예측 능력을 향상시키는 것을 목표로 합니다.<br>  이 대회는 농업 분야의 복잡한 시계열 데이터를 효율적으로 분석하고 예측할 수 있는 AI 알고리즘 개발에 초점을 맞추고 있습니다. <br> <br>\n",
    "- 이 대회의 궁극적 목적은 참가자들의 시계열 데이터 분석 및 예측 역량을 강화하고, <br> AI 기술이 실제 농산물 가격 예측과 관련 정책 결정에 어떻게 기여할 수 있는지 탐구하는 것입니다. "
   ]
  },
  {
   "cell_type": "markdown",
   "metadata": {},
   "source": [
    "# Import Library"
   ]
  },
  {
   "cell_type": "code",
   "execution_count": 1,
   "metadata": {},
   "outputs": [],
   "source": [
    "import sys\n",
    "lib_dir = \"g:/My Drive/Storage/Github/hyuckjinkim\"\n",
    "sys.path.append(lib_dir)\n",
    "\n",
    "from lib.python.graph import MatplotlibFontManager\n",
    "fm = MatplotlibFontManager()\n",
    "fm.set_korean_font(check=False)\n",
    "\n",
    "from lib.python.torch import seed_everything\n",
    "from lib.python.torch.build_model import train, predict\n",
    "from lib.python.log import get_logger\n",
    "\n",
    "seed_everything(42)"
   ]
  },
  {
   "cell_type": "code",
   "execution_count": 2,
   "metadata": {},
   "outputs": [],
   "source": [
    "# import pandas as pd\n",
    "# pd.set_option(\"display.max_rows\", None)\n",
    "# pd.set_option(\"display.max_columns\", None)\n",
    "\n",
    "# train_df = pd.read_csv('data/train/train.csv')\n",
    "\n",
    "# train_meta1_df = pd.read_csv('data/train/meta/TRAIN_산지공판장_2018-2021.csv')\n",
    "# train_meta1_df.drop(['품목코드','품종코드','공판장코드'], axis=1, inplace=True)\n",
    "\n",
    "# train_meta2_df = pd.read_csv('data/train/meta/TRAIN_전국도매_2018-2021.csv')\n",
    "# train_meta2_df.drop(['품목코드','품종코드','시장코드']  , axis=1, inplace=True)\n",
    "\n",
    "# train_df.head(2) # ['평년 평균가격(원)','평균가격(원)']\n",
    "# train_meta1_df.head(2)\n",
    "# train_meta2_df.head(2)"
   ]
  },
  {
   "cell_type": "code",
   "execution_count": 3,
   "metadata": {},
   "outputs": [],
   "source": [
    "import os\n",
    "import pandas as pd\n",
    "import numpy as np\n",
    "from tqdm.notebook import tqdm\n",
    "from types import SimpleNamespace\n",
    "from copy import deepcopy\n",
    "import pickle\n",
    "import gc\n",
    "gc.collect()\n",
    "\n",
    "from sklearn.preprocessing import MinMaxScaler\n",
    "from sklearn.model_selection import train_test_split\n",
    "\n",
    "import torch\n",
    "import torch.nn as nn\n",
    "import torch.nn.functional as F\n",
    "from torch.utils.data import Dataset, DataLoader"
   ]
  },
  {
   "cell_type": "markdown",
   "metadata": {},
   "source": [
    "# Hyperparameter Setting"
   ]
  },
  {
   "cell_type": "markdown",
   "metadata": {},
   "source": [
    "# Define Function for Feature Engineering\n",
    "- 타겟의 필터 조건을 제외한 메타데이터의 필터 조건은 참가자들 각자의 기준에 맞춰 자유롭게 사용가능 \n",
    "- 밑의 필터 조건은 임의로 제공하는 예시"
   ]
  },
  {
   "cell_type": "code",
   "execution_count": 4,
   "metadata": {},
   "outputs": [],
   "source": [
    "def year_convert(data):\n",
    "    data['연도'] -= 2018\n",
    "\n",
    "    offset = 0.1\n",
    "    map_dict = {'상순':offset, '중순':offset+1/3, '하순':offset+2/3}\n",
    "    data['연도'] += data['시점'].str.extract(r'(상순|중순|하순)')[0].map(map_dict)\n",
    "    \n",
    "    return data\n",
    "\n",
    "def process_data(raw_file, 산지공판장_file, 전국도매_file, 품목명, scalers=None):\n",
    "    raw_data = pd.read_csv(raw_file)\n",
    "    산지공판장 = pd.read_csv(산지공판장_file)\n",
    "    전국도매 = pd.read_csv(전국도매_file)\n",
    "\n",
    "    # 품목코드, 품종코드, 공판장코드, 시장코드 제거\n",
    "    산지공판장.drop(['품목코드','품종코드','공판장코드'], axis=1, inplace=True)\n",
    "    전국도매  .drop(['품목코드','품종코드','시장코드']  , axis=1, inplace=True)\n",
    "\n",
    "    # 연도에 상/중/하순에 대한 정보도 추가\n",
    "    산지공판장 = year_convert(산지공판장)\n",
    "    전국도매 = year_convert(전국도매)\n",
    "\n",
    "    # 이상값(0이하) 처리\n",
    "    for col in ['전순 평균가격(원) PreVious SOON', '전달 평균가격(원) PreVious MMonth', '전년 평균가격(원) PreVious YeaR']:\n",
    "        loc = 전국도매[col] < 0\n",
    "        전국도매.loc[loc,col] = 0\n",
    "\n",
    "    # log변환\n",
    "    raw_cols = ['평년 평균가격(원)', '평균가격(원)']\n",
    "    산지공판장_cols =  ['총반입량(kg)', '총거래금액(원)', '평균가(원/kg)', '중간가(원/kg)', '최저가(원/kg)', '최고가(원/kg)', '경매 건수', \n",
    "                       '전순 평균가격(원) PreVious SOON', '전달 평균가격(원) PreVious MMonth', '전년 평균가격(원) PreVious YeaR', '평년 평균가격(원) Common Year SOON']\n",
    "    전국도매_cols = ['총반입량(kg)', '총거래금액(원)', '평균가(원/kg)', '고가(20%) 평균가', '중가(60%) 평균가 ', '저가(20%) 평균가', '중간가(원/kg)', '최저가(원/kg)',\n",
    "                    '최고가(원/kg)', '경매 건수', '전순 평균가격(원) PreVious SOON', '전달 평균가격(원) PreVious MMonth', '전년 평균가격(원) PreVious YeaR', '평년 평균가격(원) Common Year SOON']\n",
    "    for col in raw_cols: raw_data[col] = np.log1p(raw_data[col])\n",
    "    for col in 산지공판장_cols: 산지공판장[col] = np.log1p(산지공판장[col])\n",
    "    for col in 전국도매_cols: 전국도매[col] = np.log1p(전국도매[col])\n",
    "\n",
    "    # 타겟 및 메타데이터 필터 조건 정의\n",
    "    conditions = {\n",
    "    '감자': {\n",
    "        'target': lambda df: (df['품종명'] == '감자 수미') & (df['거래단위'] == '20키로상자') & (df['등급'] == '상'),\n",
    "        '공판장': {'공판장명': ['*전국농협공판장'], '품목명': ['감자'], '품종명': ['수미'], '등급명': ['상']},\n",
    "        '도매': {'시장명': ['*전국도매시장'], '품목명': ['감자'], '품종명': ['수미']}\n",
    "    },\n",
    "    '건고추': {\n",
    "        'target': lambda df: (df['품종명'] == '화건') & (df['거래단위'] == '30 kg') & (df['등급'] == '상품'),\n",
    "        '공판장': None, \n",
    "        '도매': None  \n",
    "    },\n",
    "    '깐마늘(국산)': {\n",
    "        'target': lambda df: (df['거래단위'] == '20 kg') & (df['등급'] == '상품'),\n",
    "        '공판장': {'공판장명': ['*전국농협공판장'], '품목명': ['마늘'], '품종명': ['깐마늘'], '등급명': ['상']},\n",
    "        '도매': {'시장명': ['*전국도매시장'], '품목명': ['마늘'], '품종명': ['깐마늘']}\n",
    "    },\n",
    "    '대파': {\n",
    "        'target': lambda df: (df['품종명'] == '대파(일반)') & (df['거래단위'] == '1키로단') & (df['등급'] == '상'),\n",
    "        '공판장': {'공판장명': ['*전국농협공판장'], '품목명': ['대파'], '품종명': ['대파(일반)'], '등급명': ['상']},\n",
    "        '도매': {'시장명': ['*전국도매시장'], '품목명': ['대파'], '품종명': ['대파(일반)']}\n",
    "    },\n",
    "    '무': {\n",
    "        'target': lambda df: (df['거래단위'] == '20키로상자') & (df['등급'] == '상'),\n",
    "        '공판장': {'공판장명': ['*전국농협공판장'], '품목명': ['무'], '품종명': ['기타무'], '등급명': ['상']},\n",
    "        '도매': {'시장명': ['*전국도매시장'], '품목명': ['무'], '품종명': ['무']}\n",
    "    },\n",
    "    '배추': {\n",
    "        'target': lambda df: (df['거래단위'] == '10키로망대') & (df['등급'] == '상'),\n",
    "        '공판장': {'공판장명': ['*전국농협공판장'], '품목명': ['배추'], '품종명': ['쌈배추'], '등급명': ['상']},\n",
    "        '도매': {'시장명': ['*전국도매시장'], '품목명': ['배추'], '품종명': ['배추']}\n",
    "    },\n",
    "    '사과': {\n",
    "        'target': lambda df: (df['품종명'].isin(['홍로', '후지'])) & (df['거래단위'] == '10 개') & (df['등급'] == '상품'),\n",
    "        '공판장': {'공판장명': ['*전국농협공판장'], '품목명': ['사과'], '품종명': ['후지'], '등급명': ['상']},\n",
    "        '도매': {'시장명': ['*전국도매시장'], '품목명': ['사과'], '품종명': ['후지']}\n",
    "    },\n",
    "    '상추': {\n",
    "        'target': lambda df: (df['품종명'] == '청') & (df['거래단위'] == '100 g') & (df['등급'] == '상품'),\n",
    "        '공판장': {'공판장명': ['*전국농협공판장'], '품목명': ['상추'], '품종명': ['청상추'], '등급명': ['상']},\n",
    "        '도매': {'시장명': ['*전국도매시장'], '품목명': ['상추'], '품종명': ['청상추']}\n",
    "    },\n",
    "    '양파': {\n",
    "        'target': lambda df: (df['품종명'] == '양파') & (df['거래단위'] == '1키로') & (df['등급'] == '상'),\n",
    "        '공판장': {'공판장명': ['*전국농협공판장'], '품목명': ['양파'], '품종명': ['기타양파'], '등급명': ['상']},\n",
    "        '도매': {'시장명': ['*전국도매시장'], '품목명': ['양파'], '품종명': ['양파(일반)']}\n",
    "    },\n",
    "    '배': {\n",
    "        'target': lambda df: (df['품종명'] == '신고') & (df['거래단위'] == '10 개') & (df['등급'] == '상품'),\n",
    "        '공판장': {'공판장명': ['*전국농협공판장'], '품목명': ['배'], '품종명': ['신고'], '등급명': ['상']},\n",
    "        '도매': {'시장명': ['*전국도매시장'], '품목명': ['배'], '품종명': ['신고']}\n",
    "    }\n",
    "    }\n",
    "\n",
    "    # 타겟 데이터 필터링\n",
    "    raw_품목 = raw_data[raw_data['품목명'] == 품목명]\n",
    "    target_mask = conditions[품목명]['target'](raw_품목)\n",
    "    filtered_data = raw_품목[target_mask]\n",
    "\n",
    "    # 다른 품종에 대한 파생변수 생성\n",
    "    other_data = raw_품목[~target_mask]\n",
    "    unique_combinations = other_data[['품종명', '거래단위', '등급']].drop_duplicates()\n",
    "    for _, row in unique_combinations.iterrows():\n",
    "        품종명, 거래단위, 등급 = row['품종명'], row['거래단위'], row['등급']\n",
    "        mask = (other_data['품종명'] == 품종명) & (other_data['거래단위'] == 거래단위) & (other_data['등급'] == 등급)\n",
    "        temp_df = other_data[mask]\n",
    "        for col in ['평년 평균가격(원)', '평균가격(원)']:\n",
    "            new_col_name = f'{품종명}_{거래단위}_{등급}_{col}'\n",
    "            filtered_data = filtered_data.merge(temp_df[['시점', col]], on='시점', how='left', suffixes=('', f'_{new_col_name}'))\n",
    "            filtered_data.rename(columns={f'{col}_{new_col_name}': new_col_name}, inplace=True)\n",
    "\n",
    "    # 공판장 데이터 처리\n",
    "    if conditions[품목명]['공판장']:\n",
    "        filtered_공판장 = 산지공판장\n",
    "        for key, value in conditions[품목명]['공판장'].items():\n",
    "            filtered_공판장 = filtered_공판장[filtered_공판장[key].isin(value)]\n",
    "        \n",
    "        filtered_공판장 = filtered_공판장.add_prefix('공판장_').rename(columns={'공판장_시점': '시점'})\n",
    "        filtered_data = filtered_data.merge(filtered_공판장, on='시점', how='left')\n",
    "\n",
    "    # 도매 데이터 처리\n",
    "    if conditions[품목명]['도매']:\n",
    "        filtered_도매 = 전국도매\n",
    "        for key, value in conditions[품목명]['도매'].items():\n",
    "            filtered_도매 = filtered_도매[filtered_도매[key].isin(value)]\n",
    "        \n",
    "        filtered_도매 = filtered_도매.add_prefix('도매_').rename(columns={'도매_시점': '시점'})\n",
    "        filtered_data = filtered_data.merge(filtered_도매, on='시점', how='left')\n",
    "\n",
    "    # 수치형 컬럼 처리\n",
    "    numeric_columns = filtered_data.select_dtypes(include=[np.number]).columns\n",
    "    filtered_data = filtered_data[['시점'] + list(numeric_columns)]\n",
    "    filtered_data[numeric_columns] = filtered_data[numeric_columns].fillna(0)\n",
    "\n",
    "    # 정규화 적용\n",
    "    if scalers is None:\n",
    "        scalers = {}\n",
    "        for col in numeric_columns:\n",
    "            scaler = MinMaxScaler()\n",
    "            filtered_data[col] = scaler.fit_transform(filtered_data[col].values.reshape(-1,1))\n",
    "            scalers[col] = scaler\n",
    "    else:\n",
    "        for col in numeric_columns:\n",
    "            scaler = scalers[col]\n",
    "            filtered_data[col] = scaler.transform(filtered_data[col].values.reshape(-1,1))\n",
    "\n",
    "    return filtered_data, scalers\n"
   ]
  },
  {
   "cell_type": "markdown",
   "metadata": {},
   "source": [
    "# Define Custom Dataset Class"
   ]
  },
  {
   "cell_type": "code",
   "execution_count": 5,
   "metadata": {},
   "outputs": [],
   "source": [
    "class AgriculturePriceDataset(Dataset):\n",
    "    def __init__(self, dataframe, window_size=9, prediction_length=3, is_test=False):\n",
    "        self.data = dataframe\n",
    "        self.window_size = window_size\n",
    "        self.prediction_length = prediction_length\n",
    "        self.is_test = is_test\n",
    "        \n",
    "        self.price_column = '평균가격(원)'\n",
    "        self.numeric_columns = self.data.select_dtypes(include=[np.number]).columns.tolist()\n",
    "\n",
    "        self.sequences = []\n",
    "        if not self.is_test:\n",
    "            for i in range(len(self.data) - self.window_size - self.prediction_length + 1):\n",
    "                x = self.data[self.numeric_columns].iloc[i:i+self.window_size].values\n",
    "                y = self.data[self.price_column].iloc[i+self.window_size:i+self.window_size+self.prediction_length].values\n",
    "                self.sequences.append((x, y))\n",
    "        else:\n",
    "            self.sequences = [self.data[self.numeric_columns].values]\n",
    "    \n",
    "    def __len__(self):\n",
    "        return len(self.sequences)\n",
    "    \n",
    "    def __getitem__(self, idx):\n",
    "        if not self.is_test:\n",
    "            x, y = self.sequences[idx]\n",
    "            return torch.FloatTensor(x), torch.FloatTensor(y)\n",
    "        else:\n",
    "            return torch.FloatTensor(self.sequences[idx])"
   ]
  },
  {
   "cell_type": "markdown",
   "metadata": {},
   "source": [
    "# Define Model Architecture and Training Functions"
   ]
  },
  {
   "cell_type": "code",
   "execution_count": 64,
   "metadata": {},
   "outputs": [],
   "source": [
    "# https://github.com/lss-1138/SegRNN/blob/main/models/SegRNN.py\n",
    "from lib.python.torch.models.SegRNN import Model as SegRNNModel\n",
    "from lib.python.torch.models.NLinear import Model as NLinearModel\n",
    "\n",
    "class HybridModel(nn.Module):\n",
    "    def __init__(self, config):\n",
    "        super().__init__()\n",
    "        self.d_model = config.d_model\n",
    "        self.dropout = config.dropout\n",
    "        self.seq_len = config.seq_len\n",
    "        self.pred_len = config.pred_len\n",
    "        self.channels = config.channels\n",
    "        self.individual = config.individual\n",
    "        self.dropout = config.dropout\n",
    "        \n",
    "        self.segrnn_layer = SegRNNModel(config)\n",
    "        self.nlinear_layer = NLinearModel(self.seq_len, self.pred_len, self.channels, self.individual, self.dropout)\n",
    "        self.fc = nn.Linear(2*self.d_model, 1)\n",
    "\n",
    "        self.layernorm = nn.LayerNorm(2*self.d_model)\n",
    "        self.dropout = nn.Dropout(self.dropout)\n",
    "\n",
    "    def forward(self, x):\n",
    "        segrnn_out = self.segrnn_layer(x)\n",
    "        nlinear_out = self.nlinear_layer(x)\n",
    "        x = torch.cat([segrnn_out, nlinear_out], dim=-1)\n",
    "        x = self.layernorm(x)\n",
    "        x = self.dropout(x)\n",
    "        x = self.fc(x)\n",
    "        x = x.squeeze(-1)\n",
    "        return x\n",
    "\n",
    "    # def forward(self, x):\n",
    "    #     x = self.segrnn_layer(x)\n",
    "    #     x = x.mean(dim=2)\n",
    "    #     return x"
   ]
  },
  {
   "cell_type": "markdown",
   "metadata": {},
   "source": [
    "# Train Models and Generate Predictions"
   ]
  },
  {
   "cell_type": "code",
   "execution_count": 55,
   "metadata": {},
   "outputs": [],
   "source": [
    "def nmae(true,pred):\n",
    "    true, pred = np.array(true), np.array(pred)\n",
    "    return np.mean(np.abs(true - pred) / true)\n",
    "\n",
    "def minmax_inverse_transform(x, scaler, is_train=True):\n",
    "    origin = scaler.data_min_[0] + x * (scaler.data_max_[0] - scaler.data_min_[0])\n",
    "    origin = torch.expm1(origin) if is_train else np.expm1(origin)\n",
    "    return origin\n",
    "\n",
    "def variance_threshold_select(data, threshold=0.01, ignore_features=list()):\n",
    "    cols = data.select_dtypes(include=[np.number]).columns\n",
    "    cols = list(set(cols)-set(ignore_features))\n",
    "\n",
    "    del_features = []\n",
    "    for col in cols:\n",
    "        variance = train_data[col].std()**2\n",
    "        if variance<threshold:\n",
    "            del_features.append(col)\n",
    "    \n",
    "    return del_features"
   ]
  },
  {
   "cell_type": "code",
   "execution_count": 56,
   "metadata": {},
   "outputs": [],
   "source": [
    "def predict(best_model, loader, device, inverse_transform):\n",
    "    best_model.to(device)\n",
    "    best_model.eval()\n",
    "    \n",
    "    true_list = []\n",
    "    pred_list = []\n",
    "    with torch.no_grad():\n",
    "        for data,label in loader:\n",
    "            data = data.float().to(device)\n",
    "\n",
    "            output = best_model(data)\n",
    "            output = inverse_transform(output)\n",
    "            output = output.cpu().numpy().tolist()\n",
    "\n",
    "            label  = inverse_transform(label)\n",
    "            label = label.cpu().numpy().tolist()\n",
    "\n",
    "            true_list += label\n",
    "            pred_list += output\n",
    "\n",
    "    return true_list, pred_list\n",
    "\n",
    "def inference(best_model, loader, device, inverse_transform):\n",
    "    best_model.to(device)\n",
    "    best_model.eval()\n",
    "    \n",
    "    true_list = []\n",
    "    pred_list = []\n",
    "    with torch.no_grad():\n",
    "        for data in loader:\n",
    "            data = data.float().to(device)\n",
    "\n",
    "            output = best_model(data)\n",
    "            output = inverse_transform(output)\n",
    "            output = output.cpu().numpy().tolist()\n",
    "\n",
    "            pred_list += output\n",
    "\n",
    "    return pred_list"
   ]
  },
  {
   "cell_type": "code",
   "execution_count": 57,
   "metadata": {},
   "outputs": [],
   "source": [
    "config = {\n",
    "    \"learning_rate\": 5e-4, #0.001,\n",
    "    \"epoch\": 10_000,\n",
    "    \"batch_size\": 64,\n",
    "    \"output_size\": 3,\n",
    "    \"weight_decay\": 5e-3,\n",
    "    \"test_size\": 0.2,\n",
    "    \"seed\": 42,\n",
    "    \"threshold\": 0.005,\n",
    "    \"device\": 'cpu',\n",
    "}\n",
    "\n",
    "model_config = {\n",
    "    \"seq_len\": 9,\n",
    "    \"pred_len\": 3,\n",
    "    \"dropout\": 0.5,\n",
    "    \"rnn_type\": 'rnn', # rnn, gru, lstm\n",
    "    \"dec_way\": 'pmf',  # rmf, pmf\n",
    "    \"seg_len\": 3,\n",
    "    \"channel_id\": False,\n",
    "    \"revin\": True,\n",
    "    \"channels\": 3,\n",
    "    \"individual\": True,\n",
    "}\n",
    "\n",
    "CFG = SimpleNamespace(**config)\n",
    "MODEL_CFG = SimpleNamespace(**model_config)\n",
    "품목_리스트 = ['건고추', '사과', '감자', '배', '깐마늘(국산)', '무', '상추', '배추', '양파', '대파']"
   ]
  },
  {
   "cell_type": "code",
   "execution_count": 58,
   "metadata": {},
   "outputs": [
    {
     "name": "stdout",
     "output_type": "stream",
     "text": [
      "\n",
      "======================================================================================================================================================\n",
      "> [01/10] 건고추\n",
      "======================================================================================================================================================\n",
      "\n",
      "*[00100/10000] tr_loss: 197857.8203, val_loss: 47738.1797, best: 47738.1797(100), elapsed: 19.5s, total: 19.5s, remaining: 1930.7s\n",
      "*[00200/10000] tr_loss: 129275.7461, val_loss: 38057.3164, best: 38057.3164(200), elapsed: 15.3s, total: 34.9s, remaining: 1503.1s\n",
      "*[00300/10000] tr_loss: 92224.8555, val_loss: 33262.1250, best: 33262.1250(300), elapsed: 11.3s, total: 46.2s, remaining: 1093.6s\n",
      " [00400/10000] tr_loss: 73552.1875, val_loss: 31975.3730, best: 31451.5332(360), elapsed: 8.0s, total: 54.3s, remaining: 768.9s\n",
      "*[00500/10000] tr_loss: 71427.7109, val_loss: 30409.9355, best: 30409.9355(500), elapsed: 7.5s, total: 61.7s, remaining: 712.4s\n",
      " [00600/10000] tr_loss: 70703.8984, val_loss: 30825.9746, best: 30291.3789(508), elapsed: 7.1s, total: 68.9s, remaining: 664.9s\n",
      " [00700/10000] tr_loss: 76677.8633, val_loss: 30807.3125, best: 30291.3789(508), elapsed: 7.5s, total: 76.4s, remaining: 701.7s\n",
      "<Stopped> [00708/10000] tr_loss: 77181.6875, val_loss: 30777.1797, best: 30291.3789(508), elapsed: 0.6s, total: 77.1s, remaining: 60.0s\n",
      "<Score> train_nmae=0.0852, val_nmae=0.0561\n",
      "\n",
      "\n",
      "======================================================================================================================================================\n",
      "> [02/10] 사과\n",
      "======================================================================================================================================================\n",
      "\n",
      "*[00100/10000] tr_loss: 5258.5386, val_loss: 3432.7041, best: 3432.7041(100), elapsed: 38.0s, total: 38.0s, remaining: 3759.0s\n",
      "*[00200/10000] tr_loss: 2356.2191, val_loss: 1858.6183, best: 1858.6183(200), elapsed: 46.8s, total: 84.8s, remaining: 4586.9s\n",
      " [00300/10000] tr_loss: 2164.7634, val_loss: 1621.1323, best: 1594.3049(295), elapsed: 16.8s, total: 101.7s, remaining: 1632.2s\n",
      " [00400/10000] tr_loss: 2127.0765, val_loss: 1560.3289, best: 1527.0338(340), elapsed: 14.7s, total: 116.4s, remaining: 1407.8s\n",
      " [00500/10000] tr_loss: 2123.8040, val_loss: 1531.3008, best: 1515.9537(469), elapsed: 13.7s, total: 130.0s, remaining: 1297.6s\n",
      "*[00600/10000] tr_loss: 2080.1407, val_loss: 1517.7869, best: 1517.7869(600), elapsed: 11.1s, total: 141.1s, remaining: 1042.0s\n",
      " [00700/10000] tr_loss: 2112.8674, val_loss: 1529.6378, best: 1517.0581(604), elapsed: 7.5s, total: 148.6s, remaining: 694.8s\n",
      " [00800/10000] tr_loss: 2030.9338, val_loss: 1528.5292, best: 1517.0581(604), elapsed: 7.6s, total: 156.2s, remaining: 699.9s\n",
      "<Stopped> [00804/10000] tr_loss: 1947.6129, val_loss: 1528.1393, best: 1517.0581(604), elapsed: 0.2s, total: 156.4s, remaining: 15.9s\n",
      "<Score> train_nmae=0.0561, val_nmae=0.0624\n",
      "\n",
      "\n",
      "======================================================================================================================================================\n",
      "> [03/10] 감자\n",
      "======================================================================================================================================================\n",
      "\n",
      "*[00100/10000] tr_loss: 12765.4028, val_loss: 6025.1665, best: 6025.1665(100), elapsed: 14.0s, total: 14.0s, remaining: 1388.4s\n",
      "*[00200/10000] tr_loss: 6192.9219, val_loss: 4307.4751, best: 4307.4751(200), elapsed: 18.1s, total: 32.2s, remaining: 1774.8s\n",
      " [00300/10000] tr_loss: 5596.6855, val_loss: 3993.1909, best: 3810.9116(291), elapsed: 7.9s, total: 40.1s, remaining: 768.3s\n",
      " [00400/10000] tr_loss: 5099.3379, val_loss: 3649.2153, best: 3605.9255(390), elapsed: 7.5s, total: 47.6s, remaining: 716.3s\n",
      " [00500/10000] tr_loss: 4928.1381, val_loss: 3751.0427, best: 3499.2466(466), elapsed: 5.9s, total: 53.5s, remaining: 563.9s\n",
      " [00600/10000] tr_loss: 4565.6199, val_loss: 3612.7642, best: 3499.2466(466), elapsed: 5.5s, total: 59.0s, remaining: 513.5s\n",
      "<Stopped> [00666/10000] tr_loss: 4616.4663, val_loss: 3670.8340, best: 3499.2466(466), elapsed: 3.8s, total: 62.8s, remaining: 357.2s\n",
      "<Score> train_nmae=0.0909, val_nmae=0.1130\n",
      "\n",
      "\n",
      "======================================================================================================================================================\n",
      "> [04/10] 배\n",
      "======================================================================================================================================================\n",
      "\n",
      "*[00100/10000] tr_loss: 4385.8207, val_loss: 2507.0154, best: 2507.0154(100), elapsed: 14.6s, total: 14.6s, remaining: 1442.3s\n",
      " [00200/10000] tr_loss: 2792.5923, val_loss: 2314.7036, best: 2294.8892(151), elapsed: 7.4s, total: 22.0s, remaining: 728.0s\n",
      " [00300/10000] tr_loss: 2657.8571, val_loss: 2328.8711, best: 2294.8892(151), elapsed: 6.5s, total: 28.5s, remaining: 629.5s\n",
      "<Stopped> [00351/10000] tr_loss: 2445.4591, val_loss: 2320.5811, best: 2294.8892(151), elapsed: 3.4s, total: 32.0s, remaining: 332.6s\n",
      "<Score> train_nmae=0.0508, val_nmae=0.0645\n",
      "\n",
      "\n",
      "======================================================================================================================================================\n",
      "> [05/10] 깐마늘(국산)\n",
      "======================================================================================================================================================\n",
      "\n",
      "*[00100/10000] tr_loss: 33782.9199, val_loss: 9895.0361, best: 9895.0361(100), elapsed: 15.0s, total: 15.0s, remaining: 1482.0s\n",
      "*[00200/10000] tr_loss: 15017.2915, val_loss: 7012.5625, best: 7012.5625(200), elapsed: 15.2s, total: 30.2s, remaining: 1490.3s\n",
      " [00300/10000] tr_loss: 11749.6875, val_loss: 6382.1104, best: 6287.3467(267), elapsed: 13.4s, total: 43.6s, remaining: 1296.6s\n",
      " [00400/10000] tr_loss: 11298.7012, val_loss: 6294.9707, best: 6287.3467(267), elapsed: 10.1s, total: 53.7s, remaining: 967.3s\n",
      "<Stopped> [00467/10000] tr_loss: 9806.2393, val_loss: 6297.3613, best: 6287.3467(267), elapsed: 7.4s, total: 61.1s, remaining: 705.5s\n",
      "<Score> train_nmae=0.0451, val_nmae=0.0556\n",
      "\n",
      "\n",
      "======================================================================================================================================================\n",
      "> [06/10] 무\n",
      "======================================================================================================================================================\n",
      "\n",
      " [00100/10000] tr_loss: 5794.1543, val_loss: 2507.3645, best: 2502.9309(99), elapsed: 14.4s, total: 14.4s, remaining: 1420.7s\n",
      " [00200/10000] tr_loss: 2865.8439, val_loss: 2575.9431, best: 2470.3936(135), elapsed: 8.0s, total: 22.3s, remaining: 780.7s\n",
      " [00300/10000] tr_loss: 3123.8314, val_loss: 2538.7991, best: 2470.3936(135), elapsed: 7.8s, total: 30.1s, remaining: 752.0s\n",
      "<Stopped> [00335/10000] tr_loss: 2767.4824, val_loss: 2540.6177, best: 2470.3936(135), elapsed: 2.5s, total: 32.6s, remaining: 241.9s\n",
      "<Score> train_nmae=0.1754, val_nmae=0.1975\n",
      "\n",
      "\n",
      "======================================================================================================================================================\n",
      "> [07/10] 상추\n",
      "======================================================================================================================================================\n",
      "\n",
      " [00100/10000] tr_loss: 264.6058, val_loss: 200.2461, best: 195.4101(96), elapsed: 12.8s, total: 12.8s, remaining: 1271.5s\n",
      " [00200/10000] tr_loss: 175.7856, val_loss: 168.8504, best: 166.6241(187), elapsed: 10.8s, total: 23.6s, remaining: 1057.5s\n",
      " [00300/10000] tr_loss: 170.1215, val_loss: 171.2326, best: 162.3200(249), elapsed: 11.3s, total: 34.9s, remaining: 1093.9s\n",
      " [00400/10000] tr_loss: 169.0048, val_loss: 163.9464, best: 162.3200(249), elapsed: 10.7s, total: 45.6s, remaining: 1028.5s\n",
      "<Stopped> [00449/10000] tr_loss: 176.4388, val_loss: 165.0668, best: 162.3200(249), elapsed: 5.5s, total: 51.2s, remaining: 528.1s\n",
      "<Score> train_nmae=0.1110, val_nmae=0.1340\n",
      "\n",
      "\n",
      "======================================================================================================================================================\n",
      "> [08/10] 배추\n",
      "======================================================================================================================================================\n",
      "\n",
      " [00100/10000] tr_loss: 5272.1675, val_loss: 2046.8320, best: 1941.2089(92), elapsed: 11.6s, total: 11.6s, remaining: 1146.7s\n",
      " [00200/10000] tr_loss: 2344.8756, val_loss: 1870.7883, best: 1858.7878(156), elapsed: 6.4s, total: 17.9s, remaining: 623.9s\n",
      "*[00300/10000] tr_loss: 2055.3043, val_loss: 1755.1895, best: 1755.1895(300), elapsed: 7.6s, total: 25.5s, remaining: 735.6s\n",
      " [00400/10000] tr_loss: 1997.8187, val_loss: 1710.6094, best: 1654.1266(385), elapsed: 7.3s, total: 32.8s, remaining: 697.5s\n",
      " [00500/10000] tr_loss: 1879.5295, val_loss: 1694.1595, best: 1654.1266(385), elapsed: 6.0s, total: 38.8s, remaining: 566.9s\n",
      "<Stopped> [00585/10000] tr_loss: 1804.6385, val_loss: 1708.0845, best: 1654.1266(385), elapsed: 4.9s, total: 43.7s, remaining: 458.7s\n",
      "<Score> train_nmae=0.1739, val_nmae=0.2257\n",
      "\n",
      "\n",
      "======================================================================================================================================================\n",
      "> [09/10] 양파\n",
      "======================================================================================================================================================\n",
      "\n",
      " [00100/10000] tr_loss: 133.4377, val_loss: 88.9007, best: 91.4080(76), elapsed: 13.7s, total: 13.7s, remaining: 1357.4s\n",
      " [00200/10000] tr_loss: 112.8966, val_loss: 90.3262, best: 86.7892(103), elapsed: 11.9s, total: 25.6s, remaining: 1168.8s\n",
      " [00300/10000] tr_loss: 110.3608, val_loss: 89.2660, best: 87.8899(203), elapsed: 11.2s, total: 36.8s, remaining: 1085.6s\n",
      " [00400/10000] tr_loss: 111.7415, val_loss: 93.2766, best: 87.8899(203), elapsed: 9.7s, total: 46.6s, remaining: 933.9s\n",
      "<Stopped> [00403/10000] tr_loss: 106.9504, val_loss: 92.9087, best: 87.8899(203), elapsed: 0.3s, total: 46.8s, remaining: 27.7s\n",
      "<Score> train_nmae=0.0863, val_nmae=0.1243\n",
      "\n",
      "\n",
      "======================================================================================================================================================\n",
      "> [10/10] 대파\n",
      "======================================================================================================================================================\n",
      "\n",
      " [00100/10000] tr_loss: 717.2775, val_loss: 352.8221, best: 353.2270(96), elapsed: 25.3s, total: 25.3s, remaining: 2503.3s\n",
      " [00200/10000] tr_loss: 445.8453, val_loss: 339.5033, best: 341.9700(107), elapsed: 21.9s, total: 47.2s, remaining: 2144.3s\n",
      " [00300/10000] tr_loss: 435.5362, val_loss: 336.8023, best: 341.9700(107), elapsed: 22.9s, total: 70.1s, remaining: 2222.1s\n",
      "<Stopped> [00307/10000] tr_loss: 428.2621, val_loss: 337.5890, best: 341.9700(107), elapsed: 1.8s, total: 71.9s, remaining: 176.6s\n",
      "<Score> train_nmae=0.1652, val_nmae=0.1915\n",
      "\n"
     ]
    }
   ],
   "source": [
    "# logger = get_logger(save_path='log/TimeSeriesTransformer_log.log')\n",
    "# trace_func = logger.info\n",
    "trace_func = print\n",
    "\n",
    "os.makedirs('models', exist_ok=True)\n",
    "\n",
    "품목별_scalers = {}\n",
    "품목별_delcols = {}\n",
    "품목별_hyperparams = {}\n",
    "\n",
    "train_nmae_list = []\n",
    "val_nmae_list = []\n",
    "\n",
    "for i, 품목명 in enumerate(품목_리스트):\n",
    "    model_path = f'models/SegRNN_{품목명}.pth'\n",
    "    trace_func('')\n",
    "    trace_func('='*150)\n",
    "    trace_func(f'> [{i+1:02d}/{len(품목_리스트)}] {품목명}')\n",
    "    trace_func('='*150)\n",
    "    trace_func('')\n",
    "\n",
    "    # preprocessing\n",
    "    train_data, scalers = process_data(\"data/train/train.csv\", \"data/train/meta/TRAIN_산지공판장_2018-2021.csv\", \"data/train/meta/TRAIN_전국도매_2018-2021.csv\", 품목명)\n",
    "    품목별_scalers[품목명] = scalers\n",
    "    \n",
    "    # 분산이 threshold보다 작은 컬럼 제거\n",
    "    del_cols = variance_threshold_select(train_data, threshold=CFG.threshold, ignore_features=['평균가격(원)'])\n",
    "    train_data.drop(del_cols, axis=1, inplace=True)\n",
    "    품목별_delcols[품목명] = del_cols\n",
    "\n",
    "    # train, validation split\n",
    "    dataset = AgriculturePriceDataset(train_data)\n",
    "    tr_data, val_data = train_test_split(dataset, test_size=CFG.test_size, random_state=CFG.seed, shuffle=True)\n",
    "    train_loader = DataLoader(tr_data, CFG.batch_size, shuffle=True)\n",
    "    val_loader = DataLoader(val_data, CFG.batch_size, shuffle=False)\n",
    "\n",
    "    # define model\n",
    "    model_cfg = deepcopy(MODEL_CFG)\n",
    "    model_cfg.enc_in = len(dataset.numeric_columns)\n",
    "    model_cfg.d_model = len(dataset.numeric_columns)\n",
    "    품목별_hyperparams[품목명] = model_cfg\n",
    "    model = HybridModel(model_cfg).to(CFG.device)\n",
    "\n",
    "    criterion = nn.HuberLoss() #nn.L1Loss()\n",
    "    optimizer = torch.optim.AdamW(model.parameters(), lr=CFG.learning_rate, weight_decay=CFG.weight_decay)\n",
    "    scheduler = torch.optim.lr_scheduler.ReduceLROnPlateau(optimizer, mode='min', factor=0.5, patience=50)\n",
    "    # scheduler = None\n",
    "\n",
    "    price_scaler = 품목별_scalers[품목명][dataset.price_column]\n",
    "    inverse_transform = lambda x: minmax_inverse_transform(x, price_scaler)\n",
    "    # inverse_transform = None\n",
    "\n",
    "    # train\n",
    "    best_model = train(\n",
    "        model, optimizer, train_loader, val_loader, CFG.epoch,\n",
    "        early_stopping=True, early_stopping_patience=200, early_stopping_verbose=False,\n",
    "        device=CFG.device, scheduler=scheduler, metric_period=100, \n",
    "        verbose=True, save_model_path=model_path,\n",
    "        inverse_transform=inverse_transform,\n",
    "    )\n",
    "\n",
    "    # scoring\n",
    "    true, pred = predict(best_model, train_loader, device='cpu', inverse_transform=inverse_transform)\n",
    "    train_nmae = nmae(true,pred)\n",
    "    true, pred = predict(best_model, val_loader, device='cpu', inverse_transform=inverse_transform)\n",
    "    val_nmae = nmae(true,pred)\n",
    "    trace_func(f'<Score> {train_nmae=:.4f}, {val_nmae=:.4f}')\n",
    "    trace_func('')\n",
    "\n",
    "    train_nmae_list.append(train_nmae)\n",
    "    val_nmae_list.append(val_nmae)"
   ]
  },
  {
   "cell_type": "code",
   "execution_count": 59,
   "metadata": {},
   "outputs": [
    {
     "data": {
      "text/plain": [
       "'train_nmae0.1040, val_nmae=0.1225'"
      ]
     },
     "execution_count": 59,
     "metadata": {},
     "output_type": "execute_result"
    }
   ],
   "source": [
    "f'train_nmae{np.mean(train_nmae_list):.4f}, val_nmae={np.mean(val_nmae_list):.4f}'"
   ]
  },
  {
   "cell_type": "code",
   "execution_count": 60,
   "metadata": {},
   "outputs": [],
   "source": [
    "with open('out/scalers.pkl', 'wb') as pickle_file:\n",
    "    pickle.dump(품목별_scalers, pickle_file)\n",
    "\n",
    "with open('out/delcols.pkl', 'wb') as pickle_file:\n",
    "    pickle.dump(품목별_delcols, pickle_file)\n",
    "\n",
    "with open('out/hyperparams.pkl', 'wb') as pickle_file:\n",
    "    pickle.dump(품목별_hyperparams, pickle_file)"
   ]
  },
  {
   "cell_type": "code",
   "execution_count": 61,
   "metadata": {},
   "outputs": [],
   "source": [
    "# true, pred = predict(best_model, train_loader, device='cpu', inverse_transform=inverse_transform)\n",
    "# print(criterion(torch.tensor(true), torch.tensor(pred)).item())\n",
    "# true[:5], pred[:5]"
   ]
  },
  {
   "cell_type": "markdown",
   "metadata": {},
   "source": [
    "# Inference"
   ]
  },
  {
   "cell_type": "code",
   "execution_count": 62,
   "metadata": {},
   "outputs": [],
   "source": [
    "with open('out/scalers.pkl', 'rb') as pickle_file:\n",
    "    품목별_scalers = pickle.load(pickle_file)\n",
    "\n",
    "with open('out/delcols.pkl', 'rb') as pickle_file:\n",
    "    품목별_delcols = pickle.load(pickle_file)\n",
    "\n",
    "with open('out/hyperparams.pkl', 'rb') as pickle_file:\n",
    "    품목별_hyperparams = pickle.load(pickle_file)"
   ]
  },
  {
   "cell_type": "code",
   "execution_count": 63,
   "metadata": {},
   "outputs": [
    {
     "name": "stdout",
     "output_type": "stream",
     "text": [
      "건고추 []\n",
      "사과 []\n",
      "감자 ['감자_20키로상자_하_평년 평균가격(원)', '감자_20키로상자_특_평년 평균가격(원)', '감자 조풍_20키로상자_중_평균가격(원)', '감자 조풍_20키로상자_특_평균가격(원)', '감자 수미(햇)_20키로상자_하_평년 평균가격(원)', '감자 두백_20키로상자_특_평년 평균가격(원)', '감자 조풍_20키로상자_하_평균가격(원)', '감자 조풍_20키로상자_하_평년 평균가격(원)', '감자 조풍_20키로상자_상_평균가격(원)', '감자 조풍_20키로상자_중_평년 평균가격(원)', '감자 두백_20키로상자_상_평년 평균가격(원)', '감자 수미(햇)_20키로상자_중_평년 평균가격(원)', '감자 수미(햇)_20키로상자_상_평년 평균가격(원)', '감자 두백_20키로상자_하_평년 평균가격(원)', '감자 수미(저장)_20키로상자_하_평년 평균가격(원)', '감자 조풍_20키로상자_상_평년 평균가격(원)', '감자 수입_23키로상자_상_평년 평균가격(원)', '홍감자_10키로상자_상_평년 평균가격(원)', '감자_20키로상자_중_평년 평균가격(원)', '감자 수미(햇)_20키로상자_특_평년 평균가격(원)', '홍감자_10키로상자_특_평년 평균가격(원)', '감자 수미(저장)_20키로상자_중_평년 평균가격(원)', '감자 수미(저장)_20키로상자_특_평년 평균가격(원)', '감자 수미(저장)_20키로상자_상_평년 평균가격(원)', '홍감자_10키로상자_중_평년 평균가격(원)', '감자_20키로상자_상_평년 평균가격(원)', '감자 두백_20키로상자_중_평년 평균가격(원)', '홍감자_10키로상자_하_평년 평균가격(원)', '감자 조풍_20키로상자_특_평년 평균가격(원)']\n",
      "배 ['공판장_등급코드']\n",
      "깐마늘(국산) ['깐마늘(국산)_20 kg_중품_평년 평균가격(원)', '평년 평균가격(원)']\n",
      "무 ['다발무_8톤트럭_하_평년 평균가격(원)', '다발무_5000키로_상_평년 평균가격(원)', '다발무_5000키로_하_평균가격(원)', '다발무_1000키로_하_평년 평균가격(원)', '열무_4키로상자_중_평년 평균가격(원)', '다발무_1000키로_중_평년 평균가격(원)', '다발무_8톤트럭_상_평년 평균가격(원)', '공판장_등급코드', '다발무_5000키로_특_평년 평균가격(원)', '무_20키로상자_하_평년 평균가격(원)', '다발무_8톤트럭_중_평년 평균가격(원)', '다발무_10키로_특_평년 평균가격(원)', '다발무_1000키로_중_평균가격(원)', '다발무_5000키로_하_평년 평균가격(원)', '평년 평균가격(원)', '다발무_1000키로_상_평균가격(원)', '다발무_1000키로_하_평균가격(원)', '다발무_1000키로_특_평년 평균가격(원)', '다발무_10키로_중_평년 평균가격(원)', '무_20키로상자_특_평년 평균가격(원)', '다발무_5000키로_특_평균가격(원)', '무_20키로상자_중_평년 평균가격(원)', '다발무_10키로_하_평년 평균가격(원)', '다발무_5000키로_상_평균가격(원)', '다발무_10키로_상_평년 평균가격(원)', '도매_평년 평균가격(원) Common Year SOON', '다발무_5000키로_중_평년 평균가격(원)', '다발무_1000키로_상_평년 평균가격(원)', '다발무_5000키로_중_평균가격(원)', '다발무_1000키로_특_평균가격(원)']\n",
      "상추 ['공판장_전달 평균가격(원) PreVious MMonth', '공판장_평년 평균가격(원) Common Year SOON', '공판장_전순 평균가격(원) PreVious SOON']\n",
      "배추 ['얼갈이배추_8키로상자_하_평년 평균가격(원)', '봄동배추_15키로상자_중_평년 평균가격(원)', '쌈배추_1키로상자_상_평년 평균가격(원)', '쌈배추_1키로상자_중_평년 평균가격(원)', '봄동배추_15키로상자_하_평년 평균가격(원)', '쌈배추_1키로상자_특_평년 평균가격(원)', '얼갈이배추_8키로상자_중_평년 평균가격(원)', '쌈배추_1키로상자_하_평년 평균가격(원)', '도매_평년 평균가격(원) Common Year SOON', '얼갈이배추_8키로상자_상_평년 평균가격(원)']\n",
      "양파 ['조생양파_12키로_중_평균가격(원)', '조생양파_15키로_상_평균가격(원)', '공판장_등급코드', '조생양파_12키로_하_평균가격(원)', '저장양파_12키로_중_평년 평균가격(원)', '저장양파_15키로_상_평년 평균가격(원)', '양파_15키로_하_평년 평균가격(원)', '저장양파_15키로_하_평년 평균가격(원)', '양파(햇)_12키로_특_평년 평균가격(원)', '저장양파_12키로_특_평년 평균가격(원)', '저장양파_20키로_하_평년 평균가격(원)', '양파(햇)_15키로_중_평년 평균가격(원)', '조생양파_15키로_중_평년 평균가격(원)', '조생양파_12키로_특_평균가격(원)', '양파(햇)_12키로_상_평년 평균가격(원)', '저장양파_15키로_특_평년 평균가격(원)', '조생양파_15키로_특_평년 평균가격(원)', '자주양파_1키로_중_평년 평균가격(원)', '양파(햇)_12키로_하_평년 평균가격(원)', '양파(햇)_15키로_상_평년 평균가격(원)', '조생양파_12키로_중_평년 평균가격(원)', '양파_10키로_특_평년 평균가격(원)', '양파(햇)_20키로_하_평년 평균가격(원)', '조생양파_12키로_특_평년 평균가격(원)', '양파(햇)_15키로_하_평년 평균가격(원)', '저장양파_20키로_상_평년 평균가격(원)', '자주양파_1키로_상_평년 평균가격(원)', '조생양파_12키로_하_평년 평균가격(원)', '양파_12키로_하_평년 평균가격(원)', '조생양파_15키로_하_평균가격(원)', '양파(햇)_20키로_특_평년 평균가격(원)', '양파(햇)_20키로_상_평년 평균가격(원)', '자주양파_1키로_특_평년 평균가격(원)', '저장양파_12키로_하_평년 평균가격(원)', '양파_10키로_상_평년 평균가격(원)', '저장양파_20키로_중_평년 평균가격(원)', '양파(햇)_12키로_중_평년 평균가격(원)', '저장양파_15키로_중_평년 평균가격(원)', '자주양파_1키로_하_평년 평균가격(원)', '양파_12키로_중_평년 평균가격(원)', '저장양파_12키로_상_평년 평균가격(원)', '조생양파_12키로_상_평년 평균가격(원)', '조생양파_15키로_특_평균가격(원)', '양파_10키로_하_평년 평균가격(원)', '양파(햇)_20키로_중_평년 평균가격(원)', '양파_15키로_중_평년 평균가격(원)', '양파_12키로_상_평년 평균가격(원)', '양파_15키로_상_평년 평균가격(원)', '양파 수입_1키로_특_평년 평균가격(원)', '양파_15키로_특_평년 평균가격(원)', '조생양파_12키로_상_평균가격(원)', '조생양파_15키로_중_평균가격(원)', '양파(햇)_15키로_특_평년 평균가격(원)', '조생양파_15키로_하_평년 평균가격(원)', '양파_12키로_특_평년 평균가격(원)', '저장양파_20키로_특_평년 평균가격(원)', '양파_10키로_중_평년 평균가격(원)', '조생양파_15키로_상_평년 평균가격(원)']\n",
      "대파 ['대파 수입_10키로상자_상_평년 평균가격(원)', '대파(일반)_10키로묶음_중_평균가격(원)', '대파(일반)_10키로묶음_상_평년 평균가격(원)', '대파(일반)_10키로묶음_특_평년 평균가격(원)', '대파(일반)_10키로묶음_특_평균가격(원)', '대파(일반)_10키로묶음_하_평년 평균가격(원)', '대파(일반)_10키로묶음_중_평년 평균가격(원)', '대파(일반)_10키로묶음_상_평균가격(원)', '대파(일반)_10키로묶음_하_평균가격(원)']\n"
     ]
    }
   ],
   "source": [
    "for k,v in 품목별_delcols.items():\n",
    "    print(k,v)"
   ]
  },
  {
   "cell_type": "code",
   "execution_count": 65,
   "metadata": {},
   "outputs": [
    {
     "data": {
      "application/vnd.jupyter.widget-view+json": {
       "model_id": "08b26223a4b64a08b90e1ada0b984ae6",
       "version_major": 2,
       "version_minor": 0
      },
      "text/plain": [
       "  0%|          | 0/10 [00:00<?, ?it/s]"
      ]
     },
     "metadata": {},
     "output_type": "display_data"
    },
    {
     "data": {
      "application/vnd.jupyter.widget-view+json": {
       "model_id": "3d56d84ef1974162a557b7ddb67c30a9",
       "version_major": 2,
       "version_minor": 0
      },
      "text/plain": [
       "테스트 파일 추론 중:   0%|          | 0/25 [00:00<?, ?it/s]"
      ]
     },
     "metadata": {},
     "output_type": "display_data"
    },
    {
     "data": {
      "application/vnd.jupyter.widget-view+json": {
       "model_id": "087da759b98b45da9f97e07b781fb0ff",
       "version_major": 2,
       "version_minor": 0
      },
      "text/plain": [
       "테스트 파일 추론 중:   0%|          | 0/25 [00:00<?, ?it/s]"
      ]
     },
     "metadata": {},
     "output_type": "display_data"
    },
    {
     "data": {
      "application/vnd.jupyter.widget-view+json": {
       "model_id": "656c0bc737154c0093a38822cdda16d4",
       "version_major": 2,
       "version_minor": 0
      },
      "text/plain": [
       "테스트 파일 추론 중:   0%|          | 0/25 [00:00<?, ?it/s]"
      ]
     },
     "metadata": {},
     "output_type": "display_data"
    },
    {
     "data": {
      "application/vnd.jupyter.widget-view+json": {
       "model_id": "8d136a23e6bb45bd92acfbdc43ad4860",
       "version_major": 2,
       "version_minor": 0
      },
      "text/plain": [
       "테스트 파일 추론 중:   0%|          | 0/25 [00:00<?, ?it/s]"
      ]
     },
     "metadata": {},
     "output_type": "display_data"
    },
    {
     "data": {
      "application/vnd.jupyter.widget-view+json": {
       "model_id": "07cd8e65ea574516be8d8e573249caeb",
       "version_major": 2,
       "version_minor": 0
      },
      "text/plain": [
       "테스트 파일 추론 중:   0%|          | 0/25 [00:00<?, ?it/s]"
      ]
     },
     "metadata": {},
     "output_type": "display_data"
    },
    {
     "data": {
      "application/vnd.jupyter.widget-view+json": {
       "model_id": "bca4e7e6b11d4e97bd645dcb85ccd943",
       "version_major": 2,
       "version_minor": 0
      },
      "text/plain": [
       "테스트 파일 추론 중:   0%|          | 0/25 [00:00<?, ?it/s]"
      ]
     },
     "metadata": {},
     "output_type": "display_data"
    },
    {
     "data": {
      "application/vnd.jupyter.widget-view+json": {
       "model_id": "4a6bab0a3b384889b2f69b4c0139cf53",
       "version_major": 2,
       "version_minor": 0
      },
      "text/plain": [
       "테스트 파일 추론 중:   0%|          | 0/25 [00:00<?, ?it/s]"
      ]
     },
     "metadata": {},
     "output_type": "display_data"
    },
    {
     "data": {
      "application/vnd.jupyter.widget-view+json": {
       "model_id": "8dcf75c82fd9403bafadbb866e16c611",
       "version_major": 2,
       "version_minor": 0
      },
      "text/plain": [
       "테스트 파일 추론 중:   0%|          | 0/25 [00:00<?, ?it/s]"
      ]
     },
     "metadata": {},
     "output_type": "display_data"
    },
    {
     "data": {
      "application/vnd.jupyter.widget-view+json": {
       "model_id": "7fd92ba755ad4405bcd712dea89dadbb",
       "version_major": 2,
       "version_minor": 0
      },
      "text/plain": [
       "테스트 파일 추론 중:   0%|          | 0/25 [00:00<?, ?it/s]"
      ]
     },
     "metadata": {},
     "output_type": "display_data"
    },
    {
     "data": {
      "application/vnd.jupyter.widget-view+json": {
       "model_id": "acf7d565fce248f6b7ef36e89241bd31",
       "version_major": 2,
       "version_minor": 0
      },
      "text/plain": [
       "테스트 파일 추론 중:   0%|          | 0/25 [00:00<?, ?it/s]"
      ]
     },
     "metadata": {},
     "output_type": "display_data"
    }
   ],
   "source": [
    "품목별_predictions = {}\n",
    "\n",
    "pbar_outer = tqdm(품목_리스트, position=0)\n",
    "for 품목명 in pbar_outer:\n",
    "    pbar_outer.set_description(품목명)\n",
    "    model_path = f'models/SegRNN_{품목명}.pth'\n",
    "\n",
    "    # define model\n",
    "    model = HybridModel(품목별_hyperparams[품목명]).to(CFG.device)\n",
    "    model.load_state_dict(torch.load(model_path))\n",
    "\n",
    "    # inference\n",
    "    품목_predictions = []\n",
    "    pbar_inner = tqdm(range(25), desc=\"테스트 파일 추론 중\", position=1, leave=False)\n",
    "    for i in pbar_inner:\n",
    "        test_file = f\"data/test/TEST_{i:02d}.csv\"\n",
    "        산지공판장_file = f\"data/test/meta/TEST_산지공판장_{i:02d}.csv\"\n",
    "        전국도매_file = f\"data/test/meta/TEST_전국도매_{i:02d}.csv\"\n",
    "\n",
    "        test_data, _ = process_data(test_file, 산지공판장_file, 전국도매_file, 품목명, scalers=품목별_scalers[품목명])\n",
    "        test_data.drop(품목별_delcols[품목명], axis=1, inplace=True)\n",
    "        test_dataset = AgriculturePriceDataset(test_data, is_test=True)\n",
    "        test_loader = DataLoader(test_dataset, batch_size=1, shuffle=False)\n",
    "\n",
    "        price_scaler = 품목별_scalers[품목명][test_dataset.price_column]\n",
    "        inverse_transform = lambda x: minmax_inverse_transform(x, price_scaler)\n",
    "\n",
    "        predictions = inference(model, test_loader, device='cpu', inverse_transform=inverse_transform)\n",
    "        predictions = np.concatenate(predictions)\n",
    "        \n",
    "        if np.isnan(predictions).any():\n",
    "            pbar_inner.set_postfix({\"상태\": \"NaN\"})\n",
    "            raise ValueError\n",
    "        else:\n",
    "            pbar_inner.set_postfix({\"상태\": \"정상\"})\n",
    "            품목_predictions.extend(predictions.flatten())\n",
    "\n",
    "    품목별_predictions[품목명] = 품목_predictions"
   ]
  },
  {
   "cell_type": "markdown",
   "metadata": {},
   "source": [
    "# Prepare Submission File"
   ]
  },
  {
   "cell_type": "code",
   "execution_count": 66,
   "metadata": {},
   "outputs": [],
   "source": [
    "sample_submission = pd.read_csv('data/sample_submission.csv')\n",
    "\n",
    "for 품목명, predictions in 품목별_predictions.items():\n",
    "    sample_submission[품목명] = predictions\n",
    "\n",
    "# 결과 저장\n",
    "save_path = 'out/baseline_submission_10.csv'\n",
    "sample_submission.to_csv(save_path, index=False)"
   ]
  },
  {
   "cell_type": "code",
   "execution_count": 67,
   "metadata": {},
   "outputs": [
    {
     "data": {
      "text/html": [
       "<div>\n",
       "<style scoped>\n",
       "    .dataframe tbody tr th:only-of-type {\n",
       "        vertical-align: middle;\n",
       "    }\n",
       "\n",
       "    .dataframe tbody tr th {\n",
       "        vertical-align: top;\n",
       "    }\n",
       "\n",
       "    .dataframe thead th {\n",
       "        text-align: right;\n",
       "    }\n",
       "</style>\n",
       "<table border=\"1\" class=\"dataframe\">\n",
       "  <thead>\n",
       "    <tr style=\"text-align: right;\">\n",
       "      <th></th>\n",
       "      <th>시점</th>\n",
       "      <th>감자</th>\n",
       "      <th>건고추</th>\n",
       "      <th>깐마늘(국산)</th>\n",
       "      <th>대파</th>\n",
       "      <th>무</th>\n",
       "      <th>배추</th>\n",
       "      <th>사과</th>\n",
       "      <th>상추</th>\n",
       "      <th>양파</th>\n",
       "      <th>배</th>\n",
       "    </tr>\n",
       "  </thead>\n",
       "  <tbody>\n",
       "    <tr>\n",
       "      <th>0</th>\n",
       "      <td>TEST_00+1순</td>\n",
       "      <td>34741.003906</td>\n",
       "      <td>604604.3125</td>\n",
       "      <td>150729.281250</td>\n",
       "      <td>1749.838745</td>\n",
       "      <td>18045.238281</td>\n",
       "      <td>7078.143555</td>\n",
       "      <td>28408.054688</td>\n",
       "      <td>893.825684</td>\n",
       "      <td>807.304321</td>\n",
       "      <td>32243.892578</td>\n",
       "    </tr>\n",
       "    <tr>\n",
       "      <th>1</th>\n",
       "      <td>TEST_00+2순</td>\n",
       "      <td>34510.605469</td>\n",
       "      <td>600283.8750</td>\n",
       "      <td>150207.234375</td>\n",
       "      <td>1668.596436</td>\n",
       "      <td>18248.822266</td>\n",
       "      <td>6616.916504</td>\n",
       "      <td>27970.707031</td>\n",
       "      <td>889.420776</td>\n",
       "      <td>796.488586</td>\n",
       "      <td>32448.234375</td>\n",
       "    </tr>\n",
       "    <tr>\n",
       "      <th>2</th>\n",
       "      <td>TEST_00+3순</td>\n",
       "      <td>35273.070312</td>\n",
       "      <td>597951.5625</td>\n",
       "      <td>151307.546875</td>\n",
       "      <td>1671.995361</td>\n",
       "      <td>17025.382812</td>\n",
       "      <td>6196.718262</td>\n",
       "      <td>27383.265625</td>\n",
       "      <td>890.530090</td>\n",
       "      <td>834.579590</td>\n",
       "      <td>32723.357422</td>\n",
       "    </tr>\n",
       "    <tr>\n",
       "      <th>3</th>\n",
       "      <td>TEST_01+1순</td>\n",
       "      <td>37457.417969</td>\n",
       "      <td>614541.4375</td>\n",
       "      <td>149603.078125</td>\n",
       "      <td>1743.114258</td>\n",
       "      <td>11060.373047</td>\n",
       "      <td>4367.310547</td>\n",
       "      <td>27156.558594</td>\n",
       "      <td>765.120728</td>\n",
       "      <td>830.697876</td>\n",
       "      <td>30774.453125</td>\n",
       "    </tr>\n",
       "    <tr>\n",
       "      <th>4</th>\n",
       "      <td>TEST_01+2순</td>\n",
       "      <td>38865.546875</td>\n",
       "      <td>619074.3750</td>\n",
       "      <td>150986.234375</td>\n",
       "      <td>1760.779419</td>\n",
       "      <td>11915.919922</td>\n",
       "      <td>4217.627930</td>\n",
       "      <td>27203.216797</td>\n",
       "      <td>737.741150</td>\n",
       "      <td>854.830505</td>\n",
       "      <td>30725.037109</td>\n",
       "    </tr>\n",
       "    <tr>\n",
       "      <th>...</th>\n",
       "      <td>...</td>\n",
       "      <td>...</td>\n",
       "      <td>...</td>\n",
       "      <td>...</td>\n",
       "      <td>...</td>\n",
       "      <td>...</td>\n",
       "      <td>...</td>\n",
       "      <td>...</td>\n",
       "      <td>...</td>\n",
       "      <td>...</td>\n",
       "      <td>...</td>\n",
       "    </tr>\n",
       "    <tr>\n",
       "      <th>70</th>\n",
       "      <td>TEST_23+2순</td>\n",
       "      <td>47872.234375</td>\n",
       "      <td>609921.8750</td>\n",
       "      <td>146713.390625</td>\n",
       "      <td>1733.535889</td>\n",
       "      <td>9026.418945</td>\n",
       "      <td>3477.584717</td>\n",
       "      <td>27211.468750</td>\n",
       "      <td>794.109741</td>\n",
       "      <td>958.004944</td>\n",
       "      <td>30503.724609</td>\n",
       "    </tr>\n",
       "    <tr>\n",
       "      <th>71</th>\n",
       "      <td>TEST_23+3순</td>\n",
       "      <td>48489.238281</td>\n",
       "      <td>603264.6875</td>\n",
       "      <td>146164.968750</td>\n",
       "      <td>1663.445435</td>\n",
       "      <td>8414.891602</td>\n",
       "      <td>3203.442139</td>\n",
       "      <td>26823.939453</td>\n",
       "      <td>804.826355</td>\n",
       "      <td>995.410706</td>\n",
       "      <td>30632.523438</td>\n",
       "    </tr>\n",
       "    <tr>\n",
       "      <th>72</th>\n",
       "      <td>TEST_24+1순</td>\n",
       "      <td>36111.707031</td>\n",
       "      <td>552238.9375</td>\n",
       "      <td>146287.968750</td>\n",
       "      <td>1203.718628</td>\n",
       "      <td>11798.242188</td>\n",
       "      <td>5645.289551</td>\n",
       "      <td>29848.962891</td>\n",
       "      <td>947.564209</td>\n",
       "      <td>586.293701</td>\n",
       "      <td>37445.812500</td>\n",
       "    </tr>\n",
       "    <tr>\n",
       "      <th>73</th>\n",
       "      <td>TEST_24+2순</td>\n",
       "      <td>32080.130859</td>\n",
       "      <td>547748.0625</td>\n",
       "      <td>149603.656250</td>\n",
       "      <td>1195.292847</td>\n",
       "      <td>11903.993164</td>\n",
       "      <td>5198.101074</td>\n",
       "      <td>29938.226562</td>\n",
       "      <td>950.010742</td>\n",
       "      <td>614.853699</td>\n",
       "      <td>36850.277344</td>\n",
       "    </tr>\n",
       "    <tr>\n",
       "      <th>74</th>\n",
       "      <td>TEST_24+3순</td>\n",
       "      <td>29910.343750</td>\n",
       "      <td>548115.9375</td>\n",
       "      <td>147147.781250</td>\n",
       "      <td>1278.414917</td>\n",
       "      <td>11325.008789</td>\n",
       "      <td>5149.677734</td>\n",
       "      <td>29474.089844</td>\n",
       "      <td>959.635620</td>\n",
       "      <td>657.815613</td>\n",
       "      <td>37202.761719</td>\n",
       "    </tr>\n",
       "  </tbody>\n",
       "</table>\n",
       "<p>75 rows × 11 columns</p>\n",
       "</div>"
      ],
      "text/plain": [
       "            시점            감자          건고추        깐마늘(국산)           대파  \\\n",
       "0   TEST_00+1순  34741.003906  604604.3125  150729.281250  1749.838745   \n",
       "1   TEST_00+2순  34510.605469  600283.8750  150207.234375  1668.596436   \n",
       "2   TEST_00+3순  35273.070312  597951.5625  151307.546875  1671.995361   \n",
       "3   TEST_01+1순  37457.417969  614541.4375  149603.078125  1743.114258   \n",
       "4   TEST_01+2순  38865.546875  619074.3750  150986.234375  1760.779419   \n",
       "..         ...           ...          ...            ...          ...   \n",
       "70  TEST_23+2순  47872.234375  609921.8750  146713.390625  1733.535889   \n",
       "71  TEST_23+3순  48489.238281  603264.6875  146164.968750  1663.445435   \n",
       "72  TEST_24+1순  36111.707031  552238.9375  146287.968750  1203.718628   \n",
       "73  TEST_24+2순  32080.130859  547748.0625  149603.656250  1195.292847   \n",
       "74  TEST_24+3순  29910.343750  548115.9375  147147.781250  1278.414917   \n",
       "\n",
       "               무           배추            사과          상추          양파  \\\n",
       "0   18045.238281  7078.143555  28408.054688  893.825684  807.304321   \n",
       "1   18248.822266  6616.916504  27970.707031  889.420776  796.488586   \n",
       "2   17025.382812  6196.718262  27383.265625  890.530090  834.579590   \n",
       "3   11060.373047  4367.310547  27156.558594  765.120728  830.697876   \n",
       "4   11915.919922  4217.627930  27203.216797  737.741150  854.830505   \n",
       "..           ...          ...           ...         ...         ...   \n",
       "70   9026.418945  3477.584717  27211.468750  794.109741  958.004944   \n",
       "71   8414.891602  3203.442139  26823.939453  804.826355  995.410706   \n",
       "72  11798.242188  5645.289551  29848.962891  947.564209  586.293701   \n",
       "73  11903.993164  5198.101074  29938.226562  950.010742  614.853699   \n",
       "74  11325.008789  5149.677734  29474.089844  959.635620  657.815613   \n",
       "\n",
       "               배  \n",
       "0   32243.892578  \n",
       "1   32448.234375  \n",
       "2   32723.357422  \n",
       "3   30774.453125  \n",
       "4   30725.037109  \n",
       "..           ...  \n",
       "70  30503.724609  \n",
       "71  30632.523438  \n",
       "72  37445.812500  \n",
       "73  36850.277344  \n",
       "74  37202.761719  \n",
       "\n",
       "[75 rows x 11 columns]"
      ]
     },
     "execution_count": 67,
     "metadata": {},
     "output_type": "execute_result"
    }
   ],
   "source": [
    "sample_submission"
   ]
  },
  {
   "cell_type": "code",
   "execution_count": null,
   "metadata": {},
   "outputs": [],
   "source": [
    "tmp = pd.read_csv('data/train/train.csv')\n",
    "tmp.groupby('품목명')['평균가격(원)'].describe().astype(int)"
   ]
  },
  {
   "cell_type": "code",
   "execution_count": null,
   "metadata": {},
   "outputs": [],
   "source": [
    "import matplotlib.pyplot as plt\n",
    "import pandas as pd\n",
    "pd.set_option(\"display.max_rows\", None)\n",
    "pd.set_option(\"display.max_columns\", None)"
   ]
  },
  {
   "cell_type": "code",
   "execution_count": null,
   "metadata": {},
   "outputs": [],
   "source": [
    "품목명 = '무'\n",
    "train_data, scaler = process_data(\"data/train/train.csv\", \"data/train/meta/TRAIN_산지공판장_2018-2021.csv\", \"data/train/meta/TRAIN_전국도매_2018-2021.csv\", 품목명)\n",
    "scaler = 품목별_scalers[품목명]['평균가격(원)']\n",
    "tmp = minmax_inverse_transform(train_data['평균가격(원)'], scaler, is_train=False)\n",
    "tmp.max()"
   ]
  },
  {
   "cell_type": "code",
   "execution_count": null,
   "metadata": {},
   "outputs": [],
   "source": [
    "tmp.describe()"
   ]
  },
  {
   "cell_type": "code",
   "execution_count": null,
   "metadata": {},
   "outputs": [],
   "source": [
    "i=0\n",
    "\n",
    "test_file = f\"data/test/TEST_{i:02d}.csv\"\n",
    "산지공판장_file = f\"data/test/meta/TEST_산지공판장_{i:02d}.csv\"\n",
    "전국도매_file = f\"data/test/meta/TEST_전국도매_{i:02d}.csv\"\n",
    "\n",
    "test_data, _ = process_data(test_file, 산지공판장_file, 전국도매_file, 품목명, scalers=품목별_scalers[품목명])"
   ]
  },
  {
   "cell_type": "code",
   "execution_count": null,
   "metadata": {},
   "outputs": [],
   "source": [
    "test_data.describe()"
   ]
  },
  {
   "cell_type": "code",
   "execution_count": null,
   "metadata": {},
   "outputs": [],
   "source": [
    "train_df = pd.read_csv('data/train/train.csv')\n",
    "t = train_df[train_df['품목명']==품목명]\n",
    "t['평균가격(원)'].describe().astype(int)\n",
    "\n",
    "# plt.hist(t['평균가격(원)'], bins=50)\n",
    "# plt.yscale('log')\n",
    "\n",
    "plt.boxplot(t['평균가격(원)'])\n",
    "plt.show()\n",
    "plt.boxplot(np.log1p(t['평균가격(원)']))\n",
    "plt.show()"
   ]
  },
  {
   "cell_type": "code",
   "execution_count": null,
   "metadata": {},
   "outputs": [],
   "source": [
    "t[t['평균가격(원)']>10000000]\n",
    "t.groupby('거래단위')['평균가격(원)'].mean().astype(int)"
   ]
  },
  {
   "cell_type": "code",
   "execution_count": null,
   "metadata": {},
   "outputs": [],
   "source": [
    "tt = pd.read_csv('data/sample_submission.csv')\n",
    "tt"
   ]
  },
  {
   "cell_type": "code",
   "execution_count": null,
   "metadata": {},
   "outputs": [],
   "source": [
    "# sample_submission = pd.read_csv('out/baseline_submission.csv')\n",
    "# sample_submission.head()"
   ]
  }
 ],
 "metadata": {
  "kernelspec": {
   "display_name": ".venv",
   "language": "python",
   "name": "python3"
  },
  "language_info": {
   "codemirror_mode": {
    "name": "ipython",
    "version": 3
   },
   "file_extension": ".py",
   "mimetype": "text/x-python",
   "name": "python",
   "nbconvert_exporter": "python",
   "pygments_lexer": "ipython3",
   "version": "3.12.4"
  }
 },
 "nbformat": 4,
 "nbformat_minor": 2
}
