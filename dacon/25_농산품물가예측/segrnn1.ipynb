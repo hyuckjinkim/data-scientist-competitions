{
 "cells": [
  {
   "cell_type": "markdown",
   "metadata": {},
   "source": [
    "# 농산물 가격 예측을 위한 AI 모델 개발 \n",
    "- '2024 농산물 가격 예측 AI 경진대회'는 데이터와 AI 기술을 활용하여 농산물 가격 예측 능력을 향상시키는 것을 목표로 합니다.<br>  이 대회는 농업 분야의 복잡한 시계열 데이터를 효율적으로 분석하고 예측할 수 있는 AI 알고리즘 개발에 초점을 맞추고 있습니다. <br> <br>\n",
    "- 이 대회의 궁극적 목적은 참가자들의 시계열 데이터 분석 및 예측 역량을 강화하고, <br> AI 기술이 실제 농산물 가격 예측과 관련 정책 결정에 어떻게 기여할 수 있는지 탐구하는 것입니다. "
   ]
  },
  {
   "cell_type": "markdown",
   "metadata": {},
   "source": [
    "# Import Library"
   ]
  },
  {
   "cell_type": "code",
   "execution_count": 1,
   "metadata": {},
   "outputs": [],
   "source": [
    "import sys\n",
    "lib_dir = \"g:/My Drive/Storage/Github/hyuckjinkim\"\n",
    "sys.path.append(lib_dir)\n",
    "\n",
    "from lib.python.graph import MatplotlibFontManager\n",
    "fm = MatplotlibFontManager()\n",
    "fm.set_korean_font(check=False)\n",
    "\n",
    "from lib.python.torch import seed_everything\n",
    "from lib.python.torch.build_model import train, predict\n",
    "from lib.python.log import get_logger\n",
    "\n",
    "seed_everything(42)"
   ]
  },
  {
   "cell_type": "code",
   "execution_count": 2,
   "metadata": {},
   "outputs": [],
   "source": [
    "# import pandas as pd\n",
    "# pd.set_option(\"display.max_rows\", None)\n",
    "# pd.set_option(\"display.max_columns\", None)\n",
    "\n",
    "# train_df = pd.read_csv('data/train/train.csv')\n",
    "\n",
    "# train_meta1_df = pd.read_csv('data/train/meta/TRAIN_산지공판장_2018-2021.csv')\n",
    "# train_meta1_df.drop(['품목코드','품종코드','공판장코드'], axis=1, inplace=True)\n",
    "\n",
    "# train_meta2_df = pd.read_csv('data/train/meta/TRAIN_전국도매_2018-2021.csv')\n",
    "# train_meta2_df.drop(['품목코드','품종코드','시장코드']  , axis=1, inplace=True)\n",
    "\n",
    "# train_df.head(2) # ['평년 평균가격(원)','평균가격(원)']\n",
    "# train_meta1_df.head(2)\n",
    "# train_meta2_df.head(2)"
   ]
  },
  {
   "cell_type": "code",
   "execution_count": 3,
   "metadata": {},
   "outputs": [],
   "source": [
    "import os\n",
    "import pandas as pd\n",
    "import numpy as np\n",
    "from tqdm.notebook import tqdm\n",
    "from types import SimpleNamespace\n",
    "from copy import deepcopy\n",
    "import pickle\n",
    "import gc\n",
    "gc.collect()\n",
    "\n",
    "from sklearn.preprocessing import MinMaxScaler\n",
    "from sklearn.model_selection import train_test_split\n",
    "\n",
    "import torch\n",
    "import torch.nn as nn\n",
    "import torch.nn.functional as F\n",
    "from torch.utils.data import Dataset, DataLoader"
   ]
  },
  {
   "cell_type": "markdown",
   "metadata": {},
   "source": [
    "# Hyperparameter Setting"
   ]
  },
  {
   "cell_type": "markdown",
   "metadata": {},
   "source": [
    "# Define Function for Feature Engineering\n",
    "- 타겟의 필터 조건을 제외한 메타데이터의 필터 조건은 참가자들 각자의 기준에 맞춰 자유롭게 사용가능 \n",
    "- 밑의 필터 조건은 임의로 제공하는 예시"
   ]
  },
  {
   "cell_type": "code",
   "execution_count": 4,
   "metadata": {},
   "outputs": [],
   "source": [
    "def year_convert(data):\n",
    "    data['연도'] -= 2018\n",
    "\n",
    "    offset = 0.1\n",
    "    map_dict = {'상순':offset, '중순':offset+1/3, '하순':offset+2/3}\n",
    "    data['연도'] += data['시점'].str.extract(r'(상순|중순|하순)')[0].map(map_dict)\n",
    "    \n",
    "    return data\n",
    "\n",
    "def process_data(raw_file, 산지공판장_file, 전국도매_file, 품목명, scalers=None):\n",
    "    raw_data = pd.read_csv(raw_file)\n",
    "    산지공판장 = pd.read_csv(산지공판장_file)\n",
    "    전국도매 = pd.read_csv(전국도매_file)\n",
    "\n",
    "    # 품목코드, 품종코드, 공판장코드, 시장코드 제거\n",
    "    산지공판장.drop(['품목코드','품종코드','공판장코드'], axis=1, inplace=True)\n",
    "    전국도매  .drop(['품목코드','품종코드','시장코드']  , axis=1, inplace=True)\n",
    "\n",
    "    # 연도에 상/중/하순에 대한 정보도 추가\n",
    "    산지공판장 = year_convert(산지공판장)\n",
    "    전국도매 = year_convert(전국도매)\n",
    "\n",
    "    # 이상값(0이하) 처리\n",
    "    for col in ['전순 평균가격(원) PreVious SOON', '전달 평균가격(원) PreVious MMonth', '전년 평균가격(원) PreVious YeaR']:\n",
    "        loc = 전국도매[col] < 0\n",
    "        전국도매.loc[loc,col] = 0\n",
    "\n",
    "    # log변환\n",
    "    raw_cols = ['평년 평균가격(원)', '평균가격(원)']\n",
    "    산지공판장_cols =  ['총반입량(kg)', '총거래금액(원)', '평균가(원/kg)', '중간가(원/kg)', '최저가(원/kg)', '최고가(원/kg)', '경매 건수', \n",
    "                       '전순 평균가격(원) PreVious SOON', '전달 평균가격(원) PreVious MMonth', '전년 평균가격(원) PreVious YeaR', '평년 평균가격(원) Common Year SOON']\n",
    "    전국도매_cols = ['총반입량(kg)', '총거래금액(원)', '평균가(원/kg)', '고가(20%) 평균가', '중가(60%) 평균가 ', '저가(20%) 평균가', '중간가(원/kg)', '최저가(원/kg)',\n",
    "                    '최고가(원/kg)', '경매 건수', '전순 평균가격(원) PreVious SOON', '전달 평균가격(원) PreVious MMonth', '전년 평균가격(원) PreVious YeaR', '평년 평균가격(원) Common Year SOON']\n",
    "    for col in raw_cols: raw_data[col] = np.log1p(raw_data[col])\n",
    "    for col in 산지공판장_cols: 산지공판장[col] = np.log1p(산지공판장[col])\n",
    "    for col in 전국도매_cols: 전국도매[col] = np.log1p(전국도매[col])\n",
    "\n",
    "    # 타겟 및 메타데이터 필터 조건 정의\n",
    "    conditions = {\n",
    "    '감자': {\n",
    "        'target': lambda df: (df['품종명'] == '감자 수미') & (df['거래단위'] == '20키로상자') & (df['등급'] == '상'),\n",
    "        '공판장': {'공판장명': ['*전국농협공판장'], '품목명': ['감자'], '품종명': ['수미'], '등급명': ['상']},\n",
    "        '도매': {'시장명': ['*전국도매시장'], '품목명': ['감자'], '품종명': ['수미']}\n",
    "    },\n",
    "    '건고추': {\n",
    "        'target': lambda df: (df['품종명'] == '화건') & (df['거래단위'] == '30 kg') & (df['등급'] == '상품'),\n",
    "        '공판장': None, \n",
    "        '도매': None  \n",
    "    },\n",
    "    '깐마늘(국산)': {\n",
    "        'target': lambda df: (df['거래단위'] == '20 kg') & (df['등급'] == '상품'),\n",
    "        '공판장': {'공판장명': ['*전국농협공판장'], '품목명': ['마늘'], '품종명': ['깐마늘'], '등급명': ['상']},\n",
    "        '도매': {'시장명': ['*전국도매시장'], '품목명': ['마늘'], '품종명': ['깐마늘']}\n",
    "    },\n",
    "    '대파': {\n",
    "        'target': lambda df: (df['품종명'] == '대파(일반)') & (df['거래단위'] == '1키로단') & (df['등급'] == '상'),\n",
    "        '공판장': {'공판장명': ['*전국농협공판장'], '품목명': ['대파'], '품종명': ['대파(일반)'], '등급명': ['상']},\n",
    "        '도매': {'시장명': ['*전국도매시장'], '품목명': ['대파'], '품종명': ['대파(일반)']}\n",
    "    },\n",
    "    '무': {\n",
    "        'target': lambda df: (df['거래단위'] == '20키로상자') & (df['등급'] == '상'),\n",
    "        '공판장': {'공판장명': ['*전국농협공판장'], '품목명': ['무'], '품종명': ['기타무'], '등급명': ['상']},\n",
    "        '도매': {'시장명': ['*전국도매시장'], '품목명': ['무'], '품종명': ['무']}\n",
    "    },\n",
    "    '배추': {\n",
    "        'target': lambda df: (df['거래단위'] == '10키로망대') & (df['등급'] == '상'),\n",
    "        '공판장': {'공판장명': ['*전국농협공판장'], '품목명': ['배추'], '품종명': ['쌈배추'], '등급명': ['상']},\n",
    "        '도매': {'시장명': ['*전국도매시장'], '품목명': ['배추'], '품종명': ['배추']}\n",
    "    },\n",
    "    '사과': {\n",
    "        'target': lambda df: (df['품종명'].isin(['홍로', '후지'])) & (df['거래단위'] == '10 개') & (df['등급'] == '상품'),\n",
    "        '공판장': {'공판장명': ['*전국농협공판장'], '품목명': ['사과'], '품종명': ['후지'], '등급명': ['상']},\n",
    "        '도매': {'시장명': ['*전국도매시장'], '품목명': ['사과'], '품종명': ['후지']}\n",
    "    },\n",
    "    '상추': {\n",
    "        'target': lambda df: (df['품종명'] == '청') & (df['거래단위'] == '100 g') & (df['등급'] == '상품'),\n",
    "        '공판장': {'공판장명': ['*전국농협공판장'], '품목명': ['상추'], '품종명': ['청상추'], '등급명': ['상']},\n",
    "        '도매': {'시장명': ['*전국도매시장'], '품목명': ['상추'], '품종명': ['청상추']}\n",
    "    },\n",
    "    '양파': {\n",
    "        'target': lambda df: (df['품종명'] == '양파') & (df['거래단위'] == '1키로') & (df['등급'] == '상'),\n",
    "        '공판장': {'공판장명': ['*전국농협공판장'], '품목명': ['양파'], '품종명': ['기타양파'], '등급명': ['상']},\n",
    "        '도매': {'시장명': ['*전국도매시장'], '품목명': ['양파'], '품종명': ['양파(일반)']}\n",
    "    },\n",
    "    '배': {\n",
    "        'target': lambda df: (df['품종명'] == '신고') & (df['거래단위'] == '10 개') & (df['등급'] == '상품'),\n",
    "        '공판장': {'공판장명': ['*전국농협공판장'], '품목명': ['배'], '품종명': ['신고'], '등급명': ['상']},\n",
    "        '도매': {'시장명': ['*전국도매시장'], '품목명': ['배'], '품종명': ['신고']}\n",
    "    }\n",
    "    }\n",
    "\n",
    "    # 타겟 데이터 필터링\n",
    "    raw_품목 = raw_data[raw_data['품목명'] == 품목명]\n",
    "    target_mask = conditions[품목명]['target'](raw_품목)\n",
    "    filtered_data = raw_품목[target_mask]\n",
    "\n",
    "    # 다른 품종에 대한 파생변수 생성\n",
    "    other_data = raw_품목[~target_mask]\n",
    "    unique_combinations = other_data[['품종명', '거래단위', '등급']].drop_duplicates()\n",
    "    for _, row in unique_combinations.iterrows():\n",
    "        품종명, 거래단위, 등급 = row['품종명'], row['거래단위'], row['등급']\n",
    "        mask = (other_data['품종명'] == 품종명) & (other_data['거래단위'] == 거래단위) & (other_data['등급'] == 등급)\n",
    "        temp_df = other_data[mask]\n",
    "        for col in ['평년 평균가격(원)', '평균가격(원)']:\n",
    "            new_col_name = f'{품종명}_{거래단위}_{등급}_{col}'\n",
    "            filtered_data = filtered_data.merge(temp_df[['시점', col]], on='시점', how='left', suffixes=('', f'_{new_col_name}'))\n",
    "            filtered_data.rename(columns={f'{col}_{new_col_name}': new_col_name}, inplace=True)\n",
    "\n",
    "    # 공판장 데이터 처리\n",
    "    if conditions[품목명]['공판장']:\n",
    "        filtered_공판장 = 산지공판장\n",
    "        for key, value in conditions[품목명]['공판장'].items():\n",
    "            filtered_공판장 = filtered_공판장[filtered_공판장[key].isin(value)]\n",
    "        \n",
    "        filtered_공판장 = filtered_공판장.add_prefix('공판장_').rename(columns={'공판장_시점': '시점'})\n",
    "        filtered_data = filtered_data.merge(filtered_공판장, on='시점', how='left')\n",
    "\n",
    "    # 도매 데이터 처리\n",
    "    if conditions[품목명]['도매']:\n",
    "        filtered_도매 = 전국도매\n",
    "        for key, value in conditions[품목명]['도매'].items():\n",
    "            filtered_도매 = filtered_도매[filtered_도매[key].isin(value)]\n",
    "        \n",
    "        filtered_도매 = filtered_도매.add_prefix('도매_').rename(columns={'도매_시점': '시점'})\n",
    "        filtered_data = filtered_data.merge(filtered_도매, on='시점', how='left')\n",
    "\n",
    "    # 수치형 컬럼 처리\n",
    "    numeric_columns = filtered_data.select_dtypes(include=[np.number]).columns\n",
    "    filtered_data = filtered_data[['시점'] + list(numeric_columns)]\n",
    "    filtered_data[numeric_columns] = filtered_data[numeric_columns].fillna(0)\n",
    "\n",
    "    # 정규화 적용\n",
    "    if scalers is None:\n",
    "        scalers = {}\n",
    "        for col in numeric_columns:\n",
    "            scaler = MinMaxScaler()\n",
    "            filtered_data[col] = scaler.fit_transform(filtered_data[col].values.reshape(-1,1))\n",
    "            scalers[col] = scaler\n",
    "    else:\n",
    "        for col in numeric_columns:\n",
    "            scaler = scalers[col]\n",
    "            filtered_data[col] = scaler.transform(filtered_data[col].values.reshape(-1,1))\n",
    "\n",
    "    return filtered_data, scalers\n"
   ]
  },
  {
   "cell_type": "markdown",
   "metadata": {},
   "source": [
    "# Define Custom Dataset Class"
   ]
  },
  {
   "cell_type": "code",
   "execution_count": 5,
   "metadata": {},
   "outputs": [],
   "source": [
    "class AgriculturePriceDataset(Dataset):\n",
    "    def __init__(self, dataframe, window_size=9, prediction_length=3, is_test=False):\n",
    "        self.data = dataframe\n",
    "        self.window_size = window_size\n",
    "        self.prediction_length = prediction_length\n",
    "        self.is_test = is_test\n",
    "        \n",
    "        self.price_column = '평균가격(원)'\n",
    "        self.numeric_columns = self.data.select_dtypes(include=[np.number]).columns.tolist()\n",
    "\n",
    "        self.sequences = []\n",
    "        if not self.is_test:\n",
    "            for i in range(len(self.data) - self.window_size - self.prediction_length + 1):\n",
    "                x = self.data[self.numeric_columns].iloc[i:i+self.window_size].values\n",
    "                y = self.data[self.price_column].iloc[i+self.window_size:i+self.window_size+self.prediction_length].values\n",
    "                self.sequences.append((x, y))\n",
    "        else:\n",
    "            self.sequences = [self.data[self.numeric_columns].values]\n",
    "    \n",
    "    def __len__(self):\n",
    "        return len(self.sequences)\n",
    "    \n",
    "    def __getitem__(self, idx):\n",
    "        if not self.is_test:\n",
    "            x, y = self.sequences[idx]\n",
    "            return torch.FloatTensor(x), torch.FloatTensor(y)\n",
    "        else:\n",
    "            return torch.FloatTensor(self.sequences[idx])"
   ]
  },
  {
   "cell_type": "markdown",
   "metadata": {},
   "source": [
    "# Define Model Architecture and Training Functions"
   ]
  },
  {
   "cell_type": "code",
   "execution_count": 6,
   "metadata": {},
   "outputs": [],
   "source": [
    "# https://github.com/lss-1138/SegRNN/blob/main/models/SegRNN.py\n",
    "from lib.python.torch.models.SegRNN import Model\n",
    "\n",
    "class SegRNN(nn.Module):\n",
    "    def __init__(self, config):\n",
    "        super().__init__()\n",
    "        self.d_model = config.d_model\n",
    "        self.dropout = config.dropout\n",
    "        \n",
    "        self.segrnn_layer = Model(config)\n",
    "        self.fc = nn.Linear(self.d_model, 1)\n",
    "\n",
    "        self.layernorm = nn.LayerNorm(self.d_model)\n",
    "        self.dropout = nn.Dropout(self.dropout)\n",
    "\n",
    "    def forward(self, x):\n",
    "        x = self.segrnn_layer(x)\n",
    "        x = self.layernorm(x)\n",
    "        x = self.dropout(x)\n",
    "        x = self.fc(x)\n",
    "        x = x.squeeze(-1)\n",
    "        return x\n",
    "\n",
    "    # def forward(self, x):\n",
    "    #     x = self.segrnn_layer(x)\n",
    "    #     x = x.mean(dim=2)\n",
    "    #     return x"
   ]
  },
  {
   "cell_type": "markdown",
   "metadata": {},
   "source": [
    "# Train Models and Generate Predictions"
   ]
  },
  {
   "cell_type": "code",
   "execution_count": 7,
   "metadata": {},
   "outputs": [],
   "source": [
    "def nmae(true,pred):\n",
    "    true, pred = np.array(true), np.array(pred)\n",
    "    return np.mean(np.abs(true - pred) / true)\n",
    "\n",
    "def minmax_inverse_transform(x, scaler, is_train=True):\n",
    "    origin = scaler.data_min_[0] + x * (scaler.data_max_[0] - scaler.data_min_[0])\n",
    "    origin = torch.expm1(origin) if is_train else np.expm1(origin)\n",
    "    return origin\n",
    "\n",
    "def variance_threshold_select(data, threshold=0.01, ignore_features=list()):\n",
    "    cols = data.select_dtypes(include=[np.number]).columns\n",
    "    cols = list(set(cols)-set(ignore_features))\n",
    "\n",
    "    del_features = []\n",
    "    for col in cols:\n",
    "        variance = train_data[col].std()**2\n",
    "        if variance<threshold:\n",
    "            del_features.append(col)\n",
    "    \n",
    "    return del_features"
   ]
  },
  {
   "cell_type": "code",
   "execution_count": 8,
   "metadata": {},
   "outputs": [],
   "source": [
    "def predict(best_model, loader, device, inverse_transform):\n",
    "    best_model.to(device)\n",
    "    best_model.eval()\n",
    "    \n",
    "    true_list = []\n",
    "    pred_list = []\n",
    "    with torch.no_grad():\n",
    "        for data,label in loader:\n",
    "            data = data.float().to(device)\n",
    "\n",
    "            output = best_model(data)\n",
    "            output = inverse_transform(output)\n",
    "            output = output.cpu().numpy().tolist()\n",
    "\n",
    "            label  = inverse_transform(label)\n",
    "            label = label.cpu().numpy().tolist()\n",
    "\n",
    "            true_list += label\n",
    "            pred_list += output\n",
    "\n",
    "    return true_list, pred_list\n",
    "\n",
    "def inference(best_model, loader, device, inverse_transform):\n",
    "    best_model.to(device)\n",
    "    best_model.eval()\n",
    "    \n",
    "    true_list = []\n",
    "    pred_list = []\n",
    "    with torch.no_grad():\n",
    "        for data in loader:\n",
    "            data = data.float().to(device)\n",
    "\n",
    "            output = best_model(data)\n",
    "            output = inverse_transform(output)\n",
    "            output = output.cpu().numpy().tolist()\n",
    "\n",
    "            pred_list += output\n",
    "\n",
    "    return pred_list"
   ]
  },
  {
   "cell_type": "code",
   "execution_count": 16,
   "metadata": {},
   "outputs": [],
   "source": [
    "config = {\n",
    "    \"learning_rate\": 5e-4, #0.001,\n",
    "    \"epoch\": 10_000,\n",
    "    \"batch_size\": 64,\n",
    "    \"output_size\": 3,\n",
    "    \"weight_decay\": 5e-3,\n",
    "    \"test_size\": 0.2,\n",
    "    \"seed\": 42,\n",
    "    \"threshold\": 0.005,\n",
    "    \"device\": 'cpu',\n",
    "}\n",
    "\n",
    "model_config = {\n",
    "    \"seq_len\": 9,\n",
    "    \"pred_len\": 3,\n",
    "    \"dropout\": 0.5,\n",
    "    \"rnn_type\": 'rnn', # rnn, gru, lstm\n",
    "    \"dec_way\": 'pmf',  # rmf, pmf\n",
    "    \"seg_len\": 3,\n",
    "    \"channel_id\": False,\n",
    "    \"revin\": True,\n",
    "}\n",
    "\n",
    "CFG = SimpleNamespace(**config)\n",
    "MODEL_CFG = SimpleNamespace(**model_config)\n",
    "품목_리스트 = ['건고추', '사과', '감자', '배', '깐마늘(국산)', '무', '상추', '배추', '양파', '대파']"
   ]
  },
  {
   "cell_type": "code",
   "execution_count": 17,
   "metadata": {},
   "outputs": [
    {
     "name": "stdout",
     "output_type": "stream",
     "text": [
      "\n",
      "======================================================================================================================================================\n",
      "> [01/10] 건고추\n",
      "======================================================================================================================================================\n",
      "\n",
      "*[00100/10000] tr_loss: 156693.1094, val_loss: 67866.3828, best: 67866.3828(100), elapsed: 11.3s, total: 11.3s, remaining: 1117.5s\n",
      "*[00200/10000] tr_loss: 111550.8203, val_loss: 50427.1914, best: 50427.1914(200), elapsed: 15.0s, total: 26.4s, remaining: 1472.4s\n",
      " [00300/10000] tr_loss: 85199.3438, val_loss: 44350.7734, best: 44284.9336(297), elapsed: 11.1s, total: 37.5s, remaining: 1077.0s\n",
      " [00400/10000] tr_loss: 87221.6367, val_loss: 43360.0352, best: 42167.1016(369), elapsed: 7.7s, total: 45.2s, remaining: 743.4s\n",
      " [00500/10000] tr_loss: 81696.6641, val_loss: 43332.8438, best: 42167.1016(369), elapsed: 5.5s, total: 50.7s, remaining: 519.3s\n",
      "<Stopped> [00569/10000] tr_loss: 76808.2891, val_loss: 43108.7734, best: 42167.1016(369), elapsed: 3.8s, total: 54.5s, remaining: 356.8s\n",
      "<Score> train_nmae=0.1078, val_nmae=0.0799\n",
      "\n",
      "\n",
      "======================================================================================================================================================\n",
      "> [02/10] 사과\n",
      "======================================================================================================================================================\n",
      "\n",
      " [00100/10000] tr_loss: 5542.4690, val_loss: 2579.0959, best: 2578.9380(99), elapsed: 15.4s, total: 15.4s, remaining: 1526.1s\n",
      " [00200/10000] tr_loss: 3394.2701, val_loss: 2074.8809, best: 2054.9197(187), elapsed: 13.2s, total: 28.7s, remaining: 1297.8s\n",
      " [00300/10000] tr_loss: 2819.3416, val_loss: 1885.6740, best: 1877.8219(279), elapsed: 11.4s, total: 40.1s, remaining: 1105.2s\n",
      " [00400/10000] tr_loss: 2842.6522, val_loss: 1823.1005, best: 1816.1068(385), elapsed: 11.8s, total: 51.8s, remaining: 1131.2s\n",
      " [00500/10000] tr_loss: 2480.2561, val_loss: 1872.1978, best: 1816.1068(385), elapsed: 10.4s, total: 62.3s, remaining: 991.6s\n",
      "<Stopped> [00585/10000] tr_loss: 2678.0325, val_loss: 1864.1545, best: 1816.1068(385), elapsed: 8.7s, total: 71.0s, remaining: 817.3s\n",
      "<Score> train_nmae=0.0719, val_nmae=0.0753\n",
      "\n",
      "\n",
      "======================================================================================================================================================\n",
      "> [03/10] 감자\n",
      "======================================================================================================================================================\n",
      "\n",
      "*[00100/10000] tr_loss: 14455.1538, val_loss: 6919.4814, best: 6919.4814(100), elapsed: 10.7s, total: 10.7s, remaining: 1059.2s\n",
      " [00200/10000] tr_loss: 6880.3218, val_loss: 5125.1699, best: 5066.3101(195), elapsed: 9.7s, total: 20.5s, remaining: 954.0s\n",
      " [00300/10000] tr_loss: 5856.0918, val_loss: 4291.5581, best: 4190.2734(292), elapsed: 7.2s, total: 27.6s, remaining: 696.2s\n",
      " [00400/10000] tr_loss: 5607.0010, val_loss: 4258.0479, best: 4048.5405(392), elapsed: 5.9s, total: 33.6s, remaining: 567.0s\n",
      " [00500/10000] tr_loss: 5074.8557, val_loss: 4343.4717, best: 4020.6807(446), elapsed: 5.3s, total: 38.8s, remaining: 502.8s\n",
      " [00600/10000] tr_loss: 5084.8252, val_loss: 4396.2930, best: 4020.6807(446), elapsed: 5.0s, total: 43.9s, remaining: 472.1s\n",
      "<Stopped> [00646/10000] tr_loss: 5009.2402, val_loss: 4441.0903, best: 4020.6807(446), elapsed: 2.2s, total: 46.1s, remaining: 209.1s\n",
      "<Score> train_nmae=0.0978, val_nmae=0.1360\n",
      "\n",
      "\n",
      "======================================================================================================================================================\n",
      "> [04/10] 배\n",
      "======================================================================================================================================================\n",
      "\n",
      "*[00100/10000] tr_loss: 6779.8708, val_loss: 4043.2180, best: 4043.2180(100), elapsed: 16.0s, total: 16.0s, remaining: 1586.2s\n",
      " [00200/10000] tr_loss: 3899.3190, val_loss: 2906.0676, best: 2900.6501(197), elapsed: 15.8s, total: 31.9s, remaining: 1552.5s\n",
      " [00300/10000] tr_loss: 3003.5908, val_loss: 2784.6880, best: 2742.7917(254), elapsed: 10.8s, total: 42.7s, remaining: 1044.0s\n",
      " [00400/10000] tr_loss: 2866.6567, val_loss: 2803.5139, best: 2742.7917(254), elapsed: 9.7s, total: 52.4s, remaining: 931.8s\n",
      "<Stopped> [00454/10000] tr_loss: 2722.7709, val_loss: 2802.9968, best: 2742.7917(254), elapsed: 5.3s, total: 57.7s, remaining: 509.3s\n",
      "<Score> train_nmae=0.0548, val_nmae=0.0775\n",
      "\n",
      "\n",
      "======================================================================================================================================================\n",
      "> [05/10] 깐마늘(국산)\n",
      "======================================================================================================================================================\n",
      "\n",
      "*[00100/10000] tr_loss: 18555.9277, val_loss: 9325.7607, best: 9325.7607(100), elapsed: 16.8s, total: 16.8s, remaining: 1666.8s\n",
      " [00200/10000] tr_loss: 14173.8550, val_loss: 7939.4653, best: 7716.1904(190), elapsed: 13.0s, total: 29.9s, remaining: 1271.9s\n",
      " [00300/10000] tr_loss: 11614.0269, val_loss: 7818.0571, best: 7671.7339(206), elapsed: 10.5s, total: 40.3s, remaining: 1015.2s\n",
      " [00400/10000] tr_loss: 12440.2212, val_loss: 7878.4219, best: 7671.7339(206), elapsed: 10.3s, total: 50.7s, remaining: 992.5s\n",
      "<Stopped> [00406/10000] tr_loss: 12332.0361, val_loss: 7896.1147, best: 7671.7339(206), elapsed: 0.6s, total: 51.3s, remaining: 60.5s\n",
      "<Score> train_nmae=0.0595, val_nmae=0.0719\n",
      "\n",
      "\n",
      "======================================================================================================================================================\n",
      "> [06/10] 무\n",
      "======================================================================================================================================================\n",
      "\n",
      "*[00100/10000] tr_loss: 4637.0752, val_loss: 3176.3250, best: 3176.3250(100), elapsed: 13.1s, total: 13.1s, remaining: 1299.6s\n",
      " [00200/10000] tr_loss: 3320.1982, val_loss: 2593.6990, best: 2583.1565(196), elapsed: 11.2s, total: 24.4s, remaining: 1102.4s\n",
      " [00300/10000] tr_loss: 2835.8043, val_loss: 2587.5308, best: 2481.9253(225), elapsed: 6.4s, total: 30.8s, remaining: 618.3s\n",
      " [00400/10000] tr_loss: 2920.3639, val_loss: 2634.8218, best: 2481.9253(225), elapsed: 6.0s, total: 36.8s, remaining: 577.5s\n",
      "<Stopped> [00425/10000] tr_loss: 2976.4897, val_loss: 2633.6797, best: 2481.9253(225), elapsed: 1.6s, total: 38.4s, remaining: 156.3s\n",
      "<Score> train_nmae=0.1828, val_nmae=0.2143\n",
      "\n",
      "\n",
      "======================================================================================================================================================\n",
      "> [07/10] 상추\n",
      "======================================================================================================================================================\n",
      "\n",
      "*[00100/10000] tr_loss: 335.7265, val_loss: 222.0477, best: 222.0477(100), elapsed: 15.5s, total: 15.5s, remaining: 1532.2s\n",
      " [00200/10000] tr_loss: 192.1347, val_loss: 201.9702, best: 200.5082(186), elapsed: 12.3s, total: 27.8s, remaining: 1201.7s\n",
      " [00300/10000] tr_loss: 178.2881, val_loss: 202.7570, best: 199.9215(218), elapsed: 10.5s, total: 38.2s, remaining: 1015.3s\n",
      " [00400/10000] tr_loss: 188.1684, val_loss: 202.9931, best: 199.9215(218), elapsed: 10.1s, total: 48.3s, remaining: 965.5s\n",
      "<Stopped> [00418/10000] tr_loss: 172.2540, val_loss: 202.3370, best: 199.9215(218), elapsed: 1.6s, total: 49.9s, remaining: 155.7s\n",
      "<Score> train_nmae=0.1255, val_nmae=0.1729\n",
      "\n",
      "\n",
      "======================================================================================================================================================\n",
      "> [08/10] 배추\n",
      "======================================================================================================================================================\n",
      "\n",
      " [00100/10000] tr_loss: 5691.6853, val_loss: 2237.4521, best: 2148.3882(89), elapsed: 11.4s, total: 11.4s, remaining: 1129.8s\n",
      " [00200/10000] tr_loss: 3112.5927, val_loss: 2320.7061, best: 2120.6675(121), elapsed: 5.8s, total: 17.2s, remaining: 566.1s\n",
      " [00300/10000] tr_loss: 2954.4337, val_loss: 2340.1543, best: 2120.6675(121), elapsed: 5.4s, total: 22.6s, remaining: 523.2s\n",
      "<Stopped> [00321/10000] tr_loss: 2921.0117, val_loss: 2361.9666, best: 2120.6675(121), elapsed: 1.1s, total: 23.7s, remaining: 109.0s\n",
      "<Score> train_nmae=0.3156, val_nmae=0.3302\n",
      "\n",
      "\n",
      "======================================================================================================================================================\n",
      "> [09/10] 양파\n",
      "======================================================================================================================================================\n",
      "\n",
      " [00100/10000] tr_loss: 329.6681, val_loss: 160.9574, best: 147.6254(82), elapsed: 13.8s, total: 13.8s, remaining: 1365.7s\n",
      " [00200/10000] tr_loss: 177.3484, val_loss: 137.4425, best: 132.4465(189), elapsed: 11.2s, total: 25.0s, remaining: 1096.4s\n",
      " [00300/10000] tr_loss: 142.4155, val_loss: 111.4117, best: 110.8195(296), elapsed: 13.7s, total: 38.7s, remaining: 1326.1s\n",
      " [00400/10000] tr_loss: 137.0471, val_loss: 108.0087, best: 104.8027(380), elapsed: 11.9s, total: 50.6s, remaining: 1145.5s\n",
      " [00500/10000] tr_loss: 126.3122, val_loss: 103.6104, best: 99.3943(445), elapsed: 11.0s, total: 61.6s, remaining: 1043.3s\n",
      " [00600/10000] tr_loss: 122.4304, val_loss: 102.8929, best: 99.3943(445), elapsed: 10.3s, total: 71.9s, remaining: 972.0s\n",
      "<Stopped> [00645/10000] tr_loss: 121.5065, val_loss: 101.9095, best: 99.3943(445), elapsed: 4.6s, total: 76.5s, remaining: 431.4s\n",
      "<Score> train_nmae=0.0939, val_nmae=0.1309\n",
      "\n",
      "\n",
      "======================================================================================================================================================\n",
      "> [10/10] 대파\n",
      "======================================================================================================================================================\n",
      "\n",
      "*[00100/10000] tr_loss: 831.1462, val_loss: 370.9980, best: 370.9980(100), elapsed: 12.2s, total: 12.2s, remaining: 1209.2s\n",
      " [00200/10000] tr_loss: 538.9992, val_loss: 358.0046, best: 350.5927(149), elapsed: 7.3s, total: 19.6s, remaining: 719.0s\n",
      "*[00300/10000] tr_loss: 454.6460, val_loss: 345.4893, best: 345.4893(300), elapsed: 7.8s, total: 27.4s, remaining: 753.8s\n",
      " [00400/10000] tr_loss: 447.6723, val_loss: 345.2622, best: 343.6366(391), elapsed: 8.0s, total: 35.4s, remaining: 769.7s\n",
      " [00500/10000] tr_loss: 460.2246, val_loss: 344.6738, best: 343.4500(446), elapsed: 6.2s, total: 41.6s, remaining: 587.9s\n",
      " [00600/10000] tr_loss: 444.6410, val_loss: 346.6442, best: 343.4500(446), elapsed: 5.8s, total: 47.4s, remaining: 549.5s\n",
      "<Stopped> [00646/10000] tr_loss: 491.8560, val_loss: 345.9651, best: 343.4500(446), elapsed: 2.7s, total: 50.2s, remaining: 253.8s\n",
      "<Score> train_nmae=0.1674, val_nmae=0.1905\n",
      "\n"
     ]
    }
   ],
   "source": [
    "# logger = get_logger(save_path='log/TimeSeriesTransformer_log.log')\n",
    "# trace_func = logger.info\n",
    "trace_func = print\n",
    "\n",
    "os.makedirs('models', exist_ok=True)\n",
    "\n",
    "품목별_scalers = {}\n",
    "품목별_delcols = {}\n",
    "품목별_hyperparams = {}\n",
    "\n",
    "train_nmae_list = []\n",
    "val_nmae_list = []\n",
    "\n",
    "for i, 품목명 in enumerate(품목_리스트):\n",
    "    model_path = f'models/SegRNN_{품목명}.pth'\n",
    "    trace_func('')\n",
    "    trace_func('='*150)\n",
    "    trace_func(f'> [{i+1:02d}/{len(품목_리스트)}] {품목명}')\n",
    "    trace_func('='*150)\n",
    "    trace_func('')\n",
    "\n",
    "    # preprocessing\n",
    "    train_data, scalers = process_data(\"data/train/train.csv\", \"data/train/meta/TRAIN_산지공판장_2018-2021.csv\", \"data/train/meta/TRAIN_전국도매_2018-2021.csv\", 품목명)\n",
    "    품목별_scalers[품목명] = scalers\n",
    "    \n",
    "    # 분산이 threshold보다 작은 컬럼 제거\n",
    "    del_cols = variance_threshold_select(train_data, threshold=CFG.threshold, ignore_features=['평균가격(원)'])\n",
    "    train_data.drop(del_cols, axis=1, inplace=True)\n",
    "    품목별_delcols[품목명] = del_cols\n",
    "\n",
    "    # train, validation split\n",
    "    dataset = AgriculturePriceDataset(train_data)\n",
    "    tr_data, val_data = train_test_split(dataset, test_size=CFG.test_size, random_state=CFG.seed, shuffle=True)\n",
    "    train_loader = DataLoader(tr_data, CFG.batch_size, shuffle=True)\n",
    "    val_loader = DataLoader(val_data, CFG.batch_size, shuffle=False)\n",
    "\n",
    "    # define model\n",
    "    model_cfg = deepcopy(MODEL_CFG)\n",
    "    model_cfg.enc_in = len(dataset.numeric_columns)\n",
    "    model_cfg.d_model = len(dataset.numeric_columns)\n",
    "    품목별_hyperparams[품목명] = model_cfg\n",
    "    model = SegRNN(model_cfg).to(CFG.device)\n",
    "\n",
    "    criterion = nn.HuberLoss() #nn.L1Loss()\n",
    "    optimizer = torch.optim.AdamW(model.parameters(), lr=CFG.learning_rate, weight_decay=CFG.weight_decay)\n",
    "    scheduler = torch.optim.lr_scheduler.ReduceLROnPlateau(optimizer, mode='min', factor=0.5, patience=50)\n",
    "    # scheduler = None\n",
    "\n",
    "    price_scaler = 품목별_scalers[품목명][dataset.price_column]\n",
    "    inverse_transform = lambda x: minmax_inverse_transform(x, price_scaler)\n",
    "    # inverse_transform = None\n",
    "\n",
    "    # train\n",
    "    best_model = train(\n",
    "        model, optimizer, train_loader, val_loader, CFG.epoch,\n",
    "        early_stopping=True, early_stopping_patience=200, early_stopping_verbose=False,\n",
    "        device=CFG.device, scheduler=scheduler, metric_period=100, \n",
    "        verbose=True, save_model_path=model_path,\n",
    "        inverse_transform=inverse_transform,\n",
    "    )\n",
    "\n",
    "    # scoring\n",
    "    true, pred = predict(best_model, train_loader, device='cpu', inverse_transform=inverse_transform)\n",
    "    train_nmae = nmae(true,pred)\n",
    "    true, pred = predict(best_model, val_loader, device='cpu', inverse_transform=inverse_transform)\n",
    "    val_nmae = nmae(true,pred)\n",
    "    trace_func(f'<Score> {train_nmae=:.4f}, {val_nmae=:.4f}')\n",
    "    trace_func('')\n",
    "\n",
    "    train_nmae_list.append(train_nmae)\n",
    "    val_nmae_list.append(val_nmae)"
   ]
  },
  {
   "cell_type": "code",
   "execution_count": 18,
   "metadata": {},
   "outputs": [
    {
     "data": {
      "text/plain": [
       "'train_nmae0.1277, val_nmae=0.1479'"
      ]
     },
     "execution_count": 18,
     "metadata": {},
     "output_type": "execute_result"
    }
   ],
   "source": [
    "f'train_nmae{np.mean(train_nmae_list):.4f}, val_nmae={np.mean(val_nmae_list):.4f}'"
   ]
  },
  {
   "cell_type": "code",
   "execution_count": 19,
   "metadata": {},
   "outputs": [],
   "source": [
    "with open('out/scalers.pkl', 'wb') as pickle_file:\n",
    "    pickle.dump(품목별_scalers, pickle_file)\n",
    "\n",
    "with open('out/delcols.pkl', 'wb') as pickle_file:\n",
    "    pickle.dump(품목별_delcols, pickle_file)\n",
    "\n",
    "with open('out/hyperparams.pkl', 'wb') as pickle_file:\n",
    "    pickle.dump(품목별_hyperparams, pickle_file)"
   ]
  },
  {
   "cell_type": "code",
   "execution_count": 20,
   "metadata": {},
   "outputs": [],
   "source": [
    "# true, pred = predict(best_model, train_loader, device='cpu', inverse_transform=inverse_transform)\n",
    "# print(criterion(torch.tensor(true), torch.tensor(pred)).item())\n",
    "# true[:5], pred[:5]"
   ]
  },
  {
   "cell_type": "markdown",
   "metadata": {},
   "source": [
    "# Inference"
   ]
  },
  {
   "cell_type": "code",
   "execution_count": 21,
   "metadata": {},
   "outputs": [],
   "source": [
    "with open('out/scalers.pkl', 'rb') as pickle_file:\n",
    "    품목별_scalers = pickle.load(pickle_file)\n",
    "\n",
    "with open('out/delcols.pkl', 'rb') as pickle_file:\n",
    "    품목별_delcols = pickle.load(pickle_file)\n",
    "\n",
    "with open('out/hyperparams.pkl', 'rb') as pickle_file:\n",
    "    품목별_hyperparams = pickle.load(pickle_file)"
   ]
  },
  {
   "cell_type": "code",
   "execution_count": 22,
   "metadata": {},
   "outputs": [
    {
     "name": "stdout",
     "output_type": "stream",
     "text": [
      "건고추 []\n",
      "사과 []\n",
      "감자 ['감자 조풍_20키로상자_특_평균가격(원)', '감자 두백_20키로상자_상_평년 평균가격(원)', '감자 조풍_20키로상자_상_평년 평균가격(원)', '감자 수입_23키로상자_상_평년 평균가격(원)', '감자 두백_20키로상자_중_평년 평균가격(원)', '홍감자_10키로상자_하_평년 평균가격(원)', '감자 조풍_20키로상자_중_평년 평균가격(원)', '감자 수미(햇)_20키로상자_특_평년 평균가격(원)', '홍감자_10키로상자_중_평년 평균가격(원)', '감자_20키로상자_하_평년 평균가격(원)', '감자_20키로상자_상_평년 평균가격(원)', '감자 수미(햇)_20키로상자_상_평년 평균가격(원)', '감자 수미(햇)_20키로상자_하_평년 평균가격(원)', '감자 조풍_20키로상자_하_평균가격(원)', '감자 두백_20키로상자_하_평년 평균가격(원)', '감자 조풍_20키로상자_특_평년 평균가격(원)', '감자 수미(저장)_20키로상자_상_평년 평균가격(원)', '감자 수미(저장)_20키로상자_특_평년 평균가격(원)', '감자 수미(햇)_20키로상자_중_평년 평균가격(원)', '감자 두백_20키로상자_특_평년 평균가격(원)', '홍감자_10키로상자_특_평년 평균가격(원)', '감자_20키로상자_중_평년 평균가격(원)', '감자 조풍_20키로상자_중_평균가격(원)', '홍감자_10키로상자_상_평년 평균가격(원)', '감자 수미(저장)_20키로상자_하_평년 평균가격(원)', '감자 수미(저장)_20키로상자_중_평년 평균가격(원)', '감자 조풍_20키로상자_상_평균가격(원)', '감자 조풍_20키로상자_하_평년 평균가격(원)', '감자_20키로상자_특_평년 평균가격(원)']\n",
      "배 ['공판장_등급코드']\n",
      "깐마늘(국산) ['깐마늘(국산)_20 kg_중품_평년 평균가격(원)', '평년 평균가격(원)']\n",
      "무 ['다발무_10키로_특_평년 평균가격(원)', '다발무_1000키로_중_평년 평균가격(원)', '다발무_5000키로_특_평년 평균가격(원)', '무_20키로상자_중_평년 평균가격(원)', '다발무_10키로_중_평년 평균가격(원)', '다발무_10키로_하_평년 평균가격(원)', '다발무_1000키로_하_평균가격(원)', '다발무_5000키로_중_평균가격(원)', '무_20키로상자_하_평년 평균가격(원)', '열무_4키로상자_중_평년 평균가격(원)', '다발무_1000키로_중_평균가격(원)', '다발무_1000키로_특_평균가격(원)', '다발무_8톤트럭_하_평년 평균가격(원)', '다발무_5000키로_상_평년 평균가격(원)', '다발무_8톤트럭_상_평년 평균가격(원)', '다발무_5000키로_하_평균가격(원)', '다발무_5000키로_상_평균가격(원)', '도매_평년 평균가격(원) Common Year SOON', '공판장_등급코드', '다발무_5000키로_하_평년 평균가격(원)', '다발무_5000키로_중_평년 평균가격(원)', '다발무_1000키로_상_평균가격(원)', '다발무_1000키로_하_평년 평균가격(원)', '다발무_1000키로_상_평년 평균가격(원)', '다발무_5000키로_특_평균가격(원)', '다발무_8톤트럭_중_평년 평균가격(원)', '무_20키로상자_특_평년 평균가격(원)', '평년 평균가격(원)', '다발무_10키로_상_평년 평균가격(원)', '다발무_1000키로_특_평년 평균가격(원)']\n",
      "상추 ['공판장_전달 평균가격(원) PreVious MMonth', '공판장_전순 평균가격(원) PreVious SOON', '공판장_평년 평균가격(원) Common Year SOON']\n",
      "배추 ['봄동배추_15키로상자_중_평년 평균가격(원)', '봄동배추_15키로상자_하_평년 평균가격(원)', '쌈배추_1키로상자_하_평년 평균가격(원)', '쌈배추_1키로상자_중_평년 평균가격(원)', '얼갈이배추_8키로상자_상_평년 평균가격(원)', '쌈배추_1키로상자_특_평년 평균가격(원)', '도매_평년 평균가격(원) Common Year SOON', '얼갈이배추_8키로상자_중_평년 평균가격(원)', '쌈배추_1키로상자_상_평년 평균가격(원)', '얼갈이배추_8키로상자_하_평년 평균가격(원)']\n",
      "양파 ['조생양파_12키로_특_평년 평균가격(원)', '양파(햇)_20키로_중_평년 평균가격(원)', '저장양파_12키로_하_평년 평균가격(원)', '양파_15키로_중_평년 평균가격(원)', '양파(햇)_12키로_특_평년 평균가격(원)', '조생양파_12키로_상_평균가격(원)', '조생양파_12키로_중_평년 평균가격(원)', '조생양파_12키로_중_평균가격(원)', '양파(햇)_15키로_하_평년 평균가격(원)', '양파_15키로_특_평년 평균가격(원)', '양파_15키로_하_평년 평균가격(원)', '양파_12키로_중_평년 평균가격(원)', '조생양파_15키로_상_평균가격(원)', '저장양파_12키로_특_평년 평균가격(원)', '조생양파_15키로_중_평년 평균가격(원)', '자주양파_1키로_중_평년 평균가격(원)', '조생양파_15키로_중_평균가격(원)', '양파_10키로_중_평년 평균가격(원)', '저장양파_15키로_상_평년 평균가격(원)', '양파_12키로_특_평년 평균가격(원)', '자주양파_1키로_하_평년 평균가격(원)', '양파_10키로_하_평년 평균가격(원)', '저장양파_15키로_중_평년 평균가격(원)', '양파_12키로_하_평년 평균가격(원)', '저장양파_20키로_하_평년 평균가격(원)', '양파(햇)_15키로_특_평년 평균가격(원)', '저장양파_20키로_상_평년 평균가격(원)', '조생양파_15키로_하_평년 평균가격(원)', '양파(햇)_15키로_상_평년 평균가격(원)', '조생양파_12키로_하_평균가격(원)', '저장양파_15키로_특_평년 평균가격(원)', '조생양파_12키로_상_평년 평균가격(원)', '양파 수입_1키로_특_평년 평균가격(원)', '양파(햇)_20키로_상_평년 평균가격(원)', '양파_15키로_상_평년 평균가격(원)', '저장양파_20키로_특_평년 평균가격(원)', '조생양파_12키로_특_평균가격(원)', '양파(햇)_20키로_특_평년 평균가격(원)', '조생양파_15키로_특_평년 평균가격(원)', '조생양파_15키로_특_평균가격(원)', '조생양파_15키로_하_평균가격(원)', '조생양파_15키로_상_평년 평균가격(원)', '저장양파_12키로_중_평년 평균가격(원)', '공판장_등급코드', '저장양파_12키로_상_평년 평균가격(원)', '자주양파_1키로_특_평년 평균가격(원)', '양파(햇)_15키로_중_평년 평균가격(원)', '자주양파_1키로_상_평년 평균가격(원)', '양파(햇)_12키로_하_평년 평균가격(원)', '양파(햇)_20키로_하_평년 평균가격(원)', '양파(햇)_12키로_중_평년 평균가격(원)', '조생양파_12키로_하_평년 평균가격(원)', '양파_10키로_특_평년 평균가격(원)', '저장양파_20키로_중_평년 평균가격(원)', '양파_10키로_상_평년 평균가격(원)', '양파_12키로_상_평년 평균가격(원)', '저장양파_15키로_하_평년 평균가격(원)', '양파(햇)_12키로_상_평년 평균가격(원)']\n",
      "대파 ['대파(일반)_10키로묶음_특_평년 평균가격(원)', '대파(일반)_10키로묶음_중_평년 평균가격(원)', '대파(일반)_10키로묶음_상_평년 평균가격(원)', '대파(일반)_10키로묶음_하_평균가격(원)', '대파(일반)_10키로묶음_특_평균가격(원)', '대파(일반)_10키로묶음_하_평년 평균가격(원)', '대파(일반)_10키로묶음_상_평균가격(원)', '대파(일반)_10키로묶음_중_평균가격(원)', '대파 수입_10키로상자_상_평년 평균가격(원)']\n"
     ]
    }
   ],
   "source": [
    "for k,v in 품목별_delcols.items():\n",
    "    print(k,v)"
   ]
  },
  {
   "cell_type": "code",
   "execution_count": 23,
   "metadata": {},
   "outputs": [
    {
     "data": {
      "application/vnd.jupyter.widget-view+json": {
       "model_id": "18835306a4e548daa4a64cbcc5da08d0",
       "version_major": 2,
       "version_minor": 0
      },
      "text/plain": [
       "  0%|          | 0/10 [00:00<?, ?it/s]"
      ]
     },
     "metadata": {},
     "output_type": "display_data"
    },
    {
     "data": {
      "application/vnd.jupyter.widget-view+json": {
       "model_id": "486444b37b13495b81b5c2472084a44f",
       "version_major": 2,
       "version_minor": 0
      },
      "text/plain": [
       "테스트 파일 추론 중:   0%|          | 0/25 [00:00<?, ?it/s]"
      ]
     },
     "metadata": {},
     "output_type": "display_data"
    },
    {
     "data": {
      "application/vnd.jupyter.widget-view+json": {
       "model_id": "63271779a7f04ba9829a92533bea2e56",
       "version_major": 2,
       "version_minor": 0
      },
      "text/plain": [
       "테스트 파일 추론 중:   0%|          | 0/25 [00:00<?, ?it/s]"
      ]
     },
     "metadata": {},
     "output_type": "display_data"
    },
    {
     "data": {
      "application/vnd.jupyter.widget-view+json": {
       "model_id": "68c2e779c6024a439a27a355a1b1f3c8",
       "version_major": 2,
       "version_minor": 0
      },
      "text/plain": [
       "테스트 파일 추론 중:   0%|          | 0/25 [00:00<?, ?it/s]"
      ]
     },
     "metadata": {},
     "output_type": "display_data"
    },
    {
     "data": {
      "application/vnd.jupyter.widget-view+json": {
       "model_id": "add44f16ca3742faa7d29a3e9a2c2a63",
       "version_major": 2,
       "version_minor": 0
      },
      "text/plain": [
       "테스트 파일 추론 중:   0%|          | 0/25 [00:00<?, ?it/s]"
      ]
     },
     "metadata": {},
     "output_type": "display_data"
    },
    {
     "data": {
      "application/vnd.jupyter.widget-view+json": {
       "model_id": "c6de34036ed045f6814f080e691bd60f",
       "version_major": 2,
       "version_minor": 0
      },
      "text/plain": [
       "테스트 파일 추론 중:   0%|          | 0/25 [00:00<?, ?it/s]"
      ]
     },
     "metadata": {},
     "output_type": "display_data"
    },
    {
     "data": {
      "application/vnd.jupyter.widget-view+json": {
       "model_id": "8f3c6e04d3294d7bb052ba1a512f68cf",
       "version_major": 2,
       "version_minor": 0
      },
      "text/plain": [
       "테스트 파일 추론 중:   0%|          | 0/25 [00:00<?, ?it/s]"
      ]
     },
     "metadata": {},
     "output_type": "display_data"
    },
    {
     "data": {
      "application/vnd.jupyter.widget-view+json": {
       "model_id": "39c3c73d51744c4297650ee0463a9f06",
       "version_major": 2,
       "version_minor": 0
      },
      "text/plain": [
       "테스트 파일 추론 중:   0%|          | 0/25 [00:00<?, ?it/s]"
      ]
     },
     "metadata": {},
     "output_type": "display_data"
    },
    {
     "data": {
      "application/vnd.jupyter.widget-view+json": {
       "model_id": "864b207f521c4d47874e8480e4dfa08c",
       "version_major": 2,
       "version_minor": 0
      },
      "text/plain": [
       "테스트 파일 추론 중:   0%|          | 0/25 [00:00<?, ?it/s]"
      ]
     },
     "metadata": {},
     "output_type": "display_data"
    },
    {
     "data": {
      "application/vnd.jupyter.widget-view+json": {
       "model_id": "6fda59fe88c7469c8362371d93e0f7b5",
       "version_major": 2,
       "version_minor": 0
      },
      "text/plain": [
       "테스트 파일 추론 중:   0%|          | 0/25 [00:00<?, ?it/s]"
      ]
     },
     "metadata": {},
     "output_type": "display_data"
    },
    {
     "data": {
      "application/vnd.jupyter.widget-view+json": {
       "model_id": "91a899e5c82c4240b44e268f20ddfe50",
       "version_major": 2,
       "version_minor": 0
      },
      "text/plain": [
       "테스트 파일 추론 중:   0%|          | 0/25 [00:00<?, ?it/s]"
      ]
     },
     "metadata": {},
     "output_type": "display_data"
    }
   ],
   "source": [
    "품목별_predictions = {}\n",
    "\n",
    "pbar_outer = tqdm(품목_리스트, position=0)\n",
    "for 품목명 in pbar_outer:\n",
    "    pbar_outer.set_description(품목명)\n",
    "    model_path = f'models/SegRNN_{품목명}.pth'\n",
    "\n",
    "    # define model\n",
    "    model = SegRNN(품목별_hyperparams[품목명]).to(CFG.device)\n",
    "    model.load_state_dict(torch.load(model_path))\n",
    "\n",
    "    # inference\n",
    "    품목_predictions = []\n",
    "    pbar_inner = tqdm(range(25), desc=\"테스트 파일 추론 중\", position=1, leave=False)\n",
    "    for i in pbar_inner:\n",
    "        test_file = f\"data/test/TEST_{i:02d}.csv\"\n",
    "        산지공판장_file = f\"data/test/meta/TEST_산지공판장_{i:02d}.csv\"\n",
    "        전국도매_file = f\"data/test/meta/TEST_전국도매_{i:02d}.csv\"\n",
    "\n",
    "        test_data, _ = process_data(test_file, 산지공판장_file, 전국도매_file, 품목명, scalers=품목별_scalers[품목명])\n",
    "        test_data.drop(품목별_delcols[품목명], axis=1, inplace=True)\n",
    "        test_dataset = AgriculturePriceDataset(test_data, is_test=True)\n",
    "        test_loader = DataLoader(test_dataset, batch_size=1, shuffle=False)\n",
    "\n",
    "        price_scaler = 품목별_scalers[품목명][test_dataset.price_column]\n",
    "        inverse_transform = lambda x: minmax_inverse_transform(x, price_scaler)\n",
    "\n",
    "        predictions = inference(model, test_loader, device='cpu', inverse_transform=inverse_transform)\n",
    "        predictions = np.concatenate(predictions)\n",
    "        \n",
    "        if np.isnan(predictions).any():\n",
    "            pbar_inner.set_postfix({\"상태\": \"NaN\"})\n",
    "            raise ValueError\n",
    "        else:\n",
    "            pbar_inner.set_postfix({\"상태\": \"정상\"})\n",
    "            품목_predictions.extend(predictions.flatten())\n",
    "\n",
    "    품목별_predictions[품목명] = 품목_predictions"
   ]
  },
  {
   "cell_type": "markdown",
   "metadata": {},
   "source": [
    "# Prepare Submission File"
   ]
  },
  {
   "cell_type": "code",
   "execution_count": 24,
   "metadata": {},
   "outputs": [],
   "source": [
    "sample_submission = pd.read_csv('data/sample_submission.csv')\n",
    "\n",
    "for 품목명, predictions in 품목별_predictions.items():\n",
    "    sample_submission[품목명] = predictions\n",
    "\n",
    "# 결과 저장\n",
    "save_path = 'out/baseline_submission_9.csv'\n",
    "sample_submission.to_csv(save_path, index=False)"
   ]
  },
  {
   "cell_type": "code",
   "execution_count": 25,
   "metadata": {},
   "outputs": [
    {
     "data": {
      "text/html": [
       "<div>\n",
       "<style scoped>\n",
       "    .dataframe tbody tr th:only-of-type {\n",
       "        vertical-align: middle;\n",
       "    }\n",
       "\n",
       "    .dataframe tbody tr th {\n",
       "        vertical-align: top;\n",
       "    }\n",
       "\n",
       "    .dataframe thead th {\n",
       "        text-align: right;\n",
       "    }\n",
       "</style>\n",
       "<table border=\"1\" class=\"dataframe\">\n",
       "  <thead>\n",
       "    <tr style=\"text-align: right;\">\n",
       "      <th></th>\n",
       "      <th>시점</th>\n",
       "      <th>감자</th>\n",
       "      <th>건고추</th>\n",
       "      <th>깐마늘(국산)</th>\n",
       "      <th>대파</th>\n",
       "      <th>무</th>\n",
       "      <th>배추</th>\n",
       "      <th>사과</th>\n",
       "      <th>상추</th>\n",
       "      <th>양파</th>\n",
       "      <th>배</th>\n",
       "    </tr>\n",
       "  </thead>\n",
       "  <tbody>\n",
       "    <tr>\n",
       "      <th>0</th>\n",
       "      <td>TEST_00+1순</td>\n",
       "      <td>35819.773438</td>\n",
       "      <td>538398.3125</td>\n",
       "      <td>149319.296875</td>\n",
       "      <td>1493.355347</td>\n",
       "      <td>18972.699219</td>\n",
       "      <td>2172.431396</td>\n",
       "      <td>28351.757812</td>\n",
       "      <td>1039.242676</td>\n",
       "      <td>852.531555</td>\n",
       "      <td>32556.259766</td>\n",
       "    </tr>\n",
       "    <tr>\n",
       "      <th>1</th>\n",
       "      <td>TEST_00+2순</td>\n",
       "      <td>36572.253906</td>\n",
       "      <td>538249.9375</td>\n",
       "      <td>148273.171875</td>\n",
       "      <td>1478.006226</td>\n",
       "      <td>18513.017578</td>\n",
       "      <td>2056.153320</td>\n",
       "      <td>28321.218750</td>\n",
       "      <td>996.054260</td>\n",
       "      <td>873.101257</td>\n",
       "      <td>32816.523438</td>\n",
       "    </tr>\n",
       "    <tr>\n",
       "      <th>2</th>\n",
       "      <td>TEST_00+3순</td>\n",
       "      <td>37076.171875</td>\n",
       "      <td>559276.3125</td>\n",
       "      <td>148178.609375</td>\n",
       "      <td>1497.333130</td>\n",
       "      <td>17901.285156</td>\n",
       "      <td>1862.669189</td>\n",
       "      <td>27991.416016</td>\n",
       "      <td>1025.708130</td>\n",
       "      <td>870.206360</td>\n",
       "      <td>32598.669922</td>\n",
       "    </tr>\n",
       "    <tr>\n",
       "      <th>3</th>\n",
       "      <td>TEST_01+1순</td>\n",
       "      <td>38953.828125</td>\n",
       "      <td>586384.4375</td>\n",
       "      <td>145844.843750</td>\n",
       "      <td>1416.137695</td>\n",
       "      <td>12325.492188</td>\n",
       "      <td>1841.269531</td>\n",
       "      <td>27214.712891</td>\n",
       "      <td>971.426147</td>\n",
       "      <td>982.168457</td>\n",
       "      <td>31959.933594</td>\n",
       "    </tr>\n",
       "    <tr>\n",
       "      <th>4</th>\n",
       "      <td>TEST_01+2순</td>\n",
       "      <td>39520.324219</td>\n",
       "      <td>583975.2500</td>\n",
       "      <td>144919.515625</td>\n",
       "      <td>1448.771851</td>\n",
       "      <td>11145.555664</td>\n",
       "      <td>1704.514771</td>\n",
       "      <td>26940.308594</td>\n",
       "      <td>972.166016</td>\n",
       "      <td>997.381104</td>\n",
       "      <td>31922.222656</td>\n",
       "    </tr>\n",
       "    <tr>\n",
       "      <th>...</th>\n",
       "      <td>...</td>\n",
       "      <td>...</td>\n",
       "      <td>...</td>\n",
       "      <td>...</td>\n",
       "      <td>...</td>\n",
       "      <td>...</td>\n",
       "      <td>...</td>\n",
       "      <td>...</td>\n",
       "      <td>...</td>\n",
       "      <td>...</td>\n",
       "      <td>...</td>\n",
       "    </tr>\n",
       "    <tr>\n",
       "      <th>70</th>\n",
       "      <td>TEST_23+2순</td>\n",
       "      <td>46931.289062</td>\n",
       "      <td>608269.3125</td>\n",
       "      <td>144220.765625</td>\n",
       "      <td>1425.658936</td>\n",
       "      <td>10811.662109</td>\n",
       "      <td>1509.501709</td>\n",
       "      <td>25723.449219</td>\n",
       "      <td>977.772400</td>\n",
       "      <td>987.457642</td>\n",
       "      <td>31562.613281</td>\n",
       "    </tr>\n",
       "    <tr>\n",
       "      <th>71</th>\n",
       "      <td>TEST_23+3순</td>\n",
       "      <td>48817.566406</td>\n",
       "      <td>609594.5000</td>\n",
       "      <td>143625.484375</td>\n",
       "      <td>1433.278687</td>\n",
       "      <td>11344.035156</td>\n",
       "      <td>1119.612061</td>\n",
       "      <td>25611.041016</td>\n",
       "      <td>982.161377</td>\n",
       "      <td>1001.166321</td>\n",
       "      <td>31514.277344</td>\n",
       "    </tr>\n",
       "    <tr>\n",
       "      <th>72</th>\n",
       "      <td>TEST_24+1순</td>\n",
       "      <td>36994.296875</td>\n",
       "      <td>553191.9375</td>\n",
       "      <td>146061.984375</td>\n",
       "      <td>1656.721680</td>\n",
       "      <td>16371.504883</td>\n",
       "      <td>1243.581909</td>\n",
       "      <td>26916.757812</td>\n",
       "      <td>973.431335</td>\n",
       "      <td>707.794250</td>\n",
       "      <td>36820.347656</td>\n",
       "    </tr>\n",
       "    <tr>\n",
       "      <th>73</th>\n",
       "      <td>TEST_24+2순</td>\n",
       "      <td>35691.695312</td>\n",
       "      <td>553188.7500</td>\n",
       "      <td>147238.468750</td>\n",
       "      <td>1563.754150</td>\n",
       "      <td>16612.974609</td>\n",
       "      <td>1429.876831</td>\n",
       "      <td>26900.589844</td>\n",
       "      <td>991.856506</td>\n",
       "      <td>699.080688</td>\n",
       "      <td>36857.765625</td>\n",
       "    </tr>\n",
       "    <tr>\n",
       "      <th>74</th>\n",
       "      <td>TEST_24+3순</td>\n",
       "      <td>35237.226562</td>\n",
       "      <td>553148.1250</td>\n",
       "      <td>145474.921875</td>\n",
       "      <td>1524.458008</td>\n",
       "      <td>15799.895508</td>\n",
       "      <td>1381.070557</td>\n",
       "      <td>26869.078125</td>\n",
       "      <td>1009.718262</td>\n",
       "      <td>678.346008</td>\n",
       "      <td>36943.035156</td>\n",
       "    </tr>\n",
       "  </tbody>\n",
       "</table>\n",
       "<p>75 rows × 11 columns</p>\n",
       "</div>"
      ],
      "text/plain": [
       "            시점            감자          건고추        깐마늘(국산)           대파  \\\n",
       "0   TEST_00+1순  35819.773438  538398.3125  149319.296875  1493.355347   \n",
       "1   TEST_00+2순  36572.253906  538249.9375  148273.171875  1478.006226   \n",
       "2   TEST_00+3순  37076.171875  559276.3125  148178.609375  1497.333130   \n",
       "3   TEST_01+1순  38953.828125  586384.4375  145844.843750  1416.137695   \n",
       "4   TEST_01+2순  39520.324219  583975.2500  144919.515625  1448.771851   \n",
       "..         ...           ...          ...            ...          ...   \n",
       "70  TEST_23+2순  46931.289062  608269.3125  144220.765625  1425.658936   \n",
       "71  TEST_23+3순  48817.566406  609594.5000  143625.484375  1433.278687   \n",
       "72  TEST_24+1순  36994.296875  553191.9375  146061.984375  1656.721680   \n",
       "73  TEST_24+2순  35691.695312  553188.7500  147238.468750  1563.754150   \n",
       "74  TEST_24+3순  35237.226562  553148.1250  145474.921875  1524.458008   \n",
       "\n",
       "               무           배추            사과           상추           양파  \\\n",
       "0   18972.699219  2172.431396  28351.757812  1039.242676   852.531555   \n",
       "1   18513.017578  2056.153320  28321.218750   996.054260   873.101257   \n",
       "2   17901.285156  1862.669189  27991.416016  1025.708130   870.206360   \n",
       "3   12325.492188  1841.269531  27214.712891   971.426147   982.168457   \n",
       "4   11145.555664  1704.514771  26940.308594   972.166016   997.381104   \n",
       "..           ...          ...           ...          ...          ...   \n",
       "70  10811.662109  1509.501709  25723.449219   977.772400   987.457642   \n",
       "71  11344.035156  1119.612061  25611.041016   982.161377  1001.166321   \n",
       "72  16371.504883  1243.581909  26916.757812   973.431335   707.794250   \n",
       "73  16612.974609  1429.876831  26900.589844   991.856506   699.080688   \n",
       "74  15799.895508  1381.070557  26869.078125  1009.718262   678.346008   \n",
       "\n",
       "               배  \n",
       "0   32556.259766  \n",
       "1   32816.523438  \n",
       "2   32598.669922  \n",
       "3   31959.933594  \n",
       "4   31922.222656  \n",
       "..           ...  \n",
       "70  31562.613281  \n",
       "71  31514.277344  \n",
       "72  36820.347656  \n",
       "73  36857.765625  \n",
       "74  36943.035156  \n",
       "\n",
       "[75 rows x 11 columns]"
      ]
     },
     "execution_count": 25,
     "metadata": {},
     "output_type": "execute_result"
    }
   ],
   "source": [
    "sample_submission"
   ]
  },
  {
   "cell_type": "code",
   "execution_count": null,
   "metadata": {},
   "outputs": [],
   "source": [
    "tmp = pd.read_csv('data/train/train.csv')\n",
    "tmp.groupby('품목명')['평균가격(원)'].describe().astype(int)"
   ]
  },
  {
   "cell_type": "code",
   "execution_count": null,
   "metadata": {},
   "outputs": [],
   "source": [
    "import matplotlib.pyplot as plt\n",
    "import pandas as pd\n",
    "pd.set_option(\"display.max_rows\", None)\n",
    "pd.set_option(\"display.max_columns\", None)"
   ]
  },
  {
   "cell_type": "code",
   "execution_count": null,
   "metadata": {},
   "outputs": [],
   "source": [
    "품목명 = '무'\n",
    "train_data, scaler = process_data(\"data/train/train.csv\", \"data/train/meta/TRAIN_산지공판장_2018-2021.csv\", \"data/train/meta/TRAIN_전국도매_2018-2021.csv\", 품목명)\n",
    "scaler = 품목별_scalers[품목명]['평균가격(원)']\n",
    "tmp = minmax_inverse_transform(train_data['평균가격(원)'], scaler, is_train=False)\n",
    "tmp.max()"
   ]
  },
  {
   "cell_type": "code",
   "execution_count": null,
   "metadata": {},
   "outputs": [],
   "source": [
    "tmp.describe()"
   ]
  },
  {
   "cell_type": "code",
   "execution_count": null,
   "metadata": {},
   "outputs": [],
   "source": [
    "i=0\n",
    "\n",
    "test_file = f\"data/test/TEST_{i:02d}.csv\"\n",
    "산지공판장_file = f\"data/test/meta/TEST_산지공판장_{i:02d}.csv\"\n",
    "전국도매_file = f\"data/test/meta/TEST_전국도매_{i:02d}.csv\"\n",
    "\n",
    "test_data, _ = process_data(test_file, 산지공판장_file, 전국도매_file, 품목명, scalers=품목별_scalers[품목명])"
   ]
  },
  {
   "cell_type": "code",
   "execution_count": null,
   "metadata": {},
   "outputs": [],
   "source": [
    "test_data.describe()"
   ]
  },
  {
   "cell_type": "code",
   "execution_count": null,
   "metadata": {},
   "outputs": [],
   "source": [
    "train_df = pd.read_csv('data/train/train.csv')\n",
    "t = train_df[train_df['품목명']==품목명]\n",
    "t['평균가격(원)'].describe().astype(int)\n",
    "\n",
    "# plt.hist(t['평균가격(원)'], bins=50)\n",
    "# plt.yscale('log')\n",
    "\n",
    "plt.boxplot(t['평균가격(원)'])\n",
    "plt.show()\n",
    "plt.boxplot(np.log1p(t['평균가격(원)']))\n",
    "plt.show()"
   ]
  },
  {
   "cell_type": "code",
   "execution_count": null,
   "metadata": {},
   "outputs": [],
   "source": [
    "t[t['평균가격(원)']>10000000]\n",
    "t.groupby('거래단위')['평균가격(원)'].mean().astype(int)"
   ]
  },
  {
   "cell_type": "code",
   "execution_count": null,
   "metadata": {},
   "outputs": [],
   "source": [
    "tt = pd.read_csv('data/sample_submission.csv')\n",
    "tt"
   ]
  },
  {
   "cell_type": "code",
   "execution_count": null,
   "metadata": {},
   "outputs": [],
   "source": [
    "# sample_submission = pd.read_csv('out/baseline_submission.csv')\n",
    "# sample_submission.head()"
   ]
  }
 ],
 "metadata": {
  "kernelspec": {
   "display_name": ".venv",
   "language": "python",
   "name": "python3"
  },
  "language_info": {
   "codemirror_mode": {
    "name": "ipython",
    "version": 3
   },
   "file_extension": ".py",
   "mimetype": "text/x-python",
   "name": "python",
   "nbconvert_exporter": "python",
   "pygments_lexer": "ipython3",
   "version": "3.12.4"
  }
 },
 "nbformat": 4,
 "nbformat_minor": 2
}
