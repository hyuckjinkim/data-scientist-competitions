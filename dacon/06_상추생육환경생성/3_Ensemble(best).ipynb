{
 "cells": [
  {
   "cell_type": "markdown",
   "id": "a2bcba5f-002e-4f49-9622-ada6117faf0a",
   "metadata": {},
   "source": [
    "# Import"
   ]
  },
  {
   "cell_type": "code",
   "execution_count": 1,
   "id": "2b0d9b68-7102-4eca-9543-3b9b8acafc6e",
   "metadata": {},
   "outputs": [],
   "source": [
    "import random\n",
    "import pandas as pd\n",
    "pd.set_option('display.max_rows', None)\n",
    "pd.set_option('display.max_columns', None)\n",
    "pd.set_option('display.width', None)\n",
    "import numpy as np\n",
    "import os\n",
    "import glob\n",
    "from tqdm import tqdm\n",
    "\n",
    "import torch\n",
    "import torch.nn as nn\n",
    "import torch.optim as optim\n",
    "import torch.nn.functional as F\n",
    "from torch.autograd import Variable\n",
    "from torch.utils.data import Dataset, DataLoader, TensorDataset\n",
    "\n",
    "from tqdm.auto import tqdm\n",
    "\n",
    "%matplotlib inline\n",
    "import matplotlib.pyplot as plt\n",
    "import matplotlib.font_manager as fm\n",
    "fp = fm.FontProperties(fname='/home/studio-lab-user/Dacon/tools/NanumFont/NanumGothic.ttf', size=10)\n",
    "import seaborn as sns\n",
    "\n",
    "import warnings\n",
    "warnings.filterwarnings(action='ignore')"
   ]
  },
  {
   "cell_type": "code",
   "execution_count": 2,
   "id": "d13862e3-bb27-47af-9b58-a9fbf804df71",
   "metadata": {},
   "outputs": [
    {
     "name": "stdout",
     "output_type": "stream",
     "text": [
      "device : cuda\n"
     ]
    }
   ],
   "source": [
    "device = torch.device('cuda') if torch.cuda.is_available() else torch.device('cpu')\n",
    "print('device :',device)"
   ]
  },
  {
   "cell_type": "markdown",
   "id": "fc7df3f2-62d0-4499-a46e-47d01699def0",
   "metadata": {},
   "source": [
    "<br></br>\n",
    "\n",
    "# Setting"
   ]
  },
  {
   "cell_type": "markdown",
   "id": "48c47cef-a496-4dc7-9a8b-0f363f65cdd3",
   "metadata": {},
   "source": [
    "<br>\n",
    "\n",
    "## Hyperparameter Setting"
   ]
  },
  {
   "cell_type": "code",
   "execution_count": 3,
   "id": "c3367399-9798-4e38-967b-fd2320b9a2b2",
   "metadata": {},
   "outputs": [],
   "source": [
    "CFG = {\n",
    "    'EPOCHS':128,#1024,\n",
    "    'PATIENCE':30,\n",
    "    'LEARNING_RATE':0.05,\n",
    "    'BATCH_SIZE':16,\n",
    "    'SEED':42,\n",
    "}"
   ]
  },
  {
   "cell_type": "markdown",
   "id": "4254e860-ff82-43ba-bfa3-fcee4eb3ddbd",
   "metadata": {},
   "source": [
    "<br>\n",
    "\n",
    "## Fixed RandomSeed"
   ]
  },
  {
   "cell_type": "code",
   "execution_count": 4,
   "id": "101a714b-71b6-4475-a4ce-fa5f98bc2731",
   "metadata": {},
   "outputs": [],
   "source": [
    "def seed_everything(seed):\n",
    "    random.seed(seed)\n",
    "    os.environ['PYTHONHASHSEED'] = str(seed)\n",
    "    np.random.seed(seed)\n",
    "    torch.manual_seed(seed)\n",
    "    torch.cuda.manual_seed(seed)\n",
    "    torch.backends.cudnn.deterministic = True\n",
    "    torch.backends.cudnn.benchmark = True\n",
    "\n",
    "# seed_everything(CFG['SEED']) # Seed 고정"
   ]
  },
  {
   "cell_type": "markdown",
   "id": "05a4172e-5791-446f-9616-35c09d8bf25a",
   "metadata": {},
   "source": [
    "<br></br>\n",
    "\n",
    "# Data Pre-processing"
   ]
  },
  {
   "cell_type": "code",
   "execution_count": 5,
   "id": "303d25b8-be32-47f2-bbff-74c7c37eef05",
   "metadata": {},
   "outputs": [],
   "source": [
    "import os\n",
    "from sklearn.preprocessing import MinMaxScaler, RobustScaler\n",
    "from sklearn.model_selection import train_test_split\n",
    "\n",
    "class Preprocess:\n",
    "    def __init__(self, input_paths, label_paths, test_paths):\n",
    "        self.input_paths = input_paths\n",
    "        self.label_paths = label_paths\n",
    "        self.test_paths  = test_paths\n",
    "        \n",
    "        self.input, self.label, self.test = None, None, None\n",
    "        \n",
    "        self.X_train, self.X_valid = None, None\n",
    "        self.y_train, self.y_valid = None, None\n",
    "        self.X, self.y = None, None\n",
    "\n",
    "        input_fn = []\n",
    "        label_fn = []\n",
    "        for input_path, label_path in zip(self.input_paths, self.label_paths):\n",
    "            case_num = input_path.replace('./data/train_input/CASE_','').replace('.csv','')\n",
    "            \n",
    "            input_df = pd.read_csv(input_path)\n",
    "            label_df = pd.read_csv(label_path)\n",
    "\n",
    "            input_df = input_df.fillna(0)\n",
    "\n",
    "            input_df['case_num'] = case_num\n",
    "            label_df['case_num'] = case_num\n",
    "            \n",
    "            input_fn.append(input_df)\n",
    "            label_fn.append(label_df)\n",
    "        \n",
    "        test_fn = []\n",
    "        for test_path in self.test_paths:\n",
    "            test_df = pd.read_csv(test_path)\n",
    "            case_num = test_path.replace('./data/test_input/TEST_','').replace('.csv','')\n",
    "            \n",
    "            test_df['case_num'] = case_num\n",
    "            \n",
    "            test_fn.append(test_df)\n",
    "            \n",
    "        self.input = pd.concat(input_fn,axis=0).sort_values(['case_num','DAT','obs_time'])\n",
    "        self.label = pd.concat(label_fn,axis=0)\n",
    "        self.test  = pd.concat(test_fn ,axis=0)\n",
    "        \n",
    "    def _data_return(self):\n",
    "        return self.input,self.label,self.test\n",
    "            \n",
    "    def _target_log(self):\n",
    "        self.label['predicted_weight_g'] = np.log(self.label['predicted_weight_g'])\n",
    "    \n",
    "    def _preprocess(self):\n",
    "        self.input['time'] = [i+1 for i in range(28*24)]*self.input.case_num.nunique()\n",
    "        self.test ['time'] = [i+1 for i in range(28*24)]*self.test .case_num.nunique()\n",
    "        \n",
    "        input_df = []\n",
    "        test_df  = []\n",
    "        for case_num in self.input.case_num.unique():\n",
    "            i_df = self.input[self.input.case_num==case_num]\n",
    "            t_df = self.test [self.test .case_num==case_num]\n",
    "\n",
    "            for col in self.input.drop(columns=['case_num','DAT','obs_time','time']).columns:\n",
    "                i_df[f'{col}_higher_than_yesterday'] = np.where(i_df[col] - i_df[col].shift(1) >0,1,0)\n",
    "                t_df[f'{col}_higher_than_yesterday'] = np.where(t_df[col] - t_df[col].shift(1) >0,1,0)\n",
    "            input_df.append(i_df)\n",
    "            test_df .append(t_df)\n",
    "            \n",
    "        self.input = pd.concat(input_df,axis=0)\n",
    "        self.test  = pd.concat(test_df ,axis=0)\n",
    "        \n",
    "        unique_info = self.input.apply(lambda x: x.nunique())\n",
    "        unique_cols = unique_info[unique_info==1].index.tolist()\n",
    "        \n",
    "        self.input = self.input.drop(unique_cols,axis=1)\n",
    "        self.test  = self.test .drop(unique_cols,axis=1)\n",
    "        \n",
    "    # https://dacon.io/competitions/official/236033/talkboard/407304?page=1&dtype=recent\n",
    "    def _scale_dataset(self,outlier):\n",
    "        \n",
    "        minmax_info = {\n",
    "            'time':[0,28*24],\n",
    "            '내부온도관측치':[4,40],\n",
    "            '내부습도관측치':[0,100],\n",
    "            'co2관측치':[0,1200],\n",
    "            'ec관측치':[0,8],\n",
    "            '시간당분무량':[0,3000],\n",
    "            '일간누적분무량':[0,72000],\n",
    "            '시간당백색광량':[0,120000],\n",
    "            '일간누적백색광량':[0,2880000],\n",
    "            '시간당적색광량':[0,120000],\n",
    "            '일간누적적색광량':[0,2880000],\n",
    "            '시간당청색광량':[0,120000],\n",
    "            '일간누적청색광량':[0,2880000],\n",
    "            '시간당총광량':[0,120000],\n",
    "            '일간누적총광량':[0,2880000],\n",
    "        }\n",
    "            \n",
    "        scale_feature = [feature for feature,(min_info,max_info) in minmax_info.items()]\n",
    "        \n",
    "        # for train dataset\n",
    "        for col in scale_feature:\n",
    "            min_info,max_info = minmax_info[col]\n",
    "            self.input[col] = (self.input[col]-min_info) / (max_info-min_info)\n",
    "            \n",
    "            if outlier=='keep':\n",
    "                # 0~1을 벗어나는 값 (minmax_info의 범위를 벗어나는 값)은 0,1로 넣기\n",
    "                # -> 삭제하게되면 24시간의 term이 깨짐\n",
    "                self.input[col][self.input[col]<0] = 0\n",
    "                self.input[col][self.input[col]>1] = 1\n",
    "            elif outlier=='drop':\n",
    "                self.input[col][(self.input[col]<0)] = np.nan\n",
    "                self.input[col][(self.input[col]>1)] = np.nan\n",
    "            \n",
    "        # for test dataset\n",
    "        for col in scale_feature:\n",
    "            min_info,max_info = minmax_info[col]\n",
    "            self.test[col] = (self.test[col]-min_info) / (max_info-min_info)\n",
    "            \n",
    "            if outlier=='keep':\n",
    "                # 0~1을 벗어나는 값 (minmax_info의 범위를 벗어나는 값)은 0,1로 넣기\n",
    "                # -> 삭제하게되면 24시간의 term이 깨짐\n",
    "                self.test[col][self.test[col]<0] = 0\n",
    "                self.test[col][self.test[col]>1] = 1\n",
    "            elif outlier=='drop':\n",
    "                self.test[col][(self.test[col]<0)] = np.nan\n",
    "                self.test[col][(self.test[col]>1)] = np.nan\n",
    "        \n",
    "    def _interaction_term(self):\n",
    "        num_features = self.input.select_dtypes(exclude=[object]).columns\n",
    "        num_features = list(set(num_features)-set(['DAT','obs_time']))\n",
    "        for i in range(len(num_features)):\n",
    "            for j in range(len(num_features)):\n",
    "                if i>j:\n",
    "                    self.input[f'{num_features[i]}*{num_features[j]}'] = self.input[num_features[i]]*self.input[num_features[j]]\n",
    "                    self.test [f'{num_features[i]}*{num_features[j]}'] = self.test [num_features[i]]*self.test [num_features[j]]"
   ]
  },
  {
   "cell_type": "code",
   "execution_count": 6,
   "id": "bf407c58-fe03-456d-9bad-ec0ff6b18cc2",
   "metadata": {},
   "outputs": [],
   "source": [
    "# from scipy.stats import pearsonr\n",
    "\n",
    "# val_rate = 0.05\n",
    "\n",
    "# dataset = Preprocess(\n",
    "#     input_paths = all_input_list,\n",
    "#     label_paths = all_target_list,\n",
    "#     test_paths = all_test_list,\n",
    "# )\n",
    "\n",
    "# dataset._preprocess()\n",
    "# dataset._scale_dataset()\n",
    "# input_df, label_df = dataset._data_return()\n",
    "\n",
    "# for case_num in tqdm(sorted(input_df.case_num.unique())):\n",
    "\n",
    "#     input = input_df[input_df.case_num==case_num].drop('case_num',axis=1)\n",
    "#     label = label_df[label_df.case_num==case_num].drop('case_num',axis=1)\n",
    "\n",
    "#     fig = plt.figure(figsize=(20,15))\n",
    "#     nrow = 3\n",
    "#     ncol = 5\n",
    "\n",
    "#     iter = 0\n",
    "#     total = len(input.columns)-3\n",
    "#     for col in input.columns:\n",
    "#         if col not in ['time','DAT','obs_time']:\n",
    "#             iter+=1\n",
    "\n",
    "#             y1 = input[col]\n",
    "#             #y1 = (y1-y1.min())/(y1.max()-y1.min())\n",
    "\n",
    "#             y2 = label['predicted_weight_g']\n",
    "#             y2 = (y2-y2.min())/(y2.max()-y2.min())\n",
    "\n",
    "#             y3 = input.groupby('DAT')[col].mean().values\n",
    "\n",
    "#             corr, pvalue = pearsonr(y2,y3)\n",
    "\n",
    "#             fig.add_subplot(ncol,nrow,iter)\n",
    "#             sns.scatterplot(x=input.time  ,y=y1)\n",
    "#             sns.scatterplot(x=label.DAT*24,y=y2,color='red')\n",
    "#             sns.lineplot   (x=label.DAT*24,y=y3,color='blue',linestyle='--',alpha=0.7)\n",
    "#             plt.ylabel('')\n",
    "\n",
    "#             plt.title(f'{col}(corr={corr:.3f}(pvalue={pvalue:.3f}))',fontproperties=fp)\n",
    "\n",
    "\n",
    "#     plt.tight_layout()\n",
    "#     plt.savefig(f'./fig/{case_num}.png',dpi=100)\n",
    "#     plt.close()"
   ]
  },
  {
   "cell_type": "code",
   "execution_count": 7,
   "id": "a3d0357d-1b18-4dd4-93b8-547aafec0ae7",
   "metadata": {},
   "outputs": [],
   "source": [
    "def abline(slope, intercept, color):\n",
    "    axes = plt.gca()\n",
    "    x_vals = np.array(axes.get_xlim())\n",
    "    y_vals = intercept + slope * x_vals\n",
    "    plt.plot(x_vals, y_vals, '--', color=color)"
   ]
  },
  {
   "cell_type": "markdown",
   "id": "39962463-032f-490a-a76d-c03991795f38",
   "metadata": {},
   "source": [
    "<br></br>\n",
    "\n",
    "# Model Define"
   ]
  },
  {
   "cell_type": "code",
   "execution_count": 8,
   "id": "d384b4fe-b03c-45fc-948a-cb081dcc127f",
   "metadata": {},
   "outputs": [],
   "source": [
    "all_input_list  = sorted(glob.glob('./data/train_input/*.csv'))\n",
    "all_target_list = sorted(glob.glob('./data/train_target/*.csv'))\n",
    "all_test_list   = sorted(glob.glob('./data/test_input/*.csv'))"
   ]
  },
  {
   "cell_type": "code",
   "execution_count": 21,
   "id": "2d65ad91-4f38-4423-99f9-c1e8089c2a94",
   "metadata": {},
   "outputs": [],
   "source": [
    "from sklearn.model_selection import train_test_split\n",
    "\n",
    "# Preprocess Class\n",
    "dataset = Preprocess(\n",
    "    input_paths = all_input_list,\n",
    "    label_paths = all_target_list,\n",
    "    test_paths = all_test_list,\n",
    ")\n",
    "\n",
    "# (1) preprocessing + scaling + interaction term\n",
    "dataset._preprocess()\n",
    "# dataset._target_log()\n",
    "dataset._scale_dataset(outlier='drop')\n",
    "# dataset._interaction_term()\n",
    "\n",
    "# (2) Data Return for check\n",
    "input_df, label_df, test_df = dataset._data_return()\n",
    "\n",
    "input_df = input_df.drop(['obs_time','time'],axis=1)\n",
    "label_df = label_df['predicted_weight_g']\n",
    "\n",
    "input_df = input_df.groupby(['case_num','DAT']).mean().reset_index()#.drop('case_num',axis=1)\n",
    "test_df  = test_df .groupby(['case_num','DAT']).mean().reset_index()#.drop('case_num',axis=1)"
   ]
  },
  {
   "cell_type": "code",
   "execution_count": 22,
   "id": "58d3b799-009a-4d5e-b1e2-58dbc37eb1b0",
   "metadata": {},
   "outputs": [
    {
     "data": {
      "text/html": [
       "<div>\n",
       "<style scoped>\n",
       "    .dataframe tbody tr th:only-of-type {\n",
       "        vertical-align: middle;\n",
       "    }\n",
       "\n",
       "    .dataframe tbody tr th {\n",
       "        vertical-align: top;\n",
       "    }\n",
       "\n",
       "    .dataframe thead th {\n",
       "        text-align: right;\n",
       "    }\n",
       "</style>\n",
       "<table border=\"1\" class=\"dataframe\">\n",
       "  <thead>\n",
       "    <tr style=\"text-align: right;\">\n",
       "      <th></th>\n",
       "      <th>case_num</th>\n",
       "      <th>DAT</th>\n",
       "      <th>내부온도관측치</th>\n",
       "      <th>내부습도관측치</th>\n",
       "      <th>co2관측치</th>\n",
       "      <th>ec관측치</th>\n",
       "      <th>시간당분무량</th>\n",
       "      <th>일간누적분무량</th>\n",
       "      <th>시간당백색광량</th>\n",
       "      <th>일간누적백색광량</th>\n",
       "      <th>시간당적색광량</th>\n",
       "      <th>일간누적적색광량</th>\n",
       "      <th>시간당청색광량</th>\n",
       "      <th>일간누적청색광량</th>\n",
       "      <th>시간당총광량</th>\n",
       "      <th>일간누적총광량</th>\n",
       "      <th>내부온도관측치_higher_than_yesterday</th>\n",
       "      <th>내부습도관측치_higher_than_yesterday</th>\n",
       "      <th>co2관측치_higher_than_yesterday</th>\n",
       "      <th>ec관측치_higher_than_yesterday</th>\n",
       "      <th>시간당분무량_higher_than_yesterday</th>\n",
       "      <th>일간누적분무량_higher_than_yesterday</th>\n",
       "      <th>시간당백색광량_higher_than_yesterday</th>\n",
       "      <th>일간누적백색광량_higher_than_yesterday</th>\n",
       "      <th>시간당적색광량_higher_than_yesterday</th>\n",
       "      <th>일간누적적색광량_higher_than_yesterday</th>\n",
       "      <th>시간당청색광량_higher_than_yesterday</th>\n",
       "      <th>일간누적청색광량_higher_than_yesterday</th>\n",
       "      <th>시간당총광량_higher_than_yesterday</th>\n",
       "      <th>일간누적총광량_higher_than_yesterday</th>\n",
       "      <th>predicted_weight_g</th>\n",
       "    </tr>\n",
       "  </thead>\n",
       "  <tbody>\n",
       "    <tr>\n",
       "      <th>0</th>\n",
       "      <td>01</td>\n",
       "      <td>0</td>\n",
       "      <td>0.639742</td>\n",
       "      <td>0.780613</td>\n",
       "      <td>0.445912</td>\n",
       "      <td>0.174202</td>\n",
       "      <td>0.055018</td>\n",
       "      <td>0.027159</td>\n",
       "      <td>0.088777</td>\n",
       "      <td>0.042402</td>\n",
       "      <td>0.004756</td>\n",
       "      <td>0.002273</td>\n",
       "      <td>0.0</td>\n",
       "      <td>0.0</td>\n",
       "      <td>0.093533</td>\n",
       "      <td>0.044675</td>\n",
       "      <td>0.666667</td>\n",
       "      <td>0.625000</td>\n",
       "      <td>0.416667</td>\n",
       "      <td>0.208333</td>\n",
       "      <td>0.416667</td>\n",
       "      <td>0.791667</td>\n",
       "      <td>0.166667</td>\n",
       "      <td>0.625</td>\n",
       "      <td>0.250000</td>\n",
       "      <td>0.625</td>\n",
       "      <td>0.0</td>\n",
       "      <td>0.0</td>\n",
       "      <td>0.291667</td>\n",
       "      <td>0.625</td>\n",
       "      <td>0.167719</td>\n",
       "    </tr>\n",
       "    <tr>\n",
       "      <th>1</th>\n",
       "      <td>01</td>\n",
       "      <td>1</td>\n",
       "      <td>0.653965</td>\n",
       "      <td>0.780750</td>\n",
       "      <td>0.436655</td>\n",
       "      <td>0.173054</td>\n",
       "      <td>0.055286</td>\n",
       "      <td>0.027917</td>\n",
       "      <td>0.089002</td>\n",
       "      <td>0.042502</td>\n",
       "      <td>0.004760</td>\n",
       "      <td>0.002273</td>\n",
       "      <td>0.0</td>\n",
       "      <td>0.0</td>\n",
       "      <td>0.093761</td>\n",
       "      <td>0.044775</td>\n",
       "      <td>0.541667</td>\n",
       "      <td>0.416667</td>\n",
       "      <td>0.541667</td>\n",
       "      <td>0.458333</td>\n",
       "      <td>0.375000</td>\n",
       "      <td>0.750000</td>\n",
       "      <td>0.166667</td>\n",
       "      <td>0.625</td>\n",
       "      <td>0.250000</td>\n",
       "      <td>0.625</td>\n",
       "      <td>0.0</td>\n",
       "      <td>0.0</td>\n",
       "      <td>0.208333</td>\n",
       "      <td>0.625</td>\n",
       "      <td>0.181787</td>\n",
       "    </tr>\n",
       "    <tr>\n",
       "      <th>2</th>\n",
       "      <td>01</td>\n",
       "      <td>2</td>\n",
       "      <td>0.629958</td>\n",
       "      <td>0.775900</td>\n",
       "      <td>0.449363</td>\n",
       "      <td>0.174093</td>\n",
       "      <td>0.056857</td>\n",
       "      <td>0.028176</td>\n",
       "      <td>0.088793</td>\n",
       "      <td>0.042391</td>\n",
       "      <td>0.004748</td>\n",
       "      <td>0.002267</td>\n",
       "      <td>0.0</td>\n",
       "      <td>0.0</td>\n",
       "      <td>0.093542</td>\n",
       "      <td>0.044658</td>\n",
       "      <td>0.458333</td>\n",
       "      <td>0.500000</td>\n",
       "      <td>0.583333</td>\n",
       "      <td>0.583333</td>\n",
       "      <td>0.416667</td>\n",
       "      <td>0.750000</td>\n",
       "      <td>0.166667</td>\n",
       "      <td>0.625</td>\n",
       "      <td>0.208333</td>\n",
       "      <td>0.625</td>\n",
       "      <td>0.0</td>\n",
       "      <td>0.0</td>\n",
       "      <td>0.250000</td>\n",
       "      <td>0.625</td>\n",
       "      <td>0.265921</td>\n",
       "    </tr>\n",
       "    <tr>\n",
       "      <th>3</th>\n",
       "      <td>01</td>\n",
       "      <td>3</td>\n",
       "      <td>0.615482</td>\n",
       "      <td>0.773661</td>\n",
       "      <td>0.633459</td>\n",
       "      <td>0.175162</td>\n",
       "      <td>0.055286</td>\n",
       "      <td>0.027917</td>\n",
       "      <td>0.089002</td>\n",
       "      <td>0.042502</td>\n",
       "      <td>0.004760</td>\n",
       "      <td>0.002273</td>\n",
       "      <td>0.0</td>\n",
       "      <td>0.0</td>\n",
       "      <td>0.093761</td>\n",
       "      <td>0.044775</td>\n",
       "      <td>0.416667</td>\n",
       "      <td>0.583333</td>\n",
       "      <td>0.583333</td>\n",
       "      <td>0.625000</td>\n",
       "      <td>0.333333</td>\n",
       "      <td>0.750000</td>\n",
       "      <td>0.166667</td>\n",
       "      <td>0.625</td>\n",
       "      <td>0.250000</td>\n",
       "      <td>0.625</td>\n",
       "      <td>0.0</td>\n",
       "      <td>0.0</td>\n",
       "      <td>0.208333</td>\n",
       "      <td>0.625</td>\n",
       "      <td>0.423650</td>\n",
       "    </tr>\n",
       "    <tr>\n",
       "      <th>4</th>\n",
       "      <td>01</td>\n",
       "      <td>4</td>\n",
       "      <td>0.625636</td>\n",
       "      <td>0.781317</td>\n",
       "      <td>0.449613</td>\n",
       "      <td>0.175475</td>\n",
       "      <td>0.054660</td>\n",
       "      <td>0.026141</td>\n",
       "      <td>0.088830</td>\n",
       "      <td>0.042400</td>\n",
       "      <td>0.004751</td>\n",
       "      <td>0.002268</td>\n",
       "      <td>0.0</td>\n",
       "      <td>0.0</td>\n",
       "      <td>0.093580</td>\n",
       "      <td>0.044668</td>\n",
       "      <td>0.625000</td>\n",
       "      <td>0.541667</td>\n",
       "      <td>0.416667</td>\n",
       "      <td>0.375000</td>\n",
       "      <td>0.500000</td>\n",
       "      <td>0.750000</td>\n",
       "      <td>0.166667</td>\n",
       "      <td>0.625</td>\n",
       "      <td>0.208333</td>\n",
       "      <td>0.625</td>\n",
       "      <td>0.0</td>\n",
       "      <td>0.0</td>\n",
       "      <td>0.250000</td>\n",
       "      <td>0.625</td>\n",
       "      <td>0.475272</td>\n",
       "    </tr>\n",
       "  </tbody>\n",
       "</table>\n",
       "</div>"
      ],
      "text/plain": [
       "  case_num  DAT   내부온도관측치   내부습도관측치    co2관측치     ec관측치    시간당분무량   일간누적분무량  \\\n",
       "0       01    0  0.639742  0.780613  0.445912  0.174202  0.055018  0.027159   \n",
       "1       01    1  0.653965  0.780750  0.436655  0.173054  0.055286  0.027917   \n",
       "2       01    2  0.629958  0.775900  0.449363  0.174093  0.056857  0.028176   \n",
       "3       01    3  0.615482  0.773661  0.633459  0.175162  0.055286  0.027917   \n",
       "4       01    4  0.625636  0.781317  0.449613  0.175475  0.054660  0.026141   \n",
       "\n",
       "    시간당백색광량  일간누적백색광량   시간당적색광량  일간누적적색광량  시간당청색광량  일간누적청색광량    시간당총광량  \\\n",
       "0  0.088777  0.042402  0.004756  0.002273      0.0       0.0  0.093533   \n",
       "1  0.089002  0.042502  0.004760  0.002273      0.0       0.0  0.093761   \n",
       "2  0.088793  0.042391  0.004748  0.002267      0.0       0.0  0.093542   \n",
       "3  0.089002  0.042502  0.004760  0.002273      0.0       0.0  0.093761   \n",
       "4  0.088830  0.042400  0.004751  0.002268      0.0       0.0  0.093580   \n",
       "\n",
       "    일간누적총광량  내부온도관측치_higher_than_yesterday  내부습도관측치_higher_than_yesterday  \\\n",
       "0  0.044675                       0.666667                       0.625000   \n",
       "1  0.044775                       0.541667                       0.416667   \n",
       "2  0.044658                       0.458333                       0.500000   \n",
       "3  0.044775                       0.416667                       0.583333   \n",
       "4  0.044668                       0.625000                       0.541667   \n",
       "\n",
       "   co2관측치_higher_than_yesterday  ec관측치_higher_than_yesterday  \\\n",
       "0                      0.416667                     0.208333   \n",
       "1                      0.541667                     0.458333   \n",
       "2                      0.583333                     0.583333   \n",
       "3                      0.583333                     0.625000   \n",
       "4                      0.416667                     0.375000   \n",
       "\n",
       "   시간당분무량_higher_than_yesterday  일간누적분무량_higher_than_yesterday  \\\n",
       "0                      0.416667                       0.791667   \n",
       "1                      0.375000                       0.750000   \n",
       "2                      0.416667                       0.750000   \n",
       "3                      0.333333                       0.750000   \n",
       "4                      0.500000                       0.750000   \n",
       "\n",
       "   시간당백색광량_higher_than_yesterday  일간누적백색광량_higher_than_yesterday  \\\n",
       "0                       0.166667                           0.625   \n",
       "1                       0.166667                           0.625   \n",
       "2                       0.166667                           0.625   \n",
       "3                       0.166667                           0.625   \n",
       "4                       0.166667                           0.625   \n",
       "\n",
       "   시간당적색광량_higher_than_yesterday  일간누적적색광량_higher_than_yesterday  \\\n",
       "0                       0.250000                           0.625   \n",
       "1                       0.250000                           0.625   \n",
       "2                       0.208333                           0.625   \n",
       "3                       0.250000                           0.625   \n",
       "4                       0.208333                           0.625   \n",
       "\n",
       "   시간당청색광량_higher_than_yesterday  일간누적청색광량_higher_than_yesterday  \\\n",
       "0                            0.0                             0.0   \n",
       "1                            0.0                             0.0   \n",
       "2                            0.0                             0.0   \n",
       "3                            0.0                             0.0   \n",
       "4                            0.0                             0.0   \n",
       "\n",
       "   시간당총광량_higher_than_yesterday  일간누적총광량_higher_than_yesterday  \\\n",
       "0                      0.291667                          0.625   \n",
       "1                      0.208333                          0.625   \n",
       "2                      0.250000                          0.625   \n",
       "3                      0.208333                          0.625   \n",
       "4                      0.250000                          0.625   \n",
       "\n",
       "   predicted_weight_g  \n",
       "0            0.167719  \n",
       "1            0.181787  \n",
       "2            0.265921  \n",
       "3            0.423650  \n",
       "4            0.475272  "
      ]
     },
     "execution_count": 22,
     "metadata": {},
     "output_type": "execute_result"
    }
   ],
   "source": [
    "plot_df = pd.concat([input_df,label_df.reset_index(drop=True)],axis=1)\n",
    "plot_df.head()"
   ]
  },
  {
   "cell_type": "code",
   "execution_count": 23,
   "id": "3c483122-72d7-491e-a2f3-0e473a5d8f9d",
   "metadata": {},
   "outputs": [
    {
     "data": {
      "text/plain": [
       "<AxesSubplot: xlabel='case_num', ylabel='predicted_weight_g'>"
      ]
     },
     "execution_count": 23,
     "metadata": {},
     "output_type": "execute_result"
    },
    {
     "data": {
      "image/png": "[encoded data removed]",
      "text/plain": [
       "<Figure size 640x480 with 1 Axes>"
      ]
     },
     "metadata": {},
     "output_type": "display_data"
    }
   ],
   "source": [
    "sns.boxplot(x=plot_df.case_num,y=plot_df['predicted_weight_g'])"
   ]
  },
  {
   "cell_type": "code",
   "execution_count": 38,
   "id": "591670ce-257e-4261-b42e-39efab14db50",
   "metadata": {},
   "outputs": [
    {
     "data": {
      "text/plain": [
       "<matplotlib.lines.Line2D at 0x7f6e3253c160>"
      ]
     },
     "execution_count": 38,
     "metadata": {},
     "output_type": "execute_result"
    },
    {
     "data": {
      "image/png": "[encoded data removed]",
      "text/plain": [
       "<Figure size 640x480 with 1 Axes>"
      ]
     },
     "metadata": {},
     "output_type": "display_data"
    }
   ],
   "source": [
    "sns.boxplot(x=plot_df.case_num,y=plot_df['시간당총광량'])\n",
    "plt.axvline(21-1,color='red',linestyle='--')\n",
    "plt.axvline(22-1,color='red',linestyle='--')"
   ]
  },
  {
   "cell_type": "markdown",
   "id": "94bec9d3-4050-4954-bbcb-97130bba353a",
   "metadata": {},
   "source": [
    "<br>\n",
    "\n",
    "## train_test_split"
   ]
  },
  {
   "cell_type": "markdown",
   "id": "8b749d99-6b59-4ba9-9fe6-9eeb69081a66",
   "metadata": {},
   "source": [
    "### OLS"
   ]
  },
  {
   "cell_type": "code",
   "execution_count": null,
   "id": "a6a93235-92e7-4665-903f-1b18f5a872eb",
   "metadata": {},
   "outputs": [],
   "source": [
    "from sklearn.model_selection import train_test_split\n",
    "\n",
    "X_train, X_valid, y_train, y_valid = train_test_split(input_df, label_df, test_size=0.05, random_state=42)\n",
    "print(X_train.shape, X_valid.shape)"
   ]
  },
  {
   "cell_type": "code",
   "execution_count": null,
   "id": "dfcc6ca1-745e-45e2-8c7b-b997635f8858",
   "metadata": {},
   "outputs": [],
   "source": [
    "from sklearn.linear_model import LinearRegression, PoissonRegressor\n",
    "\n",
    "model = LinearRegression()\n",
    "model.fit(X_train,y_train)\n",
    "\n",
    "tr_pred = model.predict(X_train)\n",
    "va_pred = model.predict(X_valid)\n",
    "\n",
    "# X_train['ols_pred'] = np.exp(X_train['ols_pred'])\n",
    "# X_valid['ols_pred'] = np.exp(X_valid['ols_pred'])"
   ]
  },
  {
   "cell_type": "code",
   "execution_count": null,
   "id": "387784d7-2e0d-4e56-8d2b-892c43235ec8",
   "metadata": {},
   "outputs": [],
   "source": [
    "from sklearn.metrics import mean_squared_error\n",
    "\n",
    "tr_mse = np.sqrt(mean_squared_error(tr_pred,y_train))\n",
    "va_mse = np.sqrt(mean_squared_error(va_pred,y_valid))\n",
    "\n",
    "print(tr_mse,va_mse)"
   ]
  },
  {
   "cell_type": "markdown",
   "id": "94e13a87-11fd-4856-b7ab-10c9a78c93f7",
   "metadata": {},
   "source": [
    "<br>\n",
    "\n",
    "### CatBoost"
   ]
  },
  {
   "cell_type": "code",
   "execution_count": null,
   "id": "2aad38d1-429c-464a-89a7-e5b4f0a2ad6a",
   "metadata": {},
   "outputs": [],
   "source": [
    "from sklearn.model_selection import train_test_split\n",
    "\n",
    "X_train, X_valid, y_train, y_valid = train_test_split(input_df, label_df, test_size=0.05, random_state=42)\n",
    "print(X_train.shape, X_valid.shape)"
   ]
  },
  {
   "cell_type": "code",
   "execution_count": null,
   "id": "a340a65c-f5f7-40ea-9ad2-bf7c0013c244",
   "metadata": {},
   "outputs": [],
   "source": [
    "from catboost import CatBoostRegressor\n",
    "\n",
    "model = CatBoostRegressor(iterations=5000,metric_period=1000,random_state=42)\n",
    "model.fit(X_train,y_train,eval_set=[(X_valid,y_valid)])\n",
    "\n",
    "tr_pred = model.predict(X_train)\n",
    "va_pred = model.predict(X_valid)\n",
    "\n",
    "# X_train['cat_pred'] = np.exp(X_train['cat_pred'])\n",
    "# X_valid['cat_pred'] = np.exp(X_valid['cat_pred'])"
   ]
  },
  {
   "cell_type": "code",
   "execution_count": null,
   "id": "4186c79e-274d-410e-92d8-3a186d903a9b",
   "metadata": {},
   "outputs": [],
   "source": [
    "from sklearn.metrics import mean_squared_error\n",
    "\n",
    "tr_mse = np.sqrt(mean_squared_error(tr_pred,y_train))\n",
    "va_mse = np.sqrt(mean_squared_error(va_pred,y_valid))\n",
    "\n",
    "print(tr_mse,va_mse)"
   ]
  },
  {
   "cell_type": "markdown",
   "id": "caead1ff-6d9e-4164-a9c4-47f41bcccab9",
   "metadata": {},
   "source": [
    "<br></br>\n",
    "\n",
    "## K-Fold"
   ]
  },
  {
   "cell_type": "code",
   "execution_count": null,
   "id": "8ba262c6-009a-4165-b050-aae0d10e98bb",
   "metadata": {},
   "outputs": [],
   "source": [
    "test_d = test_df.groupby(['case_num','DAT']).mean().reset_index()"
   ]
  },
  {
   "cell_type": "markdown",
   "id": "cafc9faf-b652-42e3-835c-d711506ef4bb",
   "metadata": {},
   "source": [
    "<br>\n",
    "\n",
    "### OLS"
   ]
  },
  {
   "cell_type": "code",
   "execution_count": null,
   "id": "b3b2738c-9526-41b7-9863-4338f1e64145",
   "metadata": {},
   "outputs": [],
   "source": [
    "X_train, X_test, y_train, y_test = train_test_split(input_df,label_df,test_size=0.05)\n",
    "print(X_train.shape,X_test.shape)"
   ]
  },
  {
   "cell_type": "code",
   "execution_count": null,
   "id": "be894086-436c-4781-9268-16c82151bec8",
   "metadata": {},
   "outputs": [],
   "source": [
    "from sklearn.model_selection import KFold\n",
    "from sklearn.linear_model import LinearRegression, PoissonRegressor\n",
    "\n",
    "X_ref = X_train\n",
    "y_ref = y_train\n",
    "\n",
    "tr_preds = []\n",
    "va_preds = []\n",
    "te_preds = []\n",
    "models = []\n",
    "\n",
    "kf = KFold(n_splits=10, shuffle=True, random_state=42)\n",
    "for tr_idx, va_idx in kf.split(X_ref):\n",
    "    X_tr, X_va = X_ref.iloc[tr_idx,:], X_ref.iloc[va_idx,:]\n",
    "    y_tr, y_va = y_ref.iloc[tr_idx]  , y_ref.iloc[va_idx]\n",
    "    \n",
    "    model = LinearRegression()\n",
    "    model.fit(X_tr,y_tr)\n",
    "    models.append(model)\n",
    "    \n",
    "    tr_pred = model.predict(X_tr)\n",
    "    va_pred = model.predict(X_va)\n",
    "    te_pred = model.predict(X_test)\n",
    "    \n",
    "    # tr_pred = np.exp(tr_pred)\n",
    "    # va_pred = np.exp(va_pred)\n",
    "    \n",
    "    tr_preds.append(tr_pred)\n",
    "    va_preds.append(va_pred)\n",
    "    te_preds.append(te_pred)\n",
    "    \n",
    "    tr_rmse = np.sqrt(mean_squared_error(tr_pred,y_tr))\n",
    "    va_rmse = np.sqrt(mean_squared_error(va_pred,y_va))\n",
    "    te_rmse = np.sqrt(mean_squared_error(te_pred,y_test))\n",
    "    print('train : [{:.4f}], validation : [{:.4f}], test : [{:.4f}]'.format(tr_rmse,va_rmse,te_rmse))"
   ]
  },
  {
   "cell_type": "code",
   "execution_count": null,
   "id": "3d914d99-9f92-40ad-be0e-36b53a5ec137",
   "metadata": {},
   "outputs": [],
   "source": [
    "pred = np.mean([model.predict(X_test) for model in models],axis=0) # input_df\n",
    "true = y_test # label_df\n",
    "\n",
    "np.sqrt(mean_squared_error(pred,true))"
   ]
  },
  {
   "cell_type": "code",
   "execution_count": null,
   "id": "8d22c4ec-25c0-442b-b00a-81ea248842ce",
   "metadata": {},
   "outputs": [],
   "source": [
    "import seaborn as sns\n",
    "\n",
    "plt.figure(figsize=(15,7))\n",
    "sns.scatterplot(x=true,y=pred)\n",
    "plt.xlabel('actual')\n",
    "plt.ylabel('prediction')\n",
    "abline(slope=1,intercept=0,color='red')\n",
    "plt.show()"
   ]
  },
  {
   "cell_type": "code",
   "execution_count": null,
   "id": "4ed9efaa-23c2-4376-a0fb-e53a3022a04b",
   "metadata": {},
   "outputs": [],
   "source": [
    "pred = np.mean([model.predict(test_d[X_train.columns]) for model in models],axis=0)\n",
    "test_d['lr_pred']=pred\n",
    "test_d.to_csv('./out/test_d.csv',index=False)"
   ]
  },
  {
   "cell_type": "markdown",
   "id": "1bc2f9c6-c048-408b-8725-c5b6d0515752",
   "metadata": {},
   "source": [
    "<br>\n",
    "\n",
    "### CatBoost"
   ]
  },
  {
   "cell_type": "code",
   "execution_count": null,
   "id": "5ae6d607-00d7-4425-866b-dfed374f93d7",
   "metadata": {},
   "outputs": [],
   "source": [
    "X_train, X_test, y_train, y_test = train_test_split(input_df,label_df,test_size=0.05)\n",
    "print(X_train.shape,X_test.shape)"
   ]
  },
  {
   "cell_type": "code",
   "execution_count": null,
   "id": "5ff47ae8-03d2-4277-9137-dbcd1a99b406",
   "metadata": {},
   "outputs": [],
   "source": [
    "from sklearn.model_selection import KFold\n",
    "from catboost import CatBoostRegressor\n",
    "\n",
    "X_ref = X_train\n",
    "y_ref = y_train\n",
    "\n",
    "tr_preds = []\n",
    "va_preds = []\n",
    "te_preds = []\n",
    "models = []\n",
    "\n",
    "kf = KFold(n_splits=10, shuffle=True, random_state=42)\n",
    "pbar = tqdm(kf.split(X_ref),total=10)\n",
    "for tr_idx, va_idx in pbar:\n",
    "    X_tr, X_va = X_ref.iloc[tr_idx,:], X_ref.iloc[va_idx,:]\n",
    "    y_tr, y_va = y_ref.iloc[tr_idx]  , y_ref.iloc[va_idx]\n",
    "    \n",
    "    model = CatBoostRegressor(iterations=5000,metric_period=200,random_state=42,verbose=0)\n",
    "    model.fit(X_tr,y_tr,eval_set=[(X_va,y_va)])\n",
    "    models.append(model)\n",
    "    \n",
    "    tr_pred = model.predict(X_tr)\n",
    "    va_pred = model.predict(X_va)\n",
    "    te_pred = model.predict(X_test)\n",
    "    \n",
    "    # tr_pred = np.exp(tr_pred)\n",
    "    # va_pred = np.exp(va_pred)\n",
    "    \n",
    "    tr_preds.append(tr_pred)\n",
    "    va_preds.append(va_pred)\n",
    "    te_preds.append(te_pred)\n",
    "    \n",
    "    tr_rmse = np.sqrt(mean_squared_error(tr_pred,y_tr))\n",
    "    va_rmse = np.sqrt(mean_squared_error(va_pred,y_va))\n",
    "    te_rmse = np.sqrt(mean_squared_error(te_pred,y_test))\n",
    "    print('train : [{:.4f}], validation : [{:.4f}], test : [{:.4f}]'.format(tr_rmse,va_rmse,te_rmse))"
   ]
  },
  {
   "cell_type": "code",
   "execution_count": null,
   "id": "ef937a9a-85db-413a-a7ad-ab08e7f1fb61",
   "metadata": {},
   "outputs": [],
   "source": [
    "pred = np.mean([model.predict(X_test) for model in models],axis=0) # X_test, input_df\n",
    "true = y_test # y_test, label_df\n",
    "\n",
    "np.sqrt(mean_squared_error(pred,true))"
   ]
  },
  {
   "cell_type": "code",
   "execution_count": null,
   "id": "372f9739-77b0-4ab9-be44-f268e2a4332e",
   "metadata": {},
   "outputs": [],
   "source": [
    "import seaborn as sns\n",
    "\n",
    "plt.figure(figsize=(15,7))\n",
    "sns.scatterplot(x=true,y=pred)\n",
    "plt.xlabel('actual')\n",
    "plt.ylabel('prediction')\n",
    "abline(slope=1,intercept=0,color='red')\n",
    "plt.show()"
   ]
  },
  {
   "cell_type": "code",
   "execution_count": null,
   "id": "70c1ad2d-8738-45a5-90f7-81e41eba93c0",
   "metadata": {},
   "outputs": [],
   "source": [
    "pred = np.mean([model.predict(test_d[X_train.columns]) for model in models],axis=0)\n",
    "test_d['cat_pred']=pred\n",
    "test_d.to_csv('./out/test_d.csv',index=False)"
   ]
  },
  {
   "cell_type": "markdown",
   "id": "741d5184-af79-4c63-972d-7fc2072ecec2",
   "metadata": {},
   "source": [
    "<br>\n",
    "\n",
    "### XGBoost"
   ]
  },
  {
   "cell_type": "code",
   "execution_count": null,
   "id": "2e0e06e5-ada5-4067-864d-c84fe1282f8d",
   "metadata": {},
   "outputs": [],
   "source": [
    "X_train, X_test, y_train, y_test = train_test_split(input_df,label_df,test_size=0.05)\n",
    "print(X_train.shape,X_test.shape)"
   ]
  },
  {
   "cell_type": "code",
   "execution_count": null,
   "id": "d89d732b-8b8b-4d5b-9bd6-286585a3f31d",
   "metadata": {},
   "outputs": [],
   "source": [
    "from sklearn.model_selection import KFold\n",
    "from xgboost import XGBRegressor\n",
    "\n",
    "X_ref = X_train\n",
    "y_ref = y_train\n",
    "\n",
    "tr_preds = []\n",
    "va_preds = []\n",
    "te_preds = []\n",
    "models = []\n",
    "\n",
    "kf = KFold(n_splits=10, shuffle=True, random_state=42)\n",
    "pbar = tqdm(kf.split(X_ref),total=10)\n",
    "for tr_idx, va_idx in pbar:\n",
    "    X_tr, X_va = X_ref.iloc[tr_idx,:], X_ref.iloc[va_idx,:]\n",
    "    y_tr, y_va = y_ref.iloc[tr_idx]  , y_ref.iloc[va_idx]\n",
    "    \n",
    "    model = XGBRegressor(n_estimators=5000,random_state=42)\n",
    "    model.fit(X_tr,y_tr,eval_set=[(X_va,y_va)],verbose=0)\n",
    "    models.append(model)\n",
    "    \n",
    "    tr_pred = model.predict(X_tr)\n",
    "    va_pred = model.predict(X_va)\n",
    "    te_pred = model.predict(X_test)\n",
    "    \n",
    "    tr_preds.append(tr_pred)\n",
    "    va_preds.append(va_pred)\n",
    "    te_preds.append(te_pred)\n",
    "    \n",
    "    tr_rmse = np.sqrt(mean_squared_error(tr_pred,y_tr))\n",
    "    va_rmse = np.sqrt(mean_squared_error(va_pred,y_va))\n",
    "    te_rmse = np.sqrt(mean_squared_error(te_pred,y_test))\n",
    "    print('train : [{:.4f}], validation : [{:.4f}], test : [{:.4f}]'.format(tr_rmse,va_rmse,te_rmse))"
   ]
  },
  {
   "cell_type": "code",
   "execution_count": null,
   "id": "d553f93a-3c60-445e-b556-cb9f13c46610",
   "metadata": {},
   "outputs": [],
   "source": [
    "pred = np.mean([model.predict(X_test) for model in models],axis=0)\n",
    "true = y_test\n",
    "\n",
    "np.sqrt(mean_squared_error(pred,true))"
   ]
  },
  {
   "cell_type": "code",
   "execution_count": null,
   "id": "15563da1-be08-45f4-ac42-85bd40f98ec4",
   "metadata": {},
   "outputs": [],
   "source": [
    "import seaborn as sns\n",
    "\n",
    "plt.figure(figsize=(15,7))\n",
    "sns.scatterplot(x=true,y=pred)\n",
    "plt.xlabel('actual')\n",
    "plt.ylabel('prediction')\n",
    "abline(slope=1,intercept=0,color='red')\n",
    "plt.show()"
   ]
  },
  {
   "cell_type": "code",
   "execution_count": null,
   "id": "a3e071d7-507a-4e42-a883-39ff224f52ff",
   "metadata": {},
   "outputs": [],
   "source": [
    "pred = np.mean([model.predict(test_d[X_train.columns]) for model in models],axis=0)\n",
    "test_d['xgb_pred']=pred\n",
    "test_d.to_csv('./out/test_d.csv',index=False)"
   ]
  },
  {
   "cell_type": "markdown",
   "id": "ec51bc00-674c-4f72-9ffb-dcfb42a2d2a6",
   "metadata": {},
   "source": [
    "<br>\n",
    "\n",
    "### LightGBM"
   ]
  },
  {
   "cell_type": "code",
   "execution_count": null,
   "id": "a98f9bb6-23ec-4db2-94cc-71b29620452a",
   "metadata": {},
   "outputs": [],
   "source": [
    "# X_train, X_test, y_train, y_test = train_test_split(input_df,label_df,test_size=0.05)\n",
    "# print(X_train.shape,X_test.shape)"
   ]
  },
  {
   "cell_type": "code",
   "execution_count": null,
   "id": "07d3c346-7faa-4c25-9a04-54ca3e75c319",
   "metadata": {},
   "outputs": [],
   "source": [
    "from sklearn.model_selection import KFold\n",
    "from lightgbm import LGBMRegressor\n",
    "\n",
    "X_ref = X_train\n",
    "y_ref = y_train\n",
    "\n",
    "tr_preds = []\n",
    "va_preds = []\n",
    "te_preds = []\n",
    "models = []\n",
    "\n",
    "kf = KFold(n_splits=10, shuffle=True, random_state=42)\n",
    "pbar = tqdm(kf.split(X_ref),total=10)\n",
    "for tr_idx, va_idx in pbar:\n",
    "    X_tr, X_va = X_ref.iloc[tr_idx,:], X_ref.iloc[va_idx,:]\n",
    "    y_tr, y_va = y_ref.iloc[tr_idx]  , y_ref.iloc[va_idx]\n",
    "    \n",
    "    model = LGBMRegressor(n_estimators=5000,random_state=42)\n",
    "    model.fit(X_tr,y_tr,eval_set=[(X_va,y_va)],verbose=0)\n",
    "    models.append(model)\n",
    "    \n",
    "    tr_pred = model.predict(X_tr)\n",
    "    va_pred = model.predict(X_va)\n",
    "    te_pred = model.predict(X_test)\n",
    "    \n",
    "    # tr_pred = np.exp(tr_pred)\n",
    "    # va_pred = np.exp(va_pred)\n",
    "    \n",
    "    tr_preds.append(tr_pred)\n",
    "    va_preds.append(va_pred)\n",
    "    te_preds.append(te_pred)\n",
    "    \n",
    "    tr_rmse = np.sqrt(mean_squared_error(tr_pred,y_tr))\n",
    "    va_rmse = np.sqrt(mean_squared_error(va_pred,y_va))\n",
    "    te_rmse = np.sqrt(mean_squared_error(te_pred,y_test))\n",
    "    print('train : [{:.4f}], validation : [{:.4f}], test : [{:.4f}]'.format(tr_rmse,va_rmse,te_rmse))"
   ]
  },
  {
   "cell_type": "code",
   "execution_count": null,
   "id": "c8b2d738-c992-4563-91e3-f948a9faff49",
   "metadata": {},
   "outputs": [],
   "source": [
    "pred = np.mean([model.predict(X_test) for model in models],axis=0)\n",
    "true = y_test\n",
    "\n",
    "np.sqrt(mean_squared_error(pred,true))"
   ]
  },
  {
   "cell_type": "code",
   "execution_count": null,
   "id": "d1e665ae-e373-433b-9dbf-5214ff38482a",
   "metadata": {},
   "outputs": [],
   "source": [
    "import seaborn as sns\n",
    "\n",
    "plt.figure(figsize=(15,7))\n",
    "sns.scatterplot(x=true,y=pred)\n",
    "plt.xlabel('actual')\n",
    "plt.ylabel('prediction')\n",
    "abline(slope=1,intercept=0,color='red')\n",
    "plt.show()"
   ]
  },
  {
   "cell_type": "code",
   "execution_count": null,
   "id": "f63ffa8b-6d4c-439d-9547-c0eef3681645",
   "metadata": {},
   "outputs": [],
   "source": [
    "pred = np.mean([model.predict(test_d[X_train.columns]) for model in models],axis=0)\n",
    "test_d['lgb_pred']=pred\n",
    "test_d.to_csv('./out/test_d.csv',index=False)"
   ]
  },
  {
   "cell_type": "markdown",
   "id": "751294f7-3e6d-4dc3-a5bc-29c686adda4f",
   "metadata": {},
   "source": [
    "<br></br>\n",
    "\n",
    "### Ensemble"
   ]
  },
  {
   "cell_type": "code",
   "execution_count": null,
   "id": "6e8d4b84-ec09-42f9-aecf-87fc92e57ece",
   "metadata": {},
   "outputs": [],
   "source": [
    "test_d['ensemble_pred'] = (test_d['cat_pred']+test_d['xgb_pred']+test_d['lgb_pred'])/3"
   ]
  },
  {
   "cell_type": "code",
   "execution_count": null,
   "id": "bc303ff2-bdc1-4bfe-b97c-fd5eb676d94b",
   "metadata": {},
   "outputs": [],
   "source": [
    "case_num='01'\n",
    "\n",
    "d = test_d[test_d.case_num==case_num]\n",
    "\n",
    "plot_df = []\n",
    "for col in ['lr_pred','cat_pred','xgb_pred','lgb_pred','ensemble_pred']:\n",
    "    plot_df.append(d[['DAT',col]].rename(columns={col:'target'}).assign(grp=col))\n",
    "plot_df = pd.concat(plot_df,axis=0)    \n",
    "\n",
    "plt.figure(figsize=(15,7))\n",
    "sns.lineplot(x=plot_df.DAT,y=plot_df.target,hue=plot_df.grp)\n",
    "plt.show()"
   ]
  },
  {
   "cell_type": "markdown",
   "id": "a93c88c8-95f2-4eae-a9ff-c81becba0d97",
   "metadata": {},
   "source": [
    "<br></br>\n",
    "\n",
    "# Inference"
   ]
  },
  {
   "cell_type": "code",
   "execution_count": null,
   "id": "b99b0966-ee52-4f79-930a-9fb21af7fceb",
   "metadata": {},
   "outputs": [],
   "source": [
    "test_d['predicted_weight_g'] = test_d['ensemble_pred']"
   ]
  },
  {
   "cell_type": "code",
   "execution_count": null,
   "id": "8fb37033-8e14-4339-a283-9bfbf044b6f0",
   "metadata": {},
   "outputs": [],
   "source": [
    "os.chdir('/home/studio-lab-user/Dacon/6_상추생육환경생성')\n",
    "\n",
    "name = 'kf_ensemble'\n",
    "if not os.path.exists(f'./out/{name}'):\n",
    "    os.mkdir(f'./out/{name}')\n",
    "\n",
    "test_d = test_d[['case_num','DAT','predicted_weight_g']]\n",
    "for case_num in test_d.case_num.unique():\n",
    "    d = test_d[test_d.case_num==case_num].drop('case_num',axis=1)\n",
    "    d.to_csv(f'./out/{name}/TEST_{case_num}.csv',index=False)"
   ]
  },
  {
   "cell_type": "code",
   "execution_count": null,
   "id": "db2b7aab-3733-44c9-9595-42a3801d751e",
   "metadata": {},
   "outputs": [],
   "source": [
    "import zipfile\n",
    "os.chdir(f\"./out/{name}/\")\n",
    "submission = zipfile.ZipFile(f\"../{name}.zip\", 'w')\n",
    "for path in glob.glob('./*.csv'):\n",
    "    submission.write(path)\n",
    "submission.close()"
   ]
  },
  {
   "cell_type": "code",
   "execution_count": null,
   "id": "a817abff-8c2b-45d2-9bb3-5b9c6da2ac7b",
   "metadata": {},
   "outputs": [],
   "source": []
  }
 ],
 "metadata": {
  "kernelspec": {
   "display_name": "default:Python",
   "language": "python",
   "name": "conda-env-default-py"
  },
  "language_info": {
   "codemirror_mode": {
    "name": "ipython",
    "version": 3
   },
   "file_extension": ".py",
   "mimetype": "text/x-python",
   "name": "python",
   "nbconvert_exporter": "python",
   "pygments_lexer": "ipython3",
   "version": "3.9.13"
  },
  "toc-autonumbering": true
 },
 "nbformat": 4,
 "nbformat_minor": 5
}
