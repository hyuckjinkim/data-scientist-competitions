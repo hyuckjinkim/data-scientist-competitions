{
 "cells": [
  {
   "cell_type": "markdown",
   "id": "af77b913-f015-4007-be42-30ae6a333ca1",
   "metadata": {},
   "source": [
    "# Setting"
   ]
  },
  {
   "cell_type": "code",
   "execution_count": 1,
   "id": "5c9f7d4e-ab9a-4395-bc16-bc706a1ca199",
   "metadata": {},
   "outputs": [],
   "source": [
    "import sys\n",
    "sys.path.append('/Volumes/KHJ/Github/hyuckjinkim/lib-python')"
   ]
  },
  {
   "cell_type": "code",
   "execution_count": 2,
   "id": "2854769b-3b79-4c98-84f4-52ad1b359eb5",
   "metadata": {},
   "outputs": [],
   "source": [
    "from base import gc_collect_all, setdiff\n",
    "from filesystem_utils import mkdir\n",
    "from graph import abline\n",
    "from data_prepare import (\n",
    "    get_holiday, reduce_mem_usage, delete_unique_columns,\n",
    "    TypeController, CategoricalQuantileCalculator,\n",
    "    GroupScaler, OneHotEncoder, InteractionTerm, TargetTransform,\n",
    ")"
   ]
  },
  {
   "cell_type": "code",
   "execution_count": 3,
   "id": "67449413-8042-474d-911a-2cca74a22b02",
   "metadata": {},
   "outputs": [],
   "source": [
    "gc_collect_all()"
   ]
  },
  {
   "cell_type": "code",
   "execution_count": 4,
   "id": "8cf8d4e3-cf63-4139-b1a0-1d83aa947d76",
   "metadata": {
    "tags": []
   },
   "outputs": [],
   "source": [
    "from tqdm import tqdm\n",
    "tqdm.pandas()\n",
    "\n",
    "import numpy as np\n",
    "import pandas as pd\n",
    "pd.set_option('display.max_rows', None)\n",
    "pd.set_option('display.max_columns', None)\n",
    "\n",
    "import seaborn as sns\n",
    "import matplotlib.pyplot as plt\n",
    "from matplotlib import rc\n",
    "rc('font', family='AppleGothic')\n",
    "plt.rcParams['axes.unicode_minus'] = False\n",
    "\n",
    "import datetime\n",
    "\n",
    "pd.set_option('mode.chained_assignment',  None)"
   ]
  },
  {
   "cell_type": "code",
   "execution_count": 5,
   "id": "4e858b65-34a3-4316-a786-808493234334",
   "metadata": {},
   "outputs": [],
   "source": [
    "def global_assignment(dictionary):\n",
    "    for k,v in dictionary.items():\n",
    "        exec(\"globals()['{}']=dictionary['{}']\".format(k,k))"
   ]
  },
  {
   "cell_type": "code",
   "execution_count": 6,
   "id": "fd177e5a-ea24-45ea-9307-d3a6234c6a96",
   "metadata": {},
   "outputs": [
    {
     "data": {
      "text/plain": [
       "'/Volumes/KHJ/Github/hyuckjinkim/data-scientist-competitions/Dacon/19_추석선물수요량예측'"
      ]
     },
     "execution_count": 6,
     "metadata": {},
     "output_type": "execute_result"
    }
   ],
   "source": [
    "import os\n",
    "os.getcwd()"
   ]
  },
  {
   "cell_type": "code",
   "execution_count": 7,
   "id": "e43227c3-5008-497d-a4cf-a2702ef11803",
   "metadata": {},
   "outputs": [],
   "source": [
    "mkdir(['./out','./mc'])"
   ]
  },
  {
   "cell_type": "markdown",
   "id": "5855a40f-6cce-485f-815e-4a51fecc97a6",
   "metadata": {},
   "source": [
    "<br></br>"
   ]
  },
  {
   "cell_type": "markdown",
   "id": "d639208b-27fe-4402-b257-a6d4d63cf437",
   "metadata": {},
   "source": [
    "# Configuration"
   ]
  },
  {
   "cell_type": "code",
   "execution_count": 8,
   "id": "0c366a20-8d75-4724-bdab-7fe61053aec0",
   "metadata": {},
   "outputs": [],
   "source": [
    "class CFG:\n",
    "    TARGET = '수요량'\n",
    "    \n",
    "    # feature engineering\n",
    "    SUBSET_DEPTH = 3\n",
    "    TARGET_TRANSFORMATION = 'log' # 'identity','log'\n",
    "    \n",
    "    # kfold\n",
    "    SEED = 0\n",
    "    N_SPLITS = 5"
   ]
  },
  {
   "cell_type": "markdown",
   "id": "bd9ce7a2-9780-48aa-8425-a787e6bb50cb",
   "metadata": {},
   "source": [
    "<br></br>"
   ]
  },
  {
   "cell_type": "markdown",
   "id": "27228de6-1dfa-41b4-82fc-49d90a09a10c",
   "metadata": {},
   "source": [
    "# Data Load"
   ]
  },
  {
   "cell_type": "code",
   "execution_count": 9,
   "id": "71593d6e-292c-407f-890b-2a273b09ae49",
   "metadata": {
    "tags": []
   },
   "outputs": [],
   "source": [
    "train_df = pd.read_csv('./data/train.csv')\n",
    "test_df  = pd.read_csv('./data/test.csv')"
   ]
  },
  {
   "cell_type": "code",
   "execution_count": 10,
   "id": "e65f2620-9e0b-45d1-b194-6491c2f5ddea",
   "metadata": {},
   "outputs": [
    {
     "data": {
      "text/html": [
       "<div>\n",
       "<style scoped>\n",
       "    .dataframe tbody tr th:only-of-type {\n",
       "        vertical-align: middle;\n",
       "    }\n",
       "\n",
       "    .dataframe tbody tr th {\n",
       "        vertical-align: top;\n",
       "    }\n",
       "\n",
       "    .dataframe thead th {\n",
       "        text-align: right;\n",
       "    }\n",
       "</style>\n",
       "<table border=\"1\" class=\"dataframe\">\n",
       "  <thead>\n",
       "    <tr style=\"text-align: right;\">\n",
       "      <th></th>\n",
       "      <th>ID</th>\n",
       "      <th>추석까지 남은 기간(주)</th>\n",
       "      <th>쇼핑몰 구분</th>\n",
       "      <th>가격(원)</th>\n",
       "      <th>프로모션 여부</th>\n",
       "      <th>도시 유형</th>\n",
       "      <th>지역 유형</th>\n",
       "      <th>쇼핑몰 유형</th>\n",
       "      <th>선물 유형</th>\n",
       "      <th>수요량</th>\n",
       "    </tr>\n",
       "  </thead>\n",
       "  <tbody>\n",
       "    <tr>\n",
       "      <th>0</th>\n",
       "      <td>TRAIN_0000</td>\n",
       "      <td>1</td>\n",
       "      <td>쇼핑몰 15</td>\n",
       "      <td>212000</td>\n",
       "      <td>0</td>\n",
       "      <td>도시 6</td>\n",
       "      <td>지역 1</td>\n",
       "      <td>쇼핑몰 유형 2</td>\n",
       "      <td>명절혼합과일선물세트</td>\n",
       "      <td>28</td>\n",
       "    </tr>\n",
       "    <tr>\n",
       "      <th>1</th>\n",
       "      <td>TRAIN_0001</td>\n",
       "      <td>2</td>\n",
       "      <td>쇼핑몰 72</td>\n",
       "      <td>113000</td>\n",
       "      <td>0</td>\n",
       "      <td>도시 21</td>\n",
       "      <td>지역 1</td>\n",
       "      <td>쇼핑몰 유형 1</td>\n",
       "      <td>발효홍삼선물세트</td>\n",
       "      <td>27</td>\n",
       "    </tr>\n",
       "    <tr>\n",
       "      <th>2</th>\n",
       "      <td>TRAIN_0002</td>\n",
       "      <td>0</td>\n",
       "      <td>쇼핑몰 15</td>\n",
       "      <td>67000</td>\n",
       "      <td>0</td>\n",
       "      <td>도시 6</td>\n",
       "      <td>지역 1</td>\n",
       "      <td>쇼핑몰 유형 2</td>\n",
       "      <td>실속스팸선물세트</td>\n",
       "      <td>769</td>\n",
       "    </tr>\n",
       "    <tr>\n",
       "      <th>3</th>\n",
       "      <td>TRAIN_0003</td>\n",
       "      <td>1</td>\n",
       "      <td>쇼핑몰 13</td>\n",
       "      <td>206000</td>\n",
       "      <td>0</td>\n",
       "      <td>도시 12</td>\n",
       "      <td>지역 3</td>\n",
       "      <td>쇼핑몰 유형 1</td>\n",
       "      <td>자연산프리미엄버섯선물세트</td>\n",
       "      <td>27</td>\n",
       "    </tr>\n",
       "    <tr>\n",
       "      <th>4</th>\n",
       "      <td>TRAIN_0004</td>\n",
       "      <td>1</td>\n",
       "      <td>쇼핑몰 65</td>\n",
       "      <td>140000</td>\n",
       "      <td>0</td>\n",
       "      <td>도시 16</td>\n",
       "      <td>지역 2</td>\n",
       "      <td>쇼핑몰 유형 2</td>\n",
       "      <td>자연산새우선물세트</td>\n",
       "      <td>337</td>\n",
       "    </tr>\n",
       "  </tbody>\n",
       "</table>\n",
       "</div>"
      ],
      "text/plain": [
       "           ID  추석까지 남은 기간(주)  쇼핑몰 구분   가격(원)  프로모션 여부  도시 유형 지역 유형    쇼핑몰 유형  \\\n",
       "0  TRAIN_0000              1  쇼핑몰 15  212000        0   도시 6  지역 1  쇼핑몰 유형 2   \n",
       "1  TRAIN_0001              2  쇼핑몰 72  113000        0  도시 21  지역 1  쇼핑몰 유형 1   \n",
       "2  TRAIN_0002              0  쇼핑몰 15   67000        0   도시 6  지역 1  쇼핑몰 유형 2   \n",
       "3  TRAIN_0003              1  쇼핑몰 13  206000        0  도시 12  지역 3  쇼핑몰 유형 1   \n",
       "4  TRAIN_0004              1  쇼핑몰 65  140000        0  도시 16  지역 2  쇼핑몰 유형 2   \n",
       "\n",
       "           선물 유형  수요량  \n",
       "0     명절혼합과일선물세트   28  \n",
       "1       발효홍삼선물세트   27  \n",
       "2       실속스팸선물세트  769  \n",
       "3  자연산프리미엄버섯선물세트   27  \n",
       "4      자연산새우선물세트  337  "
      ]
     },
     "execution_count": 10,
     "metadata": {},
     "output_type": "execute_result"
    }
   ],
   "source": [
    "train_df.head()"
   ]
  },
  {
   "cell_type": "markdown",
   "id": "ef227489-9783-4fb6-9372-aea831da35c3",
   "metadata": {},
   "source": [
    "<br></br>"
   ]
  },
  {
   "cell_type": "markdown",
   "id": "8b86014e-1930-4978-8b8f-f989497df81f",
   "metadata": {},
   "source": [
    "# EDA"
   ]
  },
  {
   "cell_type": "code",
   "execution_count": 11,
   "id": "85ea147c-b75c-46a4-a460-6570fb9526d2",
   "metadata": {},
   "outputs": [],
   "source": [
    "unuse_features = ['ID']\n",
    "cat_features = ['추석까지 남은 기간(주)','쇼핑몰 구분','도시 유형','지역 유형','쇼핑몰 유형','선물 유형']\n",
    "num_features = ['가격(원)']\n",
    "dummy_features = ['프로모션 여부']"
   ]
  },
  {
   "cell_type": "code",
   "execution_count": 12,
   "id": "edf5fe33-8ed7-4aa4-b84f-38b65305513e",
   "metadata": {},
   "outputs": [
    {
     "data": {
      "text/plain": [
       "추석까지 남은 기간(주)     3\n",
       "쇼핑몰 구분           77\n",
       "도시 유형            24\n",
       "지역 유형             8\n",
       "쇼핑몰 유형            3\n",
       "선물 유형            51\n",
       "프로모션 여부           2\n",
       "dtype: int64"
      ]
     },
     "execution_count": 12,
     "metadata": {},
     "output_type": "execute_result"
    }
   ],
   "source": [
    "train_df[cat_features+dummy_features].nunique()"
   ]
  },
  {
   "cell_type": "code",
   "execution_count": 13,
   "id": "000ff17f-5d71-4800-8285-41bcf3018581",
   "metadata": {},
   "outputs": [
    {
     "data": {
      "text/plain": [
       "ID               0\n",
       "추석까지 남은 기간(주)    0\n",
       "쇼핑몰 구분           0\n",
       "가격(원)            0\n",
       "프로모션 여부          0\n",
       "도시 유형            0\n",
       "지역 유형            0\n",
       "쇼핑몰 유형           0\n",
       "선물 유형            0\n",
       "수요량              0\n",
       "dtype: int64"
      ]
     },
     "metadata": {},
     "output_type": "display_data"
    },
    {
     "data": {
      "text/plain": [
       "ID               0\n",
       "추석까지 남은 기간(주)    0\n",
       "쇼핑몰 구분           0\n",
       "가격(원)            0\n",
       "프로모션 여부          0\n",
       "도시 유형            0\n",
       "지역 유형            0\n",
       "쇼핑몰 유형           0\n",
       "선물 유형            0\n",
       "dtype: int64"
      ]
     },
     "metadata": {},
     "output_type": "display_data"
    }
   ],
   "source": [
    "display(train_df.isnull().sum())\n",
    "display(test_df.isnull().sum())"
   ]
  },
  {
   "cell_type": "markdown",
   "id": "981a953c-8706-43c3-8e90-025ad2f0fa62",
   "metadata": {},
   "source": [
    "<br>"
   ]
  },
  {
   "cell_type": "markdown",
   "id": "1b71d1a9-6fb2-4d18-9879-49f43c834664",
   "metadata": {},
   "source": [
    "## target"
   ]
  },
  {
   "cell_type": "code",
   "execution_count": 14,
   "id": "e0b60b74-5095-48a7-a9ad-4f16490a80be",
   "metadata": {},
   "outputs": [],
   "source": [
    "def histplot_with_boxplot_above(x)->None:\n",
    "    f, (ax_box, ax_hist) = plt.subplots(2,figsize=(15,7),sharex=True,gridspec_kw={\"height_ratios\":(.15,.85)})\n",
    "\n",
    "    ax_box = sns.boxplot(x=x, ax=ax_box)\n",
    "    ax_box.set_xlabel('')\n",
    "    ax_hist = sns.histplot(x, kde=True, stat='density', ax=ax_hist)\n",
    "    ax_hist.grid()\n",
    "\n",
    "    ax_box.set(yticks=[])\n",
    "    sns.despine(ax=ax_hist)\n",
    "    sns.despine(ax=ax_box, left=True)\n",
    "    plt.show()"
   ]
  },
  {
   "cell_type": "code",
   "execution_count": 15,
   "id": "c620cf00-ee2b-47b2-8907-c34ea5d081cb",
   "metadata": {},
   "outputs": [
    {
     "data": {
      "text/plain": [
       "count    5872.000000\n",
       "mean      264.313692\n",
       "std       338.789214\n",
       "min        13.000000\n",
       "25%        54.000000\n",
       "50%       136.000000\n",
       "75%       350.000000\n",
       "max      4455.000000\n",
       "Name: 수요량, dtype: float64"
      ]
     },
     "execution_count": 15,
     "metadata": {},
     "output_type": "execute_result"
    }
   ],
   "source": [
    "train_df[CFG.TARGET].describe()"
   ]
  },
  {
   "cell_type": "code",
   "execution_count": 16,
   "id": "c0eecf45-7be5-4726-b6ce-b000b46122e5",
   "metadata": {},
   "outputs": [
    {
     "data": {
      "image/png": "[encoded data removed]",
      "text/plain": [
       "<Figure size 1080x504 with 2 Axes>"
      ]
     },
     "metadata": {
      "needs_background": "light"
     },
     "output_type": "display_data"
    },
    {
     "data": {
      "image/png": "[encoded data removed]",
      "text/plain": [
       "<Figure size 1080x504 with 2 Axes>"
      ]
     },
     "metadata": {
      "needs_background": "light"
     },
     "output_type": "display_data"
    }
   ],
   "source": [
    "histplot_with_boxplot_above(train_df[CFG.TARGET])\n",
    "histplot_with_boxplot_above(np.log(train_df[CFG.TARGET]))"
   ]
  },
  {
   "cell_type": "markdown",
   "id": "02639c7e-a925-41ca-ab8e-3171a8106425",
   "metadata": {},
   "source": [
    "<br>"
   ]
  },
  {
   "cell_type": "markdown",
   "id": "09089f32-ef1d-425f-87ee-0bd495beac80",
   "metadata": {},
   "source": [
    "## numeric 1D"
   ]
  },
  {
   "cell_type": "markdown",
   "id": "e376c7da-d320-409f-9dbc-fbc788e66ccd",
   "metadata": {},
   "source": [
    "feature vs target scatterplot"
   ]
  },
  {
   "cell_type": "code",
   "execution_count": 17,
   "id": "d1fc684c-ef5f-4d1b-aef9-7cca5a8436b3",
   "metadata": {},
   "outputs": [],
   "source": [
    "# # 같은 가격인데도 수요량은 많이 다름\n",
    "# plt.figure(figsize=(15,7))\n",
    "# sns.scatterplot(x=train_df['가격(원)'],y=train_df[CFG.TARGET])\n",
    "# plt.grid()\n",
    "# plt.show()"
   ]
  },
  {
   "cell_type": "markdown",
   "id": "736c3892-fcbe-4e91-a6d1-da783f65379d",
   "metadata": {},
   "source": [
    "<br>"
   ]
  },
  {
   "cell_type": "markdown",
   "id": "283ae39c-3647-4328-8906-7bfea73dc0a7",
   "metadata": {},
   "source": [
    "## categogical 1D"
   ]
  },
  {
   "cell_type": "code",
   "execution_count": 18,
   "id": "54b18ff1-91db-4eb6-acd4-c6a5faa8f756",
   "metadata": {},
   "outputs": [],
   "source": [
    "# 테스트셋에만 존재하는 값은 없음\n",
    "for col in cat_features+dummy_features:\n",
    "    test_only_value = setdiff(test_df[col].unique(),train_df[col].unique())\n",
    "    if len(test_only_value)>0:\n",
    "        print('Exist only in test dataset. {}: {} values'.format(col,len(test_only_value)))"
   ]
  },
  {
   "cell_type": "code",
   "execution_count": 19,
   "id": "9c1531b5-e4ac-4544-8cc6-c50ed80e9c3f",
   "metadata": {},
   "outputs": [
    {
     "data": {
      "image/png": "[encoded data removed]",
      "text/plain": [
       "<Figure size 1080x504 with 1 Axes>"
      ]
     },
     "metadata": {
      "needs_background": "light"
     },
     "output_type": "display_data"
    },
    {
     "data": {
      "image/png": "[encoded data removed]",
      "text/plain": [
       "<Figure size 1080x504 with 1 Axes>"
      ]
     },
     "metadata": {
      "needs_background": "light"
     },
     "output_type": "display_data"
    },
    {
     "data": {
      "image/png": "[encoded data removed]",
      "text/plain": [
       "<Figure size 1080x504 with 1 Axes>"
      ]
     },
     "metadata": {
      "needs_background": "light"
     },
     "output_type": "display_data"
    },
    {
     "data": {
      "image/png": "[encoded data removed]",
      "text/plain": [
       "<Figure size 1080x504 with 1 Axes>"
      ]
     },
     "metadata": {
      "needs_background": "light"
     },
     "output_type": "display_data"
    },
    {
     "data": {
      "image/png": "[encoded data removed]",
      "text/plain": [
       "<Figure size 1080x504 with 1 Axes>"
      ]
     },
     "metadata": {
      "needs_background": "light"
     },
     "output_type": "display_data"
    },
    {
     "data": {
      "image/png": "[encoded data removed]",
      "text/plain": [
       "<Figure size 1080x504 with 1 Axes>"
      ]
     },
     "metadata": {
      "needs_background": "light"
     },
     "output_type": "display_data"
    },
    {
     "data": {
      "image/png": "[encoded data removed]",
      "text/plain": [
       "<Figure size 1080x504 with 1 Axes>"
      ]
     },
     "metadata": {
      "needs_background": "light"
     },
     "output_type": "display_data"
    }
   ],
   "source": [
    "y = np.log(train_df[CFG.TARGET])\n",
    "for col in cat_features+dummy_features:\n",
    "    plt.figure(figsize=(15,7))\n",
    "    sns.boxplot(x=train_df[col],y=y)\n",
    "    plt.grid()\n",
    "    plt.xticks(rotation=90)\n",
    "    plt.show()"
   ]
  },
  {
   "cell_type": "markdown",
   "id": "c158622b-6059-457f-a23a-f74233d78391",
   "metadata": {},
   "source": [
    "<br></br>"
   ]
  },
  {
   "cell_type": "markdown",
   "id": "b7d36296-25b7-4f24-8ec2-46b5e10edd50",
   "metadata": {},
   "source": [
    "# Make Segment"
   ]
  },
  {
   "cell_type": "code",
   "execution_count": 20,
   "id": "dc5a61d1-5794-489c-abab-fb2d09848fd9",
   "metadata": {},
   "outputs": [],
   "source": [
    "# segment_feature = 'segment'\n",
    "segment_feature = None"
   ]
  },
  {
   "cell_type": "code",
   "execution_count": 21,
   "id": "d207ca6c-b0b7-4068-8959-752430cb3349",
   "metadata": {},
   "outputs": [],
   "source": [
    "if segment_feature=='segment':\n",
    "    segment_features = ['선물 유형','프로모션 여부']\n",
    "    train_df['segment'] = ['_'.join(x) for x in train_df[segment_features].astype(str).values]\n",
    "    test_df ['segment'] = ['_'.join(x) for x in test_df [segment_features].astype(str).values]\n",
    "\n",
    "    # 테스트셋에만 존재하는 값이 있는지 확인\n",
    "    print(setdiff(test_df['segment'].unique(),train_df['segment'].unique()))\n",
    "\n",
    "    # segment freq 확인\n",
    "    display(train_df['segment'].value_counts())\n",
    "\n",
    "    # segment별 target의 boxplot 확인\n",
    "    x = train_df['segment']\n",
    "    y = np.log(train_df[CFG.TARGET])\n",
    "\n",
    "    plt.figure(figsize=(15,7))\n",
    "    sns.boxplot(x=x,y=y)\n",
    "    plt.grid()\n",
    "    plt.xticks(rotation=90)\n",
    "    plt.show()\n",
    "else:\n",
    "    segment_features = []"
   ]
  },
  {
   "cell_type": "markdown",
   "id": "a41d2f30-72df-4633-bee9-af7c24656d6c",
   "metadata": {},
   "source": [
    "<br></br>"
   ]
  },
  {
   "cell_type": "markdown",
   "id": "a4383a6f-9050-449a-84f3-bc543730e3e0",
   "metadata": {},
   "source": [
    "# Data Preprocess"
   ]
  },
  {
   "cell_type": "markdown",
   "id": "3f434013-c7fa-42e5-b64f-fbbb57515f66",
   "metadata": {},
   "source": [
    "## Derived Features"
   ]
  },
  {
   "cell_type": "code",
   "execution_count": 22,
   "id": "53d754be-0296-450a-8e94-296c8bb6c0f6",
   "metadata": {
    "tags": []
   },
   "outputs": [],
   "source": [
    "def derived_features(data):\n",
    "    d = data.copy()\n",
    "    return d"
   ]
  },
  {
   "cell_type": "code",
   "execution_count": 23,
   "id": "daebacbe-0a55-4057-b95b-85d4c0837a6b",
   "metadata": {
    "tags": []
   },
   "outputs": [],
   "source": [
    "train_df1 = derived_features(train_df)\n",
    "test_df1  = derived_features(test_df)\n",
    "\n",
    "type_controller = TypeController(\n",
    "    unuse_features=unuse_features+segment_features,\n",
    "    target_feature=CFG.TARGET,\n",
    "    cat_features=cat_features,\n",
    "    segment_feature=segment_feature,\n",
    ")\n",
    "type_controller.fit(train_df1)\n",
    "global_assignment(type_controller.get_feature_type())\n",
    "\n",
    "train_df1 = type_controller.transform(train_df1)\n",
    "test_df1  = type_controller.transform(test_df1)"
   ]
  },
  {
   "cell_type": "code",
   "execution_count": 24,
   "id": "8009aba5-9565-4209-947b-f895601d57c1",
   "metadata": {},
   "outputs": [
    {
     "data": {
      "text/plain": [
       "{'target_feature': '수요량',\n",
       " 'unuse_features': ['ID'],\n",
       " 'dummy_features': ['프로모션 여부'],\n",
       " 'cat_features': ['추석까지 남은 기간(주)',\n",
       "  '쇼핑몰 구분',\n",
       "  '도시 유형',\n",
       "  '지역 유형',\n",
       "  '쇼핑몰 유형',\n",
       "  '선물 유형'],\n",
       " 'num_features': ['가격(원)'],\n",
       " 'segment_feature': None}"
      ]
     },
     "execution_count": 24,
     "metadata": {},
     "output_type": "execute_result"
    }
   ],
   "source": [
    "type_controller.get_feature_type()"
   ]
  },
  {
   "cell_type": "code",
   "execution_count": 25,
   "id": "e9b6a83b-aa86-4dd7-8534-e217105acc4a",
   "metadata": {
    "tags": []
   },
   "outputs": [
    {
     "data": {
      "text/html": [
       "<div>\n",
       "<style scoped>\n",
       "    .dataframe tbody tr th:only-of-type {\n",
       "        vertical-align: middle;\n",
       "    }\n",
       "\n",
       "    .dataframe tbody tr th {\n",
       "        vertical-align: top;\n",
       "    }\n",
       "\n",
       "    .dataframe thead th {\n",
       "        text-align: right;\n",
       "    }\n",
       "</style>\n",
       "<table border=\"1\" class=\"dataframe\">\n",
       "  <thead>\n",
       "    <tr style=\"text-align: right;\">\n",
       "      <th></th>\n",
       "      <th>ID</th>\n",
       "      <th>추석까지 남은 기간(주)</th>\n",
       "      <th>쇼핑몰 구분</th>\n",
       "      <th>가격(원)</th>\n",
       "      <th>프로모션 여부</th>\n",
       "      <th>도시 유형</th>\n",
       "      <th>지역 유형</th>\n",
       "      <th>쇼핑몰 유형</th>\n",
       "      <th>선물 유형</th>\n",
       "      <th>수요량</th>\n",
       "    </tr>\n",
       "  </thead>\n",
       "  <tbody>\n",
       "    <tr>\n",
       "      <th>0</th>\n",
       "      <td>TRAIN_0000</td>\n",
       "      <td>1</td>\n",
       "      <td>쇼핑몰 15</td>\n",
       "      <td>212000.0</td>\n",
       "      <td>0</td>\n",
       "      <td>도시 6</td>\n",
       "      <td>지역 1</td>\n",
       "      <td>쇼핑몰 유형 2</td>\n",
       "      <td>명절혼합과일선물세트</td>\n",
       "      <td>28</td>\n",
       "    </tr>\n",
       "    <tr>\n",
       "      <th>1</th>\n",
       "      <td>TRAIN_0001</td>\n",
       "      <td>2</td>\n",
       "      <td>쇼핑몰 72</td>\n",
       "      <td>113000.0</td>\n",
       "      <td>0</td>\n",
       "      <td>도시 21</td>\n",
       "      <td>지역 1</td>\n",
       "      <td>쇼핑몰 유형 1</td>\n",
       "      <td>발효홍삼선물세트</td>\n",
       "      <td>27</td>\n",
       "    </tr>\n",
       "    <tr>\n",
       "      <th>2</th>\n",
       "      <td>TRAIN_0002</td>\n",
       "      <td>0</td>\n",
       "      <td>쇼핑몰 15</td>\n",
       "      <td>67000.0</td>\n",
       "      <td>0</td>\n",
       "      <td>도시 6</td>\n",
       "      <td>지역 1</td>\n",
       "      <td>쇼핑몰 유형 2</td>\n",
       "      <td>실속스팸선물세트</td>\n",
       "      <td>769</td>\n",
       "    </tr>\n",
       "    <tr>\n",
       "      <th>3</th>\n",
       "      <td>TRAIN_0003</td>\n",
       "      <td>1</td>\n",
       "      <td>쇼핑몰 13</td>\n",
       "      <td>206000.0</td>\n",
       "      <td>0</td>\n",
       "      <td>도시 12</td>\n",
       "      <td>지역 3</td>\n",
       "      <td>쇼핑몰 유형 1</td>\n",
       "      <td>자연산프리미엄버섯선물세트</td>\n",
       "      <td>27</td>\n",
       "    </tr>\n",
       "    <tr>\n",
       "      <th>4</th>\n",
       "      <td>TRAIN_0004</td>\n",
       "      <td>1</td>\n",
       "      <td>쇼핑몰 65</td>\n",
       "      <td>140000.0</td>\n",
       "      <td>0</td>\n",
       "      <td>도시 16</td>\n",
       "      <td>지역 2</td>\n",
       "      <td>쇼핑몰 유형 2</td>\n",
       "      <td>자연산새우선물세트</td>\n",
       "      <td>337</td>\n",
       "    </tr>\n",
       "  </tbody>\n",
       "</table>\n",
       "</div>"
      ],
      "text/plain": [
       "           ID 추석까지 남은 기간(주)  쇼핑몰 구분     가격(원)  프로모션 여부  도시 유형 지역 유형    쇼핑몰 유형  \\\n",
       "0  TRAIN_0000             1  쇼핑몰 15  212000.0        0   도시 6  지역 1  쇼핑몰 유형 2   \n",
       "1  TRAIN_0001             2  쇼핑몰 72  113000.0        0  도시 21  지역 1  쇼핑몰 유형 1   \n",
       "2  TRAIN_0002             0  쇼핑몰 15   67000.0        0   도시 6  지역 1  쇼핑몰 유형 2   \n",
       "3  TRAIN_0003             1  쇼핑몰 13  206000.0        0  도시 12  지역 3  쇼핑몰 유형 1   \n",
       "4  TRAIN_0004             1  쇼핑몰 65  140000.0        0  도시 16  지역 2  쇼핑몰 유형 2   \n",
       "\n",
       "           선물 유형  수요량  \n",
       "0     명절혼합과일선물세트   28  \n",
       "1       발효홍삼선물세트   27  \n",
       "2       실속스팸선물세트  769  \n",
       "3  자연산프리미엄버섯선물세트   27  \n",
       "4      자연산새우선물세트  337  "
      ]
     },
     "execution_count": 25,
     "metadata": {},
     "output_type": "execute_result"
    }
   ],
   "source": [
    "train_df1.head()"
   ]
  },
  {
   "cell_type": "code",
   "execution_count": 26,
   "id": "40371638-3ff7-4e84-9509-067c977fecd3",
   "metadata": {
    "tags": []
   },
   "outputs": [
    {
     "data": {
      "text/html": [
       "<div>\n",
       "<style scoped>\n",
       "    .dataframe tbody tr th:only-of-type {\n",
       "        vertical-align: middle;\n",
       "    }\n",
       "\n",
       "    .dataframe tbody tr th {\n",
       "        vertical-align: top;\n",
       "    }\n",
       "\n",
       "    .dataframe thead th {\n",
       "        text-align: right;\n",
       "    }\n",
       "</style>\n",
       "<table border=\"1\" class=\"dataframe\">\n",
       "  <thead>\n",
       "    <tr style=\"text-align: right;\">\n",
       "      <th></th>\n",
       "      <th>ID</th>\n",
       "      <th>추석까지 남은 기간(주)</th>\n",
       "      <th>쇼핑몰 구분</th>\n",
       "      <th>가격(원)</th>\n",
       "      <th>프로모션 여부</th>\n",
       "      <th>도시 유형</th>\n",
       "      <th>지역 유형</th>\n",
       "      <th>쇼핑몰 유형</th>\n",
       "      <th>선물 유형</th>\n",
       "    </tr>\n",
       "  </thead>\n",
       "  <tbody>\n",
       "    <tr>\n",
       "      <th>0</th>\n",
       "      <td>TEST_0000</td>\n",
       "      <td>2</td>\n",
       "      <td>쇼핑몰 71</td>\n",
       "      <td>113000.0</td>\n",
       "      <td>0</td>\n",
       "      <td>도시 16</td>\n",
       "      <td>지역 3</td>\n",
       "      <td>쇼핑몰 유형 1</td>\n",
       "      <td>상주반건시곶감선물세트</td>\n",
       "    </tr>\n",
       "    <tr>\n",
       "      <th>1</th>\n",
       "      <td>TEST_0001</td>\n",
       "      <td>0</td>\n",
       "      <td>쇼핑몰 57</td>\n",
       "      <td>224000.0</td>\n",
       "      <td>0</td>\n",
       "      <td>도시 6</td>\n",
       "      <td>지역 1</td>\n",
       "      <td>쇼핑몰 유형 2</td>\n",
       "      <td>고급한과선물세트</td>\n",
       "    </tr>\n",
       "    <tr>\n",
       "      <th>2</th>\n",
       "      <td>TEST_0002</td>\n",
       "      <td>2</td>\n",
       "      <td>쇼핑몰 38</td>\n",
       "      <td>150000.0</td>\n",
       "      <td>0</td>\n",
       "      <td>도시 16</td>\n",
       "      <td>지역 1</td>\n",
       "      <td>쇼핑몰 유형 2</td>\n",
       "      <td>최고의선택스팸선물세트</td>\n",
       "    </tr>\n",
       "    <tr>\n",
       "      <th>3</th>\n",
       "      <td>TEST_0003</td>\n",
       "      <td>1</td>\n",
       "      <td>쇼핑몰 50</td>\n",
       "      <td>132000.0</td>\n",
       "      <td>0</td>\n",
       "      <td>도시 16</td>\n",
       "      <td>지역 3</td>\n",
       "      <td>쇼핑몰 유형 1</td>\n",
       "      <td>재래김특선세트</td>\n",
       "    </tr>\n",
       "    <tr>\n",
       "      <th>4</th>\n",
       "      <td>TEST_0004</td>\n",
       "      <td>0</td>\n",
       "      <td>쇼핑몰 55</td>\n",
       "      <td>146000.0</td>\n",
       "      <td>0</td>\n",
       "      <td>도시 5</td>\n",
       "      <td>지역 4</td>\n",
       "      <td>쇼핑몰 유형 2</td>\n",
       "      <td>명품샤인머스캣선물세트</td>\n",
       "    </tr>\n",
       "  </tbody>\n",
       "</table>\n",
       "</div>"
      ],
      "text/plain": [
       "          ID 추석까지 남은 기간(주)  쇼핑몰 구분     가격(원)  프로모션 여부  도시 유형 지역 유형    쇼핑몰 유형  \\\n",
       "0  TEST_0000             2  쇼핑몰 71  113000.0        0  도시 16  지역 3  쇼핑몰 유형 1   \n",
       "1  TEST_0001             0  쇼핑몰 57  224000.0        0   도시 6  지역 1  쇼핑몰 유형 2   \n",
       "2  TEST_0002             2  쇼핑몰 38  150000.0        0  도시 16  지역 1  쇼핑몰 유형 2   \n",
       "3  TEST_0003             1  쇼핑몰 50  132000.0        0  도시 16  지역 3  쇼핑몰 유형 1   \n",
       "4  TEST_0004             0  쇼핑몰 55  146000.0        0   도시 5  지역 4  쇼핑몰 유형 2   \n",
       "\n",
       "         선물 유형  \n",
       "0  상주반건시곶감선물세트  \n",
       "1     고급한과선물세트  \n",
       "2  최고의선택스팸선물세트  \n",
       "3      재래김특선세트  \n",
       "4  명품샤인머스캣선물세트  "
      ]
     },
     "execution_count": 26,
     "metadata": {},
     "output_type": "execute_result"
    }
   ],
   "source": [
    "test_df1.head()"
   ]
  },
  {
   "cell_type": "markdown",
   "id": "73355e64-3ad2-47ce-ab08-9a0687bf34ae",
   "metadata": {},
   "source": [
    "<br>"
   ]
  },
  {
   "cell_type": "markdown",
   "id": "1b3bb974-6827-4a11-b5a7-8a8ac6e9242d",
   "metadata": {},
   "source": [
    "## Imputation"
   ]
  },
  {
   "cell_type": "code",
   "execution_count": 27,
   "id": "b1659ac3-5236-423e-a5a6-13ac5e9d22b9",
   "metadata": {},
   "outputs": [],
   "source": [
    "train_df2 = train_df1.copy()\n",
    "test_df2  = test_df1 .copy()"
   ]
  },
  {
   "cell_type": "code",
   "execution_count": 28,
   "id": "0cfbf865-1318-4eb9-a4fd-115ecf9b129a",
   "metadata": {
    "tags": []
   },
   "outputs": [],
   "source": [
    "def check_null(data):\n",
    "    d = data.copy()\n",
    "\n",
    "    null_info = train_df2\\\n",
    "        .isnull().sum()\\\n",
    "        .reset_index()\\\n",
    "        .rename(columns={'index':'feature',0:'null_cnt'})\n",
    "\n",
    "    null_info = null_info[null_info['null_cnt']!=0]\n",
    "    null_info['null_percentage'] = 100 * null_info['null_cnt'] / len(train_df)\n",
    "    null_info = null_info.sort_values('null_cnt',ascending=False)\n",
    "    \n",
    "    if len(null_info)==0:\n",
    "        return None\n",
    "    else:\n",
    "        return null_info"
   ]
  },
  {
   "cell_type": "code",
   "execution_count": 29,
   "id": "71a6eb90-99d3-4d28-9726-d85244672bd7",
   "metadata": {},
   "outputs": [
    {
     "data": {
      "text/plain": [
       "(None, None)"
      ]
     },
     "execution_count": 29,
     "metadata": {},
     "output_type": "execute_result"
    }
   ],
   "source": [
    "check_null(train_df2),check_null(test_df2)"
   ]
  },
  {
   "cell_type": "code",
   "execution_count": 30,
   "id": "eacbe146-0895-4404-a85c-9a82e7646cfd",
   "metadata": {
    "tags": []
   },
   "outputs": [],
   "source": [
    "# from sklearn.impute import SimpleImputer\n",
    "\n",
    "# impute_columns = []\n",
    "# imputer = SimpleImputer(missing_values=np.nan, strategy='median')\n",
    "# train_df2[impute_columns] = imputer.fit_transform(train_df2[impute_columns])\n",
    "# test_df2 [impute_columns] = imputer.transform(test_df2[impute_columns])"
   ]
  },
  {
   "cell_type": "code",
   "execution_count": 31,
   "id": "01be8f16-49cb-4feb-89b3-7a0b581f9fca",
   "metadata": {},
   "outputs": [],
   "source": [
    "# check_null(train_df2),check_null(test_df2)"
   ]
  },
  {
   "cell_type": "markdown",
   "id": "c2d3ea94-362c-468e-83a6-daccf81c3491",
   "metadata": {},
   "source": [
    "<br>"
   ]
  },
  {
   "cell_type": "markdown",
   "id": "3fb1c0f5-ea06-471c-9655-4e006c0b384d",
   "metadata": {},
   "source": [
    "## Target Transformation"
   ]
  },
  {
   "cell_type": "code",
   "execution_count": 32,
   "id": "6a6763f9-106b-4530-97e2-8222df708182",
   "metadata": {},
   "outputs": [
    {
     "data": {
      "text/plain": [
       "'log'"
      ]
     },
     "execution_count": 32,
     "metadata": {},
     "output_type": "execute_result"
    }
   ],
   "source": [
    "CFG.TARGET_TRANSFORMATION"
   ]
  },
  {
   "cell_type": "code",
   "execution_count": 33,
   "id": "bd24976d-89ce-4529-8ddd-8f558d8d4f99",
   "metadata": {},
   "outputs": [],
   "source": [
    "train_df3 = train_df2.copy()\n",
    "test_df3  = test_df2 .copy()\n",
    "\n",
    "target_transform = TargetTransform(func=CFG.TARGET_TRANSFORMATION)\n",
    "train_df3[CFG.TARGET] = target_transform.fit_transform(\n",
    "    target=np.array(train_df3[CFG.TARGET]).reshape(-1,1),\n",
    ")"
   ]
  },
  {
   "cell_type": "code",
   "execution_count": 34,
   "id": "8873e58b-0953-469b-9d7d-c61a3dbf07b8",
   "metadata": {},
   "outputs": [
    {
     "data": {
      "text/plain": [
       "<AxesSubplot: ylabel='수요량'>"
      ]
     },
     "execution_count": 34,
     "metadata": {},
     "output_type": "execute_result"
    },
    {
     "data": {
      "image/png": "[encoded data removed]",
      "text/plain": [
       "<Figure size 432x288 with 1 Axes>"
      ]
     },
     "metadata": {
      "needs_background": "light"
     },
     "output_type": "display_data"
    }
   ],
   "source": [
    "sns.boxplot(y=train_df3[CFG.TARGET])"
   ]
  },
  {
   "cell_type": "markdown",
   "id": "958d6fb0-4471-449e-a919-2a5bb31c245f",
   "metadata": {},
   "source": [
    "<br>"
   ]
  },
  {
   "cell_type": "markdown",
   "id": "38e0ea57-2abd-4f7c-b64f-00e11ae3595e",
   "metadata": {},
   "source": [
    "## Quantile values of Target"
   ]
  },
  {
   "cell_type": "code",
   "execution_count": 35,
   "id": "5dc6e894-15da-4ad4-8de1-41844e03da19",
   "metadata": {},
   "outputs": [
    {
     "data": {
      "text/plain": [
       "['추석까지 남은 기간(주)', '쇼핑몰 구분', '도시 유형', '지역 유형', '쇼핑몰 유형', '선물 유형']"
      ]
     },
     "execution_count": 35,
     "metadata": {},
     "output_type": "execute_result"
    }
   ],
   "source": [
    "cat_features"
   ]
  },
  {
   "cell_type": "code",
   "execution_count": 36,
   "id": "043870f5-1143-4f46-80d5-a085c86330fd",
   "metadata": {
    "tags": []
   },
   "outputs": [
    {
     "name": "stdout",
     "output_type": "stream",
     "text": [
      "> Get quantiles of target by categorical features (depth=3)\n"
     ]
    },
    {
     "name": "stderr",
     "output_type": "stream",
     "text": [
      "Subset: 도시 유형 + 지역 유형 + 쇼핑몰 유형: 100%|██████████| 41/41 [00:03<00:00, 13.06it/s]             \n"
     ]
    }
   ],
   "source": [
    "# feature engineering\n",
    "calculator = CategoricalQuantileCalculator()\n",
    "calculator.fit(\n",
    "    data=train_df3,\n",
    "    test_data=test_df3,\n",
    "    target_feature=target_feature,\n",
    "    cat_features=cat_features,\n",
    "    subset_depth=CFG.SUBSET_DEPTH,\n",
    ")\n",
    "train_df4 = calculator.transform(train_df3)\n",
    "test_df4  = calculator.transform(test_df3)"
   ]
  },
  {
   "cell_type": "code",
   "execution_count": 37,
   "id": "91e716d4-9681-4c86-aceb-2cbea8cd51ee",
   "metadata": {},
   "outputs": [],
   "source": [
    "type_controller = TypeController(\n",
    "    unuse_features=unuse_features+segment_features,\n",
    "    target_feature=CFG.TARGET,\n",
    "    cat_features=cat_features,\n",
    "    segment_feature=segment_feature,\n",
    ")\n",
    "type_controller.fit(train_df4)\n",
    "global_assignment(type_controller.get_feature_type())\n",
    "\n",
    "train_df4 = type_controller.transform(train_df4)\n",
    "test_df4  = type_controller.transform(test_df4)"
   ]
  },
  {
   "cell_type": "code",
   "execution_count": 38,
   "id": "bc318a37-4cc8-4950-85e4-5f6b742e9f96",
   "metadata": {
    "tags": []
   },
   "outputs": [
    {
     "name": "stdout",
     "output_type": "stream",
     "text": [
      "(5872, 10) -> (5872, 122)\n"
     ]
    },
    {
     "data": {
      "text/html": [
       "<div>\n",
       "<style scoped>\n",
       "    .dataframe tbody tr th:only-of-type {\n",
       "        vertical-align: middle;\n",
       "    }\n",
       "\n",
       "    .dataframe tbody tr th {\n",
       "        vertical-align: top;\n",
       "    }\n",
       "\n",
       "    .dataframe thead th {\n",
       "        text-align: right;\n",
       "    }\n",
       "</style>\n",
       "<table border=\"1\" class=\"dataframe\">\n",
       "  <thead>\n",
       "    <tr style=\"text-align: right;\">\n",
       "      <th></th>\n",
       "      <th>ID</th>\n",
       "      <th>추석까지 남은 기간(주)</th>\n",
       "      <th>쇼핑몰 구분</th>\n",
       "      <th>가격(원)</th>\n",
       "      <th>프로모션 여부</th>\n",
       "      <th>도시 유형</th>\n",
       "      <th>지역 유형</th>\n",
       "      <th>쇼핑몰 유형</th>\n",
       "      <th>선물 유형</th>\n",
       "      <th>수요량</th>\n",
       "    </tr>\n",
       "  </thead>\n",
       "  <tbody>\n",
       "    <tr>\n",
       "      <th>0</th>\n",
       "      <td>TRAIN_0000</td>\n",
       "      <td>1</td>\n",
       "      <td>쇼핑몰 15</td>\n",
       "      <td>212000.0</td>\n",
       "      <td>0</td>\n",
       "      <td>도시 6</td>\n",
       "      <td>지역 1</td>\n",
       "      <td>쇼핑몰 유형 2</td>\n",
       "      <td>명절혼합과일선물세트</td>\n",
       "      <td>3.332205</td>\n",
       "    </tr>\n",
       "    <tr>\n",
       "      <th>1</th>\n",
       "      <td>TRAIN_0001</td>\n",
       "      <td>2</td>\n",
       "      <td>쇼핑몰 72</td>\n",
       "      <td>113000.0</td>\n",
       "      <td>0</td>\n",
       "      <td>도시 21</td>\n",
       "      <td>지역 1</td>\n",
       "      <td>쇼핑몰 유형 1</td>\n",
       "      <td>발효홍삼선물세트</td>\n",
       "      <td>3.295837</td>\n",
       "    </tr>\n",
       "    <tr>\n",
       "      <th>2</th>\n",
       "      <td>TRAIN_0002</td>\n",
       "      <td>0</td>\n",
       "      <td>쇼핑몰 15</td>\n",
       "      <td>67000.0</td>\n",
       "      <td>0</td>\n",
       "      <td>도시 6</td>\n",
       "      <td>지역 1</td>\n",
       "      <td>쇼핑몰 유형 2</td>\n",
       "      <td>실속스팸선물세트</td>\n",
       "      <td>6.645091</td>\n",
       "    </tr>\n",
       "    <tr>\n",
       "      <th>3</th>\n",
       "      <td>TRAIN_0003</td>\n",
       "      <td>1</td>\n",
       "      <td>쇼핑몰 13</td>\n",
       "      <td>206000.0</td>\n",
       "      <td>0</td>\n",
       "      <td>도시 12</td>\n",
       "      <td>지역 3</td>\n",
       "      <td>쇼핑몰 유형 1</td>\n",
       "      <td>자연산프리미엄버섯선물세트</td>\n",
       "      <td>3.295837</td>\n",
       "    </tr>\n",
       "    <tr>\n",
       "      <th>4</th>\n",
       "      <td>TRAIN_0004</td>\n",
       "      <td>1</td>\n",
       "      <td>쇼핑몰 65</td>\n",
       "      <td>140000.0</td>\n",
       "      <td>0</td>\n",
       "      <td>도시 16</td>\n",
       "      <td>지역 2</td>\n",
       "      <td>쇼핑몰 유형 2</td>\n",
       "      <td>자연산새우선물세트</td>\n",
       "      <td>5.820083</td>\n",
       "    </tr>\n",
       "  </tbody>\n",
       "</table>\n",
       "</div>"
      ],
      "text/plain": [
       "           ID 추석까지 남은 기간(주)  쇼핑몰 구분     가격(원)  프로모션 여부  도시 유형 지역 유형    쇼핑몰 유형  \\\n",
       "0  TRAIN_0000             1  쇼핑몰 15  212000.0        0   도시 6  지역 1  쇼핑몰 유형 2   \n",
       "1  TRAIN_0001             2  쇼핑몰 72  113000.0        0  도시 21  지역 1  쇼핑몰 유형 1   \n",
       "2  TRAIN_0002             0  쇼핑몰 15   67000.0        0   도시 6  지역 1  쇼핑몰 유형 2   \n",
       "3  TRAIN_0003             1  쇼핑몰 13  206000.0        0  도시 12  지역 3  쇼핑몰 유형 1   \n",
       "4  TRAIN_0004             1  쇼핑몰 65  140000.0        0  도시 16  지역 2  쇼핑몰 유형 2   \n",
       "\n",
       "           선물 유형       수요량  \n",
       "0     명절혼합과일선물세트  3.332205  \n",
       "1       발효홍삼선물세트  3.295837  \n",
       "2       실속스팸선물세트  6.645091  \n",
       "3  자연산프리미엄버섯선물세트  3.295837  \n",
       "4      자연산새우선물세트  5.820083  "
      ]
     },
     "execution_count": 38,
     "metadata": {},
     "output_type": "execute_result"
    }
   ],
   "source": [
    "print(train_df3.shape,'->',train_df4.shape)\n",
    "train_df3.head()"
   ]
  },
  {
   "cell_type": "markdown",
   "id": "ae2d3dd0-42a7-4e2e-b40b-163cfdb9903e",
   "metadata": {},
   "source": [
    "<br>"
   ]
  },
  {
   "cell_type": "markdown",
   "id": "2ca72ff7-cbb1-4f88-91d1-538dddf2604a",
   "metadata": {},
   "source": [
    "## Group Scaler"
   ]
  },
  {
   "cell_type": "code",
   "execution_count": 39,
   "id": "b8fbd294-a8a9-437e-8d86-763c3f36a4b0",
   "metadata": {
    "tags": []
   },
   "outputs": [],
   "source": [
    "if segment_feature is not None:\n",
    "    from sklearn.preprocessing import MinMaxScaler\n",
    "    scaler = GroupScaler(scaler=MinMaxScaler())\n",
    "    scaler.fit(\n",
    "        data=train_df4,\n",
    "        segment_feature=segment_feature,\n",
    "        num_features=num_features,\n",
    "    )\n",
    "    train_df5 = scaler.transform(train_df4)\n",
    "    test_df5  = scaler.transform(test_df4)\n",
    "else:\n",
    "    train_df5 = train_df4.copy()\n",
    "    test_df5  = test_df4 .copy()"
   ]
  },
  {
   "cell_type": "markdown",
   "id": "127df7cb-2f85-4d9f-9910-09b3c8995e54",
   "metadata": {},
   "source": [
    "<br>"
   ]
  },
  {
   "cell_type": "markdown",
   "id": "487d726a-1c5f-4aff-a009-d00fa352521b",
   "metadata": {},
   "source": [
    "## Memory Reduce"
   ]
  },
  {
   "cell_type": "code",
   "execution_count": 40,
   "id": "7ed88ecd-6022-4cc8-ac67-230979ebd676",
   "metadata": {
    "tags": []
   },
   "outputs": [],
   "source": [
    "train_df6, _ = reduce_mem_usage(train_df5,verbose=False)\n",
    "test_df6 , _ = reduce_mem_usage(test_df5 ,verbose=False)"
   ]
  },
  {
   "cell_type": "code",
   "execution_count": 41,
   "id": "48ce3efc-2a99-45b2-8b63-3c2627eeb5ea",
   "metadata": {},
   "outputs": [],
   "source": [
    "train_df6.to_parquet('./out/train_df6.parquet')\n",
    "test_df6 .to_parquet('./out/test_df6.parquet')"
   ]
  },
  {
   "cell_type": "markdown",
   "id": "37079c91-41c4-430c-98a5-983bde5b570a",
   "metadata": {},
   "source": [
    "<br></br>"
   ]
  },
  {
   "cell_type": "markdown",
   "id": "543045ba-a94d-4a82-818a-81c1f5102450",
   "metadata": {
    "tags": []
   },
   "source": [
    "# Modeling"
   ]
  },
  {
   "cell_type": "markdown",
   "id": "2df765bd-8a4b-47c5-a2a7-513d78dea30f",
   "metadata": {},
   "source": [
    "## Weighted Ensemble"
   ]
  },
  {
   "cell_type": "code",
   "execution_count": 42,
   "id": "08d23208-770f-4f1d-a76e-3262ef882780",
   "metadata": {},
   "outputs": [],
   "source": [
    "train_fn = pd.read_parquet('./out/train_df6.parquet')\n",
    "test_fn  = pd.read_parquet('./out/test_df6.parquet')"
   ]
  },
  {
   "cell_type": "code",
   "execution_count": 43,
   "id": "c68df3ed-c51c-4bc8-a775-39f347d985f9",
   "metadata": {},
   "outputs": [],
   "source": [
    "class WeightedMSELoss:        \n",
    "    def calc_ders_range(self, approxes, targets, weights):\n",
    "        alpha = 5\n",
    "        \n",
    "        assert len(approxes) == len(targets)\n",
    "        if weights is not None:\n",
    "            assert len(weights) == len(approxes)\n",
    "        \n",
    "        result = []\n",
    "        for index in range(len(targets)):\n",
    "            residual = targets[index] - approxes[index]\n",
    "            grad = -2 * alpha * residual if residual > 0 else -2 * residual\n",
    "            hess = 2 * alpha if residual > 0 else 2.0\n",
    "            \n",
    "            if weights is not None:\n",
    "                grad *= weights[index]\n",
    "                hess *= weights[index]\n",
    "            \n",
    "            result.append((grad, hess))\n",
    "        return result"
   ]
  },
  {
   "cell_type": "code",
   "execution_count": 115,
   "id": "4be8ea12-26f9-428b-a163-77dac0fd5285",
   "metadata": {},
   "outputs": [],
   "source": [
    "from copy import deepcopy\n",
    "from sklearn.base import BaseEstimator, RegressorMixin\n",
    "from catboost import CatBoostRegressor, Pool\n",
    "from xgboost import XGBRegressor\n",
    "from lightgbm import LGBMRegressor\n",
    "from sklearn.linear_model import LinearRegression, RidgeCV, LassoCV, ElasticNetCV\n",
    "from sklearn.model_selection import RepeatedKFold\n",
    "from sklearn.ensemble import ExtraTreesRegressor\n",
    "from sklearn.metrics import mean_absolute_error, mean_squared_error\n",
    "import warnings\n",
    "import time\n",
    "import pickle\n",
    "\n",
    "def RMSE(y_true,y_pred):\n",
    "    return mean_squared_error(y_true=y_true,y_pred=y_pred)**0.5\n",
    "\n",
    "class WeightedEnsembleRegressor(BaseEstimator, RegressorMixin):\n",
    "    def __init__(self,hyperparameters,weight=['equal','balanced'],inverse_transform=None,eval_metric=None):\n",
    "        super().__init__()\n",
    "        \n",
    "        assert weight in ['equal','balanced'], \\\n",
    "            \"weight must be one of ['equal','balanced']\"\n",
    "        \n",
    "        self.hyperparameters = hyperparameters\n",
    "        self.weight = weight\n",
    "        self.inverse_transform = inverse_transform\n",
    "        self.eval_metric = RMSE if eval_metric is None else eval_metric\n",
    "        \n",
    "        self._get_regressors()\n",
    "    \n",
    "    def _get_regressors(self):\n",
    "        max_depth = 9\n",
    "        n_jobs = -1\n",
    "        cat_loss_function = 'RMSE'\n",
    "        cat_eval_metric = 'RMSE'\n",
    "        \n",
    "        params_ridge = {\n",
    "            'alphas' : [1e-5, 1e-3, 1e-1, 1.0, 10.0, 100.0],\n",
    "            'cv' : RepeatedKFold(n_splits=self.hyperparameters['n_splits'], n_repeats=3, \n",
    "                                 random_state=self.hyperparameters['random_state']),\n",
    "        }\n",
    "        \n",
    "        params_lasso = {\n",
    "            'alphas' : [1e-5, 1e-3, 1e-1, 1.0, 10.0, 100.0],\n",
    "            'cv' : RepeatedKFold(n_splits=self.hyperparameters['n_splits'], n_repeats=3,\n",
    "                                 random_state=self.hyperparameters['random_state']),\n",
    "            'n_jobs' : n_jobs,\n",
    "            #'max_iter' : 30000,\n",
    "            'tol' : 0.001,\n",
    "        }\n",
    "        \n",
    "        params_elasticnet = {\n",
    "            'l1_ratio' : np.arange(0.1, 1, 0.1),\n",
    "            'alphas' : [1e-5, 1e-3, 1e-1, 1.0, 10.0, 100.0],\n",
    "            'cv' : RepeatedKFold(n_splits=self.hyperparameters['n_splits'], n_repeats=3,\n",
    "                                 random_state=self.hyperparameters['random_state']),\n",
    "            'n_jobs' : n_jobs,\n",
    "            #'max_iter' : 30000,\n",
    "            'tol' : 0.001,\n",
    "        }\n",
    "        \n",
    "        params_catboost1 = {\n",
    "            'random_state' : self.hyperparameters['random_state'],\n",
    "            'iterations' : self.hyperparameters['iterations'],\n",
    "            'early_stopping_rounds' : self.hyperparameters['early_stopping_rounds'],\n",
    "            'learning_rate' : self.hyperparameters['learning_rate'],\n",
    "            'loss_function' : 'RMSE', #'MAE'\n",
    "            #'loss_function' : cat_loss_function, 'eval_metric' : cat_eval_metric,\n",
    "            'grow_policy' : 'Lossguide', # 'SymmetricTree','Depthwise'\n",
    "            'use_best_model' : True,\n",
    "            'allow_writing_files' : False,\n",
    "            'verbose' : 0,\n",
    "            'max_depth' : self.hyperparameters['max_depth'],\n",
    "            #'l2_leaf_reg' : 1,\n",
    "        }\n",
    "        \n",
    "        params_catboost2 = {\n",
    "            'random_state' : self.hyperparameters['random_state'],\n",
    "            'iterations' : self.hyperparameters['iterations'],\n",
    "            'early_stopping_rounds' : self.hyperparameters['early_stopping_rounds'],\n",
    "            'learning_rate' : self.hyperparameters['learning_rate'],\n",
    "            'loss_function' : 'RMSE', #'MAE'\n",
    "            #'loss_function' : cat_loss_function, 'eval_metric' : cat_eval_metric,\n",
    "            'grow_policy' : 'Lossguide', # 'SymmetricTree','Depthwise'\n",
    "            'use_best_model' : True,\n",
    "            'allow_writing_files' : False,\n",
    "            'verbose' : 0,\n",
    "            #'max_depth' : self.hyperparameters['max_depth'],\n",
    "            'l2_leaf_reg' : 3,\n",
    "        }\n",
    "        \n",
    "        params_catboost3 = {\n",
    "            'random_state' : self.hyperparameters['random_state'],\n",
    "            'iterations' : self.hyperparameters['iterations'],\n",
    "            'early_stopping_rounds' : self.hyperparameters['early_stopping_rounds'],\n",
    "            'learning_rate' : self.hyperparameters['learning_rate'],\n",
    "            'loss_function' : 'RMSE', #'MAE'\n",
    "            #'loss_function' : cat_loss_function, 'eval_metric' : cat_eval_metric,\n",
    "            'grow_policy' : 'SymmetricTree', # 'Lossguide','Depthwise'\n",
    "            'use_best_model' : True,\n",
    "            'allow_writing_files' : False,\n",
    "            'verbose' : 0,\n",
    "            #'max_depth' : self.hyperparameters['max_depth'],\n",
    "            'l2_leaf_reg' : 1,\n",
    "        }\n",
    "        \n",
    "        params_catboost4 = {\n",
    "            'random_state' : self.hyperparameters['random_state'],\n",
    "            'iterations' : self.hyperparameters['iterations'],\n",
    "            'early_stopping_rounds' : self.hyperparameters['early_stopping_rounds'],\n",
    "            'learning_rate' : self.hyperparameters['learning_rate'],\n",
    "            'loss_function' : 'RMSE', #'MAE'\n",
    "            #'loss_function' : cat_loss_function, 'eval_metric' : cat_eval_metric,\n",
    "            'grow_policy' : 'Depthwise', # 'SymmetricTree','Depthwise'\n",
    "            'use_best_model' : True,\n",
    "            'allow_writing_files' : False,\n",
    "            'verbose' : 0,\n",
    "            'max_depth' : self.hyperparameters['max_depth'],\n",
    "            'l2_leaf_reg' : 1,\n",
    "        }\n",
    "    \n",
    "        params_xgboost = {\n",
    "            'random_state' : self.hyperparameters['random_state'],\n",
    "            'n_estimators' : self.hyperparameters['xgb_iterations'],\n",
    "            'early_stopping_rounds' : self.hyperparameters['xgb_early_stopping_rounds'],\n",
    "            'learning_rate' : self.hyperparameters['xgb_learning_rate'],\n",
    "            'objective' : 'reg:squarederror',#'reg:absoluteerror',\n",
    "            'verbosity' : 0,\n",
    "            'max_depth': self.hyperparameters['max_depth'],\n",
    "            'n_jobs' : n_jobs,\n",
    "        }\n",
    "    \n",
    "        params_lightgbm1 = {\n",
    "            'random_state' : self.hyperparameters['random_state'],\n",
    "            'n_estimators' : self.hyperparameters['iterations'],\n",
    "            'early_stopping_round' : self.hyperparameters['early_stopping_rounds'],\n",
    "            'learning_rate' : self.hyperparameters['learning_rate'],\n",
    "            'objective' : 'regression',\n",
    "            'metric' : 'mean_absolute_error',\n",
    "            'verbosity' : -1,\n",
    "            'max_depth': self.hyperparameters['max_depth'],\n",
    "            'reg_lambda' : 1,\n",
    "            'n_jobs' : n_jobs,\n",
    "        }\n",
    "        \n",
    "        params_lightgbm2 = {\n",
    "            'random_state' : self.hyperparameters['random_state'],\n",
    "            'n_estimators' : self.hyperparameters['iterations'],\n",
    "            'early_stopping_round' : self.hyperparameters['early_stopping_rounds'],\n",
    "            'learning_rate' : self.hyperparameters['learning_rate'],\n",
    "            'objective' : 'regression',\n",
    "            'metric' : 'mean_absolute_error',\n",
    "            'verbosity' : -1,\n",
    "            'max_depth': self.hyperparameters['max_depth'],\n",
    "            'reg_lambda' : 3,\n",
    "            'n_jobs' : n_jobs,\n",
    "        }\n",
    "        \n",
    "        params_lightgbm3 = {\n",
    "            'random_state' : self.hyperparameters['random_state'],\n",
    "            'n_estimators' : self.hyperparameters['iterations'],\n",
    "            'early_stopping_round' : self.hyperparameters['early_stopping_rounds'],\n",
    "            'learning_rate' : self.hyperparameters['learning_rate'],\n",
    "            'objective' : 'regression',\n",
    "            'metric' : 'mean_absolute_error',\n",
    "            'verbosity' : -1,\n",
    "            'max_depth': self.hyperparameters['max_depth'],\n",
    "            'reg_alpha' : 1,\n",
    "            'n_jobs' : n_jobs,\n",
    "        }\n",
    "        \n",
    "        params_lightgbm4 = {\n",
    "            'random_state' : self.hyperparameters['random_state'],\n",
    "            'n_estimators' : self.hyperparameters['iterations'],\n",
    "            'early_stopping_round' : self.hyperparameters['early_stopping_rounds'],\n",
    "            'learning_rate' : self.hyperparameters['learning_rate'],\n",
    "            'objective' : 'regression',\n",
    "            'metric' : 'mean_absolute_error',\n",
    "            'verbosity' : -1,\n",
    "            'max_depth': self.hyperparameters['max_depth'],\n",
    "            'reg_alpha' : 3,\n",
    "            'n_jobs' : n_jobs,\n",
    "        }\n",
    "        \n",
    "        params_lightgbm5 = {\n",
    "            'random_state' : self.hyperparameters['random_state'],\n",
    "            'n_estimators' : self.hyperparameters['iterations'],\n",
    "            'early_stopping_round' : self.hyperparameters['early_stopping_rounds'],\n",
    "            'learning_rate' : self.hyperparameters['learning_rate'],\n",
    "            'objective' : 'regression',\n",
    "            'metric' : 'mean_absolute_error',\n",
    "            'verbosity' : -1,\n",
    "            'max_depth': self.hyperparameters['max_depth'],\n",
    "            'reg_alpha' : 1,\n",
    "            'reg_lambda' : 1,\n",
    "            'n_jobs' : n_jobs,\n",
    "        }\n",
    "        \n",
    "        params_lightgbm6 = {\n",
    "            'random_state' : self.hyperparameters['random_state'],\n",
    "            'n_estimators' : self.hyperparameters['iterations'],\n",
    "            'early_stopping_round' : self.hyperparameters['early_stopping_rounds'],\n",
    "            'learning_rate' : self.hyperparameters['learning_rate'],\n",
    "            'objective' : 'regression',\n",
    "            'metric' : 'mean_absolute_error',\n",
    "            'verbosity' : -1,\n",
    "            'max_depth': self.hyperparameters['max_depth'],\n",
    "            'reg_alpha' : 1,\n",
    "            'reg_lambda' : 3,\n",
    "            'n_jobs' : n_jobs,\n",
    "        }\n",
    "        \n",
    "        params_lightgbm7 = {\n",
    "            'random_state' : self.hyperparameters['random_state'],\n",
    "            'n_estimators' : self.hyperparameters['iterations'],\n",
    "            'early_stopping_round' : self.hyperparameters['early_stopping_rounds'],\n",
    "            'learning_rate' : self.hyperparameters['learning_rate'],\n",
    "            'objective' : 'regression',\n",
    "            'metric' : 'mean_absolute_error',\n",
    "            'verbosity' : -1,\n",
    "            'max_depth': self.hyperparameters['max_depth'],\n",
    "            'reg_alpha' : 3,\n",
    "            'reg_lambda' : 1,\n",
    "            'n_jobs' : n_jobs,\n",
    "        }\n",
    "        \n",
    "        params_lightgbm8 = {\n",
    "            'random_state' : self.hyperparameters['random_state'],\n",
    "            'n_estimators' : self.hyperparameters['iterations'],\n",
    "            'early_stopping_round' : self.hyperparameters['early_stopping_rounds'],\n",
    "            'learning_rate' : self.hyperparameters['learning_rate'],\n",
    "            'objective' : 'regression',\n",
    "            'metric' : 'mean_absolute_error',\n",
    "            'verbosity' : -1,\n",
    "            'max_depth': self.hyperparameters['max_depth'],\n",
    "            'reg_alpha' : 3,\n",
    "            'reg_lambda' : 3,\n",
    "            'n_jobs' : n_jobs,\n",
    "        }\n",
    "        \n",
    "        params_extratrees = {\n",
    "            'random_state' : self.hyperparameters['random_state'],\n",
    "            'n_estimators' : self.hyperparameters['extratrees_iterations'],\n",
    "            'criterion' : 'absolute_error',\n",
    "            'verbose' : 0,\n",
    "            'max_depth' : self.hyperparameters['max_depth'],\n",
    "            'n_jobs' : n_jobs,\n",
    "        }\n",
    "        \n",
    "        self.regressors = [\n",
    "            # LinearRegression(),\n",
    "            # RidgeCV(**params_ridge),\n",
    "            # LassoCV(**params_lasso),\n",
    "            # ElasticNetCV(**params_elasticnet),\n",
    "            # CatBoostRegressor(**params_catboost1),\n",
    "            # CatBoostRegressor(**params_catboost2),\n",
    "            # CatBoostRegressor(**params_catboost3),\n",
    "            # CatBoostRegressor(**params_catboost4),\n",
    "            # XGBRegressor(**params_xgboost),\n",
    "            LGBMRegressor(**params_lightgbm1),\n",
    "            LGBMRegressor(**params_lightgbm2),\n",
    "            LGBMRegressor(**params_lightgbm3),\n",
    "            LGBMRegressor(**params_lightgbm4),\n",
    "            LGBMRegressor(**params_lightgbm5),\n",
    "            LGBMRegressor(**params_lightgbm6),\n",
    "            LGBMRegressor(**params_lightgbm7),\n",
    "            LGBMRegressor(**params_lightgbm8),\n",
    "            #ExtraTreesRegressor(**params_extratrees),\n",
    "        ]\n",
    "        self.regressors_name = [\n",
    "            # 'OLS',\n",
    "            # 'Ridge',\n",
    "            # 'Lasso',\n",
    "            # 'ElasticNet',\n",
    "            # 'CatBoost1',\n",
    "            # 'CatBoost2',\n",
    "            # 'CatBoost3',\n",
    "            # 'CatBoost4',\n",
    "            # 'XGBoost',\n",
    "            'LightGBM1',\n",
    "            'LightGBM2',\n",
    "            'LightGBM3',\n",
    "            'LightGBM4',\n",
    "            'LightGBM5',\n",
    "            'LightGBM6',\n",
    "            'LightGBM7',\n",
    "            'LightGBM8',\n",
    "            #'ExtraTrees',\n",
    "        ]\n",
    "        \n",
    "    def _set_zero_to_minimum(self,pred,minimum_value):\n",
    "        pred = np.array(pred).flatten()\n",
    "        if np.where(pred<0,1,0).sum()>0:\n",
    "            pred = [x if x>0 else minimum_value for x in pred]\n",
    "        pred = np.array(pred).flatten()\n",
    "        return pred\n",
    "    \n",
    "    def _set_inf_to_maximum(self,pred,maximum_value):\n",
    "        pred = np.array(pred).flatten()\n",
    "        if np.where(pred==np.inf,1,0).sum()>0:\n",
    "            pred = [x if x!=np.inf else maximum_value for x in pred]\n",
    "        pred = np.array(pred).flatten()\n",
    "        return pred\n",
    "    \n",
    "    def fit(self,X,y,eval_set,oh_set,cat_features,verbose=1):\n",
    "        assert len(eval_set)==1, \\\n",
    "            \"eval_set length must be 1. len(eval_set)={}\".format(len(eval_set))\n",
    "        assert len(oh_set)==1, \\\n",
    "            \"oh_set length must be 1. len(oh_set)={}\".format(len(oh_set))\n",
    "        X_val, y_val = eval_set[0]\n",
    "        X_oh, X_val_oh = oh_set[0]\n",
    "        \n",
    "        self.features = X.columns\n",
    "        self.oh_features = X_oh.columns\n",
    "        \n",
    "        tr_true = np.array(y)    .flatten()\n",
    "        va_true = np.array(y_val).flatten()\n",
    "        if self.inverse_transform is not None:\n",
    "            tr_true = self.inverse_transform(tr_true)\n",
    "            va_true = self.inverse_transform(va_true)\n",
    "        \n",
    "        self.minimum_value = min(np.nanmin(y),np.nanmin(y_val))\n",
    "        self.maximum_value = max(np.nanmax(y),np.nanmax(y_val))\n",
    "        \n",
    "        self.cat_features = cat_features\n",
    "        self.scores = []\n",
    "        self.weights = []\n",
    "        self.fitting_elapsed = []\n",
    "        if verbose:\n",
    "            pbar = tqdm(zip(self.regressors_name,self.regressors),total=len(self.regressors))\n",
    "        else:\n",
    "            pbar = zip(self.regressors_name,self.regressors)\n",
    "            \n",
    "        fit_iter = 0\n",
    "        for regressor_name,regressor in pbar:\n",
    "            fit_iter+=1\n",
    "            s = time.time()\n",
    "            \n",
    "            if verbose:\n",
    "                pbar.set_description(name)\n",
    "                \n",
    "            if regressor_name in ['OLS','Ridge','Lasso','ElasticNet']:\n",
    "                warnings.filterwarnings(\"ignore\", category=UserWarning)\n",
    "                regressor.fit(X_oh,y)\n",
    "                tr_pred = regressor.predict(X_oh)\n",
    "                va_pred = regressor.predict(X_val_oh)\n",
    "            elif regressor_name.find('CatBoost')>=0:\n",
    "                train_dataset = Pool(X,y,cat_features=cat_features)\n",
    "                val_dataset   = Pool(X_val,y_val,cat_features=cat_features)\n",
    "                \n",
    "                regressor.fit(\n",
    "                    train_dataset,\n",
    "                    eval_set=val_dataset,\n",
    "                    #metric_period=self.hyperparameters['iterations']//50, verbose=True,\n",
    "                    verbose=False,\n",
    "                )\n",
    "                tr_pred = regressor.predict(train_dataset)\n",
    "                va_pred = regressor.predict(val_dataset)\n",
    "            elif regressor_name=='XGBoost':\n",
    "                regressor.fit(\n",
    "                    X_oh,y,\n",
    "                    eval_set=[(X_val_oh,y_val)],\n",
    "                    verbose=0,\n",
    "                )\n",
    "                tr_pred = regressor.predict(X_oh)\n",
    "                va_pred = regressor.predict(X_val_oh)\n",
    "            elif regressor_name.find('LightGBM')>=0:\n",
    "                warnings.filterwarnings(\"ignore\", category=UserWarning)\n",
    "                X_tmp = X.copy()\n",
    "                X_val_tmp = X_val.copy()\n",
    "                for col in cat_features:\n",
    "                    X_tmp[col]     = X_tmp[col]    .astype('category')\n",
    "                    X_val_tmp[col] = X_val_tmp[col].astype('category')\n",
    "                regressor.fit(\n",
    "                    X_tmp,y,\n",
    "                    eval_set=[(X_val_tmp,y_val)],\n",
    "                    verbose=-1,\n",
    "                )\n",
    "                tr_pred = regressor.predict(X_tmp)\n",
    "                va_pred = regressor.predict(X_val_tmp)\n",
    "            elif regressor_name=='ExtraTrees':\n",
    "                regressor.fit(X_oh,y)\n",
    "                tr_pred = regressor.predict(X_oh)\n",
    "                va_pred = regressor.predict(X_val_oh)\n",
    "            else:\n",
    "                raise ValueError('Unknown Regressor: {}'.format(regressor_name))\n",
    "            \n",
    "            tr_pred = np.array(tr_pred).flatten()\n",
    "            va_pred = np.array(va_pred).flatten()\n",
    "            \n",
    "            tr_pred = self._set_zero_to_minimum(tr_pred,self.minimum_value)\n",
    "            va_pred = self._set_zero_to_minimum(va_pred,self.minimum_value)\n",
    "            \n",
    "            if self.inverse_transform is not None:\n",
    "                tr_pred = self.inverse_transform(tr_pred)\n",
    "                va_pred = self.inverse_transform(va_pred)\n",
    "                tr_pred = self._set_inf_to_maximum(tr_pred,self.maximum_value)\n",
    "                va_pred = self._set_inf_to_maximum(va_pred,self.maximum_value)\n",
    "            \n",
    "            tr_score = self.eval_metric(y_pred=tr_pred,y_true=tr_true)\n",
    "            va_score = self.eval_metric(y_pred=va_pred,y_true=va_true)\n",
    "            e = time.time()\n",
    "            self.scores.append(va_score)\n",
    "            self.weights.append(1/va_score)\n",
    "            self.fitting_elapsed.append(e-s)\n",
    "            \n",
    "            blank = ' '*(11-len(regressor_name))\n",
    "            fit_progress = '[{}/{}] {}{}: loss={:.3f}, val_loss={:.3f}, elasped={:.1f}s'\\\n",
    "                .format(fit_iter,len(self.regressors),regressor_name,blank,tr_score,va_score,e-s)\n",
    "            print(fit_progress)\n",
    "        \n",
    "        if self.weight=='equal':\n",
    "            self.weights = np.array([1.0 for _ in self.regressors])\n",
    "        self.weights /= sum(self.weights)\n",
    "        \n",
    "        tr_pred = self.predict(X,X_oh)\n",
    "        va_pred = self.predict(X_val,X_val_oh)\n",
    "        \n",
    "        ## -> self.predict에서 inverse_transform 해줌\n",
    "        # if self.inverse_transform is not None:\n",
    "        #     tr_pred = self.inverse_transform(tr_pred)\n",
    "        #     va_pred = self.inverse_transform(va_pred)\n",
    "        \n",
    "        ens_tr_score = self.eval_metric(y_true=tr_true,y_pred=tr_pred)\n",
    "        ens_va_score = self.eval_metric(y_true=va_true,y_pred=va_pred)\n",
    "        \n",
    "        ens_fit_progress = \"<Weighted Ensemble(weight='{}')> loss={:.3f}, val_loss={:.3f}, elasped={:.1f}s\"\\\n",
    "            .format(self.weight,ens_tr_score,ens_va_score,sum(self.fitting_elapsed))\n",
    "        print(ens_fit_progress)\n",
    "        \n",
    "        self.ensemble_score = ens_va_score\n",
    "        \n",
    "    def predict(self,X,X_oh):\n",
    "        assert len(X)==len(X_oh), \\\n",
    "            \"X and X_oh must be same length\"\n",
    "        \n",
    "        pred_list = []\n",
    "        for regressor_name,regressor in zip(self.regressors_name,self.regressors):\n",
    "            if regressor_name in ['OLS','Ridge','Lasso','ElasticNet','XGBoost','ExtraTrees']:\n",
    "                dataset = X_oh.copy()\n",
    "            elif regressor_name.find('CatBoost')>=0:\n",
    "                dataset = Pool(X,cat_features=self.cat_features)\n",
    "            elif regressor_name.find('LightGBM')>=0:\n",
    "                dataset = X.copy()\n",
    "                for col in self.cat_features:\n",
    "                    dataset[col] = dataset[col].astype('category')\n",
    "            else:\n",
    "                raise ValueError('Unknown Regressor: {}'.format(regressor_name))\n",
    "            \n",
    "            y_pred = regressor.predict(dataset)\n",
    "            y_pred = self._set_zero_to_minimum(y_pred,self.minimum_value)\n",
    "            \n",
    "            pred_list.append(y_pred)\n",
    "            \n",
    "        final_pred = np.zeros(len(X))\n",
    "        for pred,weight in zip(pred_list,self.weights):\n",
    "            final_pred += np.array(pred)*weight\n",
    "            \n",
    "        if self.inverse_transform is not None:\n",
    "            final_pred = self.inverse_transform(np.array(final_pred))\n",
    "            final_pred = self._set_inf_to_maximum(final_pred,self.maximum_value)\n",
    "            \n",
    "        return final_pred\n",
    "        \n",
    "    def save_model(self,path):\n",
    "        save_dict = {\n",
    "            'cat_features' : self.cat_features,\n",
    "            'weights' : self.weights,\n",
    "            'fitting_elapsed' : self.fitting_elapsed,\n",
    "            'regressors' : self.regressors,\n",
    "            'minimum_value' : self.minimum_value,\n",
    "            'maximum_value' : self.maximum_value,\n",
    "            'features' : self.features,\n",
    "            'oh_features' : self.oh_features,\n",
    "            'scores' : self.scores,\n",
    "            'hyperparameters' : self.hyperparameters,\n",
    "            'inverse_transform' : self.inverse_transform,\n",
    "            'ensemble_score' : self.ensemble_score,\n",
    "        }\n",
    "        with open(path, 'wb') as f:\n",
    "            pickle.dump(save_dict, f, protocol=pickle.HIGHEST_PROTOCOL)\n",
    "            \n",
    "    def load_model(self,path):\n",
    "        with open(path, 'rb') as f:\n",
    "            save_dict = pickle.load(f)\n",
    "            self.cat_features = save_dict['cat_features']\n",
    "            self.weights = save_dict['weights']\n",
    "            self.fitting_elapsed = save_dict['fitting_elapsed']\n",
    "            self.regressors = save_dict['regressors']\n",
    "            self.minimum_value = save_dict['minimum_value']\n",
    "            self.maximum_value = save_dict['maximum_value']\n",
    "            self.features = save_dict['features']\n",
    "            self.oh_features = save_dict['oh_features']\n",
    "            self.scores = save_dict['scores']\n",
    "            self.hyperparameters = save_dict['hyperparameters']\n",
    "            self.inverse_transform = save_dict['inverse_transform']\n",
    "            self.ensemble_score = save_dict['ensemble_score']"
   ]
  },
  {
   "cell_type": "code",
   "execution_count": 116,
   "id": "7176bd86-79ae-4d5b-8368-feda76bc152c",
   "metadata": {},
   "outputs": [],
   "source": [
    "from sklearn.model_selection import KFold"
   ]
  },
  {
   "cell_type": "code",
   "execution_count": 117,
   "id": "ecbc22ae-1d9a-4836-9402-cbe47a392b5c",
   "metadata": {},
   "outputs": [],
   "source": [
    "def split_segment(data,segment,seg):\n",
    "    return data[data[segment]==seg]"
   ]
  },
  {
   "cell_type": "code",
   "execution_count": 118,
   "id": "697e09af-27de-4f11-b483-f0fc11aa1512",
   "metadata": {},
   "outputs": [],
   "source": [
    "hyperparameters = {\n",
    "    'n_splits' : 5,\n",
    "    'max_depth' : 9,\n",
    "    'random_state' : 0,\n",
    "    'learning_rate' : 0.01,\n",
    "    'iterations' : 30000,\n",
    "    'early_stopping_rounds' : 300,\n",
    "    'xgb_learning_rate' : 0.3,         # default=0.3\n",
    "    'xgb_iterations' : 3000,           # default=100\n",
    "    'xgb_early_stopping_rounds' : 30,\n",
    "    'extratrees_iterations' : 100,     # default=100\n",
    "}"
   ]
  },
  {
   "cell_type": "code",
   "execution_count": 119,
   "id": "f13ea47d-3130-44f9-b2b1-5613f0e346d9",
   "metadata": {},
   "outputs": [],
   "source": [
    "X = train_fn.drop(target_feature,axis=1)\n",
    "X.drop(columns=unuse_features,inplace=True)\n",
    "\n",
    "X_test = test_fn.copy()\n",
    "X_test.drop(columns=unuse_features,inplace=True)\n",
    "\n",
    "y = train_fn[target_feature]\n",
    "\n",
    "ohe = OneHotEncoder()\n",
    "ohe.fit(X,cat_features)\n",
    "X_oh      = ohe.transform(X)\n",
    "X_test_oh = ohe.transform(X_test)\n",
    "\n",
    "if segment_feature is not None:\n",
    "    segment_list = X[segment_feature].unique()\n",
    "else:\n",
    "    segment_list = ['NoSegment']"
   ]
  },
  {
   "cell_type": "code",
   "execution_count": 120,
   "id": "123374b1-9dc8-4e23-8821-4c5e0676f3e8",
   "metadata": {},
   "outputs": [
    {
     "data": {
      "text/plain": [
       "((5872, 120), (5872, 274))"
      ]
     },
     "execution_count": 120,
     "metadata": {},
     "output_type": "execute_result"
    }
   ],
   "source": [
    "X.shape, X_oh.shape"
   ]
  },
  {
   "cell_type": "code",
   "execution_count": 121,
   "id": "a3d84eea-3c0a-4c2d-9016-dda353554bdf",
   "metadata": {},
   "outputs": [
    {
     "name": "stdout",
     "output_type": "stream",
     "text": [
      "gc_collect: 16\n"
     ]
    }
   ],
   "source": [
    "gc_collect_all()"
   ]
  },
  {
   "cell_type": "code",
   "execution_count": 122,
   "id": "11440614-26f5-4cab-b5b4-78fa5e482f1f",
   "metadata": {},
   "outputs": [],
   "source": [
    "if segment_feature is not None:\n",
    "    segment_string = '_'.join(segment_features).replace(' ','')\n",
    "else:\n",
    "    segment_string = 'NoSegment'\n",
    "save_folder = './mc/kf_weiens_lgball_{}_{}'.format(CFG.TARGET_TRANSFORMATION,segment_string)\n",
    "mkdir(save_folder)"
   ]
  },
  {
   "cell_type": "code",
   "execution_count": 123,
   "id": "7bcbb1cc-85f5-49f1-a9b7-84e1c0003aac",
   "metadata": {
    "tags": []
   },
   "outputs": [
    {
     "name": "stderr",
     "output_type": "stream",
     "text": [
      "  0%|          | 0/1 [00:00<?, ?it/s]"
     ]
    },
    {
     "name": "stdout",
     "output_type": "stream",
     "text": [
      "--------------------------------------------------------------------------------\n",
      "> [1/1] Segment: NoSegment, Shape: Raw(5872, 120), OneHot(5872, 274)\n",
      "--------------------------------------------------------------------------------\n",
      "> [K-Fold] 1/5\n",
      "[1/8] LightGBM1  : loss=59.436, val_loss=112.998, elasped=50.4s\n",
      "[2/8] LightGBM2  : loss=59.137, val_loss=112.087, elasped=50.9s\n",
      "[3/8] LightGBM3  : loss=79.512, val_loss=114.113, elasped=32.5s\n",
      "[4/8] LightGBM4  : loss=81.284, val_loss=115.490, elasped=33.3s\n",
      "[5/8] LightGBM5  : loss=64.283, val_loss=111.062, elasped=51.4s\n",
      "[6/8] LightGBM6  : loss=56.077, val_loss=112.980, elasped=68.5s\n",
      "[7/8] LightGBM7  : loss=73.127, val_loss=112.297, elasped=45.6s\n",
      "[8/8] LightGBM8  : loss=69.181, val_loss=114.045, elasped=44.0s\n",
      "<Weighted Ensemble(weight='balanced')> loss=66.792, val_loss=112.093, elasped=376.7s\n",
      "> [K-Fold] 2/5\n",
      "[1/8] LightGBM1  : loss=68.475, val_loss=155.452, elasped=43.0s\n",
      "[2/8] LightGBM2  : loss=48.441, val_loss=152.847, elasped=42.3s\n",
      "[3/8] LightGBM3  : loss=63.819, val_loss=155.271, elasped=30.6s\n",
      "[4/8] LightGBM4  : loss=70.244, val_loss=156.882, elasped=37.0s\n",
      "[5/8] LightGBM5  : loss=55.219, val_loss=153.227, elasped=62.6s\n",
      "[6/8] LightGBM6  : loss=58.426, val_loss=157.242, elasped=38.2s\n",
      "[7/8] LightGBM7  : loss=71.020, val_loss=158.608, elasped=37.8s\n",
      "[8/8] LightGBM8  : loss=62.498, val_loss=157.267, elasped=46.9s\n",
      "<Weighted Ensemble(weight='balanced')> loss=61.478, val_loss=155.150, elasped=338.3s\n",
      "> [K-Fold] 3/5\n",
      "[1/8] LightGBM1  : loss=81.993, val_loss=132.214, elasped=24.7s\n",
      "[2/8] LightGBM2  : loss=73.964, val_loss=130.582, elasped=27.5s\n",
      "[3/8] LightGBM3  : loss=76.116, val_loss=132.198, elasped=30.4s\n",
      "[4/8] LightGBM4  : loss=88.378, val_loss=132.974, elasped=27.9s\n",
      "[5/8] LightGBM5  : loss=74.596, val_loss=132.129, elasped=30.8s\n",
      "[6/8] LightGBM6  : loss=69.532, val_loss=132.540, elasped=36.4s\n",
      "[7/8] LightGBM7  : loss=69.269, val_loss=130.329, elasped=39.8s\n",
      "[8/8] LightGBM8  : loss=86.700, val_loss=135.022, elasped=32.9s\n",
      "<Weighted Ensemble(weight='balanced')> loss=76.785, val_loss=131.450, elasped=250.3s\n",
      "> [K-Fold] 4/5\n",
      "[1/8] LightGBM1  : loss=73.309, val_loss=125.541, elasped=31.7s\n",
      "[2/8] LightGBM2  : loss=56.692, val_loss=125.103, elasped=45.2s\n",
      "[3/8] LightGBM3  : loss=79.591, val_loss=128.324, elasped=33.3s\n",
      "[4/8] LightGBM4  : loss=70.347, val_loss=127.370, elasped=50.5s\n",
      "[5/8] LightGBM5  : loss=77.969, val_loss=130.202, elasped=31.2s\n",
      "[6/8] LightGBM6  : loss=64.465, val_loss=129.464, elasped=44.0s\n",
      "[7/8] LightGBM7  : loss=68.063, val_loss=128.494, elasped=40.9s\n",
      "[8/8] LightGBM8  : loss=73.659, val_loss=131.274, elasped=38.1s\n",
      "<Weighted Ensemble(weight='balanced')> loss=69.681, val_loss=127.298, elasped=314.8s\n",
      "> [K-Fold] 5/5\n",
      "[1/8] LightGBM1  : loss=72.787, val_loss=115.247, elasped=33.4s\n",
      "[2/8] LightGBM2  : loss=74.778, val_loss=114.326, elasped=32.2s\n",
      "[3/8] LightGBM3  : loss=75.204, val_loss=114.441, elasped=33.7s\n",
      "[4/8] LightGBM4  : loss=84.392, val_loss=116.165, elasped=29.3s\n",
      "[5/8] LightGBM5  : loss=77.647, val_loss=114.225, elasped=33.8s\n",
      "[6/8] LightGBM6  : loss=79.317, val_loss=116.010, elasped=32.9s\n",
      "[7/8] LightGBM7  : loss=79.422, val_loss=115.181, elasped=35.6s\n",
      "[8/8] LightGBM8  : loss=81.147, val_loss=115.349, elasped=34.2s\n",
      "<Weighted Ensemble(weight='balanced')> loss=77.413, val_loss=114.436, elasped=265.0s\n"
     ]
    },
    {
     "data": {
      "image/png": "[encoded data removed]",
      "text/plain": [
       "<Figure size 1080x504 with 1 Axes>"
      ]
     },
     "metadata": {
      "needs_background": "light"
     },
     "output_type": "display_data"
    },
    {
     "name": "stderr",
     "output_type": "stream",
     "text": [
      "100%|██████████| 1/1 [26:10<00:00, 1570.60s/it]"
     ]
    },
    {
     "name": "stdout",
     "output_type": "stream",
     "text": [
      "CPU times: user 1h 24min 39s, sys: 13min 47s, total: 1h 38min 27s\n",
      "Wall time: 26min 10s\n"
     ]
    },
    {
     "name": "stderr",
     "output_type": "stream",
     "text": [
      "\n"
     ]
    }
   ],
   "source": [
    "%%time\n",
    "# 2시간\n",
    "\n",
    "ens_save_path = save_folder+'/segment{}_k{}.pickle'\n",
    "\n",
    "models = {}\n",
    "feature_info = {}\n",
    "scores = []\n",
    "\n",
    "s_i = 0\n",
    "for segment in tqdm(segment_list):\n",
    "    s_i+=1\n",
    "    gc_collect_all(verbose=False)\n",
    "    \n",
    "    # segment에 해당하는 데이터추출\n",
    "    if segment!='NoSegment':\n",
    "        _X         = split_segment(X        ,segment_feature,segment)\n",
    "        _X_oh      = split_segment(X_oh     ,segment_feature,segment)\n",
    "        _X_test    = split_segment(X_test   ,segment_feature,segment)\n",
    "        _X_test_oh = split_segment(X_test_oh,segment_feature,segment)\n",
    "        _y         = y[X[segment_feature]==segment]\n",
    "    else:\n",
    "        _X = X.copy()\n",
    "        _X_oh = X_oh.copy()\n",
    "        _X_test = X_test.copy()\n",
    "        _X_test_oh = X_test_oh.copy()\n",
    "        _y = y.copy()\n",
    "    \n",
    "    # kfold\n",
    "    kf = KFold(n_splits=CFG.N_SPLITS,random_state=1000*s_i+CFG.SEED,shuffle=True)\n",
    "    \n",
    "    # unique인 컬럼 제외\n",
    "    # (1) X\n",
    "    unique_info = _X.nunique()\n",
    "    unique_cols = unique_info[unique_info==1].index.tolist()\n",
    "    if len(unique_cols)>0:\n",
    "        _X = _X.drop(unique_cols,axis=1)\n",
    "    # (2) X_oh\n",
    "    unique_info = _X_oh.nunique()\n",
    "    unique_cols = unique_info[unique_info==1].index.tolist()\n",
    "    if len(unique_cols)>0:\n",
    "        _X_oh = _X_oh.drop(unique_cols,axis=1)\n",
    "        \n",
    "    # categorical feature에서 unique인 컬럼을 제외\n",
    "    fixed_cat_features = [col for col in cat_features if col in _X.columns]\n",
    "    \n",
    "    # progress\n",
    "    progress = '> [{}/{}] Segment: {}, Shape: Raw{}, OneHot{}'.format(s_i,len(segment_list),segment,_X.shape,_X_oh.shape)\n",
    "    print('-'*80)\n",
    "    print(progress)\n",
    "    print('-'*80)\n",
    "    \n",
    "    _models = []\n",
    "    _scores = []\n",
    "    k=0\n",
    "    for tr_idx,val_idx in kf.split(_X,_y):\n",
    "        k+=1\n",
    "        print('> [K-Fold] {}/{}'.format(k,CFG.N_SPLITS))\n",
    "        \n",
    "        # kfold dataset\n",
    "        X_tr   , X_va    = _X   .iloc[tr_idx], _X   .iloc[val_idx]\n",
    "        X_tr_oh, X_va_oh = _X_oh.iloc[tr_idx], _X_oh.iloc[val_idx]\n",
    "        y_tr   , y_va    = _y   .iloc[tr_idx], _y   .iloc[val_idx]\n",
    "\n",
    "        # define the model\n",
    "        ensemble_model = WeightedEnsembleRegressor(\n",
    "            hyperparameters=hyperparameters,\n",
    "            weight='balanced',\n",
    "            inverse_transform=target_transform.inverse_transform,\n",
    "        )\n",
    "\n",
    "        # fit the model\n",
    "        ensemble_model.fit(\n",
    "            X_tr,y_tr,\n",
    "            eval_set=[(X_va,y_va)],\n",
    "            oh_set=[(X_tr_oh,X_va_oh)],\n",
    "            cat_features=fixed_cat_features,\n",
    "            verbose=0,\n",
    "        )\n",
    "\n",
    "        # save the model\n",
    "        ensemble_model.save_model(ens_save_path.format(segment,k))\n",
    "\n",
    "        # prediction\n",
    "        y_pred = ensemble_model.predict(X_va,X_va_oh).flatten()\n",
    "        y_true = target_transform.inverse_transform(y_va.values)\n",
    "        \n",
    "        # caculate score\n",
    "        score = mean_squared_error(y_true=y_true,y_pred=y_pred)**0.5\n",
    "        \n",
    "        # append inner loop\n",
    "        _models.append(ensemble_model)\n",
    "        _scores.append([segment,k,len(X_tr),len(X_va),score])\n",
    "    \n",
    "    # append outer loop\n",
    "    models[segment] = _models\n",
    "    scores.append(_scores)\n",
    "    feature_info[segment] = {\n",
    "        'cat_features':fixed_cat_features,\n",
    "        'features':_X.columns.tolist(),\n",
    "        'oh_features':_X_oh.columns.tolist(),\n",
    "    }\n",
    "    \n",
    "    # plotting after kfold\n",
    "    y_pred = np.mean([m.predict(_X,_X_oh) for m in _models],axis=0)\n",
    "    y_true = _y.values\n",
    "    y_true = target_transform.inverse_transform(y_true).flatten()\n",
    "\n",
    "    score = mean_squared_error(y_true=y_true,y_pred=y_pred)**0.5\n",
    "\n",
    "    plt.figure(figsize=(15,7))\n",
    "    sns.scatterplot(x=y_true,y=y_pred)\n",
    "    abline(0,1)\n",
    "    plt.grid()\n",
    "    plt.title('Segment={}(Raw{}, OneHot{}), Score={:.4f}'.format(segment,_X.shape,_X_oh.shape,score))\n",
    "    plt.tight_layout()\n",
    "    plt.show()"
   ]
  },
  {
   "cell_type": "code",
   "execution_count": null,
   "id": "2f90d233-7c0e-439a-b059-cbef3de478d6",
   "metadata": {},
   "outputs": [],
   "source": [
    "# m = models['NoSegment'][0]\n",
    "\n",
    "# imp_df = pd.DataFrame({\n",
    "#     'feature':m.features,\n",
    "#     'imp':m.regressors[0].feature_importances_,\n",
    "# }).sort_values('imp',ascending=False)\n",
    "# imp_df = imp_df[:20]\n",
    "\n",
    "# plt.figure(figsize=(15,7))\n",
    "# sns.barplot(x=imp_df.imp,y=imp_df.feature)\n",
    "# plt.grid()\n",
    "# plt.show()"
   ]
  },
  {
   "cell_type": "code",
   "execution_count": 124,
   "id": "8c1690af-a0cc-4f8a-9da8-b7704e03ae18",
   "metadata": {},
   "outputs": [],
   "source": [
    "# np.array([r.get_best_iteration() for m in _models for r in m.regressors])"
   ]
  },
  {
   "cell_type": "code",
   "execution_count": 125,
   "id": "46636812-46c3-46ae-a787-62529e2e06da",
   "metadata": {},
   "outputs": [
    {
     "data": {
      "text/html": [
       "<div>\n",
       "<style scoped>\n",
       "    .dataframe tbody tr th:only-of-type {\n",
       "        vertical-align: middle;\n",
       "    }\n",
       "\n",
       "    .dataframe tbody tr th {\n",
       "        vertical-align: top;\n",
       "    }\n",
       "\n",
       "    .dataframe thead th {\n",
       "        text-align: right;\n",
       "    }\n",
       "</style>\n",
       "<table border=\"1\" class=\"dataframe\">\n",
       "  <thead>\n",
       "    <tr style=\"text-align: right;\">\n",
       "      <th></th>\n",
       "      <th>segment</th>\n",
       "      <th>k</th>\n",
       "      <th>n_train</th>\n",
       "      <th>n_val</th>\n",
       "      <th>rmse</th>\n",
       "    </tr>\n",
       "  </thead>\n",
       "  <tbody>\n",
       "    <tr>\n",
       "      <th>0</th>\n",
       "      <td>NoSegment</td>\n",
       "      <td>1</td>\n",
       "      <td>4697</td>\n",
       "      <td>1175</td>\n",
       "      <td>112.093364</td>\n",
       "    </tr>\n",
       "    <tr>\n",
       "      <th>1</th>\n",
       "      <td>NoSegment</td>\n",
       "      <td>2</td>\n",
       "      <td>4697</td>\n",
       "      <td>1175</td>\n",
       "      <td>155.149600</td>\n",
       "    </tr>\n",
       "    <tr>\n",
       "      <th>2</th>\n",
       "      <td>NoSegment</td>\n",
       "      <td>3</td>\n",
       "      <td>4698</td>\n",
       "      <td>1174</td>\n",
       "      <td>131.449836</td>\n",
       "    </tr>\n",
       "    <tr>\n",
       "      <th>3</th>\n",
       "      <td>NoSegment</td>\n",
       "      <td>4</td>\n",
       "      <td>4698</td>\n",
       "      <td>1174</td>\n",
       "      <td>127.298006</td>\n",
       "    </tr>\n",
       "    <tr>\n",
       "      <th>4</th>\n",
       "      <td>NoSegment</td>\n",
       "      <td>5</td>\n",
       "      <td>4698</td>\n",
       "      <td>1174</td>\n",
       "      <td>114.435825</td>\n",
       "    </tr>\n",
       "  </tbody>\n",
       "</table>\n",
       "</div>"
      ],
      "text/plain": [
       "     segment  k  n_train  n_val        rmse\n",
       "0  NoSegment  1     4697   1175  112.093364\n",
       "1  NoSegment  2     4697   1175  155.149600\n",
       "2  NoSegment  3     4698   1174  131.449836\n",
       "3  NoSegment  4     4698   1174  127.298006\n",
       "4  NoSegment  5     4698   1174  114.435825"
      ]
     },
     "execution_count": 125,
     "metadata": {},
     "output_type": "execute_result"
    }
   ],
   "source": [
    "score_df = pd.concat([pd.DataFrame(s,columns=['segment','k','n_train','n_val','rmse']) for s in scores],axis=0)\n",
    "score_df"
   ]
  },
  {
   "cell_type": "code",
   "execution_count": 126,
   "id": "45aa49ef-3b2f-4da0-aa7f-23b63ce6930c",
   "metadata": {},
   "outputs": [],
   "source": [
    "def load_model(hyperparameters,path):\n",
    "    ensemble_model = WeightedEnsembleRegressor(\n",
    "        hyperparameters=hyperparameters,\n",
    "        weight='balanced',\n",
    "        inverse_transform=target_transform.inverse_transform,\n",
    "    )\n",
    "    ensemble_model.load_model(path)\n",
    "    return ensemble_model"
   ]
  },
  {
   "cell_type": "code",
   "execution_count": 127,
   "id": "7504b06b-78ce-4568-878b-4895bc0582de",
   "metadata": {},
   "outputs": [],
   "source": [
    "X      = train_fn.drop(target_feature,axis=1)\n",
    "X_test = test_fn.copy()\n",
    "y      = train_fn[target_feature]\n",
    "\n",
    "ohe = OneHotEncoder()\n",
    "ohe.fit(X,cat_features)\n",
    "X_oh      = ohe.transform(X)\n",
    "X_test_oh = ohe.transform(X_test)\n",
    "\n",
    "if segment_feature is not None:\n",
    "    segment_list = X[segment_feature].unique()\n",
    "else:\n",
    "    segment_list = ['NoSegment']"
   ]
  },
  {
   "cell_type": "code",
   "execution_count": 128,
   "id": "19fd5156-a5b6-410b-9fae-21df22f3d611",
   "metadata": {},
   "outputs": [
    {
     "name": "stderr",
     "output_type": "stream",
     "text": [
      "100%|██████████| 1/1 [00:11<00:00, 11.71s/it]\n"
     ]
    }
   ],
   "source": [
    "tr_pred_list = []\n",
    "te_pred_list = []\n",
    "for segment in tqdm(segment_list):\n",
    "    gc_collect_all(verbose=False)\n",
    "    \n",
    "    # segment에 해당하는 데이터추출\n",
    "    if segment!='NoSegment':\n",
    "        _X         = split_segment(X        ,segment_feature,segment)\n",
    "        _X_oh      = split_segment(X_oh     ,segment_feature,segment)\n",
    "        _X_test    = split_segment(X_test   ,segment_feature,segment)\n",
    "        _X_test_oh = split_segment(X_test_oh,segment_feature,segment)\n",
    "        _y         = y[X[segment_feature]==segment]\n",
    "    else:\n",
    "        _X = X.copy()\n",
    "        _X_oh = X_oh.copy()\n",
    "        _X_test = X_test.copy()\n",
    "        _X_test_oh = X_test_oh.copy()\n",
    "        _y = y.copy()\n",
    "    \n",
    "    path = ens_save_path.format(segment,k)\n",
    "    model_list = [load_model(hyperparameters,path.format(segment,k)) for k in range(1,6)]\n",
    "    features = model_list[0].features\n",
    "    oh_features = model_list[0].oh_features\n",
    "    _X = _X[features]\n",
    "    _X_oh = _X_oh[oh_features]\n",
    "    _X_test = _X_test[features]\n",
    "    _X_test_oh = _X_test_oh[oh_features]\n",
    "\n",
    "    tr_pred = np.mean([model.predict(_X,_X_oh) for model in model_list],axis=0)\n",
    "    tr_pred = pd.DataFrame(tr_pred,index=_X.index)\n",
    "    tr_pred_list.append(tr_pred)\n",
    "    \n",
    "    te_pred = np.mean([model.predict(_X_test[_X.columns],_X_test_oh[_X_oh.columns]) for model in model_list],axis=0)\n",
    "    te_pred = pd.DataFrame(te_pred,index=_X_test.index)\n",
    "    te_pred_list.append(te_pred)"
   ]
  },
  {
   "cell_type": "code",
   "execution_count": 129,
   "id": "273036b7-2838-4ad2-8631-83f6c9c4067e",
   "metadata": {},
   "outputs": [],
   "source": [
    "tr_pred_df = pd.concat(tr_pred_list,axis=0).sort_index()\n",
    "te_pred_df = pd.concat(te_pred_list,axis=0).sort_index()"
   ]
  },
  {
   "cell_type": "code",
   "execution_count": 130,
   "id": "1c6e4d99-71bf-43e2-bce5-484a88add268",
   "metadata": {},
   "outputs": [
    {
     "data": {
      "text/plain": [
       "86.09756934372858"
      ]
     },
     "execution_count": 130,
     "metadata": {},
     "output_type": "execute_result"
    }
   ],
   "source": [
    "mean_squared_error(y_pred=tr_pred_df.values.flatten(),y_true=target_transform.inverse_transform(y))**0.5"
   ]
  },
  {
   "cell_type": "code",
   "execution_count": 131,
   "id": "06a64b20-5c1f-4bd9-ad6e-26ec25131ff5",
   "metadata": {},
   "outputs": [],
   "source": [
    "submit = pd.read_csv('./data/sample_submission.csv')\n",
    "submit[CFG.TARGET] = te_pred_df.values"
   ]
  },
  {
   "cell_type": "code",
   "execution_count": 132,
   "id": "a113faff-0815-4604-b621-af530c8236e3",
   "metadata": {},
   "outputs": [
    {
     "data": {
      "text/html": [
       "<div>\n",
       "<style scoped>\n",
       "    .dataframe tbody tr th:only-of-type {\n",
       "        vertical-align: middle;\n",
       "    }\n",
       "\n",
       "    .dataframe tbody tr th {\n",
       "        vertical-align: top;\n",
       "    }\n",
       "\n",
       "    .dataframe thead th {\n",
       "        text-align: right;\n",
       "    }\n",
       "</style>\n",
       "<table border=\"1\" class=\"dataframe\">\n",
       "  <thead>\n",
       "    <tr style=\"text-align: right;\">\n",
       "      <th></th>\n",
       "      <th>ID</th>\n",
       "      <th>수요량</th>\n",
       "    </tr>\n",
       "  </thead>\n",
       "  <tbody>\n",
       "    <tr>\n",
       "      <th>0</th>\n",
       "      <td>TEST_0000</td>\n",
       "      <td>212.800763</td>\n",
       "    </tr>\n",
       "    <tr>\n",
       "      <th>1</th>\n",
       "      <td>TEST_0001</td>\n",
       "      <td>37.089100</td>\n",
       "    </tr>\n",
       "    <tr>\n",
       "      <th>2</th>\n",
       "      <td>TEST_0002</td>\n",
       "      <td>289.578531</td>\n",
       "    </tr>\n",
       "    <tr>\n",
       "      <th>3</th>\n",
       "      <td>TEST_0003</td>\n",
       "      <td>165.971893</td>\n",
       "    </tr>\n",
       "    <tr>\n",
       "      <th>4</th>\n",
       "      <td>TEST_0004</td>\n",
       "      <td>183.462527</td>\n",
       "    </tr>\n",
       "  </tbody>\n",
       "</table>\n",
       "</div>"
      ],
      "text/plain": [
       "          ID         수요량\n",
       "0  TEST_0000  212.800763\n",
       "1  TEST_0001   37.089100\n",
       "2  TEST_0002  289.578531\n",
       "3  TEST_0003  165.971893\n",
       "4  TEST_0004  183.462527"
      ]
     },
     "execution_count": 132,
     "metadata": {},
     "output_type": "execute_result"
    }
   ],
   "source": [
    "submit.head()"
   ]
  },
  {
   "cell_type": "code",
   "execution_count": 133,
   "id": "3a031c70-847f-4664-af44-f8d982b6d859",
   "metadata": {},
   "outputs": [
    {
     "data": {
      "text/plain": [
       "'kf_weiens_lgball_log_NoSegment'"
      ]
     },
     "execution_count": 133,
     "metadata": {},
     "output_type": "execute_result"
    }
   ],
   "source": [
    "save_folder.split('/')[-1]"
   ]
  },
  {
   "cell_type": "code",
   "execution_count": 135,
   "id": "64b11d96-bd51-442b-bef4-2bfd01e59115",
   "metadata": {},
   "outputs": [],
   "source": [
    "# public : 122.6123872446 (log)\n",
    "submit.to_csv('./out/5_kf_weiens_lgball_log_NoSegment.csv',index=False)"
   ]
  },
  {
   "cell_type": "markdown",
   "id": "afc921d7-2e22-47d6-8d52-c0a25b3a719a",
   "metadata": {},
   "source": [
    "<br>"
   ]
  },
  {
   "cell_type": "markdown",
   "id": "ec7c8ddb-4421-4ace-b6e3-4c1f3942a8c1",
   "metadata": {},
   "source": [
    "## Stacking"
   ]
  },
  {
   "cell_type": "code",
   "execution_count": 136,
   "id": "1db3dd05-3178-49c6-a0bb-f75cd02e5922",
   "metadata": {},
   "outputs": [],
   "source": [
    "X      = train_fn.drop(target_feature,axis=1)\n",
    "X_test = test_fn.copy()\n",
    "y      = train_fn[target_feature]\n",
    "\n",
    "ohe = OneHotEncoder()\n",
    "ohe.fit(X,cat_features)\n",
    "X_oh      = ohe.transform(X)\n",
    "X_test_oh = ohe.transform(X_test)\n",
    "\n",
    "if segment_feature is not None:\n",
    "    segment_list = X[segment_feature].unique()\n",
    "else:\n",
    "    segment_list = ['NoSegment']"
   ]
  },
  {
   "cell_type": "code",
   "execution_count": 137,
   "id": "3c40e67f-0262-41a5-a23c-bb1138c853de",
   "metadata": {},
   "outputs": [],
   "source": [
    "stacking_direction = 'mean' # 'all', 'mean'"
   ]
  },
  {
   "cell_type": "code",
   "execution_count": 138,
   "id": "5f5aa814-fc93-4ce3-8a5d-d0a9f8f10461",
   "metadata": {},
   "outputs": [
    {
     "name": "stderr",
     "output_type": "stream",
     "text": [
      "  0%|          | 0/1 [00:00<?, ?it/s]"
     ]
    },
    {
     "name": "stdout",
     "output_type": "stream",
     "text": [
      "--------------------------------------------------------------------------------\n",
      "> [1/1] Segment: NoSegment, Shape: Raw(5872, 120), OneHot(5872, 274)\n",
      "--------------------------------------------------------------------------------\n",
      "> [K-Fold] 1/5\n",
      "[1/8] LightGBM1  : loss=75.678, val_loss=78.215, elasped=10.6s\n",
      "[2/8] LightGBM2  : loss=75.335, val_loss=77.576, elasped=12.0s\n",
      "[3/8] LightGBM3  : loss=76.703, val_loss=77.731, elasped=13.1s\n",
      "[4/8] LightGBM4  : loss=79.870, val_loss=77.384, elasped=11.3s\n",
      "[5/8] LightGBM5  : loss=75.668, val_loss=77.826, elasped=11.1s\n",
      "[6/8] LightGBM6  : loss=76.769, val_loss=77.314, elasped=13.1s\n",
      "[7/8] LightGBM7  : loss=79.684, val_loss=77.293, elasped=12.1s\n",
      "[8/8] LightGBM8  : loss=80.610, val_loss=77.773, elasped=15.5s\n",
      "<Weighted Ensemble(weight='balanced')> loss=77.332, val_loss=77.366, elasped=98.8s\n",
      "> [K-Fold] 2/5\n",
      "[1/8] LightGBM1  : loss=72.457, val_loss=108.382, elasped=16.7s\n",
      "[2/8] LightGBM2  : loss=72.307, val_loss=108.408, elasped=19.6s\n",
      "[3/8] LightGBM3  : loss=73.347, val_loss=111.703, elasped=16.3s\n",
      "[4/8] LightGBM4  : loss=80.275, val_loss=119.331, elasped=15.0s\n",
      "[5/8] LightGBM5  : loss=75.071, val_loss=111.873, elasped=18.1s\n",
      "[6/8] LightGBM6  : loss=74.257, val_loss=111.262, elasped=16.3s\n",
      "[7/8] LightGBM7  : loss=79.997, val_loss=118.876, elasped=14.8s\n",
      "[8/8] LightGBM8  : loss=80.509, val_loss=119.357, elasped=14.6s\n",
      "<Weighted Ensemble(weight='balanced')> loss=75.686, val_loss=113.299, elasped=131.3s\n",
      "> [K-Fold] 3/5\n",
      "[1/8] LightGBM1  : loss=85.102, val_loss=84.999, elasped=13.5s\n",
      "[2/8] LightGBM2  : loss=85.303, val_loss=84.837, elasped=11.5s\n",
      "[3/8] LightGBM3  : loss=87.202, val_loss=86.310, elasped=11.2s\n",
      "[4/8] LightGBM4  : loss=84.521, val_loss=88.658, elasped=14.5s\n",
      "[5/8] LightGBM5  : loss=85.335, val_loss=85.481, elasped=11.9s\n",
      "[6/8] LightGBM6  : loss=83.825, val_loss=85.244, elasped=16.0s\n",
      "[7/8] LightGBM7  : loss=85.408, val_loss=89.063, elasped=13.9s\n",
      "[8/8] LightGBM8  : loss=85.105, val_loss=89.124, elasped=14.4s\n",
      "<Weighted Ensemble(weight='balanced')> loss=85.091, val_loss=86.500, elasped=106.8s\n",
      "> [K-Fold] 4/5\n",
      "[1/8] LightGBM1  : loss=75.060, val_loss=109.010, elasped=12.5s\n",
      "[2/8] LightGBM2  : loss=73.578, val_loss=109.281, elasped=13.5s\n",
      "[3/8] LightGBM3  : loss=74.703, val_loss=110.109, elasped=13.2s\n",
      "[4/8] LightGBM4  : loss=76.555, val_loss=112.524, elasped=16.2s\n",
      "[5/8] LightGBM5  : loss=76.510, val_loss=110.960, elasped=13.1s\n",
      "[6/8] LightGBM6  : loss=76.526, val_loss=111.866, elasped=14.6s\n",
      "[7/8] LightGBM7  : loss=76.462, val_loss=112.168, elasped=19.5s\n",
      "[8/8] LightGBM8  : loss=76.587, val_loss=111.717, elasped=19.3s\n",
      "<Weighted Ensemble(weight='balanced')> loss=75.580, val_loss=110.833, elasped=121.9s\n",
      "> [K-Fold] 5/5\n",
      "[1/8] LightGBM1  : loss=81.176, val_loss=69.367, elasped=15.4s\n",
      "[2/8] LightGBM2  : loss=82.412, val_loss=69.051, elasped=19.4s\n",
      "[3/8] LightGBM3  : loss=86.692, val_loss=67.760, elasped=14.3s\n",
      "[4/8] LightGBM4  : loss=83.450, val_loss=66.891, elasped=25.1s\n",
      "[5/8] LightGBM5  : loss=84.854, val_loss=67.958, elasped=15.3s\n",
      "[6/8] LightGBM6  : loss=87.004, val_loss=67.804, elasped=14.6s\n",
      "[7/8] LightGBM7  : loss=83.523, val_loss=66.923, elasped=19.7s\n",
      "[8/8] LightGBM8  : loss=83.057, val_loss=66.786, elasped=19.7s\n",
      "<Weighted Ensemble(weight='balanced')> loss=83.881, val_loss=67.566, elasped=143.5s\n"
     ]
    },
    {
     "data": {
      "image/png": "[encoded data removed]",
      "text/plain": [
       "<Figure size 1080x504 with 1 Axes>"
      ]
     },
     "metadata": {
      "needs_background": "light"
     },
     "output_type": "display_data"
    },
    {
     "name": "stderr",
     "output_type": "stream",
     "text": [
      "100%|██████████| 1/1 [10:27<00:00, 627.55s/it]"
     ]
    },
    {
     "name": "stdout",
     "output_type": "stream",
     "text": [
      "CPU times: user 35min 10s, sys: 5min 56s, total: 41min 7s\n",
      "Wall time: 10min 27s\n"
     ]
    },
    {
     "name": "stderr",
     "output_type": "stream",
     "text": [
      "\n"
     ]
    }
   ],
   "source": [
    "%%time\n",
    "# 2시간\n",
    "\n",
    "stacking_save_path = save_folder+'/stacking_segment{}_k{}.pickle'\n",
    "\n",
    "stacking_models = {}\n",
    "stacking_feature_info = {}\n",
    "stacking_scores = []\n",
    "\n",
    "s_i = 0\n",
    "for segment in tqdm(segment_list):\n",
    "    s_i+=1\n",
    "    gc_collect_all(verbose=False)\n",
    "    \n",
    "    # segment에 해당하는 데이터추출\n",
    "    if segment!='NoSegment':\n",
    "        _X         = split_segment(X        ,segment_feature,segment)\n",
    "        _X_oh      = split_segment(X_oh     ,segment_feature,segment)\n",
    "        _X_test    = split_segment(X_test   ,segment_feature,segment)\n",
    "        _X_test_oh = split_segment(X_test_oh,segment_feature,segment)\n",
    "        _y         = y[X[segment_feature]==segment]\n",
    "    else:\n",
    "        _X = X.copy()\n",
    "        _X_oh = X_oh.copy()\n",
    "        _X_test = X_test.copy()\n",
    "        _X_test_oh = X_test_oh.copy()\n",
    "        _y = y.copy()\n",
    "    \n",
    "    model_list = [load_model(hyperparameters,ens_save_path.format(segment,k)) for k in range(1,6)]\n",
    "    \n",
    "    features    = model_list[0].features\n",
    "    oh_features = model_list[0].oh_features\n",
    "    _X = _X[features]\n",
    "    _X_oh = _X_oh[oh_features]\n",
    "    _X_test = _X_test[features]\n",
    "    _X_test_oh = _X_test_oh[oh_features]\n",
    "    \n",
    "    tr_pred = pd.DataFrame(index=_X.index)\n",
    "    te_pred = pd.DataFrame(index=_X_test.index)\n",
    "    if stacking_direction=='all':\n",
    "        for i,model in enumerate(model_list,1):\n",
    "            tr_pred[f'pred{i}'] = model.predict(_X,_X_oh)\n",
    "            te_pred[f'pred{i}'] = model.predict(_X_test,_X_test_oh)\n",
    "    elif stacking_direction=='mean':\n",
    "        tr_pred['pred'] = np.mean([model.predict(_X,_X_oh)           for model in model_list],axis=0)\n",
    "        te_pred['pred'] = np.mean([model.predict(_X_test,_X_test_oh) for model in model_list],axis=0)\n",
    "\n",
    "    _X_new         = pd.concat([_X        ,tr_pred],axis=1)\n",
    "    _X_oh_new      = pd.concat([_X_oh     ,tr_pred],axis=1)\n",
    "    _X_test_new    = pd.concat([_X_test   ,te_pred],axis=1)\n",
    "    _X_test_oh_new = pd.concat([_X_test_oh,te_pred],axis=1)\n",
    "    \n",
    "    # categorical feature에서 unique인 컬럼을 제외\n",
    "    fixed_cat_features = [col for col in cat_features if col in _X_new.columns]\n",
    "    \n",
    "    # progress\n",
    "    progress = '> [{}/{}] Segment: {}, Shape: Raw{}, OneHot{}'.format(s_i,len(segment_list),segment,_X.shape,_X_oh.shape)\n",
    "    print('-'*80)\n",
    "    print(progress)\n",
    "    print('-'*80)\n",
    "    \n",
    "    # kfold\n",
    "    kf = KFold(n_splits=CFG.N_SPLITS,random_state=1000*s_i+CFG.SEED,shuffle=True)\n",
    "    \n",
    "    _models = []\n",
    "    _scores = []\n",
    "    k=0\n",
    "    for tr_idx,val_idx in kf.split(_X,_y):\n",
    "        k+=1\n",
    "        print('> [K-Fold] {}/{}'.format(k,CFG.N_SPLITS))\n",
    "        \n",
    "        # kfold dataset\n",
    "        X_tr   , X_va    = _X_new   .iloc[tr_idx], _X_new   .iloc[val_idx]\n",
    "        X_tr_oh, X_va_oh = _X_oh_new.iloc[tr_idx], _X_oh_new.iloc[val_idx]\n",
    "        y_tr   , y_va    = _y       .iloc[tr_idx], _y       .iloc[val_idx]\n",
    "\n",
    "        # define the model\n",
    "        ensemble_model = WeightedEnsembleRegressor(\n",
    "            hyperparameters=hyperparameters,\n",
    "            weight='balanced',\n",
    "            inverse_transform=target_transform.inverse_transform,\n",
    "        )\n",
    "\n",
    "        # fit the model\n",
    "        ensemble_model.fit(\n",
    "            X_tr,y_tr,\n",
    "            eval_set=[(X_va,y_va)],\n",
    "            oh_set=[(X_tr_oh,X_va_oh)],\n",
    "            cat_features=fixed_cat_features,\n",
    "            verbose=0,\n",
    "        )\n",
    "\n",
    "        # save the model\n",
    "        ensemble_model.save_model(stacking_save_path.format(segment,k))\n",
    "\n",
    "        # prediction\n",
    "        y_pred = ensemble_model.predict(X_va,X_va_oh).flatten()\n",
    "        y_true = target_transform.inverse_transform(y_va.values)\n",
    "        \n",
    "        # caculate score\n",
    "        score = mean_absolute_error(y_true=y_true,y_pred=y_pred)\n",
    "        \n",
    "        # append inner loop\n",
    "        _models.append(ensemble_model)\n",
    "        _scores.append([segment,k,len(X_tr),len(X_va),score])\n",
    "    \n",
    "    # append outer loop\n",
    "    stacking_models[segment] = _models\n",
    "    stacking_scores.append(_scores)\n",
    "    stacking_feature_info[segment] = {\n",
    "        'cat_features':fixed_cat_features,\n",
    "        'features':_X_new.columns.tolist(),\n",
    "        'oh_features':_X_oh_new.columns.tolist(),\n",
    "    }\n",
    "\n",
    "    # plotting after kfold\n",
    "    y_pred = np.mean([m.predict(_X_new,_X_oh_new) for m in _models],axis=0)\n",
    "    y_true = _y.values\n",
    "    y_true = target_transform.inverse_transform(y_true).flatten()\n",
    "\n",
    "    score = mean_squared_error(y_true=y_true,y_pred=y_pred)**0.5\n",
    "\n",
    "    plt.figure(figsize=(15,7))\n",
    "    sns.scatterplot(x=y_true,y=y_pred)\n",
    "    abline(0,1)\n",
    "    plt.grid()\n",
    "    plt.title('Segment={}(Raw{}, OneHot{}), Score={:.4f}'.format(segment,_X.shape,_X_oh.shape,score))\n",
    "    plt.tight_layout()\n",
    "    plt.show()"
   ]
  },
  {
   "cell_type": "code",
   "execution_count": 180,
   "id": "8c973d7c-3758-44a2-8e32-30960dee9133",
   "metadata": {},
   "outputs": [],
   "source": [
    "# m = stacking_models['NoSegment'][0]\n",
    "# # m = models['NoSegment'][0]\n",
    "\n",
    "# imp_df = pd.DataFrame({\n",
    "#     'feature':m.features,\n",
    "#     'imp':m.regressors[0].feature_importances_,\n",
    "# }).sort_values('imp',ascending=False)\n",
    "# imp_df = imp_df[:20]\n",
    "\n",
    "# plt.figure(figsize=(15,7))\n",
    "# sns.barplot(x=imp_df.imp,y=imp_df.feature)\n",
    "# plt.grid()\n",
    "# plt.show()"
   ]
  },
  {
   "cell_type": "code",
   "execution_count": 149,
   "id": "59a6ec99-2809-43b4-b9aa-37fd4e994c5d",
   "metadata": {},
   "outputs": [],
   "source": [
    "# np.array([r.get_best_iteration() for m in stacking_models['NoSegment'] for r in m.regressors])"
   ]
  },
  {
   "cell_type": "code",
   "execution_count": 150,
   "id": "2d0183db-2cc4-441f-a3fd-6087c5f1cd42",
   "metadata": {},
   "outputs": [
    {
     "data": {
      "text/html": [
       "<div>\n",
       "<style scoped>\n",
       "    .dataframe tbody tr th:only-of-type {\n",
       "        vertical-align: middle;\n",
       "    }\n",
       "\n",
       "    .dataframe tbody tr th {\n",
       "        vertical-align: top;\n",
       "    }\n",
       "\n",
       "    .dataframe thead th {\n",
       "        text-align: right;\n",
       "    }\n",
       "</style>\n",
       "<table border=\"1\" class=\"dataframe\">\n",
       "  <thead>\n",
       "    <tr style=\"text-align: right;\">\n",
       "      <th></th>\n",
       "      <th>segment</th>\n",
       "      <th>k</th>\n",
       "      <th>n_train</th>\n",
       "      <th>n_val</th>\n",
       "      <th>rmse</th>\n",
       "    </tr>\n",
       "  </thead>\n",
       "  <tbody>\n",
       "    <tr>\n",
       "      <th>1</th>\n",
       "      <td>NoSegment</td>\n",
       "      <td>2</td>\n",
       "      <td>4697</td>\n",
       "      <td>1175</td>\n",
       "      <td>46.225057</td>\n",
       "    </tr>\n",
       "    <tr>\n",
       "      <th>3</th>\n",
       "      <td>NoSegment</td>\n",
       "      <td>4</td>\n",
       "      <td>4698</td>\n",
       "      <td>1174</td>\n",
       "      <td>44.110243</td>\n",
       "    </tr>\n",
       "    <tr>\n",
       "      <th>2</th>\n",
       "      <td>NoSegment</td>\n",
       "      <td>3</td>\n",
       "      <td>4698</td>\n",
       "      <td>1174</td>\n",
       "      <td>41.927435</td>\n",
       "    </tr>\n",
       "    <tr>\n",
       "      <th>0</th>\n",
       "      <td>NoSegment</td>\n",
       "      <td>1</td>\n",
       "      <td>4697</td>\n",
       "      <td>1175</td>\n",
       "      <td>39.834127</td>\n",
       "    </tr>\n",
       "    <tr>\n",
       "      <th>4</th>\n",
       "      <td>NoSegment</td>\n",
       "      <td>5</td>\n",
       "      <td>4698</td>\n",
       "      <td>1174</td>\n",
       "      <td>39.083693</td>\n",
       "    </tr>\n",
       "  </tbody>\n",
       "</table>\n",
       "</div>"
      ],
      "text/plain": [
       "     segment  k  n_train  n_val       rmse\n",
       "1  NoSegment  2     4697   1175  46.225057\n",
       "3  NoSegment  4     4698   1174  44.110243\n",
       "2  NoSegment  3     4698   1174  41.927435\n",
       "0  NoSegment  1     4697   1175  39.834127\n",
       "4  NoSegment  5     4698   1174  39.083693"
      ]
     },
     "execution_count": 150,
     "metadata": {},
     "output_type": "execute_result"
    }
   ],
   "source": [
    "score_df = pd.concat([\n",
    "    pd.DataFrame(s,columns=['segment','k','n_train','n_val','rmse']) for s in stacking_scores\n",
    "],axis=0)\n",
    "score_df.sort_values('rmse',ascending=False).head()"
   ]
  },
  {
   "cell_type": "code",
   "execution_count": 141,
   "id": "b044978b-2c6a-4699-9b3b-7397c12f8e73",
   "metadata": {},
   "outputs": [],
   "source": [
    "X      = train_fn.drop(target_feature,axis=1)\n",
    "X_test = test_fn.copy()\n",
    "y      = train_fn[target_feature]\n",
    "\n",
    "ohe = OneHotEncoder()\n",
    "ohe.fit(X,cat_features)\n",
    "X_oh      = ohe.transform(X)\n",
    "X_test_oh = ohe.transform(X_test)\n",
    "\n",
    "if segment_feature is not None:\n",
    "    segment_list = X[segment_feature].unique()\n",
    "else:\n",
    "    segment_list = ['NoSegment']"
   ]
  },
  {
   "cell_type": "code",
   "execution_count": 142,
   "id": "418ba559-b690-4510-bb07-048521550933",
   "metadata": {},
   "outputs": [
    {
     "name": "stderr",
     "output_type": "stream",
     "text": [
      "100%|██████████| 1/1 [00:19<00:00, 19.75s/it]\n"
     ]
    }
   ],
   "source": [
    "tr_pred_list = []\n",
    "te_pred_list = []\n",
    "for segment in tqdm(segment_list):\n",
    "    gc_collect_all(verbose=False)\n",
    "    \n",
    "    # segment에 해당하는 데이터추출\n",
    "    if segment!='NoSegment':\n",
    "        _X         = split_segment(X        ,segment_feature,segment)\n",
    "        _X_oh      = split_segment(X_oh     ,segment_feature,segment)\n",
    "        _X_test    = split_segment(X_test   ,segment_feature,segment)\n",
    "        _X_test_oh = split_segment(X_test_oh,segment_feature,segment)\n",
    "        _y         = y[X[segment_feature]==segment]\n",
    "    else:\n",
    "        _X = X.copy()\n",
    "        _X_oh = X_oh.copy()\n",
    "        _X_test = X_test.copy()\n",
    "        _X_test_oh = X_test_oh.copy()\n",
    "        _y = y.copy()\n",
    "    \n",
    "    ens_model_list = [load_model(hyperparameters,ens_save_path.format(segment,k)) for k in range(1,6)]\n",
    "    stacking_model_list = [load_model(hyperparameters,stacking_save_path.format(segment,k)) for k in range(1,6)]\n",
    "    \n",
    "    ens_features = ens_model_list[0].features\n",
    "    ens_oh_features = ens_model_list[0].oh_features\n",
    "    if stacking_direction=='all':\n",
    "        for i,model in enumerate(ens_model_list):\n",
    "            # train\n",
    "            tr_pred_ = model.predict(_X[ens_features],_X_oh[ens_oh_features])\n",
    "            _X[f'pred{i+1}']    = tr_pred_\n",
    "            _X_oh[f'pred{i+1}'] = tr_pred_\n",
    "            # test\n",
    "            te_pred_ = model.predict(_X_test[ens_features],_X_test_oh[ens_oh_features])\n",
    "            _X_test[f'pred{i+1}']    = te_pred_\n",
    "            _X_test_oh[f'pred{i+1}'] = te_pred_\n",
    "    elif stacking_direction=='mean':\n",
    "        # train\n",
    "        tr_pred_ = np.mean([model.predict(_X[ens_features],_X_oh[ens_oh_features]) for model in ens_model_list],axis=0)\n",
    "        _X['pred'] = tr_pred_\n",
    "        _X_oh['pred'] = tr_pred_\n",
    "        # test\n",
    "        te_pred_ = np.mean([model.predict(_X_test[ens_features],_X_test_oh[ens_oh_features]) for model in ens_model_list],axis=0)\n",
    "        _X_test['pred'] = te_pred_\n",
    "        _X_test_oh['pred'] = te_pred_\n",
    "    \n",
    "    stacking_features = stacking_model_list[0].features\n",
    "    stacking_oh_features = stacking_model_list[0].oh_features\n",
    "    \n",
    "    _X = _X[stacking_features]\n",
    "    _X_oh = _X_oh[stacking_oh_features]\n",
    "    _X_test = _X_test[stacking_features]\n",
    "    _X_test_oh = _X_test_oh[stacking_oh_features]\n",
    "\n",
    "    tr_pred = np.mean([model.predict(_X,_X_oh) for model in stacking_model_list],axis=0)\n",
    "    tr_pred = pd.DataFrame(tr_pred,index=_X.index)\n",
    "    tr_pred_list.append(tr_pred)\n",
    "    \n",
    "    te_pred = np.mean([model.predict(_X_test[_X.columns],_X_test_oh[_X_oh.columns]) for model in stacking_model_list],axis=0)\n",
    "    te_pred = pd.DataFrame(te_pred,index=_X_test.index)\n",
    "    te_pred_list.append(te_pred)"
   ]
  },
  {
   "cell_type": "code",
   "execution_count": 143,
   "id": "b504572d-c56a-44e7-bf30-a59b72d847f4",
   "metadata": {},
   "outputs": [],
   "source": [
    "tr_pred_df = pd.concat(tr_pred_list,axis=0).sort_index()\n",
    "te_pred_df = pd.concat(te_pred_list,axis=0).sort_index()"
   ]
  },
  {
   "cell_type": "code",
   "execution_count": 144,
   "id": "0560d60a-d362-4443-bedd-ed61172dc613",
   "metadata": {},
   "outputs": [
    {
     "data": {
      "text/plain": [
       "81.30510838522429"
      ]
     },
     "execution_count": 144,
     "metadata": {},
     "output_type": "execute_result"
    }
   ],
   "source": [
    "mean_squared_error(y_pred=tr_pred_df.values.flatten(),y_true=target_transform.inverse_transform(y))**0.5"
   ]
  },
  {
   "cell_type": "code",
   "execution_count": 145,
   "id": "326c1594-938f-46f6-94b9-7eee4adaeaca",
   "metadata": {},
   "outputs": [],
   "source": [
    "submit = pd.read_csv('./data/sample_submission.csv')\n",
    "submit[CFG.TARGET] = te_pred_df.values"
   ]
  },
  {
   "cell_type": "code",
   "execution_count": 146,
   "id": "6d5f4b7b-aa83-48a5-929e-c6ed16496b35",
   "metadata": {},
   "outputs": [
    {
     "data": {
      "text/html": [
       "<div>\n",
       "<style scoped>\n",
       "    .dataframe tbody tr th:only-of-type {\n",
       "        vertical-align: middle;\n",
       "    }\n",
       "\n",
       "    .dataframe tbody tr th {\n",
       "        vertical-align: top;\n",
       "    }\n",
       "\n",
       "    .dataframe thead th {\n",
       "        text-align: right;\n",
       "    }\n",
       "</style>\n",
       "<table border=\"1\" class=\"dataframe\">\n",
       "  <thead>\n",
       "    <tr style=\"text-align: right;\">\n",
       "      <th></th>\n",
       "      <th>ID</th>\n",
       "      <th>수요량</th>\n",
       "    </tr>\n",
       "  </thead>\n",
       "  <tbody>\n",
       "    <tr>\n",
       "      <th>0</th>\n",
       "      <td>TEST_0000</td>\n",
       "      <td>222.713205</td>\n",
       "    </tr>\n",
       "    <tr>\n",
       "      <th>1</th>\n",
       "      <td>TEST_0001</td>\n",
       "      <td>45.438341</td>\n",
       "    </tr>\n",
       "    <tr>\n",
       "      <th>2</th>\n",
       "      <td>TEST_0002</td>\n",
       "      <td>294.970494</td>\n",
       "    </tr>\n",
       "    <tr>\n",
       "      <th>3</th>\n",
       "      <td>TEST_0003</td>\n",
       "      <td>123.215275</td>\n",
       "    </tr>\n",
       "    <tr>\n",
       "      <th>4</th>\n",
       "      <td>TEST_0004</td>\n",
       "      <td>194.784331</td>\n",
       "    </tr>\n",
       "  </tbody>\n",
       "</table>\n",
       "</div>"
      ],
      "text/plain": [
       "          ID         수요량\n",
       "0  TEST_0000  222.713205\n",
       "1  TEST_0001   45.438341\n",
       "2  TEST_0002  294.970494\n",
       "3  TEST_0003  123.215275\n",
       "4  TEST_0004  194.784331"
      ]
     },
     "execution_count": 146,
     "metadata": {},
     "output_type": "execute_result"
    }
   ],
   "source": [
    "submit.head()"
   ]
  },
  {
   "cell_type": "code",
   "execution_count": 147,
   "id": "cc6cc894-65d9-46f0-9172-9f8d8b90292a",
   "metadata": {},
   "outputs": [
    {
     "data": {
      "text/plain": [
       "'./mc/kf_weiens_lgball_log_NoSegment'"
      ]
     },
     "execution_count": 147,
     "metadata": {},
     "output_type": "execute_result"
    }
   ],
   "source": [
    "save_folder"
   ]
  },
  {
   "cell_type": "code",
   "execution_count": 148,
   "id": "2e84c444-df56-49b3-a89f-ea84ff48a067",
   "metadata": {},
   "outputs": [],
   "source": [
    "# public : 114.4367957456 (log)\n",
    "submit.to_csv('./out/6_stacking_kf_weiens_lgball_log_NoSegment.csv',index=False)"
   ]
  },
  {
   "cell_type": "markdown",
   "id": "c6654e8f-18d8-425d-898a-ff5fb657e2d6",
   "metadata": {},
   "source": [
    "<br>"
   ]
  },
  {
   "cell_type": "code",
   "execution_count": 181,
   "id": "869f8e94-c44b-444b-acd6-4cf5de287aa5",
   "metadata": {},
   "outputs": [],
   "source": [
    "import pandas as pd\n",
    "\n",
    "a = pd.read_csv('./out/2_stacking_kf_weiens_catall_log_NoSegment.csv')\n",
    "b = pd.read_csv('./out/6_stacking_kf_weiens_lgball_log_NoSegment.csv')\n",
    "c = pd.read_csv('./out/8_stacking_kf_weiens_lgball_identity_NoSegment.csv')\n",
    "\n",
    "submit = pd.read_csv('./data/sample_submission.csv')\n",
    "submit[CFG.TARGET] = (a[CFG.TARGET]+b[CFG.TARGET]+c[CFG.TARGET])/3\n",
    "\n",
    "# public : mean -  (log)\n",
    "submit.to_csv('./out/9_wei_mean(stackings).csv',index=False)"
   ]
  },
  {
   "cell_type": "code",
   "execution_count": 187,
   "id": "5203cbd4-52b2-43de-8728-e554955e6389",
   "metadata": {},
   "outputs": [],
   "source": [
    "import glob\n",
    "\n",
    "submit = pd.read_csv('./data/sample_submission.csv')\n",
    "paths = glob.glob('./out/*.csv')\n",
    "submit[CFG.TARGET] = np.mean([pd.read_csv(path)[CFG.TARGET].values for path in paths],axis=0)\n",
    "submit.to_csv('./out/10_wei_mean(all).csv',index=False)"
   ]
  }
 ],
 "metadata": {
  "kernelspec": {
   "display_name": "Python 3",
   "language": "python",
   "name": "python3"
  },
  "language_info": {
   "codemirror_mode": {
    "name": "ipython",
    "version": 3
   },
   "file_extension": ".py",
   "mimetype": "text/x-python",
   "name": "python",
   "nbconvert_exporter": "python",
   "pygments_lexer": "ipython3",
   "version": "3.8.10"
  },
  "toc-autonumbering": true
 },
 "nbformat": 4,
 "nbformat_minor": 5
}
