{
 "cells": [
  {
   "cell_type": "code",
   "execution_count": 58,
   "id": "420d1edb-d0ae-4b5e-bf67-316dbce8d226",
   "metadata": {},
   "outputs": [],
   "source": [
    "# conda env list\n",
    "# conda activate torch_env\n",
    "\n",
    "import pandas as pd\n",
    "import numpy as np\n",
    "from datatable import dt, f, ifelse, update"
   ]
  },
  {
   "cell_type": "code",
   "execution_count": 2,
   "id": "a9a35cd3-b072-4ca3-b700-d16b3f6a3e83",
   "metadata": {},
   "outputs": [
    {
     "name": "stdout",
     "output_type": "stream",
     "text": [
      "CPU times: user 44.4 s, sys: 7.11 s, total: 51.6 s\n",
      "Wall time: 25.1 s\n"
     ]
    }
   ],
   "source": [
    "%%time\n",
    "train_dt = datatable.fread('data/train.csv') #30s"
   ]
  },
  {
   "cell_type": "code",
   "execution_count": 67,
   "id": "85968100-c9ba-4063-9976-f9010e4a813f",
   "metadata": {},
   "outputs": [],
   "source": [
    "def count_nulls(DT):\n",
    "    null_counts = []\n",
    "    for col in DT.names:\n",
    "        null_count = DT[col].countna().to_list()[0][0]\n",
    "        null_counts.append([col,null_count])\n",
    "    null_counts = pd.DataFrame(null_counts, columns=['column','n_na'])\n",
    "    null_counts['p_na'] = null_counts['n_na'] / DT.nrows\n",
    "    return null_counts"
   ]
  },
  {
   "cell_type": "code",
   "execution_count": 81,
   "id": "94415250-d04e-4fc7-97bd-4dca8c49e723",
   "metadata": {},
   "outputs": [],
   "source": [
    "def remove_cols(DT, *rmcols):\n",
    "    return DT[:, f[:].remove([f[col] for col in rmcols])]"
   ]
  },
  {
   "cell_type": "code",
   "execution_count": 69,
   "id": "b0f3f76b-a3e2-4b3d-a24b-b6609d9dd4f1",
   "metadata": {},
   "outputs": [
    {
     "data": {
      "text/html": [
       "<div>\n",
       "<style scoped>\n",
       "    .dataframe tbody tr th:only-of-type {\n",
       "        vertical-align: middle;\n",
       "    }\n",
       "\n",
       "    .dataframe tbody tr th {\n",
       "        vertical-align: top;\n",
       "    }\n",
       "\n",
       "    .dataframe thead th {\n",
       "        text-align: right;\n",
       "    }\n",
       "</style>\n",
       "<table border=\"1\" class=\"dataframe\">\n",
       "  <thead>\n",
       "    <tr style=\"text-align: right;\">\n",
       "      <th></th>\n",
       "      <th>column</th>\n",
       "      <th>n_na</th>\n",
       "      <th>p_na</th>\n",
       "    </tr>\n",
       "  </thead>\n",
       "  <tbody>\n",
       "  </tbody>\n",
       "</table>\n",
       "</div>"
      ],
      "text/plain": [
       "Empty DataFrame\n",
       "Columns: [column, n_na, p_na]\n",
       "Index: []"
      ]
     },
     "execution_count": 69,
     "metadata": {},
     "output_type": "execute_result"
    }
   ],
   "source": [
    "null_counts = count_nulls(train_dt)\n",
    "null_counts[null_counts.n_na!=0]"
   ]
  },
  {
   "cell_type": "code",
   "execution_count": null,
   "id": "916f86aa-99ea-410f-be06-a9870d28534e",
   "metadata": {},
   "outputs": [],
   "source": [
    "train_dt[:,update(**{key: ifelse(f[key]==None, 0, f[key]) for key in train_dt.names})]"
   ]
  },
  {
   "cell_type": "code",
   "execution_count": 65,
   "id": "a52b6e07-9254-40c5-840b-9606a3d5e5aa",
   "metadata": {},
   "outputs": [
    {
     "data": {
      "text/html": [
       "<div>\n",
       "<style scoped>\n",
       "    .dataframe tbody tr th:only-of-type {\n",
       "        vertical-align: middle;\n",
       "    }\n",
       "\n",
       "    .dataframe tbody tr th {\n",
       "        vertical-align: top;\n",
       "    }\n",
       "\n",
       "    .dataframe thead th {\n",
       "        text-align: right;\n",
       "    }\n",
       "</style>\n",
       "<table border=\"1\" class=\"dataframe\">\n",
       "  <thead>\n",
       "    <tr style=\"text-align: right;\">\n",
       "      <th></th>\n",
       "      <th>column</th>\n",
       "      <th>n_na</th>\n",
       "      <th>p_na</th>\n",
       "    </tr>\n",
       "  </thead>\n",
       "  <tbody>\n",
       "  </tbody>\n",
       "</table>\n",
       "</div>"
      ],
      "text/plain": [
       "Empty DataFrame\n",
       "Columns: [column, n_na, p_na]\n",
       "Index: []"
      ]
     },
     "execution_count": 65,
     "metadata": {},
     "output_type": "execute_result"
    }
   ],
   "source": [
    "null_counts = count_nulls(train_dt)\n",
    "null_counts[null_counts.n_na!=0]"
   ]
  },
  {
   "cell_type": "code",
   "execution_count": 82,
   "id": "7c2f441a-78e0-45f8-b154-16b242f2c409",
   "metadata": {},
   "outputs": [
    {
     "name": "stdout",
     "output_type": "stream",
     "text": [
      "CPU times: user 155 µs, sys: 851 µs, total: 1.01 ms\n",
      "Wall time: 1.84 ms\n"
     ]
    },
    {
     "data": {
      "text/html": [
       "<div class='datatable'>\n",
       "  <table class='frame'>\n",
       "  <thead>\n",
       "    <tr class='colnames'><td class='row_index'></td><th>Click</th><th>F01</th><th>F02</th><th>F03</th><th>F04</th><th>F05</th><th>F06</th><th>F07</th><th>F08</th><th>F09</th><th class='vellipsis'>&hellip;</th><th>F35</th><th>F36</th><th>F37</th><th>F38</th><th>F39</th></tr>\n",
       "    <tr class='coltypes'><td class='row_index'></td><td class='int' title='int32'>&#x25AA;&#x25AA;&#x25AA;&#x25AA;</td><td class='str' title='str32'>&#x25AA;&#x25AA;&#x25AA;&#x25AA;</td><td class='str' title='str32'>&#x25AA;&#x25AA;&#x25AA;&#x25AA;</td><td class='str' title='str32'>&#x25AA;&#x25AA;&#x25AA;&#x25AA;</td><td class='float' title='float64'>&#x25AA;&#x25AA;&#x25AA;&#x25AA;&#x25AA;&#x25AA;&#x25AA;&#x25AA;</td><td class='str' title='str32'>&#x25AA;&#x25AA;&#x25AA;&#x25AA;</td><td class='int' title='int32'>&#x25AA;&#x25AA;&#x25AA;&#x25AA;</td><td class='str' title='str32'>&#x25AA;&#x25AA;&#x25AA;&#x25AA;</td><td class='str' title='str32'>&#x25AA;&#x25AA;&#x25AA;&#x25AA;</td><td class='str' title='str32'>&#x25AA;&#x25AA;&#x25AA;&#x25AA;</td><td></td><td class='str' title='str32'>&#x25AA;&#x25AA;&#x25AA;&#x25AA;</td><td class='float' title='float64'>&#x25AA;&#x25AA;&#x25AA;&#x25AA;&#x25AA;&#x25AA;&#x25AA;&#x25AA;</td><td class='str' title='str32'>&#x25AA;&#x25AA;&#x25AA;&#x25AA;</td><td class='float' title='float64'>&#x25AA;&#x25AA;&#x25AA;&#x25AA;&#x25AA;&#x25AA;&#x25AA;&#x25AA;</td><td class='str' title='str32'>&#x25AA;&#x25AA;&#x25AA;&#x25AA;</td></tr>\n",
       "  </thead>\n",
       "  <tbody>\n",
       "    <tr><td class='row_index'>0</td><td>1</td><td>NSLHFNS</td><td>AVKQTCL</td><td>DTZFPRW</td><td>114</td><td>ISVXFVA</td><td>1</td><td>PQZBVMG</td><td>LPYPUNA</td><td>IZYJZDA</td><td class=vellipsis>&hellip;</td><td>IRUDRFB</td><td>0</td><td>TFJMLCZ</td><td>0</td><td>AURZYDY</td></tr>\n",
       "    <tr><td class='row_index'>1</td><td>0</td><td>VGIVWZQ</td><td>LSUSMVO</td><td>PQGWFJZ</td><td>26</td><td>NFRVLWS</td><td>43</td><td>IMPIGJT</td><td>MIGYEEG</td><td>NGODWIN</td><td class=vellipsis>&hellip;</td><td>IRUDRFB</td><td>19</td><td>AUGTURV</td><td>0</td><td>LUZRMLU</td></tr>\n",
       "    <tr><td class='row_index'>2</td><td>0</td><td>JCDXFYU</td><td>PILDDJU</td><td>IAGJDOH</td><td>119</td><td>LFPUEOV</td><td>0</td><td>FFUTIRZ</td><td>OFKQGTY</td><td>BEZTQIO</td><td class=vellipsis>&hellip;</td><td>IRUDRFB</td><td>8</td><td>ZVSTLNM</td><td>0</td><td>MHBRSQK</td></tr>\n",
       "    <tr><td class='row_index'>3</td><td>1</td><td>PSMFWTP</td><td>ZYAVJHP</td><td></td><td>15</td><td>ATQPZSJ</td><td>26</td><td>ZDTZNSB</td><td>THBWWCD</td><td>LTETYBG</td><td class=vellipsis>&hellip;</td><td>IRUDRFB</td><td>14</td><td>ZBSRLCQ</td><td>0</td><td>GAZBSSZ</td></tr>\n",
       "    <tr><td class='row_index'>4</td><td>0</td><td>SLCRICD</td><td>QPQWGXA</td><td></td><td>13</td><td>CHZGJZR</td><td>20</td><td>PQZBVMG</td><td>MIGYEEG</td><td>LJBQPJW</td><td class=vellipsis>&hellip;</td><td>IRUDRFB</td><td>13</td><td>QHYLSBX</td><td>0</td><td>QTATWAY</td></tr>\n",
       "    <tr><td class='row_index'>5</td><td>0</td><td>ZRTPTHN</td><td>WOAIOXV</td><td></td><td>10</td><td>KGRHDVF</td><td>771</td><td>PQZBVMG</td><td>FTPHMPQ</td><td>FSSMLSS</td><td class=vellipsis>&hellip;</td><td>MNBSNJV</td><td>2</td><td>PJKCVNE</td><td>0</td><td>JGNZTTM</td></tr>\n",
       "    <tr><td class='row_index'>6</td><td>1</td><td>JCDXFYU</td><td>PILDDJU</td><td>IAGJDOH</td><td>0</td><td>LFPUEOV</td><td>2</td><td>DYFKVIS</td><td>OFKQGTY</td><td>EQAQGGV</td><td class=vellipsis>&hellip;</td><td>IRUDRFB</td><td>0</td><td>UPVVRGF</td><td>0</td><td>KHPZSFA</td></tr>\n",
       "    <tr><td class='row_index'>7</td><td>0</td><td>KTNHUXF</td><td>YSUQLFP</td><td></td><td>0</td><td>FNSJIGF</td><td>3</td><td>PQZBVMG</td><td>SODVHOK</td><td>ODMOEKD</td><td class=vellipsis>&hellip;</td><td>IRUDRFB</td><td>0</td><td>JVISOPG</td><td>0</td><td>GWGUHEN</td></tr>\n",
       "    <tr><td class='row_index'>8</td><td>0</td><td>AOKIKZU</td><td>PKLWPDW</td><td></td><td>2</td><td>VRSGSGN</td><td>3</td><td>QIUHXRO</td><td>SODVHOK</td><td>GFDYQPF</td><td class=vellipsis>&hellip;</td><td>IRUDRFB</td><td>2</td><td>ZBSRLCQ</td><td>0</td><td>QDLHSFT</td></tr>\n",
       "    <tr><td class='row_index'>9</td><td>0</td><td>JCDXFYU</td><td>PILDDJU</td><td>IAGJDOH</td><td>15</td><td>LFPUEOV</td><td>88</td><td>ZYLGCIS</td><td>FTPHMPQ</td><td>OBHSTVT</td><td class=vellipsis>&hellip;</td><td>IRUDRFB</td><td>11</td><td>XBKBHCW</td><td>0</td><td>HNOYSEU</td></tr>\n",
       "    <tr><td class='row_index'>10</td><td>0</td><td>JCDXFYU</td><td>PILDDJU</td><td>IAGJDOH</td><td>17</td><td>LFPUEOV</td><td>508</td><td>MXFHNPG</td><td>VAWXMCR</td><td>OBHSTVT</td><td class=vellipsis>&hellip;</td><td>IRUDRFB</td><td>7</td><td>XBKBHCW</td><td>0</td><td>GUYANUJ</td></tr>\n",
       "    <tr><td class='row_index'>11</td><td>0</td><td>JCDXFYU</td><td>PILDDJU</td><td>IAGJDOH</td><td>21</td><td>LFPUEOV</td><td>18</td><td>YVMALPO</td><td>FTPHMPQ</td><td>BEZTQIO</td><td class=vellipsis>&hellip;</td><td>IRUDRFB</td><td>6</td><td>ZVSTLNM</td><td>0</td><td>GVRZOHG</td></tr>\n",
       "    <tr><td class='row_index'>12</td><td>0</td><td>AYOHVWJ</td><td>SUAAPZS</td><td></td><td>4</td><td>VDNCOJJ</td><td>1</td><td>PQZBVMG</td><td>FTPHMPQ</td><td>DFWNRAK</td><td class=vellipsis>&hellip;</td><td>IRUDRFB</td><td>4</td><td>FFLDJYL</td><td>0</td><td>WLRVUOX</td></tr>\n",
       "    <tr><td class='row_index'>13</td><td>0</td><td>XXUDMXE</td><td>KXGBYWY</td><td></td><td>0</td><td>SHKYQID</td><td>&minus;1</td><td>VOITVDG</td><td>LPYPUNA</td><td>YNTSRMQ</td><td class=vellipsis>&hellip;</td><td>IRUDRFB</td><td>0</td><td>HBCEMEY</td><td>0</td><td>NUMEZEI</td></tr>\n",
       "    <tr><td class='row_index'>14</td><td>0</td><td></td><td></td><td>UKXCUGQ</td><td>12</td><td></td><td>38</td><td>PQZBVMG</td><td>SODVHOK</td><td>STAQZIF</td><td class=vellipsis>&hellip;</td><td>IRUDRFB</td><td>6</td><td>TFJMLCZ</td><td>0</td><td>RZSBSUT</td></tr>\n",
       "    <tr><td class='row_index'>&#x22EE;</td><td class='hellipsis'>&#x22EE;</td><td class='hellipsis'>&#x22EE;</td><td class='hellipsis'>&#x22EE;</td><td class='hellipsis'>&#x22EE;</td><td class='hellipsis'>&#x22EE;</td><td class='hellipsis'>&#x22EE;</td><td class='hellipsis'>&#x22EE;</td><td class='hellipsis'>&#x22EE;</td><td class='hellipsis'>&#x22EE;</td><td class='hellipsis'>&#x22EE;</td><td class='hellipsis'>&#x22F1;</td><td class='hellipsis'>&#x22EE;</td><td class='hellipsis'>&#x22EE;</td><td class='hellipsis'>&#x22EE;</td><td class='hellipsis'>&#x22EE;</td><td class='hellipsis'>&#x22EE;</td></tr>\n",
       "    <tr><td class='row_index'>28,605,386</td><td>0</td><td>NLVEHEJ</td><td>TQLUNHQ</td><td>DTZFPRW</td><td>7</td><td>TSAHWRE</td><td>1</td><td>RLRNZDM</td><td>SODVHOK</td><td>IZYJZDA</td><td class=vellipsis>&hellip;</td><td>IRUDRFB</td><td>6</td><td>TFJMLCZ</td><td>0</td><td>ZBOTIHF</td></tr>\n",
       "    <tr><td class='row_index'>28,605,387</td><td>0</td><td>GGCUFPH</td><td>JLGELTR</td><td>IAGJDOH</td><td>0</td><td>MZOKJAS</td><td>26</td><td>GIHHVOP</td><td>IGQGIJM</td><td>KLFHAUF</td><td class=vellipsis>&hellip;</td><td>IRUDRFB</td><td>0</td><td>BBDNLVH</td><td>0</td><td>LXTGFRC</td></tr>\n",
       "    <tr><td class='row_index'>28,605,388</td><td>0</td><td>SNXDPNU</td><td>VTPZTHN</td><td>KFOPSGX</td><td>92</td><td>ZTAHYDS</td><td>3</td><td>JXOLWIU</td><td>CZDUWVM</td><td>QBSGNGN</td><td class=vellipsis>&hellip;</td><td>IRUDRFB</td><td>20</td><td>OOQBJMI</td><td>0</td><td>XIWMBGB</td></tr>\n",
       "    <tr><td class='row_index'>28,605,389</td><td>1</td><td>RTCZYBD</td><td>FHCKUNS</td><td>HUUWYSX</td><td>91</td><td>EBCXZZE</td><td>0</td><td>UZJFCLM</td><td>FTPHMPQ</td><td>GJISCZS</td><td class=vellipsis>&hellip;</td><td>IRUDRFB</td><td>6</td><td>KTCQCEU</td><td>0</td><td>OYLBHKU</td></tr>\n",
       "    <tr><td class='row_index'>28,605,390</td><td>1</td><td></td><td></td><td>IAGJDOH</td><td>0</td><td></td><td>&minus;1</td><td>PQZBVMG</td><td>FTPHMPQ</td><td>NXMSJMX</td><td class=vellipsis>&hellip;</td><td>MNBSNJV</td><td>0</td><td>HDRJSGN</td><td>0</td><td>JJZPKGE</td></tr>\n",
       "  </tbody>\n",
       "  </table>\n",
       "  <div class='footer'>\n",
       "    <div class='frame_dimensions'>28,605,391 rows &times; 40 columns</div>\n",
       "  </div>\n",
       "</div>\n"
      ],
      "text/plain": [
       "<Frame#1357834e0 28605391x40>"
      ]
     },
     "execution_count": 82,
     "metadata": {},
     "output_type": "execute_result"
    }
   ],
   "source": [
    "%%time\n",
    "remove_cols(train_dt, 'ID')"
   ]
  }
 ],
 "metadata": {
  "kernelspec": {
   "display_name": "torch_env_3.10.13",
   "language": "python",
   "name": "torch_env"
  },
  "language_info": {
   "codemirror_mode": {
    "name": "ipython",
    "version": 3
   },
   "file_extension": ".py",
   "mimetype": "text/x-python",
   "name": "python",
   "nbconvert_exporter": "python",
   "pygments_lexer": "ipython3",
   "version": "3.10.13"
  }
 },
 "nbformat": 4,
 "nbformat_minor": 5
}
