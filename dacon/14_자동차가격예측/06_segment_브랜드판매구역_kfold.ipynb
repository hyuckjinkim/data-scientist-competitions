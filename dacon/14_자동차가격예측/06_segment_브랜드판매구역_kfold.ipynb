{
 "cells": [
  {
   "cell_type": "markdown",
   "id": "6b987cd1-0680-4fb8-a482-f5567577e80f",
   "metadata": {},
   "source": [
    "# Library Setting"
   ]
  },
  {
   "cell_type": "code",
   "execution_count": 1,
   "id": "0eeab870-95ed-41a6-b815-1bdf2dee38fb",
   "metadata": {
    "tags": []
   },
   "outputs": [
    {
     "data": {
      "text/plain": [
       "0"
      ]
     },
     "execution_count": 1,
     "metadata": {},
     "output_type": "execute_result"
    }
   ],
   "source": [
    "from tqdm import tqdm\n",
    "tqdm.pandas()\n",
    "\n",
    "import numpy as np\n",
    "import pandas as pd\n",
    "pd.set_option('display.max_rows', None)\n",
    "pd.set_option('display.max_columns', None)\n",
    "\n",
    "import seaborn as sns\n",
    "import matplotlib.pyplot as plt\n",
    "from matplotlib import rc\n",
    "rc('font', family='AppleGothic')\n",
    "plt.rcParams['axes.unicode_minus'] = False\n",
    "\n",
    "import gc\n",
    "gc.collect()"
   ]
  },
  {
   "cell_type": "markdown",
   "id": "a15b6f33-3b7d-401a-a710-ea0f089f95a7",
   "metadata": {},
   "source": [
    "<br></br>"
   ]
  },
  {
   "cell_type": "markdown",
   "id": "b1b54b8f-874d-49c7-95db-a535b984b01d",
   "metadata": {},
   "source": [
    "# Configuration"
   ]
  },
  {
   "cell_type": "code",
   "execution_count": 2,
   "id": "cbe03a3b-5d80-448f-ad15-50e77c5128ee",
   "metadata": {},
   "outputs": [],
   "source": [
    "class CFG:\n",
    "    SEED = 0\n",
    "    \n",
    "    SUBSET_DEPTH = 3\n",
    "    INTERACTION = False\n",
    "    FS_ALPHA = 0.01\n",
    "    \n",
    "    N_SPLITS = 5\n",
    "    TARGET_TRANSFORMATION = True\n",
    "    \n",
    "    LR = 0.03\n",
    "    EPOCHS = 30000\n",
    "    ES = 300\n",
    "    XGB_LR = 0.3     # default\n",
    "    XGB_EPOCHS = 1000 # default\n",
    "    XGB_ES = 10"
   ]
  },
  {
   "cell_type": "markdown",
   "id": "756f2cfe-7bf1-4cc3-b7e3-90b0886eab54",
   "metadata": {},
   "source": [
    "<br></br>"
   ]
  },
  {
   "cell_type": "markdown",
   "id": "3afbf58b-29ed-4ab7-9a2c-f51c6b08c00a",
   "metadata": {},
   "source": [
    "# Data"
   ]
  },
  {
   "cell_type": "markdown",
   "id": "09d8ae59-c4c3-47f8-854a-6cfc780a2adc",
   "metadata": {},
   "source": [
    "## Data Load"
   ]
  },
  {
   "cell_type": "code",
   "execution_count": 13,
   "id": "3a824834-ad27-424a-8f55-7c4ca73eaab7",
   "metadata": {},
   "outputs": [],
   "source": [
    "train_df = pd.read_csv('./data/train.csv')\n",
    "test_df  = pd.read_csv('./data/test.csv')"
   ]
  },
  {
   "cell_type": "code",
   "execution_count": 14,
   "id": "da88a595-b068-4b4b-97a9-4e6bcf863305",
   "metadata": {},
   "outputs": [
    {
     "data": {
      "text/plain": [
       "((57920, 15), (14480, 14))"
      ]
     },
     "execution_count": 14,
     "metadata": {},
     "output_type": "execute_result"
    }
   ],
   "source": [
    "train_df.shape, test_df.shape"
   ]
  },
  {
   "cell_type": "code",
   "execution_count": 15,
   "id": "50d6f038-af80-42c0-a33e-e62dcd8bdfc3",
   "metadata": {},
   "outputs": [
    {
     "data": {
      "text/html": [
       "<div>\n",
       "<style scoped>\n",
       "    .dataframe tbody tr th:only-of-type {\n",
       "        vertical-align: middle;\n",
       "    }\n",
       "\n",
       "    .dataframe tbody tr th {\n",
       "        vertical-align: top;\n",
       "    }\n",
       "\n",
       "    .dataframe thead th {\n",
       "        text-align: right;\n",
       "    }\n",
       "</style>\n",
       "<table border=\"1\" class=\"dataframe\">\n",
       "  <thead>\n",
       "    <tr style=\"text-align: right;\">\n",
       "      <th></th>\n",
       "      <th>ID</th>\n",
       "      <th>생산년도</th>\n",
       "      <th>모델출시년도</th>\n",
       "      <th>브랜드</th>\n",
       "      <th>차량모델명</th>\n",
       "      <th>판매도시</th>\n",
       "      <th>판매구역</th>\n",
       "      <th>주행거리</th>\n",
       "      <th>배기량</th>\n",
       "      <th>압축천연가스(CNG)</th>\n",
       "      <th>경유</th>\n",
       "      <th>가솔린</th>\n",
       "      <th>하이브리드</th>\n",
       "      <th>액화석유가스(LPG)</th>\n",
       "      <th>가격</th>\n",
       "    </tr>\n",
       "  </thead>\n",
       "  <tbody>\n",
       "    <tr>\n",
       "      <th>0</th>\n",
       "      <td>TRAIN_00000</td>\n",
       "      <td>2018</td>\n",
       "      <td>2014</td>\n",
       "      <td>skoda</td>\n",
       "      <td>fabia</td>\n",
       "      <td>KAT</td>\n",
       "      <td>SLA</td>\n",
       "      <td>85231</td>\n",
       "      <td>999</td>\n",
       "      <td>0</td>\n",
       "      <td>0</td>\n",
       "      <td>1</td>\n",
       "      <td>0</td>\n",
       "      <td>0</td>\n",
       "      <td>51.74</td>\n",
       "    </tr>\n",
       "    <tr>\n",
       "      <th>1</th>\n",
       "      <td>TRAIN_00001</td>\n",
       "      <td>2010</td>\n",
       "      <td>2006</td>\n",
       "      <td>toyota</td>\n",
       "      <td>auris</td>\n",
       "      <td>RKO</td>\n",
       "      <td>SWI</td>\n",
       "      <td>135000</td>\n",
       "      <td>1598</td>\n",
       "      <td>0</td>\n",
       "      <td>0</td>\n",
       "      <td>1</td>\n",
       "      <td>0</td>\n",
       "      <td>0</td>\n",
       "      <td>41.47</td>\n",
       "    </tr>\n",
       "    <tr>\n",
       "      <th>2</th>\n",
       "      <td>TRAIN_00002</td>\n",
       "      <td>2002</td>\n",
       "      <td>2002</td>\n",
       "      <td>mercedes-benz</td>\n",
       "      <td>clk-klasa</td>\n",
       "      <td>GNI</td>\n",
       "      <td>WIE</td>\n",
       "      <td>255223</td>\n",
       "      <td>1796</td>\n",
       "      <td>0</td>\n",
       "      <td>0</td>\n",
       "      <td>1</td>\n",
       "      <td>0</td>\n",
       "      <td>0</td>\n",
       "      <td>17.81</td>\n",
       "    </tr>\n",
       "    <tr>\n",
       "      <th>3</th>\n",
       "      <td>TRAIN_00003</td>\n",
       "      <td>2006</td>\n",
       "      <td>2001</td>\n",
       "      <td>nissan</td>\n",
       "      <td>x-trail</td>\n",
       "      <td>EHX</td>\n",
       "      <td>WIE</td>\n",
       "      <td>238000</td>\n",
       "      <td>2184</td>\n",
       "      <td>0</td>\n",
       "      <td>1</td>\n",
       "      <td>0</td>\n",
       "      <td>0</td>\n",
       "      <td>0</td>\n",
       "      <td>18.20</td>\n",
       "    </tr>\n",
       "    <tr>\n",
       "      <th>4</th>\n",
       "      <td>TRAIN_00004</td>\n",
       "      <td>2007</td>\n",
       "      <td>2007</td>\n",
       "      <td>fiat</td>\n",
       "      <td>bravo</td>\n",
       "      <td>OSW</td>\n",
       "      <td>MAL</td>\n",
       "      <td>251000</td>\n",
       "      <td>1910</td>\n",
       "      <td>0</td>\n",
       "      <td>1</td>\n",
       "      <td>0</td>\n",
       "      <td>0</td>\n",
       "      <td>0</td>\n",
       "      <td>17.55</td>\n",
       "    </tr>\n",
       "  </tbody>\n",
       "</table>\n",
       "</div>"
      ],
      "text/plain": [
       "            ID  생산년도  모델출시년도            브랜드      차량모델명 판매도시 판매구역    주행거리  \\\n",
       "0  TRAIN_00000  2018    2014          skoda      fabia  KAT  SLA   85231   \n",
       "1  TRAIN_00001  2010    2006         toyota      auris  RKO  SWI  135000   \n",
       "2  TRAIN_00002  2002    2002  mercedes-benz  clk-klasa  GNI  WIE  255223   \n",
       "3  TRAIN_00003  2006    2001         nissan    x-trail  EHX  WIE  238000   \n",
       "4  TRAIN_00004  2007    2007           fiat      bravo  OSW  MAL  251000   \n",
       "\n",
       "    배기량  압축천연가스(CNG)  경유  가솔린  하이브리드  액화석유가스(LPG)     가격  \n",
       "0   999            0   0    1      0            0  51.74  \n",
       "1  1598            0   0    1      0            0  41.47  \n",
       "2  1796            0   0    1      0            0  17.81  \n",
       "3  2184            0   1    0      0            0  18.20  \n",
       "4  1910            0   1    0      0            0  17.55  "
      ]
     },
     "execution_count": 15,
     "metadata": {},
     "output_type": "execute_result"
    }
   ],
   "source": [
    "train_df.head()"
   ]
  },
  {
   "cell_type": "markdown",
   "id": "a18c323f-9e86-4fe2-9e09-395d4e290050",
   "metadata": {},
   "source": [
    "<br>"
   ]
  },
  {
   "cell_type": "markdown",
   "id": "474be0ad-f1fb-4bc6-96aa-475263cb51c7",
   "metadata": {},
   "source": [
    "## Target Transformation"
   ]
  },
  {
   "cell_type": "code",
   "execution_count": 16,
   "id": "41401e07-7dde-4547-a4f9-634e63e32ff1",
   "metadata": {},
   "outputs": [],
   "source": [
    "if CFG.TARGET_TRANSFORMATION:\n",
    "    train_df['가격'] = np.log(train_df['가격'])"
   ]
  },
  {
   "cell_type": "markdown",
   "id": "81e4e64b-47c6-4c06-b5ad-edd0493ee171",
   "metadata": {},
   "source": [
    "<br>"
   ]
  },
  {
   "cell_type": "markdown",
   "id": "cd0aab2e-3a95-4013-a15e-d141663182ea",
   "metadata": {},
   "source": [
    "## Resetting Columns Type"
   ]
  },
  {
   "cell_type": "code",
   "execution_count": 18,
   "id": "fbffe1aa-eef1-4263-933e-492cbbf6cc64",
   "metadata": {},
   "outputs": [],
   "source": [
    "class TypeResetting:\n",
    "    def __init__(self):\n",
    "        self.cat_features = ['브랜드','차량모델명','판매도시','판매구역','생산년도','모델출시년도']\n",
    "        self.seg_features = []\n",
    "        \n",
    "    def add_categorical_features(self,cat_features):\n",
    "        self.cat_features += cat_features\n",
    "        \n",
    "    def delete_categorical_features(self,cat_features):\n",
    "        self.cat_features = [col for col in self.cat_features if col not in cat_features]\n",
    "        \n",
    "    def add_segment_features(self,segment_features):\n",
    "        self.seg_features = ['segment']\n",
    "        self.cat_features = [col for col in self.cat_features if col not in segment_features]\n",
    "        \n",
    "    def fit(self,data):\n",
    "        if (len(self.seg_features)>0) & ('segment' not in data.columns):\n",
    "            raise ValueError(\"segment column name must be 'segment'\")\n",
    "        self.target_feature = ['가격']\n",
    "        self.unuse_features = ['ID']\n",
    "        self.dummy_features = ['압축천연가스(CNG)','액화석유가스(LPG)','경유','가솔린','하이브리드']\n",
    "        self.num_features   = [col for col in data.columns\n",
    "                               if col not in self.target_feature+self.unuse_features+self.dummy_features+self.cat_features+self.seg_features]\n",
    "        \n",
    "    def transform(self,data):\n",
    "        d = data.copy()\n",
    "        for col in self.dummy_features:\n",
    "            if d[col].dtypes!=int:\n",
    "                d[col] = d[col].astype(int)\n",
    "        for col in self.cat_features:\n",
    "            if d[col].dtypes!=object:\n",
    "                d[col] = d[col].astype(str)\n",
    "        for col in self.num_features:\n",
    "            if d[col].dtypes!=float:\n",
    "                d[col] = d[col].astype(float)\n",
    "        for col in self.seg_features:\n",
    "            if d[col].dtypes!=object:\n",
    "                d[col] = d[col].astype(str)\n",
    "        for col in self.unuse_features:\n",
    "            if col in d.columns:\n",
    "                d.drop(col,axis=1,inplace=True)\n",
    "        return d\n",
    "    \n",
    "    def fit_transform(self,data):\n",
    "        self.fit(data)\n",
    "        return self.transform(data)\n",
    "    \n",
    "    def get_feature_type(self):\n",
    "        globals()['target_feature'] = self.target_feature\n",
    "        globals()['unuse_features'] = self.unuse_features\n",
    "        globals()['dummy_features'] = self.dummy_features\n",
    "        globals()['cat_features']   = self.cat_features\n",
    "        globals()['num_features']   = self.num_features"
   ]
  },
  {
   "cell_type": "code",
   "execution_count": 19,
   "id": "9e5177c8-be0f-4363-8ec8-8849f4531ea2",
   "metadata": {},
   "outputs": [],
   "source": [
    "type_resetor = TypeResetting()\n",
    "type_resetor.fit(train_df)\n",
    "type_resetor.get_feature_type()\n",
    "\n",
    "train_df2 = type_resetor.transform(train_df)\n",
    "test_df2  = type_resetor.transform(test_df)"
   ]
  },
  {
   "cell_type": "code",
   "execution_count": 20,
   "id": "ad9166d7-d880-4117-a2da-9422f62428ee",
   "metadata": {},
   "outputs": [],
   "source": [
    "import warnings\n",
    "warnings.simplefilter(\"always\")\n",
    "\n",
    "def check_only_oneside(train,test,cat_features):\n",
    "    not_test_only_features = []\n",
    "    for iter,col in enumerate(cat_features):\n",
    "        print('[{}/{}] {}'.format(iter+1,len(cat_features),col))\n",
    "        \n",
    "        only_train = list(set(train[col].unique())-set(test[col].unique()))\n",
    "        only_test  = list(set(test[col].unique())-set(train[col].unique()))\n",
    "        print(' - Only Train:',len(only_train))\n",
    "        print(' - Only Test :',len(only_test))\n",
    "        if len(only_test)>0:\n",
    "            print('******Warning******')\n",
    "        else:\n",
    "            not_test_only_features.append(col)\n",
    "        print('')\n",
    "    return not_test_only_features"
   ]
  },
  {
   "cell_type": "code",
   "execution_count": 21,
   "id": "0f8c40f7-1201-4598-9558-d086e9ab1575",
   "metadata": {},
   "outputs": [
    {
     "name": "stdout",
     "output_type": "stream",
     "text": [
      "[1/11] 브랜드\n",
      " - Only Train: 0\n",
      " - Only Test : 0\n",
      "\n",
      "[2/11] 차량모델명\n",
      " - Only Train: 2\n",
      " - Only Test : 0\n",
      "\n",
      "[3/11] 판매도시\n",
      " - Only Train: 1750\n",
      " - Only Test : 300\n",
      "******Warning******\n",
      "\n",
      "[4/11] 판매구역\n",
      " - Only Train: 0\n",
      " - Only Test : 0\n",
      "\n",
      "[5/11] 생산년도\n",
      " - Only Train: 3\n",
      " - Only Test : 1\n",
      "******Warning******\n",
      "\n",
      "[6/11] 모델출시년도\n",
      " - Only Train: 0\n",
      " - Only Test : 0\n",
      "\n",
      "[7/11] 압축천연가스(CNG)\n",
      " - Only Train: 0\n",
      " - Only Test : 0\n",
      "\n",
      "[8/11] 액화석유가스(LPG)\n",
      " - Only Train: 0\n",
      " - Only Test : 0\n",
      "\n",
      "[9/11] 경유\n",
      " - Only Train: 0\n",
      " - Only Test : 0\n",
      "\n",
      "[10/11] 가솔린\n",
      " - Only Train: 0\n",
      " - Only Test : 0\n",
      "\n",
      "[11/11] 하이브리드\n",
      " - Only Train: 0\n",
      " - Only Test : 0\n",
      "\n"
     ]
    }
   ],
   "source": [
    "# 브랜드, 차량모델명, 판매구역, 모델출시년도\n",
    "not_test_only_features = check_only_oneside(train_df2,test_df2,cat_features+dummy_features)\n",
    "not_test_only_features = list(set(not_test_only_features)-set(dummy_features))"
   ]
  },
  {
   "cell_type": "code",
   "execution_count": 22,
   "id": "ba4fb877-5302-4a4d-8b79-7f5de66c6b65",
   "metadata": {},
   "outputs": [
    {
     "data": {
      "text/plain": [
       "['브랜드', '차량모델명', '판매구역', '모델출시년도']"
      ]
     },
     "execution_count": 22,
     "metadata": {},
     "output_type": "execute_result"
    }
   ],
   "source": [
    "not_test_only_features"
   ]
  },
  {
   "cell_type": "markdown",
   "id": "204816d7-af14-427d-bc50-32b876febd64",
   "metadata": {},
   "source": [
    "<br></br>"
   ]
  },
  {
   "cell_type": "markdown",
   "id": "c5254fac-62ad-4ca8-98d9-0cc687d11af2",
   "metadata": {},
   "source": [
    "# New Features"
   ]
  },
  {
   "cell_type": "code",
   "execution_count": 23,
   "id": "4ae5c16b-cf03-4b32-894f-10ef35d8c697",
   "metadata": {},
   "outputs": [],
   "source": [
    "# pd.Series([str(round(int(year)/100,1)) for year in train_df6['생산년도']]).value_counts()"
   ]
  },
  {
   "cell_type": "code",
   "execution_count": 24,
   "id": "1faf8654-f04e-43ed-be0a-965a18e71664",
   "metadata": {},
   "outputs": [
    {
     "data": {
      "text/html": [
       "<div>\n",
       "<style scoped>\n",
       "    .dataframe tbody tr th:only-of-type {\n",
       "        vertical-align: middle;\n",
       "    }\n",
       "\n",
       "    .dataframe tbody tr th {\n",
       "        vertical-align: top;\n",
       "    }\n",
       "\n",
       "    .dataframe thead th {\n",
       "        text-align: right;\n",
       "    }\n",
       "</style>\n",
       "<table border=\"1\" class=\"dataframe\">\n",
       "  <thead>\n",
       "    <tr style=\"text-align: right;\">\n",
       "      <th></th>\n",
       "      <th>ID</th>\n",
       "      <th>생산년도</th>\n",
       "      <th>모델출시년도</th>\n",
       "      <th>브랜드</th>\n",
       "      <th>차량모델명</th>\n",
       "      <th>판매도시</th>\n",
       "      <th>판매구역</th>\n",
       "      <th>주행거리</th>\n",
       "      <th>배기량</th>\n",
       "      <th>압축천연가스(CNG)</th>\n",
       "      <th>경유</th>\n",
       "      <th>가솔린</th>\n",
       "      <th>하이브리드</th>\n",
       "      <th>액화석유가스(LPG)</th>\n",
       "      <th>가격</th>\n",
       "    </tr>\n",
       "  </thead>\n",
       "  <tbody>\n",
       "    <tr>\n",
       "      <th>0</th>\n",
       "      <td>TRAIN_00000</td>\n",
       "      <td>2018</td>\n",
       "      <td>2014</td>\n",
       "      <td>skoda</td>\n",
       "      <td>fabia</td>\n",
       "      <td>KAT</td>\n",
       "      <td>SLA</td>\n",
       "      <td>85231</td>\n",
       "      <td>999</td>\n",
       "      <td>0</td>\n",
       "      <td>0</td>\n",
       "      <td>1</td>\n",
       "      <td>0</td>\n",
       "      <td>0</td>\n",
       "      <td>3.946231</td>\n",
       "    </tr>\n",
       "    <tr>\n",
       "      <th>1</th>\n",
       "      <td>TRAIN_00001</td>\n",
       "      <td>2010</td>\n",
       "      <td>2006</td>\n",
       "      <td>toyota</td>\n",
       "      <td>auris</td>\n",
       "      <td>RKO</td>\n",
       "      <td>SWI</td>\n",
       "      <td>135000</td>\n",
       "      <td>1598</td>\n",
       "      <td>0</td>\n",
       "      <td>0</td>\n",
       "      <td>1</td>\n",
       "      <td>0</td>\n",
       "      <td>0</td>\n",
       "      <td>3.724970</td>\n",
       "    </tr>\n",
       "    <tr>\n",
       "      <th>2</th>\n",
       "      <td>TRAIN_00002</td>\n",
       "      <td>2002</td>\n",
       "      <td>2002</td>\n",
       "      <td>mercedes-benz</td>\n",
       "      <td>clk-klasa</td>\n",
       "      <td>GNI</td>\n",
       "      <td>WIE</td>\n",
       "      <td>255223</td>\n",
       "      <td>1796</td>\n",
       "      <td>0</td>\n",
       "      <td>0</td>\n",
       "      <td>1</td>\n",
       "      <td>0</td>\n",
       "      <td>0</td>\n",
       "      <td>2.879760</td>\n",
       "    </tr>\n",
       "    <tr>\n",
       "      <th>3</th>\n",
       "      <td>TRAIN_00003</td>\n",
       "      <td>2006</td>\n",
       "      <td>2001</td>\n",
       "      <td>nissan</td>\n",
       "      <td>x-trail</td>\n",
       "      <td>EHX</td>\n",
       "      <td>WIE</td>\n",
       "      <td>238000</td>\n",
       "      <td>2184</td>\n",
       "      <td>0</td>\n",
       "      <td>1</td>\n",
       "      <td>0</td>\n",
       "      <td>0</td>\n",
       "      <td>0</td>\n",
       "      <td>2.901422</td>\n",
       "    </tr>\n",
       "    <tr>\n",
       "      <th>4</th>\n",
       "      <td>TRAIN_00004</td>\n",
       "      <td>2007</td>\n",
       "      <td>2007</td>\n",
       "      <td>fiat</td>\n",
       "      <td>bravo</td>\n",
       "      <td>OSW</td>\n",
       "      <td>MAL</td>\n",
       "      <td>251000</td>\n",
       "      <td>1910</td>\n",
       "      <td>0</td>\n",
       "      <td>1</td>\n",
       "      <td>0</td>\n",
       "      <td>0</td>\n",
       "      <td>0</td>\n",
       "      <td>2.865054</td>\n",
       "    </tr>\n",
       "  </tbody>\n",
       "</table>\n",
       "</div>"
      ],
      "text/plain": [
       "            ID  생산년도  모델출시년도            브랜드      차량모델명 판매도시 판매구역    주행거리  \\\n",
       "0  TRAIN_00000  2018    2014          skoda      fabia  KAT  SLA   85231   \n",
       "1  TRAIN_00001  2010    2006         toyota      auris  RKO  SWI  135000   \n",
       "2  TRAIN_00002  2002    2002  mercedes-benz  clk-klasa  GNI  WIE  255223   \n",
       "3  TRAIN_00003  2006    2001         nissan    x-trail  EHX  WIE  238000   \n",
       "4  TRAIN_00004  2007    2007           fiat      bravo  OSW  MAL  251000   \n",
       "\n",
       "    배기량  압축천연가스(CNG)  경유  가솔린  하이브리드  액화석유가스(LPG)        가격  \n",
       "0   999            0   0    1      0            0  3.946231  \n",
       "1  1598            0   0    1      0            0  3.724970  \n",
       "2  1796            0   0    1      0            0  2.879760  \n",
       "3  2184            0   1    0      0            0  2.901422  \n",
       "4  1910            0   1    0      0            0  2.865054  "
      ]
     },
     "execution_count": 24,
     "metadata": {},
     "output_type": "execute_result"
    }
   ],
   "source": [
    "train_df.head()"
   ]
  },
  {
   "cell_type": "code",
   "execution_count": 25,
   "id": "c6541725-7cf0-4e7d-960b-cb96da805e66",
   "metadata": {},
   "outputs": [],
   "source": [
    "from tqdm import tqdm\n",
    "from itertools import chain, combinations\n",
    "def all_subsets(ss):\n",
    "    return list(chain(*map(lambda x: combinations(ss, x), range(0, len(ss)+1))))\n",
    "\n",
    "class FeatureEngineering:\n",
    "    def __init__(self):\n",
    "        pass\n",
    "    \n",
    "    def _get_quantile(self,x,col):\n",
    "        x = np.array(x).flatten()\n",
    "        x = x[pd.notnull(x)]\n",
    "\n",
    "        agg_df = pd.DataFrame(index=[0])\n",
    "        for q in [0,25,50,75,100]:\n",
    "            agg_df[f'{col}_Q{q}'] = np.quantile(x,q/100)\n",
    "\n",
    "        return agg_df\n",
    "    \n",
    "    def _derived_features(self,data):\n",
    "        d = data.copy()\n",
    "\n",
    "        # (1) 모델출시년도에 생산된 차량인지\n",
    "        d['출시년도생산여부'] = np.where(d['생산년도'].astype(int)==d['모델출시년도'].astype(int),1,0)\n",
    "\n",
    "        # (2) 모델출시 이후에 몇년 지나서 생산됬는지\n",
    "        d['출시이후생산년수'] = d['생산년도'].astype(int)-d['모델출시년도'].astype(int)\n",
    "\n",
    "        # (3) 출시 이전에 생산되었는지\n",
    "        d['출시이전생산여부'] = np.where(d['출시이후생산년수']<0,1,0)\n",
    "\n",
    "        # (4) 브랜드의 국적 (구글링)\n",
    "        d['브랜드국적'] = ['체코' if brand=='skoda' else\n",
    "                        '일본' if brand in ['toyota','nissan','mazda','honda','mitsubishi'] else\n",
    "                        '독일' if brand in ['mercedes-benz','audi','volkswagen','bmw','opel'] else\n",
    "                        '이탈리아' if brand=='fiat' else\n",
    "                        '프랑스' if brand in ['renault','citroen','peugeot'] else\n",
    "                        '미국' if brand=='ford' else\n",
    "                        '한국' if brand in ['kia','hyundai'] else\n",
    "                        '스페인' if brand=='seat' else\n",
    "                        '스웨덴' if brand=='volvo' else\n",
    "                        np.nan for brand in d['브랜드']]\n",
    "\n",
    "        # (5) 브랜드 국적의 대륙명\n",
    "        d['브랜드대륙명'] = ['유럽' if country in ['체코','독일','이탈리아','프랑스','스페인','스웨덴'] else\n",
    "                          '아시아' if country in ['일본','한국'] else\n",
    "                          '아메리카' if country in ['미국'] else\n",
    "                          np.nan for country in d['브랜드국적']]\n",
    "        return d\n",
    "    \n",
    "    def fit(self,data,cat_features,subset_depth=1):\n",
    "        assert '가격' in data.columns, \\\n",
    "            'Input data must be training dataset'\n",
    "        assert len(cat_features)>=subset_depth, \\\n",
    "            'len(cat_features) >= subset_depth'\n",
    "        \n",
    "        self.cat_features = cat_features\n",
    "        self.new_cat_features = ['출시년도생산여부','출시이후생산년수','출시이전생산여부','브랜드국적','브랜드대륙명']\n",
    "        \n",
    "        # (6) 카테고리 변수에 따른 가격의 Quantile값\n",
    "        all_subset_list = all_subsets(cat_features)\n",
    "        all_subset_list = [subset for subset in all_subset_list if (len(subset)<=subset_depth) & (len(subset)>=1)]\n",
    "        \n",
    "        self.agg_dict = {}\n",
    "        for subset in tqdm(all_subset_list,desc=f'Get quantiles of target by categorical features (depth={subset_depth})'):\n",
    "            subset = list(subset)\n",
    "            subset_name = '_'.join(subset)\n",
    "            agg_fn = data.groupby(subset)['가격'].apply(lambda x: self._get_quantile(x,subset_name)).reset_index()\n",
    "            drop_cols = [col for col in agg_fn if col.find('level_')>=0]\n",
    "            agg_fn.drop(columns=drop_cols,inplace=True)\n",
    "            self.agg_dict[subset_name] = agg_fn\n",
    "            \n",
    "    def transform(self,data):\n",
    "        data = self._derived_features(data)\n",
    "        for key,agg_fn in self.agg_dict.items():\n",
    "            data = pd.merge(data,agg_fn,how='left',on=key.split('_'))\n",
    "        return data\n",
    "    \n",
    "    def fit_transform(self,data,cat_features,subset_depth=1):\n",
    "        self.fit(data,cat_features,subset_depth)\n",
    "        return self.transform(data)"
   ]
  },
  {
   "cell_type": "code",
   "execution_count": 26,
   "id": "9a085347-abaa-4e5f-9f9b-f71f226bf84a",
   "metadata": {},
   "outputs": [
    {
     "name": "stderr",
     "output_type": "stream",
     "text": [
      "Get quantiles of target by categorical features (depth=3): 100%|██████████| 14/14 [00:28<00:00,  2.02s/it]\n"
     ]
    }
   ],
   "source": [
    "fe = FeatureEngineering()\n",
    "fe.fit(\n",
    "    data=train_df2,\n",
    "    cat_features=not_test_only_features, \n",
    "    subset_depth=CFG.SUBSET_DEPTH,\n",
    ")\n",
    "train_df3 = fe.transform(train_df2)\n",
    "test_df3  = fe.transform(test_df2)"
   ]
  },
  {
   "cell_type": "code",
   "execution_count": 27,
   "id": "a29021d0-ce57-42c8-8a78-0f9cc4209d25",
   "metadata": {},
   "outputs": [
    {
     "data": {
      "text/plain": [
       "['출시년도생산여부', '출시이후생산년수', '출시이전생산여부', '브랜드국적', '브랜드대륙명']"
      ]
     },
     "execution_count": 27,
     "metadata": {},
     "output_type": "execute_result"
    }
   ],
   "source": [
    "fe.new_cat_features"
   ]
  },
  {
   "cell_type": "code",
   "execution_count": 28,
   "id": "bfa09b13-62ca-425d-bab5-299828454fc7",
   "metadata": {},
   "outputs": [],
   "source": [
    "type_resetor = TypeResetting()\n",
    "type_resetor.add_categorical_features(fe.new_cat_features)\n",
    "type_resetor.fit(train_df3)\n",
    "type_resetor.get_feature_type()\n",
    "\n",
    "train_df3 = type_resetor.transform(train_df3)\n",
    "test_df3  = type_resetor.transform(test_df3)"
   ]
  },
  {
   "cell_type": "code",
   "execution_count": 29,
   "id": "af8e5c65-95f9-4a32-b63d-c074537853de",
   "metadata": {},
   "outputs": [
    {
     "name": "stdout",
     "output_type": "stream",
     "text": [
      "(57920, 89)\n"
     ]
    },
    {
     "data": {
      "text/html": [
       "<div>\n",
       "<style scoped>\n",
       "    .dataframe tbody tr th:only-of-type {\n",
       "        vertical-align: middle;\n",
       "    }\n",
       "\n",
       "    .dataframe tbody tr th {\n",
       "        vertical-align: top;\n",
       "    }\n",
       "\n",
       "    .dataframe thead th {\n",
       "        text-align: right;\n",
       "    }\n",
       "</style>\n",
       "<table border=\"1\" class=\"dataframe\">\n",
       "  <thead>\n",
       "    <tr style=\"text-align: right;\">\n",
       "      <th></th>\n",
       "      <th>생산년도</th>\n",
       "      <th>모델출시년도</th>\n",
       "      <th>브랜드</th>\n",
       "      <th>차량모델명</th>\n",
       "      <th>판매도시</th>\n",
       "      <th>판매구역</th>\n",
       "      <th>주행거리</th>\n",
       "      <th>배기량</th>\n",
       "      <th>압축천연가스(CNG)</th>\n",
       "      <th>경유</th>\n",
       "      <th>가솔린</th>\n",
       "      <th>하이브리드</th>\n",
       "      <th>액화석유가스(LPG)</th>\n",
       "      <th>가격</th>\n",
       "      <th>출시년도생산여부</th>\n",
       "      <th>출시이후생산년수</th>\n",
       "      <th>출시이전생산여부</th>\n",
       "      <th>브랜드국적</th>\n",
       "      <th>브랜드대륙명</th>\n",
       "      <th>브랜드_Q0</th>\n",
       "      <th>브랜드_Q25</th>\n",
       "      <th>브랜드_Q50</th>\n",
       "      <th>브랜드_Q75</th>\n",
       "      <th>브랜드_Q100</th>\n",
       "      <th>차량모델명_Q0</th>\n",
       "      <th>차량모델명_Q25</th>\n",
       "      <th>차량모델명_Q50</th>\n",
       "      <th>차량모델명_Q75</th>\n",
       "      <th>차량모델명_Q100</th>\n",
       "      <th>판매구역_Q0</th>\n",
       "      <th>판매구역_Q25</th>\n",
       "      <th>판매구역_Q50</th>\n",
       "      <th>판매구역_Q75</th>\n",
       "      <th>판매구역_Q100</th>\n",
       "      <th>모델출시년도_Q0</th>\n",
       "      <th>모델출시년도_Q25</th>\n",
       "      <th>모델출시년도_Q50</th>\n",
       "      <th>모델출시년도_Q75</th>\n",
       "      <th>모델출시년도_Q100</th>\n",
       "      <th>브랜드_차량모델명_Q0</th>\n",
       "      <th>브랜드_차량모델명_Q25</th>\n",
       "      <th>브랜드_차량모델명_Q50</th>\n",
       "      <th>브랜드_차량모델명_Q75</th>\n",
       "      <th>브랜드_차량모델명_Q100</th>\n",
       "      <th>브랜드_판매구역_Q0</th>\n",
       "      <th>브랜드_판매구역_Q25</th>\n",
       "      <th>브랜드_판매구역_Q50</th>\n",
       "      <th>브랜드_판매구역_Q75</th>\n",
       "      <th>브랜드_판매구역_Q100</th>\n",
       "      <th>브랜드_모델출시년도_Q0</th>\n",
       "      <th>브랜드_모델출시년도_Q25</th>\n",
       "      <th>브랜드_모델출시년도_Q50</th>\n",
       "      <th>브랜드_모델출시년도_Q75</th>\n",
       "      <th>브랜드_모델출시년도_Q100</th>\n",
       "      <th>차량모델명_판매구역_Q0</th>\n",
       "      <th>차량모델명_판매구역_Q25</th>\n",
       "      <th>차량모델명_판매구역_Q50</th>\n",
       "      <th>차량모델명_판매구역_Q75</th>\n",
       "      <th>차량모델명_판매구역_Q100</th>\n",
       "      <th>차량모델명_모델출시년도_Q0</th>\n",
       "      <th>차량모델명_모델출시년도_Q25</th>\n",
       "      <th>차량모델명_모델출시년도_Q50</th>\n",
       "      <th>차량모델명_모델출시년도_Q75</th>\n",
       "      <th>차량모델명_모델출시년도_Q100</th>\n",
       "      <th>판매구역_모델출시년도_Q0</th>\n",
       "      <th>판매구역_모델출시년도_Q25</th>\n",
       "      <th>판매구역_모델출시년도_Q50</th>\n",
       "      <th>판매구역_모델출시년도_Q75</th>\n",
       "      <th>판매구역_모델출시년도_Q100</th>\n",
       "      <th>브랜드_차량모델명_판매구역_Q0</th>\n",
       "      <th>브랜드_차량모델명_판매구역_Q25</th>\n",
       "      <th>브랜드_차량모델명_판매구역_Q50</th>\n",
       "      <th>브랜드_차량모델명_판매구역_Q75</th>\n",
       "      <th>브랜드_차량모델명_판매구역_Q100</th>\n",
       "      <th>브랜드_차량모델명_모델출시년도_Q0</th>\n",
       "      <th>브랜드_차량모델명_모델출시년도_Q25</th>\n",
       "      <th>브랜드_차량모델명_모델출시년도_Q50</th>\n",
       "      <th>브랜드_차량모델명_모델출시년도_Q75</th>\n",
       "      <th>브랜드_차량모델명_모델출시년도_Q100</th>\n",
       "      <th>브랜드_판매구역_모델출시년도_Q0</th>\n",
       "      <th>브랜드_판매구역_모델출시년도_Q25</th>\n",
       "      <th>브랜드_판매구역_모델출시년도_Q50</th>\n",
       "      <th>브랜드_판매구역_모델출시년도_Q75</th>\n",
       "      <th>브랜드_판매구역_모델출시년도_Q100</th>\n",
       "      <th>차량모델명_판매구역_모델출시년도_Q0</th>\n",
       "      <th>차량모델명_판매구역_모델출시년도_Q25</th>\n",
       "      <th>차량모델명_판매구역_모델출시년도_Q50</th>\n",
       "      <th>차량모델명_판매구역_모델출시년도_Q75</th>\n",
       "      <th>차량모델명_판매구역_모델출시년도_Q100</th>\n",
       "    </tr>\n",
       "  </thead>\n",
       "  <tbody>\n",
       "    <tr>\n",
       "      <th>0</th>\n",
       "      <td>2018</td>\n",
       "      <td>2014</td>\n",
       "      <td>skoda</td>\n",
       "      <td>fabia</td>\n",
       "      <td>KAT</td>\n",
       "      <td>SLA</td>\n",
       "      <td>85231.0</td>\n",
       "      <td>999.0</td>\n",
       "      <td>0</td>\n",
       "      <td>0</td>\n",
       "      <td>1</td>\n",
       "      <td>0</td>\n",
       "      <td>0</td>\n",
       "      <td>3.946231</td>\n",
       "      <td>0</td>\n",
       "      <td>4</td>\n",
       "      <td>0</td>\n",
       "      <td>체코</td>\n",
       "      <td>유럽</td>\n",
       "      <td>0.727549</td>\n",
       "      <td>3.393501</td>\n",
       "      <td>4.057853</td>\n",
       "      <td>4.509072</td>\n",
       "      <td>5.049856</td>\n",
       "      <td>0.792993</td>\n",
       "      <td>2.933059</td>\n",
       "      <td>3.712352</td>\n",
       "      <td>4.065687</td>\n",
       "      <td>4.830312</td>\n",
       "      <td>0.262364</td>\n",
       "      <td>3.206803</td>\n",
       "      <td>3.773910</td>\n",
       "      <td>4.355041</td>\n",
       "      <td>5.049856</td>\n",
       "      <td>0.157004</td>\n",
       "      <td>4.019486</td>\n",
       "      <td>4.355041</td>\n",
       "      <td>4.643140</td>\n",
       "      <td>5.049856</td>\n",
       "      <td>0.792993</td>\n",
       "      <td>2.933059</td>\n",
       "      <td>3.712352</td>\n",
       "      <td>4.065687</td>\n",
       "      <td>4.830312</td>\n",
       "      <td>1.137833</td>\n",
       "      <td>3.477232</td>\n",
       "      <td>4.021236</td>\n",
       "      <td>4.525044</td>\n",
       "      <td>5.049856</td>\n",
       "      <td>2.554899</td>\n",
       "      <td>3.843102</td>\n",
       "      <td>4.011868</td>\n",
       "      <td>4.172385</td>\n",
       "      <td>4.772124</td>\n",
       "      <td>1.137833</td>\n",
       "      <td>2.995955</td>\n",
       "      <td>3.814851</td>\n",
       "      <td>4.046554</td>\n",
       "      <td>4.741361</td>\n",
       "      <td>2.554899</td>\n",
       "      <td>3.843102</td>\n",
       "      <td>4.011868</td>\n",
       "      <td>4.172385</td>\n",
       "      <td>4.772124</td>\n",
       "      <td>3.287655</td>\n",
       "      <td>3.984523</td>\n",
       "      <td>4.322807</td>\n",
       "      <td>4.617790</td>\n",
       "      <td>5.049856</td>\n",
       "      <td>1.137833</td>\n",
       "      <td>2.995955</td>\n",
       "      <td>3.814851</td>\n",
       "      <td>4.046554</td>\n",
       "      <td>4.741361</td>\n",
       "      <td>2.554899</td>\n",
       "      <td>3.843102</td>\n",
       "      <td>4.011868</td>\n",
       "      <td>4.172385</td>\n",
       "      <td>4.772124</td>\n",
       "      <td>3.520461</td>\n",
       "      <td>3.864403</td>\n",
       "      <td>3.962369</td>\n",
       "      <td>4.120439</td>\n",
       "      <td>4.639378</td>\n",
       "      <td>3.520461</td>\n",
       "      <td>3.864403</td>\n",
       "      <td>3.962369</td>\n",
       "      <td>4.120439</td>\n",
       "      <td>4.639378</td>\n",
       "    </tr>\n",
       "    <tr>\n",
       "      <th>1</th>\n",
       "      <td>2010</td>\n",
       "      <td>2006</td>\n",
       "      <td>toyota</td>\n",
       "      <td>auris</td>\n",
       "      <td>RKO</td>\n",
       "      <td>SWI</td>\n",
       "      <td>135000.0</td>\n",
       "      <td>1598.0</td>\n",
       "      <td>0</td>\n",
       "      <td>0</td>\n",
       "      <td>1</td>\n",
       "      <td>0</td>\n",
       "      <td>0</td>\n",
       "      <td>3.724970</td>\n",
       "      <td>0</td>\n",
       "      <td>4</td>\n",
       "      <td>0</td>\n",
       "      <td>일본</td>\n",
       "      <td>아시아</td>\n",
       "      <td>0.157004</td>\n",
       "      <td>3.353407</td>\n",
       "      <td>4.000034</td>\n",
       "      <td>4.435212</td>\n",
       "      <td>5.049856</td>\n",
       "      <td>2.687167</td>\n",
       "      <td>3.594569</td>\n",
       "      <td>4.112512</td>\n",
       "      <td>4.387075</td>\n",
       "      <td>4.761062</td>\n",
       "      <td>1.095273</td>\n",
       "      <td>3.113071</td>\n",
       "      <td>3.520461</td>\n",
       "      <td>4.066802</td>\n",
       "      <td>5.049856</td>\n",
       "      <td>1.358409</td>\n",
       "      <td>3.089678</td>\n",
       "      <td>3.348851</td>\n",
       "      <td>3.785779</td>\n",
       "      <td>5.049856</td>\n",
       "      <td>2.687167</td>\n",
       "      <td>3.594569</td>\n",
       "      <td>4.112512</td>\n",
       "      <td>4.387075</td>\n",
       "      <td>4.761062</td>\n",
       "      <td>2.134166</td>\n",
       "      <td>3.341912</td>\n",
       "      <td>3.843102</td>\n",
       "      <td>4.286479</td>\n",
       "      <td>5.049022</td>\n",
       "      <td>2.687167</td>\n",
       "      <td>3.253084</td>\n",
       "      <td>3.501043</td>\n",
       "      <td>3.785779</td>\n",
       "      <td>4.450503</td>\n",
       "      <td>2.865054</td>\n",
       "      <td>3.356793</td>\n",
       "      <td>3.986240</td>\n",
       "      <td>4.276820</td>\n",
       "      <td>4.691990</td>\n",
       "      <td>2.687167</td>\n",
       "      <td>3.201526</td>\n",
       "      <td>3.353407</td>\n",
       "      <td>3.594569</td>\n",
       "      <td>4.173156</td>\n",
       "      <td>2.277267</td>\n",
       "      <td>3.127414</td>\n",
       "      <td>3.353407</td>\n",
       "      <td>3.782821</td>\n",
       "      <td>4.826712</td>\n",
       "      <td>2.865054</td>\n",
       "      <td>3.356793</td>\n",
       "      <td>3.986240</td>\n",
       "      <td>4.276820</td>\n",
       "      <td>4.691990</td>\n",
       "      <td>2.687167</td>\n",
       "      <td>3.201526</td>\n",
       "      <td>3.353407</td>\n",
       "      <td>3.594569</td>\n",
       "      <td>4.173156</td>\n",
       "      <td>2.865054</td>\n",
       "      <td>3.318510</td>\n",
       "      <td>3.606977</td>\n",
       "      <td>3.932255</td>\n",
       "      <td>4.450503</td>\n",
       "      <td>2.865054</td>\n",
       "      <td>3.144356</td>\n",
       "      <td>3.341912</td>\n",
       "      <td>3.632507</td>\n",
       "      <td>4.021236</td>\n",
       "    </tr>\n",
       "    <tr>\n",
       "      <th>2</th>\n",
       "      <td>2002</td>\n",
       "      <td>2002</td>\n",
       "      <td>mercedes-benz</td>\n",
       "      <td>clk-klasa</td>\n",
       "      <td>GNI</td>\n",
       "      <td>WIE</td>\n",
       "      <td>255223.0</td>\n",
       "      <td>1796.0</td>\n",
       "      <td>0</td>\n",
       "      <td>0</td>\n",
       "      <td>1</td>\n",
       "      <td>0</td>\n",
       "      <td>0</td>\n",
       "      <td>2.879760</td>\n",
       "      <td>1</td>\n",
       "      <td>0</td>\n",
       "      <td>0</td>\n",
       "      <td>독일</td>\n",
       "      <td>유럽</td>\n",
       "      <td>1.095273</td>\n",
       "      <td>3.152736</td>\n",
       "      <td>3.785779</td>\n",
       "      <td>4.354655</td>\n",
       "      <td>5.049856</td>\n",
       "      <td>2.250239</td>\n",
       "      <td>3.147165</td>\n",
       "      <td>3.440418</td>\n",
       "      <td>3.627069</td>\n",
       "      <td>4.866534</td>\n",
       "      <td>0.482426</td>\n",
       "      <td>3.089678</td>\n",
       "      <td>3.707577</td>\n",
       "      <td>4.296605</td>\n",
       "      <td>5.049856</td>\n",
       "      <td>0.955511</td>\n",
       "      <td>2.453588</td>\n",
       "      <td>2.826722</td>\n",
       "      <td>3.353407</td>\n",
       "      <td>5.049022</td>\n",
       "      <td>2.250239</td>\n",
       "      <td>3.147165</td>\n",
       "      <td>3.440418</td>\n",
       "      <td>3.627069</td>\n",
       "      <td>4.866534</td>\n",
       "      <td>1.118415</td>\n",
       "      <td>3.130263</td>\n",
       "      <td>3.746677</td>\n",
       "      <td>4.334280</td>\n",
       "      <td>5.049022</td>\n",
       "      <td>1.967112</td>\n",
       "      <td>3.152736</td>\n",
       "      <td>3.393501</td>\n",
       "      <td>3.590991</td>\n",
       "      <td>5.049022</td>\n",
       "      <td>2.402430</td>\n",
       "      <td>2.899306</td>\n",
       "      <td>3.339677</td>\n",
       "      <td>3.517711</td>\n",
       "      <td>3.629660</td>\n",
       "      <td>2.554899</td>\n",
       "      <td>3.253084</td>\n",
       "      <td>3.480932</td>\n",
       "      <td>3.660223</td>\n",
       "      <td>4.866534</td>\n",
       "      <td>1.175573</td>\n",
       "      <td>2.354152</td>\n",
       "      <td>2.721953</td>\n",
       "      <td>3.232779</td>\n",
       "      <td>4.631812</td>\n",
       "      <td>2.402430</td>\n",
       "      <td>2.899306</td>\n",
       "      <td>3.339677</td>\n",
       "      <td>3.517711</td>\n",
       "      <td>3.629660</td>\n",
       "      <td>2.554899</td>\n",
       "      <td>3.253084</td>\n",
       "      <td>3.480932</td>\n",
       "      <td>3.660223</td>\n",
       "      <td>4.866534</td>\n",
       "      <td>2.513656</td>\n",
       "      <td>3.174346</td>\n",
       "      <td>3.397524</td>\n",
       "      <td>3.516607</td>\n",
       "      <td>4.154185</td>\n",
       "      <td>2.554899</td>\n",
       "      <td>3.145882</td>\n",
       "      <td>3.392547</td>\n",
       "      <td>3.568935</td>\n",
       "      <td>3.629660</td>\n",
       "    </tr>\n",
       "    <tr>\n",
       "      <th>3</th>\n",
       "      <td>2006</td>\n",
       "      <td>2001</td>\n",
       "      <td>nissan</td>\n",
       "      <td>x-trail</td>\n",
       "      <td>EHX</td>\n",
       "      <td>WIE</td>\n",
       "      <td>238000.0</td>\n",
       "      <td>2184.0</td>\n",
       "      <td>0</td>\n",
       "      <td>1</td>\n",
       "      <td>0</td>\n",
       "      <td>0</td>\n",
       "      <td>0</td>\n",
       "      <td>2.901422</td>\n",
       "      <td>0</td>\n",
       "      <td>5</td>\n",
       "      <td>0</td>\n",
       "      <td>일본</td>\n",
       "      <td>아시아</td>\n",
       "      <td>1.050822</td>\n",
       "      <td>3.558201</td>\n",
       "      <td>3.923359</td>\n",
       "      <td>4.405499</td>\n",
       "      <td>5.049022</td>\n",
       "      <td>2.164472</td>\n",
       "      <td>4.368303</td>\n",
       "      <td>4.575844</td>\n",
       "      <td>4.761062</td>\n",
       "      <td>5.049022</td>\n",
       "      <td>0.482426</td>\n",
       "      <td>3.089678</td>\n",
       "      <td>3.707577</td>\n",
       "      <td>4.296605</td>\n",
       "      <td>5.049856</td>\n",
       "      <td>0.955511</td>\n",
       "      <td>2.341806</td>\n",
       "      <td>2.738903</td>\n",
       "      <td>3.095125</td>\n",
       "      <td>4.886356</td>\n",
       "      <td>2.164472</td>\n",
       "      <td>4.368303</td>\n",
       "      <td>4.575844</td>\n",
       "      <td>4.761062</td>\n",
       "      <td>5.049022</td>\n",
       "      <td>1.291984</td>\n",
       "      <td>3.477232</td>\n",
       "      <td>3.946231</td>\n",
       "      <td>4.321082</td>\n",
       "      <td>4.943569</td>\n",
       "      <td>1.291984</td>\n",
       "      <td>2.261556</td>\n",
       "      <td>2.613740</td>\n",
       "      <td>2.963725</td>\n",
       "      <td>3.393501</td>\n",
       "      <td>2.901422</td>\n",
       "      <td>4.478367</td>\n",
       "      <td>4.668990</td>\n",
       "      <td>4.761358</td>\n",
       "      <td>4.901936</td>\n",
       "      <td>2.164472</td>\n",
       "      <td>2.879654</td>\n",
       "      <td>2.963725</td>\n",
       "      <td>3.130247</td>\n",
       "      <td>3.393501</td>\n",
       "      <td>1.291984</td>\n",
       "      <td>2.193886</td>\n",
       "      <td>2.497726</td>\n",
       "      <td>2.827314</td>\n",
       "      <td>4.172385</td>\n",
       "      <td>2.901422</td>\n",
       "      <td>4.478367</td>\n",
       "      <td>4.668990</td>\n",
       "      <td>4.761358</td>\n",
       "      <td>4.901936</td>\n",
       "      <td>2.164472</td>\n",
       "      <td>2.879654</td>\n",
       "      <td>2.963725</td>\n",
       "      <td>3.130247</td>\n",
       "      <td>3.393501</td>\n",
       "      <td>1.291984</td>\n",
       "      <td>2.350294</td>\n",
       "      <td>2.501657</td>\n",
       "      <td>2.934804</td>\n",
       "      <td>3.201526</td>\n",
       "      <td>2.901422</td>\n",
       "      <td>2.968187</td>\n",
       "      <td>3.034953</td>\n",
       "      <td>3.118240</td>\n",
       "      <td>3.201526</td>\n",
       "    </tr>\n",
       "    <tr>\n",
       "      <th>4</th>\n",
       "      <td>2007</td>\n",
       "      <td>2007</td>\n",
       "      <td>fiat</td>\n",
       "      <td>bravo</td>\n",
       "      <td>OSW</td>\n",
       "      <td>MAL</td>\n",
       "      <td>251000.0</td>\n",
       "      <td>1910.0</td>\n",
       "      <td>0</td>\n",
       "      <td>1</td>\n",
       "      <td>0</td>\n",
       "      <td>0</td>\n",
       "      <td>0</td>\n",
       "      <td>2.865054</td>\n",
       "      <td>1</td>\n",
       "      <td>0</td>\n",
       "      <td>0</td>\n",
       "      <td>이탈리아</td>\n",
       "      <td>유럽</td>\n",
       "      <td>1.111858</td>\n",
       "      <td>2.865054</td>\n",
       "      <td>3.529985</td>\n",
       "      <td>4.174387</td>\n",
       "      <td>4.969049</td>\n",
       "      <td>2.134166</td>\n",
       "      <td>2.894253</td>\n",
       "      <td>3.065725</td>\n",
       "      <td>3.210720</td>\n",
       "      <td>3.660223</td>\n",
       "      <td>0.732368</td>\n",
       "      <td>3.201526</td>\n",
       "      <td>3.755837</td>\n",
       "      <td>4.305416</td>\n",
       "      <td>5.049856</td>\n",
       "      <td>1.697449</td>\n",
       "      <td>3.249210</td>\n",
       "      <td>3.626206</td>\n",
       "      <td>3.948741</td>\n",
       "      <td>5.049856</td>\n",
       "      <td>2.134166</td>\n",
       "      <td>2.894253</td>\n",
       "      <td>3.065725</td>\n",
       "      <td>3.210720</td>\n",
       "      <td>3.660223</td>\n",
       "      <td>1.570697</td>\n",
       "      <td>2.897563</td>\n",
       "      <td>3.558201</td>\n",
       "      <td>4.360024</td>\n",
       "      <td>4.856940</td>\n",
       "      <td>2.134166</td>\n",
       "      <td>2.894253</td>\n",
       "      <td>3.065725</td>\n",
       "      <td>3.210720</td>\n",
       "      <td>3.660223</td>\n",
       "      <td>2.208274</td>\n",
       "      <td>2.872354</td>\n",
       "      <td>3.089678</td>\n",
       "      <td>3.217234</td>\n",
       "      <td>3.477232</td>\n",
       "      <td>2.134166</td>\n",
       "      <td>2.894253</td>\n",
       "      <td>3.065725</td>\n",
       "      <td>3.210720</td>\n",
       "      <td>3.660223</td>\n",
       "      <td>2.208274</td>\n",
       "      <td>3.222469</td>\n",
       "      <td>3.660223</td>\n",
       "      <td>4.023564</td>\n",
       "      <td>5.049856</td>\n",
       "      <td>2.208274</td>\n",
       "      <td>2.872354</td>\n",
       "      <td>3.089678</td>\n",
       "      <td>3.217234</td>\n",
       "      <td>3.477232</td>\n",
       "      <td>2.134166</td>\n",
       "      <td>2.894253</td>\n",
       "      <td>3.065725</td>\n",
       "      <td>3.210720</td>\n",
       "      <td>3.660223</td>\n",
       "      <td>2.208274</td>\n",
       "      <td>2.872354</td>\n",
       "      <td>3.089678</td>\n",
       "      <td>3.217234</td>\n",
       "      <td>3.477232</td>\n",
       "      <td>2.208274</td>\n",
       "      <td>2.872354</td>\n",
       "      <td>3.089678</td>\n",
       "      <td>3.217234</td>\n",
       "      <td>3.477232</td>\n",
       "    </tr>\n",
       "  </tbody>\n",
       "</table>\n",
       "</div>"
      ],
      "text/plain": [
       "   생산년도 모델출시년도            브랜드      차량모델명 판매도시 판매구역      주행거리     배기량  \\\n",
       "0  2018   2014          skoda      fabia  KAT  SLA   85231.0   999.0   \n",
       "1  2010   2006         toyota      auris  RKO  SWI  135000.0  1598.0   \n",
       "2  2002   2002  mercedes-benz  clk-klasa  GNI  WIE  255223.0  1796.0   \n",
       "3  2006   2001         nissan    x-trail  EHX  WIE  238000.0  2184.0   \n",
       "4  2007   2007           fiat      bravo  OSW  MAL  251000.0  1910.0   \n",
       "\n",
       "   압축천연가스(CNG)  경유  가솔린  하이브리드  액화석유가스(LPG)        가격 출시년도생산여부 출시이후생산년수  \\\n",
       "0            0   0    1      0            0  3.946231        0        4   \n",
       "1            0   0    1      0            0  3.724970        0        4   \n",
       "2            0   0    1      0            0  2.879760        1        0   \n",
       "3            0   1    0      0            0  2.901422        0        5   \n",
       "4            0   1    0      0            0  2.865054        1        0   \n",
       "\n",
       "  출시이전생산여부 브랜드국적 브랜드대륙명    브랜드_Q0   브랜드_Q25   브랜드_Q50   브랜드_Q75  브랜드_Q100  \\\n",
       "0        0    체코     유럽  0.727549  3.393501  4.057853  4.509072  5.049856   \n",
       "1        0    일본    아시아  0.157004  3.353407  4.000034  4.435212  5.049856   \n",
       "2        0    독일     유럽  1.095273  3.152736  3.785779  4.354655  5.049856   \n",
       "3        0    일본    아시아  1.050822  3.558201  3.923359  4.405499  5.049022   \n",
       "4        0  이탈리아     유럽  1.111858  2.865054  3.529985  4.174387  4.969049   \n",
       "\n",
       "   차량모델명_Q0  차량모델명_Q25  차량모델명_Q50  차량모델명_Q75  차량모델명_Q100   판매구역_Q0  판매구역_Q25  \\\n",
       "0  0.792993   2.933059   3.712352   4.065687    4.830312  0.262364  3.206803   \n",
       "1  2.687167   3.594569   4.112512   4.387075    4.761062  1.095273  3.113071   \n",
       "2  2.250239   3.147165   3.440418   3.627069    4.866534  0.482426  3.089678   \n",
       "3  2.164472   4.368303   4.575844   4.761062    5.049022  0.482426  3.089678   \n",
       "4  2.134166   2.894253   3.065725   3.210720    3.660223  0.732368  3.201526   \n",
       "\n",
       "   판매구역_Q50  판매구역_Q75  판매구역_Q100  모델출시년도_Q0  모델출시년도_Q25  모델출시년도_Q50  \\\n",
       "0  3.773910  4.355041   5.049856   0.157004    4.019486    4.355041   \n",
       "1  3.520461  4.066802   5.049856   1.358409    3.089678    3.348851   \n",
       "2  3.707577  4.296605   5.049856   0.955511    2.453588    2.826722   \n",
       "3  3.707577  4.296605   5.049856   0.955511    2.341806    2.738903   \n",
       "4  3.755837  4.305416   5.049856   1.697449    3.249210    3.626206   \n",
       "\n",
       "   모델출시년도_Q75  모델출시년도_Q100  브랜드_차량모델명_Q0  브랜드_차량모델명_Q25  브랜드_차량모델명_Q50  \\\n",
       "0    4.643140     5.049856      0.792993       2.933059       3.712352   \n",
       "1    3.785779     5.049856      2.687167       3.594569       4.112512   \n",
       "2    3.353407     5.049022      2.250239       3.147165       3.440418   \n",
       "3    3.095125     4.886356      2.164472       4.368303       4.575844   \n",
       "4    3.948741     5.049856      2.134166       2.894253       3.065725   \n",
       "\n",
       "   브랜드_차량모델명_Q75  브랜드_차량모델명_Q100  브랜드_판매구역_Q0  브랜드_판매구역_Q25  브랜드_판매구역_Q50  \\\n",
       "0       4.065687        4.830312     1.137833      3.477232      4.021236   \n",
       "1       4.387075        4.761062     2.134166      3.341912      3.843102   \n",
       "2       3.627069        4.866534     1.118415      3.130263      3.746677   \n",
       "3       4.761062        5.049022     1.291984      3.477232      3.946231   \n",
       "4       3.210720        3.660223     1.570697      2.897563      3.558201   \n",
       "\n",
       "   브랜드_판매구역_Q75  브랜드_판매구역_Q100  브랜드_모델출시년도_Q0  브랜드_모델출시년도_Q25  브랜드_모델출시년도_Q50  \\\n",
       "0      4.525044       5.049856       2.554899        3.843102        4.011868   \n",
       "1      4.286479       5.049022       2.687167        3.253084        3.501043   \n",
       "2      4.334280       5.049022       1.967112        3.152736        3.393501   \n",
       "3      4.321082       4.943569       1.291984        2.261556        2.613740   \n",
       "4      4.360024       4.856940       2.134166        2.894253        3.065725   \n",
       "\n",
       "   브랜드_모델출시년도_Q75  브랜드_모델출시년도_Q100  차량모델명_판매구역_Q0  차량모델명_판매구역_Q25  \\\n",
       "0        4.172385         4.772124       1.137833        2.995955   \n",
       "1        3.785779         4.450503       2.865054        3.356793   \n",
       "2        3.590991         5.049022       2.402430        2.899306   \n",
       "3        2.963725         3.393501       2.901422        4.478367   \n",
       "4        3.210720         3.660223       2.208274        2.872354   \n",
       "\n",
       "   차량모델명_판매구역_Q50  차량모델명_판매구역_Q75  차량모델명_판매구역_Q100  차량모델명_모델출시년도_Q0  \\\n",
       "0        3.814851        4.046554         4.741361         2.554899   \n",
       "1        3.986240        4.276820         4.691990         2.687167   \n",
       "2        3.339677        3.517711         3.629660         2.554899   \n",
       "3        4.668990        4.761358         4.901936         2.164472   \n",
       "4        3.089678        3.217234         3.477232         2.134166   \n",
       "\n",
       "   차량모델명_모델출시년도_Q25  차량모델명_모델출시년도_Q50  차량모델명_모델출시년도_Q75  차량모델명_모델출시년도_Q100  \\\n",
       "0          3.843102          4.011868          4.172385           4.772124   \n",
       "1          3.201526          3.353407          3.594569           4.173156   \n",
       "2          3.253084          3.480932          3.660223           4.866534   \n",
       "3          2.879654          2.963725          3.130247           3.393501   \n",
       "4          2.894253          3.065725          3.210720           3.660223   \n",
       "\n",
       "   판매구역_모델출시년도_Q0  판매구역_모델출시년도_Q25  판매구역_모델출시년도_Q50  판매구역_모델출시년도_Q75  \\\n",
       "0        3.287655         3.984523         4.322807         4.617790   \n",
       "1        2.277267         3.127414         3.353407         3.782821   \n",
       "2        1.175573         2.354152         2.721953         3.232779   \n",
       "3        1.291984         2.193886         2.497726         2.827314   \n",
       "4        2.208274         3.222469         3.660223         4.023564   \n",
       "\n",
       "   판매구역_모델출시년도_Q100  브랜드_차량모델명_판매구역_Q0  브랜드_차량모델명_판매구역_Q25  \\\n",
       "0          5.049856           1.137833            2.995955   \n",
       "1          4.826712           2.865054            3.356793   \n",
       "2          4.631812           2.402430            2.899306   \n",
       "3          4.172385           2.901422            4.478367   \n",
       "4          5.049856           2.208274            2.872354   \n",
       "\n",
       "   브랜드_차량모델명_판매구역_Q50  브랜드_차량모델명_판매구역_Q75  브랜드_차량모델명_판매구역_Q100  \\\n",
       "0            3.814851            4.046554             4.741361   \n",
       "1            3.986240            4.276820             4.691990   \n",
       "2            3.339677            3.517711             3.629660   \n",
       "3            4.668990            4.761358             4.901936   \n",
       "4            3.089678            3.217234             3.477232   \n",
       "\n",
       "   브랜드_차량모델명_모델출시년도_Q0  브랜드_차량모델명_모델출시년도_Q25  브랜드_차량모델명_모델출시년도_Q50  \\\n",
       "0             2.554899              3.843102              4.011868   \n",
       "1             2.687167              3.201526              3.353407   \n",
       "2             2.554899              3.253084              3.480932   \n",
       "3             2.164472              2.879654              2.963725   \n",
       "4             2.134166              2.894253              3.065725   \n",
       "\n",
       "   브랜드_차량모델명_모델출시년도_Q75  브랜드_차량모델명_모델출시년도_Q100  브랜드_판매구역_모델출시년도_Q0  \\\n",
       "0              4.172385               4.772124            3.520461   \n",
       "1              3.594569               4.173156            2.865054   \n",
       "2              3.660223               4.866534            2.513656   \n",
       "3              3.130247               3.393501            1.291984   \n",
       "4              3.210720               3.660223            2.208274   \n",
       "\n",
       "   브랜드_판매구역_모델출시년도_Q25  브랜드_판매구역_모델출시년도_Q50  브랜드_판매구역_모델출시년도_Q75  \\\n",
       "0             3.864403             3.962369             4.120439   \n",
       "1             3.318510             3.606977             3.932255   \n",
       "2             3.174346             3.397524             3.516607   \n",
       "3             2.350294             2.501657             2.934804   \n",
       "4             2.872354             3.089678             3.217234   \n",
       "\n",
       "   브랜드_판매구역_모델출시년도_Q100  차량모델명_판매구역_모델출시년도_Q0  차량모델명_판매구역_모델출시년도_Q25  \\\n",
       "0              4.639378              3.520461               3.864403   \n",
       "1              4.450503              2.865054               3.144356   \n",
       "2              4.154185              2.554899               3.145882   \n",
       "3              3.201526              2.901422               2.968187   \n",
       "4              3.477232              2.208274               2.872354   \n",
       "\n",
       "   차량모델명_판매구역_모델출시년도_Q50  차량모델명_판매구역_모델출시년도_Q75  차량모델명_판매구역_모델출시년도_Q100  \n",
       "0               3.962369               4.120439                4.639378  \n",
       "1               3.341912               3.632507                4.021236  \n",
       "2               3.392547               3.568935                3.629660  \n",
       "3               3.034953               3.118240                3.201526  \n",
       "4               3.089678               3.217234                3.477232  "
      ]
     },
     "execution_count": 29,
     "metadata": {},
     "output_type": "execute_result"
    }
   ],
   "source": [
    "print(train_df3.shape)\n",
    "train_df3.head()"
   ]
  },
  {
   "cell_type": "markdown",
   "id": "65939305-7703-474a-912d-3841f3eed25d",
   "metadata": {},
   "source": [
    "<br></br>"
   ]
  },
  {
   "cell_type": "markdown",
   "id": "f97f1466-3f68-43ec-a104-181930321dce",
   "metadata": {},
   "source": [
    "# EDA"
   ]
  },
  {
   "cell_type": "code",
   "execution_count": 30,
   "id": "4d1e3686-4ea5-4147-a968-4dc93785c50c",
   "metadata": {},
   "outputs": [],
   "source": [
    "# check_num_features = [col for col in num_features if col.find('_Q')<0]\n",
    "\n",
    "# i=0\n",
    "# for col in check_num_features:\n",
    "#     i+=1\n",
    "#     print('\\n({}/{}) {}'.format(i,len(check_num_features),col))\n",
    "#     plt.figure(figsize=(15,7))\n",
    "#     sns.scatterplot(x=train_df3['가격'],y=train_df3[col])\n",
    "#     plt.show()"
   ]
  },
  {
   "cell_type": "markdown",
   "id": "6920fd41-52ab-4de1-82a4-d9a5b28a4346",
   "metadata": {},
   "source": [
    "<br></br>"
   ]
  },
  {
   "cell_type": "markdown",
   "id": "8c6171ab-e115-43a0-906e-ea644ee74b86",
   "metadata": {},
   "source": [
    "# Add the Interaction Term"
   ]
  },
  {
   "cell_type": "code",
   "execution_count": 31,
   "id": "2c35453f-0aae-4d1c-b034-f47a24ec1798",
   "metadata": {},
   "outputs": [],
   "source": [
    "import warnings\n",
    "from tqdm import trange\n",
    "\n",
    "def get_abs_corr(x,y):\n",
    "    return np.abs(np.corrcoef(x,y))[0,1]\n",
    "\n",
    "class InteractionTerm:\n",
    "    def __init__(self):\n",
    "        pass\n",
    "    \n",
    "    def fit(self,data,num_features,corr_cutoff=0.7):\n",
    "        warnings.simplefilter(action='ignore', category=pd.errors.PerformanceWarning)\n",
    "        \n",
    "        d = data.copy()\n",
    "        self.interaction_list = []\n",
    "        total_cnt = 0\n",
    "        add_cnt = 0\n",
    "        for i in range(len(num_features)):\n",
    "            for j in range(len(num_features)):\n",
    "                if i>j:\n",
    "                    total_cnt+=1\n",
    "                    col_i = num_features[i]\n",
    "                    col_j = num_features[j]\n",
    "                    \n",
    "                    # 상관계수가 cutoff보다 큰 경우에는 interaction을 생성하지 않음\n",
    "                    if (get_abs_corr(d[col_i]*d[col_j],d[col_i])>=corr_cutoff) | (get_abs_corr(d[col_i]*d[col_j],d[col_j])>=corr_cutoff):\n",
    "                        pass\n",
    "                    else:\n",
    "                        self.interaction_list.append(f'{col_i}*{col_j}')\n",
    "                        add_cnt+=1\n",
    "        print('> Total Interaction Term: {}'.format(total_cnt))\n",
    "        print('> Added Interaction Term: {}'.format(add_cnt))\n",
    "    \n",
    "    def transform(self,data):\n",
    "        d = data.copy()\n",
    "        for interaction in self.interaction_list:\n",
    "            col_i,col_j = interaction.split('*')\n",
    "            d[interaction] = d[col_i]*d[col_j]\n",
    "        return d\n",
    "    \n",
    "    def fit_transform(self,data,num_features,corr_cutoff=0.7):\n",
    "        self.fit(data,num_features,corr_cutoff)\n",
    "        return self.transform(data)"
   ]
  },
  {
   "cell_type": "code",
   "execution_count": 32,
   "id": "e973e0f2-e229-493c-9ad0-a42c086a35f5",
   "metadata": {},
   "outputs": [],
   "source": [
    "train_df4 = train_df3.copy()\n",
    "test_df4  = test_df3.copy()\n",
    "\n",
    "if CFG.INTERACTION:\n",
    "    interaction_maker = InteractionTerm()\n",
    "    interaction_maker.fit(\n",
    "        data=train_df3,\n",
    "        num_features=num_features,\n",
    "        corr_cutoff=0.85,\n",
    "    )\n",
    "    train_df4 = interaction_maker.transform(train_df4)\n",
    "    test_df4  = interaction_maker.transform(test_df4)\n",
    "\n",
    "    type_resetor = TypeResetting()\n",
    "    type_resetor.add_categorical_features(fe.new_cat_features)\n",
    "    type_resetor.fit(train_df4)\n",
    "    type_resetor.get_feature_type()\n",
    "\n",
    "    train_df4 = type_resetor.transform(train_df4)\n",
    "    test_df4  = type_resetor.transform(test_df4)"
   ]
  },
  {
   "cell_type": "code",
   "execution_count": 33,
   "id": "32176fac-c38a-411b-b9b0-f894334a6732",
   "metadata": {},
   "outputs": [
    {
     "data": {
      "text/plain": [
       "((57920, 89), (57920, 89))"
      ]
     },
     "execution_count": 33,
     "metadata": {},
     "output_type": "execute_result"
    }
   ],
   "source": [
    "train_df3.shape,train_df4.shape"
   ]
  },
  {
   "cell_type": "markdown",
   "id": "c3732aa9-e9d7-41d5-8e8c-667699fe5a30",
   "metadata": {},
   "source": [
    "<br></br>"
   ]
  },
  {
   "cell_type": "markdown",
   "id": "eec950f8-0d43-4b9a-97ed-6feac553dba3",
   "metadata": {},
   "source": [
    "# Feature Selection"
   ]
  },
  {
   "cell_type": "code",
   "execution_count": 34,
   "id": "880a07b7-5116-410a-a6d0-0d2c50b151b3",
   "metadata": {},
   "outputs": [],
   "source": [
    "# k=0\n",
    "# for i in range(len(num_features)):\n",
    "#     for j in range(len(num_features)):\n",
    "#         if i>j:\n",
    "#             col_i = num_features[i]\n",
    "#             col_j = num_features[j]\n",
    "#             corr = np.corrcoef(train_df4[col_i],train_df4[col_j])[0,1]\n",
    "#             if corr>=0.7:\n",
    "#                 k+=1\n",
    "#                 print(k,col_i,col_j,corr)"
   ]
  },
  {
   "cell_type": "code",
   "execution_count": 35,
   "id": "a38e1e0d-3c13-4c6e-81a1-9e18d0f05e9e",
   "metadata": {},
   "outputs": [],
   "source": [
    "def log_offset(x):\n",
    "    if min(x)>0:\n",
    "        offset = 0\n",
    "    elif min(x)==0:\n",
    "        offset = 1e-3\n",
    "    else:\n",
    "        offset = min(x)+1e-3\n",
    "        print('minimum = {:.3f}'.format(min(x)))\n",
    "    return np.log(x+offset)"
   ]
  },
  {
   "cell_type": "markdown",
   "id": "40318716-a92d-459a-9ff7-9c1d262a107d",
   "metadata": {},
   "source": [
    "<br></br>"
   ]
  },
  {
   "cell_type": "markdown",
   "id": "5b8304c3-426d-4a24-89cc-d3c76a5ea249",
   "metadata": {},
   "source": [
    "## Categorical Features"
   ]
  },
  {
   "cell_type": "code",
   "execution_count": 36,
   "id": "e6e1cc67-3282-47c3-ada7-8c7776443b16",
   "metadata": {},
   "outputs": [],
   "source": [
    "# import statsmodels.api as sm\n",
    "from statsmodels.formula.api import ols\n",
    "from statsmodels.stats.anova import anova_lm"
   ]
  },
  {
   "cell_type": "code",
   "execution_count": 37,
   "id": "81d460ab-4868-423a-8f9c-08e0b456ab48",
   "metadata": {},
   "outputs": [
    {
     "name": "stderr",
     "output_type": "stream",
     "text": [
      "100%|██████████| 9/9 [00:05<00:00,  1.64it/s]\n"
     ]
    }
   ],
   "source": [
    "check_cat_features = [col for col in cat_features if train_df4[col].nunique()<=100]\n",
    "\n",
    "# (1) ANOVA를 해서 p-value가 0.05보다 높은 것들 확인\n",
    "pvalue_list = []\n",
    "for col in tqdm(check_cat_features):\n",
    "    d = train_df4[[col,'가격']].rename(columns={col:'feature'})\n",
    "    \n",
    "    model = ols(f'가격 ~ C(feature)',data=d).fit()\n",
    "    pvalue = anova_lm(model).values[0][-1]\n",
    "    pvalue_list.append([col,pvalue])\n",
    "    \n",
    "pvalue_df = pd.DataFrame(pvalue_list,columns=['feature','pvalue'])\\\n",
    "    .sort_values('pvalue',ascending=False)\n",
    "# pvalue_df[pvalue_df.pvalue>=alpha].round(4)"
   ]
  },
  {
   "cell_type": "code",
   "execution_count": 38,
   "id": "90277925-192b-4514-beb0-675a1dddd086",
   "metadata": {},
   "outputs": [
    {
     "name": "stderr",
     "output_type": "stream",
     "text": [
      "0it [00:00, ?it/s]\n"
     ]
    }
   ],
   "source": [
    "# (2) (1)에서 유의하지않은 feature들은 log적용 후에도 유의하지 않으면 제외\n",
    "pvalue_list2 = []\n",
    "unsignificant_features = pvalue_df[pvalue_df.pvalue>CFG.FS_ALPHA].feature.tolist()\n",
    "for col in tqdm(unsignificant_features):\n",
    "    d = train_df4[[col,'target']].rename(columns={col:'feature'})\n",
    "    d['feature'] = log_offset(d['feature'])\n",
    "    \n",
    "    model = ols(f'feature ~ C(target)',data=d).fit()\n",
    "    pvalue = anova_lm(model).values[0][-1]\n",
    "    pvalue_list2.append([col,pvalue])\n",
    "    \n",
    "pvalue_df2 = pd.DataFrame(pvalue_list2,columns=['feature','pvalue'])\\\n",
    "    .sort_values('pvalue',ascending=False)"
   ]
  },
  {
   "cell_type": "code",
   "execution_count": 39,
   "id": "6a33f82a-221e-4c73-a7e1-6edb0aec18f4",
   "metadata": {},
   "outputs": [
    {
     "name": "stdout",
     "output_type": "stream",
     "text": [
      "> delete_features\n",
      "  - length : 0\n",
      "  - feature_name : []\n",
      "\n",
      "> log_features\n",
      "  - length : 0\n",
      "  - feature_name : []\n"
     ]
    }
   ],
   "source": [
    "delete_features = pvalue_df2[pvalue_df2.pvalue> CFG.FS_ALPHA].feature.tolist()\n",
    "log_features    = pvalue_df2[pvalue_df2.pvalue<=CFG.FS_ALPHA].feature.tolist()\n",
    "print('> delete_features')\n",
    "print('  - length : {}'.format(len(delete_features)))\n",
    "print('  - feature_name : {}'.format(delete_features))\n",
    "print('')\n",
    "print('> log_features')\n",
    "print('  - length : {}'.format(len(log_features)))\n",
    "print('  - feature_name : {}'.format(log_features))\n",
    "\n",
    "train_df5 = train_df4.copy()\n",
    "train_df5.drop(delete_features,axis=1,inplace=True)\n",
    "for col in log_features:\n",
    "    train_df5[col] = log_offset(train_df5[col])\n",
    "    \n",
    "test_df5 = test_df4.copy()\n",
    "test_df5.drop(delete_features,axis=1,inplace=True)\n",
    "for col in log_features:\n",
    "    test_df5[col] = log_offset(test_df5[col])"
   ]
  },
  {
   "cell_type": "markdown",
   "id": "4176ea54-23ec-469f-b732-88b6afcac30e",
   "metadata": {},
   "source": [
    "<br>"
   ]
  },
  {
   "cell_type": "markdown",
   "id": "501bbc25-a915-4b50-9fb3-d6689c37a216",
   "metadata": {},
   "source": [
    "## Numerical Features"
   ]
  },
  {
   "cell_type": "code",
   "execution_count": 40,
   "id": "fbb2b20b-bb8e-4081-bdc8-0c121fadbf07",
   "metadata": {},
   "outputs": [],
   "source": [
    "import scipy"
   ]
  },
  {
   "cell_type": "code",
   "execution_count": 41,
   "id": "c13b45c5-3c59-404e-bb14-b023dad4705b",
   "metadata": {},
   "outputs": [
    {
     "name": "stderr",
     "output_type": "stream",
     "text": [
      "100%|██████████| 72/72 [00:01<00:00, 65.99it/s]\n"
     ]
    }
   ],
   "source": [
    "# (1) corr test를 해서 p-value가 0.05보다 높은 것들 확인\n",
    "pvalue_list = []\n",
    "for col in tqdm(num_features):\n",
    "    corr,pvalue = scipy.stats.pearsonr(train_df5['가격'],train_df5[col])\n",
    "    pvalue_list.append([col,pvalue])\n",
    "pvalue_df = pd.DataFrame(pvalue_list,columns=['feature','pvalue'])\\\n",
    "    .sort_values('pvalue',ascending=False)\n",
    "# pvalue_df.round(4).head()"
   ]
  },
  {
   "cell_type": "code",
   "execution_count": 42,
   "id": "d178a263-70c2-4a52-9974-fa45e9dd5f96",
   "metadata": {},
   "outputs": [
    {
     "name": "stderr",
     "output_type": "stream",
     "text": [
      "0it [00:00, ?it/s]\n"
     ]
    }
   ],
   "source": [
    "# (2) (1)에서 유의하지않은 feature들은 log적용 후에도 유의하지 않으면 제외\n",
    "pvalue_list2 = []\n",
    "unsignificant_features = pvalue_df[pvalue_df.pvalue>CFG.FS_ALPHA].feature.tolist()\n",
    "for col in tqdm(unsignificant_features):\n",
    "    corr,pvalue = scipy.stats.pearsonr(train_df5['가격'],log_offset(train_df5[col]))\n",
    "    pvalue_list2.append([col,pvalue])\n",
    "pvalue_df2 = pd.DataFrame(pvalue_list2,columns=['feature','pvalue'])\\\n",
    "    .sort_values('pvalue',ascending=False)\n",
    "# pvalue_df2.round(4).head()"
   ]
  },
  {
   "cell_type": "code",
   "execution_count": 43,
   "id": "cc6bc35c-24f3-4e04-89ae-2a0c6db4deb5",
   "metadata": {},
   "outputs": [
    {
     "name": "stdout",
     "output_type": "stream",
     "text": [
      "> delete_features\n",
      "  - length : 0\n",
      "  - feature_name : []\n",
      "\n",
      "> log_features\n",
      "  - length : 0\n",
      "  - feature_name : []\n"
     ]
    }
   ],
   "source": [
    "delete_features = pvalue_df2[pvalue_df2.pvalue> CFG.FS_ALPHA].feature.tolist()\n",
    "log_features    = pvalue_df2[pvalue_df2.pvalue<=CFG.FS_ALPHA].feature.tolist()\n",
    "print('> delete_features')\n",
    "print('  - length : {}'.format(len(delete_features)))\n",
    "print('  - feature_name : {}'.format(delete_features))\n",
    "print('')\n",
    "print('> log_features')\n",
    "print('  - length : {}'.format(len(log_features)))\n",
    "print('  - feature_name : {}'.format(log_features))\n",
    "\n",
    "train_df6 = train_df5.copy()\n",
    "train_df6.drop(delete_features,axis=1,inplace=True)\n",
    "for col in log_features:\n",
    "    train_df6[col] = log_offset(train_df6[col])\n",
    "    \n",
    "test_df6 = test_df5.copy()\n",
    "test_df6.drop(delete_features,axis=1,inplace=True)\n",
    "for col in log_features:\n",
    "    test_df6[col] = log_offset(test_df6[col])"
   ]
  },
  {
   "cell_type": "markdown",
   "id": "79601117-685e-475d-84b6-0706f876e338",
   "metadata": {},
   "source": [
    "<br></br>"
   ]
  },
  {
   "cell_type": "markdown",
   "id": "508b9354-bcc6-448c-969a-e13259c63768",
   "metadata": {},
   "source": [
    "# Make Segment"
   ]
  },
  {
   "cell_type": "code",
   "execution_count": 44,
   "id": "79d59204-cd48-463d-9d66-f6cdeb958d0d",
   "metadata": {},
   "outputs": [],
   "source": [
    "def make_segment(data,segment: list):\n",
    "    d = data.copy()\n",
    "    d['segment'] = d[segment].apply(lambda x: '___'.join(x),axis=1)\n",
    "    d.drop(columns=segment,inplace=True)\n",
    "    return d"
   ]
  },
  {
   "cell_type": "code",
   "execution_count": 45,
   "id": "af98b30f-f615-4098-ad04-dc19a06e19db",
   "metadata": {},
   "outputs": [],
   "source": [
    "segment = ['브랜드','판매구역']\n",
    "train_df7 = make_segment(train_df6,segment)\n",
    "test_df7  = make_segment(test_df6 ,segment)"
   ]
  },
  {
   "cell_type": "code",
   "execution_count": 46,
   "id": "f5335ebd-d436-4ef0-aa8a-9652f0b42edd",
   "metadata": {},
   "outputs": [],
   "source": [
    "test_only = list(set(test_df7.segment.unique())-set(train_df7.segment.unique()))\n",
    "assert len(test_only)==0, \\\n",
    "    \"Segment exists only in the test set ({})\".format(len(test_only))"
   ]
  },
  {
   "cell_type": "code",
   "execution_count": 47,
   "id": "22f864e5-c30e-41e1-b3bf-45e6a561dcd3",
   "metadata": {},
   "outputs": [
    {
     "name": "stdout",
     "output_type": "stream",
     "text": [
      "> Train에만 존재하는 Segment 제거\n",
      " - 데이터수 : 57,920 -> 57,871\n",
      " - 세그먼트수 : 320\n"
     ]
    }
   ],
   "source": [
    "train_only = list(set(train_df7['segment'].unique())-set(test_df7['segment'].unique()))\n",
    "\n",
    "n_asis = len(train_df7)\n",
    "n_tobe = len(train_df7[~train_df7.segment.isin(train_only)])\n",
    "train_df7 = train_df7[~train_df7.segment.isin(train_only)]\n",
    "print('> Train에만 존재하는 Segment 제거')\n",
    "print(' - 데이터수 : {:,} -> {:,}'.format(n_asis,n_tobe))\n",
    "print(' - 세그먼트수 : {:,}'.format(train_df7['segment'].nunique()))"
   ]
  },
  {
   "cell_type": "code",
   "execution_count": 48,
   "id": "4579bed8-088d-46c0-b69a-72cad7028995",
   "metadata": {},
   "outputs": [
    {
     "data": {
      "text/plain": [
       "segment\n",
       "mitsubishi___WAR    7\n",
       "volkswagen___MOR    8\n",
       "skoda___MOR         8\n",
       "peugeot___OPO       9\n",
       "fiat___POL          9\n",
       "Name: count, dtype: int64"
      ]
     },
     "metadata": {},
     "output_type": "display_data"
    },
    {
     "name": "stdout",
     "output_type": "stream",
     "text": [
      "...\n"
     ]
    },
    {
     "data": {
      "text/plain": [
       "segment\n",
       "opel___SLA    1025\n",
       "ford___MAZ    1040\n",
       "bmw___MAZ     1043\n",
       "audi___MAZ    1107\n",
       "opel___MAZ    1203\n",
       "Name: count, dtype: int64"
      ]
     },
     "metadata": {},
     "output_type": "display_data"
    }
   ],
   "source": [
    "vc = train_df7['segment'].value_counts().sort_values()\n",
    "display(vc.head())\n",
    "print('...')\n",
    "display(vc.tail())"
   ]
  },
  {
   "cell_type": "code",
   "execution_count": 49,
   "id": "caffe72a-8ac5-4cb9-81c6-8a778faa2a2d",
   "metadata": {},
   "outputs": [],
   "source": [
    "type_resetor = TypeResetting()\n",
    "type_resetor.add_categorical_features(fe.new_cat_features)\n",
    "type_resetor.add_segment_features(segment)\n",
    "type_resetor.fit(train_df7)\n",
    "type_resetor.get_feature_type()\n",
    "\n",
    "train_df7 = type_resetor.transform(train_df7)\n",
    "test_df7  = type_resetor.transform(test_df7)"
   ]
  },
  {
   "cell_type": "code",
   "execution_count": 50,
   "id": "5b6938ef-7438-4e29-9b63-f8b45ae27180",
   "metadata": {},
   "outputs": [
    {
     "data": {
      "text/plain": [
       "['차량모델명',\n",
       " '판매도시',\n",
       " '생산년도',\n",
       " '모델출시년도',\n",
       " '출시년도생산여부',\n",
       " '출시이후생산년수',\n",
       " '출시이전생산여부',\n",
       " '브랜드국적',\n",
       " '브랜드대륙명']"
      ]
     },
     "execution_count": 50,
     "metadata": {},
     "output_type": "execute_result"
    }
   ],
   "source": [
    "cat_features"
   ]
  },
  {
   "cell_type": "code",
   "execution_count": 51,
   "id": "ea57f4f5-bdd5-41f9-a2ea-832514b6bc42",
   "metadata": {},
   "outputs": [
    {
     "name": "stdout",
     "output_type": "stream",
     "text": [
      "(57871, 88)\n"
     ]
    },
    {
     "data": {
      "text/html": [
       "<div>\n",
       "<style scoped>\n",
       "    .dataframe tbody tr th:only-of-type {\n",
       "        vertical-align: middle;\n",
       "    }\n",
       "\n",
       "    .dataframe tbody tr th {\n",
       "        vertical-align: top;\n",
       "    }\n",
       "\n",
       "    .dataframe thead th {\n",
       "        text-align: right;\n",
       "    }\n",
       "</style>\n",
       "<table border=\"1\" class=\"dataframe\">\n",
       "  <thead>\n",
       "    <tr style=\"text-align: right;\">\n",
       "      <th></th>\n",
       "      <th>생산년도</th>\n",
       "      <th>모델출시년도</th>\n",
       "      <th>차량모델명</th>\n",
       "      <th>판매도시</th>\n",
       "      <th>주행거리</th>\n",
       "      <th>배기량</th>\n",
       "      <th>압축천연가스(CNG)</th>\n",
       "      <th>경유</th>\n",
       "      <th>가솔린</th>\n",
       "      <th>하이브리드</th>\n",
       "      <th>액화석유가스(LPG)</th>\n",
       "      <th>가격</th>\n",
       "      <th>출시년도생산여부</th>\n",
       "      <th>출시이후생산년수</th>\n",
       "      <th>출시이전생산여부</th>\n",
       "      <th>브랜드국적</th>\n",
       "      <th>브랜드대륙명</th>\n",
       "      <th>브랜드_Q0</th>\n",
       "      <th>브랜드_Q25</th>\n",
       "      <th>브랜드_Q50</th>\n",
       "      <th>브랜드_Q75</th>\n",
       "      <th>브랜드_Q100</th>\n",
       "      <th>차량모델명_Q0</th>\n",
       "      <th>차량모델명_Q25</th>\n",
       "      <th>차량모델명_Q50</th>\n",
       "      <th>차량모델명_Q75</th>\n",
       "      <th>차량모델명_Q100</th>\n",
       "      <th>판매구역_Q0</th>\n",
       "      <th>판매구역_Q25</th>\n",
       "      <th>판매구역_Q50</th>\n",
       "      <th>판매구역_Q75</th>\n",
       "      <th>판매구역_Q100</th>\n",
       "      <th>모델출시년도_Q0</th>\n",
       "      <th>모델출시년도_Q25</th>\n",
       "      <th>모델출시년도_Q50</th>\n",
       "      <th>모델출시년도_Q75</th>\n",
       "      <th>모델출시년도_Q100</th>\n",
       "      <th>브랜드_차량모델명_Q0</th>\n",
       "      <th>브랜드_차량모델명_Q25</th>\n",
       "      <th>브랜드_차량모델명_Q50</th>\n",
       "      <th>브랜드_차량모델명_Q75</th>\n",
       "      <th>브랜드_차량모델명_Q100</th>\n",
       "      <th>브랜드_판매구역_Q0</th>\n",
       "      <th>브랜드_판매구역_Q25</th>\n",
       "      <th>브랜드_판매구역_Q50</th>\n",
       "      <th>브랜드_판매구역_Q75</th>\n",
       "      <th>브랜드_판매구역_Q100</th>\n",
       "      <th>브랜드_모델출시년도_Q0</th>\n",
       "      <th>브랜드_모델출시년도_Q25</th>\n",
       "      <th>브랜드_모델출시년도_Q50</th>\n",
       "      <th>브랜드_모델출시년도_Q75</th>\n",
       "      <th>브랜드_모델출시년도_Q100</th>\n",
       "      <th>차량모델명_판매구역_Q0</th>\n",
       "      <th>차량모델명_판매구역_Q25</th>\n",
       "      <th>차량모델명_판매구역_Q50</th>\n",
       "      <th>차량모델명_판매구역_Q75</th>\n",
       "      <th>차량모델명_판매구역_Q100</th>\n",
       "      <th>차량모델명_모델출시년도_Q0</th>\n",
       "      <th>차량모델명_모델출시년도_Q25</th>\n",
       "      <th>차량모델명_모델출시년도_Q50</th>\n",
       "      <th>차량모델명_모델출시년도_Q75</th>\n",
       "      <th>차량모델명_모델출시년도_Q100</th>\n",
       "      <th>판매구역_모델출시년도_Q0</th>\n",
       "      <th>판매구역_모델출시년도_Q25</th>\n",
       "      <th>판매구역_모델출시년도_Q50</th>\n",
       "      <th>판매구역_모델출시년도_Q75</th>\n",
       "      <th>판매구역_모델출시년도_Q100</th>\n",
       "      <th>브랜드_차량모델명_판매구역_Q0</th>\n",
       "      <th>브랜드_차량모델명_판매구역_Q25</th>\n",
       "      <th>브랜드_차량모델명_판매구역_Q50</th>\n",
       "      <th>브랜드_차량모델명_판매구역_Q75</th>\n",
       "      <th>브랜드_차량모델명_판매구역_Q100</th>\n",
       "      <th>브랜드_차량모델명_모델출시년도_Q0</th>\n",
       "      <th>브랜드_차량모델명_모델출시년도_Q25</th>\n",
       "      <th>브랜드_차량모델명_모델출시년도_Q50</th>\n",
       "      <th>브랜드_차량모델명_모델출시년도_Q75</th>\n",
       "      <th>브랜드_차량모델명_모델출시년도_Q100</th>\n",
       "      <th>브랜드_판매구역_모델출시년도_Q0</th>\n",
       "      <th>브랜드_판매구역_모델출시년도_Q25</th>\n",
       "      <th>브랜드_판매구역_모델출시년도_Q50</th>\n",
       "      <th>브랜드_판매구역_모델출시년도_Q75</th>\n",
       "      <th>브랜드_판매구역_모델출시년도_Q100</th>\n",
       "      <th>차량모델명_판매구역_모델출시년도_Q0</th>\n",
       "      <th>차량모델명_판매구역_모델출시년도_Q25</th>\n",
       "      <th>차량모델명_판매구역_모델출시년도_Q50</th>\n",
       "      <th>차량모델명_판매구역_모델출시년도_Q75</th>\n",
       "      <th>차량모델명_판매구역_모델출시년도_Q100</th>\n",
       "      <th>segment</th>\n",
       "    </tr>\n",
       "  </thead>\n",
       "  <tbody>\n",
       "    <tr>\n",
       "      <th>0</th>\n",
       "      <td>2018</td>\n",
       "      <td>2014</td>\n",
       "      <td>fabia</td>\n",
       "      <td>KAT</td>\n",
       "      <td>85231.0</td>\n",
       "      <td>999.0</td>\n",
       "      <td>0</td>\n",
       "      <td>0</td>\n",
       "      <td>1</td>\n",
       "      <td>0</td>\n",
       "      <td>0</td>\n",
       "      <td>3.946231</td>\n",
       "      <td>0</td>\n",
       "      <td>4</td>\n",
       "      <td>0</td>\n",
       "      <td>체코</td>\n",
       "      <td>유럽</td>\n",
       "      <td>0.727549</td>\n",
       "      <td>3.393501</td>\n",
       "      <td>4.057853</td>\n",
       "      <td>4.509072</td>\n",
       "      <td>5.049856</td>\n",
       "      <td>0.792993</td>\n",
       "      <td>2.933059</td>\n",
       "      <td>3.712352</td>\n",
       "      <td>4.065687</td>\n",
       "      <td>4.830312</td>\n",
       "      <td>0.262364</td>\n",
       "      <td>3.206803</td>\n",
       "      <td>3.773910</td>\n",
       "      <td>4.355041</td>\n",
       "      <td>5.049856</td>\n",
       "      <td>0.157004</td>\n",
       "      <td>4.019486</td>\n",
       "      <td>4.355041</td>\n",
       "      <td>4.643140</td>\n",
       "      <td>5.049856</td>\n",
       "      <td>0.792993</td>\n",
       "      <td>2.933059</td>\n",
       "      <td>3.712352</td>\n",
       "      <td>4.065687</td>\n",
       "      <td>4.830312</td>\n",
       "      <td>1.137833</td>\n",
       "      <td>3.477232</td>\n",
       "      <td>4.021236</td>\n",
       "      <td>4.525044</td>\n",
       "      <td>5.049856</td>\n",
       "      <td>2.554899</td>\n",
       "      <td>3.843102</td>\n",
       "      <td>4.011868</td>\n",
       "      <td>4.172385</td>\n",
       "      <td>4.772124</td>\n",
       "      <td>1.137833</td>\n",
       "      <td>2.995955</td>\n",
       "      <td>3.814851</td>\n",
       "      <td>4.046554</td>\n",
       "      <td>4.741361</td>\n",
       "      <td>2.554899</td>\n",
       "      <td>3.843102</td>\n",
       "      <td>4.011868</td>\n",
       "      <td>4.172385</td>\n",
       "      <td>4.772124</td>\n",
       "      <td>3.287655</td>\n",
       "      <td>3.984523</td>\n",
       "      <td>4.322807</td>\n",
       "      <td>4.617790</td>\n",
       "      <td>5.049856</td>\n",
       "      <td>1.137833</td>\n",
       "      <td>2.995955</td>\n",
       "      <td>3.814851</td>\n",
       "      <td>4.046554</td>\n",
       "      <td>4.741361</td>\n",
       "      <td>2.554899</td>\n",
       "      <td>3.843102</td>\n",
       "      <td>4.011868</td>\n",
       "      <td>4.172385</td>\n",
       "      <td>4.772124</td>\n",
       "      <td>3.520461</td>\n",
       "      <td>3.864403</td>\n",
       "      <td>3.962369</td>\n",
       "      <td>4.120439</td>\n",
       "      <td>4.639378</td>\n",
       "      <td>3.520461</td>\n",
       "      <td>3.864403</td>\n",
       "      <td>3.962369</td>\n",
       "      <td>4.120439</td>\n",
       "      <td>4.639378</td>\n",
       "      <td>skoda___SLA</td>\n",
       "    </tr>\n",
       "    <tr>\n",
       "      <th>1</th>\n",
       "      <td>2010</td>\n",
       "      <td>2006</td>\n",
       "      <td>auris</td>\n",
       "      <td>RKO</td>\n",
       "      <td>135000.0</td>\n",
       "      <td>1598.0</td>\n",
       "      <td>0</td>\n",
       "      <td>0</td>\n",
       "      <td>1</td>\n",
       "      <td>0</td>\n",
       "      <td>0</td>\n",
       "      <td>3.724970</td>\n",
       "      <td>0</td>\n",
       "      <td>4</td>\n",
       "      <td>0</td>\n",
       "      <td>일본</td>\n",
       "      <td>아시아</td>\n",
       "      <td>0.157004</td>\n",
       "      <td>3.353407</td>\n",
       "      <td>4.000034</td>\n",
       "      <td>4.435212</td>\n",
       "      <td>5.049856</td>\n",
       "      <td>2.687167</td>\n",
       "      <td>3.594569</td>\n",
       "      <td>4.112512</td>\n",
       "      <td>4.387075</td>\n",
       "      <td>4.761062</td>\n",
       "      <td>1.095273</td>\n",
       "      <td>3.113071</td>\n",
       "      <td>3.520461</td>\n",
       "      <td>4.066802</td>\n",
       "      <td>5.049856</td>\n",
       "      <td>1.358409</td>\n",
       "      <td>3.089678</td>\n",
       "      <td>3.348851</td>\n",
       "      <td>3.785779</td>\n",
       "      <td>5.049856</td>\n",
       "      <td>2.687167</td>\n",
       "      <td>3.594569</td>\n",
       "      <td>4.112512</td>\n",
       "      <td>4.387075</td>\n",
       "      <td>4.761062</td>\n",
       "      <td>2.134166</td>\n",
       "      <td>3.341912</td>\n",
       "      <td>3.843102</td>\n",
       "      <td>4.286479</td>\n",
       "      <td>5.049022</td>\n",
       "      <td>2.687167</td>\n",
       "      <td>3.253084</td>\n",
       "      <td>3.501043</td>\n",
       "      <td>3.785779</td>\n",
       "      <td>4.450503</td>\n",
       "      <td>2.865054</td>\n",
       "      <td>3.356793</td>\n",
       "      <td>3.986240</td>\n",
       "      <td>4.276820</td>\n",
       "      <td>4.691990</td>\n",
       "      <td>2.687167</td>\n",
       "      <td>3.201526</td>\n",
       "      <td>3.353407</td>\n",
       "      <td>3.594569</td>\n",
       "      <td>4.173156</td>\n",
       "      <td>2.277267</td>\n",
       "      <td>3.127414</td>\n",
       "      <td>3.353407</td>\n",
       "      <td>3.782821</td>\n",
       "      <td>4.826712</td>\n",
       "      <td>2.865054</td>\n",
       "      <td>3.356793</td>\n",
       "      <td>3.986240</td>\n",
       "      <td>4.276820</td>\n",
       "      <td>4.691990</td>\n",
       "      <td>2.687167</td>\n",
       "      <td>3.201526</td>\n",
       "      <td>3.353407</td>\n",
       "      <td>3.594569</td>\n",
       "      <td>4.173156</td>\n",
       "      <td>2.865054</td>\n",
       "      <td>3.318510</td>\n",
       "      <td>3.606977</td>\n",
       "      <td>3.932255</td>\n",
       "      <td>4.450503</td>\n",
       "      <td>2.865054</td>\n",
       "      <td>3.144356</td>\n",
       "      <td>3.341912</td>\n",
       "      <td>3.632507</td>\n",
       "      <td>4.021236</td>\n",
       "      <td>toyota___SWI</td>\n",
       "    </tr>\n",
       "    <tr>\n",
       "      <th>2</th>\n",
       "      <td>2002</td>\n",
       "      <td>2002</td>\n",
       "      <td>clk-klasa</td>\n",
       "      <td>GNI</td>\n",
       "      <td>255223.0</td>\n",
       "      <td>1796.0</td>\n",
       "      <td>0</td>\n",
       "      <td>0</td>\n",
       "      <td>1</td>\n",
       "      <td>0</td>\n",
       "      <td>0</td>\n",
       "      <td>2.879760</td>\n",
       "      <td>1</td>\n",
       "      <td>0</td>\n",
       "      <td>0</td>\n",
       "      <td>독일</td>\n",
       "      <td>유럽</td>\n",
       "      <td>1.095273</td>\n",
       "      <td>3.152736</td>\n",
       "      <td>3.785779</td>\n",
       "      <td>4.354655</td>\n",
       "      <td>5.049856</td>\n",
       "      <td>2.250239</td>\n",
       "      <td>3.147165</td>\n",
       "      <td>3.440418</td>\n",
       "      <td>3.627069</td>\n",
       "      <td>4.866534</td>\n",
       "      <td>0.482426</td>\n",
       "      <td>3.089678</td>\n",
       "      <td>3.707577</td>\n",
       "      <td>4.296605</td>\n",
       "      <td>5.049856</td>\n",
       "      <td>0.955511</td>\n",
       "      <td>2.453588</td>\n",
       "      <td>2.826722</td>\n",
       "      <td>3.353407</td>\n",
       "      <td>5.049022</td>\n",
       "      <td>2.250239</td>\n",
       "      <td>3.147165</td>\n",
       "      <td>3.440418</td>\n",
       "      <td>3.627069</td>\n",
       "      <td>4.866534</td>\n",
       "      <td>1.118415</td>\n",
       "      <td>3.130263</td>\n",
       "      <td>3.746677</td>\n",
       "      <td>4.334280</td>\n",
       "      <td>5.049022</td>\n",
       "      <td>1.967112</td>\n",
       "      <td>3.152736</td>\n",
       "      <td>3.393501</td>\n",
       "      <td>3.590991</td>\n",
       "      <td>5.049022</td>\n",
       "      <td>2.402430</td>\n",
       "      <td>2.899306</td>\n",
       "      <td>3.339677</td>\n",
       "      <td>3.517711</td>\n",
       "      <td>3.629660</td>\n",
       "      <td>2.554899</td>\n",
       "      <td>3.253084</td>\n",
       "      <td>3.480932</td>\n",
       "      <td>3.660223</td>\n",
       "      <td>4.866534</td>\n",
       "      <td>1.175573</td>\n",
       "      <td>2.354152</td>\n",
       "      <td>2.721953</td>\n",
       "      <td>3.232779</td>\n",
       "      <td>4.631812</td>\n",
       "      <td>2.402430</td>\n",
       "      <td>2.899306</td>\n",
       "      <td>3.339677</td>\n",
       "      <td>3.517711</td>\n",
       "      <td>3.629660</td>\n",
       "      <td>2.554899</td>\n",
       "      <td>3.253084</td>\n",
       "      <td>3.480932</td>\n",
       "      <td>3.660223</td>\n",
       "      <td>4.866534</td>\n",
       "      <td>2.513656</td>\n",
       "      <td>3.174346</td>\n",
       "      <td>3.397524</td>\n",
       "      <td>3.516607</td>\n",
       "      <td>4.154185</td>\n",
       "      <td>2.554899</td>\n",
       "      <td>3.145882</td>\n",
       "      <td>3.392547</td>\n",
       "      <td>3.568935</td>\n",
       "      <td>3.629660</td>\n",
       "      <td>mercedes-benz___WIE</td>\n",
       "    </tr>\n",
       "    <tr>\n",
       "      <th>3</th>\n",
       "      <td>2006</td>\n",
       "      <td>2001</td>\n",
       "      <td>x-trail</td>\n",
       "      <td>EHX</td>\n",
       "      <td>238000.0</td>\n",
       "      <td>2184.0</td>\n",
       "      <td>0</td>\n",
       "      <td>1</td>\n",
       "      <td>0</td>\n",
       "      <td>0</td>\n",
       "      <td>0</td>\n",
       "      <td>2.901422</td>\n",
       "      <td>0</td>\n",
       "      <td>5</td>\n",
       "      <td>0</td>\n",
       "      <td>일본</td>\n",
       "      <td>아시아</td>\n",
       "      <td>1.050822</td>\n",
       "      <td>3.558201</td>\n",
       "      <td>3.923359</td>\n",
       "      <td>4.405499</td>\n",
       "      <td>5.049022</td>\n",
       "      <td>2.164472</td>\n",
       "      <td>4.368303</td>\n",
       "      <td>4.575844</td>\n",
       "      <td>4.761062</td>\n",
       "      <td>5.049022</td>\n",
       "      <td>0.482426</td>\n",
       "      <td>3.089678</td>\n",
       "      <td>3.707577</td>\n",
       "      <td>4.296605</td>\n",
       "      <td>5.049856</td>\n",
       "      <td>0.955511</td>\n",
       "      <td>2.341806</td>\n",
       "      <td>2.738903</td>\n",
       "      <td>3.095125</td>\n",
       "      <td>4.886356</td>\n",
       "      <td>2.164472</td>\n",
       "      <td>4.368303</td>\n",
       "      <td>4.575844</td>\n",
       "      <td>4.761062</td>\n",
       "      <td>5.049022</td>\n",
       "      <td>1.291984</td>\n",
       "      <td>3.477232</td>\n",
       "      <td>3.946231</td>\n",
       "      <td>4.321082</td>\n",
       "      <td>4.943569</td>\n",
       "      <td>1.291984</td>\n",
       "      <td>2.261556</td>\n",
       "      <td>2.613740</td>\n",
       "      <td>2.963725</td>\n",
       "      <td>3.393501</td>\n",
       "      <td>2.901422</td>\n",
       "      <td>4.478367</td>\n",
       "      <td>4.668990</td>\n",
       "      <td>4.761358</td>\n",
       "      <td>4.901936</td>\n",
       "      <td>2.164472</td>\n",
       "      <td>2.879654</td>\n",
       "      <td>2.963725</td>\n",
       "      <td>3.130247</td>\n",
       "      <td>3.393501</td>\n",
       "      <td>1.291984</td>\n",
       "      <td>2.193886</td>\n",
       "      <td>2.497726</td>\n",
       "      <td>2.827314</td>\n",
       "      <td>4.172385</td>\n",
       "      <td>2.901422</td>\n",
       "      <td>4.478367</td>\n",
       "      <td>4.668990</td>\n",
       "      <td>4.761358</td>\n",
       "      <td>4.901936</td>\n",
       "      <td>2.164472</td>\n",
       "      <td>2.879654</td>\n",
       "      <td>2.963725</td>\n",
       "      <td>3.130247</td>\n",
       "      <td>3.393501</td>\n",
       "      <td>1.291984</td>\n",
       "      <td>2.350294</td>\n",
       "      <td>2.501657</td>\n",
       "      <td>2.934804</td>\n",
       "      <td>3.201526</td>\n",
       "      <td>2.901422</td>\n",
       "      <td>2.968187</td>\n",
       "      <td>3.034953</td>\n",
       "      <td>3.118240</td>\n",
       "      <td>3.201526</td>\n",
       "      <td>nissan___WIE</td>\n",
       "    </tr>\n",
       "    <tr>\n",
       "      <th>4</th>\n",
       "      <td>2007</td>\n",
       "      <td>2007</td>\n",
       "      <td>bravo</td>\n",
       "      <td>OSW</td>\n",
       "      <td>251000.0</td>\n",
       "      <td>1910.0</td>\n",
       "      <td>0</td>\n",
       "      <td>1</td>\n",
       "      <td>0</td>\n",
       "      <td>0</td>\n",
       "      <td>0</td>\n",
       "      <td>2.865054</td>\n",
       "      <td>1</td>\n",
       "      <td>0</td>\n",
       "      <td>0</td>\n",
       "      <td>이탈리아</td>\n",
       "      <td>유럽</td>\n",
       "      <td>1.111858</td>\n",
       "      <td>2.865054</td>\n",
       "      <td>3.529985</td>\n",
       "      <td>4.174387</td>\n",
       "      <td>4.969049</td>\n",
       "      <td>2.134166</td>\n",
       "      <td>2.894253</td>\n",
       "      <td>3.065725</td>\n",
       "      <td>3.210720</td>\n",
       "      <td>3.660223</td>\n",
       "      <td>0.732368</td>\n",
       "      <td>3.201526</td>\n",
       "      <td>3.755837</td>\n",
       "      <td>4.305416</td>\n",
       "      <td>5.049856</td>\n",
       "      <td>1.697449</td>\n",
       "      <td>3.249210</td>\n",
       "      <td>3.626206</td>\n",
       "      <td>3.948741</td>\n",
       "      <td>5.049856</td>\n",
       "      <td>2.134166</td>\n",
       "      <td>2.894253</td>\n",
       "      <td>3.065725</td>\n",
       "      <td>3.210720</td>\n",
       "      <td>3.660223</td>\n",
       "      <td>1.570697</td>\n",
       "      <td>2.897563</td>\n",
       "      <td>3.558201</td>\n",
       "      <td>4.360024</td>\n",
       "      <td>4.856940</td>\n",
       "      <td>2.134166</td>\n",
       "      <td>2.894253</td>\n",
       "      <td>3.065725</td>\n",
       "      <td>3.210720</td>\n",
       "      <td>3.660223</td>\n",
       "      <td>2.208274</td>\n",
       "      <td>2.872354</td>\n",
       "      <td>3.089678</td>\n",
       "      <td>3.217234</td>\n",
       "      <td>3.477232</td>\n",
       "      <td>2.134166</td>\n",
       "      <td>2.894253</td>\n",
       "      <td>3.065725</td>\n",
       "      <td>3.210720</td>\n",
       "      <td>3.660223</td>\n",
       "      <td>2.208274</td>\n",
       "      <td>3.222469</td>\n",
       "      <td>3.660223</td>\n",
       "      <td>4.023564</td>\n",
       "      <td>5.049856</td>\n",
       "      <td>2.208274</td>\n",
       "      <td>2.872354</td>\n",
       "      <td>3.089678</td>\n",
       "      <td>3.217234</td>\n",
       "      <td>3.477232</td>\n",
       "      <td>2.134166</td>\n",
       "      <td>2.894253</td>\n",
       "      <td>3.065725</td>\n",
       "      <td>3.210720</td>\n",
       "      <td>3.660223</td>\n",
       "      <td>2.208274</td>\n",
       "      <td>2.872354</td>\n",
       "      <td>3.089678</td>\n",
       "      <td>3.217234</td>\n",
       "      <td>3.477232</td>\n",
       "      <td>2.208274</td>\n",
       "      <td>2.872354</td>\n",
       "      <td>3.089678</td>\n",
       "      <td>3.217234</td>\n",
       "      <td>3.477232</td>\n",
       "      <td>fiat___MAL</td>\n",
       "    </tr>\n",
       "  </tbody>\n",
       "</table>\n",
       "</div>"
      ],
      "text/plain": [
       "   생산년도 모델출시년도      차량모델명 판매도시      주행거리     배기량  압축천연가스(CNG)  경유  가솔린  하이브리드  \\\n",
       "0  2018   2014      fabia  KAT   85231.0   999.0            0   0    1      0   \n",
       "1  2010   2006      auris  RKO  135000.0  1598.0            0   0    1      0   \n",
       "2  2002   2002  clk-klasa  GNI  255223.0  1796.0            0   0    1      0   \n",
       "3  2006   2001    x-trail  EHX  238000.0  2184.0            0   1    0      0   \n",
       "4  2007   2007      bravo  OSW  251000.0  1910.0            0   1    0      0   \n",
       "\n",
       "   액화석유가스(LPG)        가격 출시년도생산여부 출시이후생산년수 출시이전생산여부 브랜드국적 브랜드대륙명    브랜드_Q0  \\\n",
       "0            0  3.946231        0        4        0    체코     유럽  0.727549   \n",
       "1            0  3.724970        0        4        0    일본    아시아  0.157004   \n",
       "2            0  2.879760        1        0        0    독일     유럽  1.095273   \n",
       "3            0  2.901422        0        5        0    일본    아시아  1.050822   \n",
       "4            0  2.865054        1        0        0  이탈리아     유럽  1.111858   \n",
       "\n",
       "    브랜드_Q25   브랜드_Q50   브랜드_Q75  브랜드_Q100  차량모델명_Q0  차량모델명_Q25  차량모델명_Q50  \\\n",
       "0  3.393501  4.057853  4.509072  5.049856  0.792993   2.933059   3.712352   \n",
       "1  3.353407  4.000034  4.435212  5.049856  2.687167   3.594569   4.112512   \n",
       "2  3.152736  3.785779  4.354655  5.049856  2.250239   3.147165   3.440418   \n",
       "3  3.558201  3.923359  4.405499  5.049022  2.164472   4.368303   4.575844   \n",
       "4  2.865054  3.529985  4.174387  4.969049  2.134166   2.894253   3.065725   \n",
       "\n",
       "   차량모델명_Q75  차량모델명_Q100   판매구역_Q0  판매구역_Q25  판매구역_Q50  판매구역_Q75  판매구역_Q100  \\\n",
       "0   4.065687    4.830312  0.262364  3.206803  3.773910  4.355041   5.049856   \n",
       "1   4.387075    4.761062  1.095273  3.113071  3.520461  4.066802   5.049856   \n",
       "2   3.627069    4.866534  0.482426  3.089678  3.707577  4.296605   5.049856   \n",
       "3   4.761062    5.049022  0.482426  3.089678  3.707577  4.296605   5.049856   \n",
       "4   3.210720    3.660223  0.732368  3.201526  3.755837  4.305416   5.049856   \n",
       "\n",
       "   모델출시년도_Q0  모델출시년도_Q25  모델출시년도_Q50  모델출시년도_Q75  모델출시년도_Q100  브랜드_차량모델명_Q0  \\\n",
       "0   0.157004    4.019486    4.355041    4.643140     5.049856      0.792993   \n",
       "1   1.358409    3.089678    3.348851    3.785779     5.049856      2.687167   \n",
       "2   0.955511    2.453588    2.826722    3.353407     5.049022      2.250239   \n",
       "3   0.955511    2.341806    2.738903    3.095125     4.886356      2.164472   \n",
       "4   1.697449    3.249210    3.626206    3.948741     5.049856      2.134166   \n",
       "\n",
       "   브랜드_차량모델명_Q25  브랜드_차량모델명_Q50  브랜드_차량모델명_Q75  브랜드_차량모델명_Q100  브랜드_판매구역_Q0  \\\n",
       "0       2.933059       3.712352       4.065687        4.830312     1.137833   \n",
       "1       3.594569       4.112512       4.387075        4.761062     2.134166   \n",
       "2       3.147165       3.440418       3.627069        4.866534     1.118415   \n",
       "3       4.368303       4.575844       4.761062        5.049022     1.291984   \n",
       "4       2.894253       3.065725       3.210720        3.660223     1.570697   \n",
       "\n",
       "   브랜드_판매구역_Q25  브랜드_판매구역_Q50  브랜드_판매구역_Q75  브랜드_판매구역_Q100  브랜드_모델출시년도_Q0  \\\n",
       "0      3.477232      4.021236      4.525044       5.049856       2.554899   \n",
       "1      3.341912      3.843102      4.286479       5.049022       2.687167   \n",
       "2      3.130263      3.746677      4.334280       5.049022       1.967112   \n",
       "3      3.477232      3.946231      4.321082       4.943569       1.291984   \n",
       "4      2.897563      3.558201      4.360024       4.856940       2.134166   \n",
       "\n",
       "   브랜드_모델출시년도_Q25  브랜드_모델출시년도_Q50  브랜드_모델출시년도_Q75  브랜드_모델출시년도_Q100  \\\n",
       "0        3.843102        4.011868        4.172385         4.772124   \n",
       "1        3.253084        3.501043        3.785779         4.450503   \n",
       "2        3.152736        3.393501        3.590991         5.049022   \n",
       "3        2.261556        2.613740        2.963725         3.393501   \n",
       "4        2.894253        3.065725        3.210720         3.660223   \n",
       "\n",
       "   차량모델명_판매구역_Q0  차량모델명_판매구역_Q25  차량모델명_판매구역_Q50  차량모델명_판매구역_Q75  \\\n",
       "0       1.137833        2.995955        3.814851        4.046554   \n",
       "1       2.865054        3.356793        3.986240        4.276820   \n",
       "2       2.402430        2.899306        3.339677        3.517711   \n",
       "3       2.901422        4.478367        4.668990        4.761358   \n",
       "4       2.208274        2.872354        3.089678        3.217234   \n",
       "\n",
       "   차량모델명_판매구역_Q100  차량모델명_모델출시년도_Q0  차량모델명_모델출시년도_Q25  차량모델명_모델출시년도_Q50  \\\n",
       "0         4.741361         2.554899          3.843102          4.011868   \n",
       "1         4.691990         2.687167          3.201526          3.353407   \n",
       "2         3.629660         2.554899          3.253084          3.480932   \n",
       "3         4.901936         2.164472          2.879654          2.963725   \n",
       "4         3.477232         2.134166          2.894253          3.065725   \n",
       "\n",
       "   차량모델명_모델출시년도_Q75  차량모델명_모델출시년도_Q100  판매구역_모델출시년도_Q0  판매구역_모델출시년도_Q25  \\\n",
       "0          4.172385           4.772124        3.287655         3.984523   \n",
       "1          3.594569           4.173156        2.277267         3.127414   \n",
       "2          3.660223           4.866534        1.175573         2.354152   \n",
       "3          3.130247           3.393501        1.291984         2.193886   \n",
       "4          3.210720           3.660223        2.208274         3.222469   \n",
       "\n",
       "   판매구역_모델출시년도_Q50  판매구역_모델출시년도_Q75  판매구역_모델출시년도_Q100  브랜드_차량모델명_판매구역_Q0  \\\n",
       "0         4.322807         4.617790          5.049856           1.137833   \n",
       "1         3.353407         3.782821          4.826712           2.865054   \n",
       "2         2.721953         3.232779          4.631812           2.402430   \n",
       "3         2.497726         2.827314          4.172385           2.901422   \n",
       "4         3.660223         4.023564          5.049856           2.208274   \n",
       "\n",
       "   브랜드_차량모델명_판매구역_Q25  브랜드_차량모델명_판매구역_Q50  브랜드_차량모델명_판매구역_Q75  \\\n",
       "0            2.995955            3.814851            4.046554   \n",
       "1            3.356793            3.986240            4.276820   \n",
       "2            2.899306            3.339677            3.517711   \n",
       "3            4.478367            4.668990            4.761358   \n",
       "4            2.872354            3.089678            3.217234   \n",
       "\n",
       "   브랜드_차량모델명_판매구역_Q100  브랜드_차량모델명_모델출시년도_Q0  브랜드_차량모델명_모델출시년도_Q25  \\\n",
       "0             4.741361             2.554899              3.843102   \n",
       "1             4.691990             2.687167              3.201526   \n",
       "2             3.629660             2.554899              3.253084   \n",
       "3             4.901936             2.164472              2.879654   \n",
       "4             3.477232             2.134166              2.894253   \n",
       "\n",
       "   브랜드_차량모델명_모델출시년도_Q50  브랜드_차량모델명_모델출시년도_Q75  브랜드_차량모델명_모델출시년도_Q100  \\\n",
       "0              4.011868              4.172385               4.772124   \n",
       "1              3.353407              3.594569               4.173156   \n",
       "2              3.480932              3.660223               4.866534   \n",
       "3              2.963725              3.130247               3.393501   \n",
       "4              3.065725              3.210720               3.660223   \n",
       "\n",
       "   브랜드_판매구역_모델출시년도_Q0  브랜드_판매구역_모델출시년도_Q25  브랜드_판매구역_모델출시년도_Q50  \\\n",
       "0            3.520461             3.864403             3.962369   \n",
       "1            2.865054             3.318510             3.606977   \n",
       "2            2.513656             3.174346             3.397524   \n",
       "3            1.291984             2.350294             2.501657   \n",
       "4            2.208274             2.872354             3.089678   \n",
       "\n",
       "   브랜드_판매구역_모델출시년도_Q75  브랜드_판매구역_모델출시년도_Q100  차량모델명_판매구역_모델출시년도_Q0  \\\n",
       "0             4.120439              4.639378              3.520461   \n",
       "1             3.932255              4.450503              2.865054   \n",
       "2             3.516607              4.154185              2.554899   \n",
       "3             2.934804              3.201526              2.901422   \n",
       "4             3.217234              3.477232              2.208274   \n",
       "\n",
       "   차량모델명_판매구역_모델출시년도_Q25  차량모델명_판매구역_모델출시년도_Q50  차량모델명_판매구역_모델출시년도_Q75  \\\n",
       "0               3.864403               3.962369               4.120439   \n",
       "1               3.144356               3.341912               3.632507   \n",
       "2               3.145882               3.392547               3.568935   \n",
       "3               2.968187               3.034953               3.118240   \n",
       "4               2.872354               3.089678               3.217234   \n",
       "\n",
       "   차량모델명_판매구역_모델출시년도_Q100              segment  \n",
       "0                4.639378          skoda___SLA  \n",
       "1                4.021236         toyota___SWI  \n",
       "2                3.629660  mercedes-benz___WIE  \n",
       "3                3.201526         nissan___WIE  \n",
       "4                3.477232           fiat___MAL  "
      ]
     },
     "execution_count": 51,
     "metadata": {},
     "output_type": "execute_result"
    }
   ],
   "source": [
    "print(train_df7.shape)\n",
    "train_df7.head()"
   ]
  },
  {
   "cell_type": "markdown",
   "id": "2fc32ace-0b1a-4235-b3aa-b834096d6c02",
   "metadata": {},
   "source": [
    "<br></br>"
   ]
  },
  {
   "cell_type": "markdown",
   "id": "1bdebcae-a0db-4e33-8f6a-8d655989d04f",
   "metadata": {},
   "source": [
    "# Modeling"
   ]
  },
  {
   "cell_type": "code",
   "execution_count": 52,
   "id": "330d67f2-4951-4092-aefd-1be42b8577e2",
   "metadata": {},
   "outputs": [],
   "source": [
    "import os\n",
    "def mkdir(paths):\n",
    "    if type(paths)==str:\n",
    "        paths = [paths]\n",
    "    for path in paths:\n",
    "        if not os.path.isdir(path):\n",
    "            print('> Create Folder: {}'.format(path))\n",
    "            os.mkdir(path)"
   ]
  },
  {
   "cell_type": "code",
   "execution_count": 53,
   "id": "4abf1609-fe3f-405b-87e6-76c296a00a1a",
   "metadata": {
    "tags": []
   },
   "outputs": [],
   "source": [
    "## dummy_features는 한가지만 속함\n",
    "# X[dummy_features].apply(lambda x: np.sum(x),axis=1).value_counts()\n",
    "\n",
    "def add_fuel_type(data,dummy_features):\n",
    "    d = data.copy()\n",
    "    d['fuel_type'] = d[dummy_features].apply(\n",
    "        lambda x: dummy_features[np.where(x==1)[0][0]],axis=1)\n",
    "    d.drop(columns=dummy_features,inplace=True)\n",
    "    return d"
   ]
  },
  {
   "cell_type": "code",
   "execution_count": 54,
   "id": "01609cc3-d341-4d8c-9295-45934f1e4c8c",
   "metadata": {},
   "outputs": [],
   "source": [
    "cat_path = 'segment_catboost2'\n",
    "weiens_path = 'segment_weightedensemble2'\n",
    "\n",
    "mkdir(f'./model_checkpoints')\n",
    "mkdir(f'./model_checkpoints/{cat_path}')\n",
    "mkdir(f'./model_checkpoints/{weiens_path}')"
   ]
  },
  {
   "cell_type": "markdown",
   "id": "df4369ef-ddbf-42f5-8d3b-008573b4b6b9",
   "metadata": {},
   "source": [
    "<br>"
   ]
  },
  {
   "cell_type": "markdown",
   "id": "475f1b72-9651-42d2-8410-52fd85595f88",
   "metadata": {
    "tags": []
   },
   "source": [
    "## CatBoost\n",
    "- public score : "
   ]
  },
  {
   "cell_type": "code",
   "execution_count": 55,
   "id": "da2683aa-dd52-4402-a77b-7560b27b9f42",
   "metadata": {},
   "outputs": [
    {
     "data": {
      "text/plain": [
       "0"
      ]
     },
     "execution_count": 55,
     "metadata": {},
     "output_type": "execute_result"
    }
   ],
   "source": [
    "gc.collect()"
   ]
  },
  {
   "cell_type": "code",
   "execution_count": 56,
   "id": "251d6bfc-9f23-4ad2-bca5-16a3d57c42b9",
   "metadata": {},
   "outputs": [
    {
     "name": "stderr",
     "output_type": "stream",
     "text": [
      "<frozen importlib._bootstrap>:219: RuntimeWarning: numpy.ufunc size changed, may indicate binary incompatibility. Expected 216 from C header, got 232 from PyObject\n"
     ]
    }
   ],
   "source": [
    "from sklearn.model_selection import KFold\n",
    "from sklearn.metrics import mean_absolute_error\n",
    "from catboost import CatBoostRegressor, Pool"
   ]
  },
  {
   "cell_type": "code",
   "execution_count": 57,
   "id": "4eceedea-c652-4a96-b165-e222b01b6e4c",
   "metadata": {},
   "outputs": [],
   "source": [
    "train_fn = train_df7.copy()\n",
    "test_fn  = test_df7 .copy()"
   ]
  },
  {
   "cell_type": "code",
   "execution_count": 61,
   "id": "b0364030-ccdf-40df-a8cc-bf6fad1107f3",
   "metadata": {},
   "outputs": [
    {
     "name": "stderr",
     "output_type": "stream",
     "text": [
      "Segment: toyota___SWI, Size: 103, KFold: [1/5]:   0%|          | 1/320 [00:26<2:20:38, 26.45s/it]"
     ]
    },
    {
     "name": "stdout",
     "output_type": "stream",
     "text": [
      "MAE's for 5-Fold: [8.08391617 7.58578684 9.0635417  7.65549564 7.31439177]\n",
      "Mean of MAE's for 5-Fold: 7.9406\n"
     ]
    },
    {
     "name": "stderr",
     "output_type": "stream",
     "text": [
      "Segment: mercedes-benz___WIE, Size: 445, KFold: [1/5]:   1%|          | 2/320 [00:45<1:57:46, 22.22s/it]"
     ]
    },
    {
     "name": "stdout",
     "output_type": "stream",
     "text": [
      "MAE's for 5-Fold: [10.13881661  7.70861585  7.87973072  8.19800516  8.91398066]\n",
      "Mean of MAE's for 5-Fold: 8.5678\n"
     ]
    },
    {
     "name": "stderr",
     "output_type": "stream",
     "text": [
      "Segment: nissan___WIE, Size: 217, KFold: [1/5]:   1%|          | 3/320 [00:55<1:27:23, 16.54s/it]       "
     ]
    },
    {
     "name": "stdout",
     "output_type": "stream",
     "text": [
      "MAE's for 5-Fold: [ 9.35821134  8.86460562  7.35604329  8.84485279 10.3650024 ]\n",
      "Mean of MAE's for 5-Fold: 8.9577\n"
     ]
    },
    {
     "name": "stderr",
     "output_type": "stream",
     "text": [
      "Segment: fiat___MAL, Size: 139, KFold: [1/5]:   1%|▏         | 4/320 [01:03<1:08:59, 13.10s/it]  "
     ]
    },
    {
     "name": "stdout",
     "output_type": "stream",
     "text": [
      "MAE's for 5-Fold: [5.19908888 8.20077379 5.68389882 7.69056221 7.40219201]\n",
      "Mean of MAE's for 5-Fold: 6.8353\n"
     ]
    },
    {
     "name": "stderr",
     "output_type": "stream",
     "text": [
      "Segment: audi___SLA, Size: 618, KFold: [1/5]:   2%|▏         | 5/320 [01:10<57:15, 10.91s/it]  "
     ]
    },
    {
     "name": "stdout",
     "output_type": "stream",
     "text": [
      "MAE's for 5-Fold: [ 8.6035105   4.15669484  6.73661215 11.281221    7.00323366]\n",
      "Mean of MAE's for 5-Fold: 7.5563\n"
     ]
    },
    {
     "name": "stderr",
     "output_type": "stream",
     "text": [
      "Segment: renault___MAZ, Size: 609, KFold: [1/5]:   2%|▏         | 6/320 [01:27<1:08:16, 13.05s/it]"
     ]
    },
    {
     "name": "stdout",
     "output_type": "stream",
     "text": [
      "MAE's for 5-Fold: [7.87449388 6.82265891 7.17143496 8.56177131 8.26076111]\n",
      "Mean of MAE's for 5-Fold: 7.7382\n"
     ]
    },
    {
     "name": "stderr",
     "output_type": "stream",
     "text": [
      "Segment: volkswagen___WAR, Size: 191, KFold: [1/5]:   2%|▏         | 7/320 [01:39<1:06:47, 12.80s/it]"
     ]
    },
    {
     "name": "stdout",
     "output_type": "stream",
     "text": [
      "MAE's for 5-Fold: [5.73592413 5.28013172 6.67235848 6.80234462 7.16024883]\n",
      "Mean of MAE's for 5-Fold: 6.3302\n"
     ]
    },
    {
     "name": "stderr",
     "output_type": "stream",
     "text": [
      "Segment: skoda___OPO, Size: 65, KFold: [1/5]:   2%|▎         | 8/320 [01:56<1:13:44, 14.18s/it]      "
     ]
    },
    {
     "name": "stdout",
     "output_type": "stream",
     "text": [
      "MAE's for 5-Fold: [5.84452692 8.01285923 8.30973699 6.22879477 5.48412896]\n",
      "Mean of MAE's for 5-Fold: 6.7760\n"
     ]
    },
    {
     "name": "stderr",
     "output_type": "stream",
     "text": [
      "Segment: citroen___LUB, Size: 70, KFold: [1/5]:   3%|▎         | 9/320 [02:07<1:06:48, 12.89s/it]"
     ]
    },
    {
     "name": "stdout",
     "output_type": "stream",
     "text": [
      "MAE's for 5-Fold: [ 8.91996464 12.1972948   6.52109101  8.10391842  8.02812187]\n",
      "Mean of MAE's for 5-Fold: 8.7541\n"
     ]
    },
    {
     "name": "stderr",
     "output_type": "stream",
     "text": [
      "Segment: bmw___DOL, Size: 448, KFold: [1/5]:   3%|▎         | 10/320 [02:15<58:47, 11.38s/it]    "
     ]
    },
    {
     "name": "stdout",
     "output_type": "stream",
     "text": [
      "MAE's for 5-Fold: [5.0532283  5.10353299 2.69249391 4.86219447 7.33079744]\n",
      "Mean of MAE's for 5-Fold: 5.0084\n"
     ]
    },
    {
     "name": "stderr",
     "output_type": "stream",
     "text": [
      "Segment: opel___KUJ, Size: 386, KFold: [1/5]:   3%|▎         | 11/320 [02:34<1:11:54, 13.96s/it]"
     ]
    },
    {
     "name": "stdout",
     "output_type": "stream",
     "text": [
      "MAE's for 5-Fold: [9.53208904 8.66248325 8.71471364 9.48918905 8.65967928]\n",
      "Mean of MAE's for 5-Fold: 9.0116\n"
     ]
    },
    {
     "name": "stderr",
     "output_type": "stream",
     "text": [
      "Segment: ford___MAZ, Size: 1040, KFold: [1/5]:   4%|▍         | 12/320 [02:52<1:17:05, 15.02s/it]"
     ]
    },
    {
     "name": "stdout",
     "output_type": "stream",
     "text": [
      "MAE's for 5-Fold: [3.99364865 5.86901179 3.54705545 5.1602325  3.67978042]\n",
      "Mean of MAE's for 5-Fold: 4.4499\n"
     ]
    },
    {
     "name": "stderr",
     "output_type": "stream",
     "text": [
      "Segment: mazda___ZAC, Size: 56, KFold: [1/5]:   4%|▍         | 13/320 [03:10<1:21:57, 16.02s/it] "
     ]
    },
    {
     "name": "stdout",
     "output_type": "stream",
     "text": [
      "MAE's for 5-Fold: [5.88106157 5.57627962 6.52387035 5.74818838 5.60448699]\n",
      "Mean of MAE's for 5-Fold: 5.8668\n"
     ]
    },
    {
     "name": "stderr",
     "output_type": "stream",
     "text": [
      "Segment: honda___LUB, Size: 92, KFold: [1/5]:   4%|▍         | 14/320 [03:20<1:12:25, 14.20s/it]"
     ]
    },
    {
     "name": "stdout",
     "output_type": "stream",
     "text": [
      "MAE's for 5-Fold: [ 9.66987083 12.15667885  7.23591253  7.10041948  5.07790278]\n",
      "Mean of MAE's for 5-Fold: 8.2482\n"
     ]
    },
    {
     "name": "stderr",
     "output_type": "stream",
     "text": [
      "Segment: nissan___MAZ, Size: 404, KFold: [1/5]:   5%|▍         | 15/320 [03:28<1:02:54, 12.37s/it]"
     ]
    },
    {
     "name": "stdout",
     "output_type": "stream",
     "text": [
      "MAE's for 5-Fold: [10.03415091 12.48437398  7.76427282 11.61151928  4.67674718]\n",
      "Mean of MAE's for 5-Fold: 9.3142\n"
     ]
    },
    {
     "name": "stderr",
     "output_type": "stream",
     "text": [
      "Segment: opel___DOL, Size: 462, KFold: [1/5]:   5%|▌         | 16/320 [03:48<1:13:46, 14.56s/it]  "
     ]
    },
    {
     "name": "stdout",
     "output_type": "stream",
     "text": [
      "MAE's for 5-Fold: [6.2542405  5.04795114 5.52714374 6.36986942 6.00481079]\n",
      "Mean of MAE's for 5-Fold: 5.8408\n"
     ]
    },
    {
     "name": "stderr",
     "output_type": "stream",
     "text": [
      "Segment: volkswagen___KUJ, Size: 296, KFold: [1/5]:   5%|▌         | 17/320 [04:00<1:09:50, 13.83s/it]"
     ]
    },
    {
     "name": "stdout",
     "output_type": "stream",
     "text": [
      "MAE's for 5-Fold: [6.08133278 4.8163868  5.75942785 4.91822692 4.33459566]\n",
      "Mean of MAE's for 5-Fold: 5.1820\n"
     ]
    },
    {
     "name": "stderr",
     "output_type": "stream",
     "text": [
      "Segment: kia___WIE, Size: 214, KFold: [1/5]:   6%|▌         | 18/320 [04:11<1:05:24, 13.00s/it]       "
     ]
    },
    {
     "name": "stdout",
     "output_type": "stream",
     "text": [
      "MAE's for 5-Fold: [7.26477316 7.00288103 7.70694105 7.52230158 8.77999805]\n",
      "Mean of MAE's for 5-Fold: 7.6554\n"
     ]
    },
    {
     "name": "stderr",
     "output_type": "stream",
     "text": [
      "Segment: mazda___LUU, Size: 47, KFold: [1/5]:   6%|▌         | 19/320 [04:22<1:01:59, 12.36s/it]"
     ]
    },
    {
     "name": "stdout",
     "output_type": "stream",
     "text": [
      "MAE's for 5-Fold: [5.59608679 6.9266879  6.38196031 8.2041947  9.45969198]\n",
      "Mean of MAE's for 5-Fold: 7.3137\n"
     ]
    },
    {
     "name": "stderr",
     "output_type": "stream",
     "text": [
      "Segment: bmw___LUU, Size: 135, KFold: [1/5]:   6%|▋         | 20/320 [04:27<50:39, 10.13s/it]   "
     ]
    },
    {
     "name": "stdout",
     "output_type": "stream",
     "text": [
      "MAE's for 5-Fold: [ 9.0539748  10.00777009  8.30453738 16.10391744  4.40202595]\n",
      "Mean of MAE's for 5-Fold: 9.5744\n"
     ]
    },
    {
     "name": "stderr",
     "output_type": "stream",
     "text": [
      "Segment: opel___MAZ, Size: 1203, KFold: [1/5]:   7%|▋         | 21/320 [04:41<56:01, 11.24s/it]"
     ]
    },
    {
     "name": "stdout",
     "output_type": "stream",
     "text": [
      "MAE's for 5-Fold: [ 8.98046169 10.46488671  9.6989089  11.68743635 16.00276662]\n",
      "Mean of MAE's for 5-Fold: 11.3669\n"
     ]
    },
    {
     "name": "stderr",
     "output_type": "stream",
     "text": [
      "Segment: toyota___MAZ, Size: 789, KFold: [1/5]:   7%|▋         | 22/320 [04:59<1:06:10, 13.32s/it]"
     ]
    },
    {
     "name": "stdout",
     "output_type": "stream",
     "text": [
      "MAE's for 5-Fold: [5.03418237 5.27583389 4.19210864 4.52864783 5.03572399]\n",
      "Mean of MAE's for 5-Fold: 4.8133\n"
     ]
    },
    {
     "name": "stderr",
     "output_type": "stream",
     "text": [
      "Segment: seat___MAL, Size: 187, KFold: [1/5]:   7%|▋         | 23/320 [05:18<1:15:12, 15.19s/it]  "
     ]
    },
    {
     "name": "stdout",
     "output_type": "stream",
     "text": [
      "MAE's for 5-Fold: [5.56844901 5.8628348  5.9553098  5.40898777 5.17435371]\n",
      "Mean of MAE's for 5-Fold: 5.5940\n"
     ]
    },
    {
     "name": "stderr",
     "output_type": "stream",
     "text": [
      "Segment: fiat___SLA, Size: 270, KFold: [1/5]:   8%|▊         | 24/320 [05:30<1:09:01, 13.99s/it]"
     ]
    },
    {
     "name": "stdout",
     "output_type": "stream",
     "text": [
      "MAE's for 5-Fold: [ 6.3271715   5.6703287   6.00432161  5.27068475 11.94617673]\n",
      "Mean of MAE's for 5-Fold: 7.0437\n"
     ]
    },
    {
     "name": "stderr",
     "output_type": "stream",
     "text": [
      "Segment: ford___SWI, Size: 145, KFold: [1/5]:   8%|▊         | 25/320 [05:44<1:08:38, 13.96s/it]"
     ]
    },
    {
     "name": "stdout",
     "output_type": "stream",
     "text": [
      "MAE's for 5-Fold: [5.7705876  6.070288   4.34997115 5.93818273 5.25240301]\n",
      "Mean of MAE's for 5-Fold: 5.4763\n"
     ]
    },
    {
     "name": "stderr",
     "output_type": "stream",
     "text": [
      "Segment: citroen___MAL, Size: 90, KFold: [1/5]:   8%|▊         | 26/320 [05:57<1:07:13, 13.72s/it]"
     ]
    },
    {
     "name": "stdout",
     "output_type": "stream",
     "text": [
      "MAE's for 5-Fold: [8.30708732 5.90860458 4.13957778 7.47930802 7.31626754]\n",
      "Mean of MAE's for 5-Fold: 6.6302\n"
     ]
    },
    {
     "name": "stderr",
     "output_type": "stream",
     "text": [
      "Segment: volkswagen___MAZ, Size: 891, KFold: [1/5]:   8%|▊         | 27/320 [06:04<58:09, 11.91s/it]"
     ]
    },
    {
     "name": "stdout",
     "output_type": "stream",
     "text": [
      "MAE's for 5-Fold: [5.30889866 6.08151937 6.48878042 6.28456273 4.92782871]\n",
      "Mean of MAE's for 5-Fold: 5.8183\n"
     ]
    },
    {
     "name": "stderr",
     "output_type": "stream",
     "text": [
      "Segment: ford___POM, Size: 459, KFold: [1/5]:   9%|▉         | 28/320 [06:23<1:08:06, 14.00s/it]      "
     ]
    },
    {
     "name": "stdout",
     "output_type": "stream",
     "text": [
      "MAE's for 5-Fold: [6.99961115 6.23000485 9.46277808 7.09830214 9.04005848]\n",
      "Mean of MAE's for 5-Fold: 7.7662\n"
     ]
    },
    {
     "name": "stderr",
     "output_type": "stream",
     "text": [
      "Segment: kia___LOD, Size: 197, KFold: [1/5]:   9%|▉         | 29/320 [06:33<1:02:00, 12.78s/it] "
     ]
    },
    {
     "name": "stdout",
     "output_type": "stream",
     "text": [
      "MAE's for 5-Fold: [5.2783471  4.96344072 7.01760864 5.614674   5.55384397]\n",
      "Mean of MAE's for 5-Fold: 5.6856\n"
     ]
    },
    {
     "name": "stderr",
     "output_type": "stream",
     "text": [
      "Segment: audi___DOL, Size: 469, KFold: [1/5]:   9%|▉         | 30/320 [06:43<57:52, 11.98s/it] "
     ]
    },
    {
     "name": "stdout",
     "output_type": "stream",
     "text": [
      "MAE's for 5-Fold: [ 7.80160934 10.40673589  5.11212152  8.00271039  9.56439956]\n",
      "Mean of MAE's for 5-Fold: 8.1775\n"
     ]
    },
    {
     "name": "stderr",
     "output_type": "stream",
     "text": [
      "Segment: opel___SLA, Size: 1025, KFold: [1/5]:  10%|▉         | 31/320 [07:00<1:03:58, 13.28s/it]"
     ]
    },
    {
     "name": "stdout",
     "output_type": "stream",
     "text": [
      "MAE's for 5-Fold: [7.42051319 5.87401202 8.37956302 5.92707977 8.84082057]\n",
      "Mean of MAE's for 5-Fold: 7.2884\n"
     ]
    },
    {
     "name": "stderr",
     "output_type": "stream",
     "text": [
      "Segment: ford___WIE, Size: 689, KFold: [1/5]:  10%|█         | 32/320 [07:14<1:06:02, 13.76s/it] "
     ]
    },
    {
     "name": "stdout",
     "output_type": "stream",
     "text": [
      "MAE's for 5-Fold: [4.85242    4.96698097 4.81078283 4.81335681 4.90528784]\n",
      "Mean of MAE's for 5-Fold: 4.8698\n"
     ]
    },
    {
     "name": "stderr",
     "output_type": "stream",
     "text": [
      "Segment: honda___WIE, Size: 138, KFold: [1/5]:  10%|█         | 33/320 [07:28<1:05:58, 13.79s/it]"
     ]
    },
    {
     "name": "stdout",
     "output_type": "stream",
     "text": [
      "MAE's for 5-Fold: [6.04224145 5.89903324 5.86110296 5.91931816 5.92957798]\n",
      "Mean of MAE's for 5-Fold: 5.9303\n"
     ]
    },
    {
     "name": "stderr",
     "output_type": "stream",
     "text": [
      "Segment: renault___POM, Size: 178, KFold: [1/5]:  11%|█         | 34/320 [07:42<1:06:05, 13.87s/it]"
     ]
    },
    {
     "name": "stdout",
     "output_type": "stream",
     "text": [
      "MAE's for 5-Fold: [7.05964191 6.4626634  8.6646427  7.47273825 5.98041776]\n",
      "Mean of MAE's for 5-Fold: 7.1280\n"
     ]
    },
    {
     "name": "stderr",
     "output_type": "stream",
     "text": [
      "Segment: honda___POL, Size: 38, KFold: [1/5]:  11%|█         | 35/320 [07:52<1:00:08, 12.66s/it]   "
     ]
    },
    {
     "name": "stdout",
     "output_type": "stream",
     "text": [
      "MAE's for 5-Fold: [8.40817114 6.53024569 7.3836527  8.19913938 5.52581133]\n",
      "Mean of MAE's for 5-Fold: 7.2094\n"
     ]
    },
    {
     "name": "stderr",
     "output_type": "stream",
     "text": [
      "Segment: toyota___LOD, Size: 197, KFold: [1/5]:  11%|█▏        | 36/320 [08:01<53:51, 11.38s/it]"
     ]
    },
    {
     "name": "stdout",
     "output_type": "stream",
     "text": [
      "MAE's for 5-Fold: [ 5.45906503  5.45394306 13.86798827  7.78310161  5.61859867]\n",
      "Mean of MAE's for 5-Fold: 7.6365\n"
     ]
    },
    {
     "name": "stderr",
     "output_type": "stream",
     "text": [
      "Segment: volkswagen___SLA, Size: 637, KFold: [1/5]:  12%|█▏        | 37/320 [08:08<48:16, 10.23s/it]"
     ]
    },
    {
     "name": "stdout",
     "output_type": "stream",
     "text": [
      "MAE's for 5-Fold: [5.4188768  6.53275315 8.0014524  9.34192656 5.76710199]\n",
      "Mean of MAE's for 5-Fold: 7.0124\n"
     ]
    },
    {
     "name": "stderr",
     "output_type": "stream",
     "text": [
      "Segment: bmw___MAL, Size: 420, KFold: [1/5]:  12%|█▏        | 38/320 [08:25<57:18, 12.19s/it]       "
     ]
    },
    {
     "name": "stdout",
     "output_type": "stream",
     "text": [
      "MAE's for 5-Fold: [7.86000533 7.49479055 8.43630366 7.32569792 6.745913  ]\n",
      "Mean of MAE's for 5-Fold: 7.5725\n"
     ]
    },
    {
     "name": "stderr",
     "output_type": "stream",
     "text": [
      "Segment: ford___SLA, Size: 775, KFold: [1/5]:  12%|█▏        | 39/320 [08:35<54:12, 11.57s/it]"
     ]
    },
    {
     "name": "stdout",
     "output_type": "stream",
     "text": [
      "MAE's for 5-Fold: [ 8.7526286   8.95625344  9.821956    8.84790419 11.1256072 ]\n",
      "Mean of MAE's for 5-Fold: 9.5009\n"
     ]
    },
    {
     "name": "stderr",
     "output_type": "stream",
     "text": [
      "Segment: volkswagen___LOD, Size: 317, KFold: [1/5]:  12%|█▎        | 40/320 [08:51<1:00:01, 12.86s/it]"
     ]
    },
    {
     "name": "stdout",
     "output_type": "stream",
     "text": [
      "MAE's for 5-Fold: [5.82286154 5.52432255 6.31369243 6.40921311 6.11384116]\n",
      "Mean of MAE's for 5-Fold: 6.0368\n"
     ]
    },
    {
     "name": "stderr",
     "output_type": "stream",
     "text": [
      "Segment: audi___MAZ, Size: 1107, KFold: [1/5]:  13%|█▎        | 41/320 [09:11<1:10:02, 15.06s/it]     "
     ]
    },
    {
     "name": "stdout",
     "output_type": "stream",
     "text": [
      "MAE's for 5-Fold: [7.60868129 7.96646391 7.03393102 7.37138092 8.04157491]\n",
      "Mean of MAE's for 5-Fold: 7.6044\n"
     ]
    },
    {
     "name": "stderr",
     "output_type": "stream",
     "text": [
      "Segment: mazda___MAZ, Size: 340, KFold: [1/5]:  13%|█▎        | 42/320 [09:29<1:14:04, 15.99s/it]"
     ]
    },
    {
     "name": "stdout",
     "output_type": "stream",
     "text": [
      "MAE's for 5-Fold: [6.44680073 6.60817443 7.85424785 7.49046132 6.40073688]\n",
      "Mean of MAE's for 5-Fold: 6.9601\n"
     ]
    },
    {
     "name": "stderr",
     "output_type": "stream",
     "text": [
      "Segment: ford___LOD, Size: 375, KFold: [1/5]:  13%|█▎        | 43/320 [09:36<1:01:20, 13.29s/it] "
     ]
    },
    {
     "name": "stdout",
     "output_type": "stream",
     "text": [
      "MAE's for 5-Fold: [6.89428757 6.58484024 7.44933368 6.54244004 8.46619253]\n",
      "Mean of MAE's for 5-Fold: 7.1874\n"
     ]
    },
    {
     "name": "stderr",
     "output_type": "stream",
     "text": [
      "Segment: bmw___WAR, Size: 119, KFold: [1/5]:  14%|█▍        | 44/320 [09:51<1:02:49, 13.66s/it] "
     ]
    },
    {
     "name": "stdout",
     "output_type": "stream",
     "text": [
      "MAE's for 5-Fold: [4.47930703 5.29260209 4.62356905 7.11015576 4.92608446]\n",
      "Mean of MAE's for 5-Fold: 5.2863\n"
     ]
    },
    {
     "name": "stderr",
     "output_type": "stream",
     "text": [
      "Segment: ford___LUB, Size: 275, KFold: [1/5]:  14%|█▍        | 45/320 [10:06<1:04:48, 14.14s/it]"
     ]
    },
    {
     "name": "stdout",
     "output_type": "stream",
     "text": [
      "MAE's for 5-Fold: [ 8.18399572  7.94068231  6.52175802  5.20426347 11.5355718 ]\n",
      "Mean of MAE's for 5-Fold: 7.8773\n"
     ]
    },
    {
     "name": "stderr",
     "output_type": "stream",
     "text": [
      "Segment: opel___MAL, Size: 605, KFold: [1/5]:  14%|█▍        | 46/320 [10:26<1:12:54, 15.97s/it]"
     ]
    },
    {
     "name": "stdout",
     "output_type": "stream",
     "text": [
      "MAE's for 5-Fold: [6.96226639 6.48787919 4.91905259 8.43426241 5.31978436]\n",
      "Mean of MAE's for 5-Fold: 6.4246\n"
     ]
    },
    {
     "name": "stderr",
     "output_type": "stream",
     "text": [
      "Segment: seat___SLA, Size: 299, KFold: [1/5]:  15%|█▍        | 47/320 [10:39<1:07:48, 14.90s/it]"
     ]
    },
    {
     "name": "stdout",
     "output_type": "stream",
     "text": [
      "MAE's for 5-Fold: [4.61065334 4.18583929 4.98592798 4.65580665 5.06702835]\n",
      "Mean of MAE's for 5-Fold: 4.7011\n"
     ]
    },
    {
     "name": "stderr",
     "output_type": "stream",
     "text": [
      "Segment: skoda___MAL, Size: 252, KFold: [1/5]:  15%|█▌        | 48/320 [10:53<1:06:48, 14.74s/it]"
     ]
    },
    {
     "name": "stdout",
     "output_type": "stream",
     "text": [
      "MAE's for 5-Fold: [4.61390285 5.16780481 6.39649036 8.59917399 6.41126483]\n",
      "Mean of MAE's for 5-Fold: 6.2377\n"
     ]
    },
    {
     "name": "stderr",
     "output_type": "stream",
     "text": [
      "Segment: nissan___DOL, Size: 201, KFold: [1/5]:  15%|█▌        | 49/320 [11:03<59:44, 13.23s/it] "
     ]
    },
    {
     "name": "stdout",
     "output_type": "stream",
     "text": [
      "MAE's for 5-Fold: [ 7.70776079  7.03916295  8.79929792 11.18317214  7.54727705]\n",
      "Mean of MAE's for 5-Fold: 8.4553\n"
     ]
    },
    {
     "name": "stderr",
     "output_type": "stream",
     "text": [
      "Segment: bmw___POL, Size: 128, KFold: [1/5]:  16%|█▌        | 50/320 [11:11<53:17, 11.84s/it]   "
     ]
    },
    {
     "name": "stdout",
     "output_type": "stream",
     "text": [
      "MAE's for 5-Fold: [7.43428284 7.63258522 5.89329024 7.44084915 7.3054253 ]\n",
      "Mean of MAE's for 5-Fold: 7.1413\n"
     ]
    },
    {
     "name": "stderr",
     "output_type": "stream",
     "text": [
      "Segment: ford___KUJ, Size: 247, KFold: [1/5]:  16%|█▌        | 51/320 [11:26<57:21, 12.79s/it]"
     ]
    },
    {
     "name": "stdout",
     "output_type": "stream",
     "text": [
      "MAE's for 5-Fold: [12.23966612 12.88442536 10.93784946 10.52701723 13.99675191]\n",
      "Mean of MAE's for 5-Fold: 12.1171\n"
     ]
    },
    {
     "name": "stderr",
     "output_type": "stream",
     "text": [
      "Segment: bmw___MAZ, Size: 1043, KFold: [1/5]:  16%|█▋        | 52/320 [11:37<54:10, 12.13s/it]"
     ]
    },
    {
     "name": "stdout",
     "output_type": "stream",
     "text": [
      "MAE's for 5-Fold: [6.95526759 7.86140259 4.52082111 6.68874141 5.60671072]\n",
      "Mean of MAE's for 5-Fold: 6.3266\n"
     ]
    },
    {
     "name": "stderr",
     "output_type": "stream",
     "text": [
      "Segment: ford___DOL, Size: 463, KFold: [1/5]:  17%|█▋        | 53/320 [12:07<1:18:07, 17.56s/it]"
     ]
    },
    {
     "name": "stdout",
     "output_type": "stream",
     "text": [
      "MAE's for 5-Fold: [7.74414605 9.26461349 8.52274715 9.31041124 8.60969358]\n",
      "Mean of MAE's for 5-Fold: 8.6903\n"
     ]
    },
    {
     "name": "stderr",
     "output_type": "stream",
     "text": [
      "Segment: audi___OPO, Size: 128, KFold: [1/5]:  17%|█▋        | 54/320 [12:17<1:06:52, 15.09s/it]"
     ]
    },
    {
     "name": "stdout",
     "output_type": "stream",
     "text": [
      "MAE's for 5-Fold: [6.09478761 5.94239019 5.40660676 6.22499392 6.60129631]\n",
      "Mean of MAE's for 5-Fold: 6.0540\n"
     ]
    },
    {
     "name": "stderr",
     "output_type": "stream",
     "text": [
      "Segment: volkswagen___WIE, Size: 750, KFold: [1/5]:  17%|█▋        | 55/320 [12:34<1:09:43, 15.79s/it]"
     ]
    },
    {
     "name": "stdout",
     "output_type": "stream",
     "text": [
      "MAE's for 5-Fold: [ 7.1634926   6.78067186  9.84730312 13.10600966 15.98208978]\n",
      "Mean of MAE's for 5-Fold: 10.5759\n"
     ]
    },
    {
     "name": "stderr",
     "output_type": "stream",
     "text": [
      "Segment: mazda___DOL, Size: 134, KFold: [1/5]:  18%|█▊        | 56/320 [12:54<1:14:37, 16.96s/it]     "
     ]
    },
    {
     "name": "stdout",
     "output_type": "stream",
     "text": [
      "MAE's for 5-Fold: [6.83223658 5.71149997 7.02844014 7.44073232 7.47177606]\n",
      "Mean of MAE's for 5-Fold: 6.8969\n"
     ]
    },
    {
     "name": "stderr",
     "output_type": "stream",
     "text": [
      "Segment: mercedes-benz___ZAC, Size: 163, KFold: [1/5]:  18%|█▊        | 57/320 [13:01<1:01:47, 14.10s/it]"
     ]
    },
    {
     "name": "stdout",
     "output_type": "stream",
     "text": [
      "MAE's for 5-Fold: [6.20620721 5.4064252  6.08183986 4.42805206 5.72385787]\n",
      "Mean of MAE's for 5-Fold: 5.5693\n"
     ]
    },
    {
     "name": "stderr",
     "output_type": "stream",
     "text": [
      "Segment: bmw___SLA, Size: 592, KFold: [1/5]:  18%|█▊        | 58/320 [13:13<58:15, 13.34s/it]            "
     ]
    },
    {
     "name": "stdout",
     "output_type": "stream",
     "text": [
      "MAE's for 5-Fold: [ 9.7235887   8.94093964 13.42102639 14.90658786 11.07001168]\n",
      "Mean of MAE's for 5-Fold: 11.6124\n"
     ]
    },
    {
     "name": "stderr",
     "output_type": "stream",
     "text": [
      "Segment: audi___LUB, Size: 306, KFold: [1/5]:  18%|█▊        | 59/320 [13:27<59:27, 13.67s/it]"
     ]
    },
    {
     "name": "stdout",
     "output_type": "stream",
     "text": [
      "MAE's for 5-Fold: [8.3939602  7.62050915 7.91245152 7.96108298 8.0307154 ]\n",
      "Mean of MAE's for 5-Fold: 7.9837\n"
     ]
    },
    {
     "name": "stderr",
     "output_type": "stream",
     "text": [
      "Segment: renault___SLA, Size: 622, KFold: [1/5]:  19%|█▉        | 60/320 [13:37<54:22, 12.55s/it]"
     ]
    },
    {
     "name": "stdout",
     "output_type": "stream",
     "text": [
      "MAE's for 5-Fold: [7.42291197 8.44586781 7.82438145 6.79389585 5.38404816]\n",
      "Mean of MAE's for 5-Fold: 7.1742\n"
     ]
    },
    {
     "name": "stderr",
     "output_type": "stream",
     "text": [
      "Segment: mercedes-benz___POD, Size: 94, KFold: [1/5]:  19%|█▉        | 61/320 [13:49<53:24, 12.37s/it]"
     ]
    },
    {
     "name": "stdout",
     "output_type": "stream",
     "text": [
      "MAE's for 5-Fold: [6.10504187 5.04462954 5.41766293 5.1042067  5.56749171]\n",
      "Mean of MAE's for 5-Fold: 5.4478\n"
     ]
    },
    {
     "name": "stderr",
     "output_type": "stream",
     "text": [
      "Segment: mercedes-benz___LOD, Size: 147, KFold: [1/5]:  19%|█▉        | 62/320 [13:58<48:48, 11.35s/it]"
     ]
    },
    {
     "name": "stdout",
     "output_type": "stream",
     "text": [
      "MAE's for 5-Fold: [ 8.889808    9.68721314 13.09155759 13.27018222 13.50492612]\n",
      "Mean of MAE's for 5-Fold: 11.6887\n"
     ]
    },
    {
     "name": "stderr",
     "output_type": "stream",
     "text": [
      "Segment: volvo___SLA, Size: 131, KFold: [1/5]:  20%|█▉        | 63/320 [14:14<54:28, 12.72s/it]        "
     ]
    },
    {
     "name": "stdout",
     "output_type": "stream",
     "text": [
      "MAE's for 5-Fold: [ 9.71027518  8.02222357 11.8400639  10.40117231 10.44317259]\n",
      "Mean of MAE's for 5-Fold: 10.0834\n"
     ]
    },
    {
     "name": "stderr",
     "output_type": "stream",
     "text": [
      "Segment: kia___POL, Size: 28, KFold: [1/5]:  20%|██        | 64/320 [14:22<48:44, 11.42s/it]   "
     ]
    },
    {
     "name": "stdout",
     "output_type": "stream",
     "text": [
      "MAE's for 5-Fold: [12.66868284  9.17997124 10.66550738  9.70005512 13.18557153]\n",
      "Mean of MAE's for 5-Fold: 11.0800\n"
     ]
    },
    {
     "name": "stderr",
     "output_type": "stream",
     "text": [
      "Segment: volvo___WAR, Size: 21, KFold: [1/5]:  20%|██        | 65/320 [14:27<39:56,  9.40s/it]"
     ]
    },
    {
     "name": "stdout",
     "output_type": "stream",
     "text": [
      "MAE's for 5-Fold: [16.0647295   4.50147722  6.52560258  4.59326534  4.72146488]\n",
      "Mean of MAE's for 5-Fold: 7.2813\n"
     ]
    },
    {
     "name": "stderr",
     "output_type": "stream",
     "text": [
      "Segment: mercedes-benz___SLA, Size: 337, KFold: [1/5]:  21%|██        | 66/320 [14:32<34:17,  8.10s/it]"
     ]
    },
    {
     "name": "stdout",
     "output_type": "stream",
     "text": [
      "MAE's for 5-Fold: [16.23665929 18.13906153 29.27678508 20.55306327 13.99724596]\n",
      "Mean of MAE's for 5-Fold: 19.6406\n"
     ]
    },
    {
     "name": "stderr",
     "output_type": "stream",
     "text": [
      "Segment: seat___WIE, Size: 189, KFold: [1/5]:  21%|██        | 67/320 [14:46<41:00,  9.72s/it]         "
     ]
    },
    {
     "name": "stdout",
     "output_type": "stream",
     "text": [
      "MAE's for 5-Fold: [14.08167252  8.28911745  8.70915238  8.6306388  13.10240339]\n",
      "Mean of MAE's for 5-Fold: 10.5626\n"
     ]
    },
    {
     "name": "stderr",
     "output_type": "stream",
     "text": [
      "Segment: nissan___SWI, Size: 70, KFold: [1/5]:  21%|██▏       | 68/320 [14:55<40:16,  9.59s/it]"
     ]
    },
    {
     "name": "stdout",
     "output_type": "stream",
     "text": [
      "MAE's for 5-Fold: [ 7.569718   12.83791408  6.75320954  4.44739765  6.577605  ]\n",
      "Mean of MAE's for 5-Fold: 7.6372\n"
     ]
    },
    {
     "name": "stderr",
     "output_type": "stream",
     "text": [
      "Segment: audi___POL, Size: 130, KFold: [1/5]:  22%|██▏       | 69/320 [15:06<42:19, 10.12s/it] "
     ]
    },
    {
     "name": "stdout",
     "output_type": "stream",
     "text": [
      "MAE's for 5-Fold: [7.48362307 5.22262283 4.00851792 6.37817208 9.61162102]\n",
      "Mean of MAE's for 5-Fold: 6.5409\n"
     ]
    },
    {
     "name": "stderr",
     "output_type": "stream",
     "text": [
      "Segment: mercedes-benz___MAZ, Size: 513, KFold: [1/5]:  22%|██▏       | 70/320 [15:14<38:45,  9.30s/it]"
     ]
    },
    {
     "name": "stdout",
     "output_type": "stream",
     "text": [
      "MAE's for 5-Fold: [13.46842719  7.08387741 11.32921389 13.47083214 11.17304583]\n",
      "Mean of MAE's for 5-Fold: 11.3051\n"
     ]
    },
    {
     "name": "stderr",
     "output_type": "stream",
     "text": [
      "Segment: skoda___WAR, Size: 90, KFold: [1/5]:  22%|██▏       | 71/320 [15:30<47:08, 11.36s/it]         "
     ]
    },
    {
     "name": "stdout",
     "output_type": "stream",
     "text": [
      "MAE's for 5-Fold: [ 9.38552463 12.62830216 11.21743705  8.89559184  9.40031954]\n",
      "Mean of MAE's for 5-Fold: 10.3054\n"
     ]
    },
    {
     "name": "stderr",
     "output_type": "stream",
     "text": [
      "Segment: volvo___MAZ, Size: 405, KFold: [1/5]:  22%|██▎       | 72/320 [15:36<41:09,  9.96s/it]"
     ]
    },
    {
     "name": "stdout",
     "output_type": "stream",
     "text": [
      "MAE's for 5-Fold: [ 9.27252117 13.5463437   3.93386078  9.5883271  12.90324883]\n",
      "Mean of MAE's for 5-Fold: 9.8489\n"
     ]
    },
    {
     "name": "stderr",
     "output_type": "stream",
     "text": [
      "Segment: renault___KUJ, Size: 162, KFold: [1/5]:  23%|██▎       | 73/320 [15:50<45:25, 11.03s/it]"
     ]
    },
    {
     "name": "stdout",
     "output_type": "stream",
     "text": [
      "MAE's for 5-Fold: [8.25198839 8.41357181 7.90401847 8.65269616 8.30692848]\n",
      "Mean of MAE's for 5-Fold: 8.3058\n"
     ]
    },
    {
     "name": "stderr",
     "output_type": "stream",
     "text": [
      "Segment: citroen___SLA, Size: 149, KFold: [1/5]:  23%|██▎       | 74/320 [15:59<43:00, 10.49s/it]"
     ]
    },
    {
     "name": "stdout",
     "output_type": "stream",
     "text": [
      "MAE's for 5-Fold: [5.01564408 7.50136558 7.29302467 7.29619638 8.10345927]\n",
      "Mean of MAE's for 5-Fold: 7.0419\n"
     ]
    },
    {
     "name": "stderr",
     "output_type": "stream",
     "text": [
      "Segment: mercedes-benz___SWI, Size: 82, KFold: [1/5]:  23%|██▎       | 75/320 [16:08<40:29,  9.92s/it]"
     ]
    },
    {
     "name": "stdout",
     "output_type": "stream",
     "text": [
      "MAE's for 5-Fold: [4.91432801 4.29896939 3.97408891 4.78286308 6.30353234]\n",
      "Mean of MAE's for 5-Fold: 4.8548\n"
     ]
    },
    {
     "name": "stderr",
     "output_type": "stream",
     "text": [
      "Segment: skoda___MAZ, Size: 603, KFold: [1/5]:  24%|██▍       | 76/320 [16:14<35:24,  8.71s/it]       "
     ]
    },
    {
     "name": "stdout",
     "output_type": "stream",
     "text": [
      "MAE's for 5-Fold: [13.09937792  8.74561495  8.00542693 15.17336999 11.34371356]\n",
      "Mean of MAE's for 5-Fold: 11.2735\n"
     ]
    },
    {
     "name": "stderr",
     "output_type": "stream",
     "text": [
      "Segment: honda___MAZ, Size: 353, KFold: [1/5]:  24%|██▍       | 77/320 [16:31<45:37, 11.27s/it]"
     ]
    },
    {
     "name": "stdout",
     "output_type": "stream",
     "text": [
      "MAE's for 5-Fold: [7.32264371 6.67195072 7.47322858 6.62727602 6.16007994]\n",
      "Mean of MAE's for 5-Fold: 6.8510\n"
     ]
    },
    {
     "name": "stderr",
     "output_type": "stream",
     "text": [
      "Segment: mercedes-benz___DOL, Size: 250, KFold: [1/5]:  24%|██▍       | 78/320 [16:44<48:12, 11.95s/it]"
     ]
    },
    {
     "name": "stdout",
     "output_type": "stream",
     "text": [
      "MAE's for 5-Fold: [8.72413397 7.40911888 5.33389295 7.21041224 6.00999385]\n",
      "Mean of MAE's for 5-Fold: 6.9375\n"
     ]
    },
    {
     "name": "stderr",
     "output_type": "stream",
     "text": [
      "Segment: bmw___POM, Size: 285, KFold: [1/5]:  25%|██▍       | 79/320 [16:56<47:16, 11.77s/it]          "
     ]
    },
    {
     "name": "stdout",
     "output_type": "stream",
     "text": [
      "MAE's for 5-Fold: [ 8.77899575 13.39726563 11.3520131  12.47388186  9.47496825]\n",
      "Mean of MAE's for 5-Fold: 11.0954\n"
     ]
    },
    {
     "name": "stderr",
     "output_type": "stream",
     "text": [
      "Segment: nissan___KUJ, Size: 86, KFold: [1/5]:  25%|██▌       | 80/320 [17:05<43:50, 10.96s/it]"
     ]
    },
    {
     "name": "stdout",
     "output_type": "stream",
     "text": [
      "MAE's for 5-Fold: [ 9.63297854 11.44632841 12.46966293  8.24358565  7.99948531]\n",
      "Mean of MAE's for 5-Fold: 9.9584\n"
     ]
    },
    {
     "name": "stderr",
     "output_type": "stream",
     "text": [
      "Segment: honda___LOD, Size: 101, KFold: [1/5]:  25%|██▌       | 81/320 [17:13<40:01, 10.05s/it]"
     ]
    },
    {
     "name": "stdout",
     "output_type": "stream",
     "text": [
      "MAE's for 5-Fold: [12.13644844  4.6487884   5.33932557  9.37780044  6.16736349]\n",
      "Mean of MAE's for 5-Fold: 7.5339\n"
     ]
    },
    {
     "name": "stderr",
     "output_type": "stream",
     "text": [
      "Segment: opel___POM, Size: 308, KFold: [1/5]:  26%|██▌       | 82/320 [17:22<39:16,  9.90s/it] "
     ]
    },
    {
     "name": "stdout",
     "output_type": "stream",
     "text": [
      "MAE's for 5-Fold: [6.65492939 6.82688682 6.06972577 5.4641756  5.35985739]\n",
      "Mean of MAE's for 5-Fold: 6.0751\n"
     ]
    },
    {
     "name": "stderr",
     "output_type": "stream",
     "text": [
      "Segment: peugeot___WIE, Size: 133, KFold: [1/5]:  26%|██▌       | 83/320 [17:32<39:17,  9.95s/it]"
     ]
    },
    {
     "name": "stdout",
     "output_type": "stream",
     "text": [
      "MAE's for 5-Fold: [4.71190161 7.36943906 4.88997043 5.00161833 5.01237441]\n",
      "Mean of MAE's for 5-Fold: 5.3971\n"
     ]
    },
    {
     "name": "stderr",
     "output_type": "stream",
     "text": [
      "Segment: hyundai___POD, Size: 51, KFold: [1/5]:  26%|██▋       | 84/320 [17:40<36:36,  9.31s/it] "
     ]
    },
    {
     "name": "stdout",
     "output_type": "stream",
     "text": [
      "MAE's for 5-Fold: [ 8.67265673  4.4959242   7.88295247  6.49549753 12.42904537]\n",
      "Mean of MAE's for 5-Fold: 7.9952\n"
     ]
    },
    {
     "name": "stderr",
     "output_type": "stream",
     "text": [
      "Segment: opel___ZAC, Size: 208, KFold: [1/5]:  27%|██▋       | 85/320 [17:46<32:27,  8.29s/it]  "
     ]
    },
    {
     "name": "stdout",
     "output_type": "stream",
     "text": [
      "MAE's for 5-Fold: [ 7.51755282  4.44434422 11.43628605  4.76868624  5.24600396]\n",
      "Mean of MAE's for 5-Fold: 6.6826\n"
     ]
    },
    {
     "name": "stderr",
     "output_type": "stream",
     "text": [
      "Segment: ford___MAL, Size: 478, KFold: [1/5]:  27%|██▋       | 86/320 [17:56<33:44,  8.65s/it]"
     ]
    },
    {
     "name": "stdout",
     "output_type": "stream",
     "text": [
      "MAE's for 5-Fold: [4.20798725 4.51209995 5.25110891 4.80275625 3.05607954]\n",
      "Mean of MAE's for 5-Fold: 4.3660\n"
     ]
    },
    {
     "name": "stderr",
     "output_type": "stream",
     "text": [
      "Segment: mercedes-benz___POL, Size: 57, KFold: [1/5]:  27%|██▋       | 87/320 [18:07<36:58,  9.52s/it]"
     ]
    },
    {
     "name": "stdout",
     "output_type": "stream",
     "text": [
      "MAE's for 5-Fold: [6.15919736 7.45421666 5.97345001 6.67577061 7.04119477]\n",
      "Mean of MAE's for 5-Fold: 6.6608\n"
     ]
    },
    {
     "name": "stderr",
     "output_type": "stream",
     "text": [
      "Segment: audi___WAR, Size: 180, KFold: [1/5]:  28%|██▊       | 88/320 [18:17<36:48,  9.52s/it]        "
     ]
    },
    {
     "name": "stdout",
     "output_type": "stream",
     "text": [
      "MAE's for 5-Fold: [21.25935225 13.77747184  9.36930595 19.19859044 10.40319082]\n",
      "Mean of MAE's for 5-Fold: 14.8016\n"
     ]
    },
    {
     "name": "stderr",
     "output_type": "stream",
     "text": [
      "Segment: opel___LOD, Size: 455, KFold: [1/5]:  28%|██▊       | 89/320 [18:24<33:53,  8.80s/it]"
     ]
    },
    {
     "name": "stdout",
     "output_type": "stream",
     "text": [
      "MAE's for 5-Fold: [14.21615598  9.00512358 15.25521678 11.42225667  8.43590429]\n",
      "Mean of MAE's for 5-Fold: 11.6669\n"
     ]
    },
    {
     "name": "stderr",
     "output_type": "stream",
     "text": [
      "Segment: toyota___MAL, Size: 244, KFold: [1/5]:  28%|██▊       | 90/320 [18:42<44:52, 11.70s/it]"
     ]
    },
    {
     "name": "stdout",
     "output_type": "stream",
     "text": [
      "MAE's for 5-Fold: [5.61284775 5.11383592 4.0795211  3.56426284 3.71124108]\n",
      "Mean of MAE's for 5-Fold: 4.4163\n"
     ]
    },
    {
     "name": "stderr",
     "output_type": "stream",
     "text": [
      "Segment: bmw___KUJ, Size: 215, KFold: [1/5]:  28%|██▊       | 91/320 [18:54<45:07, 11.82s/it]   "
     ]
    },
    {
     "name": "stdout",
     "output_type": "stream",
     "text": [
      "MAE's for 5-Fold: [9.22709403 9.16291853 8.16109789 9.78897723 8.26170107]\n",
      "Mean of MAE's for 5-Fold: 8.9204\n"
     ]
    },
    {
     "name": "stderr",
     "output_type": "stream",
     "text": [
      "Segment: nissan___LOD, Size: 120, KFold: [1/5]:  29%|██▉       | 92/320 [19:06<44:17, 11.65s/it]"
     ]
    },
    {
     "name": "stdout",
     "output_type": "stream",
     "text": [
      "MAE's for 5-Fold: [10.38432153  8.55448554  7.6797561   8.63772642 10.29086342]\n",
      "Mean of MAE's for 5-Fold: 9.1094\n"
     ]
    },
    {
     "name": "stderr",
     "output_type": "stream",
     "text": [
      "Segment: mazda___SLA, Size: 194, KFold: [1/5]:  29%|██▉       | 93/320 [19:20<46:59, 12.42s/it] "
     ]
    },
    {
     "name": "stdout",
     "output_type": "stream",
     "text": [
      "MAE's for 5-Fold: [8.14531318 6.84904225 4.25653514 6.42855928 8.16500643]\n",
      "Mean of MAE's for 5-Fold: 6.7689\n"
     ]
    },
    {
     "name": "stderr",
     "output_type": "stream",
     "text": [
      "Segment: volkswagen___LUU, Size: 184, KFold: [1/5]:  29%|██▉       | 94/320 [19:28<41:28, 11.01s/it]"
     ]
    },
    {
     "name": "stdout",
     "output_type": "stream",
     "text": [
      "MAE's for 5-Fold: [5.98544809 7.60072863 8.08973996 8.15278854 8.78540101]\n",
      "Mean of MAE's for 5-Fold: 7.7228\n"
     ]
    },
    {
     "name": "stderr",
     "output_type": "stream",
     "text": [
      "Segment: mitsubishi___SLA, Size: 76, KFold: [1/5]:  30%|██▉       | 95/320 [19:45<48:11, 12.85s/it] "
     ]
    },
    {
     "name": "stdout",
     "output_type": "stream",
     "text": [
      "MAE's for 5-Fold: [ 4.78724882 10.52905186  9.77315908  7.96337376 11.27738416]\n",
      "Mean of MAE's for 5-Fold: 8.8660\n"
     ]
    },
    {
     "name": "stderr",
     "output_type": "stream",
     "text": [
      "Segment: citroen___WIE, Size: 167, KFold: [1/5]:  30%|███       | 96/320 [19:51<40:29, 10.85s/it]  "
     ]
    },
    {
     "name": "stdout",
     "output_type": "stream",
     "text": [
      "MAE's for 5-Fold: [8.1625059  6.65417993 6.65287809 6.44487708 7.19566364]\n",
      "Mean of MAE's for 5-Fold: 7.0220\n"
     ]
    },
    {
     "name": "stderr",
     "output_type": "stream",
     "text": [
      "Segment: volkswagen___DOL, Size: 496, KFold: [1/5]:  30%|███       | 97/320 [20:04<42:30, 11.44s/it]"
     ]
    },
    {
     "name": "stdout",
     "output_type": "stream",
     "text": [
      "MAE's for 5-Fold: [4.82129733 5.71165113 5.23072258 4.77184232 4.86698856]\n",
      "Mean of MAE's for 5-Fold: 5.0805\n"
     ]
    },
    {
     "name": "stderr",
     "output_type": "stream",
     "text": [
      "Segment: audi___MAL, Size: 454, KFold: [1/5]:  31%|███       | 98/320 [20:22<50:06, 13.54s/it]      "
     ]
    },
    {
     "name": "stdout",
     "output_type": "stream",
     "text": [
      "MAE's for 5-Fold: [6.80698811 6.65668008 7.40895604 6.96928936 6.71860378]\n",
      "Mean of MAE's for 5-Fold: 6.9121\n"
     ]
    },
    {
     "name": "stderr",
     "output_type": "stream",
     "text": [
      "Segment: toyota___ZAC, Size: 102, KFold: [1/5]:  31%|███       | 99/320 [20:32<45:23, 12.32s/it]"
     ]
    },
    {
     "name": "stdout",
     "output_type": "stream",
     "text": [
      "MAE's for 5-Fold: [8.72122164 7.18692817 8.0368423  8.18232485 7.17563434]\n",
      "Mean of MAE's for 5-Fold: 7.8606\n"
     ]
    },
    {
     "name": "stderr",
     "output_type": "stream",
     "text": [
      "Segment: ford___LUU, Size: 140, KFold: [1/5]:  31%|███▏      | 100/320 [20:40<41:00, 11.19s/it]  "
     ]
    },
    {
     "name": "stdout",
     "output_type": "stream",
     "text": [
      "MAE's for 5-Fold: [ 7.82754392  7.39726725  9.17930351 10.38276538  9.31632639]\n",
      "Mean of MAE's for 5-Fold: 8.8206\n"
     ]
    },
    {
     "name": "stderr",
     "output_type": "stream",
     "text": [
      "Segment: hyundai___MAZ, Size: 355, KFold: [1/5]:  32%|███▏      | 101/320 [20:54<43:21, 11.88s/it]"
     ]
    },
    {
     "name": "stdout",
     "output_type": "stream",
     "text": [
      "MAE's for 5-Fold: [6.22867808 5.36758533 8.9019837  6.72736759 5.80973214]\n",
      "Mean of MAE's for 5-Fold: 6.6071\n"
     ]
    },
    {
     "name": "stderr",
     "output_type": "stream",
     "text": [
      "Segment: nissan___WAR, Size: 60, KFold: [1/5]:  32%|███▏      | 102/320 [21:08<45:40, 12.57s/it]  "
     ]
    },
    {
     "name": "stdout",
     "output_type": "stream",
     "text": [
      "MAE's for 5-Fold: [7.22320698 5.24228739 8.10327114 6.95030204 6.40585493]\n",
      "Mean of MAE's for 5-Fold: 6.7850\n"
     ]
    },
    {
     "name": "stderr",
     "output_type": "stream",
     "text": [
      "Segment: skoda___LUB, Size: 103, KFold: [1/5]:  32%|███▏      | 103/320 [21:17<41:28, 11.47s/it]"
     ]
    },
    {
     "name": "stdout",
     "output_type": "stream",
     "text": [
      "MAE's for 5-Fold: [16.61628695  7.82461801 24.1183535  15.16488358  8.32539842]\n",
      "Mean of MAE's for 5-Fold: 14.4099\n"
     ]
    },
    {
     "name": "stderr",
     "output_type": "stream",
     "text": [
      "Segment: opel___WIE, Size: 799, KFold: [1/5]:  32%|███▎      | 104/320 [21:25<37:37, 10.45s/it] "
     ]
    },
    {
     "name": "stdout",
     "output_type": "stream",
     "text": [
      "MAE's for 5-Fold: [10.96534462 12.84528295  8.86696111 12.27315148  8.51350422]\n",
      "Mean of MAE's for 5-Fold: 10.6928\n"
     ]
    },
    {
     "name": "stderr",
     "output_type": "stream",
     "text": [
      "Segment: kia___POM, Size: 96, KFold: [1/5]:  33%|███▎      | 105/320 [21:37<39:18, 10.97s/it]  "
     ]
    },
    {
     "name": "stdout",
     "output_type": "stream",
     "text": [
      "MAE's for 5-Fold: [4.20356829 4.47018566 5.16377157 4.23784168 4.51118655]\n",
      "Mean of MAE's for 5-Fold: 4.5173\n"
     ]
    },
    {
     "name": "stderr",
     "output_type": "stream",
     "text": [
      "Segment: mitsubishi___SWI, Size: 9, KFold: [1/5]:  33%|███▎      | 106/320 [21:51<42:49, 12.01s/it]"
     ]
    },
    {
     "name": "stdout",
     "output_type": "stream",
     "text": [
      "MAE's for 5-Fold: [ 8.07099637 10.71415166 10.22873612  7.00219642  8.40695167]\n",
      "Mean of MAE's for 5-Fold: 8.8846\n"
     ]
    },
    {
     "name": "stderr",
     "output_type": "stream",
     "text": [
      "Segment: audi___POM, Size: 360, KFold: [1/5]:  33%|███▎      | 107/320 [21:55<33:39,  9.48s/it]    "
     ]
    },
    {
     "name": "stdout",
     "output_type": "stream",
     "text": [
      "MAE's for 5-Fold: [ 6.44660392  3.449834    7.72073782 24.17957687  7.96412724]\n",
      "Mean of MAE's for 5-Fold: 9.9522\n"
     ]
    },
    {
     "name": "stderr",
     "output_type": "stream",
     "text": [
      "Segment: renault___ZAC, Size: 112, KFold: [1/5]:  34%|███▍      | 108/320 [22:08<36:57, 10.46s/it]"
     ]
    },
    {
     "name": "stdout",
     "output_type": "stream",
     "text": [
      "MAE's for 5-Fold: [7.08778852 8.06025253 8.01858783 7.09620173 7.46346283]\n",
      "Mean of MAE's for 5-Fold: 7.5453\n"
     ]
    },
    {
     "name": "stderr",
     "output_type": "stream",
     "text": [
      "Segment: nissan___POM, Size: 119, KFold: [1/5]:  34%|███▍      | 109/320 [22:26<45:31, 12.95s/it] "
     ]
    },
    {
     "name": "stdout",
     "output_type": "stream",
     "text": [
      "MAE's for 5-Fold: [5.58224581 8.5217534  4.0257333  8.07682124 6.26674255]\n",
      "Mean of MAE's for 5-Fold: 6.4947\n"
     ]
    },
    {
     "name": "stderr",
     "output_type": "stream",
     "text": [
      "Segment: volvo___SWI, Size: 37, KFold: [1/5]:  34%|███▍      | 110/320 [22:33<38:21, 10.96s/it]  "
     ]
    },
    {
     "name": "stdout",
     "output_type": "stream",
     "text": [
      "MAE's for 5-Fold: [12.36937629  7.83061603  6.40282932  8.2637746   7.29780711]\n",
      "Mean of MAE's for 5-Fold: 8.4329\n"
     ]
    },
    {
     "name": "stderr",
     "output_type": "stream",
     "text": [
      "Segment: renault___LUB, Size: 172, KFold: [1/5]:  35%|███▍      | 111/320 [22:41<34:55, 10.03s/it]"
     ]
    },
    {
     "name": "stdout",
     "output_type": "stream",
     "text": [
      "MAE's for 5-Fold: [ 7.4799191  16.0022454  21.86464213 26.5439333   9.57763272]\n",
      "Mean of MAE's for 5-Fold: 16.2937\n"
     ]
    },
    {
     "name": "stderr",
     "output_type": "stream",
     "text": [
      "Segment: seat___POM, Size: 92, KFold: [1/5]:  35%|███▌      | 112/320 [22:47<31:26,  9.07s/it]    "
     ]
    },
    {
     "name": "stdout",
     "output_type": "stream",
     "text": [
      "MAE's for 5-Fold: [ 5.59608973  5.15134958  5.30935754  6.05071916 10.20503001]\n",
      "Mean of MAE's for 5-Fold: 6.4625\n"
     ]
    },
    {
     "name": "stderr",
     "output_type": "stream",
     "text": [
      "Segment: honda___KUJ, Size: 61, KFold: [1/5]:  35%|███▌      | 113/320 [22:54<28:24,  8.24s/it]"
     ]
    },
    {
     "name": "stdout",
     "output_type": "stream",
     "text": [
      "MAE's for 5-Fold: [16.2712278   6.91039184  5.93512748  8.90101699  7.35462662]\n",
      "Mean of MAE's for 5-Fold: 9.0745\n"
     ]
    },
    {
     "name": "stderr",
     "output_type": "stream",
     "text": [
      "Segment: seat___LOD, Size: 69, KFold: [1/5]:  36%|███▌      | 114/320 [23:00<26:05,  7.60s/it] "
     ]
    },
    {
     "name": "stdout",
     "output_type": "stream",
     "text": [
      "MAE's for 5-Fold: [ 9.90744418  6.83700745 10.58613377  9.0765176   7.02936428]\n",
      "Mean of MAE's for 5-Fold: 8.6873\n"
     ]
    },
    {
     "name": "stderr",
     "output_type": "stream",
     "text": [
      "Segment: toyota___SLA, Size: 384, KFold: [1/5]:  36%|███▌      | 115/320 [23:11<29:07,  8.52s/it]"
     ]
    },
    {
     "name": "stdout",
     "output_type": "stream",
     "text": [
      "MAE's for 5-Fold: [4.50864565 6.67193382 9.34740266 4.39017085 9.43877187]\n",
      "Mean of MAE's for 5-Fold: 6.8714\n"
     ]
    },
    {
     "name": "stderr",
     "output_type": "stream",
     "text": [
      "Segment: opel___WAR, Size: 154, KFold: [1/5]:  36%|███▋      | 116/320 [23:28<37:45, 11.11s/it]  "
     ]
    },
    {
     "name": "stdout",
     "output_type": "stream",
     "text": [
      "MAE's for 5-Fold: [7.45631679 5.44779323 6.45938382 6.09588368 6.50901179]\n",
      "Mean of MAE's for 5-Fold: 6.3937\n"
     ]
    },
    {
     "name": "stderr",
     "output_type": "stream",
     "text": [
      "Segment: opel___POD, Size: 242, KFold: [1/5]:  37%|███▋      | 117/320 [23:37<36:02, 10.65s/it]"
     ]
    },
    {
     "name": "stdout",
     "output_type": "stream",
     "text": [
      "MAE's for 5-Fold: [3.89952926 4.35108036 3.88273487 3.82481659 7.46564318]\n",
      "Mean of MAE's for 5-Fold: 4.6848\n"
     ]
    },
    {
     "name": "stderr",
     "output_type": "stream",
     "text": [
      "Segment: kia___SWI, Size: 96, KFold: [1/5]:  37%|███▋      | 118/320 [23:46<33:28,  9.94s/it]  "
     ]
    },
    {
     "name": "stdout",
     "output_type": "stream",
     "text": [
      "MAE's for 5-Fold: [6.76091454 5.86179995 3.70447688 5.43588928 5.25517864]\n",
      "Mean of MAE's for 5-Fold: 5.4037\n"
     ]
    },
    {
     "name": "stderr",
     "output_type": "stream",
     "text": [
      "Segment: bmw___SWI, Size: 184, KFold: [1/5]:  37%|███▋      | 119/320 [23:56<33:27,  9.99s/it]"
     ]
    },
    {
     "name": "stdout",
     "output_type": "stream",
     "text": [
      "MAE's for 5-Fold: [5.74079256 6.15646906 8.16127674 5.05847037 8.40614314]\n",
      "Mean of MAE's for 5-Fold: 6.7046\n"
     ]
    },
    {
     "name": "stderr",
     "output_type": "stream",
     "text": [
      "Segment: volkswagen___POM, Size: 508, KFold: [1/5]:  38%|███▊      | 120/320 [24:06<33:19, 10.00s/it]"
     ]
    },
    {
     "name": "stdout",
     "output_type": "stream",
     "text": [
      "MAE's for 5-Fold: [ 8.64196534 12.80792703  9.47262392 10.81053698 10.79010995]\n",
      "Mean of MAE's for 5-Fold: 10.5046\n"
     ]
    },
    {
     "name": "stderr",
     "output_type": "stream",
     "text": [
      "Segment: kia___MAL, Size: 171, KFold: [1/5]:  38%|███▊      | 121/320 [24:20<37:04, 11.18s/it]       "
     ]
    },
    {
     "name": "stdout",
     "output_type": "stream",
     "text": [
      "MAE's for 5-Fold: [7.63779302 7.90589591 7.62783656 9.77972989 7.45427483]\n",
      "Mean of MAE's for 5-Fold: 8.0811\n"
     ]
    },
    {
     "name": "stderr",
     "output_type": "stream",
     "text": [
      "Segment: renault___LOD, Size: 241, KFold: [1/5]:  38%|███▊      | 122/320 [24:26<32:33,  9.86s/it]"
     ]
    },
    {
     "name": "stdout",
     "output_type": "stream",
     "text": [
      "MAE's for 5-Fold: [4.86420079 7.4618031  7.19371558 8.75550299 8.13336221]\n",
      "Mean of MAE's for 5-Fold: 7.2817\n"
     ]
    },
    {
     "name": "stderr",
     "output_type": "stream",
     "text": [
      "Segment: toyota___LUB, Size: 123, KFold: [1/5]:  38%|███▊      | 123/320 [24:38<33:55, 10.33s/it] "
     ]
    },
    {
     "name": "stdout",
     "output_type": "stream",
     "text": [
      "MAE's for 5-Fold: [5.34738654 5.94517976 6.40223197 5.79157626 5.07655707]\n",
      "Mean of MAE's for 5-Fold: 5.7126\n"
     ]
    },
    {
     "name": "stderr",
     "output_type": "stream",
     "text": [
      "Segment: volkswagen___ZAC, Size: 237, KFold: [1/5]:  39%|███▉      | 124/320 [24:44<30:06,  9.22s/it]"
     ]
    },
    {
     "name": "stdout",
     "output_type": "stream",
     "text": [
      "MAE's for 5-Fold: [ 6.27779102 10.78672318  9.92931071  7.6184779   9.24295283]\n",
      "Mean of MAE's for 5-Fold: 8.7711\n"
     ]
    },
    {
     "name": "stderr",
     "output_type": "stream",
     "text": [
      "Segment: ford___WAR, Size: 160, KFold: [1/5]:  39%|███▉      | 125/320 [25:04<39:38, 12.20s/it]      "
     ]
    },
    {
     "name": "stdout",
     "output_type": "stream",
     "text": [
      "MAE's for 5-Fold: [10.62908582  5.73686389  5.48409864  5.83982878  8.27681553]\n",
      "Mean of MAE's for 5-Fold: 7.1933\n"
     ]
    },
    {
     "name": "stderr",
     "output_type": "stream",
     "text": [
      "Segment: audi___LOD, Size: 273, KFold: [1/5]:  39%|███▉      | 126/320 [25:12<35:48, 11.08s/it]"
     ]
    },
    {
     "name": "stdout",
     "output_type": "stream",
     "text": [
      "MAE's for 5-Fold: [ 9.82345842  6.81115119  9.589954    5.41736934 10.6847826 ]\n",
      "Mean of MAE's for 5-Fold: 8.4653\n"
     ]
    },
    {
     "name": "stderr",
     "output_type": "stream",
     "text": [
      "Segment: volkswagen___POD, Size: 136, KFold: [1/5]:  40%|███▉      | 127/320 [25:25<37:04, 11.52s/it]"
     ]
    },
    {
     "name": "stdout",
     "output_type": "stream",
     "text": [
      "MAE's for 5-Fold: [ 9.91128897 12.49506524  6.92203041  7.47575912  7.81300259]\n",
      "Mean of MAE's for 5-Fold: 8.9234\n"
     ]
    },
    {
     "name": "stderr",
     "output_type": "stream",
     "text": [
      "Segment: audi___WIE, Size: 573, KFold: [1/5]:  40%|████      | 128/320 [25:37<37:34, 11.74s/it]      "
     ]
    },
    {
     "name": "stdout",
     "output_type": "stream",
     "text": [
      "MAE's for 5-Fold: [10.03894508  7.78609784  7.51436942  9.48333312 10.86122286]\n",
      "Mean of MAE's for 5-Fold: 9.1368\n"
     ]
    },
    {
     "name": "stderr",
     "output_type": "stream",
     "text": [
      "Segment: skoda___KUJ, Size: 165, KFold: [1/5]:  40%|████      | 129/320 [25:48<36:38, 11.51s/it]"
     ]
    },
    {
     "name": "stdout",
     "output_type": "stream",
     "text": [
      "MAE's for 5-Fold: [7.03647383 8.27754268 7.29663067 6.77090575 7.82245674]\n",
      "Mean of MAE's for 5-Fold: 7.4408\n"
     ]
    },
    {
     "name": "stderr",
     "output_type": "stream",
     "text": [
      "Segment: bmw___ZAC, Size: 209, KFold: [1/5]:  41%|████      | 130/320 [26:06<42:56, 13.56s/it]  "
     ]
    },
    {
     "name": "stdout",
     "output_type": "stream",
     "text": [
      "MAE's for 5-Fold: [ 8.1191743   6.2783091   7.55812595  8.56056286 11.52600524]\n",
      "Mean of MAE's for 5-Fold: 8.4084\n"
     ]
    },
    {
     "name": "stderr",
     "output_type": "stream",
     "text": [
      "Segment: bmw___WIE, Size: 664, KFold: [1/5]:  41%|████      | 131/320 [26:16<39:23, 12.50s/it]"
     ]
    },
    {
     "name": "stdout",
     "output_type": "stream",
     "text": [
      "MAE's for 5-Fold: [7.51849239 7.99467648 9.33043839 9.49373344 8.7097002 ]\n",
      "Mean of MAE's for 5-Fold: 8.6094\n"
     ]
    },
    {
     "name": "stderr",
     "output_type": "stream",
     "text": [
      "Segment: mazda___OPO, Size: 21, KFold: [1/5]:  41%|████▏     | 132/320 [26:27<37:59, 12.12s/it]"
     ]
    },
    {
     "name": "stdout",
     "output_type": "stream",
     "text": [
      "MAE's for 5-Fold: [8.85531586 9.39750035 8.90837833 8.20524642 9.168066  ]\n",
      "Mean of MAE's for 5-Fold: 8.9069\n"
     ]
    },
    {
     "name": "stderr",
     "output_type": "stream",
     "text": [
      "Segment: toyota___POM, Size: 214, KFold: [1/5]:  42%|████▏     | 133/320 [26:33<31:31, 10.12s/it]"
     ]
    },
    {
     "name": "stdout",
     "output_type": "stream",
     "text": [
      "MAE's for 5-Fold: [ 5.96093471  8.73039409  4.74225943  9.94438096 17.68430718]\n",
      "Mean of MAE's for 5-Fold: 9.4125\n"
     ]
    },
    {
     "name": "stderr",
     "output_type": "stream",
     "text": [
      "Segment: bmw___POD, Size: 156, KFold: [1/5]:  42%|████▏     | 134/320 [26:45<32:59, 10.64s/it]   "
     ]
    },
    {
     "name": "stdout",
     "output_type": "stream",
     "text": [
      "MAE's for 5-Fold: [4.90795702 8.27835568 5.41034347 7.99896748 7.78576453]\n",
      "Mean of MAE's for 5-Fold: 6.8763\n"
     ]
    },
    {
     "name": "stderr",
     "output_type": "stream",
     "text": [
      "Segment: skoda___WIE, Size: 307, KFold: [1/5]:  42%|████▏     | 135/320 [27:03<40:06, 13.01s/it]"
     ]
    },
    {
     "name": "stdout",
     "output_type": "stream",
     "text": [
      "MAE's for 5-Fold: [ 9.60473455 15.25654785 12.0513884   9.6892719  13.983256  ]\n",
      "Mean of MAE's for 5-Fold: 12.1170\n"
     ]
    },
    {
     "name": "stderr",
     "output_type": "stream",
     "text": [
      "Segment: fiat___WIE, Size: 137, KFold: [1/5]:  42%|████▎     | 136/320 [27:19<42:23, 13.82s/it] "
     ]
    },
    {
     "name": "stdout",
     "output_type": "stream",
     "text": [
      "MAE's for 5-Fold: [ 8.48704069  7.76309644 10.93710287  8.507847    8.46812444]\n",
      "Mean of MAE's for 5-Fold: 8.8326\n"
     ]
    },
    {
     "name": "stderr",
     "output_type": "stream",
     "text": [
      "Segment: nissan___ZAC, Size: 84, KFold: [1/5]:  43%|████▎     | 137/320 [27:27<37:07, 12.17s/it]"
     ]
    },
    {
     "name": "stdout",
     "output_type": "stream",
     "text": [
      "MAE's for 5-Fold: [5.87785007 3.63312312 4.7507579  5.61439226 6.26350942]\n",
      "Mean of MAE's for 5-Fold: 5.2279\n"
     ]
    },
    {
     "name": "stderr",
     "output_type": "stream",
     "text": [
      "Segment: volkswagen___MAL, Size: 444, KFold: [1/5]:  43%|████▎     | 138/320 [27:36<33:39, 11.10s/it]"
     ]
    },
    {
     "name": "stdout",
     "output_type": "stream",
     "text": [
      "MAE's for 5-Fold: [ 6.55253674  7.47429038  3.97816572 10.81364606  7.73697635]\n",
      "Mean of MAE's for 5-Fold: 7.3111\n"
     ]
    },
    {
     "name": "stderr",
     "output_type": "stream",
     "text": [
      "Segment: volkswagen___SWI, Size: 149, KFold: [1/5]:  43%|████▎     | 139/320 [27:50<35:53, 11.90s/it]"
     ]
    },
    {
     "name": "stdout",
     "output_type": "stream",
     "text": [
      "MAE's for 5-Fold: [6.32286981 7.5028586  8.02218392 7.98034192 7.11983096]\n",
      "Mean of MAE's for 5-Fold: 7.3896\n"
     ]
    },
    {
     "name": "stderr",
     "output_type": "stream",
     "text": [
      "Segment: skoda___POM, Size: 297, KFold: [1/5]:  44%|████▍     | 140/320 [27:57<31:55, 10.64s/it]     "
     ]
    },
    {
     "name": "stdout",
     "output_type": "stream",
     "text": [
      "MAE's for 5-Fold: [7.57867646 9.23049203 8.55735615 5.72933307 7.57564979]\n",
      "Mean of MAE's for 5-Fold: 7.7343\n"
     ]
    },
    {
     "name": "stderr",
     "output_type": "stream",
     "text": [
      "Segment: nissan___MAL, Size: 188, KFold: [1/5]:  44%|████▍     | 141/320 [28:05<29:16,  9.82s/it]"
     ]
    },
    {
     "name": "stdout",
     "output_type": "stream",
     "text": [
      "MAE's for 5-Fold: [ 6.52820203  8.42386651  7.14330168  7.00620067 10.61844109]\n",
      "Mean of MAE's for 5-Fold: 7.9440\n"
     ]
    },
    {
     "name": "stderr",
     "output_type": "stream",
     "text": [
      "Segment: opel___LUB, Size: 253, KFold: [1/5]:  44%|████▍     | 142/320 [28:16<29:34,  9.97s/it]  "
     ]
    },
    {
     "name": "stdout",
     "output_type": "stream",
     "text": [
      "MAE's for 5-Fold: [5.41041693 6.79433621 7.63557754 9.52080285 8.13102677]\n",
      "Mean of MAE's for 5-Fold: 7.4984\n"
     ]
    },
    {
     "name": "stderr",
     "output_type": "stream",
     "text": [
      "Segment: honda___MAL, Size: 133, KFold: [1/5]:  45%|████▍     | 143/320 [28:29<32:04, 10.87s/it]"
     ]
    },
    {
     "name": "stdout",
     "output_type": "stream",
     "text": [
      "MAE's for 5-Fold: [4.44470639 5.19372902 6.15256351 4.25101366 4.7250898 ]\n",
      "Mean of MAE's for 5-Fold: 4.9534\n"
     ]
    },
    {
     "name": "stderr",
     "output_type": "stream",
     "text": [
      "Segment: opel___POL, Size: 94, KFold: [1/5]:  45%|████▌     | 144/320 [28:39<31:53, 10.87s/it]  "
     ]
    },
    {
     "name": "stdout",
     "output_type": "stream",
     "text": [
      "MAE's for 5-Fold: [5.10664888 6.32700832 5.73002485 7.93211649 7.77159836]\n",
      "Mean of MAE's for 5-Fold: 6.5735\n"
     ]
    },
    {
     "name": "stderr",
     "output_type": "stream",
     "text": [
      "Segment: hyundai___MAL, Size: 123, KFold: [1/5]:  45%|████▌     | 145/320 [28:49<30:07, 10.33s/it]"
     ]
    },
    {
     "name": "stdout",
     "output_type": "stream",
     "text": [
      "MAE's for 5-Fold: [ 6.58015236  4.55338932 10.64462463  5.29092201  5.88887417]\n",
      "Mean of MAE's for 5-Fold: 6.5916\n"
     ]
    },
    {
     "name": "stderr",
     "output_type": "stream",
     "text": [
      "Segment: kia___MAZ, Size: 343, KFold: [1/5]:  46%|████▌     | 146/320 [28:57<28:18,  9.76s/it]    "
     ]
    },
    {
     "name": "stdout",
     "output_type": "stream",
     "text": [
      "MAE's for 5-Fold: [6.5365442  8.00640017 7.22260417 8.13885878 7.47565109]\n",
      "Mean of MAE's for 5-Fold: 7.4760\n"
     ]
    },
    {
     "name": "stderr",
     "output_type": "stream",
     "text": [
      "Segment: audi___KUJ, Size: 240, KFold: [1/5]:  46%|████▌     | 147/320 [29:12<32:42, 11.35s/it]"
     ]
    },
    {
     "name": "stdout",
     "output_type": "stream",
     "text": [
      "MAE's for 5-Fold: [7.96201591 7.65377351 6.10080245 5.26337173 6.97022822]\n",
      "Mean of MAE's for 5-Fold: 6.7900\n"
     ]
    },
    {
     "name": "stderr",
     "output_type": "stream",
     "text": [
      "Segment: seat___DOL, Size: 122, KFold: [1/5]:  46%|████▋     | 148/320 [29:20<29:59, 10.46s/it]"
     ]
    },
    {
     "name": "stdout",
     "output_type": "stream",
     "text": [
      "MAE's for 5-Fold: [6.02736882 7.09196835 6.89202853 7.20117289 7.00519111]\n",
      "Mean of MAE's for 5-Fold: 6.8435\n"
     ]
    },
    {
     "name": "stderr",
     "output_type": "stream",
     "text": [
      "Segment: audi___POD, Size: 193, KFold: [1/5]:  47%|████▋     | 149/320 [29:29<28:17,  9.93s/it]"
     ]
    },
    {
     "name": "stdout",
     "output_type": "stream",
     "text": [
      "MAE's for 5-Fold: [7.19284948 8.05009962 8.02164353 5.59654378 6.93989752]\n",
      "Mean of MAE's for 5-Fold: 7.1602\n"
     ]
    },
    {
     "name": "stderr",
     "output_type": "stream",
     "text": [
      "Segment: nissan___LUU, Size: 48, KFold: [1/5]:  47%|████▋     | 150/320 [29:44<32:16, 11.39s/it]"
     ]
    },
    {
     "name": "stdout",
     "output_type": "stream",
     "text": [
      "MAE's for 5-Fold: [ 9.11820823  8.80685763 10.03947995  9.6163854   7.68771296]\n",
      "Mean of MAE's for 5-Fold: 9.0537\n"
     ]
    },
    {
     "name": "stderr",
     "output_type": "stream",
     "text": [
      "Segment: seat___LUB, Size: 65, KFold: [1/5]:  47%|████▋     | 151/320 [29:56<32:31, 11.55s/it]  "
     ]
    },
    {
     "name": "stdout",
     "output_type": "stream",
     "text": [
      "MAE's for 5-Fold: [9.7105348  6.77546715 9.44657961 9.2727438  8.34588032]\n",
      "Mean of MAE's for 5-Fold: 8.7102\n"
     ]
    },
    {
     "name": "stderr",
     "output_type": "stream",
     "text": [
      "Segment: seat___MAZ, Size: 269, KFold: [1/5]:  48%|████▊     | 152/320 [30:06<30:52, 11.03s/it]"
     ]
    },
    {
     "name": "stdout",
     "output_type": "stream",
     "text": [
      "MAE's for 5-Fold: [ 5.84562885 10.11382372  9.33084147  7.57742628  4.4183535 ]\n",
      "Mean of MAE's for 5-Fold: 7.4572\n"
     ]
    },
    {
     "name": "stderr",
     "output_type": "stream",
     "text": [
      "Segment: honda___DOL, Size: 102, KFold: [1/5]:  48%|████▊     | 153/320 [30:21<34:21, 12.34s/it]"
     ]
    },
    {
     "name": "stdout",
     "output_type": "stream",
     "text": [
      "MAE's for 5-Fold: [6.17180593 6.15850311 7.2121407  6.25219367 7.1645265 ]\n",
      "Mean of MAE's for 5-Fold: 6.5918\n"
     ]
    },
    {
     "name": "stderr",
     "output_type": "stream",
     "text": [
      "Segment: citroen___MAZ, Size: 208, KFold: [1/5]:  48%|████▊     | 154/320 [30:40<39:58, 14.45s/it]"
     ]
    },
    {
     "name": "stdout",
     "output_type": "stream",
     "text": [
      "MAE's for 5-Fold: [5.66954289 6.17274349 6.19473655 5.05488465 6.95876956]\n",
      "Mean of MAE's for 5-Fold: 6.0101\n"
     ]
    },
    {
     "name": "stderr",
     "output_type": "stream",
     "text": [
      "Segment: toyota___DOL, Size: 295, KFold: [1/5]:  48%|████▊     | 155/320 [30:51<36:38, 13.32s/it] "
     ]
    },
    {
     "name": "stdout",
     "output_type": "stream",
     "text": [
      "MAE's for 5-Fold: [5.92177771 6.21642646 4.88750491 4.43654935 4.8987628 ]\n",
      "Mean of MAE's for 5-Fold: 5.2722\n"
     ]
    },
    {
     "name": "stderr",
     "output_type": "stream",
     "text": [
      "Segment: seat___LUU, Size: 42, KFold: [1/5]:  49%|████▉     | 156/320 [30:59<31:43, 11.61s/it]   "
     ]
    },
    {
     "name": "stdout",
     "output_type": "stream",
     "text": [
      "MAE's for 5-Fold: [6.32301261 6.75823388 5.34072896 8.91562516 7.00777623]\n",
      "Mean of MAE's for 5-Fold: 6.8691\n"
     ]
    },
    {
     "name": "stderr",
     "output_type": "stream",
     "text": [
      "Segment: toyota___WAR, Size: 105, KFold: [1/5]:  49%|████▉     | 157/320 [31:05<27:09, 10.00s/it]"
     ]
    },
    {
     "name": "stdout",
     "output_type": "stream",
     "text": [
      "MAE's for 5-Fold: [9.97120518 6.65512594 9.03574763 8.03634093 6.12087291]\n",
      "Mean of MAE's for 5-Fold: 7.9639\n"
     ]
    },
    {
     "name": "stderr",
     "output_type": "stream",
     "text": [
      "Segment: hyundai___SLA, Size: 259, KFold: [1/5]:  49%|████▉     | 158/320 [31:17<28:56, 10.72s/it]"
     ]
    },
    {
     "name": "stdout",
     "output_type": "stream",
     "text": [
      "MAE's for 5-Fold: [10.73400448  9.37013732  9.41001376  9.57341363  9.41775677]\n",
      "Mean of MAE's for 5-Fold: 9.7011\n"
     ]
    },
    {
     "name": "stderr",
     "output_type": "stream",
     "text": [
      "Segment: renault___OPO, Size: 43, KFold: [1/5]:  50%|████▉     | 159/320 [31:29<29:29, 10.99s/it] "
     ]
    },
    {
     "name": "stdout",
     "output_type": "stream",
     "text": [
      "MAE's for 5-Fold: [6.58040128 6.7021618  7.63003223 6.84099169 5.07722547]\n",
      "Mean of MAE's for 5-Fold: 6.5662\n"
     ]
    },
    {
     "name": "stderr",
     "output_type": "stream",
     "text": [
      "Segment: citroen___LOD, Size: 71, KFold: [1/5]:  50%|█████     | 160/320 [31:35<24:56,  9.35s/it]"
     ]
    },
    {
     "name": "stdout",
     "output_type": "stream",
     "text": [
      "MAE's for 5-Fold: [ 8.66228967  8.08855649 19.31699919  8.57542406 12.38018408]\n",
      "Mean of MAE's for 5-Fold: 11.4047\n"
     ]
    },
    {
     "name": "stderr",
     "output_type": "stream",
     "text": [
      "Segment: mazda___POM, Size: 89, KFold: [1/5]:  50%|█████     | 161/320 [31:44<25:14,  9.52s/it]  "
     ]
    },
    {
     "name": "stdout",
     "output_type": "stream",
     "text": [
      "MAE's for 5-Fold: [ 3.89384386  6.62140652 10.27690832  3.13826062  9.32724448]\n",
      "Mean of MAE's for 5-Fold: 6.6515\n"
     ]
    },
    {
     "name": "stderr",
     "output_type": "stream",
     "text": [
      "Segment: seat___POD, Size: 54, KFold: [1/5]:  51%|█████     | 162/320 [31:55<26:04,  9.90s/it] "
     ]
    },
    {
     "name": "stdout",
     "output_type": "stream",
     "text": [
      "MAE's for 5-Fold: [ 5.25773082  3.45620521  9.60092077 11.75388364  4.74868449]\n",
      "Mean of MAE's for 5-Fold: 6.9635\n"
     ]
    },
    {
     "name": "stderr",
     "output_type": "stream",
     "text": [
      "Segment: nissan___SLA, Size: 282, KFold: [1/5]:  51%|█████     | 163/320 [32:02<23:49,  9.11s/it]"
     ]
    },
    {
     "name": "stdout",
     "output_type": "stream",
     "text": [
      "MAE's for 5-Fold: [18.59342523  9.57801903  4.06460118  2.71490004  4.68632958]\n",
      "Mean of MAE's for 5-Fold: 7.9275\n"
     ]
    },
    {
     "name": "stderr",
     "output_type": "stream",
     "text": [
      "Segment: mitsubishi___LOD, Size: 41, KFold: [1/5]:  51%|█████▏    | 164/320 [32:13<24:32,  9.44s/it]"
     ]
    },
    {
     "name": "stdout",
     "output_type": "stream",
     "text": [
      "MAE's for 5-Fold: [6.38654956 7.89321948 5.31808695 4.1015068  7.59388243]\n",
      "Mean of MAE's for 5-Fold: 6.2586\n"
     ]
    },
    {
     "name": "stderr",
     "output_type": "stream",
     "text": [
      "Segment: renault___POD, Size: 140, KFold: [1/5]:  52%|█████▏    | 165/320 [32:21<23:17,  9.02s/it]  "
     ]
    },
    {
     "name": "stdout",
     "output_type": "stream",
     "text": [
      "MAE's for 5-Fold: [11.66497184  4.7170313  10.34568983  6.5138671  18.68845059]\n",
      "Mean of MAE's for 5-Fold: 10.3860\n"
     ]
    },
    {
     "name": "stderr",
     "output_type": "stream",
     "text": [
      "Segment: mercedes-benz___LUU, Size: 96, KFold: [1/5]:  52%|█████▏    | 166/320 [32:34<26:40, 10.39s/it]"
     ]
    },
    {
     "name": "stdout",
     "output_type": "stream",
     "text": [
      "MAE's for 5-Fold: [8.54941709 7.76042298 5.51980657 8.08790855 5.30870074]\n",
      "Mean of MAE's for 5-Fold: 7.0453\n"
     ]
    },
    {
     "name": "stderr",
     "output_type": "stream",
     "text": [
      "Segment: opel___SWI, Size: 229, KFold: [1/5]:  52%|█████▏    | 167/320 [32:43<25:00,  9.81s/it]        "
     ]
    },
    {
     "name": "stdout",
     "output_type": "stream",
     "text": [
      "MAE's for 5-Fold: [10.42778022 10.31450722 10.54710945 16.77709334 20.03787638]\n",
      "Mean of MAE's for 5-Fold: 13.6209\n"
     ]
    },
    {
     "name": "stderr",
     "output_type": "stream",
     "text": [
      "Segment: volvo___POL, Size: 35, KFold: [1/5]:  52%|█████▎    | 168/320 [32:51<23:32,  9.29s/it]"
     ]
    },
    {
     "name": "stdout",
     "output_type": "stream",
     "text": [
      "MAE's for 5-Fold: [5.13524128 5.11336509 4.29521005 3.46239477 4.14224136]\n",
      "Mean of MAE's for 5-Fold: 4.4297\n"
     ]
    },
    {
     "name": "stderr",
     "output_type": "stream",
     "text": [
      "Segment: seat___ZAC, Size: 36, KFold: [1/5]:  53%|█████▎    | 169/320 [32:59<22:48,  9.06s/it] "
     ]
    },
    {
     "name": "stdout",
     "output_type": "stream",
     "text": [
      "MAE's for 5-Fold: [ 6.3354333   9.96046544  8.42098043  5.53946987 12.34523932]\n",
      "Mean of MAE's for 5-Fold: 8.5203\n"
     ]
    },
    {
     "name": "stderr",
     "output_type": "stream",
     "text": [
      "Segment: kia___SLA, Size: 301, KFold: [1/5]:  53%|█████▎    | 170/320 [33:04<19:01,  7.61s/it]"
     ]
    },
    {
     "name": "stdout",
     "output_type": "stream",
     "text": [
      "MAE's for 5-Fold: [ 7.16867455  6.85926806  4.72253195  3.52668476 15.66373899]\n",
      "Mean of MAE's for 5-Fold: 7.5882\n"
     ]
    },
    {
     "name": "stderr",
     "output_type": "stream",
     "text": [
      "Segment: renault___SWI, Size: 112, KFold: [1/5]:  53%|█████▎    | 171/320 [33:11<19:04,  7.68s/it]"
     ]
    },
    {
     "name": "stdout",
     "output_type": "stream",
     "text": [
      "MAE's for 5-Fold: [7.40502953 7.66009869 7.152252   5.96003471 6.77948699]\n",
      "Mean of MAE's for 5-Fold: 6.9914\n"
     ]
    },
    {
     "name": "stderr",
     "output_type": "stream",
     "text": [
      "Segment: audi___ZAC, Size: 198, KFold: [1/5]:  54%|█████▍    | 172/320 [33:25<23:30,  9.53s/it]   "
     ]
    },
    {
     "name": "stdout",
     "output_type": "stream",
     "text": [
      "MAE's for 5-Fold: [7.11607704 7.95787718 6.19857155 4.40682638 8.8950854 ]\n",
      "Mean of MAE's for 5-Fold: 6.9149\n"
     ]
    },
    {
     "name": "stderr",
     "output_type": "stream",
     "text": [
      "Segment: hyundai___OPO, Size: 27, KFold: [1/5]:  54%|█████▍    | 173/320 [33:34<23:01,  9.40s/it]"
     ]
    },
    {
     "name": "stdout",
     "output_type": "stream",
     "text": [
      "MAE's for 5-Fold: [10.05383869 10.71084749  9.49496955  7.60119104  9.73407247]\n",
      "Mean of MAE's for 5-Fold: 9.5190\n"
     ]
    },
    {
     "name": "stderr",
     "output_type": "stream",
     "text": [
      "Segment: bmw___LOD, Size: 303, KFold: [1/5]:  54%|█████▍    | 174/320 [33:42<21:45,  8.94s/it]   "
     ]
    },
    {
     "name": "stdout",
     "output_type": "stream",
     "text": [
      "MAE's for 5-Fold: [14.17402795 15.99376586  2.56091189 14.41101225 14.90419735]\n",
      "Mean of MAE's for 5-Fold: 12.4088\n"
     ]
    },
    {
     "name": "stderr",
     "output_type": "stream",
     "text": [
      "Segment: toyota___POL, Size: 89, KFold: [1/5]:  55%|█████▍    | 175/320 [33:51<21:35,  8.94s/it]"
     ]
    },
    {
     "name": "stdout",
     "output_type": "stream",
     "text": [
      "MAE's for 5-Fold: [ 7.90551247  7.59733181  7.13770963  9.47127986 10.11887928]\n",
      "Mean of MAE's for 5-Fold: 8.4461\n"
     ]
    },
    {
     "name": "stderr",
     "output_type": "stream",
     "text": [
      "Segment: honda___SLA, Size: 168, KFold: [1/5]:  55%|█████▌    | 176/320 [33:58<19:40,  8.20s/it]"
     ]
    },
    {
     "name": "stdout",
     "output_type": "stream",
     "text": [
      "MAE's for 5-Fold: [10.66798615 10.40460375 11.96120691 12.04492245 12.18365479]\n",
      "Mean of MAE's for 5-Fold: 11.4525\n"
     ]
    },
    {
     "name": "stderr",
     "output_type": "stream",
     "text": [
      "Segment: renault___WIE, Size: 585, KFold: [1/5]:  55%|█████▌    | 177/320 [34:05<18:57,  7.95s/it]"
     ]
    },
    {
     "name": "stdout",
     "output_type": "stream",
     "text": [
      "MAE's for 5-Fold: [7.713188   6.61623638 9.63363138 7.20683186 9.17498406]\n",
      "Mean of MAE's for 5-Fold: 8.0690\n"
     ]
    },
    {
     "name": "stderr",
     "output_type": "stream",
     "text": [
      "Segment: seat___POL, Size: 16, KFold: [1/5]:  56%|█████▌    | 178/320 [34:17<21:20,  9.02s/it]    "
     ]
    },
    {
     "name": "stdout",
     "output_type": "stream",
     "text": [
      "MAE's for 5-Fold: [7.01153492 6.04169608 5.67157339 6.57197932 5.07556514]\n",
      "Mean of MAE's for 5-Fold: 6.0745\n"
     ]
    },
    {
     "name": "stderr",
     "output_type": "stream",
     "text": [
      "Segment: nissan___POD, Size: 89, KFold: [1/5]:  56%|█████▌    | 179/320 [34:23<19:04,  8.12s/it]"
     ]
    },
    {
     "name": "stdout",
     "output_type": "stream",
     "text": [
      "MAE's for 5-Fold: [27.99137813  4.16843282 38.6576014   3.78332046  3.18949708]\n",
      "Mean of MAE's for 5-Fold: 15.5580\n"
     ]
    },
    {
     "name": "stderr",
     "output_type": "stream",
     "text": [
      "Segment: fiat___DOL, Size: 80, KFold: [1/5]:  56%|█████▋    | 180/320 [34:31<18:59,  8.14s/it]  "
     ]
    },
    {
     "name": "stdout",
     "output_type": "stream",
     "text": [
      "MAE's for 5-Fold: [7.49416969 5.53732561 7.96695062 7.04808555 6.72006597]\n",
      "Mean of MAE's for 5-Fold: 6.9533\n"
     ]
    },
    {
     "name": "stderr",
     "output_type": "stream",
     "text": [
      "Segment: skoda___POD, Size: 69, KFold: [1/5]:  57%|█████▋    | 181/320 [34:38<18:33,  8.01s/it]"
     ]
    },
    {
     "name": "stdout",
     "output_type": "stream",
     "text": [
      "MAE's for 5-Fold: [ 5.42714678  7.76054983  9.28247771 11.08100597  4.64661149]\n",
      "Mean of MAE's for 5-Fold: 7.6396\n"
     ]
    },
    {
     "name": "stderr",
     "output_type": "stream",
     "text": [
      "Segment: mitsubishi___POM, Size: 28, KFold: [1/5]:  57%|█████▋    | 182/320 [34:50<20:31,  8.92s/it]"
     ]
    },
    {
     "name": "stdout",
     "output_type": "stream",
     "text": [
      "MAE's for 5-Fold: [ 8.26552714 10.97911141 13.30425272  4.96272741  9.43603278]\n",
      "Mean of MAE's for 5-Fold: 9.3895\n"
     ]
    },
    {
     "name": "stderr",
     "output_type": "stream",
     "text": [
      "Segment: fiat___POM, Size: 53, KFold: [1/5]:  57%|█████▋    | 183/320 [34:55<18:21,  8.04s/it]      "
     ]
    },
    {
     "name": "stdout",
     "output_type": "stream",
     "text": [
      "MAE's for 5-Fold: [11.52106656  9.60146772 13.98869595  9.852344    5.85073818]\n",
      "Mean of MAE's for 5-Fold: 10.1629\n"
     ]
    },
    {
     "name": "stderr",
     "output_type": "stream",
     "text": [
      "Segment: skoda___DOL, Size: 289, KFold: [1/5]:  57%|█████▊    | 184/320 [35:01<16:34,  7.31s/it]"
     ]
    },
    {
     "name": "stdout",
     "output_type": "stream",
     "text": [
      "MAE's for 5-Fold: [ 4.9914724   7.88749905  6.57743253  5.39904961 12.56135038]\n",
      "Mean of MAE's for 5-Fold: 7.4834\n"
     ]
    },
    {
     "name": "stderr",
     "output_type": "stream",
     "text": [
      "Segment: ford___POL, Size: 94, KFold: [1/5]:  58%|█████▊    | 185/320 [35:13<19:15,  8.56s/it]  "
     ]
    },
    {
     "name": "stdout",
     "output_type": "stream",
     "text": [
      "MAE's for 5-Fold: [ 8.77111683 10.11088126  6.99427562  8.28001062  6.44902079]\n",
      "Mean of MAE's for 5-Fold: 8.1211\n"
     ]
    },
    {
     "name": "stderr",
     "output_type": "stream",
     "text": [
      "Segment: seat___OPO, Size: 33, KFold: [1/5]:  58%|█████▊    | 186/320 [35:25<21:33,  9.65s/it]"
     ]
    },
    {
     "name": "stdout",
     "output_type": "stream",
     "text": [
      "MAE's for 5-Fold: [ 7.57864798  9.76565173  9.50624634 11.81459194 10.9216613 ]\n",
      "Mean of MAE's for 5-Fold: 9.9174\n"
     ]
    },
    {
     "name": "stderr",
     "output_type": "stream",
     "text": [
      "Segment: kia___ZAC, Size: 54, KFold: [1/5]:  58%|█████▊    | 187/320 [35:30<18:20,  8.27s/it] "
     ]
    },
    {
     "name": "stdout",
     "output_type": "stream",
     "text": [
      "MAE's for 5-Fold: [12.85103747  7.8086755  16.82803425 10.96776787 23.08848998]\n",
      "Mean of MAE's for 5-Fold: 14.3088\n"
     ]
    },
    {
     "name": "stderr",
     "output_type": "stream",
     "text": [
      "Segment: fiat___MAZ, Size: 155, KFold: [1/5]:  59%|█████▉    | 188/320 [35:37<17:46,  8.08s/it]"
     ]
    },
    {
     "name": "stdout",
     "output_type": "stream",
     "text": [
      "MAE's for 5-Fold: [ 6.89091005  5.37430728  8.48789666  5.21360345 11.24477237]\n",
      "Mean of MAE's for 5-Fold: 7.4423\n"
     ]
    },
    {
     "name": "stderr",
     "output_type": "stream",
     "text": [
      "Segment: mazda___LOD, Size: 101, KFold: [1/5]:  59%|█████▉    | 189/320 [35:46<17:55,  8.21s/it]"
     ]
    },
    {
     "name": "stdout",
     "output_type": "stream",
     "text": [
      "MAE's for 5-Fold: [5.24262652 5.52045602 5.36636677 8.39767992 5.75016958]\n",
      "Mean of MAE's for 5-Fold: 6.0555\n"
     ]
    },
    {
     "name": "stderr",
     "output_type": "stream",
     "text": [
      "Segment: mitsubishi___WIE, Size: 86, KFold: [1/5]:  59%|█████▉    | 190/320 [35:53<16:58,  7.83s/it]"
     ]
    },
    {
     "name": "stdout",
     "output_type": "stream",
     "text": [
      "MAE's for 5-Fold: [ 4.04222115  5.24641642  4.52908647 10.16476928  6.01440457]\n",
      "Mean of MAE's for 5-Fold: 5.9994\n"
     ]
    },
    {
     "name": "stderr",
     "output_type": "stream",
     "text": [
      "Segment: renault___DOL, Size: 307, KFold: [1/5]:  60%|█████▉    | 191/320 [36:00<16:14,  7.55s/it]  "
     ]
    },
    {
     "name": "stdout",
     "output_type": "stream",
     "text": [
      "MAE's for 5-Fold: [11.38014711  3.67643166  7.82547419  7.6478087  12.34561886]\n",
      "Mean of MAE's for 5-Fold: 8.5751\n"
     ]
    },
    {
     "name": "stderr",
     "output_type": "stream",
     "text": [
      "Segment: audi___SWI, Size: 211, KFold: [1/5]:  60%|██████    | 192/320 [36:21<24:48, 11.63s/it]   "
     ]
    },
    {
     "name": "stdout",
     "output_type": "stream",
     "text": [
      "MAE's for 5-Fold: [5.82474261 6.37163634 6.52672925 5.65104858 4.17628914]\n",
      "Mean of MAE's for 5-Fold: 5.7101\n"
     ]
    },
    {
     "name": "stderr",
     "output_type": "stream",
     "text": [
      "Segment: volvo___DOL, Size: 64, KFold: [1/5]:  60%|██████    | 193/320 [36:33<24:39, 11.65s/it]"
     ]
    },
    {
     "name": "stdout",
     "output_type": "stream",
     "text": [
      "MAE's for 5-Fold: [8.50611228 7.35146677 9.13664238 7.94019387 9.69548692]\n",
      "Mean of MAE's for 5-Fold: 8.5260\n"
     ]
    },
    {
     "name": "stderr",
     "output_type": "stream",
     "text": [
      "Segment: mazda___POL, Size: 57, KFold: [1/5]:  61%|██████    | 194/320 [36:40<21:47, 10.38s/it]"
     ]
    },
    {
     "name": "stdout",
     "output_type": "stream",
     "text": [
      "MAE's for 5-Fold: [ 9.29771498  7.71407261 17.45122977 17.926747   14.7229797 ]\n",
      "Mean of MAE's for 5-Fold: 13.4225\n"
     ]
    },
    {
     "name": "stderr",
     "output_type": "stream",
     "text": [
      "Segment: mercedes-benz___MAL, Size: 187, KFold: [1/5]:  61%|██████    | 195/320 [36:51<22:00, 10.56s/it]"
     ]
    },
    {
     "name": "stdout",
     "output_type": "stream",
     "text": [
      "MAE's for 5-Fold: [13.25877615 13.61071686 12.47940555  6.05899968 14.32949138]\n",
      "Mean of MAE's for 5-Fold: 11.9475\n"
     ]
    },
    {
     "name": "stderr",
     "output_type": "stream",
     "text": [
      "Segment: audi___LUU, Size: 157, KFold: [1/5]:  61%|██████▏   | 196/320 [36:59<20:17,  9.82s/it]         "
     ]
    },
    {
     "name": "stdout",
     "output_type": "stream",
     "text": [
      "MAE's for 5-Fold: [ 8.29279256 11.63879825  9.8860615  10.78905899  7.75452053]\n",
      "Mean of MAE's for 5-Fold: 9.6722\n"
     ]
    },
    {
     "name": "stderr",
     "output_type": "stream",
     "text": [
      "Segment: volvo___WIE, Size: 125, KFold: [1/5]:  62%|██████▏   | 197/320 [37:09<20:23,  9.95s/it]"
     ]
    },
    {
     "name": "stdout",
     "output_type": "stream",
     "text": [
      "MAE's for 5-Fold: [9.08861208 9.72048494 7.00271102 6.06489716 5.61868015]\n",
      "Mean of MAE's for 5-Fold: 7.4991\n"
     ]
    },
    {
     "name": "stderr",
     "output_type": "stream",
     "text": [
      "Segment: nissan___POL, Size: 39, KFold: [1/5]:  62%|██████▏   | 198/320 [37:17<18:56,  9.31s/it]"
     ]
    },
    {
     "name": "stdout",
     "output_type": "stream",
     "text": [
      "MAE's for 5-Fold: [13.90813693 13.36993059 17.66747827 14.60680227 11.44692032]\n",
      "Mean of MAE's for 5-Fold: 14.1999\n"
     ]
    },
    {
     "name": "stderr",
     "output_type": "stream",
     "text": [
      "Segment: skoda___LUU, Size: 55, KFold: [1/5]:  62%|██████▏   | 199/320 [37:26<18:10,  9.01s/it] "
     ]
    },
    {
     "name": "stdout",
     "output_type": "stream",
     "text": [
      "MAE's for 5-Fold: [ 6.29383406 14.38920903 12.1535549   9.83865989  9.33045952]\n",
      "Mean of MAE's for 5-Fold: 10.4011\n"
     ]
    },
    {
     "name": "stderr",
     "output_type": "stream",
     "text": [
      "Segment: kia___DOL, Size: 125, KFold: [1/5]:  62%|██████▎   | 200/320 [37:31<15:47,  7.90s/it] "
     ]
    },
    {
     "name": "stdout",
     "output_type": "stream",
     "text": [
      "MAE's for 5-Fold: [ 7.75317882  6.81412142 10.10372422  9.36656428 13.24838226]\n",
      "Mean of MAE's for 5-Fold: 9.4572\n"
     ]
    },
    {
     "name": "stderr",
     "output_type": "stream",
     "text": [
      "Segment: volkswagen___OPO, Size: 156, KFold: [1/5]:  63%|██████▎   | 201/320 [37:41<16:54,  8.52s/it]"
     ]
    },
    {
     "name": "stdout",
     "output_type": "stream",
     "text": [
      "MAE's for 5-Fold: [8.56455951 6.76050862 8.65304454 6.95658112 9.13945087]\n",
      "Mean of MAE's for 5-Fold: 8.0148\n"
     ]
    },
    {
     "name": "stderr",
     "output_type": "stream",
     "text": [
      "Segment: mercedes-benz___OPO, Size: 68, KFold: [1/5]:  63%|██████▎   | 202/320 [37:53<19:07,  9.73s/it]"
     ]
    },
    {
     "name": "stdout",
     "output_type": "stream",
     "text": [
      "MAE's for 5-Fold: [6.21546721 7.76254583 6.9483142  6.77533132 9.77379226]\n",
      "Mean of MAE's for 5-Fold: 7.4951\n"
     ]
    },
    {
     "name": "stderr",
     "output_type": "stream",
     "text": [
      "Segment: kia___LUU, Size: 38, KFold: [1/5]:  63%|██████▎   | 203/320 [37:59<16:25,  8.43s/it]          "
     ]
    },
    {
     "name": "stdout",
     "output_type": "stream",
     "text": [
      "MAE's for 5-Fold: [11.58492762 18.05208153 10.40578719  8.40912744 17.38135711]\n",
      "Mean of MAE's for 5-Fold: 13.1667\n"
     ]
    },
    {
     "name": "stderr",
     "output_type": "stream",
     "text": [
      "Segment: citroen___SWI, Size: 48, KFold: [1/5]:  64%|██████▍   | 204/320 [38:07<16:02,  8.30s/it]"
     ]
    },
    {
     "name": "stdout",
     "output_type": "stream",
     "text": [
      "MAE's for 5-Fold: [ 9.54393873 10.62319161 11.57055067  7.17464431  4.1189066 ]\n",
      "Mean of MAE's for 5-Fold: 8.6062\n"
     ]
    },
    {
     "name": "stderr",
     "output_type": "stream",
     "text": [
      "Segment: mercedes-benz___POM, Size: 144, KFold: [1/5]:  64%|██████▍   | 205/320 [38:12<14:21,  7.49s/it]"
     ]
    },
    {
     "name": "stdout",
     "output_type": "stream",
     "text": [
      "MAE's for 5-Fold: [3.74893225 6.90816467 4.42830095 4.53217883 7.15305173]\n",
      "Mean of MAE's for 5-Fold: 5.3541\n"
     ]
    },
    {
     "name": "stderr",
     "output_type": "stream",
     "text": [
      "Segment: mazda___WIE, Size: 192, KFold: [1/5]:  64%|██████▍   | 206/320 [38:24<16:50,  8.86s/it]        "
     ]
    },
    {
     "name": "stdout",
     "output_type": "stream",
     "text": [
      "MAE's for 5-Fold: [16.60081145 11.53262265 17.04447279 17.39234387 11.34028327]\n",
      "Mean of MAE's for 5-Fold: 14.7821\n"
     ]
    },
    {
     "name": "stderr",
     "output_type": "stream",
     "text": [
      "Segment: skoda___LOD, Size: 233, KFold: [1/5]:  65%|██████▍   | 207/320 [38:33<16:46,  8.91s/it]"
     ]
    },
    {
     "name": "stdout",
     "output_type": "stream",
     "text": [
      "MAE's for 5-Fold: [4.39189805 8.65917722 5.55570665 6.51719474 4.63370793]\n",
      "Mean of MAE's for 5-Fold: 5.9515\n"
     ]
    },
    {
     "name": "stderr",
     "output_type": "stream",
     "text": [
      "Segment: toyota___WIE, Size: 266, KFold: [1/5]:  65%|██████▌   | 208/320 [38:43<17:04,  9.15s/it]"
     ]
    },
    {
     "name": "stdout",
     "output_type": "stream",
     "text": [
      "MAE's for 5-Fold: [7.47530577 9.49094597 7.2943877  7.15828642 8.13410588]\n",
      "Mean of MAE's for 5-Fold: 7.9106\n"
     ]
    },
    {
     "name": "stderr",
     "output_type": "stream",
     "text": [
      "Segment: renault___WAR, Size: 96, KFold: [1/5]:  65%|██████▌   | 209/320 [39:01<21:52, 11.83s/it]"
     ]
    },
    {
     "name": "stdout",
     "output_type": "stream",
     "text": [
      "MAE's for 5-Fold: [5.28482383 7.2583269  7.22398825 6.94107754 5.45978133]\n",
      "Mean of MAE's for 5-Fold: 6.4336\n"
     ]
    },
    {
     "name": "stderr",
     "output_type": "stream",
     "text": [
      "Segment: kia___WAR, Size: 64, KFold: [1/5]:  66%|██████▌   | 210/320 [39:15<22:34, 12.32s/it]    "
     ]
    },
    {
     "name": "stdout",
     "output_type": "stream",
     "text": [
      "MAE's for 5-Fold: [10.6990832   5.546747    5.86489652  6.36984595  3.30454874]\n",
      "Mean of MAE's for 5-Fold: 6.3570\n"
     ]
    },
    {
     "name": "stderr",
     "output_type": "stream",
     "text": [
      "Segment: hyundai___LOD, Size: 131, KFold: [1/5]:  66%|██████▌   | 211/320 [39:21<19:13, 10.59s/it]"
     ]
    },
    {
     "name": "stdout",
     "output_type": "stream",
     "text": [
      "MAE's for 5-Fold: [11.01152465 12.37993122  5.00149775 10.61870466 10.36894877]\n",
      "Mean of MAE's for 5-Fold: 9.8761\n"
     ]
    },
    {
     "name": "stderr",
     "output_type": "stream",
     "text": [
      "Segment: volvo___MAL, Size: 76, KFold: [1/5]:  66%|██████▋   | 212/320 [39:45<26:02, 14.47s/it]   "
     ]
    },
    {
     "name": "stdout",
     "output_type": "stream",
     "text": [
      "MAE's for 5-Fold: [5.9278868  9.83791813 6.39110302 6.8604089  7.9774967 ]\n",
      "Mean of MAE's for 5-Fold: 7.3990\n"
     ]
    },
    {
     "name": "stderr",
     "output_type": "stream",
     "text": [
      "Segment: honda___ZAC, Size: 76, KFold: [1/5]:  67%|██████▋   | 213/320 [39:53<22:18, 12.51s/it]"
     ]
    },
    {
     "name": "stdout",
     "output_type": "stream",
     "text": [
      "MAE's for 5-Fold: [11.13441132 13.98123987 12.99690401 14.30440107 10.3288466 ]\n",
      "Mean of MAE's for 5-Fold: 12.5492\n"
     ]
    },
    {
     "name": "stderr",
     "output_type": "stream",
     "text": [
      "Segment: toyota___OPO, Size: 36, KFold: [1/5]:  67%|██████▋   | 214/320 [40:05<21:49, 12.35s/it]"
     ]
    },
    {
     "name": "stdout",
     "output_type": "stream",
     "text": [
      "MAE's for 5-Fold: [5.67675432 9.39952519 7.40846791 9.52048639 9.6181131 ]\n",
      "Mean of MAE's for 5-Fold: 8.3247\n"
     ]
    },
    {
     "name": "stderr",
     "output_type": "stream",
     "text": [
      "Segment: bmw___LUB, Size: 265, KFold: [1/5]:  67%|██████▋   | 215/320 [40:15<20:28, 11.70s/it]  "
     ]
    },
    {
     "name": "stdout",
     "output_type": "stream",
     "text": [
      "MAE's for 5-Fold: [18.67835682  8.07977855  6.23404089 11.08988554 13.94550359]\n",
      "Mean of MAE's for 5-Fold: 11.6055\n"
     ]
    },
    {
     "name": "stderr",
     "output_type": "stream",
     "text": [
      "Segment: ford___ZAC, Size: 186, KFold: [1/5]:  68%|██████▊   | 216/320 [40:24<19:09, 11.05s/it]"
     ]
    },
    {
     "name": "stdout",
     "output_type": "stream",
     "text": [
      "MAE's for 5-Fold: [ 8.10764098 10.75317737  7.04221994  5.98239901  8.94104301]\n",
      "Mean of MAE's for 5-Fold: 8.1653\n"
     ]
    },
    {
     "name": "stderr",
     "output_type": "stream",
     "text": [
      "Segment: volvo___LUB, Size: 113, KFold: [1/5]:  68%|██████▊   | 217/320 [40:34<18:04, 10.53s/it]"
     ]
    },
    {
     "name": "stdout",
     "output_type": "stream",
     "text": [
      "MAE's for 5-Fold: [7.16579844 8.82897496 9.18074978 6.81573122 6.54207639]\n",
      "Mean of MAE's for 5-Fold: 7.7067\n"
     ]
    },
    {
     "name": "stderr",
     "output_type": "stream",
     "text": [
      "Segment: renault___MAL, Size: 339, KFold: [1/5]:  68%|██████▊   | 218/320 [40:42<16:58,  9.99s/it]"
     ]
    },
    {
     "name": "stdout",
     "output_type": "stream",
     "text": [
      "MAE's for 5-Fold: [ 6.39318394  9.82368309  8.68515344  8.42813042 11.20922566]\n",
      "Mean of MAE's for 5-Fold: 8.9079\n"
     ]
    },
    {
     "name": "stderr",
     "output_type": "stream",
     "text": [
      "Segment: hyundai___DOL, Size: 126, KFold: [1/5]:  68%|██████▊   | 219/320 [40:55<18:18, 10.88s/it]"
     ]
    },
    {
     "name": "stdout",
     "output_type": "stream",
     "text": [
      "MAE's for 5-Fold: [6.75275012 7.86954796 5.8949415  6.05871086 3.94604543]\n",
      "Mean of MAE's for 5-Fold: 6.1044\n"
     ]
    },
    {
     "name": "stderr",
     "output_type": "stream",
     "text": [
      "Segment: mitsubishi___ZAC, Size: 32, KFold: [1/5]:  69%|██████▉   | 220/320 [41:04<17:14, 10.35s/it]"
     ]
    },
    {
     "name": "stdout",
     "output_type": "stream",
     "text": [
      "MAE's for 5-Fold: [ 8.38116195  6.26027878  9.49166909  8.1743924  12.93761908]\n",
      "Mean of MAE's for 5-Fold: 9.0490\n"
     ]
    },
    {
     "name": "stderr",
     "output_type": "stream",
     "text": [
      "Segment: fiat___LOD, Size: 58, KFold: [1/5]:  69%|██████▉   | 221/320 [41:11<15:09,  9.19s/it]      "
     ]
    },
    {
     "name": "stdout",
     "output_type": "stream",
     "text": [
      "MAE's for 5-Fold: [10.94393924 16.036712   15.93356613  8.83549719  4.41777312]\n",
      "Mean of MAE's for 5-Fold: 11.2335\n"
     ]
    },
    {
     "name": "stderr",
     "output_type": "stream",
     "text": [
      "Segment: hyundai___SWI, Size: 72, KFold: [1/5]:  69%|██████▉   | 222/320 [41:21<15:17,  9.37s/it]"
     ]
    },
    {
     "name": "stdout",
     "output_type": "stream",
     "text": [
      "MAE's for 5-Fold: [ 4.01126079  5.60587557  4.94336207 12.93015018  5.67058221]\n",
      "Mean of MAE's for 5-Fold: 6.6322\n"
     ]
    },
    {
     "name": "stderr",
     "output_type": "stream",
     "text": [
      "Segment: volvo___POM, Size: 45, KFold: [1/5]:  70%|██████▉   | 223/320 [41:30<15:14,  9.42s/it]  "
     ]
    },
    {
     "name": "stdout",
     "output_type": "stream",
     "text": [
      "MAE's for 5-Fold: [5.67044986 6.01716276 8.97805598 8.8745813  6.93987454]\n",
      "Mean of MAE's for 5-Fold: 7.2960\n"
     ]
    },
    {
     "name": "stderr",
     "output_type": "stream",
     "text": [
      "Segment: hyundai___WIE, Size: 234, KFold: [1/5]:  70%|███████   | 224/320 [41:36<13:14,  8.28s/it]"
     ]
    },
    {
     "name": "stdout",
     "output_type": "stream",
     "text": [
      "MAE's for 5-Fold: [11.79024697 21.40665479 12.05949512 21.50467464 12.8838454 ]\n",
      "Mean of MAE's for 5-Fold: 15.9290\n"
     ]
    },
    {
     "name": "stderr",
     "output_type": "stream",
     "text": [
      "Segment: toyota___POD, Size: 129, KFold: [1/5]:  70%|███████   | 225/320 [41:47<14:38,  9.24s/it] "
     ]
    },
    {
     "name": "stdout",
     "output_type": "stream",
     "text": [
      "MAE's for 5-Fold: [9.83323208 7.85438767 6.56286152 5.92290262 6.05812333]\n",
      "Mean of MAE's for 5-Fold: 7.2463\n"
     ]
    },
    {
     "name": "stderr",
     "output_type": "stream",
     "text": [
      "Segment: volkswagen___LUB, Size: 196, KFold: [1/5]:  71%|███████   | 226/320 [42:09<20:11, 12.89s/it]"
     ]
    },
    {
     "name": "stdout",
     "output_type": "stream",
     "text": [
      "MAE's for 5-Fold: [7.67948111 5.43405958 8.94647456 8.87826156 7.53202289]\n",
      "Mean of MAE's for 5-Fold: 7.6941\n"
     ]
    },
    {
     "name": "stderr",
     "output_type": "stream",
     "text": [
      "Segment: skoda___ZAC, Size: 82, KFold: [1/5]:  71%|███████   | 227/320 [42:20<19:15, 12.42s/it]      "
     ]
    },
    {
     "name": "stdout",
     "output_type": "stream",
     "text": [
      "MAE's for 5-Fold: [11.45327054  9.33954603  8.82438025  5.57358161  7.93742756]\n",
      "Mean of MAE's for 5-Fold: 8.6256\n"
     ]
    },
    {
     "name": "stderr",
     "output_type": "stream",
     "text": [
      "Segment: honda___SWI, Size: 54, KFold: [1/5]:  71%|███████▏  | 228/320 [42:30<17:56, 11.70s/it]"
     ]
    },
    {
     "name": "stdout",
     "output_type": "stream",
     "text": [
      "MAE's for 5-Fold: [12.80464256 15.91058212 11.68514869 11.83561521  6.16486356]\n",
      "Mean of MAE's for 5-Fold: 11.6802\n"
     ]
    },
    {
     "name": "stderr",
     "output_type": "stream",
     "text": [
      "Segment: mazda___WAR, Size: 45, KFold: [1/5]:  72%|███████▏  | 229/320 [42:36<15:14, 10.05s/it]"
     ]
    },
    {
     "name": "stdout",
     "output_type": "stream",
     "text": [
      "MAE's for 5-Fold: [ 6.09145026  5.66278025 13.64808816  8.28493181  9.9554161 ]\n",
      "Mean of MAE's for 5-Fold: 8.7285\n"
     ]
    },
    {
     "name": "stderr",
     "output_type": "stream",
     "text": [
      "Segment: ford___POD, Size: 176, KFold: [1/5]:  72%|███████▏  | 230/320 [42:42<13:09,  8.77s/it]"
     ]
    },
    {
     "name": "stdout",
     "output_type": "stream",
     "text": [
      "MAE's for 5-Fold: [ 8.27201513  7.51213705  9.510746   11.49291007  6.25847497]\n",
      "Mean of MAE's for 5-Fold: 8.6093\n"
     ]
    },
    {
     "name": "stderr",
     "output_type": "stream",
     "text": [
      "Segment: toyota___KUJ, Size: 129, KFold: [1/5]:  72%|███████▏  | 231/320 [42:50<12:42,  8.57s/it]"
     ]
    },
    {
     "name": "stdout",
     "output_type": "stream",
     "text": [
      "MAE's for 5-Fold: [6.46017303 8.29811386 5.62642052 7.12515254 7.47460516]\n",
      "Mean of MAE's for 5-Fold: 6.9969\n"
     ]
    },
    {
     "name": "stderr",
     "output_type": "stream",
     "text": [
      "Segment: fiat___POD, Size: 51, KFold: [1/5]:  72%|███████▎  | 232/320 [43:12<18:15, 12.45s/it]   "
     ]
    },
    {
     "name": "stdout",
     "output_type": "stream",
     "text": [
      "MAE's for 5-Fold: [ 9.89438195  6.03840719  7.3854229   5.6586575  10.23620654]\n",
      "Mean of MAE's for 5-Fold: 7.8426\n"
     ]
    },
    {
     "name": "stderr",
     "output_type": "stream",
     "text": [
      "Segment: mercedes-benz___LUB, Size: 120, KFold: [1/5]:  73%|███████▎  | 233/320 [43:23<17:44, 12.24s/it]"
     ]
    },
    {
     "name": "stdout",
     "output_type": "stream",
     "text": [
      "MAE's for 5-Fold: [12.46123811  4.59055188  4.91723239  2.65013887  9.51829991]\n",
      "Mean of MAE's for 5-Fold: 6.8275\n"
     ]
    },
    {
     "name": "stderr",
     "output_type": "stream",
     "text": [
      "Segment: honda___POD, Size: 47, KFold: [1/5]:  73%|███████▎  | 234/320 [43:34<16:52, 11.77s/it]         "
     ]
    },
    {
     "name": "stdout",
     "output_type": "stream",
     "text": [
      "MAE's for 5-Fold: [ 8.55202177 13.63819835  8.82527802 11.79433994 10.94596187]\n",
      "Mean of MAE's for 5-Fold: 10.7512\n"
     ]
    },
    {
     "name": "stderr",
     "output_type": "stream",
     "text": [
      "Segment: peugeot___LUB, Size: 42, KFold: [1/5]:  73%|███████▎  | 235/320 [43:47<16:58, 11.98s/it]"
     ]
    },
    {
     "name": "stdout",
     "output_type": "stream",
     "text": [
      "MAE's for 5-Fold: [ 9.47955059  6.83802366  6.6901662  13.49511957  6.72357356]\n",
      "Mean of MAE's for 5-Fold: 8.6453\n"
     ]
    },
    {
     "name": "stderr",
     "output_type": "stream",
     "text": [
      "Segment: mercedes-benz___KUJ, Size: 123, KFold: [1/5]:  74%|███████▍  | 236/320 [43:54<14:48, 10.58s/it]"
     ]
    },
    {
     "name": "stdout",
     "output_type": "stream",
     "text": [
      "MAE's for 5-Fold: [ 3.65659026 12.96943799  7.79369857 13.98493788 12.78282686]\n",
      "Mean of MAE's for 5-Fold: 10.2375\n"
     ]
    },
    {
     "name": "stderr",
     "output_type": "stream",
     "text": [
      "Segment: mitsubishi___KUJ, Size: 28, KFold: [1/5]:  74%|███████▍  | 237/320 [44:11<17:06, 12.37s/it]    "
     ]
    },
    {
     "name": "stdout",
     "output_type": "stream",
     "text": [
      "MAE's for 5-Fold: [11.72052135 11.0038453  13.63371238 10.22147376 10.83551268]\n",
      "Mean of MAE's for 5-Fold: 11.4830\n"
     ]
    },
    {
     "name": "stderr",
     "output_type": "stream",
     "text": [
      "Segment: peugeot___SLA, Size: 103, KFold: [1/5]:  74%|███████▍  | 238/320 [44:19<15:21, 11.24s/it]  "
     ]
    },
    {
     "name": "stdout",
     "output_type": "stream",
     "text": [
      "MAE's for 5-Fold: [ 5.23071291  3.97325814  7.06030358 13.43150155 24.7243938 ]\n",
      "Mean of MAE's for 5-Fold: 10.8840\n"
     ]
    },
    {
     "name": "stderr",
     "output_type": "stream",
     "text": [
      "Segment: citroen___POD, Size: 33, KFold: [1/5]:  75%|███████▍  | 239/320 [44:27<13:37, 10.09s/it] "
     ]
    },
    {
     "name": "stdout",
     "output_type": "stream",
     "text": [
      "MAE's for 5-Fold: [5.98668348 7.83950712 7.58697921 8.48934672 7.89223413]\n",
      "Mean of MAE's for 5-Fold: 7.5590\n"
     ]
    },
    {
     "name": "stderr",
     "output_type": "stream",
     "text": [
      "Segment: volvo___LOD, Size: 98, KFold: [1/5]:  75%|███████▌  | 240/320 [44:32<11:34,  8.68s/it]  "
     ]
    },
    {
     "name": "stdout",
     "output_type": "stream",
     "text": [
      "MAE's for 5-Fold: [7.04748124 5.74483911 8.95085075 5.49459768 6.0016877 ]\n",
      "Mean of MAE's for 5-Fold: 6.6479\n"
     ]
    },
    {
     "name": "stderr",
     "output_type": "stream",
     "text": [
      "Segment: mazda___MAL, Size: 110, KFold: [1/5]:  75%|███████▌  | 241/320 [44:42<11:55,  9.06s/it]"
     ]
    },
    {
     "name": "stdout",
     "output_type": "stream",
     "text": [
      "MAE's for 5-Fold: [10.19571477 13.67170561 11.03717784 12.46179609 11.07956538]\n",
      "Mean of MAE's for 5-Fold: 11.6892\n"
     ]
    },
    {
     "name": "stderr",
     "output_type": "stream",
     "text": [
      "Segment: hyundai___POL, Size: 35, KFold: [1/5]:  76%|███████▌  | 242/320 [44:52<12:05,  9.30s/it]"
     ]
    },
    {
     "name": "stdout",
     "output_type": "stream",
     "text": [
      "MAE's for 5-Fold: [9.71404276 6.15059574 6.09140615 6.91464389 6.49325191]\n",
      "Mean of MAE's for 5-Fold: 7.0728\n"
     ]
    },
    {
     "name": "stderr",
     "output_type": "stream",
     "text": [
      "Segment: citroen___KUJ, Size: 53, KFold: [1/5]:  76%|███████▌  | 243/320 [44:59<11:12,  8.74s/it]"
     ]
    },
    {
     "name": "stdout",
     "output_type": "stream",
     "text": [
      "MAE's for 5-Fold: [11.47033734  6.83753939 10.96204783 12.91466232 11.21744574]\n",
      "Mean of MAE's for 5-Fold: 10.6804\n"
     ]
    },
    {
     "name": "stderr",
     "output_type": "stream",
     "text": [
      "Segment: citroen___WAR, Size: 27, KFold: [1/5]:  76%|███████▋  | 244/320 [45:06<10:22,  8.20s/it]"
     ]
    },
    {
     "name": "stdout",
     "output_type": "stream",
     "text": [
      "MAE's for 5-Fold: [ 3.84813598  6.25386871  3.74580889  4.44089855 13.83124735]\n",
      "Mean of MAE's for 5-Fold: 6.4240\n"
     ]
    },
    {
     "name": "stderr",
     "output_type": "stream",
     "text": [
      "Segment: peugeot___DOL, Size: 45, KFold: [1/5]:  77%|███████▋  | 245/320 [45:11<09:05,  7.28s/it]"
     ]
    },
    {
     "name": "stdout",
     "output_type": "stream",
     "text": [
      "MAE's for 5-Fold: [10.85613205  9.0096731  11.30466824 15.89392134  7.01196667]\n",
      "Mean of MAE's for 5-Fold: 10.8153\n"
     ]
    },
    {
     "name": "stderr",
     "output_type": "stream",
     "text": [
      "Segment: hyundai___WAR, Size: 56, KFold: [1/5]:  77%|███████▋  | 246/320 [45:22<10:19,  8.37s/it]"
     ]
    },
    {
     "name": "stdout",
     "output_type": "stream",
     "text": [
      "MAE's for 5-Fold: [ 8.88712919 15.20803364  7.99576437 16.4338591   6.83199839]\n",
      "Mean of MAE's for 5-Fold: 11.0714\n"
     ]
    },
    {
     "name": "stderr",
     "output_type": "stream",
     "text": [
      "Segment: hyundai___LUB, Size: 91, KFold: [1/5]:  77%|███████▋  | 247/320 [45:27<09:04,  7.46s/it]"
     ]
    },
    {
     "name": "stdout",
     "output_type": "stream",
     "text": [
      "MAE's for 5-Fold: [ 2.35141232  4.56178537  6.83425836 11.51632683  5.57070154]\n",
      "Mean of MAE's for 5-Fold: 6.1669\n"
     ]
    },
    {
     "name": "stderr",
     "output_type": "stream",
     "text": [
      "Segment: ford___OPO, Size: 117, KFold: [1/5]:  78%|███████▊  | 248/320 [45:40<10:54,  9.09s/it]  "
     ]
    },
    {
     "name": "stdout",
     "output_type": "stream",
     "text": [
      "MAE's for 5-Fold: [ 5.72667451 10.74788759  4.88981373  7.95042637  5.86724394]\n",
      "Mean of MAE's for 5-Fold: 7.0364\n"
     ]
    },
    {
     "name": "stderr",
     "output_type": "stream",
     "text": [
      "Segment: mitsubishi___LUB, Size: 27, KFold: [1/5]:  78%|███████▊  | 249/320 [45:55<12:50, 10.85s/it]"
     ]
    },
    {
     "name": "stdout",
     "output_type": "stream",
     "text": [
      "MAE's for 5-Fold: [10.7800051  12.39584515  8.61615854  7.95554601  5.29750106]\n",
      "Mean of MAE's for 5-Fold: 9.0090\n"
     ]
    },
    {
     "name": "stderr",
     "output_type": "stream",
     "text": [
      "Segment: renault___LUU, Size: 92, KFold: [1/5]:  78%|███████▊  | 250/320 [46:04<11:44, 10.06s/it]   "
     ]
    },
    {
     "name": "stdout",
     "output_type": "stream",
     "text": [
      "MAE's for 5-Fold: [ 5.01971501  7.12341708 10.56317739 18.9656124   7.32798153]\n",
      "Mean of MAE's for 5-Fold: 9.8000\n"
     ]
    },
    {
     "name": "stderr",
     "output_type": "stream",
     "text": [
      "Segment: opel___OPO, Size: 93, KFold: [1/5]:  78%|███████▊  | 251/320 [46:17<12:51, 11.18s/it]   "
     ]
    },
    {
     "name": "stdout",
     "output_type": "stream",
     "text": [
      "MAE's for 5-Fold: [8.61709978 6.76545643 5.53321463 6.63082316 4.37808743]\n",
      "Mean of MAE's for 5-Fold: 6.3849\n"
     ]
    },
    {
     "name": "stderr",
     "output_type": "stream",
     "text": [
      "Segment: peugeot___LOD, Size: 53, KFold: [1/5]:  79%|███████▉  | 252/320 [46:30<13:03, 11.53s/it]"
     ]
    },
    {
     "name": "stdout",
     "output_type": "stream",
     "text": [
      "MAE's for 5-Fold: [ 6.38548891 11.25548988  5.12908886  7.06764715  6.77514038]\n",
      "Mean of MAE's for 5-Fold: 7.3226\n"
     ]
    },
    {
     "name": "stderr",
     "output_type": "stream",
     "text": [
      "Segment: mitsubishi___DOL, Size: 42, KFold: [1/5]:  79%|███████▉  | 253/320 [46:44<13:45, 12.32s/it]"
     ]
    },
    {
     "name": "stdout",
     "output_type": "stream",
     "text": [
      "MAE's for 5-Fold: [13.40293552 13.75041949  3.95541129  8.96289099  9.28041119]\n",
      "Mean of MAE's for 5-Fold: 9.8704\n"
     ]
    },
    {
     "name": "stderr",
     "output_type": "stream",
     "text": [
      "Segment: volvo___KUJ, Size: 63, KFold: [1/5]:  79%|███████▉  | 254/320 [46:50<11:31, 10.47s/it]     "
     ]
    },
    {
     "name": "stdout",
     "output_type": "stream",
     "text": [
      "MAE's for 5-Fold: [4.94696619 8.66850602 3.25478699 8.70797121 8.14616869]\n",
      "Mean of MAE's for 5-Fold: 6.7449\n"
     ]
    },
    {
     "name": "stderr",
     "output_type": "stream",
     "text": [
      "Segment: renault___POL, Size: 43, KFold: [1/5]:  80%|███████▉  | 255/320 [46:57<10:06,  9.34s/it]"
     ]
    },
    {
     "name": "stdout",
     "output_type": "stream",
     "text": [
      "MAE's for 5-Fold: [22.50990931  5.17587362 17.31431277  7.37485404 11.31625735]\n",
      "Mean of MAE's for 5-Fold: 12.7382\n"
     ]
    },
    {
     "name": "stderr",
     "output_type": "stream",
     "text": [
      "Segment: kia___POD, Size: 69, KFold: [1/5]:  80%|████████  | 256/320 [47:05<09:30,  8.92s/it]    "
     ]
    },
    {
     "name": "stdout",
     "output_type": "stream",
     "text": [
      "MAE's for 5-Fold: [ 5.74293728  9.71896573  8.16749409 11.92656231  4.80627226]\n",
      "Mean of MAE's for 5-Fold: 8.0724\n"
     ]
    },
    {
     "name": "stderr",
     "output_type": "stream",
     "text": [
      "Segment: fiat___OPO, Size: 16, KFold: [1/5]:  80%|████████  | 257/320 [47:21<11:47, 11.23s/it]"
     ]
    },
    {
     "name": "stdout",
     "output_type": "stream",
     "text": [
      "MAE's for 5-Fold: [12.36635498  4.03091897  5.74255171  7.31336492  4.90722109]\n",
      "Mean of MAE's for 5-Fold: 6.8721\n"
     ]
    },
    {
     "name": "stderr",
     "output_type": "stream",
     "text": [
      "Segment: bmw___OPO, Size: 96, KFold: [1/5]:  81%|████████  | 258/320 [47:29<10:40, 10.33s/it] "
     ]
    },
    {
     "name": "stdout",
     "output_type": "stream",
     "text": [
      "MAE's for 5-Fold: [11.93200987  7.97970085 10.65662579  2.73439315 26.55032949]\n",
      "Mean of MAE's for 5-Fold: 11.9706\n"
     ]
    },
    {
     "name": "stderr",
     "output_type": "stream",
     "text": [
      "Segment: peugeot___MAL, Size: 72, KFold: [1/5]:  81%|████████  | 259/320 [47:39<10:08,  9.98s/it]"
     ]
    },
    {
     "name": "stdout",
     "output_type": "stream",
     "text": [
      "MAE's for 5-Fold: [ 9.1961207  18.79216393  9.83346993  8.67806023 10.82960033]\n",
      "Mean of MAE's for 5-Fold: 11.4659\n"
     ]
    },
    {
     "name": "stderr",
     "output_type": "stream",
     "text": [
      "Segment: mazda___SWI, Size: 41, KFold: [1/5]:  81%|████████▏ | 260/320 [47:56<12:06, 12.11s/it]  "
     ]
    },
    {
     "name": "stdout",
     "output_type": "stream",
     "text": [
      "MAE's for 5-Fold: [8.36488057 4.60764373 9.66873306 9.46210359 8.91718494]\n",
      "Mean of MAE's for 5-Fold: 8.2041\n"
     ]
    },
    {
     "name": "stderr",
     "output_type": "stream",
     "text": [
      "Segment: honda___LUU, Size: 58, KFold: [1/5]:  82%|████████▏ | 261/320 [48:04<10:40, 10.86s/it]"
     ]
    },
    {
     "name": "stdout",
     "output_type": "stream",
     "text": [
      "MAE's for 5-Fold: [ 6.9158999   3.96482463  4.29063164 13.61148843 15.10737382]\n",
      "Mean of MAE's for 5-Fold: 8.7780\n"
     ]
    },
    {
     "name": "stderr",
     "output_type": "stream",
     "text": [
      "Segment: volvo___POD, Size: 42, KFold: [1/5]:  82%|████████▏ | 262/320 [48:11<09:27,  9.79s/it]"
     ]
    },
    {
     "name": "stdout",
     "output_type": "stream",
     "text": [
      "MAE's for 5-Fold: [9.47028461 8.066696   4.31069368 9.63857372 4.16572241]\n",
      "Mean of MAE's for 5-Fold: 7.1304\n"
     ]
    },
    {
     "name": "stderr",
     "output_type": "stream",
     "text": [
      "Segment: mazda___POD, Size: 30, KFold: [1/5]:  82%|████████▏ | 263/320 [48:19<08:46,  9.24s/it]"
     ]
    },
    {
     "name": "stdout",
     "output_type": "stream",
     "text": [
      "MAE's for 5-Fold: [13.80300299 15.19903723 18.11114318 11.23009595 16.92647381]\n",
      "Mean of MAE's for 5-Fold: 15.0540\n"
     ]
    },
    {
     "name": "stderr",
     "output_type": "stream",
     "text": [
      "Segment: kia___LUB, Size: 93, KFold: [1/5]:  82%|████████▎ | 264/320 [48:23<07:16,  7.79s/it]  "
     ]
    },
    {
     "name": "stdout",
     "output_type": "stream",
     "text": [
      "MAE's for 5-Fold: [10.65634211  8.56917469  5.03619952 17.94810255 22.04998892]\n",
      "Mean of MAE's for 5-Fold: 12.8520\n"
     ]
    },
    {
     "name": "stderr",
     "output_type": "stream",
     "text": [
      "Segment: peugeot___MAZ, Size: 139, KFold: [1/5]:  83%|████████▎ | 265/320 [48:36<08:30,  9.28s/it]"
     ]
    },
    {
     "name": "stdout",
     "output_type": "stream",
     "text": [
      "MAE's for 5-Fold: [ 6.71117286  6.89584304 10.38184743  4.50166593  7.04877104]\n",
      "Mean of MAE's for 5-Fold: 7.1079\n"
     ]
    },
    {
     "name": "stderr",
     "output_type": "stream",
     "text": [
      "Segment: opel___LUU, Size: 135, KFold: [1/5]:  83%|████████▎ | 266/320 [48:45<08:07,  9.03s/it]   "
     ]
    },
    {
     "name": "stdout",
     "output_type": "stream",
     "text": [
      "MAE's for 5-Fold: [5.17246995 6.39814616 6.75920814 6.56081109 9.56216501]\n",
      "Mean of MAE's for 5-Fold: 6.8906\n"
     ]
    },
    {
     "name": "stderr",
     "output_type": "stream",
     "text": [
      "Segment: peugeot___POD, Size: 28, KFold: [1/5]:  83%|████████▎ | 267/320 [48:59<09:26, 10.68s/it]"
     ]
    },
    {
     "name": "stdout",
     "output_type": "stream",
     "text": [
      "MAE's for 5-Fold: [5.30678305 9.59036177 5.81876683 5.98464869 7.54894177]\n",
      "Mean of MAE's for 5-Fold: 6.8499\n"
     ]
    },
    {
     "name": "stderr",
     "output_type": "stream",
     "text": [
      "Segment: kia___OPO, Size: 36, KFold: [1/5]:  84%|████████▍ | 268/320 [49:05<08:01,  9.26s/it]    "
     ]
    },
    {
     "name": "stdout",
     "output_type": "stream",
     "text": [
      "MAE's for 5-Fold: [11.70631076 21.40432274 12.66123034  6.0315774  26.4549921 ]\n",
      "Mean of MAE's for 5-Fold: 15.6517\n"
     ]
    },
    {
     "name": "stderr",
     "output_type": "stream",
     "text": [
      "Segment: kia___KUJ, Size: 109, KFold: [1/5]:  84%|████████▍ | 269/320 [49:11<07:03,  8.30s/it]"
     ]
    },
    {
     "name": "stdout",
     "output_type": "stream",
     "text": [
      "MAE's for 5-Fold: [ 6.94601182 10.62658103 12.77409489 11.89745118  9.65977755]\n",
      "Mean of MAE's for 5-Fold: 10.3808\n"
     ]
    },
    {
     "name": "stderr",
     "output_type": "stream",
     "text": [
      "Segment: hyundai___POM, Size: 101, KFold: [1/5]:  84%|████████▍ | 270/320 [49:19<06:42,  8.06s/it]"
     ]
    },
    {
     "name": "stdout",
     "output_type": "stream",
     "text": [
      "MAE's for 5-Fold: [ 7.5570933   5.58674242  8.35731448  6.53007433 11.52070977]\n",
      "Mean of MAE's for 5-Fold: 7.9104\n"
     ]
    },
    {
     "name": "stderr",
     "output_type": "stream",
     "text": [
      "Segment: mazda___KUJ, Size: 59, KFold: [1/5]:  85%|████████▍ | 271/320 [49:24<06:01,  7.38s/it]   "
     ]
    },
    {
     "name": "stdout",
     "output_type": "stream",
     "text": [
      "MAE's for 5-Fold: [ 6.69859441 12.92960091  9.96315861 11.16075302 10.81158382]\n",
      "Mean of MAE's for 5-Fold: 10.3127\n"
     ]
    },
    {
     "name": "stderr",
     "output_type": "stream",
     "text": [
      "Segment: mitsubishi___MAZ, Size: 77, KFold: [1/5]:  85%|████████▌ | 272/320 [49:32<06:02,  7.56s/it]"
     ]
    },
    {
     "name": "stdout",
     "output_type": "stream",
     "text": [
      "MAE's for 5-Fold: [ 5.97886111 10.33363659 13.80764306  6.80038191  9.94572504]\n",
      "Mean of MAE's for 5-Fold: 9.3732\n"
     ]
    },
    {
     "name": "stderr",
     "output_type": "stream",
     "text": [
      "Segment: volkswagen___POL, Size: 97, KFold: [1/5]:  85%|████████▌ | 273/320 [49:41<06:06,  7.80s/it]"
     ]
    },
    {
     "name": "stdout",
     "output_type": "stream",
     "text": [
      "MAE's for 5-Fold: [10.74080027 12.728337    9.07827139 15.53479022  8.31325754]\n",
      "Mean of MAE's for 5-Fold: 11.2791\n"
     ]
    },
    {
     "name": "stderr",
     "output_type": "stream",
     "text": [
      "Segment: skoda___MOR, Size: 8, KFold: [1/5]:  86%|████████▌ | 274/320 [49:51<06:29,  8.46s/it]      "
     ]
    },
    {
     "name": "stdout",
     "output_type": "stream",
     "text": [
      "MAE's for 5-Fold: [ 5.71530376 12.25297231 13.0046875  11.08286279 11.02809908]\n",
      "Mean of MAE's for 5-Fold: 10.6168\n"
     ]
    },
    {
     "name": "stderr",
     "output_type": "stream",
     "text": [
      "Segment: citroen___DOL, Size: 83, KFold: [1/5]:  86%|████████▌ | 275/320 [49:53<04:55,  6.57s/it]"
     ]
    },
    {
     "name": "stdout",
     "output_type": "stream",
     "text": [
      "MAE's for 5-Fold: [ 5.03019351  6.71960746 24.66981652  6.76336191 16.97763558]\n",
      "Mean of MAE's for 5-Fold: 12.0321\n"
     ]
    },
    {
     "name": "stderr",
     "output_type": "stream",
     "text": [
      "Segment: seat___KUJ, Size: 64, KFold: [1/5]:  86%|████████▋ | 276/320 [50:03<05:36,  7.65s/it]   "
     ]
    },
    {
     "name": "stdout",
     "output_type": "stream",
     "text": [
      "MAE's for 5-Fold: [6.19045782 6.31076198 6.65172999 5.33643435 7.01058374]\n",
      "Mean of MAE's for 5-Fold: 6.3000\n"
     ]
    },
    {
     "name": "stderr",
     "output_type": "stream",
     "text": [
      "Segment: mazda___LUB, Size: 56, KFold: [1/5]:  87%|████████▋ | 277/320 [50:10<05:18,  7.40s/it]"
     ]
    },
    {
     "name": "stdout",
     "output_type": "stream",
     "text": [
      "MAE's for 5-Fold: [ 7.16477958 10.18664705 12.68721087  5.48247318  9.40982783]\n",
      "Mean of MAE's for 5-Fold: 8.9862\n"
     ]
    },
    {
     "name": "stderr",
     "output_type": "stream",
     "text": [
      "Segment: seat___SWI, Size: 58, KFold: [1/5]:  87%|████████▋ | 278/320 [50:17<05:08,  7.35s/it] "
     ]
    },
    {
     "name": "stdout",
     "output_type": "stream",
     "text": [
      "MAE's for 5-Fold: [ 6.86025693 12.5285811   8.12429004 13.70002033  8.54796989]\n",
      "Mean of MAE's for 5-Fold: 9.9522\n"
     ]
    },
    {
     "name": "stderr",
     "output_type": "stream",
     "text": [
      "Segment: seat___WAR, Size: 32, KFold: [1/5]:  87%|████████▋ | 279/320 [50:24<04:53,  7.16s/it]"
     ]
    },
    {
     "name": "stdout",
     "output_type": "stream",
     "text": [
      "MAE's for 5-Fold: [9.83094499 4.6753429  8.69955637 4.33625587 8.98508804]\n",
      "Mean of MAE's for 5-Fold: 7.3054\n"
     ]
    },
    {
     "name": "stderr",
     "output_type": "stream",
     "text": [
      "Segment: honda___WAR, Size: 49, KFold: [1/5]:  88%|████████▊ | 280/320 [50:30<04:37,  6.94s/it]"
     ]
    },
    {
     "name": "stdout",
     "output_type": "stream",
     "text": [
      "MAE's for 5-Fold: [ 3.47130201 10.90451045  6.32830909 11.8180959   7.5080513 ]\n",
      "Mean of MAE's for 5-Fold: 8.0061\n"
     ]
    },
    {
     "name": "stderr",
     "output_type": "stream",
     "text": [
      "Segment: hyundai___KUJ, Size: 66, KFold: [1/5]:  88%|████████▊ | 281/320 [50:39<04:53,  7.51s/it]"
     ]
    },
    {
     "name": "stdout",
     "output_type": "stream",
     "text": [
      "MAE's for 5-Fold: [ 5.05709871 10.02578937  2.48154159  5.39778799  7.92508998]\n",
      "Mean of MAE's for 5-Fold: 6.1775\n"
     ]
    },
    {
     "name": "stderr",
     "output_type": "stream",
     "text": [
      "Segment: citroen___POL, Size: 22, KFold: [1/5]:  88%|████████▊ | 282/320 [50:46<04:40,  7.37s/it]"
     ]
    },
    {
     "name": "stdout",
     "output_type": "stream",
     "text": [
      "MAE's for 5-Fold: [4.43620916 8.06917244 6.48585761 7.3452686  9.29874869]\n",
      "Mean of MAE's for 5-Fold: 7.1271\n"
     ]
    },
    {
     "name": "stderr",
     "output_type": "stream",
     "text": [
      "Segment: peugeot___SWI, Size: 20, KFold: [1/5]:  88%|████████▊ | 283/320 [50:52<04:15,  6.90s/it]"
     ]
    },
    {
     "name": "stdout",
     "output_type": "stream",
     "text": [
      "MAE's for 5-Fold: [ 6.07152451 11.46819493  9.1653258  11.91199833  3.61787743]\n",
      "Mean of MAE's for 5-Fold: 8.4470\n"
     ]
    },
    {
     "name": "stderr",
     "output_type": "stream",
     "text": [
      "Segment: citroen___POM, Size: 35, KFold: [1/5]:  89%|████████▉ | 284/320 [50:56<03:37,  6.05s/it]"
     ]
    },
    {
     "name": "stdout",
     "output_type": "stream",
     "text": [
      "MAE's for 5-Fold: [4.69428101 3.19202712 4.84079128 7.7096143  2.75314353]\n",
      "Mean of MAE's for 5-Fold: 4.6380\n"
     ]
    },
    {
     "name": "stderr",
     "output_type": "stream",
     "text": [
      "Segment: fiat___SWI, Size: 22, KFold: [1/5]:  89%|████████▉ | 285/320 [51:07<04:21,  7.47s/it]   "
     ]
    },
    {
     "name": "stdout",
     "output_type": "stream",
     "text": [
      "MAE's for 5-Fold: [4.65211375 6.23627317 5.57157039 3.13115484 9.88250165]\n",
      "Mean of MAE's for 5-Fold: 5.8947\n"
     ]
    },
    {
     "name": "stderr",
     "output_type": "stream",
     "text": [
      "Segment: peugeot___POM, Size: 41, KFold: [1/5]:  89%|████████▉ | 286/320 [51:14<04:10,  7.37s/it]"
     ]
    },
    {
     "name": "stdout",
     "output_type": "stream",
     "text": [
      "MAE's for 5-Fold: [12.68844813  5.62871889  4.05466794  9.79867797  2.14588957]\n",
      "Mean of MAE's for 5-Fold: 6.8633\n"
     ]
    },
    {
     "name": "stderr",
     "output_type": "stream",
     "text": [
      "Segment: peugeot___WAR, Size: 15, KFold: [1/5]:  90%|████████▉ | 287/320 [51:23<04:19,  7.87s/it]"
     ]
    },
    {
     "name": "stdout",
     "output_type": "stream",
     "text": [
      "MAE's for 5-Fold: [ 7.32203945  6.37081543 11.5635649  11.651582    6.63388884]\n",
      "Mean of MAE's for 5-Fold: 8.7084\n"
     ]
    },
    {
     "name": "stderr",
     "output_type": "stream",
     "text": [
      "Segment: honda___POM, Size: 65, KFold: [1/5]:  90%|█████████ | 288/320 [51:28<03:45,  7.06s/it]  "
     ]
    },
    {
     "name": "stdout",
     "output_type": "stream",
     "text": [
      "MAE's for 5-Fold: [29.02248373  2.07758432 26.34199691  7.06779163  2.82796786]\n",
      "Mean of MAE's for 5-Fold: 13.4676\n"
     ]
    },
    {
     "name": "stderr",
     "output_type": "stream",
     "text": [
      "Segment: fiat___LUB, Size: 46, KFold: [1/5]:  90%|█████████ | 289/320 [51:35<03:35,  6.95s/it] "
     ]
    },
    {
     "name": "stdout",
     "output_type": "stream",
     "text": [
      "MAE's for 5-Fold: [11.54352182  8.97500374  6.13605213  7.60090227  5.83365068]\n",
      "Mean of MAE's for 5-Fold: 8.0178\n"
     ]
    },
    {
     "name": "stderr",
     "output_type": "stream",
     "text": [
      "Segment: mercedes-benz___WAR, Size: 73, KFold: [1/5]:  91%|█████████ | 290/320 [51:45<03:54,  7.82s/it]"
     ]
    },
    {
     "name": "stdout",
     "output_type": "stream",
     "text": [
      "MAE's for 5-Fold: [ 7.80041459 15.48372138 10.11474042  8.09984809  6.88108477]\n",
      "Mean of MAE's for 5-Fold: 9.6760\n"
     ]
    },
    {
     "name": "stderr",
     "output_type": "stream",
     "text": [
      "Segment: nissan___LUB, Size: 90, KFold: [1/5]:  91%|█████████ | 291/320 [51:59<04:39,  9.64s/it]       "
     ]
    },
    {
     "name": "stdout",
     "output_type": "stream",
     "text": [
      "MAE's for 5-Fold: [10.88512095 14.5933389  18.88508223 10.2010145  17.09396683]\n",
      "Mean of MAE's for 5-Fold: 14.3317\n"
     ]
    },
    {
     "name": "stderr",
     "output_type": "stream",
     "text": [
      "Segment: skoda___SWI, Size: 47, KFold: [1/5]:  91%|█████████▏| 292/320 [52:13<05:13, 11.21s/it] "
     ]
    },
    {
     "name": "stdout",
     "output_type": "stream",
     "text": [
      "MAE's for 5-Fold: [ 7.60553892  8.73565928  6.4559524  11.22713489  6.57670521]\n",
      "Mean of MAE's for 5-Fold: 8.1202\n"
     ]
    },
    {
     "name": "stderr",
     "output_type": "stream",
     "text": [
      "Segment: mitsubishi___WAR, Size: 7, KFold: [1/5]:  92%|█████████▏| 293/320 [52:23<04:51, 10.81s/it]"
     ]
    },
    {
     "name": "stdout",
     "output_type": "stream",
     "text": [
      "MAE's for 5-Fold: [ 7.96050702 20.57786622  9.20175646 10.39177521 15.60123894]\n",
      "Mean of MAE's for 5-Fold: 12.7466\n"
     ]
    },
    {
     "name": "stderr",
     "output_type": "stream",
     "text": [
      "Segment: hyundai___LUU, Size: 40, KFold: [1/5]:  92%|█████████▏| 294/320 [52:28<03:53,  8.98s/it]  "
     ]
    },
    {
     "name": "stdout",
     "output_type": "stream",
     "text": [
      "MAE's for 5-Fold: [ 3.73931304  1.77211307 16.4416412   7.47458338  7.23681271]\n",
      "Mean of MAE's for 5-Fold: 7.3329\n"
     ]
    },
    {
     "name": "stderr",
     "output_type": "stream",
     "text": [
      "Segment: skoda___POL, Size: 32, KFold: [1/5]:  92%|█████████▏| 295/320 [52:33<03:16,  7.84s/it]  "
     ]
    },
    {
     "name": "stdout",
     "output_type": "stream",
     "text": [
      "MAE's for 5-Fold: [16.86033513 10.51238197 10.83345246 22.99495113 10.96272605]\n",
      "Mean of MAE's for 5-Fold: 14.4328\n"
     ]
    },
    {
     "name": "stderr",
     "output_type": "stream",
     "text": [
      "Segment: honda___OPO, Size: 10, KFold: [1/5]:  92%|█████████▎| 296/320 [52:40<03:01,  7.58s/it]"
     ]
    },
    {
     "name": "stdout",
     "output_type": "stream",
     "text": [
      "MAE's for 5-Fold: [23.06420624  6.1219201   4.54822771 11.68941335  5.03971375]\n",
      "Mean of MAE's for 5-Fold: 10.0927\n"
     ]
    },
    {
     "name": "stderr",
     "output_type": "stream",
     "text": [
      "Segment: mitsubishi___OPO, Size: 16, KFold: [1/5]:  93%|█████████▎| 297/320 [52:46<02:41,  7.02s/it]"
     ]
    },
    {
     "name": "stdout",
     "output_type": "stream",
     "text": [
      "MAE's for 5-Fold: [22.19208083 29.61173809  8.07007846 13.6930378  16.52715325]\n",
      "Mean of MAE's for 5-Fold: 18.0188\n"
     ]
    },
    {
     "name": "stderr",
     "output_type": "stream",
     "text": [
      "Segment: fiat___ZAC, Size: 26, KFold: [1/5]:  93%|█████████▎| 298/320 [52:50<02:12,  6.00s/it]      "
     ]
    },
    {
     "name": "stdout",
     "output_type": "stream",
     "text": [
      "MAE's for 5-Fold: [13.79424308  1.84510971  5.11150886  1.41415818  9.64614458]\n",
      "Mean of MAE's for 5-Fold: 6.3622\n"
     ]
    },
    {
     "name": "stderr",
     "output_type": "stream",
     "text": [
      "Segment: mitsubishi___POL, Size: 10, KFold: [1/5]:  93%|█████████▎| 299/320 [53:03<02:51,  8.17s/it]"
     ]
    },
    {
     "name": "stdout",
     "output_type": "stream",
     "text": [
      "MAE's for 5-Fold: [13.82413658 14.60404685 19.98228956 31.3334584  21.04773836]\n",
      "Mean of MAE's for 5-Fold: 20.1583\n"
     ]
    },
    {
     "name": "stderr",
     "output_type": "stream",
     "text": [
      "Segment: hyundai___ZAC, Size: 88, KFold: [1/5]:  94%|█████████▍| 300/320 [53:14<03:01,  9.08s/it]   "
     ]
    },
    {
     "name": "stdout",
     "output_type": "stream",
     "text": [
      "MAE's for 5-Fold: [ 4.13025067 25.23895474  8.29048988  6.557962    2.99096104]\n",
      "Mean of MAE's for 5-Fold: 9.4417\n"
     ]
    },
    {
     "name": "stderr",
     "output_type": "stream",
     "text": [
      "Segment: citroen___ZAC, Size: 39, KFold: [1/5]:  94%|█████████▍| 301/320 [53:32<03:45, 11.88s/it]"
     ]
    },
    {
     "name": "stdout",
     "output_type": "stream",
     "text": [
      "MAE's for 5-Fold: [ 3.73643111  7.17419275 12.95357673  5.50532201 11.32109271]\n",
      "Mean of MAE's for 5-Fold: 8.1381\n"
     ]
    },
    {
     "name": "stderr",
     "output_type": "stream",
     "text": [
      "Segment: nissan___OPO, Size: 32, KFold: [1/5]:  94%|█████████▍| 302/320 [53:42<03:23, 11.33s/it] "
     ]
    },
    {
     "name": "stdout",
     "output_type": "stream",
     "text": [
      "MAE's for 5-Fold: [ 3.67575226  8.44659142 12.50087573  6.42772603  2.26044065]\n",
      "Mean of MAE's for 5-Fold: 6.6623\n"
     ]
    },
    {
     "name": "stderr",
     "output_type": "stream",
     "text": [
      "Segment: peugeot___KUJ, Size: 30, KFold: [1/5]:  95%|█████████▍| 303/320 [53:50<02:51, 10.11s/it]"
     ]
    },
    {
     "name": "stdout",
     "output_type": "stream",
     "text": [
      "MAE's for 5-Fold: [ 7.20002317  6.12254285 19.44115235  3.89706463  5.78088576]\n",
      "Mean of MAE's for 5-Fold: 8.4883\n"
     ]
    },
    {
     "name": "stderr",
     "output_type": "stream",
     "text": [
      "Segment: citroen___OPO, Size: 16, KFold: [1/5]:  95%|█████████▌| 304/320 [53:57<02:28,  9.25s/it]"
     ]
    },
    {
     "name": "stdout",
     "output_type": "stream",
     "text": [
      "MAE's for 5-Fold: [12.08578806  5.3975999  21.2041647   6.27691876  9.15200231]\n",
      "Mean of MAE's for 5-Fold: 10.8233\n"
     ]
    },
    {
     "name": "stderr",
     "output_type": "stream",
     "text": [
      "Segment: volvo___ZAC, Size: 51, KFold: [1/5]:  95%|█████████▌| 305/320 [54:02<02:00,  8.03s/it]  "
     ]
    },
    {
     "name": "stdout",
     "output_type": "stream",
     "text": [
      "MAE's for 5-Fold: [19.46749482 16.59471429 18.69625547  5.43794475  9.77276214]\n",
      "Mean of MAE's for 5-Fold: 13.9938\n"
     ]
    },
    {
     "name": "stderr",
     "output_type": "stream",
     "text": [
      "Segment: citroen___LUU, Size: 18, KFold: [1/5]:  96%|█████████▌| 306/320 [54:08<01:42,  7.33s/it]"
     ]
    },
    {
     "name": "stdout",
     "output_type": "stream",
     "text": [
      "MAE's for 5-Fold: [ 8.31551434  6.8371077  16.4910802   7.11296392 11.3104095 ]\n",
      "Mean of MAE's for 5-Fold: 10.0134\n"
     ]
    },
    {
     "name": "stderr",
     "output_type": "stream",
     "text": [
      "Segment: volvo___LUU, Size: 23, KFold: [1/5]:  96%|█████████▌| 307/320 [54:13<01:28,  6.78s/it]  "
     ]
    },
    {
     "name": "stdout",
     "output_type": "stream",
     "text": [
      "MAE's for 5-Fold: [11.83981194  6.79598696 13.10129878  6.44941647  9.33778058]\n",
      "Mean of MAE's for 5-Fold: 9.5049\n"
     ]
    },
    {
     "name": "stderr",
     "output_type": "stream",
     "text": [
      "Segment: fiat___KUJ, Size: 46, KFold: [1/5]:  96%|█████████▋| 308/320 [54:19<01:16,  6.37s/it] "
     ]
    },
    {
     "name": "stdout",
     "output_type": "stream",
     "text": [
      "MAE's for 5-Fold: [16.22567159  8.74343853  8.27273998 15.58885975  3.93907585]\n",
      "Mean of MAE's for 5-Fold: 10.5540\n"
     ]
    },
    {
     "name": "stderr",
     "output_type": "stream",
     "text": [
      "Segment: peugeot___POL, Size: 13, KFold: [1/5]:  97%|█████████▋| 309/320 [54:26<01:12,  6.58s/it]"
     ]
    },
    {
     "name": "stdout",
     "output_type": "stream",
     "text": [
      "MAE's for 5-Fold: [16.54218031 10.45920817  8.0986536   9.74966543  5.52980366]\n",
      "Mean of MAE's for 5-Fold: 10.0759\n"
     ]
    },
    {
     "name": "stderr",
     "output_type": "stream",
     "text": [
      "Segment: mitsubishi___POD, Size: 20, KFold: [1/5]:  97%|█████████▋| 310/320 [54:37<01:20,  8.03s/it]"
     ]
    },
    {
     "name": "stdout",
     "output_type": "stream",
     "text": [
      "MAE's for 5-Fold: [29.25235898  6.35658319  7.93004668  4.53626727  7.90977206]\n",
      "Mean of MAE's for 5-Fold: 11.1970\n"
     ]
    },
    {
     "name": "stderr",
     "output_type": "stream",
     "text": [
      "Segment: mitsubishi___MAL, Size: 34, KFold: [1/5]:  97%|█████████▋| 311/320 [54:43<01:06,  7.43s/it]"
     ]
    },
    {
     "name": "stdout",
     "output_type": "stream",
     "text": [
      "MAE's for 5-Fold: [41.99422419  6.47573535 11.2153868   6.98056431  6.62382599]\n",
      "Mean of MAE's for 5-Fold: 14.6579\n"
     ]
    },
    {
     "name": "stderr",
     "output_type": "stream",
     "text": [
      "Segment: toyota___LUU, Size: 54, KFold: [1/5]:  98%|█████████▊| 312/320 [54:49<00:55,  6.98s/it]    "
     ]
    },
    {
     "name": "stdout",
     "output_type": "stream",
     "text": [
      "MAE's for 5-Fold: [14.13650396 10.81255206  5.18951113 11.80426543 19.32803212]\n",
      "Mean of MAE's for 5-Fold: 12.2542\n"
     ]
    },
    {
     "name": "stderr",
     "output_type": "stream",
     "text": [
      "Segment: peugeot___LUU, Size: 11, KFold: [1/5]:  98%|█████████▊| 313/320 [54:55<00:47,  6.80s/it]"
     ]
    },
    {
     "name": "stdout",
     "output_type": "stream",
     "text": [
      "MAE's for 5-Fold: [ 6.55561735  4.95395549 14.55247345  9.58581812 11.77091261]\n",
      "Mean of MAE's for 5-Fold: 9.4838\n"
     ]
    },
    {
     "name": "stderr",
     "output_type": "stream",
     "text": [
      "Segment: fiat___LUU, Size: 31, KFold: [1/5]:  98%|█████████▊| 314/320 [54:59<00:35,  5.94s/it]   "
     ]
    },
    {
     "name": "stdout",
     "output_type": "stream",
     "text": [
      "MAE's for 5-Fold: [16.33887869  8.55770253  1.4389592  14.73429864 30.16289972]\n",
      "Mean of MAE's for 5-Fold: 14.2465\n"
     ]
    },
    {
     "name": "stderr",
     "output_type": "stream",
     "text": [
      "Segment: peugeot___OPO, Size: 9, KFold: [1/5]:  98%|█████████▊| 315/320 [55:05<00:29,  5.83s/it]"
     ]
    },
    {
     "name": "stdout",
     "output_type": "stream",
     "text": [
      "MAE's for 5-Fold: [14.1852172   8.91948216  9.26849886 10.97975321 18.43579449]\n",
      "Mean of MAE's for 5-Fold: 12.3577\n"
     ]
    },
    {
     "name": "stderr",
     "output_type": "stream",
     "text": [
      "Segment: volvo___OPO, Size: 23, KFold: [1/5]:  99%|█████████▉| 316/320 [55:09<00:21,  5.30s/it] "
     ]
    },
    {
     "name": "stdout",
     "output_type": "stream",
     "text": [
      "MAE's for 5-Fold: [53.83579442 11.54521014 20.94272415  8.44863497  8.02269697]\n",
      "Mean of MAE's for 5-Fold: 20.5590\n"
     ]
    },
    {
     "name": "stderr",
     "output_type": "stream",
     "text": [
      "Segment: peugeot___ZAC, Size: 39, KFold: [1/5]:  99%|█████████▉| 317/320 [55:13<00:15,  5.03s/it]"
     ]
    },
    {
     "name": "stdout",
     "output_type": "stream",
     "text": [
      "MAE's for 5-Fold: [19.80851829 18.23314194 13.11101837 14.55097998 24.53638038]\n",
      "Mean of MAE's for 5-Fold: 18.0480\n"
     ]
    },
    {
     "name": "stderr",
     "output_type": "stream",
     "text": [
      "Segment: volkswagen___MOR, Size: 8, KFold: [1/5]:  99%|█████████▉| 318/320 [55:17<00:09,  4.61s/it]"
     ]
    },
    {
     "name": "stdout",
     "output_type": "stream",
     "text": [
      "MAE's for 5-Fold: [14.90500509 10.51756768 20.99129768 22.08864721  5.79533083]\n",
      "Mean of MAE's for 5-Fold: 14.8596\n"
     ]
    },
    {
     "name": "stderr",
     "output_type": "stream",
     "text": [
      "Segment: fiat___POL, Size: 9, KFold: [1/5]: 100%|█████████▉| 319/320 [55:20<00:03,  4.00s/it]      "
     ]
    },
    {
     "name": "stdout",
     "output_type": "stream",
     "text": [
      "MAE's for 5-Fold: [ 3.68885593 11.6059256  34.65900314 11.40700042  5.89838858]\n",
      "Mean of MAE's for 5-Fold: 13.4518\n"
     ]
    },
    {
     "name": "stderr",
     "output_type": "stream",
     "text": [
      "Segment: fiat___POL, Size: 9, KFold: [5/5]: 100%|██████████| 320/320 [55:25<00:00, 10.39s/it]"
     ]
    },
    {
     "name": "stdout",
     "output_type": "stream",
     "text": [
      "MAE's for 5-Fold: [14.52418858  8.45021522  5.56824535  5.25565355 31.59611022]\n",
      "Mean of MAE's for 5-Fold: 13.0789\n",
      "CPU times: user 2h 4min 52s, sys: 36min 2s, total: 2h 40min 54s\n",
      "Wall time: 55min 29s\n"
     ]
    },
    {
     "name": "stderr",
     "output_type": "stream",
     "text": [
      "\n"
     ]
    }
   ],
   "source": [
    "%%time\n",
    "# 30분\n",
    "\n",
    "X = train_fn.drop(target_feature,axis=1)\n",
    "y = train_fn[target_feature]\n",
    "\n",
    "X = add_fuel_type(X,dummy_features)\n",
    "new_cat_features = cat_features + ['fuel_type']\n",
    "\n",
    "segment_list = X['segment'].unique()\n",
    "\n",
    "models = {}\n",
    "feature_info = {}\n",
    "scores = []\n",
    "pbar = tqdm(segment_list)\n",
    "\n",
    "s_i = 0\n",
    "for segment in pbar:\n",
    "    s_i+=1\n",
    "    \n",
    "    # segment에 해당하는 데이터추출\n",
    "    _X = X[X.segment==segment].drop('segment',axis=1)\n",
    "    _y = y[X.segment==segment]\n",
    "    \n",
    "    # kfold\n",
    "    kf = KFold(n_splits=CFG.N_SPLITS,random_state=1000*s_i+CFG.SEED,shuffle=True)\n",
    "    \n",
    "    # unique인 컬럼 제외\n",
    "    unique_info = _X.nunique()\n",
    "    unique_cols = unique_info[unique_info==1].index.tolist()\n",
    "    if len(unique_cols)>0:\n",
    "        _X = _X.drop(unique_cols,axis=1)\n",
    "        \n",
    "    # categorical feature에서 unique인 컬럼을 제외\n",
    "    fixed_cat_features = [col for col in new_cat_features if col in _X.columns]\n",
    "    \n",
    "    _models = []\n",
    "    _scores = []\n",
    "    k=0\n",
    "    for tr_idx,val_idx in kf.split(_X,_y):\n",
    "        k+=1\n",
    "        \n",
    "        # kfold dataset\n",
    "        X_tr, X_va = _X.iloc[tr_idx], _X.iloc[val_idx]\n",
    "        y_tr, y_va = _y.iloc[tr_idx], _y.iloc[val_idx]\n",
    "\n",
    "        # progress\n",
    "        progress = 'Segment: {}, Size: {}, KFold: [{}/{}]'\\\n",
    "            .format(segment,len(_X),k,CFG.N_SPLITS)\n",
    "        pbar.set_description(progress)\n",
    "\n",
    "        # dataset\n",
    "        train_dataset = Pool(X_tr,y_tr,cat_features=fixed_cat_features)\n",
    "        valid_dataset = Pool(X_va,y_va,cat_features=fixed_cat_features)\n",
    "\n",
    "        # define the model\n",
    "        model = CatBoostRegressor(\n",
    "            loss_function='MAE',\n",
    "            random_state=CFG.SEED,\n",
    "            iterations=CFG.EPOCHS,\n",
    "            learning_rate=CFG.LR,\n",
    "            #max_depth=7,\n",
    "            #max_bin=64,\n",
    "            allow_writing_files=False,\n",
    "        )\n",
    "\n",
    "        # fit the model\n",
    "        model.fit(\n",
    "            train_dataset,\n",
    "            eval_set=valid_dataset,\n",
    "            early_stopping_rounds=CFG.ES,\n",
    "            verbose=0,\n",
    "            #metric_period=CFG.EPOCHS//5,\n",
    "        )\n",
    "\n",
    "        # save the model\n",
    "        model.save_model(f'./model_checkpoints/{cat_path}/{segment}_k{k}.cbm')\n",
    "\n",
    "        # calculate the score\n",
    "        y_pred = model.predict(valid_dataset).flatten()\n",
    "        y_true = y_va.values\n",
    "        if CFG.TARGET_TRANSFORMATION:\n",
    "            y_pred = np.exp(y_pred)\n",
    "            y_true = np.exp(y_true)\n",
    "        score = mean_absolute_error(y_true=y_true,y_pred=y_pred)\n",
    "        \n",
    "        # append inner loop\n",
    "        _models.append(model)\n",
    "        _scores.append([segment,k,len(X_tr),len(X_va),score])\n",
    "\n",
    "    # append outer loop\n",
    "    models[segment] = _models\n",
    "    scores.append(_scores)\n",
    "    feature_info[segment] = {'cat_features':fixed_cat_features,'features':_X.columns.tolist()}\n",
    "    \n",
    "    # score report\n",
    "    mean_score_report = pd.Series(np.array(_scores)[:,-1]).astype(float).mean()\n",
    "    print(\"MAE's for {}-Fold: {}\".format(CFG.N_SPLITS,np.array(pd.Series(np.array(_scores)[:,-1]).astype(float).values)))\n",
    "    print(\"Mean of MAE's for {}-Fold: {:.4f}\".format(CFG.N_SPLITS,mean_score_report))"
   ]
  },
  {
   "cell_type": "code",
   "execution_count": 62,
   "id": "945d329a-8a2a-4b11-a184-dd86a24de2ae",
   "metadata": {},
   "outputs": [],
   "source": [
    "import pickle\n",
    "with open(f'./model_checkpoints/{cat_path}/models.pkl', 'wb') as f:\n",
    "\tpickle.dump(models, f, protocol=pickle.HIGHEST_PROTOCOL)\n",
    "with open(f'./model_checkpoints/{cat_path}/feature_info.pkl', 'wb') as f:\n",
    "\tpickle.dump(feature_info, f, protocol=pickle.HIGHEST_PROTOCOL)\n",
    "with open(f'./model_checkpoints/{cat_path}/scores.pkl', 'wb') as f:\n",
    "\tpickle.dump(scores, f, protocol=pickle.HIGHEST_PROTOCOL)"
   ]
  },
  {
   "cell_type": "code",
   "execution_count": 76,
   "id": "33753abc-bf26-4ee8-b7a6-847686119b99",
   "metadata": {},
   "outputs": [
    {
     "data": {
      "text/html": [
       "<div>\n",
       "<style scoped>\n",
       "    .dataframe tbody tr th:only-of-type {\n",
       "        vertical-align: middle;\n",
       "    }\n",
       "\n",
       "    .dataframe tbody tr th {\n",
       "        vertical-align: top;\n",
       "    }\n",
       "\n",
       "    .dataframe thead th {\n",
       "        text-align: right;\n",
       "    }\n",
       "</style>\n",
       "<table border=\"1\" class=\"dataframe\">\n",
       "  <thead>\n",
       "    <tr style=\"text-align: right;\">\n",
       "      <th></th>\n",
       "      <th>segment</th>\n",
       "      <th>k</th>\n",
       "      <th>n_tr</th>\n",
       "      <th>n_val</th>\n",
       "      <th>score</th>\n",
       "    </tr>\n",
       "  </thead>\n",
       "  <tbody>\n",
       "    <tr>\n",
       "      <th>150</th>\n",
       "      <td>audi___DOL</td>\n",
       "      <td>1</td>\n",
       "      <td>375</td>\n",
       "      <td>94</td>\n",
       "      <td>7.4205131861914655</td>\n",
       "    </tr>\n",
       "    <tr>\n",
       "      <th>151</th>\n",
       "      <td>audi___DOL</td>\n",
       "      <td>2</td>\n",
       "      <td>375</td>\n",
       "      <td>94</td>\n",
       "      <td>5.874012023013503</td>\n",
       "    </tr>\n",
       "    <tr>\n",
       "      <th>152</th>\n",
       "      <td>audi___DOL</td>\n",
       "      <td>3</td>\n",
       "      <td>375</td>\n",
       "      <td>94</td>\n",
       "      <td>8.379563016695236</td>\n",
       "    </tr>\n",
       "    <tr>\n",
       "      <th>153</th>\n",
       "      <td>audi___DOL</td>\n",
       "      <td>4</td>\n",
       "      <td>375</td>\n",
       "      <td>94</td>\n",
       "      <td>5.92707977356499</td>\n",
       "    </tr>\n",
       "    <tr>\n",
       "      <th>154</th>\n",
       "      <td>audi___DOL</td>\n",
       "      <td>5</td>\n",
       "      <td>376</td>\n",
       "      <td>93</td>\n",
       "      <td>8.840820570437545</td>\n",
       "    </tr>\n",
       "    <tr>\n",
       "      <th>735</th>\n",
       "      <td>audi___KUJ</td>\n",
       "      <td>1</td>\n",
       "      <td>192</td>\n",
       "      <td>48</td>\n",
       "      <td>6.027368821159008</td>\n",
       "    </tr>\n",
       "    <tr>\n",
       "      <th>736</th>\n",
       "      <td>audi___KUJ</td>\n",
       "      <td>2</td>\n",
       "      <td>192</td>\n",
       "      <td>48</td>\n",
       "      <td>7.091968349057946</td>\n",
       "    </tr>\n",
       "    <tr>\n",
       "      <th>737</th>\n",
       "      <td>audi___KUJ</td>\n",
       "      <td>3</td>\n",
       "      <td>192</td>\n",
       "      <td>48</td>\n",
       "      <td>6.892028525794731</td>\n",
       "    </tr>\n",
       "    <tr>\n",
       "      <th>738</th>\n",
       "      <td>audi___KUJ</td>\n",
       "      <td>4</td>\n",
       "      <td>192</td>\n",
       "      <td>48</td>\n",
       "      <td>7.201172892550677</td>\n",
       "    </tr>\n",
       "    <tr>\n",
       "      <th>739</th>\n",
       "      <td>audi___KUJ</td>\n",
       "      <td>5</td>\n",
       "      <td>192</td>\n",
       "      <td>48</td>\n",
       "      <td>7.005191109486241</td>\n",
       "    </tr>\n",
       "  </tbody>\n",
       "</table>\n",
       "</div>"
      ],
      "text/plain": [
       "        segment  k n_tr n_val               score\n",
       "150  audi___DOL  1  375    94  7.4205131861914655\n",
       "151  audi___DOL  2  375    94   5.874012023013503\n",
       "152  audi___DOL  3  375    94   8.379563016695236\n",
       "153  audi___DOL  4  375    94    5.92707977356499\n",
       "154  audi___DOL  5  376    93   8.840820570437545\n",
       "735  audi___KUJ  1  192    48   6.027368821159008\n",
       "736  audi___KUJ  2  192    48   7.091968349057946\n",
       "737  audi___KUJ  3  192    48   6.892028525794731\n",
       "738  audi___KUJ  4  192    48   7.201172892550677\n",
       "739  audi___KUJ  5  192    48   7.005191109486241"
      ]
     },
     "execution_count": 76,
     "metadata": {},
     "output_type": "execute_result"
    }
   ],
   "source": [
    "score_df = pd.DataFrame(\n",
    "    np.array(scores).reshape(len(scores)*5,5),\n",
    "    columns=['segment','k','n_tr','n_val','score']\n",
    ")\n",
    "\n",
    "score_df.sort_values(['segment','k']).head(10)"
   ]
  },
  {
   "cell_type": "code",
   "execution_count": 101,
   "id": "fa89dbbe-b7cc-4107-b3bc-197c368d49da",
   "metadata": {},
   "outputs": [
    {
     "name": "stderr",
     "output_type": "stream",
     "text": [
      "100%|██████████| 320/320 [00:07<00:00, 43.06it/s]\n"
     ]
    }
   ],
   "source": [
    "# inference\n",
    "X = train_fn.drop(target_feature,axis=1)\n",
    "X = add_fuel_type(X,dummy_features)\n",
    "y = train_fn[target_feature]\n",
    "\n",
    "X_test = add_fuel_type(test_fn,dummy_features)\n",
    "\n",
    "segment_list = X['segment'].unique()\n",
    "\n",
    "tr_pred_list = []\n",
    "te_pred_list = []\n",
    "for segment in tqdm(segment_list):\n",
    "    ## data load\n",
    "    # (1) train\n",
    "    train_data = X[X.segment==segment][feature_info[segment]['features']]\n",
    "    train_dataset = Pool(train_data,cat_features=feature_info[segment]['cat_features'])\n",
    "    # (2) test\n",
    "    test_data = X_test[X_test.segment==segment][feature_info[segment]['features']]\n",
    "    test_dataset = Pool(test_data,cat_features=feature_info[segment]['cat_features'])\n",
    "    \n",
    "    ## model\n",
    "    kfold_models = models[segment]\n",
    "    kfold_scores = score_df[score_df.segment==segment].sort_values('k').score.astype(float).values\n",
    "    kfold_weights = 1/kfold_scores\n",
    "    kfold_weights /= sum(kfold_weights)\n",
    "\n",
    "    ## prediction\n",
    "    # (1) train\n",
    "    tr_pred_df = pd.DataFrame({\n",
    "        'segment':segment,\n",
    "        'true':y[X.segment==segment].values.flatten(),\n",
    "        'pred':np.mean([model.predict(train_dataset) for model in kfold_models],axis=0),\n",
    "        #'pred':np.sum([weight*model.predict(train_dataset) for weight,model in zip(kfold_weights,kfold_models)],axis=0),\n",
    "    })\n",
    "    tr_pred_df.index = train_data.index\n",
    "    # (2) test\n",
    "    te_pred_df = pd.DataFrame({\n",
    "        'segment':segment,\n",
    "        'pred':np.mean([model.predict(test_dataset) for model in kfold_models],axis=0),\n",
    "        #'pred':np.sum([weight*model.predict(test_dataset) for weight,model in zip(kfold_weights,kfold_models)],axis=0),\n",
    "    })\n",
    "    te_pred_df.index = test_data.index\n",
    "    \n",
    "    ## Target Transformation\n",
    "    if CFG.TARGET_TRANSFORMATION:\n",
    "        tr_pred_df['true'] = np.exp(tr_pred_df['true'])\n",
    "        tr_pred_df['pred'] = np.exp(tr_pred_df['pred'])\n",
    "        te_pred_df['pred'] = np.exp(te_pred_df['pred'])\n",
    "    \n",
    "    ## append\n",
    "    tr_pred_list.append(tr_pred_df)\n",
    "    te_pred_list.append(te_pred_df)"
   ]
  },
  {
   "cell_type": "code",
   "execution_count": 102,
   "id": "bad43d66-1e96-437e-8d88-43c6549e1f9d",
   "metadata": {},
   "outputs": [
    {
     "data": {
      "text/plain": [
       "5.012146835330443"
      ]
     },
     "execution_count": 102,
     "metadata": {},
     "output_type": "execute_result"
    }
   ],
   "source": [
    "# train\n",
    "tr_pred_df = pd.concat(tr_pred_list,axis=0).sort_index()\n",
    "mean_absolute_error(y_true=tr_pred_df.true,y_pred=tr_pred_df.pred)"
   ]
  },
  {
   "cell_type": "code",
   "execution_count": 103,
   "id": "99a46da9-6aa5-4fd2-95a2-339aa93a4aca",
   "metadata": {},
   "outputs": [
    {
     "data": {
      "text/html": [
       "<div>\n",
       "<style scoped>\n",
       "    .dataframe tbody tr th:only-of-type {\n",
       "        vertical-align: middle;\n",
       "    }\n",
       "\n",
       "    .dataframe tbody tr th {\n",
       "        vertical-align: top;\n",
       "    }\n",
       "\n",
       "    .dataframe thead th {\n",
       "        text-align: right;\n",
       "    }\n",
       "</style>\n",
       "<table border=\"1\" class=\"dataframe\">\n",
       "  <thead>\n",
       "    <tr style=\"text-align: right;\">\n",
       "      <th></th>\n",
       "      <th>segment</th>\n",
       "      <th>pred</th>\n",
       "    </tr>\n",
       "  </thead>\n",
       "  <tbody>\n",
       "    <tr>\n",
       "      <th>0</th>\n",
       "      <td>mazda___WIE</td>\n",
       "      <td>74.328589</td>\n",
       "    </tr>\n",
       "    <tr>\n",
       "      <th>1</th>\n",
       "      <td>ford___POD</td>\n",
       "      <td>27.552190</td>\n",
       "    </tr>\n",
       "    <tr>\n",
       "      <th>2</th>\n",
       "      <td>volkswagen___LOD</td>\n",
       "      <td>86.825672</td>\n",
       "    </tr>\n",
       "    <tr>\n",
       "      <th>3</th>\n",
       "      <td>renault___SLA</td>\n",
       "      <td>115.033888</td>\n",
       "    </tr>\n",
       "    <tr>\n",
       "      <th>4</th>\n",
       "      <td>volvo___POM</td>\n",
       "      <td>57.511411</td>\n",
       "    </tr>\n",
       "  </tbody>\n",
       "</table>\n",
       "</div>"
      ],
      "text/plain": [
       "            segment        pred\n",
       "0       mazda___WIE   74.328589\n",
       "1        ford___POD   27.552190\n",
       "2  volkswagen___LOD   86.825672\n",
       "3     renault___SLA  115.033888\n",
       "4       volvo___POM   57.511411"
      ]
     },
     "execution_count": 103,
     "metadata": {},
     "output_type": "execute_result"
    }
   ],
   "source": [
    "te_pred_df = pd.concat(te_pred_list,axis=0).sort_index()\n",
    "te_pred_df.head()"
   ]
  },
  {
   "cell_type": "code",
   "execution_count": 100,
   "id": "335d926b-6db7-4b8d-9e16-1ca1c0331872",
   "metadata": {},
   "outputs": [],
   "source": [
    "submit = pd.read_csv('./data/sample_submission.csv')\n",
    "submit['가격'] = te_pred_df.pred.values\n",
    "submit.to_csv('./out/9_catboost_segment_브랜드&판매구역_kfold.csv',index=False)"
   ]
  },
  {
   "cell_type": "markdown",
   "id": "c185d9eb-31c9-4d6f-b9f8-9a89b6837af5",
   "metadata": {},
   "source": [
    "- weighted sum으로 바꾸기\n",
    "- cat, xgb, lgb 비교해서 필요없는거 하나 빼기?"
   ]
  },
  {
   "cell_type": "markdown",
   "id": "6df7a7e9-1c4b-47c3-8959-0412cfc188f6",
   "metadata": {},
   "source": [
    "<br>"
   ]
  },
  {
   "cell_type": "markdown",
   "id": "34001f77-6935-4c16-8d86-2ee1e7ab27ef",
   "metadata": {},
   "source": [
    "## Weighted Ensemble\n",
    "- public score : 6.2489713335"
   ]
  },
  {
   "cell_type": "code",
   "execution_count": null,
   "id": "e51d603f-56f8-4006-a62b-386cc14d51a2",
   "metadata": {},
   "outputs": [],
   "source": [
    "import pandas as pd\n",
    "import warnings\n",
    "\n",
    "class OneHotEncoder:\n",
    "    def __init__(self):\n",
    "        pass\n",
    "    \n",
    "    def fit(self,data,columns):\n",
    "        self.transform_list = []\n",
    "        for col in columns:\n",
    "            for i,value in enumerate(sorted(data[col].unique())):\n",
    "                if i>0:\n",
    "                    self.transform_list.append([col,value])\n",
    "        \n",
    "    def transform(self,data):\n",
    "        warnings.simplefilter(action='ignore', category=pd.errors.PerformanceWarning)\n",
    "        new_data = data.copy()\n",
    "        for col,value in self.transform_list:\n",
    "            new_data[f'{col}_{value}'] = np.where(new_data[col]==value,1,0)\n",
    "        drop_columns = pd.unique(np.array(self.transform_list)[:,0])\n",
    "        new_data.drop(columns=drop_columns,inplace=True)\n",
    "        return new_data"
   ]
  },
  {
   "cell_type": "code",
   "execution_count": null,
   "id": "5c20d5c0-a506-418d-838c-65c44c753dd4",
   "metadata": {
    "tags": []
   },
   "outputs": [],
   "source": [
    "from copy import deepcopy\n",
    "from sklearn.base import BaseEstimator, RegressorMixin\n",
    "from catboost import CatBoostRegressor, Pool\n",
    "from xgboost import XGBRegressor\n",
    "from lightgbm import LGBMRegressor\n",
    "from sklearn.metrics import mean_absolute_error\n",
    "import warnings\n",
    "import time\n",
    "import pickle\n",
    "\n",
    "class WeightedEnsembleRegressor(BaseEstimator, RegressorMixin):\n",
    "    def __init__(self,weight=['equal','balanced']):\n",
    "        super().__init__()\n",
    "        \n",
    "        assert weight in ['equal','balanced'], \\\n",
    "            \"weight must be one of ['equal','balanced']\"\n",
    "        self.weight = weight\n",
    "        self._get_regressors()\n",
    "    \n",
    "    def _get_regressors(self):\n",
    "        max_depth = 10\n",
    "        n_jobs = -1\n",
    "        \n",
    "        params_catboost = {\n",
    "            'random_state':CFG.SEED,\n",
    "            'early_stopping_rounds' : CFG.ES,\n",
    "            'learning_rate' : CFG.LR,\n",
    "            'iterations' : CFG.EPOCHS,\n",
    "            'loss_function': 'MAE',\n",
    "            'grow_policy' : 'Lossguide', # 'SymmetricTree','Depthwise'\n",
    "            'use_best_model' : True,\n",
    "            'allow_writing_files' : False,\n",
    "            'verbose' : 0,\n",
    "            'max_depth': max_depth,\n",
    "            'l2_leaf_reg' : 1,\n",
    "        }\n",
    "    \n",
    "        params_xgboost = {\n",
    "            'random_state':CFG.SEED,\n",
    "            'early_stopping_rounds' : CFG.XGB_ES,\n",
    "            'learning_rate' : CFG.XGB_LR,\n",
    "            'n_estimators' : CFG.XGB_EPOCHS,\n",
    "            'objective': 'reg:absoluteerror',\n",
    "            'verbosity' : 0,\n",
    "            'max_depth': max_depth,\n",
    "            'n_jobs' : n_jobs,\n",
    "        }\n",
    "    \n",
    "        params_lgb = {\n",
    "            'objective': 'regression',\n",
    "            'random_state':CFG.SEED,\n",
    "            'early_stopping_round' : CFG.ES,\n",
    "            'learning_rate' : CFG.LR,\n",
    "            'n_estimators' : CFG.EPOCHS,\n",
    "            'metric': 'mean_absolute_error',\n",
    "            'verbosity' : -1,\n",
    "            'max_depth': max_depth,\n",
    "            'n_jobs' : n_jobs,\n",
    "        }\n",
    "        \n",
    "        self.regressors = [\n",
    "            CatBoostRegressor(**params_catboost),\n",
    "            XGBRegressor(**params_xgboost),\n",
    "            LGBMRegressor(**params_lgb),\n",
    "        ]\n",
    "        self.regressors_name = ['CatBoost','XGBoost','LightGBM']\n",
    "    \n",
    "    def fit(self,X,y,eval_set,oh_set,cat_features,verbose=1):\n",
    "        assert len(eval_set)==1, \\\n",
    "            \"eval_set length must be 1. len(eval_set)={}\".format(len(eval_set))\n",
    "        assert len(oh_set)==1, \\\n",
    "            \"oh_set length must be 1. len(oh_set)={}\".format(len(oh_set))\n",
    "        X_val, y_val = eval_set[0]\n",
    "        X_oh, X_val_oh = oh_set[0]\n",
    "        \n",
    "        self.cat_features = cat_features\n",
    "        self.weights = []\n",
    "        self.fitting_elapsed = []\n",
    "        if verbose:\n",
    "            pbar = tqdm(zip(self.regressors_name,self.regressors),total=len(self.regressors))\n",
    "        else:\n",
    "            pbar = zip(self.regressors_name,self.regressors)\n",
    "        for regressor_name,regressor in pbar:\n",
    "            s = time.time()\n",
    "            if verbose:\n",
    "                pbar.set_description(name)\n",
    "            if regressor_name=='CatBoost':\n",
    "                train_dataset = Pool(X,y,cat_features=cat_features)\n",
    "                val_dataset   = Pool(X_val,y_val,cat_features=cat_features)\n",
    "                regressor.fit(\n",
    "                    train_dataset,\n",
    "                    eval_set=val_dataset,\n",
    "                    #metric_period=CFG.EPOCHS//5,\n",
    "                )\n",
    "                val_pred = regressor.predict(val_dataset)\n",
    "            elif regressor_name=='XGBoost':\n",
    "                regressor.fit(\n",
    "                    X_oh,y,\n",
    "                    eval_set=[(X_val_oh,y_val)],\n",
    "                    verbose=0,\n",
    "                )\n",
    "                val_pred = regressor.predict(X_val_oh)\n",
    "            elif regressor_name=='LightGBM':\n",
    "                warnings.filterwarnings(\"ignore\", category=UserWarning)\n",
    "                X_tmp = X.copy()\n",
    "                X_val_tmp = X_val.copy()\n",
    "                for col in cat_features:\n",
    "                    X_tmp[col]     = X_tmp[col]    .astype('category')\n",
    "                    X_val_tmp[col] = X_val_tmp[col].astype('category')\n",
    "                regressor.fit(\n",
    "                    X_tmp,y,\n",
    "                    eval_set=[(X_val_tmp,y_val)],\n",
    "                    verbose=-1,\n",
    "                )\n",
    "                val_pred = regressor.predict(X_val_tmp)\n",
    "            else:\n",
    "                raise ValueError('Unknown Regressor: {}'.format(regressor_name))\n",
    "                \n",
    "            score = mean_absolute_error(y_pred=val_pred,y_true=y_val)\n",
    "            e = time.time()\n",
    "            \n",
    "            self.weights.append(1/score)\n",
    "            self.fitting_elapsed.append(e-s)\n",
    "        \n",
    "        if self.weight=='equal':\n",
    "            self.weights = np.array([1.0 for _ in self.regressors])\n",
    "        self.weights /= sum(self.weights)\n",
    "                \n",
    "    def predict(self,X,X_oh):\n",
    "        assert len(X)==len(X_oh), \\\n",
    "            \"X and X_oh must be same length\"\n",
    "        \n",
    "        pred_list = []\n",
    "        for regressor_name,regressor in zip(self.regressors_name,self.regressors):\n",
    "            if regressor_name=='CatBoost':\n",
    "                dataset = Pool(X,cat_features=self.cat_features)\n",
    "            elif regressor_name=='XGBoost':\n",
    "                dataset = X_oh.copy()\n",
    "            elif regressor_name=='LightGBM':\n",
    "                dataset = X.copy()\n",
    "                for col in self.cat_features:\n",
    "                    dataset[col] = dataset[col].astype('category')\n",
    "            else:\n",
    "                raise ValueError('Unknown Regressor: {}'.format(regressor_name))\n",
    "            \n",
    "            y_pred = regressor.predict(dataset)\n",
    "            y_pred = np.array(y_pred).flatten()\n",
    "            pred_list.append(y_pred)\n",
    "            \n",
    "        final_pred = np.zeros(len(X))\n",
    "        for pred,weight in zip(pred_list,self.weights):\n",
    "            final_pred += np.array(pred)*weight\n",
    "            \n",
    "        return final_pred\n",
    "    \n",
    "    def save_model(self,path):\n",
    "        save_dict = {\n",
    "            'cat_features' : self.cat_features,\n",
    "            'weights' : self.weights,\n",
    "            'fitting_elapsed' : self.fitting_elapsed,\n",
    "            'regressors' : self.regressors,\n",
    "        }\n",
    "        with open(path, 'wb') as f:\n",
    "            pickle.dump(save_dict, f, protocol=pickle.HIGHEST_PROTOCOL)\n",
    "            \n",
    "    def load_model(self,path):\n",
    "        with open(path, 'rb') as f:\n",
    "            save_dict = pickle.load(f)\n",
    "            self.cat_features = save_dict['cat_features']\n",
    "            self.weights = save_dict['weights']\n",
    "            self.fitting_elapsed = save_dict['fitting_elapsed']\n",
    "            self.regressors = save_dict['regressors']"
   ]
  },
  {
   "cell_type": "code",
   "execution_count": null,
   "id": "e23e22bc-b630-430c-a9f9-6f539e219c60",
   "metadata": {},
   "outputs": [],
   "source": [
    "from sklearn.model_selection import KFold"
   ]
  },
  {
   "cell_type": "code",
   "execution_count": null,
   "id": "f8ac1666-19fe-4f0c-b651-8d6267292d30",
   "metadata": {},
   "outputs": [],
   "source": [
    "gc.collect()"
   ]
  },
  {
   "cell_type": "code",
   "execution_count": null,
   "id": "f003ed17-9aae-4651-9020-35ae377b036c",
   "metadata": {},
   "outputs": [],
   "source": [
    "train_fn = train_df7.copy()\n",
    "test_fn  = test_df7 .copy()"
   ]
  },
  {
   "cell_type": "code",
   "execution_count": null,
   "id": "7ccb213e-a076-45ba-b12d-94449e44d75a",
   "metadata": {},
   "outputs": [],
   "source": [
    "%%time\n",
    "# 6시간\n",
    "\n",
    "X = train_fn.drop(target_feature,axis=1)\n",
    "y = train_fn[target_feature]\n",
    "\n",
    "ohe = OneHotEncoder()\n",
    "ohe.fit(X,cat_features)\n",
    "X_oh = ohe.transform(X)\n",
    "\n",
    "segment_list = X['segment'].unique()\n",
    "\n",
    "models = {}\n",
    "feature_info = {}\n",
    "scores = []\n",
    "pbar = tqdm(segment_list)\n",
    "\n",
    "s_i = 0\n",
    "for segment in pbar:\n",
    "    s_i+=1\n",
    "    \n",
    "    # segment에 해당하는 데이터추출\n",
    "    _X    = X   [X   .segment==segment].drop('segment',axis=1)\n",
    "    _X_oh = X_oh[X_oh.segment==segment].drop('segment',axis=1)\n",
    "    _y    = y   [X   .segment==segment]\n",
    "    \n",
    "    # kfold\n",
    "    kf = KFold(n_splits=CFG.N_SPLITS,random_state=1000*s_i+CFG.SEED,shuffle=True)\n",
    "    \n",
    "    # unique인 컬럼 제외\n",
    "    # (1) X\n",
    "    unique_info = _X.nunique()\n",
    "    unique_cols = unique_info[unique_info==1].index.tolist()\n",
    "    if len(unique_cols)>0:\n",
    "        _X = _X.drop(unique_cols,axis=1)\n",
    "    # (2) X_oh\n",
    "    unique_info = _X_oh.nunique()\n",
    "    unique_cols = unique_info[unique_info==1].index.tolist()\n",
    "    if len(unique_cols)>0:\n",
    "        _X_oh = _X_oh.drop(unique_cols,axis=1)\n",
    "        \n",
    "    # categorical feature에서 unique인 컬럼을 제외\n",
    "    fixed_cat_features = [col for col in cat_features if col in _X.columns]\n",
    "    \n",
    "    _models = []\n",
    "    _scores = []\n",
    "    k=0\n",
    "    for tr_idx,val_idx in kf.split(_X,_y):\n",
    "        k+=1\n",
    "        \n",
    "        # kfold dataset\n",
    "        X_tr   , X_va    = _X   .iloc[tr_idx], _X   .iloc[val_idx]\n",
    "        X_tr_oh, X_va_oh = _X_oh.iloc[tr_idx], _X_oh.iloc[val_idx]\n",
    "        y_tr   , y_va    = _y   .iloc[tr_idx], _y   .iloc[val_idx]\n",
    "\n",
    "        # progress\n",
    "        progress = 'Segment: {}, Length: Train({}), Validation({}), KFold: {}/{}'\\\n",
    "            .format(segment,len(X_tr),len(X_va),k,CFG.N_SPLITS)\n",
    "        pbar.set_description(progress)\n",
    "\n",
    "        # define the model\n",
    "        ensemble_model = WeightedEnsembleRegressor(weight='equal')\n",
    "\n",
    "        # fit the model\n",
    "        ensemble_model.fit(\n",
    "            X_tr,y_tr,\n",
    "            eval_set=[(X_va,y_va)],\n",
    "            oh_set=[(X_tr_oh,X_va_oh)],\n",
    "            cat_features=fixed_cat_features,\n",
    "            verbose=0,\n",
    "        )\n",
    "\n",
    "        # save the model\n",
    "        ensemble_model.save_model(f'./model_checkpoints/{weiens_path}/{segment}_k{k}.pickle')\n",
    "\n",
    "        # calculate the score\n",
    "        y_pred = ensemble_model.predict(X_va,X_va_oh).flatten()\n",
    "        y_true = y_va.values\n",
    "        score = mean_absolute_error(y_true=y_true,y_pred=y_pred)\n",
    "        \n",
    "        # append inner loop\n",
    "        _models.append(ensemble_model)\n",
    "        _scores.append([segment,k,len(X_tr),len(X_va),score])\n",
    "\n",
    "    # append outer loop\n",
    "    models[segment] = _models\n",
    "    scores.append(_scores)\n",
    "    feature_info[segment] = {\n",
    "        'cat_features':fixed_cat_features,\n",
    "        'features':_X.columns.tolist(),\n",
    "        'oh_features':_X_oh.columns.tolist(),\n",
    "    }"
   ]
  },
  {
   "cell_type": "code",
   "execution_count": null,
   "id": "92db8ed9-ced3-432d-aeb2-ba20f3e30150",
   "metadata": {},
   "outputs": [],
   "source": [
    "import pickle\n",
    "with open(f'./model_checkpoints/{weiens_path}/models.pkl', 'wb') as f:\n",
    "\tpickle.dump(models, f, protocol=pickle.HIGHEST_PROTOCOL)\n",
    "with open(f'./model_checkpoints/{weiens_path}/feature_info.pkl', 'wb') as f:\n",
    "\tpickle.dump(feature_info, f, protocol=pickle.HIGHEST_PROTOCOL)\n",
    "with open(f'./model_checkpoints/{weiens_path}/scores.pkl', 'wb') as f:\n",
    "\tpickle.dump(scores, f, protocol=pickle.HIGHEST_PROTOCOL)"
   ]
  },
  {
   "cell_type": "code",
   "execution_count": null,
   "id": "74057406-7c55-4ee1-90e0-bde923905b76",
   "metadata": {},
   "outputs": [],
   "source": [
    "# import pickle\n",
    "# with open(f'./model_checkpoints/{weiens_path}/models.pkl', 'rb') as f:\n",
    "# \tmodels = pickle.load(f)\n",
    "# with open(f'./model_checkpoints/{weiens_path}/feature_info.pkl', 'rb') as f:\n",
    "# \tfeature_info = pickle.load(f)\n",
    "# with open(f'./model_checkpoints/{weiens_path}/scores.pkl', 'rb') as f:\n",
    "# \tscores = pickle.load(f)"
   ]
  },
  {
   "cell_type": "code",
   "execution_count": null,
   "id": "e754b5f4-1a4e-483a-aa41-019289df14f2",
   "metadata": {},
   "outputs": [],
   "source": [
    "# pd.DataFrame(\n",
    "#     np.array(scores).reshape(100,5),\n",
    "#     columns=['segment','k','n_tr','n_val','score']\n",
    "# ).sort_values(['segment','k'])"
   ]
  },
  {
   "cell_type": "code",
   "execution_count": null,
   "id": "ff4feb2f-3fe3-4b15-a2e9-a69e7c283c46",
   "metadata": {},
   "outputs": [],
   "source": [
    "# inference\n",
    "X = train_fn.drop(target_feature,axis=1)\n",
    "y = train_fn[target_feature]\n",
    "\n",
    "X_test = test_fn.copy()\n",
    "\n",
    "ohe = OneHotEncoder()\n",
    "ohe.fit(X,cat_features)\n",
    "X_oh = ohe.transform(X)\n",
    "X_test_oh = ohe.transform(X_test)\n",
    "\n",
    "segment_list = X['segment'].unique()\n",
    "\n",
    "tr_pred_list = []\n",
    "te_pred_list = []\n",
    "for segment in tqdm(segment_list):\n",
    "    ## data load\n",
    "    # (1) train\n",
    "    train_data    = X   [X   .segment==segment][feature_info[segment]['features']]\n",
    "    train_data_oh = X_oh[X_oh.segment==segment][feature_info[segment]['oh_features']]\n",
    "    # (2) test\n",
    "    test_data     = X_test   [X_test   .segment==segment][feature_info[segment]['features']]\n",
    "    test_data_oh  = X_test_oh[X_test_oh.segment==segment][feature_info[segment]['oh_features']]\n",
    "    \n",
    "    ## model\n",
    "    kfold_models = models[segment]\n",
    "    \n",
    "    ## prediction\n",
    "    # (1) train\n",
    "    tr_pred_df = pd.DataFrame({\n",
    "        'true':y[X.segment==segment].values.flatten(),\n",
    "        'pred':np.mean([model.predict(train_data,train_data_oh) for model in kfold_models],axis=0),\n",
    "    })\n",
    "    tr_pred_df.index = train_data.index\n",
    "    # (2) test\n",
    "    te_pred_df = pd.DataFrame({\n",
    "        'pred':np.mean([model.predict(test_data,test_data_oh) for model in kfold_models],axis=0),\n",
    "    })\n",
    "    te_pred_df.index = test_data.index\n",
    "    \n",
    "    ## append\n",
    "    tr_pred_list.append(tr_pred_df)\n",
    "    te_pred_list.append(te_pred_df)"
   ]
  },
  {
   "cell_type": "code",
   "execution_count": null,
   "id": "c068d2b4-114a-4556-aebb-49ce81be2fcf",
   "metadata": {},
   "outputs": [],
   "source": [
    "# train\n",
    "tr_pred_df = pd.concat(tr_pred_list,axis=0).sort_index()\n",
    "mean_absolute_error(y_true=tr_pred_df.true,y_pred=tr_pred_df.pred)"
   ]
  },
  {
   "cell_type": "code",
   "execution_count": null,
   "id": "453d4242-793f-4c8c-a1da-2f6934a98df6",
   "metadata": {},
   "outputs": [],
   "source": [
    "# def abline(intercept,slope,**kwargs):\n",
    "#     axes = plt.gca()\n",
    "#     x_vals = np.array(axes.get_xlim())\n",
    "#     y_vals = intercept + slope * x_vals\n",
    "#     plt.plot(x_vals, y_vals, '--',**kwargs)\n",
    "\n",
    "# offset = 0.05\n",
    "# min_value = min(tr_pred_df.true.min(),tr_pred_df.pred.min())*(1-offset)\n",
    "# max_value = min(tr_pred_df.true.max(),tr_pred_df.pred.max())*(1+offset)\n",
    "\n",
    "# plt.figure(figsize=(15,7))\n",
    "# sns.scatterplot(x=tr_pred_df.true,y=tr_pred_df.pred)\n",
    "# plt.xlim(min_value,max_value)\n",
    "# plt.ylim(min_value,max_value)\n",
    "# abline(0,1,color='red',linestyle='--')\n",
    "# plt.show()"
   ]
  },
  {
   "cell_type": "code",
   "execution_count": null,
   "id": "d43b9ad6-0c4f-4593-94e3-70d810909cf9",
   "metadata": {},
   "outputs": [],
   "source": [
    "te_pred_df = pd.concat(te_pred_list,axis=0).sort_index()\n",
    "te_pred_df.head()"
   ]
  },
  {
   "cell_type": "code",
   "execution_count": null,
   "id": "52e76369-d936-4816-aed7-c7dcdb3bdde5",
   "metadata": {},
   "outputs": [],
   "source": [
    "submit = pd.read_csv('./data/sample_submission.csv')\n",
    "submit['가격'] = te_pred_df.pred.values\n",
    "submit.to_csv('./out/10_ensemble_segment_브랜드&판매구역_kfold.csv',index=False)"
   ]
  },
  {
   "cell_type": "markdown",
   "id": "3a92abc4-eb0a-4d71-861f-200a40356c20",
   "metadata": {},
   "source": [
    "<br>"
   ]
  },
  {
   "cell_type": "markdown",
   "id": "e2a6f0e6-6fa4-458d-838e-32a5db3df13d",
   "metadata": {},
   "source": [
    "## 참조 pycaret"
   ]
  },
  {
   "cell_type": "code",
   "execution_count": null,
   "id": "e12e7ce5-6c68-4d17-b54b-c33c821ced59",
   "metadata": {},
   "outputs": [],
   "source": [
    "# from pycaret import regression"
   ]
  },
  {
   "cell_type": "code",
   "execution_count": null,
   "id": "c4da0375-b3dc-45d9-af61-33e733136308",
   "metadata": {},
   "outputs": [],
   "source": [
    "# %%time\n",
    "\n",
    "# data = train_fn[train_fn.segment==segment_list[0]]\n",
    "# print(len(data))\n",
    "\n",
    "# regression.setup(data=data,target='가격',remove_outliers=True,verbose=True)\n",
    "# best = regression.compare_models(n_select=5,fold=5)"
   ]
  }
 ],
 "metadata": {
  "kernelspec": {
   "display_name": "Python 3",
   "language": "python",
   "name": "python3"
  },
  "language_info": {
   "codemirror_mode": {
    "name": "ipython",
    "version": 3
   },
   "file_extension": ".py",
   "mimetype": "text/x-python",
   "name": "python",
   "nbconvert_exporter": "python",
   "pygments_lexer": "ipython3",
   "version": "3.8.10"
  },
  "toc-autonumbering": true,
  "toc-showtags": false
 },
 "nbformat": 4,
 "nbformat_minor": 5
}
