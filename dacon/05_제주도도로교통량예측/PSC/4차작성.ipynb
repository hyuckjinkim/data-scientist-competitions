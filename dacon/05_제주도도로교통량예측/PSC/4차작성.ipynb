{
 "cells": [
  {
   "cell_type": "markdown",
   "id": "27aace6c-81ee-48f3-85b2-a0f76d97e30a",
   "metadata": {
    "tags": []
   },
   "source": [
    "---\n",
    "# Setting\n",
    "---"
   ]
  },
  {
   "cell_type": "code",
   "execution_count": 1,
   "id": "c8b2e1e8-5a97-4a94-b155-be4cc305bcb2",
   "metadata": {},
   "outputs": [],
   "source": [
    "# d MyPython/2_Dacon_JEJU/DAT/\n",
    "# unzip open.zip"
   ]
  },
  {
   "cell_type": "code",
   "execution_count": 2,
   "id": "aca3b24f-1dc6-4f0f-b50b-7e6f69f7941a",
   "metadata": {},
   "outputs": [],
   "source": [
    "import os\n",
    "import sys\n",
    "import pandas as pd\n",
    "pd.set_option('display.max_rows', None)\n",
    "pd.set_option('display.max_columns', None)\n",
    "pd.set_option('display.width', None)\n",
    "\n",
    "import numpy as np\n",
    "from tqdm import tqdm, trange\n",
    "tqdm.pandas()\n",
    "\n",
    "import warnings\n",
    "warnings.filterwarnings(action='ignore')\n",
    "warnings.simplefilter(action='ignore', category=FutureWarning) # FutureWarning 제거\n",
    "os.environ['PYTHONWARNINGS']='ignore::FutureWarning'\n",
    "\n",
    "import itertools\n",
    "import datetime\n",
    "from pytimekr import pytimekr\n",
    "import matplotlib.pyplot as plt\n",
    "plt.rcParams['font.family'] = 'AppleGothic'\n",
    "import seaborn as sns\n",
    "\n",
    "import multiprocessing as mp\n",
    "from joblib import Parallel, delayed"
   ]
  },
  {
   "cell_type": "code",
   "execution_count": 3,
   "id": "185fa922-b854-4d75-a819-18c2f4b574b4",
   "metadata": {},
   "outputs": [],
   "source": [
    "# https://stackoverflow.com/questions/24983493/tracking-progress-of-joblib-parallel-execution\n",
    "\n",
    "import contextlib\n",
    "import joblib\n",
    "from tqdm import tqdm\n",
    "\n",
    "@contextlib.contextmanager\n",
    "def tqdm_joblib(tqdm_object):\n",
    "    \"\"\"Context manager to patch joblib to report into tqdm progress bar given as argument\"\"\"\n",
    "    class TqdmBatchCompletionCallback(joblib.parallel.BatchCompletionCallBack):\n",
    "        def __call__(self, *args, **kwargs):\n",
    "            tqdm_object.update(n=self.batch_size)\n",
    "            return super().__call__(*args, **kwargs)\n",
    "\n",
    "    old_batch_callback = joblib.parallel.BatchCompletionCallBack\n",
    "    joblib.parallel.BatchCompletionCallBack = TqdmBatchCompletionCallback\n",
    "    try:\n",
    "        yield tqdm_object\n",
    "    finally:\n",
    "        joblib.parallel.BatchCompletionCallBack = old_batch_callback\n",
    "        tqdm_object.close()"
   ]
  },
  {
   "cell_type": "code",
   "execution_count": 4,
   "id": "587c77d3-2afc-4f51-8fd5-cf22eb5a5e1f",
   "metadata": {},
   "outputs": [],
   "source": [
    "def abline(slope, intercept, color):\n",
    "    axes = plt.gca()\n",
    "    x_vals = np.array(axes.get_xlim())\n",
    "    y_vals = intercept + slope * x_vals\n",
    "    plt.plot(x_vals, y_vals, '--',color=color)\n",
    "    \n",
    "def createFolder(directory):\n",
    "    try:\n",
    "        if not os.path.exists(directory):\n",
    "            os.makedirs(directory)\n",
    "    except OSError:\n",
    "        print('Error: Creating directory. ' + directory)\n",
    "        \n",
    "def cnt(x):\n",
    "    vc = x.value_counts().sort_index()\n",
    "    res = pd.DataFrame({\n",
    "        'index' : vc.index,\n",
    "        'freq'  : vc.values,\n",
    "    })\n",
    "    res['rate'] = 100 * res['freq'] / res['freq'].sum()\n",
    "    return res"
   ]
  },
  {
   "cell_type": "code",
   "execution_count": 5,
   "id": "c1437a80-3534-4529-8d3f-76d32ad4cebc",
   "metadata": {},
   "outputs": [
    {
     "data": {
      "text/plain": [
       "'/Users/khj/MyPython/Dacon/5_제주도도로교통량예측/PSC'"
      ]
     },
     "execution_count": 5,
     "metadata": {},
     "output_type": "execute_result"
    }
   ],
   "source": [
    "os.getcwd()"
   ]
  },
  {
   "cell_type": "code",
   "execution_count": 6,
   "id": "3546ae72-3cb0-4a7a-9ec7-b69e48e2f818",
   "metadata": {},
   "outputs": [
    {
     "name": "stdout",
     "output_type": "stream",
     "text": [
      "2022-11-04 22:23:45.960220\n"
     ]
    }
   ],
   "source": [
    "DAT_PATH = \"../DAT/\"\n",
    "start_time = datetime.datetime.now()\n",
    "\n",
    "print(start_time)"
   ]
  },
  {
   "cell_type": "code",
   "execution_count": 17,
   "id": "bed37d6b-2c72-42bc-a3aa-c511ad7989d3",
   "metadata": {},
   "outputs": [
    {
     "data": {
      "text/plain": [
       "60807"
      ]
     },
     "execution_count": 17,
     "metadata": {},
     "output_type": "execute_result"
    }
   ],
   "source": [
    "train_tmp_1['pred_cat'].isnull().sum()\n",
    "train_tmp_2['pred_cat_kf'].isnull().sum()"
   ]
  },
  {
   "cell_type": "markdown",
   "id": "5d70994a-9b12-4d4e-9032-2016db69e8ca",
   "metadata": {},
   "source": [
    "<br>\n",
    "\n",
    "User Functions"
   ]
  },
  {
   "cell_type": "code",
   "execution_count": null,
   "id": "7eaa5f6d-430f-4896-a840-1135848655cd",
   "metadata": {},
   "outputs": [],
   "source": [
    "module_path = '../lib'\n",
    "# module_path = \"/Users/khj/StoreLink/MyFunc\"\n",
    "if module_path not in sys.path:\n",
    "    sys.path.append(module_path)"
   ]
  },
  {
   "cell_type": "code",
   "execution_count": null,
   "id": "6073c72e-fd21-4fb2-86a4-d4c8fccc8c99",
   "metadata": {},
   "outputs": [],
   "source": [
    "from MyModel import *"
   ]
  },
  {
   "cell_type": "markdown",
   "id": "e5d30542-ea0e-45b9-98ce-62348de0597a",
   "metadata": {},
   "source": [
    "<br></br>"
   ]
  },
  {
   "cell_type": "markdown",
   "id": "8d30e42c-53e8-4ff8-a2e5-c47218980458",
   "metadata": {},
   "source": [
    "---\n",
    "# Data Load\n",
    "---"
   ]
  },
  {
   "attachments": {
    "6c04bf7c-fd81-4a79-af3a-41c66c1470c7.png": {
     "image/png": "[encoded data removed]"
    }
   },
   "cell_type": "markdown",
   "id": "ae662696-229e-431f-8d9d-923ad5c49a41",
   "metadata": {},
   "source": [
    "- 데이터 설명 <br>\n",
    "    <img src = attachment:6c04bf7c-fd81-4a79-af3a-41c66c1470c7.png height = 300 width = 350>"
   ]
  },
  {
   "cell_type": "code",
   "execution_count": null,
   "id": "726043fa-f5b4-408e-8a7c-c8970ffac354",
   "metadata": {},
   "outputs": [],
   "source": [
    "train_df = pd.read_csv(DAT_PATH+'train.csv')\n",
    "test_df  = pd.read_csv(DAT_PATH+'test.csv')"
   ]
  },
  {
   "cell_type": "markdown",
   "id": "59da17be-31af-4f27-ba49-3d03b0589ded",
   "metadata": {},
   "source": [
    "<br>\n",
    "\n",
    "기본적인 내용 확인"
   ]
  },
  {
   "cell_type": "code",
   "execution_count": null,
   "id": "1b7ab264-773c-4339-8002-9d30b23da09c",
   "metadata": {},
   "outputs": [],
   "source": [
    "train_df.shape, test_df.shape"
   ]
  },
  {
   "cell_type": "code",
   "execution_count": null,
   "id": "abab4b9e-2a35-4f55-855f-5922bc37718d",
   "metadata": {},
   "outputs": [],
   "source": [
    "train_df.head()"
   ]
  },
  {
   "cell_type": "code",
   "execution_count": null,
   "id": "0d5a4106-7857-46e8-b349-4e4ae9fba37b",
   "metadata": {},
   "outputs": [],
   "source": [
    "train_df.dtypes"
   ]
  },
  {
   "cell_type": "code",
   "execution_count": null,
   "id": "53cbc793-fc35-43bd-96b0-64fbd81ac13d",
   "metadata": {},
   "outputs": [],
   "source": [
    "print('\\n(1) train')\n",
    "display(train_df.isnull().sum())\n",
    "\n",
    "print('\\n(2) test')\n",
    "display(test_df.isnull().sum())"
   ]
  },
  {
   "cell_type": "markdown",
   "id": "bb24fd32-891c-4e8b-968e-a99413c68736",
   "metadata": {},
   "source": [
    "<br>"
   ]
  },
  {
   "cell_type": "markdown",
   "id": "fa33f215-c6ac-49d1-99f6-836a7465c62f",
   "metadata": {},
   "source": [
    "<br></br>\n",
    "\n",
    "---\n",
    "# 분석제외대상\n",
    "---"
   ]
  },
  {
   "cell_type": "markdown",
   "id": "9e90683c-7e63-44be-86ee-daebf5ec5d2a",
   "metadata": {},
   "source": [
    "<br>\n",
    "\n",
    "## multi_linked : 중용구간여부\n",
    "- 단어설명\n",
    "    - 전용구간 : 하나의 노선이 도로를 전적으로 사용하는 구간\n",
    "    - 중용구간 : 2개 이상의 노선이 도로의 일정 구간을 공동으로 사용하는 구간\n",
    "    - [참조](https://www.semanticscholar.org/paper/%EC%9D%BC%EB%B0%98%EA%B5%AD%EB%8F%84-%EC%A4%91%EC%9A%A9%EA%B5%AC%EA%B0%84%EC%9D%98-%EC%8B%9C%EA%B0%84%EC%A0%81-%EC%A0%95%EB%B3%B4%EA%B4%80%EB%A6%AC%EC%97%90-%EB%8C%80%ED%95%9C-%EC%97%B0%EA%B5%AC-%EC%84%9C%EC%9E%AC%ED%99%94-%EC%84%B1%EC%A0%95%EA%B3%A4/5c905f83ce13879d65c10fc1c92b1ef20d3b402f)\n",
    "- train은 1이 소수라도 있는 반면, test는 1이 없음\n",
    "- 대부분이 전용구간이므로, 중용구간은 제외하고 분석하는 것이 좋아보임"
   ]
  },
  {
   "cell_type": "code",
   "execution_count": null,
   "id": "00b26646-57c5-4e2b-88dd-77a6cdf56c5a",
   "metadata": {},
   "outputs": [],
   "source": [
    "print('\\n(1) train')\n",
    "display(cnt(train_df.multi_linked).round(2))\n",
    "\n",
    "print('\\n(2) test')\n",
    "display(cnt(test_df.multi_linked).round(2))"
   ]
  },
  {
   "cell_type": "markdown",
   "id": "72072309-c821-43db-9294-619daeb50b64",
   "metadata": {},
   "source": [
    "<br>\n",
    "\n",
    "## connect_code : 연결로코드\n",
    "- train은 103이 소수라도 있는 반면, test는 1이 없음\n",
    "- 중용구간여부(multi_linked)와는 100% 일치하는 값은 아님\n",
    "- 하지만, 대부분의 연결로코드가 0으로, 연결로코드 103은 제외하고 분석하는 것이 좋아보임"
   ]
  },
  {
   "cell_type": "code",
   "execution_count": null,
   "id": "a80b9456-d3b6-444b-aca5-14b6ebf0303f",
   "metadata": {},
   "outputs": [],
   "source": [
    "print('\\n(1) train')\n",
    "display(cnt(train_df.connect_code).round(2))\n",
    "\n",
    "print('\\n(2) test')\n",
    "display(cnt(test_df.connect_code).round(2))"
   ]
  },
  {
   "cell_type": "code",
   "execution_count": null,
   "id": "3f5148e3-ae5e-4b61-953a-32086ef86590",
   "metadata": {},
   "outputs": [],
   "source": [
    "pd.crosstab(train_df.connect_code,train_df.multi_linked)"
   ]
  },
  {
   "cell_type": "markdown",
   "id": "a1f50c10-7617-49c5-b5c0-9257a2efadc6",
   "metadata": {},
   "source": [
    "<br>\n",
    "\n",
    "## 분석제외대상 삭제"
   ]
  },
  {
   "cell_type": "code",
   "execution_count": null,
   "id": "fd2164b5-a325-466a-87d0-6f33b3da1e49",
   "metadata": {},
   "outputs": [],
   "source": [
    "# 분석제외대상 건수 확인\n",
    "del_tr_len = train_df.shape[0] - train_df[(train_df.multi_linked==0) & (train_df.connect_code==0)].shape[0]\n",
    "del_te_len = test_df .shape[0] - test_df [(test_df .multi_linked==0) & (test_df .connect_code==0)].shape[0]\n",
    "print(f'deleted obs. : train({del_tr_len:,}), test({del_te_len:,})')\n",
    "\n",
    "# 분석제외대상 삭제\n",
    "train_df = train_df[(train_df.multi_linked==0) & (train_df.connect_code==0)]\n",
    "test_df  = test_df [(test_df .multi_linked==0) & (test_df .connect_code==0)]\n",
    "\n",
    "# 분석제외대상 삭제 후, 해당 컬럼은 모두 동일한 값이므로 삭제\n",
    "\n",
    "train_df.drop(['multi_linked','connect_code'],axis=1,inplace=True)\n",
    "test_df .drop(['multi_linked','connect_code'],axis=1,inplace=True)"
   ]
  },
  {
   "cell_type": "markdown",
   "id": "9d9b9e64-c715-40df-a6d8-efd9607dc6f6",
   "metadata": {
    "tags": []
   },
   "source": [
    "<br></br>\n",
    "\n",
    "---\n",
    "# EDA (1-D)\n",
    "---"
   ]
  },
  {
   "cell_type": "markdown",
   "id": "5cba1e0d-3ae8-4c44-801d-a8149a536e40",
   "metadata": {},
   "source": [
    "<br>\n",
    "\n",
    "## id\n",
    "- 중복된 ID가 없음\n",
    "- length는 모두 7자리(train), 6자리(test)로 이루어짐"
   ]
  },
  {
   "cell_type": "code",
   "execution_count": null,
   "id": "caca1bea-9321-4320-a55f-d69bfb3c0abe",
   "metadata": {},
   "outputs": [],
   "source": [
    "train_id = pd.Series([x.replace('TRAIN_','') for x in train_df.id])\n",
    "test_id  = pd.Series([x.replace('TEST_' ,'') for x in test_df .id])"
   ]
  },
  {
   "cell_type": "code",
   "execution_count": null,
   "id": "4ceb7eaa-9a6f-4b54-9831-433c8121c1e6",
   "metadata": {},
   "outputs": [],
   "source": [
    "print('\\n(1) id length 확인')\n",
    "print('- train')\n",
    "display(train_id.astype(str).apply(len).head())\n",
    "print('- test')\n",
    "display(test_id .astype(str).apply(len).head())\n",
    "\n",
    "print('\\n(2) 모든 값은 7자리(train), 6자리(test)로 이루어짐. 즉, 잘못적재된 값 없음')\n",
    "print('- train')\n",
    "display(train_id.astype(str).apply(len).value_counts())\n",
    "print('- test')\n",
    "display(test_id.astype(str).apply(len).value_counts())"
   ]
  },
  {
   "cell_type": "code",
   "execution_count": null,
   "id": "9aeabf85-0967-4055-8eca-cd3dd9a3c055",
   "metadata": {},
   "outputs": [],
   "source": [
    "print('\\n(3) 모든 값은 중복되지 않음')\n",
    "print('- train')\n",
    "display(cnt(train_id.value_counts()).round(2))\n",
    "\n",
    "print('- test')\n",
    "display(cnt(test_id.value_counts()).round(2))"
   ]
  },
  {
   "cell_type": "markdown",
   "id": "f65c6f99-d9a7-41ef-b1c2-558bdfa635eb",
   "metadata": {},
   "source": [
    "<br>\n",
    "\n",
    "## base_date : 날짜\n",
    "- train은 2021-09-01 ~ 2022-07-31, test는 2022-08-01 ~ 2022-08-31로 이루어짐\n",
    "- train 이후 일자의 데이터가 test로 이루어짐"
   ]
  },
  {
   "cell_type": "code",
   "execution_count": null,
   "id": "27ba134a-0d9e-48b0-827d-f0c6e8cd0e1e",
   "metadata": {},
   "outputs": [],
   "source": [
    "train_base_date = pd.Series([datetime.datetime.strptime(str(x),'%Y%m%d') for x in tqdm(train_df.base_date)])\n",
    "test_base_date  = pd.Series([datetime.datetime.strptime(str(x),'%Y%m%d') for x in tqdm(test_df .base_date)])"
   ]
  },
  {
   "cell_type": "code",
   "execution_count": null,
   "id": "0cf01241-9e18-4128-86e6-7c48d1e397b5",
   "metadata": {},
   "outputs": [],
   "source": [
    "print(f'(1) train 일자 : {train_base_date.min()} ~ {train_base_date.max()}')\n",
    "print(f'(2) test  일자 : {test_base_date.min()} ~ {test_base_date.max()}')"
   ]
  },
  {
   "cell_type": "markdown",
   "id": "78724cdf-e86b-4136-8f85-8f2e5fc81c7b",
   "metadata": {},
   "source": [
    "<br>\n",
    "\n",
    "## day_of_week : 요일\n",
    "- train, test 모두 월~금이 비슷한 비율로 들어가있음\n",
    "- 단, test에서는 월,수가 좀 더 많음"
   ]
  },
  {
   "cell_type": "code",
   "execution_count": null,
   "id": "cc8ffdd2-4a77-4588-9ddd-d0f3dc10cd49",
   "metadata": {},
   "outputs": [],
   "source": [
    "print('\\n(1) train')\n",
    "display(cnt(train_df.day_of_week).round(2))\n",
    "\n",
    "print('\\n(2) test')\n",
    "display(cnt(test_df.day_of_week).round(2))"
   ]
  },
  {
   "cell_type": "markdown",
   "id": "bb7e44a0-46d9-4a43-b8e9-ee847cf40902",
   "metadata": {},
   "source": [
    "<br>\n",
    "\n",
    "## base_hour : 시간대\n",
    "- train, test 모두 0~23의 값으로 들어가있음\n",
    "- base_date + base_hour의 그룹별로 봤을 때, 딱히 정해진 Freq가 없음 -> 특정 categorical feature로 나뉘는건 아닌 것으로 보임"
   ]
  },
  {
   "cell_type": "code",
   "execution_count": null,
   "id": "f6f53520-7378-46a8-8eed-c649bd85e385",
   "metadata": {},
   "outputs": [],
   "source": [
    "print('\\n(1) train')\n",
    "display(cnt(train_df.base_hour))\n",
    "\n",
    "print('\\n(2) test')\n",
    "display(cnt(test_df.base_hour))"
   ]
  },
  {
   "cell_type": "code",
   "execution_count": null,
   "id": "14430135-770b-49ce-9ec3-22064929b2f6",
   "metadata": {},
   "outputs": [],
   "source": [
    "print('\\n<head>')\n",
    "display(train_df.groupby(['base_date','base_hour']).size().value_counts().sort_index().head())\n",
    "\n",
    "print('\\n<tail>')\n",
    "display(train_df.groupby(['base_date','base_hour']).size().value_counts().sort_index().tail())"
   ]
  },
  {
   "cell_type": "markdown",
   "id": "0a39b91d-7fd2-43d7-a559-0a91532db10c",
   "metadata": {},
   "source": [
    "<br>\n",
    "\n",
    "## road_in_use : 도로사용여부\n",
    "- 변수 오류로 삭제됨\n",
    "- 참조 : [Dacon](https://dacon.io/competitions/official/235985/talkboard/407092?page=1&dtype=recent)"
   ]
  },
  {
   "cell_type": "markdown",
   "id": "d29ef17c-23c3-458a-8031-f50dc18d31b8",
   "metadata": {},
   "source": [
    "<br>\n",
    "\n",
    "## lane_count : 차로수\n",
    "- train, test 모두 1,2,3의 값이 들어가있음\n",
    "- train의 빈도는 2>1>3인 반면, test의 빈도는 2>3>1으로 이루어짐\n",
    "- categorical로 넣을지, integer로 넣을지 고민 필요"
   ]
  },
  {
   "cell_type": "code",
   "execution_count": null,
   "id": "a094939d-3ee8-4a1e-a61a-06561779e3c4",
   "metadata": {},
   "outputs": [],
   "source": [
    "print('\\n(1) train')\n",
    "display(cnt(train_df.lane_count).round(2))\n",
    "\n",
    "print('\\n(2) test')\n",
    "display(cnt(test_df.lane_count).round(2))"
   ]
  },
  {
   "cell_type": "markdown",
   "id": "10917b4e-51f7-43de-9762-21634f01d0fa",
   "metadata": {},
   "source": [
    "<br>\n",
    "\n",
    "## road_rating : 도로등급\n",
    "- train, test 모두 103,106,107으로 이루어짐\n",
    "- train의 빈도는 1>3>2인 반면, test의 빈도는 3>1>2로 이루어짐\n",
    "- categorical로 변경 필요"
   ]
  },
  {
   "cell_type": "code",
   "execution_count": null,
   "id": "3e6493f0-970f-476e-8044-bc9dfa831233",
   "metadata": {},
   "outputs": [],
   "source": [
    "print('\\n(1) train')\n",
    "display(cnt(train_df.road_rating).round(2))\n",
    "\n",
    "print('\\n(2) test')\n",
    "display(cnt(test_df.road_rating).round(2))"
   ]
  },
  {
   "cell_type": "markdown",
   "id": "5874e5ea-cc3c-4aee-8be4-0180945353bc",
   "metadata": {},
   "source": [
    "<br>\n",
    "\n",
    "## maximum_speed_limit : 최고속도제한\n",
    "- 기존에는 train은 40.0이 있는 반면, test는 40.0이 없었음\n",
    "- multi_linked, connect_code에서 분석제외대상을 제거 한 이후에 동일하게 나타남"
   ]
  },
  {
   "cell_type": "code",
   "execution_count": null,
   "id": "920d3e20-e18c-48c4-bd75-0b1cff78f24d",
   "metadata": {},
   "outputs": [],
   "source": [
    "print('\\n(1) train')\n",
    "display(cnt(train_df.maximum_speed_limit).round(2))\n",
    "\n",
    "print('\\n(2) test')\n",
    "display(cnt(test_df.maximum_speed_limit).round(2))"
   ]
  },
  {
   "cell_type": "markdown",
   "id": "c34a993d-495e-400c-be58-c62737c5f699",
   "metadata": {},
   "source": [
    "<br>\n",
    "\n",
    "## weight_restricted : 통과제한하중\n",
    "- 큰 문제 없음"
   ]
  },
  {
   "cell_type": "code",
   "execution_count": null,
   "id": "6d0acdb8-74d0-4c79-a746-2153b7b7c8d8",
   "metadata": {},
   "outputs": [],
   "source": [
    "print('\\n(1) train')\n",
    "display(cnt(train_df.weight_restricted).round(2))\n",
    "\n",
    "print('\\n(2) test')\n",
    "display(cnt(test_df.weight_restricted).round(2))"
   ]
  },
  {
   "cell_type": "markdown",
   "id": "4450ad04-06bb-43f8-b0a8-5c9bc2663b74",
   "metadata": {},
   "source": [
    "<br>\n",
    "\n",
    "## height_restricted : 통과제한높이\n",
    "- train, test 모두 0으로 이루어짐\n",
    "- 모두 동일한 값이므로, 분석대상에서 제외"
   ]
  },
  {
   "cell_type": "code",
   "execution_count": null,
   "id": "fd709bbf-5bd0-46eb-8bfd-c581d8407f77",
   "metadata": {},
   "outputs": [],
   "source": [
    "print('\\n(1) train')\n",
    "display(cnt(train_df.height_restricted).round(2))\n",
    "\n",
    "print('\\n(2) test')\n",
    "display(cnt(test_df.height_restricted).round(2))"
   ]
  },
  {
   "cell_type": "markdown",
   "id": "1656b689-cf6f-4528-a0a5-91a53b5d2206",
   "metadata": {},
   "source": [
    "<br>\n",
    "\n",
    "## road_type : 도로유형\n",
    "- 큰 문제 없음"
   ]
  },
  {
   "cell_type": "code",
   "execution_count": null,
   "id": "26bcf25c-7e07-406d-8e12-1b5e623ef2b8",
   "metadata": {},
   "outputs": [],
   "source": [
    "print('\\n(1) train')\n",
    "display(cnt(train_df.road_type).round(2))\n",
    "\n",
    "print('\\n(2) test')\n",
    "display(cnt(test_df.road_type).round(2))"
   ]
  },
  {
   "cell_type": "markdown",
   "id": "4ae7b491-54f6-406c-aa56-93dde1b5a177",
   "metadata": {},
   "source": [
    "<br>\n",
    "\n",
    "## start_latitude : 시작지점 위도\n",
    "- 분포가 조금 달라보임\n",
    "- train은 중간부분에 값이 있는데, test는 중간부분에 값이 거의 없음"
   ]
  },
  {
   "cell_type": "code",
   "execution_count": null,
   "id": "bf3bec75-4234-4aae-8265-95a88b691a54",
   "metadata": {},
   "outputs": [],
   "source": [
    "fig = plt.figure(figsize=(15,7))\n",
    "\n",
    "ax1 = fig.add_subplot(1,2,1)\n",
    "sns.violinplot(y=train_df.start_latitude)\n",
    "plt.title('train')\n",
    "\n",
    "ax2 = fig.add_subplot(1,2,2)\n",
    "sns.violinplot(y=test_df.start_latitude)\n",
    "plt.title('test')\n",
    "\n",
    "ax1.get_shared_x_axes().join(ax1, ax2)\n",
    "ax1.set_xticklabels([])\n",
    "\n",
    "plt.show()"
   ]
  },
  {
   "cell_type": "markdown",
   "id": "1ca4a9e2-545b-447b-bee0-8ed713288527",
   "metadata": {},
   "source": [
    "<br>\n",
    "\n",
    "## start_longitude : 시작지점 경도\n",
    "- 분포가 조금 달라보임\n",
    "- train은 양끝쪽에 값이 있는 반면, test는 양끝쪽에 값이 많이 없음"
   ]
  },
  {
   "cell_type": "code",
   "execution_count": null,
   "id": "60fce6f4-27ff-41d3-8ccd-101de4f2ff45",
   "metadata": {},
   "outputs": [],
   "source": [
    "fig = plt.figure(figsize=(15,7))\n",
    "\n",
    "ax1 = fig.add_subplot(1,2,1)\n",
    "sns.violinplot(y=train_df.start_longitude)\n",
    "plt.title('train')\n",
    "\n",
    "ax2 = fig.add_subplot(1,2,2)\n",
    "sns.violinplot(y=test_df.start_longitude)\n",
    "plt.title('test')\n",
    "\n",
    "ax1.get_shared_x_axes().join(ax1, ax2)\n",
    "ax1.set_xticklabels([])\n",
    "\n",
    "plt.show()"
   ]
  },
  {
   "cell_type": "markdown",
   "id": "a7aa23d0-1812-4ce1-ac77-227329f33c20",
   "metadata": {},
   "source": [
    "<br>\n",
    "\n",
    "## start_turn_restricted : 시작지점 회전제한 유무\n",
    "- test의 있음이 비중이 좀 더 높음"
   ]
  },
  {
   "cell_type": "code",
   "execution_count": null,
   "id": "b07f58a6-a1a8-4687-9932-c2336d699f52",
   "metadata": {},
   "outputs": [],
   "source": [
    "print('\\n(1) train')\n",
    "display(cnt(train_df.start_turn_restricted).round(2))\n",
    "\n",
    "print('\\n(2) test')\n",
    "display(cnt(test_df.start_turn_restricted).round(2))"
   ]
  },
  {
   "cell_type": "markdown",
   "id": "7da2bbb6-d856-40a4-b6ca-9f9d095ac552",
   "metadata": {},
   "source": [
    "<br>\n",
    "\n",
    "## end_latitude : 도착지점 위도\n",
    "- 분포가 조금 달라보임\n",
    "- train은 중간부분에 값이 있는데, test는 중간부분에 값이 거의 없음"
   ]
  },
  {
   "cell_type": "code",
   "execution_count": null,
   "id": "2605aae6-8e29-4537-bf35-cb6a0ae3fa6a",
   "metadata": {},
   "outputs": [],
   "source": [
    "fig = plt.figure(figsize=(15,7))\n",
    "\n",
    "ax1 = fig.add_subplot(1,2,1)\n",
    "sns.violinplot(y=train_df.end_latitude)\n",
    "plt.title('train')\n",
    "\n",
    "ax2 = fig.add_subplot(1,2,2)\n",
    "sns.violinplot(y=test_df.end_latitude)\n",
    "plt.title('test')\n",
    "\n",
    "ax1.get_shared_x_axes().join(ax1, ax2)\n",
    "ax1.set_xticklabels([])\n",
    "\n",
    "plt.show()"
   ]
  },
  {
   "cell_type": "markdown",
   "id": "1fd9aec3-978d-4f92-803d-888dd053aa5d",
   "metadata": {},
   "source": [
    "<br>\n",
    "\n",
    "## end_longitude : 도착지점 경도\n",
    "- 분포가 조금 달라보임\n",
    "- train은 양끝쪽에 값이 있는 반면, test는 양끝쪽에 값이 많이 없음"
   ]
  },
  {
   "cell_type": "code",
   "execution_count": null,
   "id": "cdad0043-6d77-447e-8906-5d64a86e6a95",
   "metadata": {},
   "outputs": [],
   "source": [
    "fig = plt.figure(figsize=(15,7))\n",
    "\n",
    "ax1 = fig.add_subplot(1,2,1)\n",
    "sns.violinplot(y=train_df.end_longitude)\n",
    "plt.title('train')\n",
    "\n",
    "ax2 = fig.add_subplot(1,2,2)\n",
    "sns.violinplot(y=test_df.end_longitude)\n",
    "plt.title('test')\n",
    "\n",
    "ax1.get_shared_x_axes().join(ax1, ax2)\n",
    "ax1.set_xticklabels([])\n",
    "\n",
    "plt.show()"
   ]
  },
  {
   "cell_type": "code",
   "execution_count": null,
   "id": "ea2c3690-3552-456c-ab91-0f225af7a4be",
   "metadata": {},
   "outputs": [],
   "source": [
    "train_df[['start_latitude','start_longitude','end_latitude','end_longitude']].corr().round(4)*100"
   ]
  },
  {
   "cell_type": "markdown",
   "id": "d4778e47-2aa4-4fd2-9faa-0393f97408e8",
   "metadata": {},
   "source": [
    "<br>\n",
    "\n",
    "- latitude와 longitude간에 상관관계가 매우 높으므로 다공선성의 문제가 생길 가능성이 있음\n",
    "    - start와 end의 차이는 매우 작은 값이기 때문에, start나 end 하나만 사용해도 좋을 것으로 보임\n",
    "    - 정보손실을 최소화하기 위해서, start,end 중 하나를 삭제하고, start와 end의 차이를 사용\n",
    "    - 차이값과 start만 사용했을 때, 상관관계가 낮아서 다공선성에 안전할 것으로 보임"
   ]
  },
  {
   "cell_type": "code",
   "execution_count": null,
   "id": "f56d1b77-b7fd-4a77-9805-3d17bec2a582",
   "metadata": {},
   "outputs": [],
   "source": [
    "tmp = pd.DataFrame({\n",
    "    # 'latitude_prod'  : train_df.start_latitude*train_df.end_latitude,\n",
    "    # 'longitude_prod' : train_df.start_longitude*train_df.end_longitude\n",
    "    'latitude_diff'  : train_df.end_latitude - train_df.start_latitude,\n",
    "    'longitude_diff' : train_df.end_longitude - train_df.start_longitude,\n",
    "    'start_longitude' : train_df.start_longitude,\n",
    "    'start_latitude' : train_df.start_latitude,\n",
    "})\n",
    "\n",
    "print('(1) correlation')\n",
    "display(tmp.corr().round(4)*100)\n",
    "\n",
    "print('\\n(2) boxplot')\n",
    "fig = plt.figure(figsize=(15,7))\n",
    "fig.add_subplot(121)\n",
    "sns.boxplot(y=tmp['latitude_diff'])\n",
    "fig.add_subplot(122)\n",
    "sns.boxplot(y=tmp['longitude_diff'])\n",
    "plt.show()"
   ]
  },
  {
   "cell_type": "markdown",
   "id": "6d05a445-5c6d-40ec-af26-976a25427aea",
   "metadata": {},
   "source": [
    "<br>\n",
    "\n",
    "start와 end의 차이가 0인 값들 확인"
   ]
  },
  {
   "cell_type": "code",
   "execution_count": null,
   "id": "400da156-af3c-4c36-9e1b-d2d8950dc6e9",
   "metadata": {},
   "outputs": [],
   "source": [
    "tmp = train_df[['start_latitude','end_latitude']]\n",
    "tmp['diff'] = train_df['end_latitude'] - train_df['start_latitude']\n",
    "\n",
    "print('(1) describe')\n",
    "display(tmp.describe().round(3))"
   ]
  },
  {
   "cell_type": "code",
   "execution_count": null,
   "id": "d265f0eb-b191-4586-9741-e200183cadeb",
   "metadata": {},
   "outputs": [],
   "source": [
    "tr_tmp = pd.DataFrame({\n",
    "    # 'latitude_prod'  : train_df.start_latitude*train_df.end_latitude,\n",
    "    # 'longitude_prod' : train_df.start_longitude*train_df.end_longitude\n",
    "    'latitude_diff'  : train_df.end_latitude - train_df.start_latitude,\n",
    "    'longitude_diff' : train_df.end_longitude - train_df.start_longitude,\n",
    "})\n",
    "te_tmp = pd.DataFrame({\n",
    "    # 'latitude_prod'  : test_df.start_latitude*test_df.end_latitude,\n",
    "    # 'longitude_prod' : test_df.start_longitude*test_df.end_longitude\n",
    "    'latitude_diff'  : test_df.end_latitude - test_df.start_latitude,\n",
    "    'longitude_diff' : test_df.end_longitude - test_df.start_longitude,\n",
    "})\n",
    "\n",
    "offset = 1e-5\n",
    "tr_equal_latitude_freq  = np.where(abs(tr_tmp.latitude_diff) <offset,1,0).sum()\n",
    "te_equal_latitude_freq  = np.where(abs(te_tmp.latitude_diff) <offset,1,0).sum()\n",
    "tr_equal_longitude_freq = np.where(abs(tr_tmp.longitude_diff)<offset,1,0).sum()\n",
    "te_equal_longitude_freq = np.where(abs(te_tmp.longitude_diff)<offset,1,0).sum()\n",
    "\n",
    "tr_total_freq = train_df.shape[0]\n",
    "te_total_freq = test_df .shape[0]\n",
    "\n",
    "print(f'Freq. of (start_latitude == end_latitude)')\n",
    "print(f'- train : {tr_equal_latitude_freq:,} ({tr_equal_latitude_freq/tr_total_freq*100:.2f}%)')\n",
    "print(f'- train : {te_equal_latitude_freq:,} ({te_equal_latitude_freq/te_total_freq*100:.2f}%)')"
   ]
  },
  {
   "cell_type": "markdown",
   "id": "ca4fec0f-382f-4ad5-b8f7-d565a0b24b56",
   "metadata": {},
   "source": [
    "<br>\n",
    "\n",
    "## end_turn_restricted : 도착지점 회전제한 유무\n",
    "- test의 있음이 비중이 좀 더 높음\n",
    "- start_turn_restricted와 end_turn_restricted는 대부분 없음임\n",
    "- 두 feature와의 관계는 크게있지는 않아보임"
   ]
  },
  {
   "cell_type": "code",
   "execution_count": null,
   "id": "09f09dc4-eea6-45c4-bb9a-c185c642000a",
   "metadata": {},
   "outputs": [],
   "source": [
    "print('\\n(1) train')\n",
    "display(cnt(train_df.end_turn_restricted).round(2))\n",
    "\n",
    "print('\\n(2) test')\n",
    "display(cnt(test_df.end_turn_restricted).round(2))"
   ]
  },
  {
   "cell_type": "code",
   "execution_count": null,
   "id": "833c0f3b-e9ec-480f-97b1-23c512570ad8",
   "metadata": {},
   "outputs": [],
   "source": [
    "tr_ct = pd.crosstab(train_df['start_turn_restricted'],train_df['end_turn_restricted'])\n",
    "te_ct = pd.crosstab(test_df ['start_turn_restricted'],test_df ['end_turn_restricted'])"
   ]
  },
  {
   "cell_type": "code",
   "execution_count": null,
   "id": "fe4aba1f-fd2d-4fe0-8cbb-a39d035d1bb6",
   "metadata": {},
   "outputs": [],
   "source": [
    "fig = plt.figure(figsize=(15,7))\n",
    "\n",
    "fig.add_subplot(121)\n",
    "ax = sns.heatmap(tr_ct,cmap='Blues',annot=True,fmt='d')\n",
    "plt.title('<train>',size=15)\n",
    "total_freq = sum([int(t.get_text()) for t in ax.texts])\n",
    "for t in ax.texts:\n",
    "    t.set_text('{:,d}\\n({:.2f}%)'.format(int(t.get_text()), 100*int(t.get_text())/total_freq))\n",
    "\n",
    "fig.add_subplot(122)\n",
    "ax = sns.heatmap(te_ct,cmap='Blues',annot=True,fmt='d')\n",
    "plt.title('<test>',size=15)\n",
    "total_freq = sum([int(t.get_text()) for t in ax.texts])\n",
    "for t in ax.texts:\n",
    "    t.set_text('{:,d}\\n({:.2f}%)'.format(int(t.get_text()), 100*int(t.get_text())/total_freq))\n",
    "    \n",
    "plt.tight_layout()\n",
    "plt.show()"
   ]
  },
  {
   "cell_type": "markdown",
   "id": "9b935e12-a142-4186-8ed4-f54c674962ce",
   "metadata": {},
   "source": [
    "<br>\n",
    "\n",
    "## road_name : 도로명\n",
    "- train에 없고 test에만 존재하는 도로명은 없음\n",
    "- train에서 도로명은 총 61가지"
   ]
  },
  {
   "cell_type": "code",
   "execution_count": null,
   "id": "c64c00f6-eabb-4e4b-95b4-82196ac323ea",
   "metadata": {},
   "outputs": [],
   "source": [
    "train_df.road_name.nunique(), test_df.road_name.nunique()"
   ]
  },
  {
   "cell_type": "code",
   "execution_count": null,
   "id": "fad47d79-07a0-4cf8-b17e-b57a45997040",
   "metadata": {},
   "outputs": [],
   "source": [
    "tr_road_name = train_df.road_name.unique()\n",
    "te_road_name = test_df .road_name.unique()\n",
    "\n",
    "print(f'train에만 있는 도로명 : {list(set(tr_road_name)-set(te_road_name))}')\n",
    "print(f'test 에만 있는 도로명 : {list(set(te_road_name)-set(tr_road_name))}')"
   ]
  },
  {
   "cell_type": "markdown",
   "id": "2adf9529-c072-4cf2-8c69-e74cfdaaed11",
   "metadata": {},
   "source": [
    "<br>\n",
    "\n",
    "## start_node_name : 시작지점명\n",
    "- train에 없고 test에만 존재하는 시작지점명은 없음\n",
    "- train에서 시작지점명은 총 486가지로 매우 많음"
   ]
  },
  {
   "cell_type": "code",
   "execution_count": null,
   "id": "03e8edfb-bc0e-48c1-9436-55f030797a09",
   "metadata": {},
   "outputs": [],
   "source": [
    "train_df.start_node_name.nunique(), test_df.start_node_name.nunique()"
   ]
  },
  {
   "cell_type": "code",
   "execution_count": null,
   "id": "984d4729-ed4d-49a5-ae9d-055cb8aa3a9a",
   "metadata": {},
   "outputs": [],
   "source": [
    "tr_start_node_name = train_df.start_node_name.unique()\n",
    "te_start_node_name = test_df .start_node_name.unique()\n",
    "\n",
    "print(f'train에만 있는 시작지점명 : {list(set(tr_start_node_name)-set(te_start_node_name))}')\n",
    "print(f'test 에만 있는 시작지점명 : {list(set(te_start_node_name)-set(tr_start_node_name))}')"
   ]
  },
  {
   "cell_type": "markdown",
   "id": "53286b78-1ad7-4405-9a57-a923f1a70302",
   "metadata": {},
   "source": [
    "<br>\n",
    "\n",
    "## end_node_name : 도착지점명\n",
    "- train에 없고 test에만 존재하는 도착지점명은 없음\n",
    "- train에서 도착지점명은 총 486가지로 매우 많음\n",
    "- train에서 (시작지점명,도착지점명)의 조합은 806개로 매우 많음\n",
    "- 시작지점명과 도착지점명이 동일한 비중은 train(19.73%), test(18.24%)"
   ]
  },
  {
   "cell_type": "code",
   "execution_count": null,
   "id": "985f4f0d-c593-4b57-b973-78c2eb94f82f",
   "metadata": {},
   "outputs": [],
   "source": [
    "train_df.end_node_name.nunique(), test_df.end_node_name.nunique()"
   ]
  },
  {
   "cell_type": "code",
   "execution_count": null,
   "id": "62d6e1a6-45ad-42ef-be5e-a9ac9b9d13cd",
   "metadata": {},
   "outputs": [],
   "source": [
    "tr_end_node_name = train_df.end_node_name.unique()\n",
    "te_end_node_name = test_df .end_node_name.unique()\n",
    "\n",
    "print(f'train에만 있는 시작지점명 : {list(set(tr_end_node_name)-set(te_end_node_name))}')\n",
    "print(f'test 에만 있는 시작지점명 : {list(set(te_end_node_name)-set(tr_end_node_name))}')"
   ]
  },
  {
   "cell_type": "code",
   "execution_count": null,
   "id": "affd1ba6-98c2-4d59-a067-3d443f097dd8",
   "metadata": {},
   "outputs": [],
   "source": [
    "len(train_df.groupby(['road_type','start_node_name','end_node_name']).size().sort_values().values)"
   ]
  },
  {
   "cell_type": "code",
   "execution_count": null,
   "id": "2051d045-2e66-4dca-bd88-a7e16b01b9b7",
   "metadata": {},
   "outputs": [],
   "source": [
    "tr_equal_node_freq = np.where(train_df.start_node_name==train_df.end_node_name,1,0).sum()\n",
    "te_equal_node_freq = np.where(test_df .start_node_name==test_df .end_node_name,1,0).sum()\n",
    "tr_total_freq = train_df.shape[0]\n",
    "te_total_freq = test_df .shape[0]\n",
    "\n",
    "print(f'Freq. of (start_node_name == end_node_name)')\n",
    "print(f'- train : {tr_equal_node_freq:,} ({tr_equal_node_freq/tr_total_freq*100:.2f}%)')\n",
    "print(f'- train : {te_equal_node_freq:,} ({te_equal_node_freq/te_total_freq*100:.2f}%)')"
   ]
  },
  {
   "cell_type": "code",
   "execution_count": null,
   "id": "1d3e0d8b-2690-48b1-a8f6-57c5b4381112",
   "metadata": {},
   "outputs": [],
   "source": [
    "# train_df[train_df.start_node_name==train_df.end_node_name].head()"
   ]
  },
  {
   "cell_type": "markdown",
   "id": "38bc2a40-3db7-427b-b969-e04fa6190933",
   "metadata": {},
   "source": [
    "<br>\n",
    "\n",
    "## vehicle_restricted : 통과제한차량\n",
    "- train, test 모두 0으로 이루어짐"
   ]
  },
  {
   "cell_type": "code",
   "execution_count": null,
   "id": "30cbea3d-0adf-430a-8f3a-60798a11eb66",
   "metadata": {},
   "outputs": [],
   "source": [
    "print('\\n(1) train')\n",
    "display(cnt(train_df.vehicle_restricted).round(2))\n",
    "\n",
    "print('\\n(2) test')\n",
    "display(cnt(test_df.vehicle_restricted).round(2))"
   ]
  },
  {
   "cell_type": "markdown",
   "id": "e181c683-8a40-4a72-a95f-ae94f71103d6",
   "metadata": {},
   "source": [
    "<br>\n",
    "\n",
    "## target : 평균속도(km)\n",
    "- 어느정도 normal distribution의 형태를 보임"
   ]
  },
  {
   "cell_type": "code",
   "execution_count": null,
   "id": "924eb2e3-92b6-419b-9dd2-b14ec53cdd07",
   "metadata": {},
   "outputs": [],
   "source": [
    "fig = plt.figure(figsize=(8,7))\n",
    "sns.violinplot(y=train_df.target)\n",
    "plt.title('train')\n",
    "plt.show()"
   ]
  },
  {
   "cell_type": "markdown",
   "id": "041563dc-1b04-4a36-a97e-a8ea17a246a6",
   "metadata": {},
   "source": [
    "<br></br>"
   ]
  },
  {
   "cell_type": "markdown",
   "id": "286a51bd-7d89-4bfb-b17d-86b539e84fe4",
   "metadata": {},
   "source": [
    "<br></br>\n",
    "\n",
    "---\n",
    "# EDA (2-D)\n",
    "---\n",
    "- 전처리 후 2-D EDA 진행"
   ]
  },
  {
   "cell_type": "code",
   "execution_count": null,
   "id": "88a013eb-6f7d-46bd-98b2-9674fb00ffd4",
   "metadata": {},
   "outputs": [],
   "source": [
    "train_df.apply(lambda x: x.nunique())"
   ]
  },
  {
   "cell_type": "code",
   "execution_count": null,
   "id": "c3d26ad9-1552-4326-90f3-7ddbd02901a6",
   "metadata": {},
   "outputs": [],
   "source": [
    "# hour_string = ['0'+str(x) if len(str(x))==1 else\n",
    "#                str(x)     if len(str(x))==2 else\n",
    "#                np.nan for x in train_df.base_hour]\n",
    "\n",
    "# date_string = train_df.base_date.astype(str) + ' ' + hour_string + ':00:00'\n",
    "\n",
    "# vc = pd.Series(date_string).value_counts()"
   ]
  },
  {
   "cell_type": "code",
   "execution_count": null,
   "id": "cf7be6d2-e143-4e8e-99c6-73527afb886f",
   "metadata": {},
   "outputs": [],
   "source": [
    "def DataPreprocessing(data):\n",
    "    d = data.copy()\n",
    "    #d = d.sort_values(['base_date','base_hour'])\n",
    "    \n",
    "    # # (1) id 컬럼 삭제\n",
    "    # d.drop('id',axis=1,inplace=True)\n",
    "    \n",
    "    # (2) base_date : int to datetime\n",
    "    d.base_date = [datetime.datetime.strptime(str(x),'%Y%m%d') for x in d.base_date]\n",
    "\n",
    "    #+날짜관련 변수추가\n",
    "    # (2-1) 기본적인 날짜 변수 추가\n",
    "    d['year']    = d.base_date.dt.year\n",
    "    d['quarter'] = d.base_date.dt.quarter\n",
    "    d['month']   = d.base_date.dt.month\n",
    "    d['day']     = d.base_date.dt.day\n",
    "    d['weekday'] = d.base_date.dt.weekday\n",
    "    d['weekend'] = np.where((d['weekday']==5) | (d['weekday']==6),1,0)\n",
    "\n",
    "    # (2-2) 공휴일 변수 추가\n",
    "    year_list = d['year'].unique()\n",
    "    holiday_list = []\n",
    "    for year in year_list:\n",
    "        h_list = pytimekr.holidays(year)\n",
    "        holiday_list.append(h_list)\n",
    "\n",
    "    holiday_list = list(itertools.chain(*holiday_list))\n",
    "    d['holiday'] = np.where(d.base_date.isin(holiday_list),1,0)\n",
    "\n",
    "    # (2-3) 일자관련 컬럼 -> string으로 변경\n",
    "    date_feature = ['year','quarter','month','day','weekday','weekend','holiday']\n",
    "    astype_dict  = dict([(f,str) for f in date_feature])\n",
    "    d = d.astype(astype_dict)\n",
    "    \n",
    "    # # (3) day_of_week : string to int\n",
    "    # d.day_of_week = d.day_of_week.map({\n",
    "    #     '월' : 0,\n",
    "    #     '화' : 1,\n",
    "    #     '수' : 2,\n",
    "    #     '목' : 3,\n",
    "    #     '금' : 4,\n",
    "    #     '토' : 5,\n",
    "    #     '일' : 6,\n",
    "    # }).astype(str)\n",
    "\n",
    "    # # (4) date_column 삭제\n",
    "    # d.drop('base_date',axis=1,inplace=True)\n",
    "    \n",
    "    # (5) base_hour\n",
    "    # base_date에 base_hour 연결해서 새로운 날짜컬럼 만들기\n",
    "    # -> 굳이 필요없을 것으로 보임\n",
    "    \n",
    "    # (6) latitude, longitude\n",
    "    # - latitude, longitude에서 start,end 간에 선형관계가 크므로, 차이값(end-start)을 사용\n",
    "    # - 또한, 차이값(end-start)는 매우 작은 값이므로, 정보손실을 최소화하기 위해서 start,end 중에서 end를 제외한 start만을 사용\n",
    "    d['latitude_diff'] = d.end_latitude - d.start_latitude\n",
    "    d['longitude_diff'] = d.end_longitude - d.start_longitude\n",
    "    d.drop(['end_latitude','end_longitude'],axis=1,inplace=True)\n",
    "    \n",
    "    # (7) int to string\n",
    "    d.maximum_speed_limit = d.maximum_speed_limit.astype(int)\n",
    "    d.weight_restricted   = d.weight_restricted.astype(int)\n",
    "    \n",
    "    int2str_features = ['base_hour','lane_count','road_rating','maximum_speed_limit','weight_restricted','road_type']\n",
    "    int2str_dict = dict([(x,str) for x in int2str_features])\n",
    "    d = d.astype(int2str_dict)\n",
    "    \n",
    "    # (8) only one value\n",
    "    d.drop(['height_restricted','vehicle_restricted'],axis=1,inplace=True)\n",
    "    \n",
    "    # # (9) string to int\n",
    "    # d.start_turn_restricted = d.start_turn_restricted.map({\n",
    "    #     '없음' : 0,\n",
    "    #     '있음' : 1,\n",
    "    # }).astype(str)\n",
    "\n",
    "    # d.end_turn_restricted = d.end_turn_restricted.map({\n",
    "    #     '없음' : 0,\n",
    "    #     '있음' : 1,\n",
    "    # }).astype(str)\n",
    "    \n",
    "    # (10) 시작지점명과 도착지점명이 동일한지 여부\n",
    "    d['equal_node_name'] = np.where(d.start_node_name == d.end_node_name,'1','0')\n",
    "    \n",
    "    # (11) \n",
    "    # - test에서 2022-08 밖에 없으므로, year, quarter, month는 제외\n",
    "    # - day_of_week는 weekday와 동일하므로 제외\n",
    "    d.drop(['year','quarter','month','day_of_week'],axis=1,inplace=True)\n",
    "    \n",
    "    return d"
   ]
  },
  {
   "cell_type": "code",
   "execution_count": null,
   "id": "f5edd745-1edb-48bd-b2bc-f423304f4a82",
   "metadata": {},
   "outputs": [],
   "source": [
    "%%time\n",
    "# 1분\n",
    "\n",
    "train_df2 = DataPreprocessing(train_df)\n",
    "test_df2  = DataPreprocessing(test_df)"
   ]
  },
  {
   "cell_type": "code",
   "execution_count": null,
   "id": "61226384-3768-4e99-b92b-423ad4117728",
   "metadata": {},
   "outputs": [],
   "source": [
    "cat_features = train_df2\\\n",
    "    .drop(['id','base_date'],axis=1)\\\n",
    "    .select_dtypes(include=[object])\\\n",
    "    .columns.tolist()\n",
    "\n",
    "num_features = [x for x in train_df2.drop(['id','target','base_date'],axis=1).columns if x not in cat_features]"
   ]
  },
  {
   "cell_type": "code",
   "execution_count": null,
   "id": "c4edb5db-89f7-4273-9589-bd72250585f7",
   "metadata": {},
   "outputs": [],
   "source": [
    "print('\\n(1) categorical features : ',cat_features)\n",
    "print('\\n(2) numerical features   : ',num_features)"
   ]
  },
  {
   "cell_type": "markdown",
   "id": "2962f8d5-a56b-432d-b79a-1033c167eb4b",
   "metadata": {},
   "source": [
    "<br>\n",
    "\n",
    "## target vs categorical features\n",
    "- boxplot으로 봤을 때, target에 어느정도 유의해보이는 변수\n",
    "    - lane_count\n",
    "    - road_rating\n",
    "    - maximum_speed_limit\n",
    "    - weight_restricted\n",
    "    - road_type\n",
    "    - start_turn_restricted\n",
    "    - end_turn_restricted\n",
    "    - equal_node_name\n",
    "\n",
    "\n",
    "- 유의해보이지 않는 변수\n",
    "    - day\n",
    "    - weekday\n",
    "    - weekend\n",
    "    - holiday"
   ]
  },
  {
   "cell_type": "code",
   "execution_count": null,
   "id": "545195ac-8b94-4ae1-be09-435cff3f31ab",
   "metadata": {},
   "outputs": [],
   "source": [
    "# %%time\n",
    "# # 13분\n",
    "\n",
    "# import statsmodels.api as sm\n",
    "# from statsmodels.formula.api import ols\n",
    "\n",
    "# # 3시간 간격, lane_count, road_rating, maximum_speed_limit, road_type, start_turn_restricted\n",
    "\n",
    "# anova_list = []\n",
    "# iter = 0\n",
    "# for col in cat_features:\n",
    "#     iter+=1\n",
    "#     print(f'\\n({iter}/{len(cat_features)}) {col}')\n",
    "#     if train_df2[col].nunique()>40:\n",
    "#         print('nunique > 40')\n",
    "#     else:\n",
    "#         # Ordinary Least Squares (OLS) model\n",
    "#         model = ols(f'target ~ C({col})', data=train_df2).fit()\n",
    "#         anova_table = sm.stats.anova_lm(model, typ=2)\n",
    "#         fvalue = anova_table['F'][0]\n",
    "#         pvalue = anova_table['PR(>F)'][0]\n",
    "#         anova_list.append([col,fvalue,pvalue])\n",
    "        \n",
    "#         fig = plt.figure(figsize=(15,7))\n",
    "#         fig.add_subplot(121)\n",
    "#         sns.boxplot(train_df2[col],train_df2.target)\n",
    "#         plt.title('target')\n",
    "#         fig.add_subplot(122)\n",
    "#         sns.boxplot(train_df2[col],np.log(train_df2.target))\n",
    "#         plt.title('log(target)')\n",
    "#         plt.suptitle(f'F-stats.={fvalue:.4f}, p-value={pvalue:.4f}')\n",
    "#         plt.show()"
   ]
  },
  {
   "cell_type": "code",
   "execution_count": null,
   "id": "5d2963dd-bb11-4a33-a225-73be35d52ef9",
   "metadata": {},
   "outputs": [],
   "source": [
    "# %%time\n",
    "# # 13분\n",
    "\n",
    "# import statsmodels.api as sm\n",
    "# from statsmodels.formula.api import ols\n",
    "\n",
    "# # 3시간 간격, lane_count, road_rating, maximum_speed_limit, road_type, start_turn_restricted\n",
    "\n",
    "# def func(iter):\n",
    "#     col = cat_features[iter]\n",
    "    \n",
    "#     if train_df2[col].nunique()>40:\n",
    "#         print('nunique > 40')\n",
    "        \n",
    "#         return None\n",
    "        \n",
    "#     else:\n",
    "#         # Ordinary Least Squares (OLS) model\n",
    "#         model = ols(f'target ~ C({col})', data=train_df2).fit()\n",
    "#         anova_table = sm.stats.anova_lm(model, typ=2)\n",
    "#         fvalue = anova_table['F'][0]\n",
    "#         pvalue = anova_table['PR(>F)'][0]\n",
    "        \n",
    "#         fig = plt.figure(figsize=(15,7))\n",
    "#         fig.add_subplot(121)\n",
    "#         sns.boxplot(train_df2[col],train_df2.target)\n",
    "#         plt.title('target')\n",
    "#         fig.add_subplot(122)\n",
    "#         sns.boxplot(train_df2[col],np.log(train_df2.target))\n",
    "#         plt.title('log(target)')\n",
    "#         plt.suptitle(f'F-stats.={fvalue:.4f}, p-value={pvalue:.4f}')\n",
    "#         plt.show()\n",
    "        \n",
    "#         return [col,fvalue,pvalue]\n",
    "\n",
    "# with tqdm_joblib(tqdm(total=len(cat_features))) as progress_bar:\n",
    "#     anova_list = Parallel(n_jobs=mp.cpu_count())(delayed(func)(i) for i in range(len(cat_features)))"
   ]
  },
  {
   "cell_type": "markdown",
   "id": "06bbe85a-61f6-4fa8-a0fe-15a57a265334",
   "metadata": {},
   "source": [
    "<br>\n",
    "\n",
    "추가"
   ]
  },
  {
   "cell_type": "code",
   "execution_count": null,
   "id": "406fdaa4-9e15-4bb8-9d22-43e83ed15070",
   "metadata": {},
   "outputs": [],
   "source": [
    "# # (1) 3시간 간격 시간대\n",
    "# tmp_df = pd.DataFrame()\n",
    "\n",
    "# tmp_df['target'] = train_df2.target\n",
    "# tmp_df['base_hour_3_interval'] = [\n",
    "#     '0' if int(x)<=3  else \n",
    "#     '1' if int(x)<=6  else\n",
    "#     '2' if int(x)<=9  else\n",
    "#     '3' if int(x)<=12 else\n",
    "#     '4' if int(x)<=15 else\n",
    "#     '5' if int(x)<=18 else\n",
    "#     '6' if int(x)<=21 else\n",
    "#     '7' if int(x)<=24 else\n",
    "#     np.nan for x in train_df2['base_hour']\n",
    "# ]\n",
    "# # pd.Series(tmp_df['base_hour_3_interval']).value_counts().sort_index()\n",
    "\n",
    "# # Ordinary Least Squares (OLS) model\n",
    "# model = ols(f'target ~ C(base_hour_3_interval)', data=tmp_df).fit()\n",
    "# anova_table = sm.stats.anova_lm(model, typ=2)\n",
    "# fvalue = anova_table['F'][0]\n",
    "# pvalue = anova_table['PR(>F)'][0]\n",
    "# anova_list.append(['base_hour_3_interval',fvalue,pvalue])\n",
    "\n",
    "# fig = plt.figure(figsize=(15,7))\n",
    "# fig.add_subplot(121)\n",
    "# sns.boxplot(tmp_df.base_hour_3_interval,tmp_df.target,order=[str(x) for x in range(8)])\n",
    "# plt.title('target')\n",
    "# fig.add_subplot(122)\n",
    "# sns.boxplot(tmp_df.base_hour_3_interval,np.log(tmp_df.target),order=[str(x) for x in range(8)])\n",
    "# plt.title('log(target)')\n",
    "# plt.suptitle(f'F-stats.={fvalue:.4f}, p-value={pvalue:.4f}')\n",
    "# plt.show()"
   ]
  },
  {
   "cell_type": "code",
   "execution_count": null,
   "id": "9647dbca-a168-48cb-93fd-76a36b5c4472",
   "metadata": {},
   "outputs": [],
   "source": [
    "# # (2) 일요일 vs 나머지\n",
    "# tmp_df = pd.DataFrame()\n",
    "\n",
    "# tmp_df['target'] = train_df2.target\n",
    "# tmp_df['is_sunday'] = [\n",
    "#     '0' if x=='6' else '1'\n",
    "#     for x in train_df2['weekday']\n",
    "# ]\n",
    "# # pd.Series(tmp_df['is_sunday']).value_counts().sort_index()\n",
    "\n",
    "# # Ordinary Least Squares (OLS) model\n",
    "# model = ols(f'target ~ C(is_sunday)', data=tmp_df).fit()\n",
    "# anova_table = sm.stats.anova_lm(model, typ=2)\n",
    "# fvalue = anova_table['F'][0]\n",
    "# pvalue = anova_table['PR(>F)'][0]\n",
    "# anova_list.append(['is_sunday',fvalue,pvalue])\n",
    "\n",
    "# fig = plt.figure(figsize=(15,7))\n",
    "# fig.add_subplot(121)\n",
    "# sns.boxplot(tmp_df.is_sunday,tmp_df.target,order=[str(x) for x in range(2)])\n",
    "# plt.title('target')\n",
    "# fig.add_subplot(122)\n",
    "# sns.boxplot(tmp_df.is_sunday,np.log(tmp_df.target),order=[str(x) for x in range(2)])\n",
    "# plt.title('log(target)')\n",
    "# plt.suptitle(f'F-stats.={fvalue:.4f}, p-value={pvalue:.4f}')\n",
    "# plt.show()"
   ]
  },
  {
   "cell_type": "code",
   "execution_count": null,
   "id": "c36524b0-9b20-4ade-a659-de24d842f94f",
   "metadata": {},
   "outputs": [],
   "source": [
    "# # (3) start_turn_restricted + end_turn_restricted\n",
    "# tmp_df = pd.DataFrame()\n",
    "\n",
    "# tmp_df['target'] = train_df2.target\n",
    "# tmp_df['turn_restricted'] = train_df2['start_turn_restricted'] +'_'+ train_df2['end_turn_restricted']\n",
    "# # pd.Series(tmp_df['turn_restricted']).value_counts().sort_index()\n",
    "\n",
    "# # Ordinary Least Squares (OLS) model\n",
    "# model = ols(f'target ~ C(turn_restricted)', data=tmp_df).fit()\n",
    "# anova_table = sm.stats.anova_lm(model, typ=2)\n",
    "# fvalue = anova_table['F'][0]\n",
    "# pvalue = anova_table['PR(>F)'][0]\n",
    "# anova_list.append(['turn_restricted',fvalue,pvalue])\n",
    "\n",
    "# fig = plt.figure(figsize=(15,7))\n",
    "# fig.add_subplot(121)\n",
    "# sns.boxplot(tmp_df.turn_restricted,tmp_df.target,order=[str(x) for x in range(2)])\n",
    "# plt.title('target')\n",
    "# fig.add_subplot(122)\n",
    "# sns.boxplot(tmp_df.turn_restricted,np.log(tmp_df.target),order=[str(x) for x in range(2)])\n",
    "# plt.title('log(target)')\n",
    "# plt.suptitle(f'F-stats.={fvalue:.4f}, p-value={pvalue:.4f}')\n",
    "# plt.show()"
   ]
  },
  {
   "cell_type": "code",
   "execution_count": null,
   "id": "0273a8b7-a294-483b-a5d2-5e1adfed6889",
   "metadata": {},
   "outputs": [],
   "source": [
    "# anova_df = pd.DataFrame(anova_list,columns=['feature','fvalue','pvalue'])\\\n",
    "#     .sort_values('fvalue')\n",
    "# anova_df.to_csv('../OUT/anova_df.csv',index=False)\n",
    "\n",
    "anova_df = pd.read_csv('../OUT/anova_df.csv')\n",
    "anova_df.round(2)"
   ]
  },
  {
   "cell_type": "markdown",
   "id": "b84f21bc-8ee2-4057-9772-d50533f29f1f",
   "metadata": {},
   "source": [
    "<br>\n",
    "\n",
    "## target vs numerical features"
   ]
  },
  {
   "cell_type": "code",
   "execution_count": null,
   "id": "a4c9e051-51dd-41fe-afa9-47a5b13f38ab",
   "metadata": {},
   "outputs": [],
   "source": [
    "train_df2[num_features+['target']].corr()"
   ]
  },
  {
   "cell_type": "code",
   "execution_count": null,
   "id": "4e739b60-0a9d-42f3-b38e-8066f97d7892",
   "metadata": {},
   "outputs": [],
   "source": [
    "plt.figure(figsize=(15,7))\n",
    "sns.scatterplot(train_df2.start_latitude,train_df2.start_longitude)\n",
    "sns.scatterplot(train_df2.start_latitude[:1],train_df2.start_longitude[:1],color='red')\n",
    "plt.show()"
   ]
  },
  {
   "cell_type": "code",
   "execution_count": null,
   "id": "f44c0e7a-fae6-4c64-80a0-504ee21623b8",
   "metadata": {},
   "outputs": [],
   "source": [
    "# 구글지도에서 위도,경도 확인\n",
    "# https://www.google.com/maps/place/33%C2%B025'39.9%22N+126%C2%B039'45.4%22E/data=!4m5!3m4!1s0x0:0xe783ccef5cd9b938!8m2!3d33.427747!4d126.662612\n",
    "train_df2[['start_latitude','start_longitude']].head()"
   ]
  },
  {
   "cell_type": "code",
   "execution_count": null,
   "id": "46c3a247-9f9b-4ec2-bfb8-5e203969d46f",
   "metadata": {},
   "outputs": [],
   "source": [
    "# 겹친게 생각보다 많음\n",
    "print('\\n(1) latitude_diff')\n",
    "print('<head>')\n",
    "display(train_df2['start_latitude'].value_counts().value_counts().sort_index().head())\n",
    "print('<tail>')\n",
    "display(train_df2['start_latitude'].value_counts().value_counts().sort_index().tail())\n",
    "\n",
    "print('\\n(2) latitude_diff')\n",
    "print('<head>')\n",
    "display(train_df2['start_longitude'].value_counts().value_counts().sort_index().head())\n",
    "print('<tail>')\n",
    "display(train_df2['start_longitude'].value_counts().value_counts().sort_index().tail())\n",
    "\n",
    "print('\\n(3) latitude_diff')\n",
    "print('<head>')\n",
    "display(train_df2['latitude_diff'].value_counts().value_counts().sort_index().head())\n",
    "print('<tail>')\n",
    "display(train_df2['latitude_diff'].value_counts().value_counts().sort_index().tail())\n",
    "\n",
    "print('\\n(4) longitude_diff')\n",
    "print('<head>')\n",
    "display(train_df2['longitude_diff'].value_counts().value_counts().sort_index().head())\n",
    "print('<tail>')\n",
    "display(train_df2['longitude_diff'].value_counts().value_counts().sort_index().tail())"
   ]
  },
  {
   "cell_type": "code",
   "execution_count": null,
   "id": "87ef2d9f-a611-4490-869c-bf53117e2171",
   "metadata": {},
   "outputs": [],
   "source": [
    "for col in num_features:\n",
    "    fig = plt.figure(figsize=(15,7))\n",
    "    sns.scatterplot(train_df2[col],train_df2.target,alpha=0.5)\n",
    "    plt.title(col)\n",
    "    plt.show()"
   ]
  },
  {
   "cell_type": "markdown",
   "id": "ab11731b-56f2-4c3b-ac73-9448dec0699b",
   "metadata": {},
   "source": [
    "<br></br>"
   ]
  },
  {
   "cell_type": "markdown",
   "id": "74e6452d-0062-4873-9e07-f869e4eb9c6e",
   "metadata": {},
   "source": [
    "---\n",
    "# Segmentation\n",
    "---"
   ]
  },
  {
   "cell_type": "markdown",
   "id": "3f72dd32-f363-4fef-89e8-a1390d862423",
   "metadata": {},
   "source": [
    "- boxplot 확인 시, 유의했던 categorical 변수\n",
    "    - lane_count : 차로수\n",
    "    - road_rating : 도로등급\n",
    "    - maximum_speed_limit : 최고속도제한\n",
    "    - weight_restricted : 통과제한하중\n",
    "    - road_type : 도로유형\n",
    "    - start_turn_restricted : 시작지점 회전제한 유무\n",
    "    - end_turn_restricted : 도착지점 회전제한 유무\n",
    "    - equal_node_name : 시작지점과 도착지점 일치여부"
   ]
  },
  {
   "cell_type": "code",
   "execution_count": null,
   "id": "c8f357b1-8177-4c6e-b7d8-7d5d956c1d4f",
   "metadata": {},
   "outputs": [],
   "source": [
    "# cat_features, num_features\n",
    "\n",
    "seg_size = 3\n",
    "seg_features = anova_df.sort_values('fvalue',ascending=False).feature.values[:seg_size]\n",
    "display(anova_df.sort_values('fvalue',ascending=False)[:seg_size])\n",
    "\n",
    "segment = train_df2[seg_features].progress_apply(lambda x: '_'.join(x),axis=1)\n",
    "\n",
    "print('segment nunique :', segment.nunique())\n",
    "print('segment freq. : <head>')\n",
    "display(segment.value_counts().head())\n",
    "print('segment freq. : <tail>')\n",
    "display(segment.value_counts().tail())"
   ]
  },
  {
   "cell_type": "code",
   "execution_count": null,
   "id": "34eb4ce5-a4e1-491a-95df-0d6938241f10",
   "metadata": {},
   "outputs": [],
   "source": [
    "# plt.figure(figsize=(15,30))\n",
    "# ax = sns.boxplot(segment,train_df2.target)\n",
    "# ax.set_yticklabels(ax.get_yticklabels(), rotation=90)\n",
    "# plt.show()"
   ]
  },
  {
   "cell_type": "markdown",
   "id": "c61812a5-fb66-4ae2-9273-3e22103a4840",
   "metadata": {},
   "source": [
    "<br></br>\n",
    "\n",
    "# Weather API"
   ]
  },
  {
   "cell_type": "markdown",
   "id": "9c125a86-7de0-4145-85dc-167aae1a803e",
   "metadata": {},
   "source": [
    "<br>\n",
    "\n",
    "## 위도와 경도에 따른 주소 가져오기\n",
    "- [참조](https://parkgihyeon.github.io/project/geocoding-api/)"
   ]
  },
  {
   "cell_type": "code",
   "execution_count": null,
   "id": "7517a09e-64e6-44f4-aa1c-1b4cc8d7ca36",
   "metadata": {},
   "outputs": [],
   "source": [
    "# %%time\n",
    "# # 5분\n",
    "\n",
    "# # 가입 없이 좌표->주소 변환\n",
    "# from geopy.geocoders import Nominatim\n",
    "\n",
    "# def geocoding_reverse(lat_lng_str): \n",
    "#     geolocoder = Nominatim(user_agent = 'South Korea', timeout=None)\n",
    "#     address = geolocoder.reverse(lat_lng_str)\n",
    "#     return address\n",
    "\n",
    "# # address = geocoding_reverse('36.5760732781656, 128.15935928504484')\n",
    "# # print(address)\n",
    "\n",
    "# # lat_lng_str = train_df['start_latitude'].astype(str) +', '+ train_df['start_longitude'].astype(str)\n",
    "# # lat_lng_str.progress_apply(geocoding_reverse).head()\n",
    "\n",
    "# duplicated_df = train_df\\\n",
    "#     [['start_latitude','start_longitude']]\\\n",
    "#     .drop_duplicates()\n",
    "\n",
    "# address_df = duplicated_df\\\n",
    "#     .progress_apply(lambda x: \n",
    "#         str(geocoding_reverse(x['start_latitude'].astype(str)+','+str(x['start_longitude']))),\n",
    "#         axis=1\n",
    "#     )\n",
    "\n",
    "# address_df = pd.concat([\n",
    "#     duplicated_df,\n",
    "#     address_df,\n",
    "# ],axis=1).rename(columns={0:'address'})\n",
    "\n",
    "# now_date = str(datetime.datetime.now()).replace('-','')[:8]\n",
    "# address_df.to_csv(f'../OUT/address_df_{now_date}.csv',index=False)"
   ]
  },
  {
   "cell_type": "code",
   "execution_count": null,
   "id": "bafb1c2e-d395-4063-9ce9-812c8bd4c3f9",
   "metadata": {},
   "outputs": [],
   "source": [
    "now_date = str(datetime.datetime.now()).replace('-','')[:8]\n",
    "address_df = pd.read_csv(f'../OUT/address_df_{now_date}.csv')\n",
    "\n",
    "def find_si(text):\n",
    "    res = [\n",
    "        '제주' if text.find('제주시')>=0 else\n",
    "        '서귀포' if text.find('서귀포시')>=0 else\n",
    "        '서귀포' if text.find('서귀동')>=0 else\n",
    "        '서귀포' if text.find('신서귀로')>=0 else\n",
    "        '서귀포' if text.find('중문동')>=0 else\n",
    "        '서귀포' if text.find('법환동')>=0 else\n",
    "        '서귀포' if text.find('색달동')>=0 else\n",
    "        '서귀포' if text.find('동홍동')>=0 else\n",
    "        '서귀포' if text.find('서홍동')>=0 else\n",
    "        '서귀포' if text.find('서호동')>=0 else\n",
    "        '서귀포' if text.find('호근동')>=0 else\n",
    "        '서귀포' if text.find('대포동')>=0 else\n",
    "        '서귀포' if text.find('성산읍')>=0 else\n",
    "        '서귀포' if text.find('안덕면')>=0 else\n",
    "        'NaN'\n",
    "    ][0]\n",
    "    return res\n",
    "\n",
    "address_df2 = address_df.copy()\n",
    "address_df2['address_new'] = [find_si(x) for x in address_df['address']]\n",
    "\n",
    "address_df2.address_new.value_counts()"
   ]
  },
  {
   "cell_type": "code",
   "execution_count": null,
   "id": "c2a1e8a6-9706-4b6f-9459-ade5ed278cc5",
   "metadata": {},
   "outputs": [],
   "source": [
    "address_df2.head()"
   ]
  },
  {
   "cell_type": "markdown",
   "id": "87803b9c-26f2-49ee-a6ad-12f3812c904a",
   "metadata": {},
   "source": [
    "<br></br>\n",
    "\n",
    "## API를 통해 날씨 데이터 가져오기"
   ]
  },
  {
   "cell_type": "markdown",
   "id": "d668b6e6-1bb7-44d5-807d-7361f32d6df9",
   "metadata": {},
   "source": [
    "- 날씨 데이터 컬럼 설명\n",
    "- 참조 : [기상청 기상자료개방포털](https://www.data.go.kr/data/15057210/openapi.do)\n",
    "\n",
    "|       항목명(국문)       | 항목명(영문) | 항목크기 | 항목구분 |    샘플데이터   |           항목설명          |\n",
    "|:------------------------:|:------------:|:--------:|:--------:|:---------------:|:---------------------------:|\n",
    "|            지점 번호     |     stnId    |     3    |   필수   |       108       |    종관기상관측 지점 번호   |\n",
    "|           시간           |      tm      |    10    |   필수   | 2010-01-01   10 |             일시            |\n",
    "|          지점명          |     stnNm    |     3    |   필수   |       서울      |     종관기상관측 지점명     |\n",
    "|         목록 순서        |     rnum     |     5    |   필수   |        1        |          목록 순서          |\n",
    "|       30cm 지중온도      |     m03Te    |     6    |   옵션   |       0.4       |        30cm 지중온도        |\n",
    "|       20cm 지중온도      |     m02Te    |     6    |   옵션   |        -1       |        20cm 지중온도        |\n",
    "|       10cm 지중온도      |     m01Te    |     6    |   옵션   |       -2.4      |        10cm 지중온도        |\n",
    "|       5cm 지중온도       |    m005Te    |     6    |   옵션   |       -4.9      |         5cm 지중온도        |\n",
    "|         지면온도         |      ts      |     6    |   옵션   |       -3.4      |           지면온도          |\n",
    "|         현상번호         |  dmstMtphNo  |     4    |   옵션   |       1904      |           현상번호          |\n",
    "|         지면상태         |   gndSttCd   |     2    |   옵션   |        17       |           지면상태          |\n",
    "|           시정           |      vs      |     4    |   옵션   |       2300      |             시정            |\n",
    "|         최저운고         |     lcsCh    |     2    |   옵션   |        8        |           최저운고          |\n",
    "|           운형           |  clfmAbbrCd  |     4    |   옵션   |       scas      |             운형            |\n",
    "|        중하층운량        |  dc10LmcsCa  |     6    |   옵션   |        0        |          중하층운량         |\n",
    "|          전운량          |    dc10Tca   |     6    |   옵션   |        0        |            전운량           |\n",
    "|        3시간신적설       |    hr3Fhsc   |     6    |   옵션   |       0.2       |         3시간신적설         |\n",
    "|           적설           |     dsnw     |     6    |   옵션   |       2.2       |             적설            |\n",
    "|           일사           |     icsr     |     6    |   옵션   |       0.73      |             일사            |\n",
    "|           일조           |      ss      |     6    |   옵션   |        1        |             일조            |\n",
    "|       일조 품질검사      |   ssQcflag   |     1    |   옵션   |        0        | 관측값의 정상여부 판별 정보 |\n",
    "|         해면기압         |      ps      |     6    |   옵션   |      1023.6     |           해면기압          |\n",
    "| 해면기압 품질검사 플래그 |   psQcflag   |     1    |   옵션   |        0        | 관측값의 정상여부 판별 정보 |\n",
    "|         현지기압         |      pa      |     6    |   옵션   |      1012.4     |           현지기압          |\n",
    "| 현지기압 품질검사 플래그 |   paQcflag   |     1    |   옵션   |        0        | 관측값의 정상여부 판별 정보 |\n",
    "|        이슬점온도        |      td      |     6    |   옵션   |      -21.4      |          이슬점온도         |\n",
    "|          증기압          |      pv      |     6    |   옵션   |       1.1       |            증기압           |\n",
    "|           습도           |      hm      |     6    |   옵션   |        36       |             습도            |\n",
    "|   습도 품질검사 플래그   |   hmQcflag   |     1    |   옵션   |        0        | 관측값의 정상여부 판별 정보 |\n",
    "|           풍향           |      wd      |     3    |   옵션   |       110       |             풍향            |\n",
    "|   풍향 품질검사 플래그   |   wdQcflag   |     1    |   옵션   |        0        | 관측값의 정상여부 판별 정보 |\n",
    "|           풍속           |      ws      |     6    |   옵션   |        1        |             풍속            |\n",
    "|   풍속 품질검사 플래그   |   wsQcflag   |     1    |   옵션   |        0        | 관측값의 정상여부 판별 정보 |\n",
    "|          강수량          |      rn      |     6    |   옵션   |       10.5      |            강수량           |\n",
    "|  강수량 품질검사 플래그  |   rnQcflag   |     1    |   옵션   |        0        | 관측값의 정상여부 판별 정보 |\n",
    "|           기온           |      ta      |     6    |   옵션   |       23.8      |             기온            |\n",
    "|   기온 품질검사 플래그   |   taQcflag   |     1    |   옵션   |        0        | 관측값의 정상여부 판별 정보 |\n",
    "| 지면온도 품질검사 플래그 |    tsQcflg   |     1    |   옵션   |        0        | 관측값의 정상여부 판별 정보 |"
   ]
  },
  {
   "cell_type": "code",
   "execution_count": null,
   "id": "2eada5e2-caac-449e-9d44-bd1dbfba8fc3",
   "metadata": {},
   "outputs": [],
   "source": [
    "# (1) 해당 년/월의 마지막일자\n",
    "def GetLastDay(year, month):\n",
    "    import calendar\n",
    "    date = datetime.datetime(year=year, month=month, day=1).date()\n",
    "    last_day = calendar.monthrange(date.year, date.month)[1]\n",
    "    return last_day\n",
    "\n",
    "# (2) 1 -> 01로 변환\n",
    "def date_int2string(x):\n",
    "    res = '0'+str(x) if x<10 else str(x)\n",
    "    return res\n",
    "\n",
    "# (3) API로부터 시작일자 ~ 끝일자에 따른 날씨데이터 Load\n",
    "def get_daily_weather(start_date,end_date,ServiceKey):\n",
    "\n",
    "    import pandas as pd\n",
    "    import requests\n",
    "    import json\n",
    "    \n",
    "    # 요청주소확인 -> https://www.data.go.kr/data/15057210/openapi.do\n",
    "    url = 'http://apis.data.go.kr/1360000/AsosHourlyInfoService/getWthrDataList'\n",
    "\n",
    "    # 제주시, 서귀포시 각각의 날씨 가져오기\n",
    "    # - start_date 00시부터 end_date 23시까지 가져오기 \n",
    "    # - 시간은 train, test data에서 0~23이고, api에서도 0~23이므로 충돌발생하지 않음\n",
    "    # - numOfRows는 최대 31일 * 24시간 = 744이므로 999여도 상관이 없음\n",
    "    weather_df = []\n",
    "    for stnIds in ['184','189']: # 184:제주시, 189:서귀포시\n",
    "        params = {\n",
    "            'serviceKey' : ServiceKey,  # 공공데이터포털에서 받은 인증키\n",
    "            'pageNo'     : '1',         # 페이지번호 Default : 10\n",
    "            'numOfRows'  : '999',       # 한 페이지 결과 수 Default : 1\n",
    "            'dataType'   : 'JSON',      # 요청자료형식(XML/JSON) Default : XML\n",
    "            'dataCd'     : 'ASOS',      # 자료 분류 코드(ASOS)\n",
    "            'dateCd'     : 'HR',        # 날짜 분류 코드(HR)\n",
    "            'startDt'    : start_date , # 조회 기간 시작일(YYYYMMDD)\n",
    "            'startHh'    : '00',        # 조회 기간 시작시(HH)\n",
    "            'endDt'      : end_date,    # 조회 기간 종료일(YYYYMMDD) (전일(D-1) 까지 제공)\n",
    "            'endHh'      : '23',        # 조회 기간 종료시(HH)\n",
    "            'stnIds'     : stnIds,      # 종관기상관측 지점 번호 (활용가이드 하단 첨부 참조)\n",
    "        }\n",
    "\n",
    "        response = requests.get(url, params=params)\n",
    "        \n",
    "        try:\n",
    "            df = pd.DataFrame(response.json()['response']['body']['items']['item'])\n",
    "            weather_df.append(df)\n",
    "        except Exception as e:\n",
    "            # print(e)\n",
    "            print(response.json())\n",
    "\n",
    "    # 제주시, 서귀포시 합치기\n",
    "    weather_df = pd.concat(weather_df,axis=0)\n",
    "    \n",
    "    return weather_df"
   ]
  },
  {
   "cell_type": "markdown",
   "id": "76e0891c-fbbc-4bf8-92d7-c8bf8d4a8100",
   "metadata": {},
   "source": [
    "<br>\n",
    "\n",
    "Train, Test 전체의 년월 + 각 년월의 마지막일자 가져오기"
   ]
  },
  {
   "cell_type": "code",
   "execution_count": null,
   "id": "2247f1be-7d54-4872-a9f7-e484ad08b7fe",
   "metadata": {},
   "outputs": [],
   "source": [
    "# train과 test 모두의 날짜를 합치기\n",
    "tmp_df = pd.concat([train_df2[['base_date']],test_df2[['base_date']]],axis=0,ignore_index=True)\n",
    "\n",
    "# year, month 붙이기\n",
    "tmp_df['year']  = tmp_df.base_date.dt.year\n",
    "tmp_df['month'] = tmp_df.base_date.dt.month\n",
    "\n",
    "# year, month의 unique value 가져오기\n",
    "tmp_df = tmp_df[['year','month']]\\\n",
    "    .drop_duplicates()\\\n",
    "    .sort_values(['year','month'])\\\n",
    "    .reset_index(drop=True)\n",
    "\n",
    "# 해당 년/월의 마지막일자 붙이기\n",
    "tmp_df['lastday'] = tmp_df.apply(lambda x: GetLastDay(x['year'],x['month']),axis=1)\n",
    "tmp_df.head()"
   ]
  },
  {
   "cell_type": "markdown",
   "id": "cec50cd6-17ea-414a-afb3-e3a4eb3370f7",
   "metadata": {},
   "source": [
    "<br>\n",
    "\n",
    "년월별 제주시+서귀포시 날씨데이터 Load"
   ]
  },
  {
   "cell_type": "code",
   "execution_count": null,
   "id": "be0e6f7d-4dcf-46e2-8a78-b439233b8bcf",
   "metadata": {},
   "outputs": [],
   "source": [
    "# %%time\n",
    "\n",
    "# import datetime\n",
    "\n",
    "# # 서비스키 txt파일로 저장\n",
    "# key_type = ['encoding','decoding'][1]\n",
    "\n",
    "# ServiceKey = open('../ServiceKey.txt', 'r').read()\n",
    "# ServiceKey = [key.replace(f'{key_type}___','') for key in ServiceKey.split(',') if key.find(key_type)>=0]\n",
    "\n",
    "# weather_df = []\n",
    "# pbar = tqdm(tmp_df.values)\n",
    "# for year,month,lastday in pbar:\n",
    "#     start_date = f'{year}{date_int2string(month)}01'\n",
    "#     end_date   = f'{year}{date_int2string(month)}{lastday}'\n",
    "    \n",
    "#     d = get_daily_weather(start_date=start_date,end_date=end_date,ServiceKey=ServiceKey)\n",
    "#     d['tm'] = d['tm'].apply(lambda x: datetime.datetime.strptime(x,'%Y-%m-%d %H:%M'))\n",
    "#     pbar.set_description(f'({start_date} ~ {end_date}) shape = {d.shape}')\n",
    "    \n",
    "#     weather_df.append(d)\n",
    "    \n",
    "# weather_df = pd.concat(weather_df,axis=0)\n",
    "\n",
    "# # save\n",
    "# now_date = str(datetime.datetime.now()).replace('-','')[:8]\n",
    "# weather_df.to_csv(f'../OUT/weather_df_{now_date}.csv',index=False)"
   ]
  },
  {
   "cell_type": "code",
   "execution_count": null,
   "id": "857bdec3-47b9-443d-9ce4-9f1e3ec61208",
   "metadata": {},
   "outputs": [],
   "source": [
    "now_date = str(datetime.datetime.now()).replace('-','')[:8]\n",
    "weather_df = pd.read_csv(f'../OUT/weather_df_{now_date}.csv')\n",
    "\n",
    "# (1) flag features -> 빈값 or 9인데, 빈값을 -99999.9로 넣기\n",
    "flag_features = [col for col in weather_df.columns if col.find('flg')>=0]\n",
    "for col in flag_features:\n",
    "    weather_df[col] = weather_df[col].fillna('-99999.9')\n",
    "\n",
    "# (2) unique features 제거\n",
    "nunique_info = weather_df.apply(lambda x: x.nunique())\n",
    "unique_cols  = nunique_info[nunique_info==1].index.tolist()\n",
    "\n",
    "weather_df.drop(unique_cols,axis=1,inplace=True)\n",
    "\n",
    "# (3) flag features 재설정\n",
    "flag_features = [col for col in weather_df.columns if col.find('flg')>=0]\n",
    "\n",
    "# (4-1) 빈값이 적은 컬럼들\n",
    "#       -> 빈값 확인 후 0.0으로 넣을만한 컬럼들\n",
    "fillna_features = ['wd','dc10Tca','dc10LmcsCa','ss','lcsCh',\n",
    "                   'm005Te','m01Te','m02Te','m03Te','rn','icsr']\n",
    "for col in fillna_features:\n",
    "    weather_df[col] = weather_df[col].fillna('0.0').astype(float)\n",
    "    \n",
    "# (4-2) clfmAbbrCd : 구름이 없어서 NaN으로 보임 -> NoCloud로 넣기\n",
    "weather_df['clfmAbbrCd'] = weather_df['clfmAbbrCd'].fillna('NoCloud')\n",
    "\n",
    "# (5) 사용하지 않는 컬럼\n",
    "unuse_features = ['dsnw','hr3Fhsc','gndSttCd','dmstMtphNo','rnum']\n",
    "weather_df.drop(unuse_features,axis=1,inplace=True)"
   ]
  },
  {
   "cell_type": "code",
   "execution_count": null,
   "id": "4ad09154-22a5-4731-800c-dd58b7b98589",
   "metadata": {},
   "outputs": [],
   "source": [
    "print(weather_df.shape)\n",
    "weather_df.sort_values('tm').head()"
   ]
  },
  {
   "cell_type": "code",
   "execution_count": null,
   "id": "7eb74a0a-955a-4bce-b750-769ebe673ba8",
   "metadata": {},
   "outputs": [],
   "source": [
    "# key columns 저장\n",
    "key_weather_features = ['tm','stnNm']\n",
    "\n",
    "# numerical feature\n",
    "# - wd(풍향)은 categorical로 넣기\n",
    "num_weather_features = ['ta','rn','ws','pv','td','pa','ps','icsr','vs','ts',\n",
    "                        'm005Te','m01Te','m02Te','m03Te','hm','lcsCh','ss',\n",
    "                        'dc10Tca','dc10LmcsCa']\n",
    "weather_df[num_weather_features] = weather_df[num_weather_features].astype(float)\n",
    "\n",
    "cat_weather_features = [col for col in weather_df.columns if col not in num_weather_features+key_weather_features]\n",
    "weather_df[cat_weather_features] = weather_df[cat_weather_features].astype(str)"
   ]
  },
  {
   "cell_type": "code",
   "execution_count": null,
   "id": "b049b8dd-e883-40a7-878a-d0e2a87bd5b6",
   "metadata": {},
   "outputs": [],
   "source": [
    "cat_weather_features"
   ]
  },
  {
   "cell_type": "code",
   "execution_count": null,
   "id": "aa29ab3b-3813-4a28-a0b9-7026d05daae3",
   "metadata": {},
   "outputs": [],
   "source": [
    "def check_null(x):\n",
    "    x = x.replace(' ','')\n",
    "    \n",
    "    case_1 = x.isnull()\n",
    "    case_2 = (x=='')\n",
    "    \n",
    "    res = pd.Series({\n",
    "        'case_1' : np.where(case_1,1,0).sum(),\n",
    "        'case_2' : np.where(case_2,1,0).sum(),\n",
    "        'case_all' : np.where(case_1 | case_2,1,0).sum(),\n",
    "    })\n",
    "    \n",
    "    return res\n",
    "\n",
    "# null 값들 확인해서, 10건 이하의 컬럼만 선택\n",
    "# - ws,ts는 1,2건으로 매우 적어서, 이 값들은 0으로 수정\n",
    "null_df = weather_df[num_weather_features].apply(check_null).T\n",
    "num_weather_features = null_df[null_df.case_all<=10].index.tolist()\n",
    "print('deleted features (null count > 10)')\n",
    "display(null_df[null_df.case_all>10])\n",
    "\n",
    "# key column + numerical column 가져오기\n",
    "weather_df2 = pd.concat([\n",
    "    weather_df[key_weather_features].rename(columns={'stnNm':'address'}),\n",
    "    weather_df[num_weather_features].fillna('0').astype(float),\n",
    "    weather_df[cat_weather_features],\n",
    "],axis=1)\n",
    "\n",
    "# join에 쓰일 값 생성\n",
    "weather_df2['base_date'] = weather_df2.tm.apply(lambda x: x.replace('-','')[:8])\n",
    "weather_df2['tm']        = weather_df2.tm.apply(lambda x: datetime.datetime.strptime(x,'%Y-%m-%d %H:%M:%S'))\n",
    "weather_df2['base_hour'] = weather_df2.tm.dt.hour.astype(str)"
   ]
  },
  {
   "cell_type": "code",
   "execution_count": null,
   "id": "70b72480-d5d5-4eb5-bd01-287a842ae84b",
   "metadata": {},
   "outputs": [],
   "source": [
    "weather_df2.head()"
   ]
  },
  {
   "cell_type": "markdown",
   "id": "97579b4c-9c96-40d2-8003-8e8e7ef37339",
   "metadata": {},
   "source": [
    "<br>\n",
    "\n",
    "날씨 데이터를 붙이기 위한 주소붙이기"
   ]
  },
  {
   "cell_type": "code",
   "execution_count": null,
   "id": "9f15b804-d59e-4f92-a541-43759c930de9",
   "metadata": {},
   "outputs": [],
   "source": [
    "train_df3 = pd.merge(\n",
    "    train_df2,\n",
    "    address_df2[['start_latitude','start_longitude','address_new']],\n",
    "    how='left',\n",
    "    on=['start_latitude','start_longitude']\n",
    ").rename(columns={'address_new':'address'})\n",
    "\n",
    "test_df3 = pd.merge(\n",
    "    test_df2,\n",
    "    address_df2[['start_latitude','start_longitude','address_new']],\n",
    "    how='left',\n",
    "    on=['start_latitude','start_longitude']\n",
    ").rename(columns={'address_new':'address'})"
   ]
  },
  {
   "cell_type": "markdown",
   "id": "bf6da602-1f0e-4662-818e-019611971a13",
   "metadata": {},
   "source": [
    "<br>\n",
    "\n",
    "주소를 통해 날씨 데이터 붙이기"
   ]
  },
  {
   "cell_type": "code",
   "execution_count": null,
   "id": "fb6d726d-d07f-46d5-a575-1ff26d2cb157",
   "metadata": {},
   "outputs": [],
   "source": [
    "train_df4 = train_df3.copy()\n",
    "test_df4  = test_df3 .copy()\n",
    "\n",
    "train_df4['base_date'] = train_df4['base_date'].apply(lambda x: str(x).replace('-','')[:8])\n",
    "test_df4 ['base_date'] = test_df4 ['base_date'].apply(lambda x: str(x).replace('-','')[:8])\n",
    "\n",
    "train_df4 = pd.merge(\n",
    "    train_df4,\n",
    "    weather_df2.drop('tm',axis=1),\n",
    "    how='left',\n",
    "    on=['base_date','base_hour','address']\n",
    ")\n",
    "\n",
    "test_df4 = pd.merge(\n",
    "    test_df4,\n",
    "    weather_df2.drop('tm',axis=1),\n",
    "    how='left',\n",
    "    on=['base_date','base_hour','address']\n",
    ")"
   ]
  },
  {
   "cell_type": "code",
   "execution_count": null,
   "id": "90e1098e-77bb-4a5d-a35d-3ab1f64f61fd",
   "metadata": {},
   "outputs": [],
   "source": [
    "train_df4.head()"
   ]
  },
  {
   "cell_type": "code",
   "execution_count": null,
   "id": "b3e910de-d911-4b69-9158-e2ce8a23f6d2",
   "metadata": {},
   "outputs": [],
   "source": [
    "nunique_info = train_df4.apply(lambda x: x.nunique())\n",
    "unique_cols  = nunique_info[nunique_info<=1].index.tolist()\n",
    "print('unique columns :',unique_cols)\n",
    "\n",
    "train_df4.drop(unique_cols,axis=1,inplace=True)\n",
    "test_df4 .drop(unique_cols,axis=1,inplace=True)"
   ]
  },
  {
   "cell_type": "code",
   "execution_count": null,
   "id": "1ba1c16d-b024-4192-b759-923c5ae68705",
   "metadata": {},
   "outputs": [],
   "source": [
    "# train & test -> null check\n",
    "pd.concat([\n",
    "    train_df4.apply(check_null).T,\n",
    "    test_df4 .apply(check_null).T,\n",
    "],axis=1)"
   ]
  },
  {
   "cell_type": "markdown",
   "id": "f2d3fd3b-a1a0-4cb8-bb11-69e73b34abe8",
   "metadata": {},
   "source": [
    "<br>\n",
    "\n",
    "## 코로나 확진자수"
   ]
  },
  {
   "cell_type": "code",
   "execution_count": null,
   "id": "493c31b1-4e74-4b38-b3ad-4f73e6e2b2b3",
   "metadata": {},
   "outputs": [],
   "source": [
    "# def get_covid_count(start_date,end_date,ServiceKey):\n",
    "\n",
    "#     import pandas as pd\n",
    "#     import requests\n",
    "#     import json\n",
    "    \n",
    "#     # 요청주소확인 -> https://www.data.go.kr/data/15098776/openapi.do\n",
    "#     url = 'http://apis.data.go.kr/1352000/ODMS_COVID_04/callCovid04Api'\n",
    "\n",
    "#     params ={'serviceKey' : '서비스키', 'pageNo' : '1', 'numOfRows' : '500', 'apiType' : 'xml', 'std_day' : '2021-12-15', 'gubun' : '경기' }\n",
    "    \n",
    "    \n",
    "# #     weather_df = []\n",
    "# #     for stnIds in ['184','189']: # 184:제주시, 189:서귀포시\n",
    "# #         params = {\n",
    "# #             'serviceKey' : ServiceKey,  # 공공데이터포털에서 받은 인증키\n",
    "# #             'pageNo'     : '1',         # 페이지번호 Default : 10\n",
    "# #             'numOfRows'  : '999',       # 한 페이지 결과 수 Default : 1\n",
    "# #             'dataType'   : 'JSON',      # 요청자료형식(XML/JSON) Default : XML\n",
    "# #             'dataCd'     : 'ASOS',      # 자료 분류 코드(ASOS)\n",
    "# #             'dateCd'     : 'HR',        # 날짜 분류 코드(HR)\n",
    "# #             'startDt'    : start_date , # 조회 기간 시작일(YYYYMMDD)\n",
    "# #             'startHh'    : '00',        # 조회 기간 시작시(HH)\n",
    "# #             'endDt'      : end_date,    # 조회 기간 종료일(YYYYMMDD) (전일(D-1) 까지 제공)\n",
    "# #             'endHh'      : '23',        # 조회 기간 종료시(HH)\n",
    "# #             'stnIds'     : stnIds,      # 종관기상관측 지점 번호 (활용가이드 하단 첨부 참조)\n",
    "# #         }\n",
    "\n",
    "# #         response = requests.get(url, params=params)\n",
    "        \n",
    "# #         try:\n",
    "# #             df = pd.DataFrame(response.json()['response']['body']['items']['item'])\n",
    "# #             weather_df.append(df)\n",
    "# #         except Exception as e:\n",
    "# #             # print(e)\n",
    "# #             print(response.json())\n",
    "\n",
    "# #     # 제주시, 서귀포시 합치기\n",
    "# #     weather_df = pd.concat(weather_df,axis=0)\n",
    "    \n",
    "# #     return weather_df"
   ]
  },
  {
   "cell_type": "markdown",
   "id": "28135d54-dc5f-4ca7-b5c0-8bceea480ed9",
   "metadata": {},
   "source": [
    "<br></br>\n",
    "\n",
    "---\n",
    "# Data Preprocess\n",
    "---"
   ]
  },
  {
   "cell_type": "markdown",
   "id": "7823838b-769c-4c51-ac1d-9e1bfcc6716b",
   "metadata": {},
   "source": [
    "<br>\n",
    "\n",
    "## Interaction Term"
   ]
  },
  {
   "cell_type": "code",
   "execution_count": null,
   "id": "6e1daf84-badd-4ca5-bd84-6a225a14e235",
   "metadata": {},
   "outputs": [],
   "source": [
    "train_df5 = train_df4.copy()\n",
    "test_df5  = test_df4 .copy()"
   ]
  },
  {
   "cell_type": "code",
   "execution_count": null,
   "id": "9b3d1f9b-81fb-4d9e-b940-29e1615550a8",
   "metadata": {},
   "outputs": [],
   "source": [
    "cat_features = train_df5\\\n",
    "    .drop(['id','target','base_date'],axis=1)\\\n",
    "    .select_dtypes(include=[object])\\\n",
    "    .columns.tolist()\n",
    "\n",
    "num_features = [x for x in train_df5.drop(['id','target','base_date'],axis=1).columns \n",
    "                if x not in cat_features]"
   ]
  },
  {
   "cell_type": "code",
   "execution_count": null,
   "id": "ca5e211d-9345-42b5-a810-e36fba2e29ff",
   "metadata": {},
   "outputs": [],
   "source": [
    "# only interaction term (not poly term)\n",
    "interaction_features = []\n",
    "for i in trange(len(num_features)):\n",
    "    for j in range(len(num_features)):\n",
    "        if i>j:\n",
    "            col_i, col_j = num_features[i], num_features[j]\n",
    "            \n",
    "            interaction_features.append(f'{col_i}*{col_j}')\n",
    "            train_df5[f'{col_i}*{col_j}'] = train_df5[col_i]*train_df5[col_j]\n",
    "            test_df5 [f'{col_i}*{col_j}'] = test_df5 [col_i]*test_df5 [col_j]"
   ]
  },
  {
   "cell_type": "code",
   "execution_count": null,
   "id": "7a973560-b6b4-4094-a066-03a4aaec8ff7",
   "metadata": {},
   "outputs": [],
   "source": [
    "new_num_features = num_features + interaction_features"
   ]
  },
  {
   "cell_type": "markdown",
   "id": "f27124c2-100e-4790-910b-2f08f9172c7a",
   "metadata": {},
   "source": [
    "<br>\n",
    "\n",
    "## Feature Selection"
   ]
  },
  {
   "cell_type": "markdown",
   "id": "a358acae-9bed-43b5-a35f-b3d8cb5fd625",
   "metadata": {},
   "source": [
    "<br>\n",
    "\n",
    "numeric features"
   ]
  },
  {
   "cell_type": "code",
   "execution_count": null,
   "id": "76f66827-ffb7-4306-8eec-49b31a68d2bb",
   "metadata": {},
   "outputs": [],
   "source": [
    "# 4분\n",
    "import scipy\n",
    "\n",
    "pvalues = []\n",
    "for col in tqdm(new_num_features):\n",
    "    r,p = scipy.stats.pearsonr(train_df5[col],train_df5['target'])\n",
    "    pvalues.append(p)"
   ]
  },
  {
   "cell_type": "code",
   "execution_count": null,
   "id": "3e7497e3-dfaf-4bb5-8a16-2065cca5b9a2",
   "metadata": {},
   "outputs": [],
   "source": [
    "insignificant_num_features = [f for f,p in zip(new_num_features,pvalues) if p>0.05]\n",
    "print(insignificant_num_features)\n",
    "\n",
    "train_df5.drop(insignificant_num_features,axis=1,inplace=True)\n",
    "test_df5 .drop(insignificant_num_features,axis=1,inplace=True)"
   ]
  },
  {
   "cell_type": "markdown",
   "id": "2da89907-2963-403a-85e0-cf48d53f21b2",
   "metadata": {},
   "source": [
    "<br>\n",
    "\n",
    "categorical features (only weather's categorical features)"
   ]
  },
  {
   "cell_type": "code",
   "execution_count": null,
   "id": "24a6da6f-aa8d-4051-a06c-2f3eed9fc822",
   "metadata": {},
   "outputs": [],
   "source": [
    "import statsmodels.api as sm\n",
    "from statsmodels.formula.api import ols\n",
    "\n",
    "pvalues = []\n",
    "for col in tqdm(cat_weather_features):\n",
    "    if col in train_df5.columns:\n",
    "        model = ols(f'target ~ C({col})', data=train_df5).fit()\n",
    "        anova_table = sm.stats.anova_lm(model, typ=2)\n",
    "        f,p = anova_table['F'][0], anova_table['PR(>F)'][0]\n",
    "        pvalues.append(p)"
   ]
  },
  {
   "cell_type": "code",
   "execution_count": null,
   "id": "dfbfb74c-ba1d-42fd-a38a-71c2ed48e595",
   "metadata": {},
   "outputs": [],
   "source": [
    "insignificant_cat_features = [f for f,p in zip(cat_weather_features,pvalues) if p>0.05]\n",
    "print(insignificant_cat_features)\n",
    "\n",
    "train_df5.drop(insignificant_cat_features,axis=1,inplace=True)\n",
    "test_df5 .drop(insignificant_cat_features,axis=1,inplace=True)"
   ]
  },
  {
   "cell_type": "markdown",
   "id": "fc0fc697-fe38-4832-a497-9f08db73658e",
   "metadata": {
    "tags": []
   },
   "source": [
    "<br></br>\n",
    "\n",
    "---\n",
    "# Modeling Prepare\n",
    "---"
   ]
  },
  {
   "cell_type": "markdown",
   "id": "58793199-714e-4c8f-a97b-cf96899fb008",
   "metadata": {},
   "source": [
    "<br>\n",
    "\n",
    "## Data Prepare"
   ]
  },
  {
   "cell_type": "code",
   "execution_count": null,
   "id": "ec15ce0a-db6a-4552-bbd6-4c77add48f66",
   "metadata": {},
   "outputs": [],
   "source": [
    "# !pip install catboost\n",
    "# !pip install lightgbm"
   ]
  },
  {
   "cell_type": "code",
   "execution_count": null,
   "id": "c5af95a9-4272-4739-ba43-48a79ff058f7",
   "metadata": {},
   "outputs": [],
   "source": [
    "def DataPreprocessing2(data):\n",
    "    d = data.copy()\n",
    "    \n",
    "    d['base_hour_3_interval'] = [\n",
    "        '0' if int(x)<=3  else \n",
    "        '1' if int(x)<=6  else\n",
    "        '2' if int(x)<=9  else\n",
    "        '3' if int(x)<=12 else\n",
    "        '4' if int(x)<=15 else\n",
    "        '5' if int(x)<=18 else\n",
    "        '6' if int(x)<=21 else\n",
    "        '7' if int(x)<=24 else\n",
    "        np.nan for x in tqdm(d['base_hour'])\n",
    "    ]\n",
    "    d.drop('base_hour',axis=1,inplace=True)\n",
    "    \n",
    "    return d\n",
    "\n",
    "train_df6 = DataPreprocessing2(train_df5)\n",
    "test_df6  = DataPreprocessing2(test_df5)"
   ]
  },
  {
   "cell_type": "markdown",
   "id": "dcf3eac6-2725-4d19-943c-10d70d436958",
   "metadata": {},
   "source": [
    "<br>\n",
    "\n",
    "다시 catetory → numeric으로 확인"
   ]
  },
  {
   "cell_type": "code",
   "execution_count": null,
   "id": "793d7505-5011-42da-8b24-7ebf4539782c",
   "metadata": {},
   "outputs": [],
   "source": [
    "train_df6['lane_count'] = train_df6['lane_count'].astype(int)\n",
    "test_df6 ['lane_count'] = test_df6 ['lane_count'].astype(int)"
   ]
  },
  {
   "cell_type": "markdown",
   "id": "6ae7b16b-3ae9-4784-8f86-aa5fecc2f031",
   "metadata": {},
   "source": [
    "<br>\n",
    "\n",
    "features type"
   ]
  },
  {
   "cell_type": "code",
   "execution_count": null,
   "id": "1730cd8a-9f2c-4909-9a0d-757a49c6ff5f",
   "metadata": {},
   "outputs": [],
   "source": [
    "cat_features = train_df6\\\n",
    "    .drop(['id','target','base_date'],axis=1)\\\n",
    "    .select_dtypes(include=[object])\\\n",
    "    .columns.tolist()\n",
    "\n",
    "num_features = [x for x in train_df6.drop(['id','target','base_date'],axis=1).columns \n",
    "                if x not in cat_features]"
   ]
  },
  {
   "cell_type": "markdown",
   "id": "7289ae36-753c-405d-b46e-57e4b8dd2cef",
   "metadata": {},
   "source": [
    "<br>\n",
    "\n",
    "segmentation"
   ]
  },
  {
   "cell_type": "code",
   "execution_count": null,
   "id": "838a0abc-6b42-429e-9ff6-8b04108edeeb",
   "metadata": {},
   "outputs": [],
   "source": [
    "seg_size = 3\n",
    "seg_features = anova_df.sort_values('fvalue',ascending=False).feature.values[:seg_size]\n",
    "\n",
    "new_cat_features = [col for col in cat_features if col not in seg_features]\n",
    "\n",
    "train_df6['segment'] = train_df6[seg_features].progress_apply(lambda x: '_'.join(x),axis=1)\n",
    "test_df6 ['segment'] = test_df6 [seg_features].progress_apply(lambda x: '_'.join(x),axis=1)\n",
    "\n",
    "train_df6.drop(seg_features,axis=1,inplace=True)\n",
    "test_df6 .drop(seg_features,axis=1,inplace=True)"
   ]
  },
  {
   "cell_type": "code",
   "execution_count": null,
   "id": "12ce9f10-1cf7-4328-9654-b612a14aaf9f",
   "metadata": {},
   "outputs": [],
   "source": [
    "print(f'(1) segment nunique : {train_df6.segment.nunique():,}, seg_features : {seg_features}')\n",
    "print(f'(2) nunique of categorical features')\n",
    "display(train_df6[new_cat_features].apply(lambda x: x.nunique()))"
   ]
  },
  {
   "cell_type": "code",
   "execution_count": null,
   "id": "4b98bef3-52a0-46fd-a50e-b2610b7d2b88",
   "metadata": {},
   "outputs": [],
   "source": [
    "segment_features = 'segment'\n",
    "\n",
    "del_features = ['day','start_node_name','end_node_name'] # 'road_name',\n",
    "\n",
    "new_cat_features = [col for col in new_cat_features if col not in [segment_features]+del_features]"
   ]
  },
  {
   "cell_type": "code",
   "execution_count": null,
   "id": "d556e8ba-bc7c-453c-bf24-b7117e9ad9fc",
   "metadata": {},
   "outputs": [],
   "source": [
    "# 컬럼 잘 들어갔는지 확인\n",
    "\n",
    "# (1) train_df5와 비교\n",
    "print('vs train_df5   :',list(set(train_df6.columns)-set(new_cat_features+num_features)))\n",
    "\n",
    "# (2) weather_df2와 비교\n",
    "print('vs weather_df2 :',list(set(weather_df2.columns)-set(new_cat_features+num_features)))"
   ]
  },
  {
   "cell_type": "markdown",
   "id": "b2266203-7c81-479f-9985-ae00881944d2",
   "metadata": {},
   "source": [
    "<br>\n",
    "\n",
    "train, test data prepare"
   ]
  },
  {
   "cell_type": "code",
   "execution_count": null,
   "id": "7f681e93-d62a-464b-8330-57299e6cbb92",
   "metadata": {},
   "outputs": [],
   "source": [
    "X_train = train_df6.drop(['target','base_date']+del_features,axis=1)\n",
    "y_train = train_df6.target\n",
    "\n",
    "X_test  = test_df6 .drop(['base_date']+del_features,axis=1)"
   ]
  },
  {
   "cell_type": "code",
   "execution_count": null,
   "id": "40ac1207-7a60-4ca5-809e-ff91b8b25ec8",
   "metadata": {},
   "outputs": [],
   "source": [
    "X_train.head()"
   ]
  },
  {
   "cell_type": "code",
   "execution_count": null,
   "id": "d75b0d14-bf08-43f4-8f77-ef38251d161c",
   "metadata": {},
   "outputs": [],
   "source": [
    "# # correlation for numerical features\n",
    "# corr_df = X_train.select_dtypes(exclude=[object]).corr()\n",
    "\n",
    "# print(f'[all numerical features length : {corr_df.shape[0]}]')\n",
    "\n",
    "# iter=0\n",
    "# # correlation이 높은 조합 print\n",
    "# for i in range(corr_df.shape[0]):\n",
    "#     for j in range(corr_df.shape[1]):\n",
    "#         if i>j:\n",
    "#             if abs(corr_df.iloc[i,j])>0.3:\n",
    "#                 iter+=1\n",
    "#                 print(f'   {iter}. ({corr_df.index[i]},{corr_df.columns[j]}) : {corr_df.iloc[i,j]:.4f}')"
   ]
  },
  {
   "cell_type": "markdown",
   "id": "2cf8713c-e98b-4a75-9045-1bb235869f46",
   "metadata": {},
   "source": [
    "<br>\n",
    "\n",
    "## Transformation & Scaling"
   ]
  },
  {
   "cell_type": "code",
   "execution_count": null,
   "id": "df3d3409-ceb3-4077-abfb-f3a79ba8584c",
   "metadata": {},
   "outputs": [],
   "source": [
    "def identity(x):\n",
    "    return x\n",
    "\n",
    "def transformation(x,offset=1e-4,method=['log','sqrt','identity']):\n",
    "    #x = pd.Series(x)\n",
    "    \n",
    "    if method=='log':\n",
    "        res = np.log(x+offset)\n",
    "    elif method=='sqrt':\n",
    "        res = np.sqrt(x+offset)\n",
    "    elif method=='identity':\n",
    "        res = identity(x)\n",
    "    else:\n",
    "        raise('Unknown Transformation Method')\n",
    "    \n",
    "    return res\n",
    "\n",
    "def inverse_transformation(x,offset,method=['log','sqrt','identity']):\n",
    "    #x = pd.Series(x)\n",
    "    \n",
    "    if method=='log':\n",
    "        res = np.exp(x)-offset\n",
    "    elif method=='sqrt':\n",
    "        res = (x**2)-offset\n",
    "    elif method=='identity':\n",
    "        res = identity(x)\n",
    "    else:\n",
    "        raise('Unknown Transformation Method')\n",
    "        \n",
    "    return res"
   ]
  },
  {
   "cell_type": "code",
   "execution_count": null,
   "id": "8c7a3d39-82b5-4c20-b377-7a69f4fa56e4",
   "metadata": {},
   "outputs": [],
   "source": [
    "from sklearn.preprocessing import MinMaxScaler, StandardScaler, RobustScaler"
   ]
  },
  {
   "cell_type": "markdown",
   "id": "c4fbdfa5-24ca-4727-b5db-4085e6b61241",
   "metadata": {},
   "source": [
    "<br>\n",
    "\n",
    "Setting Methods"
   ]
  },
  {
   "cell_type": "code",
   "execution_count": null,
   "id": "1d43167b-93c3-4802-9cb3-dabd1e474076",
   "metadata": {},
   "outputs": [],
   "source": [
    "transform_method = ['identity','log','sqrt'][0]\n",
    "offset = 1e-4\n",
    "scaling_method = MinMaxScaler\n",
    "\n",
    "print(f'Transformation method : {transform_method}(offset={offset})')\n",
    "print(f'Scaling method : {scaling_method.__name__}')"
   ]
  },
  {
   "cell_type": "markdown",
   "id": "ecbe8a19-bc20-4349-9d13-b63dfd3ff84e",
   "metadata": {},
   "source": [
    "<br>\n",
    "\n",
    "delete object"
   ]
  },
  {
   "cell_type": "code",
   "execution_count": null,
   "id": "696af845-cdeb-450c-bfec-6bb43d182d38",
   "metadata": {},
   "outputs": [],
   "source": [
    "del train_df, train_df2, train_df3, train_df4, train_df5\n",
    "del test_df , test_df2 , test_df3 , test_df4 , test_df5"
   ]
  },
  {
   "cell_type": "markdown",
   "id": "449d0a1f-9417-49e4-afb9-242e53182507",
   "metadata": {},
   "source": [
    "<br>\n",
    "\n",
    "## Save Dataset"
   ]
  },
  {
   "cell_type": "code",
   "execution_count": null,
   "id": "ced957ef-05a8-4348-ad5c-77f8464ac79c",
   "metadata": {},
   "outputs": [],
   "source": [
    "train_df6.to_parquet('../OUT/train_df6.parquet')\n",
    "test_df6 .to_parquet('../OUT/test_df6.parquet')\n",
    "\n",
    "X_train.to_parquet('../OUT/X_train.parquet')\n",
    "X_test .to_parquet('../OUT/X_test.parquet')\n",
    "y_train.to_csv('../OUT/y_train.csv',index=False)"
   ]
  },
  {
   "cell_type": "code",
   "execution_count": null,
   "id": "b3661d8f-949a-4f4d-80f7-8cb63503e55e",
   "metadata": {},
   "outputs": [],
   "source": [
    "end_time = datetime.datetime.now()\n",
    "run_time = end_time-start_time\n",
    "\n",
    "print('='*45)\n",
    "print(f'> start time : {start_time}')\n",
    "print(f'>   end time : {end_time}')\n",
    "print(f'>   run time : {run_time:}')\n",
    "print('='*45)"
   ]
  },
  {
   "cell_type": "markdown",
   "id": "81e15fcc-530d-4e29-acc4-dbfa1a51137a",
   "metadata": {},
   "source": [
    "<br></br>\n",
    "\n",
    "---\n",
    "# Modeling\n",
    "---\n",
    "\n",
    "- CatBoost get all params : https://catboost.ai/en/docs/concepts/python-reference_catboostregressor_get_all_params"
   ]
  },
  {
   "cell_type": "code",
   "execution_count": null,
   "id": "0765f07a-e1b0-4abc-951a-f795b61bd0fb",
   "metadata": {},
   "outputs": [],
   "source": [
    "from sklearn.metrics import mean_absolute_error\n",
    "\n",
    "# verbose=0로 만들어주는 함수\n",
    "# (참조) https://stackoverflow.com/questions/11130156/suppress-stdout-stderr-print-from-python-functions\n",
    "class suppress_stdout_stderr(object):\n",
    "    '''\n",
    "    A context manager for doing a \"deep suppression\" of stdout and stderr in\n",
    "    Python, i.e. will suppress all print, even if the print originates in a\n",
    "    compiled C/Fortran sub-function.\n",
    "       This will not suppress raised exceptions, since exceptions are printed\n",
    "    to stderr just before a script exits, and after the context manager has\n",
    "    exited (at least, I think that is why it lets exceptions through).\n",
    "\n",
    "    '''\n",
    "    def __init__(self):\n",
    "        # Open a pair of null files\n",
    "        self.null_fds = [os.open(os.devnull, os.O_RDWR) for x in range(2)]\n",
    "        # Save the actual stdout (1) and stderr (2) file descriptors.\n",
    "        self.save_fds = (os.dup(1), os.dup(2))\n",
    "\n",
    "    def __enter__(self):\n",
    "        # Assign the null pointers to stdout and stderr.\n",
    "        os.dup2(self.null_fds[0], 1)\n",
    "        os.dup2(self.null_fds[1], 2)\n",
    "\n",
    "    def __exit__(self, *_):\n",
    "        # Re-assign the real stdout/stderr back to (1) and (2)\n",
    "        os.dup2(self.save_fds[0], 1)\n",
    "        os.dup2(self.save_fds[1], 2)\n",
    "        # Close the null files\n",
    "        os.close(self.null_fds[0])\n",
    "        os.close(self.null_fds[1])"
   ]
  },
  {
   "cell_type": "code",
   "execution_count": null,
   "id": "707ad88c-253c-40c8-affa-92446d29af26",
   "metadata": {},
   "outputs": [],
   "source": [
    "%%time\n",
    "\n",
    "train_df6 = pd.read_parquet('../OUT/train_df6.parquet')\n",
    "test_df6  = pd.read_parquet('../OUT/test_df6.parquet')\n",
    "\n",
    "X_train   = pd.read_parquet('../OUT/X_train.parquet')\n",
    "X_test    = pd.read_parquet('../OUT/X_test.parquet')\n",
    "y_train   = pd.read_csv('../OUT/y_train.csv')"
   ]
  },
  {
   "cell_type": "code",
   "execution_count": null,
   "id": "b00d5127-70b0-42b9-92c4-d86a14b3de3b",
   "metadata": {},
   "outputs": [],
   "source": [
    "cat_features = train_df6\\\n",
    "    .drop(['id','target','base_date'],axis=1)\\\n",
    "    .select_dtypes(include=[object])\\\n",
    "    .columns.tolist()\n",
    "\n",
    "num_features = [x for x in train_df6.drop(['id','target','base_date'],axis=1).columns \n",
    "                if x not in cat_features]"
   ]
  },
  {
   "cell_type": "code",
   "execution_count": null,
   "id": "f32dcce1-ca74-4018-b8f9-9b29bac05f65",
   "metadata": {},
   "outputs": [],
   "source": [
    "segment_features = 'segment'\n",
    "\n",
    "del_features = ['day','start_node_name','end_node_name'] # 'road_name',\n",
    "\n",
    "new_cat_features = [col for col in cat_features if col not in [segment_features]+del_features]"
   ]
  },
  {
   "cell_type": "code",
   "execution_count": null,
   "id": "ca571a57-abdc-40a6-97a5-898225f40c61",
   "metadata": {},
   "outputs": [],
   "source": [
    "new_num_features = num_features"
   ]
  },
  {
   "cell_type": "code",
   "execution_count": null,
   "id": "83686dc7-1cd0-40db-8480-090c8be3d17a",
   "metadata": {},
   "outputs": [],
   "source": [
    "X_train[new_cat_features].apply(lambda x: x.nunique())"
   ]
  },
  {
   "cell_type": "code",
   "execution_count": null,
   "id": "481044d2-341e-46da-b59f-a1f00495df8a",
   "metadata": {},
   "outputs": [],
   "source": [
    "# %%time\n",
    "# # 6분\n",
    "\n",
    "# print('(1) data concat')\n",
    "# tmp = pd.concat([\n",
    "#     X_train.assign(group='train'),\n",
    "#     X_test .assign(group='test'),\n",
    "# ],axis=0)\n",
    "\n",
    "# print('(2) onehot encoding')\n",
    "# tmp = pd.get_dummies(tmp, columns=new_cat_features)\n",
    "\n",
    "# print('(3) data split')\n",
    "# X_train_oh = tmp[tmp['group']=='train'].drop('group',axis=1)\n",
    "# X_test_oh  = tmp[tmp['group']=='test' ].drop('group',axis=1)\n",
    "\n",
    "# X_train_oh.to_parquet('../OUT/X_train_oh.parquet')\n",
    "# X_test_oh .to_parquet('../OUT/X_test_oh.parquet')"
   ]
  },
  {
   "cell_type": "code",
   "execution_count": null,
   "id": "89c788ea-c94c-4d07-bc20-6206ddfd37f4",
   "metadata": {},
   "outputs": [],
   "source": [
    "# X_train_oh = pd.read_parquet('../OUT/X_train_oh.parquet')\n",
    "# X_test_oh  = pd.read_parquet('../OUT/X_test_oh.parquet')"
   ]
  },
  {
   "cell_type": "markdown",
   "id": "8cd06635-384f-4111-b2f0-0195ac4ce555",
   "metadata": {},
   "source": [
    "<br>\n",
    "\n",
    "## AutoML"
   ]
  },
  {
   "cell_type": "code",
   "execution_count": null,
   "id": "b174ff2e-13dc-4688-8b19-7a79c3482763",
   "metadata": {},
   "outputs": [],
   "source": [
    "# !conda install -c conda-forge cudf\n",
    "# !pip install pycaret[full]\n",
    "# !pip install markupsafe==2.0.1\n",
    "\n",
    "\n",
    "from pycaret.regression import *"
   ]
  },
  {
   "cell_type": "code",
   "execution_count": null,
   "id": "a2049cf5-fa44-48b2-973f-39c309c2ce35",
   "metadata": {},
   "outputs": [],
   "source": [
    "%%time\n",
    "\n",
    "automl_df = pd.concat([X_train_oh,y_train],axis=1).drop('id',axis=1)\n",
    "\n",
    "automl = AUTOML_COMP(\n",
    "    train=automl_df,\n",
    "    target='target',\n",
    "    objective='regression',\n",
    "    iterations=500,\n",
    "    scoring=None,\n",
    "    test=None,\n",
    "    ignore_features=None,\n",
    "    n_splits=3,\n",
    "    fit_model=True,\n",
    "    seed=0\n",
    ")"
   ]
  },
  {
   "cell_type": "code",
   "execution_count": null,
   "id": "3195e0cb-d156-40e4-b238-fcd762d2b1b3",
   "metadata": {},
   "outputs": [],
   "source": [
    "# AUTOML_COMP_PLOT(automl)"
   ]
  },
  {
   "cell_type": "markdown",
   "id": "839d6055-c459-4707-82fa-6824b4c7ff60",
   "metadata": {},
   "source": [
    "<br>\n",
    "\n",
    "## LR - 단일모델"
   ]
  },
  {
   "cell_type": "code",
   "execution_count": null,
   "id": "c0f7597a-f3d4-47c6-a2b3-3d2cd0ef5af6",
   "metadata": {},
   "outputs": [],
   "source": [
    "%%time\n",
    "\n",
    "print('(1) data concat')\n",
    "tmp = pd.concat([\n",
    "    X_train.assign(group='train'),\n",
    "    X_test .assign(group='test'),\n",
    "],axis=0)\n",
    "\n",
    "print('(2) get dummies')\n",
    "tmp = pd.get_dummies(tmp, columns=new_cat_features)\n",
    "\n",
    "print('(3) data split')\n",
    "X_train_oh = tmp[tmp['group']=='train'].drop('group',axis=1)\n",
    "X_test_oh  = tmp[tmp['group']=='test' ].drop('group',axis=1)"
   ]
  },
  {
   "cell_type": "code",
   "execution_count": null,
   "id": "b27eb8b1-16c0-4795-9f14-8b06ec494d94",
   "metadata": {},
   "outputs": [],
   "source": [
    "# train에만 있는 segment length, test에만 있는 segment length 확인\n",
    "tr_segment = X_train_oh[segment_features].value_counts().sort_values(ascending=False).index\n",
    "te_segment = X_test_oh [segment_features] .value_counts().index\n",
    "segment    = [seg for seg in tr_segment if seg in te_segment]\n",
    "\n",
    "len(list(set(tr_segment)-set(te_segment))),len(list(set(te_segment)-set(tr_segment)))"
   ]
  },
  {
   "cell_type": "code",
   "execution_count": null,
   "id": "69b15395-8ba7-46d1-98b1-a24b9fdf03c9",
   "metadata": {
    "tags": []
   },
   "outputs": [],
   "source": [
    "%%time\n",
    "\n",
    "from sklearn.linear_model import LinearRegression\n",
    "import pickle\n",
    "\n",
    "tr_segment = X_train_oh[segment_features].value_counts().sort_values(ascending=False).index\n",
    "te_segment = X_test_oh [segment_features].value_counts().index\n",
    "segment    = [seg for seg in tr_segment if seg in te_segment]\n",
    "\n",
    "# now_date = str(datetime.datetime.now()).replace(' ','').replace('-','').replace(':','').replace('.','')[:14]\n",
    "now_date = str(datetime.datetime.now())\n",
    "now_date = now_date[:now_date.find('.')]\n",
    "# createFolder(f'../MDL/{now_date}/')\n",
    "print(now_date)\n",
    "\n",
    "models = []\n",
    "train_fn = []\n",
    "test_fn = []\n",
    "iter = 0\n",
    "\n",
    "pbar = tqdm(segment)\n",
    "for segment_x in pbar:\n",
    "    iter += 1\n",
    "\n",
    "    X_tr = X_train_oh[X_train_oh[segment_features]==segment_x]\n",
    "    X_te = X_test_oh[X_test_oh[segment_features]==segment_x]\n",
    "    \n",
    "    y_tr = y_train[X_train_oh[segment_features]==segment_x]\n",
    "    y_tr = transformation(y_tr,offset=offset,method=transform_method)\n",
    "    \n",
    "    scalers = {}\n",
    "    for col in new_num_features:\n",
    "        scaler = scaling_method()\n",
    "        scalers[col] = scaler\n",
    "\n",
    "        X_tr[col] = scaler.fit_transform(np.array(X_tr[col]).reshape(-1,1))\n",
    "        X_te[col] = scaler.transform(np.array(X_te[col]).reshape(-1,1))\n",
    "    \n",
    "    progress = f'{segment_x} : {X_tr.shape[0]:,}/{X_train_oh.shape[0]:,}({X_tr.shape[0]/X_train_oh.shape[0]*100:.2f}%)'\n",
    "    pbar.set_description(progress)\n",
    "\n",
    "    model = LinearRegression()\n",
    "    model.fit(X_tr.drop([segment_features,'id'],axis=1),y_tr)\n",
    "\n",
    "    # save (https://stackoverflow.com/questions/64320741/linearregression-object-has-no-attribute-save)\n",
    "    models.append(model)\n",
    "    # pickle.dump(model, open(f'../MDL/{now_date}/lr_{segment_x}.sav', 'wb'))\n",
    "\n",
    "    X_tr['pred'] = model.predict(X_tr.drop([segment_features,'id'],axis=1))\n",
    "    X_te['pred'] = model.predict(X_te.drop([segment_features,'id'],axis=1))\n",
    "\n",
    "    # inverse transformation\n",
    "    X_tr['pred'] = inverse_transformation(X_tr['pred'],offset=offset,method=transform_method)\n",
    "    X_te['pred'] = inverse_transformation(X_te['pred'],offset=offset,method=transform_method)\n",
    "    \n",
    "    y_tr = inverse_transformation(y_tr,offset=offset,method=transform_method)\n",
    "\n",
    "    train_fn.append(pd.concat([X_tr[['id',segment_features,'pred']],y_tr],axis=1))\n",
    "    test_fn .append(X_te[['id',segment_features,'pred']])"
   ]
  },
  {
   "cell_type": "code",
   "execution_count": null,
   "id": "d04d164c-0ec6-47fd-9183-edaf47e39219",
   "metadata": {},
   "outputs": [],
   "source": [
    "train_fn = pd.concat(train_fn,axis=0)\n",
    "test_fn  = pd.concat(test_fn ,axis=0)"
   ]
  },
  {
   "cell_type": "code",
   "execution_count": null,
   "id": "d886bfed-c6e2-483d-9a1a-6926f5f356fc",
   "metadata": {},
   "outputs": [],
   "source": [
    "from sklearn.metrics import mean_absolute_error\n",
    "\n",
    "mean_absolute_error(y_true=train_fn['target'],y_pred=train_fn['pred'])"
   ]
  },
  {
   "cell_type": "code",
   "execution_count": null,
   "id": "e51215b8-abb6-4b8d-a3fd-fadfd3df4c51",
   "metadata": {},
   "outputs": [],
   "source": [
    "plt.figure(figsize=(15,7))\n",
    "sns.scatterplot(train_fn['target'],train_fn['pred'],alpha=0.5)\n",
    "plt.xlabel('true')\n",
    "plt.ylabel('prediction')\n",
    "abline(slope=1,intercept=0,color='red')\n",
    "plt.show()"
   ]
  },
  {
   "cell_type": "code",
   "execution_count": null,
   "id": "9fa96a93-683e-4a7d-ab3f-f9ca675ac5fb",
   "metadata": {},
   "outputs": [],
   "source": [
    "# iter=0\n",
    "# for seg in segment:\n",
    "#     iter+=1\n",
    "#     print(f'\\n({iter}/{train_fn.segment.nunique()}) {seg}')\n",
    "    \n",
    "#     tmp = train_fn[train_fn.segment==seg]\n",
    "\n",
    "#     plt.figure(figsize=(15,7))\n",
    "#     sns.scatterplot(tmp['target'],tmp['pred'],alpha=0.5)\n",
    "#     plt.xlabel('true')\n",
    "#     plt.ylabel('prediction')\n",
    "#     abline(slope=1,intercept=0,color='red')\n",
    "#     plt.show()"
   ]
  },
  {
   "cell_type": "code",
   "execution_count": null,
   "id": "d1478a9e-f126-47e1-a7a3-aad43f33c334",
   "metadata": {},
   "outputs": [],
   "source": [
    "train_df5['pred_lr'] = train_fn['pred']\n",
    "test_df5 ['pred_lr'] = test_fn ['pred']"
   ]
  },
  {
   "cell_type": "markdown",
   "id": "868fe9be-1bf6-4c8a-a1f8-e5088f163101",
   "metadata": {},
   "source": [
    "<br>\n",
    "\n",
    "## LightGBM - 단일모델"
   ]
  },
  {
   "cell_type": "code",
   "execution_count": null,
   "id": "540e524e-cdb1-4f6b-8cd0-29f187714e54",
   "metadata": {},
   "outputs": [],
   "source": [
    "# # 참조 : https://github.com/microsoft/LightGBM/issues/4843\n",
    "# brew install cmake\n",
    "# brew install libomp\n",
    "# git clone --recursive https://github.com/microsoft/LightGBM\n",
    "# cd LightGBM\n",
    "# mkdir build\n",
    "# cd build\n",
    "# cmake ..\n",
    "# make -j4"
   ]
  },
  {
   "cell_type": "code",
   "execution_count": null,
   "id": "7b4de428-03c6-41d6-93cb-02f1665f9c4f",
   "metadata": {},
   "outputs": [],
   "source": [
    "%%time\n",
    "\n",
    "import lightgbm as lgb\n",
    "\n",
    "params = {\n",
    "    'task': 'train', \n",
    "    'boosting_type': 'gbdt',\n",
    "    'objective': 'regression',\n",
    "    'num_iterations': 1000,\n",
    "    'learning_rate': 0.05,\n",
    "    'metric': 'MAE',\n",
    "    'verbose': -1,\n",
    "    'random_state': 0,\n",
    "}\n",
    "\n",
    "tr_segment = X_train[segment_features].value_counts().sort_values(ascending=False).index\n",
    "te_segment = X_test [segment_features] .value_counts().index\n",
    "segment    = [seg for seg in tr_segment if seg in te_segment]\n",
    "\n",
    "# now_date = str(datetime.datetime.now()).replace(' ','').replace('-','').replace(':','').replace('.','')[:14]\n",
    "now_date = str(datetime.datetime.now())\n",
    "now_date = now_date[:now_date.find('.')]\n",
    "# createFolder(f'../MDL/{now_date}/')\n",
    "print(now_date)\n",
    "\n",
    "models = []\n",
    "train_fn = []\n",
    "test_fn = []\n",
    "iter = 0\n",
    "\n",
    "pbar = tqdm(segment)\n",
    "for segment_x in pbar:\n",
    "    iter += 1\n",
    "    \n",
    "    X_tr = X_train[X_train[segment_features]==segment_x]\n",
    "    X_te = X_test [X_test [segment_features]==segment_x]\n",
    "    \n",
    "    y_tr = y_train[X_train[segment_features]==segment_x]\n",
    "    y_tr = transformation(y_tr,offset=offset,method=transform_method)\n",
    "\n",
    "    scalers = {}\n",
    "    for col in new_num_features:\n",
    "        scaler = scaling_method()\n",
    "        scalers[col] = scaler\n",
    "        \n",
    "        X_tr[col] = scaler.fit_transform(np.array(X_tr[col]).reshape(-1,1))\n",
    "        X_te[col] = scaler.transform(np.array(X_te[col]).reshape(-1,1))\n",
    "    \n",
    "    progress = f'{segment_x} : {X_tr.shape[0]:,}/{X_train.shape[0]:,}({X_tr.shape[0]/X_train.shape[0]*100:.2f}%)'\n",
    "    pbar.set_description(progress)\n",
    "    \n",
    "    X_tr[new_cat_features] = X_tr[new_cat_features].astype('category')\n",
    "    X_te[new_cat_features] = X_te[new_cat_features].astype('category')\n",
    "    \n",
    "    # iterations default=1,000\n",
    "    model = lgb.LGBMRegressor(**params)\n",
    "    model.fit(X_tr.drop([segment_features,'id'],axis=1),y_tr)\n",
    "\n",
    "    # save\n",
    "    models.append(model)\n",
    "    # model.save_model(f'../MDL/{now_date}/catboost_{segment_x}.cbm')\n",
    "    \n",
    "    X_tr['pred'] = model.predict(X_tr.drop([segment_features,'id'],axis=1))\n",
    "    X_te['pred'] = model.predict(X_te.drop([segment_features,'id'],axis=1))\n",
    "    \n",
    "    # inverse transformation\n",
    "    X_tr['pred'] = inverse_transformation(X_tr['pred'],offset=offset,method=transform_method)\n",
    "    X_te['pred'] = inverse_transformation(X_te['pred'],offset=offset,method=transform_method)\n",
    "    \n",
    "    y_tr = inverse_transformation(y_tr,offset=offset,method=transform_method)\n",
    "    \n",
    "    train_fn.append(pd.concat([X_tr[['id',segment_features,'pred']],y_tr],axis=1))\n",
    "    test_fn .append(X_te[['id',segment_features,'pred']])"
   ]
  },
  {
   "cell_type": "code",
   "execution_count": null,
   "id": "9a92b3f5-133c-4f37-a474-e7ccee8baee4",
   "metadata": {},
   "outputs": [],
   "source": [
    "train_fn = pd.concat(train_fn,axis=0)\n",
    "test_fn  = pd.concat(test_fn ,axis=0)"
   ]
  },
  {
   "cell_type": "code",
   "execution_count": null,
   "id": "75471afc-0740-46a6-9eaa-399654adb556",
   "metadata": {},
   "outputs": [],
   "source": [
    "from sklearn.metrics import mean_absolute_error\n",
    "\n",
    "mean_absolute_error(y_true=train_fn['target'],y_pred=train_fn['pred'])"
   ]
  },
  {
   "cell_type": "code",
   "execution_count": null,
   "id": "7981471a-985a-4661-a4e0-8bd650c36b34",
   "metadata": {},
   "outputs": [],
   "source": [
    "plt.figure(figsize=(15,7))\n",
    "sns.scatterplot(train_fn['target'],train_fn['pred'],alpha=0.5)\n",
    "plt.xlabel('true')\n",
    "plt.ylabel('prediction')\n",
    "abline(slope=1,intercept=0,color='red')\n",
    "plt.show()"
   ]
  },
  {
   "cell_type": "code",
   "execution_count": null,
   "id": "3a209162-6a06-4695-b45d-b9a8f07e37d6",
   "metadata": {},
   "outputs": [],
   "source": [
    "# iter=0\n",
    "# for seg in segment:\n",
    "#     iter+=1\n",
    "#     print(f'\\n({iter}/{train_fn.segment.nunique()}) {seg}')\n",
    "    \n",
    "#     tmp = train_fn[train_fn.segment==seg]\n",
    "\n",
    "#     plt.figure(figsize=(15,7))\n",
    "#     sns.scatterplot(tmp['target'],tmp['pred'],alpha=0.5)\n",
    "#     plt.xlabel('true')\n",
    "#     plt.ylabel('prediction')\n",
    "#     abline(slope=1,intercept=0,color='red')\n",
    "#     plt.show()"
   ]
  },
  {
   "cell_type": "code",
   "execution_count": null,
   "id": "7ae30af3-6e1b-43ee-841f-56025777b934",
   "metadata": {},
   "outputs": [],
   "source": [
    "train_df6['pred_lgb'] = train_fn['pred']\n",
    "test_df6 ['pred_lgb'] = test_fn ['pred']"
   ]
  },
  {
   "cell_type": "code",
   "execution_count": null,
   "id": "415f1c79-adeb-437d-8a2d-b19bbeba60b0",
   "metadata": {},
   "outputs": [],
   "source": [
    "import matplotlib.pyplot as plt\n",
    "import seaborn as sns\n",
    "import warnings\n",
    "warnings.simplefilter(action='ignore', category=FutureWarning)\n",
    "\n",
    "feature_imp_df = pd.DataFrame(X_train.columns,columns=['feature_name'])\n",
    "\n",
    "iter=0\n",
    "for model in models:\n",
    "    iter+=1\n",
    "    \n",
    "    feature_imp = pd.DataFrame(\n",
    "        sorted(zip(X_train.columns,model.feature_importances_)), \n",
    "        columns=['feature_name','importance']\n",
    "    )\n",
    "    \n",
    "    feature_imp[f'importance_{iter}'] = feature_imp['importance'] / feature_imp['importance'].sum()\n",
    "    \n",
    "    feature_imp_df = pd.merge(\n",
    "        feature_imp_df,\n",
    "        feature_imp[['feature_name',f'importance_{iter}']],\n",
    "        how='left',\n",
    "        on=['feature_name'],\n",
    "    )\n",
    "\n",
    "feature_imp_df = feature_imp_df.dropna()\n",
    "\n",
    "imp_cols = [col for col in feature_imp_df.columns if col.find('importance_')>=0]\n",
    "feature_imp_df['importance'] = feature_imp_df[imp_cols].apply(lambda x: sum(x),axis=1)\n",
    "feature_imp_df['importance'] = 100 * feature_imp_df['importance'] / feature_imp_df['importance'].sum()\n",
    "    \n",
    "plt.figure(figsize=(20, 15))\n",
    "sns.barplot(x=\"importance\", y=\"feature_name\", data=feature_imp_df.sort_values(by='importance', ascending=False))\n",
    "plt.title('LightGBM Features (avg over folds)')\n",
    "plt.tight_layout()\n",
    "plt.show()"
   ]
  },
  {
   "cell_type": "code",
   "execution_count": null,
   "id": "f3da1851-dede-486c-8b46-4d86b6877f02",
   "metadata": {},
   "outputs": [],
   "source": [
    "check_df = feature_imp_df[['feature_name','importance']].sort_values('importance',ascending=False)\n",
    "check_df['cum_importance'] = check_df['importance'].cumsum()\n",
    "\n",
    "cutoff = 90\n",
    "print(f'cumulative import ≥ {cutoff}% : {np.where(check_df[\"cum_importance\"]<=cutoff,1,0).sum()} / {check_df.shape[0]}')\n",
    "display(check_df.head())"
   ]
  },
  {
   "cell_type": "markdown",
   "id": "0df46c7b-984f-48e1-9da1-a23bdeb44c32",
   "metadata": {},
   "source": [
    "<br>\n",
    "\n",
    "## CatBoost - 단일모델"
   ]
  },
  {
   "cell_type": "code",
   "execution_count": null,
   "id": "67f03649-104f-48bf-be9e-528a6d625eb0",
   "metadata": {
    "tags": []
   },
   "outputs": [],
   "source": [
    "%%time\n",
    "\n",
    "from catboost import CatBoostRegressor, Pool\n",
    "\n",
    "tr_segment = X_train[segment_features].value_counts().sort_values(ascending=False).index\n",
    "te_segment = X_test [segment_features].value_counts().index\n",
    "segment    = [seg for seg in tr_segment if seg in te_segment]\n",
    "\n",
    "# now_date = str(datetime.datetime.now()).replace(' ','').replace('-','').replace(':','').replace('.','')[:14]\n",
    "now_date = str(datetime.datetime.now())\n",
    "now_date = now_date[:now_date.find('.')]\n",
    "createFolder(f'../MDL/{now_date}/')\n",
    "print(now_date)\n",
    "\n",
    "models = []\n",
    "train_fn = []\n",
    "test_fn = []\n",
    "iter = 0\n",
    "\n",
    "pbar = tqdm(segment)\n",
    "for segment_x in pbar:\n",
    "    iter += 1\n",
    "    \n",
    "    X_tr = X_train[X_train[segment_features]==segment_x]\n",
    "    X_te = X_test [X_test [segment_features]==segment_x]\n",
    "    \n",
    "    y_tr = y_train[X_train[segment_features]==segment_x]\n",
    "    y_tr = transformation(y_tr,offset=offset,method=transform_method)\n",
    "    \n",
    "    scalers = {}\n",
    "    for col in new_num_features:\n",
    "        scaler = scaling_method()\n",
    "        scalers[col] = scaler\n",
    "        \n",
    "        X_tr[col] = scaler.fit_transform(np.array(X_tr[col]).reshape(-1,1))\n",
    "        X_te[col] = scaler.transform(np.array(X_te[col]).reshape(-1,1))\n",
    "\n",
    "    progress = f'{segment_x} : {X_tr.shape[0]:,}/{X_train.shape[0]:,}({X_tr.shape[0]/X_train.shape[0]*100:.2f}%)'\n",
    "    pbar.set_description(progress)\n",
    "    \n",
    "    train_data = Pool(\n",
    "        X_tr.drop([segment_features,'id'],axis=1),\n",
    "        y_tr,\n",
    "        cat_features=new_cat_features\n",
    "    )\n",
    "    test_data  = Pool(\n",
    "        X_te.drop([segment_features,'id'],axis=1),\n",
    "        cat_features=new_cat_features\n",
    "    )\n",
    "\n",
    "    # iterations default=1,000\n",
    "    model = CatBoostRegressor(\n",
    "        loss_function = 'RMSE', # default. 참조 https://catboost.ai/en/docs/concepts/python-reference_catboostregressor_get_all_params\n",
    "        eval_metric = 'MAE',\n",
    "        iterations=20000,\n",
    "        early_stopping_rounds=100,\n",
    "        verbose=1,\n",
    "        random_state=42,\n",
    "        metric_period=1000,\n",
    "        learning_rate=0.03,\n",
    "        #task_type='GPU',\n",
    "    )\n",
    "    model.fit(train_data)\n",
    "\n",
    "    # save\n",
    "    models.append(model)\n",
    "    model.save_model(f'../MDL/{now_date}/catboost_{segment_x}.cbm')\n",
    "    \n",
    "    X_tr['pred'] = model.predict(train_data)\n",
    "    X_te['pred'] = model.predict(test_data)\n",
    "    \n",
    "    # inverse transformation\n",
    "    X_tr['pred'] = inverse_transformation(X_tr['pred'],offset=offset,method=transform_method)\n",
    "    X_te['pred'] = inverse_transformation(X_te['pred'],offset=offset,method=transform_method)\n",
    "    \n",
    "    y_tr = inverse_transformation(y_tr,offset=offset,method=transform_method)\n",
    "    \n",
    "    train_fn.append(pd.concat([X_tr[['id',segment_features,'pred']],y_tr],axis=1))\n",
    "    test_fn .append(X_te[['id',segment_features,'pred']])\n",
    "    \n",
    "    mae = mean_absolute_error(y_true=y_tr,y_pred=X_tr['pred'])\n",
    "    print(f'MAE : {mae:.4f}')"
   ]
  },
  {
   "cell_type": "code",
   "execution_count": null,
   "id": "97239831-342f-4680-a9b3-a6daa6116116",
   "metadata": {},
   "outputs": [],
   "source": [
    "train_fn = pd.concat(train_fn,axis=0)\n",
    "test_fn  = pd.concat(test_fn ,axis=0)"
   ]
  },
  {
   "cell_type": "code",
   "execution_count": null,
   "id": "4c10c2a3-35a4-4c30-a676-8d5e228293a4",
   "metadata": {},
   "outputs": [],
   "source": [
    "from sklearn.metrics import mean_absolute_error\n",
    "\n",
    "mean_absolute_error(y_true=train_fn['target'],y_pred=train_fn['pred'])"
   ]
  },
  {
   "cell_type": "code",
   "execution_count": null,
   "id": "e06c20dd-2fe4-4f3d-ba3e-3736b7593469",
   "metadata": {},
   "outputs": [],
   "source": [
    "plt.figure(figsize=(15,7))\n",
    "sns.scatterplot(train_fn['target'],train_fn['pred'],alpha=0.5)\n",
    "plt.xlabel('true')\n",
    "plt.ylabel('prediction')\n",
    "abline(slope=1,intercept=0,color='red')\n",
    "plt.show()"
   ]
  },
  {
   "cell_type": "code",
   "execution_count": null,
   "id": "2d526cab-e21f-455f-8199-0981bf04d91b",
   "metadata": {},
   "outputs": [],
   "source": [
    "# iter=0\n",
    "# for seg in segment:\n",
    "#     iter+=1\n",
    "#     print(f'\\n({iter}/{train_fn.segment.nunique()}) {seg}')\n",
    "    \n",
    "#     tmp = train_fn[train_fn.segment==seg]\n",
    "#     mae = mean_absolute_error(y_true=tmp['target'],y_pred=tmp['pred'])\n",
    "\n",
    "#     plt.figure(figsize=(15,7))\n",
    "#     sns.scatterplot(tmp['target'],tmp['pred'],alpha=0.5)\n",
    "#     plt.xlabel('true')\n",
    "#     plt.ylabel('prediction')\n",
    "#     plt.title(f'MAE : {mae:.4f}')\n",
    "#     abline(slope=1,intercept=0,color='red')\n",
    "#     plt.show()"
   ]
  },
  {
   "cell_type": "code",
   "execution_count": null,
   "id": "c043bfa0-0b0e-4405-977f-559368c075e7",
   "metadata": {},
   "outputs": [],
   "source": [
    "# submission = test_fn[['id','pred']].rename(columns={'pred':'target'}).sort_values('id')\n",
    "# submission.to_csv(f'../OUT/submission_{now_date}.csv',index=False)"
   ]
  },
  {
   "cell_type": "code",
   "execution_count": null,
   "id": "48c34af5-cac6-471d-8d96-8c3443c8cc82",
   "metadata": {},
   "outputs": [],
   "source": [
    "train_df6['pred_cat'] = train_fn['pred']\n",
    "test_df6 ['pred_cat'] = test_fn ['pred']"
   ]
  },
  {
   "cell_type": "code",
   "execution_count": null,
   "id": "9a42352c-a15b-4a3b-ae5d-cd6ea3706781",
   "metadata": {},
   "outputs": [],
   "source": [
    "train_df6.to_parquet(f'../OUT/train_df6_cat5000_{now_date}.parquet')\n",
    "test_df6 .to_parquet(f'../OUT/test_df6_cat5000_{now_date}.parquet')"
   ]
  },
  {
   "cell_type": "markdown",
   "id": "23f0102b-088d-4b16-bfd0-c0f753adcf53",
   "metadata": {},
   "source": [
    "<br>\n",
    "\n",
    "## CatBoost - Kfold (제외)"
   ]
  },
  {
   "cell_type": "code",
   "execution_count": null,
   "id": "0103667a-e1f9-47dd-94cc-127bf7de624c",
   "metadata": {},
   "outputs": [],
   "source": [
    "from sklearn.model_selection import KFold\n",
    "\n",
    "kf = KFold(n_splits=5)"
   ]
  },
  {
   "cell_type": "code",
   "execution_count": null,
   "id": "7a519065-ff6a-4a2a-9ecd-3651d481ec1d",
   "metadata": {},
   "outputs": [],
   "source": [
    "%%time\n",
    "\n",
    "from catboost import CatBoostRegressor, Pool\n",
    "\n",
    "tr_segment = X_train[segment_features].value_counts().sort_values(ascending=False).index\n",
    "te_segment = X_test [segment_features].value_counts().index\n",
    "segment    = [seg for seg in tr_segment if seg in te_segment]\n",
    "\n",
    "# now_date = str(datetime.datetime.now()).replace(' ','').replace('-','').replace(':','').replace('.','')[:14]\n",
    "now_date = str(datetime.datetime.now())\n",
    "now_date = now_date[:now_date.find('.')]\n",
    "# createFolder(f'../MDL/{now_date}/')\n",
    "print(now_date)\n",
    "\n",
    "models = []\n",
    "train_fn = []\n",
    "test_fn = []\n",
    "iter = 0\n",
    "\n",
    "pbar = tqdm(segment)\n",
    "for segment_x in pbar:\n",
    "    iter += 1\n",
    "    \n",
    "    X_tr = X_train[X_train[segment_features]==segment_x]\n",
    "    X_te = X_test [X_test [segment_features]==segment_x]\n",
    "\n",
    "    y_tr = y_train[X_train[segment_features]==segment_x]\n",
    "    y_tr = transformation(y_tr,offset=offset,method=transform_method)\n",
    "    \n",
    "    scalers = {}\n",
    "    for col in new_num_features:\n",
    "        scaler = scaling_method()\n",
    "        scalers[col] = scaler\n",
    "        \n",
    "        X_tr[col] = scaler.fit_transform(np.array(X_tr[col]).reshape(-1,1))\n",
    "        X_te[col] = scaler.transform(np.array(X_te[col]).reshape(-1,1))\n",
    "    \n",
    "    progress = f'{segment_x} : {X_tr.shape[0]:,}/{X_train.shape[0]:,}({X_tr.shape[0]/X_train.shape[0]*100:.2f}%)'\n",
    "    pbar.set_description(progress)\n",
    "    # print('-'*100)\n",
    "    # print(progress)\n",
    "    # print('-'*100)\n",
    "    \n",
    "    models_kf = []\n",
    "    for train_idx, valid_idx in kf.split(X_tr):\n",
    "    \n",
    "        X_tr_kf = X_tr.iloc[train_idx,:]\n",
    "        X_va_kf = X_tr.iloc[valid_idx,:]\n",
    "        y_tr_kf = y_tr.iloc[train_idx]\n",
    "        y_va_kf = y_tr.iloc[valid_idx]\n",
    "    \n",
    "        train_data_kf = Pool(\n",
    "            X_tr_kf.drop([segment_features,'id'],axis=1),\n",
    "            y_tr_kf,\n",
    "            cat_features=new_cat_features,\n",
    "        )\n",
    "        valid_data_kf = Pool(\n",
    "            X_va_kf.drop([segment_features,'id'],axis=1),\n",
    "            y_va_kf,\n",
    "            cat_features=new_cat_features,\n",
    "        )\n",
    "\n",
    "        # iterations default=1,000\n",
    "        model = CatBoostRegressor(\n",
    "            loss_function = 'MAE',\n",
    "            eval_metric = 'MAE',\n",
    "            iterations=1000,\n",
    "            early_stopping_rounds=30,\n",
    "            verbose=0,\n",
    "            random_state=42,\n",
    "            # metric_period=500,\n",
    "            #task_type='GPU',\n",
    "        )\n",
    "        model.fit(train_data_kf,eval_set=valid_data_kf,use_best_model=True)\n",
    "\n",
    "        # save\n",
    "        models_kf.append(model)\n",
    "        #model.save_model(f'../MDL/{now_date}/catboost_{segment_x}.cbm')\n",
    "        \n",
    "    train_data = Pool(\n",
    "        X_tr.drop([segment_features,'id'],axis=1),\n",
    "        y_tr,\n",
    "        cat_features=new_cat_features,\n",
    "    )\n",
    "    test_data = Pool(\n",
    "        X_te.drop([segment_features,'id'],axis=1),\n",
    "        cat_features=new_cat_features,\n",
    "    )\n",
    "    \n",
    "    X_tr['pred'] = np.mean(np.array([model.predict(train_data) for model in models_kf]),axis=0)\n",
    "    X_te['pred'] = np.mean(np.array([model.predict(test_data)  for model in models_kf]),axis=0)\n",
    "\n",
    "    # inverse transformation\n",
    "    X_tr['pred'] = inverse_transformation(X_tr['pred'],offset=offset,method=transform_method)\n",
    "    X_te['pred'] = inverse_transformation(X_te['pred'],offset=offset,method=transform_method)\n",
    "\n",
    "    y_tr = inverse_transformation(y_tr,offset=offset,method=transform_method)\n",
    "\n",
    "    train_fn.append(pd.concat([X_tr[['id',segment_features,'pred']],y_tr],axis=1))\n",
    "    test_fn .append(X_te[['id',segment_features,'pred']])\n",
    "    \n",
    "    mae = mean_absolute_error(y_true=y_tr,y_pred=X_tr['pred'])\n",
    "    print(f'MAE : {mae:.4f}')"
   ]
  },
  {
   "cell_type": "code",
   "execution_count": null,
   "id": "c33ddccc-47c2-48b8-8375-5ce5359f63c6",
   "metadata": {},
   "outputs": [],
   "source": [
    "train_fn = pd.concat(train_fn,axis=0)\n",
    "test_fn  = pd.concat(test_fn ,axis=0)"
   ]
  },
  {
   "cell_type": "code",
   "execution_count": null,
   "id": "6f209f2f-37ca-4130-a801-3574ed2ce1c7",
   "metadata": {},
   "outputs": [],
   "source": [
    "from sklearn.metrics import mean_absolute_error\n",
    "\n",
    "mean_absolute_error(y_true=train_fn['target'],y_pred=train_fn['pred'])"
   ]
  },
  {
   "cell_type": "code",
   "execution_count": null,
   "id": "aaf1bebf-5fd8-4e32-9de7-505cc6331f72",
   "metadata": {},
   "outputs": [],
   "source": [
    "plt.figure(figsize=(15,7))\n",
    "sns.scatterplot(train_fn['target'],train_fn['pred'],alpha=0.5)\n",
    "plt.xlabel('true')\n",
    "plt.ylabel('prediction')\n",
    "abline(slope=1,intercept=0,color='red')\n",
    "plt.show()"
   ]
  },
  {
   "cell_type": "code",
   "execution_count": null,
   "id": "8a659586-ea52-460c-b421-9fde7218e90b",
   "metadata": {},
   "outputs": [],
   "source": [
    "# iter=0\n",
    "# for seg in segment:\n",
    "#     iter+=1\n",
    "#     print(f'\\n({iter}/{train_fn.segment.nunique()}) {seg}')\n",
    "    \n",
    "#     tmp = train_fn[train_fn.segment==seg]\n",
    "#     mae = mean_absolute_error(y_true=tmp['target'],y_pred=tmp['pred'])\n",
    "\n",
    "#     plt.figure(figsize=(15,7))\n",
    "#     sns.scatterplot(tmp['target'],tmp['pred'],alpha=0.5)\n",
    "#     plt.xlabel('true')\n",
    "#     plt.ylabel('prediction')\n",
    "#     plt.title(f'MAE : {mae:.4f}')\n",
    "#     abline(slope=1,intercept=0,color='red')\n",
    "#     plt.show()"
   ]
  },
  {
   "cell_type": "code",
   "execution_count": null,
   "id": "fb7b7cbe-248d-473b-8689-3bcec6935e5a",
   "metadata": {},
   "outputs": [],
   "source": [
    "# submission = test_fn[['id','pred']].rename(columns={'pred':'target'}).sort_values('id')\n",
    "# submission.to_csv(f'../OUT/submission_{now_date}.csv',index=False)"
   ]
  },
  {
   "cell_type": "code",
   "execution_count": null,
   "id": "cc78f0fc-cb90-435f-a403-a0fec2d15f86",
   "metadata": {},
   "outputs": [],
   "source": [
    "train_df6['pred_cat_kf'] = train_fn['pred']\n",
    "test_df6 ['pred_cat_kf'] = test_fn ['pred']"
   ]
  },
  {
   "cell_type": "markdown",
   "id": "4f3ffbef-8e7e-49e3-a568-ead5278c8633",
   "metadata": {},
   "source": [
    "<br>\n",
    "\n",
    "## LightGBM - Kfold (제외)"
   ]
  },
  {
   "cell_type": "code",
   "execution_count": null,
   "id": "450d9f81-c23b-4cb1-b80a-49c4df8eecc5",
   "metadata": {},
   "outputs": [],
   "source": [
    "from sklearn.model_selection import KFold\n",
    "\n",
    "kf = KFold(n_splits=5)"
   ]
  },
  {
   "cell_type": "code",
   "execution_count": null,
   "id": "174e03e8-0fe8-4098-9349-6e3e65508d3a",
   "metadata": {},
   "outputs": [],
   "source": [
    "%%time\n",
    "\n",
    "import lightgbm as lgb\n",
    "\n",
    "params = {\n",
    "    'task': 'train', \n",
    "    'boosting_type': 'gbdt',\n",
    "    'objective': 'regression',\n",
    "    'num_iterations': 1000,\n",
    "    'learning_rate': 0.05,\n",
    "    'metric': 'MAE',\n",
    "    'verbose': 0,\n",
    "    'n_jobs': -1,\n",
    "    'random_state': 0,\n",
    "}\n",
    "\n",
    "tr_segment = X_train[segment_features].value_counts().sort_values(ascending=False).index\n",
    "te_segment = X_test [segment_features].value_counts().index\n",
    "segment    = [seg for seg in tr_segment if seg in te_segment]\n",
    "\n",
    "# now_date = str(datetime.datetime.now()).replace(' ','').replace('-','').replace(':','').replace('.','')[:14]\n",
    "now_date = str(datetime.datetime.now())\n",
    "now_date = now_date[:now_date.find('.')]\n",
    "# createFolder(f'../MDL/{now_date}/')\n",
    "print(now_date)\n",
    "\n",
    "models = []\n",
    "train_fn = []\n",
    "test_fn = []\n",
    "iter = 0\n",
    "\n",
    "pbar = tqdm(segment)\n",
    "for segment_x in pbar:\n",
    "    iter += 1\n",
    "    \n",
    "    X_tr = X_train[X_train[segment_features]==segment_x]\n",
    "    X_te = X_test [X_test [segment_features]==segment_x]\n",
    "\n",
    "    y_tr = y_train[X_train[segment_features]==segment_x]\n",
    "    y_tr = transformation(y_tr,offset=offset,method=transform_method)\n",
    "    \n",
    "    scalers = {}\n",
    "    for col in new_num_features:\n",
    "        scaler = scaling_method()\n",
    "        scalers[col] = scaler\n",
    "        \n",
    "        X_tr[col] = scaler.fit_transform(np.array(X_tr[col]).reshape(-1,1))\n",
    "        X_te[col] = scaler.transform(np.array(X_te[col]).reshape(-1,1))\n",
    "    \n",
    "    progress = f'{segment_x} : {X_tr.shape[0]:,}/{X_train.shape[0]:,}({X_tr.shape[0]/X_train.shape[0]*100:.2f}%)'\n",
    "    pbar.set_description(progress)\n",
    "\n",
    "    X_tr[new_cat_features] = X_tr[new_cat_features].astype('category')\n",
    "    X_te[new_cat_features] = X_te[new_cat_features].astype('category')\n",
    "    \n",
    "    models_kf = []\n",
    "    # pbar2 = tqdm(kf.split(X_tr),total=5)\n",
    "    for train_idx, valid_idx in kf.split(X_tr):\n",
    "    \n",
    "        X_tr_kf = X_tr.iloc[train_idx,:]\n",
    "        X_va_kf = X_tr.iloc[valid_idx,:]\n",
    "        y_tr_kf = y_tr.iloc[train_idx]\n",
    "        y_va_kf = y_tr.iloc[valid_idx]\n",
    "\n",
    "        # iterations default=1,000\n",
    "        model = lgb.LGBMRegressor(**params)\n",
    "        model.fit(\n",
    "            X_tr_kf.drop([segment_features,'id'],axis=1),\n",
    "            y_tr_kf,\n",
    "            eval_set=[(\n",
    "                X_va_kf.drop([segment_features,'id'],axis=1),\n",
    "                y_va_kf\n",
    "            )],\n",
    "            eval_metric='MAE',\n",
    "            early_stopping_rounds=50,\n",
    "            verbose=-1,\n",
    "        )\n",
    "\n",
    "        # save\n",
    "        models_kf.append(model)\n",
    "        #model.save_model(f'../MDL/{now_date}/catboost_{segment_x}.cbm')\n",
    "    \n",
    "    X_tr['pred'] = np.mean(\n",
    "        np.array([model.predict(X_tr.drop([segment_features,'id'],axis=1)) for model in models_kf]),\n",
    "        axis=0\n",
    "    )\n",
    "    X_te['pred'] = np.mean(\n",
    "        np.array([model.predict(X_te.drop([segment_features,'id'],axis=1)) for model in models_kf]),\n",
    "        axis=0\n",
    "    )\n",
    "\n",
    "    # inverse transformation\n",
    "    X_tr['pred'] = inverse_transformation(X_tr['pred'],offset=offset,method=transform_method)\n",
    "    X_te['pred'] = inverse_transformation(X_te['pred'],offset=offset,method=transform_method)\n",
    "\n",
    "    y_tr = inverse_transformation(y_tr,offset=offset,method=transform_method)\n",
    "\n",
    "    train_fn.append(pd.concat([X_tr[['id',segment_features,'pred']],y_tr],axis=1))\n",
    "    test_fn .append(X_te[['id',segment_features,'pred']])\n",
    "    \n",
    "    mae = mean_absolute_error(y_true=y_tr,y_pred=X_tr['pred'])\n",
    "    print(f'MAE : {mae:.4f}')"
   ]
  },
  {
   "cell_type": "code",
   "execution_count": null,
   "id": "2a2942a8-44a3-4937-9c1a-99b3f4e2ef11",
   "metadata": {},
   "outputs": [],
   "source": [
    "train_fn = pd.concat(train_fn,axis=0)\n",
    "test_fn  = pd.concat(test_fn ,axis=0)"
   ]
  },
  {
   "cell_type": "code",
   "execution_count": null,
   "id": "4cf432ab-c251-43e5-99bc-10455a5e0003",
   "metadata": {},
   "outputs": [],
   "source": [
    "from sklearn.metrics import mean_absolute_error\n",
    "\n",
    "mean_absolute_error(y_true=train_fn['target'],y_pred=train_fn['pred'])"
   ]
  },
  {
   "cell_type": "code",
   "execution_count": null,
   "id": "da9a9943-c5d1-48f4-a6db-6663deae4c1b",
   "metadata": {},
   "outputs": [],
   "source": [
    "plt.figure(figsize=(15,7))\n",
    "sns.scatterplot(train_fn['target'],train_fn['pred'],alpha=0.5)\n",
    "plt.xlabel('true')\n",
    "plt.ylabel('prediction')\n",
    "abline(slope=1,intercept=0,color='red')\n",
    "plt.show()"
   ]
  },
  {
   "cell_type": "code",
   "execution_count": null,
   "id": "0ba36b16-f082-4705-ada5-0dd7f1412632",
   "metadata": {},
   "outputs": [],
   "source": [
    "# iter=0\n",
    "# for seg in segment:\n",
    "#     iter+=1\n",
    "#     print(f'\\n({iter}/{train_fn.segment.nunique()}) {seg}')\n",
    "    \n",
    "#     tmp = train_fn[train_fn.segment==seg]\n",
    "#     mae = mean_absolute_error(y_true=tmp['target'],y_pred=tmp['pred'])\n",
    "\n",
    "#     plt.figure(figsize=(15,7))\n",
    "#     sns.scatterplot(tmp['target'],tmp['pred'],alpha=0.5)\n",
    "#     plt.xlabel('true')\n",
    "#     plt.ylabel('prediction')\n",
    "#     plt.title(f'MAE : {mae:.4f}')\n",
    "#     abline(slope=1,intercept=0,color='red')\n",
    "#     plt.show()"
   ]
  },
  {
   "cell_type": "code",
   "execution_count": null,
   "id": "14d5c482-ad8c-4949-97cc-665e51038887",
   "metadata": {},
   "outputs": [],
   "source": [
    "submission = test_fn[['id','pred']].rename(columns={'pred':'target'}).sort_values('id')\n",
    "submission.to_csv(f'../OUT/submission_{now_date}.csv',index=False)"
   ]
  },
  {
   "cell_type": "code",
   "execution_count": null,
   "id": "d6f5400f-e6be-4afd-9d37-fddb64498d17",
   "metadata": {},
   "outputs": [],
   "source": [
    "train_df6['pred_cat_kf'] = train_fn['pred']\n",
    "test_df6 ['pred_cat_kf'] = test_fn ['pred']"
   ]
  },
  {
   "cell_type": "code",
   "execution_count": null,
   "id": "b70c54ff-0910-45c5-9786-56d3319f7bf7",
   "metadata": {},
   "outputs": [],
   "source": [
    "train_df6.to_parquet(f'../OUT/train_df6_lgb_kf_{now_date}.parquet')\n",
    "test_df6 .to_parquet(f'../OUT/test_df6_lgb_kf_{now_date}.parquet')"
   ]
  },
  {
   "cell_type": "markdown",
   "id": "1b453954-9d34-4026-8a62-4398dba02633",
   "metadata": {},
   "source": [
    "<br>\n",
    "\n",
    "## Ensemble"
   ]
  },
  {
   "cell_type": "code",
   "execution_count": null,
   "id": "729fafce-ea06-4e1a-b838-3546e7fcfd3c",
   "metadata": {},
   "outputs": [],
   "source": [
    "# train_df3 = pd.read_parquet(f'../OUT/train_df3_{now_date}.parquet')\n",
    "# test_df3  = pd.read_parquet(f'../OUT/test_df3_{now_date}.parquet')"
   ]
  },
  {
   "cell_type": "code",
   "execution_count": null,
   "id": "80b4102c-7b9b-49c3-80aa-7d134afa0ba3",
   "metadata": {},
   "outputs": [],
   "source": [
    "pred_cols = ['pred_lgb','pred_cat']\n",
    "train_df6['pred_ensemble'] = (train_df6['pred_lgb']+train_df6['pred_cat'])/2\n",
    "test_df6 ['pred_ensemble'] = (test_df6 ['pred_lgb']+test_df6 ['pred_cat'])/2\n",
    "\n",
    "# pred_cols = ['pred_lgb','pred_cat','pred_cat_kf']\n",
    "# train_df5['pred_ensemble'] = (train_df5['pred_lgb']+train_df5['pred_cat']+train_df5['pred_cat_kf'])/3\n",
    "# test_df5 ['pred_ensemble'] = (test_df5 ['pred_lgb']+test_df5 ['pred_cat']+test_df5 ['pred_cat_kf'])/3"
   ]
  },
  {
   "cell_type": "code",
   "execution_count": null,
   "id": "4a46a971-a36e-4902-a865-954088922eed",
   "metadata": {},
   "outputs": [],
   "source": [
    "# ['pred_lr','pred_lgb','pred_cat','pred_cat_kf','pred_ensemble']\n",
    "for col in ['pred_lgb','pred_cat','pred_ensemble']:\n",
    "    tmp = train_df6[~train_df6['pred_ensemble'].isnull()]\n",
    "    print(f'{col} MAE : {mean_absolute_error(y_true=tmp.target,y_pred=tmp[col]):.4f}')"
   ]
  },
  {
   "cell_type": "code",
   "execution_count": null,
   "id": "35de4510-f414-4299-8057-15d1c71f76fc",
   "metadata": {},
   "outputs": [],
   "source": [
    "train_df6[[col for col in train_df6.columns if col.find('pred_')>=0]].corr()"
   ]
  },
  {
   "cell_type": "code",
   "execution_count": null,
   "id": "fd8b191b-af83-43e0-a65c-d766d9ff5d6f",
   "metadata": {},
   "outputs": [],
   "source": [
    "train_df6.to_parquet(f'../OUT/train_df6_{now_date}.parquet')\n",
    "test_df6 .to_parquet(f'../OUT/test_df6_{now_date}.parquet')"
   ]
  },
  {
   "cell_type": "markdown",
   "id": "e2ac35bc-36d6-4ccd-9ac4-ab739206cb66",
   "metadata": {},
   "source": [
    "<br>\n",
    "\n",
    "## Stacking"
   ]
  },
  {
   "cell_type": "code",
   "execution_count": null,
   "id": "4fbb9e05-37b4-4e0f-8670-668d06fe46a6",
   "metadata": {},
   "outputs": [],
   "source": [
    "from sklearn.linear_model import LinearRegression\n",
    "meta_learner = LinearRegression()"
   ]
  },
  {
   "cell_type": "code",
   "execution_count": null,
   "id": "c733dccc-99d8-428f-bd7a-97d27fadaca7",
   "metadata": {},
   "outputs": [],
   "source": [
    "X_train = train_df6.drop(['target','base_date']+del_features+['pred_ensemble'],axis=1)\n",
    "y_train = train_df6.target\n",
    "\n",
    "X_test  = test_df6 .drop(['base_date']+del_features+['pred_ensemble'],axis=1)"
   ]
  },
  {
   "cell_type": "code",
   "execution_count": null,
   "id": "7be2f285-3e41-4685-b828-c2cebbd12f0d",
   "metadata": {},
   "outputs": [],
   "source": [
    "%%time\n",
    "\n",
    "tmp = pd.concat([\n",
    "    X_train.assign(group='train'),\n",
    "    X_test .assign(group='test'),\n",
    "],axis=0)\n",
    "\n",
    "tmp = pd.get_dummies(tmp, columns=new_cat_features)\n",
    "\n",
    "X_train_oh = tmp[tmp['group']=='train'].drop('group',axis=1)\n",
    "X_test_oh  = tmp[tmp['group']=='test' ].drop('group',axis=1)"
   ]
  },
  {
   "cell_type": "code",
   "execution_count": null,
   "id": "26add44a-38eb-434f-9dab-a94e3437c526",
   "metadata": {},
   "outputs": [],
   "source": [
    "# train에만 있는 segment length, test에만 있는 segment length 확인\n",
    "tr_segment = X_train_oh[segment_features].value_counts().sort_values(ascending=False).index\n",
    "te_segment = X_test_oh [segment_features].value_counts().index\n",
    "segment    = [seg for seg in tr_segment if seg in te_segment]\n",
    "\n",
    "len(list(set(tr_segment)-set(te_segment))),len(list(set(te_segment)-set(tr_segment)))"
   ]
  },
  {
   "cell_type": "code",
   "execution_count": null,
   "id": "d5a8cc2a-c306-47b0-a5f9-8cbecf978a6d",
   "metadata": {
    "tags": []
   },
   "outputs": [],
   "source": [
    "%%time\n",
    "\n",
    "from sklearn.linear_model import LinearRegression\n",
    "import pickle\n",
    "\n",
    "tr_segment = X_train_oh[segment_features].value_counts().sort_values(ascending=False).index\n",
    "te_segment = X_test_oh [segment_features].value_counts().index\n",
    "segment    = [seg for seg in tr_segment if seg in te_segment]\n",
    "\n",
    "# now_date = str(datetime.datetime.now()).replace(' ','').replace('-','').replace(':','').replace('.','')[:14]\n",
    "now_date = str(datetime.datetime.now())\n",
    "now_date = now_date[:now_date.find('.')]\n",
    "# createFolder(f'../MDL/{now_date}/')\n",
    "print(now_date)\n",
    "\n",
    "meta_learners = []\n",
    "train_fn = []\n",
    "test_fn = []\n",
    "iter = 0\n",
    "\n",
    "pbar = tqdm(segment)\n",
    "for segment_x in pbar:\n",
    "    iter += 1\n",
    "\n",
    "    X_tr = X_train_oh[X_train_oh[segment_features]==segment_x]\n",
    "    X_te = X_test_oh [X_test_oh[segment_features]==segment_x]\n",
    "    \n",
    "    y_tr = y_train[X_train_oh[segment_features]==segment_x]\n",
    "    y_tr = transformation(y_tr,offset=offset,method=transform_method)\n",
    "    \n",
    "    scalers = {}\n",
    "    for col in new_num_features:\n",
    "        scaler = scaling_method()\n",
    "        scalers[col] = scaler\n",
    "        \n",
    "        X_tr[col] = scaler.fit_transform(np.array(X_tr[col]).reshape(-1,1))\n",
    "        X_te[col] = scaler.transform(np.array(X_te[col]).reshape(-1,1))\n",
    "    \n",
    "    progress = f'{segment_x} : {X_tr.shape[0]:,}/{X_train_oh.shape[0]:,}({X_tr.shape[0]/X_train_oh.shape[0]*100:.2f}%)'\n",
    "    pbar.set_description(progress)\n",
    "\n",
    "    meta_learner.fit(X_tr.drop([segment_features,'id'],axis=1),y_tr)\n",
    "\n",
    "    # save (https://stackoverflow.com/questions/64320741/linearregression-object-has-no-attribute-save)\n",
    "    meta_learners.append(meta_learner)\n",
    "    # pickle.dump(model, open(f'../MDL/{now_date}/lr_{segment_x}.sav', 'wb'))\n",
    "\n",
    "    X_tr['pred'] = meta_learner.predict(X_tr.drop([segment_features,'id'],axis=1))\n",
    "    X_te['pred'] = meta_learner.predict(X_te.drop([segment_features,'id'],axis=1))\n",
    "\n",
    "    # inverse transformation\n",
    "    X_tr['pred'] = inverse_transformation(X_tr['pred'],offset=offset,method=transform_method)\n",
    "    X_te['pred'] = inverse_transformation(X_te['pred'],offset=offset,method=transform_method)\n",
    "    \n",
    "    y_tr = inverse_transformation(y_tr,offset=offset,method=transform_method)\n",
    "\n",
    "    train_fn.append(pd.concat([X_tr[['id',segment_features,'pred']],y_tr],axis=1))\n",
    "    test_fn .append(X_te[['id',segment_features,'pred']])"
   ]
  },
  {
   "cell_type": "code",
   "execution_count": null,
   "id": "c27205ff-0b1f-46ef-8f38-f09026f1347c",
   "metadata": {},
   "outputs": [],
   "source": [
    "train_fn = pd.concat(train_fn,axis=0)\n",
    "test_fn  = pd.concat(test_fn ,axis=0)"
   ]
  },
  {
   "cell_type": "code",
   "execution_count": null,
   "id": "1d5b0aa6-7bf7-42d3-9181-0a65d3fce041",
   "metadata": {},
   "outputs": [],
   "source": [
    "from sklearn.metrics import mean_absolute_error\n",
    "\n",
    "mean_absolute_error(y_true=train_fn['target'],y_pred=train_fn['pred'])"
   ]
  },
  {
   "cell_type": "code",
   "execution_count": null,
   "id": "7641f950-e5c5-4e2c-b1c5-def17a7dba46",
   "metadata": {},
   "outputs": [],
   "source": [
    "plt.figure(figsize=(15,7))\n",
    "sns.scatterplot(train_fn['target'],train_fn['pred'],alpha=0.5)\n",
    "plt.xlabel('true')\n",
    "plt.ylabel('prediction')\n",
    "abline(slope=1,intercept=0,color='red')\n",
    "plt.show()"
   ]
  },
  {
   "cell_type": "code",
   "execution_count": null,
   "id": "d1752acb-ebf4-49b5-856f-c78b9baa4162",
   "metadata": {},
   "outputs": [],
   "source": [
    "# iter=0\n",
    "# for seg in segment:\n",
    "#     iter+=1\n",
    "#     print(f'\\n({iter}/{train_fn.segment.nunique()}) {seg}')\n",
    "    \n",
    "#     tmp = train_fn[train_fn.segment==seg]\n",
    "\n",
    "#     plt.figure(figsize=(15,7))\n",
    "#     sns.scatterplot(tmp['target'],tmp['pred'],alpha=0.5)\n",
    "#     plt.xlabel('true')\n",
    "#     plt.ylabel('prediction')\n",
    "#     abline(slope=1,intercept=0,color='red')\n",
    "#     plt.show()"
   ]
  },
  {
   "cell_type": "code",
   "execution_count": null,
   "id": "48134f25-ef98-4077-babc-c06637c54838",
   "metadata": {},
   "outputs": [],
   "source": [
    "train_df6['pred_stacking'] = train_fn['pred']\n",
    "test_df6 ['pred_stacking'] = test_fn ['pred']"
   ]
  },
  {
   "cell_type": "code",
   "execution_count": null,
   "id": "b12f3770-19e9-4488-bfcd-0620c8d055c5",
   "metadata": {},
   "outputs": [],
   "source": [
    "train_df6.to_parquet(f'../OUT/train_df6_{now_date}.parquet')\n",
    "test_df6 .to_parquet(f'../OUT/test_df6_{now_date}.parquet')"
   ]
  },
  {
   "cell_type": "code",
   "execution_count": null,
   "id": "46270818-e914-4f2a-867a-a273a6c22d0d",
   "metadata": {},
   "outputs": [],
   "source": [
    "# ['pred_lr','pred_lgb','pred_cat','pred_cat_kf','pred_ensemble','pred_stacking']\n",
    "for col in ['pred_lr','pred_lgb','pred_cat','pred_ensemble','pred_stacking']:\n",
    "    tmp = train_df5[~train_df5['pred_lr'].isnull()]\n",
    "    print(f'{col} MAE : {mean_absolute_error(y_true=tmp.target,y_pred=tmp[col]):.4f}')"
   ]
  },
  {
   "cell_type": "code",
   "execution_count": null,
   "id": "9152c530-ed13-40c1-bf88-d065cd5f75a8",
   "metadata": {},
   "outputs": [],
   "source": [
    "final_model = ['ensemble','stacking'][1]\n",
    "\n",
    "submission = test_df6\\\n",
    "    [['id',f'pred_{final_model}']]\\\n",
    "    .rename(columns={f'pred_{final_model}':'target'})\\\n",
    "    .sort_values('id')\n",
    "submission.to_csv(f'../OUT/submission_{now_date}_{final_model}.csv',index=False)"
   ]
  },
  {
   "cell_type": "code",
   "execution_count": null,
   "id": "866c9d7c-1f1e-4861-ba17-b259e22d519e",
   "metadata": {},
   "outputs": [],
   "source": [
    "submission.head()"
   ]
  },
  {
   "cell_type": "markdown",
   "id": "c72552f5-f9da-4727-b2d6-3de046c0045f",
   "metadata": {},
   "source": [
    "<br></br>"
   ]
  },
  {
   "cell_type": "code",
   "execution_count": null,
   "id": "bdc9465e-38e1-4043-ad0b-c670020ab36c",
   "metadata": {},
   "outputs": [],
   "source": [
    "end_time = datetime.datetime.now()\n",
    "run_time = end_time-start_time\n",
    "\n",
    "print('='*45)\n",
    "print(f'> start time : {start_time}')\n",
    "print(f'>   end time : {end_time}')\n",
    "print(f'>   run time : {run_time:}')\n",
    "print('='*45)"
   ]
  }
 ],
 "metadata": {
  "kernelspec": {
   "display_name": "Python 3 (ipykernel)",
   "language": "python",
   "name": "python3"
  },
  "language_info": {
   "codemirror_mode": {
    "name": "ipython",
    "version": 3
   },
   "file_extension": ".py",
   "mimetype": "text/x-python",
   "name": "python",
   "nbconvert_exporter": "python",
   "pygments_lexer": "ipython3",
   "version": "3.8.10"
  },
  "toc-autonumbering": true,
  "toc-showtags": false
 },
 "nbformat": 4,
 "nbformat_minor": 5
}
