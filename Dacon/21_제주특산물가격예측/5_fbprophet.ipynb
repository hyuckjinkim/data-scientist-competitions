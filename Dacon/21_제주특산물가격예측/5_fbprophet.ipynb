{
 "cells": [
  {
   "cell_type": "markdown",
   "id": "2e38c1be-bdcd-4886-9aa1-6ccbfd03bcaf",
   "metadata": {},
   "source": [
    "- with classification\n",
    "    - classification으로 1,0 구분하는거랑 regression 둘다 만들어두고,\n",
    "    - classification=1인 경우에 regression 결과값, classification=0인 경우에 0 넣는 방법"
   ]
  },
  {
   "cell_type": "markdown",
   "id": "e36e9755-ca8e-45ff-b141-5d4904a8b89b",
   "metadata": {},
   "source": [
    "# Library Setting"
   ]
  },
  {
   "cell_type": "code",
   "execution_count": 1,
   "id": "aa885f84-e58f-410d-989f-3b43ebc24651",
   "metadata": {},
   "outputs": [],
   "source": [
    "# import torch\n",
    "# from tabpfn import TabPFNClassifier"
   ]
  },
  {
   "cell_type": "code",
   "execution_count": null,
   "id": "0f5bb57d-75e8-4ec0-8c0e-12f6963b5a09",
   "metadata": {},
   "outputs": [],
   "source": [
    "import sys\n",
    "sys.path.append('/Volumes/KHJ/Github/hyuckjinkim/lib-python')\n",
    "\n",
    "from base import gc_collect_all, setdiff\n",
    "from filesystem_utils import mkdir\n",
    "from graph import abline\n",
    "from data_prepare import (\n",
    "    get_holiday, reduce_mem_usage, delete_unique_columns,\n",
    "    TypeController, CategoricalQuantileCalculator,\n",
    "    GroupScaler, OneHotEncoder, InteractionTerm, TargetTransform,\n",
    ")"
   ]
  },
  {
   "cell_type": "code",
   "execution_count": null,
   "id": "ad320f6e-d7d5-4a8a-a7fb-6c2633a4b8ce",
   "metadata": {},
   "outputs": [],
   "source": [
    "gc_collect_all()"
   ]
  },
  {
   "cell_type": "code",
   "execution_count": null,
   "id": "fb11f8bf-5198-41d1-8606-04db83fafade",
   "metadata": {},
   "outputs": [],
   "source": [
    "import warnings\n",
    "warnings.filterwarnings(\"ignore\", category=FutureWarning)\n",
    "\n",
    "from tqdm import tqdm\n",
    "tqdm.pandas()\n",
    "\n",
    "import numpy as np\n",
    "import pandas as pd\n",
    "pd.set_option('display.max_rows', None)\n",
    "pd.set_option('display.max_columns', None)\n",
    "pd.set_option('mode.chained_assignment', None)\n",
    "\n",
    "import datetime\n",
    "\n",
    "import seaborn as sns\n",
    "import matplotlib.pyplot as plt\n",
    "from matplotlib import rc\n",
    "rc('font', family='AppleGothic')\n",
    "plt.rcParams['axes.unicode_minus'] = False"
   ]
  },
  {
   "cell_type": "code",
   "execution_count": null,
   "id": "ef5efdd0-feda-48ac-b18c-f31fa2013de1",
   "metadata": {},
   "outputs": [],
   "source": [
    "def return_unique_columns(data):\n",
    "    unique_info = data.nunique()\n",
    "    unique_cols = unique_info[unique_info==1].index.tolist()\n",
    "    return unique_cols"
   ]
  },
  {
   "cell_type": "code",
   "execution_count": null,
   "id": "cf50e9a9-4856-4b8e-a886-2677c08cce6e",
   "metadata": {},
   "outputs": [],
   "source": [
    "class CFG:\n",
    "    SEED = 42\n",
    "    TARGET = 'price(원/kg)'\n",
    "    KEY_FEATURES = ['item','corporation','location']"
   ]
  },
  {
   "cell_type": "markdown",
   "id": "3609a7ba-9aab-4211-9bd6-8a41b6301aeb",
   "metadata": {},
   "source": [
    "<br></br>"
   ]
  },
  {
   "cell_type": "markdown",
   "id": "a9d4e5dd-00c0-4d73-87c1-9dcdd8e4349e",
   "metadata": {},
   "source": [
    "# Data"
   ]
  },
  {
   "cell_type": "markdown",
   "id": "8d348f97-cdf9-42d1-ad71-a665a75ab1f8",
   "metadata": {},
   "source": [
    "## Data Load"
   ]
  },
  {
   "cell_type": "code",
   "execution_count": null,
   "id": "16c637e2-5772-4a5e-977e-4daa3fe2788b",
   "metadata": {},
   "outputs": [],
   "source": [
    "# item:\n",
    "#     TG : 감귤\n",
    "#     BC : 브로콜리\n",
    "#     RD : 무\n",
    "#     CR : 당근\n",
    "#     CB : 양배추"
   ]
  },
  {
   "cell_type": "code",
   "execution_count": null,
   "id": "070ef001-f583-4bcb-bb63-9fe8ad36dc24",
   "metadata": {},
   "outputs": [],
   "source": [
    "train_df = pd.read_csv('./data/train.csv')\n",
    "test_df  = pd.read_csv('./data/test.csv')\n",
    "trade_df = pd.read_csv('./data/international_trade.csv')"
   ]
  },
  {
   "cell_type": "code",
   "execution_count": null,
   "id": "33ec495d-fb36-42d2-b57d-415e8d0f30e5",
   "metadata": {},
   "outputs": [],
   "source": [
    "print(train_df.shape)\n",
    "train_df.head()"
   ]
  },
  {
   "cell_type": "code",
   "execution_count": null,
   "id": "4cfc4dd7-2cb0-43fd-9045-753c97a956e2",
   "metadata": {},
   "outputs": [],
   "source": [
    "print(test_df.shape)\n",
    "test_df.head()"
   ]
  },
  {
   "cell_type": "code",
   "execution_count": null,
   "id": "90223e7b-b781-4b23-acb2-6dd042050905",
   "metadata": {},
   "outputs": [],
   "source": [
    "print(trade_df.shape)\n",
    "trade_df.head()"
   ]
  },
  {
   "cell_type": "markdown",
   "id": "bd896a8d-fa76-43ea-8031-7f381a50deff",
   "metadata": {},
   "source": [
    "<br>"
   ]
  },
  {
   "cell_type": "markdown",
   "id": "61b1afe8-8728-4007-994f-7867ee1c19c2",
   "metadata": {},
   "source": [
    "## Preprocessing"
   ]
  },
  {
   "cell_type": "code",
   "execution_count": null,
   "id": "1eed9591-de35-49f0-bcfb-251b0f2d2c47",
   "metadata": {},
   "outputs": [],
   "source": [
    "def add_week(weekend):\n",
    "    week = 1\n",
    "    week_list = []\n",
    "    for weekend in weekend:\n",
    "        if weekend==1:\n",
    "            week+=1\n",
    "        week_list.append(week)\n",
    "    return week_list"
   ]
  },
  {
   "cell_type": "code",
   "execution_count": null,
   "id": "97cecd1c-95ae-4204-87eb-e5964147481a",
   "metadata": {},
   "outputs": [],
   "source": [
    "def preprocessing(data):\n",
    "    d = data.copy()\n",
    "    \n",
    "    d = d.sort_values(CFG.KEY_FEATURES).reset_index(drop=True)\n",
    "    \n",
    "    # (1) datetime format\n",
    "    d['timestamp'] = d['timestamp'].apply(lambda x: datetime.datetime.strptime(x,'%Y-%m-%d'))\n",
    "    \n",
    "    # (2) delete unuse features\n",
    "    unuse_features = ['ID','supply(kg)']\n",
    "    unuse_features = list(set(d.columns)&set(unuse_features))\n",
    "    d.drop(unuse_features,axis=1,inplace=True)\n",
    "\n",
    "    return d"
   ]
  },
  {
   "cell_type": "code",
   "execution_count": null,
   "id": "a27be667-2778-4549-8a85-7d0185c84046",
   "metadata": {},
   "outputs": [],
   "source": [
    "def merge_trade_data(data,trade_data):\n",
    "    d, td = data.copy(), trade_data.copy()\n",
    "    \n",
    "    ### trade data preprocessing\n",
    "    \n",
    "    # # (1) 흑자여부\n",
    "    td.drop('무역수지',axis=1,inplace=True)\n",
    "\n",
    "    # (2) 품목명 수정 및 필요없는 품목 정보 제거\n",
    "    replace_dict = {\n",
    "        '감귤': 'TG',\n",
    "        '꽃양배추와 브로콜리(broccoli)': 'BC',\n",
    "        '당근': 'CR',\n",
    "        '순무': 'RD',\n",
    "        '양배추': 'CB',\n",
    "    }\n",
    "    td['품목명'] = td['품목명'].map(replace_dict)\n",
    "    td.dropna(subset=['품목명'], inplace=True)\n",
    "    \n",
    "    ### merge data\n",
    "    d['기간'] = [str(t)[:7] for t in d['timestamp']]\n",
    "    merged = pd.merge(d,td.rename(columns={'품목명':'item'}),how='left',on=['기간','item'])\n",
    "    merged.drop('기간',axis=1,inplace=True)\n",
    "    \n",
    "    # 2023년 3월 데이터는 trade 데이터에 없으므로 가장 최근의 값으로 채워줌\n",
    "    merged.ffill(inplace=True)\n",
    "    \n",
    "    return merged"
   ]
  },
  {
   "cell_type": "code",
   "execution_count": null,
   "id": "8a74eaed-7f6e-4455-b793-8223b2398455",
   "metadata": {},
   "outputs": [],
   "source": [
    "def feature_engineering(data):\n",
    "    d = data.copy()\n",
    "    \n",
    "    # (1) date columns\n",
    "    d['year']       = d.timestamp.dt.year\n",
    "    d['month']      = d.timestamp.dt.month\n",
    "    d['day']        = d.timestamp.dt.day\n",
    "    d['weekday']    = d.timestamp.dt.weekday\n",
    "    d['weekend']    = d.timestamp.dt.weekday.isin([5,6]).astype(int)\n",
    "    d['week']       = add_week(d['weekend'])\n",
    "\n",
    "    # (2) is holiday & is dayoff\n",
    "    holiday_list = get_holiday(d['year'].unique())\n",
    "    d['is_holiday'] = d.timestamp.isin(holiday_list).astype(int)\n",
    "    d['is_dayoff']  = ((d.is_holiday==1) | (d.weekend==1)).astype(int)\n",
    "    \n",
    "    # (3) 무역수지, 흑자여부 추가\n",
    "    d['무역수지'] = d['수출 금액'] - d['수입 금액']\n",
    "    d['흑자여부'] = np.where(d['무역수지']>0,1,0)\n",
    "    \n",
    "    return d"
   ]
  },
  {
   "cell_type": "code",
   "execution_count": null,
   "id": "16dda589-cc3a-4846-a6ab-f549a712224c",
   "metadata": {},
   "outputs": [],
   "source": [
    "# from copy import deepcopy\n",
    "# from sklearn.experimental import enable_iterative_imputer\n",
    "# from sklearn.impute import SimpleImputer, IterativeImputer\n",
    "\n",
    "# def imputation(train_data,test_data,method):\n",
    "#     if method in ['mean','median']:\n",
    "#         base_imputer = SimpleImputer(missing_values=np.nan, strategy=method)\n",
    "#     elif method=='mice':\n",
    "#         base_imputer = IterativeImputer(random_state=CFG.SEED)\n",
    "#     else:\n",
    "#         raise ValueError(f\"Unknown method={method}\")\n",
    "    \n",
    "#     numerical_cols = train_data.select_dtypes(include=[int,float]).columns.tolist()\n",
    "#     numerical_cols = list(set(numerical_cols)-set([CFG.TARGET]))\n",
    "    \n",
    "#     train_list = []\n",
    "#     test_list = []\n",
    "#     for (item,corporation,location),tr in tqdm(train_data.groupby(['item','corporation','location'])):\n",
    "#         te = test_data[(test_data['item']==item) & (test_data['corporation']==corporation) & (test_data['location']==location)]\n",
    "#         imputer = deepcopy(base_imputer)\n",
    "#         tr[numerical_cols] = imputer.fit_transform(tr[numerical_cols])\n",
    "#         train_list.append(tr)\n",
    "#         if len(te)>0:\n",
    "#             te[numerical_cols] = imputer.transform(te[numerical_cols])\n",
    "#             test_list.append(te)\n",
    "        \n",
    "#     new_train = pd.concat(train_list,axis=0)\n",
    "#     new_test = pd.concat(test_list,axis=0)\n",
    "    \n",
    "#     return new_train.sort_index(), new_test.sort_index()"
   ]
  },
  {
   "cell_type": "code",
   "execution_count": null,
   "id": "221f73e5-4b0b-4e9a-b010-dc3526286a16",
   "metadata": {},
   "outputs": [],
   "source": [
    "train_df = preprocessing(train_df)\n",
    "train_df = merge_trade_data(train_df, trade_df)\n",
    "train_df = feature_engineering(train_df)\n",
    "\n",
    "test_df = preprocessing(test_df)\n",
    "test_df = merge_trade_data(test_df, trade_df)\n",
    "test_df = feature_engineering(test_df)"
   ]
  },
  {
   "cell_type": "code",
   "execution_count": null,
   "id": "827e5466-e357-4cd4-aaba-4ca0eccddc81",
   "metadata": {},
   "outputs": [],
   "source": [
    "train_df.head()"
   ]
  },
  {
   "cell_type": "markdown",
   "id": "bcfaffd9-ccb9-46a4-8a97-c9fbc5d41555",
   "metadata": {},
   "source": [
    "<br></br>"
   ]
  },
  {
   "cell_type": "markdown",
   "id": "a1670f91-51ce-45ad-9692-94199af90491",
   "metadata": {},
   "source": [
    "# EDA"
   ]
  },
  {
   "cell_type": "code",
   "execution_count": null,
   "id": "d83f0461-779e-4a35-a739-0f32ba8efd83",
   "metadata": {},
   "outputs": [],
   "source": [
    "# (1) key별 건수\n",
    "train_df.groupby(CFG.KEY_FEATURES).size().head()"
   ]
  },
  {
   "cell_type": "code",
   "execution_count": null,
   "id": "9792e2d3-06e8-40f5-9158-d3f04258b146",
   "metadata": {},
   "outputs": [],
   "source": [
    "# (2) 품목/법인/지역에 따른 가격 히스토그램\n",
    "# train_df.groupby(CFG.KEY_FEATURES)[CFG.TARGET].agg(Min=np.min,Max=np.max)\n",
    "for i,(idx,d) in enumerate(train_df.groupby(CFG.KEY_FEATURES)):\n",
    "    if i<3:\n",
    "        target = d[CFG.TARGET]\n",
    "        target = target[target!=0]\n",
    "        \n",
    "        plt.figure(figsize=(15,7))\n",
    "        sns.histplot(target)\n",
    "        plt.grid()\n",
    "        plt.show()"
   ]
  },
  {
   "cell_type": "code",
   "execution_count": null,
   "id": "5bfe58c0-3fa8-43ef-96de-ea465460be63",
   "metadata": {},
   "outputs": [],
   "source": [
    "# (3) 품목/법인/지역에 따른 일별 가격변동\n",
    "grp_data = train_df.groupby(CFG.KEY_FEATURES)\n",
    "for i,(idx,d) in enumerate(grp_data):\n",
    "    if i<3:\n",
    "        plt.figure(figsize=(15,7))\n",
    "        sns.lineplot(x=d['timestamp'],y=d[CFG.TARGET],alpha=0.7)\n",
    "        if np.where(d[CFG.TARGET]==0,1,0).sum()>0:\n",
    "            x=d['timestamp'][d[CFG.TARGET]==0]\n",
    "            y=d[CFG.TARGET] [d[CFG.TARGET]==0]\n",
    "            sns.scatterplot(x=x,y=y,color='red',alpha=0.7)\n",
    "        plt.xticks(rotation=90)\n",
    "        plt.grid()\n",
    "        plt.title(f'[{i+1}/{len(grp_data)}] {idx}')\n",
    "        plt.show()"
   ]
  },
  {
   "cell_type": "code",
   "execution_count": null,
   "id": "3c617800-5d2f-4f9c-a737-8d44788f57eb",
   "metadata": {},
   "outputs": [],
   "source": [
    "for item,d in train_df.groupby('item'):\n",
    "    plt.figure(figsize=(15,7))\n",
    "    sns.scatterplot(x=d['timestamp'],y=d[CFG.TARGET],hue=d['corporation']+d['location'])\n",
    "    plt.grid()\n",
    "    plt.show()"
   ]
  },
  {
   "cell_type": "markdown",
   "id": "62635eb6-4fff-4933-871d-0a7b6864fe73",
   "metadata": {},
   "source": [
    "<br></br>"
   ]
  },
  {
   "cell_type": "markdown",
   "id": "e543911f-e4de-42e4-8942-ebf3eaddb6c4",
   "metadata": {},
   "source": [
    "# Modeling"
   ]
  },
  {
   "cell_type": "code",
   "execution_count": null,
   "id": "2e12c411-d28c-4f27-be66-2c6800ee9aa1",
   "metadata": {},
   "outputs": [],
   "source": [
    "mkdir('./mc')"
   ]
  },
  {
   "cell_type": "code",
   "execution_count": null,
   "id": "c2ed7e36-3069-46ae-acc7-8109cc2db344",
   "metadata": {},
   "outputs": [],
   "source": [
    "from sklearn.metrics import mean_squared_error, f1_score, accuracy_score\n",
    "from sklearn.model_selection import TimeSeriesSplit, train_test_split\n",
    "from catboost import CatBoostClassifier, Pool\n",
    "from prophet import Prophet\n",
    "import optuna"
   ]
  },
  {
   "cell_type": "code",
   "execution_count": null,
   "id": "f1d0e9ec-4d9c-4be3-b6fc-53bebecebd5e",
   "metadata": {},
   "outputs": [],
   "source": [
    "import logging\n",
    "logging.getLogger(\"prophet\").setLevel(logging.WARNING)\n",
    "logging.getLogger(\"cmdstanpy\").disabled=True"
   ]
  },
  {
   "cell_type": "code",
   "execution_count": null,
   "id": "6c880a33-4ed6-4c5c-be2f-66c6c4cc0670",
   "metadata": {},
   "outputs": [],
   "source": [
    "def get_seg_data(data,item,corporation,location,prophet_data):\n",
    "    d = data.copy()\n",
    "    d = d[(d['item']==item) & (d['corporation']==corporation) & (d['location']==location)]\n",
    "    if prophet_data:\n",
    "        if CFG.TARGET in d.columns:\n",
    "            d = d[['timestamp','is_holiday',CFG.TARGET]].rename(columns={'timestamp':'ds',CFG.TARGET:'y'})\n",
    "        else:\n",
    "            d = d[['timestamp','is_holiday']].rename(columns={'timestamp':'ds'})\n",
    "        #d['cap'] = d[CFG.TARGET].max()\n",
    "    else:\n",
    "        d.drop(['item','corporation','location'],axis=1,inplace=True)\n",
    "    return d"
   ]
  },
  {
   "cell_type": "code",
   "execution_count": null,
   "id": "5716eaab-149d-4ad2-860c-c867d71b35b4",
   "metadata": {},
   "outputs": [],
   "source": [
    "def get_holidays(train_data,test_data):\n",
    "    columns = ['ds','is_holiday']\n",
    "    data = pd.concat([train_data[columns],test_data[columns]],axis=0)\n",
    "    holidays = data[data.is_holiday==1][['ds']].reset_index(drop=True)\n",
    "    holidays = holidays.assign(holiday='KOR_Holidays')\n",
    "    return holidays"
   ]
  },
  {
   "cell_type": "code",
   "execution_count": null,
   "id": "dda88275-0f44-47b4-8975-c14349005b35",
   "metadata": {},
   "outputs": [],
   "source": [
    "train_df.head()"
   ]
  },
  {
   "cell_type": "code",
   "execution_count": null,
   "id": "e240f14d-22ca-434c-bb45-daf9a43289bc",
   "metadata": {},
   "outputs": [],
   "source": [
    "cls_model_params  = {\n",
    "    'random_state' : CFG.SEED,\n",
    "    'iterations' : 30000,\n",
    "    'early_stopping_rounds' : 300,\n",
    "    'learning_rate' : 0.01,\n",
    "    'eval_metric' : 'F1',\n",
    "    'grow_policy' : 'Lossguide',\n",
    "    'use_best_model' : True,\n",
    "    'allow_writing_files' : False,\n",
    "    'verbose' : 0,\n",
    "    'max_depth' : 9,\n",
    "    'l2_leaf_reg' : 1,\n",
    "}"
   ]
  },
  {
   "cell_type": "code",
   "execution_count": null,
   "id": "13b90f04-e537-42c0-86e2-2a0869c5c05c",
   "metadata": {},
   "outputs": [],
   "source": [
    "# (1) time series model\n",
    "tr_data = train_df[['timestamp','is_holiday',CFG.TARGET]].rename(columns={'timestamp':'ds',CFG.TARGET:'y'})\n",
    "te_data = test_df [['timestamp','is_holiday']].rename(columns={'timestamp':'ds',CFG.TARGET:'y'})\n",
    "holidays = get_holidays(tr_data,te_data)\n",
    "\n",
    "print('Prophet Fitting Start...')\n",
    "ts_model = Prophet(\n",
    "    # growth='linear',\n",
    "    # seasonality_mode='additive', # 'multiplicative'\n",
    "    # yearly_seasonality=True,\n",
    "    # weekly_seasonality=True,\n",
    "    # daily_seasonality=False,\n",
    "    holidays=holidays,\n",
    ")\n",
    "ts_model.add_country_holidays(country_name='KOR')\n",
    "ts_model.fit(tr_data.drop('is_holiday',axis=1))\n",
    "pred = ts_model.predict(te_data[['ds']])['yhat']\n",
    "print('Prophet Fitting End...')\n",
    "\n",
    "# (2) classification model\n",
    "tr_data = train_df.copy()\n",
    "te_data = test_df .copy()\n",
    "\n",
    "y = tr_data[CFG.TARGET]\n",
    "X      = tr_data.drop([CFG.TARGET,'timestamp'],axis=1)\n",
    "X_test = te_data.drop('timestamp',axis=1)\n",
    "\n",
    "is_y_zero = np.where(y==0,1,0)\n",
    "X_train, X_val, y_train, y_val = train_test_split(X,is_y_zero,\n",
    "                                                  test_size=0.2,shuffle=True,random_state=CFG.SEED,\n",
    "                                                  stratify=is_y_zero)\n",
    "train_dataset = Pool(X_train,y_train,cat_features=CFG.KEY_FEATURES)\n",
    "val_dataset   = Pool(X_val  ,y_val  ,cat_features=CFG.KEY_FEATURES)\n",
    "test_dataset  = Pool(X_test,cat_features=CFG.KEY_FEATURES)\n",
    "\n",
    "print('CatBoostClassifier Fitting Start...')\n",
    "cls_model = CatBoostClassifier(**cls_model_params)\n",
    "cls_model.fit(train_dataset,eval_set=val_dataset)\n",
    "print('CatBoostClassifier Fitting End...')\n",
    "\n",
    "f1 = f1_score(cls_model.predict(val_dataset),y_val)\n",
    "acc = accuracy_score(cls_model.predict(val_dataset),y_val)\n",
    "print('f1: {:.3f}, accuracy: {:.3f}'.format(f1,acc))\n",
    "\n",
    "is_zero = cls_model.predict(test_dataset)\n",
    "pred_fn = [0 if z==1 else p for p,z in zip(pred,is_zero)]\n",
    "\n",
    "plot_df = pd.DataFrame({\n",
    "    'ds' : tr_data['timestamp'].tolist() + te_data['timestamp'].tolist(),\n",
    "    'y' : tr_data[CFG.TARGET].tolist() + pred_fn,\n",
    "    'group' : ['train']*len(tr_data) + ['test']*len(pred_fn),\n",
    "},index=tr_data.index.tolist() + te_data.index.tolist())"
   ]
  },
  {
   "cell_type": "code",
   "execution_count": null,
   "id": "72d1ec31-38e6-4808-a4fd-a655ed7d7496",
   "metadata": {},
   "outputs": [],
   "source": [
    "plot_df[plot_df['group']=='test'].head()"
   ]
  },
  {
   "cell_type": "code",
   "execution_count": null,
   "id": "d2859a32-7427-4fce-aec7-381929b57334",
   "metadata": {},
   "outputs": [],
   "source": [
    "# ts_models = []\n",
    "# cls_models = []\n",
    "# plot_data = []\n",
    "# i=0\n",
    "\n",
    "# grps = train_df[CFG.KEY_FEATURES].drop_duplicates().values\n",
    "# pbar = tqdm(grps)\n",
    "# for item,corp,loc in pbar:\n",
    "#     i+=1\n",
    "#     str_i = str(i).zfill(len(str(len(grps))))\n",
    "#     progress = '[{}/{}] item:{}, corporation:{}, location:{}'.format(str_i,len(grps),item,corp,loc)\n",
    "#     pbar.set_description(progress)\n",
    "    \n",
    "#     # (1) time series model\n",
    "#     tr_data = get_seg_data(train_df,item,corp,loc,True)\n",
    "#     te_data = get_seg_data(test_df ,item,corp,loc,True)\n",
    "    \n",
    "#     holidays = get_holidays(tr_data,te_data)\n",
    "#     model = Prophet(\n",
    "#         # growth='linear',\n",
    "#         # seasonality_mode='additive', # 'multiplicative'\n",
    "#         # yearly_seasonality=True,\n",
    "#         # weekly_seasonality=True,\n",
    "#         # daily_seasonality=False,\n",
    "#         holidays=holidays,\n",
    "#     )\n",
    "#     model.add_country_holidays(country_name='KOR')\n",
    "#     model.fit(tr_data.drop('is_holiday',axis=1))\n",
    "#     pred = model.predict(te_data[['ds']])['yhat']\n",
    "#     ts_models.append(model)\n",
    "    \n",
    "#     # (2) classification model\n",
    "#     tr_data = get_seg_data(train_df,item,corp,loc,False)\n",
    "#     te_data = get_seg_data(test_df ,item,corp,loc,False)\n",
    "    \n",
    "#     y = tr_data[CFG.TARGET]\n",
    "#     X      = tr_data.drop([CFG.TARGET,'timestamp'],axis=1)\n",
    "#     X_test = te_data.drop('timestamp',axis=1)\n",
    "    \n",
    "#     is_y_zero = np.where(y==0,1,0)\n",
    "#     X_train, X_val, y_train, y_val = train_test_split(X,is_y_zero,test_size=0.2,shuffle=True,random_state=CFG.SEED,stratify=is_y_zero)\n",
    "#     train_dataset = Pool(X_train,y_train,cat_features=cat_features)\n",
    "#     val_dataset   = Pool(X_val  ,y_val  ,cat_features=cat_features)\n",
    "#     test_dataset  = Pool(X_test,cat_features=cat_features)\n",
    "#     cls_model = CatBoostClassifier(**cls_model_params)\n",
    "#     cls_model.fit(train_dataset,eval_set=val_dataset)\n",
    "#     cls_models.append(cls_model)\n",
    "    \n",
    "#     f1 = f1_score(cls_model.predict(val_dataset),y_val)\n",
    "#     acc = accuracy_score(cls_model.predict(val_dataset),y_val)\n",
    "#     print('f1: {:.3f}, accuracy: {:.3f}'.format(f1,acc))\n",
    "    \n",
    "#     is_zero = cls_model.predict(test_dataset)\n",
    "#     pred_fn = [0 if z==1 else p for p,z in zip(pred,is_zero)]\n",
    "    \n",
    "#     plot_df = pd.DataFrame({\n",
    "#         'ds' : tr_data['timestamp'].tolist() + te_data['timestamp'].tolist(),\n",
    "#         'y' : tr_data[CFG.TARGET].tolist() + pred_fn,\n",
    "#         'group' : ['train']*len(tr_data) + ['test']*len(pred_fn),\n",
    "#     },index=tr_data.index.tolist() + te_data.index.tolist())\n",
    "#     plot_data.append(plot_df)\n",
    "    \n",
    "#     plt.figure(figsize=(15,7))\n",
    "#     sns.lineplot(x=plot_df.ds,y=plot_df.y,hue=plot_df.group)\n",
    "#     sns.scatterplot(x=plot_df.ds,y=plot_df.y,hue=plot_df.group,legend=False)\n",
    "#     plt.grid()\n",
    "#     plt.show()"
   ]
  },
  {
   "cell_type": "code",
   "execution_count": null,
   "id": "938c54e9-9e7e-433a-9ed0-c5b9b191cf01",
   "metadata": {},
   "outputs": [],
   "source": [
    "# for model in cls_models:\n",
    "#     tmp = pd.DataFrame({\n",
    "#         'feature' : X.columns,\n",
    "#         'imp' : model.feature_importances_,\n",
    "#     }).sort_values('imp',ascending=False)\n",
    "#     display(tmp.head(2))"
   ]
  },
  {
   "cell_type": "code",
   "execution_count": null,
   "id": "5e195955-a96f-4537-b4ce-c4a4bf54c84b",
   "metadata": {},
   "outputs": [],
   "source": [
    "tmp = pd.concat(plot_data,axis=0)\n",
    "tmp = tmp[tmp['group']=='test']\n",
    "tmp = tmp.sort_index()\n",
    "tmp.head()"
   ]
  },
  {
   "cell_type": "code",
   "execution_count": null,
   "id": "21df8b31-e0df-448c-a2e4-8ca8cb691a22",
   "metadata": {},
   "outputs": [],
   "source": [
    "submit = pd.read_csv('./data/sample_submission.csv')\n",
    "submit['answer'] = tmp['y']\n",
    "submit.to_csv('./out/submit_seg_prophet_with_clsmodel_1.csv',index=False)\n",
    "submit.head()"
   ]
  },
  {
   "cell_type": "code",
   "execution_count": null,
   "id": "4c6159e7-6bdf-43b8-8675-1d66050297f0",
   "metadata": {},
   "outputs": [],
   "source": []
  }
 ],
 "metadata": {
  "kernelspec": {
   "display_name": "Python 3",
   "language": "python",
   "name": "python3"
  },
  "language_info": {
   "codemirror_mode": {
    "name": "ipython",
    "version": 3
   },
   "file_extension": ".py",
   "mimetype": "text/x-python",
   "name": "python",
   "nbconvert_exporter": "python",
   "pygments_lexer": "ipython3",
   "version": "3.8.10"
  },
  "toc-autonumbering": true
 },
 "nbformat": 4,
 "nbformat_minor": 5
}
