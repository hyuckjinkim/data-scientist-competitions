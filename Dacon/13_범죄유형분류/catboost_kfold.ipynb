{
 "cells": [
  {
   "cell_type": "markdown",
   "id": "6b987cd1-0680-4fb8-a482-f5567577e80f",
   "metadata": {},
   "source": [
    "# Library Setting"
   ]
  },
  {
   "cell_type": "code",
   "execution_count": 1,
   "id": "0eeab870-95ed-41a6-b815-1bdf2dee38fb",
   "metadata": {},
   "outputs": [],
   "source": [
    "from tqdm import tqdm\n",
    "tqdm.pandas()\n",
    "\n",
    "import numpy as np\n",
    "import pandas as pd\n",
    "pd.set_option('display.max_rows', None)\n",
    "pd.set_option('display.max_columns', None)\n",
    "\n",
    "import seaborn as sns\n",
    "import matplotlib.pyplot as plt\n",
    "from matplotlib import rc\n",
    "rc('font', family='AppleGothic')\n",
    "plt.rcParams['axes.unicode_minus'] = False"
   ]
  },
  {
   "cell_type": "markdown",
   "id": "756f2cfe-7bf1-4cc3-b7e3-90b0886eab54",
   "metadata": {},
   "source": [
    "<br></br>"
   ]
  },
  {
   "cell_type": "markdown",
   "id": "3afbf58b-29ed-4ab7-9a2c-f51c6b08c00a",
   "metadata": {},
   "source": [
    "# Data"
   ]
  },
  {
   "cell_type": "markdown",
   "id": "09d8ae59-c4c3-47f8-854a-6cfc780a2adc",
   "metadata": {},
   "source": [
    "## Data Load"
   ]
  },
  {
   "cell_type": "code",
   "execution_count": 2,
   "id": "3a824834-ad27-424a-8f55-7c4ca73eaab7",
   "metadata": {},
   "outputs": [],
   "source": [
    "train_df = pd.read_csv('./data/train.csv')\n",
    "test_df  = pd.read_csv('./data/test.csv')"
   ]
  },
  {
   "cell_type": "code",
   "execution_count": 3,
   "id": "da88a595-b068-4b4b-97a9-4e6bcf863305",
   "metadata": {},
   "outputs": [
    {
     "data": {
      "text/plain": [
       "((84406, 20), (17289, 19))"
      ]
     },
     "execution_count": 3,
     "metadata": {},
     "output_type": "execute_result"
    }
   ],
   "source": [
    "train_df.shape, test_df.shape"
   ]
  },
  {
   "cell_type": "code",
   "execution_count": 4,
   "id": "50d6f038-af80-42c0-a33e-e62dcd8bdfc3",
   "metadata": {},
   "outputs": [
    {
     "data": {
      "text/html": [
       "<div>\n",
       "<style scoped>\n",
       "    .dataframe tbody tr th:only-of-type {\n",
       "        vertical-align: middle;\n",
       "    }\n",
       "\n",
       "    .dataframe tbody tr th {\n",
       "        vertical-align: top;\n",
       "    }\n",
       "\n",
       "    .dataframe thead th {\n",
       "        text-align: right;\n",
       "    }\n",
       "</style>\n",
       "<table border=\"1\" class=\"dataframe\">\n",
       "  <thead>\n",
       "    <tr style=\"text-align: right;\">\n",
       "      <th></th>\n",
       "      <th>ID</th>\n",
       "      <th>월</th>\n",
       "      <th>요일</th>\n",
       "      <th>시간</th>\n",
       "      <th>소관경찰서</th>\n",
       "      <th>소관지역</th>\n",
       "      <th>사건발생거리</th>\n",
       "      <th>강수량(mm)</th>\n",
       "      <th>강설량(mm)</th>\n",
       "      <th>적설량(cm)</th>\n",
       "      <th>풍향</th>\n",
       "      <th>안개</th>\n",
       "      <th>짙은안개</th>\n",
       "      <th>번개</th>\n",
       "      <th>진눈깨비</th>\n",
       "      <th>서리</th>\n",
       "      <th>연기/연무</th>\n",
       "      <th>눈날림</th>\n",
       "      <th>범죄발생지</th>\n",
       "      <th>TARGET</th>\n",
       "    </tr>\n",
       "  </thead>\n",
       "  <tbody>\n",
       "    <tr>\n",
       "      <th>0</th>\n",
       "      <td>TRAIN_00000</td>\n",
       "      <td>9</td>\n",
       "      <td>화요일</td>\n",
       "      <td>10</td>\n",
       "      <td>137</td>\n",
       "      <td>8.0</td>\n",
       "      <td>2.611124</td>\n",
       "      <td>0.000</td>\n",
       "      <td>0.0</td>\n",
       "      <td>0.0</td>\n",
       "      <td>245.0</td>\n",
       "      <td>0.0</td>\n",
       "      <td>0.0</td>\n",
       "      <td>0.0</td>\n",
       "      <td>0.0</td>\n",
       "      <td>0.0</td>\n",
       "      <td>0.0</td>\n",
       "      <td>0.0</td>\n",
       "      <td>차도</td>\n",
       "      <td>2</td>\n",
       "    </tr>\n",
       "    <tr>\n",
       "      <th>1</th>\n",
       "      <td>TRAIN_00001</td>\n",
       "      <td>11</td>\n",
       "      <td>화요일</td>\n",
       "      <td>6</td>\n",
       "      <td>438</td>\n",
       "      <td>13.0</td>\n",
       "      <td>3.209093</td>\n",
       "      <td>0.000</td>\n",
       "      <td>0.0</td>\n",
       "      <td>0.0</td>\n",
       "      <td>200.0</td>\n",
       "      <td>0.0</td>\n",
       "      <td>0.0</td>\n",
       "      <td>0.0</td>\n",
       "      <td>0.0</td>\n",
       "      <td>0.0</td>\n",
       "      <td>0.0</td>\n",
       "      <td>0.0</td>\n",
       "      <td>차도</td>\n",
       "      <td>0</td>\n",
       "    </tr>\n",
       "    <tr>\n",
       "      <th>2</th>\n",
       "      <td>TRAIN_00002</td>\n",
       "      <td>8</td>\n",
       "      <td>일요일</td>\n",
       "      <td>6</td>\n",
       "      <td>1729</td>\n",
       "      <td>47.0</td>\n",
       "      <td>1.619597</td>\n",
       "      <td>0.000</td>\n",
       "      <td>0.0</td>\n",
       "      <td>0.0</td>\n",
       "      <td>40.0</td>\n",
       "      <td>1.0</td>\n",
       "      <td>0.0</td>\n",
       "      <td>0.0</td>\n",
       "      <td>0.0</td>\n",
       "      <td>0.0</td>\n",
       "      <td>1.0</td>\n",
       "      <td>0.0</td>\n",
       "      <td>인도</td>\n",
       "      <td>1</td>\n",
       "    </tr>\n",
       "    <tr>\n",
       "      <th>3</th>\n",
       "      <td>TRAIN_00003</td>\n",
       "      <td>5</td>\n",
       "      <td>월요일</td>\n",
       "      <td>6</td>\n",
       "      <td>2337</td>\n",
       "      <td>53.0</td>\n",
       "      <td>1.921615</td>\n",
       "      <td>11.375</td>\n",
       "      <td>0.0</td>\n",
       "      <td>0.0</td>\n",
       "      <td>225.0</td>\n",
       "      <td>1.0</td>\n",
       "      <td>1.0</td>\n",
       "      <td>0.0</td>\n",
       "      <td>0.0</td>\n",
       "      <td>0.0</td>\n",
       "      <td>0.0</td>\n",
       "      <td>0.0</td>\n",
       "      <td>주거지</td>\n",
       "      <td>1</td>\n",
       "    </tr>\n",
       "    <tr>\n",
       "      <th>4</th>\n",
       "      <td>TRAIN_00004</td>\n",
       "      <td>9</td>\n",
       "      <td>일요일</td>\n",
       "      <td>11</td>\n",
       "      <td>1439</td>\n",
       "      <td>41.0</td>\n",
       "      <td>1.789721</td>\n",
       "      <td>0.000</td>\n",
       "      <td>0.0</td>\n",
       "      <td>0.0</td>\n",
       "      <td>255.0</td>\n",
       "      <td>0.0</td>\n",
       "      <td>0.0</td>\n",
       "      <td>0.0</td>\n",
       "      <td>0.0</td>\n",
       "      <td>0.0</td>\n",
       "      <td>0.0</td>\n",
       "      <td>0.0</td>\n",
       "      <td>주유소</td>\n",
       "      <td>2</td>\n",
       "    </tr>\n",
       "  </tbody>\n",
       "</table>\n",
       "</div>"
      ],
      "text/plain": [
       "            ID   월   요일  시간  소관경찰서  소관지역    사건발생거리  강수량(mm)  강설량(mm)  적설량(cm)  \\\n",
       "0  TRAIN_00000   9  화요일  10    137   8.0  2.611124    0.000      0.0      0.0   \n",
       "1  TRAIN_00001  11  화요일   6    438  13.0  3.209093    0.000      0.0      0.0   \n",
       "2  TRAIN_00002   8  일요일   6   1729  47.0  1.619597    0.000      0.0      0.0   \n",
       "3  TRAIN_00003   5  월요일   6   2337  53.0  1.921615   11.375      0.0      0.0   \n",
       "4  TRAIN_00004   9  일요일  11   1439  41.0  1.789721    0.000      0.0      0.0   \n",
       "\n",
       "      풍향   안개  짙은안개   번개  진눈깨비   서리  연기/연무  눈날림 범죄발생지  TARGET  \n",
       "0  245.0  0.0   0.0  0.0   0.0  0.0    0.0  0.0    차도       2  \n",
       "1  200.0  0.0   0.0  0.0   0.0  0.0    0.0  0.0    차도       0  \n",
       "2   40.0  1.0   0.0  0.0   0.0  0.0    1.0  0.0    인도       1  \n",
       "3  225.0  1.0   1.0  0.0   0.0  0.0    0.0  0.0   주거지       1  \n",
       "4  255.0  0.0   0.0  0.0   0.0  0.0    0.0  0.0   주유소       2  "
      ]
     },
     "execution_count": 4,
     "metadata": {},
     "output_type": "execute_result"
    }
   ],
   "source": [
    "train_df.head()"
   ]
  },
  {
   "cell_type": "markdown",
   "id": "a18c323f-9e86-4fe2-9e09-395d4e290050",
   "metadata": {},
   "source": [
    "<br>"
   ]
  },
  {
   "cell_type": "markdown",
   "id": "cd0aab2e-3a95-4013-a15e-d141663182ea",
   "metadata": {},
   "source": [
    "## Resetting Columns Type"
   ]
  },
  {
   "cell_type": "code",
   "execution_count": 5,
   "id": "a6428eae-5d63-4ec8-bc73-fbb926f618db",
   "metadata": {},
   "outputs": [],
   "source": [
    "def type_resetting(data):\n",
    "    d = data.copy()\n",
    "    target_feature = ['TARGET']\n",
    "    cat_features = ['ID','월','요일','시간','소관경찰서','소관지역','범죄발생지']\n",
    "    num_features = [col for col in d.columns if col not in cat_features]\n",
    "    for col in cat_features:\n",
    "        d[col] = d[col].astype(str)\n",
    "    for col in num_features:\n",
    "        d[col] = d[col].astype(float)\n",
    "    if 'TARGET' in d.columns:\n",
    "        d['TARGET'] = d['TARGET'].astype(str)\n",
    "        d = d.rename(columns={'TARGET':'target'})\n",
    "    return d"
   ]
  },
  {
   "cell_type": "code",
   "execution_count": 6,
   "id": "857df10c-7dbb-48cc-b762-a69ff04786ec",
   "metadata": {},
   "outputs": [],
   "source": [
    "unuse_features = ['ID']\n",
    "\n",
    "train_df2 = type_resetting(train_df)\n",
    "test_df2  = type_resetting(test_df)\n",
    "\n",
    "train_df2.drop(columns=unuse_features,inplace=True)\n",
    "test_df2 .drop(columns=unuse_features,inplace=True)"
   ]
  },
  {
   "cell_type": "markdown",
   "id": "204816d7-af14-427d-bc50-32b876febd64",
   "metadata": {},
   "source": [
    "<br></br>"
   ]
  },
  {
   "cell_type": "markdown",
   "id": "c5254fac-62ad-4ca8-98d9-0cc687d11af2",
   "metadata": {},
   "source": [
    "# New Features"
   ]
  },
  {
   "cell_type": "code",
   "execution_count": 7,
   "id": "0b5850c5-7ba2-4223-a30d-161461984599",
   "metadata": {},
   "outputs": [],
   "source": [
    "def new_features(data):\n",
    "    d = data.copy()\n",
    "    \n",
    "    # (1) 강수,강설,적설여부 : 강수량이 0이면 강수여부=0, 강수\n",
    "    d['강수여부'] = np.where(d['강수량(mm)']==0,0,1)\n",
    "    d['강설여부'] = np.where(d['강설량(mm)']==0,0,1)\n",
    "    d['적설여부'] = np.where(d['적설량(cm)']==0,0,1)\n",
    "    \n",
    "    # (2) 주말여부, 계절\n",
    "    d['주말여부'] = np.where((d['요일']=='토요일')|(d['요일']=='일요일'),1,0)\n",
    "    d['계절'] = ['겨울' if month in [12,1,2] else\n",
    "                '봄'  if month in [3,4,5]  else\n",
    "                '여름' if month in [6,7,8] else\n",
    "                '가을' if month in [9,10,11] else\n",
    "                'Unknown' for month in d['월'].astype(int)]\n",
    "    \n",
    "    # (3) 강수 grouping\n",
    "    # - 참조 : https://namu.wiki/w/%EA%B0%95%EC%9A%B0%EB%9F%89#s-2\n",
    "    d['강수량_체감'] = ['0'  if rainfall==0   else\n",
    "                     '1'  if rainfall<=1   else\n",
    "                     '2'  if rainfall<=2.5 else\n",
    "                     '3'  if rainfall<=5.0 else\n",
    "                     '4'  if rainfall<=10  else\n",
    "                     '5'  if rainfall<=15  else\n",
    "                     '6'  if rainfall<=20  else\n",
    "                     '7'  if rainfall<=30  else\n",
    "                     '8'  if rainfall<=40  else\n",
    "                     '9'  if rainfall<=50  else\n",
    "                     '10' if rainfall<=70  else\n",
    "                     '11' if rainfall<=110 else\n",
    "                     '12' for rainfall in d['강수량(mm)']]\n",
    "    \n",
    "    # (4) 풍향\n",
    "    d['풍향_방위'] = ['N'  if (direction>=337.5) or  (direction< 22.5) else\n",
    "                    'NE' if (direction>= 22.5) and (direction< 67.5) else\n",
    "                    'E'  if (direction>= 67.5) and (direction<112.5) else\n",
    "                    'SE' if (direction>=112.5) and (direction<157.5) else\n",
    "                    'S'  if (direction>=157.5) and (direction<202.5) else\n",
    "                    'SW' if (direction>=202.5) and (direction<247.5) else\n",
    "                    'W'  if (direction>=247.5) and (direction<292.5) else\n",
    "                    'NW' if (direction>=292.5) and (direction<337.5) else\n",
    "                    'Unknown' for direction in d['풍향']]\n",
    "    \n",
    "    return d"
   ]
  },
  {
   "cell_type": "code",
   "execution_count": 8,
   "id": "b4b71491-75b4-49ac-ac54-253a2d5fdbf3",
   "metadata": {},
   "outputs": [],
   "source": [
    "train_df3 = new_features(train_df2)\n",
    "test_df3  = new_features(test_df2)"
   ]
  },
  {
   "cell_type": "code",
   "execution_count": 9,
   "id": "bfa09b13-62ca-425d-bab5-299828454fc7",
   "metadata": {},
   "outputs": [],
   "source": [
    "target_feature = 'target'\n",
    "cat_features = train_df3.columns[train_df3.dtypes==object]\n",
    "cat_features = list(set(cat_features)-set([target_feature]))\n",
    "num_features = [col for col in train_df3.columns if col not in cat_features+[target_feature]]"
   ]
  },
  {
   "cell_type": "code",
   "execution_count": 10,
   "id": "5cf0ed61-9984-4d88-9ee4-014913866ac4",
   "metadata": {},
   "outputs": [
    {
     "data": {
      "text/html": [
       "<div>\n",
       "<style scoped>\n",
       "    .dataframe tbody tr th:only-of-type {\n",
       "        vertical-align: middle;\n",
       "    }\n",
       "\n",
       "    .dataframe tbody tr th {\n",
       "        vertical-align: top;\n",
       "    }\n",
       "\n",
       "    .dataframe thead th {\n",
       "        text-align: right;\n",
       "    }\n",
       "</style>\n",
       "<table border=\"1\" class=\"dataframe\">\n",
       "  <thead>\n",
       "    <tr style=\"text-align: right;\">\n",
       "      <th></th>\n",
       "      <th>월</th>\n",
       "      <th>요일</th>\n",
       "      <th>시간</th>\n",
       "      <th>소관경찰서</th>\n",
       "      <th>소관지역</th>\n",
       "      <th>사건발생거리</th>\n",
       "      <th>강수량(mm)</th>\n",
       "      <th>강설량(mm)</th>\n",
       "      <th>적설량(cm)</th>\n",
       "      <th>풍향</th>\n",
       "      <th>안개</th>\n",
       "      <th>짙은안개</th>\n",
       "      <th>번개</th>\n",
       "      <th>진눈깨비</th>\n",
       "      <th>서리</th>\n",
       "      <th>연기/연무</th>\n",
       "      <th>눈날림</th>\n",
       "      <th>범죄발생지</th>\n",
       "      <th>target</th>\n",
       "      <th>강수여부</th>\n",
       "      <th>강설여부</th>\n",
       "      <th>적설여부</th>\n",
       "      <th>주말여부</th>\n",
       "      <th>계절</th>\n",
       "      <th>강수량_체감</th>\n",
       "      <th>풍향_방위</th>\n",
       "    </tr>\n",
       "  </thead>\n",
       "  <tbody>\n",
       "    <tr>\n",
       "      <th>0</th>\n",
       "      <td>9</td>\n",
       "      <td>화요일</td>\n",
       "      <td>10</td>\n",
       "      <td>137</td>\n",
       "      <td>8.0</td>\n",
       "      <td>2.611124</td>\n",
       "      <td>0.000</td>\n",
       "      <td>0.0</td>\n",
       "      <td>0.0</td>\n",
       "      <td>245.0</td>\n",
       "      <td>0.0</td>\n",
       "      <td>0.0</td>\n",
       "      <td>0.0</td>\n",
       "      <td>0.0</td>\n",
       "      <td>0.0</td>\n",
       "      <td>0.0</td>\n",
       "      <td>0.0</td>\n",
       "      <td>차도</td>\n",
       "      <td>2.0</td>\n",
       "      <td>0</td>\n",
       "      <td>0</td>\n",
       "      <td>0</td>\n",
       "      <td>0</td>\n",
       "      <td>가을</td>\n",
       "      <td>0</td>\n",
       "      <td>SW</td>\n",
       "    </tr>\n",
       "    <tr>\n",
       "      <th>1</th>\n",
       "      <td>11</td>\n",
       "      <td>화요일</td>\n",
       "      <td>6</td>\n",
       "      <td>438</td>\n",
       "      <td>13.0</td>\n",
       "      <td>3.209093</td>\n",
       "      <td>0.000</td>\n",
       "      <td>0.0</td>\n",
       "      <td>0.0</td>\n",
       "      <td>200.0</td>\n",
       "      <td>0.0</td>\n",
       "      <td>0.0</td>\n",
       "      <td>0.0</td>\n",
       "      <td>0.0</td>\n",
       "      <td>0.0</td>\n",
       "      <td>0.0</td>\n",
       "      <td>0.0</td>\n",
       "      <td>차도</td>\n",
       "      <td>0.0</td>\n",
       "      <td>0</td>\n",
       "      <td>0</td>\n",
       "      <td>0</td>\n",
       "      <td>0</td>\n",
       "      <td>가을</td>\n",
       "      <td>0</td>\n",
       "      <td>S</td>\n",
       "    </tr>\n",
       "    <tr>\n",
       "      <th>2</th>\n",
       "      <td>8</td>\n",
       "      <td>일요일</td>\n",
       "      <td>6</td>\n",
       "      <td>1729</td>\n",
       "      <td>47.0</td>\n",
       "      <td>1.619597</td>\n",
       "      <td>0.000</td>\n",
       "      <td>0.0</td>\n",
       "      <td>0.0</td>\n",
       "      <td>40.0</td>\n",
       "      <td>1.0</td>\n",
       "      <td>0.0</td>\n",
       "      <td>0.0</td>\n",
       "      <td>0.0</td>\n",
       "      <td>0.0</td>\n",
       "      <td>1.0</td>\n",
       "      <td>0.0</td>\n",
       "      <td>인도</td>\n",
       "      <td>1.0</td>\n",
       "      <td>0</td>\n",
       "      <td>0</td>\n",
       "      <td>0</td>\n",
       "      <td>1</td>\n",
       "      <td>여름</td>\n",
       "      <td>0</td>\n",
       "      <td>NE</td>\n",
       "    </tr>\n",
       "    <tr>\n",
       "      <th>3</th>\n",
       "      <td>5</td>\n",
       "      <td>월요일</td>\n",
       "      <td>6</td>\n",
       "      <td>2337</td>\n",
       "      <td>53.0</td>\n",
       "      <td>1.921615</td>\n",
       "      <td>11.375</td>\n",
       "      <td>0.0</td>\n",
       "      <td>0.0</td>\n",
       "      <td>225.0</td>\n",
       "      <td>1.0</td>\n",
       "      <td>1.0</td>\n",
       "      <td>0.0</td>\n",
       "      <td>0.0</td>\n",
       "      <td>0.0</td>\n",
       "      <td>0.0</td>\n",
       "      <td>0.0</td>\n",
       "      <td>주거지</td>\n",
       "      <td>1.0</td>\n",
       "      <td>1</td>\n",
       "      <td>0</td>\n",
       "      <td>0</td>\n",
       "      <td>0</td>\n",
       "      <td>봄</td>\n",
       "      <td>5</td>\n",
       "      <td>SW</td>\n",
       "    </tr>\n",
       "    <tr>\n",
       "      <th>4</th>\n",
       "      <td>9</td>\n",
       "      <td>일요일</td>\n",
       "      <td>11</td>\n",
       "      <td>1439</td>\n",
       "      <td>41.0</td>\n",
       "      <td>1.789721</td>\n",
       "      <td>0.000</td>\n",
       "      <td>0.0</td>\n",
       "      <td>0.0</td>\n",
       "      <td>255.0</td>\n",
       "      <td>0.0</td>\n",
       "      <td>0.0</td>\n",
       "      <td>0.0</td>\n",
       "      <td>0.0</td>\n",
       "      <td>0.0</td>\n",
       "      <td>0.0</td>\n",
       "      <td>0.0</td>\n",
       "      <td>주유소</td>\n",
       "      <td>2.0</td>\n",
       "      <td>0</td>\n",
       "      <td>0</td>\n",
       "      <td>0</td>\n",
       "      <td>1</td>\n",
       "      <td>가을</td>\n",
       "      <td>0</td>\n",
       "      <td>W</td>\n",
       "    </tr>\n",
       "  </tbody>\n",
       "</table>\n",
       "</div>"
      ],
      "text/plain": [
       "    월   요일  시간 소관경찰서  소관지역    사건발생거리  강수량(mm)  강설량(mm)  적설량(cm)     풍향   안개  \\\n",
       "0   9  화요일  10   137   8.0  2.611124    0.000      0.0      0.0  245.0  0.0   \n",
       "1  11  화요일   6   438  13.0  3.209093    0.000      0.0      0.0  200.0  0.0   \n",
       "2   8  일요일   6  1729  47.0  1.619597    0.000      0.0      0.0   40.0  1.0   \n",
       "3   5  월요일   6  2337  53.0  1.921615   11.375      0.0      0.0  225.0  1.0   \n",
       "4   9  일요일  11  1439  41.0  1.789721    0.000      0.0      0.0  255.0  0.0   \n",
       "\n",
       "   짙은안개   번개  진눈깨비   서리  연기/연무  눈날림 범죄발생지 target  강수여부  강설여부  적설여부  주말여부  계절  \\\n",
       "0   0.0  0.0   0.0  0.0    0.0  0.0    차도    2.0     0     0     0     0  가을   \n",
       "1   0.0  0.0   0.0  0.0    0.0  0.0    차도    0.0     0     0     0     0  가을   \n",
       "2   0.0  0.0   0.0  0.0    1.0  0.0    인도    1.0     0     0     0     1  여름   \n",
       "3   1.0  0.0   0.0  0.0    0.0  0.0   주거지    1.0     1     0     0     0   봄   \n",
       "4   0.0  0.0   0.0  0.0    0.0  0.0   주유소    2.0     0     0     0     1  가을   \n",
       "\n",
       "  강수량_체감 풍향_방위  \n",
       "0      0    SW  \n",
       "1      0     S  \n",
       "2      0    NE  \n",
       "3      5    SW  \n",
       "4      0     W  "
      ]
     },
     "execution_count": 10,
     "metadata": {},
     "output_type": "execute_result"
    }
   ],
   "source": [
    "train_df3.head()"
   ]
  },
  {
   "cell_type": "markdown",
   "id": "65939305-7703-474a-912d-3841f3eed25d",
   "metadata": {},
   "source": [
    "<br></br>"
   ]
  },
  {
   "cell_type": "markdown",
   "id": "f97f1466-3f68-43ec-a104-181930321dce",
   "metadata": {},
   "source": [
    "# EDA"
   ]
  },
  {
   "cell_type": "code",
   "execution_count": 11,
   "id": "4d1e3686-4ea5-4147-a968-4dc93785c50c",
   "metadata": {},
   "outputs": [],
   "source": [
    "# i=0\n",
    "# for col in num_features:\n",
    "#     i+=1\n",
    "#     print('\\n({}/{}) {}'.format(i,len(num_features),col))\n",
    "#     plt.figure(figsize=(15,7))\n",
    "#     sns.violinplot(x=train_df3['target'],y=train_df3[col])\n",
    "#     plt.show()"
   ]
  },
  {
   "cell_type": "markdown",
   "id": "6920fd41-52ab-4de1-82a4-d9a5b28a4346",
   "metadata": {},
   "source": [
    "<br></br>"
   ]
  },
  {
   "cell_type": "markdown",
   "id": "8c6171ab-e115-43a0-906e-ea644ee74b86",
   "metadata": {},
   "source": [
    "# Add the Interaction Term"
   ]
  },
  {
   "cell_type": "code",
   "execution_count": 12,
   "id": "f82abcfe-c565-4f93-a661-17119bb5bd7e",
   "metadata": {},
   "outputs": [],
   "source": [
    "import warnings\n",
    "from tqdm import trange\n",
    "def add_interaction_term(data,num_features):\n",
    "    warnings.simplefilter(action='ignore', category=pd.errors.PerformanceWarning)\n",
    "    \n",
    "    d = data.copy()\n",
    "    for i in range(len(num_features)):\n",
    "        for j in range(len(num_features)):\n",
    "            if i>j:\n",
    "                col_i = num_features[i]\n",
    "                col_j = num_features[j]\n",
    "                d[f'{col_i}*{col_j}'] = d[col_i]*d[col_j]\n",
    "                \n",
    "    return d"
   ]
  },
  {
   "cell_type": "code",
   "execution_count": 13,
   "id": "36e4645b-0183-4b9b-bf52-5bdcd4c9ec60",
   "metadata": {},
   "outputs": [],
   "source": [
    "train_df4 = add_interaction_term(train_df3,num_features)\n",
    "test_df4  = add_interaction_term(test_df3 ,num_features)"
   ]
  },
  {
   "cell_type": "code",
   "execution_count": 14,
   "id": "c812b622-9fb3-465c-b184-130e8707e5db",
   "metadata": {},
   "outputs": [],
   "source": [
    "target_feature = 'target'\n",
    "cat_features = train_df4.columns[train_df4.dtypes==object]\n",
    "cat_features = list(set(cat_features)-set([target_feature]))\n",
    "num_features = [col for col in train_df4.columns if col not in cat_features+[target_feature]]"
   ]
  },
  {
   "cell_type": "markdown",
   "id": "c3732aa9-e9d7-41d5-8e8c-667699fe5a30",
   "metadata": {},
   "source": [
    "<br></br>"
   ]
  },
  {
   "cell_type": "markdown",
   "id": "eec950f8-0d43-4b9a-97ed-6feac553dba3",
   "metadata": {},
   "source": [
    "# Feature Selection"
   ]
  },
  {
   "cell_type": "code",
   "execution_count": 15,
   "id": "6b7c0c89-9e7f-4f7b-8a38-ded7cd451639",
   "metadata": {},
   "outputs": [],
   "source": [
    "alpha = 0.05"
   ]
  },
  {
   "cell_type": "markdown",
   "id": "ccd1b18e-f589-40ef-a9d5-eec935580f46",
   "metadata": {},
   "source": [
    "<br>"
   ]
  },
  {
   "cell_type": "markdown",
   "id": "54e009af-c174-47c1-b8a1-f20e15298d00",
   "metadata": {},
   "source": [
    "## Numerical Features"
   ]
  },
  {
   "cell_type": "code",
   "execution_count": 16,
   "id": "f2532068-1601-4dc1-ac5c-0f29f76753d6",
   "metadata": {},
   "outputs": [],
   "source": [
    "# import statsmodels.api as sm\n",
    "from statsmodels.formula.api import ols\n",
    "from statsmodels.stats.anova import anova_lm"
   ]
  },
  {
   "cell_type": "code",
   "execution_count": 17,
   "id": "e559acd6-ee36-4d59-b563-a4a740787549",
   "metadata": {},
   "outputs": [],
   "source": [
    "def log_offset(x):\n",
    "    if min(x)>0:\n",
    "        offset = 0\n",
    "    elif min(x)==0:\n",
    "        offset = 1e-3\n",
    "    else:\n",
    "        offset = min(x)+1e-3\n",
    "        print('minimum = {:.3f}'.format(min(x)))\n",
    "    return np.log(x+offset)"
   ]
  },
  {
   "cell_type": "code",
   "execution_count": 18,
   "id": "6a732a1f-9c59-4c33-9cf8-383f5e2844bf",
   "metadata": {},
   "outputs": [
    {
     "name": "stderr",
     "output_type": "stream",
     "text": [
      "100%|██████████| 136/136 [00:41<00:00,  3.29it/s]\n"
     ]
    }
   ],
   "source": [
    "# (1) ANOVA를 해서 p-value가 0.05보다 높은 것들 확인\n",
    "pvalue_list = []\n",
    "for col in tqdm(num_features):\n",
    "    d = train_df4[[col,'target']].rename(columns={col:'feature'})\n",
    "    \n",
    "    model = ols(f'feature ~ C(target)',data=d).fit()\n",
    "    pvalue = anova_lm(model).values[0][-1]\n",
    "    pvalue_list.append([col,pvalue])\n",
    "    \n",
    "pvalue_df = pd.DataFrame(pvalue_list,columns=['feature','pvalue'])\\\n",
    "    .sort_values('pvalue',ascending=False)\n",
    "# pvalue_df[pvalue_df.pvalue>=alpha].round(4)"
   ]
  },
  {
   "cell_type": "code",
   "execution_count": 21,
   "id": "97d9904f-4360-4e44-9e16-528fb48e66ec",
   "metadata": {},
   "outputs": [
    {
     "name": "stderr",
     "output_type": "stream",
     "text": [
      "100%|██████████| 39/39 [00:12<00:00,  3.16it/s]\n"
     ]
    }
   ],
   "source": [
    "# (2) (1)에서 유의하지않은 feature들은 log적용 후에도 유의하지 않으면 제외\n",
    "pvalue_list2 = []\n",
    "unsignificant_features = pvalue_df[pvalue_df.pvalue>alpha].feature.tolist()\n",
    "for col in tqdm(unsignificant_features):\n",
    "    d = train_df4[[col,'target']].rename(columns={col:'feature'})\n",
    "    d['feature'] = log_offset(d['feature'])\n",
    "    \n",
    "    model = ols(f'feature ~ C(target)',data=d).fit()\n",
    "    pvalue = anova_lm(model).values[0][-1]\n",
    "    pvalue_list2.append([col,pvalue])\n",
    "    \n",
    "pvalue_df2 = pd.DataFrame(pvalue_list2,columns=['feature','pvalue'])\\\n",
    "    .sort_values('pvalue',ascending=False)"
   ]
  },
  {
   "cell_type": "code",
   "execution_count": 22,
   "id": "2dda6f61-e2f6-46d5-9087-86756734dfbf",
   "metadata": {},
   "outputs": [
    {
     "name": "stdout",
     "output_type": "stream",
     "text": [
      "> delete_features\n",
      "  - length : 33\n",
      "  - feature_name : ['짙은안개*강수량(mm)', '강수여부*짙은안개', '연기/연무*풍향', '연기/연무*사건발생거리', '적설여부*짙은안개', '연기/연무', '짙은안개*적설량(cm)', '연기/연무*안개', '강설여부*짙은안개', '연기/연무*번개', '짙은안개*강설량(mm)', '짙은안개*풍향', '연기/연무*강수량(mm)', '강수여부*번개', '짙은안개', '짙은안개*안개', '번개*강수량(mm)', '짙은안개*사건발생거리', '강수여부*연기/연무', '풍향*사건발생거리', '주말여부*짙은안개', '번개*안개', '눈날림*짙은안개', '강수여부*안개', '안개', '안개*사건발생거리', '안개*풍향', '연기/연무*짙은안개', '안개*강수량(mm)', '풍향', '번개*사건발생거리', '번개*풍향', '번개']\n",
      "\n",
      "> log_features\n",
      "  - length : 6\n",
      "  - feature_name : ['강수여부*사건발생거리', '강수량(mm)*사건발생거리', '강수여부*강수량(mm)', '강수량(mm)', '풍향*강수량(mm)', '풍향*적설량(cm)']\n"
     ]
    }
   ],
   "source": [
    "delete_features = pvalue_df2[pvalue_df2.pvalue> alpha].feature.tolist()\n",
    "log_features    = pvalue_df2[pvalue_df2.pvalue<=alpha].feature.tolist()\n",
    "print('> delete_features')\n",
    "print('  - length : {}'.format(len(delete_features)))\n",
    "print('  - feature_name : {}'.format(delete_features))\n",
    "print('')\n",
    "print('> log_features')\n",
    "print('  - length : {}'.format(len(log_features)))\n",
    "print('  - feature_name : {}'.format(log_features))\n",
    "\n",
    "train_df5 = train_df4.copy()\n",
    "train_df5.drop(delete_features,axis=1,inplace=True)\n",
    "for col in log_features:\n",
    "    train_df5[col] = log_offset(train_df5[col])\n",
    "    \n",
    "test_df5 = test_df4.copy()\n",
    "test_df5.drop(delete_features,axis=1,inplace=True)\n",
    "for col in log_features:\n",
    "    test_df5[col] = log_offset(test_df5[col])"
   ]
  },
  {
   "cell_type": "markdown",
   "id": "62fbe626-c834-4bf0-bf17-f2312b8c39df",
   "metadata": {},
   "source": [
    "<br>"
   ]
  },
  {
   "cell_type": "markdown",
   "id": "7dd54e7c-a28b-4bd8-a1ec-ad868ae25c84",
   "metadata": {},
   "source": [
    "## Categorical Features"
   ]
  },
  {
   "cell_type": "code",
   "execution_count": 23,
   "id": "79dfb522-007d-47aa-bfbe-dd4620ce86c7",
   "metadata": {},
   "outputs": [],
   "source": [
    "import scipy"
   ]
  },
  {
   "cell_type": "code",
   "execution_count": 24,
   "id": "83081fd7-66e3-4fd8-a8eb-1d3239d0d6c1",
   "metadata": {},
   "outputs": [],
   "source": [
    "# 참조 : https://stackoverflow.com/questions/25368284/fishers-exact-test-for-bigger-than-2-by-2-contingency-table\n",
    "import math\n",
    "def _dfs(mat, pos, r_sum, c_sum, p_0, p):\n",
    "\n",
    "    (xx, yy) = pos\n",
    "    (r, c) = (len(r_sum), len(c_sum))\n",
    "\n",
    "    mat_new = []\n",
    "\n",
    "    for i in range(len(mat)):\n",
    "        temp = []\n",
    "        for j in range(len(mat[0])):\n",
    "            temp.append(mat[i][j])\n",
    "        mat_new.append(temp)\n",
    "\n",
    "    if xx == -1 and yy == -1:\n",
    "        for i in range(r-1):\n",
    "            temp = r_sum[i]\n",
    "            for j in range(c-1):\n",
    "                temp -= mat_new[i][j]\n",
    "            mat_new[i][c-1] = temp\n",
    "        for j in range(c-1):\n",
    "            temp = c_sum[j]\n",
    "            for i in range(r-1):\n",
    "                temp -= mat_new[i][j]\n",
    "            mat_new[r-1][j] = temp\n",
    "        temp = r_sum[r-1]\n",
    "        for j in range(c-1):\n",
    "            temp -= mat_new[r-1][j]\n",
    "        if temp <0:\n",
    "            return\n",
    "        mat_new[r-1][c-1] = temp\n",
    "\n",
    "        p_1 = 1\n",
    "        for x in r_sum:\n",
    "            p_1 *= math.factorial(x)\n",
    "        for y in c_sum:\n",
    "            p_1 *= math.factorial(y)\n",
    "\n",
    "        n = 0\n",
    "        for x in r_sum:\n",
    "            n += x\n",
    "        p_1 /= math.factorial(n)\n",
    "\n",
    "        for i in range(len(mat_new)):\n",
    "            for j in range(len(mat_new[0])):\n",
    "                p_1 /= math.factorial(mat_new[i][j])\n",
    "        if p_1 <= p_0 + 0.00000001:\n",
    "            #print(mat_new)\n",
    "            #print(p_1)\n",
    "            p[0] += p_1\n",
    "    else:\n",
    "        max_1 = r_sum[xx]\n",
    "        max_2 = c_sum[yy]\n",
    "        for j in range(c):\n",
    "            max_1 -= mat_new[xx][j]\n",
    "        for i in range(r):\n",
    "            max_2 -= mat_new[i][yy]\n",
    "        for k in range(min(max_1,max_2)+1):\n",
    "            mat_new[xx][yy] = k\n",
    "            if xx == r-2 and yy == c-2:\n",
    "                pos_new = (-1, -1)\n",
    "            elif xx == r-2:\n",
    "                pos_new = (0, yy+1)\n",
    "            else:\n",
    "                pos_new = (xx+1, yy)\n",
    "            _dfs(mat_new, pos_new, r_sum, c_sum, p_0, p)\n",
    "\n",
    "def fisher_exact(table):\n",
    "\n",
    "    row_sum = []\n",
    "    col_sum = []\n",
    "\n",
    "    for i in range(len(table)):\n",
    "        temp = 0\n",
    "        for j in range(len(table[0])):\n",
    "            temp += table[i][j]\n",
    "        row_sum.append(temp)\n",
    "\n",
    "    for j in range(len(table[0])):\n",
    "        temp = 0\n",
    "        for i in range(len(table)):\n",
    "            temp += table[i][j]\n",
    "        col_sum.append(temp)\n",
    "\n",
    "    mat = [[0] * len(col_sum)] * len(row_sum)\n",
    "    pos = (0, 0)\n",
    "\n",
    "    p_0 = 1\n",
    "\n",
    "    for x in row_sum:\n",
    "        p_0 *= math.factorial(x)\n",
    "    for y in col_sum:\n",
    "        p_0 *= math.factorial(y)\n",
    "\n",
    "    n = 0\n",
    "    for x in row_sum:\n",
    "        n += x\n",
    "    p_0 /= math.factorial(n)\n",
    "\n",
    "    for i in range(len(table)):\n",
    "        for j in range(len(table[0])):\n",
    "            p_0 /= math.factorial(table[i][j])\n",
    "\n",
    "    p = [0]\n",
    "    _dfs(mat, pos, row_sum, col_sum, p_0, p)\n",
    "\n",
    "    return p[0]"
   ]
  },
  {
   "cell_type": "code",
   "execution_count": 25,
   "id": "0a7cfd14-69f8-4d32-87fe-a4b5521a108e",
   "metadata": {},
   "outputs": [
    {
     "name": "stderr",
     "output_type": "stream",
     "text": [
      "100%|██████████| 9/9 [00:00<00:00, 58.63it/s]\n"
     ]
    }
   ],
   "source": [
    "pvalue_list = []\n",
    "for col in tqdm(cat_features):\n",
    "    data = pd.crosstab(train_df5[col],train_df5[target_feature]).values\n",
    "    stat, pvalue, dof, expected = scipy.stats.chi2_contingency(data)\n",
    "    \n",
    "    # 기대빈도가 5이하인 셀이 전체의 20%가 넘는 경우\n",
    "    # -> fisher exact test가 필요함\n",
    "    # (주의!) 기대빈도가 너무 높은 경우에는 math.factorial에서 에러발생함\n",
    "    if np.where(data.flatten()<=5,1,0).sum() / len(data.flatten()) >= 0.2:\n",
    "        print('{}: Fisher Exact Test is required'.format(col))\n",
    "        pvalue = fisher_exact(data)\n",
    "        \n",
    "    pvalue_list.append([col,pvalue])"
   ]
  },
  {
   "cell_type": "code",
   "execution_count": 26,
   "id": "b6d4e414-a850-4eea-a80a-10b7eb0196a9",
   "metadata": {},
   "outputs": [],
   "source": [
    "pvalue_df = pd.DataFrame(pvalue_list,columns=['feature','pvalue'])\\\n",
    "    .sort_values('pvalue',ascending=False)\n",
    "#pvalue_df.round(4)"
   ]
  },
  {
   "cell_type": "code",
   "execution_count": 27,
   "id": "b60dcf73-748c-4d2f-b33e-0fa05359c6f0",
   "metadata": {},
   "outputs": [
    {
     "name": "stdout",
     "output_type": "stream",
     "text": [
      "> delete_features\n",
      "  - length : 0\n",
      "  - feature_name : []\n"
     ]
    }
   ],
   "source": [
    "delete_features = pvalue_df[pvalue_df.pvalue>alpha].feature.tolist()\n",
    "print('> delete_features')\n",
    "print('  - length : {}'.format(len(delete_features)))\n",
    "print('  - feature_name : {}'.format(delete_features))\n",
    "\n",
    "train_df6 = train_df5.copy()\n",
    "train_df6.drop(delete_features,axis=1,inplace=True)\n",
    "\n",
    "test_df6 = test_df5.copy()\n",
    "test_df6.drop(delete_features,axis=1,inplace=True)"
   ]
  },
  {
   "cell_type": "code",
   "execution_count": 28,
   "id": "080d556a-1e64-4d48-8c60-d907bbe48dd0",
   "metadata": {},
   "outputs": [],
   "source": [
    "target_feature = 'target'\n",
    "cat_features = train_df6.columns[train_df6.dtypes==object]\n",
    "cat_features = list(set(cat_features)-set([target_feature]))\n",
    "num_features = [col for col in train_df6.columns if col not in cat_features+[target_feature]]"
   ]
  },
  {
   "cell_type": "markdown",
   "id": "65170a3e-52fb-4628-ba05-1aafd0d1aac1",
   "metadata": {},
   "source": [
    "<br></br>"
   ]
  },
  {
   "cell_type": "markdown",
   "id": "51975f4c-015e-421f-935f-3d2c3d716531",
   "metadata": {},
   "source": [
    "# Modeling"
   ]
  },
  {
   "cell_type": "markdown",
   "id": "7484117a-0541-4afd-8db8-bd7984f42f99",
   "metadata": {},
   "source": [
    "## CatBoostClassifier with K-Fold"
   ]
  },
  {
   "cell_type": "code",
   "execution_count": 29,
   "id": "70aff036-67e1-4cbb-ad2e-0d02f7c466c9",
   "metadata": {},
   "outputs": [],
   "source": [
    "from sklearn.model_selection import StratifiedKFold\n",
    "from catboost import CatBoostClassifier, Pool\n",
    "from sklearn.metrics import f1_score"
   ]
  },
  {
   "cell_type": "code",
   "execution_count": 35,
   "id": "0980fa79-83f1-4404-afdc-105256b9c5ef",
   "metadata": {},
   "outputs": [],
   "source": [
    "n_splits = 3\n",
    "learning_rate = 0.03\n",
    "iterations = 10000\n",
    "early_stopping_rounds = 1000 # int(iterations/5)\n",
    "random_state = 0"
   ]
  },
  {
   "cell_type": "code",
   "execution_count": 36,
   "id": "74623452-baf2-46fe-9170-edbdb8825e4a",
   "metadata": {},
   "outputs": [
    {
     "name": "stderr",
     "output_type": "stream",
     "text": [
      "  0%|          | 0/3 [00:00<?, ?it/s]Warning: Overfitting detector is active, thus evaluation metric is calculated on every iteration. 'metric_period' is ignored for evaluation metric.\n"
     ]
    },
    {
     "name": "stdout",
     "output_type": "stream",
     "text": [
      "0:\tlearn: 1.0914827\ttest: 1.0914479\tbest: 1.0914479 (0)\ttotal: 147ms\tremaining: 24m 28s\n",
      "2000:\tlearn: 0.8976734\ttest: 0.9590405\tbest: 0.9590117 (1980)\ttotal: 2m 29s\tremaining: 9m 56s\n",
      "Stopped by overfitting detector  (1000 iterations wait)\n",
      "\n",
      "bestTest = 0.9589112724\n",
      "bestIteration = 2174\n",
      "\n",
      "Shrink model to first 2175 iterations.\n"
     ]
    },
    {
     "name": "stderr",
     "output_type": "stream",
     "text": [
      " 33%|███▎      | 1/3 [03:58<07:56, 238.47s/it]"
     ]
    },
    {
     "name": "stdout",
     "output_type": "stream",
     "text": [
      "K-Fold 1, Macro F1 Score: 0.5213\n"
     ]
    },
    {
     "name": "stderr",
     "output_type": "stream",
     "text": [
      "Warning: Overfitting detector is active, thus evaluation metric is calculated on every iteration. 'metric_period' is ignored for evaluation metric.\n"
     ]
    },
    {
     "name": "stdout",
     "output_type": "stream",
     "text": [
      "0:\tlearn: 1.0919514\ttest: 1.0916581\tbest: 1.0916581 (0)\ttotal: 57.6ms\tremaining: 9m 36s\n",
      "2000:\tlearn: 0.9022572\ttest: 0.9466138\tbest: 0.9466017 (1998)\ttotal: 2m 28s\tremaining: 9m 55s\n",
      "Stopped by overfitting detector  (1000 iterations wait)\n",
      "\n",
      "bestTest = 0.9463709805\n",
      "bestIteration = 2559\n",
      "\n",
      "Shrink model to first 2560 iterations.\n"
     ]
    },
    {
     "name": "stderr",
     "output_type": "stream",
     "text": [
      " 67%|██████▋   | 2/3 [08:26<04:15, 255.71s/it]"
     ]
    },
    {
     "name": "stdout",
     "output_type": "stream",
     "text": [
      "K-Fold 2, Macro F1 Score: 0.5312\n"
     ]
    },
    {
     "name": "stderr",
     "output_type": "stream",
     "text": [
      "Warning: Overfitting detector is active, thus evaluation metric is calculated on every iteration. 'metric_period' is ignored for evaluation metric.\n"
     ]
    },
    {
     "name": "stdout",
     "output_type": "stream",
     "text": [
      "0:\tlearn: 1.0915125\ttest: 1.0916177\tbest: 1.0916177 (0)\ttotal: 67.2ms\tremaining: 11m 11s\n",
      "2000:\tlearn: 0.8971727\ttest: 0.9608946\tbest: 0.9607746 (1809)\ttotal: 2m 29s\tremaining: 9m 56s\n",
      "Stopped by overfitting detector  (1000 iterations wait)\n",
      "\n",
      "bestTest = 0.9607746266\n",
      "bestIteration = 1809\n",
      "\n",
      "Shrink model to first 1810 iterations.\n"
     ]
    },
    {
     "name": "stderr",
     "output_type": "stream",
     "text": [
      "100%|██████████| 3/3 [11:57<00:00, 239.15s/it]"
     ]
    },
    {
     "name": "stdout",
     "output_type": "stream",
     "text": [
      "K-Fold 3, Macro F1 Score: 0.5224\n"
     ]
    },
    {
     "name": "stderr",
     "output_type": "stream",
     "text": [
      "\n"
     ]
    }
   ],
   "source": [
    "X = train_df6.drop(target_feature,axis=1)\n",
    "y = train_df6[target_feature]\n",
    "\n",
    "skf = StratifiedKFold(n_splits=n_splits,random_state=random_state,shuffle=True)\n",
    "models = []\n",
    "\n",
    "k=0\n",
    "for train_idx, valid_idx in tqdm(skf.split(X,y),total=n_splits):\n",
    "    k+=1\n",
    "    X_train, y_train = X.iloc[train_idx], y.iloc[train_idx]\n",
    "    X_valid, y_valid = X.iloc[valid_idx], y.iloc[valid_idx]\n",
    "    \n",
    "    train_dataset = Pool(X_train,y_train,cat_features=cat_features)\n",
    "    valid_dataset = Pool(X_valid,y_valid,cat_features=cat_features)\n",
    "\n",
    "    model = CatBoostClassifier(\n",
    "        random_state=random_state,\n",
    "        iterations=iterations,\n",
    "        learning_rate=learning_rate,\n",
    "        allow_writing_files=False,\n",
    "    )\n",
    "    model.fit(\n",
    "        train_dataset,\n",
    "        eval_set=valid_dataset,\n",
    "        metric_period=int(iterations/5),\n",
    "        early_stopping_rounds=early_stopping_rounds,\n",
    "    )\n",
    "    #model.save_model(f'./model_checkpoints/kfold_model_{k}.cbm')\n",
    "    \n",
    "    y_pred = model.predict(valid_dataset).flatten()\n",
    "    y_true = y_valid.values\n",
    "    score = f1_score(y_true=y_true,y_pred=y_pred,average='macro')\n",
    "    \n",
    "    print('K-Fold {}, Macro F1 Score: {:.4f}'.format(k,score))\n",
    "    \n",
    "    models.append(model)"
   ]
  },
  {
   "cell_type": "code",
   "execution_count": 38,
   "id": "929f2867-3a3e-48ba-8473-853c00ca1073",
   "metadata": {},
   "outputs": [],
   "source": [
    "import pickle\n",
    "with open('./model_checkpoints/kfold_models.pkl', 'wb') as f:\n",
    "\tpickle.dump(models, f, protocol=pickle.HIGHEST_PROTOCOL)"
   ]
  },
  {
   "cell_type": "markdown",
   "id": "e052e67c-d964-4b52-accf-56233d2d1d37",
   "metadata": {},
   "source": [
    "<br>"
   ]
  },
  {
   "cell_type": "markdown",
   "id": "acdc923b-943e-46e9-ae53-ec4b3b5d442a",
   "metadata": {},
   "source": [
    "## 참조 pycaret"
   ]
  },
  {
   "cell_type": "code",
   "execution_count": 39,
   "id": "34a505ef-d838-426c-a5ae-d23bb140de21",
   "metadata": {},
   "outputs": [],
   "source": [
    "# from pycaret import classification\n",
    "\n",
    "# %%time\n",
    "# classification.setup(data=train_df6,target='target',remove_outliers=True,verbose=True)\n",
    "# best = classification.compare_models(n_select=5,fold=5)"
   ]
  },
  {
   "cell_type": "markdown",
   "id": "3618d610-07af-4601-8c4c-46a28305d832",
   "metadata": {},
   "source": [
    "<br></br>"
   ]
  },
  {
   "cell_type": "markdown",
   "id": "fcd44d6d-9b90-4421-8bec-863468034ae6",
   "metadata": {},
   "source": [
    "# Inference"
   ]
  },
  {
   "cell_type": "code",
   "execution_count": 41,
   "id": "5cd0aca6-de0c-42bc-a461-1e7c522ad753",
   "metadata": {},
   "outputs": [],
   "source": [
    "import pickle\n",
    "with open('./model_checkpoints/kfold_models_3_featureselect_0.05.pkl', 'rb') as f:\n",
    "    models = pickle.load(f)"
   ]
  },
  {
   "cell_type": "markdown",
   "id": "5d3ec3df-3016-40c2-a6e6-1865192fe67d",
   "metadata": {},
   "source": [
    "<br>"
   ]
  },
  {
   "cell_type": "markdown",
   "id": "30ec9e4c-17ad-4876-8539-29c3771ef6b8",
   "metadata": {},
   "source": [
    "## Train dataset"
   ]
  },
  {
   "cell_type": "code",
   "execution_count": 42,
   "id": "e79406b1-928d-4875-bdd9-9d340b4d2fe2",
   "metadata": {},
   "outputs": [
    {
     "name": "stderr",
     "output_type": "stream",
     "text": [
      "100%|██████████| 3/3 [00:02<00:00,  1.07it/s]\n"
     ]
    }
   ],
   "source": [
    "hard_voting_dict = {}\n",
    "soft_voting_dict = {}\n",
    "i=0\n",
    "for model in tqdm(models):\n",
    "    i+=1\n",
    "    dataset = Pool(train_df4.drop(target_feature,axis=1),cat_features=cat_features)\n",
    "    hard_voting_dict[str(i)] = model.predict(dataset).flatten()\n",
    "    soft_voting_dict[str(i)] = model.predict_proba(dataset)"
   ]
  },
  {
   "cell_type": "code",
   "execution_count": 43,
   "id": "61793893-9f17-457f-a40d-c7381d691852",
   "metadata": {},
   "outputs": [
    {
     "name": "stderr",
     "output_type": "stream",
     "text": [
      "100%|██████████| 84406/84406 [00:15<00:00, 5376.94it/s]\n"
     ]
    }
   ],
   "source": [
    "preds_hard_voting = pd.DataFrame(hard_voting_dict)\\\n",
    "    .progress_apply(lambda x: x.value_counts().sort_values(ascending=False).index.tolist()[0],axis=1)\n",
    "preds_hard_voting = [int(float(x)) for x in preds_hard_voting]\n",
    "\n",
    "proba_soft_voting = np.mean([proba for key,proba in soft_voting_dict.items()],axis=0)\n",
    "preds_soft_voting = np.argmax(proba_soft_voting,axis=1)\n",
    "preds_soft_voting = [int(float(x)) for x in preds_soft_voting]"
   ]
  },
  {
   "cell_type": "code",
   "execution_count": 44,
   "id": "043a5129-99e5-43cd-a2ca-aa609d85f05a",
   "metadata": {},
   "outputs": [
    {
     "name": "stdout",
     "output_type": "stream",
     "text": [
      "(1) Hard Voting : Macro F1 Score: 0.5400\n"
     ]
    },
    {
     "data": {
      "text/html": [
       "<div>\n",
       "<style scoped>\n",
       "    .dataframe tbody tr th:only-of-type {\n",
       "        vertical-align: middle;\n",
       "    }\n",
       "\n",
       "    .dataframe tbody tr th {\n",
       "        vertical-align: top;\n",
       "    }\n",
       "\n",
       "    .dataframe thead th {\n",
       "        text-align: right;\n",
       "    }\n",
       "</style>\n",
       "<table border=\"1\" class=\"dataframe\">\n",
       "  <thead>\n",
       "    <tr style=\"text-align: right;\">\n",
       "      <th>true</th>\n",
       "      <th>0</th>\n",
       "      <th>1</th>\n",
       "      <th>2</th>\n",
       "    </tr>\n",
       "    <tr>\n",
       "      <th>pred</th>\n",
       "      <th></th>\n",
       "      <th></th>\n",
       "      <th></th>\n",
       "    </tr>\n",
       "  </thead>\n",
       "  <tbody>\n",
       "    <tr>\n",
       "      <th>0</th>\n",
       "      <td>26134</td>\n",
       "      <td>8941</td>\n",
       "      <td>9871</td>\n",
       "    </tr>\n",
       "    <tr>\n",
       "      <th>1</th>\n",
       "      <td>4810</td>\n",
       "      <td>12370</td>\n",
       "      <td>3572</td>\n",
       "    </tr>\n",
       "    <tr>\n",
       "      <th>2</th>\n",
       "      <td>5509</td>\n",
       "      <td>4086</td>\n",
       "      <td>9113</td>\n",
       "    </tr>\n",
       "  </tbody>\n",
       "</table>\n",
       "</div>"
      ],
      "text/plain": [
       "true      0      1     2\n",
       "pred                    \n",
       "0     26134   8941  9871\n",
       "1      4810  12370  3572\n",
       "2      5509   4086  9113"
      ]
     },
     "metadata": {},
     "output_type": "display_data"
    },
    {
     "name": "stdout",
     "output_type": "stream",
     "text": [
      "(1) Soft Voting : Macro F1 Score: 0.5406\n"
     ]
    },
    {
     "data": {
      "text/html": [
       "<div>\n",
       "<style scoped>\n",
       "    .dataframe tbody tr th:only-of-type {\n",
       "        vertical-align: middle;\n",
       "    }\n",
       "\n",
       "    .dataframe tbody tr th {\n",
       "        vertical-align: top;\n",
       "    }\n",
       "\n",
       "    .dataframe thead th {\n",
       "        text-align: right;\n",
       "    }\n",
       "</style>\n",
       "<table border=\"1\" class=\"dataframe\">\n",
       "  <thead>\n",
       "    <tr style=\"text-align: right;\">\n",
       "      <th>true</th>\n",
       "      <th>0</th>\n",
       "      <th>1</th>\n",
       "      <th>2</th>\n",
       "    </tr>\n",
       "    <tr>\n",
       "      <th>pred</th>\n",
       "      <th></th>\n",
       "      <th></th>\n",
       "      <th></th>\n",
       "    </tr>\n",
       "  </thead>\n",
       "  <tbody>\n",
       "    <tr>\n",
       "      <th>0</th>\n",
       "      <td>26103</td>\n",
       "      <td>8910</td>\n",
       "      <td>9876</td>\n",
       "    </tr>\n",
       "    <tr>\n",
       "      <th>1</th>\n",
       "      <td>4812</td>\n",
       "      <td>12400</td>\n",
       "      <td>3536</td>\n",
       "    </tr>\n",
       "    <tr>\n",
       "      <th>2</th>\n",
       "      <td>5538</td>\n",
       "      <td>4087</td>\n",
       "      <td>9144</td>\n",
       "    </tr>\n",
       "  </tbody>\n",
       "</table>\n",
       "</div>"
      ],
      "text/plain": [
       "true      0      1     2\n",
       "pred                    \n",
       "0     26103   8910  9876\n",
       "1      4812  12400  3536\n",
       "2      5538   4087  9144"
      ]
     },
     "metadata": {},
     "output_type": "display_data"
    }
   ],
   "source": [
    "y_true = train_df4[target_feature].astype(float).astype(int)\n",
    "\n",
    "score = f1_score(y_true=y_true,y_pred=preds_hard_voting,average='macro')\n",
    "print('(1) Hard Voting : Macro F1 Score: {:.4f}'.format(score))\n",
    "display(pd.crosstab(preds_hard_voting,y_true,rownames=['pred'],colnames=['true']))\n",
    "\n",
    "score = f1_score(y_true=y_true,y_pred=preds_soft_voting,average='macro')\n",
    "print('(1) Soft Voting : Macro F1 Score: {:.4f}'.format(score))\n",
    "display(pd.crosstab(preds_soft_voting,y_true,rownames=['pred'],colnames=['true']))"
   ]
  },
  {
   "cell_type": "markdown",
   "id": "8ede19c6-7ee1-4865-a26b-918a862c4812",
   "metadata": {},
   "source": [
    "<br>"
   ]
  },
  {
   "cell_type": "markdown",
   "id": "999f7cee-27a6-4f1d-9ef1-09c068a81976",
   "metadata": {},
   "source": [
    "## Test dataset"
   ]
  },
  {
   "cell_type": "code",
   "execution_count": 45,
   "id": "afc2d11a-1a50-4ef1-85f3-9aa61dff39bf",
   "metadata": {},
   "outputs": [
    {
     "name": "stderr",
     "output_type": "stream",
     "text": [
      "100%|██████████| 3/3 [00:00<00:00,  5.02it/s]\n"
     ]
    }
   ],
   "source": [
    "hard_voting_dict = {}\n",
    "soft_voting_dict = {}\n",
    "i=0\n",
    "for model in tqdm(models):\n",
    "    i+=1\n",
    "    dataset = Pool(test_df4,cat_features=cat_features)\n",
    "    hard_voting_dict[str(i)] = model.predict(dataset).flatten()\n",
    "    soft_voting_dict[str(i)] = model.predict_proba(dataset)"
   ]
  },
  {
   "cell_type": "code",
   "execution_count": 46,
   "id": "4ce5f69b-7a91-4657-ba4f-5c4edc0e2cb2",
   "metadata": {},
   "outputs": [
    {
     "name": "stderr",
     "output_type": "stream",
     "text": [
      "100%|██████████| 17289/17289 [00:03<00:00, 5261.35it/s]\n"
     ]
    }
   ],
   "source": [
    "preds_hard_voting = pd.DataFrame(hard_voting_dict)\\\n",
    "    .progress_apply(lambda x: x.value_counts().sort_values(ascending=False).index.tolist()[0],axis=1)\n",
    "preds_hard_voting = [int(float(x)) for x in preds_hard_voting]\n",
    "\n",
    "proba_soft_voting = np.mean([proba for key,proba in soft_voting_dict.items()],axis=0)\n",
    "preds_soft_voting = np.argmax(proba_soft_voting,axis=1)\n",
    "preds_soft_voting = [int(float(x)) for x in preds_soft_voting]"
   ]
  },
  {
   "cell_type": "code",
   "execution_count": 47,
   "id": "c7a7087e-0e3b-4802-9477-26acc16c4ad9",
   "metadata": {},
   "outputs": [],
   "source": [
    "# pred = preds_hard_voting\n",
    "pred = preds_soft_voting\n",
    "\n",
    "submit = pd.read_csv('./data/sample_submission.csv')\n",
    "submit['TARGET'] = preds_hard_voting\n",
    "submit['TARGET'] = submit['TARGET'].astype(float).astype(int)\n",
    "submit.to_csv('./out/submission_kfold3_featureselect0.05.csv',index=False)"
   ]
  },
  {
   "cell_type": "code",
   "execution_count": null,
   "id": "c87bce96-4e19-4554-a418-3de4bf7365f6",
   "metadata": {},
   "outputs": [],
   "source": []
  }
 ],
 "metadata": {
  "kernelspec": {
   "display_name": "Python 3",
   "language": "python",
   "name": "python3"
  },
  "language_info": {
   "codemirror_mode": {
    "name": "ipython",
    "version": 3
   },
   "file_extension": ".py",
   "mimetype": "text/x-python",
   "name": "python",
   "nbconvert_exporter": "python",
   "pygments_lexer": "ipython3",
   "version": "3.8.10"
  },
  "toc-autonumbering": true
 },
 "nbformat": 4,
 "nbformat_minor": 5
}
