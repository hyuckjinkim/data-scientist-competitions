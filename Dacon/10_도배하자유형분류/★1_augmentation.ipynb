{
 "cells": [
  {
   "cell_type": "code",
   "execution_count": 1,
   "id": "RbiIi4rNq1vU",
   "metadata": {
    "colab": {
     "base_uri": "https://localhost:8080/"
    },
    "executionInfo": {
     "elapsed": 3429,
     "status": "ok",
     "timestamp": 1682687100737,
     "user": {
      "displayName": "김혁진",
      "userId": "00473223970764510069"
     },
     "user_tz": -540
    },
    "id": "RbiIi4rNq1vU",
    "outputId": "dfdc108c-5d86-4609-d873-ed3e65c09d50"
   },
   "outputs": [
    {
     "name": "stdout",
     "output_type": "stream",
     "text": [
      "Drive already mounted at /content/drive; to attempt to forcibly remount, call drive.mount(\"/content/drive\", force_remount=True).\n"
     ]
    }
   ],
   "source": [
    "from google.colab import drive\n",
    "drive.mount('/content/drive')\n",
    "\n",
    "import os\n",
    "REF_PATH = '/content/drive/MyDrive/Github/10_도배하자유형분류'\n",
    "os.chdir(REF_PATH)"
   ]
  },
  {
   "cell_type": "code",
   "execution_count": 2,
   "id": "HPAXRvN9xwUk",
   "metadata": {
    "executionInfo": {
     "elapsed": 3,
     "status": "ok",
     "timestamp": 1682687100737,
     "user": {
      "displayName": "김혁진",
      "userId": "00473223970764510069"
     },
     "user_tz": -540
    },
    "id": "HPAXRvN9xwUk"
   },
   "outputs": [],
   "source": [
    "from lib.base import mkdir, label_encoder, label_decoder"
   ]
  },
  {
   "cell_type": "markdown",
   "id": "6d9f576b-4071-4648-8a4e-23dbf55f15fc",
   "metadata": {
    "id": "6d9f576b-4071-4648-8a4e-23dbf55f15fc"
   },
   "source": [
    "# Setting"
   ]
  },
  {
   "cell_type": "markdown",
   "id": "a2bcba5f-002e-4f49-9622-ada6117faf0a",
   "metadata": {
    "id": "a2bcba5f-002e-4f49-9622-ada6117faf0a"
   },
   "source": [
    "<br>\n",
    "\n",
    "## Import"
   ]
  },
  {
   "cell_type": "code",
   "execution_count": 3,
   "id": "5994fbc9-c221-42bd-b1e4-1ffae6170222",
   "metadata": {
    "colab": {
     "base_uri": "https://localhost:8080/"
    },
    "executionInfo": {
     "elapsed": 2,
     "status": "ok",
     "timestamp": 1682687100737,
     "user": {
      "displayName": "김혁진",
      "userId": "00473223970764510069"
     },
     "user_tz": -540
    },
    "id": "5994fbc9-c221-42bd-b1e4-1ffae6170222",
    "outputId": "a4f0a86d-f93e-4ba4-f281-496c1ef1115a"
   },
   "outputs": [
    {
     "data": {
      "text/plain": [
       "35"
      ]
     },
     "execution_count": 3,
     "metadata": {},
     "output_type": "execute_result"
    }
   ],
   "source": [
    "import gc\n",
    "gc.collect()"
   ]
  },
  {
   "cell_type": "code",
   "execution_count": 4,
   "id": "2b0d9b68-7102-4eca-9543-3b9b8acafc6e",
   "metadata": {
    "executionInfo": {
     "elapsed": 2438,
     "status": "ok",
     "timestamp": 1682687103174,
     "user": {
      "displayName": "김혁진",
      "userId": "00473223970764510069"
     },
     "user_tz": -540
    },
    "id": "2b0d9b68-7102-4eca-9543-3b9b8acafc6e"
   },
   "outputs": [],
   "source": [
    "import pandas as pd\n",
    "import numpy as np\n",
    "import glob\n",
    "import cv2\n",
    "\n",
    "import torch\n",
    "\n",
    "import albumentations as A\n",
    "\n",
    "from sklearn.model_selection import train_test_split\n",
    "from sklearn import preprocessing\n",
    "from tqdm import tqdm, trange\n",
    "\n",
    "from PIL import Image\n",
    "import torchvision.utils as vutils\n",
    "from joblib import Parallel, delayed, parallel_backend"
   ]
  },
  {
   "cell_type": "markdown",
   "id": "fc7df3f2-62d0-4499-a46e-47d01699def0",
   "metadata": {
    "id": "fc7df3f2-62d0-4499-a46e-47d01699def0"
   },
   "source": [
    "<br>\n",
    "\n",
    "## Hyperparameter Setting"
   ]
  },
  {
   "cell_type": "code",
   "execution_count": 5,
   "id": "c3367399-9798-4e38-967b-fd2320b9a2b2",
   "metadata": {
    "executionInfo": {
     "elapsed": 11,
     "status": "ok",
     "timestamp": 1682687103174,
     "user": {
      "displayName": "김혁진",
      "userId": "00473223970764510069"
     },
     "user_tz": -540
    },
    "id": "c3367399-9798-4e38-967b-fd2320b9a2b2"
   },
   "outputs": [],
   "source": [
    "CFG = {\n",
    "    'IMG_SIZE':224, #224,320,384\n",
    "    'EPOCHS':128,\n",
    "    'LEARNING_RATE':1e-4,\n",
    "    'BATCH_SIZE':16,\n",
    "    'SEED':0,\n",
    "}"
   ]
  },
  {
   "cell_type": "markdown",
   "id": "26cb6963-c1d5-4bf8-bd37-3e9b7cbae18d",
   "metadata": {
    "id": "26cb6963-c1d5-4bf8-bd37-3e9b7cbae18d"
   },
   "source": [
    "<br></br>\n",
    "\n",
    "# Data Load"
   ]
  },
  {
   "cell_type": "markdown",
   "id": "05a4172e-5791-446f-9616-35c09d8bf25a",
   "metadata": {
    "id": "05a4172e-5791-446f-9616-35c09d8bf25a"
   },
   "source": [
    "<br>\n",
    "\n",
    "## Data Pre-processing"
   ]
  },
  {
   "cell_type": "code",
   "execution_count": 6,
   "id": "BjBpcmh7vl2_",
   "metadata": {
    "executionInfo": {
     "elapsed": 11,
     "status": "ok",
     "timestamp": 1682687103174,
     "user": {
      "displayName": "김혁진",
      "userId": "00473223970764510069"
     },
     "user_tz": -540
    },
    "id": "BjBpcmh7vl2_"
   },
   "outputs": [],
   "source": [
    "# !unzip\\\n",
    "#   /content/drive/MyDrive/Github/10_도배하자유형분류/data/open.zip\\\n",
    "#   -d\\\n",
    "#   /content/drive/MyDrive/Github/10_도배하자유형분류/data/"
   ]
  },
  {
   "cell_type": "code",
   "execution_count": 7,
   "id": "a62c78cd-4f40-4e98-b8a6-1b6f1d906b4d",
   "metadata": {
    "executionInfo": {
     "elapsed": 11,
     "status": "ok",
     "timestamp": 1682687103175,
     "user": {
      "displayName": "김혁진",
      "userId": "00473223970764510069"
     },
     "user_tz": -540
    },
    "id": "a62c78cd-4f40-4e98-b8a6-1b6f1d906b4d"
   },
   "outputs": [],
   "source": [
    "all_img_list = glob.glob(REF_PATH+'/data/train/*/*')"
   ]
  },
  {
   "cell_type": "code",
   "execution_count": 8,
   "id": "4119733d-adef-436c-afca-4112a9225d33",
   "metadata": {
    "executionInfo": {
     "elapsed": 11,
     "status": "ok",
     "timestamp": 1682687103175,
     "user": {
      "displayName": "김혁진",
      "userId": "00473223970764510069"
     },
     "user_tz": -540
    },
    "id": "4119733d-adef-436c-afca-4112a9225d33"
   },
   "outputs": [],
   "source": [
    "df = pd.DataFrame(columns=['img_path', 'label'])\n",
    "df['img_path'] = all_img_list\n",
    "df['label'] = df['img_path'].apply(lambda x : x.split('/')[-2].replace('.png',''))"
   ]
  },
  {
   "cell_type": "code",
   "execution_count": 9,
   "id": "4db41c93-3515-4fcd-936b-0a01f5388b3f",
   "metadata": {
    "executionInfo": {
     "elapsed": 11,
     "status": "ok",
     "timestamp": 1682687103175,
     "user": {
      "displayName": "김혁진",
      "userId": "00473223970764510069"
     },
     "user_tz": -540
    },
    "id": "4db41c93-3515-4fcd-936b-0a01f5388b3f"
   },
   "outputs": [],
   "source": [
    "train_data, val_data, _, _ = train_test_split(df, df['label'], test_size=0.3, stratify=df['label'], random_state=CFG['SEED'])"
   ]
  },
  {
   "cell_type": "markdown",
   "id": "GhSmOFWe1H80",
   "metadata": {
    "id": "GhSmOFWe1H80"
   },
   "source": [
    "<br>"
   ]
  },
  {
   "cell_type": "markdown",
   "id": "bb1f117e-105d-4e9e-b9bd-938d4271a940",
   "metadata": {
    "id": "bb1f117e-105d-4e9e-b9bd-938d4271a940"
   },
   "source": [
    "<br>\n",
    "\n",
    "## Label-Encoding"
   ]
  },
  {
   "cell_type": "code",
   "execution_count": 10,
   "id": "6c8c5916-8065-4b5c-aa37-f3fb2b9fa422",
   "metadata": {
    "executionInfo": {
     "elapsed": 11,
     "status": "ok",
     "timestamp": 1682687103175,
     "user": {
      "displayName": "김혁진",
      "userId": "00473223970764510069"
     },
     "user_tz": -540
    },
    "id": "6c8c5916-8065-4b5c-aa37-f3fb2b9fa422"
   },
   "outputs": [],
   "source": [
    "le = preprocessing.LabelEncoder()\n",
    "train_data['label'] = le.fit_transform(train_data['label'])\n",
    "val_data  ['label'] = le.transform(val_data['label'])"
   ]
  },
  {
   "cell_type": "markdown",
   "id": "ac27ed36-8031-47a7-bd0d-a913513f2e8e",
   "metadata": {
    "id": "ac27ed36-8031-47a7-bd0d-a913513f2e8e"
   },
   "source": [
    "<br></br>\n",
    "\n",
    "# Augmentation을 통한 이미지 생성"
   ]
  },
  {
   "cell_type": "code",
   "execution_count": 11,
   "id": "87ed7b1b-0b57-4aed-a5ab-a63e12670aa3",
   "metadata": {
    "colab": {
     "base_uri": "https://localhost:8080/"
    },
    "executionInfo": {
     "elapsed": 10,
     "status": "ok",
     "timestamp": 1682687103175,
     "user": {
      "displayName": "김혁진",
      "userId": "00473223970764510069"
     },
     "user_tz": -540
    },
    "id": "87ed7b1b-0b57-4aed-a5ab-a63e12670aa3",
    "outputId": "b4e709ff-0e71-46f0-c63c-dde9788b5012"
   },
   "outputs": [
    {
     "name": "stderr",
     "output_type": "stream",
     "text": [
      "/usr/local/lib/python3.10/dist-packages/albumentations/imgaug/transforms.py:263: FutureWarning: IAAAdditiveGaussianNoise is deprecated. Please use GaussNoise instead\n",
      "  warnings.warn(\"IAAAdditiveGaussianNoise is deprecated. Please use GaussNoise instead\", FutureWarning)\n"
     ]
    }
   ],
   "source": [
    "# 이미지 생성을 위한 augmentations 정의\n",
    "augmentations_essential = A.Compose([\n",
    "    A.HorizontalFlip(p=1),            # 이미지를 좌우로 뒤집는 함수\n",
    "])\n",
    "\n",
    "augmentations_selective = A.SomeOf([\n",
    "    A.RandomBrightnessContrast(p=1),  # 이미지의 밝기와 대조를 무작위로 조정하는 함수\n",
    "    A.OneOf([\n",
    "        A.MotionBlur(),               # 이미지에 블러 효과를 적용하는 함수\n",
    "        A.MedianBlur(),               # 이미지에 미디언 필터를 적용하는 함수\n",
    "        A.Blur(),                     # 이미지에 가우시안 필터를 적용하는 함수\n",
    "    ], p=1),\n",
    "    A.OneOf([\n",
    "        A.IAAAdditiveGaussianNoise(), # 이미지에 가우시안 노이즈를 추가하는 함수\n",
    "        A.GaussNoise(),               # 이미지에 가우시안 노이즈를 추가하는 함수\n",
    "    ], p=1),\n",
    "    A.ColorJitter(                    # 이미지의 채도, 명도, 대조, 색조 등을 랜덤하게 조정하는 함수\n",
    "        brightness=0.2,\n",
    "        contrast=0.2,\n",
    "        saturation=0.2,\n",
    "        hue=0.2,\n",
    "        p=1,\n",
    "    ),\n",
    "    A.ElasticTransform(               # 이미지를 탄성 변환시키는 함수\n",
    "        alpha=1,\n",
    "        sigma=50,\n",
    "        alpha_affine=50,\n",
    "        p=1,\n",
    "    ),\n",
    "    A.CLAHE(                          # 이미지의 대비를 향상시키는 함수\n",
    "        p=1,\n",
    "        clip_limit=2.0,\n",
    "        tile_grid_size=(8, 8),\n",
    "    ),\n",
    "    A.RandomGamma(                    # 이미지의 채도를 향상시키는 함수\n",
    "        p=1,\n",
    "        gamma_limit=(150, 255),\n",
    "    ),\n",
    "    # A.Flip(p=1),                      # 이미지를 상하/좌우로 뒤집는 함수\n",
    "    # A.Transpose(p=p),                 # 이미지를 대각선을 기준으로 뒤집는 함수\n",
    "    # A.RandomRotate90(p=p),            # 90도 단위로 회전하는 함수\n",
    "    # A.ShiftScaleRotate(               # 이미지를 이동, 확대/축소, 회전하는 함수\n",
    "    #     shift_limit=0.0625,\n",
    "    #     scale_limit=0.2,\n",
    "    #     rotate_limit=45,\n",
    "    #     p=0.2),\n",
    "    A.OneOf([\n",
    "        A.RandomSnow(),                 # 이미지에 눈 모양의 노이즈를 추가하는 함수\n",
    "        A.RandomRain(),                 # 이미지에 비 모양의 노이즈를 추가하는 함수\n",
    "    ])\n",
    "],n=4)\n",
    "\n",
    "augmentations = {\n",
    "    'essential' : augmentations_essential,\n",
    "    'selective'  : augmentations_selective,\n",
    "}"
   ]
  },
  {
   "cell_type": "code",
   "execution_count": 54,
   "id": "1149c02c-dd66-4c7e-b42e-23266e8a2c4e",
   "metadata": {
    "colab": {
     "base_uri": "https://localhost:8080/"
    },
    "executionInfo": {
     "elapsed": 3,
     "status": "ok",
     "timestamp": 1682688276567,
     "user": {
      "displayName": "김혁진",
      "userId": "00473223970764510069"
     },
     "user_tz": -540
    },
    "id": "1149c02c-dd66-4c7e-b42e-23266e8a2c4e",
    "outputId": "669e3ade-9f62-4207-c589-fbbcf5aa2d85"
   },
   "outputs": [
    {
     "name": "stdout",
     "output_type": "stream",
     "text": [
      "maximum : 70\n"
     ]
    }
   ],
   "source": [
    "# augmentation의 조합의 수\n",
    "from math import comb\n",
    "maximum = comb(len(augmentations['selective']),augmentations['selective'].n)\n",
    "print('maximum :',maximum)"
   ]
  },
  {
   "cell_type": "code",
   "execution_count": 55,
   "id": "c5fd64de-2a7e-4f8d-bf9d-11e1d59881a1",
   "metadata": {
    "executionInfo": {
     "elapsed": 2,
     "status": "ok",
     "timestamp": 1682688276567,
     "user": {
      "displayName": "김혁진",
      "userId": "00473223970764510069"
     },
     "user_tz": -540
    },
    "id": "c5fd64de-2a7e-4f8d-bf9d-11e1d59881a1"
   },
   "outputs": [],
   "source": [
    "CFG['a'] = 30  # 20\n",
    "CFG['b'] = 0.2 # 0.2"
   ]
  },
  {
   "cell_type": "code",
   "execution_count": 56,
   "id": "9fd4d46f-73bd-44c8-9c02-2bad3e1bd2e2",
   "metadata": {
    "executionInfo": {
     "elapsed": 2,
     "status": "ok",
     "timestamp": 1682688276567,
     "user": {
      "displayName": "김혁진",
      "userId": "00473223970764510069"
     },
     "user_tz": -540
    },
    "id": "9fd4d46f-73bd-44c8-9c02-2bad3e1bd2e2"
   },
   "outputs": [],
   "source": [
    "def n_generate_fn(freq,a,b):\n",
    "    percentage = freq / freq.sum()\n",
    "    return CFG['a'] * (percentage**-CFG['b']) / freq"
   ]
  },
  {
   "cell_type": "code",
   "execution_count": 57,
   "id": "755736e8-a100-44bc-80cd-8c8cad6f4dd4",
   "metadata": {
    "executionInfo": {
     "elapsed": 2,
     "status": "ok",
     "timestamp": 1682688276567,
     "user": {
      "displayName": "김혁진",
      "userId": "00473223970764510069"
     },
     "user_tz": -540
    },
    "id": "755736e8-a100-44bc-80cd-8c8cad6f4dd4"
   },
   "outputs": [],
   "source": [
    "from math import comb\n",
    "def get_n_generate(label_list,ref_percentage,n_generate_fn,augmentations,check=False):\n",
    "\n",
    "    # 비중이 ref_percentage보다 작은 대상에 대해서, 증강시킬 개수를 np.sqrt(1/비중)으로 계산\n",
    "    freq = pd.Series(label_list).value_counts()\n",
    "    percentage = freq / freq.sum()\n",
    "    augmentation_info = pd.Series([p if p<ref_percentage else 999999 for p in percentage],index=percentage.index)\n",
    "    augmentation_info = n_generate_fn(freq,CFG['a'],CFG['b'])\n",
    "    augmentation_label = augmentation_info.index.tolist()\n",
    "    augmentation_n = augmentation_info.values\n",
    "    augmentation_n = [int(n) for n in augmentation_n] # float -> int\n",
    "\n",
    "    # 최대 생성개수 제한 넣기\n",
    "    # (OneOf가 있어서 조합의 수가 더 커지긴 하지만, 적당히 주기위해서 더이상 계산하지않음)\n",
    "    max_n_augmentation = comb(len(augmentations['selective']),augmentations['selective'].n)\n",
    "    augmentation_n = [min(n,max_n_augmentation) for n in augmentation_n]\n",
    "    print('> a={}, b={}, augmentation maximum={}'.format(CFG['a'],CFG['b'],maximum))\n",
    "    \n",
    "    # 최종 생성개수 확인\n",
    "    n_df = pd.Series({l:n for f,n,l in zip(freq,augmentation_n,augmentation_label)})\\\n",
    "        .to_frame().reset_index().rename(columns={'index':'label',0:'n_each_generate'})\n",
    "    asis_df = pd.Series({l:f for f,n,l in zip(freq,augmentation_n,augmentation_label)})\\\n",
    "        .to_frame().reset_index().rename(columns={'index':'label',0:'freq_asis'})\n",
    "    tobe_df = pd.Series({l:f*(n+1) for f,n,l in zip(freq,augmentation_n,augmentation_label)})\\\n",
    "        .to_frame().reset_index().rename(columns={'index':'label',0:'freq_tobe'})\n",
    "\n",
    "    total_df = pd.merge(asis_df,tobe_df,how='outer',on='label')\n",
    "    total_df = pd.merge(total_df,n_df,how='outer',on='label')\n",
    "    total_df['n_generated'] = total_df['freq_tobe']-total_df['freq_asis']\n",
    "    total_df['p_asis'] = 100 * total_df['freq_asis'] / total_df['freq_asis'].sum()\n",
    "    total_df['p_tobe'] = 100 * total_df['freq_tobe'] / total_df['freq_tobe'].sum()\n",
    "    total_df = total_df.sort_values('freq_asis').reset_index(drop=True)\n",
    "    \n",
    "    print('> Asis: {:,}, Tobe: {:,}, Generated: {:,}\\n'\\\n",
    "        .format(total_df.freq_asis.sum(), total_df.freq_tobe.sum(), total_df.freq_tobe.sum()-total_df.freq_asis.sum()))\n",
    "    \n",
    "    if not check:\n",
    "        return np.array(augmentation_label),np.array(augmentation_n),total_df.freq_tobe.sum()-total_df.freq_asis.sum()\n",
    "    else:\n",
    "        display(total_df.round(2))"
   ]
  },
  {
   "cell_type": "code",
   "execution_count": 58,
   "id": "e6926968-f45f-4b57-87d8-586c50d6fd51",
   "metadata": {
    "colab": {
     "base_uri": "https://localhost:8080/",
     "height": 699
    },
    "executionInfo": {
     "elapsed": 1908,
     "status": "ok",
     "timestamp": 1682688279637,
     "user": {
      "displayName": "김혁진",
      "userId": "00473223970764510069"
     },
     "user_tz": -540
    },
    "id": "e6926968-f45f-4b57-87d8-586c50d6fd51",
    "outputId": "4b5c4745-d042-431e-b00c-0b63eeee6ef8"
   },
   "outputs": [
    {
     "name": "stdout",
     "output_type": "stream",
     "text": [
      "> a=30, b=0.2, augmentation maximum=70\n",
      "> Asis: 2,419, Tobe: 3,168, Generated: 749\n",
      "\n"
     ]
    },
    {
     "data": {
      "text/html": [
       "\n",
       "  <div id=\"df-601b11fc-dce8-4e6c-9982-3d93f9da2fa2\">\n",
       "    <div class=\"colab-df-container\">\n",
       "      <div>\n",
       "<style scoped>\n",
       "    .dataframe tbody tr th:only-of-type {\n",
       "        vertical-align: middle;\n",
       "    }\n",
       "\n",
       "    .dataframe tbody tr th {\n",
       "        vertical-align: top;\n",
       "    }\n",
       "\n",
       "    .dataframe thead th {\n",
       "        text-align: right;\n",
       "    }\n",
       "</style>\n",
       "<table border=\"1\" class=\"dataframe\">\n",
       "  <thead>\n",
       "    <tr style=\"text-align: right;\">\n",
       "      <th></th>\n",
       "      <th>label</th>\n",
       "      <th>freq_asis</th>\n",
       "      <th>freq_tobe</th>\n",
       "      <th>n_each_generate</th>\n",
       "      <th>n_generated</th>\n",
       "      <th>p_asis</th>\n",
       "      <th>p_tobe</th>\n",
       "    </tr>\n",
       "  </thead>\n",
       "  <tbody>\n",
       "    <tr>\n",
       "      <th>0</th>\n",
       "      <td>8</td>\n",
       "      <td>2</td>\n",
       "      <td>126</td>\n",
       "      <td>62</td>\n",
       "      <td>124</td>\n",
       "      <td>0.08</td>\n",
       "      <td>3.98</td>\n",
       "    </tr>\n",
       "    <tr>\n",
       "      <th>1</th>\n",
       "      <td>16</td>\n",
       "      <td>4</td>\n",
       "      <td>112</td>\n",
       "      <td>27</td>\n",
       "      <td>108</td>\n",
       "      <td>0.17</td>\n",
       "      <td>3.54</td>\n",
       "    </tr>\n",
       "    <tr>\n",
       "      <th>2</th>\n",
       "      <td>0</td>\n",
       "      <td>8</td>\n",
       "      <td>96</td>\n",
       "      <td>11</td>\n",
       "      <td>88</td>\n",
       "      <td>0.33</td>\n",
       "      <td>3.03</td>\n",
       "    </tr>\n",
       "    <tr>\n",
       "      <th>3</th>\n",
       "      <td>4</td>\n",
       "      <td>10</td>\n",
       "      <td>90</td>\n",
       "      <td>8</td>\n",
       "      <td>80</td>\n",
       "      <td>0.41</td>\n",
       "      <td>2.84</td>\n",
       "    </tr>\n",
       "    <tr>\n",
       "      <th>4</th>\n",
       "      <td>13</td>\n",
       "      <td>12</td>\n",
       "      <td>96</td>\n",
       "      <td>7</td>\n",
       "      <td>84</td>\n",
       "      <td>0.50</td>\n",
       "      <td>3.03</td>\n",
       "    </tr>\n",
       "    <tr>\n",
       "      <th>5</th>\n",
       "      <td>12</td>\n",
       "      <td>15</td>\n",
       "      <td>90</td>\n",
       "      <td>5</td>\n",
       "      <td>75</td>\n",
       "      <td>0.62</td>\n",
       "      <td>2.84</td>\n",
       "    </tr>\n",
       "    <tr>\n",
       "      <th>6</th>\n",
       "      <td>14</td>\n",
       "      <td>19</td>\n",
       "      <td>95</td>\n",
       "      <td>4</td>\n",
       "      <td>76</td>\n",
       "      <td>0.79</td>\n",
       "      <td>3.00</td>\n",
       "    </tr>\n",
       "    <tr>\n",
       "      <th>7</th>\n",
       "      <td>17</td>\n",
       "      <td>36</td>\n",
       "      <td>72</td>\n",
       "      <td>1</td>\n",
       "      <td>36</td>\n",
       "      <td>1.49</td>\n",
       "      <td>2.27</td>\n",
       "    </tr>\n",
       "    <tr>\n",
       "      <th>8</th>\n",
       "      <td>5</td>\n",
       "      <td>38</td>\n",
       "      <td>76</td>\n",
       "      <td>1</td>\n",
       "      <td>38</td>\n",
       "      <td>1.57</td>\n",
       "      <td>2.40</td>\n",
       "    </tr>\n",
       "    <tr>\n",
       "      <th>9</th>\n",
       "      <td>9</td>\n",
       "      <td>40</td>\n",
       "      <td>80</td>\n",
       "      <td>1</td>\n",
       "      <td>40</td>\n",
       "      <td>1.65</td>\n",
       "      <td>2.53</td>\n",
       "    </tr>\n",
       "    <tr>\n",
       "      <th>10</th>\n",
       "      <td>6</td>\n",
       "      <td>69</td>\n",
       "      <td>69</td>\n",
       "      <td>0</td>\n",
       "      <td>0</td>\n",
       "      <td>2.85</td>\n",
       "      <td>2.18</td>\n",
       "    </tr>\n",
       "    <tr>\n",
       "      <th>11</th>\n",
       "      <td>7</td>\n",
       "      <td>91</td>\n",
       "      <td>91</td>\n",
       "      <td>0</td>\n",
       "      <td>0</td>\n",
       "      <td>3.76</td>\n",
       "      <td>2.87</td>\n",
       "    </tr>\n",
       "    <tr>\n",
       "      <th>12</th>\n",
       "      <td>11</td>\n",
       "      <td>99</td>\n",
       "      <td>99</td>\n",
       "      <td>0</td>\n",
       "      <td>0</td>\n",
       "      <td>4.09</td>\n",
       "      <td>3.12</td>\n",
       "    </tr>\n",
       "    <tr>\n",
       "      <th>13</th>\n",
       "      <td>2</td>\n",
       "      <td>102</td>\n",
       "      <td>102</td>\n",
       "      <td>0</td>\n",
       "      <td>0</td>\n",
       "      <td>4.22</td>\n",
       "      <td>3.22</td>\n",
       "    </tr>\n",
       "    <tr>\n",
       "      <th>14</th>\n",
       "      <td>15</td>\n",
       "      <td>113</td>\n",
       "      <td>113</td>\n",
       "      <td>0</td>\n",
       "      <td>0</td>\n",
       "      <td>4.67</td>\n",
       "      <td>3.57</td>\n",
       "    </tr>\n",
       "    <tr>\n",
       "      <th>15</th>\n",
       "      <td>3</td>\n",
       "      <td>147</td>\n",
       "      <td>147</td>\n",
       "      <td>0</td>\n",
       "      <td>0</td>\n",
       "      <td>6.08</td>\n",
       "      <td>4.64</td>\n",
       "    </tr>\n",
       "    <tr>\n",
       "      <th>16</th>\n",
       "      <td>1</td>\n",
       "      <td>215</td>\n",
       "      <td>215</td>\n",
       "      <td>0</td>\n",
       "      <td>0</td>\n",
       "      <td>8.89</td>\n",
       "      <td>6.79</td>\n",
       "    </tr>\n",
       "    <tr>\n",
       "      <th>17</th>\n",
       "      <td>10</td>\n",
       "      <td>416</td>\n",
       "      <td>416</td>\n",
       "      <td>0</td>\n",
       "      <td>0</td>\n",
       "      <td>17.20</td>\n",
       "      <td>13.13</td>\n",
       "    </tr>\n",
       "    <tr>\n",
       "      <th>18</th>\n",
       "      <td>18</td>\n",
       "      <td>983</td>\n",
       "      <td>983</td>\n",
       "      <td>0</td>\n",
       "      <td>0</td>\n",
       "      <td>40.64</td>\n",
       "      <td>31.03</td>\n",
       "    </tr>\n",
       "  </tbody>\n",
       "</table>\n",
       "</div>\n",
       "      <button class=\"colab-df-convert\" onclick=\"convertToInteractive('df-601b11fc-dce8-4e6c-9982-3d93f9da2fa2')\"\n",
       "              title=\"Convert this dataframe to an interactive table.\"\n",
       "              style=\"display:none;\">\n",
       "        \n",
       "  <svg xmlns=\"http://www.w3.org/2000/svg\" height=\"24px\"viewBox=\"0 0 24 24\"\n",
       "       width=\"24px\">\n",
       "    <path d=\"M0 0h24v24H0V0z\" fill=\"none\"/>\n",
       "    <path d=\"M18.56 5.44l.94 2.06.94-2.06 2.06-.94-2.06-.94-.94-2.06-.94 2.06-2.06.94zm-11 1L8.5 8.5l.94-2.06 2.06-.94-2.06-.94L8.5 2.5l-.94 2.06-2.06.94zm10 10l.94 2.06.94-2.06 2.06-.94-2.06-.94-.94-2.06-.94 2.06-2.06.94z\"/><path d=\"M17.41 7.96l-1.37-1.37c-.4-.4-.92-.59-1.43-.59-.52 0-1.04.2-1.43.59L10.3 9.45l-7.72 7.72c-.78.78-.78 2.05 0 2.83L4 21.41c.39.39.9.59 1.41.59.51 0 1.02-.2 1.41-.59l7.78-7.78 2.81-2.81c.8-.78.8-2.07 0-2.86zM5.41 20L4 18.59l7.72-7.72 1.47 1.35L5.41 20z\"/>\n",
       "  </svg>\n",
       "      </button>\n",
       "      \n",
       "  <style>\n",
       "    .colab-df-container {\n",
       "      display:flex;\n",
       "      flex-wrap:wrap;\n",
       "      gap: 12px;\n",
       "    }\n",
       "\n",
       "    .colab-df-convert {\n",
       "      background-color: #E8F0FE;\n",
       "      border: none;\n",
       "      border-radius: 50%;\n",
       "      cursor: pointer;\n",
       "      display: none;\n",
       "      fill: #1967D2;\n",
       "      height: 32px;\n",
       "      padding: 0 0 0 0;\n",
       "      width: 32px;\n",
       "    }\n",
       "\n",
       "    .colab-df-convert:hover {\n",
       "      background-color: #E2EBFA;\n",
       "      box-shadow: 0px 1px 2px rgba(60, 64, 67, 0.3), 0px 1px 3px 1px rgba(60, 64, 67, 0.15);\n",
       "      fill: #174EA6;\n",
       "    }\n",
       "\n",
       "    [theme=dark] .colab-df-convert {\n",
       "      background-color: #3B4455;\n",
       "      fill: #D2E3FC;\n",
       "    }\n",
       "\n",
       "    [theme=dark] .colab-df-convert:hover {\n",
       "      background-color: #434B5C;\n",
       "      box-shadow: 0px 1px 3px 1px rgba(0, 0, 0, 0.15);\n",
       "      filter: drop-shadow(0px 1px 2px rgba(0, 0, 0, 0.3));\n",
       "      fill: #FFFFFF;\n",
       "    }\n",
       "  </style>\n",
       "\n",
       "      <script>\n",
       "        const buttonEl =\n",
       "          document.querySelector('#df-601b11fc-dce8-4e6c-9982-3d93f9da2fa2 button.colab-df-convert');\n",
       "        buttonEl.style.display =\n",
       "          google.colab.kernel.accessAllowed ? 'block' : 'none';\n",
       "\n",
       "        async function convertToInteractive(key) {\n",
       "          const element = document.querySelector('#df-601b11fc-dce8-4e6c-9982-3d93f9da2fa2');\n",
       "          const dataTable =\n",
       "            await google.colab.kernel.invokeFunction('convertToInteractive',\n",
       "                                                     [key], {});\n",
       "          if (!dataTable) return;\n",
       "\n",
       "          const docLinkHtml = 'Like what you see? Visit the ' +\n",
       "            '<a target=\"_blank\" href=https://colab.research.google.com/notebooks/data_table.ipynb>data table notebook</a>'\n",
       "            + ' to learn more about interactive tables.';\n",
       "          element.innerHTML = '';\n",
       "          dataTable['output_type'] = 'display_data';\n",
       "          await google.colab.output.renderOutput(dataTable, element);\n",
       "          const docLink = document.createElement('div');\n",
       "          docLink.innerHTML = docLinkHtml;\n",
       "          element.appendChild(docLink);\n",
       "        }\n",
       "      </script>\n",
       "    </div>\n",
       "  </div>\n",
       "  "
      ],
      "text/plain": [
       "    label  freq_asis  freq_tobe  n_each_generate  n_generated  p_asis  p_tobe\n",
       "0       8          2        126               62          124    0.08    3.98\n",
       "1      16          4        112               27          108    0.17    3.54\n",
       "2       0          8         96               11           88    0.33    3.03\n",
       "3       4         10         90                8           80    0.41    2.84\n",
       "4      13         12         96                7           84    0.50    3.03\n",
       "5      12         15         90                5           75    0.62    2.84\n",
       "6      14         19         95                4           76    0.79    3.00\n",
       "7      17         36         72                1           36    1.49    2.27\n",
       "8       5         38         76                1           38    1.57    2.40\n",
       "9       9         40         80                1           40    1.65    2.53\n",
       "10      6         69         69                0            0    2.85    2.18\n",
       "11      7         91         91                0            0    3.76    2.87\n",
       "12     11         99         99                0            0    4.09    3.12\n",
       "13      2        102        102                0            0    4.22    3.22\n",
       "14     15        113        113                0            0    4.67    3.57\n",
       "15      3        147        147                0            0    6.08    4.64\n",
       "16      1        215        215                0            0    8.89    6.79\n",
       "17     10        416        416                0            0   17.20   13.13\n",
       "18     18        983        983                0            0   40.64   31.03"
      ]
     },
     "metadata": {},
     "output_type": "display_data"
    }
   ],
   "source": [
    "get_n_generate(train_data.label,0.01,n_generate_fn,augmentations,True)"
   ]
  },
  {
   "cell_type": "code",
   "execution_count": 59,
   "id": "594500cb-65da-467d-8af1-a261831fa14f",
   "metadata": {
    "executionInfo": {
     "elapsed": 4,
     "status": "ok",
     "timestamp": 1682688279638,
     "user": {
      "displayName": "김혁진",
      "userId": "00473223970764510069"
     },
     "user_tz": -540
    },
    "id": "594500cb-65da-467d-8af1-a261831fa14f"
   },
   "outputs": [],
   "source": [
    "class ImageGenerateByAugmentation:\n",
    "    def __init__(self, img_path_list, label_list, augmentations, ref_percentage=0.05):\n",
    "        self.img_path_list = np.array(img_path_list)\n",
    "        self.label_list = np.array(label_list)\n",
    "        self.augmentations = augmentations\n",
    "        self.ref_percentage = ref_percentage\n",
    "        \n",
    "        # 조합확인\n",
    "        self.augmentation_label, self.augmentation_n, self.n_image_total = get_n_generate(\n",
    "            self.label_list,self.ref_percentage,n_generate_fn,self.augmentations,False)\n",
    "        self.generate_augmentation_label = [label for n,label in zip(self.augmentation_n,self.augmentation_label) if n>0]\n",
    "        \n",
    "        # 상위폴더 생성\n",
    "        mkdir('./out/augmentation_images')\n",
    "\n",
    "        # augmentation으로 생성되는 이미지를 저장하기위한 라벨 폴더생성\n",
    "        for label in self.generate_augmentation_label:\n",
    "            mkdir('./out/augmentation_images/{}'.format(label))\n",
    "\n",
    "        self.generate_img_path   = [path for path,label in zip(self.img_path_list,self.label_list)\n",
    "                                    if label in self.generate_augmentation_label]\n",
    "        self.generate_label_list = [label for path,label in zip(self.img_path_list,self.label_list)\n",
    "                                    if label in self.generate_augmentation_label]\n",
    "\n",
    "    def generate(self,n_jobs=1):\n",
    "        self.generated_path = []\n",
    "        self.n_image = 0\n",
    "        self.pbar = trange(len(self.generate_img_path),desc='[Augmentation] Generate',leave=False,position=0)\n",
    "\n",
    "        if n_jobs==1:\n",
    "            for i in self.pbar:\n",
    "                self._generate_iteration(i)\n",
    "        else:\n",
    "            with parallel_backend('threading', n_jobs=n_jobs):\n",
    "                Parallel()(\n",
    "                    delayed(self._generate_iteration)(i)\n",
    "                    for i in self.pbar\n",
    "                )\n",
    "    \n",
    "    def _generate_iteration(self,i):\n",
    "\n",
    "        # (1) raw image\n",
    "        label = self.generate_label_list[i]\n",
    "    \n",
    "        # (2) augmentationed image\n",
    "        image = cv2.imread(self.generate_img_path[i])\n",
    "        augmentation_idx = np.where(self.augmentation_label==label)[0][0]\n",
    "        n_augmentation = self.augmentation_n[augmentation_idx]\n",
    "        for _ in range(n_augmentation):\n",
    "            _augmentations = A.Compose([\n",
    "                self.augmentations['essential'],\n",
    "                self.augmentations['selective'],\n",
    "            ])\n",
    "            new_image = _augmentations(image=image)['image']\n",
    "            Image.fromarray(new_image).save('./out/augmentation_images/{}/{}.png'.format(label,self.n_image))\n",
    "            self.n_image+=1\n",
    "\n",
    "            progress = '[Augmentation] Generate: {}/{}, Label: {}'.format(self.n_image,self.n_image_total,label)\n",
    "            self.pbar.set_description(progress)\n",
    "\n",
    "            self.generated_path.append('./out/augmentation_images/{}/{}.png'.format(label,self.n_image))"
   ]
  },
  {
   "cell_type": "code",
   "execution_count": 60,
   "id": "nbh6ddSFxYXe",
   "metadata": {
    "executionInfo": {
     "elapsed": 1047,
     "status": "ok",
     "timestamp": 1682688280681,
     "user": {
      "displayName": "김혁진",
      "userId": "00473223970764510069"
     },
     "user_tz": -540
    },
    "id": "nbh6ddSFxYXe"
   },
   "outputs": [],
   "source": [
    "# 기존파일 삭제\n",
    "import shutil\n",
    "shutil.rmtree(f'./out/augmentation_images')"
   ]
  },
  {
   "cell_type": "code",
   "execution_count": 61,
   "id": "DyEHFMhTtwFU",
   "metadata": {
    "colab": {
     "base_uri": "https://localhost:8080/"
    },
    "executionInfo": {
     "elapsed": 300356,
     "status": "ok",
     "timestamp": 1682688581033,
     "user": {
      "displayName": "김혁진",
      "userId": "00473223970764510069"
     },
     "user_tz": -540
    },
    "id": "DyEHFMhTtwFU",
    "outputId": "2ee1a35d-e4a2-4880-f5ee-443f9a28b20b"
   },
   "outputs": [
    {
     "name": "stdout",
     "output_type": "stream",
     "text": [
      "> a=30, b=0.2, augmentation maximum=70\n",
      "> Asis: 2,419, Tobe: 3,168, Generated: 749\n",
      "\n",
      "folder created: ./out/augmentation_images\n",
      "folder created: ./out/augmentation_images/9\n",
      "folder created: ./out/augmentation_images/5\n",
      "folder created: ./out/augmentation_images/17\n",
      "folder created: ./out/augmentation_images/14\n",
      "folder created: ./out/augmentation_images/12\n",
      "folder created: ./out/augmentation_images/13\n",
      "folder created: ./out/augmentation_images/4\n",
      "folder created: ./out/augmentation_images/0\n",
      "folder created: ./out/augmentation_images/16\n",
      "folder created: ./out/augmentation_images/8\n"
     ]
    },
    {
     "name": "stderr",
     "output_type": "stream",
     "text": []
    }
   ],
   "source": [
    "image_generator = ImageGenerateByAugmentation(\n",
    "    img_path_list=train_data.img_path,\n",
    "    label_list=train_data.label,\n",
    "    augmentations=augmentations,\n",
    "    ref_percentage=0.05,\n",
    ")\n",
    "\n",
    "image_generator.generate(n_jobs=1)"
   ]
  },
  {
   "cell_type": "code",
   "execution_count": 62,
   "id": "eUs6RPub_q1F",
   "metadata": {
    "colab": {
     "base_uri": "https://localhost:8080/"
    },
    "executionInfo": {
     "elapsed": 22,
     "status": "ok",
     "timestamp": 1682688581033,
     "user": {
      "displayName": "김혁진",
      "userId": "00473223970764510069"
     },
     "user_tz": -540
    },
    "id": "eUs6RPub_q1F",
    "outputId": "14a71d68-6119-4887-d824-1c610d04c032"
   },
   "outputs": [
    {
     "data": {
      "text/plain": [
       "./out/augmentation_images/9/1.png       1\n",
       "./out/augmentation_images/16/504.png    1\n",
       "./out/augmentation_images/8/495.png     1\n",
       "./out/augmentation_images/8/496.png     1\n",
       "./out/augmentation_images/8/497.png     1\n",
       "                                       ..\n",
       "./out/augmentation_images/4/253.png     1\n",
       "./out/augmentation_images/4/254.png     1\n",
       "./out/augmentation_images/4/255.png     1\n",
       "./out/augmentation_images/4/256.png     1\n",
       "./out/augmentation_images/5/749.png     1\n",
       "Length: 749, dtype: int64"
      ]
     },
     "execution_count": 62,
     "metadata": {},
     "output_type": "execute_result"
    }
   ],
   "source": [
    "pd.Series(image_generator.generated_path).value_counts()"
   ]
  },
  {
   "cell_type": "code",
   "execution_count": 63,
   "id": "D79Xn9pH6uY3",
   "metadata": {
    "executionInfo": {
     "elapsed": 20,
     "status": "ok",
     "timestamp": 1682688581035,
     "user": {
      "displayName": "김혁진",
      "userId": "00473223970764510069"
     },
     "user_tz": -540
    },
    "id": "D79Xn9pH6uY3"
   },
   "outputs": [],
   "source": [
    "import glob\n",
    "\n",
    "generated_image_path = []\n",
    "for label_path in glob.glob('./out/augmentation_images/*'):\n",
    "    for img_path in glob.glob(label_path+'/*'):\n",
    "        generated_image_path.append(img_path)"
   ]
  },
  {
   "cell_type": "code",
   "execution_count": 64,
   "id": "7c0Pskuo7BgF",
   "metadata": {
    "colab": {
     "base_uri": "https://localhost:8080/"
    },
    "executionInfo": {
     "elapsed": 21,
     "status": "ok",
     "timestamp": 1682688581036,
     "user": {
      "displayName": "김혁진",
      "userId": "00473223970764510069"
     },
     "user_tz": -540
    },
    "id": "7c0Pskuo7BgF",
    "outputId": "986279d7-5d17-4781-d31d-45ed8f2538b5"
   },
   "outputs": [
    {
     "data": {
      "text/plain": [
       "749"
      ]
     },
     "execution_count": 64,
     "metadata": {},
     "output_type": "execute_result"
    }
   ],
   "source": [
    "len(generated_image_path)"
   ]
  },
  {
   "cell_type": "code",
   "execution_count": null,
   "id": "Kl7xlTuuCZEj",
   "metadata": {
    "id": "Kl7xlTuuCZEj"
   },
   "outputs": [],
   "source": []
  }
 ],
 "metadata": {
  "accelerator": "GPU",
  "colab": {
   "machine_shape": "hm",
   "provenance": [],
   "toc_visible": true
  },
  "gpuClass": "standard",
  "kernelspec": {
   "display_name": "Python 3",
   "language": "python",
   "name": "python3"
  },
  "language_info": {
   "codemirror_mode": {
    "name": "ipython",
    "version": 3
   },
   "file_extension": ".py",
   "mimetype": "text/x-python",
   "name": "python",
   "nbconvert_exporter": "python",
   "pygments_lexer": "ipython3",
   "version": "3.8.10"
  },
  "toc-autonumbering": true
 },
 "nbformat": 4,
 "nbformat_minor": 5
}
