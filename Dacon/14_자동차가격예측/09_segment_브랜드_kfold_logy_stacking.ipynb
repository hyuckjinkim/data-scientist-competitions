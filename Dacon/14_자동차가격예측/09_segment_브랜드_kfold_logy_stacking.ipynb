{
 "cells": [
  {
   "cell_type": "markdown",
   "id": "6b987cd1-0680-4fb8-a482-f5567577e80f",
   "metadata": {},
   "source": [
    "# Library Setting"
   ]
  },
  {
   "cell_type": "code",
   "execution_count": 1,
   "id": "0eeab870-95ed-41a6-b815-1bdf2dee38fb",
   "metadata": {
    "tags": []
   },
   "outputs": [
    {
     "data": {
      "text/plain": [
       "0"
      ]
     },
     "execution_count": 1,
     "metadata": {},
     "output_type": "execute_result"
    }
   ],
   "source": [
    "from tqdm import tqdm\n",
    "tqdm.pandas()\n",
    "\n",
    "import numpy as np\n",
    "import pandas as pd\n",
    "pd.set_option('display.max_rows', None)\n",
    "pd.set_option('display.max_columns', None)\n",
    "\n",
    "import seaborn as sns\n",
    "import matplotlib.pyplot as plt\n",
    "from matplotlib import rc\n",
    "rc('font', family='AppleGothic')\n",
    "plt.rcParams['axes.unicode_minus'] = False\n",
    "\n",
    "import gc\n",
    "gc.collect()"
   ]
  },
  {
   "cell_type": "markdown",
   "id": "a15b6f33-3b7d-401a-a710-ea0f089f95a7",
   "metadata": {},
   "source": [
    "<br></br>"
   ]
  },
  {
   "cell_type": "markdown",
   "id": "b1b54b8f-874d-49c7-95db-a535b984b01d",
   "metadata": {},
   "source": [
    "# Configuration"
   ]
  },
  {
   "cell_type": "code",
   "execution_count": 2,
   "id": "cbe03a3b-5d80-448f-ad15-50e77c5128ee",
   "metadata": {},
   "outputs": [],
   "source": [
    "class CFG:\n",
    "    SEED = 0\n",
    "    \n",
    "    SUBSET_DEPTH = 1\n",
    "    INTERACTION = False\n",
    "    FS_ALPHA = 0.01\n",
    "    \n",
    "    N_SPLITS = 5\n",
    "    TARGET_TRANSFORMATION = True\n",
    "    \n",
    "    LR = 0.003\n",
    "    EPOCHS = 30000\n",
    "    ES = 300\n",
    "    XGB_LR = 0.01     # default=0.3\n",
    "    XGB_EPOCHS = 1000 # default=100\n",
    "    XGB_ES = 100\n",
    "    XTRATREES_EPOCHS = 100 #default=100"
   ]
  },
  {
   "cell_type": "markdown",
   "id": "756f2cfe-7bf1-4cc3-b7e3-90b0886eab54",
   "metadata": {},
   "source": [
    "<br></br>"
   ]
  },
  {
   "cell_type": "markdown",
   "id": "3afbf58b-29ed-4ab7-9a2c-f51c6b08c00a",
   "metadata": {},
   "source": [
    "# Data"
   ]
  },
  {
   "cell_type": "markdown",
   "id": "09d8ae59-c4c3-47f8-854a-6cfc780a2adc",
   "metadata": {},
   "source": [
    "## Data Load"
   ]
  },
  {
   "cell_type": "code",
   "execution_count": 3,
   "id": "3a824834-ad27-424a-8f55-7c4ca73eaab7",
   "metadata": {},
   "outputs": [],
   "source": [
    "train_df = pd.read_csv('./data/train.csv')\n",
    "test_df  = pd.read_csv('./data/test.csv')"
   ]
  },
  {
   "cell_type": "code",
   "execution_count": 4,
   "id": "da88a595-b068-4b4b-97a9-4e6bcf863305",
   "metadata": {},
   "outputs": [
    {
     "data": {
      "text/plain": [
       "((57920, 15), (14480, 14))"
      ]
     },
     "execution_count": 4,
     "metadata": {},
     "output_type": "execute_result"
    }
   ],
   "source": [
    "train_df.shape, test_df.shape"
   ]
  },
  {
   "cell_type": "code",
   "execution_count": 5,
   "id": "50d6f038-af80-42c0-a33e-e62dcd8bdfc3",
   "metadata": {},
   "outputs": [
    {
     "data": {
      "text/html": [
       "<div>\n",
       "<style scoped>\n",
       "    .dataframe tbody tr th:only-of-type {\n",
       "        vertical-align: middle;\n",
       "    }\n",
       "\n",
       "    .dataframe tbody tr th {\n",
       "        vertical-align: top;\n",
       "    }\n",
       "\n",
       "    .dataframe thead th {\n",
       "        text-align: right;\n",
       "    }\n",
       "</style>\n",
       "<table border=\"1\" class=\"dataframe\">\n",
       "  <thead>\n",
       "    <tr style=\"text-align: right;\">\n",
       "      <th></th>\n",
       "      <th>ID</th>\n",
       "      <th>생산년도</th>\n",
       "      <th>모델출시년도</th>\n",
       "      <th>브랜드</th>\n",
       "      <th>차량모델명</th>\n",
       "      <th>판매도시</th>\n",
       "      <th>판매구역</th>\n",
       "      <th>주행거리</th>\n",
       "      <th>배기량</th>\n",
       "      <th>압축천연가스(CNG)</th>\n",
       "      <th>경유</th>\n",
       "      <th>가솔린</th>\n",
       "      <th>하이브리드</th>\n",
       "      <th>액화석유가스(LPG)</th>\n",
       "      <th>가격</th>\n",
       "    </tr>\n",
       "  </thead>\n",
       "  <tbody>\n",
       "    <tr>\n",
       "      <th>0</th>\n",
       "      <td>TRAIN_00000</td>\n",
       "      <td>2018</td>\n",
       "      <td>2014</td>\n",
       "      <td>skoda</td>\n",
       "      <td>fabia</td>\n",
       "      <td>KAT</td>\n",
       "      <td>SLA</td>\n",
       "      <td>85231</td>\n",
       "      <td>999</td>\n",
       "      <td>0</td>\n",
       "      <td>0</td>\n",
       "      <td>1</td>\n",
       "      <td>0</td>\n",
       "      <td>0</td>\n",
       "      <td>51.74</td>\n",
       "    </tr>\n",
       "    <tr>\n",
       "      <th>1</th>\n",
       "      <td>TRAIN_00001</td>\n",
       "      <td>2010</td>\n",
       "      <td>2006</td>\n",
       "      <td>toyota</td>\n",
       "      <td>auris</td>\n",
       "      <td>RKO</td>\n",
       "      <td>SWI</td>\n",
       "      <td>135000</td>\n",
       "      <td>1598</td>\n",
       "      <td>0</td>\n",
       "      <td>0</td>\n",
       "      <td>1</td>\n",
       "      <td>0</td>\n",
       "      <td>0</td>\n",
       "      <td>41.47</td>\n",
       "    </tr>\n",
       "    <tr>\n",
       "      <th>2</th>\n",
       "      <td>TRAIN_00002</td>\n",
       "      <td>2002</td>\n",
       "      <td>2002</td>\n",
       "      <td>mercedes-benz</td>\n",
       "      <td>clk-klasa</td>\n",
       "      <td>GNI</td>\n",
       "      <td>WIE</td>\n",
       "      <td>255223</td>\n",
       "      <td>1796</td>\n",
       "      <td>0</td>\n",
       "      <td>0</td>\n",
       "      <td>1</td>\n",
       "      <td>0</td>\n",
       "      <td>0</td>\n",
       "      <td>17.81</td>\n",
       "    </tr>\n",
       "    <tr>\n",
       "      <th>3</th>\n",
       "      <td>TRAIN_00003</td>\n",
       "      <td>2006</td>\n",
       "      <td>2001</td>\n",
       "      <td>nissan</td>\n",
       "      <td>x-trail</td>\n",
       "      <td>EHX</td>\n",
       "      <td>WIE</td>\n",
       "      <td>238000</td>\n",
       "      <td>2184</td>\n",
       "      <td>0</td>\n",
       "      <td>1</td>\n",
       "      <td>0</td>\n",
       "      <td>0</td>\n",
       "      <td>0</td>\n",
       "      <td>18.20</td>\n",
       "    </tr>\n",
       "    <tr>\n",
       "      <th>4</th>\n",
       "      <td>TRAIN_00004</td>\n",
       "      <td>2007</td>\n",
       "      <td>2007</td>\n",
       "      <td>fiat</td>\n",
       "      <td>bravo</td>\n",
       "      <td>OSW</td>\n",
       "      <td>MAL</td>\n",
       "      <td>251000</td>\n",
       "      <td>1910</td>\n",
       "      <td>0</td>\n",
       "      <td>1</td>\n",
       "      <td>0</td>\n",
       "      <td>0</td>\n",
       "      <td>0</td>\n",
       "      <td>17.55</td>\n",
       "    </tr>\n",
       "  </tbody>\n",
       "</table>\n",
       "</div>"
      ],
      "text/plain": [
       "            ID  생산년도  모델출시년도            브랜드      차량모델명 판매도시 판매구역    주행거리  \\\n",
       "0  TRAIN_00000  2018    2014          skoda      fabia  KAT  SLA   85231   \n",
       "1  TRAIN_00001  2010    2006         toyota      auris  RKO  SWI  135000   \n",
       "2  TRAIN_00002  2002    2002  mercedes-benz  clk-klasa  GNI  WIE  255223   \n",
       "3  TRAIN_00003  2006    2001         nissan    x-trail  EHX  WIE  238000   \n",
       "4  TRAIN_00004  2007    2007           fiat      bravo  OSW  MAL  251000   \n",
       "\n",
       "    배기량  압축천연가스(CNG)  경유  가솔린  하이브리드  액화석유가스(LPG)     가격  \n",
       "0   999            0   0    1      0            0  51.74  \n",
       "1  1598            0   0    1      0            0  41.47  \n",
       "2  1796            0   0    1      0            0  17.81  \n",
       "3  2184            0   1    0      0            0  18.20  \n",
       "4  1910            0   1    0      0            0  17.55  "
      ]
     },
     "execution_count": 5,
     "metadata": {},
     "output_type": "execute_result"
    }
   ],
   "source": [
    "train_df.head()"
   ]
  },
  {
   "cell_type": "markdown",
   "id": "04590f97-2b7a-4039-aa51-7528b7f14a91",
   "metadata": {},
   "source": [
    "<br>"
   ]
  },
  {
   "cell_type": "markdown",
   "id": "3b653065-ce2f-4186-89d0-eb71b4bd0986",
   "metadata": {},
   "source": [
    "## Target Transformation"
   ]
  },
  {
   "cell_type": "code",
   "execution_count": 6,
   "id": "f30b74aa-75d9-4c9e-a67d-71a97fe529b4",
   "metadata": {},
   "outputs": [],
   "source": [
    "if CFG.TARGET_TRANSFORMATION:\n",
    "    train_df['가격'] = np.log(train_df['가격'])"
   ]
  },
  {
   "cell_type": "markdown",
   "id": "a18c323f-9e86-4fe2-9e09-395d4e290050",
   "metadata": {},
   "source": [
    "<br>"
   ]
  },
  {
   "cell_type": "markdown",
   "id": "cd0aab2e-3a95-4013-a15e-d141663182ea",
   "metadata": {},
   "source": [
    "## Resetting Columns Type"
   ]
  },
  {
   "cell_type": "code",
   "execution_count": 7,
   "id": "fbffe1aa-eef1-4263-933e-492cbbf6cc64",
   "metadata": {},
   "outputs": [],
   "source": [
    "class TypeResetting:\n",
    "    def __init__(self):\n",
    "        self.cat_features = ['브랜드','차량모델명','판매도시','판매구역','생산년도','모델출시년도']\n",
    "        self.seg_features = []\n",
    "        \n",
    "    def add_categorical_features(self,cat_features):\n",
    "        self.cat_features += cat_features\n",
    "        \n",
    "    def delete_categorical_features(self,cat_features):\n",
    "        self.cat_features = [col for col in self.cat_features if col not in cat_features]\n",
    "        \n",
    "    def add_segment_features(self,segment_features):\n",
    "        self.seg_features = ['segment']\n",
    "        self.cat_features = [col for col in self.cat_features if col not in segment_features]\n",
    "        \n",
    "    def fit(self,data):\n",
    "        if (len(self.seg_features)>0) & ('segment' not in data.columns):\n",
    "            raise ValueError(\"segment column name must be 'segment'\")\n",
    "        self.target_feature = ['가격']\n",
    "        self.unuse_features = ['ID']\n",
    "        self.dummy_features = ['압축천연가스(CNG)','액화석유가스(LPG)','경유','가솔린','하이브리드']\n",
    "        self.num_features   = [col for col in data.columns\n",
    "                               if col not in self.target_feature+self.unuse_features+self.dummy_features+self.cat_features+self.seg_features]\n",
    "        \n",
    "    def transform(self,data):\n",
    "        d = data.copy()\n",
    "        for col in self.dummy_features:\n",
    "            if d[col].dtypes!=int:\n",
    "                d[col] = d[col].astype(int)\n",
    "        for col in self.cat_features:\n",
    "            if d[col].dtypes!=object:\n",
    "                d[col] = d[col].astype(str)\n",
    "        for col in self.num_features:\n",
    "            if d[col].dtypes!=float:\n",
    "                d[col] = d[col].astype(float)\n",
    "        for col in self.seg_features:\n",
    "            if d[col].dtypes!=object:\n",
    "                d[col] = d[col].astype(str)\n",
    "        for col in self.unuse_features:\n",
    "            if col in d.columns:\n",
    "                d.drop(col,axis=1,inplace=True)\n",
    "        return d\n",
    "    \n",
    "    def fit_transform(self,data):\n",
    "        self.fit(data)\n",
    "        return self.transform(data)\n",
    "    \n",
    "    def get_feature_type(self):\n",
    "        globals()['target_feature'] = self.target_feature\n",
    "        globals()['unuse_features'] = self.unuse_features\n",
    "        globals()['dummy_features'] = self.dummy_features\n",
    "        globals()['cat_features']   = self.cat_features\n",
    "        globals()['num_features']   = self.num_features"
   ]
  },
  {
   "cell_type": "code",
   "execution_count": 8,
   "id": "9e5177c8-be0f-4363-8ec8-8849f4531ea2",
   "metadata": {},
   "outputs": [],
   "source": [
    "type_resetor = TypeResetting()\n",
    "type_resetor.fit(train_df)\n",
    "type_resetor.get_feature_type()\n",
    "\n",
    "train_df2 = type_resetor.transform(train_df)\n",
    "test_df2  = type_resetor.transform(test_df)"
   ]
  },
  {
   "cell_type": "code",
   "execution_count": 9,
   "id": "ad9166d7-d880-4117-a2da-9422f62428ee",
   "metadata": {},
   "outputs": [],
   "source": [
    "import warnings\n",
    "warnings.simplefilter(\"always\")\n",
    "\n",
    "def check_only_oneside(train,test,cat_features):\n",
    "    not_test_only_features = []\n",
    "    for iter,col in enumerate(cat_features):\n",
    "        print('[{}/{}] {}'.format(iter+1,len(cat_features),col))\n",
    "        \n",
    "        only_train = list(set(train[col].unique())-set(test[col].unique()))\n",
    "        only_test  = list(set(test[col].unique())-set(train[col].unique()))\n",
    "        print(' - Only Train:',len(only_train))\n",
    "        print(' - Only Test :',len(only_test))\n",
    "        if len(only_test)>0:\n",
    "            print('******Warning******')\n",
    "        else:\n",
    "            not_test_only_features.append(col)\n",
    "        print('')\n",
    "    return not_test_only_features"
   ]
  },
  {
   "cell_type": "code",
   "execution_count": 10,
   "id": "0f8c40f7-1201-4598-9558-d086e9ab1575",
   "metadata": {},
   "outputs": [
    {
     "name": "stdout",
     "output_type": "stream",
     "text": [
      "[1/11] 브랜드\n",
      " - Only Train: 0\n",
      " - Only Test : 0\n",
      "\n",
      "[2/11] 차량모델명\n",
      " - Only Train: 2\n",
      " - Only Test : 0\n",
      "\n",
      "[3/11] 판매도시\n",
      " - Only Train: 1750\n",
      " - Only Test : 300\n",
      "******Warning******\n",
      "\n",
      "[4/11] 판매구역\n",
      " - Only Train: 0\n",
      " - Only Test : 0\n",
      "\n",
      "[5/11] 생산년도\n",
      " - Only Train: 3\n",
      " - Only Test : 1\n",
      "******Warning******\n",
      "\n",
      "[6/11] 모델출시년도\n",
      " - Only Train: 0\n",
      " - Only Test : 0\n",
      "\n",
      "[7/11] 압축천연가스(CNG)\n",
      " - Only Train: 0\n",
      " - Only Test : 0\n",
      "\n",
      "[8/11] 액화석유가스(LPG)\n",
      " - Only Train: 0\n",
      " - Only Test : 0\n",
      "\n",
      "[9/11] 경유\n",
      " - Only Train: 0\n",
      " - Only Test : 0\n",
      "\n",
      "[10/11] 가솔린\n",
      " - Only Train: 0\n",
      " - Only Test : 0\n",
      "\n",
      "[11/11] 하이브리드\n",
      " - Only Train: 0\n",
      " - Only Test : 0\n",
      "\n"
     ]
    }
   ],
   "source": [
    "# 브랜드, 차량모델명, 판매구역, 모델출시년도\n",
    "not_test_only_features = check_only_oneside(train_df2,test_df2,cat_features+dummy_features)\n",
    "not_test_only_features = list(set(not_test_only_features)-set(dummy_features))"
   ]
  },
  {
   "cell_type": "code",
   "execution_count": 11,
   "id": "ba4fb877-5302-4a4d-8b79-7f5de66c6b65",
   "metadata": {},
   "outputs": [
    {
     "data": {
      "text/plain": [
       "['차량모델명', '브랜드', '모델출시년도', '판매구역']"
      ]
     },
     "execution_count": 11,
     "metadata": {},
     "output_type": "execute_result"
    }
   ],
   "source": [
    "not_test_only_features"
   ]
  },
  {
   "cell_type": "markdown",
   "id": "204816d7-af14-427d-bc50-32b876febd64",
   "metadata": {},
   "source": [
    "<br></br>"
   ]
  },
  {
   "cell_type": "markdown",
   "id": "c5254fac-62ad-4ca8-98d9-0cc687d11af2",
   "metadata": {},
   "source": [
    "# New Features"
   ]
  },
  {
   "cell_type": "code",
   "execution_count": 12,
   "id": "4ae5c16b-cf03-4b32-894f-10ef35d8c697",
   "metadata": {},
   "outputs": [],
   "source": [
    "# pd.Series([str(round(int(year)/100,1)) for year in train_df6['생산년도']]).value_counts()"
   ]
  },
  {
   "cell_type": "code",
   "execution_count": 13,
   "id": "1faf8654-f04e-43ed-be0a-965a18e71664",
   "metadata": {},
   "outputs": [
    {
     "data": {
      "text/html": [
       "<div>\n",
       "<style scoped>\n",
       "    .dataframe tbody tr th:only-of-type {\n",
       "        vertical-align: middle;\n",
       "    }\n",
       "\n",
       "    .dataframe tbody tr th {\n",
       "        vertical-align: top;\n",
       "    }\n",
       "\n",
       "    .dataframe thead th {\n",
       "        text-align: right;\n",
       "    }\n",
       "</style>\n",
       "<table border=\"1\" class=\"dataframe\">\n",
       "  <thead>\n",
       "    <tr style=\"text-align: right;\">\n",
       "      <th></th>\n",
       "      <th>생산년도</th>\n",
       "      <th>모델출시년도</th>\n",
       "      <th>브랜드</th>\n",
       "      <th>차량모델명</th>\n",
       "      <th>판매도시</th>\n",
       "      <th>판매구역</th>\n",
       "      <th>주행거리</th>\n",
       "      <th>배기량</th>\n",
       "      <th>압축천연가스(CNG)</th>\n",
       "      <th>경유</th>\n",
       "      <th>가솔린</th>\n",
       "      <th>하이브리드</th>\n",
       "      <th>액화석유가스(LPG)</th>\n",
       "      <th>가격</th>\n",
       "    </tr>\n",
       "  </thead>\n",
       "  <tbody>\n",
       "    <tr>\n",
       "      <th>0</th>\n",
       "      <td>2018</td>\n",
       "      <td>2014</td>\n",
       "      <td>skoda</td>\n",
       "      <td>fabia</td>\n",
       "      <td>KAT</td>\n",
       "      <td>SLA</td>\n",
       "      <td>85231.0</td>\n",
       "      <td>999.0</td>\n",
       "      <td>0</td>\n",
       "      <td>0</td>\n",
       "      <td>1</td>\n",
       "      <td>0</td>\n",
       "      <td>0</td>\n",
       "      <td>3.946231</td>\n",
       "    </tr>\n",
       "    <tr>\n",
       "      <th>1</th>\n",
       "      <td>2010</td>\n",
       "      <td>2006</td>\n",
       "      <td>toyota</td>\n",
       "      <td>auris</td>\n",
       "      <td>RKO</td>\n",
       "      <td>SWI</td>\n",
       "      <td>135000.0</td>\n",
       "      <td>1598.0</td>\n",
       "      <td>0</td>\n",
       "      <td>0</td>\n",
       "      <td>1</td>\n",
       "      <td>0</td>\n",
       "      <td>0</td>\n",
       "      <td>3.724970</td>\n",
       "    </tr>\n",
       "    <tr>\n",
       "      <th>2</th>\n",
       "      <td>2002</td>\n",
       "      <td>2002</td>\n",
       "      <td>mercedes-benz</td>\n",
       "      <td>clk-klasa</td>\n",
       "      <td>GNI</td>\n",
       "      <td>WIE</td>\n",
       "      <td>255223.0</td>\n",
       "      <td>1796.0</td>\n",
       "      <td>0</td>\n",
       "      <td>0</td>\n",
       "      <td>1</td>\n",
       "      <td>0</td>\n",
       "      <td>0</td>\n",
       "      <td>2.879760</td>\n",
       "    </tr>\n",
       "    <tr>\n",
       "      <th>3</th>\n",
       "      <td>2006</td>\n",
       "      <td>2001</td>\n",
       "      <td>nissan</td>\n",
       "      <td>x-trail</td>\n",
       "      <td>EHX</td>\n",
       "      <td>WIE</td>\n",
       "      <td>238000.0</td>\n",
       "      <td>2184.0</td>\n",
       "      <td>0</td>\n",
       "      <td>1</td>\n",
       "      <td>0</td>\n",
       "      <td>0</td>\n",
       "      <td>0</td>\n",
       "      <td>2.901422</td>\n",
       "    </tr>\n",
       "    <tr>\n",
       "      <th>4</th>\n",
       "      <td>2007</td>\n",
       "      <td>2007</td>\n",
       "      <td>fiat</td>\n",
       "      <td>bravo</td>\n",
       "      <td>OSW</td>\n",
       "      <td>MAL</td>\n",
       "      <td>251000.0</td>\n",
       "      <td>1910.0</td>\n",
       "      <td>0</td>\n",
       "      <td>1</td>\n",
       "      <td>0</td>\n",
       "      <td>0</td>\n",
       "      <td>0</td>\n",
       "      <td>2.865054</td>\n",
       "    </tr>\n",
       "  </tbody>\n",
       "</table>\n",
       "</div>"
      ],
      "text/plain": [
       "   생산년도 모델출시년도            브랜드      차량모델명 판매도시 판매구역      주행거리     배기량  \\\n",
       "0  2018   2014          skoda      fabia  KAT  SLA   85231.0   999.0   \n",
       "1  2010   2006         toyota      auris  RKO  SWI  135000.0  1598.0   \n",
       "2  2002   2002  mercedes-benz  clk-klasa  GNI  WIE  255223.0  1796.0   \n",
       "3  2006   2001         nissan    x-trail  EHX  WIE  238000.0  2184.0   \n",
       "4  2007   2007           fiat      bravo  OSW  MAL  251000.0  1910.0   \n",
       "\n",
       "   압축천연가스(CNG)  경유  가솔린  하이브리드  액화석유가스(LPG)        가격  \n",
       "0            0   0    1      0            0  3.946231  \n",
       "1            0   0    1      0            0  3.724970  \n",
       "2            0   0    1      0            0  2.879760  \n",
       "3            0   1    0      0            0  2.901422  \n",
       "4            0   1    0      0            0  2.865054  "
      ]
     },
     "execution_count": 13,
     "metadata": {},
     "output_type": "execute_result"
    }
   ],
   "source": [
    "train_df2.head()"
   ]
  },
  {
   "cell_type": "code",
   "execution_count": 14,
   "id": "c6541725-7cf0-4e7d-960b-cb96da805e66",
   "metadata": {},
   "outputs": [],
   "source": [
    "from tqdm import tqdm\n",
    "from itertools import chain, combinations\n",
    "def all_subsets(ss):\n",
    "    return list(chain(*map(lambda x: combinations(ss, x), range(0, len(ss)+1))))\n",
    "\n",
    "class FeatureEngineering:\n",
    "    def __init__(self):\n",
    "        pass\n",
    "    \n",
    "    def _get_quantile(self,x,col):\n",
    "        x = np.array(x).flatten()\n",
    "        x = x[pd.notnull(x)]\n",
    "\n",
    "        agg_df = pd.DataFrame(index=[0])\n",
    "        for q in [0,25,50,75,100]:\n",
    "            agg_df[f'{col}_Q{q}'] = np.quantile(x,q/100)\n",
    "\n",
    "        return agg_df\n",
    "    \n",
    "    def _derived_features(self,data):\n",
    "        d = data.copy()\n",
    "\n",
    "        # (1) 모델출시년도에 생산된 차량인지\n",
    "        d['출시년도생산여부'] = np.where(d['생산년도'].astype(int)==d['모델출시년도'].astype(int),1,0)\n",
    "\n",
    "        # (2) 모델출시 이후에 몇년 지나서 생산됬는지\n",
    "        d['출시이후생산년수'] = d['생산년도'].astype(int)-d['모델출시년도'].astype(int)\n",
    "\n",
    "        # (3) 출시 이전에 생산되었는지\n",
    "        d['출시이전생산여부'] = np.where(d['출시이후생산년수']<0,1,0)\n",
    "\n",
    "        # (4) 브랜드의 국적 (구글링)\n",
    "        d['브랜드국적'] = ['체코' if brand=='skoda' else\n",
    "                        '일본' if brand in ['toyota','nissan','mazda','honda','mitsubishi'] else\n",
    "                        '독일' if brand in ['mercedes-benz','audi','volkswagen','bmw','opel'] else\n",
    "                        '이탈리아' if brand=='fiat' else\n",
    "                        '프랑스' if brand in ['renault','citroen','peugeot'] else\n",
    "                        '미국' if brand=='ford' else\n",
    "                        '한국' if brand in ['kia','hyundai'] else\n",
    "                        '스페인' if brand=='seat' else\n",
    "                        '스웨덴' if brand=='volvo' else\n",
    "                        np.nan for brand in d['브랜드']]\n",
    "\n",
    "        # (5) 브랜드 국적의 대륙명\n",
    "        d['브랜드대륙명'] = ['유럽' if country in ['체코','독일','이탈리아','프랑스','스페인','스웨덴'] else\n",
    "                          '아시아' if country in ['일본','한국'] else\n",
    "                          '아메리카' if country in ['미국'] else\n",
    "                          np.nan for country in d['브랜드국적']]\n",
    "        return d\n",
    "    \n",
    "    def fit(self,data,cat_features,subset_depth=1):\n",
    "        assert '가격' in data.columns, \\\n",
    "            'Input data must be training dataset'\n",
    "        assert len(cat_features)>=subset_depth, \\\n",
    "            'len(cat_features) >= subset_depth'\n",
    "        \n",
    "        self.cat_features = cat_features\n",
    "        self.new_cat_features = ['출시년도생산여부','출시이후생산년수','출시이전생산여부','브랜드국적','브랜드대륙명']\n",
    "        \n",
    "        # (6) 카테고리 변수에 따른 가격의 Quantile값\n",
    "        all_subset_list = all_subsets(cat_features)\n",
    "        all_subset_list = [subset for subset in all_subset_list if (len(subset)<=subset_depth) & (len(subset)>=1)]\n",
    "        \n",
    "        self.agg_dict = {}\n",
    "        for subset in tqdm(all_subset_list,desc=f'Get quantiles of target by categorical features (depth={subset_depth})'):\n",
    "            subset = list(subset)\n",
    "            subset_name = '_'.join(subset)\n",
    "            agg_fn = data.groupby(subset)['가격'].apply(lambda x: self._get_quantile(x,subset_name)).reset_index()\n",
    "            drop_cols = [col for col in agg_fn if col.find('level_')>=0]\n",
    "            agg_fn.drop(columns=drop_cols,inplace=True)\n",
    "            self.agg_dict[subset_name] = agg_fn\n",
    "            \n",
    "    def transform(self,data):\n",
    "        data = self._derived_features(data)\n",
    "        for key,agg_fn in self.agg_dict.items():\n",
    "            data = pd.merge(data,agg_fn,how='left',on=key.split('_'))\n",
    "        return data\n",
    "    \n",
    "    def fit_transform(self,data,cat_features,subset_depth=1):\n",
    "        self.fit(data,cat_features,subset_depth)\n",
    "        return self.transform(data)"
   ]
  },
  {
   "cell_type": "code",
   "execution_count": 15,
   "id": "9a085347-abaa-4e5f-9f9b-f71f226bf84a",
   "metadata": {},
   "outputs": [
    {
     "name": "stderr",
     "output_type": "stream",
     "text": [
      "Get quantiles of target by categorical features (depth=1): 100%|██████████| 4/4 [00:00<00:00, 12.86it/s]\n"
     ]
    }
   ],
   "source": [
    "fe = FeatureEngineering()\n",
    "fe.fit(\n",
    "    data=train_df2,\n",
    "    cat_features=not_test_only_features, \n",
    "    subset_depth=CFG.SUBSET_DEPTH,\n",
    ")\n",
    "train_df3 = fe.transform(train_df2)\n",
    "test_df3  = fe.transform(test_df2)"
   ]
  },
  {
   "cell_type": "code",
   "execution_count": 16,
   "id": "a29021d0-ce57-42c8-8a78-0f9cc4209d25",
   "metadata": {},
   "outputs": [
    {
     "data": {
      "text/plain": [
       "['출시년도생산여부', '출시이후생산년수', '출시이전생산여부', '브랜드국적', '브랜드대륙명']"
      ]
     },
     "execution_count": 16,
     "metadata": {},
     "output_type": "execute_result"
    }
   ],
   "source": [
    "fe.new_cat_features"
   ]
  },
  {
   "cell_type": "code",
   "execution_count": 17,
   "id": "bfa09b13-62ca-425d-bab5-299828454fc7",
   "metadata": {},
   "outputs": [],
   "source": [
    "type_resetor = TypeResetting()\n",
    "type_resetor.add_categorical_features(fe.new_cat_features)\n",
    "type_resetor.fit(train_df3)\n",
    "type_resetor.get_feature_type()\n",
    "\n",
    "train_df3 = type_resetor.transform(train_df3)\n",
    "test_df3  = type_resetor.transform(test_df3)"
   ]
  },
  {
   "cell_type": "code",
   "execution_count": 18,
   "id": "af8e5c65-95f9-4a32-b63d-c074537853de",
   "metadata": {},
   "outputs": [
    {
     "name": "stdout",
     "output_type": "stream",
     "text": [
      "(57920, 39)\n"
     ]
    },
    {
     "data": {
      "text/html": [
       "<div>\n",
       "<style scoped>\n",
       "    .dataframe tbody tr th:only-of-type {\n",
       "        vertical-align: middle;\n",
       "    }\n",
       "\n",
       "    .dataframe tbody tr th {\n",
       "        vertical-align: top;\n",
       "    }\n",
       "\n",
       "    .dataframe thead th {\n",
       "        text-align: right;\n",
       "    }\n",
       "</style>\n",
       "<table border=\"1\" class=\"dataframe\">\n",
       "  <thead>\n",
       "    <tr style=\"text-align: right;\">\n",
       "      <th></th>\n",
       "      <th>생산년도</th>\n",
       "      <th>모델출시년도</th>\n",
       "      <th>브랜드</th>\n",
       "      <th>차량모델명</th>\n",
       "      <th>판매도시</th>\n",
       "      <th>판매구역</th>\n",
       "      <th>주행거리</th>\n",
       "      <th>배기량</th>\n",
       "      <th>압축천연가스(CNG)</th>\n",
       "      <th>경유</th>\n",
       "      <th>가솔린</th>\n",
       "      <th>하이브리드</th>\n",
       "      <th>액화석유가스(LPG)</th>\n",
       "      <th>가격</th>\n",
       "      <th>출시년도생산여부</th>\n",
       "      <th>출시이후생산년수</th>\n",
       "      <th>출시이전생산여부</th>\n",
       "      <th>브랜드국적</th>\n",
       "      <th>브랜드대륙명</th>\n",
       "      <th>차량모델명_Q0</th>\n",
       "      <th>차량모델명_Q25</th>\n",
       "      <th>차량모델명_Q50</th>\n",
       "      <th>차량모델명_Q75</th>\n",
       "      <th>차량모델명_Q100</th>\n",
       "      <th>브랜드_Q0</th>\n",
       "      <th>브랜드_Q25</th>\n",
       "      <th>브랜드_Q50</th>\n",
       "      <th>브랜드_Q75</th>\n",
       "      <th>브랜드_Q100</th>\n",
       "      <th>모델출시년도_Q0</th>\n",
       "      <th>모델출시년도_Q25</th>\n",
       "      <th>모델출시년도_Q50</th>\n",
       "      <th>모델출시년도_Q75</th>\n",
       "      <th>모델출시년도_Q100</th>\n",
       "      <th>판매구역_Q0</th>\n",
       "      <th>판매구역_Q25</th>\n",
       "      <th>판매구역_Q50</th>\n",
       "      <th>판매구역_Q75</th>\n",
       "      <th>판매구역_Q100</th>\n",
       "    </tr>\n",
       "  </thead>\n",
       "  <tbody>\n",
       "    <tr>\n",
       "      <th>0</th>\n",
       "      <td>2018</td>\n",
       "      <td>2014</td>\n",
       "      <td>skoda</td>\n",
       "      <td>fabia</td>\n",
       "      <td>KAT</td>\n",
       "      <td>SLA</td>\n",
       "      <td>85231.0</td>\n",
       "      <td>999.0</td>\n",
       "      <td>0</td>\n",
       "      <td>0</td>\n",
       "      <td>1</td>\n",
       "      <td>0</td>\n",
       "      <td>0</td>\n",
       "      <td>3.946231</td>\n",
       "      <td>0</td>\n",
       "      <td>4</td>\n",
       "      <td>0</td>\n",
       "      <td>체코</td>\n",
       "      <td>유럽</td>\n",
       "      <td>0.792993</td>\n",
       "      <td>2.933059</td>\n",
       "      <td>3.712352</td>\n",
       "      <td>4.065687</td>\n",
       "      <td>4.830312</td>\n",
       "      <td>0.727549</td>\n",
       "      <td>3.393501</td>\n",
       "      <td>4.057853</td>\n",
       "      <td>4.509072</td>\n",
       "      <td>5.049856</td>\n",
       "      <td>0.157004</td>\n",
       "      <td>4.019486</td>\n",
       "      <td>4.355041</td>\n",
       "      <td>4.643140</td>\n",
       "      <td>5.049856</td>\n",
       "      <td>0.262364</td>\n",
       "      <td>3.206803</td>\n",
       "      <td>3.773910</td>\n",
       "      <td>4.355041</td>\n",
       "      <td>5.049856</td>\n",
       "    </tr>\n",
       "    <tr>\n",
       "      <th>1</th>\n",
       "      <td>2010</td>\n",
       "      <td>2006</td>\n",
       "      <td>toyota</td>\n",
       "      <td>auris</td>\n",
       "      <td>RKO</td>\n",
       "      <td>SWI</td>\n",
       "      <td>135000.0</td>\n",
       "      <td>1598.0</td>\n",
       "      <td>0</td>\n",
       "      <td>0</td>\n",
       "      <td>1</td>\n",
       "      <td>0</td>\n",
       "      <td>0</td>\n",
       "      <td>3.724970</td>\n",
       "      <td>0</td>\n",
       "      <td>4</td>\n",
       "      <td>0</td>\n",
       "      <td>일본</td>\n",
       "      <td>아시아</td>\n",
       "      <td>2.687167</td>\n",
       "      <td>3.594569</td>\n",
       "      <td>4.112512</td>\n",
       "      <td>4.387075</td>\n",
       "      <td>4.761062</td>\n",
       "      <td>0.157004</td>\n",
       "      <td>3.353407</td>\n",
       "      <td>4.000034</td>\n",
       "      <td>4.435212</td>\n",
       "      <td>5.049856</td>\n",
       "      <td>1.358409</td>\n",
       "      <td>3.089678</td>\n",
       "      <td>3.348851</td>\n",
       "      <td>3.785779</td>\n",
       "      <td>5.049856</td>\n",
       "      <td>1.095273</td>\n",
       "      <td>3.113071</td>\n",
       "      <td>3.520461</td>\n",
       "      <td>4.066802</td>\n",
       "      <td>5.049856</td>\n",
       "    </tr>\n",
       "    <tr>\n",
       "      <th>2</th>\n",
       "      <td>2002</td>\n",
       "      <td>2002</td>\n",
       "      <td>mercedes-benz</td>\n",
       "      <td>clk-klasa</td>\n",
       "      <td>GNI</td>\n",
       "      <td>WIE</td>\n",
       "      <td>255223.0</td>\n",
       "      <td>1796.0</td>\n",
       "      <td>0</td>\n",
       "      <td>0</td>\n",
       "      <td>1</td>\n",
       "      <td>0</td>\n",
       "      <td>0</td>\n",
       "      <td>2.879760</td>\n",
       "      <td>1</td>\n",
       "      <td>0</td>\n",
       "      <td>0</td>\n",
       "      <td>독일</td>\n",
       "      <td>유럽</td>\n",
       "      <td>2.250239</td>\n",
       "      <td>3.147165</td>\n",
       "      <td>3.440418</td>\n",
       "      <td>3.627069</td>\n",
       "      <td>4.866534</td>\n",
       "      <td>1.095273</td>\n",
       "      <td>3.152736</td>\n",
       "      <td>3.785779</td>\n",
       "      <td>4.354655</td>\n",
       "      <td>5.049856</td>\n",
       "      <td>0.955511</td>\n",
       "      <td>2.453588</td>\n",
       "      <td>2.826722</td>\n",
       "      <td>3.353407</td>\n",
       "      <td>5.049022</td>\n",
       "      <td>0.482426</td>\n",
       "      <td>3.089678</td>\n",
       "      <td>3.707577</td>\n",
       "      <td>4.296605</td>\n",
       "      <td>5.049856</td>\n",
       "    </tr>\n",
       "    <tr>\n",
       "      <th>3</th>\n",
       "      <td>2006</td>\n",
       "      <td>2001</td>\n",
       "      <td>nissan</td>\n",
       "      <td>x-trail</td>\n",
       "      <td>EHX</td>\n",
       "      <td>WIE</td>\n",
       "      <td>238000.0</td>\n",
       "      <td>2184.0</td>\n",
       "      <td>0</td>\n",
       "      <td>1</td>\n",
       "      <td>0</td>\n",
       "      <td>0</td>\n",
       "      <td>0</td>\n",
       "      <td>2.901422</td>\n",
       "      <td>0</td>\n",
       "      <td>5</td>\n",
       "      <td>0</td>\n",
       "      <td>일본</td>\n",
       "      <td>아시아</td>\n",
       "      <td>2.164472</td>\n",
       "      <td>4.368303</td>\n",
       "      <td>4.575844</td>\n",
       "      <td>4.761062</td>\n",
       "      <td>5.049022</td>\n",
       "      <td>1.050822</td>\n",
       "      <td>3.558201</td>\n",
       "      <td>3.923359</td>\n",
       "      <td>4.405499</td>\n",
       "      <td>5.049022</td>\n",
       "      <td>0.955511</td>\n",
       "      <td>2.341806</td>\n",
       "      <td>2.738903</td>\n",
       "      <td>3.095125</td>\n",
       "      <td>4.886356</td>\n",
       "      <td>0.482426</td>\n",
       "      <td>3.089678</td>\n",
       "      <td>3.707577</td>\n",
       "      <td>4.296605</td>\n",
       "      <td>5.049856</td>\n",
       "    </tr>\n",
       "    <tr>\n",
       "      <th>4</th>\n",
       "      <td>2007</td>\n",
       "      <td>2007</td>\n",
       "      <td>fiat</td>\n",
       "      <td>bravo</td>\n",
       "      <td>OSW</td>\n",
       "      <td>MAL</td>\n",
       "      <td>251000.0</td>\n",
       "      <td>1910.0</td>\n",
       "      <td>0</td>\n",
       "      <td>1</td>\n",
       "      <td>0</td>\n",
       "      <td>0</td>\n",
       "      <td>0</td>\n",
       "      <td>2.865054</td>\n",
       "      <td>1</td>\n",
       "      <td>0</td>\n",
       "      <td>0</td>\n",
       "      <td>이탈리아</td>\n",
       "      <td>유럽</td>\n",
       "      <td>2.134166</td>\n",
       "      <td>2.894253</td>\n",
       "      <td>3.065725</td>\n",
       "      <td>3.210720</td>\n",
       "      <td>3.660223</td>\n",
       "      <td>1.111858</td>\n",
       "      <td>2.865054</td>\n",
       "      <td>3.529985</td>\n",
       "      <td>4.174387</td>\n",
       "      <td>4.969049</td>\n",
       "      <td>1.697449</td>\n",
       "      <td>3.249210</td>\n",
       "      <td>3.626206</td>\n",
       "      <td>3.948741</td>\n",
       "      <td>5.049856</td>\n",
       "      <td>0.732368</td>\n",
       "      <td>3.201526</td>\n",
       "      <td>3.755837</td>\n",
       "      <td>4.305416</td>\n",
       "      <td>5.049856</td>\n",
       "    </tr>\n",
       "  </tbody>\n",
       "</table>\n",
       "</div>"
      ],
      "text/plain": [
       "   생산년도 모델출시년도            브랜드      차량모델명 판매도시 판매구역      주행거리     배기량  \\\n",
       "0  2018   2014          skoda      fabia  KAT  SLA   85231.0   999.0   \n",
       "1  2010   2006         toyota      auris  RKO  SWI  135000.0  1598.0   \n",
       "2  2002   2002  mercedes-benz  clk-klasa  GNI  WIE  255223.0  1796.0   \n",
       "3  2006   2001         nissan    x-trail  EHX  WIE  238000.0  2184.0   \n",
       "4  2007   2007           fiat      bravo  OSW  MAL  251000.0  1910.0   \n",
       "\n",
       "   압축천연가스(CNG)  경유  가솔린  하이브리드  액화석유가스(LPG)        가격 출시년도생산여부 출시이후생산년수  \\\n",
       "0            0   0    1      0            0  3.946231        0        4   \n",
       "1            0   0    1      0            0  3.724970        0        4   \n",
       "2            0   0    1      0            0  2.879760        1        0   \n",
       "3            0   1    0      0            0  2.901422        0        5   \n",
       "4            0   1    0      0            0  2.865054        1        0   \n",
       "\n",
       "  출시이전생산여부 브랜드국적 브랜드대륙명  차량모델명_Q0  차량모델명_Q25  차량모델명_Q50  차량모델명_Q75  \\\n",
       "0        0    체코     유럽  0.792993   2.933059   3.712352   4.065687   \n",
       "1        0    일본    아시아  2.687167   3.594569   4.112512   4.387075   \n",
       "2        0    독일     유럽  2.250239   3.147165   3.440418   3.627069   \n",
       "3        0    일본    아시아  2.164472   4.368303   4.575844   4.761062   \n",
       "4        0  이탈리아     유럽  2.134166   2.894253   3.065725   3.210720   \n",
       "\n",
       "   차량모델명_Q100    브랜드_Q0   브랜드_Q25   브랜드_Q50   브랜드_Q75  브랜드_Q100  모델출시년도_Q0  \\\n",
       "0    4.830312  0.727549  3.393501  4.057853  4.509072  5.049856   0.157004   \n",
       "1    4.761062  0.157004  3.353407  4.000034  4.435212  5.049856   1.358409   \n",
       "2    4.866534  1.095273  3.152736  3.785779  4.354655  5.049856   0.955511   \n",
       "3    5.049022  1.050822  3.558201  3.923359  4.405499  5.049022   0.955511   \n",
       "4    3.660223  1.111858  2.865054  3.529985  4.174387  4.969049   1.697449   \n",
       "\n",
       "   모델출시년도_Q25  모델출시년도_Q50  모델출시년도_Q75  모델출시년도_Q100   판매구역_Q0  판매구역_Q25  \\\n",
       "0    4.019486    4.355041    4.643140     5.049856  0.262364  3.206803   \n",
       "1    3.089678    3.348851    3.785779     5.049856  1.095273  3.113071   \n",
       "2    2.453588    2.826722    3.353407     5.049022  0.482426  3.089678   \n",
       "3    2.341806    2.738903    3.095125     4.886356  0.482426  3.089678   \n",
       "4    3.249210    3.626206    3.948741     5.049856  0.732368  3.201526   \n",
       "\n",
       "   판매구역_Q50  판매구역_Q75  판매구역_Q100  \n",
       "0  3.773910  4.355041   5.049856  \n",
       "1  3.520461  4.066802   5.049856  \n",
       "2  3.707577  4.296605   5.049856  \n",
       "3  3.707577  4.296605   5.049856  \n",
       "4  3.755837  4.305416   5.049856  "
      ]
     },
     "execution_count": 18,
     "metadata": {},
     "output_type": "execute_result"
    }
   ],
   "source": [
    "print(train_df3.shape)\n",
    "train_df3.head()"
   ]
  },
  {
   "cell_type": "markdown",
   "id": "65939305-7703-474a-912d-3841f3eed25d",
   "metadata": {},
   "source": [
    "<br></br>"
   ]
  },
  {
   "cell_type": "markdown",
   "id": "f97f1466-3f68-43ec-a104-181930321dce",
   "metadata": {},
   "source": [
    "# EDA"
   ]
  },
  {
   "cell_type": "code",
   "execution_count": 19,
   "id": "4d1e3686-4ea5-4147-a968-4dc93785c50c",
   "metadata": {},
   "outputs": [],
   "source": [
    "# check_num_features = [col for col in num_features if col.find('_Q')<0]\n",
    "\n",
    "# i=0\n",
    "# for col in check_num_features:\n",
    "#     i+=1\n",
    "#     print('\\n({}/{}) {}'.format(i,len(check_num_features),col))\n",
    "#     plt.figure(figsize=(15,7))\n",
    "#     sns.scatterplot(x=train_df3['가격'],y=train_df3[col])\n",
    "#     plt.show()"
   ]
  },
  {
   "cell_type": "markdown",
   "id": "6920fd41-52ab-4de1-82a4-d9a5b28a4346",
   "metadata": {},
   "source": [
    "<br></br>"
   ]
  },
  {
   "cell_type": "markdown",
   "id": "8c6171ab-e115-43a0-906e-ea644ee74b86",
   "metadata": {},
   "source": [
    "# Add the Interaction Term"
   ]
  },
  {
   "cell_type": "code",
   "execution_count": 20,
   "id": "2c35453f-0aae-4d1c-b034-f47a24ec1798",
   "metadata": {},
   "outputs": [],
   "source": [
    "import warnings\n",
    "from tqdm import trange\n",
    "\n",
    "def get_abs_corr(x,y):\n",
    "    return np.abs(np.corrcoef(x,y))[0,1]\n",
    "\n",
    "class InteractionTerm:\n",
    "    def __init__(self):\n",
    "        pass\n",
    "    \n",
    "    def fit(self,data,num_features,corr_cutoff=0.7):\n",
    "        warnings.simplefilter(action='ignore', category=pd.errors.PerformanceWarning)\n",
    "        \n",
    "        d = data.copy()\n",
    "        self.interaction_list = []\n",
    "        for i in range(len(num_features)):\n",
    "            for j in range(len(num_features)):\n",
    "                if i>j:\n",
    "                    col_i = num_features[i]\n",
    "                    col_j = num_features[j]\n",
    "                    \n",
    "                    # 상관계수가 cutoff보다 큰 경우에는 interaction을 생성하지 않음\n",
    "                    if (get_abs_corr(d[col_i]*d[col_j],d[col_i])>=corr_cutoff) | (get_abs_corr(d[col_i]*d[col_j],d[col_j])>=corr_cutoff):\n",
    "                        pass\n",
    "                    else:\n",
    "                        self.interaction_list.append(f'{col_i}*{col_j}')\n",
    "    \n",
    "    def transform(self,data):\n",
    "        d = data.copy()\n",
    "        for interaction in self.interaction_list:\n",
    "            col_i,col_j = interaction.split('*')\n",
    "            d[interaction] = d[col_i]*d[col_j]\n",
    "        return d\n",
    "    \n",
    "    def fit_transform(self,data,num_features,corr_cutoff=0.7):\n",
    "        self.fit(data,num_features,corr_cutoff)\n",
    "        return self.transform(data)"
   ]
  },
  {
   "cell_type": "code",
   "execution_count": 21,
   "id": "e973e0f2-e229-493c-9ad0-a42c086a35f5",
   "metadata": {},
   "outputs": [],
   "source": [
    "train_df4 = train_df3.copy()\n",
    "test_df4  = test_df3.copy()\n",
    "\n",
    "if CFG.INTERACTION:\n",
    "    interaction_maker = InteractionTerm()\n",
    "    interaction_maker.fit(\n",
    "        data=train_df3,\n",
    "        num_features=num_features,\n",
    "        corr_cutoff=0.7,\n",
    "    )\n",
    "    train_df4 = interaction_maker.transform(train_df4)\n",
    "    test_df4  = interaction_maker.transform(test_df4)\n",
    "\n",
    "    type_resetor = TypeResetting()\n",
    "    type_resetor.add_categorical_features(fe.new_cat_features)\n",
    "    type_resetor.fit(train_df4)\n",
    "    type_resetor.get_feature_type()\n",
    "\n",
    "    train_df4 = type_resetor.transform(train_df4)\n",
    "    test_df4  = type_resetor.transform(test_df4)"
   ]
  },
  {
   "cell_type": "markdown",
   "id": "c3732aa9-e9d7-41d5-8e8c-667699fe5a30",
   "metadata": {},
   "source": [
    "<br></br>"
   ]
  },
  {
   "cell_type": "markdown",
   "id": "eec950f8-0d43-4b9a-97ed-6feac553dba3",
   "metadata": {},
   "source": [
    "# Feature Selection"
   ]
  },
  {
   "cell_type": "code",
   "execution_count": 22,
   "id": "880a07b7-5116-410a-a6d0-0d2c50b151b3",
   "metadata": {},
   "outputs": [],
   "source": [
    "# k=0\n",
    "# for i in range(len(num_features)):\n",
    "#     for j in range(len(num_features)):\n",
    "#         if i>j:\n",
    "#             col_i = num_features[i]\n",
    "#             col_j = num_features[j]\n",
    "#             corr = np.corrcoef(train_df4[col_i],train_df4[col_j])[0,1]\n",
    "#             if corr>=0.7:\n",
    "#                 k+=1\n",
    "#                 print(k,col_i,col_j,corr)"
   ]
  },
  {
   "cell_type": "code",
   "execution_count": 23,
   "id": "a38e1e0d-3c13-4c6e-81a1-9e18d0f05e9e",
   "metadata": {},
   "outputs": [],
   "source": [
    "def log_offset(x):\n",
    "    if min(x)>0:\n",
    "        offset = 0\n",
    "    elif min(x)==0:\n",
    "        offset = 1e-3\n",
    "    else:\n",
    "        offset = min(x)+1e-3\n",
    "        print('minimum = {:.3f}'.format(min(x)))\n",
    "    return np.log(x+offset)"
   ]
  },
  {
   "cell_type": "markdown",
   "id": "40318716-a92d-459a-9ff7-9c1d262a107d",
   "metadata": {},
   "source": [
    "<br></br>"
   ]
  },
  {
   "cell_type": "markdown",
   "id": "5b8304c3-426d-4a24-89cc-d3c76a5ea249",
   "metadata": {},
   "source": [
    "## Categorical Features"
   ]
  },
  {
   "cell_type": "code",
   "execution_count": 24,
   "id": "e6e1cc67-3282-47c3-ada7-8c7776443b16",
   "metadata": {},
   "outputs": [],
   "source": [
    "# import statsmodels.api as sm\n",
    "from statsmodels.formula.api import ols\n",
    "from statsmodels.stats.anova import anova_lm"
   ]
  },
  {
   "cell_type": "code",
   "execution_count": 25,
   "id": "81d460ab-4868-423a-8f9c-08e0b456ab48",
   "metadata": {},
   "outputs": [
    {
     "name": "stderr",
     "output_type": "stream",
     "text": [
      "100%|██████████| 9/9 [00:03<00:00,  2.49it/s]\n"
     ]
    }
   ],
   "source": [
    "check_cat_features = [col for col in cat_features if train_df4[col].nunique()<=100]\n",
    "\n",
    "# (1) ANOVA를 해서 p-value가 0.05보다 높은 것들 확인\n",
    "pvalue_list = []\n",
    "for col in tqdm(check_cat_features):\n",
    "    d = train_df4[[col,'가격']].rename(columns={col:'feature'})\n",
    "    \n",
    "    model = ols(f'가격 ~ C(feature)',data=d).fit()\n",
    "    pvalue = anova_lm(model).values[0][-1]\n",
    "    pvalue_list.append([col,pvalue])\n",
    "    \n",
    "pvalue_df = pd.DataFrame(pvalue_list,columns=['feature','pvalue'])\\\n",
    "    .sort_values('pvalue',ascending=False)\n",
    "# pvalue_df[pvalue_df.pvalue>=alpha].round(4)"
   ]
  },
  {
   "cell_type": "code",
   "execution_count": 26,
   "id": "90277925-192b-4514-beb0-675a1dddd086",
   "metadata": {},
   "outputs": [
    {
     "name": "stderr",
     "output_type": "stream",
     "text": [
      "0it [00:00, ?it/s]\n"
     ]
    }
   ],
   "source": [
    "# (2) (1)에서 유의하지않은 feature들은 log적용 후에도 유의하지 않으면 제외\n",
    "pvalue_list2 = []\n",
    "unsignificant_features = pvalue_df[pvalue_df.pvalue>CFG.FS_ALPHA].feature.tolist()\n",
    "for col in tqdm(unsignificant_features):\n",
    "    d = train_df4[[col,'target']].rename(columns={col:'feature'})\n",
    "    d['feature'] = log_offset(d['feature'])\n",
    "    \n",
    "    model = ols(f'feature ~ C(target)',data=d).fit()\n",
    "    pvalue = anova_lm(model).values[0][-1]\n",
    "    pvalue_list2.append([col,pvalue])\n",
    "    \n",
    "pvalue_df2 = pd.DataFrame(pvalue_list2,columns=['feature','pvalue'])\\\n",
    "    .sort_values('pvalue',ascending=False)"
   ]
  },
  {
   "cell_type": "code",
   "execution_count": 27,
   "id": "6a33f82a-221e-4c73-a7e1-6edb0aec18f4",
   "metadata": {},
   "outputs": [
    {
     "name": "stdout",
     "output_type": "stream",
     "text": [
      "> delete_features\n",
      "  - length : 0\n",
      "  - feature_name : []\n",
      "\n",
      "> log_features\n",
      "  - length : 0\n",
      "  - feature_name : []\n"
     ]
    }
   ],
   "source": [
    "delete_features = pvalue_df2[pvalue_df2.pvalue> CFG.FS_ALPHA].feature.tolist()\n",
    "log_features    = pvalue_df2[pvalue_df2.pvalue<=CFG.FS_ALPHA].feature.tolist()\n",
    "print('> delete_features')\n",
    "print('  - length : {}'.format(len(delete_features)))\n",
    "print('  - feature_name : {}'.format(delete_features))\n",
    "print('')\n",
    "print('> log_features')\n",
    "print('  - length : {}'.format(len(log_features)))\n",
    "print('  - feature_name : {}'.format(log_features))\n",
    "\n",
    "train_df5 = train_df4.copy()\n",
    "train_df5.drop(delete_features,axis=1,inplace=True)\n",
    "for col in log_features:\n",
    "    train_df5[col] = log_offset(train_df5[col])\n",
    "    \n",
    "test_df5 = test_df4.copy()\n",
    "test_df5.drop(delete_features,axis=1,inplace=True)\n",
    "for col in log_features:\n",
    "    test_df5[col] = log_offset(test_df5[col])"
   ]
  },
  {
   "cell_type": "markdown",
   "id": "4176ea54-23ec-469f-b732-88b6afcac30e",
   "metadata": {},
   "source": [
    "<br>"
   ]
  },
  {
   "cell_type": "markdown",
   "id": "501bbc25-a915-4b50-9fb3-d6689c37a216",
   "metadata": {},
   "source": [
    "## Numerical Features"
   ]
  },
  {
   "cell_type": "code",
   "execution_count": 28,
   "id": "fbb2b20b-bb8e-4081-bdc8-0c121fadbf07",
   "metadata": {},
   "outputs": [],
   "source": [
    "import scipy"
   ]
  },
  {
   "cell_type": "code",
   "execution_count": 29,
   "id": "c13b45c5-3c59-404e-bb14-b023dad4705b",
   "metadata": {},
   "outputs": [],
   "source": [
    "# (1) corr test를 해서 p-value가 0.05보다 높은 것들 확인\n",
    "pvalue_list = []\n",
    "for col in num_features:\n",
    "    corr,pvalue = scipy.stats.pearsonr(train_df5['가격'],train_df5[col])\n",
    "    pvalue_list.append([col,pvalue])\n",
    "pvalue_df = pd.DataFrame(pvalue_list,columns=['feature','pvalue'])\\\n",
    "    .sort_values('pvalue',ascending=False)\n",
    "# pvalue_df.round(4).head()"
   ]
  },
  {
   "cell_type": "code",
   "execution_count": 30,
   "id": "d178a263-70c2-4a52-9974-fa45e9dd5f96",
   "metadata": {},
   "outputs": [
    {
     "name": "stderr",
     "output_type": "stream",
     "text": [
      "0it [00:00, ?it/s]\n"
     ]
    }
   ],
   "source": [
    "# (2) (1)에서 유의하지않은 feature들은 log적용 후에도 유의하지 않으면 제외\n",
    "pvalue_list2 = []\n",
    "unsignificant_features = pvalue_df[pvalue_df.pvalue>CFG.FS_ALPHA].feature.tolist()\n",
    "for col in tqdm(unsignificant_features):\n",
    "    corr,pvalue = scipy.stats.pearsonr(train_df5['가격'],log_offset(train_df5[col]))\n",
    "    pvalue_list2.append([col,pvalue])\n",
    "pvalue_df2 = pd.DataFrame(pvalue_list2,columns=['feature','pvalue'])\\\n",
    "    .sort_values('pvalue',ascending=False)\n",
    "# pvalue_df2.round(4).head()"
   ]
  },
  {
   "cell_type": "code",
   "execution_count": 31,
   "id": "cc6bc35c-24f3-4e04-89ae-2a0c6db4deb5",
   "metadata": {},
   "outputs": [
    {
     "name": "stdout",
     "output_type": "stream",
     "text": [
      "> delete_features\n",
      "  - length : 0\n",
      "  - feature_name : []\n",
      "\n",
      "> log_features\n",
      "  - length : 0\n",
      "  - feature_name : []\n"
     ]
    }
   ],
   "source": [
    "delete_features = pvalue_df2[pvalue_df2.pvalue> CFG.FS_ALPHA].feature.tolist()\n",
    "log_features    = pvalue_df2[pvalue_df2.pvalue<=CFG.FS_ALPHA].feature.tolist()\n",
    "print('> delete_features')\n",
    "print('  - length : {}'.format(len(delete_features)))\n",
    "print('  - feature_name : {}'.format(delete_features))\n",
    "print('')\n",
    "print('> log_features')\n",
    "print('  - length : {}'.format(len(log_features)))\n",
    "print('  - feature_name : {}'.format(log_features))\n",
    "\n",
    "train_df6 = train_df5.copy()\n",
    "train_df6.drop(delete_features,axis=1,inplace=True)\n",
    "for col in log_features:\n",
    "    train_df6[col] = log_offset(train_df6[col])\n",
    "    \n",
    "test_df6 = test_df5.copy()\n",
    "test_df6.drop(delete_features,axis=1,inplace=True)\n",
    "for col in log_features:\n",
    "    test_df6[col] = log_offset(test_df6[col])"
   ]
  },
  {
   "cell_type": "markdown",
   "id": "79601117-685e-475d-84b6-0706f876e338",
   "metadata": {},
   "source": [
    "<br></br>"
   ]
  },
  {
   "cell_type": "markdown",
   "id": "508b9354-bcc6-448c-969a-e13259c63768",
   "metadata": {},
   "source": [
    "# Make Segment"
   ]
  },
  {
   "cell_type": "code",
   "execution_count": 32,
   "id": "79d59204-cd48-463d-9d66-f6cdeb958d0d",
   "metadata": {},
   "outputs": [],
   "source": [
    "def make_segment(data,segment: list):\n",
    "    d = data.copy()\n",
    "    d['segment'] = d[segment].apply(lambda x: '___'.join(x),axis=1)\n",
    "    d.drop(columns=segment,inplace=True)\n",
    "    return d"
   ]
  },
  {
   "cell_type": "code",
   "execution_count": 33,
   "id": "af98b30f-f615-4098-ad04-dc19a06e19db",
   "metadata": {},
   "outputs": [],
   "source": [
    "segment = ['브랜드']\n",
    "train_df7 = make_segment(train_df6,segment)\n",
    "test_df7  = make_segment(test_df6 ,segment)"
   ]
  },
  {
   "cell_type": "code",
   "execution_count": 34,
   "id": "f5335ebd-d436-4ef0-aa8a-9652f0b42edd",
   "metadata": {},
   "outputs": [],
   "source": [
    "test_only = list(set(test_df7.segment.unique())-set(train_df7.segment.unique()))\n",
    "assert len(test_only)==0, \\\n",
    "    \"Segment exists only in the test set ({})\".format(len(test_only))"
   ]
  },
  {
   "cell_type": "code",
   "execution_count": 35,
   "id": "22f864e5-c30e-41e1-b3bf-45e6a561dcd3",
   "metadata": {},
   "outputs": [
    {
     "name": "stdout",
     "output_type": "stream",
     "text": [
      "> Train에만 존재하는 Segment 제거\n",
      " - 데이터수 : 57,920 -> 57,920\n",
      " - 세그먼트수 : 20\n"
     ]
    }
   ],
   "source": [
    "train_only = list(set(train_df7['segment'].unique())-set(test_df7['segment'].unique()))\n",
    "\n",
    "n_asis = len(train_df7)\n",
    "n_tobe = len(train_df7[~train_df7.segment.isin(train_only)])\n",
    "train_df7 = train_df7[~train_df7.segment.isin(train_only)]\n",
    "print('> Train에만 존재하는 Segment 제거')\n",
    "print(' - 데이터수 : {:,} -> {:,}'.format(n_asis,n_tobe))\n",
    "print(' - 세그먼트수 : {:,}'.format(train_df7['segment'].nunique()))"
   ]
  },
  {
   "cell_type": "code",
   "execution_count": 36,
   "id": "4579bed8-088d-46c0-b69a-72cad7028995",
   "metadata": {},
   "outputs": [
    {
     "data": {
      "text/plain": [
       "segment\n",
       "mitsubishi     556\n",
       "peugeot        793\n",
       "citroen       1129\n",
       "fiat          1164\n",
       "volvo         1352\n",
       "Name: count, dtype: int64"
      ]
     },
     "metadata": {},
     "output_type": "display_data"
    },
    {
     "name": "stdout",
     "output_type": "stream",
     "text": [
      "...\n"
     ]
    },
    {
     "data": {
      "text/plain": [
       "segment\n",
       "bmw           5262\n",
       "audi          5597\n",
       "volkswagen    5693\n",
       "ford          5819\n",
       "opel          6651\n",
       "Name: count, dtype: int64"
      ]
     },
     "metadata": {},
     "output_type": "display_data"
    }
   ],
   "source": [
    "vc = train_df7['segment'].value_counts().sort_values()\n",
    "display(vc.head())\n",
    "print('...')\n",
    "display(vc.tail())"
   ]
  },
  {
   "cell_type": "code",
   "execution_count": 37,
   "id": "caffe72a-8ac5-4cb9-81c6-8a778faa2a2d",
   "metadata": {},
   "outputs": [],
   "source": [
    "type_resetor = TypeResetting()\n",
    "type_resetor.add_categorical_features(fe.new_cat_features)\n",
    "type_resetor.add_segment_features(segment)\n",
    "type_resetor.fit(train_df7)\n",
    "type_resetor.get_feature_type()\n",
    "\n",
    "train_df7 = type_resetor.transform(train_df7)\n",
    "test_df7  = type_resetor.transform(test_df7)"
   ]
  },
  {
   "cell_type": "code",
   "execution_count": 38,
   "id": "5b6938ef-7438-4e29-9b63-f8b45ae27180",
   "metadata": {},
   "outputs": [
    {
     "data": {
      "text/plain": [
       "['차량모델명',\n",
       " '판매도시',\n",
       " '판매구역',\n",
       " '생산년도',\n",
       " '모델출시년도',\n",
       " '출시년도생산여부',\n",
       " '출시이후생산년수',\n",
       " '출시이전생산여부',\n",
       " '브랜드국적',\n",
       " '브랜드대륙명']"
      ]
     },
     "execution_count": 38,
     "metadata": {},
     "output_type": "execute_result"
    }
   ],
   "source": [
    "cat_features"
   ]
  },
  {
   "cell_type": "code",
   "execution_count": 39,
   "id": "ea57f4f5-bdd5-41f9-a2ea-832514b6bc42",
   "metadata": {},
   "outputs": [
    {
     "name": "stdout",
     "output_type": "stream",
     "text": [
      "(57920, 39)\n"
     ]
    },
    {
     "data": {
      "text/html": [
       "<div>\n",
       "<style scoped>\n",
       "    .dataframe tbody tr th:only-of-type {\n",
       "        vertical-align: middle;\n",
       "    }\n",
       "\n",
       "    .dataframe tbody tr th {\n",
       "        vertical-align: top;\n",
       "    }\n",
       "\n",
       "    .dataframe thead th {\n",
       "        text-align: right;\n",
       "    }\n",
       "</style>\n",
       "<table border=\"1\" class=\"dataframe\">\n",
       "  <thead>\n",
       "    <tr style=\"text-align: right;\">\n",
       "      <th></th>\n",
       "      <th>생산년도</th>\n",
       "      <th>모델출시년도</th>\n",
       "      <th>차량모델명</th>\n",
       "      <th>판매도시</th>\n",
       "      <th>판매구역</th>\n",
       "      <th>주행거리</th>\n",
       "      <th>배기량</th>\n",
       "      <th>압축천연가스(CNG)</th>\n",
       "      <th>경유</th>\n",
       "      <th>가솔린</th>\n",
       "      <th>하이브리드</th>\n",
       "      <th>액화석유가스(LPG)</th>\n",
       "      <th>가격</th>\n",
       "      <th>출시년도생산여부</th>\n",
       "      <th>출시이후생산년수</th>\n",
       "      <th>출시이전생산여부</th>\n",
       "      <th>브랜드국적</th>\n",
       "      <th>브랜드대륙명</th>\n",
       "      <th>차량모델명_Q0</th>\n",
       "      <th>차량모델명_Q25</th>\n",
       "      <th>차량모델명_Q50</th>\n",
       "      <th>차량모델명_Q75</th>\n",
       "      <th>차량모델명_Q100</th>\n",
       "      <th>브랜드_Q0</th>\n",
       "      <th>브랜드_Q25</th>\n",
       "      <th>브랜드_Q50</th>\n",
       "      <th>브랜드_Q75</th>\n",
       "      <th>브랜드_Q100</th>\n",
       "      <th>모델출시년도_Q0</th>\n",
       "      <th>모델출시년도_Q25</th>\n",
       "      <th>모델출시년도_Q50</th>\n",
       "      <th>모델출시년도_Q75</th>\n",
       "      <th>모델출시년도_Q100</th>\n",
       "      <th>판매구역_Q0</th>\n",
       "      <th>판매구역_Q25</th>\n",
       "      <th>판매구역_Q50</th>\n",
       "      <th>판매구역_Q75</th>\n",
       "      <th>판매구역_Q100</th>\n",
       "      <th>segment</th>\n",
       "    </tr>\n",
       "  </thead>\n",
       "  <tbody>\n",
       "    <tr>\n",
       "      <th>0</th>\n",
       "      <td>2018</td>\n",
       "      <td>2014</td>\n",
       "      <td>fabia</td>\n",
       "      <td>KAT</td>\n",
       "      <td>SLA</td>\n",
       "      <td>85231.0</td>\n",
       "      <td>999.0</td>\n",
       "      <td>0</td>\n",
       "      <td>0</td>\n",
       "      <td>1</td>\n",
       "      <td>0</td>\n",
       "      <td>0</td>\n",
       "      <td>3.946231</td>\n",
       "      <td>0</td>\n",
       "      <td>4</td>\n",
       "      <td>0</td>\n",
       "      <td>체코</td>\n",
       "      <td>유럽</td>\n",
       "      <td>0.792993</td>\n",
       "      <td>2.933059</td>\n",
       "      <td>3.712352</td>\n",
       "      <td>4.065687</td>\n",
       "      <td>4.830312</td>\n",
       "      <td>0.727549</td>\n",
       "      <td>3.393501</td>\n",
       "      <td>4.057853</td>\n",
       "      <td>4.509072</td>\n",
       "      <td>5.049856</td>\n",
       "      <td>0.157004</td>\n",
       "      <td>4.019486</td>\n",
       "      <td>4.355041</td>\n",
       "      <td>4.643140</td>\n",
       "      <td>5.049856</td>\n",
       "      <td>0.262364</td>\n",
       "      <td>3.206803</td>\n",
       "      <td>3.773910</td>\n",
       "      <td>4.355041</td>\n",
       "      <td>5.049856</td>\n",
       "      <td>skoda</td>\n",
       "    </tr>\n",
       "    <tr>\n",
       "      <th>1</th>\n",
       "      <td>2010</td>\n",
       "      <td>2006</td>\n",
       "      <td>auris</td>\n",
       "      <td>RKO</td>\n",
       "      <td>SWI</td>\n",
       "      <td>135000.0</td>\n",
       "      <td>1598.0</td>\n",
       "      <td>0</td>\n",
       "      <td>0</td>\n",
       "      <td>1</td>\n",
       "      <td>0</td>\n",
       "      <td>0</td>\n",
       "      <td>3.724970</td>\n",
       "      <td>0</td>\n",
       "      <td>4</td>\n",
       "      <td>0</td>\n",
       "      <td>일본</td>\n",
       "      <td>아시아</td>\n",
       "      <td>2.687167</td>\n",
       "      <td>3.594569</td>\n",
       "      <td>4.112512</td>\n",
       "      <td>4.387075</td>\n",
       "      <td>4.761062</td>\n",
       "      <td>0.157004</td>\n",
       "      <td>3.353407</td>\n",
       "      <td>4.000034</td>\n",
       "      <td>4.435212</td>\n",
       "      <td>5.049856</td>\n",
       "      <td>1.358409</td>\n",
       "      <td>3.089678</td>\n",
       "      <td>3.348851</td>\n",
       "      <td>3.785779</td>\n",
       "      <td>5.049856</td>\n",
       "      <td>1.095273</td>\n",
       "      <td>3.113071</td>\n",
       "      <td>3.520461</td>\n",
       "      <td>4.066802</td>\n",
       "      <td>5.049856</td>\n",
       "      <td>toyota</td>\n",
       "    </tr>\n",
       "    <tr>\n",
       "      <th>2</th>\n",
       "      <td>2002</td>\n",
       "      <td>2002</td>\n",
       "      <td>clk-klasa</td>\n",
       "      <td>GNI</td>\n",
       "      <td>WIE</td>\n",
       "      <td>255223.0</td>\n",
       "      <td>1796.0</td>\n",
       "      <td>0</td>\n",
       "      <td>0</td>\n",
       "      <td>1</td>\n",
       "      <td>0</td>\n",
       "      <td>0</td>\n",
       "      <td>2.879760</td>\n",
       "      <td>1</td>\n",
       "      <td>0</td>\n",
       "      <td>0</td>\n",
       "      <td>독일</td>\n",
       "      <td>유럽</td>\n",
       "      <td>2.250239</td>\n",
       "      <td>3.147165</td>\n",
       "      <td>3.440418</td>\n",
       "      <td>3.627069</td>\n",
       "      <td>4.866534</td>\n",
       "      <td>1.095273</td>\n",
       "      <td>3.152736</td>\n",
       "      <td>3.785779</td>\n",
       "      <td>4.354655</td>\n",
       "      <td>5.049856</td>\n",
       "      <td>0.955511</td>\n",
       "      <td>2.453588</td>\n",
       "      <td>2.826722</td>\n",
       "      <td>3.353407</td>\n",
       "      <td>5.049022</td>\n",
       "      <td>0.482426</td>\n",
       "      <td>3.089678</td>\n",
       "      <td>3.707577</td>\n",
       "      <td>4.296605</td>\n",
       "      <td>5.049856</td>\n",
       "      <td>mercedes-benz</td>\n",
       "    </tr>\n",
       "    <tr>\n",
       "      <th>3</th>\n",
       "      <td>2006</td>\n",
       "      <td>2001</td>\n",
       "      <td>x-trail</td>\n",
       "      <td>EHX</td>\n",
       "      <td>WIE</td>\n",
       "      <td>238000.0</td>\n",
       "      <td>2184.0</td>\n",
       "      <td>0</td>\n",
       "      <td>1</td>\n",
       "      <td>0</td>\n",
       "      <td>0</td>\n",
       "      <td>0</td>\n",
       "      <td>2.901422</td>\n",
       "      <td>0</td>\n",
       "      <td>5</td>\n",
       "      <td>0</td>\n",
       "      <td>일본</td>\n",
       "      <td>아시아</td>\n",
       "      <td>2.164472</td>\n",
       "      <td>4.368303</td>\n",
       "      <td>4.575844</td>\n",
       "      <td>4.761062</td>\n",
       "      <td>5.049022</td>\n",
       "      <td>1.050822</td>\n",
       "      <td>3.558201</td>\n",
       "      <td>3.923359</td>\n",
       "      <td>4.405499</td>\n",
       "      <td>5.049022</td>\n",
       "      <td>0.955511</td>\n",
       "      <td>2.341806</td>\n",
       "      <td>2.738903</td>\n",
       "      <td>3.095125</td>\n",
       "      <td>4.886356</td>\n",
       "      <td>0.482426</td>\n",
       "      <td>3.089678</td>\n",
       "      <td>3.707577</td>\n",
       "      <td>4.296605</td>\n",
       "      <td>5.049856</td>\n",
       "      <td>nissan</td>\n",
       "    </tr>\n",
       "    <tr>\n",
       "      <th>4</th>\n",
       "      <td>2007</td>\n",
       "      <td>2007</td>\n",
       "      <td>bravo</td>\n",
       "      <td>OSW</td>\n",
       "      <td>MAL</td>\n",
       "      <td>251000.0</td>\n",
       "      <td>1910.0</td>\n",
       "      <td>0</td>\n",
       "      <td>1</td>\n",
       "      <td>0</td>\n",
       "      <td>0</td>\n",
       "      <td>0</td>\n",
       "      <td>2.865054</td>\n",
       "      <td>1</td>\n",
       "      <td>0</td>\n",
       "      <td>0</td>\n",
       "      <td>이탈리아</td>\n",
       "      <td>유럽</td>\n",
       "      <td>2.134166</td>\n",
       "      <td>2.894253</td>\n",
       "      <td>3.065725</td>\n",
       "      <td>3.210720</td>\n",
       "      <td>3.660223</td>\n",
       "      <td>1.111858</td>\n",
       "      <td>2.865054</td>\n",
       "      <td>3.529985</td>\n",
       "      <td>4.174387</td>\n",
       "      <td>4.969049</td>\n",
       "      <td>1.697449</td>\n",
       "      <td>3.249210</td>\n",
       "      <td>3.626206</td>\n",
       "      <td>3.948741</td>\n",
       "      <td>5.049856</td>\n",
       "      <td>0.732368</td>\n",
       "      <td>3.201526</td>\n",
       "      <td>3.755837</td>\n",
       "      <td>4.305416</td>\n",
       "      <td>5.049856</td>\n",
       "      <td>fiat</td>\n",
       "    </tr>\n",
       "  </tbody>\n",
       "</table>\n",
       "</div>"
      ],
      "text/plain": [
       "   생산년도 모델출시년도      차량모델명 판매도시 판매구역      주행거리     배기량  압축천연가스(CNG)  경유  가솔린  \\\n",
       "0  2018   2014      fabia  KAT  SLA   85231.0   999.0            0   0    1   \n",
       "1  2010   2006      auris  RKO  SWI  135000.0  1598.0            0   0    1   \n",
       "2  2002   2002  clk-klasa  GNI  WIE  255223.0  1796.0            0   0    1   \n",
       "3  2006   2001    x-trail  EHX  WIE  238000.0  2184.0            0   1    0   \n",
       "4  2007   2007      bravo  OSW  MAL  251000.0  1910.0            0   1    0   \n",
       "\n",
       "   하이브리드  액화석유가스(LPG)        가격 출시년도생산여부 출시이후생산년수 출시이전생산여부 브랜드국적 브랜드대륙명  \\\n",
       "0      0            0  3.946231        0        4        0    체코     유럽   \n",
       "1      0            0  3.724970        0        4        0    일본    아시아   \n",
       "2      0            0  2.879760        1        0        0    독일     유럽   \n",
       "3      0            0  2.901422        0        5        0    일본    아시아   \n",
       "4      0            0  2.865054        1        0        0  이탈리아     유럽   \n",
       "\n",
       "   차량모델명_Q0  차량모델명_Q25  차량모델명_Q50  차량모델명_Q75  차량모델명_Q100    브랜드_Q0   브랜드_Q25  \\\n",
       "0  0.792993   2.933059   3.712352   4.065687    4.830312  0.727549  3.393501   \n",
       "1  2.687167   3.594569   4.112512   4.387075    4.761062  0.157004  3.353407   \n",
       "2  2.250239   3.147165   3.440418   3.627069    4.866534  1.095273  3.152736   \n",
       "3  2.164472   4.368303   4.575844   4.761062    5.049022  1.050822  3.558201   \n",
       "4  2.134166   2.894253   3.065725   3.210720    3.660223  1.111858  2.865054   \n",
       "\n",
       "    브랜드_Q50   브랜드_Q75  브랜드_Q100  모델출시년도_Q0  모델출시년도_Q25  모델출시년도_Q50  \\\n",
       "0  4.057853  4.509072  5.049856   0.157004    4.019486    4.355041   \n",
       "1  4.000034  4.435212  5.049856   1.358409    3.089678    3.348851   \n",
       "2  3.785779  4.354655  5.049856   0.955511    2.453588    2.826722   \n",
       "3  3.923359  4.405499  5.049022   0.955511    2.341806    2.738903   \n",
       "4  3.529985  4.174387  4.969049   1.697449    3.249210    3.626206   \n",
       "\n",
       "   모델출시년도_Q75  모델출시년도_Q100   판매구역_Q0  판매구역_Q25  판매구역_Q50  판매구역_Q75  판매구역_Q100  \\\n",
       "0    4.643140     5.049856  0.262364  3.206803  3.773910  4.355041   5.049856   \n",
       "1    3.785779     5.049856  1.095273  3.113071  3.520461  4.066802   5.049856   \n",
       "2    3.353407     5.049022  0.482426  3.089678  3.707577  4.296605   5.049856   \n",
       "3    3.095125     4.886356  0.482426  3.089678  3.707577  4.296605   5.049856   \n",
       "4    3.948741     5.049856  0.732368  3.201526  3.755837  4.305416   5.049856   \n",
       "\n",
       "         segment  \n",
       "0          skoda  \n",
       "1         toyota  \n",
       "2  mercedes-benz  \n",
       "3         nissan  \n",
       "4           fiat  "
      ]
     },
     "execution_count": 39,
     "metadata": {},
     "output_type": "execute_result"
    }
   ],
   "source": [
    "print(train_df7.shape)\n",
    "train_df7.head()"
   ]
  },
  {
   "cell_type": "markdown",
   "id": "2fc32ace-0b1a-4235-b3aa-b834096d6c02",
   "metadata": {},
   "source": [
    "<br></br>"
   ]
  },
  {
   "cell_type": "markdown",
   "id": "1bdebcae-a0db-4e33-8f6a-8d655989d04f",
   "metadata": {},
   "source": [
    "# Modeling"
   ]
  },
  {
   "cell_type": "code",
   "execution_count": 40,
   "id": "330d67f2-4951-4092-aefd-1be42b8577e2",
   "metadata": {},
   "outputs": [],
   "source": [
    "import os\n",
    "def mkdir(paths):\n",
    "    if type(paths)==str:\n",
    "        paths = [paths]\n",
    "    for path in paths:\n",
    "        if not os.path.isdir(path):\n",
    "            print('> Create Folder: {}'.format(path))\n",
    "            os.mkdir(path)"
   ]
  },
  {
   "cell_type": "code",
   "execution_count": 41,
   "id": "4abf1609-fe3f-405b-87e6-76c296a00a1a",
   "metadata": {
    "tags": []
   },
   "outputs": [],
   "source": [
    "## dummy_features는 한가지만 속함\n",
    "# X[dummy_features].apply(lambda x: np.sum(x),axis=1).value_counts()\n",
    "\n",
    "def add_fuel_type(data,dummy_features):\n",
    "    d = data.copy()\n",
    "    d['fuel_type'] = d[dummy_features].apply(\n",
    "        lambda x: dummy_features[np.where(x==1)[0][0]],axis=1)\n",
    "    d.drop(columns=dummy_features,inplace=True)\n",
    "    return d"
   ]
  },
  {
   "cell_type": "code",
   "execution_count": 42,
   "id": "01609cc3-d341-4d8c-9295-45934f1e4c8c",
   "metadata": {},
   "outputs": [],
   "source": [
    "mkdir('./model_checkpoints')\n",
    "mkdir('./model_checkpoints/segment_catboost')\n",
    "mkdir('./model_checkpoints/segment_weightedensemble')"
   ]
  },
  {
   "cell_type": "code",
   "execution_count": 43,
   "id": "1d430390-c11e-4018-a420-29b1e29850ba",
   "metadata": {},
   "outputs": [
    {
     "data": {
      "text/plain": [
       "(0, 0)"
      ]
     },
     "execution_count": 43,
     "metadata": {},
     "output_type": "execute_result"
    }
   ],
   "source": [
    "def check_null_cnt(data):\n",
    "    null_cnt = data.isnull().sum()\n",
    "    null_cnt = len(null_cnt[null_cnt!=0])\n",
    "    return null_cnt\n",
    "\n",
    "check_null_cnt(train_df7),check_null_cnt(test_df7)"
   ]
  },
  {
   "cell_type": "markdown",
   "id": "df4369ef-ddbf-42f5-8d3b-008573b4b6b9",
   "metadata": {},
   "source": [
    "<br>"
   ]
  },
  {
   "cell_type": "markdown",
   "id": "475f1b72-9651-42d2-8410-52fd85595f88",
   "metadata": {
    "tags": []
   },
   "source": [
    "## CatBoost\n",
    "- public score : "
   ]
  },
  {
   "cell_type": "code",
   "execution_count": null,
   "id": "da2683aa-dd52-4402-a77b-7560b27b9f42",
   "metadata": {},
   "outputs": [],
   "source": [
    "gc.collect()"
   ]
  },
  {
   "cell_type": "code",
   "execution_count": null,
   "id": "251d6bfc-9f23-4ad2-bca5-16a3d57c42b9",
   "metadata": {},
   "outputs": [],
   "source": [
    "from sklearn.model_selection import KFold\n",
    "from sklearn.metrics import mean_absolute_error\n",
    "from catboost import CatBoostRegressor, Pool"
   ]
  },
  {
   "cell_type": "code",
   "execution_count": null,
   "id": "4eceedea-c652-4a96-b165-e222b01b6e4c",
   "metadata": {},
   "outputs": [],
   "source": [
    "train_fn = train_df7.copy()\n",
    "test_fn  = test_df7 .copy()"
   ]
  },
  {
   "cell_type": "code",
   "execution_count": null,
   "id": "b0364030-ccdf-40df-a8cc-bf6fad1107f3",
   "metadata": {},
   "outputs": [],
   "source": [
    "%%time\n",
    "# 1시간\n",
    "\n",
    "X = train_fn.drop(target_feature,axis=1)\n",
    "y = train_fn[target_feature]\n",
    "\n",
    "X = add_fuel_type(X,dummy_features)\n",
    "new_cat_features = cat_features + ['fuel_type']\n",
    "\n",
    "segment_list = X['segment'].unique()\n",
    "\n",
    "models = {}\n",
    "feature_info = {}\n",
    "scores = []\n",
    "pbar = tqdm(segment_list)\n",
    "\n",
    "s_i = 0\n",
    "for segment in pbar:\n",
    "    s_i+=1\n",
    "    \n",
    "    # segment에 해당하는 데이터추출\n",
    "    _X = X[X.segment==segment].drop('segment',axis=1)\n",
    "    _y = y[X.segment==segment]\n",
    "    \n",
    "    # kfold\n",
    "    kf = KFold(n_splits=CFG.N_SPLITS,random_state=1000*s_i+CFG.SEED,shuffle=True)\n",
    "    \n",
    "    # unique인 컬럼 제외\n",
    "    unique_info = _X.nunique()\n",
    "    unique_cols = unique_info[unique_info==1].index.tolist()\n",
    "    if len(unique_cols)>0:\n",
    "        _X = _X.drop(unique_cols,axis=1)\n",
    "        \n",
    "    # categorical feature에서 unique인 컬럼을 제외\n",
    "    fixed_cat_features = [col for col in new_cat_features if col in _X.columns]\n",
    "    \n",
    "    _models = []\n",
    "    _scores = []\n",
    "    k=0\n",
    "    for tr_idx,val_idx in kf.split(_X,_y):\n",
    "        k+=1\n",
    "        \n",
    "        # kfold dataset\n",
    "        X_tr, X_va = _X.iloc[tr_idx], _X.iloc[val_idx]\n",
    "        y_tr, y_va = _y.iloc[tr_idx], _y.iloc[val_idx]\n",
    "\n",
    "        # progress\n",
    "        progress = 'Segment: [{}], Size: [{:,}], KFold: [{}/{}]'\\\n",
    "            .format(segment,len(_X),k,CFG.N_SPLITS)\n",
    "        pbar.set_description(progress)\n",
    "\n",
    "        # dataset\n",
    "        train_dataset = Pool(X_tr,y_tr,cat_features=fixed_cat_features)\n",
    "        valid_dataset = Pool(X_va,y_va,cat_features=fixed_cat_features)\n",
    "\n",
    "        # define the model\n",
    "        model = CatBoostRegressor(\n",
    "            loss_function='MAE',\n",
    "            random_state=CFG.SEED,\n",
    "            iterations=CFG.EPOCHS,\n",
    "            learning_rate=CFG.LR,\n",
    "            allow_writing_files=False,\n",
    "        )\n",
    "\n",
    "        # fit the model\n",
    "        model.fit(\n",
    "            train_dataset,\n",
    "            eval_set=valid_dataset,\n",
    "            early_stopping_rounds=CFG.ES,\n",
    "            verbose=0,\n",
    "            #metric_period=CFG.EPOCHS//5,\n",
    "        )\n",
    "\n",
    "        # save the model\n",
    "        model.save_model(f'./model_checkpoints/segment_catboost/{segment}_k{k}.cbm')\n",
    "\n",
    "        # prediction\n",
    "        y_pred = model.predict(valid_dataset).flatten()\n",
    "        y_true = y_va.values\n",
    "        \n",
    "        # inverse transform\n",
    "        if CFG.TARGET_TRANSFORMATION:\n",
    "            y_pred = np.exp(y_pred)\n",
    "            y_true = np.exp(y_true)\n",
    "            \n",
    "        # calculate score\n",
    "        score = mean_absolute_error(y_true=y_true,y_pred=y_pred)\n",
    "        \n",
    "        # append inner loop\n",
    "        _models.append(model)\n",
    "        _scores.append([segment,k,len(X_tr),len(X_va),score])\n",
    "\n",
    "    # append outer loop\n",
    "    models[segment] = _models\n",
    "    scores.append(_scores)\n",
    "    feature_info[segment] = {'cat_features':fixed_cat_features,'features':_X.columns.tolist()}\n",
    "    \n",
    "    # score report\n",
    "    mean_score_report = pd.Series(np.array(_scores)[:,-1]).astype(float).mean()\n",
    "    print('Segment: {}'.format(segment))\n",
    "    print(\"MAE's for {}-Fold: [{}]\".format(CFG.N_SPLITS,np.array(pd.Series(np.array(_scores)[:,-1]).astype(float).values)))\n",
    "    print(\"Mean of MAE's for {}-Fold: [{:.4f}]\".format(CFG.N_SPLITS,mean_score_report))"
   ]
  },
  {
   "cell_type": "code",
   "execution_count": null,
   "id": "945d329a-8a2a-4b11-a184-dd86a24de2ae",
   "metadata": {},
   "outputs": [],
   "source": [
    "import pickle\n",
    "with open('./model_checkpoints/segment_cat_models_brand_kf.pkl', 'wb') as f:\n",
    "\tpickle.dump(models, f, protocol=pickle.HIGHEST_PROTOCOL)\n",
    "with open('./model_checkpoints/segment_cat_feature_info_brand_kf.pkl', 'wb') as f:\n",
    "\tpickle.dump(feature_info, f, protocol=pickle.HIGHEST_PROTOCOL)\n",
    "with open('./model_checkpoints/segment_cat_scores_brand_kf.pkl', 'wb') as f:\n",
    "\tpickle.dump(scores, f, protocol=pickle.HIGHEST_PROTOCOL)"
   ]
  },
  {
   "cell_type": "code",
   "execution_count": null,
   "id": "33753abc-bf26-4ee8-b7a6-847686119b99",
   "metadata": {},
   "outputs": [],
   "source": [
    "score_df = pd.DataFrame(\n",
    "    np.array(scores).reshape(len(scores)*5,5),\n",
    "    columns=['segment','k','n_tr','n_val','score']\n",
    ")\n",
    "\n",
    "score_df.sort_values(['segment','k']).head(10)"
   ]
  },
  {
   "cell_type": "code",
   "execution_count": null,
   "id": "fa89dbbe-b7cc-4107-b3bc-197c368d49da",
   "metadata": {},
   "outputs": [],
   "source": [
    "# inference\n",
    "X = train_fn.drop(target_feature,axis=1)\n",
    "X = add_fuel_type(X,dummy_features)\n",
    "y = train_fn[target_feature]\n",
    "\n",
    "X_test = add_fuel_type(test_fn,dummy_features)\n",
    "\n",
    "segment_list = X['segment'].unique()\n",
    "\n",
    "tr_pred_list = []\n",
    "te_pred_list = []\n",
    "for segment in tqdm(segment_list):\n",
    "    ## data load\n",
    "    # (1) train\n",
    "    train_data = X[X.segment==segment][feature_info[segment]['features']]\n",
    "    train_dataset = Pool(train_data,cat_features=feature_info[segment]['cat_features'])\n",
    "    # (2) test\n",
    "    test_data = X_test[X_test.segment==segment][feature_info[segment]['features']]\n",
    "    test_dataset = Pool(test_data,cat_features=feature_info[segment]['cat_features'])\n",
    "    \n",
    "    ## model\n",
    "    kfold_models = models[segment]\n",
    "    \n",
    "    ## prediction\n",
    "    # (1) train\n",
    "    tr_pred_df = pd.DataFrame({\n",
    "        'segment':segment,\n",
    "        'true':y[X.segment==segment].values.flatten(),\n",
    "        'pred':np.mean([model.predict(train_dataset) for model in kfold_models],axis=0),\n",
    "        #'pred':np.sum([weight*model.predict(train_dataset) for weight,model in zip(kfold_weights,kfold_models)],axis=0),\n",
    "    })\n",
    "    tr_pred_df.index = train_data.index\n",
    "    # (2) test\n",
    "    te_pred_df = pd.DataFrame({\n",
    "        'segment':segment,\n",
    "        'pred':np.mean([model.predict(test_dataset) for model in kfold_models],axis=0),\n",
    "        #'pred':np.sum([weight*model.predict(test_dataset) for weight,model in zip(kfold_weights,kfold_models)],axis=0),\n",
    "    })\n",
    "    te_pred_df.index = test_data.index\n",
    "    \n",
    "    ## Target Transformation\n",
    "    if CFG.TARGET_TRANSFORMATION:\n",
    "        tr_pred_df['true'] = np.exp(tr_pred_df['true'])\n",
    "        tr_pred_df['pred'] = np.exp(tr_pred_df['pred'])\n",
    "        te_pred_df['pred'] = np.exp(te_pred_df['pred'])\n",
    "    \n",
    "    ## append\n",
    "    tr_pred_list.append(tr_pred_df)\n",
    "    te_pred_list.append(te_pred_df)"
   ]
  },
  {
   "cell_type": "code",
   "execution_count": null,
   "id": "bad43d66-1e96-437e-8d88-43c6549e1f9d",
   "metadata": {},
   "outputs": [],
   "source": [
    "# train\n",
    "tr_pred_df = pd.concat(tr_pred_list,axis=0).sort_index()\n",
    "mean_absolute_error(y_true=tr_pred_df.true,y_pred=tr_pred_df.pred)"
   ]
  },
  {
   "cell_type": "code",
   "execution_count": null,
   "id": "99a46da9-6aa5-4fd2-95a2-339aa93a4aca",
   "metadata": {},
   "outputs": [],
   "source": [
    "te_pred_df = pd.concat(te_pred_list,axis=0).sort_index()\n",
    "te_pred_df.head()"
   ]
  },
  {
   "cell_type": "code",
   "execution_count": null,
   "id": "335d926b-6db7-4b8d-9e16-1ca1c0331872",
   "metadata": {},
   "outputs": [],
   "source": [
    "submit = pd.read_csv('./data/sample_submission.csv')\n",
    "submit['가격'] = te_pred_df.pred.values\n",
    "submit.to_csv('./out/10_catboost_segment_브랜드_kfold_logy.csv',index=False)"
   ]
  },
  {
   "cell_type": "markdown",
   "id": "6df7a7e9-1c4b-47c3-8959-0412cfc188f6",
   "metadata": {},
   "source": [
    "<br>"
   ]
  },
  {
   "cell_type": "markdown",
   "id": "34001f77-6935-4c16-8d86-2ee1e7ab27ef",
   "metadata": {},
   "source": [
    "## Weighted Ensemble\n",
    "- public score : "
   ]
  },
  {
   "cell_type": "code",
   "execution_count": 44,
   "id": "e51d603f-56f8-4006-a62b-386cc14d51a2",
   "metadata": {},
   "outputs": [],
   "source": [
    "import pandas as pd\n",
    "import warnings\n",
    "\n",
    "class OneHotEncoder:\n",
    "    def __init__(self):\n",
    "        pass\n",
    "    \n",
    "    def fit(self,data,columns):\n",
    "        self.transform_list = []\n",
    "        for col in columns:\n",
    "            for i,value in enumerate(sorted(data[col].unique())):\n",
    "                if i>0:\n",
    "                    self.transform_list.append([col,value])\n",
    "        \n",
    "    def transform(self,data):\n",
    "        warnings.simplefilter(action='ignore', category=pd.errors.PerformanceWarning)\n",
    "        new_data = data.copy()\n",
    "        for col,value in self.transform_list:\n",
    "            new_data[f'{col}_{value}'] = np.where(new_data[col]==value,1,0)\n",
    "        drop_columns = pd.unique(np.array(self.transform_list)[:,0])\n",
    "        new_data.drop(columns=drop_columns,inplace=True)\n",
    "        return new_data"
   ]
  },
  {
   "cell_type": "code",
   "execution_count": 45,
   "id": "5c20d5c0-a506-418d-838c-65c44c753dd4",
   "metadata": {
    "tags": []
   },
   "outputs": [
    {
     "name": "stderr",
     "output_type": "stream",
     "text": [
      "<frozen importlib._bootstrap>:219: RuntimeWarning: numpy.ufunc size changed, may indicate binary incompatibility. Expected 216 from C header, got 232 from PyObject\n"
     ]
    },
    {
     "data": {
      "text/html": [
       "<style type='text/css'>\n",
       ".datatable table.frame { margin-bottom: 0; }\n",
       ".datatable table.frame thead { border-bottom: none; }\n",
       ".datatable table.frame tr.coltypes td {  color: #FFFFFF;  line-height: 6px;  padding: 0 0.5em;}\n",
       ".datatable .bool    { background: #DDDD99; }\n",
       ".datatable .object  { background: #565656; }\n",
       ".datatable .int     { background: #5D9E5D; }\n",
       ".datatable .float   { background: #4040CC; }\n",
       ".datatable .str     { background: #CC4040; }\n",
       ".datatable .time    { background: #40CC40; }\n",
       ".datatable .row_index {  background: var(--jp-border-color3);  border-right: 1px solid var(--jp-border-color0);  color: var(--jp-ui-font-color3);  font-size: 9px;}\n",
       ".datatable .frame tbody td { text-align: left; }\n",
       ".datatable .frame tr.coltypes .row_index {  background: var(--jp-border-color0);}\n",
       ".datatable th:nth-child(2) { padding-left: 12px; }\n",
       ".datatable .hellipsis {  color: var(--jp-cell-editor-border-color);}\n",
       ".datatable .vellipsis {  background: var(--jp-layout-color0);  color: var(--jp-cell-editor-border-color);}\n",
       ".datatable .na {  color: var(--jp-cell-editor-border-color);  font-size: 80%;}\n",
       ".datatable .sp {  opacity: 0.25;}\n",
       ".datatable .footer { font-size: 9px; }\n",
       ".datatable .frame_dimensions {  background: var(--jp-border-color3);  border-top: 1px solid var(--jp-border-color0);  color: var(--jp-ui-font-color3);  display: inline-block;  opacity: 0.6;  padding: 1px 10px 1px 5px;}\n",
       "</style>\n"
      ],
      "text/plain": [
       "<IPython.core.display.HTML object>"
      ]
     },
     "metadata": {},
     "output_type": "display_data"
    }
   ],
   "source": [
    "from copy import deepcopy\n",
    "from sklearn.base import BaseEstimator, RegressorMixin\n",
    "from catboost import CatBoostRegressor, Pool\n",
    "from xgboost import XGBRegressor\n",
    "from lightgbm import LGBMRegressor\n",
    "from sklearn.linear_model import ElasticNetCV\n",
    "from sklearn.model_selection import RepeatedKFold\n",
    "from sklearn.ensemble import ExtraTreesRegressor\n",
    "from sklearn.metrics import mean_absolute_error\n",
    "import warnings\n",
    "import time\n",
    "import pickle\n",
    "\n",
    "class WeightedEnsembleRegressor(BaseEstimator, RegressorMixin):\n",
    "    def __init__(self,weight=['equal','balanced'],target_transformation=False):\n",
    "        super().__init__()\n",
    "        \n",
    "        assert weight in ['equal','balanced'], \\\n",
    "            \"weight must be one of ['equal','balanced']\"\n",
    "        assert isinstance(target_transformation,bool), \\\n",
    "            \"target_transformation must be bool type\"\n",
    "        \n",
    "        self.weight = weight\n",
    "        self.target_transformation = target_transformation\n",
    "        self._get_regressors()\n",
    "    \n",
    "    def _get_regressors(self):\n",
    "        max_depth = 10\n",
    "        n_jobs = -1\n",
    "        \n",
    "        params_elasticnet = {\n",
    "            'l1_ratio' : np.arange(0.1, 1, 0.1),\n",
    "            'alphas' : [1e-5, 1e-3, 1e-1, 0.0, 1.0, 10.0, 100.0],\n",
    "            'cv' : RepeatedKFold(n_splits=CFG.N_SPLITS, n_repeats=3, random_state=CFG.SEED),\n",
    "            'n_jobs' : n_jobs,\n",
    "            #'max_iter' : 50000,\n",
    "            'tol' : 0.001,\n",
    "        }\n",
    "        \n",
    "        params_catboost = {\n",
    "            'random_state' : CFG.SEED,\n",
    "            'iterations' : CFG.EPOCHS,\n",
    "            'early_stopping_rounds' : CFG.ES,\n",
    "            'learning_rate' : CFG.LR,\n",
    "            'loss_function' : 'MAE',\n",
    "            'grow_policy' : 'Lossguide', # 'SymmetricTree','Depthwise'\n",
    "            'use_best_model' : True,\n",
    "            'allow_writing_files' : False,\n",
    "            'verbose' : 0,\n",
    "            'max_depth' : max_depth,\n",
    "            #'l2_leaf_reg' : 1,\n",
    "        }\n",
    "    \n",
    "        params_xgboost = {\n",
    "            'random_state' : CFG.SEED,\n",
    "            'n_estimators' : CFG.XGB_EPOCHS,\n",
    "            'early_stopping_rounds' : CFG.XGB_ES,\n",
    "            'learning_rate' : CFG.XGB_LR,\n",
    "            'objective' : 'reg:absoluteerror',\n",
    "            'verbosity' : 0,\n",
    "            'max_depth': max_depth,\n",
    "            'n_jobs' : n_jobs,\n",
    "        }\n",
    "    \n",
    "        params_lightgbm = {\n",
    "            'random_state' : CFG.SEED,\n",
    "            'n_estimators' : CFG.EPOCHS,\n",
    "            'early_stopping_round' : CFG.ES,\n",
    "            'learning_rate' : CFG.LR,\n",
    "            'objective' : 'regression',\n",
    "            'metric' : 'mean_absolute_error',\n",
    "            'verbosity' : -1,\n",
    "            'max_depth': max_depth,\n",
    "            'n_jobs' : n_jobs,\n",
    "        }\n",
    "        \n",
    "        params_extratrees = {\n",
    "            'random_state' : CFG.SEED,\n",
    "            'n_estimators' : CFG.XTRATREES_EPOCHS,\n",
    "            'criterion' : 'absolute_error',\n",
    "            'verbose' : 0,\n",
    "            'max_depth' : max_depth,\n",
    "            'n_jobs' : n_jobs,\n",
    "        }\n",
    "        \n",
    "        self.regressors = [\n",
    "            ElasticNetCV(**params_elasticnet),\n",
    "            CatBoostRegressor(**params_catboost),\n",
    "            XGBRegressor(**params_xgboost),\n",
    "            LGBMRegressor(**params_lightgbm),\n",
    "            ExtraTreesRegressor(**params_extratrees),\n",
    "        ]\n",
    "        self.regressors_name = ['ElasticNet','CatBoost','XGBoost','LightGBM','ExtraTrees']\n",
    "        \n",
    "    def _adjust_prediction(self,pred):\n",
    "        pred = np.array(pred).flatten()\n",
    "        if np.where(pred<0,1,0).sum()>0:\n",
    "            pred = [x if x>0 else self.minimum_value for x in pred]\n",
    "        pred = np.exp(np.array(pred).flatten())\n",
    "        if np.where(pred==np.inf,1,0).sum()>0:\n",
    "            pred = [x if x!=np.inf else self.maximum_value for x in pred]\n",
    "        pred = np.array(pred).flatten()\n",
    "        return pred\n",
    "    \n",
    "    def fit(self,X,y,eval_set,oh_set,cat_features,verbose=1):\n",
    "        assert len(eval_set)==1, \\\n",
    "            \"eval_set length must be 1. len(eval_set)={}\".format(len(eval_set))\n",
    "        assert len(oh_set)==1, \\\n",
    "            \"oh_set length must be 1. len(oh_set)={}\".format(len(oh_set))\n",
    "        X_val, y_val = eval_set[0]\n",
    "        X_oh, X_val_oh = oh_set[0]\n",
    "        \n",
    "        self.cat_features = cat_features\n",
    "        self.weights = []\n",
    "        self.fitting_elapsed = []\n",
    "        if verbose:\n",
    "            pbar = tqdm(zip(self.regressors_name,self.regressors),total=len(self.regressors))\n",
    "        else:\n",
    "            pbar = zip(self.regressors_name,self.regressors)\n",
    "            \n",
    "        fit_iter = 0\n",
    "        for regressor_name,regressor in pbar:\n",
    "            fit_iter+=1\n",
    "            s = time.time()\n",
    "            \n",
    "            if verbose:\n",
    "                pbar.set_description(name)\n",
    "                \n",
    "            if regressor_name=='ElasticNet':\n",
    "                warnings.filterwarnings(\"ignore\", category=UserWarning)\n",
    "                regressor.fit(X_oh,y)\n",
    "                tr_pred = regressor.predict(X_oh)\n",
    "                va_pred = regressor.predict(X_val_oh)\n",
    "            elif regressor_name=='CatBoost':\n",
    "                train_dataset = Pool(X,y,cat_features=cat_features)\n",
    "                val_dataset   = Pool(X_val,y_val,cat_features=cat_features)\n",
    "                regressor.fit(\n",
    "                    train_dataset,\n",
    "                    eval_set=val_dataset,\n",
    "                    #metric_period=CFG.EPOCHS//5,\n",
    "                )\n",
    "                tr_pred = regressor.predict(train_dataset)\n",
    "                va_pred = regressor.predict(val_dataset)\n",
    "            elif regressor_name=='XGBoost':\n",
    "                regressor.fit(\n",
    "                    X_oh,y,\n",
    "                    eval_set=[(X_val_oh,y_val)],\n",
    "                    verbose=0,\n",
    "                )\n",
    "                tr_pred = regressor.predict(X_oh)\n",
    "                va_pred = regressor.predict(X_val_oh)\n",
    "            elif regressor_name=='LightGBM':\n",
    "                warnings.filterwarnings(\"ignore\", category=UserWarning)\n",
    "                X_tmp = X.copy()\n",
    "                X_val_tmp = X_val.copy()\n",
    "                for col in cat_features:\n",
    "                    X_tmp[col]     = X_tmp[col]    .astype('category')\n",
    "                    X_val_tmp[col] = X_val_tmp[col].astype('category')\n",
    "                regressor.fit(\n",
    "                    X_tmp,y,\n",
    "                    eval_set=[(X_val_tmp,y_val)],\n",
    "                    verbose=-1,\n",
    "                )\n",
    "                tr_pred = regressor.predict(X_tmp)\n",
    "                va_pred = regressor.predict(X_val_tmp)\n",
    "            elif regressor_name=='ExtraTrees':\n",
    "                regressor.fit(X_oh,y)\n",
    "                tr_pred = regressor.predict(X_oh)\n",
    "                va_pred = regressor.predict(X_val_oh)\n",
    "            else:\n",
    "                raise ValueError('Unknown Regressor: {}'.format(regressor_name))\n",
    "            \n",
    "            if self.target_transformation:\n",
    "                tr_true = np.exp(np.array(y)    .flatten())\n",
    "                va_true = np.exp(np.array(y_val).flatten())\n",
    "                self.minimum_value = min(np.nanmin(tr_true),np.nanmin(va_true))\n",
    "                self.maximum_value = max(np.nanmax(tr_true),np.nanmax(va_true))\n",
    "                \n",
    "                tr_pred = self._adjust_prediction(tr_pred)\n",
    "                va_pred = self._adjust_prediction(va_pred)\n",
    "            else:\n",
    "                tr_true = np.array(y).flatten()\n",
    "                va_true = np.array(y_val).flatten()\n",
    "                tr_pred = np.array(tr_pred).flatten()\n",
    "                va_pred = np.array(va_pred).flatten()\n",
    "            tr_score = mean_absolute_error(y_pred=tr_pred,y_true=tr_true)\n",
    "            va_score = mean_absolute_error(y_pred=va_pred,y_true=va_true)\n",
    "            e = time.time()\n",
    "            self.weights.append(1/va_score)\n",
    "            self.fitting_elapsed.append(e-s)\n",
    "            \n",
    "            blank = ' '*(11-len(regressor_name))\n",
    "            fit_progress = '  [{}/{}] {}{}: score={:.3f}, val_score={:.3f}, elasped={:.1f}s'\\\n",
    "                .format(fit_iter,len(self.regressors),regressor_name,blank,tr_score,va_score,e-s)\n",
    "            print(fit_progress)\n",
    "        \n",
    "        if self.weight=='equal':\n",
    "            self.weights = np.array([1.0 for _ in self.regressors])\n",
    "        self.weights /= sum(self.weights)\n",
    "        \n",
    "        tr_pred = self.predict(X,X_oh)\n",
    "        va_pred = self.predict(X_val,X_val_oh)\n",
    "        ens_tr_score = mean_absolute_error(y_true=np.exp(np.array(y)    .flatten()),y_pred=tr_pred)\n",
    "        ens_va_score = mean_absolute_error(y_true=np.exp(np.array(y_val).flatten()),y_pred=va_pred)\n",
    "        \n",
    "        total_fit_progress = '  Total({}): score={:.3f}, val_score={:.3f}, elasped={:.1f}s'\\\n",
    "            .format(self.weight,ens_tr_score,ens_va_score,sum(self.fitting_elapsed))\n",
    "        print(total_fit_progress)\n",
    "        \n",
    "    def predict(self,X,X_oh):\n",
    "        assert len(X)==len(X_oh), \\\n",
    "            \"X and X_oh must be same length\"\n",
    "        \n",
    "        pred_list = []\n",
    "        for regressor_name,regressor in zip(self.regressors_name,self.regressors):\n",
    "            if regressor_name in ['ElasticNet','XGBoost','ExtraTrees']:\n",
    "                dataset = X_oh.copy()\n",
    "            elif regressor_name=='CatBoost':\n",
    "                dataset = Pool(X,cat_features=self.cat_features)\n",
    "            elif regressor_name=='LightGBM':\n",
    "                dataset = X.copy()\n",
    "                for col in self.cat_features:\n",
    "                    dataset[col] = dataset[col].astype('category')\n",
    "            else:\n",
    "                raise ValueError('Unknown Regressor: {}'.format(regressor_name))\n",
    "            \n",
    "            y_pred = regressor.predict(dataset)\n",
    "            y_pred = self._adjust_prediction(y_pred)\n",
    "            \n",
    "            pred_list.append(y_pred)\n",
    "            \n",
    "        final_pred = np.zeros(len(X))\n",
    "        for pred,weight in zip(pred_list,self.weights):\n",
    "            final_pred += np.array(pred)*weight\n",
    "            \n",
    "        return final_pred\n",
    "    \n",
    "    def save_model(self,path):\n",
    "        save_dict = {\n",
    "            'cat_features' : self.cat_features,\n",
    "            'weights' : self.weights,\n",
    "            'target_transformation' : self.target_transformation,\n",
    "            'fitting_elapsed' : self.fitting_elapsed,\n",
    "            'regressors' : self.regressors,\n",
    "        }\n",
    "        with open(path, 'wb') as f:\n",
    "            pickle.dump(save_dict, f, protocol=pickle.HIGHEST_PROTOCOL)\n",
    "            \n",
    "    def load_model(self,path):\n",
    "        with open(path, 'rb') as f:\n",
    "            save_dict = pickle.load(f)\n",
    "            self.cat_features = save_dict['cat_features']\n",
    "            self.weights = save_dict['weights']\n",
    "            self.target_transformation = save_dict['target_transformation'],\n",
    "            self.fitting_elapsed = save_dict['fitting_elapsed']\n",
    "            self.regressors = save_dict['regressors']"
   ]
  },
  {
   "cell_type": "code",
   "execution_count": 46,
   "id": "e23e22bc-b630-430c-a9f9-6f539e219c60",
   "metadata": {},
   "outputs": [],
   "source": [
    "from sklearn.model_selection import KFold"
   ]
  },
  {
   "cell_type": "code",
   "execution_count": 47,
   "id": "f8ac1666-19fe-4f0c-b651-8d6267292d30",
   "metadata": {},
   "outputs": [
    {
     "data": {
      "text/plain": [
       "0"
      ]
     },
     "execution_count": 47,
     "metadata": {},
     "output_type": "execute_result"
    }
   ],
   "source": [
    "gc.collect()"
   ]
  },
  {
   "cell_type": "code",
   "execution_count": 48,
   "id": "f003ed17-9aae-4651-9020-35ae377b036c",
   "metadata": {},
   "outputs": [],
   "source": [
    "train_fn = train_df7.copy()\n",
    "test_fn  = test_df7 .copy()"
   ]
  },
  {
   "cell_type": "code",
   "execution_count": 49,
   "id": "7ccb213e-a076-45ba-b12d-94449e44d75a",
   "metadata": {},
   "outputs": [
    {
     "name": "stderr",
     "output_type": "stream",
     "text": [
      "Segment: skoda, Length: 3130:   0%|          | 0/20 [00:01<?, ?it/s]"
     ]
    },
    {
     "name": "stdout",
     "output_type": "stream",
     "text": [
      "> [K-Fold] 1/5\n",
      "  [1/5] ElasticNet : score=6.525, val_score=7.005, elasped=14.9s\n",
      "  [2/5] CatBoost   : score=4.599, val_score=6.463, elasped=90.9s\n",
      "  [3/5] XGBoost    : score=1.947, val_score=7.500, elasped=16.4s\n",
      "  [4/5] LightGBM   : score=5.303, val_score=6.917, elasped=23.7s\n",
      "  [5/5] ExtraTrees : score=5.506, val_score=7.616, elasped=46.4s\n",
      "  Total(balanced): score=4.505, val_score=6.604, elasped=192.3s\n",
      "> [K-Fold] 2/5\n",
      "  [1/5] ElasticNet : score=6.528, val_score=6.876, elasped=15.0s\n",
      "  [2/5] CatBoost   : score=4.774, val_score=6.194, elasped=79.7s\n",
      "  [3/5] XGBoost    : score=1.838, val_score=6.789, elasped=14.4s\n",
      "  [4/5] LightGBM   : score=5.420, val_score=6.503, elasped=27.7s\n",
      "  [5/5] ExtraTrees : score=5.568, val_score=7.158, elasped=44.4s\n",
      "  Total(balanced): score=4.523, val_score=6.213, elasped=181.1s\n",
      "> [K-Fold] 3/5\n",
      "  [1/5] ElasticNet : score=6.586, val_score=6.675, elasped=16.0s\n",
      "  [2/5] CatBoost   : score=4.739, val_score=5.987, elasped=75.8s\n",
      "  [3/5] XGBoost    : score=1.372, val_score=7.212, elasped=16.6s\n",
      "  [4/5] LightGBM   : score=5.082, val_score=6.387, elasped=31.8s\n",
      "  [5/5] ExtraTrees : score=5.550, val_score=7.272, elasped=44.1s\n",
      "  Total(balanced): score=4.397, val_score=6.180, elasped=184.3s\n",
      "> [K-Fold] 4/5\n",
      "  [1/5] ElasticNet : score=6.544, val_score=6.670, elasped=15.6s\n",
      "  [2/5] CatBoost   : score=4.836, val_score=6.383, elasped=68.5s\n",
      "  [3/5] XGBoost    : score=1.496, val_score=7.357, elasped=18.0s\n",
      "  [4/5] LightGBM   : score=5.606, val_score=6.695, elasped=22.1s\n",
      "  [5/5] ExtraTrees : score=5.480, val_score=7.231, elasped=43.9s\n",
      "  Total(balanced): score=4.529, val_score=6.454, elasped=168.1s\n",
      "> [K-Fold] 5/5\n",
      "  [1/5] ElasticNet : score=6.426, val_score=7.327, elasped=16.1s\n",
      "  [2/5] CatBoost   : score=4.797, val_score=6.438, elasped=74.8s\n",
      "  [3/5] XGBoost    : score=1.836, val_score=7.111, elasped=14.2s\n",
      "  [4/5] LightGBM   : score=5.404, val_score=6.826, elasped=28.0s\n",
      "  [5/5] ExtraTrees : score=5.637, val_score=7.710, elasped=47.2s\n",
      "  Total(balanced): score=4.499, val_score=6.694, elasped=180.4s\n"
     ]
    },
    {
     "name": "stderr",
     "output_type": "stream",
     "text": [
      "Segment: toyota, Length: 3259:   5%|▌         | 1/20 [15:12<4:48:24, 910.75s/it]"
     ]
    },
    {
     "name": "stdout",
     "output_type": "stream",
     "text": [
      "> [K-Fold] 1/5\n",
      "  [1/5] ElasticNet : score=5.646, val_score=6.306, elasped=21.0s\n",
      "  [2/5] CatBoost   : score=3.600, val_score=5.534, elasped=88.6s\n",
      "  [3/5] XGBoost    : score=0.931, val_score=6.337, elasped=17.1s\n",
      "  [4/5] LightGBM   : score=4.390, val_score=5.987, elasped=30.9s\n",
      "  [5/5] ExtraTrees : score=4.196, val_score=6.238, elasped=53.5s\n",
      "  Total(balanced): score=3.402, val_score=5.646, elasped=211.1s\n",
      "> [K-Fold] 2/5\n",
      "  [1/5] ElasticNet : score=5.453, val_score=6.253, elasped=19.6s\n",
      "  [2/5] CatBoost   : score=3.694, val_score=5.346, elasped=74.5s\n",
      "  [3/5] XGBoost    : score=0.837, val_score=5.896, elasped=16.8s\n",
      "  [4/5] LightGBM   : score=3.599, val_score=5.546, elasped=50.8s\n",
      "  [5/5] ExtraTrees : score=4.167, val_score=6.236, elasped=53.8s\n",
      "  Total(balanced): score=3.178, val_score=5.365, elasped=215.4s\n",
      "> [K-Fold] 3/5\n",
      "  [1/5] ElasticNet : score=5.611, val_score=5.796, elasped=19.4s\n",
      "  [2/5] CatBoost   : score=3.836, val_score=5.062, elasped=62.1s\n",
      "  [3/5] XGBoost    : score=1.299, val_score=5.614, elasped=12.2s\n",
      "  [4/5] LightGBM   : score=4.248, val_score=5.493, elasped=29.7s\n",
      "  [5/5] ExtraTrees : score=4.156, val_score=5.950, elasped=56.2s\n",
      "  Total(balanced): score=3.458, val_score=5.002, elasped=179.6s\n",
      "> [K-Fold] 4/5\n",
      "  [1/5] ElasticNet : score=5.698, val_score=6.163, elasped=19.8s\n",
      "  [2/5] CatBoost   : score=3.739, val_score=5.363, elasped=83.6s\n",
      "  [3/5] XGBoost    : score=1.174, val_score=6.180, elasped=11.7s\n",
      "  [4/5] LightGBM   : score=4.798, val_score=5.902, elasped=22.1s\n",
      "  [5/5] ExtraTrees : score=4.127, val_score=6.512, elasped=60.4s\n",
      "  Total(balanced): score=3.555, val_score=5.364, elasped=197.5s\n",
      "> [K-Fold] 5/5\n",
      "  [1/5] ElasticNet : score=5.866, val_score=5.517, elasped=31.3s\n",
      "  [2/5] CatBoost   : score=3.881, val_score=4.705, elasped=88.3s\n",
      "  [3/5] XGBoost    : score=0.906, val_score=5.557, elasped=29.1s\n",
      "  [4/5] LightGBM   : score=3.914, val_score=5.228, elasped=212.9s\n",
      "  [5/5] ExtraTrees : score=4.327, val_score=5.866, elasped=57.6s\n",
      "  Total(balanced): score=3.406, val_score=4.884, elasped=419.2s\n"
     ]
    },
    {
     "name": "stderr",
     "output_type": "stream",
     "text": [
      "Segment: mercedes-benz, Length: 2899:  10%|█         | 2/20 [35:41<5:29:23, 1097.96s/it]"
     ]
    },
    {
     "name": "stdout",
     "output_type": "stream",
     "text": [
      "> [K-Fold] 1/5\n",
      "  [1/5] ElasticNet : score=9.001, val_score=8.997, elasped=31.1s\n",
      "  [2/5] CatBoost   : score=5.855, val_score=7.779, elasped=64.6s\n",
      "  [3/5] XGBoost    : score=1.409, val_score=8.587, elasped=40.4s\n",
      "  [4/5] LightGBM   : score=6.467, val_score=8.040, elasped=144.4s\n",
      "  [5/5] ExtraTrees : score=5.825, val_score=9.190, elasped=48.8s\n",
      "  Total(balanced): score=5.257, val_score=7.746, elasped=329.2s\n",
      "> [K-Fold] 2/5\n",
      "  [1/5] ElasticNet : score=8.911, val_score=9.948, elasped=29.5s\n",
      "  [2/5] CatBoost   : score=5.751, val_score=8.184, elasped=64.3s\n",
      "  [3/5] XGBoost    : score=1.084, val_score=9.527, elasped=21.9s\n",
      "  [4/5] LightGBM   : score=6.214, val_score=8.423, elasped=55.4s\n",
      "  [5/5] ExtraTrees : score=5.739, val_score=9.449, elasped=49.0s\n",
      "  Total(balanced): score=5.104, val_score=8.266, elasped=220.2s\n",
      "> [K-Fold] 3/5\n",
      "  [1/5] ElasticNet : score=8.591, val_score=10.241, elasped=24.9s\n",
      "  [2/5] CatBoost   : score=5.501, val_score=8.339, elasped=72.3s\n",
      "  [3/5] XGBoost    : score=1.470, val_score=9.487, elasped=17.2s\n",
      "  [4/5] LightGBM   : score=6.072, val_score=8.785, elasped=21.5s\n",
      "  [5/5] ExtraTrees : score=5.725, val_score=9.948, elasped=52.1s\n",
      "  Total(balanced): score=4.993, val_score=8.579, elasped=188.0s\n",
      "> [K-Fold] 4/5\n",
      "  [1/5] ElasticNet : score=8.739, val_score=9.493, elasped=27.6s\n",
      "  [2/5] CatBoost   : score=5.754, val_score=8.393, elasped=76.2s\n",
      "  [3/5] XGBoost    : score=0.730, val_score=9.223, elasped=31.9s\n",
      "  [4/5] LightGBM   : score=6.662, val_score=8.654, elasped=37.6s\n",
      "  [5/5] ExtraTrees : score=5.941, val_score=9.963, elasped=50.2s\n",
      "  Total(balanced): score=5.090, val_score=8.415, elasped=223.5s\n",
      "> [K-Fold] 5/5\n",
      "  [1/5] ElasticNet : score=8.699, val_score=10.291, elasped=25.7s\n",
      "  [2/5] CatBoost   : score=6.601, val_score=8.339, elasped=29.8s\n",
      "  [3/5] XGBoost    : score=1.331, val_score=8.893, elasped=15.5s\n",
      "  [4/5] LightGBM   : score=6.853, val_score=9.004, elasped=24.6s\n",
      "  [5/5] ExtraTrees : score=5.811, val_score=9.576, elasped=49.7s\n",
      "  Total(balanced): score=5.302, val_score=8.494, elasped=145.2s\n"
     ]
    },
    {
     "name": "stderr",
     "output_type": "stream",
     "text": [
      "Segment: nissan, Length: 2129:  15%|█▌        | 3/20 [54:11<5:12:45, 1103.85s/it]       "
     ]
    },
    {
     "name": "stdout",
     "output_type": "stream",
     "text": [
      "> [K-Fold] 1/5\n",
      "  [1/5] ElasticNet : score=4.903, val_score=5.564, elasped=12.5s\n",
      "  [2/5] CatBoost   : score=3.768, val_score=5.122, elasped=42.6s\n",
      "  [3/5] XGBoost    : score=0.466, val_score=6.067, elasped=9.9s\n",
      "  [4/5] LightGBM   : score=3.858, val_score=5.775, elasped=28.2s\n",
      "  [5/5] ExtraTrees : score=3.758, val_score=6.065, elasped=24.2s\n",
      "  Total(balanced): score=3.128, val_score=5.325, elasped=117.4s\n",
      "> [K-Fold] 2/5\n",
      "  [1/5] ElasticNet : score=5.152, val_score=5.286, elasped=12.5s\n",
      "  [2/5] CatBoost   : score=4.344, val_score=5.227, elasped=22.6s\n",
      "  [3/5] XGBoost    : score=0.820, val_score=5.869, elasped=8.7s\n",
      "  [4/5] LightGBM   : score=4.359, val_score=5.422, elasped=22.8s\n",
      "  [5/5] ExtraTrees : score=3.756, val_score=5.645, elasped=24.1s\n",
      "  Total(balanced): score=3.485, val_score=5.076, elasped=90.7s\n",
      "> [K-Fold] 3/5\n",
      "  [1/5] ElasticNet : score=4.759, val_score=5.324, elasped=12.8s\n",
      "  [2/5] CatBoost   : score=3.817, val_score=5.061, elasped=55.6s\n",
      "  [3/5] XGBoost    : score=0.608, val_score=5.751, elasped=12.6s\n",
      "  [4/5] LightGBM   : score=3.861, val_score=5.231, elasped=39.5s\n",
      "  [5/5] ExtraTrees : score=3.815, val_score=6.106, elasped=24.9s\n",
      "  Total(balanced): score=3.130, val_score=5.039, elasped=145.5s\n",
      "> [K-Fold] 4/5\n",
      "  [1/5] ElasticNet : score=5.233, val_score=5.213, elasped=12.8s\n",
      "  [2/5] CatBoost   : score=3.829, val_score=4.761, elasped=48.8s\n",
      "  [3/5] XGBoost    : score=0.491, val_score=5.287, elasped=12.4s\n",
      "  [4/5] LightGBM   : score=4.200, val_score=5.169, elasped=23.4s\n",
      "  [5/5] ExtraTrees : score=3.774, val_score=5.729, elasped=24.3s\n",
      "  Total(balanced): score=3.260, val_score=4.712, elasped=121.6s\n",
      "> [K-Fold] 5/5\n",
      "  [1/5] ElasticNet : score=5.088, val_score=5.338, elasped=13.1s\n",
      "  [2/5] CatBoost   : score=3.953, val_score=5.100, elasped=36.7s\n",
      "  [3/5] XGBoost    : score=0.712, val_score=5.655, elasped=10.7s\n",
      "  [4/5] LightGBM   : score=3.731, val_score=5.396, elasped=43.1s\n",
      "  [5/5] ExtraTrees : score=3.802, val_score=5.555, elasped=23.6s\n",
      "  Total(balanced): score=3.221, val_score=4.978, elasped=127.1s\n"
     ]
    },
    {
     "name": "stderr",
     "output_type": "stream",
     "text": [
      "Segment: fiat, Length: 1164:  20%|██        | 4/20 [1:04:17<4:01:57, 907.32s/it]  "
     ]
    },
    {
     "name": "stdout",
     "output_type": "stream",
     "text": [
      "> [K-Fold] 1/5\n",
      "  [1/5] ElasticNet : score=5.243, val_score=5.969, elasped=5.9s\n",
      "  [2/5] CatBoost   : score=3.581, val_score=5.378, elasped=48.1s\n",
      "  [3/5] XGBoost    : score=1.077, val_score=5.557, elasped=7.1s\n",
      "  [4/5] LightGBM   : score=3.525, val_score=5.073, elasped=34.3s\n",
      "  [5/5] ExtraTrees : score=3.417, val_score=5.434, elasped=7.8s\n",
      "  Total(balanced): score=3.096, val_score=5.103, elasped=103.1s\n",
      "> [K-Fold] 2/5\n",
      "  [1/5] ElasticNet : score=5.357, val_score=5.603, elasped=5.9s\n",
      "  [2/5] CatBoost   : score=4.044, val_score=5.114, elasped=23.3s\n",
      "  [3/5] XGBoost    : score=1.198, val_score=5.841, elasped=6.7s\n",
      "  [4/5] LightGBM   : score=3.840, val_score=5.364, elasped=27.2s\n",
      "  [5/5] ExtraTrees : score=3.302, val_score=5.629, elasped=6.6s\n",
      "  Total(balanced): score=3.309, val_score=5.088, elasped=69.7s\n",
      "> [K-Fold] 3/5\n",
      "  [1/5] ElasticNet : score=4.669, val_score=6.972, elasped=5.9s\n",
      "  [2/5] CatBoost   : score=3.797, val_score=6.030, elasped=26.8s\n",
      "  [3/5] XGBoost    : score=0.974, val_score=6.232, elasped=6.3s\n",
      "  [4/5] LightGBM   : score=3.065, val_score=5.711, elasped=42.6s\n",
      "  [5/5] ExtraTrees : score=3.197, val_score=5.930, elasped=6.7s\n",
      "  Total(balanced): score=2.865, val_score=5.798, elasped=88.3s\n",
      "> [K-Fold] 4/5\n",
      "  [1/5] ElasticNet : score=5.525, val_score=5.394, elasped=5.7s\n",
      "  [2/5] CatBoost   : score=3.645, val_score=4.866, elasped=37.8s\n",
      "  [3/5] XGBoost    : score=0.955, val_score=5.731, elasped=7.2s\n",
      "  [4/5] LightGBM   : score=3.619, val_score=4.892, elasped=31.3s\n",
      "  [5/5] ExtraTrees : score=3.211, val_score=5.338, elasped=6.4s\n",
      "  Total(balanced): score=3.161, val_score=4.837, elasped=88.4s\n",
      "> [K-Fold] 5/5\n",
      "  [1/5] ElasticNet : score=5.487, val_score=5.461, elasped=5.7s\n",
      "  [2/5] CatBoost   : score=3.768, val_score=4.599, elasped=34.8s\n",
      "  [3/5] XGBoost    : score=1.101, val_score=5.316, elasped=7.0s\n",
      "  [4/5] LightGBM   : score=4.177, val_score=4.609, elasped=23.8s\n",
      "  [5/5] ExtraTrees : score=3.421, val_score=4.684, elasped=6.4s\n",
      "  Total(balanced): score=3.353, val_score=4.419, elasped=77.7s\n"
     ]
    },
    {
     "name": "stderr",
     "output_type": "stream",
     "text": [
      "Segment: audi, Length: 5597:  25%|██▌       | 5/20 [1:11:28<3:03:50, 735.34s/it]"
     ]
    },
    {
     "name": "stdout",
     "output_type": "stream",
     "text": [
      "> [K-Fold] 1/5\n",
      "  [1/5] ElasticNet : score=6.597, val_score=6.748, elasped=59.5s\n",
      "  [2/5] CatBoost   : score=5.104, val_score=6.258, elasped=86.2s\n",
      "  [3/5] XGBoost    : score=2.487, val_score=6.833, elasped=28.1s\n",
      "  [4/5] LightGBM   : score=5.372, val_score=6.530, elasped=23.4s\n",
      "  [5/5] ExtraTrees : score=5.831, val_score=7.227, elasped=228.0s\n",
      "  Total(balanced): score=4.806, val_score=6.314, elasped=425.1s\n",
      "> [K-Fold] 2/5\n",
      "  [1/5] ElasticNet : score=6.575, val_score=6.878, elasped=55.2s\n",
      "  [2/5] CatBoost   : score=5.173, val_score=6.350, elasped=71.0s\n",
      "  [3/5] XGBoost    : score=2.393, val_score=7.006, elasped=31.9s\n",
      "  [4/5] LightGBM   : score=5.555, val_score=6.618, elasped=20.0s\n",
      "  [5/5] ExtraTrees : score=5.876, val_score=7.471, elasped=228.9s\n",
      "  Total(balanced): score=4.844, val_score=6.508, elasped=407.0s\n",
      "> [K-Fold] 3/5\n",
      "  [1/5] ElasticNet : score=6.618, val_score=6.806, elasped=107.0s\n",
      "  [2/5] CatBoost   : score=4.862, val_score=6.298, elasped=132.8s\n",
      "  [3/5] XGBoost    : score=2.143, val_score=6.869, elasped=95.8s\n",
      "  [4/5] LightGBM   : score=5.073, val_score=6.339, elasped=39.1s\n",
      "  [5/5] ExtraTrees : score=6.020, val_score=7.661, elasped=233.4s\n",
      "  Total(balanced): score=4.641, val_score=6.378, elasped=608.1s\n",
      "> [K-Fold] 4/5\n",
      "  [1/5] ElasticNet : score=6.602, val_score=6.870, elasped=65.3s\n",
      "  [2/5] CatBoost   : score=5.229, val_score=6.355, elasped=79.7s\n",
      "  [3/5] XGBoost    : score=2.228, val_score=6.852, elasped=43.3s\n",
      "  [4/5] LightGBM   : score=5.476, val_score=6.550, elasped=38.7s\n",
      "  [5/5] ExtraTrees : score=5.804, val_score=7.285, elasped=233.7s\n",
      "  Total(balanced): score=4.797, val_score=6.347, elasped=460.7s\n",
      "> [K-Fold] 5/5\n",
      "  [1/5] ElasticNet : score=6.550, val_score=6.950, elasped=58.0s\n",
      "  [2/5] CatBoost   : score=5.252, val_score=6.489, elasped=59.9s\n",
      "  [3/5] XGBoost    : score=2.384, val_score=6.857, elasped=28.5s\n",
      "  [4/5] LightGBM   : score=5.239, val_score=6.635, elasped=43.2s\n",
      "  [5/5] ExtraTrees : score=5.827, val_score=7.566, elasped=234.3s\n",
      "  Total(balanced): score=4.762, val_score=6.524, elasped=424.0s\n"
     ]
    },
    {
     "name": "stderr",
     "output_type": "stream",
     "text": [
      "Segment: renault, Length: 3853:  30%|███       | 6/20 [1:50:21<4:58:18, 1278.44s/it]"
     ]
    },
    {
     "name": "stdout",
     "output_type": "stream",
     "text": [
      "> [K-Fold] 1/5\n",
      "  [1/5] ElasticNet : score=5.168, val_score=5.371, elasped=25.5s\n",
      "  [2/5] CatBoost   : score=3.638, val_score=4.968, elasped=68.6s\n",
      "  [3/5] XGBoost    : score=1.486, val_score=5.472, elasped=14.7s\n",
      "  [4/5] LightGBM   : score=3.905, val_score=5.080, elasped=27.3s\n",
      "  [5/5] ExtraTrees : score=4.224, val_score=5.627, elasped=79.6s\n",
      "  Total(balanced): score=3.421, val_score=4.947, elasped=215.7s\n",
      "> [K-Fold] 2/5\n",
      "  [1/5] ElasticNet : score=5.120, val_score=5.664, elasped=25.3s\n",
      "  [2/5] CatBoost   : score=3.619, val_score=4.838, elasped=74.0s\n",
      "  [3/5] XGBoost    : score=1.415, val_score=5.324, elasped=16.4s\n",
      "  [4/5] LightGBM   : score=3.694, val_score=4.918, elasped=34.0s\n",
      "  [5/5] ExtraTrees : score=4.355, val_score=6.017, elasped=80.3s\n",
      "  Total(balanced): score=3.338, val_score=4.858, elasped=230.0s\n",
      "> [K-Fold] 3/5\n",
      "  [1/5] ElasticNet : score=5.210, val_score=5.340, elasped=25.0s\n",
      "  [2/5] CatBoost   : score=3.608, val_score=4.478, elasped=84.2s\n",
      "  [3/5] XGBoost    : score=1.350, val_score=5.157, elasped=18.6s\n",
      "  [4/5] LightGBM   : score=3.740, val_score=4.720, elasped=36.3s\n",
      "  [5/5] ExtraTrees : score=4.249, val_score=5.488, elasped=79.9s\n",
      "  Total(balanced): score=3.352, val_score=4.647, elasped=244.1s\n",
      "> [K-Fold] 4/5\n",
      "  [1/5] ElasticNet : score=5.064, val_score=5.716, elasped=25.6s\n",
      "  [2/5] CatBoost   : score=3.378, val_score=5.057, elasped=105.4s\n",
      "  [3/5] XGBoost    : score=1.362, val_score=5.498, elasped=23.3s\n",
      "  [4/5] LightGBM   : score=3.473, val_score=5.039, elasped=50.8s\n",
      "  [5/5] ExtraTrees : score=4.292, val_score=6.105, elasped=87.0s\n",
      "  Total(balanced): score=3.200, val_score=5.046, elasped=292.1s\n",
      "> [K-Fold] 5/5\n",
      "  [1/5] ElasticNet : score=5.178, val_score=5.365, elasped=26.5s\n",
      "  [2/5] CatBoost   : score=3.738, val_score=4.716, elasped=59.2s\n",
      "  [3/5] XGBoost    : score=1.523, val_score=5.208, elasped=14.7s\n",
      "  [4/5] LightGBM   : score=3.774, val_score=4.785, elasped=33.0s\n",
      "  [5/5] ExtraTrees : score=4.282, val_score=5.595, elasped=83.7s\n",
      "  Total(balanced): score=3.416, val_score=4.745, elasped=217.2s\n"
     ]
    },
    {
     "name": "stderr",
     "output_type": "stream",
     "text": [
      "Segment: volkswagen, Length: 5693:  35%|███▌      | 7/20 [2:10:26<4:31:48, 1254.46s/it]"
     ]
    },
    {
     "name": "stdout",
     "output_type": "stream",
     "text": [
      "> [K-Fold] 1/5\n",
      "  [1/5] ElasticNet : score=6.622, val_score=6.926, elasped=54.7s\n",
      "  [2/5] CatBoost   : score=5.091, val_score=6.172, elasped=67.8s\n",
      "  [3/5] XGBoost    : score=2.466, val_score=6.936, elasped=30.1s\n",
      "  [4/5] LightGBM   : score=5.199, val_score=6.194, elasped=36.1s\n",
      "  [5/5] ExtraTrees : score=5.632, val_score=7.243, elasped=215.8s\n",
      "  Total(balanced): score=4.741, val_score=6.279, elasped=404.5s\n",
      "> [K-Fold] 2/5\n",
      "  [1/5] ElasticNet : score=6.609, val_score=6.916, elasped=53.1s\n",
      "  [2/5] CatBoost   : score=5.107, val_score=6.375, elasped=63.3s\n",
      "  [3/5] XGBoost    : score=2.333, val_score=6.906, elasped=36.3s\n",
      "  [4/5] LightGBM   : score=5.067, val_score=6.431, elasped=38.1s\n",
      "  [5/5] ExtraTrees : score=5.569, val_score=7.202, elasped=207.0s\n",
      "  Total(balanced): score=4.654, val_score=6.348, elasped=397.8s\n",
      "> [K-Fold] 3/5\n",
      "  [1/5] ElasticNet : score=6.677, val_score=6.702, elasped=53.2s\n",
      "  [2/5] CatBoost   : score=5.148, val_score=5.907, elasped=66.9s\n",
      "  [3/5] XGBoost    : score=2.237, val_score=6.584, elasped=40.0s\n",
      "  [4/5] LightGBM   : score=5.140, val_score=5.963, elasped=36.2s\n",
      "  [5/5] ExtraTrees : score=5.695, val_score=6.923, elasped=217.9s\n",
      "  Total(balanced): score=4.698, val_score=5.975, elasped=414.2s\n",
      "> [K-Fold] 4/5\n",
      "  [1/5] ElasticNet : score=6.618, val_score=6.868, elasped=53.4s\n",
      "  [2/5] CatBoost   : score=5.008, val_score=6.322, elasped=66.2s\n",
      "  [3/5] XGBoost    : score=2.266, val_score=6.756, elasped=33.8s\n",
      "  [4/5] LightGBM   : score=4.655, val_score=6.443, elasped=42.1s\n",
      "  [5/5] ExtraTrees : score=5.464, val_score=7.184, elasped=215.2s\n",
      "  Total(balanced): score=4.499, val_score=6.375, elasped=410.7s\n",
      "> [K-Fold] 5/5\n",
      "  [1/5] ElasticNet : score=6.586, val_score=7.055, elasped=55.2s\n",
      "  [2/5] CatBoost   : score=5.061, val_score=6.264, elasped=73.2s\n",
      "  [3/5] XGBoost    : score=2.264, val_score=6.626, elasped=41.2s\n",
      "  [4/5] LightGBM   : score=4.769, val_score=6.150, elasped=57.4s\n",
      "  [5/5] ExtraTrees : score=5.544, val_score=7.053, elasped=213.0s\n",
      "  Total(balanced): score=4.540, val_score=6.159, elasped=440.0s\n"
     ]
    },
    {
     "name": "stderr",
     "output_type": "stream",
     "text": [
      "Segment: citroen, Length: 1129:  40%|████      | 8/20 [2:45:01<5:03:09, 1515.83s/it]   "
     ]
    },
    {
     "name": "stdout",
     "output_type": "stream",
     "text": [
      "> [K-Fold] 1/5\n",
      "  [1/5] ElasticNet : score=3.603, val_score=3.925, elasped=5.7s\n",
      "  [2/5] CatBoost   : score=2.781, val_score=3.836, elasped=36.4s\n",
      "  [3/5] XGBoost    : score=0.603, val_score=4.650, elasped=4.6s\n",
      "  [4/5] LightGBM   : score=3.369, val_score=3.933, elasped=14.9s\n",
      "  [5/5] ExtraTrees : score=2.748, val_score=4.854, elasped=9.3s\n",
      "  Total(balanced): score=2.510, val_score=3.852, elasped=70.9s\n",
      "> [K-Fold] 2/5\n",
      "  [1/5] ElasticNet : score=3.728, val_score=3.860, elasped=6.3s\n",
      "  [2/5] CatBoost   : score=2.777, val_score=4.171, elasped=30.1s\n",
      "  [3/5] XGBoost    : score=0.650, val_score=4.427, elasped=4.0s\n",
      "  [4/5] LightGBM   : score=3.006, val_score=4.594, elasped=15.3s\n",
      "  [5/5] ExtraTrees : score=2.947, val_score=4.917, elasped=8.6s\n",
      "  Total(balanced): score=2.467, val_score=4.118, elasped=64.2s\n",
      "> [K-Fold] 3/5\n",
      "  [1/5] ElasticNet : score=3.411, val_score=4.439, elasped=5.9s\n",
      "  [2/5] CatBoost   : score=2.626, val_score=4.313, elasped=41.1s\n",
      "  [3/5] XGBoost    : score=0.574, val_score=5.034, elasped=4.4s\n",
      "  [4/5] LightGBM   : score=2.585, val_score=4.876, elasped=23.0s\n",
      "  [5/5] ExtraTrees : score=2.773, val_score=5.334, elasped=9.6s\n",
      "  Total(balanced): score=2.253, val_score=4.486, elasped=84.0s\n",
      "> [K-Fold] 4/5\n",
      "  [1/5] ElasticNet : score=3.449, val_score=4.060, elasped=6.2s\n",
      "  [2/5] CatBoost   : score=2.477, val_score=3.774, elasped=51.1s\n",
      "  [3/5] XGBoost    : score=0.367, val_score=4.408, elasped=5.0s\n",
      "  [4/5] LightGBM   : score=3.402, val_score=4.021, elasped=13.9s\n",
      "  [5/5] ExtraTrees : score=2.922, val_score=4.748, elasped=10.6s\n",
      "  Total(balanced): score=2.359, val_score=3.826, elasped=86.8s\n",
      "> [K-Fold] 5/5\n",
      "  [1/5] ElasticNet : score=3.437, val_score=4.170, elasped=7.6s\n",
      "  [2/5] CatBoost   : score=2.678, val_score=4.135, elasped=40.8s\n",
      "  [3/5] XGBoost    : score=0.755, val_score=4.561, elasped=4.0s\n",
      "  [4/5] LightGBM   : score=3.035, val_score=4.401, elasped=19.2s\n",
      "  [5/5] ExtraTrees : score=3.006, val_score=4.962, elasped=9.1s\n",
      "  Total(balanced): score=2.398, val_score=4.068, elasped=80.6s\n"
     ]
    },
    {
     "name": "stderr",
     "output_type": "stream",
     "text": [
      "Segment: bmw, Length: 5262:  45%|████▌     | 9/20 [2:51:31<3:33:22, 1163.88s/it]    "
     ]
    },
    {
     "name": "stdout",
     "output_type": "stream",
     "text": [
      "> [K-Fold] 1/5\n",
      "  [1/5] ElasticNet : score=8.464, val_score=8.989, elasped=55.1s\n",
      "  [2/5] CatBoost   : score=6.394, val_score=7.886, elasped=53.6s\n",
      "  [3/5] XGBoost    : score=3.004, val_score=8.347, elasped=24.0s\n",
      "  [4/5] LightGBM   : score=6.621, val_score=7.925, elasped=23.4s\n",
      "  [5/5] ExtraTrees : score=6.767, val_score=8.692, elasped=211.7s\n",
      "  Total(balanced): score=5.849, val_score=7.846, elasped=367.7s\n",
      "> [K-Fold] 2/5\n",
      "  [1/5] ElasticNet : score=8.386, val_score=9.046, elasped=51.1s\n",
      "  [2/5] CatBoost   : score=6.233, val_score=7.815, elasped=61.0s\n",
      "  [3/5] XGBoost    : score=2.716, val_score=8.092, elasped=30.8s\n",
      "  [4/5] LightGBM   : score=6.665, val_score=8.138, elasped=21.6s\n",
      "  [5/5] ExtraTrees : score=6.664, val_score=8.608, elasped=216.7s\n",
      "  Total(balanced): score=5.705, val_score=7.895, elasped=381.3s\n",
      "> [K-Fold] 3/5\n",
      "  [1/5] ElasticNet : score=8.527, val_score=8.731, elasped=51.0s\n",
      "  [2/5] CatBoost   : score=5.898, val_score=7.441, elasped=121.0s\n",
      "  [3/5] XGBoost    : score=2.971, val_score=8.108, elasped=27.7s\n",
      "  [4/5] LightGBM   : score=6.597, val_score=7.805, elasped=27.9s\n",
      "  [5/5] ExtraTrees : score=6.810, val_score=8.400, elasped=223.0s\n",
      "  Total(balanced): score=5.742, val_score=7.542, elasped=450.6s\n",
      "> [K-Fold] 4/5\n",
      "  [1/5] ElasticNet : score=8.444, val_score=8.843, elasped=52.7s\n",
      "  [2/5] CatBoost   : score=5.990, val_score=7.677, elasped=90.3s\n",
      "  [3/5] XGBoost    : score=2.870, val_score=8.224, elasped=26.7s\n",
      "  [4/5] LightGBM   : score=6.538, val_score=7.749, elasped=25.4s\n",
      "  [5/5] ExtraTrees : score=6.733, val_score=8.841, elasped=222.1s\n",
      "  Total(balanced): score=5.712, val_score=7.652, elasped=417.2s\n",
      "> [K-Fold] 5/5\n",
      "  [1/5] ElasticNet : score=8.448, val_score=8.860, elasped=52.9s\n",
      "  [2/5] CatBoost   : score=6.139, val_score=7.562, elasped=106.1s\n",
      "  [3/5] XGBoost    : score=2.983, val_score=7.896, elasped=33.2s\n",
      "  [4/5] LightGBM   : score=6.203, val_score=7.868, elasped=43.3s\n",
      "  [5/5] ExtraTrees : score=6.717, val_score=8.421, elasped=208.3s\n",
      "  Total(balanced): score=5.662, val_score=7.586, elasped=443.8s\n"
     ]
    },
    {
     "name": "stderr",
     "output_type": "stream",
     "text": [
      "Segment: opel, Length: 6651:  50%|█████     | 10/20 [3:25:59<4:00:29, 1442.95s/it]"
     ]
    },
    {
     "name": "stdout",
     "output_type": "stream",
     "text": [
      "> [K-Fold] 1/5\n",
      "  [1/5] ElasticNet : score=4.210, val_score=4.100, elasped=54.7s\n",
      "  [2/5] CatBoost   : score=3.111, val_score=3.788, elasped=135.2s\n",
      "  [3/5] XGBoost    : score=1.722, val_score=4.207, elasped=33.9s\n",
      "  [4/5] LightGBM   : score=3.071, val_score=3.943, elasped=50.4s\n",
      "  [5/5] ExtraTrees : score=3.862, val_score=4.622, elasped=308.2s\n",
      "  Total(balanced): score=2.998, val_score=3.868, elasped=582.4s\n",
      "> [K-Fold] 2/5\n",
      "  [1/5] ElasticNet : score=4.202, val_score=4.162, elasped=54.7s\n",
      "  [2/5] CatBoost   : score=3.252, val_score=3.860, elasped=82.9s\n",
      "  [3/5] XGBoost    : score=1.506, val_score=4.430, elasped=37.4s\n",
      "  [4/5] LightGBM   : score=3.190, val_score=3.948, elasped=42.3s\n",
      "  [5/5] ExtraTrees : score=3.841, val_score=4.738, elasped=305.8s\n",
      "  Total(balanced): score=3.016, val_score=3.950, elasped=523.1s\n",
      "> [K-Fold] 3/5\n",
      "  [1/5] ElasticNet : score=4.162, val_score=4.395, elasped=53.9s\n",
      "  [2/5] CatBoost   : score=3.208, val_score=3.996, elasped=94.6s\n",
      "  [3/5] XGBoost    : score=1.579, val_score=4.337, elasped=36.1s\n",
      "  [4/5] LightGBM   : score=3.300, val_score=4.154, elasped=38.8s\n",
      "  [5/5] ExtraTrees : score=3.769, val_score=4.612, elasped=302.0s\n",
      "  Total(balanced): score=3.017, val_score=4.020, elasped=525.4s\n",
      "> [K-Fold] 4/5\n",
      "  [1/5] ElasticNet : score=4.121, val_score=4.548, elasped=51.9s\n",
      "  [2/5] CatBoost   : score=3.154, val_score=4.163, elasped=103.5s\n",
      "  [3/5] XGBoost    : score=1.510, val_score=4.503, elasped=38.6s\n",
      "  [4/5] LightGBM   : score=3.031, val_score=4.249, elasped=70.0s\n",
      "  [5/5] ExtraTrees : score=3.767, val_score=5.053, elasped=332.0s\n",
      "  Total(balanced): score=2.918, val_score=4.200, elasped=595.9s\n",
      "> [K-Fold] 5/5\n",
      "  [1/5] ElasticNet : score=4.191, val_score=4.280, elasped=56.1s\n",
      "  [2/5] CatBoost   : score=3.237, val_score=4.062, elasped=134.3s\n",
      "  [3/5] XGBoost    : score=1.579, val_score=4.283, elasped=41.8s\n",
      "  [4/5] LightGBM   : score=3.137, val_score=4.101, elasped=59.9s\n",
      "  [5/5] ExtraTrees : score=3.801, val_score=4.619, elasped=323.9s\n",
      "  Total(balanced): score=2.986, val_score=4.020, elasped=616.0s\n"
     ]
    },
    {
     "name": "stderr",
     "output_type": "stream",
     "text": [
      "Segment: ford, Length: 5819:  55%|█████▌    | 11/20 [4:13:33<4:41:11, 1874.66s/it]"
     ]
    },
    {
     "name": "stdout",
     "output_type": "stream",
     "text": [
      "> [K-Fold] 1/5\n",
      "  [1/5] ElasticNet : score=5.418, val_score=6.029, elasped=45.4s\n",
      "  [2/5] CatBoost   : score=3.976, val_score=5.408, elasped=98.7s\n",
      "  [3/5] XGBoost    : score=2.111, val_score=5.745, elasped=29.2s\n",
      "  [4/5] LightGBM   : score=4.124, val_score=5.476, elasped=39.1s\n",
      "  [5/5] ExtraTrees : score=4.951, val_score=6.451, elasped=232.6s\n",
      "  Total(balanced): score=3.833, val_score=5.460, elasped=445.0s\n",
      "> [K-Fold] 2/5\n",
      "  [1/5] ElasticNet : score=5.533, val_score=5.372, elasped=45.0s\n",
      "  [2/5] CatBoost   : score=4.157, val_score=5.104, elasped=82.0s\n",
      "  [3/5] XGBoost    : score=2.102, val_score=5.290, elasped=28.1s\n",
      "  [4/5] LightGBM   : score=4.231, val_score=5.243, elasped=26.5s\n",
      "  [5/5] ExtraTrees : score=5.010, val_score=6.222, elasped=224.5s\n",
      "  Total(balanced): score=3.919, val_score=5.030, elasped=406.0s\n",
      "> [K-Fold] 3/5\n",
      "  [1/5] ElasticNet : score=5.383, val_score=6.029, elasped=43.0s\n",
      "  [2/5] CatBoost   : score=4.029, val_score=5.448, elasped=105.2s\n",
      "  [3/5] XGBoost    : score=1.934, val_score=5.985, elasped=33.6s\n",
      "  [4/5] LightGBM   : score=4.037, val_score=5.483, elasped=28.7s\n",
      "  [5/5] ExtraTrees : score=4.955, val_score=6.653, elasped=223.9s\n",
      "  Total(balanced): score=3.788, val_score=5.501, elasped=434.5s\n",
      "> [K-Fold] 4/5\n",
      "  [1/5] ElasticNet : score=5.532, val_score=5.479, elasped=41.2s\n",
      "  [2/5] CatBoost   : score=4.128, val_score=5.069, elasped=83.6s\n",
      "  [3/5] XGBoost    : score=1.778, val_score=5.310, elasped=31.5s\n",
      "  [4/5] LightGBM   : score=3.920, val_score=5.155, elasped=31.4s\n",
      "  [5/5] ExtraTrees : score=5.010, val_score=6.177, elasped=222.8s\n",
      "  Total(balanced): score=3.766, val_score=5.051, elasped=410.5s\n",
      "> [K-Fold] 5/5\n",
      "  [1/5] ElasticNet : score=5.485, val_score=5.616, elasped=42.8s\n",
      "  [2/5] CatBoost   : score=4.274, val_score=5.040, elasped=65.7s\n",
      "  [3/5] XGBoost    : score=2.002, val_score=5.316, elasped=28.6s\n",
      "  [4/5] LightGBM   : score=4.132, val_score=5.152, elasped=32.4s\n",
      "  [5/5] ExtraTrees : score=4.843, val_score=5.841, elasped=222.7s\n",
      "  Total(balanced): score=3.872, val_score=5.061, elasped=392.3s\n"
     ]
    },
    {
     "name": "stderr",
     "output_type": "stream",
     "text": [
      "Segment: mazda, Length: 1572:  60%|██████    | 12/20 [4:48:30<4:18:58, 1942.28s/it]"
     ]
    },
    {
     "name": "stdout",
     "output_type": "stream",
     "text": [
      "> [K-Fold] 1/5\n",
      "  [1/5] ElasticNet : score=5.752, val_score=6.395, elasped=8.5s\n",
      "  [2/5] CatBoost   : score=3.924, val_score=6.135, elasped=44.7s\n",
      "  [3/5] XGBoost    : score=1.279, val_score=7.103, elasped=5.1s\n",
      "  [4/5] LightGBM   : score=4.680, val_score=6.480, elasped=17.5s\n",
      "  [5/5] ExtraTrees : score=3.819, val_score=7.651, elasped=10.9s\n",
      "  Total(balanced): score=3.736, val_score=6.390, elasped=86.7s\n",
      "> [K-Fold] 2/5\n",
      "  [1/5] ElasticNet : score=5.593, val_score=6.419, elasped=8.0s\n",
      "  [2/5] CatBoost   : score=4.551, val_score=5.628, elasped=22.8s\n",
      "  [3/5] XGBoost    : score=1.320, val_score=6.146, elasped=5.1s\n",
      "  [4/5] LightGBM   : score=4.396, val_score=5.975, elasped=18.2s\n",
      "  [5/5] ExtraTrees : score=4.116, val_score=6.578, elasped=11.8s\n",
      "  Total(balanced): score=3.779, val_score=5.747, elasped=65.8s\n",
      "> [K-Fold] 3/5\n",
      "  [1/5] ElasticNet : score=5.399, val_score=6.376, elasped=8.1s\n",
      "  [2/5] CatBoost   : score=4.278, val_score=6.176, elasped=31.0s\n",
      "  [3/5] XGBoost    : score=1.233, val_score=6.555, elasped=4.7s\n",
      "  [4/5] LightGBM   : score=4.343, val_score=6.748, elasped=19.2s\n",
      "  [5/5] ExtraTrees : score=4.039, val_score=7.028, elasped=11.7s\n",
      "  Total(balanced): score=3.647, val_score=6.100, elasped=74.8s\n",
      "> [K-Fold] 4/5\n",
      "  [1/5] ElasticNet : score=5.984, val_score=6.008, elasped=8.0s\n",
      "  [2/5] CatBoost   : score=4.370, val_score=5.367, elasped=29.3s\n",
      "  [3/5] XGBoost    : score=1.182, val_score=6.409, elasped=5.0s\n",
      "  [4/5] LightGBM   : score=4.276, val_score=5.763, elasped=19.4s\n",
      "  [5/5] ExtraTrees : score=3.952, val_score=6.483, elasped=11.5s\n",
      "  Total(balanced): score=3.764, val_score=5.566, elasped=73.1s\n",
      "> [K-Fold] 5/5\n",
      "  [1/5] ElasticNet : score=5.934, val_score=5.752, elasped=8.4s\n",
      "  [2/5] CatBoost   : score=4.107, val_score=5.213, elasped=55.6s\n",
      "  [3/5] XGBoost    : score=0.984, val_score=6.197, elasped=6.7s\n",
      "  [4/5] LightGBM   : score=4.616, val_score=5.743, elasped=22.0s\n",
      "  [5/5] ExtraTrees : score=4.128, val_score=6.039, elasped=12.5s\n",
      "  Total(balanced): score=3.755, val_score=5.468, elasped=105.2s\n"
     ]
    },
    {
     "name": "stderr",
     "output_type": "stream",
     "text": [
      "Segment: honda, Length: 1545:  65%|██████▌   | 13/20 [4:55:19<2:52:25, 1477.89s/it]"
     ]
    },
    {
     "name": "stdout",
     "output_type": "stream",
     "text": [
      "> [K-Fold] 1/5\n",
      "  [1/5] ElasticNet : score=5.645, val_score=6.008, elasped=8.8s\n",
      "  [2/5] CatBoost   : score=3.549, val_score=5.295, elasped=49.9s\n",
      "  [3/5] XGBoost    : score=1.061, val_score=6.366, elasped=5.1s\n",
      "  [4/5] LightGBM   : score=3.444, val_score=5.513, elasped=24.6s\n",
      "  [5/5] ExtraTrees : score=3.642, val_score=6.338, elasped=12.3s\n",
      "  Total(balanced): score=3.156, val_score=5.365, elasped=100.6s\n",
      "> [K-Fold] 2/5\n",
      "  [1/5] ElasticNet : score=5.620, val_score=5.941, elasped=8.0s\n",
      "  [2/5] CatBoost   : score=3.542, val_score=5.108, elasped=49.1s\n",
      "  [3/5] XGBoost    : score=0.981, val_score=5.972, elasped=5.5s\n",
      "  [4/5] LightGBM   : score=3.653, val_score=5.173, elasped=25.6s\n",
      "  [5/5] ExtraTrees : score=3.598, val_score=6.672, elasped=12.2s\n",
      "  Total(balanced): score=3.160, val_score=5.199, elasped=100.3s\n",
      "> [K-Fold] 3/5\n",
      "  [1/5] ElasticNet : score=5.529, val_score=7.172, elasped=9.5s\n",
      "  [2/5] CatBoost   : score=3.509, val_score=5.776, elasped=53.8s\n",
      "  [3/5] XGBoost    : score=1.129, val_score=6.890, elasped=6.0s\n",
      "  [4/5] LightGBM   : score=4.256, val_score=6.276, elasped=16.7s\n",
      "  [5/5] ExtraTrees : score=3.714, val_score=6.955, elasped=12.7s\n",
      "  Total(balanced): score=3.290, val_score=6.003, elasped=98.8s\n",
      "> [K-Fold] 4/5\n",
      "  [1/5] ElasticNet : score=5.235, val_score=6.975, elasped=8.7s\n",
      "  [2/5] CatBoost   : score=3.623, val_score=5.239, elasped=44.5s\n",
      "  [3/5] XGBoost    : score=0.635, val_score=5.856, elasped=7.0s\n",
      "  [4/5] LightGBM   : score=4.084, val_score=5.583, elasped=19.8s\n",
      "  [5/5] ExtraTrees : score=3.589, val_score=6.266, elasped=12.1s\n",
      "  Total(balanced): score=3.081, val_score=5.314, elasped=92.0s\n",
      "> [K-Fold] 5/5\n",
      "  [1/5] ElasticNet : score=5.744, val_score=5.511, elasped=8.3s\n",
      "  [2/5] CatBoost   : score=3.628, val_score=5.119, elasped=49.9s\n",
      "  [3/5] XGBoost    : score=0.596, val_score=6.064, elasped=7.5s\n",
      "  [4/5] LightGBM   : score=4.092, val_score=5.403, elasped=19.7s\n",
      "  [5/5] ExtraTrees : score=3.727, val_score=6.259, elasped=12.3s\n",
      "  Total(balanced): score=3.293, val_score=5.036, elasped=97.7s\n"
     ]
    },
    {
     "name": "stderr",
     "output_type": "stream",
     "text": [
      "Segment: kia, Length: 2034:  70%|███████   | 14/20 [5:03:32<1:58:03, 1180.53s/it]  "
     ]
    },
    {
     "name": "stdout",
     "output_type": "stream",
     "text": [
      "> [K-Fold] 1/5\n",
      "  [1/5] ElasticNet : score=5.828, val_score=5.519, elasped=11.4s\n",
      "  [2/5] CatBoost   : score=4.658, val_score=5.334, elasped=33.6s\n",
      "  [3/5] XGBoost    : score=1.058, val_score=5.904, elasped=7.8s\n",
      "  [4/5] LightGBM   : score=4.802, val_score=5.590, elasped=19.9s\n",
      "  [5/5] ExtraTrees : score=4.176, val_score=5.989, elasped=22.0s\n",
      "  Total(balanced): score=3.888, val_score=5.247, elasped=94.7s\n",
      "> [K-Fold] 2/5\n",
      "  [1/5] ElasticNet : score=5.812, val_score=5.628, elasped=10.8s\n",
      "  [2/5] CatBoost   : score=4.569, val_score=5.460, elasped=32.6s\n",
      "  [3/5] XGBoost    : score=0.952, val_score=5.839, elasped=8.7s\n",
      "  [4/5] LightGBM   : score=4.946, val_score=5.777, elasped=17.6s\n",
      "  [5/5] ExtraTrees : score=4.149, val_score=5.670, elasped=21.6s\n",
      "  Total(balanced): score=3.841, val_score=5.249, elasped=91.3s\n",
      "> [K-Fold] 3/5\n",
      "  [1/5] ElasticNet : score=5.759, val_score=6.095, elasped=10.5s\n",
      "  [2/5] CatBoost   : score=4.328, val_score=5.712, elasped=45.5s\n",
      "  [3/5] XGBoost    : score=0.749, val_score=6.193, elasped=8.5s\n",
      "  [4/5] LightGBM   : score=4.704, val_score=6.287, elasped=18.9s\n",
      "  [5/5] ExtraTrees : score=4.172, val_score=6.554, elasped=22.5s\n",
      "  Total(balanced): score=3.686, val_score=5.743, elasped=105.9s\n",
      "> [K-Fold] 4/5\n",
      "  [1/5] ElasticNet : score=5.728, val_score=6.446, elasped=10.8s\n",
      "  [2/5] CatBoost   : score=3.963, val_score=5.980, elasped=71.8s\n",
      "  [3/5] XGBoost    : score=0.867, val_score=7.111, elasped=8.1s\n",
      "  [4/5] LightGBM   : score=4.337, val_score=6.514, elasped=25.1s\n",
      "  [5/5] ExtraTrees : score=3.837, val_score=6.774, elasped=21.4s\n",
      "  Total(balanced): score=3.557, val_score=6.140, elasped=137.2s\n",
      "> [K-Fold] 5/5\n",
      "  [1/5] ElasticNet : score=5.617, val_score=6.618, elasped=10.9s\n",
      "  [2/5] CatBoost   : score=4.027, val_score=5.930, elasped=57.7s\n",
      "  [3/5] XGBoost    : score=0.887, val_score=6.741, elasped=9.2s\n",
      "  [4/5] LightGBM   : score=4.249, val_score=6.382, elasped=25.5s\n",
      "  [5/5] ExtraTrees : score=3.978, val_score=6.591, elasped=21.4s\n",
      "  Total(balanced): score=3.500, val_score=6.034, elasped=124.8s\n"
     ]
    },
    {
     "name": "stderr",
     "output_type": "stream",
     "text": [
      "Segment: seat, Length: 1628:  75%|███████▌  | 15/20 [5:12:50<1:22:44, 992.81s/it]"
     ]
    },
    {
     "name": "stdout",
     "output_type": "stream",
     "text": [
      "> [K-Fold] 1/5\n",
      "  [1/5] ElasticNet : score=4.645, val_score=5.728, elasped=10.5s\n",
      "  [2/5] CatBoost   : score=3.314, val_score=5.284, elasped=47.3s\n",
      "  [3/5] XGBoost    : score=0.356, val_score=6.093, elasped=9.0s\n",
      "  [4/5] LightGBM   : score=3.309, val_score=5.584, elasped=23.3s\n",
      "  [5/5] ExtraTrees : score=3.449, val_score=6.615, elasped=16.8s\n",
      "  Total(balanced): score=2.771, val_score=5.410, elasped=107.0s\n",
      "> [K-Fold] 2/5\n",
      "  [1/5] ElasticNet : score=4.635, val_score=5.542, elasped=10.0s\n",
      "  [2/5] CatBoost   : score=3.547, val_score=4.983, elasped=29.3s\n",
      "  [3/5] XGBoost    : score=0.483, val_score=5.533, elasped=8.5s\n",
      "  [4/5] LightGBM   : score=3.576, val_score=5.307, elasped=19.2s\n",
      "  [5/5] ExtraTrees : score=3.696, val_score=5.940, elasped=16.1s\n",
      "  Total(balanced): score=2.903, val_score=5.026, elasped=83.2s\n",
      "> [K-Fold] 3/5\n",
      "  [1/5] ElasticNet : score=4.902, val_score=5.083, elasped=9.9s\n",
      "  [2/5] CatBoost   : score=3.232, val_score=4.818, elasped=49.2s\n",
      "  [3/5] XGBoost    : score=0.612, val_score=5.858, elasped=7.4s\n",
      "  [4/5] LightGBM   : score=3.081, val_score=5.120, elasped=30.5s\n",
      "  [5/5] ExtraTrees : score=3.525, val_score=5.382, elasped=16.9s\n",
      "  Total(balanced): score=2.842, val_score=4.678, elasped=114.0s\n",
      "> [K-Fold] 4/5\n",
      "  [1/5] ElasticNet : score=4.876, val_score=4.687, elasped=9.8s\n",
      "  [2/5] CatBoost   : score=3.011, val_score=4.212, elasped=74.2s\n",
      "  [3/5] XGBoost    : score=0.330, val_score=4.877, elasped=10.2s\n",
      "  [4/5] LightGBM   : score=3.464, val_score=4.378, elasped=23.3s\n",
      "  [5/5] ExtraTrees : score=3.733, val_score=4.600, elasped=16.4s\n",
      "  Total(balanced): score=2.810, val_score=4.094, elasped=133.8s\n",
      "> [K-Fold] 5/5\n",
      "  [1/5] ElasticNet : score=4.818, val_score=5.503, elasped=9.9s\n",
      "  [2/5] CatBoost   : score=3.177, val_score=5.107, elasped=50.9s\n",
      "  [3/5] XGBoost    : score=0.702, val_score=6.014, elasped=7.3s\n",
      "  [4/5] LightGBM   : score=3.120, val_score=5.507, elasped=26.5s\n",
      "  [5/5] ExtraTrees : score=3.498, val_score=6.097, elasped=16.1s\n",
      "  Total(balanced): score=2.830, val_score=5.144, elasped=110.7s\n"
     ]
    },
    {
     "name": "stderr",
     "output_type": "stream",
     "text": [
      "Segment: volvo, Length: 1352:  80%|████████  | 16/20 [5:22:03<57:21, 860.33s/it] "
     ]
    },
    {
     "name": "stdout",
     "output_type": "stream",
     "text": [
      "> [K-Fold] 1/5\n",
      "  [1/5] ElasticNet : score=7.945, val_score=8.559, elasped=8.2s\n",
      "  [2/5] CatBoost   : score=6.004, val_score=8.560, elasped=25.8s\n",
      "  [3/5] XGBoost    : score=0.538, val_score=9.668, elasped=8.0s\n",
      "  [4/5] LightGBM   : score=5.323, val_score=8.967, elasped=20.9s\n",
      "  [5/5] ExtraTrees : score=6.069, val_score=9.066, elasped=12.3s\n",
      "  Total(balanced): score=4.894, val_score=8.392, elasped=75.2s\n",
      "> [K-Fold] 2/5\n",
      "  [1/5] ElasticNet : score=8.072, val_score=9.080, elasped=8.1s\n",
      "  [2/5] CatBoost   : score=5.609, val_score=8.292, elasped=38.4s\n",
      "  [3/5] XGBoost    : score=0.436, val_score=10.233, elasped=9.0s\n",
      "  [4/5] LightGBM   : score=5.144, val_score=8.570, elasped=23.3s\n",
      "  [5/5] ExtraTrees : score=5.893, val_score=10.481, elasped=12.0s\n",
      "  Total(balanced): score=4.766, val_score=8.568, elasped=90.8s\n",
      "> [K-Fold] 3/5\n",
      "  [1/5] ElasticNet : score=8.207, val_score=8.238, elasped=8.3s\n",
      "  [2/5] CatBoost   : score=5.779, val_score=7.313, elasped=35.0s\n",
      "  [3/5] XGBoost    : score=0.381, val_score=8.690, elasped=9.7s\n",
      "  [4/5] LightGBM   : score=5.019, val_score=7.511, elasped=25.8s\n",
      "  [5/5] ExtraTrees : score=5.868, val_score=8.490, elasped=12.3s\n",
      "  Total(balanced): score=4.751, val_score=7.433, elasped=91.2s\n",
      "> [K-Fold] 4/5\n",
      "  [1/5] ElasticNet : score=8.171, val_score=8.973, elasped=8.2s\n",
      "  [2/5] CatBoost   : score=4.666, val_score=7.894, elasped=72.9s\n",
      "  [3/5] XGBoost    : score=0.579, val_score=9.264, elasped=6.2s\n",
      "  [4/5] LightGBM   : score=6.632, val_score=8.654, elasped=14.1s\n",
      "  [5/5] ExtraTrees : score=6.122, val_score=9.948, elasped=12.0s\n",
      "  Total(balanced): score=4.865, val_score=8.292, elasped=113.4s\n",
      "> [K-Fold] 5/5\n",
      "  [1/5] ElasticNet : score=8.025, val_score=10.387, elasped=8.3s\n",
      "  [2/5] CatBoost   : score=4.913, val_score=8.838, elasped=58.2s\n",
      "  [3/5] XGBoost    : score=0.366, val_score=11.154, elasped=9.0s\n",
      "  [4/5] LightGBM   : score=4.882, val_score=9.332, elasped=29.2s\n",
      "  [5/5] ExtraTrees : score=5.743, val_score=10.543, elasped=12.3s\n",
      "  Total(balanced): score=4.504, val_score=9.456, elasped=117.0s\n"
     ]
    },
    {
     "name": "stderr",
     "output_type": "stream",
     "text": [
      "Segment: peugeot, Length: 793:  85%|████████▌ | 17/20 [5:30:14<37:28, 749.38s/it]"
     ]
    },
    {
     "name": "stdout",
     "output_type": "stream",
     "text": [
      "> [K-Fold] 1/5\n",
      "  [1/5] ElasticNet : score=5.120, val_score=5.589, elasped=3.8s\n",
      "  [2/5] CatBoost   : score=3.845, val_score=5.434, elasped=25.2s\n",
      "  [3/5] XGBoost    : score=1.923, val_score=6.975, elasped=3.4s\n",
      "  [4/5] LightGBM   : score=4.670, val_score=5.951, elasped=10.4s\n",
      "  [5/5] ExtraTrees : score=3.564, val_score=6.323, elasped=4.9s\n",
      "  Total(balanced): score=3.612, val_score=5.607, elasped=47.6s\n",
      "> [K-Fold] 2/5\n",
      "  [1/5] ElasticNet : score=5.242, val_score=5.187, elasped=3.7s\n",
      "  [2/5] CatBoost   : score=4.102, val_score=5.485, elasped=25.7s\n",
      "  [3/5] XGBoost    : score=0.322, val_score=6.030, elasped=4.0s\n",
      "  [4/5] LightGBM   : score=4.138, val_score=5.268, elasped=15.0s\n",
      "  [5/5] ExtraTrees : score=3.266, val_score=6.151, elasped=4.0s\n",
      "  Total(balanced): score=3.244, val_score=5.095, elasped=52.4s\n",
      "> [K-Fold] 3/5\n",
      "  [1/5] ElasticNet : score=4.756, val_score=6.300, elasped=3.7s\n",
      "  [2/5] CatBoost   : score=3.358, val_score=6.366, elasped=43.7s\n",
      "  [3/5] XGBoost    : score=0.685, val_score=6.998, elasped=3.7s\n",
      "  [4/5] LightGBM   : score=4.299, val_score=6.903, elasped=12.1s\n",
      "  [5/5] ExtraTrees : score=3.378, val_score=7.376, elasped=4.3s\n",
      "  Total(balanced): score=3.039, val_score=6.327, elasped=67.5s\n",
      "> [K-Fold] 4/5\n",
      "  [1/5] ElasticNet : score=4.652, val_score=6.017, elasped=3.7s\n",
      "  [2/5] CatBoost   : score=4.066, val_score=5.722, elasped=21.5s\n",
      "  [3/5] XGBoost    : score=0.726, val_score=6.202, elasped=3.5s\n",
      "  [4/5] LightGBM   : score=4.133, val_score=6.103, elasped=14.1s\n",
      "  [5/5] ExtraTrees : score=3.269, val_score=6.868, elasped=5.0s\n",
      "  Total(balanced): score=3.083, val_score=5.687, elasped=47.8s\n",
      "> [K-Fold] 5/5\n",
      "  [1/5] ElasticNet : score=4.670, val_score=6.002, elasped=3.8s\n",
      "  [2/5] CatBoost   : score=4.115, val_score=5.539, elasped=22.0s\n",
      "  [3/5] XGBoost    : score=0.967, val_score=5.561, elasped=3.5s\n",
      "  [4/5] LightGBM   : score=4.221, val_score=5.725, elasped=14.3s\n",
      "  [5/5] ExtraTrees : score=3.300, val_score=6.542, elasped=5.2s\n",
      "  Total(balanced): score=3.146, val_score=5.255, elasped=48.7s\n"
     ]
    },
    {
     "name": "stderr",
     "output_type": "stream",
     "text": [
      "Segment: hyundai, Length: 1855:  90%|█████████ | 18/20 [5:34:41<20:08, 604.42s/it]"
     ]
    },
    {
     "name": "stdout",
     "output_type": "stream",
     "text": [
      "> [K-Fold] 1/5\n",
      "  [1/5] ElasticNet : score=6.148, val_score=6.143, elasped=8.1s\n",
      "  [2/5] CatBoost   : score=4.097, val_score=5.505, elasped=55.4s\n",
      "  [3/5] XGBoost    : score=0.648, val_score=6.029, elasped=9.1s\n",
      "  [4/5] LightGBM   : score=4.158, val_score=5.857, elasped=23.2s\n",
      "  [5/5] ExtraTrees : score=4.034, val_score=6.257, elasped=15.6s\n",
      "  Total(balanced): score=3.515, val_score=5.474, elasped=111.3s\n",
      "> [K-Fold] 2/5\n",
      "  [1/5] ElasticNet : score=6.130, val_score=6.146, elasped=8.4s\n",
      "  [2/5] CatBoost   : score=4.077, val_score=5.349, elasped=49.4s\n",
      "  [3/5] XGBoost    : score=1.239, val_score=6.128, elasped=5.6s\n",
      "  [4/5] LightGBM   : score=4.778, val_score=5.561, elasped=18.0s\n",
      "  [5/5] ExtraTrees : score=3.909, val_score=5.970, elasped=15.5s\n",
      "  Total(balanced): score=3.741, val_score=5.408, elasped=96.9s\n",
      "> [K-Fold] 3/5\n",
      "  [1/5] ElasticNet : score=6.130, val_score=6.325, elasped=8.0s\n",
      "  [2/5] CatBoost   : score=4.118, val_score=5.593, elasped=45.4s\n",
      "  [3/5] XGBoost    : score=1.273, val_score=6.079, elasped=5.6s\n",
      "  [4/5] LightGBM   : score=3.693, val_score=5.853, elasped=29.0s\n",
      "  [5/5] ExtraTrees : score=3.895, val_score=6.038, elasped=15.2s\n",
      "  Total(balanced): score=3.535, val_score=5.458, elasped=103.2s\n",
      "> [K-Fold] 4/5\n",
      "  [1/5] ElasticNet : score=5.974, val_score=7.088, elasped=8.2s\n",
      "  [2/5] CatBoost   : score=4.421, val_score=5.904, elasped=31.6s\n",
      "  [3/5] XGBoost    : score=1.503, val_score=6.805, elasped=5.3s\n",
      "  [4/5] LightGBM   : score=4.614, val_score=6.187, elasped=17.0s\n",
      "  [5/5] ExtraTrees : score=3.873, val_score=6.540, elasped=16.2s\n",
      "  Total(balanced): score=3.796, val_score=5.833, elasped=78.2s\n",
      "> [K-Fold] 5/5\n",
      "  [1/5] ElasticNet : score=6.062, val_score=6.461, elasped=8.1s\n",
      "  [2/5] CatBoost   : score=4.380, val_score=5.751, elasped=30.4s\n",
      "  [3/5] XGBoost    : score=1.082, val_score=6.328, elasped=5.8s\n",
      "  [4/5] LightGBM   : score=4.320, val_score=5.928, elasped=20.4s\n",
      "  [5/5] ExtraTrees : score=3.796, val_score=6.183, elasped=15.5s\n",
      "  Total(balanced): score=3.655, val_score=5.758, elasped=80.2s\n"
     ]
    },
    {
     "name": "stderr",
     "output_type": "stream",
     "text": [
      "Segment: mitsubishi, Length: 556:  95%|█████████▌| 19/20 [5:42:34<09:25, 565.07s/it]"
     ]
    },
    {
     "name": "stdout",
     "output_type": "stream",
     "text": [
      "> [K-Fold] 1/5\n",
      "  [1/5] ElasticNet : score=5.151, val_score=6.399, elasped=3.0s\n",
      "  [2/5] CatBoost   : score=4.265, val_score=6.467, elasped=27.0s\n",
      "  [3/5] XGBoost    : score=0.675, val_score=7.590, elasped=4.3s\n",
      "  [4/5] LightGBM   : score=5.407, val_score=6.827, elasped=7.6s\n",
      "  [5/5] ExtraTrees : score=3.563, val_score=7.184, elasped=1.9s\n",
      "  Total(balanced): score=3.449, val_score=6.113, elasped=43.8s\n",
      "> [K-Fold] 2/5\n",
      "  [1/5] ElasticNet : score=5.194, val_score=6.164, elasped=3.1s\n",
      "  [2/5] CatBoost   : score=3.896, val_score=6.015, elasped=30.5s\n",
      "  [3/5] XGBoost    : score=2.120, val_score=7.642, elasped=3.1s\n",
      "  [4/5] LightGBM   : score=4.963, val_score=6.923, elasped=9.2s\n",
      "  [5/5] ExtraTrees : score=2.755, val_score=7.849, elasped=1.9s\n",
      "  Total(balanced): score=3.510, val_score=6.157, elasped=47.8s\n",
      "> [K-Fold] 3/5\n",
      "  [1/5] ElasticNet : score=5.350, val_score=6.297, elasped=2.9s\n",
      "  [2/5] CatBoost   : score=4.809, val_score=6.288, elasped=16.8s\n",
      "  [3/5] XGBoost    : score=2.079, val_score=6.856, elasped=2.8s\n",
      "  [4/5] LightGBM   : score=4.972, val_score=6.541, elasped=7.8s\n",
      "  [5/5] ExtraTrees : score=2.977, val_score=6.011, elasped=2.0s\n",
      "  Total(balanced): score=3.692, val_score=5.943, elasped=32.4s\n",
      "> [K-Fold] 4/5\n",
      "  [1/5] ElasticNet : score=5.447, val_score=5.566, elasped=3.0s\n",
      "  [2/5] CatBoost   : score=4.410, val_score=5.017, elasped=21.5s\n",
      "  [3/5] XGBoost    : score=0.621, val_score=6.662, elasped=5.3s\n",
      "  [4/5] LightGBM   : score=5.571, val_score=5.890, elasped=7.0s\n",
      "  [5/5] ExtraTrees : score=3.327, val_score=6.288, elasped=1.8s\n",
      "  Total(balanced): score=3.575, val_score=5.207, elasped=38.7s\n",
      "> [K-Fold] 5/5\n",
      "  [1/5] ElasticNet : score=4.958, val_score=7.364, elasped=3.0s\n",
      "  [2/5] CatBoost   : score=4.178, val_score=7.406, elasped=23.1s\n",
      "  [3/5] XGBoost    : score=0.821, val_score=8.786, elasped=3.9s\n",
      "  [4/5] LightGBM   : score=4.103, val_score=7.658, elasped=13.3s\n",
      "  [5/5] ExtraTrees : score=2.782, val_score=8.425, elasped=1.8s\n",
      "  Total(balanced): score=3.135, val_score=7.088, elasped=45.1s\n"
     ]
    },
    {
     "name": "stderr",
     "output_type": "stream",
     "text": [
      "Segment: mitsubishi, Length: 556: 100%|██████████| 20/20 [5:46:03<00:00, 1038.19s/it]"
     ]
    },
    {
     "name": "stdout",
     "output_type": "stream",
     "text": [
      "CPU times: user 1d 2h 28min 39s, sys: 2h 44min 14s, total: 1d 5h 12min 53s\n",
      "Wall time: 5h 46min 17s\n"
     ]
    },
    {
     "name": "stderr",
     "output_type": "stream",
     "text": [
      "\n"
     ]
    }
   ],
   "source": [
    "%%time\n",
    "# 6시간\n",
    "\n",
    "X = train_fn.drop(target_feature,axis=1)\n",
    "y = train_fn[target_feature]\n",
    "y = pd.Series(y.values.flatten())\n",
    "\n",
    "ohe = OneHotEncoder()\n",
    "ohe.fit(X,cat_features)\n",
    "X_oh = ohe.transform(X)\n",
    "\n",
    "segment_list = X['segment'].unique()\n",
    "\n",
    "models = {}\n",
    "feature_info = {}\n",
    "scores = []\n",
    "pbar = tqdm(segment_list)\n",
    "\n",
    "s_i = 0\n",
    "for segment in pbar:\n",
    "    s_i+=1\n",
    "    \n",
    "    # segment에 해당하는 데이터추출\n",
    "    _X    = X   [X   .segment==segment].drop('segment',axis=1)\n",
    "    _X_oh = X_oh[X_oh.segment==segment].drop('segment',axis=1)\n",
    "    _y    = y   [X   .segment==segment]\n",
    "    \n",
    "    # kfold\n",
    "    kf = KFold(n_splits=CFG.N_SPLITS,random_state=1000*s_i+CFG.SEED,shuffle=True)\n",
    "    \n",
    "    # unique인 컬럼 제외\n",
    "    # (1) X\n",
    "    unique_info = _X.nunique()\n",
    "    unique_cols = unique_info[unique_info==1].index.tolist()\n",
    "    if len(unique_cols)>0:\n",
    "        _X = _X.drop(unique_cols,axis=1)\n",
    "    # (2) X_oh\n",
    "    unique_info = _X_oh.nunique()\n",
    "    unique_cols = unique_info[unique_info==1].index.tolist()\n",
    "    if len(unique_cols)>0:\n",
    "        _X_oh = _X_oh.drop(unique_cols,axis=1)\n",
    "        \n",
    "    # categorical feature에서 unique인 컬럼을 제외\n",
    "    fixed_cat_features = [col for col in cat_features if col in _X.columns]\n",
    "    \n",
    "    # progress\n",
    "    progress = 'Segment: {}, Length: {}'\\\n",
    "        .format(segment,len(_X))\n",
    "    pbar.set_description(progress)\n",
    "    \n",
    "    _models = []\n",
    "    _scores = []\n",
    "    k=0\n",
    "    for tr_idx,val_idx in kf.split(_X,_y):\n",
    "        k+=1\n",
    "        print('> [K-Fold] {}/{}'.format(k,CFG.N_SPLITS))\n",
    "        \n",
    "        # kfold dataset\n",
    "        X_tr   , X_va    = _X   .iloc[tr_idx], _X   .iloc[val_idx]\n",
    "        X_tr_oh, X_va_oh = _X_oh.iloc[tr_idx], _X_oh.iloc[val_idx]\n",
    "        y_tr   , y_va    = _y   .iloc[tr_idx], _y   .iloc[val_idx]\n",
    "\n",
    "        # define the model\n",
    "        ensemble_model = WeightedEnsembleRegressor(\n",
    "            weight='balanced',\n",
    "            target_transformation=CFG.TARGET_TRANSFORMATION,\n",
    "        )\n",
    "\n",
    "        # fit the model\n",
    "        ensemble_model.fit(\n",
    "            X_tr,y_tr,\n",
    "            eval_set=[(X_va,y_va)],\n",
    "            oh_set=[(X_tr_oh,X_va_oh)],\n",
    "            cat_features=fixed_cat_features,\n",
    "            verbose=0,\n",
    "        )\n",
    "\n",
    "        # save the model\n",
    "        ensemble_model.save_model(f'./model_checkpoints/segment_weightedensemble/{segment}_k{k}.pickle')\n",
    "\n",
    "        # prediction\n",
    "        y_pred = ensemble_model.predict(X_va,X_va_oh).flatten()\n",
    "        y_true = y_va.values\n",
    "        \n",
    "        # caculate score\n",
    "        score = mean_absolute_error(y_true=y_true,y_pred=y_pred)\n",
    "        \n",
    "        # append inner loop\n",
    "        _models.append(ensemble_model)\n",
    "        _scores.append([segment,k,len(X_tr),len(X_va),score])\n",
    "\n",
    "    # append outer loop\n",
    "    models[segment] = _models\n",
    "    scores.append(_scores)\n",
    "    feature_info[segment] = {\n",
    "        'cat_features':fixed_cat_features,\n",
    "        'features':_X.columns.tolist(),\n",
    "        'oh_features':_X_oh.columns.tolist(),\n",
    "    }"
   ]
  },
  {
   "cell_type": "markdown",
   "id": "12a5be77-2d91-4769-a03e-99847998d583",
   "metadata": {},
   "source": [
    "<br>\n",
    "\n",
    "(2) ensemble regressor : 5.6351285819"
   ]
  },
  {
   "cell_type": "code",
   "execution_count": 50,
   "id": "4b710dcb-dde0-4416-a93b-3c39982bc89c",
   "metadata": {},
   "outputs": [
    {
     "name": "stderr",
     "output_type": "stream",
     "text": [
      "100%|██████████| 20/20 [00:59<00:00,  2.97s/it]\n"
     ]
    }
   ],
   "source": [
    "# inference\n",
    "X = train_fn.drop(target_feature,axis=1)\n",
    "y = train_fn[target_feature]\n",
    "\n",
    "X_test = test_fn.copy()\n",
    "\n",
    "ohe = OneHotEncoder()\n",
    "ohe.fit(X,cat_features)\n",
    "X_oh = ohe.transform(X)\n",
    "X_test_oh = ohe.transform(X_test)\n",
    "\n",
    "segment_list = X['segment'].unique()\n",
    "\n",
    "tr_pred_list = []\n",
    "te_pred_list = []\n",
    "for segment in tqdm(segment_list):\n",
    "    ## data load\n",
    "    # (1) train\n",
    "    train_data    = X   [X   .segment==segment][feature_info[segment]['features']]\n",
    "    train_data_oh = X_oh[X_oh.segment==segment][feature_info[segment]['oh_features']]\n",
    "    # (2) test\n",
    "    test_data     = X_test   [X_test   .segment==segment][feature_info[segment]['features']]\n",
    "    test_data_oh  = X_test_oh[X_test_oh.segment==segment][feature_info[segment]['oh_features']]\n",
    "    \n",
    "    ## model\n",
    "    kfold_models = models[segment]\n",
    "    \n",
    "    ## prediction\n",
    "    # (1) train\n",
    "    tr_pred_df = pd.DataFrame({\n",
    "        'true':y[X.segment==segment].values.flatten(),\n",
    "    })\n",
    "    for i in range(len(kfold_models)):\n",
    "        tr_pred_df[f'pred_{i+1}'] = kfold_models[i].predict(train_data,train_data_oh)\n",
    "    tr_pred_df.index = train_data.index\n",
    "    # (2) test\n",
    "    te_pred_df = pd.DataFrame()\n",
    "    for i in range(len(kfold_models)):\n",
    "        te_pred_df[f'pred_{i+1}'] = kfold_models[i].predict(test_data,test_data_oh)\n",
    "    te_pred_df.index = test_data.index\n",
    "        \n",
    "    ## target transformation\n",
    "    if CFG.TARGET_TRANSFORMATION:\n",
    "        tr_pred_df['true'] = np.exp(tr_pred_df['true'])\n",
    "    \n",
    "    ## append\n",
    "    tr_pred_list.append(tr_pred_df)\n",
    "    te_pred_list.append(te_pred_df)"
   ]
  },
  {
   "cell_type": "code",
   "execution_count": 51,
   "id": "1d0283f9-8f1f-44f4-9f7e-b5eba512d030",
   "metadata": {},
   "outputs": [],
   "source": [
    "# train\n",
    "tr_pred_df = pd.concat(tr_pred_list,axis=0).sort_index()\n",
    "te_pred_df = pd.concat(te_pred_list,axis=0).sort_index()"
   ]
  },
  {
   "cell_type": "code",
   "execution_count": 52,
   "id": "cca575b3-65b7-477d-9dc5-b09c658507b6",
   "metadata": {},
   "outputs": [],
   "source": [
    "tr_pred_df.to_parquet('./out/stacking/tr_pred_df_segment브랜드_ensemble_logy.parquet')\n",
    "te_pred_df.to_parquet('./out/stacking/te_pred_df_segment브랜드_ensemble_logy.parquet')"
   ]
  },
  {
   "cell_type": "markdown",
   "id": "11ae8dc4-9113-47de-8f98-8b5e394ec945",
   "metadata": {},
   "source": [
    "<br>\n",
    "\n",
    "Fitting"
   ]
  },
  {
   "cell_type": "code",
   "execution_count": 55,
   "id": "6d572d7e-cb17-43d7-bf93-15672aa7b1f9",
   "metadata": {},
   "outputs": [],
   "source": [
    "new_cat_features = cat_features + ['fuel_type']"
   ]
  },
  {
   "cell_type": "code",
   "execution_count": 56,
   "id": "9eaa2fe0-8480-43ca-8ad6-84fce10d0ab7",
   "metadata": {},
   "outputs": [],
   "source": [
    "# inference\n",
    "X = train_fn.drop(target_feature,axis=1)\n",
    "X = add_fuel_type(X,dummy_features)\n",
    "y = train_fn[target_feature]\n",
    "\n",
    "X_test = add_fuel_type(test_fn,dummy_features)\n",
    "\n",
    "segment_list = X['segment'].unique()\n",
    "\n",
    "# add predictions\n",
    "X      = pd.concat([X     ,tr_pred_df.drop('true',axis=1)],axis=1)\n",
    "X_test = pd.concat([X_test,te_pred_df],axis=1)"
   ]
  },
  {
   "cell_type": "code",
   "execution_count": 57,
   "id": "732a11d2-3378-4201-a9c6-59cc80511b53",
   "metadata": {},
   "outputs": [
    {
     "name": "stderr",
     "output_type": "stream",
     "text": [
      "Segment: [toyota], Size: [3,259], KFold: [1/5]:   5%|▌         | 1/20 [01:31<28:53, 91.26s/it]"
     ]
    },
    {
     "name": "stdout",
     "output_type": "stream",
     "text": [
      "Segment: skoda\n",
      "MAE's for 5-Fold: [[5.27930571 4.90646996 4.95128465 5.0047389  5.17197243]]\n",
      "Mean of MAE's for 5-Fold: [5.0628]\n"
     ]
    },
    {
     "name": "stderr",
     "output_type": "stream",
     "text": [
      "Segment: [mercedes-benz], Size: [2,899], KFold: [1/5]:  10%|█         | 2/20 [02:54<25:55, 86.43s/it]"
     ]
    },
    {
     "name": "stdout",
     "output_type": "stream",
     "text": [
      "Segment: toyota\n",
      "MAE's for 5-Fold: [[4.1059641  4.24671789 3.75450311 3.96244045 3.66441929]]\n",
      "Mean of MAE's for 5-Fold: [3.9468]\n"
     ]
    },
    {
     "name": "stderr",
     "output_type": "stream",
     "text": [
      "Segment: [nissan], Size: [2,129], KFold: [1/5]:  15%|█▌        | 3/20 [03:49<20:23, 71.97s/it]       "
     ]
    },
    {
     "name": "stdout",
     "output_type": "stream",
     "text": [
      "Segment: mercedes-benz\n",
      "MAE's for 5-Fold: [[5.73692497 6.14591915 6.48865678 6.39429582 6.10391945]]\n",
      "Mean of MAE's for 5-Fold: [6.1739]\n"
     ]
    },
    {
     "name": "stderr",
     "output_type": "stream",
     "text": [
      "Segment: [fiat], Size: [1,164], KFold: [1/5]:  20%|██        | 4/20 [05:06<19:42, 73.93s/it]  "
     ]
    },
    {
     "name": "stdout",
     "output_type": "stream",
     "text": [
      "Segment: nissan\n",
      "MAE's for 5-Fold: [[4.12319566 3.73352697 3.90533664 3.67839168 3.7707488 ]]\n",
      "Mean of MAE's for 5-Fold: [3.8422]\n"
     ]
    },
    {
     "name": "stderr",
     "output_type": "stream",
     "text": [
      "Segment: [audi], Size: [5,597], KFold: [1/5]:  25%|██▌       | 5/20 [06:00<16:42, 66.83s/it]"
     ]
    },
    {
     "name": "stdout",
     "output_type": "stream",
     "text": [
      "Segment: fiat\n",
      "MAE's for 5-Fold: [[3.93272142 3.91055964 4.55429733 3.56624039 3.23648   ]]\n",
      "Mean of MAE's for 5-Fold: [3.8401]\n"
     ]
    },
    {
     "name": "stderr",
     "output_type": "stream",
     "text": [
      "Segment: [renault], Size: [3,853], KFold: [1/5]:  30%|███       | 6/20 [07:42<18:25, 78.96s/it]"
     ]
    },
    {
     "name": "stdout",
     "output_type": "stream",
     "text": [
      "Segment: audi\n",
      "MAE's for 5-Fold: [[5.11681304 5.13208235 5.3393382  5.23660145 5.42451701]]\n",
      "Mean of MAE's for 5-Fold: [5.2499]\n"
     ]
    },
    {
     "name": "stderr",
     "output_type": "stream",
     "text": [
      "Segment: [volkswagen], Size: [5,693], KFold: [1/5]:  35%|███▌      | 7/20 [09:06<17:27, 80.56s/it]"
     ]
    },
    {
     "name": "stdout",
     "output_type": "stream",
     "text": [
      "Segment: renault\n",
      "MAE's for 5-Fold: [[3.77193083 3.7974503  3.63512774 4.05999892 3.65510841]]\n",
      "Mean of MAE's for 5-Fold: [3.7839]\n"
     ]
    },
    {
     "name": "stderr",
     "output_type": "stream",
     "text": [
      "Segment: [citroen], Size: [1,129], KFold: [1/5]:  40%|████      | 8/20 [10:54<17:52, 89.34s/it]   "
     ]
    },
    {
     "name": "stdout",
     "output_type": "stream",
     "text": [
      "Segment: volkswagen\n",
      "MAE's for 5-Fold: [[4.9663644  5.13881689 4.78717406 5.28666474 5.11191357]]\n",
      "Mean of MAE's for 5-Fold: [5.0582]\n"
     ]
    },
    {
     "name": "stderr",
     "output_type": "stream",
     "text": [
      "Segment: [bmw], Size: [5,262], KFold: [1/5]:  45%|████▌     | 9/20 [12:09<15:32, 84.75s/it]    "
     ]
    },
    {
     "name": "stdout",
     "output_type": "stream",
     "text": [
      "Segment: citroen\n",
      "MAE's for 5-Fold: [[2.71719183 2.84118522 3.30059667 2.91212396 2.93065417]]\n",
      "Mean of MAE's for 5-Fold: [2.9404]\n"
     ]
    },
    {
     "name": "stderr",
     "output_type": "stream",
     "text": [
      "Segment: [opel], Size: [6,651], KFold: [1/5]:  50%|█████     | 10/20 [13:33<14:06, 84.64s/it]"
     ]
    },
    {
     "name": "stdout",
     "output_type": "stream",
     "text": [
      "Segment: bmw\n",
      "MAE's for 5-Fold: [[6.21987335 6.48583752 6.10878835 6.21201522 6.12111121]]\n",
      "Mean of MAE's for 5-Fold: [6.2295]\n"
     ]
    },
    {
     "name": "stderr",
     "output_type": "stream",
     "text": [
      "Segment: [ford], Size: [5,819], KFold: [1/5]:  55%|█████▌    | 11/20 [15:25<13:56, 92.90s/it]"
     ]
    },
    {
     "name": "stdout",
     "output_type": "stream",
     "text": [
      "Segment: opel\n",
      "MAE's for 5-Fold: [[3.17475194 3.18970058 3.22454318 3.4379252  3.29834055]]\n",
      "Mean of MAE's for 5-Fold: [3.2651]\n"
     ]
    },
    {
     "name": "stderr",
     "output_type": "stream",
     "text": [
      "Segment: [mazda], Size: [1,572], KFold: [1/5]:  60%|██████    | 12/20 [17:07<12:45, 95.73s/it]"
     ]
    },
    {
     "name": "stdout",
     "output_type": "stream",
     "text": [
      "Segment: ford\n",
      "MAE's for 5-Fold: [[4.38357754 4.02076849 4.40466381 4.11414551 4.03365568]]\n",
      "Mean of MAE's for 5-Fold: [4.1914]\n"
     ]
    },
    {
     "name": "stderr",
     "output_type": "stream",
     "text": [
      "Segment: [honda], Size: [1,545], KFold: [1/5]:  65%|██████▌   | 13/20 [18:05<09:50, 84.34s/it]"
     ]
    },
    {
     "name": "stdout",
     "output_type": "stream",
     "text": [
      "Segment: mazda\n",
      "MAE's for 5-Fold: [[4.5910505  4.53268008 4.70581671 4.39916804 4.11595546]]\n",
      "Mean of MAE's for 5-Fold: [4.4689]\n"
     ]
    },
    {
     "name": "stderr",
     "output_type": "stream",
     "text": [
      "Segment: [kia], Size: [2,034], KFold: [1/5]:  70%|███████   | 14/20 [19:15<07:58, 79.83s/it]  "
     ]
    },
    {
     "name": "stdout",
     "output_type": "stream",
     "text": [
      "Segment: honda\n",
      "MAE's for 5-Fold: [[3.88189596 3.818      4.25205451 4.03519047 3.74412169]]\n",
      "Mean of MAE's for 5-Fold: [3.9463]\n"
     ]
    },
    {
     "name": "stderr",
     "output_type": "stream",
     "text": [
      "Segment: [seat], Size: [1,628], KFold: [1/5]:  75%|███████▌  | 15/20 [20:21<06:18, 75.77s/it]"
     ]
    },
    {
     "name": "stdout",
     "output_type": "stream",
     "text": [
      "Segment: kia\n",
      "MAE's for 5-Fold: [[3.87497878 4.04101242 4.46024407 4.66019195 4.59666032]]\n",
      "Mean of MAE's for 5-Fold: [4.3266]\n"
     ]
    },
    {
     "name": "stderr",
     "output_type": "stream",
     "text": [
      "Segment: [volvo], Size: [1,352], KFold: [1/5]:  80%|████████  | 16/20 [21:17<04:39, 69.91s/it]"
     ]
    },
    {
     "name": "stdout",
     "output_type": "stream",
     "text": [
      "Segment: seat\n",
      "MAE's for 5-Fold: [[3.89360661 3.54385652 3.43622616 3.01267999 3.51267578]]\n",
      "Mean of MAE's for 5-Fold: [3.4798]\n"
     ]
    },
    {
     "name": "stderr",
     "output_type": "stream",
     "text": [
      "Segment: [peugeot], Size: [793], KFold: [1/5]:  85%|████████▌ | 17/20 [22:10<03:14, 64.82s/it]"
     ]
    },
    {
     "name": "stdout",
     "output_type": "stream",
     "text": [
      "Segment: volvo\n",
      "MAE's for 5-Fold: [[6.02914565 5.78762835 5.60118503 5.87817962 6.77987783]]\n",
      "Mean of MAE's for 5-Fold: [6.0152]\n"
     ]
    },
    {
     "name": "stderr",
     "output_type": "stream",
     "text": [
      "Segment: [hyundai], Size: [1,855], KFold: [1/5]:  90%|█████████ | 18/20 [22:53<01:56, 58.15s/it]"
     ]
    },
    {
     "name": "stdout",
     "output_type": "stream",
     "text": [
      "Segment: peugeot\n",
      "MAE's for 5-Fold: [[3.54094552 3.70324212 4.39508426 3.94308584 4.20264149]]\n",
      "Mean of MAE's for 5-Fold: [3.9570]\n"
     ]
    },
    {
     "name": "stderr",
     "output_type": "stream",
     "text": [
      "Segment: [mitsubishi], Size: [556], KFold: [1/5]:  95%|█████████▌| 19/20 [24:05<01:02, 62.43s/it]"
     ]
    },
    {
     "name": "stdout",
     "output_type": "stream",
     "text": [
      "Segment: hyundai\n",
      "MAE's for 5-Fold: [[4.18520388 4.05813739 4.11325083 4.11431106 4.2249236 ]]\n",
      "Mean of MAE's for 5-Fold: [4.1392]\n"
     ]
    },
    {
     "name": "stderr",
     "output_type": "stream",
     "text": [
      "Segment: [mitsubishi], Size: [556], KFold: [5/5]: 100%|██████████| 20/20 [25:14<00:00, 75.72s/it]"
     ]
    },
    {
     "name": "stdout",
     "output_type": "stream",
     "text": [
      "Segment: mitsubishi\n",
      "MAE's for 5-Fold: [[4.61996615 4.34172456 4.27423513 3.79216799 5.54718853]]\n",
      "Mean of MAE's for 5-Fold: [4.5151]\n"
     ]
    },
    {
     "name": "stderr",
     "output_type": "stream",
     "text": [
      "\n"
     ]
    }
   ],
   "source": [
    "stacking_models = {}\n",
    "stacking_feature_info = {}\n",
    "stacking_scores = []\n",
    "pbar = tqdm(segment_list)\n",
    "\n",
    "s_i = 0\n",
    "for segment in pbar:\n",
    "    s_i+=1\n",
    "    \n",
    "    # segment에 해당하는 데이터추출\n",
    "    _X = X[X.segment==segment].drop('segment',axis=1)\n",
    "    _y = y[X.segment==segment]\n",
    "    \n",
    "    # kfold\n",
    "    kf = KFold(n_splits=CFG.N_SPLITS,random_state=1000*s_i+CFG.SEED,shuffle=True)\n",
    "    \n",
    "    # unique인 컬럼 제외\n",
    "    unique_info = _X.nunique()\n",
    "    unique_cols = unique_info[unique_info==1].index.tolist()\n",
    "    if len(unique_cols)>0:\n",
    "        _X = _X.drop(unique_cols,axis=1)\n",
    "        \n",
    "    # categorical feature에서 unique인 컬럼을 제외\n",
    "    fixed_cat_features = [col for col in new_cat_features if col in _X.columns]\n",
    "    \n",
    "    _models = []\n",
    "    _scores = []\n",
    "    k=0\n",
    "    for tr_idx,val_idx in kf.split(_X,_y):\n",
    "        k+=1\n",
    "        \n",
    "        # kfold dataset\n",
    "        X_tr, X_va = _X.iloc[tr_idx], _X.iloc[val_idx]\n",
    "        y_tr, y_va = _y.iloc[tr_idx], _y.iloc[val_idx]\n",
    "\n",
    "        # progress\n",
    "        progress = 'Segment: [{}], Size: [{:,}], KFold: [{}/{}]'\\\n",
    "            .format(segment,len(_X),k,CFG.N_SPLITS)\n",
    "        pbar.set_description(progress)\n",
    "\n",
    "        # dataset\n",
    "        train_dataset = Pool(X_tr,y_tr,cat_features=fixed_cat_features)\n",
    "        valid_dataset = Pool(X_va,y_va,cat_features=fixed_cat_features)\n",
    "\n",
    "        # define the model\n",
    "        model = CatBoostRegressor(\n",
    "            loss_function='MAE',\n",
    "            random_state=CFG.SEED,\n",
    "            iterations=CFG.EPOCHS,\n",
    "            learning_rate=CFG.LR,\n",
    "            allow_writing_files=False,\n",
    "        )\n",
    "\n",
    "        # fit the model\n",
    "        model.fit(\n",
    "            train_dataset,\n",
    "            eval_set=valid_dataset,\n",
    "            early_stopping_rounds=CFG.ES,\n",
    "            verbose=0,\n",
    "            #metric_period=CFG.EPOCHS//5,\n",
    "        )\n",
    "\n",
    "        # save the model\n",
    "        model.save_model(f'./model_checkpoints/segment_catboost/{segment}_k{k}.cbm')\n",
    "\n",
    "        # prediction\n",
    "        y_pred = model.predict(valid_dataset).flatten()\n",
    "        y_true = y_va.values\n",
    "        \n",
    "        # inverse transform\n",
    "        if CFG.TARGET_TRANSFORMATION:\n",
    "            y_pred = np.exp(y_pred)\n",
    "            y_true = np.exp(y_true)\n",
    "            \n",
    "        # calculate score\n",
    "        score = mean_absolute_error(y_true=y_true,y_pred=y_pred)\n",
    "        \n",
    "        # append inner loop\n",
    "        _models.append(model)\n",
    "        _scores.append([segment,k,len(X_tr),len(X_va),score])\n",
    "\n",
    "    # append outer loop\n",
    "    stacking_models[segment] = _models\n",
    "    stacking_scores.append(_scores)\n",
    "    stacking_feature_info[segment] = {'cat_features':fixed_cat_features,'features':_X.columns.tolist()}\n",
    "    \n",
    "    # score report\n",
    "    mean_score_report = pd.Series(np.array(_scores)[:,-1]).astype(float).mean()\n",
    "    print('Segment: {}'.format(segment))\n",
    "    print(\"MAE's for {}-Fold: [{}]\".format(CFG.N_SPLITS,np.array(pd.Series(np.array(_scores)[:,-1]).astype(float).values)))\n",
    "    print(\"Mean of MAE's for {}-Fold: [{:.4f}]\".format(CFG.N_SPLITS,mean_score_report))"
   ]
  },
  {
   "cell_type": "code",
   "execution_count": 58,
   "id": "46058e2e-3c47-48de-8040-3c5032f788d3",
   "metadata": {},
   "outputs": [],
   "source": [
    "import pickle\n",
    "with open('./model_checkpoints/segment_stacking_models_brand_kf.pkl', 'wb') as f:\n",
    "\tpickle.dump(stacking_models, f, protocol=pickle.HIGHEST_PROTOCOL)\n",
    "with open('./model_checkpoints/segment_stacking_feature_info_brand_kf.pkl', 'wb') as f:\n",
    "\tpickle.dump(stacking_feature_info, f, protocol=pickle.HIGHEST_PROTOCOL)\n",
    "with open('./model_checkpoints/segment_stacking_scores_brand_kf.pkl', 'wb') as f:\n",
    "\tpickle.dump(stacking_scores, f, protocol=pickle.HIGHEST_PROTOCOL)"
   ]
  },
  {
   "cell_type": "code",
   "execution_count": 59,
   "id": "98b52be1-e1c0-42f5-957d-d1b013899666",
   "metadata": {},
   "outputs": [
    {
     "data": {
      "text/html": [
       "<div>\n",
       "<style scoped>\n",
       "    .dataframe tbody tr th:only-of-type {\n",
       "        vertical-align: middle;\n",
       "    }\n",
       "\n",
       "    .dataframe tbody tr th {\n",
       "        vertical-align: top;\n",
       "    }\n",
       "\n",
       "    .dataframe thead th {\n",
       "        text-align: right;\n",
       "    }\n",
       "</style>\n",
       "<table border=\"1\" class=\"dataframe\">\n",
       "  <thead>\n",
       "    <tr style=\"text-align: right;\">\n",
       "      <th></th>\n",
       "      <th>segment</th>\n",
       "      <th>k</th>\n",
       "      <th>n_tr</th>\n",
       "      <th>n_val</th>\n",
       "      <th>score</th>\n",
       "    </tr>\n",
       "  </thead>\n",
       "  <tbody>\n",
       "    <tr>\n",
       "      <th>25</th>\n",
       "      <td>audi</td>\n",
       "      <td>1</td>\n",
       "      <td>4477</td>\n",
       "      <td>1120</td>\n",
       "      <td>5.116813041523893</td>\n",
       "    </tr>\n",
       "    <tr>\n",
       "      <th>26</th>\n",
       "      <td>audi</td>\n",
       "      <td>2</td>\n",
       "      <td>4477</td>\n",
       "      <td>1120</td>\n",
       "      <td>5.132082346353567</td>\n",
       "    </tr>\n",
       "    <tr>\n",
       "      <th>27</th>\n",
       "      <td>audi</td>\n",
       "      <td>3</td>\n",
       "      <td>4478</td>\n",
       "      <td>1119</td>\n",
       "      <td>5.33933819749306</td>\n",
       "    </tr>\n",
       "    <tr>\n",
       "      <th>28</th>\n",
       "      <td>audi</td>\n",
       "      <td>4</td>\n",
       "      <td>4478</td>\n",
       "      <td>1119</td>\n",
       "      <td>5.236601447964262</td>\n",
       "    </tr>\n",
       "    <tr>\n",
       "      <th>29</th>\n",
       "      <td>audi</td>\n",
       "      <td>5</td>\n",
       "      <td>4478</td>\n",
       "      <td>1119</td>\n",
       "      <td>5.424517007060739</td>\n",
       "    </tr>\n",
       "    <tr>\n",
       "      <th>45</th>\n",
       "      <td>bmw</td>\n",
       "      <td>1</td>\n",
       "      <td>4209</td>\n",
       "      <td>1053</td>\n",
       "      <td>6.219873353909377</td>\n",
       "    </tr>\n",
       "    <tr>\n",
       "      <th>46</th>\n",
       "      <td>bmw</td>\n",
       "      <td>2</td>\n",
       "      <td>4209</td>\n",
       "      <td>1053</td>\n",
       "      <td>6.4858375188657265</td>\n",
       "    </tr>\n",
       "    <tr>\n",
       "      <th>47</th>\n",
       "      <td>bmw</td>\n",
       "      <td>3</td>\n",
       "      <td>4210</td>\n",
       "      <td>1052</td>\n",
       "      <td>6.108788354488365</td>\n",
       "    </tr>\n",
       "    <tr>\n",
       "      <th>48</th>\n",
       "      <td>bmw</td>\n",
       "      <td>4</td>\n",
       "      <td>4210</td>\n",
       "      <td>1052</td>\n",
       "      <td>6.212015217673424</td>\n",
       "    </tr>\n",
       "    <tr>\n",
       "      <th>49</th>\n",
       "      <td>bmw</td>\n",
       "      <td>5</td>\n",
       "      <td>4210</td>\n",
       "      <td>1052</td>\n",
       "      <td>6.121111208745558</td>\n",
       "    </tr>\n",
       "  </tbody>\n",
       "</table>\n",
       "</div>"
      ],
      "text/plain": [
       "   segment  k  n_tr n_val               score\n",
       "25    audi  1  4477  1120   5.116813041523893\n",
       "26    audi  2  4477  1120   5.132082346353567\n",
       "27    audi  3  4478  1119    5.33933819749306\n",
       "28    audi  4  4478  1119   5.236601447964262\n",
       "29    audi  5  4478  1119   5.424517007060739\n",
       "45     bmw  1  4209  1053   6.219873353909377\n",
       "46     bmw  2  4209  1053  6.4858375188657265\n",
       "47     bmw  3  4210  1052   6.108788354488365\n",
       "48     bmw  4  4210  1052   6.212015217673424\n",
       "49     bmw  5  4210  1052   6.121111208745558"
      ]
     },
     "execution_count": 59,
     "metadata": {},
     "output_type": "execute_result"
    }
   ],
   "source": [
    "score_df = pd.DataFrame(\n",
    "    np.array(stacking_scores).reshape(len(stacking_scores)*5,5),\n",
    "    columns=['segment','k','n_tr','n_val','score']\n",
    ")\n",
    "\n",
    "score_df.sort_values(['segment','k']).head(10)"
   ]
  },
  {
   "cell_type": "code",
   "execution_count": 60,
   "id": "7cf56e57-6f26-419a-9fbe-4746126440f2",
   "metadata": {},
   "outputs": [],
   "source": [
    "# inference\n",
    "X = train_fn.drop(target_feature,axis=1)\n",
    "X = add_fuel_type(X,dummy_features)\n",
    "y = train_fn[target_feature]\n",
    "\n",
    "X_test = add_fuel_type(test_fn,dummy_features)\n",
    "\n",
    "segment_list = X['segment'].unique()\n",
    "\n",
    "# add predictions\n",
    "X      = pd.concat([X     ,tr_pred_df.drop('true',axis=1)],axis=1)\n",
    "X_test = pd.concat([X_test,te_pred_df],axis=1)"
   ]
  },
  {
   "cell_type": "code",
   "execution_count": 62,
   "id": "633313fb-66fc-4990-98ed-a6898187b9a6",
   "metadata": {},
   "outputs": [
    {
     "name": "stderr",
     "output_type": "stream",
     "text": [
      "100%|██████████| 20/20 [00:02<00:00,  8.31it/s]\n"
     ]
    }
   ],
   "source": [
    "tr_pred_list = []\n",
    "te_pred_list = []\n",
    "for segment in tqdm(segment_list):\n",
    "    ## data load\n",
    "    # (1) train\n",
    "    train_data = X[X.segment==segment][stacking_feature_info[segment]['features']]\n",
    "    train_dataset = Pool(train_data,cat_features=stacking_feature_info[segment]['cat_features'])\n",
    "    # (2) test\n",
    "    test_data = X_test[X_test.segment==segment][stacking_feature_info[segment]['features']]\n",
    "    test_dataset = Pool(test_data,cat_features=stacking_feature_info[segment]['cat_features'])\n",
    "    \n",
    "    ## model\n",
    "    kfold_models = stacking_models[segment]\n",
    "    \n",
    "    ## prediction\n",
    "    # (1) train\n",
    "    tr_pred_df = pd.DataFrame({\n",
    "        'segment':segment,\n",
    "        'true':y[X.segment==segment].values.flatten(),\n",
    "        'pred':np.mean([model.predict(train_dataset) for model in kfold_models],axis=0),\n",
    "        #'pred':np.sum([weight*model.predict(train_dataset) for weight,model in zip(kfold_weights,kfold_models)],axis=0),\n",
    "    })\n",
    "    tr_pred_df.index = train_data.index\n",
    "    # (2) test\n",
    "    te_pred_df = pd.DataFrame({\n",
    "        'segment':segment,\n",
    "        'pred':np.mean([model.predict(test_dataset) for model in kfold_models],axis=0),\n",
    "        #'pred':np.sum([weight*model.predict(test_dataset) for weight,model in zip(kfold_weights,kfold_models)],axis=0),\n",
    "    })\n",
    "    te_pred_df.index = test_data.index\n",
    "    \n",
    "    ## Target Transformation\n",
    "    if CFG.TARGET_TRANSFORMATION:\n",
    "        tr_pred_df['true'] = np.exp(tr_pred_df['true'])\n",
    "        tr_pred_df['pred'] = np.exp(tr_pred_df['pred'])\n",
    "        te_pred_df['pred'] = np.exp(te_pred_df['pred'])\n",
    "    \n",
    "    ## append\n",
    "    tr_pred_list.append(tr_pred_df)\n",
    "    te_pred_list.append(te_pred_df)"
   ]
  },
  {
   "cell_type": "code",
   "execution_count": 63,
   "id": "942c58da-a007-47a4-9502-a79bf2c3fc5c",
   "metadata": {},
   "outputs": [
    {
     "data": {
      "text/plain": [
       "3.9968174582656557"
      ]
     },
     "execution_count": 63,
     "metadata": {},
     "output_type": "execute_result"
    }
   ],
   "source": [
    "# train\n",
    "tr_pred_df = pd.concat(tr_pred_list,axis=0).sort_index()\n",
    "mean_absolute_error(y_true=tr_pred_df.true,y_pred=tr_pred_df.pred)"
   ]
  },
  {
   "cell_type": "code",
   "execution_count": 64,
   "id": "3e656b61-ccf0-4aae-aa53-627b78c83025",
   "metadata": {},
   "outputs": [
    {
     "data": {
      "text/html": [
       "<div>\n",
       "<style scoped>\n",
       "    .dataframe tbody tr th:only-of-type {\n",
       "        vertical-align: middle;\n",
       "    }\n",
       "\n",
       "    .dataframe tbody tr th {\n",
       "        vertical-align: top;\n",
       "    }\n",
       "\n",
       "    .dataframe thead th {\n",
       "        text-align: right;\n",
       "    }\n",
       "</style>\n",
       "<table border=\"1\" class=\"dataframe\">\n",
       "  <thead>\n",
       "    <tr style=\"text-align: right;\">\n",
       "      <th></th>\n",
       "      <th>segment</th>\n",
       "      <th>pred</th>\n",
       "    </tr>\n",
       "  </thead>\n",
       "  <tbody>\n",
       "    <tr>\n",
       "      <th>0</th>\n",
       "      <td>mazda</td>\n",
       "      <td>81.641591</td>\n",
       "    </tr>\n",
       "    <tr>\n",
       "      <th>1</th>\n",
       "      <td>ford</td>\n",
       "      <td>25.985464</td>\n",
       "    </tr>\n",
       "    <tr>\n",
       "      <th>2</th>\n",
       "      <td>volkswagen</td>\n",
       "      <td>88.979396</td>\n",
       "    </tr>\n",
       "    <tr>\n",
       "      <th>3</th>\n",
       "      <td>renault</td>\n",
       "      <td>122.918797</td>\n",
       "    </tr>\n",
       "    <tr>\n",
       "      <th>4</th>\n",
       "      <td>volvo</td>\n",
       "      <td>49.500418</td>\n",
       "    </tr>\n",
       "  </tbody>\n",
       "</table>\n",
       "</div>"
      ],
      "text/plain": [
       "      segment        pred\n",
       "0       mazda   81.641591\n",
       "1        ford   25.985464\n",
       "2  volkswagen   88.979396\n",
       "3     renault  122.918797\n",
       "4       volvo   49.500418"
      ]
     },
     "execution_count": 64,
     "metadata": {},
     "output_type": "execute_result"
    }
   ],
   "source": [
    "te_pred_df = pd.concat(te_pred_list,axis=0).sort_index()\n",
    "te_pred_df.head()"
   ]
  },
  {
   "cell_type": "code",
   "execution_count": 65,
   "id": "de78c476-5b8e-4361-9be4-d8d0b2afe6dd",
   "metadata": {},
   "outputs": [],
   "source": [
    "submit = pd.read_csv('./data/sample_submission.csv')\n",
    "submit['가격'] = te_pred_df.pred.values\n",
    "submit.to_csv('./out/16_ensemble_stacking_segment_브랜드_kfold_logy.csv',index=False)"
   ]
  }
 ],
 "metadata": {
  "kernelspec": {
   "display_name": "Python 3",
   "language": "python",
   "name": "python3"
  },
  "language_info": {
   "codemirror_mode": {
    "name": "ipython",
    "version": 3
   },
   "file_extension": ".py",
   "mimetype": "text/x-python",
   "name": "python",
   "nbconvert_exporter": "python",
   "pygments_lexer": "ipython3",
   "version": "3.8.10"
  },
  "toc-autonumbering": true
 },
 "nbformat": 4,
 "nbformat_minor": 5
}
