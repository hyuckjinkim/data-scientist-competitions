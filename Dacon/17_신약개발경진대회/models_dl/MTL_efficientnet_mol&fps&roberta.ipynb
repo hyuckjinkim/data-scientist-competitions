{
 "cells": [
  {
   "cell_type": "markdown",
   "id": "92441240",
   "metadata": {
    "id": "pYzhJrEibIlq"
   },
   "source": [
    "# Import"
   ]
  },
  {
   "cell_type": "code",
   "execution_count": 1,
   "id": "ab1d29cc",
   "metadata": {},
   "outputs": [],
   "source": [
    "# !pip install -q rdkit\n",
    "# !pip install -q albumentations\n",
    "# !pip install accelerate -U\n",
    "# !pip install -q tokenizer\n",
    "# !pip install -q transformer\n",
    "# !pip install -q tokenizers\n",
    "\n",
    "# import accelerate\n",
    "# accelerate.__version__"
   ]
  },
  {
   "cell_type": "code",
   "execution_count": 2,
   "id": "b3c60190",
   "metadata": {},
   "outputs": [],
   "source": [
    "import random\n",
    "import os\n",
    "\n",
    "from tqdm import tqdm\n",
    "\n",
    "import numpy as np\n",
    "import pandas as pd\n",
    "pd.set_option('mode.chained_assignment', None)\n",
    "\n",
    "import warnings\n",
    "warnings.simplefilter(action='ignore', category=pd.errors.PerformanceWarning)\n",
    "\n",
    "from sklearn.feature_selection import VarianceThreshold\n",
    "from sklearn.model_selection import train_test_split\n",
    "\n",
    "import matplotlib.pyplot as plt\n",
    "import seaborn as sns\n",
    "\n",
    "import torch\n",
    "import torch.nn as nn\n",
    "import torch.nn.functional as F\n",
    "from torch.utils.data import Dataset, DataLoader\n",
    "\n",
    "from rdkit import DataStructs\n",
    "from rdkit.Chem import PandasTools, AllChem"
   ]
  },
  {
   "cell_type": "code",
   "execution_count": 3,
   "id": "ce0b877e",
   "metadata": {},
   "outputs": [],
   "source": [
    "import os\n",
    "import random\n",
    "import numpy as np\n",
    "import torch\n",
    "\n",
    "def seed_everything(seed):\n",
    "    random.seed(seed)\n",
    "    os.environ['PYTHONHASHSEED'] = str(seed)\n",
    "    np.random.seed(seed)\n",
    "    torch.manual_seed(seed)\n",
    "    torch.cuda.manual_seed(seed)\n",
    "    torch.backends.cudnn.deterministic = True\n",
    "    torch.backends.cudnn.benchmark = True"
   ]
  },
  {
   "cell_type": "code",
   "execution_count": 4,
   "id": "50e1a996",
   "metadata": {},
   "outputs": [],
   "source": [
    "class CFG:\n",
    "    SEED = 0\n",
    "    IMG_SIZE = 224\n",
    "    BATCH_SIZE = 64\n",
    "    EPOCHS = 512\n",
    "    LEARNING_RATE = 0.003"
   ]
  },
  {
   "cell_type": "markdown",
   "id": "bceca9af",
   "metadata": {},
   "source": [
    "<br></br>"
   ]
  },
  {
   "cell_type": "markdown",
   "id": "234d8119",
   "metadata": {},
   "source": [
    "# Data Load"
   ]
  },
  {
   "cell_type": "code",
   "execution_count": 5,
   "id": "d1512992",
   "metadata": {},
   "outputs": [],
   "source": [
    "train_df = pd.read_csv('./data/train.csv')\n",
    "test_df  = pd.read_csv('./data/test.csv')"
   ]
  },
  {
   "cell_type": "code",
   "execution_count": 6,
   "id": "7a0c0aea",
   "metadata": {},
   "outputs": [
    {
     "data": {
      "text/html": [
       "<div>\n",
       "<style scoped>\n",
       "    .dataframe tbody tr th:only-of-type {\n",
       "        vertical-align: middle;\n",
       "    }\n",
       "\n",
       "    .dataframe tbody tr th {\n",
       "        vertical-align: top;\n",
       "    }\n",
       "\n",
       "    .dataframe thead th {\n",
       "        text-align: right;\n",
       "    }\n",
       "</style>\n",
       "<table border=\"1\" class=\"dataframe\">\n",
       "  <thead>\n",
       "    <tr style=\"text-align: right;\">\n",
       "      <th></th>\n",
       "      <th>id</th>\n",
       "      <th>SMILES</th>\n",
       "      <th>MLM</th>\n",
       "      <th>HLM</th>\n",
       "      <th>AlogP</th>\n",
       "      <th>Molecular_Weight</th>\n",
       "      <th>Num_H_Acceptors</th>\n",
       "      <th>Num_H_Donors</th>\n",
       "      <th>Num_RotatableBonds</th>\n",
       "      <th>LogD</th>\n",
       "      <th>Molecular_PolarSurfaceArea</th>\n",
       "    </tr>\n",
       "  </thead>\n",
       "  <tbody>\n",
       "    <tr>\n",
       "      <th>0</th>\n",
       "      <td>TRAIN_0000</td>\n",
       "      <td>CCOc1ccc(CNC(=O)c2cc(-c3sc(C)nc3C)n[nH]2)cc1OCC</td>\n",
       "      <td>26.010</td>\n",
       "      <td>50.680</td>\n",
       "      <td>3.259</td>\n",
       "      <td>400.495</td>\n",
       "      <td>5</td>\n",
       "      <td>2</td>\n",
       "      <td>8</td>\n",
       "      <td>3.259</td>\n",
       "      <td>117.37</td>\n",
       "    </tr>\n",
       "    <tr>\n",
       "      <th>1</th>\n",
       "      <td>TRAIN_0001</td>\n",
       "      <td>Cc1nc(C)c(CN2CC(C)C(=O)Nc3ccccc32)s1</td>\n",
       "      <td>29.270</td>\n",
       "      <td>50.590</td>\n",
       "      <td>2.169</td>\n",
       "      <td>301.407</td>\n",
       "      <td>2</td>\n",
       "      <td>1</td>\n",
       "      <td>2</td>\n",
       "      <td>2.172</td>\n",
       "      <td>73.47</td>\n",
       "    </tr>\n",
       "    <tr>\n",
       "      <th>2</th>\n",
       "      <td>TRAIN_0002</td>\n",
       "      <td>CCCN1CCN(c2nn3nnnc3c3ccccc23)CC1</td>\n",
       "      <td>5.586</td>\n",
       "      <td>80.892</td>\n",
       "      <td>1.593</td>\n",
       "      <td>297.358</td>\n",
       "      <td>5</td>\n",
       "      <td>0</td>\n",
       "      <td>3</td>\n",
       "      <td>1.585</td>\n",
       "      <td>62.45</td>\n",
       "    </tr>\n",
       "    <tr>\n",
       "      <th>3</th>\n",
       "      <td>TRAIN_0003</td>\n",
       "      <td>Cc1ccc(-c2ccc(-n3nc(C)c(S(=O)(=O)N4CCN(C5CCCCC...</td>\n",
       "      <td>5.710</td>\n",
       "      <td>2.000</td>\n",
       "      <td>4.771</td>\n",
       "      <td>494.652</td>\n",
       "      <td>6</td>\n",
       "      <td>0</td>\n",
       "      <td>5</td>\n",
       "      <td>3.475</td>\n",
       "      <td>92.60</td>\n",
       "    </tr>\n",
       "    <tr>\n",
       "      <th>4</th>\n",
       "      <td>TRAIN_0004</td>\n",
       "      <td>Cc1ccc2c(c1)N(C(=O)c1ccncc1)CC(C)O2</td>\n",
       "      <td>93.270</td>\n",
       "      <td>99.990</td>\n",
       "      <td>2.335</td>\n",
       "      <td>268.310</td>\n",
       "      <td>3</td>\n",
       "      <td>0</td>\n",
       "      <td>1</td>\n",
       "      <td>2.337</td>\n",
       "      <td>42.43</td>\n",
       "    </tr>\n",
       "  </tbody>\n",
       "</table>\n",
       "</div>"
      ],
      "text/plain": [
       "           id                                             SMILES     MLM  \\\n",
       "0  TRAIN_0000    CCOc1ccc(CNC(=O)c2cc(-c3sc(C)nc3C)n[nH]2)cc1OCC  26.010   \n",
       "1  TRAIN_0001               Cc1nc(C)c(CN2CC(C)C(=O)Nc3ccccc32)s1  29.270   \n",
       "2  TRAIN_0002                   CCCN1CCN(c2nn3nnnc3c3ccccc23)CC1   5.586   \n",
       "3  TRAIN_0003  Cc1ccc(-c2ccc(-n3nc(C)c(S(=O)(=O)N4CCN(C5CCCCC...   5.710   \n",
       "4  TRAIN_0004                Cc1ccc2c(c1)N(C(=O)c1ccncc1)CC(C)O2  93.270   \n",
       "\n",
       "      HLM  AlogP  Molecular_Weight  Num_H_Acceptors  Num_H_Donors  \\\n",
       "0  50.680  3.259           400.495                5             2   \n",
       "1  50.590  2.169           301.407                2             1   \n",
       "2  80.892  1.593           297.358                5             0   \n",
       "3   2.000  4.771           494.652                6             0   \n",
       "4  99.990  2.335           268.310                3             0   \n",
       "\n",
       "   Num_RotatableBonds   LogD  Molecular_PolarSurfaceArea  \n",
       "0                   8  3.259                      117.37  \n",
       "1                   2  2.172                       73.47  \n",
       "2                   3  1.585                       62.45  \n",
       "3                   5  3.475                       92.60  \n",
       "4                   1  2.337                       42.43  "
      ]
     },
     "execution_count": 6,
     "metadata": {},
     "output_type": "execute_result"
    }
   ],
   "source": [
    "train_df.head()"
   ]
  },
  {
   "cell_type": "markdown",
   "id": "09d08504",
   "metadata": {},
   "source": [
    "<br></br>"
   ]
  },
  {
   "cell_type": "markdown",
   "id": "1862c708",
   "metadata": {},
   "source": [
    "# EDA"
   ]
  },
  {
   "cell_type": "code",
   "execution_count": 7,
   "id": "ca36371c",
   "metadata": {},
   "outputs": [],
   "source": [
    "# train_df.describe()"
   ]
  },
  {
   "cell_type": "code",
   "execution_count": 8,
   "id": "3a022cd4",
   "metadata": {},
   "outputs": [],
   "source": [
    "# num_features = train_df.columns[train_df.dtypes!='object'].tolist()\n",
    "# for i,col in enumerate(num_features):\n",
    "\n",
    "#     fig = plt.figure(figsize=(15,7))\n",
    "#     fig.add_subplot(121)\n",
    "#     sns.histplot(train_df[col],bins=20)\n",
    "#     plt.grid()\n",
    "\n",
    "#     fig.add_subplot(122)\n",
    "#     sns.histplot(np.log(train_df[col]+1e-3),bins=20)\n",
    "#     plt.grid()\n",
    "\n",
    "#     plt.suptitle('[{}/{}] {}'.format(i+1,len(num_features),col))\n",
    "#     plt.tight_layout()\n",
    "#     plt.show()\n",
    "\n",
    "# # -> ['Molecular_Weight','Molecular_PolarSurfaceArea']"
   ]
  },
  {
   "cell_type": "code",
   "execution_count": 9,
   "id": "a2bbd372",
   "metadata": {},
   "outputs": [],
   "source": [
    "# cols = ['AlogP','Molecular_Weight','Num_H_Acceptors','Num_H_Donors','Num_RotatableBonds','LogD','Molecular_PolarSurfaceArea']\n",
    "# for col in cols:\n",
    "#     print(col)\n",
    "#     plt.figure(figsize=(15,7))\n",
    "#     sns.scatterplot(x=train_df[col],y=train_df['HLM'])\n",
    "#     plt.grid()\n",
    "#     plt.show()"
   ]
  },
  {
   "cell_type": "code",
   "execution_count": 10,
   "id": "2aa50187",
   "metadata": {},
   "outputs": [],
   "source": [
    "# cols = ['Num_H_Acceptors','Num_H_Donors','Num_RotatableBonds']\n",
    "# for col in cols:\n",
    "#     print(col)\n",
    "#     plt.figure(figsize=(15,7))\n",
    "#     sns.boxplot(x=train_df[col],y=train_df.MLM)\n",
    "#     plt.show()"
   ]
  },
  {
   "cell_type": "code",
   "execution_count": 11,
   "id": "57e234ef",
   "metadata": {},
   "outputs": [],
   "source": [
    "# train_df.nunique()"
   ]
  },
  {
   "cell_type": "code",
   "execution_count": 12,
   "id": "edb32452",
   "metadata": {},
   "outputs": [],
   "source": [
    "# lists = sorted(train_df['Num_H_Acceptors'].unique())\n",
    "# for v in lists:\n",
    "#     print('########',v)\n",
    "#     d = train_df[train_df['Num_H_Acceptors']==v]\n",
    "    \n",
    "#     cols = ['AlogP','Molecular_Weight','Num_H_Acceptors','Num_H_Donors','Num_RotatableBonds','LogD','Molecular_PolarSurfaceArea']\n",
    "#     for col in cols:\n",
    "#         print(col)\n",
    "#         plt.figure(figsize=(15,7))\n",
    "#         sns.scatterplot(x=d[col],y=d['HLM'])\n",
    "#         plt.grid()\n",
    "#         plt.show()"
   ]
  },
  {
   "cell_type": "markdown",
   "id": "4d685267",
   "metadata": {},
   "source": [
    "<br></br>"
   ]
  },
  {
   "cell_type": "markdown",
   "id": "d576c0fb",
   "metadata": {},
   "source": [
    "# Pre-Processing"
   ]
  },
  {
   "cell_type": "markdown",
   "id": "daf240ed",
   "metadata": {},
   "source": [
    "<br>"
   ]
  },
  {
   "cell_type": "markdown",
   "id": "1f3f50dd",
   "metadata": {},
   "source": [
    "## Set target range to [0,100]"
   ]
  },
  {
   "cell_type": "markdown",
   "id": "6e740976",
   "metadata": {},
   "source": [
    "- [Dacon](https://dacon.io/competitions/official/236127/talkboard/409051?page=1&dtype=recent)에 따르면 100이 넘는 값도 나올 수 있음"
   ]
  },
  {
   "cell_type": "code",
   "execution_count": 13,
   "id": "a52287b6",
   "metadata": {},
   "outputs": [],
   "source": [
    "# targets = ['MLM','HLM']\n",
    "# for t in targets:\n",
    "#     train_df[t] = [0 if x<0 else\n",
    "#                    100 if x>100 else\n",
    "#                    x for x in train_df[t]]"
   ]
  },
  {
   "cell_type": "markdown",
   "id": "f1fb92eb",
   "metadata": {},
   "source": [
    "<br>"
   ]
  },
  {
   "cell_type": "markdown",
   "id": "e3ea69d8",
   "metadata": {},
   "source": [
    "## Make molecule features"
   ]
  },
  {
   "cell_type": "code",
   "execution_count": 14,
   "id": "20816bf1",
   "metadata": {
    "id": "oXOFfJVW22DL"
   },
   "outputs": [],
   "source": [
    "# Molecule to MorganFingerprint\n",
    "def mol2fp(mol):\n",
    "    #radius, nBits = 6, 4096\n",
    "    radius, nBits = 12, (2**10)*3\n",
    "    fp = AllChem.GetHashedMorganFingerprint(mol, radius=radius, nBits=nBits)\n",
    "    ar = np.zeros((1,), dtype=np.int8)\n",
    "    DataStructs.ConvertToNumpyArray(fp, ar)\n",
    "    return ar"
   ]
  },
  {
   "cell_type": "code",
   "execution_count": 15,
   "id": "aec77ffe",
   "metadata": {
    "id": "7KbqRv6I19Rg"
   },
   "outputs": [],
   "source": [
    "# (1) SMILES를 통해 Molecule(분자구조) 생성\n",
    "PandasTools.AddMoleculeColumnToFrame(train_df,'SMILES','Molecule')\n",
    "PandasTools.AddMoleculeColumnToFrame(test_df ,'SMILES','Molecule')"
   ]
  },
  {
   "cell_type": "code",
   "execution_count": 16,
   "id": "380bfee4",
   "metadata": {},
   "outputs": [],
   "source": [
    "from sklearn.feature_selection import VarianceThreshold"
   ]
  },
  {
   "cell_type": "code",
   "execution_count": 17,
   "id": "bde21ed0",
   "metadata": {
    "id": "1MTlg0wx22DM"
   },
   "outputs": [],
   "source": [
    "# (2) Morgan Fingerprint column 추가\n",
    "train_df[\"FPs\"] = train_df.Molecule.apply(mol2fp)\n",
    "test_df [\"FPs\"] = test_df .Molecule.apply(mol2fp)"
   ]
  },
  {
   "cell_type": "code",
   "execution_count": 18,
   "id": "9ab16847",
   "metadata": {},
   "outputs": [
    {
     "name": "stdout",
     "output_type": "stream",
     "text": [
      "62\n"
     ]
    }
   ],
   "source": [
    "# (3) Morgan Fingerprint 중, variance가 0.05보다 작은 컬럼들을 지우기\n",
    "feature_select = VarianceThreshold(threshold=0.20)\n",
    "\n",
    "# 일부사용\n",
    "tr_fps_selected = feature_select.fit_transform(np.stack(train_df['FPs']))\n",
    "te_fps_selected = feature_select.transform(np.stack(test_df['FPs']))\n",
    "print(tr_fps_selected.shape[1])\n",
    "\n",
    "# # 전체사용\n",
    "# tr_fps_selected = np.stack(train_df['FPs'])\n",
    "# te_fps_selected = np.stack(test_df ['FPs'])\n",
    "\n",
    "fps_names = ['fps'+str(i+1) for i in range(tr_fps_selected.shape[1])]\n",
    "\n",
    "train_df = pd.concat([train_df,pd.DataFrame(tr_fps_selected,columns=fps_names)],axis=1)\n",
    "test_df  = pd.concat([test_df ,pd.DataFrame(te_fps_selected,columns=fps_names)],axis=1)"
   ]
  },
  {
   "cell_type": "code",
   "execution_count": 19,
   "id": "7d9d172c",
   "metadata": {},
   "outputs": [],
   "source": [
    "# 사용할 column만 추출\n",
    "features = ['AlogP','Molecular_Weight','Num_H_Acceptors','Num_H_Donors',\n",
    "            'Num_RotatableBonds','LogD','Molecular_PolarSurfaceArea']\n",
    "fps_feature = 'FPs'\n",
    "smiles_feature = 'SMILES'\n",
    "targets  = ['MLM','HLM']\n",
    "\n",
    "train_df = train_df[features+fps_names+[fps_feature,smiles_feature]+targets] #fps_names\n",
    "test_df  = test_df [features+fps_names+[fps_feature,smiles_feature]]          #fps_names"
   ]
  },
  {
   "cell_type": "code",
   "execution_count": 20,
   "id": "89d6ff92",
   "metadata": {},
   "outputs": [
    {
     "data": {
      "text/plain": [
       "(3498, 73)"
      ]
     },
     "execution_count": 20,
     "metadata": {},
     "output_type": "execute_result"
    }
   ],
   "source": [
    "train_df.shape"
   ]
  },
  {
   "cell_type": "code",
   "execution_count": 21,
   "id": "0f283896",
   "metadata": {},
   "outputs": [
    {
     "data": {
      "text/html": [
       "<div>\n",
       "<style scoped>\n",
       "    .dataframe tbody tr th:only-of-type {\n",
       "        vertical-align: middle;\n",
       "    }\n",
       "\n",
       "    .dataframe tbody tr th {\n",
       "        vertical-align: top;\n",
       "    }\n",
       "\n",
       "    .dataframe thead th {\n",
       "        text-align: right;\n",
       "    }\n",
       "</style>\n",
       "<table border=\"1\" class=\"dataframe\">\n",
       "  <thead>\n",
       "    <tr style=\"text-align: right;\">\n",
       "      <th></th>\n",
       "      <th>AlogP</th>\n",
       "      <th>Molecular_Weight</th>\n",
       "      <th>Num_H_Acceptors</th>\n",
       "      <th>Num_H_Donors</th>\n",
       "      <th>Num_RotatableBonds</th>\n",
       "      <th>LogD</th>\n",
       "      <th>Molecular_PolarSurfaceArea</th>\n",
       "      <th>fps1</th>\n",
       "      <th>fps2</th>\n",
       "      <th>fps3</th>\n",
       "      <th>...</th>\n",
       "      <th>fps57</th>\n",
       "      <th>fps58</th>\n",
       "      <th>fps59</th>\n",
       "      <th>fps60</th>\n",
       "      <th>fps61</th>\n",
       "      <th>fps62</th>\n",
       "      <th>FPs</th>\n",
       "      <th>SMILES</th>\n",
       "      <th>MLM</th>\n",
       "      <th>HLM</th>\n",
       "    </tr>\n",
       "  </thead>\n",
       "  <tbody>\n",
       "    <tr>\n",
       "      <th>0</th>\n",
       "      <td>3.259</td>\n",
       "      <td>400.495</td>\n",
       "      <td>5</td>\n",
       "      <td>2</td>\n",
       "      <td>8</td>\n",
       "      <td>3.259</td>\n",
       "      <td>117.37</td>\n",
       "      <td>4</td>\n",
       "      <td>1</td>\n",
       "      <td>1</td>\n",
       "      <td>...</td>\n",
       "      <td>0</td>\n",
       "      <td>4</td>\n",
       "      <td>0</td>\n",
       "      <td>0</td>\n",
       "      <td>0</td>\n",
       "      <td>0</td>\n",
       "      <td>[0, 0, 0, 0, 0, 0, 0, 0, 0, 0, 0, 0, 0, 0, 0, ...</td>\n",
       "      <td>CCOc1ccc(CNC(=O)c2cc(-c3sc(C)nc3C)n[nH]2)cc1OCC</td>\n",
       "      <td>26.010</td>\n",
       "      <td>50.680</td>\n",
       "    </tr>\n",
       "    <tr>\n",
       "      <th>1</th>\n",
       "      <td>2.169</td>\n",
       "      <td>301.407</td>\n",
       "      <td>2</td>\n",
       "      <td>1</td>\n",
       "      <td>2</td>\n",
       "      <td>2.172</td>\n",
       "      <td>73.47</td>\n",
       "      <td>3</td>\n",
       "      <td>1</td>\n",
       "      <td>0</td>\n",
       "      <td>...</td>\n",
       "      <td>0</td>\n",
       "      <td>4</td>\n",
       "      <td>0</td>\n",
       "      <td>1</td>\n",
       "      <td>1</td>\n",
       "      <td>1</td>\n",
       "      <td>[0, 0, 0, 0, 0, 0, 0, 1, 0, 0, 1, 0, 0, 0, 0, ...</td>\n",
       "      <td>Cc1nc(C)c(CN2CC(C)C(=O)Nc3ccccc32)s1</td>\n",
       "      <td>29.270</td>\n",
       "      <td>50.590</td>\n",
       "    </tr>\n",
       "    <tr>\n",
       "      <th>2</th>\n",
       "      <td>1.593</td>\n",
       "      <td>297.358</td>\n",
       "      <td>5</td>\n",
       "      <td>0</td>\n",
       "      <td>3</td>\n",
       "      <td>1.585</td>\n",
       "      <td>62.45</td>\n",
       "      <td>1</td>\n",
       "      <td>0</td>\n",
       "      <td>0</td>\n",
       "      <td>...</td>\n",
       "      <td>0</td>\n",
       "      <td>4</td>\n",
       "      <td>0</td>\n",
       "      <td>4</td>\n",
       "      <td>3</td>\n",
       "      <td>0</td>\n",
       "      <td>[0, 0, 0, 0, 0, 0, 0, 0, 0, 0, 0, 0, 0, 0, 0, ...</td>\n",
       "      <td>CCCN1CCN(c2nn3nnnc3c3ccccc23)CC1</td>\n",
       "      <td>5.586</td>\n",
       "      <td>80.892</td>\n",
       "    </tr>\n",
       "    <tr>\n",
       "      <th>3</th>\n",
       "      <td>4.771</td>\n",
       "      <td>494.652</td>\n",
       "      <td>6</td>\n",
       "      <td>0</td>\n",
       "      <td>5</td>\n",
       "      <td>3.475</td>\n",
       "      <td>92.60</td>\n",
       "      <td>3</td>\n",
       "      <td>0</td>\n",
       "      <td>0</td>\n",
       "      <td>...</td>\n",
       "      <td>0</td>\n",
       "      <td>6</td>\n",
       "      <td>2</td>\n",
       "      <td>9</td>\n",
       "      <td>3</td>\n",
       "      <td>1</td>\n",
       "      <td>[0, 1, 0, 0, 0, 0, 0, 0, 0, 0, 0, 0, 0, 0, 0, ...</td>\n",
       "      <td>Cc1ccc(-c2ccc(-n3nc(C)c(S(=O)(=O)N4CCN(C5CCCCC...</td>\n",
       "      <td>5.710</td>\n",
       "      <td>2.000</td>\n",
       "    </tr>\n",
       "    <tr>\n",
       "      <th>4</th>\n",
       "      <td>2.335</td>\n",
       "      <td>268.310</td>\n",
       "      <td>3</td>\n",
       "      <td>0</td>\n",
       "      <td>1</td>\n",
       "      <td>2.337</td>\n",
       "      <td>42.43</td>\n",
       "      <td>2</td>\n",
       "      <td>0</td>\n",
       "      <td>0</td>\n",
       "      <td>...</td>\n",
       "      <td>0</td>\n",
       "      <td>7</td>\n",
       "      <td>0</td>\n",
       "      <td>1</td>\n",
       "      <td>1</td>\n",
       "      <td>1</td>\n",
       "      <td>[0, 0, 0, 0, 0, 0, 0, 0, 0, 0, 0, 0, 0, 0, 0, ...</td>\n",
       "      <td>Cc1ccc2c(c1)N(C(=O)c1ccncc1)CC(C)O2</td>\n",
       "      <td>93.270</td>\n",
       "      <td>99.990</td>\n",
       "    </tr>\n",
       "  </tbody>\n",
       "</table>\n",
       "<p>5 rows × 73 columns</p>\n",
       "</div>"
      ],
      "text/plain": [
       "   AlogP  Molecular_Weight  Num_H_Acceptors  Num_H_Donors  Num_RotatableBonds  \\\n",
       "0  3.259           400.495                5             2                   8   \n",
       "1  2.169           301.407                2             1                   2   \n",
       "2  1.593           297.358                5             0                   3   \n",
       "3  4.771           494.652                6             0                   5   \n",
       "4  2.335           268.310                3             0                   1   \n",
       "\n",
       "    LogD  Molecular_PolarSurfaceArea  fps1  fps2  fps3  ...  fps57  fps58  \\\n",
       "0  3.259                      117.37     4     1     1  ...      0      4   \n",
       "1  2.172                       73.47     3     1     0  ...      0      4   \n",
       "2  1.585                       62.45     1     0     0  ...      0      4   \n",
       "3  3.475                       92.60     3     0     0  ...      0      6   \n",
       "4  2.337                       42.43     2     0     0  ...      0      7   \n",
       "\n",
       "   fps59  fps60  fps61  fps62  \\\n",
       "0      0      0      0      0   \n",
       "1      0      1      1      1   \n",
       "2      0      4      3      0   \n",
       "3      2      9      3      1   \n",
       "4      0      1      1      1   \n",
       "\n",
       "                                                 FPs  \\\n",
       "0  [0, 0, 0, 0, 0, 0, 0, 0, 0, 0, 0, 0, 0, 0, 0, ...   \n",
       "1  [0, 0, 0, 0, 0, 0, 0, 1, 0, 0, 1, 0, 0, 0, 0, ...   \n",
       "2  [0, 0, 0, 0, 0, 0, 0, 0, 0, 0, 0, 0, 0, 0, 0, ...   \n",
       "3  [0, 1, 0, 0, 0, 0, 0, 0, 0, 0, 0, 0, 0, 0, 0, ...   \n",
       "4  [0, 0, 0, 0, 0, 0, 0, 0, 0, 0, 0, 0, 0, 0, 0, ...   \n",
       "\n",
       "                                              SMILES     MLM     HLM  \n",
       "0    CCOc1ccc(CNC(=O)c2cc(-c3sc(C)nc3C)n[nH]2)cc1OCC  26.010  50.680  \n",
       "1               Cc1nc(C)c(CN2CC(C)C(=O)Nc3ccccc32)s1  29.270  50.590  \n",
       "2                   CCCN1CCN(c2nn3nnnc3c3ccccc23)CC1   5.586  80.892  \n",
       "3  Cc1ccc(-c2ccc(-n3nc(C)c(S(=O)(=O)N4CCN(C5CCCCC...   5.710   2.000  \n",
       "4                Cc1ccc2c(c1)N(C(=O)c1ccncc1)CC(C)O2  93.270  99.990  \n",
       "\n",
       "[5 rows x 73 columns]"
      ]
     },
     "execution_count": 21,
     "metadata": {},
     "output_type": "execute_result"
    }
   ],
   "source": [
    "train_df.head()"
   ]
  },
  {
   "cell_type": "markdown",
   "id": "9328a4d1",
   "metadata": {},
   "source": [
    "<br>"
   ]
  },
  {
   "cell_type": "markdown",
   "id": "be495c49",
   "metadata": {},
   "source": [
    "## Imputaion"
   ]
  },
  {
   "cell_type": "code",
   "execution_count": 22,
   "id": "8143f29d",
   "metadata": {},
   "outputs": [],
   "source": [
    "from sklearn.impute import SimpleImputer"
   ]
  },
  {
   "cell_type": "code",
   "execution_count": 23,
   "id": "98920777",
   "metadata": {},
   "outputs": [],
   "source": [
    "def null_check(data):\n",
    "    d = data.copy()\n",
    "    null_info = d.isnull().sum()\n",
    "    null_info = null_info[null_info!=0]\n",
    "    display(null_info)"
   ]
  },
  {
   "cell_type": "code",
   "execution_count": 24,
   "id": "606fe8ac",
   "metadata": {},
   "outputs": [
    {
     "name": "stdout",
     "output_type": "stream",
     "text": [
      "> train\n"
     ]
    },
    {
     "data": {
      "text/plain": [
       "AlogP    2\n",
       "dtype: int64"
      ]
     },
     "metadata": {},
     "output_type": "display_data"
    },
    {
     "name": "stdout",
     "output_type": "stream",
     "text": [
      "> test\n"
     ]
    },
    {
     "data": {
      "text/plain": [
       "AlogP    1\n",
       "dtype: int64"
      ]
     },
     "metadata": {},
     "output_type": "display_data"
    }
   ],
   "source": [
    "print('> train')\n",
    "null_check(train_df)\n",
    "\n",
    "print('> test')\n",
    "null_check(test_df)"
   ]
  },
  {
   "cell_type": "code",
   "execution_count": 25,
   "id": "c1e5c551",
   "metadata": {},
   "outputs": [],
   "source": [
    "# Imputation\n",
    "tr_null_loc = train_df.AlogP.isnull()\n",
    "te_null_loc = test_df .AlogP.isnull()\n",
    "\n",
    "train_df.AlogP[tr_null_loc] = train_df.LogD[tr_null_loc]\n",
    "test_df .AlogP[te_null_loc] = test_df .LogD[te_null_loc]"
   ]
  },
  {
   "cell_type": "code",
   "execution_count": 26,
   "id": "97fc0b3d",
   "metadata": {},
   "outputs": [
    {
     "name": "stdout",
     "output_type": "stream",
     "text": [
      "> train\n"
     ]
    },
    {
     "data": {
      "text/plain": [
       "Series([], dtype: int64)"
      ]
     },
     "metadata": {},
     "output_type": "display_data"
    },
    {
     "name": "stdout",
     "output_type": "stream",
     "text": [
      "> test\n"
     ]
    },
    {
     "data": {
      "text/plain": [
       "Series([], dtype: int64)"
      ]
     },
     "metadata": {},
     "output_type": "display_data"
    }
   ],
   "source": [
    "print('> train')\n",
    "null_check(train_df)\n",
    "\n",
    "print('> test')\n",
    "null_check(test_df)"
   ]
  },
  {
   "cell_type": "markdown",
   "id": "5b572255",
   "metadata": {},
   "source": [
    "<br>"
   ]
  },
  {
   "cell_type": "markdown",
   "id": "c2e184ce",
   "metadata": {},
   "source": [
    "## Train Test Split"
   ]
  },
  {
   "cell_type": "code",
   "execution_count": 27,
   "id": "3ccb2b5c",
   "metadata": {},
   "outputs": [],
   "source": [
    "from sklearn.model_selection import train_test_split"
   ]
  },
  {
   "cell_type": "code",
   "execution_count": 28,
   "id": "e91e9760",
   "metadata": {},
   "outputs": [],
   "source": [
    "tr_df, va_df = train_test_split(train_df,test_size=0.2,shuffle=True,random_state=CFG.SEED)\n",
    "te_df = test_df.copy()"
   ]
  },
  {
   "cell_type": "code",
   "execution_count": 29,
   "id": "38409877",
   "metadata": {},
   "outputs": [
    {
     "data": {
      "text/plain": [
       "(2798, 700, 483)"
      ]
     },
     "execution_count": 29,
     "metadata": {},
     "output_type": "execute_result"
    }
   ],
   "source": [
    "len(tr_df), len(va_df), len(te_df)"
   ]
  },
  {
   "cell_type": "markdown",
   "id": "9d0c7cd0",
   "metadata": {},
   "source": [
    "<br>"
   ]
  },
  {
   "cell_type": "markdown",
   "id": "67ee444f",
   "metadata": {},
   "source": [
    "## Scaling"
   ]
  },
  {
   "cell_type": "code",
   "execution_count": 30,
   "id": "c92ca37b",
   "metadata": {},
   "outputs": [],
   "source": [
    "from sklearn.preprocessing import MinMaxScaler\n",
    "\n",
    "scaling_features = features+fps_names\n",
    "scalers = {}\n",
    "for f in scaling_features:\n",
    "    scaler = MinMaxScaler(feature_range=(-1,1))\n",
    "    tr_df[f] = scaler.fit_transform(np.array(tr_df[f]).reshape(-1,1))\n",
    "    va_df[f] = scaler.transform(np.array(va_df[f]).reshape(-1,1))\n",
    "    te_df[f] = scaler.transform(np.array(te_df[f]).reshape(-1,1))\n",
    "    scalers[f] = scaler"
   ]
  },
  {
   "cell_type": "markdown",
   "id": "4443f63a",
   "metadata": {},
   "source": [
    "<br>"
   ]
  },
  {
   "cell_type": "markdown",
   "id": "756620df",
   "metadata": {},
   "source": [
    "## Interaction Term"
   ]
  },
  {
   "cell_type": "code",
   "execution_count": 31,
   "id": "19759bcb",
   "metadata": {},
   "outputs": [],
   "source": [
    "import warnings\n",
    "from tqdm import trange\n",
    "\n",
    "def get_abs_corr(x,y):\n",
    "    return np.abs(np.corrcoef(x,y))[0,1]\n",
    "\n",
    "class InteractionTerm:\n",
    "    def __init__(self):\n",
    "        pass\n",
    "    \n",
    "    def fit(self,data,num_features,corr_cutoff=0.7):\n",
    "        warnings.simplefilter(action='ignore', category=pd.errors.PerformanceWarning)\n",
    "        warnings.filterwarnings(\"ignore\", category=RuntimeWarning)\n",
    "        \n",
    "        d = data.copy()\n",
    "        self.interaction_list = []\n",
    "        for i in trange(len(num_features),desc='fitting...'):\n",
    "            for j in range(len(num_features)):\n",
    "                if i>j:\n",
    "                    col_i = num_features[i]\n",
    "                    col_j = num_features[j]\n",
    "                    \n",
    "                    # 상관계수가 cutoff보다 큰 경우에는 interaction을 생성하지 않음\n",
    "                    if (get_abs_corr(d[col_i]*d[col_j],d[col_i])>=corr_cutoff) | (get_abs_corr(d[col_i]*d[col_j],d[col_j])>=corr_cutoff):\n",
    "                        pass\n",
    "                    else:\n",
    "                        self.interaction_list.append(f'{col_i}*{col_j}')\n",
    "    \n",
    "    def transform(self,data):\n",
    "        d = data.copy()\n",
    "        print('> the number of interaction term:',len(self.interaction_list))\n",
    "        for interaction in self.interaction_list:\n",
    "            col_i,col_j = interaction.split('*')\n",
    "            d[interaction] = d[col_i]*d[col_j]\n",
    "        return d\n",
    "    \n",
    "    def fit_transform(self,data,num_features,corr_cutoff=0.7):\n",
    "        self.fit(data,num_features,corr_cutoff)\n",
    "        return self.transform(data)"
   ]
  },
  {
   "cell_type": "code",
   "execution_count": 32,
   "id": "8c174661",
   "metadata": {},
   "outputs": [],
   "source": [
    "# num_features = features + fps_features"
   ]
  },
  {
   "cell_type": "code",
   "execution_count": 33,
   "id": "c4c817a5",
   "metadata": {},
   "outputs": [],
   "source": [
    "# interaction_maker = InteractionTerm()\n",
    "# interaction_maker.fit(\n",
    "#     data=tr_df,\n",
    "#     num_features=num_features,\n",
    "#     corr_cutoff=0.15,\n",
    "# )\n",
    "# tr_df = interaction_maker.transform(tr_df)\n",
    "# va_df = interaction_maker.transform(va_df)\n",
    "# te_df = interaction_maker.transform(te_df)"
   ]
  },
  {
   "cell_type": "code",
   "execution_count": 34,
   "id": "de34c17e",
   "metadata": {},
   "outputs": [
    {
     "data": {
      "text/plain": [
       "(2798, 73)"
      ]
     },
     "execution_count": 34,
     "metadata": {},
     "output_type": "execute_result"
    }
   ],
   "source": [
    "tr_df.shape"
   ]
  },
  {
   "cell_type": "markdown",
   "id": "68fb337e",
   "metadata": {},
   "source": [
    "<br>"
   ]
  },
  {
   "cell_type": "markdown",
   "id": "b27b5924",
   "metadata": {},
   "source": [
    "## Target Transformation"
   ]
  },
  {
   "cell_type": "code",
   "execution_count": 35,
   "id": "915e4b4a",
   "metadata": {},
   "outputs": [],
   "source": [
    "# for t in targets:\n",
    "#     tr_df[t] = np.log(tr_df[t]+1e-3)\n",
    "#     va_df[t] = np.log(va_df[t]+1e-3)\n",
    "\n",
    "# def inverse_transform(x):\n",
    "#     return torch.exp(x)-1e-3"
   ]
  },
  {
   "cell_type": "code",
   "execution_count": 36,
   "id": "b0222e9b",
   "metadata": {},
   "outputs": [],
   "source": [
    "# from scipy.special import boxcox, inv_boxcox\n",
    "\n",
    "# def boxcox_transform(x):\n",
    "#     _lambda = 0.25\n",
    "#     return boxcox(x,_lambda)\n",
    "\n",
    "# def inverse_boxcox_transform(x):\n",
    "#     _lambda = 0.25\n",
    "#     return inv_boxcox(x,_lambda)\n",
    "\n",
    "# tr_df[targets] = tr_df[targets].apply(boxcox_transform)\n",
    "# va_df[targets] = va_df[targets].apply(boxcox_transform)"
   ]
  },
  {
   "cell_type": "code",
   "execution_count": 37,
   "id": "f23af8e3",
   "metadata": {},
   "outputs": [],
   "source": [
    "inverse_transform = None"
   ]
  },
  {
   "cell_type": "markdown",
   "id": "438327de",
   "metadata": {},
   "source": [
    "<br>"
   ]
  },
  {
   "cell_type": "markdown",
   "id": "dfc99869",
   "metadata": {},
   "source": [
    "## Truncated SVD\n",
    "- 참조 : [Kaggle](https://www.kaggle.com/code/xiafire/lb-t15-msci-multiome-catboostregressor)"
   ]
  },
  {
   "cell_type": "code",
   "execution_count": 38,
   "id": "c38ce45d",
   "metadata": {},
   "outputs": [
    {
     "data": {
      "text/plain": [
       "62"
      ]
     },
     "execution_count": 38,
     "metadata": {},
     "output_type": "execute_result"
    }
   ],
   "source": [
    "len(fps_names)"
   ]
  },
  {
   "cell_type": "code",
   "execution_count": 39,
   "id": "a0e9d7a3",
   "metadata": {},
   "outputs": [],
   "source": [
    "n_components = 16"
   ]
  },
  {
   "cell_type": "code",
   "execution_count": 40,
   "id": "fec6e1c3",
   "metadata": {},
   "outputs": [
    {
     "name": "stdout",
     "output_type": "stream",
     "text": [
      "0.637733933201836\n"
     ]
    }
   ],
   "source": [
    "from sklearn.decomposition import PCA, TruncatedSVD\n",
    "from sklearn.preprocessing import StandardScaler\n",
    "\n",
    "# features = train_df.columns.difference(CFG.TARGET+cat_features)\n",
    "features = fps_names\n",
    "for col in features:\n",
    "    scaler = StandardScaler()\n",
    "    train_df[col] = scaler.fit_transform(np.array(train_df[col]).reshape(-1,1))\n",
    "    test_df [col] = scaler.transform(np.array(test_df[col]).reshape(-1,1))\n",
    "    \n",
    "train_input = train_df[features]\n",
    "test_input  = test_df [features]\n",
    "\n",
    "pca_input = TruncatedSVD(n_components=n_components, random_state=CFG.SEED)\n",
    "train_input = pca_input.fit_transform(train_input)\n",
    "test_input  = pca_input.fit_transform(test_input)\n",
    "print(pca_input.explained_variance_ratio_.sum())\n",
    "\n",
    "train_df.drop(features,axis=1,inplace=True)\n",
    "test_df .drop(features,axis=1,inplace=True)\n",
    "\n",
    "for i,(tr_value,te_value) in enumerate(zip(train_input.T,test_input.T)):\n",
    "    train_df[f'tsvd_{i+1}'] = tr_value\n",
    "    test_df [f'tsvd_{i+1}'] = te_value"
   ]
  },
  {
   "cell_type": "code",
   "execution_count": 41,
   "id": "9dc983f4",
   "metadata": {},
   "outputs": [
    {
     "data": {
      "image/png": "[encoded data removed]",
      "text/plain": [
       "<Figure size 1500x700 with 1 Axes>"
      ]
     },
     "metadata": {},
     "output_type": "display_data"
    }
   ],
   "source": [
    "plt.figure(figsize=(15,7))\n",
    "sns.scatterplot(x=train_df['tsvd_1'],y=train_df['HLM'])\n",
    "plt.grid()\n",
    "plt.show()"
   ]
  },
  {
   "cell_type": "markdown",
   "id": "e2fb6165",
   "metadata": {},
   "source": [
    "<br></br>"
   ]
  },
  {
   "cell_type": "markdown",
   "id": "7ec52335",
   "metadata": {},
   "source": [
    "# Tokenizer Save"
   ]
  },
  {
   "cell_type": "code",
   "execution_count": 42,
   "id": "adf14947",
   "metadata": {},
   "outputs": [],
   "source": [
    "def mkdir(paths):\n",
    "    if isinstance(paths,str):\n",
    "        paths = [paths]\n",
    "    for path in paths:\n",
    "        if not os.path.exists(path):\n",
    "            os.mkdir(path)"
   ]
  },
  {
   "cell_type": "code",
   "execution_count": 43,
   "id": "c1d5fe22",
   "metadata": {},
   "outputs": [],
   "source": [
    "train_df['SMILES'].to_csv('./out/smiles.txt',index=False,header=False)"
   ]
  },
  {
   "cell_type": "markdown",
   "id": "2eac3f04",
   "metadata": {},
   "source": [
    "## Huggingface Tokenizer\n",
    "- [참조](https://wikidocs.net/99893)"
   ]
  },
  {
   "cell_type": "code",
   "execution_count": 53,
   "id": "e442c482",
   "metadata": {},
   "outputs": [],
   "source": [
    "from tokenizers.implementations import ByteLevelBPETokenizer, BertWordPieceTokenizer, CharBPETokenizer, SentencePieceBPETokenizer\n",
    "from tokenizers.processors import BertProcessing"
   ]
  },
  {
   "cell_type": "code",
   "execution_count": 54,
   "id": "e7320769",
   "metadata": {},
   "outputs": [],
   "source": [
    "# ByteLevelBPETokenizer, BertWordPieceTokenizer, CharBPETokenizer, SentencePieceBPETokenizer\n",
    "Tokenizer = ByteLevelBPETokenizer\n",
    "Tokenizer_name = Tokenizer.__name__\n",
    "mkdir('./mc/{}'.format(Tokenizer_name))"
   ]
  },
  {
   "cell_type": "code",
   "execution_count": 55,
   "id": "c19be376",
   "metadata": {},
   "outputs": [
    {
     "name": "stdout",
     "output_type": "stream",
     "text": [
      "\n",
      "\n",
      "\n"
     ]
    },
    {
     "data": {
      "text/plain": [
       "<bound method BaseTokenizer.save of Tokenizer(vocabulary_size=259, model=ByteLevelBPE, add_prefix_space=False, lowercase=False, dropout=None, unicode_normalizer=None, continuing_subword_prefix=None, end_of_word_suffix=None, trim_offsets=False)>"
      ]
     },
     "execution_count": 55,
     "metadata": {},
     "output_type": "execute_result"
    }
   ],
   "source": [
    "# (1) ByteLevelBPETokenizer\n",
    "vocab_size = 200\n",
    "special_tokens = [\"<s>\",\"<PAD>\",\"<MASK>\"]\n",
    "\n",
    "tokenizer = Tokenizer(lowercase=False)\n",
    "tokenizer.train('./out/smiles.txt', vocab_size=vocab_size, min_frequency=1, special_tokens=special_tokens)\n",
    "tokenizer.save_model('./mc/{}'.format(Tokenizer_name))\n",
    "\n",
    "tokenizer = Tokenizer(\n",
    "    \"./mc/{}/vocab.json\".format(Tokenizer_name),\n",
    "    \"./mc/{}/merges.txt\".format(Tokenizer_name),\n",
    ")\n",
    "\n",
    "tokenizer._tokenizer.post_processor = BertProcessing(\n",
    "    (\"<PAD>\" , tokenizer.token_to_id(\"<PAD>\")),\n",
    "    (\"<MASK>\", tokenizer.token_to_id(\"<MASK>\")),\n",
    ")\n",
    "\n",
    "tokenizer.enable_padding(length=200)\n",
    "tokenizer.save"
   ]
  },
  {
   "cell_type": "code",
   "execution_count": 56,
   "id": "20db8dc7",
   "metadata": {},
   "outputs": [],
   "source": [
    "# # (2) BertWordPieceTokenizer\n",
    "# vocab_size = 200\n",
    "# special_tokens = [\"<s>\",\"<PAD>\",\"<MASK>\"]\n",
    "\n",
    "# tokenizer = Tokenizer(lowercase=False)\n",
    "# tokenizer.train('./out/smiles.txt', vocab_size=vocab_size, min_frequency=1, special_tokens=special_tokens)\n",
    "# tokenizer.save_model('./mc/{}'.format(Tokenizer_name))"
   ]
  },
  {
   "cell_type": "code",
   "execution_count": 57,
   "id": "98517b94",
   "metadata": {},
   "outputs": [],
   "source": [
    "# # (3) CharBPETokenizer\n",
    "# vocab_size = 200\n",
    "# special_tokens = [\"<s>\",\"<PAD>\",\"<MASK>\",\"<unk>\"]\n",
    "\n",
    "# tokenizer = Tokenizer(lowercase=False)\n",
    "# tokenizer.train('./out/smiles.txt', vocab_size=vocab_size, min_frequency=1, special_tokens=special_tokens)\n",
    "# tokenizer.save_model('./mc/{}'.format(Tokenizer_name))\n",
    "\n",
    "# tokenizer = Tokenizer(\n",
    "#     \"./mc/{}/vocab.json\".format(Tokenizer_name),\n",
    "#     \"./mc/{}/merges.txt\".format(Tokenizer_name),\n",
    "# )\n",
    "\n",
    "# tokenizer._tokenizer.post_processor = BertProcessing(\n",
    "#     (\"<PAD>\" , tokenizer.token_to_id(\"<PAD>\")),\n",
    "#     (\"<MASK>\", tokenizer.token_to_id(\"<MASK>\")),\n",
    "# )\n",
    "\n",
    "# tokenizer.enable_padding(length=200)\n",
    "# tokenizer.save"
   ]
  },
  {
   "cell_type": "code",
   "execution_count": 58,
   "id": "bf1de0f7",
   "metadata": {},
   "outputs": [],
   "source": [
    "# # (4) SentencePieceBPETokenizer\n",
    "# vocab_size = 200\n",
    "# special_tokens = [\"<s>\",\"<PAD>\",\"<MASK>\"]\n",
    "\n",
    "# tokenizer = Tokenizer()\n",
    "# tokenizer.train('./out/smiles.txt', vocab_size=vocab_size, min_frequency=1, special_tokens=special_tokens)\n",
    "# tokenizer.save_model('./mc/{}'.format(Tokenizer_name))"
   ]
  },
  {
   "cell_type": "markdown",
   "id": "031d8fd9",
   "metadata": {},
   "source": [
    "(check)"
   ]
  },
  {
   "cell_type": "code",
   "execution_count": 59,
   "id": "6b69c2bf",
   "metadata": {},
   "outputs": [],
   "source": [
    "# s = tr_df.SMILES.values[0]\n",
    "# print(s)\n",
    "# encoded = tokenizer.encode(s)\n",
    "# for token,ids in zip(encoded.tokens,encoded.ids):\n",
    "#     print(token,ids)"
   ]
  },
  {
   "cell_type": "code",
   "execution_count": 60,
   "id": "d27d6e0e",
   "metadata": {},
   "outputs": [],
   "source": [
    "# ids_list = []\n",
    "# for s in tqdm(te_df.SMILES.values):\n",
    "#     encoded = tokenizer.encode(s)\n",
    "#     ids_list.append(encoded.ids)"
   ]
  },
  {
   "cell_type": "markdown",
   "id": "50e68f30",
   "metadata": {},
   "source": [
    "<br>"
   ]
  },
  {
   "cell_type": "markdown",
   "id": "ebe1ae9e",
   "metadata": {},
   "source": [
    "## SmilesPE & selfies\n",
    "- [참조](https://xinhaoli74.github.io/SmilesPE/), [Github](https://github.com/XinhaoLi74/SmilesPE/blob/master/Examples/train_SPE.ipynb)\n",
    "- → embedding model train이 필요함"
   ]
  },
  {
   "cell_type": "code",
   "execution_count": 61,
   "id": "abdf0d6f",
   "metadata": {},
   "outputs": [],
   "source": [
    "# import os\n",
    "# os.environ[\"TOKENIZERS_PARALLELISM\"] = \"false\""
   ]
  },
  {
   "cell_type": "code",
   "execution_count": 62,
   "id": "ec1d297d",
   "metadata": {},
   "outputs": [],
   "source": [
    "# !pip install -q SmilesPE\n",
    "# !pip install -q selfies"
   ]
  },
  {
   "cell_type": "code",
   "execution_count": 63,
   "id": "a0bdc21b",
   "metadata": {},
   "outputs": [],
   "source": [
    "# from SmilesPE.pretokenizer import kmer_tokenizer\n",
    "# import selfies"
   ]
  },
  {
   "cell_type": "code",
   "execution_count": 64,
   "id": "7f0d6c19",
   "metadata": {},
   "outputs": [],
   "source": [
    "# import codecs\n",
    "# from SmilesPE.learner import *\n",
    "\n",
    "# smiles = train_df['SMILES']\n",
    "# output = codecs.open('./out/SPE_ChEMBL.txt', 'w')\n",
    "# learn_SPE(smiles, output, num_symbols=200, min_frequency=1, augmentation=1, verbose=True, total_symbols=True)"
   ]
  },
  {
   "cell_type": "code",
   "execution_count": 65,
   "id": "16bcb7be",
   "metadata": {},
   "outputs": [],
   "source": [
    "# from SmilesPE.tokenizer import *\n",
    "\n",
    "# spe_vob = codecs.open('./out/SPE_ChEMBL.txt')\n",
    "# spe = SPE_Tokenizer(spe_vob)\n",
    "\n",
    "# smi = 'CC[N+](C)(C)Cc1ccccc1Br'\n",
    "# spe.tokenize(smi)"
   ]
  },
  {
   "cell_type": "code",
   "execution_count": 66,
   "id": "4001afc1",
   "metadata": {},
   "outputs": [],
   "source": [
    "# smiles = train_df['SMILES'].values\n",
    "# s = smiles[0]\n",
    "# # s = 'CC[N+](C)(C)Cc1ccccc1Br'\n",
    "# kmer_tokenizer(selfies.encoder(s),ngram=4)"
   ]
  },
  {
   "cell_type": "markdown",
   "id": "595f4e86",
   "metadata": {},
   "source": [
    "<br></br>"
   ]
  },
  {
   "cell_type": "markdown",
   "id": "6727ca60",
   "metadata": {},
   "source": [
    "# Custom Dataset"
   ]
  },
  {
   "cell_type": "code",
   "execution_count": 67,
   "id": "daf238a1",
   "metadata": {},
   "outputs": [],
   "source": [
    "from rdkit import Chem\n",
    "from rdkit.Chem import Draw\n",
    "\n",
    "class CustomDataset(Dataset):\n",
    "    def __init__(self, data, targets, smiles, fps, fps_maximum, tokenizer, transforms=[None,None], is_test=False):\n",
    "        self.data = data.copy()\n",
    "        self.targets = targets\n",
    "        self.smiles = smiles\n",
    "        self.fps = fps\n",
    "        self.tokenizer = tokenizer\n",
    "        self.smiles_transforms, self.fps_transforms = transforms\n",
    "        self.is_test = is_test\n",
    "        \n",
    "        self.smiles_features = []\n",
    "        for s in tqdm(data[smiles].values,desc='Setup SMILES... '):\n",
    "            m = Chem.MolFromSmiles(s)\n",
    "            img = Draw.MolToImage(m)#, size=(224,224))\n",
    "            img = np.array(img)\n",
    "            if self.smiles_transforms is not None:\n",
    "                img = self.smiles_transforms(image=img)['image']\n",
    "            self.smiles_features.append(img)\n",
    "        self.smiles_features = torch.stack(self.smiles_features)\n",
    "        \n",
    "        fps_values = (np.stack(data[fps])/fps_maximum)*255 # max -> 255\n",
    "        self.fps_features = []\n",
    "        for f in fps_values:\n",
    "            img = f.reshape(32,32,3)\n",
    "            if self.fps_transforms is not None:\n",
    "                img = self.fps_transforms(image=img)['image']\n",
    "            self.fps_features.append(img)\n",
    "        \n",
    "        self.embedding = []\n",
    "        for s in data[smiles].values:\n",
    "            encoded = self.tokenizer.encode(s)\n",
    "            self.embedding.append(encoded.ids)\n",
    "            \n",
    "        if not self.is_test:\n",
    "            self.target_features = self.data[self.targets].values\n",
    "            self.num_features = self.data.drop(columns=targets+[fps,smiles],axis=1).values\n",
    "        else:\n",
    "            self.num_features = self.data.drop(columns=[fps,smiles],axis=1).values\n",
    "\n",
    "    def __getitem__(self, index):\n",
    "        if self.is_test:\n",
    "            return (\n",
    "                torch.Tensor(self.num_features[index]),\n",
    "                torch.Tensor(self.smiles_features[index]),\n",
    "                torch.Tensor(self.fps_features[index]),\n",
    "                torch.tensor(self.embedding[index]),\n",
    "            )\n",
    "        else:\n",
    "            return (\n",
    "                torch.Tensor(self.num_features[index]),\n",
    "                torch.Tensor(self.smiles_features[index]),\n",
    "                torch.Tensor(self.fps_features[index]),\n",
    "                torch.tensor(self.embedding[index]),\n",
    "                torch.Tensor(self.target_features[index]),\n",
    "            )\n",
    "        \n",
    "    def __len__(self):\n",
    "        return len(self.data)"
   ]
  },
  {
   "cell_type": "code",
   "execution_count": 68,
   "id": "4dbafb0b",
   "metadata": {},
   "outputs": [],
   "source": [
    "import albumentations as A\n",
    "from albumentations.pytorch.transforms import ToTensorV2\n",
    "import torchvision.models as models"
   ]
  },
  {
   "cell_type": "code",
   "execution_count": 69,
   "id": "4595343a",
   "metadata": {},
   "outputs": [],
   "source": [
    "# import matplotlib.pyplot as plt\n",
    "\n",
    "# # (1) smiles\n",
    "# s = tr_df['SMILES'].values[0]\n",
    "# m = Chem.MolFromSmiles(s)\n",
    "# img = Draw.MolToImage(m)#, size=(224,224))\n",
    "# img = np.array(img)\n",
    "# img = smiles_transform(image=img)['image']\n",
    "# img.shape\n",
    "# plt.imshow(img.T)\n",
    "\n",
    "# # (2) fps\n",
    "# fps_maximum = max(np.stack(tr_df.FPs).max(),np.stack(te_df.FPs).max())\n",
    "# fps_value = (np.stack(tr_df['FPs'])/fps_maximum)*255 # max -> 255\n",
    "\n",
    "# f = fps_value[0]\n",
    "# img = f.reshape(32,32,3)\n",
    "# img = img.astype(np.float32)\n",
    "# img = fps_transform(image=img)['image']\n",
    "# plt.imshow(img.T)"
   ]
  },
  {
   "cell_type": "code",
   "execution_count": 70,
   "id": "62872edc",
   "metadata": {},
   "outputs": [],
   "source": [
    "#  이미지 변환\n",
    "smiles_transform = A.Compose([\n",
    "    A.Resize(CFG.IMG_SIZE,CFG.IMG_SIZE),\n",
    "    A.ToGray(p=1),\n",
    "    A.Normalize(mean=(0.485, 0.456, 0.406), std=(0.229, 0.224, 0.225), max_pixel_value=255.0, always_apply=False, p=1.0),\n",
    "    ToTensorV2(),\n",
    "])\n",
    "\n",
    "fps_transform = A.Compose([\n",
    "    A.Resize(CFG.IMG_SIZE,CFG.IMG_SIZE),\n",
    "    #A.ToGray(p=1),\n",
    "    A.Normalize(mean=(0.485, 0.456, 0.406), std=(0.229, 0.224, 0.225), max_pixel_value=255.0, always_apply=False, p=1.0),\n",
    "    ToTensorV2(),\n",
    "])"
   ]
  },
  {
   "cell_type": "code",
   "execution_count": 71,
   "id": "6591efd9",
   "metadata": {},
   "outputs": [
    {
     "name": "stderr",
     "output_type": "stream",
     "text": [
      "Setup SMILES... : 100%|██████████| 2798/2798 [00:23<00:00, 116.96it/s]\n",
      "Setup SMILES... : 100%|██████████| 700/700 [00:05<00:00, 117.12it/s]\n",
      "Setup SMILES... : 100%|██████████| 483/483 [00:04<00:00, 117.52it/s]\n"
     ]
    }
   ],
   "source": [
    "fps_maximum = max(np.stack(tr_df.FPs).max(),np.stack(te_df.FPs).max())\n",
    "transform = [smiles_transform,fps_transform]\n",
    "\n",
    "train_dataset = CustomDataset(tr_df, ['MLM','HLM'], 'SMILES', 'FPs', fps_maximum, tokenizer, transform, False)\n",
    "val_dataset   = CustomDataset(va_df, ['MLM','HLM'], 'SMILES', 'FPs', fps_maximum, tokenizer, transform, False)\n",
    "test_dataset  = CustomDataset(te_df, ['MLM','HLM'], 'SMILES', 'FPs', fps_maximum, tokenizer, transform, True)"
   ]
  },
  {
   "cell_type": "code",
   "execution_count": 72,
   "id": "df1f7073",
   "metadata": {},
   "outputs": [],
   "source": [
    "CFG.BATCH_SIZE = 64"
   ]
  },
  {
   "cell_type": "code",
   "execution_count": 73,
   "id": "308d932c",
   "metadata": {},
   "outputs": [],
   "source": [
    "train_loader = DataLoader(train_dataset, batch_size=CFG.BATCH_SIZE, shuffle=False, pin_memory=True, num_workers=0)\n",
    "val_loader   = DataLoader(val_dataset  , batch_size=CFG.BATCH_SIZE, shuffle=False, pin_memory=True, num_workers=0)\n",
    "test_loader  = DataLoader(test_dataset , batch_size=CFG.BATCH_SIZE, shuffle=False, pin_memory=True, num_workers=0)"
   ]
  },
  {
   "cell_type": "code",
   "execution_count": 91,
   "id": "e0da8434",
   "metadata": {},
   "outputs": [],
   "source": [
    "# [feat for feat,mol,fps,emb,target in train_loader][0]\n",
    "# [mol for feat,mol,fps,emb in test_loader][0]"
   ]
  },
  {
   "cell_type": "code",
   "execution_count": 92,
   "id": "d8c62841",
   "metadata": {},
   "outputs": [],
   "source": [
    "# import matplotlib.pyplot as plt\n",
    "\n",
    "# _img = [fps for feat,mol,fps,target in train_loader][0][0].numpy()\n",
    "# plt.imshow(_img.T)"
   ]
  },
  {
   "cell_type": "markdown",
   "id": "48780cd2",
   "metadata": {},
   "source": [
    "<br></br>"
   ]
  },
  {
   "cell_type": "markdown",
   "id": "20437685",
   "metadata": {
    "id": "8CHzFfvrbnOM"
   },
   "source": [
    "# Modeling"
   ]
  },
  {
   "cell_type": "markdown",
   "id": "3c6ed2d0",
   "metadata": {},
   "source": [
    "## Define Model"
   ]
  },
  {
   "cell_type": "code",
   "execution_count": 93,
   "id": "8debd1d7",
   "metadata": {},
   "outputs": [],
   "source": [
    "import torchvision.models as models\n",
    "from copy import deepcopy"
   ]
  },
  {
   "cell_type": "code",
   "execution_count": 94,
   "id": "6a9fd88a",
   "metadata": {},
   "outputs": [],
   "source": [
    "# class MultiTaskModel(nn.Module):\n",
    "#     def __init__(self, feature_input_size, output_size, hidden_size, dropout_rate):\n",
    "#         super(MultiTaskModel, self).__init__()\n",
    "#         self.feature_output_size = 500\n",
    "#         self.dropout_rate = dropout_rate\n",
    "        \n",
    "#         # BatchNorm1d\n",
    "#         self.feature_layer = nn.Sequential(\n",
    "#             nn.Linear(feature_input_size,hidden_size),\n",
    "#             #nn.BatchNorm1d(hidden_size),\n",
    "#             nn.LeakyReLU(0.1),\n",
    "#             #nn.Dropout(self.dropout_rate),\n",
    "            \n",
    "#             nn.Linear(hidden_size,hidden_size),\n",
    "#             #nn.BatchNorm1d(hidden_size),\n",
    "#             nn.LeakyReLU(0.1),\n",
    "#             #nn.Dropout(self.dropout_rate),\n",
    "            \n",
    "#             # nn.Linear(hidden_size,hidden_size),\n",
    "#             # nn.BatchNorm1d(hidden_size),\n",
    "#             # nn.LeakyReLU(0.1),\n",
    "#             # nn.Dropout(self.dropout_rate),\n",
    "            \n",
    "#             # nn.Linear(hidden_size,hidden_size),\n",
    "#             # nn.BatchNorm1d(hidden_size),\n",
    "#             # nn.LeakyReLU(0.1),\n",
    "#             # nn.Dropout(self.dropout_rate),\n",
    "            \n",
    "#             # nn.Linear(hidden_size,hidden_size),\n",
    "#         )\n",
    "#         self.mlm_layer = deepcopy(self.feature_layer)\n",
    "#         self.hlm_layer = deepcopy(self.feature_layer)\n",
    "        \n",
    "#         fc_input_size = 2*hidden_size\n",
    "#         self.fc = nn.Sequential(\n",
    "#             nn.Linear(fc_input_size,fc_input_size//2),\n",
    "#             #nn.BatchNorm1d(fc_input_size//2),\n",
    "#             nn.LeakyReLU(0.1),\n",
    "#             #nn.Dropout(self.dropout_rate),\n",
    "#             # nn.Linear(fc_input_size//2,fc_input_size//4),\n",
    "#             # nn.BatchNorm1d(fc_input_size//4),\n",
    "#             # nn.LeakyReLU(0.1),\n",
    "#             # nn.Dropout(self.dropout_rate),\n",
    "#             # nn.Linear(fc_input_size//4,fc_input_size//8),\n",
    "#             # nn.BatchNorm1d(fc_input_size//8),\n",
    "#             # nn.LeakyReLU(0.1),\n",
    "#             # nn.Dropout(self.dropout_rate),\n",
    "#             nn.Linear(fc_input_size//2,output_size),\n",
    "#         )\n",
    "        \n",
    "#     def forward(self, feat, mol, fps):\n",
    "        \n",
    "#         mlm = self.mlm_layer(feat)\n",
    "#         hlm = self.hlm_layer(feat)\n",
    "        \n",
    "#         combined = torch.cat((mlm,hlm),dim=1)\n",
    "#         combined = self.fc(combined)\n",
    "        \n",
    "#         output = combined\n",
    "        \n",
    "#         # output = self.tanh(output)\n",
    "#         # output = (output+1)/2\n",
    "        \n",
    "#         #output = self.sigmoid(output)\n",
    "        \n",
    "#         return output"
   ]
  },
  {
   "cell_type": "code",
   "execution_count": 95,
   "id": "b6814698",
   "metadata": {},
   "outputs": [],
   "source": [
    "# class MultiTaskModel(nn.Module):\n",
    "#     def __init__(self, feature_input_size, output_size, hidden_size, dropout_rate):\n",
    "#         super(MultiTaskModel, self).__init__()\n",
    "#         self.feature_output_size = 1000\n",
    "#         self.dropout_rate = dropout_rate\n",
    "        \n",
    "#         # BatchNorm1d\n",
    "#         self.feature_layer = nn.Sequential(\n",
    "#             nn.Linear(feature_input_size,hidden_size),\n",
    "#             nn.BatchNorm1d(hidden_size),\n",
    "#             nn.LeakyReLU(0.1),\n",
    "#             nn.Dropout(self.dropout_rate),\n",
    "#             nn.Linear(hidden_size,hidden_size),\n",
    "#             nn.BatchNorm1d(hidden_size),\n",
    "#             nn.LeakyReLU(0.1),\n",
    "#             nn.Dropout(self.dropout_rate),\n",
    "#             nn.Linear(hidden_size,hidden_size),\n",
    "#             nn.BatchNorm1d(hidden_size),\n",
    "#             nn.LeakyReLU(0.1),\n",
    "#             nn.Dropout(self.dropout_rate),\n",
    "#             nn.Linear(hidden_size,hidden_size),\n",
    "#             nn.BatchNorm1d(hidden_size),\n",
    "#             nn.LeakyReLU(0.1),\n",
    "#             nn.Dropout(self.dropout_rate),\n",
    "#             nn.Linear(hidden_size,self.feature_output_size),\n",
    "#         )\n",
    "        \n",
    "#         fc_input_size = self.feature_output_size\n",
    "#         self.fc = nn.Sequential(\n",
    "#             nn.Linear(fc_input_size,fc_input_size//2),\n",
    "#             nn.BatchNorm1d(fc_input_size//2),\n",
    "#             nn.LeakyReLU(0.1),\n",
    "#             nn.Dropout(self.dropout_rate),\n",
    "#             nn.Linear(fc_input_size//2,fc_input_size//4),\n",
    "#             nn.BatchNorm1d(fc_input_size//4),\n",
    "#             nn.LeakyReLU(0.1),\n",
    "#             nn.Dropout(self.dropout_rate),\n",
    "#             nn.Linear(fc_input_size//4,fc_input_size//8),\n",
    "#             nn.BatchNorm1d(fc_input_size//8),\n",
    "#             nn.LeakyReLU(0.1),\n",
    "#             nn.Dropout(self.dropout_rate),\n",
    "#             nn.Linear(fc_input_size//8,output_size),\n",
    "#         )\n",
    "        \n",
    "#     def forward(self, feat, mol, fps):\n",
    "#         feat = self.feature_layer(feat)\n",
    "#         #mol = self.mol_layer(mol)\n",
    "#         #fps = self.fps_layer(fps)\n",
    "#         feat = self.fc(feat)\n",
    "        \n",
    "#         output = feat\n",
    "        \n",
    "#         # output = self.tanh(output)\n",
    "#         # output = (output+1)/2\n",
    "        \n",
    "#         #output = self.sigmoid(output)\n",
    "        \n",
    "#         return output"
   ]
  },
  {
   "cell_type": "code",
   "execution_count": 96,
   "id": "340e0c51",
   "metadata": {},
   "outputs": [],
   "source": [
    "# class MultiTaskModel(nn.Module):\n",
    "#     def __init__(self, feature_input_size, output_size, hidden_size, dropout_rate):\n",
    "#         super(MultiTaskModel, self).__init__()\n",
    "#         self.hidden_size = hidden_size\n",
    "#         self.dropout_rate = dropout_rate\n",
    "#         self.image_output_size = 50\n",
    "#         self.feature_output_size = 100\n",
    "        \n",
    "#         self.lstm1 = nn.LSTM(feature_input_size,hidden_size,num_layers=1,batch_first=True)\n",
    "#         self.lstm2 = nn.LSTM(hidden_size,hidden_size,num_layers=1,batch_first=True)\n",
    "#         self.lstm3 = nn.LSTM(hidden_size,hidden_size,num_layers=1,batch_first=True)\n",
    "#         self.fc = nn.Linear(hidden_size,output_size)\n",
    "#         self.bn = nn.BatchNorm1d(hidden_size)\n",
    "#         self.dropout = nn.Dropout(dropout_rate)\n",
    "#         self.activation = nn.LeakyReLU(0.01)\n",
    "\n",
    "#     def forward(self, feat, mol, fps):\n",
    "#         x = feat\n",
    "#         h0 = torch.zeros(1, self.hidden_size).to(x.device) \n",
    "#         c0 = torch.zeros(1, self.hidden_size).to(x.device)\n",
    "        \n",
    "#         x, (hn,cn) = self.lstm1(x,(h0,c0))\n",
    "#         x = self.dropout(x)\n",
    "#         x = self.bn(x)\n",
    "#         x = self.activation(x)\n",
    "        \n",
    "#         x, (hn,cn) = self.lstm2(x,(hn,cn))\n",
    "#         x = self.dropout(x)\n",
    "#         x = self.bn(x)\n",
    "#         x = self.activation(x)\n",
    "        \n",
    "#         x, (hn,cn) = self.lstm3(x,(hn,cn))\n",
    "#         x = self.dropout(x)\n",
    "#         x = self.bn(x)\n",
    "#         x = self.activation(x)\n",
    "        \n",
    "#         x = self.fc(x)\n",
    "\n",
    "#         return x"
   ]
  },
  {
   "cell_type": "code",
   "execution_count": 128,
   "id": "755c3ba2",
   "metadata": {},
   "outputs": [],
   "source": [
    "# class MultiTaskModel(nn.Module):\n",
    "#     def __init__(self, feature_input_size, output_size, hidden_size, dropout_rate):\n",
    "#         super(MultiTaskModel, self).__init__()\n",
    "#         self.image_output_size = 50\n",
    "#         self.feature_output_size = 100\n",
    "#         self.dropout_rate = dropout_rate\n",
    "        \n",
    "#         self.activation = nn.Tanh()\n",
    "        \n",
    "#         # # efficientnet\n",
    "#         # self.backbone = models.efficientnet_b0(pretrained=True)\n",
    "#         # self.backbone.classifier = nn.Sequential(\n",
    "#         #     nn.Dropout(p=0.2,inplace=True),\n",
    "#         #     nn.Linear(self.backbone.classifier[-1].in_features,self.image_output_size),\n",
    "#         # )\n",
    "        \n",
    "#         # resnet\n",
    "#         self.backbone = models.resnet50(pretrained=True)\n",
    "#         self.backbone.fc = nn.Linear(self.backbone.fc.in_features,self.image_output_size)\n",
    "        \n",
    "#         self.mol_backbone = deepcopy(self.backbone)\n",
    "#         self.fps_backbone = deepcopy(self.backbone)\n",
    "        \n",
    "#         self.mol_layer = nn.Sequential(\n",
    "#             self.mol_backbone,\n",
    "#             #nn.BatchNorm1d(self.image_output_size),\n",
    "#             #self.activation,\n",
    "#             #nn.Dropout(self.dropout_rate),\n",
    "#         )\n",
    "#         self.fps_layer = nn.Sequential(\n",
    "#             self.fps_backbone,\n",
    "#             #nn.BatchNorm1d(self.image_output_size),\n",
    "#             #self.activation,\n",
    "#             #nn.Dropout(self.dropout_rate),\n",
    "#         )\n",
    "        \n",
    "#         self.feature_layer = nn.Sequential(\n",
    "#             nn.Linear(feature_input_size,hidden_size),\n",
    "#             #nn.BatchNorm1d(hidden_size),\n",
    "#             self.activation,\n",
    "#             #nn.Dropout(self.dropout_rate),\n",
    "#             nn.Linear(hidden_size,self.feature_output_size),\n",
    "#         )\n",
    "        \n",
    "#         combined_input_size = self.feature_output_size # 2*self.image_output_size+\n",
    "#         self.lstm = nn.LSTM(combined_input_size, combined_input_size//4, num_layers=2, batch_first=True)\n",
    "#         self.fc = nn.Linear(combined_input_size//4,output_size)\n",
    "        \n",
    "#     def forward(self, feat, mol, fps):\n",
    "#         feat = self.feature_layer(feat)\n",
    "#         mol = self.mol_layer(mol)\n",
    "#         fps = self.fps_layer(fps)\n",
    "#         combined = torch.cat((feat,mol,fps),dim=1)\n",
    "#         combined, _ = self.lstm(combined)\n",
    "#         combined = self.activation(combined)\n",
    "#         combined = self.fc(combined)\n",
    "#         return combined"
   ]
  },
  {
   "cell_type": "code",
   "execution_count": 164,
   "id": "9330c789",
   "metadata": {},
   "outputs": [],
   "source": [
    "class MultiTaskModel(nn.Module):\n",
    "    def __init__(self, feature_input_size, vocab_size, output_size, hidden_size, dropout_rate):\n",
    "        super(MultiTaskModel, self).__init__()\n",
    "        self.image_output_size = 50\n",
    "        self.feature_output_size = 100\n",
    "        self.embedding_output_size = 100\n",
    "        self.dropout_rate = dropout_rate\n",
    "        \n",
    "        # efficientnet\n",
    "        self.backbone = models.efficientnet_b1(pretrained=True)\n",
    "        self.backbone.classifier = nn.Sequential(\n",
    "            nn.Dropout(p=0.2,inplace=True),\n",
    "            nn.Linear(self.backbone.classifier[-1].in_features,self.image_output_size),\n",
    "        )\n",
    "        \n",
    "        # # resnet\n",
    "        # self.backbone = models.resnet50(pretrained=True)\n",
    "        # self.backbone.fc = nn.Linear(self.backbone.fc.in_features,self.image_output_size)\n",
    "        \n",
    "        self.mol_layer = deepcopy(self.backbone)\n",
    "        self.fps_layer = deepcopy(self.backbone)\n",
    "        \n",
    "        # BatchNorm1d, LayerNorm\n",
    "        self.feature_layer = nn.Sequential(\n",
    "            nn.Linear(feature_input_size,hidden_size),\n",
    "            nn.LayerNorm(hidden_size),\n",
    "            nn.SiLU(),#nn.LeakyReLU(0.01),\n",
    "            nn.Dropout(self.dropout_rate),\n",
    "            nn.Linear(hidden_size,hidden_size),\n",
    "            nn.LayerNorm(hidden_size),\n",
    "            nn.SiLU(),#nn.LeakyReLU(0.01),\n",
    "            nn.Dropout(self.dropout_rate),\n",
    "            nn.Linear(hidden_size,self.feature_output_size),\n",
    "        )\n",
    "        \n",
    "        self.emb_layer = nn.Embedding(vocab_size, hidden_size)\n",
    "        self.emb_sequence = nn.Sequential(\n",
    "            #nn.BatchNorm1d(hidden_size),\n",
    "            nn.SiLU(),#nn.LeakyReLU(0.01),\n",
    "            #nn.Dropout(self.dropout_rate),\n",
    "            nn.Linear(hidden_size, self.embedding_output_size),\n",
    "        )\n",
    "        \n",
    "        fc_input_size = self.feature_output_size + self.embedding_output_size + self.image_output_size\n",
    "        self.fc_mlm = nn.Sequential(\n",
    "            nn.Linear(fc_input_size,hidden_size),\n",
    "            nn.LayerNorm(hidden_size),\n",
    "            nn.SiLU(),#nn.LeakyReLU(0.01),\n",
    "            nn.Dropout(self.dropout_rate),\n",
    "            nn.Linear(hidden_size,1),\n",
    "        )\n",
    "        self.fc_hlm = nn.Sequential(\n",
    "            nn.Linear(fc_input_size,hidden_size),\n",
    "            nn.LayerNorm(hidden_size),\n",
    "            nn.SiLU(),#nn.LeakyReLU(0.01),\n",
    "            nn.Dropout(self.dropout_rate),\n",
    "            nn.Linear(hidden_size,1),\n",
    "        )\n",
    "        \n",
    "    def forward(self, feat, mol, fps, emb):\n",
    "        feat = self.feature_layer(feat)\n",
    "        mol = self.mol_layer(mol)\n",
    "        #fps = self.fps_layer(fps)\n",
    "        emb = self.emb_layer(emb).mean(dim=1)\n",
    "        emb = self.emb_sequence(emb)\n",
    "        \n",
    "        combined = torch.cat((feat,mol,emb),dim=1)\n",
    "        mlm_pred = self.fc_mlm(combined)\n",
    "        hlm_pred = self.fc_hlm(combined)\n",
    "        \n",
    "        output = torch.cat((mlm_pred,hlm_pred),dim=1)\n",
    "        \n",
    "        # output = self.tanh(output)\n",
    "        # output = (output+1.0)/2.0\n",
    "        # output = output*100.0\n",
    "        \n",
    "        # output = self.sigmoid(output)\n",
    "        # output = output*100\n",
    "        \n",
    "        return output"
   ]
  },
  {
   "cell_type": "markdown",
   "id": "d2a25fce",
   "metadata": {},
   "source": [
    "<br>"
   ]
  },
  {
   "cell_type": "markdown",
   "id": "35cf10bb",
   "metadata": {},
   "source": [
    "## Training"
   ]
  },
  {
   "cell_type": "code",
   "execution_count": 165,
   "id": "051f596d",
   "metadata": {},
   "outputs": [],
   "source": [
    "class MultiRMSELoss(nn.Module):\n",
    "    def __init__(self):\n",
    "        super(MultiRMSELoss, self).__init__()\n",
    "\n",
    "    def forward(self, output, target):\n",
    "        loss1 = torch.sqrt(torch.mean((output[:,0]-target[:,0])**2))\n",
    "        loss2 = torch.sqrt(torch.mean((output[:,1]-target[:,1])**2))\n",
    "        loss = 0.5*loss1+0.5*loss2\n",
    "        return loss"
   ]
  },
  {
   "cell_type": "code",
   "execution_count": 166,
   "id": "d29429ed",
   "metadata": {},
   "outputs": [],
   "source": [
    "import gc\n",
    "import numpy as np\n",
    "import torch\n",
    "import torch.nn as nn\n",
    "import time\n",
    "\n",
    "class EarlyStopping:\n",
    "    \"\"\"Early stops the training if validation loss doesn't improve after a given patience.\"\"\"\n",
    "    def __init__(self, patience=7, verbose=False, delta=0, path='checkpoint.pt', trace_func=print):\n",
    "        \"\"\"\n",
    "        Args:\n",
    "            patience (int): How long to wait after last time validation loss improved.\n",
    "                            Default: 7\n",
    "            verbose (bool): If True, prints a message for each validation loss improvement. \n",
    "                            Default: False\n",
    "            delta (float): Minimum change in the monitored quantity to qualify as an improvement.\n",
    "                            Default: 0\n",
    "            path (str): Path for the checkpoint to be saved to.\n",
    "                            Default: 'checkpoint.pt'\n",
    "            trace_func (function): trace print function.\n",
    "                            Default: print            \n",
    "        \"\"\"\n",
    "        self.patience = patience\n",
    "        self.verbose = verbose\n",
    "        self.counter = 0\n",
    "        self.best_score = None\n",
    "        self.early_stop = False\n",
    "        self.val_loss_min = np.Inf\n",
    "        self.delta = delta\n",
    "        self.path = path\n",
    "        self.trace_func = trace_func\n",
    "        \n",
    "    def __call__(self, val_loss, model):\n",
    "\n",
    "        score = -val_loss\n",
    "\n",
    "        if self.best_score is None:\n",
    "            self.best_score = score\n",
    "            self.save_checkpoint(val_loss, model)\n",
    "        elif score < self.best_score + self.delta:\n",
    "            self.counter += 1\n",
    "            if self.verbose:\n",
    "                self.trace_func(f'EarlyStopping counter: {self.counter} out of {self.patience}')\n",
    "            if self.counter >= self.patience:\n",
    "                self.early_stop = True\n",
    "        else:\n",
    "            self.best_score = score\n",
    "            self.save_checkpoint(val_loss, model)\n",
    "            self.counter = 0\n",
    "\n",
    "    def save_checkpoint(self, val_loss, model):\n",
    "        '''Saves model when validation loss decrease.'''\n",
    "        if self.verbose:\n",
    "            self.trace_func(f'Validation loss decreased ({self.val_loss_min:.6f} --> {val_loss:.6f}).  Saving model ...')\n",
    "        if self.path!='':\n",
    "            torch.save(model.state_dict(), self.path)\n",
    "        self.val_loss_min = val_loss\n",
    "\n",
    "        \n",
    "def train(\n",
    "    model, criterion, optimizer, train_loader, valid_loader, epochs,\n",
    "    early_stopping, device='cpu', scheduler=None, metric_period=1, verbose=True, \n",
    "    save_model_path = './mc/best_model.pt', final_model_path = './mc/final_model.pt',\n",
    "    use_best_model=True,\n",
    "    inverse_transform=None,\n",
    "    progress_bar=True,\n",
    "):  \n",
    "    seed_everything(CFG.SEED)\n",
    "    model.to(device)\n",
    "\n",
    "    best_loss  = 999999999\n",
    "    best_epoch = 1\n",
    "    best_model = None\n",
    "    is_best    = np.nan\n",
    "    \n",
    "    start_time = time.time()\n",
    "    epoch_s = time.time()\n",
    "    \n",
    "    model.train()\n",
    "    for epoch in range(1, epochs+1):\n",
    "        gc.collect()\n",
    "        \n",
    "        if progress_bar:\n",
    "            pbar = tqdm(train_loader)\n",
    "        else:\n",
    "            pbar = train_loader\n",
    "        \n",
    "        #model.train()\n",
    "        train_loss = []\n",
    "        for feat,mol,fps,emb,target in pbar:\n",
    "            feat = feat.to(device)\n",
    "            mol = mol.to(device)\n",
    "            fps = fps.to(device)\n",
    "            emb = emb.to(device)\n",
    "            target = target.to(device)\n",
    "\n",
    "            optimizer.zero_grad()\n",
    "            output = model(feat,mol,fps,emb).float()\n",
    "            \n",
    "            if inverse_transform is not None:\n",
    "                output = inverse_transform(output)\n",
    "                target = inverse_transform(target)\n",
    "            \n",
    "            loss = criterion(output, target)\n",
    "            loss.backward()  # Getting gradients\n",
    "            optimizer.step() # Updating parameters\n",
    "\n",
    "            train_loss.append(loss.item())\n",
    "\n",
    "        if valid_loader is not None:\n",
    "            valid_loss = validation(model, valid_loader, criterion, device, inverse_transform, progress_bar)\n",
    "        else:\n",
    "            valid_loss = loss\n",
    "            \n",
    "        epoch_e = time.time()\n",
    "            \n",
    "        if scheduler is not None:\n",
    "            scheduler.step(valid_loss)\n",
    "\n",
    "        # update the best epoch & best loss\n",
    "        if (best_loss > valid_loss) | (epoch==1):\n",
    "            best_epoch = epoch\n",
    "            best_loss = valid_loss\n",
    "            best_model = model\n",
    "            is_best = 1\n",
    "            torch.save(best_model.state_dict(), save_model_path)\n",
    "        else:\n",
    "            is_best = 0\n",
    "            if not use_best_model:\n",
    "                torch.save(best_model.state_dict(), save_model_path)\n",
    "            \n",
    "        # 결과물 printing\n",
    "        if (verbose) & (epoch % metric_period == 0):\n",
    "            mark = '*' if is_best else ' '\n",
    "            epoch_str = str(epoch).zfill(len(str(epochs)))\n",
    "            if valid_loader is not None:\n",
    "                progress = '{}[{}/{}] loss: {:.5f}, val_loss: {:.5f}, best_epoch: {}, elapsed: {:.2f}s, total: {:.2f}s, remaining: {:.2f}s'\\\n",
    "                    .format(\n",
    "                        mark,\n",
    "                        epoch_str,\n",
    "                        epochs,\n",
    "                        np.mean(train_loss),\n",
    "                        valid_loss,\n",
    "                        best_epoch,\n",
    "                        epoch_e-epoch_s,\n",
    "                        epoch_e-start_time,\n",
    "                        (epoch_e-epoch_s)*(epochs-epoch)/metric_period,\n",
    "                    )\n",
    "            else:\n",
    "                progress = '{}[{}/{}] loss: {:.5f}, best_epoch: {}, elapsed: {:.2f}s, total: {:.2f}s, remaining: {:.2f}s'\\\n",
    "                    .format(\n",
    "                        mark,\n",
    "                        epoch_str,\n",
    "                        epochs,\n",
    "                        np.mean(train_loss),\n",
    "                        best_epoch,\n",
    "                        epoch_e-epoch_s,\n",
    "                        epoch_e-start_time,\n",
    "                        (epoch_e-epoch_s)*(epochs-epoch)/metric_period,\n",
    "                    )\n",
    "            epoch_s = time.time()\n",
    "            print(progress)\n",
    "\n",
    "        # early stopping 여부를 체크. 현재 과적합 상황 추적\n",
    "        if early_stopping is not None:\n",
    "            early_stopping(valid_loss, model)\n",
    "            if early_stopping.early_stop:\n",
    "                break\n",
    "                \n",
    "        torch.save(best_model.state_dict(), final_model_path)\n",
    "\n",
    "    return best_model\n",
    "\n",
    "def validation(model, valid_loader, criterion, device, inverse_transform, progress_bar):\n",
    "    if progress_bar:\n",
    "        pbar = tqdm(valid_loader)\n",
    "    else:\n",
    "        pbar = valid_loader\n",
    "    valid_loss = []\n",
    "    with torch.no_grad():\n",
    "        for feat,mol,fps,emb,target in pbar:\n",
    "            feat = feat.to(device)\n",
    "            mol = mol.to(device)\n",
    "            fps = fps.to(device)\n",
    "            emb = emb.to(device)\n",
    "            target = target.to(device)\n",
    "            \n",
    "            output = model(feat,mol,fps,emb).float()\n",
    "            \n",
    "            if inverse_transform is not None:\n",
    "                output = inverse_transform(output)\n",
    "                target = inverse_transform(target)\n",
    "\n",
    "            loss = criterion(output, target)\n",
    "            valid_loss.append(loss.item())\n",
    "\n",
    "    return np.mean(valid_loss)"
   ]
  },
  {
   "cell_type": "code",
   "execution_count": 167,
   "id": "5d5d4cd7",
   "metadata": {},
   "outputs": [],
   "source": [
    "feature_input_size = [feat for feat,mol,fps,emb,target in train_dataset][0].shape[0]\n",
    "output_size = 2\n",
    "hidden_size = 32\n",
    "dropout_rate = 0.0"
   ]
  },
  {
   "cell_type": "code",
   "execution_count": 168,
   "id": "361739de",
   "metadata": {},
   "outputs": [
    {
     "name": "stdout",
     "output_type": "stream",
     "text": [
      "cuda\n"
     ]
    }
   ],
   "source": [
    "device = 'cuda' if torch.cuda.is_available() else 'cpu'\n",
    "print(device)"
   ]
  },
  {
   "cell_type": "code",
   "execution_count": 169,
   "id": "98f8b37c",
   "metadata": {},
   "outputs": [],
   "source": [
    "CFG.LEARNING_RATE = 0.003"
   ]
  },
  {
   "cell_type": "code",
   "execution_count": 170,
   "id": "419471b5",
   "metadata": {},
   "outputs": [
    {
     "data": {
      "text/plain": [
       "mappingproxy({'__module__': '__main__',\n",
       "              'SEED': 0,\n",
       "              'IMG_SIZE': 224,\n",
       "              'BATCH_SIZE': 64,\n",
       "              'EPOCHS': 512,\n",
       "              'LEARNING_RATE': 0.003,\n",
       "              '__dict__': <attribute '__dict__' of 'CFG' objects>,\n",
       "              '__weakref__': <attribute '__weakref__' of 'CFG' objects>,\n",
       "              '__doc__': None})"
      ]
     },
     "execution_count": 170,
     "metadata": {},
     "output_type": "execute_result"
    }
   ],
   "source": [
    "CFG.__dict__"
   ]
  },
  {
   "cell_type": "code",
   "execution_count": 171,
   "id": "5577c1c6",
   "metadata": {},
   "outputs": [],
   "source": [
    "model = MultiTaskModel(feature_input_size,vocab_size,output_size,hidden_size,dropout_rate)\n",
    "# for name,param in model.named_parameters():\n",
    "#     if 'backbone' in name:\n",
    "#         param.requires_grad = False\n",
    "\n",
    "criterion = MultiRMSELoss()\n",
    "# optimizer= torch.optim.Adam(model.parameters(), lr=CFG.LEARNING_RATE)#, weight_decay=5e-4)\n",
    "optimizer = torch.optim.AdamW(model.parameters(), lr=CFG.LEARNING_RATE)\n",
    "# optimizer = torch.optim.SGD(model.parameters(), lr=CFG.LEARNING_RATE, momentum=0.9)\n",
    "# scheduler = torch.optim.lr_scheduler.ReduceLROnPlateau(\n",
    "#     optimizer, mode='min', factor=0.5, patience=2, threshold_mode='abs', min_lr=1e-7, verbose=True)\n",
    "scheduler = None\n",
    "# early_stopping = EarlyStopping(patience=10,verbose=False,path='')\n",
    "early_stopping = None"
   ]
  },
  {
   "cell_type": "code",
   "execution_count": 173,
   "id": "118d4720",
   "metadata": {},
   "outputs": [
    {
     "data": {
      "text/plain": [
       "(None, 0)"
      ]
     },
     "execution_count": 173,
     "metadata": {},
     "output_type": "execute_result"
    }
   ],
   "source": [
    "torch.cuda.empty_cache(), gc.collect()"
   ]
  },
  {
   "cell_type": "code",
   "execution_count": 174,
   "id": "738d0845",
   "metadata": {},
   "outputs": [
    {
     "name": "stdout",
     "output_type": "stream",
     "text": [
      "*[001/512] loss: 55.18837, val_loss: 53.80200, best_epoch: 1, elapsed: 20.46s, total: 20.46s, remaining: 10456.69s\n",
      "*[002/512] loss: 52.06623, val_loss: 50.15103, best_epoch: 2, elapsed: 20.77s, total: 41.53s, remaining: 10591.59s\n",
      "*[003/512] loss: 47.96681, val_loss: 45.75060, best_epoch: 3, elapsed: 20.77s, total: 62.60s, remaining: 10574.19s\n",
      "*[004/512] loss: 43.53042, val_loss: 41.50803, best_epoch: 4, elapsed: 20.76s, total: 83.64s, remaining: 10548.57s\n",
      "*[005/512] loss: 39.72595, val_loss: 38.38078, best_epoch: 5, elapsed: 20.77s, total: 104.70s, remaining: 10530.28s\n",
      "*[006/512] loss: 37.28323, val_loss: 36.76472, best_epoch: 6, elapsed: 20.83s, total: 125.81s, remaining: 10540.57s\n",
      "*[007/512] loss: 36.18854, val_loss: 36.27880, best_epoch: 7, elapsed: 20.89s, total: 146.98s, remaining: 10551.92s\n",
      "*[008/512] loss: 35.85063, val_loss: 36.10210, best_epoch: 8, elapsed: 21.00s, total: 168.29s, remaining: 10585.01s\n",
      " [009/512] loss: 35.75780, val_loss: 36.10877, best_epoch: 8, elapsed: 20.91s, total: 189.48s, remaining: 10519.00s\n",
      "*[010/512] loss: 35.55651, val_loss: 35.99076, best_epoch: 10, elapsed: 21.13s, total: 210.61s, remaining: 10604.79s\n",
      "*[011/512] loss: 35.62459, val_loss: 35.71108, best_epoch: 11, elapsed: 21.21s, total: 232.10s, remaining: 10627.38s\n",
      "*[012/512] loss: 34.29084, val_loss: 34.13533, best_epoch: 12, elapsed: 21.35s, total: 253.73s, remaining: 10675.26s\n",
      "*[013/512] loss: 33.28924, val_loss: 33.56308, best_epoch: 13, elapsed: 21.44s, total: 275.45s, remaining: 10697.83s\n",
      "*[014/512] loss: 32.75973, val_loss: 33.23374, best_epoch: 14, elapsed: 21.56s, total: 297.30s, remaining: 10738.28s\n",
      "*[015/512] loss: 32.38686, val_loss: 33.05307, best_epoch: 15, elapsed: 21.84s, total: 319.42s, remaining: 10856.23s\n",
      " [016/512] loss: 32.04634, val_loss: 33.07154, best_epoch: 15, elapsed: 21.80s, total: 341.52s, remaining: 10814.67s\n",
      "*[017/512] loss: 31.77977, val_loss: 32.76806, best_epoch: 17, elapsed: 21.85s, total: 363.37s, remaining: 10815.04s\n",
      "*[018/512] loss: 31.75874, val_loss: 32.71341, best_epoch: 18, elapsed: 21.92s, total: 385.58s, remaining: 10829.18s\n",
      "*[019/512] loss: 31.47765, val_loss: 32.65513, best_epoch: 19, elapsed: 22.08s, total: 407.94s, remaining: 10886.32s\n",
      " [020/512] loss: 31.23113, val_loss: 32.78644, best_epoch: 19, elapsed: 22.01s, total: 430.24s, remaining: 10827.33s\n",
      "*[021/512] loss: 31.21748, val_loss: 32.53937, best_epoch: 21, elapsed: 21.97s, total: 452.21s, remaining: 10788.33s\n",
      "*[022/512] loss: 31.02805, val_loss: 32.30767, best_epoch: 22, elapsed: 21.90s, total: 474.39s, remaining: 10730.54s\n",
      " [023/512] loss: 30.91828, val_loss: 32.42577, best_epoch: 22, elapsed: 21.92s, total: 496.60s, remaining: 10719.06s\n",
      " [024/512] loss: 30.39100, val_loss: 32.49495, best_epoch: 22, elapsed: 21.98s, total: 518.58s, remaining: 10727.60s\n",
      " [025/512] loss: 30.08093, val_loss: 33.05791, best_epoch: 22, elapsed: 21.88s, total: 540.47s, remaining: 10657.55s\n",
      " [026/512] loss: 29.40972, val_loss: 33.83985, best_epoch: 22, elapsed: 21.90s, total: 562.37s, remaining: 10645.83s\n",
      " [027/512] loss: 29.20303, val_loss: 35.68213, best_epoch: 22, elapsed: 21.84s, total: 584.22s, remaining: 10593.06s\n",
      " [028/512] loss: 28.67451, val_loss: 36.41751, best_epoch: 22, elapsed: 21.84s, total: 606.06s, remaining: 10571.11s\n",
      " [029/512] loss: 28.03715, val_loss: 36.11032, best_epoch: 22, elapsed: 21.91s, total: 627.97s, remaining: 10582.74s\n",
      " [030/512] loss: 27.39496, val_loss: 36.60510, best_epoch: 22, elapsed: 21.95s, total: 649.92s, remaining: 10579.43s\n",
      " [031/512] loss: 26.37106, val_loss: 38.56511, best_epoch: 22, elapsed: 21.96s, total: 671.88s, remaining: 10562.99s\n",
      " [032/512] loss: 25.88461, val_loss: 39.79310, best_epoch: 22, elapsed: 21.89s, total: 693.76s, remaining: 10505.32s\n",
      " [033/512] loss: 25.19334, val_loss: 40.02829, best_epoch: 22, elapsed: 21.83s, total: 715.60s, remaining: 10458.07s\n",
      " [034/512] loss: 25.23736, val_loss: 38.09492, best_epoch: 22, elapsed: 21.88s, total: 737.47s, remaining: 10458.00s\n",
      " [035/512] loss: 23.90163, val_loss: 37.95029, best_epoch: 22, elapsed: 21.83s, total: 759.31s, remaining: 10414.70s\n",
      " [036/512] loss: 22.19338, val_loss: 38.61138, best_epoch: 22, elapsed: 21.78s, total: 781.09s, remaining: 10365.87s\n"
     ]
    },
    {
     "ename": "KeyboardInterrupt",
     "evalue": "",
     "output_type": "error",
     "traceback": [
      "\u001b[0;31m---------------------------------------------------------------------------\u001b[0m",
      "\u001b[0;31mKeyboardInterrupt\u001b[0m                         Traceback (most recent call last)",
      "Cell \u001b[0;32mIn[174], line 1\u001b[0m\n\u001b[0;32m----> 1\u001b[0m best_model \u001b[38;5;241m=\u001b[39m \u001b[43mtrain\u001b[49m\u001b[43m(\u001b[49m\n\u001b[1;32m      2\u001b[0m \u001b[43m    \u001b[49m\u001b[43mmodel\u001b[49m\u001b[43m,\u001b[49m\u001b[43m \u001b[49m\u001b[43mcriterion\u001b[49m\u001b[43m,\u001b[49m\u001b[43m \u001b[49m\u001b[43moptimizer\u001b[49m\u001b[43m,\u001b[49m\u001b[43m \u001b[49m\u001b[43mtrain_loader\u001b[49m\u001b[43m,\u001b[49m\u001b[43m \u001b[49m\u001b[43mval_loader\u001b[49m\u001b[43m,\u001b[49m\n\u001b[1;32m      3\u001b[0m \u001b[43m    \u001b[49m\u001b[43mCFG\u001b[49m\u001b[38;5;241;43m.\u001b[39;49m\u001b[43mEPOCHS\u001b[49m\u001b[43m,\u001b[49m\u001b[43m \u001b[49m\u001b[43mearly_stopping\u001b[49m\u001b[43m,\u001b[49m\u001b[43m \u001b[49m\u001b[43mdevice\u001b[49m\u001b[43m,\u001b[49m\u001b[43m \u001b[49m\u001b[43mscheduler\u001b[49m\u001b[43m,\u001b[49m\n\u001b[1;32m      4\u001b[0m \u001b[43m    \u001b[49m\u001b[43mmetric_period\u001b[49m\u001b[38;5;241;43m=\u001b[39;49m\u001b[38;5;241;43m1\u001b[39;49m\u001b[43m,\u001b[49m\u001b[43m \u001b[49m\u001b[43mverbose\u001b[49m\u001b[38;5;241;43m=\u001b[39;49m\u001b[38;5;28;43;01mTrue\u001b[39;49;00m\u001b[43m,\u001b[49m\n\u001b[1;32m      5\u001b[0m \u001b[43m    \u001b[49m\u001b[43msave_model_path\u001b[49m\u001b[38;5;241;43m=\u001b[39;49m\u001b[38;5;124;43m'\u001b[39;49m\u001b[38;5;124;43m./mc/best_model.pt\u001b[39;49m\u001b[38;5;124;43m'\u001b[39;49m\u001b[43m,\u001b[49m\n\u001b[1;32m      6\u001b[0m \u001b[43m    \u001b[49m\u001b[43mfinal_model_path\u001b[49m\u001b[38;5;241;43m=\u001b[39;49m\u001b[38;5;124;43m'\u001b[39;49m\u001b[38;5;124;43m./mc/final_model.pt\u001b[39;49m\u001b[38;5;124;43m'\u001b[39;49m\u001b[43m,\u001b[49m\n\u001b[1;32m      7\u001b[0m \u001b[43m    \u001b[49m\u001b[43muse_best_model\u001b[49m\u001b[38;5;241;43m=\u001b[39;49m\u001b[38;5;28;43;01mTrue\u001b[39;49;00m\u001b[43m,\u001b[49m\n\u001b[1;32m      8\u001b[0m \u001b[43m    \u001b[49m\u001b[43minverse_transform\u001b[49m\u001b[38;5;241;43m=\u001b[39;49m\u001b[43minverse_transform\u001b[49m\u001b[43m,\u001b[49m\n\u001b[1;32m      9\u001b[0m \u001b[43m    \u001b[49m\u001b[43mprogress_bar\u001b[49m\u001b[38;5;241;43m=\u001b[39;49m\u001b[38;5;28;43;01mFalse\u001b[39;49;00m\u001b[43m,\u001b[49m\n\u001b[1;32m     10\u001b[0m \u001b[43m)\u001b[49m\n",
      "Cell \u001b[0;32mIn[166], line 108\u001b[0m, in \u001b[0;36mtrain\u001b[0;34m(model, criterion, optimizer, train_loader, valid_loader, epochs, early_stopping, device, scheduler, metric_period, verbose, save_model_path, final_model_path, use_best_model, inverse_transform, progress_bar)\u001b[0m\n\u001b[1;32m    105\u001b[0m     loss\u001b[38;5;241m.\u001b[39mbackward()  \u001b[38;5;66;03m# Getting gradients\u001b[39;00m\n\u001b[1;32m    106\u001b[0m     optimizer\u001b[38;5;241m.\u001b[39mstep() \u001b[38;5;66;03m# Updating parameters\u001b[39;00m\n\u001b[0;32m--> 108\u001b[0m     train_loss\u001b[38;5;241m.\u001b[39mappend(\u001b[43mloss\u001b[49m\u001b[38;5;241;43m.\u001b[39;49m\u001b[43mitem\u001b[49m\u001b[43m(\u001b[49m\u001b[43m)\u001b[49m)\n\u001b[1;32m    110\u001b[0m \u001b[38;5;28;01mif\u001b[39;00m valid_loader \u001b[38;5;129;01mis\u001b[39;00m \u001b[38;5;129;01mnot\u001b[39;00m \u001b[38;5;28;01mNone\u001b[39;00m:\n\u001b[1;32m    111\u001b[0m     valid_loss \u001b[38;5;241m=\u001b[39m validation(model, valid_loader, criterion, device, inverse_transform, progress_bar)\n",
      "\u001b[0;31mKeyboardInterrupt\u001b[0m: "
     ]
    }
   ],
   "source": [
    "best_model = train(\n",
    "    model, criterion, optimizer, train_loader, val_loader,\n",
    "    CFG.EPOCHS, early_stopping, device, scheduler,\n",
    "    metric_period=1, verbose=True,\n",
    "    save_model_path='./mc/best_model.pt',\n",
    "    final_model_path='./mc/final_model.pt',\n",
    "    use_best_model=True,\n",
    "    inverse_transform=inverse_transform,\n",
    "    progress_bar=False,\n",
    ")"
   ]
  },
  {
   "cell_type": "markdown",
   "id": "be833151",
   "metadata": {},
   "source": [
    "<br></br>"
   ]
  },
  {
   "cell_type": "markdown",
   "id": "b42b92e8",
   "metadata": {},
   "source": [
    "# Inference"
   ]
  },
  {
   "cell_type": "code",
   "execution_count": null,
   "id": "c437f6a5",
   "metadata": {},
   "outputs": [],
   "source": [
    "def predict(best_model,loader,device,inverse_transform):\n",
    "    best_model.to(device)\n",
    "\n",
    "    true_list = []\n",
    "    pred_list = []\n",
    "    with torch.no_grad():\n",
    "        for feat,mol,fps,emb,target in iter(loader):\n",
    "            feat = feat.to(device)\n",
    "            mol = mol.to(device)\n",
    "            fps = fps.to(device)\n",
    "            emb = emb.to(device)\n",
    "            target = target.to(device)\n",
    "\n",
    "            output = best_model(feat,mol,fps,emb)\n",
    "            \n",
    "            if inverse_transform is not None:\n",
    "                output = inverse_transform(output)\n",
    "                target = inverse_transform(target)\n",
    "\n",
    "            true_list.append(target)\n",
    "            pred_list.append(output)\n",
    "\n",
    "    trues = torch.cat(true_list,dim=0)\n",
    "    preds = torch.cat(pred_list,dim=0)\n",
    "\n",
    "    trues = trues.cpu().numpy()\n",
    "    preds = preds.cpu().numpy()\n",
    "\n",
    "    return trues, preds\n",
    "\n",
    "def predict_test(best_model,loader,device,inverse_transform):\n",
    "    best_model.to(device)\n",
    "\n",
    "    #true_list = []\n",
    "    pred_list = []\n",
    "    with torch.no_grad():\n",
    "        for feat,mol,fps,emb in iter(loader):\n",
    "            feat = feat.to(device)\n",
    "            mol = mol.to(device)\n",
    "            fps = fps.to(device)\n",
    "            emb = emb.to(device)\n",
    "            #target = target.to(device)\n",
    "\n",
    "            output = best_model(feat,mol,fps,emb)\n",
    "            \n",
    "            if inverse_transform is not None:\n",
    "                output = inverse_transform(output)\n",
    "                #target = inverse_transform(target)\n",
    "\n",
    "            #true_list.append(target)\n",
    "            pred_list.append(output)\n",
    "\n",
    "    #trues = torch.cat(true_list,dim=0)\n",
    "    preds = torch.cat(pred_list,dim=0)\n",
    "\n",
    "    #trues = trues.cpu().numpy()\n",
    "    preds = preds.cpu().numpy()\n",
    "\n",
    "    return preds"
   ]
  },
  {
   "cell_type": "code",
   "execution_count": null,
   "id": "a9b9522e",
   "metadata": {},
   "outputs": [],
   "source": [
    "best_model = MultiTaskModel(feature_input_size,vocab_size,output_size,hidden_size,dropout_rate)\n",
    "best_model.load_state_dict(torch.load('./mc/best_model.pt'))"
   ]
  },
  {
   "cell_type": "code",
   "execution_count": null,
   "id": "c2dcb22a",
   "metadata": {},
   "outputs": [],
   "source": [
    "tr_true, tr_pred = predict(best_model,train_loader,device,inverse_transform)\n",
    "va_true, va_pred = predict(best_model,val_loader,device,inverse_transform)"
   ]
  },
  {
   "cell_type": "code",
   "execution_count": null,
   "id": "227ff26c",
   "metadata": {},
   "outputs": [],
   "source": [
    "(MultiRMSELoss()(torch.tensor(tr_true),torch.tensor(tr_pred)),\n",
    " MultiRMSELoss()(torch.tensor(va_true),torch.tensor(va_pred)))"
   ]
  },
  {
   "cell_type": "code",
   "execution_count": null,
   "id": "5d8918d8",
   "metadata": {},
   "outputs": [],
   "source": [
    "# tr_pred = tr_pred.mean(axis=1).tolist()\n",
    "# tr_pred = np.array([tr_pred,tr_pred]).T\n",
    "\n",
    "# va_pred = va_pred.mean(axis=1).tolist()\n",
    "# va_pred = np.array([va_pred,va_pred]).T\n",
    "\n",
    "# (MultiRMSELoss()(torch.tensor(tr_true),torch.tensor(tr_pred)),\n",
    "#  MultiRMSELoss()(torch.tensor(va_true),torch.tensor(va_pred)))"
   ]
  },
  {
   "cell_type": "code",
   "execution_count": null,
   "id": "b31e70e5",
   "metadata": {},
   "outputs": [],
   "source": [
    "tr_true[:10].round(1), tr_pred[:10].round(1)\n",
    "# va_true[:10].round(1), va_pred[:10].round(1)"
   ]
  },
  {
   "cell_type": "code",
   "execution_count": null,
   "id": "8ca01af2",
   "metadata": {},
   "outputs": [],
   "source": [
    "def abline(intercept,slope):\n",
    "    axes = plt.gca()\n",
    "    x_vals = np.array(axes.get_xlim())\n",
    "    y_vals = intercept + slope * x_vals\n",
    "    plt.plot(x_vals, y_vals, linestyle='--', color='red')"
   ]
  },
  {
   "cell_type": "code",
   "execution_count": null,
   "id": "2c919a3e",
   "metadata": {},
   "outputs": [],
   "source": [
    "import matplotlib.pyplot as plt\n",
    "import seaborn as sns\n",
    "\n",
    "fig = plt.figure(figsize=(15,7))\n",
    "fig.add_subplot(121)\n",
    "sns.scatterplot(x=tr_true[:,0],y=tr_pred[:,0])\n",
    "abline(0,1)\n",
    "plt.xlabel('true')\n",
    "plt.ylabel('pred')\n",
    "plt.grid()\n",
    "fig.add_subplot(122)\n",
    "sns.scatterplot(x=tr_true[:,1],y=tr_pred[:,1])\n",
    "abline(0,1)\n",
    "plt.xlabel('true')\n",
    "plt.ylabel('pred')\n",
    "plt.grid()\n",
    "plt.suptitle('train',fontsize=20)\n",
    "plt.tight_layout()\n",
    "plt.show()\n",
    "\n",
    "fig = plt.figure(figsize=(15,7))\n",
    "fig.add_subplot(121)\n",
    "sns.scatterplot(x=va_true[:,0],y=va_pred[:,0])\n",
    "abline(0,1)\n",
    "plt.xlabel('true')\n",
    "plt.ylabel('pred')\n",
    "plt.grid()\n",
    "fig.add_subplot(122)\n",
    "sns.scatterplot(x=va_true[:,1],y=va_pred[:,1])\n",
    "abline(0,1)\n",
    "plt.xlabel('true')\n",
    "plt.ylabel('pred')\n",
    "plt.grid()\n",
    "plt.suptitle('validation',fontsize=20)\n",
    "plt.tight_layout()\n",
    "plt.show()"
   ]
  },
  {
   "cell_type": "code",
   "execution_count": null,
   "id": "64dbae75",
   "metadata": {},
   "outputs": [],
   "source": [
    "te_pred = predict_test(best_model,test_loader,device,inverse_transform)"
   ]
  },
  {
   "cell_type": "code",
   "execution_count": null,
   "id": "67d64bf7",
   "metadata": {},
   "outputs": [],
   "source": [
    "submit = pd.read_csv('./data/sample_submission.csv')\n",
    "submit[targets] = te_pred\n",
    "submit.head()"
   ]
  },
  {
   "cell_type": "code",
   "execution_count": null,
   "id": "97f8dd4f",
   "metadata": {},
   "outputs": [],
   "source": [
    "submit.to_csv('./out/mlt_efficientnet_mol&fps.csv',index=False)"
   ]
  }
 ],
 "metadata": {
  "accelerator": "GPU",
  "colab": {
   "provenance": [],
   "toc_visible": true
  },
  "gpuClass": "standard",
  "kernelspec": {
   "display_name": "conda_pytorch_p310",
   "language": "python",
   "name": "conda_pytorch_p310"
  },
  "language_info": {
   "codemirror_mode": {
    "name": "ipython",
    "version": 3
   },
   "file_extension": ".py",
   "mimetype": "text/x-python",
   "name": "python",
   "nbconvert_exporter": "python",
   "pygments_lexer": "ipython3",
   "version": "3.10.12"
  },
  "toc-autonumbering": true,
  "vscode": {
   "interpreter": {
    "hash": "88a5da79f9030d36a713e3ceec9ed9a47a216907c035af9944c458137c4e5cb3"
   }
  }
 },
 "nbformat": 4,
 "nbformat_minor": 5
}
