{
 "cells": [
  {
   "cell_type": "markdown",
   "id": "592fb262-4a51-4b7f-b922-f66a2968c6ba",
   "metadata": {},
   "source": [
    "# 나눔폰트 다운로드 및 matplotlib의 경로로 복사"
   ]
  },
  {
   "cell_type": "code",
   "execution_count": 1,
   "id": "6d5745d0-713c-4021-a81a-8e6513f59b48",
   "metadata": {
    "tags": []
   },
   "outputs": [
    {
     "name": "stdout",
     "output_type": "stream",
     "text": [
      "--2022-11-22 20:22:47--  http://cdn.naver.com/naver/NanumFont/fontfiles/NanumFont_TTF_ALL.zip\n",
      "Resolving cdn.naver.com (cdn.naver.com)... 183.111.124.156, 211.47.29.199, 183.111.124.155\n",
      "Connecting to cdn.naver.com (cdn.naver.com)|183.111.124.156|:80... connected.\n",
      "HTTP request sent, awaiting response... 200 OK\n",
      "Length: 14946146 (14M) [application/zip]\n",
      "Saving to: 'NanumFont_TTF_ALL.zip'\n",
      "\n",
      "NanumFont_TTF_ALL.z 100%[===================>]  14.25M  6.39MB/s    in 2.2s    \n",
      "\n",
      "2022-11-22 20:22:50 (6.39 MB/s) - 'NanumFont_TTF_ALL.zip' saved [14946146/14946146]\n",
      "\n",
      "Archive:  NanumFont_TTF_ALL.zip\n",
      "  inflating: /home/studio-lab-user/Dacon/tools/NanumFont/NanumBrush.ttf  \n",
      "  inflating: /home/studio-lab-user/Dacon/tools/NanumFont/NanumGothic.ttf  \n",
      "  inflating: /home/studio-lab-user/Dacon/tools/NanumFont/NanumGothicBold.ttf  \n",
      "  inflating: /home/studio-lab-user/Dacon/tools/NanumFont/NanumGothicExtraBold.ttf  \n",
      "  inflating: /home/studio-lab-user/Dacon/tools/NanumFont/NanumMyeongjo.ttf  \n",
      "  inflating: /home/studio-lab-user/Dacon/tools/NanumFont/NanumMyeongjoBold.ttf  \n",
      "  inflating: /home/studio-lab-user/Dacon/tools/NanumFont/NanumMyeongjoExtraBold.ttf  \n",
      "  inflating: /home/studio-lab-user/Dacon/tools/NanumFont/NanumPen.ttf  \n"
     ]
    }
   ],
   "source": [
    "import matplotlib as mpl\n",
    "\n",
    "# (1) NanumFont Download\n",
    "download_path = '/home/studio-lab-user/Dacon/tools'\n",
    "\n",
    "!wget http://cdn.naver.com/naver/NanumFont/fontfiles/NanumFont_TTF_ALL.zip\n",
    "!unzip -o NanumFont_TTF_ALL.zip -d $download_path/NanumFont\n",
    "!rm -f NanumFont_TTF_ALL.zip\n",
    "\n",
    "# (2) matplotlib의 path로 copy\n",
    "# os_font_path는 mpl.matplotlib_fname()로 확인\n",
    "# -> 해봤으나, 적용안됨\n",
    "# os_font_path = '/home/studio-lab-user/.conda/envs/default/lib/python3.9/site-packages/matplotlib/mpl-data/fonts'\n",
    "# !cp $download_path/NanumFont/NanumGothic.ttf $os_font_path/NanumGothic.ttf"
   ]
  },
  {
   "cell_type": "code",
   "execution_count": 2,
   "id": "b5d2e45a-bb4e-44c3-b980-bd9134f92766",
   "metadata": {},
   "outputs": [],
   "source": [
    "import matplotlib.pyplot as plt\n",
    "import matplotlib.font_manager as fm\n",
    " \n",
    "font = fm.FontProperties(fname=download_path+'/NanumFont/NanumGothic.ttf', size=10)\n",
    " \n",
    "# # 그래프에 retina display 적용\n",
    "# %config InlineBackend.figure_format = 'retina'\n",
    " \n",
    "# # Colab 의 한글 폰트 설정\n",
    "# plt.rc('font', family='NanumGothic')"
   ]
  },
  {
   "cell_type": "code",
   "execution_count": 3,
   "id": "1c83947f-c61c-45e4-afd5-9a5208686727",
   "metadata": {},
   "outputs": [
    {
     "data": {
      "text/plain": [
       "Text(0.5, 0, '나눔폰트')"
      ]
     },
     "execution_count": 3,
     "metadata": {},
     "output_type": "execute_result"
    },
    {
     "data": {
      "image/png": "[encoded data removed]",
      "text/plain": [
       "<Figure size 640x480 with 1 Axes>"
      ]
     },
     "metadata": {},
     "output_type": "display_data"
    }
   ],
   "source": [
    "plt.plot([0,1],[1,1])\n",
    "plt.xlabel('나눔폰트',fontproperties=font)"
   ]
  }
 ],
 "metadata": {
  "kernelspec": {
   "display_name": "default:Python",
   "language": "python",
   "name": "conda-env-default-py"
  },
  "language_info": {
   "codemirror_mode": {
    "name": "ipython",
    "version": 3
   },
   "file_extension": ".py",
   "mimetype": "text/x-python",
   "name": "python",
   "nbconvert_exporter": "python",
   "pygments_lexer": "ipython3",
   "version": "3.9.13"
  },
  "toc-autonumbering": true
 },
 "nbformat": 4,
 "nbformat_minor": 5
}
