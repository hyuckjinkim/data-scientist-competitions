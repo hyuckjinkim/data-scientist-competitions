{
 "cells": [
  {
   "cell_type": "markdown",
   "id": "047eec5d-0ace-4665-9ed8-e7cea04d347f",
   "metadata": {},
   "source": [
    "- 값이 큰 target에 대해서 예측이 좋지않음 -> 오버샘플링\n",
    "- loglog"
   ]
  },
  {
   "cell_type": "markdown",
   "id": "af77b913-f015-4007-be42-30ae6a333ca1",
   "metadata": {
    "tags": []
   },
   "source": [
    "# Setting"
   ]
  },
  {
   "cell_type": "code",
   "execution_count": 1,
   "id": "5c9f7d4e-ab9a-4395-bc16-bc706a1ca199",
   "metadata": {},
   "outputs": [],
   "source": [
    "import sys\n",
    "sys.path.append('/Volumes/KHJ/Github/hyuckjinkim/lib-python')"
   ]
  },
  {
   "cell_type": "code",
   "execution_count": 2,
   "id": "2854769b-3b79-4c98-84f4-52ad1b359eb5",
   "metadata": {},
   "outputs": [],
   "source": [
    "from base import gc_collect_all, setdiff\n",
    "from filesystem_utils import mkdir\n",
    "from graph import abline\n",
    "from data_prepare import (\n",
    "    get_holiday, reduce_mem_usage, delete_unique_columns,\n",
    "    TypeController, CategoricalQuantileCalculator,\n",
    "    GroupScaler, OneHotEncoder, InteractionTerm, TargetTransform,\n",
    ")"
   ]
  },
  {
   "cell_type": "code",
   "execution_count": 3,
   "id": "67449413-8042-474d-911a-2cca74a22b02",
   "metadata": {},
   "outputs": [],
   "source": [
    "gc_collect_all()"
   ]
  },
  {
   "cell_type": "code",
   "execution_count": 4,
   "id": "8cf8d4e3-cf63-4139-b1a0-1d83aa947d76",
   "metadata": {
    "tags": []
   },
   "outputs": [],
   "source": [
    "from tqdm import tqdm\n",
    "tqdm.pandas()\n",
    "\n",
    "import numpy as np\n",
    "import pandas as pd\n",
    "pd.set_option('display.max_rows', None)\n",
    "pd.set_option('display.max_columns', None)\n",
    "\n",
    "import seaborn as sns\n",
    "import matplotlib.pyplot as plt\n",
    "from matplotlib import rc\n",
    "rc('font', family='AppleGothic')\n",
    "plt.rcParams['axes.unicode_minus'] = False\n",
    "\n",
    "import datetime\n",
    "\n",
    "pd.set_option('mode.chained_assignment',  None)"
   ]
  },
  {
   "cell_type": "code",
   "execution_count": 5,
   "id": "4e858b65-34a3-4316-a786-808493234334",
   "metadata": {},
   "outputs": [],
   "source": [
    "def global_assignment(dictionary):\n",
    "    for k,v in dictionary.items():\n",
    "        exec(\"globals()['{}']=dictionary['{}']\".format(k,k))"
   ]
  },
  {
   "cell_type": "code",
   "execution_count": 6,
   "id": "fd177e5a-ea24-45ea-9307-d3a6234c6a96",
   "metadata": {},
   "outputs": [
    {
     "data": {
      "text/plain": [
       "'/Volumes/KHJ/Github/hyuckjinkim/data-scientist-competitions/Dacon/19_추석선물수요량예측'"
      ]
     },
     "execution_count": 6,
     "metadata": {},
     "output_type": "execute_result"
    }
   ],
   "source": [
    "import os\n",
    "os.getcwd()"
   ]
  },
  {
   "cell_type": "code",
   "execution_count": 7,
   "id": "e43227c3-5008-497d-a4cf-a2702ef11803",
   "metadata": {},
   "outputs": [],
   "source": [
    "mkdir(['./out','./mc'])"
   ]
  },
  {
   "cell_type": "markdown",
   "id": "5855a40f-6cce-485f-815e-4a51fecc97a6",
   "metadata": {},
   "source": [
    "<br></br>"
   ]
  },
  {
   "cell_type": "markdown",
   "id": "d639208b-27fe-4402-b257-a6d4d63cf437",
   "metadata": {},
   "source": [
    "# Configuration"
   ]
  },
  {
   "cell_type": "code",
   "execution_count": 8,
   "id": "0c366a20-8d75-4724-bdab-7fe61053aec0",
   "metadata": {},
   "outputs": [],
   "source": [
    "class CFG:\n",
    "    TARGET = '수요량'\n",
    "    \n",
    "    # feature engineering\n",
    "    SUBSET_DEPTH = 3\n",
    "    TARGET_TRANSFORMATION = 'log' # 'identity','log'\n",
    "    \n",
    "    # kfold\n",
    "    SEED = 0\n",
    "    N_SPLITS = 5"
   ]
  },
  {
   "cell_type": "markdown",
   "id": "bd9ce7a2-9780-48aa-8425-a787e6bb50cb",
   "metadata": {},
   "source": [
    "<br></br>"
   ]
  },
  {
   "cell_type": "markdown",
   "id": "27228de6-1dfa-41b4-82fc-49d90a09a10c",
   "metadata": {},
   "source": [
    "# Data Load"
   ]
  },
  {
   "cell_type": "code",
   "execution_count": 9,
   "id": "71593d6e-292c-407f-890b-2a273b09ae49",
   "metadata": {
    "tags": []
   },
   "outputs": [],
   "source": [
    "train_df = pd.read_csv('./data/train.csv')\n",
    "test_df  = pd.read_csv('./data/test.csv')"
   ]
  },
  {
   "cell_type": "code",
   "execution_count": 10,
   "id": "e65f2620-9e0b-45d1-b194-6491c2f5ddea",
   "metadata": {},
   "outputs": [
    {
     "data": {
      "text/html": [
       "<div>\n",
       "<style scoped>\n",
       "    .dataframe tbody tr th:only-of-type {\n",
       "        vertical-align: middle;\n",
       "    }\n",
       "\n",
       "    .dataframe tbody tr th {\n",
       "        vertical-align: top;\n",
       "    }\n",
       "\n",
       "    .dataframe thead th {\n",
       "        text-align: right;\n",
       "    }\n",
       "</style>\n",
       "<table border=\"1\" class=\"dataframe\">\n",
       "  <thead>\n",
       "    <tr style=\"text-align: right;\">\n",
       "      <th></th>\n",
       "      <th>ID</th>\n",
       "      <th>추석까지 남은 기간(주)</th>\n",
       "      <th>쇼핑몰 구분</th>\n",
       "      <th>가격(원)</th>\n",
       "      <th>프로모션 여부</th>\n",
       "      <th>도시 유형</th>\n",
       "      <th>지역 유형</th>\n",
       "      <th>쇼핑몰 유형</th>\n",
       "      <th>선물 유형</th>\n",
       "      <th>수요량</th>\n",
       "    </tr>\n",
       "  </thead>\n",
       "  <tbody>\n",
       "    <tr>\n",
       "      <th>0</th>\n",
       "      <td>TRAIN_0000</td>\n",
       "      <td>1</td>\n",
       "      <td>쇼핑몰 15</td>\n",
       "      <td>212000</td>\n",
       "      <td>0</td>\n",
       "      <td>도시 6</td>\n",
       "      <td>지역 1</td>\n",
       "      <td>쇼핑몰 유형 2</td>\n",
       "      <td>명절혼합과일선물세트</td>\n",
       "      <td>28</td>\n",
       "    </tr>\n",
       "    <tr>\n",
       "      <th>1</th>\n",
       "      <td>TRAIN_0001</td>\n",
       "      <td>2</td>\n",
       "      <td>쇼핑몰 72</td>\n",
       "      <td>113000</td>\n",
       "      <td>0</td>\n",
       "      <td>도시 21</td>\n",
       "      <td>지역 1</td>\n",
       "      <td>쇼핑몰 유형 1</td>\n",
       "      <td>발효홍삼선물세트</td>\n",
       "      <td>27</td>\n",
       "    </tr>\n",
       "    <tr>\n",
       "      <th>2</th>\n",
       "      <td>TRAIN_0002</td>\n",
       "      <td>0</td>\n",
       "      <td>쇼핑몰 15</td>\n",
       "      <td>67000</td>\n",
       "      <td>0</td>\n",
       "      <td>도시 6</td>\n",
       "      <td>지역 1</td>\n",
       "      <td>쇼핑몰 유형 2</td>\n",
       "      <td>실속스팸선물세트</td>\n",
       "      <td>769</td>\n",
       "    </tr>\n",
       "    <tr>\n",
       "      <th>3</th>\n",
       "      <td>TRAIN_0003</td>\n",
       "      <td>1</td>\n",
       "      <td>쇼핑몰 13</td>\n",
       "      <td>206000</td>\n",
       "      <td>0</td>\n",
       "      <td>도시 12</td>\n",
       "      <td>지역 3</td>\n",
       "      <td>쇼핑몰 유형 1</td>\n",
       "      <td>자연산프리미엄버섯선물세트</td>\n",
       "      <td>27</td>\n",
       "    </tr>\n",
       "    <tr>\n",
       "      <th>4</th>\n",
       "      <td>TRAIN_0004</td>\n",
       "      <td>1</td>\n",
       "      <td>쇼핑몰 65</td>\n",
       "      <td>140000</td>\n",
       "      <td>0</td>\n",
       "      <td>도시 16</td>\n",
       "      <td>지역 2</td>\n",
       "      <td>쇼핑몰 유형 2</td>\n",
       "      <td>자연산새우선물세트</td>\n",
       "      <td>337</td>\n",
       "    </tr>\n",
       "  </tbody>\n",
       "</table>\n",
       "</div>"
      ],
      "text/plain": [
       "           ID  추석까지 남은 기간(주)  쇼핑몰 구분   가격(원)  프로모션 여부  도시 유형 지역 유형    쇼핑몰 유형  \\\n",
       "0  TRAIN_0000              1  쇼핑몰 15  212000        0   도시 6  지역 1  쇼핑몰 유형 2   \n",
       "1  TRAIN_0001              2  쇼핑몰 72  113000        0  도시 21  지역 1  쇼핑몰 유형 1   \n",
       "2  TRAIN_0002              0  쇼핑몰 15   67000        0   도시 6  지역 1  쇼핑몰 유형 2   \n",
       "3  TRAIN_0003              1  쇼핑몰 13  206000        0  도시 12  지역 3  쇼핑몰 유형 1   \n",
       "4  TRAIN_0004              1  쇼핑몰 65  140000        0  도시 16  지역 2  쇼핑몰 유형 2   \n",
       "\n",
       "           선물 유형  수요량  \n",
       "0     명절혼합과일선물세트   28  \n",
       "1       발효홍삼선물세트   27  \n",
       "2       실속스팸선물세트  769  \n",
       "3  자연산프리미엄버섯선물세트   27  \n",
       "4      자연산새우선물세트  337  "
      ]
     },
     "execution_count": 10,
     "metadata": {},
     "output_type": "execute_result"
    }
   ],
   "source": [
    "train_df.head()"
   ]
  },
  {
   "cell_type": "markdown",
   "id": "ef227489-9783-4fb6-9372-aea831da35c3",
   "metadata": {},
   "source": [
    "<br></br>"
   ]
  },
  {
   "cell_type": "markdown",
   "id": "8b86014e-1930-4978-8b8f-f989497df81f",
   "metadata": {},
   "source": [
    "# EDA"
   ]
  },
  {
   "cell_type": "code",
   "execution_count": 11,
   "id": "85ea147c-b75c-46a4-a460-6570fb9526d2",
   "metadata": {},
   "outputs": [],
   "source": [
    "unuse_features = ['ID']\n",
    "cat_features = ['추석까지 남은 기간(주)','쇼핑몰 구분','도시 유형','지역 유형','쇼핑몰 유형','선물 유형']\n",
    "num_features = ['가격(원)']\n",
    "dummy_features = ['프로모션 여부']"
   ]
  },
  {
   "cell_type": "code",
   "execution_count": 12,
   "id": "edf5fe33-8ed7-4aa4-b84f-38b65305513e",
   "metadata": {},
   "outputs": [
    {
     "data": {
      "text/plain": [
       "추석까지 남은 기간(주)     3\n",
       "쇼핑몰 구분           77\n",
       "도시 유형            24\n",
       "지역 유형             8\n",
       "쇼핑몰 유형            3\n",
       "선물 유형            51\n",
       "프로모션 여부           2\n",
       "dtype: int64"
      ]
     },
     "execution_count": 12,
     "metadata": {},
     "output_type": "execute_result"
    }
   ],
   "source": [
    "train_df[cat_features+dummy_features].nunique()"
   ]
  },
  {
   "cell_type": "code",
   "execution_count": 13,
   "id": "000ff17f-5d71-4800-8285-41bcf3018581",
   "metadata": {},
   "outputs": [
    {
     "data": {
      "text/plain": [
       "ID               0\n",
       "추석까지 남은 기간(주)    0\n",
       "쇼핑몰 구분           0\n",
       "가격(원)            0\n",
       "프로모션 여부          0\n",
       "도시 유형            0\n",
       "지역 유형            0\n",
       "쇼핑몰 유형           0\n",
       "선물 유형            0\n",
       "수요량              0\n",
       "dtype: int64"
      ]
     },
     "metadata": {},
     "output_type": "display_data"
    },
    {
     "data": {
      "text/plain": [
       "ID               0\n",
       "추석까지 남은 기간(주)    0\n",
       "쇼핑몰 구분           0\n",
       "가격(원)            0\n",
       "프로모션 여부          0\n",
       "도시 유형            0\n",
       "지역 유형            0\n",
       "쇼핑몰 유형           0\n",
       "선물 유형            0\n",
       "dtype: int64"
      ]
     },
     "metadata": {},
     "output_type": "display_data"
    }
   ],
   "source": [
    "display(train_df.isnull().sum())\n",
    "display(test_df.isnull().sum())"
   ]
  },
  {
   "cell_type": "markdown",
   "id": "981a953c-8706-43c3-8e90-025ad2f0fa62",
   "metadata": {},
   "source": [
    "<br>"
   ]
  },
  {
   "cell_type": "markdown",
   "id": "1b71d1a9-6fb2-4d18-9879-49f43c834664",
   "metadata": {},
   "source": [
    "## target"
   ]
  },
  {
   "cell_type": "code",
   "execution_count": 14,
   "id": "e0b60b74-5095-48a7-a9ad-4f16490a80be",
   "metadata": {},
   "outputs": [],
   "source": [
    "def histplot_with_boxplot_above(x)->None:\n",
    "    f, (ax_box, ax_hist) = plt.subplots(2,figsize=(15,7),sharex=True,gridspec_kw={\"height_ratios\":(.15,.85)})\n",
    "\n",
    "    ax_box = sns.boxplot(x=x, ax=ax_box)\n",
    "    ax_box.set_xlabel('')\n",
    "    ax_hist = sns.histplot(x, kde=True, stat='density', ax=ax_hist)\n",
    "    ax_hist.grid()\n",
    "\n",
    "    ax_box.set(yticks=[])\n",
    "    sns.despine(ax=ax_hist)\n",
    "    sns.despine(ax=ax_box, left=True)\n",
    "    plt.show()"
   ]
  },
  {
   "cell_type": "code",
   "execution_count": 15,
   "id": "c620cf00-ee2b-47b2-8907-c34ea5d081cb",
   "metadata": {},
   "outputs": [
    {
     "data": {
      "text/plain": [
       "count    5872.000000\n",
       "mean      264.313692\n",
       "std       338.789214\n",
       "min        13.000000\n",
       "25%        54.000000\n",
       "50%       136.000000\n",
       "75%       350.000000\n",
       "max      4455.000000\n",
       "Name: 수요량, dtype: float64"
      ]
     },
     "execution_count": 15,
     "metadata": {},
     "output_type": "execute_result"
    }
   ],
   "source": [
    "train_df[CFG.TARGET].describe()"
   ]
  },
  {
   "cell_type": "code",
   "execution_count": 16,
   "id": "212beacf-379b-4b66-a38d-8ed6719f348b",
   "metadata": {},
   "outputs": [
    {
     "data": {
      "text/html": [
       "<div>\n",
       "<style scoped>\n",
       "    .dataframe tbody tr th:only-of-type {\n",
       "        vertical-align: middle;\n",
       "    }\n",
       "\n",
       "    .dataframe tbody tr th {\n",
       "        vertical-align: top;\n",
       "    }\n",
       "\n",
       "    .dataframe thead th {\n",
       "        text-align: right;\n",
       "    }\n",
       "</style>\n",
       "<table border=\"1\" class=\"dataframe\">\n",
       "  <thead>\n",
       "    <tr style=\"text-align: right;\">\n",
       "      <th></th>\n",
       "      <th>ID</th>\n",
       "      <th>추석까지 남은 기간(주)</th>\n",
       "      <th>쇼핑몰 구분</th>\n",
       "      <th>가격(원)</th>\n",
       "      <th>프로모션 여부</th>\n",
       "      <th>도시 유형</th>\n",
       "      <th>지역 유형</th>\n",
       "      <th>쇼핑몰 유형</th>\n",
       "      <th>선물 유형</th>\n",
       "      <th>수요량</th>\n",
       "    </tr>\n",
       "  </thead>\n",
       "  <tbody>\n",
       "    <tr>\n",
       "      <th>0</th>\n",
       "      <td>TRAIN_0000</td>\n",
       "      <td>1</td>\n",
       "      <td>쇼핑몰 15</td>\n",
       "      <td>212000</td>\n",
       "      <td>0</td>\n",
       "      <td>도시 6</td>\n",
       "      <td>지역 1</td>\n",
       "      <td>쇼핑몰 유형 2</td>\n",
       "      <td>명절혼합과일선물세트</td>\n",
       "      <td>28</td>\n",
       "    </tr>\n",
       "    <tr>\n",
       "      <th>1</th>\n",
       "      <td>TRAIN_0001</td>\n",
       "      <td>2</td>\n",
       "      <td>쇼핑몰 72</td>\n",
       "      <td>113000</td>\n",
       "      <td>0</td>\n",
       "      <td>도시 21</td>\n",
       "      <td>지역 1</td>\n",
       "      <td>쇼핑몰 유형 1</td>\n",
       "      <td>발효홍삼선물세트</td>\n",
       "      <td>27</td>\n",
       "    </tr>\n",
       "    <tr>\n",
       "      <th>2</th>\n",
       "      <td>TRAIN_0002</td>\n",
       "      <td>0</td>\n",
       "      <td>쇼핑몰 15</td>\n",
       "      <td>67000</td>\n",
       "      <td>0</td>\n",
       "      <td>도시 6</td>\n",
       "      <td>지역 1</td>\n",
       "      <td>쇼핑몰 유형 2</td>\n",
       "      <td>실속스팸선물세트</td>\n",
       "      <td>769</td>\n",
       "    </tr>\n",
       "    <tr>\n",
       "      <th>3</th>\n",
       "      <td>TRAIN_0003</td>\n",
       "      <td>1</td>\n",
       "      <td>쇼핑몰 13</td>\n",
       "      <td>206000</td>\n",
       "      <td>0</td>\n",
       "      <td>도시 12</td>\n",
       "      <td>지역 3</td>\n",
       "      <td>쇼핑몰 유형 1</td>\n",
       "      <td>자연산프리미엄버섯선물세트</td>\n",
       "      <td>27</td>\n",
       "    </tr>\n",
       "    <tr>\n",
       "      <th>4</th>\n",
       "      <td>TRAIN_0004</td>\n",
       "      <td>1</td>\n",
       "      <td>쇼핑몰 65</td>\n",
       "      <td>140000</td>\n",
       "      <td>0</td>\n",
       "      <td>도시 16</td>\n",
       "      <td>지역 2</td>\n",
       "      <td>쇼핑몰 유형 2</td>\n",
       "      <td>자연산새우선물세트</td>\n",
       "      <td>337</td>\n",
       "    </tr>\n",
       "  </tbody>\n",
       "</table>\n",
       "</div>"
      ],
      "text/plain": [
       "           ID  추석까지 남은 기간(주)  쇼핑몰 구분   가격(원)  프로모션 여부  도시 유형 지역 유형    쇼핑몰 유형  \\\n",
       "0  TRAIN_0000              1  쇼핑몰 15  212000        0   도시 6  지역 1  쇼핑몰 유형 2   \n",
       "1  TRAIN_0001              2  쇼핑몰 72  113000        0  도시 21  지역 1  쇼핑몰 유형 1   \n",
       "2  TRAIN_0002              0  쇼핑몰 15   67000        0   도시 6  지역 1  쇼핑몰 유형 2   \n",
       "3  TRAIN_0003              1  쇼핑몰 13  206000        0  도시 12  지역 3  쇼핑몰 유형 1   \n",
       "4  TRAIN_0004              1  쇼핑몰 65  140000        0  도시 16  지역 2  쇼핑몰 유형 2   \n",
       "\n",
       "           선물 유형  수요량  \n",
       "0     명절혼합과일선물세트   28  \n",
       "1       발효홍삼선물세트   27  \n",
       "2       실속스팸선물세트  769  \n",
       "3  자연산프리미엄버섯선물세트   27  \n",
       "4      자연산새우선물세트  337  "
      ]
     },
     "execution_count": 16,
     "metadata": {},
     "output_type": "execute_result"
    }
   ],
   "source": [
    "train_df.head()"
   ]
  },
  {
   "cell_type": "code",
   "execution_count": 17,
   "id": "b6586490-6813-4628-a510-4fc12c5912f4",
   "metadata": {},
   "outputs": [
    {
     "data": {
      "image/png": "[encoded data removed]",
      "text/plain": [
       "<Figure size 1080x504 with 2 Axes>"
      ]
     },
     "metadata": {
      "needs_background": "light"
     },
     "output_type": "display_data"
    },
    {
     "data": {
      "image/png": "[encoded data removed]",
      "text/plain": [
       "<Figure size 1080x504 with 2 Axes>"
      ]
     },
     "metadata": {
      "needs_background": "light"
     },
     "output_type": "display_data"
    },
    {
     "data": {
      "image/png": "[encoded data removed]",
      "text/plain": [
       "<Figure size 1080x504 with 2 Axes>"
      ]
     },
     "metadata": {
      "needs_background": "light"
     },
     "output_type": "display_data"
    }
   ],
   "source": [
    "histplot_with_boxplot_above(train_df[CFG.TARGET])\n",
    "histplot_with_boxplot_above(np.log(train_df[CFG.TARGET]))\n",
    "histplot_with_boxplot_above(np.log(train_df[CFG.TARGET]-13+np.exp(0)))"
   ]
  },
  {
   "cell_type": "code",
   "execution_count": 18,
   "id": "357589cb-d2c2-40a1-8ae6-603e3a4bdbfa",
   "metadata": {},
   "outputs": [
    {
     "name": "stdout",
     "output_type": "stream",
     "text": [
      "9\n"
     ]
    },
    {
     "data": {
      "text/plain": [
       "쇼핑몰 유형    추석까지 남은 기간(주)\n",
       "쇼핑몰 유형 3  0                 403\n",
       "쇼핑몰 유형 2  2                 409\n",
       "          1                 417\n",
       "쇼핑몰 유형 3  2                 418\n",
       "          1                 425\n",
       "쇼핑몰 유형 2  0                 440\n",
       "쇼핑몰 유형 1  2                1071\n",
       "          1                1136\n",
       "          0                1153\n",
       "dtype: int64"
      ]
     },
     "execution_count": 18,
     "metadata": {},
     "output_type": "execute_result"
    }
   ],
   "source": [
    "grp = ['쇼핑몰 유형','추석까지 남은 기간(주)']\n",
    "print(len(train_df.groupby(grp)))\n",
    "train_df.groupby(grp).size().sort_values()"
   ]
  },
  {
   "cell_type": "code",
   "execution_count": 19,
   "id": "fe838398-dc9e-46d9-b34b-656297814414",
   "metadata": {},
   "outputs": [
    {
     "name": "stdout",
     "output_type": "stream",
     "text": [
      "('쇼핑몰 유형 1', 0)\n"
     ]
    },
    {
     "data": {
      "image/png": "[encoded data removed]",
      "text/plain": [
       "<Figure size 1080x504 with 2 Axes>"
      ]
     },
     "metadata": {
      "needs_background": "light"
     },
     "output_type": "display_data"
    },
    {
     "name": "stdout",
     "output_type": "stream",
     "text": [
      "('쇼핑몰 유형 1', 1)\n"
     ]
    },
    {
     "data": {
      "image/png": "[encoded data removed]",
      "text/plain": [
       "<Figure size 1080x504 with 2 Axes>"
      ]
     },
     "metadata": {
      "needs_background": "light"
     },
     "output_type": "display_data"
    },
    {
     "name": "stdout",
     "output_type": "stream",
     "text": [
      "('쇼핑몰 유형 1', 2)\n"
     ]
    },
    {
     "data": {
      "image/png": "[encoded data removed]",
      "text/plain": [
       "<Figure size 1080x504 with 2 Axes>"
      ]
     },
     "metadata": {
      "needs_background": "light"
     },
     "output_type": "display_data"
    },
    {
     "name": "stdout",
     "output_type": "stream",
     "text": [
      "('쇼핑몰 유형 2', 0)\n"
     ]
    },
    {
     "data": {
      "image/png": "[encoded data removed]",
      "text/plain": [
       "<Figure size 1080x504 with 2 Axes>"
      ]
     },
     "metadata": {
      "needs_background": "light"
     },
     "output_type": "display_data"
    },
    {
     "name": "stdout",
     "output_type": "stream",
     "text": [
      "('쇼핑몰 유형 2', 1)\n"
     ]
    },
    {
     "data": {
      "image/png": "[encoded data removed]",
      "text/plain": [
       "<Figure size 1080x504 with 2 Axes>"
      ]
     },
     "metadata": {
      "needs_background": "light"
     },
     "output_type": "display_data"
    },
    {
     "name": "stdout",
     "output_type": "stream",
     "text": [
      "('쇼핑몰 유형 2', 2)\n"
     ]
    },
    {
     "data": {
      "image/png": "[encoded data removed]",
      "text/plain": [
       "<Figure size 1080x504 with 2 Axes>"
      ]
     },
     "metadata": {
      "needs_background": "light"
     },
     "output_type": "display_data"
    },
    {
     "name": "stdout",
     "output_type": "stream",
     "text": [
      "('쇼핑몰 유형 3', 0)\n"
     ]
    },
    {
     "data": {
      "image/png": "[encoded data removed]",
      "text/plain": [
       "<Figure size 1080x504 with 2 Axes>"
      ]
     },
     "metadata": {
      "needs_background": "light"
     },
     "output_type": "display_data"
    },
    {
     "name": "stdout",
     "output_type": "stream",
     "text": [
      "('쇼핑몰 유형 3', 1)\n"
     ]
    },
    {
     "data": {
      "image/png": "[encoded data removed]",
      "text/plain": [
       "<Figure size 1080x504 with 2 Axes>"
      ]
     },
     "metadata": {
      "needs_background": "light"
     },
     "output_type": "display_data"
    },
    {
     "name": "stdout",
     "output_type": "stream",
     "text": [
      "('쇼핑몰 유형 3', 2)\n"
     ]
    },
    {
     "data": {
      "image/png": "[encoded data removed]",
      "text/plain": [
       "<Figure size 1080x504 with 2 Axes>"
      ]
     },
     "metadata": {
      "needs_background": "light"
     },
     "output_type": "display_data"
    }
   ],
   "source": [
    "for idx,d in train_df.groupby(grp):\n",
    "    print(idx)\n",
    "    histplot_with_boxplot_above(np.log(d[CFG.TARGET]))"
   ]
  },
  {
   "cell_type": "markdown",
   "id": "02639c7e-a925-41ca-ab8e-3171a8106425",
   "metadata": {},
   "source": [
    "<br>"
   ]
  },
  {
   "cell_type": "markdown",
   "id": "09089f32-ef1d-425f-87ee-0bd495beac80",
   "metadata": {},
   "source": [
    "## numeric 1D"
   ]
  },
  {
   "cell_type": "markdown",
   "id": "e376c7da-d320-409f-9dbc-fbc788e66ccd",
   "metadata": {},
   "source": [
    "feature vs target scatterplot"
   ]
  },
  {
   "cell_type": "code",
   "execution_count": 20,
   "id": "d1fc684c-ef5f-4d1b-aef9-7cca5a8436b3",
   "metadata": {},
   "outputs": [],
   "source": [
    "# # 같은 가격인데도 수요량은 많이 다름\n",
    "# plt.figure(figsize=(15,7))\n",
    "# sns.scatterplot(x=train_df['가격(원)'],y=train_df[CFG.TARGET])\n",
    "# plt.grid()\n",
    "# plt.show()"
   ]
  },
  {
   "cell_type": "markdown",
   "id": "736c3892-fcbe-4e91-a6d1-da783f65379d",
   "metadata": {},
   "source": [
    "<br>"
   ]
  },
  {
   "cell_type": "markdown",
   "id": "283ae39c-3647-4328-8906-7bfea73dc0a7",
   "metadata": {},
   "source": [
    "## categogical 1D"
   ]
  },
  {
   "cell_type": "code",
   "execution_count": 21,
   "id": "54b18ff1-91db-4eb6-acd4-c6a5faa8f756",
   "metadata": {},
   "outputs": [],
   "source": [
    "# 테스트셋에만 존재하는 값은 없음\n",
    "for col in cat_features+dummy_features:\n",
    "    test_only_value = setdiff(test_df[col].unique(),train_df[col].unique())\n",
    "    if len(test_only_value)>0:\n",
    "        print('Exist only in test dataset. {}: {} values'.format(col,len(test_only_value)))"
   ]
  },
  {
   "cell_type": "code",
   "execution_count": 22,
   "id": "9c1531b5-e4ac-4544-8cc6-c50ed80e9c3f",
   "metadata": {},
   "outputs": [
    {
     "data": {
      "image/png": "[encoded data removed]",
      "text/plain": [
       "<Figure size 1080x504 with 1 Axes>"
      ]
     },
     "metadata": {
      "needs_background": "light"
     },
     "output_type": "display_data"
    },
    {
     "data": {
      "image/png": "[encoded data removed]",
      "text/plain": [
       "<Figure size 1080x504 with 1 Axes>"
      ]
     },
     "metadata": {
      "needs_background": "light"
     },
     "output_type": "display_data"
    },
    {
     "data": {
      "image/png": "[encoded data removed]",
      "text/plain": [
       "<Figure size 1080x504 with 1 Axes>"
      ]
     },
     "metadata": {
      "needs_background": "light"
     },
     "output_type": "display_data"
    },
    {
     "data": {
      "image/png": "[encoded data removed]",
      "text/plain": [
       "<Figure size 1080x504 with 1 Axes>"
      ]
     },
     "metadata": {
      "needs_background": "light"
     },
     "output_type": "display_data"
    },
    {
     "data": {
      "image/png": "[encoded data removed]",
      "text/plain": [
       "<Figure size 1080x504 with 1 Axes>"
      ]
     },
     "metadata": {
      "needs_background": "light"
     },
     "output_type": "display_data"
    },
    {
     "data": {
      "image/png": "[encoded data removed]",
      "text/plain": [
       "<Figure size 1080x504 with 1 Axes>"
      ]
     },
     "metadata": {
      "needs_background": "light"
     },
     "output_type": "display_data"
    },
    {
     "data": {
      "image/png": "[encoded data removed]",
      "text/plain": [
       "<Figure size 1080x504 with 1 Axes>"
      ]
     },
     "metadata": {
      "needs_background": "light"
     },
     "output_type": "display_data"
    }
   ],
   "source": [
    "y = np.log(train_df[CFG.TARGET])\n",
    "for col in cat_features+dummy_features:\n",
    "    plt.figure(figsize=(15,7))\n",
    "    sns.boxplot(x=train_df[col],y=y)\n",
    "    plt.grid()\n",
    "    plt.xticks(rotation=90)\n",
    "    plt.show()"
   ]
  },
  {
   "cell_type": "markdown",
   "id": "c158622b-6059-457f-a23a-f74233d78391",
   "metadata": {},
   "source": [
    "<br></br>"
   ]
  },
  {
   "cell_type": "markdown",
   "id": "b7d36296-25b7-4f24-8ec2-46b5e10edd50",
   "metadata": {},
   "source": [
    "# Make Segment"
   ]
  },
  {
   "cell_type": "code",
   "execution_count": 23,
   "id": "dc5a61d1-5794-489c-abab-fb2d09848fd9",
   "metadata": {},
   "outputs": [],
   "source": [
    "segment_feature = 'segment'\n",
    "# segment_feature = None"
   ]
  },
  {
   "cell_type": "code",
   "execution_count": 24,
   "id": "d207ca6c-b0b7-4068-8959-752430cb3349",
   "metadata": {},
   "outputs": [
    {
     "name": "stdout",
     "output_type": "stream",
     "text": [
      "[]\n"
     ]
    },
    {
     "data": {
      "text/plain": [
       "0    5371\n",
       "1     501\n",
       "Name: segment, dtype: int64"
      ]
     },
     "metadata": {},
     "output_type": "display_data"
    },
    {
     "data": {
      "image/png": "[encoded data removed]",
      "text/plain": [
       "<Figure size 1080x504 with 1 Axes>"
      ]
     },
     "metadata": {
      "needs_background": "light"
     },
     "output_type": "display_data"
    }
   ],
   "source": [
    "if segment_feature=='segment':\n",
    "    # ['선물 유형']\n",
    "    # ['선물 유형','프로모션 여부']\n",
    "    # ['쇼핑몰 유형','추석까지 남은 기간(주)']\n",
    "    segment_features = ['프로모션 여부']\n",
    "    train_df['segment'] = ['_'.join(x) for x in train_df[segment_features].astype(str).values]\n",
    "    test_df ['segment'] = ['_'.join(x) for x in test_df [segment_features].astype(str).values]\n",
    "\n",
    "    # 테스트셋에만 존재하는 값이 있는지 확인\n",
    "    print(setdiff(test_df['segment'].unique(),train_df['segment'].unique()))\n",
    "\n",
    "    # segment freq 확인\n",
    "    display(train_df['segment'].value_counts())\n",
    "\n",
    "    # segment별 target의 boxplot 확인\n",
    "    x = train_df['segment']\n",
    "    y = np.log(train_df[CFG.TARGET])\n",
    "\n",
    "    plt.figure(figsize=(15,7))\n",
    "    sns.boxplot(x=x,y=y)\n",
    "    plt.grid()\n",
    "    plt.xticks(rotation=90)\n",
    "    plt.show()\n",
    "else:\n",
    "    segment_features = []"
   ]
  },
  {
   "cell_type": "markdown",
   "id": "a41d2f30-72df-4633-bee9-af7c24656d6c",
   "metadata": {},
   "source": [
    "<br></br>"
   ]
  },
  {
   "cell_type": "markdown",
   "id": "a4383a6f-9050-449a-84f3-bc543730e3e0",
   "metadata": {},
   "source": [
    "# Data Preprocess"
   ]
  },
  {
   "cell_type": "markdown",
   "id": "3f434013-c7fa-42e5-b64f-fbbb57515f66",
   "metadata": {},
   "source": [
    "## Derived Features"
   ]
  },
  {
   "cell_type": "code",
   "execution_count": 25,
   "id": "53d754be-0296-450a-8e94-296c8bb6c0f6",
   "metadata": {
    "tags": []
   },
   "outputs": [],
   "source": [
    "def derived_features(data):\n",
    "    d = data.copy()\n",
    "    return d"
   ]
  },
  {
   "cell_type": "code",
   "execution_count": 26,
   "id": "daebacbe-0a55-4057-b95b-85d4c0837a6b",
   "metadata": {
    "tags": []
   },
   "outputs": [],
   "source": [
    "train_df1 = derived_features(train_df)\n",
    "test_df1  = derived_features(test_df)\n",
    "\n",
    "type_controller = TypeController(\n",
    "    unuse_features=unuse_features+segment_features,\n",
    "    target_feature=CFG.TARGET,\n",
    "    cat_features=cat_features,\n",
    "    segment_feature=segment_feature,\n",
    ")\n",
    "type_controller.fit(train_df1)\n",
    "global_assignment(type_controller.get_feature_type())\n",
    "\n",
    "train_df1 = type_controller.transform(train_df1)\n",
    "test_df1  = type_controller.transform(test_df1)"
   ]
  },
  {
   "cell_type": "code",
   "execution_count": 27,
   "id": "8009aba5-9565-4209-947b-f895601d57c1",
   "metadata": {},
   "outputs": [
    {
     "data": {
      "text/plain": [
       "{'target_feature': '수요량',\n",
       " 'unuse_features': ['ID', '프로모션 여부'],\n",
       " 'dummy_features': [],\n",
       " 'cat_features': ['추석까지 남은 기간(주)',\n",
       "  '쇼핑몰 구분',\n",
       "  '도시 유형',\n",
       "  '지역 유형',\n",
       "  '쇼핑몰 유형',\n",
       "  '선물 유형'],\n",
       " 'num_features': ['가격(원)'],\n",
       " 'segment_feature': 'segment'}"
      ]
     },
     "execution_count": 27,
     "metadata": {},
     "output_type": "execute_result"
    }
   ],
   "source": [
    "type_controller.get_feature_type()"
   ]
  },
  {
   "cell_type": "code",
   "execution_count": 28,
   "id": "e9b6a83b-aa86-4dd7-8534-e217105acc4a",
   "metadata": {
    "tags": []
   },
   "outputs": [
    {
     "data": {
      "text/html": [
       "<div>\n",
       "<style scoped>\n",
       "    .dataframe tbody tr th:only-of-type {\n",
       "        vertical-align: middle;\n",
       "    }\n",
       "\n",
       "    .dataframe tbody tr th {\n",
       "        vertical-align: top;\n",
       "    }\n",
       "\n",
       "    .dataframe thead th {\n",
       "        text-align: right;\n",
       "    }\n",
       "</style>\n",
       "<table border=\"1\" class=\"dataframe\">\n",
       "  <thead>\n",
       "    <tr style=\"text-align: right;\">\n",
       "      <th></th>\n",
       "      <th>ID</th>\n",
       "      <th>추석까지 남은 기간(주)</th>\n",
       "      <th>쇼핑몰 구분</th>\n",
       "      <th>가격(원)</th>\n",
       "      <th>프로모션 여부</th>\n",
       "      <th>도시 유형</th>\n",
       "      <th>지역 유형</th>\n",
       "      <th>쇼핑몰 유형</th>\n",
       "      <th>선물 유형</th>\n",
       "      <th>수요량</th>\n",
       "      <th>segment</th>\n",
       "    </tr>\n",
       "  </thead>\n",
       "  <tbody>\n",
       "    <tr>\n",
       "      <th>0</th>\n",
       "      <td>TRAIN_0000</td>\n",
       "      <td>1</td>\n",
       "      <td>쇼핑몰 15</td>\n",
       "      <td>212000.0</td>\n",
       "      <td>0</td>\n",
       "      <td>도시 6</td>\n",
       "      <td>지역 1</td>\n",
       "      <td>쇼핑몰 유형 2</td>\n",
       "      <td>명절혼합과일선물세트</td>\n",
       "      <td>28</td>\n",
       "      <td>0</td>\n",
       "    </tr>\n",
       "    <tr>\n",
       "      <th>1</th>\n",
       "      <td>TRAIN_0001</td>\n",
       "      <td>2</td>\n",
       "      <td>쇼핑몰 72</td>\n",
       "      <td>113000.0</td>\n",
       "      <td>0</td>\n",
       "      <td>도시 21</td>\n",
       "      <td>지역 1</td>\n",
       "      <td>쇼핑몰 유형 1</td>\n",
       "      <td>발효홍삼선물세트</td>\n",
       "      <td>27</td>\n",
       "      <td>0</td>\n",
       "    </tr>\n",
       "    <tr>\n",
       "      <th>2</th>\n",
       "      <td>TRAIN_0002</td>\n",
       "      <td>0</td>\n",
       "      <td>쇼핑몰 15</td>\n",
       "      <td>67000.0</td>\n",
       "      <td>0</td>\n",
       "      <td>도시 6</td>\n",
       "      <td>지역 1</td>\n",
       "      <td>쇼핑몰 유형 2</td>\n",
       "      <td>실속스팸선물세트</td>\n",
       "      <td>769</td>\n",
       "      <td>0</td>\n",
       "    </tr>\n",
       "    <tr>\n",
       "      <th>3</th>\n",
       "      <td>TRAIN_0003</td>\n",
       "      <td>1</td>\n",
       "      <td>쇼핑몰 13</td>\n",
       "      <td>206000.0</td>\n",
       "      <td>0</td>\n",
       "      <td>도시 12</td>\n",
       "      <td>지역 3</td>\n",
       "      <td>쇼핑몰 유형 1</td>\n",
       "      <td>자연산프리미엄버섯선물세트</td>\n",
       "      <td>27</td>\n",
       "      <td>0</td>\n",
       "    </tr>\n",
       "    <tr>\n",
       "      <th>4</th>\n",
       "      <td>TRAIN_0004</td>\n",
       "      <td>1</td>\n",
       "      <td>쇼핑몰 65</td>\n",
       "      <td>140000.0</td>\n",
       "      <td>0</td>\n",
       "      <td>도시 16</td>\n",
       "      <td>지역 2</td>\n",
       "      <td>쇼핑몰 유형 2</td>\n",
       "      <td>자연산새우선물세트</td>\n",
       "      <td>337</td>\n",
       "      <td>0</td>\n",
       "    </tr>\n",
       "  </tbody>\n",
       "</table>\n",
       "</div>"
      ],
      "text/plain": [
       "           ID 추석까지 남은 기간(주)  쇼핑몰 구분     가격(원)  프로모션 여부  도시 유형 지역 유형    쇼핑몰 유형  \\\n",
       "0  TRAIN_0000             1  쇼핑몰 15  212000.0        0   도시 6  지역 1  쇼핑몰 유형 2   \n",
       "1  TRAIN_0001             2  쇼핑몰 72  113000.0        0  도시 21  지역 1  쇼핑몰 유형 1   \n",
       "2  TRAIN_0002             0  쇼핑몰 15   67000.0        0   도시 6  지역 1  쇼핑몰 유형 2   \n",
       "3  TRAIN_0003             1  쇼핑몰 13  206000.0        0  도시 12  지역 3  쇼핑몰 유형 1   \n",
       "4  TRAIN_0004             1  쇼핑몰 65  140000.0        0  도시 16  지역 2  쇼핑몰 유형 2   \n",
       "\n",
       "           선물 유형  수요량 segment  \n",
       "0     명절혼합과일선물세트   28       0  \n",
       "1       발효홍삼선물세트   27       0  \n",
       "2       실속스팸선물세트  769       0  \n",
       "3  자연산프리미엄버섯선물세트   27       0  \n",
       "4      자연산새우선물세트  337       0  "
      ]
     },
     "execution_count": 28,
     "metadata": {},
     "output_type": "execute_result"
    }
   ],
   "source": [
    "train_df1.head()"
   ]
  },
  {
   "cell_type": "code",
   "execution_count": 29,
   "id": "40371638-3ff7-4e84-9509-067c977fecd3",
   "metadata": {
    "tags": []
   },
   "outputs": [
    {
     "data": {
      "text/html": [
       "<div>\n",
       "<style scoped>\n",
       "    .dataframe tbody tr th:only-of-type {\n",
       "        vertical-align: middle;\n",
       "    }\n",
       "\n",
       "    .dataframe tbody tr th {\n",
       "        vertical-align: top;\n",
       "    }\n",
       "\n",
       "    .dataframe thead th {\n",
       "        text-align: right;\n",
       "    }\n",
       "</style>\n",
       "<table border=\"1\" class=\"dataframe\">\n",
       "  <thead>\n",
       "    <tr style=\"text-align: right;\">\n",
       "      <th></th>\n",
       "      <th>ID</th>\n",
       "      <th>추석까지 남은 기간(주)</th>\n",
       "      <th>쇼핑몰 구분</th>\n",
       "      <th>가격(원)</th>\n",
       "      <th>프로모션 여부</th>\n",
       "      <th>도시 유형</th>\n",
       "      <th>지역 유형</th>\n",
       "      <th>쇼핑몰 유형</th>\n",
       "      <th>선물 유형</th>\n",
       "      <th>segment</th>\n",
       "    </tr>\n",
       "  </thead>\n",
       "  <tbody>\n",
       "    <tr>\n",
       "      <th>0</th>\n",
       "      <td>TEST_0000</td>\n",
       "      <td>2</td>\n",
       "      <td>쇼핑몰 71</td>\n",
       "      <td>113000.0</td>\n",
       "      <td>0</td>\n",
       "      <td>도시 16</td>\n",
       "      <td>지역 3</td>\n",
       "      <td>쇼핑몰 유형 1</td>\n",
       "      <td>상주반건시곶감선물세트</td>\n",
       "      <td>0</td>\n",
       "    </tr>\n",
       "    <tr>\n",
       "      <th>1</th>\n",
       "      <td>TEST_0001</td>\n",
       "      <td>0</td>\n",
       "      <td>쇼핑몰 57</td>\n",
       "      <td>224000.0</td>\n",
       "      <td>0</td>\n",
       "      <td>도시 6</td>\n",
       "      <td>지역 1</td>\n",
       "      <td>쇼핑몰 유형 2</td>\n",
       "      <td>고급한과선물세트</td>\n",
       "      <td>0</td>\n",
       "    </tr>\n",
       "    <tr>\n",
       "      <th>2</th>\n",
       "      <td>TEST_0002</td>\n",
       "      <td>2</td>\n",
       "      <td>쇼핑몰 38</td>\n",
       "      <td>150000.0</td>\n",
       "      <td>0</td>\n",
       "      <td>도시 16</td>\n",
       "      <td>지역 1</td>\n",
       "      <td>쇼핑몰 유형 2</td>\n",
       "      <td>최고의선택스팸선물세트</td>\n",
       "      <td>0</td>\n",
       "    </tr>\n",
       "    <tr>\n",
       "      <th>3</th>\n",
       "      <td>TEST_0003</td>\n",
       "      <td>1</td>\n",
       "      <td>쇼핑몰 50</td>\n",
       "      <td>132000.0</td>\n",
       "      <td>0</td>\n",
       "      <td>도시 16</td>\n",
       "      <td>지역 3</td>\n",
       "      <td>쇼핑몰 유형 1</td>\n",
       "      <td>재래김특선세트</td>\n",
       "      <td>0</td>\n",
       "    </tr>\n",
       "    <tr>\n",
       "      <th>4</th>\n",
       "      <td>TEST_0004</td>\n",
       "      <td>0</td>\n",
       "      <td>쇼핑몰 55</td>\n",
       "      <td>146000.0</td>\n",
       "      <td>0</td>\n",
       "      <td>도시 5</td>\n",
       "      <td>지역 4</td>\n",
       "      <td>쇼핑몰 유형 2</td>\n",
       "      <td>명품샤인머스캣선물세트</td>\n",
       "      <td>0</td>\n",
       "    </tr>\n",
       "  </tbody>\n",
       "</table>\n",
       "</div>"
      ],
      "text/plain": [
       "          ID 추석까지 남은 기간(주)  쇼핑몰 구분     가격(원)  프로모션 여부  도시 유형 지역 유형    쇼핑몰 유형  \\\n",
       "0  TEST_0000             2  쇼핑몰 71  113000.0        0  도시 16  지역 3  쇼핑몰 유형 1   \n",
       "1  TEST_0001             0  쇼핑몰 57  224000.0        0   도시 6  지역 1  쇼핑몰 유형 2   \n",
       "2  TEST_0002             2  쇼핑몰 38  150000.0        0  도시 16  지역 1  쇼핑몰 유형 2   \n",
       "3  TEST_0003             1  쇼핑몰 50  132000.0        0  도시 16  지역 3  쇼핑몰 유형 1   \n",
       "4  TEST_0004             0  쇼핑몰 55  146000.0        0   도시 5  지역 4  쇼핑몰 유형 2   \n",
       "\n",
       "         선물 유형 segment  \n",
       "0  상주반건시곶감선물세트       0  \n",
       "1     고급한과선물세트       0  \n",
       "2  최고의선택스팸선물세트       0  \n",
       "3      재래김특선세트       0  \n",
       "4  명품샤인머스캣선물세트       0  "
      ]
     },
     "execution_count": 29,
     "metadata": {},
     "output_type": "execute_result"
    }
   ],
   "source": [
    "test_df1.head()"
   ]
  },
  {
   "cell_type": "markdown",
   "id": "73355e64-3ad2-47ce-ab08-9a0687bf34ae",
   "metadata": {},
   "source": [
    "<br>"
   ]
  },
  {
   "cell_type": "markdown",
   "id": "1b3bb974-6827-4a11-b5a7-8a8ac6e9242d",
   "metadata": {},
   "source": [
    "## Imputation"
   ]
  },
  {
   "cell_type": "code",
   "execution_count": 30,
   "id": "b1659ac3-5236-423e-a5a6-13ac5e9d22b9",
   "metadata": {},
   "outputs": [],
   "source": [
    "train_df2 = train_df1.copy()\n",
    "test_df2  = test_df1 .copy()"
   ]
  },
  {
   "cell_type": "code",
   "execution_count": 31,
   "id": "0cfbf865-1318-4eb9-a4fd-115ecf9b129a",
   "metadata": {
    "tags": []
   },
   "outputs": [],
   "source": [
    "def check_null(data):\n",
    "    d = data.copy()\n",
    "\n",
    "    null_info = train_df2\\\n",
    "        .isnull().sum()\\\n",
    "        .reset_index()\\\n",
    "        .rename(columns={'index':'feature',0:'null_cnt'})\n",
    "\n",
    "    null_info = null_info[null_info['null_cnt']!=0]\n",
    "    null_info['null_percentage'] = 100 * null_info['null_cnt'] / len(train_df)\n",
    "    null_info = null_info.sort_values('null_cnt',ascending=False)\n",
    "    \n",
    "    if len(null_info)==0:\n",
    "        return None\n",
    "    else:\n",
    "        return null_info"
   ]
  },
  {
   "cell_type": "code",
   "execution_count": 32,
   "id": "71a6eb90-99d3-4d28-9726-d85244672bd7",
   "metadata": {},
   "outputs": [
    {
     "data": {
      "text/plain": [
       "(None, None)"
      ]
     },
     "execution_count": 32,
     "metadata": {},
     "output_type": "execute_result"
    }
   ],
   "source": [
    "check_null(train_df2),check_null(test_df2)"
   ]
  },
  {
   "cell_type": "code",
   "execution_count": 33,
   "id": "eacbe146-0895-4404-a85c-9a82e7646cfd",
   "metadata": {
    "tags": []
   },
   "outputs": [],
   "source": [
    "# from sklearn.impute import SimpleImputer\n",
    "\n",
    "# impute_columns = []\n",
    "# imputer = SimpleImputer(missing_values=np.nan, strategy='median')\n",
    "# train_df2[impute_columns] = imputer.fit_transform(train_df2[impute_columns])\n",
    "# test_df2 [impute_columns] = imputer.transform(test_df2[impute_columns])"
   ]
  },
  {
   "cell_type": "code",
   "execution_count": 34,
   "id": "01be8f16-49cb-4feb-89b3-7a0b581f9fca",
   "metadata": {},
   "outputs": [],
   "source": [
    "# check_null(train_df2),check_null(test_df2)"
   ]
  },
  {
   "cell_type": "markdown",
   "id": "c2d3ea94-362c-468e-83a6-daccf81c3491",
   "metadata": {},
   "source": [
    "<br>"
   ]
  },
  {
   "cell_type": "markdown",
   "id": "3fb1c0f5-ea06-471c-9655-4e006c0b384d",
   "metadata": {},
   "source": [
    "## Target Transformation"
   ]
  },
  {
   "cell_type": "code",
   "execution_count": 35,
   "id": "6a6763f9-106b-4530-97e2-8222df708182",
   "metadata": {},
   "outputs": [
    {
     "data": {
      "text/plain": [
       "'log'"
      ]
     },
     "execution_count": 35,
     "metadata": {},
     "output_type": "execute_result"
    }
   ],
   "source": [
    "CFG.TARGET_TRANSFORMATION"
   ]
  },
  {
   "cell_type": "code",
   "execution_count": 36,
   "id": "bd24976d-89ce-4529-8ddd-8f558d8d4f99",
   "metadata": {},
   "outputs": [],
   "source": [
    "train_df3 = train_df2.copy()\n",
    "test_df3  = test_df2 .copy()\n",
    "\n",
    "target_transform = TargetTransform(func=CFG.TARGET_TRANSFORMATION)\n",
    "train_df3[CFG.TARGET] = target_transform.fit_transform(\n",
    "    target=train_df3[CFG.TARGET],\n",
    ")"
   ]
  },
  {
   "cell_type": "code",
   "execution_count": 37,
   "id": "8873e58b-0953-469b-9d7d-c61a3dbf07b8",
   "metadata": {},
   "outputs": [
    {
     "data": {
      "text/plain": [
       "<AxesSubplot: ylabel='수요량'>"
      ]
     },
     "execution_count": 37,
     "metadata": {},
     "output_type": "execute_result"
    },
    {
     "data": {
      "image/png": "[encoded data removed]",
      "text/plain": [
       "<Figure size 432x288 with 1 Axes>"
      ]
     },
     "metadata": {
      "needs_background": "light"
     },
     "output_type": "display_data"
    }
   ],
   "source": [
    "sns.boxplot(y=train_df3[CFG.TARGET])"
   ]
  },
  {
   "cell_type": "markdown",
   "id": "958d6fb0-4471-449e-a919-2a5bb31c245f",
   "metadata": {},
   "source": [
    "<br>"
   ]
  },
  {
   "cell_type": "markdown",
   "id": "38e0ea57-2abd-4f7c-b64f-00e11ae3595e",
   "metadata": {},
   "source": [
    "## Quantile values of Target"
   ]
  },
  {
   "cell_type": "code",
   "execution_count": 38,
   "id": "5dc6e894-15da-4ad4-8de1-41844e03da19",
   "metadata": {},
   "outputs": [
    {
     "data": {
      "text/plain": [
       "['추석까지 남은 기간(주)', '쇼핑몰 구분', '도시 유형', '지역 유형', '쇼핑몰 유형', '선물 유형']"
      ]
     },
     "execution_count": 38,
     "metadata": {},
     "output_type": "execute_result"
    }
   ],
   "source": [
    "cat_features"
   ]
  },
  {
   "cell_type": "code",
   "execution_count": 39,
   "id": "043870f5-1143-4f46-80d5-a085c86330fd",
   "metadata": {
    "tags": []
   },
   "outputs": [
    {
     "name": "stdout",
     "output_type": "stream",
     "text": [
      "> Get quantiles of target by categorical features (depth=3)\n"
     ]
    },
    {
     "name": "stderr",
     "output_type": "stream",
     "text": [
      "Subset: 도시 유형 + 지역 유형 + 쇼핑몰 유형: 100%|██████████| 41/41 [00:03<00:00, 13.13it/s]             \n"
     ]
    }
   ],
   "source": [
    "# feature engineering\n",
    "calculator = CategoricalQuantileCalculator()\n",
    "calculator.fit(\n",
    "    data=train_df3,\n",
    "    test_data=test_df3,\n",
    "    target_feature=target_feature,\n",
    "    cat_features=cat_features,\n",
    "    subset_depth=CFG.SUBSET_DEPTH,\n",
    ")\n",
    "train_df4 = calculator.transform(train_df3)\n",
    "test_df4  = calculator.transform(test_df3)"
   ]
  },
  {
   "cell_type": "code",
   "execution_count": 40,
   "id": "91e716d4-9681-4c86-aceb-2cbea8cd51ee",
   "metadata": {},
   "outputs": [],
   "source": [
    "type_controller = TypeController(\n",
    "    unuse_features=unuse_features+segment_features,\n",
    "    target_feature=CFG.TARGET,\n",
    "    cat_features=cat_features,\n",
    "    segment_feature=segment_feature,\n",
    ")\n",
    "type_controller.fit(train_df4)\n",
    "global_assignment(type_controller.get_feature_type())\n",
    "\n",
    "train_df4 = type_controller.transform(train_df4)\n",
    "test_df4  = type_controller.transform(test_df4)"
   ]
  },
  {
   "cell_type": "code",
   "execution_count": 41,
   "id": "bc318a37-4cc8-4950-85e4-5f6b742e9f96",
   "metadata": {
    "tags": []
   },
   "outputs": [
    {
     "name": "stdout",
     "output_type": "stream",
     "text": [
      "(5872, 11) -> (5872, 123)\n"
     ]
    },
    {
     "data": {
      "text/html": [
       "<div>\n",
       "<style scoped>\n",
       "    .dataframe tbody tr th:only-of-type {\n",
       "        vertical-align: middle;\n",
       "    }\n",
       "\n",
       "    .dataframe tbody tr th {\n",
       "        vertical-align: top;\n",
       "    }\n",
       "\n",
       "    .dataframe thead th {\n",
       "        text-align: right;\n",
       "    }\n",
       "</style>\n",
       "<table border=\"1\" class=\"dataframe\">\n",
       "  <thead>\n",
       "    <tr style=\"text-align: right;\">\n",
       "      <th></th>\n",
       "      <th>ID</th>\n",
       "      <th>추석까지 남은 기간(주)</th>\n",
       "      <th>쇼핑몰 구분</th>\n",
       "      <th>가격(원)</th>\n",
       "      <th>프로모션 여부</th>\n",
       "      <th>도시 유형</th>\n",
       "      <th>지역 유형</th>\n",
       "      <th>쇼핑몰 유형</th>\n",
       "      <th>선물 유형</th>\n",
       "      <th>수요량</th>\n",
       "      <th>segment</th>\n",
       "      <th>추석까지 남은 기간(주)_Avg</th>\n",
       "      <th>추석까지 남은 기간(주)_Q25</th>\n",
       "      <th>추석까지 남은 기간(주)_Q50</th>\n",
       "      <th>추석까지 남은 기간(주)_Q75</th>\n",
       "      <th>쇼핑몰 구분_Avg</th>\n",
       "      <th>쇼핑몰 구분_Q25</th>\n",
       "      <th>쇼핑몰 구분_Q50</th>\n",
       "      <th>쇼핑몰 구분_Q75</th>\n",
       "      <th>도시 유형_Avg</th>\n",
       "      <th>도시 유형_Q25</th>\n",
       "      <th>도시 유형_Q50</th>\n",
       "      <th>도시 유형_Q75</th>\n",
       "      <th>지역 유형_Avg</th>\n",
       "      <th>지역 유형_Q25</th>\n",
       "      <th>지역 유형_Q50</th>\n",
       "      <th>지역 유형_Q75</th>\n",
       "      <th>쇼핑몰 유형_Avg</th>\n",
       "      <th>쇼핑몰 유형_Q25</th>\n",
       "      <th>쇼핑몰 유형_Q50</th>\n",
       "      <th>쇼핑몰 유형_Q75</th>\n",
       "      <th>선물 유형_Avg</th>\n",
       "      <th>선물 유형_Q25</th>\n",
       "      <th>선물 유형_Q50</th>\n",
       "      <th>선물 유형_Q75</th>\n",
       "      <th>추석까지 남은 기간(주)&amp;쇼핑몰 구분_Avg</th>\n",
       "      <th>추석까지 남은 기간(주)&amp;쇼핑몰 구분_Q25</th>\n",
       "      <th>추석까지 남은 기간(주)&amp;쇼핑몰 구분_Q50</th>\n",
       "      <th>추석까지 남은 기간(주)&amp;쇼핑몰 구분_Q75</th>\n",
       "      <th>추석까지 남은 기간(주)&amp;도시 유형_Avg</th>\n",
       "      <th>추석까지 남은 기간(주)&amp;도시 유형_Q25</th>\n",
       "      <th>추석까지 남은 기간(주)&amp;도시 유형_Q50</th>\n",
       "      <th>추석까지 남은 기간(주)&amp;도시 유형_Q75</th>\n",
       "      <th>추석까지 남은 기간(주)&amp;지역 유형_Avg</th>\n",
       "      <th>추석까지 남은 기간(주)&amp;지역 유형_Q25</th>\n",
       "      <th>추석까지 남은 기간(주)&amp;지역 유형_Q50</th>\n",
       "      <th>추석까지 남은 기간(주)&amp;지역 유형_Q75</th>\n",
       "      <th>추석까지 남은 기간(주)&amp;쇼핑몰 유형_Avg</th>\n",
       "      <th>추석까지 남은 기간(주)&amp;쇼핑몰 유형_Q25</th>\n",
       "      <th>추석까지 남은 기간(주)&amp;쇼핑몰 유형_Q50</th>\n",
       "      <th>추석까지 남은 기간(주)&amp;쇼핑몰 유형_Q75</th>\n",
       "      <th>추석까지 남은 기간(주)&amp;선물 유형_Avg</th>\n",
       "      <th>추석까지 남은 기간(주)&amp;선물 유형_Q25</th>\n",
       "      <th>추석까지 남은 기간(주)&amp;선물 유형_Q50</th>\n",
       "      <th>추석까지 남은 기간(주)&amp;선물 유형_Q75</th>\n",
       "      <th>쇼핑몰 구분&amp;도시 유형_Avg</th>\n",
       "      <th>쇼핑몰 구분&amp;도시 유형_Q25</th>\n",
       "      <th>쇼핑몰 구분&amp;도시 유형_Q50</th>\n",
       "      <th>쇼핑몰 구분&amp;도시 유형_Q75</th>\n",
       "      <th>쇼핑몰 구분&amp;지역 유형_Avg</th>\n",
       "      <th>쇼핑몰 구분&amp;지역 유형_Q25</th>\n",
       "      <th>쇼핑몰 구분&amp;지역 유형_Q50</th>\n",
       "      <th>쇼핑몰 구분&amp;지역 유형_Q75</th>\n",
       "      <th>쇼핑몰 구분&amp;쇼핑몰 유형_Avg</th>\n",
       "      <th>쇼핑몰 구분&amp;쇼핑몰 유형_Q25</th>\n",
       "      <th>쇼핑몰 구분&amp;쇼핑몰 유형_Q50</th>\n",
       "      <th>쇼핑몰 구분&amp;쇼핑몰 유형_Q75</th>\n",
       "      <th>도시 유형&amp;지역 유형_Avg</th>\n",
       "      <th>도시 유형&amp;지역 유형_Q25</th>\n",
       "      <th>도시 유형&amp;지역 유형_Q50</th>\n",
       "      <th>도시 유형&amp;지역 유형_Q75</th>\n",
       "      <th>도시 유형&amp;쇼핑몰 유형_Avg</th>\n",
       "      <th>도시 유형&amp;쇼핑몰 유형_Q25</th>\n",
       "      <th>도시 유형&amp;쇼핑몰 유형_Q50</th>\n",
       "      <th>도시 유형&amp;쇼핑몰 유형_Q75</th>\n",
       "      <th>지역 유형&amp;쇼핑몰 유형_Avg</th>\n",
       "      <th>지역 유형&amp;쇼핑몰 유형_Q25</th>\n",
       "      <th>지역 유형&amp;쇼핑몰 유형_Q50</th>\n",
       "      <th>지역 유형&amp;쇼핑몰 유형_Q75</th>\n",
       "      <th>쇼핑몰 유형&amp;선물 유형_Avg</th>\n",
       "      <th>쇼핑몰 유형&amp;선물 유형_Q25</th>\n",
       "      <th>쇼핑몰 유형&amp;선물 유형_Q50</th>\n",
       "      <th>쇼핑몰 유형&amp;선물 유형_Q75</th>\n",
       "      <th>추석까지 남은 기간(주)&amp;쇼핑몰 구분&amp;도시 유형_Avg</th>\n",
       "      <th>추석까지 남은 기간(주)&amp;쇼핑몰 구분&amp;도시 유형_Q25</th>\n",
       "      <th>추석까지 남은 기간(주)&amp;쇼핑몰 구분&amp;도시 유형_Q50</th>\n",
       "      <th>추석까지 남은 기간(주)&amp;쇼핑몰 구분&amp;도시 유형_Q75</th>\n",
       "      <th>추석까지 남은 기간(주)&amp;쇼핑몰 구분&amp;지역 유형_Avg</th>\n",
       "      <th>추석까지 남은 기간(주)&amp;쇼핑몰 구분&amp;지역 유형_Q25</th>\n",
       "      <th>추석까지 남은 기간(주)&amp;쇼핑몰 구분&amp;지역 유형_Q50</th>\n",
       "      <th>추석까지 남은 기간(주)&amp;쇼핑몰 구분&amp;지역 유형_Q75</th>\n",
       "      <th>추석까지 남은 기간(주)&amp;쇼핑몰 구분&amp;쇼핑몰 유형_Avg</th>\n",
       "      <th>추석까지 남은 기간(주)&amp;쇼핑몰 구분&amp;쇼핑몰 유형_Q25</th>\n",
       "      <th>추석까지 남은 기간(주)&amp;쇼핑몰 구분&amp;쇼핑몰 유형_Q50</th>\n",
       "      <th>추석까지 남은 기간(주)&amp;쇼핑몰 구분&amp;쇼핑몰 유형_Q75</th>\n",
       "      <th>추석까지 남은 기간(주)&amp;도시 유형&amp;지역 유형_Avg</th>\n",
       "      <th>추석까지 남은 기간(주)&amp;도시 유형&amp;지역 유형_Q25</th>\n",
       "      <th>추석까지 남은 기간(주)&amp;도시 유형&amp;지역 유형_Q50</th>\n",
       "      <th>추석까지 남은 기간(주)&amp;도시 유형&amp;지역 유형_Q75</th>\n",
       "      <th>추석까지 남은 기간(주)&amp;도시 유형&amp;쇼핑몰 유형_Avg</th>\n",
       "      <th>추석까지 남은 기간(주)&amp;도시 유형&amp;쇼핑몰 유형_Q25</th>\n",
       "      <th>추석까지 남은 기간(주)&amp;도시 유형&amp;쇼핑몰 유형_Q50</th>\n",
       "      <th>추석까지 남은 기간(주)&amp;도시 유형&amp;쇼핑몰 유형_Q75</th>\n",
       "      <th>추석까지 남은 기간(주)&amp;지역 유형&amp;쇼핑몰 유형_Avg</th>\n",
       "      <th>추석까지 남은 기간(주)&amp;지역 유형&amp;쇼핑몰 유형_Q25</th>\n",
       "      <th>추석까지 남은 기간(주)&amp;지역 유형&amp;쇼핑몰 유형_Q50</th>\n",
       "      <th>추석까지 남은 기간(주)&amp;지역 유형&amp;쇼핑몰 유형_Q75</th>\n",
       "      <th>쇼핑몰 구분&amp;도시 유형&amp;지역 유형_Avg</th>\n",
       "      <th>쇼핑몰 구분&amp;도시 유형&amp;지역 유형_Q25</th>\n",
       "      <th>쇼핑몰 구분&amp;도시 유형&amp;지역 유형_Q50</th>\n",
       "      <th>쇼핑몰 구분&amp;도시 유형&amp;지역 유형_Q75</th>\n",
       "      <th>쇼핑몰 구분&amp;도시 유형&amp;쇼핑몰 유형_Avg</th>\n",
       "      <th>쇼핑몰 구분&amp;도시 유형&amp;쇼핑몰 유형_Q25</th>\n",
       "      <th>쇼핑몰 구분&amp;도시 유형&amp;쇼핑몰 유형_Q50</th>\n",
       "      <th>쇼핑몰 구분&amp;도시 유형&amp;쇼핑몰 유형_Q75</th>\n",
       "      <th>쇼핑몰 구분&amp;지역 유형&amp;쇼핑몰 유형_Avg</th>\n",
       "      <th>쇼핑몰 구분&amp;지역 유형&amp;쇼핑몰 유형_Q25</th>\n",
       "      <th>쇼핑몰 구분&amp;지역 유형&amp;쇼핑몰 유형_Q50</th>\n",
       "      <th>쇼핑몰 구분&amp;지역 유형&amp;쇼핑몰 유형_Q75</th>\n",
       "      <th>도시 유형&amp;지역 유형&amp;쇼핑몰 유형_Avg</th>\n",
       "      <th>도시 유형&amp;지역 유형&amp;쇼핑몰 유형_Q25</th>\n",
       "      <th>도시 유형&amp;지역 유형&amp;쇼핑몰 유형_Q50</th>\n",
       "      <th>도시 유형&amp;지역 유형&amp;쇼핑몰 유형_Q75</th>\n",
       "    </tr>\n",
       "  </thead>\n",
       "  <tbody>\n",
       "    <tr>\n",
       "      <th>0</th>\n",
       "      <td>TRAIN_0000</td>\n",
       "      <td>1</td>\n",
       "      <td>쇼핑몰 15</td>\n",
       "      <td>212000.0</td>\n",
       "      <td>0</td>\n",
       "      <td>도시 6</td>\n",
       "      <td>지역 1</td>\n",
       "      <td>쇼핑몰 유형 2</td>\n",
       "      <td>명절혼합과일선물세트</td>\n",
       "      <td>3.332205</td>\n",
       "      <td>0</td>\n",
       "      <td>4.992657</td>\n",
       "      <td>4.007333</td>\n",
       "      <td>5.093750</td>\n",
       "      <td>5.902633</td>\n",
       "      <td>4.873879</td>\n",
       "      <td>3.713572</td>\n",
       "      <td>4.686740</td>\n",
       "      <td>6.172463</td>\n",
       "      <td>5.184096</td>\n",
       "      <td>4.204693</td>\n",
       "      <td>5.241747</td>\n",
       "      <td>6.186209</td>\n",
       "      <td>5.080529</td>\n",
       "      <td>4.204693</td>\n",
       "      <td>5.093750</td>\n",
       "      <td>6.098074</td>\n",
       "      <td>4.641414</td>\n",
       "      <td>3.688879</td>\n",
       "      <td>4.682131</td>\n",
       "      <td>5.693732</td>\n",
       "      <td>3.184714</td>\n",
       "      <td>2.639057</td>\n",
       "      <td>3.258097</td>\n",
       "      <td>3.688879</td>\n",
       "      <td>4.655161</td>\n",
       "      <td>3.332205</td>\n",
       "      <td>4.204693</td>\n",
       "      <td>6.186209</td>\n",
       "      <td>5.235991</td>\n",
       "      <td>4.234107</td>\n",
       "      <td>5.310737</td>\n",
       "      <td>6.255022</td>\n",
       "      <td>5.197724</td>\n",
       "      <td>4.234107</td>\n",
       "      <td>5.308268</td>\n",
       "      <td>6.216606</td>\n",
       "      <td>4.698601</td>\n",
       "      <td>3.688879</td>\n",
       "      <td>4.795791</td>\n",
       "      <td>5.736572</td>\n",
       "      <td>3.316893</td>\n",
       "      <td>2.708050</td>\n",
       "      <td>3.295837</td>\n",
       "      <td>3.713572</td>\n",
       "      <td>4.873879</td>\n",
       "      <td>3.713572</td>\n",
       "      <td>4.686740</td>\n",
       "      <td>6.172463</td>\n",
       "      <td>4.873879</td>\n",
       "      <td>3.713572</td>\n",
       "      <td>4.686740</td>\n",
       "      <td>6.172463</td>\n",
       "      <td>4.873879</td>\n",
       "      <td>3.713572</td>\n",
       "      <td>4.686740</td>\n",
       "      <td>6.172463</td>\n",
       "      <td>5.184096</td>\n",
       "      <td>4.204693</td>\n",
       "      <td>5.241747</td>\n",
       "      <td>6.186209</td>\n",
       "      <td>4.625334</td>\n",
       "      <td>3.713572</td>\n",
       "      <td>4.553877</td>\n",
       "      <td>5.715152</td>\n",
       "      <td>4.611669</td>\n",
       "      <td>3.688879</td>\n",
       "      <td>4.564348</td>\n",
       "      <td>5.739793</td>\n",
       "      <td>2.996248</td>\n",
       "      <td>2.620530</td>\n",
       "      <td>2.948577</td>\n",
       "      <td>3.276624</td>\n",
       "      <td>4.655161</td>\n",
       "      <td>3.332205</td>\n",
       "      <td>4.204693</td>\n",
       "      <td>6.186209</td>\n",
       "      <td>4.655161</td>\n",
       "      <td>3.332205</td>\n",
       "      <td>4.204693</td>\n",
       "      <td>6.186209</td>\n",
       "      <td>4.655161</td>\n",
       "      <td>3.332205</td>\n",
       "      <td>4.204693</td>\n",
       "      <td>6.186209</td>\n",
       "      <td>5.235991</td>\n",
       "      <td>4.234107</td>\n",
       "      <td>5.310737</td>\n",
       "      <td>6.255022</td>\n",
       "      <td>4.627774</td>\n",
       "      <td>3.599711</td>\n",
       "      <td>4.618004</td>\n",
       "      <td>5.757450</td>\n",
       "      <td>4.675366</td>\n",
       "      <td>3.688879</td>\n",
       "      <td>4.682131</td>\n",
       "      <td>5.857933</td>\n",
       "      <td>4.873879</td>\n",
       "      <td>3.713572</td>\n",
       "      <td>4.686740</td>\n",
       "      <td>6.172463</td>\n",
       "      <td>4.873879</td>\n",
       "      <td>3.713572</td>\n",
       "      <td>4.686740</td>\n",
       "      <td>6.172463</td>\n",
       "      <td>4.873879</td>\n",
       "      <td>3.713572</td>\n",
       "      <td>4.686740</td>\n",
       "      <td>6.172463</td>\n",
       "      <td>4.625334</td>\n",
       "      <td>3.713572</td>\n",
       "      <td>4.553877</td>\n",
       "      <td>5.715152</td>\n",
       "    </tr>\n",
       "    <tr>\n",
       "      <th>1</th>\n",
       "      <td>TRAIN_0001</td>\n",
       "      <td>2</td>\n",
       "      <td>쇼핑몰 72</td>\n",
       "      <td>113000.0</td>\n",
       "      <td>0</td>\n",
       "      <td>도시 21</td>\n",
       "      <td>지역 1</td>\n",
       "      <td>쇼핑몰 유형 1</td>\n",
       "      <td>발효홍삼선물세트</td>\n",
       "      <td>3.295837</td>\n",
       "      <td>0</td>\n",
       "      <td>4.839308</td>\n",
       "      <td>3.970292</td>\n",
       "      <td>4.812184</td>\n",
       "      <td>5.826000</td>\n",
       "      <td>4.923296</td>\n",
       "      <td>3.988984</td>\n",
       "      <td>4.751766</td>\n",
       "      <td>5.935555</td>\n",
       "      <td>4.876896</td>\n",
       "      <td>4.007333</td>\n",
       "      <td>4.795791</td>\n",
       "      <td>5.840490</td>\n",
       "      <td>5.080529</td>\n",
       "      <td>4.204693</td>\n",
       "      <td>5.093750</td>\n",
       "      <td>6.098074</td>\n",
       "      <td>4.914641</td>\n",
       "      <td>3.988984</td>\n",
       "      <td>4.912655</td>\n",
       "      <td>5.857933</td>\n",
       "      <td>3.877076</td>\n",
       "      <td>3.267532</td>\n",
       "      <td>3.970292</td>\n",
       "      <td>4.509151</td>\n",
       "      <td>4.902553</td>\n",
       "      <td>3.988984</td>\n",
       "      <td>4.691348</td>\n",
       "      <td>6.003887</td>\n",
       "      <td>4.805002</td>\n",
       "      <td>3.970292</td>\n",
       "      <td>4.564348</td>\n",
       "      <td>5.860786</td>\n",
       "      <td>4.933738</td>\n",
       "      <td>3.970292</td>\n",
       "      <td>4.905275</td>\n",
       "      <td>5.932245</td>\n",
       "      <td>4.856061</td>\n",
       "      <td>3.970292</td>\n",
       "      <td>4.804021</td>\n",
       "      <td>5.857933</td>\n",
       "      <td>3.401927</td>\n",
       "      <td>3.258097</td>\n",
       "      <td>3.332205</td>\n",
       "      <td>3.688879</td>\n",
       "      <td>4.923296</td>\n",
       "      <td>3.988984</td>\n",
       "      <td>4.751766</td>\n",
       "      <td>5.935555</td>\n",
       "      <td>4.923296</td>\n",
       "      <td>3.988984</td>\n",
       "      <td>4.751766</td>\n",
       "      <td>5.935555</td>\n",
       "      <td>4.923296</td>\n",
       "      <td>3.988984</td>\n",
       "      <td>4.751766</td>\n",
       "      <td>5.935555</td>\n",
       "      <td>4.876896</td>\n",
       "      <td>4.007333</td>\n",
       "      <td>4.795791</td>\n",
       "      <td>5.840490</td>\n",
       "      <td>4.876896</td>\n",
       "      <td>4.007333</td>\n",
       "      <td>4.795791</td>\n",
       "      <td>5.840490</td>\n",
       "      <td>5.065781</td>\n",
       "      <td>4.204693</td>\n",
       "      <td>5.093750</td>\n",
       "      <td>6.037871</td>\n",
       "      <td>3.921815</td>\n",
       "      <td>3.295837</td>\n",
       "      <td>3.863327</td>\n",
       "      <td>4.406719</td>\n",
       "      <td>4.902553</td>\n",
       "      <td>3.988984</td>\n",
       "      <td>4.691348</td>\n",
       "      <td>6.003887</td>\n",
       "      <td>4.902553</td>\n",
       "      <td>3.988984</td>\n",
       "      <td>4.691348</td>\n",
       "      <td>6.003887</td>\n",
       "      <td>4.902553</td>\n",
       "      <td>3.988984</td>\n",
       "      <td>4.691348</td>\n",
       "      <td>6.003887</td>\n",
       "      <td>4.805002</td>\n",
       "      <td>3.970292</td>\n",
       "      <td>4.564348</td>\n",
       "      <td>5.860786</td>\n",
       "      <td>4.805002</td>\n",
       "      <td>3.970292</td>\n",
       "      <td>4.564348</td>\n",
       "      <td>5.860786</td>\n",
       "      <td>4.936153</td>\n",
       "      <td>3.970292</td>\n",
       "      <td>4.897840</td>\n",
       "      <td>5.933570</td>\n",
       "      <td>4.923296</td>\n",
       "      <td>3.988984</td>\n",
       "      <td>4.751766</td>\n",
       "      <td>5.935555</td>\n",
       "      <td>4.923296</td>\n",
       "      <td>3.988984</td>\n",
       "      <td>4.751766</td>\n",
       "      <td>5.935555</td>\n",
       "      <td>4.923296</td>\n",
       "      <td>3.988984</td>\n",
       "      <td>4.751766</td>\n",
       "      <td>5.935555</td>\n",
       "      <td>4.876896</td>\n",
       "      <td>4.007333</td>\n",
       "      <td>4.795791</td>\n",
       "      <td>5.840490</td>\n",
       "    </tr>\n",
       "    <tr>\n",
       "      <th>2</th>\n",
       "      <td>TRAIN_0002</td>\n",
       "      <td>0</td>\n",
       "      <td>쇼핑몰 15</td>\n",
       "      <td>67000.0</td>\n",
       "      <td>0</td>\n",
       "      <td>도시 6</td>\n",
       "      <td>지역 1</td>\n",
       "      <td>쇼핑몰 유형 2</td>\n",
       "      <td>실속스팸선물세트</td>\n",
       "      <td>6.645091</td>\n",
       "      <td>0</td>\n",
       "      <td>4.867533</td>\n",
       "      <td>3.988984</td>\n",
       "      <td>4.905275</td>\n",
       "      <td>5.823046</td>\n",
       "      <td>4.873879</td>\n",
       "      <td>3.713572</td>\n",
       "      <td>4.686740</td>\n",
       "      <td>6.172463</td>\n",
       "      <td>5.184096</td>\n",
       "      <td>4.204693</td>\n",
       "      <td>5.241747</td>\n",
       "      <td>6.186209</td>\n",
       "      <td>5.080529</td>\n",
       "      <td>4.204693</td>\n",
       "      <td>5.093750</td>\n",
       "      <td>6.098074</td>\n",
       "      <td>4.641414</td>\n",
       "      <td>3.688879</td>\n",
       "      <td>4.682131</td>\n",
       "      <td>5.693732</td>\n",
       "      <td>6.066914</td>\n",
       "      <td>5.570326</td>\n",
       "      <td>6.113594</td>\n",
       "      <td>6.766174</td>\n",
       "      <td>5.055769</td>\n",
       "      <td>3.737670</td>\n",
       "      <td>5.497168</td>\n",
       "      <td>6.429719</td>\n",
       "      <td>5.232380</td>\n",
       "      <td>4.219508</td>\n",
       "      <td>5.280115</td>\n",
       "      <td>6.274251</td>\n",
       "      <td>5.101507</td>\n",
       "      <td>4.219508</td>\n",
       "      <td>5.170484</td>\n",
       "      <td>6.126869</td>\n",
       "      <td>4.646882</td>\n",
       "      <td>3.713572</td>\n",
       "      <td>4.682131</td>\n",
       "      <td>5.694572</td>\n",
       "      <td>6.168623</td>\n",
       "      <td>5.467624</td>\n",
       "      <td>6.289716</td>\n",
       "      <td>7.021976</td>\n",
       "      <td>4.873879</td>\n",
       "      <td>3.713572</td>\n",
       "      <td>4.686740</td>\n",
       "      <td>6.172463</td>\n",
       "      <td>4.873879</td>\n",
       "      <td>3.713572</td>\n",
       "      <td>4.686740</td>\n",
       "      <td>6.172463</td>\n",
       "      <td>4.873879</td>\n",
       "      <td>3.713572</td>\n",
       "      <td>4.686740</td>\n",
       "      <td>6.172463</td>\n",
       "      <td>5.184096</td>\n",
       "      <td>4.204693</td>\n",
       "      <td>5.241747</td>\n",
       "      <td>6.186209</td>\n",
       "      <td>4.625334</td>\n",
       "      <td>3.713572</td>\n",
       "      <td>4.553877</td>\n",
       "      <td>5.715152</td>\n",
       "      <td>4.611669</td>\n",
       "      <td>3.688879</td>\n",
       "      <td>4.564348</td>\n",
       "      <td>5.739793</td>\n",
       "      <td>5.251507</td>\n",
       "      <td>4.593794</td>\n",
       "      <td>5.313206</td>\n",
       "      <td>5.704450</td>\n",
       "      <td>5.055769</td>\n",
       "      <td>3.737670</td>\n",
       "      <td>5.497168</td>\n",
       "      <td>6.429719</td>\n",
       "      <td>5.055769</td>\n",
       "      <td>3.737670</td>\n",
       "      <td>5.497168</td>\n",
       "      <td>6.429719</td>\n",
       "      <td>5.055769</td>\n",
       "      <td>3.737670</td>\n",
       "      <td>5.497168</td>\n",
       "      <td>6.429719</td>\n",
       "      <td>5.232380</td>\n",
       "      <td>4.219508</td>\n",
       "      <td>5.280115</td>\n",
       "      <td>6.274251</td>\n",
       "      <td>4.745617</td>\n",
       "      <td>3.731645</td>\n",
       "      <td>4.618589</td>\n",
       "      <td>5.833983</td>\n",
       "      <td>4.745683</td>\n",
       "      <td>3.713572</td>\n",
       "      <td>4.812184</td>\n",
       "      <td>5.823046</td>\n",
       "      <td>4.873879</td>\n",
       "      <td>3.713572</td>\n",
       "      <td>4.686740</td>\n",
       "      <td>6.172463</td>\n",
       "      <td>4.873879</td>\n",
       "      <td>3.713572</td>\n",
       "      <td>4.686740</td>\n",
       "      <td>6.172463</td>\n",
       "      <td>4.873879</td>\n",
       "      <td>3.713572</td>\n",
       "      <td>4.686740</td>\n",
       "      <td>6.172463</td>\n",
       "      <td>4.625334</td>\n",
       "      <td>3.713572</td>\n",
       "      <td>4.553877</td>\n",
       "      <td>5.715152</td>\n",
       "    </tr>\n",
       "    <tr>\n",
       "      <th>3</th>\n",
       "      <td>TRAIN_0003</td>\n",
       "      <td>1</td>\n",
       "      <td>쇼핑몰 13</td>\n",
       "      <td>206000.0</td>\n",
       "      <td>0</td>\n",
       "      <td>도시 12</td>\n",
       "      <td>지역 3</td>\n",
       "      <td>쇼핑몰 유형 1</td>\n",
       "      <td>자연산프리미엄버섯선물세트</td>\n",
       "      <td>3.295837</td>\n",
       "      <td>0</td>\n",
       "      <td>4.992657</td>\n",
       "      <td>4.007333</td>\n",
       "      <td>5.093750</td>\n",
       "      <td>5.902633</td>\n",
       "      <td>4.357843</td>\n",
       "      <td>3.713572</td>\n",
       "      <td>4.234107</td>\n",
       "      <td>5.126191</td>\n",
       "      <td>4.357843</td>\n",
       "      <td>3.713572</td>\n",
       "      <td>4.234107</td>\n",
       "      <td>5.126191</td>\n",
       "      <td>4.765552</td>\n",
       "      <td>3.970292</td>\n",
       "      <td>4.897840</td>\n",
       "      <td>5.693732</td>\n",
       "      <td>4.914641</td>\n",
       "      <td>3.988984</td>\n",
       "      <td>4.912655</td>\n",
       "      <td>5.857933</td>\n",
       "      <td>4.171902</td>\n",
       "      <td>3.713572</td>\n",
       "      <td>4.219508</td>\n",
       "      <td>4.627848</td>\n",
       "      <td>4.327791</td>\n",
       "      <td>3.688879</td>\n",
       "      <td>4.300767</td>\n",
       "      <td>5.139355</td>\n",
       "      <td>4.327791</td>\n",
       "      <td>3.688879</td>\n",
       "      <td>4.300767</td>\n",
       "      <td>5.139355</td>\n",
       "      <td>4.850855</td>\n",
       "      <td>3.988984</td>\n",
       "      <td>5.010635</td>\n",
       "      <td>5.743003</td>\n",
       "      <td>5.016551</td>\n",
       "      <td>4.204693</td>\n",
       "      <td>5.093750</td>\n",
       "      <td>5.934894</td>\n",
       "      <td>4.253802</td>\n",
       "      <td>3.725621</td>\n",
       "      <td>4.234107</td>\n",
       "      <td>4.743569</td>\n",
       "      <td>4.357843</td>\n",
       "      <td>3.713572</td>\n",
       "      <td>4.234107</td>\n",
       "      <td>5.126191</td>\n",
       "      <td>4.357843</td>\n",
       "      <td>3.713572</td>\n",
       "      <td>4.234107</td>\n",
       "      <td>5.126191</td>\n",
       "      <td>4.357843</td>\n",
       "      <td>3.713572</td>\n",
       "      <td>4.234107</td>\n",
       "      <td>5.126191</td>\n",
       "      <td>4.357843</td>\n",
       "      <td>3.713572</td>\n",
       "      <td>4.234107</td>\n",
       "      <td>5.126191</td>\n",
       "      <td>4.357843</td>\n",
       "      <td>3.713572</td>\n",
       "      <td>4.234107</td>\n",
       "      <td>5.126191</td>\n",
       "      <td>4.822590</td>\n",
       "      <td>3.988984</td>\n",
       "      <td>4.905275</td>\n",
       "      <td>5.743003</td>\n",
       "      <td>4.146748</td>\n",
       "      <td>3.719596</td>\n",
       "      <td>4.204693</td>\n",
       "      <td>4.543295</td>\n",
       "      <td>4.327791</td>\n",
       "      <td>3.688879</td>\n",
       "      <td>4.300767</td>\n",
       "      <td>5.139355</td>\n",
       "      <td>4.327791</td>\n",
       "      <td>3.688879</td>\n",
       "      <td>4.300767</td>\n",
       "      <td>5.139355</td>\n",
       "      <td>4.327791</td>\n",
       "      <td>3.688879</td>\n",
       "      <td>4.300767</td>\n",
       "      <td>5.139355</td>\n",
       "      <td>4.327791</td>\n",
       "      <td>3.688879</td>\n",
       "      <td>4.300767</td>\n",
       "      <td>5.139355</td>\n",
       "      <td>4.327791</td>\n",
       "      <td>3.688879</td>\n",
       "      <td>4.300767</td>\n",
       "      <td>5.139355</td>\n",
       "      <td>4.911555</td>\n",
       "      <td>4.204693</td>\n",
       "      <td>5.129268</td>\n",
       "      <td>5.779971</td>\n",
       "      <td>4.357843</td>\n",
       "      <td>3.713572</td>\n",
       "      <td>4.234107</td>\n",
       "      <td>5.126191</td>\n",
       "      <td>4.357843</td>\n",
       "      <td>3.713572</td>\n",
       "      <td>4.234107</td>\n",
       "      <td>5.126191</td>\n",
       "      <td>4.357843</td>\n",
       "      <td>3.713572</td>\n",
       "      <td>4.234107</td>\n",
       "      <td>5.126191</td>\n",
       "      <td>4.357843</td>\n",
       "      <td>3.713572</td>\n",
       "      <td>4.234107</td>\n",
       "      <td>5.126191</td>\n",
       "    </tr>\n",
       "    <tr>\n",
       "      <th>4</th>\n",
       "      <td>TRAIN_0004</td>\n",
       "      <td>1</td>\n",
       "      <td>쇼핑몰 65</td>\n",
       "      <td>140000.0</td>\n",
       "      <td>0</td>\n",
       "      <td>도시 16</td>\n",
       "      <td>지역 2</td>\n",
       "      <td>쇼핑몰 유형 2</td>\n",
       "      <td>자연산새우선물세트</td>\n",
       "      <td>5.820083</td>\n",
       "      <td>0</td>\n",
       "      <td>4.992657</td>\n",
       "      <td>4.007333</td>\n",
       "      <td>5.093750</td>\n",
       "      <td>5.902633</td>\n",
       "      <td>4.818865</td>\n",
       "      <td>3.695053</td>\n",
       "      <td>4.738961</td>\n",
       "      <td>6.120232</td>\n",
       "      <td>4.810790</td>\n",
       "      <td>3.912136</td>\n",
       "      <td>4.897840</td>\n",
       "      <td>5.777652</td>\n",
       "      <td>4.971166</td>\n",
       "      <td>4.204693</td>\n",
       "      <td>4.908965</td>\n",
       "      <td>6.040255</td>\n",
       "      <td>4.641414</td>\n",
       "      <td>3.688879</td>\n",
       "      <td>4.682131</td>\n",
       "      <td>5.693732</td>\n",
       "      <td>6.389280</td>\n",
       "      <td>6.102559</td>\n",
       "      <td>6.408529</td>\n",
       "      <td>6.821107</td>\n",
       "      <td>4.883773</td>\n",
       "      <td>3.988984</td>\n",
       "      <td>4.538290</td>\n",
       "      <td>6.166278</td>\n",
       "      <td>4.889591</td>\n",
       "      <td>3.988984</td>\n",
       "      <td>5.003946</td>\n",
       "      <td>5.823046</td>\n",
       "      <td>4.957288</td>\n",
       "      <td>4.208396</td>\n",
       "      <td>4.912655</td>\n",
       "      <td>5.924842</td>\n",
       "      <td>4.698601</td>\n",
       "      <td>3.688879</td>\n",
       "      <td>4.795791</td>\n",
       "      <td>5.736572</td>\n",
       "      <td>6.347052</td>\n",
       "      <td>6.126869</td>\n",
       "      <td>6.293419</td>\n",
       "      <td>6.612041</td>\n",
       "      <td>4.818865</td>\n",
       "      <td>3.695053</td>\n",
       "      <td>4.738961</td>\n",
       "      <td>6.120232</td>\n",
       "      <td>4.818865</td>\n",
       "      <td>3.695053</td>\n",
       "      <td>4.738961</td>\n",
       "      <td>6.120232</td>\n",
       "      <td>4.818865</td>\n",
       "      <td>3.695053</td>\n",
       "      <td>4.738961</td>\n",
       "      <td>6.120232</td>\n",
       "      <td>4.903594</td>\n",
       "      <td>3.974965</td>\n",
       "      <td>4.808103</td>\n",
       "      <td>6.067846</td>\n",
       "      <td>4.686977</td>\n",
       "      <td>3.688879</td>\n",
       "      <td>4.691348</td>\n",
       "      <td>5.780744</td>\n",
       "      <td>4.792957</td>\n",
       "      <td>3.688879</td>\n",
       "      <td>4.682131</td>\n",
       "      <td>6.106957</td>\n",
       "      <td>5.962602</td>\n",
       "      <td>5.623090</td>\n",
       "      <td>5.916024</td>\n",
       "      <td>6.400051</td>\n",
       "      <td>4.883773</td>\n",
       "      <td>3.988984</td>\n",
       "      <td>4.538290</td>\n",
       "      <td>6.166278</td>\n",
       "      <td>4.883773</td>\n",
       "      <td>3.988984</td>\n",
       "      <td>4.538290</td>\n",
       "      <td>6.166278</td>\n",
       "      <td>4.883773</td>\n",
       "      <td>3.988984</td>\n",
       "      <td>4.538290</td>\n",
       "      <td>6.166278</td>\n",
       "      <td>4.905390</td>\n",
       "      <td>3.993571</td>\n",
       "      <td>4.905275</td>\n",
       "      <td>5.993877</td>\n",
       "      <td>4.800062</td>\n",
       "      <td>3.713572</td>\n",
       "      <td>5.003946</td>\n",
       "      <td>5.823042</td>\n",
       "      <td>4.827790</td>\n",
       "      <td>3.713572</td>\n",
       "      <td>4.804021</td>\n",
       "      <td>6.098074</td>\n",
       "      <td>4.818865</td>\n",
       "      <td>3.695053</td>\n",
       "      <td>4.738961</td>\n",
       "      <td>6.120232</td>\n",
       "      <td>4.818865</td>\n",
       "      <td>3.695053</td>\n",
       "      <td>4.738961</td>\n",
       "      <td>6.120232</td>\n",
       "      <td>4.818865</td>\n",
       "      <td>3.695053</td>\n",
       "      <td>4.738961</td>\n",
       "      <td>6.120232</td>\n",
       "      <td>4.792957</td>\n",
       "      <td>3.688879</td>\n",
       "      <td>4.682131</td>\n",
       "      <td>6.106957</td>\n",
       "    </tr>\n",
       "  </tbody>\n",
       "</table>\n",
       "</div>"
      ],
      "text/plain": [
       "           ID 추석까지 남은 기간(주)  쇼핑몰 구분     가격(원)  프로모션 여부  도시 유형 지역 유형    쇼핑몰 유형  \\\n",
       "0  TRAIN_0000             1  쇼핑몰 15  212000.0        0   도시 6  지역 1  쇼핑몰 유형 2   \n",
       "1  TRAIN_0001             2  쇼핑몰 72  113000.0        0  도시 21  지역 1  쇼핑몰 유형 1   \n",
       "2  TRAIN_0002             0  쇼핑몰 15   67000.0        0   도시 6  지역 1  쇼핑몰 유형 2   \n",
       "3  TRAIN_0003             1  쇼핑몰 13  206000.0        0  도시 12  지역 3  쇼핑몰 유형 1   \n",
       "4  TRAIN_0004             1  쇼핑몰 65  140000.0        0  도시 16  지역 2  쇼핑몰 유형 2   \n",
       "\n",
       "           선물 유형       수요량 segment  추석까지 남은 기간(주)_Avg  추석까지 남은 기간(주)_Q25  \\\n",
       "0     명절혼합과일선물세트  3.332205       0           4.992657           4.007333   \n",
       "1       발효홍삼선물세트  3.295837       0           4.839308           3.970292   \n",
       "2       실속스팸선물세트  6.645091       0           4.867533           3.988984   \n",
       "3  자연산프리미엄버섯선물세트  3.295837       0           4.992657           4.007333   \n",
       "4      자연산새우선물세트  5.820083       0           4.992657           4.007333   \n",
       "\n",
       "   추석까지 남은 기간(주)_Q50  추석까지 남은 기간(주)_Q75  쇼핑몰 구분_Avg  쇼핑몰 구분_Q25  쇼핑몰 구분_Q50  \\\n",
       "0           5.093750           5.902633    4.873879    3.713572    4.686740   \n",
       "1           4.812184           5.826000    4.923296    3.988984    4.751766   \n",
       "2           4.905275           5.823046    4.873879    3.713572    4.686740   \n",
       "3           5.093750           5.902633    4.357843    3.713572    4.234107   \n",
       "4           5.093750           5.902633    4.818865    3.695053    4.738961   \n",
       "\n",
       "   쇼핑몰 구분_Q75  도시 유형_Avg  도시 유형_Q25  도시 유형_Q50  도시 유형_Q75  지역 유형_Avg  \\\n",
       "0    6.172463   5.184096   4.204693   5.241747   6.186209   5.080529   \n",
       "1    5.935555   4.876896   4.007333   4.795791   5.840490   5.080529   \n",
       "2    6.172463   5.184096   4.204693   5.241747   6.186209   5.080529   \n",
       "3    5.126191   4.357843   3.713572   4.234107   5.126191   4.765552   \n",
       "4    6.120232   4.810790   3.912136   4.897840   5.777652   4.971166   \n",
       "\n",
       "   지역 유형_Q25  지역 유형_Q50  지역 유형_Q75  쇼핑몰 유형_Avg  쇼핑몰 유형_Q25  쇼핑몰 유형_Q50  \\\n",
       "0   4.204693   5.093750   6.098074    4.641414    3.688879    4.682131   \n",
       "1   4.204693   5.093750   6.098074    4.914641    3.988984    4.912655   \n",
       "2   4.204693   5.093750   6.098074    4.641414    3.688879    4.682131   \n",
       "3   3.970292   4.897840   5.693732    4.914641    3.988984    4.912655   \n",
       "4   4.204693   4.908965   6.040255    4.641414    3.688879    4.682131   \n",
       "\n",
       "   쇼핑몰 유형_Q75  선물 유형_Avg  선물 유형_Q25  선물 유형_Q50  선물 유형_Q75  \\\n",
       "0    5.693732   3.184714   2.639057   3.258097   3.688879   \n",
       "1    5.857933   3.877076   3.267532   3.970292   4.509151   \n",
       "2    5.693732   6.066914   5.570326   6.113594   6.766174   \n",
       "3    5.857933   4.171902   3.713572   4.219508   4.627848   \n",
       "4    5.693732   6.389280   6.102559   6.408529   6.821107   \n",
       "\n",
       "   추석까지 남은 기간(주)&쇼핑몰 구분_Avg  추석까지 남은 기간(주)&쇼핑몰 구분_Q25  \\\n",
       "0                  4.655161                  3.332205   \n",
       "1                  4.902553                  3.988984   \n",
       "2                  5.055769                  3.737670   \n",
       "3                  4.327791                  3.688879   \n",
       "4                  4.883773                  3.988984   \n",
       "\n",
       "   추석까지 남은 기간(주)&쇼핑몰 구분_Q50  추석까지 남은 기간(주)&쇼핑몰 구분_Q75  \\\n",
       "0                  4.204693                  6.186209   \n",
       "1                  4.691348                  6.003887   \n",
       "2                  5.497168                  6.429719   \n",
       "3                  4.300767                  5.139355   \n",
       "4                  4.538290                  6.166278   \n",
       "\n",
       "   추석까지 남은 기간(주)&도시 유형_Avg  추석까지 남은 기간(주)&도시 유형_Q25  추석까지 남은 기간(주)&도시 유형_Q50  \\\n",
       "0                 5.235991                 4.234107                 5.310737   \n",
       "1                 4.805002                 3.970292                 4.564348   \n",
       "2                 5.232380                 4.219508                 5.280115   \n",
       "3                 4.327791                 3.688879                 4.300767   \n",
       "4                 4.889591                 3.988984                 5.003946   \n",
       "\n",
       "   추석까지 남은 기간(주)&도시 유형_Q75  추석까지 남은 기간(주)&지역 유형_Avg  추석까지 남은 기간(주)&지역 유형_Q25  \\\n",
       "0                 6.255022                 5.197724                 4.234107   \n",
       "1                 5.860786                 4.933738                 3.970292   \n",
       "2                 6.274251                 5.101507                 4.219508   \n",
       "3                 5.139355                 4.850855                 3.988984   \n",
       "4                 5.823046                 4.957288                 4.208396   \n",
       "\n",
       "   추석까지 남은 기간(주)&지역 유형_Q50  추석까지 남은 기간(주)&지역 유형_Q75  추석까지 남은 기간(주)&쇼핑몰 유형_Avg  \\\n",
       "0                 5.308268                 6.216606                  4.698601   \n",
       "1                 4.905275                 5.932245                  4.856061   \n",
       "2                 5.170484                 6.126869                  4.646882   \n",
       "3                 5.010635                 5.743003                  5.016551   \n",
       "4                 4.912655                 5.924842                  4.698601   \n",
       "\n",
       "   추석까지 남은 기간(주)&쇼핑몰 유형_Q25  추석까지 남은 기간(주)&쇼핑몰 유형_Q50  \\\n",
       "0                  3.688879                  4.795791   \n",
       "1                  3.970292                  4.804021   \n",
       "2                  3.713572                  4.682131   \n",
       "3                  4.204693                  5.093750   \n",
       "4                  3.688879                  4.795791   \n",
       "\n",
       "   추석까지 남은 기간(주)&쇼핑몰 유형_Q75  추석까지 남은 기간(주)&선물 유형_Avg  추석까지 남은 기간(주)&선물 유형_Q25  \\\n",
       "0                  5.736572                 3.316893                 2.708050   \n",
       "1                  5.857933                 3.401927                 3.258097   \n",
       "2                  5.694572                 6.168623                 5.467624   \n",
       "3                  5.934894                 4.253802                 3.725621   \n",
       "4                  5.736572                 6.347052                 6.126869   \n",
       "\n",
       "   추석까지 남은 기간(주)&선물 유형_Q50  추석까지 남은 기간(주)&선물 유형_Q75  쇼핑몰 구분&도시 유형_Avg  \\\n",
       "0                 3.295837                 3.713572          4.873879   \n",
       "1                 3.332205                 3.688879          4.923296   \n",
       "2                 6.289716                 7.021976          4.873879   \n",
       "3                 4.234107                 4.743569          4.357843   \n",
       "4                 6.293419                 6.612041          4.818865   \n",
       "\n",
       "   쇼핑몰 구분&도시 유형_Q25  쇼핑몰 구분&도시 유형_Q50  쇼핑몰 구분&도시 유형_Q75  쇼핑몰 구분&지역 유형_Avg  \\\n",
       "0          3.713572          4.686740          6.172463          4.873879   \n",
       "1          3.988984          4.751766          5.935555          4.923296   \n",
       "2          3.713572          4.686740          6.172463          4.873879   \n",
       "3          3.713572          4.234107          5.126191          4.357843   \n",
       "4          3.695053          4.738961          6.120232          4.818865   \n",
       "\n",
       "   쇼핑몰 구분&지역 유형_Q25  쇼핑몰 구분&지역 유형_Q50  쇼핑몰 구분&지역 유형_Q75  쇼핑몰 구분&쇼핑몰 유형_Avg  \\\n",
       "0          3.713572          4.686740          6.172463           4.873879   \n",
       "1          3.988984          4.751766          5.935555           4.923296   \n",
       "2          3.713572          4.686740          6.172463           4.873879   \n",
       "3          3.713572          4.234107          5.126191           4.357843   \n",
       "4          3.695053          4.738961          6.120232           4.818865   \n",
       "\n",
       "   쇼핑몰 구분&쇼핑몰 유형_Q25  쇼핑몰 구분&쇼핑몰 유형_Q50  쇼핑몰 구분&쇼핑몰 유형_Q75  도시 유형&지역 유형_Avg  \\\n",
       "0           3.713572           4.686740           6.172463         5.184096   \n",
       "1           3.988984           4.751766           5.935555         4.876896   \n",
       "2           3.713572           4.686740           6.172463         5.184096   \n",
       "3           3.713572           4.234107           5.126191         4.357843   \n",
       "4           3.695053           4.738961           6.120232         4.903594   \n",
       "\n",
       "   도시 유형&지역 유형_Q25  도시 유형&지역 유형_Q50  도시 유형&지역 유형_Q75  도시 유형&쇼핑몰 유형_Avg  \\\n",
       "0         4.204693         5.241747         6.186209          4.625334   \n",
       "1         4.007333         4.795791         5.840490          4.876896   \n",
       "2         4.204693         5.241747         6.186209          4.625334   \n",
       "3         3.713572         4.234107         5.126191          4.357843   \n",
       "4         3.974965         4.808103         6.067846          4.686977   \n",
       "\n",
       "   도시 유형&쇼핑몰 유형_Q25  도시 유형&쇼핑몰 유형_Q50  도시 유형&쇼핑몰 유형_Q75  지역 유형&쇼핑몰 유형_Avg  \\\n",
       "0          3.713572          4.553877          5.715152          4.611669   \n",
       "1          4.007333          4.795791          5.840490          5.065781   \n",
       "2          3.713572          4.553877          5.715152          4.611669   \n",
       "3          3.713572          4.234107          5.126191          4.822590   \n",
       "4          3.688879          4.691348          5.780744          4.792957   \n",
       "\n",
       "   지역 유형&쇼핑몰 유형_Q25  지역 유형&쇼핑몰 유형_Q50  지역 유형&쇼핑몰 유형_Q75  쇼핑몰 유형&선물 유형_Avg  \\\n",
       "0          3.688879          4.564348          5.739793          2.996248   \n",
       "1          4.204693          5.093750          6.037871          3.921815   \n",
       "2          3.688879          4.564348          5.739793          5.251507   \n",
       "3          3.988984          4.905275          5.743003          4.146748   \n",
       "4          3.688879          4.682131          6.106957          5.962602   \n",
       "\n",
       "   쇼핑몰 유형&선물 유형_Q25  쇼핑몰 유형&선물 유형_Q50  쇼핑몰 유형&선물 유형_Q75  \\\n",
       "0          2.620530          2.948577          3.276624   \n",
       "1          3.295837          3.863327          4.406719   \n",
       "2          4.593794          5.313206          5.704450   \n",
       "3          3.719596          4.204693          4.543295   \n",
       "4          5.623090          5.916024          6.400051   \n",
       "\n",
       "   추석까지 남은 기간(주)&쇼핑몰 구분&도시 유형_Avg  추석까지 남은 기간(주)&쇼핑몰 구분&도시 유형_Q25  \\\n",
       "0                        4.655161                        3.332205   \n",
       "1                        4.902553                        3.988984   \n",
       "2                        5.055769                        3.737670   \n",
       "3                        4.327791                        3.688879   \n",
       "4                        4.883773                        3.988984   \n",
       "\n",
       "   추석까지 남은 기간(주)&쇼핑몰 구분&도시 유형_Q50  추석까지 남은 기간(주)&쇼핑몰 구분&도시 유형_Q75  \\\n",
       "0                        4.204693                        6.186209   \n",
       "1                        4.691348                        6.003887   \n",
       "2                        5.497168                        6.429719   \n",
       "3                        4.300767                        5.139355   \n",
       "4                        4.538290                        6.166278   \n",
       "\n",
       "   추석까지 남은 기간(주)&쇼핑몰 구분&지역 유형_Avg  추석까지 남은 기간(주)&쇼핑몰 구분&지역 유형_Q25  \\\n",
       "0                        4.655161                        3.332205   \n",
       "1                        4.902553                        3.988984   \n",
       "2                        5.055769                        3.737670   \n",
       "3                        4.327791                        3.688879   \n",
       "4                        4.883773                        3.988984   \n",
       "\n",
       "   추석까지 남은 기간(주)&쇼핑몰 구분&지역 유형_Q50  추석까지 남은 기간(주)&쇼핑몰 구분&지역 유형_Q75  \\\n",
       "0                        4.204693                        6.186209   \n",
       "1                        4.691348                        6.003887   \n",
       "2                        5.497168                        6.429719   \n",
       "3                        4.300767                        5.139355   \n",
       "4                        4.538290                        6.166278   \n",
       "\n",
       "   추석까지 남은 기간(주)&쇼핑몰 구분&쇼핑몰 유형_Avg  추석까지 남은 기간(주)&쇼핑몰 구분&쇼핑몰 유형_Q25  \\\n",
       "0                         4.655161                         3.332205   \n",
       "1                         4.902553                         3.988984   \n",
       "2                         5.055769                         3.737670   \n",
       "3                         4.327791                         3.688879   \n",
       "4                         4.883773                         3.988984   \n",
       "\n",
       "   추석까지 남은 기간(주)&쇼핑몰 구분&쇼핑몰 유형_Q50  추석까지 남은 기간(주)&쇼핑몰 구분&쇼핑몰 유형_Q75  \\\n",
       "0                         4.204693                         6.186209   \n",
       "1                         4.691348                         6.003887   \n",
       "2                         5.497168                         6.429719   \n",
       "3                         4.300767                         5.139355   \n",
       "4                         4.538290                         6.166278   \n",
       "\n",
       "   추석까지 남은 기간(주)&도시 유형&지역 유형_Avg  추석까지 남은 기간(주)&도시 유형&지역 유형_Q25  \\\n",
       "0                       5.235991                       4.234107   \n",
       "1                       4.805002                       3.970292   \n",
       "2                       5.232380                       4.219508   \n",
       "3                       4.327791                       3.688879   \n",
       "4                       4.905390                       3.993571   \n",
       "\n",
       "   추석까지 남은 기간(주)&도시 유형&지역 유형_Q50  추석까지 남은 기간(주)&도시 유형&지역 유형_Q75  \\\n",
       "0                       5.310737                       6.255022   \n",
       "1                       4.564348                       5.860786   \n",
       "2                       5.280115                       6.274251   \n",
       "3                       4.300767                       5.139355   \n",
       "4                       4.905275                       5.993877   \n",
       "\n",
       "   추석까지 남은 기간(주)&도시 유형&쇼핑몰 유형_Avg  추석까지 남은 기간(주)&도시 유형&쇼핑몰 유형_Q25  \\\n",
       "0                        4.627774                        3.599711   \n",
       "1                        4.805002                        3.970292   \n",
       "2                        4.745617                        3.731645   \n",
       "3                        4.327791                        3.688879   \n",
       "4                        4.800062                        3.713572   \n",
       "\n",
       "   추석까지 남은 기간(주)&도시 유형&쇼핑몰 유형_Q50  추석까지 남은 기간(주)&도시 유형&쇼핑몰 유형_Q75  \\\n",
       "0                        4.618004                        5.757450   \n",
       "1                        4.564348                        5.860786   \n",
       "2                        4.618589                        5.833983   \n",
       "3                        4.300767                        5.139355   \n",
       "4                        5.003946                        5.823042   \n",
       "\n",
       "   추석까지 남은 기간(주)&지역 유형&쇼핑몰 유형_Avg  추석까지 남은 기간(주)&지역 유형&쇼핑몰 유형_Q25  \\\n",
       "0                        4.675366                        3.688879   \n",
       "1                        4.936153                        3.970292   \n",
       "2                        4.745683                        3.713572   \n",
       "3                        4.911555                        4.204693   \n",
       "4                        4.827790                        3.713572   \n",
       "\n",
       "   추석까지 남은 기간(주)&지역 유형&쇼핑몰 유형_Q50  추석까지 남은 기간(주)&지역 유형&쇼핑몰 유형_Q75  \\\n",
       "0                        4.682131                        5.857933   \n",
       "1                        4.897840                        5.933570   \n",
       "2                        4.812184                        5.823046   \n",
       "3                        5.129268                        5.779971   \n",
       "4                        4.804021                        6.098074   \n",
       "\n",
       "   쇼핑몰 구분&도시 유형&지역 유형_Avg  쇼핑몰 구분&도시 유형&지역 유형_Q25  쇼핑몰 구분&도시 유형&지역 유형_Q50  \\\n",
       "0                4.873879                3.713572                4.686740   \n",
       "1                4.923296                3.988984                4.751766   \n",
       "2                4.873879                3.713572                4.686740   \n",
       "3                4.357843                3.713572                4.234107   \n",
       "4                4.818865                3.695053                4.738961   \n",
       "\n",
       "   쇼핑몰 구분&도시 유형&지역 유형_Q75  쇼핑몰 구분&도시 유형&쇼핑몰 유형_Avg  쇼핑몰 구분&도시 유형&쇼핑몰 유형_Q25  \\\n",
       "0                6.172463                 4.873879                 3.713572   \n",
       "1                5.935555                 4.923296                 3.988984   \n",
       "2                6.172463                 4.873879                 3.713572   \n",
       "3                5.126191                 4.357843                 3.713572   \n",
       "4                6.120232                 4.818865                 3.695053   \n",
       "\n",
       "   쇼핑몰 구분&도시 유형&쇼핑몰 유형_Q50  쇼핑몰 구분&도시 유형&쇼핑몰 유형_Q75  쇼핑몰 구분&지역 유형&쇼핑몰 유형_Avg  \\\n",
       "0                 4.686740                 6.172463                 4.873879   \n",
       "1                 4.751766                 5.935555                 4.923296   \n",
       "2                 4.686740                 6.172463                 4.873879   \n",
       "3                 4.234107                 5.126191                 4.357843   \n",
       "4                 4.738961                 6.120232                 4.818865   \n",
       "\n",
       "   쇼핑몰 구분&지역 유형&쇼핑몰 유형_Q25  쇼핑몰 구분&지역 유형&쇼핑몰 유형_Q50  쇼핑몰 구분&지역 유형&쇼핑몰 유형_Q75  \\\n",
       "0                 3.713572                 4.686740                 6.172463   \n",
       "1                 3.988984                 4.751766                 5.935555   \n",
       "2                 3.713572                 4.686740                 6.172463   \n",
       "3                 3.713572                 4.234107                 5.126191   \n",
       "4                 3.695053                 4.738961                 6.120232   \n",
       "\n",
       "   도시 유형&지역 유형&쇼핑몰 유형_Avg  도시 유형&지역 유형&쇼핑몰 유형_Q25  도시 유형&지역 유형&쇼핑몰 유형_Q50  \\\n",
       "0                4.625334                3.713572                4.553877   \n",
       "1                4.876896                4.007333                4.795791   \n",
       "2                4.625334                3.713572                4.553877   \n",
       "3                4.357843                3.713572                4.234107   \n",
       "4                4.792957                3.688879                4.682131   \n",
       "\n",
       "   도시 유형&지역 유형&쇼핑몰 유형_Q75  \n",
       "0                5.715152  \n",
       "1                5.840490  \n",
       "2                5.715152  \n",
       "3                5.126191  \n",
       "4                6.106957  "
      ]
     },
     "execution_count": 41,
     "metadata": {},
     "output_type": "execute_result"
    }
   ],
   "source": [
    "print(train_df3.shape,'->',train_df4.shape)\n",
    "train_df4.head()"
   ]
  },
  {
   "cell_type": "markdown",
   "id": "ae2d3dd0-42a7-4e2e-b40b-163cfdb9903e",
   "metadata": {},
   "source": [
    "<br>"
   ]
  },
  {
   "cell_type": "markdown",
   "id": "2ca72ff7-cbb1-4f88-91d1-538dddf2604a",
   "metadata": {},
   "source": [
    "## Group Scaler"
   ]
  },
  {
   "cell_type": "code",
   "execution_count": 42,
   "id": "c2e08350-4f6a-45d8-9fa9-fe2bbe0b3e02",
   "metadata": {},
   "outputs": [],
   "source": [
    "train_df5 = train_df4.copy()\n",
    "test_df5  = test_df4 .copy()"
   ]
  },
  {
   "cell_type": "code",
   "execution_count": 43,
   "id": "b8fbd294-a8a9-437e-8d86-763c3f36a4b0",
   "metadata": {
    "tags": []
   },
   "outputs": [],
   "source": [
    "# if segment_feature is not None:\n",
    "#     from sklearn.preprocessing import MinMaxScaler\n",
    "#     scaler = GroupScaler(scaler=MinMaxScaler())\n",
    "#     scaler.fit(\n",
    "#         data=train_df4,\n",
    "#         group=segment_feature,\n",
    "#         num_features=num_features,\n",
    "#     )\n",
    "#     train_df5 = scaler.transform(train_df4)\n",
    "#     test_df5  = scaler.transform(test_df4)\n",
    "# else:\n",
    "#     train_df5 = train_df4.copy()\n",
    "#     test_df5  = test_df4 .copy()"
   ]
  },
  {
   "cell_type": "code",
   "execution_count": 44,
   "id": "6a9a44d8-8275-4a93-a093-95f0d3bfbda5",
   "metadata": {},
   "outputs": [],
   "source": [
    "# from sklearn.preprocessing import MinMaxScaler\n",
    "\n",
    "# group = ['선물 유형'] # '선물 유형', '쇼핑몰 구분'\n",
    "# scaler = GroupScaler(scaler=MinMaxScaler())\n",
    "# scaler.fit(\n",
    "#     data=train_df4,\n",
    "#     group=group,\n",
    "#     num_features=num_features,\n",
    "# )\n",
    "# train_df5 = scaler.transform(train_df4)\n",
    "# test_df5  = scaler.transform(test_df4)"
   ]
  },
  {
   "cell_type": "markdown",
   "id": "127df7cb-2f85-4d9f-9910-09b3c8995e54",
   "metadata": {},
   "source": [
    "<br>"
   ]
  },
  {
   "cell_type": "markdown",
   "id": "487d726a-1c5f-4aff-a009-d00fa352521b",
   "metadata": {},
   "source": [
    "## Memory Reduce"
   ]
  },
  {
   "cell_type": "code",
   "execution_count": 45,
   "id": "7ed88ecd-6022-4cc8-ac67-230979ebd676",
   "metadata": {
    "tags": []
   },
   "outputs": [],
   "source": [
    "train_df6, _ = reduce_mem_usage(train_df5,verbose=False)\n",
    "test_df6 , _ = reduce_mem_usage(test_df5 ,verbose=False)"
   ]
  },
  {
   "cell_type": "code",
   "execution_count": 46,
   "id": "48ce3efc-2a99-45b2-8b63-3c2627eeb5ea",
   "metadata": {},
   "outputs": [],
   "source": [
    "train_df6.to_parquet('./out/train_df6.parquet')\n",
    "test_df6 .to_parquet('./out/test_df6.parquet')"
   ]
  },
  {
   "cell_type": "markdown",
   "id": "37079c91-41c4-430c-98a5-983bde5b570a",
   "metadata": {},
   "source": [
    "<br></br>"
   ]
  },
  {
   "cell_type": "markdown",
   "id": "543045ba-a94d-4a82-818a-81c1f5102450",
   "metadata": {
    "tags": []
   },
   "source": [
    "# Modeling"
   ]
  },
  {
   "cell_type": "markdown",
   "id": "2df765bd-8a4b-47c5-a2a7-513d78dea30f",
   "metadata": {},
   "source": [
    "## Weighted Ensemble"
   ]
  },
  {
   "cell_type": "code",
   "execution_count": 47,
   "id": "08d23208-770f-4f1d-a76e-3262ef882780",
   "metadata": {},
   "outputs": [],
   "source": [
    "train_fn = pd.read_parquet('./out/train_df6.parquet')\n",
    "test_fn  = pd.read_parquet('./out/test_df6.parquet')"
   ]
  },
  {
   "cell_type": "code",
   "execution_count": 48,
   "id": "c68df3ed-c51c-4bc8-a775-39f347d985f9",
   "metadata": {},
   "outputs": [],
   "source": [
    "class WeightedMSELoss:        \n",
    "    def calc_ders_range(self, approxes, targets, weights):\n",
    "        alpha = 5\n",
    "        \n",
    "        assert len(approxes) == len(targets)\n",
    "        if weights is not None:\n",
    "            assert len(weights) == len(approxes)\n",
    "        \n",
    "        result = []\n",
    "        for index in range(len(targets)):\n",
    "            residual = targets[index] - approxes[index]\n",
    "            grad = -2 * alpha * residual if residual > 0 else -2 * residual\n",
    "            hess = 2 * alpha if residual > 0 else 2.0\n",
    "            \n",
    "            if weights is not None:\n",
    "                grad *= weights[index]\n",
    "                hess *= weights[index]\n",
    "            \n",
    "            result.append((grad, hess))\n",
    "        return result"
   ]
  },
  {
   "cell_type": "code",
   "execution_count": 49,
   "id": "4be8ea12-26f9-428b-a163-77dac0fd5285",
   "metadata": {},
   "outputs": [
    {
     "data": {
      "text/html": [
       "<style type='text/css'>\n",
       ".datatable table.frame { margin-bottom: 0; }\n",
       ".datatable table.frame thead { border-bottom: none; }\n",
       ".datatable table.frame tr.coltypes td {  color: #FFFFFF;  line-height: 6px;  padding: 0 0.5em;}\n",
       ".datatable .bool    { background: #DDDD99; }\n",
       ".datatable .object  { background: #565656; }\n",
       ".datatable .int     { background: #5D9E5D; }\n",
       ".datatable .float   { background: #4040CC; }\n",
       ".datatable .str     { background: #CC4040; }\n",
       ".datatable .time    { background: #40CC40; }\n",
       ".datatable .row_index {  background: var(--jp-border-color3);  border-right: 1px solid var(--jp-border-color0);  color: var(--jp-ui-font-color3);  font-size: 9px;}\n",
       ".datatable .frame tbody td { text-align: left; }\n",
       ".datatable .frame tr.coltypes .row_index {  background: var(--jp-border-color0);}\n",
       ".datatable th:nth-child(2) { padding-left: 12px; }\n",
       ".datatable .hellipsis {  color: var(--jp-cell-editor-border-color);}\n",
       ".datatable .vellipsis {  background: var(--jp-layout-color0);  color: var(--jp-cell-editor-border-color);}\n",
       ".datatable .na {  color: var(--jp-cell-editor-border-color);  font-size: 80%;}\n",
       ".datatable .sp {  opacity: 0.25;}\n",
       ".datatable .footer { font-size: 9px; }\n",
       ".datatable .frame_dimensions {  background: var(--jp-border-color3);  border-top: 1px solid var(--jp-border-color0);  color: var(--jp-ui-font-color3);  display: inline-block;  opacity: 0.6;  padding: 1px 10px 1px 5px;}\n",
       "</style>\n"
      ],
      "text/plain": [
       "<IPython.core.display.HTML object>"
      ]
     },
     "metadata": {},
     "output_type": "display_data"
    }
   ],
   "source": [
    "from copy import deepcopy\n",
    "from sklearn.base import BaseEstimator, RegressorMixin\n",
    "from catboost import CatBoostRegressor, Pool\n",
    "from xgboost import XGBRegressor\n",
    "from lightgbm import LGBMRegressor\n",
    "from sklearn.linear_model import LinearRegression, RidgeCV, LassoCV, ElasticNetCV\n",
    "from sklearn.model_selection import RepeatedKFold\n",
    "from sklearn.ensemble import ExtraTreesRegressor\n",
    "from sklearn.metrics import mean_absolute_error, mean_squared_error\n",
    "import warnings\n",
    "import time\n",
    "import pickle\n",
    "\n",
    "def RMSE(y_true,y_pred):\n",
    "    return mean_squared_error(y_true=y_true,y_pred=y_pred)**0.5\n",
    "\n",
    "class WeightedEnsembleRegressor(BaseEstimator, RegressorMixin):\n",
    "    def __init__(self,hyperparameters,weight=['equal','balanced'],inverse_transform=None,eval_metric=None):\n",
    "        super().__init__()\n",
    "        \n",
    "        assert weight in ['equal','balanced'], \\\n",
    "            \"weight must be one of ['equal','balanced']\"\n",
    "        \n",
    "        self.hyperparameters = hyperparameters\n",
    "        self.weight = weight\n",
    "        self.inverse_transform = inverse_transform\n",
    "        self.eval_metric = RMSE if eval_metric is None else eval_metric\n",
    "        \n",
    "        self._get_regressors()\n",
    "    \n",
    "    def _get_regressors(self):\n",
    "        n_jobs = -1\n",
    "        \n",
    "        cat_loss_function = 'RMSE' # WeightedMSELoss\n",
    "        cat_eval_metric = 'RMSE'\n",
    "        lgb_metric = 'rmse' # 'rmse','mean_absolute_error'\n",
    "        \n",
    "        params_ridge = {\n",
    "            'alphas' : [1e-5, 1e-3, 1e-1, 1.0, 10.0, 100.0],\n",
    "            'cv' : RepeatedKFold(n_splits=self.hyperparameters['n_splits'], n_repeats=3, \n",
    "                                 random_state=self.hyperparameters['random_state']),\n",
    "        }\n",
    "        \n",
    "        params_lasso = {\n",
    "            'alphas' : [1e-5, 1e-3, 1e-1, 1.0, 10.0, 100.0],\n",
    "            'cv' : RepeatedKFold(n_splits=self.hyperparameters['n_splits'], n_repeats=3,\n",
    "                                 random_state=self.hyperparameters['random_state']),\n",
    "            'n_jobs' : n_jobs,\n",
    "            #'max_iter' : 30000,\n",
    "            'tol' : 0.001,\n",
    "        }\n",
    "        \n",
    "        params_elasticnet = {\n",
    "            'l1_ratio' : np.arange(0.1, 1, 0.1),\n",
    "            'alphas' : [1e-5, 1e-3, 1e-1, 1.0, 10.0, 100.0],\n",
    "            'cv' : RepeatedKFold(n_splits=self.hyperparameters['n_splits'], n_repeats=3,\n",
    "                                 random_state=self.hyperparameters['random_state']),\n",
    "            'n_jobs' : n_jobs,\n",
    "            #'max_iter' : 30000,\n",
    "            'tol' : 0.001,\n",
    "        }\n",
    "        \n",
    "        params_catboost1 = {\n",
    "            'random_state' : self.hyperparameters['random_state'],\n",
    "            'iterations' : self.hyperparameters['iterations'],\n",
    "            'early_stopping_rounds' : self.hyperparameters['early_stopping_rounds'],\n",
    "            'learning_rate' : self.hyperparameters['learning_rate'],\n",
    "            'loss_function' : 'RMSE', #'MAE'\n",
    "            #'loss_function' : cat_loss_function, 'eval_metric' : cat_eval_metric,\n",
    "            'grow_policy' : 'Lossguide', # 'SymmetricTree','Depthwise'\n",
    "            'use_best_model' : True,\n",
    "            'allow_writing_files' : False,\n",
    "            'verbose' : 0,\n",
    "            'max_depth' : self.hyperparameters['max_depth'],\n",
    "            #'l2_leaf_reg' : 1,\n",
    "        }\n",
    "        \n",
    "        params_catboost2 = {\n",
    "            'random_state' : self.hyperparameters['random_state'],\n",
    "            'iterations' : self.hyperparameters['iterations'],\n",
    "            'early_stopping_rounds' : self.hyperparameters['early_stopping_rounds'],\n",
    "            'learning_rate' : self.hyperparameters['learning_rate'],\n",
    "            'loss_function' : 'RMSE', #'MAE'\n",
    "            #'loss_function' : cat_loss_function, 'eval_metric' : cat_eval_metric,\n",
    "            'grow_policy' : 'Lossguide', # 'SymmetricTree','Depthwise'\n",
    "            'use_best_model' : True,\n",
    "            'allow_writing_files' : False,\n",
    "            'verbose' : 0,\n",
    "            #'max_depth' : self.hyperparameters['max_depth'],\n",
    "            'l2_leaf_reg' : 3,\n",
    "        }\n",
    "        \n",
    "        params_catboost3 = {\n",
    "            'random_state' : self.hyperparameters['random_state'],\n",
    "            'iterations' : self.hyperparameters['iterations'],\n",
    "            'early_stopping_rounds' : self.hyperparameters['early_stopping_rounds'],\n",
    "            'learning_rate' : self.hyperparameters['learning_rate'],\n",
    "            'loss_function' : 'RMSE', #'MAE'\n",
    "            #'loss_function' : cat_loss_function, 'eval_metric' : cat_eval_metric,\n",
    "            'grow_policy' : 'SymmetricTree', # 'Lossguide','Depthwise'\n",
    "            'use_best_model' : True,\n",
    "            'allow_writing_files' : False,\n",
    "            'verbose' : 0,\n",
    "            #'max_depth' : self.hyperparameters['max_depth'],\n",
    "            'l2_leaf_reg' : 1,\n",
    "        }\n",
    "        \n",
    "        params_catboost4 = {\n",
    "            'random_state' : self.hyperparameters['random_state'],\n",
    "            'iterations' : self.hyperparameters['iterations'],\n",
    "            'early_stopping_rounds' : self.hyperparameters['early_stopping_rounds'],\n",
    "            'learning_rate' : self.hyperparameters['learning_rate'],\n",
    "            'loss_function' : 'RMSE', #'MAE'\n",
    "            #'loss_function' : cat_loss_function, 'eval_metric' : cat_eval_metric,\n",
    "            'grow_policy' : 'Depthwise', # 'SymmetricTree','Depthwise'\n",
    "            'use_best_model' : True,\n",
    "            'allow_writing_files' : False,\n",
    "            'verbose' : 0,\n",
    "            'max_depth' : self.hyperparameters['max_depth'],\n",
    "            'l2_leaf_reg' : 1,\n",
    "        }\n",
    "    \n",
    "        params_xgboost = {\n",
    "            'random_state' : self.hyperparameters['random_state'],\n",
    "            'n_estimators' : self.hyperparameters['xgb_iterations'],\n",
    "            'early_stopping_rounds' : self.hyperparameters['xgb_early_stopping_rounds'],\n",
    "            'learning_rate' : self.hyperparameters['xgb_learning_rate'],\n",
    "            'objective' : 'reg:squarederror',#'reg:absoluteerror',\n",
    "            'verbosity' : 0,\n",
    "            'max_depth': self.hyperparameters['max_depth'],\n",
    "            'n_jobs' : n_jobs,\n",
    "        }\n",
    "        \n",
    "        params_lightgbm0 = {\n",
    "            'random_state' : self.hyperparameters['random_state'],\n",
    "            'n_estimators' : self.hyperparameters['iterations'],\n",
    "            'early_stopping_round' : self.hyperparameters['early_stopping_rounds'],\n",
    "            #'learning_rate' : self.hyperparameters['learning_rate'],\n",
    "            'objective' : 'regression',\n",
    "            'metric' : lgb_metric,\n",
    "            'verbosity' : -1,\n",
    "            #'max_depth': self.hyperparameters['max_depth'],\n",
    "            #'reg_lambda' : 1,\n",
    "            'n_jobs' : n_jobs,\n",
    "        }\n",
    "    \n",
    "        params_lightgbm1 = {\n",
    "            'random_state' : self.hyperparameters['random_state'],\n",
    "            'n_estimators' : self.hyperparameters['iterations'],\n",
    "            'early_stopping_round' : self.hyperparameters['early_stopping_rounds'],\n",
    "            'learning_rate' : self.hyperparameters['learning_rate'],\n",
    "            'objective' : 'regression',\n",
    "            'metric' : lgb_metric,\n",
    "            'verbosity' : -1,\n",
    "            'max_depth': self.hyperparameters['max_depth'],\n",
    "            'reg_lambda' : 1,\n",
    "            'n_jobs' : n_jobs,\n",
    "        }\n",
    "        \n",
    "        params_lightgbm2 = {\n",
    "            'random_state' : self.hyperparameters['random_state'],\n",
    "            'n_estimators' : self.hyperparameters['iterations'],\n",
    "            'early_stopping_round' : self.hyperparameters['early_stopping_rounds'],\n",
    "            'learning_rate' : self.hyperparameters['learning_rate'],\n",
    "            'objective' : 'regression',\n",
    "            'metric' : lgb_metric,\n",
    "            'verbosity' : -1,\n",
    "            'max_depth': self.hyperparameters['max_depth'],\n",
    "            'reg_lambda' : 3,\n",
    "            'n_jobs' : n_jobs,\n",
    "        }\n",
    "        \n",
    "        params_lightgbm3 = {\n",
    "            'random_state' : self.hyperparameters['random_state'],\n",
    "            'n_estimators' : self.hyperparameters['iterations'],\n",
    "            'early_stopping_round' : self.hyperparameters['early_stopping_rounds'],\n",
    "            'learning_rate' : self.hyperparameters['learning_rate'],\n",
    "            'objective' : 'regression',\n",
    "            'metric' : lgb_metric,\n",
    "            'verbosity' : -1,\n",
    "            'max_depth': self.hyperparameters['max_depth'],\n",
    "            'reg_alpha' : 1,\n",
    "            'n_jobs' : n_jobs,\n",
    "        }\n",
    "        \n",
    "        params_lightgbm4 = {\n",
    "            'random_state' : self.hyperparameters['random_state'],\n",
    "            'n_estimators' : self.hyperparameters['iterations'],\n",
    "            'early_stopping_round' : self.hyperparameters['early_stopping_rounds'],\n",
    "            'learning_rate' : self.hyperparameters['learning_rate'],\n",
    "            'objective' : 'regression',\n",
    "            'metric' : lgb_metric,\n",
    "            'verbosity' : -1,\n",
    "            'max_depth': self.hyperparameters['max_depth'],\n",
    "            'reg_alpha' : 3,\n",
    "            'n_jobs' : n_jobs,\n",
    "        }\n",
    "        \n",
    "        params_lightgbm5 = {\n",
    "            'random_state' : self.hyperparameters['random_state'],\n",
    "            'n_estimators' : self.hyperparameters['iterations'],\n",
    "            'early_stopping_round' : self.hyperparameters['early_stopping_rounds'],\n",
    "            'learning_rate' : self.hyperparameters['learning_rate'],\n",
    "            'objective' : 'regression',\n",
    "            'metric' : lgb_metric,\n",
    "            'verbosity' : -1,\n",
    "            'max_depth': self.hyperparameters['max_depth'],\n",
    "            'reg_alpha' : 1,\n",
    "            'reg_lambda' : 1,\n",
    "            'n_jobs' : n_jobs,\n",
    "        }\n",
    "        \n",
    "        params_lightgbm6 = {\n",
    "            'random_state' : self.hyperparameters['random_state'],\n",
    "            'n_estimators' : self.hyperparameters['iterations'],\n",
    "            'early_stopping_round' : self.hyperparameters['early_stopping_rounds'],\n",
    "            'learning_rate' : self.hyperparameters['learning_rate'],\n",
    "            'objective' : 'regression',\n",
    "            'metric' : lgb_metric,\n",
    "            'verbosity' : -1,\n",
    "            'max_depth': self.hyperparameters['max_depth'],\n",
    "            'reg_alpha' : 1,\n",
    "            'reg_lambda' : 3,\n",
    "            'n_jobs' : n_jobs,\n",
    "        }\n",
    "        \n",
    "        params_lightgbm7 = {\n",
    "            'random_state' : self.hyperparameters['random_state'],\n",
    "            'n_estimators' : self.hyperparameters['iterations'],\n",
    "            'early_stopping_round' : self.hyperparameters['early_stopping_rounds'],\n",
    "            'learning_rate' : self.hyperparameters['learning_rate'],\n",
    "            'objective' : 'regression',\n",
    "            'metric' : lgb_metric,\n",
    "            'verbosity' : -1,\n",
    "            'max_depth': self.hyperparameters['max_depth'],\n",
    "            'reg_alpha' : 3,\n",
    "            'reg_lambda' : 1,\n",
    "            'n_jobs' : n_jobs,\n",
    "        }\n",
    "        \n",
    "        params_lightgbm8 = {\n",
    "            'random_state' : self.hyperparameters['random_state'],\n",
    "            'n_estimators' : self.hyperparameters['iterations'],\n",
    "            'early_stopping_round' : self.hyperparameters['early_stopping_rounds'],\n",
    "            'learning_rate' : self.hyperparameters['learning_rate'],\n",
    "            'objective' : 'regression',\n",
    "            'metric' : lgb_metric,\n",
    "            'verbosity' : -1,\n",
    "            'max_depth': self.hyperparameters['max_depth'],\n",
    "            'reg_alpha' : 3,\n",
    "            'reg_lambda' : 3,\n",
    "            'n_jobs' : n_jobs,\n",
    "        }\n",
    "        \n",
    "        params_extratrees = {\n",
    "            'random_state' : self.hyperparameters['random_state'],\n",
    "            'n_estimators' : self.hyperparameters['extratrees_iterations'],\n",
    "            'criterion' : 'absolute_error',\n",
    "            'verbose' : 0,\n",
    "            'max_depth' : self.hyperparameters['max_depth'],\n",
    "            'n_jobs' : n_jobs,\n",
    "        }\n",
    "        \n",
    "        self.regressors = [\n",
    "            # LinearRegression(),\n",
    "            # RidgeCV(**params_ridge),\n",
    "            # LassoCV(**params_lasso),\n",
    "            # ElasticNetCV(**params_elasticnet),\n",
    "            # CatBoostRegressor(**params_catboost1),\n",
    "            # CatBoostRegressor(**params_catboost2),\n",
    "            # CatBoostRegressor(**params_catboost3),\n",
    "            # CatBoostRegressor(**params_catboost4),\n",
    "            # XGBRegressor(**params_xgboost),\n",
    "            LGBMRegressor(**params_lightgbm0),\n",
    "            LGBMRegressor(**params_lightgbm1),\n",
    "            LGBMRegressor(**params_lightgbm2),\n",
    "            LGBMRegressor(**params_lightgbm3),\n",
    "            LGBMRegressor(**params_lightgbm4),\n",
    "            LGBMRegressor(**params_lightgbm5),\n",
    "            LGBMRegressor(**params_lightgbm6),\n",
    "            LGBMRegressor(**params_lightgbm7),\n",
    "            LGBMRegressor(**params_lightgbm8),\n",
    "            #ExtraTreesRegressor(**params_extratrees),\n",
    "        ]\n",
    "        self.regressors_name = [\n",
    "            # 'OLS',\n",
    "            # 'Ridge',\n",
    "            # 'Lasso',\n",
    "            # 'ElasticNet',\n",
    "            # 'CatBoost1',\n",
    "            # 'CatBoost2',\n",
    "            # 'CatBoost3',\n",
    "            # 'CatBoost4',\n",
    "            # 'XGBoost',\n",
    "            'LightGBM0',\n",
    "            'LightGBM1',\n",
    "            'LightGBM2',\n",
    "            'LightGBM3',\n",
    "            'LightGBM4',\n",
    "            'LightGBM5',\n",
    "            'LightGBM6',\n",
    "            'LightGBM7',\n",
    "            'LightGBM8',\n",
    "            #'ExtraTrees',\n",
    "        ]\n",
    "        \n",
    "    def _set_zero_to_minimum(self,pred,minimum_value):\n",
    "        pred = np.array(pred).flatten()\n",
    "        if np.where(pred<0,1,0).sum()>0:\n",
    "            pred = [x if x>0 else minimum_value for x in pred]\n",
    "        pred = np.array(pred).flatten()\n",
    "        return pred\n",
    "    \n",
    "    def _set_inf_to_maximum(self,pred,maximum_value):\n",
    "        pred = np.array(pred).flatten()\n",
    "        if np.where(pred==np.inf,1,0).sum()>0:\n",
    "            pred = [x if x!=np.inf else maximum_value for x in pred]\n",
    "        pred = np.array(pred).flatten()\n",
    "        return pred\n",
    "    \n",
    "    def fit(self,X,y,eval_set,oh_set,cat_features,verbose=1):\n",
    "        assert len(eval_set)==1, \\\n",
    "            \"eval_set length must be 1. len(eval_set)={}\".format(len(eval_set))\n",
    "        assert len(oh_set)==1, \\\n",
    "            \"oh_set length must be 1. len(oh_set)={}\".format(len(oh_set))\n",
    "        X_val, y_val = eval_set[0]\n",
    "        X_oh, X_val_oh = oh_set[0]\n",
    "        \n",
    "        self.features = X.columns\n",
    "        self.oh_features = X_oh.columns\n",
    "        \n",
    "        tr_true = np.array(y)    .flatten()\n",
    "        va_true = np.array(y_val).flatten()\n",
    "        if self.inverse_transform is not None:\n",
    "            tr_true = self.inverse_transform(tr_true)\n",
    "            va_true = self.inverse_transform(va_true)\n",
    "        \n",
    "        self.minimum_value = min(np.nanmin(y),np.nanmin(y_val))\n",
    "        self.maximum_value = max(np.nanmax(y),np.nanmax(y_val))\n",
    "        \n",
    "        self.cat_features = cat_features\n",
    "        self.scores = []\n",
    "        self.weights = []\n",
    "        self.fitting_elapsed = []\n",
    "        if verbose:\n",
    "            pbar = tqdm(zip(self.regressors_name,self.regressors),total=len(self.regressors))\n",
    "        else:\n",
    "            pbar = zip(self.regressors_name,self.regressors)\n",
    "            \n",
    "        fit_iter = 0\n",
    "        for regressor_name,regressor in pbar:\n",
    "            fit_iter+=1\n",
    "            s = time.time()\n",
    "            \n",
    "            if verbose:\n",
    "                pbar.set_description(name)\n",
    "                \n",
    "            if regressor_name in ['OLS','Ridge','Lasso','ElasticNet']:\n",
    "                warnings.filterwarnings(\"ignore\", category=UserWarning)\n",
    "                regressor.fit(X_oh,y)\n",
    "                tr_pred = regressor.predict(X_oh)\n",
    "                va_pred = regressor.predict(X_val_oh)\n",
    "            elif regressor_name.find('CatBoost')>=0:\n",
    "                train_dataset = Pool(X,y,cat_features=cat_features)\n",
    "                val_dataset   = Pool(X_val,y_val,cat_features=cat_features)\n",
    "                \n",
    "                regressor.fit(\n",
    "                    train_dataset,\n",
    "                    eval_set=val_dataset,\n",
    "                    #metric_period=self.hyperparameters['iterations']//50, verbose=True,\n",
    "                    verbose=False,\n",
    "                )\n",
    "                tr_pred = regressor.predict(train_dataset)\n",
    "                va_pred = regressor.predict(val_dataset)\n",
    "            elif regressor_name=='XGBoost':\n",
    "                regressor.fit(\n",
    "                    X_oh,y,\n",
    "                    eval_set=[(X_val_oh,y_val)],\n",
    "                    verbose=0,\n",
    "                )\n",
    "                tr_pred = regressor.predict(X_oh)\n",
    "                va_pred = regressor.predict(X_val_oh)\n",
    "            elif regressor_name.find('LightGBM')>=0:\n",
    "                warnings.filterwarnings(\"ignore\", category=UserWarning)\n",
    "                X_tmp = X.copy()\n",
    "                X_val_tmp = X_val.copy()\n",
    "                for col in cat_features:\n",
    "                    X_tmp[col]     = X_tmp[col]    .astype('category')\n",
    "                    X_val_tmp[col] = X_val_tmp[col].astype('category')\n",
    "                regressor.fit(\n",
    "                    X_tmp,y,\n",
    "                    eval_set=[(X_val_tmp,y_val)],\n",
    "                    verbose=-1,\n",
    "                )\n",
    "                tr_pred = regressor.predict(X_tmp)\n",
    "                va_pred = regressor.predict(X_val_tmp)\n",
    "            elif regressor_name=='ExtraTrees':\n",
    "                regressor.fit(X_oh,y)\n",
    "                tr_pred = regressor.predict(X_oh)\n",
    "                va_pred = regressor.predict(X_val_oh)\n",
    "            else:\n",
    "                raise ValueError('Unknown Regressor: {}'.format(regressor_name))\n",
    "            \n",
    "            tr_pred = np.array(tr_pred).flatten()\n",
    "            va_pred = np.array(va_pred).flatten()\n",
    "            \n",
    "            tr_pred = self._set_zero_to_minimum(tr_pred,self.minimum_value)\n",
    "            va_pred = self._set_zero_to_minimum(va_pred,self.minimum_value)\n",
    "            \n",
    "            if self.inverse_transform is not None:\n",
    "                tr_pred = self.inverse_transform(tr_pred)\n",
    "                va_pred = self.inverse_transform(va_pred)\n",
    "                tr_pred = self._set_inf_to_maximum(tr_pred,self.maximum_value)\n",
    "                va_pred = self._set_inf_to_maximum(va_pred,self.maximum_value)\n",
    "            \n",
    "            tr_score = self.eval_metric(y_pred=tr_pred,y_true=tr_true)\n",
    "            va_score = self.eval_metric(y_pred=va_pred,y_true=va_true)\n",
    "            e = time.time()\n",
    "            self.scores.append(va_score)\n",
    "            self.weights.append(1/va_score)\n",
    "            self.fitting_elapsed.append(e-s)\n",
    "            \n",
    "            blank = ' '*(11-len(regressor_name))\n",
    "            fit_progress = '[{}/{}] {}{}: loss={:.3f}, val_loss={:.3f}, elasped={:.1f}s'\\\n",
    "                .format(fit_iter,len(self.regressors),regressor_name,blank,tr_score,va_score,e-s)\n",
    "            print(fit_progress)\n",
    "        \n",
    "        if self.weight=='equal':\n",
    "            self.weights = np.array([1.0 for _ in self.regressors])\n",
    "        self.weights /= sum(self.weights)\n",
    "        \n",
    "        tr_pred = self.predict(X,X_oh)\n",
    "        va_pred = self.predict(X_val,X_val_oh)\n",
    "        \n",
    "        ## -> self.predict에서 inverse_transform 해줌\n",
    "        # if self.inverse_transform is not None:\n",
    "        #     tr_pred = self.inverse_transform(tr_pred)\n",
    "        #     va_pred = self.inverse_transform(va_pred)\n",
    "        \n",
    "        ens_tr_score = self.eval_metric(y_true=tr_true,y_pred=tr_pred)\n",
    "        ens_va_score = self.eval_metric(y_true=va_true,y_pred=va_pred)\n",
    "        \n",
    "        ens_fit_progress = \"<Weighted Ensemble(weight='{}')> loss={:.3f}, val_loss={:.3f}, elasped={:.1f}s\"\\\n",
    "            .format(self.weight,ens_tr_score,ens_va_score,sum(self.fitting_elapsed))\n",
    "        print(ens_fit_progress)\n",
    "        \n",
    "        self.ensemble_score = ens_va_score\n",
    "        \n",
    "    def predict(self,X,X_oh):\n",
    "        assert len(X)==len(X_oh), \\\n",
    "            \"X and X_oh must be same length\"\n",
    "        \n",
    "        pred_list = []\n",
    "        for regressor_name,regressor in zip(self.regressors_name,self.regressors):\n",
    "            if regressor_name in ['OLS','Ridge','Lasso','ElasticNet','XGBoost','ExtraTrees']:\n",
    "                dataset = X_oh.copy()\n",
    "            elif regressor_name.find('CatBoost')>=0:\n",
    "                dataset = Pool(X,cat_features=self.cat_features)\n",
    "            elif regressor_name.find('LightGBM')>=0:\n",
    "                dataset = X.copy()\n",
    "                for col in self.cat_features:\n",
    "                    dataset[col] = dataset[col].astype('category')\n",
    "            else:\n",
    "                raise ValueError('Unknown Regressor: {}'.format(regressor_name))\n",
    "            \n",
    "            y_pred = regressor.predict(dataset)\n",
    "            y_pred = self._set_zero_to_minimum(y_pred,self.minimum_value)\n",
    "            \n",
    "            pred_list.append(y_pred)\n",
    "            \n",
    "        final_pred = np.zeros(len(X))\n",
    "        for pred,weight in zip(pred_list,self.weights):\n",
    "            final_pred += np.array(pred)*weight\n",
    "            \n",
    "        if self.inverse_transform is not None:\n",
    "            final_pred = self.inverse_transform(np.array(final_pred))\n",
    "            final_pred = self._set_inf_to_maximum(final_pred,self.maximum_value)\n",
    "            \n",
    "        return final_pred\n",
    "        \n",
    "    def save_model(self,path):\n",
    "        save_dict = {\n",
    "            'cat_features' : self.cat_features,\n",
    "            'weights' : self.weights,\n",
    "            'fitting_elapsed' : self.fitting_elapsed,\n",
    "            'regressors' : self.regressors,\n",
    "            'minimum_value' : self.minimum_value,\n",
    "            'maximum_value' : self.maximum_value,\n",
    "            'features' : self.features,\n",
    "            'oh_features' : self.oh_features,\n",
    "            'scores' : self.scores,\n",
    "            'hyperparameters' : self.hyperparameters,\n",
    "            'inverse_transform' : self.inverse_transform,\n",
    "            'ensemble_score' : self.ensemble_score,\n",
    "        }\n",
    "        with open(path, 'wb') as f:\n",
    "            pickle.dump(save_dict, f, protocol=pickle.HIGHEST_PROTOCOL)\n",
    "            \n",
    "    def load_model(self,path):\n",
    "        with open(path, 'rb') as f:\n",
    "            save_dict = pickle.load(f)\n",
    "            self.cat_features = save_dict['cat_features']\n",
    "            self.weights = save_dict['weights']\n",
    "            self.fitting_elapsed = save_dict['fitting_elapsed']\n",
    "            self.regressors = save_dict['regressors']\n",
    "            self.minimum_value = save_dict['minimum_value']\n",
    "            self.maximum_value = save_dict['maximum_value']\n",
    "            self.features = save_dict['features']\n",
    "            self.oh_features = save_dict['oh_features']\n",
    "            self.scores = save_dict['scores']\n",
    "            self.hyperparameters = save_dict['hyperparameters']\n",
    "            self.inverse_transform = save_dict['inverse_transform']\n",
    "            self.ensemble_score = save_dict['ensemble_score']"
   ]
  },
  {
   "cell_type": "code",
   "execution_count": 50,
   "id": "7176bd86-79ae-4d5b-8368-feda76bc152c",
   "metadata": {},
   "outputs": [],
   "source": [
    "from sklearn.model_selection import KFold, StratifiedKFold"
   ]
  },
  {
   "cell_type": "code",
   "execution_count": 51,
   "id": "ecbc22ae-1d9a-4836-9402-cbe47a392b5c",
   "metadata": {},
   "outputs": [],
   "source": [
    "def split_segment(data,segment,seg):\n",
    "    return data[data[segment]==seg]"
   ]
  },
  {
   "cell_type": "code",
   "execution_count": 52,
   "id": "697e09af-27de-4f11-b483-f0fc11aa1512",
   "metadata": {},
   "outputs": [],
   "source": [
    "hyperparameters = {\n",
    "    'n_splits' : 5,\n",
    "    'max_depth' : 9,\n",
    "    'random_state' : 0,\n",
    "    'learning_rate' : 0.01,\n",
    "    'iterations' : 30000,\n",
    "    'early_stopping_rounds' : 300,\n",
    "    'xgb_learning_rate' : 0.3,         # default=0.3\n",
    "    'xgb_iterations' : 3000,           # default=100\n",
    "    'xgb_early_stopping_rounds' : 30,\n",
    "    'extratrees_iterations' : 100,     # default=100\n",
    "}"
   ]
  },
  {
   "cell_type": "code",
   "execution_count": 53,
   "id": "f13ea47d-3130-44f9-b2b1-5613f0e346d9",
   "metadata": {},
   "outputs": [],
   "source": [
    "X = train_fn.drop(target_feature,axis=1)\n",
    "X.drop(columns=unuse_features,inplace=True)\n",
    "\n",
    "X_test = test_fn.copy()\n",
    "X_test.drop(columns=unuse_features,inplace=True)\n",
    "\n",
    "y = train_fn[target_feature]\n",
    "\n",
    "ohe = OneHotEncoder()\n",
    "ohe.fit(X,cat_features)\n",
    "X_oh      = ohe.transform(X)\n",
    "X_test_oh = ohe.transform(X_test)\n",
    "\n",
    "if segment_feature is not None:\n",
    "    segment_list = X[segment_feature].unique()\n",
    "else:\n",
    "    segment_list = ['NoSegment']"
   ]
  },
  {
   "cell_type": "code",
   "execution_count": 54,
   "id": "123374b1-9dc8-4e23-8821-4c5e0676f3e8",
   "metadata": {},
   "outputs": [
    {
     "data": {
      "text/plain": [
       "((5872, 120), (5872, 274))"
      ]
     },
     "execution_count": 54,
     "metadata": {},
     "output_type": "execute_result"
    }
   ],
   "source": [
    "X.shape, X_oh.shape"
   ]
  },
  {
   "cell_type": "code",
   "execution_count": 55,
   "id": "a3d84eea-3c0a-4c2d-9016-dda353554bdf",
   "metadata": {},
   "outputs": [],
   "source": [
    "gc_collect_all()"
   ]
  },
  {
   "cell_type": "code",
   "execution_count": 56,
   "id": "11440614-26f5-4cab-b5b4-78fa5e482f1f",
   "metadata": {},
   "outputs": [
    {
     "name": "stdout",
     "output_type": "stream",
     "text": [
      "directory created: ./mc/kf_weiens_lgball_segment_프로모션여부_log\n"
     ]
    }
   ],
   "source": [
    "if segment_feature is not None:\n",
    "    segment_string = '_'.join(segment_features).replace(' ','')\n",
    "else:\n",
    "    segment_string = 'NoSegment'\n",
    "save_folder = './mc/kf_weiens_lgball_segment_{}_{}'.format(segment_string,CFG.TARGET_TRANSFORMATION)\n",
    "mkdir(save_folder)"
   ]
  },
  {
   "cell_type": "code",
   "execution_count": 57,
   "id": "7bcbb1cc-85f5-49f1-a9b7-84e1c0003aac",
   "metadata": {
    "tags": []
   },
   "outputs": [
    {
     "name": "stderr",
     "output_type": "stream",
     "text": [
      "  0%|          | 0/2 [00:00<?, ?it/s]"
     ]
    },
    {
     "name": "stdout",
     "output_type": "stream",
     "text": [
      "--------------------------------------------------------------------------------\n",
      "> [1/2] Segment: 0, Shape: Raw(5371, 119), OneHot(5371, 273)\n",
      "--------------------------------------------------------------------------------\n",
      "> [K-Fold] 1/5\n",
      "[1/9] LightGBM0  : loss=62.127, val_loss=119.267, elasped=6.4s\n",
      "[2/9] LightGBM1  : loss=68.839, val_loss=120.542, elasped=19.6s\n",
      "[3/9] LightGBM2  : loss=74.234, val_loss=120.472, elasped=19.1s\n",
      "[4/9] LightGBM3  : loss=71.956, val_loss=120.259, elasped=25.4s\n",
      "[5/9] LightGBM4  : loss=76.222, val_loss=122.911, elasped=27.6s\n",
      "[6/9] LightGBM5  : loss=69.185, val_loss=121.980, elasped=23.6s\n",
      "[7/9] LightGBM6  : loss=66.181, val_loss=121.414, elasped=28.3s\n",
      "[8/9] LightGBM7  : loss=65.051, val_loss=121.170, elasped=34.2s\n",
      "[9/9] LightGBM8  : loss=71.193, val_loss=120.721, elasped=30.7s\n",
      "<Weighted Ensemble(weight='balanced')> loss=68.579, val_loss=119.985, elasped=214.9s\n",
      "> [K-Fold] 2/5\n",
      "[1/9] LightGBM0  : loss=59.362, val_loss=109.726, elasped=6.9s\n",
      "[2/9] LightGBM1  : loss=73.034, val_loss=111.905, elasped=18.2s\n",
      "[3/9] LightGBM2  : loss=71.107, val_loss=109.002, elasped=21.4s\n",
      "[4/9] LightGBM3  : loss=73.187, val_loss=109.603, elasped=22.7s\n",
      "[5/9] LightGBM4  : loss=78.013, val_loss=110.778, elasped=22.1s\n",
      "[6/9] LightGBM5  : loss=70.223, val_loss=108.881, elasped=23.0s\n",
      "[7/9] LightGBM6  : loss=76.565, val_loss=110.277, elasped=19.7s\n",
      "[8/9] LightGBM7  : loss=80.208, val_loss=110.536, elasped=20.1s\n",
      "[9/9] LightGBM8  : loss=82.073, val_loss=110.858, elasped=17.5s\n",
      "<Weighted Ensemble(weight='balanced')> loss=72.996, val_loss=109.425, elasped=171.6s\n",
      "> [K-Fold] 3/5\n",
      "[1/9] LightGBM0  : loss=67.623, val_loss=115.692, elasped=6.1s\n",
      "[2/9] LightGBM1  : loss=59.900, val_loss=112.614, elasped=23.8s\n",
      "[3/9] LightGBM2  : loss=55.404, val_loss=113.803, elasped=27.4s\n",
      "[4/9] LightGBM3  : loss=64.112, val_loss=114.125, elasped=24.5s\n",
      "[5/9] LightGBM4  : loss=63.914, val_loss=113.328, elasped=42.5s\n",
      "[6/9] LightGBM5  : loss=55.672, val_loss=112.560, elasped=34.1s\n",
      "[7/9] LightGBM6  : loss=64.587, val_loss=114.562, elasped=28.3s\n",
      "[8/9] LightGBM7  : loss=63.947, val_loss=114.680, elasped=27.9s\n",
      "[9/9] LightGBM8  : loss=63.688, val_loss=116.476, elasped=35.6s\n",
      "<Weighted Ensemble(weight='balanced')> loss=61.259, val_loss=113.405, elasped=250.1s\n",
      "> [K-Fold] 4/5\n",
      "[1/9] LightGBM0  : loss=76.825, val_loss=126.498, elasped=5.3s\n",
      "[2/9] LightGBM1  : loss=57.895, val_loss=123.554, elasped=25.9s\n",
      "[3/9] LightGBM2  : loss=62.203, val_loss=123.346, elasped=30.3s\n",
      "[4/9] LightGBM3  : loss=61.883, val_loss=124.997, elasped=24.6s\n",
      "[5/9] LightGBM4  : loss=71.624, val_loss=124.631, elasped=21.3s\n",
      "[6/9] LightGBM5  : loss=66.943, val_loss=124.738, elasped=22.5s\n",
      "[7/9] LightGBM6  : loss=61.042, val_loss=122.666, elasped=27.3s\n",
      "[8/9] LightGBM7  : loss=70.637, val_loss=124.279, elasped=24.0s\n",
      "[9/9] LightGBM8  : loss=67.443, val_loss=124.979, elasped=28.6s\n",
      "<Weighted Ensemble(weight='balanced')> loss=65.469, val_loss=123.518, elasped=209.7s\n",
      "> [K-Fold] 5/5\n",
      "[1/9] LightGBM0  : loss=61.217, val_loss=113.816, elasped=6.7s\n",
      "[2/9] LightGBM1  : loss=46.795, val_loss=113.167, elasped=33.7s\n",
      "[3/9] LightGBM2  : loss=55.425, val_loss=115.700, elasped=28.7s\n",
      "[4/9] LightGBM3  : loss=50.898, val_loss=113.512, elasped=38.0s\n",
      "[5/9] LightGBM4  : loss=62.331, val_loss=112.963, elasped=38.2s\n",
      "[6/9] LightGBM5  : loss=61.587, val_loss=116.081, elasped=27.1s\n",
      "[7/9] LightGBM6  : loss=67.100, val_loss=117.329, elasped=32.3s\n",
      "[8/9] LightGBM7  : loss=61.851, val_loss=114.976, elasped=29.2s\n",
      "[9/9] LightGBM8  : loss=64.660, val_loss=116.850, elasped=31.3s\n",
      "<Weighted Ensemble(weight='balanced')> loss=58.132, val_loss=113.812, elasped=265.2s\n"
     ]
    },
    {
     "data": {
      "image/png": "[encoded data removed]",
      "text/plain": [
       "<Figure size 1080x504 with 1 Axes>"
      ]
     },
     "metadata": {
      "needs_background": "light"
     },
     "output_type": "display_data"
    },
    {
     "name": "stderr",
     "output_type": "stream",
     "text": [
      " 50%|█████     | 1/2 [18:49<18:49, 1129.05s/it]"
     ]
    },
    {
     "name": "stdout",
     "output_type": "stream",
     "text": [
      "--------------------------------------------------------------------------------\n",
      "> [2/2] Segment: 1, Shape: Raw(501, 119), OneHot(501, 230)\n",
      "--------------------------------------------------------------------------------\n",
      "> [K-Fold] 1/5\n",
      "[1/9] LightGBM0  : loss=187.549, val_loss=192.264, elasped=1.4s\n",
      "[2/9] LightGBM1  : loss=200.517, val_loss=195.721, elasped=3.0s\n",
      "[3/9] LightGBM2  : loss=227.834, val_loss=202.484, elasped=3.2s\n",
      "[4/9] LightGBM3  : loss=193.085, val_loss=196.229, elasped=3.6s\n",
      "[5/9] LightGBM4  : loss=205.712, val_loss=198.304, elasped=3.1s\n",
      "[6/9] LightGBM5  : loss=196.728, val_loss=199.803, elasped=3.2s\n",
      "[7/9] LightGBM6  : loss=205.318, val_loss=199.922, elasped=3.3s\n",
      "[8/9] LightGBM7  : loss=211.300, val_loss=200.475, elasped=3.6s\n",
      "[9/9] LightGBM8  : loss=202.275, val_loss=200.360, elasped=3.1s\n",
      "<Weighted Ensemble(weight='balanced')> loss=202.102, val_loss=196.144, elasped=27.6s\n",
      "> [K-Fold] 2/5\n",
      "[1/9] LightGBM0  : loss=147.451, val_loss=237.926, elasped=1.6s\n",
      "[2/9] LightGBM1  : loss=178.605, val_loss=251.941, elasped=3.5s\n",
      "[3/9] LightGBM2  : loss=172.576, val_loss=249.910, elasped=3.5s\n",
      "[4/9] LightGBM3  : loss=168.358, val_loss=241.428, elasped=8.5s\n",
      "[5/9] LightGBM4  : loss=202.343, val_loss=259.761, elasped=3.2s\n",
      "[6/9] LightGBM5  : loss=177.421, val_loss=252.936, elasped=4.2s\n",
      "[7/9] LightGBM6  : loss=166.886, val_loss=249.124, elasped=4.7s\n",
      "[8/9] LightGBM7  : loss=203.244, val_loss=255.392, elasped=3.6s\n",
      "[9/9] LightGBM8  : loss=202.122, val_loss=255.540, elasped=4.0s\n",
      "<Weighted Ensemble(weight='balanced')> loss=178.376, val_loss=248.782, elasped=36.9s\n",
      "> [K-Fold] 3/5\n",
      "[1/9] LightGBM0  : loss=147.510, val_loss=183.503, elasped=1.9s\n",
      "[2/9] LightGBM1  : loss=137.036, val_loss=188.985, elasped=6.5s\n",
      "[3/9] LightGBM2  : loss=107.626, val_loss=184.374, elasped=6.5s\n",
      "[4/9] LightGBM3  : loss=131.994, val_loss=193.065, elasped=6.2s\n",
      "[5/9] LightGBM4  : loss=205.516, val_loss=194.475, elasped=3.3s\n",
      "[6/9] LightGBM5  : loss=140.624, val_loss=194.987, elasped=6.5s\n",
      "[7/9] LightGBM6  : loss=132.634, val_loss=200.149, elasped=6.9s\n",
      "[8/9] LightGBM7  : loss=205.358, val_loss=188.678, elasped=3.7s\n",
      "[9/9] LightGBM8  : loss=205.893, val_loss=193.816, elasped=4.0s\n",
      "<Weighted Ensemble(weight='balanced')> loss=154.850, val_loss=187.569, elasped=45.5s\n",
      "> [K-Fold] 4/5\n",
      "[1/9] LightGBM0  : loss=106.300, val_loss=425.487, elasped=1.9s\n",
      "[2/9] LightGBM1  : loss=71.879, val_loss=393.739, elasped=7.1s\n",
      "[3/9] LightGBM2  : loss=80.602, val_loss=398.764, elasped=6.1s\n",
      "[4/9] LightGBM3  : loss=116.389, val_loss=428.148, elasped=4.6s\n",
      "[5/9] LightGBM4  : loss=160.659, val_loss=476.727, elasped=3.6s\n",
      "[6/9] LightGBM5  : loss=126.455, val_loss=437.018, elasped=4.2s\n",
      "[7/9] LightGBM6  : loss=122.300, val_loss=430.452, elasped=5.2s\n",
      "[8/9] LightGBM7  : loss=163.314, val_loss=478.463, elasped=3.8s\n",
      "[9/9] LightGBM8  : loss=161.936, val_loss=479.531, elasped=4.3s\n",
      "<Weighted Ensemble(weight='balanced')> loss=118.105, val_loss=435.455, elasped=40.8s\n",
      "> [K-Fold] 5/5\n",
      "[1/9] LightGBM0  : loss=237.534, val_loss=179.929, elasped=1.5s\n",
      "[2/9] LightGBM1  : loss=236.815, val_loss=174.308, elasped=2.7s\n",
      "[3/9] LightGBM2  : loss=246.251, val_loss=175.500, elasped=2.9s\n",
      "[4/9] LightGBM3  : loss=238.507, val_loss=181.293, elasped=2.6s\n",
      "[5/9] LightGBM4  : loss=272.154, val_loss=187.474, elasped=2.5s\n",
      "[6/9] LightGBM5  : loss=243.241, val_loss=181.887, elasped=2.6s\n",
      "[7/9] LightGBM6  : loss=246.241, val_loss=180.404, elasped=2.7s\n",
      "[8/9] LightGBM7  : loss=277.427, val_loss=188.901, elasped=2.5s\n",
      "[9/9] LightGBM8  : loss=276.324, val_loss=183.115, elasped=2.8s\n",
      "<Weighted Ensemble(weight='balanced')> loss=251.666, val_loss=179.596, elasped=22.8s\n"
     ]
    },
    {
     "data": {
      "image/png": "[encoded data removed]",
      "text/plain": [
       "<Figure size 1080x504 with 1 Axes>"
      ]
     },
     "metadata": {
      "needs_background": "light"
     },
     "output_type": "display_data"
    },
    {
     "name": "stderr",
     "output_type": "stream",
     "text": [
      "100%|██████████| 2/2 [21:45<00:00, 652.66s/it] "
     ]
    },
    {
     "name": "stdout",
     "output_type": "stream",
     "text": [
      "CPU times: user 1h 12min 47s, sys: 14min 48s, total: 1h 27min 35s\n",
      "Wall time: 21min 45s\n"
     ]
    },
    {
     "name": "stderr",
     "output_type": "stream",
     "text": [
      "\n"
     ]
    }
   ],
   "source": [
    "%%time\n",
    "# 21m\n",
    "\n",
    "ens_save_path = save_folder+'/segment{}_k{}.pickle'\n",
    "\n",
    "models = {}\n",
    "feature_info = {}\n",
    "scores = []\n",
    "\n",
    "s_i = 0\n",
    "for segment in tqdm(segment_list):\n",
    "    s_i+=1\n",
    "    gc_collect_all(verbose=False)\n",
    "    \n",
    "    # segment에 해당하는 데이터추출\n",
    "    if segment!='NoSegment':\n",
    "        _X         = split_segment(X        ,segment_feature,segment)\n",
    "        _X_oh      = split_segment(X_oh     ,segment_feature,segment)\n",
    "        _X_test    = split_segment(X_test   ,segment_feature,segment)\n",
    "        _X_test_oh = split_segment(X_test_oh,segment_feature,segment)\n",
    "        _y         = y[X[segment_feature]==segment]\n",
    "    else:\n",
    "        _X = X.copy()\n",
    "        _X_oh = X_oh.copy()\n",
    "        _X_test = X_test.copy()\n",
    "        _X_test_oh = X_test_oh.copy()\n",
    "        _y = y.copy()\n",
    "    \n",
    "    # kfold\n",
    "    kf = KFold(n_splits=CFG.N_SPLITS,random_state=1000*s_i+CFG.SEED,shuffle=True)\n",
    "    \n",
    "    # unique인 컬럼 제외\n",
    "    # (1) X\n",
    "    unique_info = _X.nunique()\n",
    "    unique_cols = unique_info[unique_info==1].index.tolist()\n",
    "    if len(unique_cols)>0:\n",
    "        _X = _X.drop(unique_cols,axis=1)\n",
    "    # (2) X_oh\n",
    "    unique_info = _X_oh.nunique()\n",
    "    unique_cols = unique_info[unique_info==1].index.tolist()\n",
    "    if len(unique_cols)>0:\n",
    "        _X_oh = _X_oh.drop(unique_cols,axis=1)\n",
    "        \n",
    "    # categorical feature에서 unique인 컬럼을 제외\n",
    "    fixed_cat_features = [col for col in cat_features if col in _X.columns]\n",
    "    \n",
    "    # progress\n",
    "    progress = '> [{}/{}] Segment: {}, Shape: Raw{}, OneHot{}'.format(s_i,len(segment_list),segment,_X.shape,_X_oh.shape)\n",
    "    print('-'*80)\n",
    "    print(progress)\n",
    "    print('-'*80)\n",
    "    \n",
    "    _models = []\n",
    "    _scores = []\n",
    "    k=0\n",
    "    for tr_idx,val_idx in kf.split(_X):\n",
    "        k+=1\n",
    "        print('> [K-Fold] {}/{}'.format(k,CFG.N_SPLITS))\n",
    "        \n",
    "        # kfold dataset\n",
    "        X_tr   , X_va    = _X   .iloc[tr_idx], _X   .iloc[val_idx]\n",
    "        X_tr_oh, X_va_oh = _X_oh.iloc[tr_idx], _X_oh.iloc[val_idx]\n",
    "        y_tr   , y_va    = _y   .iloc[tr_idx], _y   .iloc[val_idx]\n",
    "\n",
    "        # define the model\n",
    "        ensemble_model = WeightedEnsembleRegressor(\n",
    "            hyperparameters=hyperparameters,\n",
    "            weight='balanced',\n",
    "            inverse_transform=target_transform.inverse_transform,\n",
    "        )\n",
    "\n",
    "        # fit the model\n",
    "        ensemble_model.fit(\n",
    "            X_tr,y_tr,\n",
    "            eval_set=[(X_va,y_va)],\n",
    "            oh_set=[(X_tr_oh,X_va_oh)],\n",
    "            cat_features=fixed_cat_features,\n",
    "            verbose=0,\n",
    "        )\n",
    "\n",
    "        # save the model\n",
    "        ensemble_model.save_model(ens_save_path.format(segment,k))\n",
    "\n",
    "        # prediction\n",
    "        y_pred = ensemble_model.predict(X_va,X_va_oh).flatten()\n",
    "        y_true = target_transform.inverse_transform(y_va.values)\n",
    "        \n",
    "        # caculate score\n",
    "        score = mean_squared_error(y_true=y_true,y_pred=y_pred)**0.5\n",
    "        \n",
    "        # append inner loop\n",
    "        _models.append(ensemble_model)\n",
    "        _scores.append([segment,k,len(X_tr),len(X_va),score])\n",
    "    \n",
    "    # append outer loop\n",
    "    models[segment] = _models\n",
    "    scores.append(_scores)\n",
    "    feature_info[segment] = {\n",
    "        'cat_features':fixed_cat_features,\n",
    "        'features':_X.columns.tolist(),\n",
    "        'oh_features':_X_oh.columns.tolist(),\n",
    "    }\n",
    "    \n",
    "    # plotting after kfold\n",
    "    y_pred = np.mean([m.predict(_X,_X_oh) for m in _models],axis=0)\n",
    "    y_true = _y.values\n",
    "    y_true = target_transform.inverse_transform(y_true).flatten()\n",
    "\n",
    "    score = mean_squared_error(y_true=y_true,y_pred=y_pred)**0.5\n",
    "\n",
    "    plt.figure(figsize=(15,7))\n",
    "    sns.scatterplot(x=y_true,y=y_pred)\n",
    "    abline(0,1)\n",
    "    plt.grid()\n",
    "    plt.title('Segment={}(Raw{}, OneHot{}), Score={:.4f}'.format(segment,_X.shape,_X_oh.shape,score))\n",
    "    plt.tight_layout()\n",
    "    plt.show()"
   ]
  },
  {
   "cell_type": "code",
   "execution_count": 58,
   "id": "2763de7b-74dd-4318-b107-72f57b4e4632",
   "metadata": {},
   "outputs": [],
   "source": [
    "# for k,v in models.items():\n",
    "#     for m in models[k]:\n",
    "#         for r in m.regressors:\n",
    "#             print(r._best_iteration)\n",
    "#             adsfdas\n",
    "\n",
    "# pd.DataFrame({\n",
    "#     'feature':X_tr.columns,\n",
    "#     'imp':r.feature_importances_\n",
    "# }).sort_values('imp',ascending=False)"
   ]
  },
  {
   "cell_type": "code",
   "execution_count": 60,
   "id": "8c1690af-a0cc-4f8a-9da8-b7704e03ae18",
   "metadata": {},
   "outputs": [],
   "source": [
    "# np.array([r.get_best_iteration() for m in _models for r in m.regressors])\n",
    "# np.array([r.best_iteration_ for m in _models for r in m.regressors])"
   ]
  },
  {
   "cell_type": "code",
   "execution_count": 68,
   "id": "d4bde2fa-a745-4885-8bfc-d599b5222622",
   "metadata": {},
   "outputs": [],
   "source": [
    "# m = models['1'][2]\n",
    "\n",
    "# imp_df = pd.DataFrame({\n",
    "#     'feature':m.features,\n",
    "#     'imp':m.regressors[0].feature_importances_,\n",
    "# }).sort_values('imp',ascending=False)\n",
    "# imp_df = imp_df[:20]\n",
    "\n",
    "# plt.figure(figsize=(15,7))\n",
    "# sns.barplot(x=imp_df.imp,y=imp_df.feature)\n",
    "# plt.grid()\n",
    "# plt.show()"
   ]
  },
  {
   "cell_type": "code",
   "execution_count": 69,
   "id": "46636812-46c3-46ae-a787-62529e2e06da",
   "metadata": {},
   "outputs": [
    {
     "data": {
      "text/html": [
       "<div>\n",
       "<style scoped>\n",
       "    .dataframe tbody tr th:only-of-type {\n",
       "        vertical-align: middle;\n",
       "    }\n",
       "\n",
       "    .dataframe tbody tr th {\n",
       "        vertical-align: top;\n",
       "    }\n",
       "\n",
       "    .dataframe thead th {\n",
       "        text-align: right;\n",
       "    }\n",
       "</style>\n",
       "<table border=\"1\" class=\"dataframe\">\n",
       "  <thead>\n",
       "    <tr style=\"text-align: right;\">\n",
       "      <th></th>\n",
       "      <th>segment</th>\n",
       "      <th>k</th>\n",
       "      <th>n_train</th>\n",
       "      <th>n_val</th>\n",
       "      <th>rmse</th>\n",
       "    </tr>\n",
       "  </thead>\n",
       "  <tbody>\n",
       "    <tr>\n",
       "      <th>1</th>\n",
       "      <td>0</td>\n",
       "      <td>2</td>\n",
       "      <td>4297</td>\n",
       "      <td>1074</td>\n",
       "      <td>109.424839</td>\n",
       "    </tr>\n",
       "    <tr>\n",
       "      <th>2</th>\n",
       "      <td>0</td>\n",
       "      <td>3</td>\n",
       "      <td>4297</td>\n",
       "      <td>1074</td>\n",
       "      <td>113.404731</td>\n",
       "    </tr>\n",
       "    <tr>\n",
       "      <th>4</th>\n",
       "      <td>0</td>\n",
       "      <td>5</td>\n",
       "      <td>4297</td>\n",
       "      <td>1074</td>\n",
       "      <td>113.811673</td>\n",
       "    </tr>\n",
       "    <tr>\n",
       "      <th>0</th>\n",
       "      <td>0</td>\n",
       "      <td>1</td>\n",
       "      <td>4296</td>\n",
       "      <td>1075</td>\n",
       "      <td>119.984570</td>\n",
       "    </tr>\n",
       "    <tr>\n",
       "      <th>3</th>\n",
       "      <td>0</td>\n",
       "      <td>4</td>\n",
       "      <td>4297</td>\n",
       "      <td>1074</td>\n",
       "      <td>123.517889</td>\n",
       "    </tr>\n",
       "  </tbody>\n",
       "</table>\n",
       "</div>"
      ],
      "text/plain": [
       "  segment  k  n_train  n_val        rmse\n",
       "1       0  2     4297   1074  109.424839\n",
       "2       0  3     4297   1074  113.404731\n",
       "4       0  5     4297   1074  113.811673\n",
       "0       0  1     4296   1075  119.984570\n",
       "3       0  4     4297   1074  123.517889"
      ]
     },
     "metadata": {},
     "output_type": "display_data"
    },
    {
     "data": {
      "text/html": [
       "<div>\n",
       "<style scoped>\n",
       "    .dataframe tbody tr th:only-of-type {\n",
       "        vertical-align: middle;\n",
       "    }\n",
       "\n",
       "    .dataframe tbody tr th {\n",
       "        vertical-align: top;\n",
       "    }\n",
       "\n",
       "    .dataframe thead th {\n",
       "        text-align: right;\n",
       "    }\n",
       "</style>\n",
       "<table border=\"1\" class=\"dataframe\">\n",
       "  <thead>\n",
       "    <tr style=\"text-align: right;\">\n",
       "      <th></th>\n",
       "      <th>segment</th>\n",
       "      <th>k</th>\n",
       "      <th>n_train</th>\n",
       "      <th>n_val</th>\n",
       "      <th>rmse</th>\n",
       "    </tr>\n",
       "  </thead>\n",
       "  <tbody>\n",
       "    <tr>\n",
       "      <th>4</th>\n",
       "      <td>1</td>\n",
       "      <td>5</td>\n",
       "      <td>401</td>\n",
       "      <td>100</td>\n",
       "      <td>179.595950</td>\n",
       "    </tr>\n",
       "    <tr>\n",
       "      <th>2</th>\n",
       "      <td>1</td>\n",
       "      <td>3</td>\n",
       "      <td>401</td>\n",
       "      <td>100</td>\n",
       "      <td>187.569352</td>\n",
       "    </tr>\n",
       "    <tr>\n",
       "      <th>0</th>\n",
       "      <td>1</td>\n",
       "      <td>1</td>\n",
       "      <td>400</td>\n",
       "      <td>101</td>\n",
       "      <td>196.143696</td>\n",
       "    </tr>\n",
       "    <tr>\n",
       "      <th>1</th>\n",
       "      <td>1</td>\n",
       "      <td>2</td>\n",
       "      <td>401</td>\n",
       "      <td>100</td>\n",
       "      <td>248.782223</td>\n",
       "    </tr>\n",
       "    <tr>\n",
       "      <th>3</th>\n",
       "      <td>1</td>\n",
       "      <td>4</td>\n",
       "      <td>401</td>\n",
       "      <td>100</td>\n",
       "      <td>435.455162</td>\n",
       "    </tr>\n",
       "  </tbody>\n",
       "</table>\n",
       "</div>"
      ],
      "text/plain": [
       "  segment  k  n_train  n_val        rmse\n",
       "4       1  5      401    100  179.595950\n",
       "2       1  3      401    100  187.569352\n",
       "0       1  1      400    101  196.143696\n",
       "1       1  2      401    100  248.782223\n",
       "3       1  4      401    100  435.455162"
      ]
     },
     "metadata": {},
     "output_type": "display_data"
    }
   ],
   "source": [
    "score_df = pd.concat([pd.DataFrame(s,columns=['segment','k','n_train','n_val','rmse']) for s in scores],axis=0)\n",
    "display(score_df.sort_values('rmse').head())\n",
    "display(score_df.sort_values('rmse').tail())"
   ]
  },
  {
   "cell_type": "code",
   "execution_count": 70,
   "id": "45aa49ef-3b2f-4da0-aa7f-23b63ce6930c",
   "metadata": {},
   "outputs": [],
   "source": [
    "def load_model(hyperparameters,path):\n",
    "    ensemble_model = WeightedEnsembleRegressor(\n",
    "        hyperparameters=hyperparameters,\n",
    "        weight='balanced',\n",
    "        inverse_transform=target_transform.inverse_transform,\n",
    "    )\n",
    "    ensemble_model.load_model(path)\n",
    "    return ensemble_model"
   ]
  },
  {
   "cell_type": "code",
   "execution_count": 71,
   "id": "7504b06b-78ce-4568-878b-4895bc0582de",
   "metadata": {},
   "outputs": [],
   "source": [
    "X      = train_fn.drop(target_feature,axis=1)\n",
    "X_test = test_fn.copy()\n",
    "y      = train_fn[target_feature]\n",
    "\n",
    "ohe = OneHotEncoder()\n",
    "ohe.fit(X,cat_features)\n",
    "X_oh      = ohe.transform(X)\n",
    "X_test_oh = ohe.transform(X_test)\n",
    "\n",
    "if segment_feature is not None:\n",
    "    segment_list = X[segment_feature].unique()\n",
    "else:\n",
    "    segment_list = ['NoSegment']"
   ]
  },
  {
   "cell_type": "code",
   "execution_count": 72,
   "id": "19fd5156-a5b6-410b-9fae-21df22f3d611",
   "metadata": {},
   "outputs": [
    {
     "name": "stderr",
     "output_type": "stream",
     "text": [
      "100%|██████████| 2/2 [00:11<00:00,  5.81s/it]\n"
     ]
    }
   ],
   "source": [
    "tr_pred_list = []\n",
    "te_pred_list = []\n",
    "for segment in tqdm(segment_list):\n",
    "    gc_collect_all(verbose=False)\n",
    "    \n",
    "    # segment에 해당하는 데이터추출\n",
    "    if segment!='NoSegment':\n",
    "        _X         = split_segment(X        ,segment_feature,segment)\n",
    "        _X_oh      = split_segment(X_oh     ,segment_feature,segment)\n",
    "        _X_test    = split_segment(X_test   ,segment_feature,segment)\n",
    "        _X_test_oh = split_segment(X_test_oh,segment_feature,segment)\n",
    "        _y         = y[X[segment_feature]==segment]\n",
    "    else:\n",
    "        _X = X.copy()\n",
    "        _X_oh = X_oh.copy()\n",
    "        _X_test = X_test.copy()\n",
    "        _X_test_oh = X_test_oh.copy()\n",
    "        _y = y.copy()\n",
    "    \n",
    "    path = ens_save_path.format(segment,k)\n",
    "    model_list = [load_model(hyperparameters,ens_save_path.format(segment,k)) for k in range(1,6)]\n",
    "    features = model_list[0].features\n",
    "    oh_features = model_list[0].oh_features\n",
    "    _X = _X[features]\n",
    "    _X_oh = _X_oh[oh_features]\n",
    "    _X_test = _X_test[features]\n",
    "    _X_test_oh = _X_test_oh[oh_features]\n",
    "\n",
    "    tr_pred = np.mean([model.predict(_X,_X_oh) for model in model_list],axis=0)\n",
    "    tr_pred = pd.DataFrame(tr_pred,index=_X.index)\n",
    "    tr_pred_list.append(tr_pred)\n",
    "    \n",
    "    te_pred = np.mean([model.predict(_X_test[_X.columns],_X_test_oh[_X_oh.columns]) for model in model_list],axis=0)\n",
    "    te_pred = pd.DataFrame(te_pred,index=_X_test.index)\n",
    "    te_pred_list.append(te_pred)"
   ]
  },
  {
   "cell_type": "code",
   "execution_count": 73,
   "id": "273036b7-2838-4ad2-8631-83f6c9c4067e",
   "metadata": {},
   "outputs": [],
   "source": [
    "tr_pred_df = pd.concat(tr_pred_list,axis=0).sort_index()\n",
    "te_pred_df = pd.concat(te_pred_list,axis=0).sort_index()"
   ]
  },
  {
   "cell_type": "code",
   "execution_count": 74,
   "id": "1c6e4d99-71bf-43e2-bce5-484a88add268",
   "metadata": {},
   "outputs": [
    {
     "data": {
      "text/plain": [
       "90.30964168799592"
      ]
     },
     "execution_count": 74,
     "metadata": {},
     "output_type": "execute_result"
    }
   ],
   "source": [
    "mean_squared_error(y_pred=tr_pred_df.values.flatten(),y_true=target_transform.inverse_transform(y))**0.5"
   ]
  },
  {
   "cell_type": "code",
   "execution_count": 75,
   "id": "06a64b20-5c1f-4bd9-ad6e-26ec25131ff5",
   "metadata": {},
   "outputs": [],
   "source": [
    "submit = pd.read_csv('./data/sample_submission.csv')\n",
    "submit[CFG.TARGET] = te_pred_df.values"
   ]
  },
  {
   "cell_type": "code",
   "execution_count": 76,
   "id": "a113faff-0815-4604-b621-af530c8236e3",
   "metadata": {},
   "outputs": [
    {
     "data": {
      "text/html": [
       "<div>\n",
       "<style scoped>\n",
       "    .dataframe tbody tr th:only-of-type {\n",
       "        vertical-align: middle;\n",
       "    }\n",
       "\n",
       "    .dataframe tbody tr th {\n",
       "        vertical-align: top;\n",
       "    }\n",
       "\n",
       "    .dataframe thead th {\n",
       "        text-align: right;\n",
       "    }\n",
       "</style>\n",
       "<table border=\"1\" class=\"dataframe\">\n",
       "  <thead>\n",
       "    <tr style=\"text-align: right;\">\n",
       "      <th></th>\n",
       "      <th>ID</th>\n",
       "      <th>수요량</th>\n",
       "    </tr>\n",
       "  </thead>\n",
       "  <tbody>\n",
       "    <tr>\n",
       "      <th>0</th>\n",
       "      <td>TEST_0000</td>\n",
       "      <td>225.554200</td>\n",
       "    </tr>\n",
       "    <tr>\n",
       "      <th>1</th>\n",
       "      <td>TEST_0001</td>\n",
       "      <td>36.265571</td>\n",
       "    </tr>\n",
       "    <tr>\n",
       "      <th>2</th>\n",
       "      <td>TEST_0002</td>\n",
       "      <td>283.343131</td>\n",
       "    </tr>\n",
       "    <tr>\n",
       "      <th>3</th>\n",
       "      <td>TEST_0003</td>\n",
       "      <td>146.157048</td>\n",
       "    </tr>\n",
       "    <tr>\n",
       "      <th>4</th>\n",
       "      <td>TEST_0004</td>\n",
       "      <td>216.181122</td>\n",
       "    </tr>\n",
       "  </tbody>\n",
       "</table>\n",
       "</div>"
      ],
      "text/plain": [
       "          ID         수요량\n",
       "0  TEST_0000  225.554200\n",
       "1  TEST_0001   36.265571\n",
       "2  TEST_0002  283.343131\n",
       "3  TEST_0003  146.157048\n",
       "4  TEST_0004  216.181122"
      ]
     },
     "execution_count": 76,
     "metadata": {},
     "output_type": "execute_result"
    }
   ],
   "source": [
    "submit.head()"
   ]
  },
  {
   "cell_type": "code",
   "execution_count": 77,
   "id": "3a031c70-847f-4664-af44-f8d982b6d859",
   "metadata": {},
   "outputs": [
    {
     "data": {
      "text/plain": [
       "'kf_weiens_lgball_segment_프로모션여부_log'"
      ]
     },
     "execution_count": 77,
     "metadata": {},
     "output_type": "execute_result"
    }
   ],
   "source": [
    "save_folder.split('/')[-1]"
   ]
  },
  {
   "cell_type": "code",
   "execution_count": 78,
   "id": "64b11d96-bd51-442b-bef4-2bfd01e59115",
   "metadata": {},
   "outputs": [],
   "source": [
    "# public : 126.0078881093 (log)\n",
    "path = './out/15_kf_weiens_lgball_log_segment_{}.csv'.format('_'.join(segment_features).replace(' ',''))\n",
    "submit.to_csv(path,index=False)"
   ]
  },
  {
   "cell_type": "markdown",
   "id": "afc921d7-2e22-47d6-8d52-c0a25b3a719a",
   "metadata": {},
   "source": [
    "<br>"
   ]
  },
  {
   "cell_type": "markdown",
   "id": "ec7c8ddb-4421-4ace-b6e3-4c1f3942a8c1",
   "metadata": {},
   "source": [
    "## Stacking"
   ]
  },
  {
   "cell_type": "code",
   "execution_count": 79,
   "id": "1db3dd05-3178-49c6-a0bb-f75cd02e5922",
   "metadata": {},
   "outputs": [],
   "source": [
    "X      = train_fn.drop(target_feature,axis=1)\n",
    "X_test = test_fn.copy()\n",
    "y      = train_fn[target_feature]\n",
    "\n",
    "ohe = OneHotEncoder()\n",
    "ohe.fit(X,cat_features)\n",
    "X_oh      = ohe.transform(X)\n",
    "X_test_oh = ohe.transform(X_test)\n",
    "\n",
    "if segment_feature is not None:\n",
    "    segment_list = X[segment_feature].unique()\n",
    "else:\n",
    "    segment_list = ['NoSegment']"
   ]
  },
  {
   "cell_type": "code",
   "execution_count": 80,
   "id": "3c40e67f-0262-41a5-a23c-bb1138c853de",
   "metadata": {},
   "outputs": [],
   "source": [
    "stacking_direction = 'mean' # 'all', 'mean'"
   ]
  },
  {
   "cell_type": "code",
   "execution_count": 81,
   "id": "5f5aa814-fc93-4ce3-8a5d-d0a9f8f10461",
   "metadata": {},
   "outputs": [
    {
     "name": "stderr",
     "output_type": "stream",
     "text": [
      "  0%|          | 0/2 [00:00<?, ?it/s]"
     ]
    },
    {
     "name": "stdout",
     "output_type": "stream",
     "text": [
      "--------------------------------------------------------------------------------\n",
      "> [1/2] Segment: 0, Shape: Raw(5371, 119), OneHot(5371, 273)\n",
      "--------------------------------------------------------------------------------\n",
      "> [K-Fold] 1/5\n",
      "[1/9] LightGBM0  : loss=63.796, val_loss=69.504, elasped=4.9s\n",
      "[2/9] LightGBM1  : loss=65.161, val_loss=70.695, elasped=11.0s\n",
      "[3/9] LightGBM2  : loss=64.548, val_loss=70.421, elasped=11.0s\n",
      "[4/9] LightGBM3  : loss=66.390, val_loss=71.897, elasped=12.9s\n",
      "[5/9] LightGBM4  : loss=69.654, val_loss=76.894, elasped=12.0s\n",
      "[6/9] LightGBM5  : loss=65.365, val_loss=71.925, elasped=13.3s\n",
      "[7/9] LightGBM6  : loss=64.637, val_loss=71.708, elasped=11.9s\n",
      "[8/9] LightGBM7  : loss=69.716, val_loss=77.026, elasped=15.0s\n",
      "[9/9] LightGBM8  : loss=68.181, val_loss=76.269, elasped=12.7s\n",
      "<Weighted Ensemble(weight='balanced')> loss=66.077, val_loss=72.603, elasped=104.9s\n",
      "> [K-Fold] 2/5\n",
      "[1/9] LightGBM0  : loss=68.963, val_loss=71.834, elasped=4.0s\n",
      "[2/9] LightGBM1  : loss=66.213, val_loss=71.309, elasped=9.0s\n",
      "[3/9] LightGBM2  : loss=67.899, val_loss=71.373, elasped=8.9s\n",
      "[4/9] LightGBM3  : loss=66.647, val_loss=71.413, elasped=9.4s\n",
      "[5/9] LightGBM4  : loss=69.577, val_loss=73.364, elasped=10.5s\n",
      "[6/9] LightGBM5  : loss=67.738, val_loss=71.581, elasped=11.3s\n",
      "[7/9] LightGBM6  : loss=66.418, val_loss=71.206, elasped=10.4s\n",
      "[8/9] LightGBM7  : loss=69.752, val_loss=73.199, elasped=13.3s\n",
      "[9/9] LightGBM8  : loss=68.012, val_loss=72.856, elasped=14.9s\n",
      "<Weighted Ensemble(weight='balanced')> loss=67.703, val_loss=71.752, elasped=91.7s\n",
      "> [K-Fold] 3/5\n",
      "[1/9] LightGBM0  : loss=59.077, val_loss=84.530, elasped=3.9s\n",
      "[2/9] LightGBM1  : loss=62.026, val_loss=84.538, elasped=9.5s\n",
      "[3/9] LightGBM2  : loss=61.457, val_loss=84.157, elasped=11.4s\n",
      "[4/9] LightGBM3  : loss=61.020, val_loss=84.916, elasped=10.9s\n",
      "[5/9] LightGBM4  : loss=65.150, val_loss=86.503, elasped=11.9s\n",
      "[6/9] LightGBM5  : loss=60.731, val_loss=84.822, elasped=10.9s\n",
      "[7/9] LightGBM6  : loss=62.502, val_loss=85.422, elasped=10.2s\n",
      "[8/9] LightGBM7  : loss=62.406, val_loss=86.143, elasped=14.1s\n",
      "[9/9] LightGBM8  : loss=65.429, val_loss=86.718, elasped=14.7s\n",
      "<Weighted Ensemble(weight='balanced')> loss=61.941, val_loss=85.144, elasped=97.4s\n",
      "> [K-Fold] 4/5\n",
      "[1/9] LightGBM0  : loss=66.095, val_loss=74.973, elasped=3.6s\n",
      "[2/9] LightGBM1  : loss=67.990, val_loss=76.051, elasped=8.6s\n",
      "[3/9] LightGBM2  : loss=68.063, val_loss=76.159, elasped=8.6s\n",
      "[4/9] LightGBM3  : loss=69.365, val_loss=76.575, elasped=8.8s\n",
      "[5/9] LightGBM4  : loss=70.654, val_loss=79.439, elasped=10.0s\n",
      "[6/9] LightGBM5  : loss=69.054, val_loss=76.558, elasped=8.5s\n",
      "[7/9] LightGBM6  : loss=68.988, val_loss=76.549, elasped=8.9s\n",
      "[8/9] LightGBM7  : loss=70.827, val_loss=79.309, elasped=9.6s\n",
      "[9/9] LightGBM8  : loss=71.331, val_loss=79.380, elasped=14.8s\n",
      "<Weighted Ensemble(weight='balanced')> loss=68.920, val_loss=76.898, elasped=81.4s\n",
      "> [K-Fold] 5/5\n",
      "[1/9] LightGBM0  : loss=70.609, val_loss=79.559, elasped=5.7s\n",
      "[2/9] LightGBM1  : loss=69.340, val_loss=78.335, elasped=17.4s\n",
      "[3/9] LightGBM2  : loss=67.284, val_loss=77.420, elasped=20.2s\n",
      "[4/9] LightGBM3  : loss=71.312, val_loss=79.937, elasped=16.4s\n",
      "[5/9] LightGBM4  : loss=70.995, val_loss=82.087, elasped=16.5s\n",
      "[6/9] LightGBM5  : loss=67.751, val_loss=78.298, elasped=11.3s\n",
      "[7/9] LightGBM6  : loss=67.958, val_loss=78.399, elasped=15.2s\n",
      "[8/9] LightGBM7  : loss=70.549, val_loss=81.761, elasped=15.6s\n",
      "[9/9] LightGBM8  : loss=70.988, val_loss=82.000, elasped=11.4s\n",
      "<Weighted Ensemble(weight='balanced')> loss=69.436, val_loss=79.502, elasped=129.9s\n"
     ]
    },
    {
     "data": {
      "image/png": "[encoded data removed]",
      "text/plain": [
       "<Figure size 1080x504 with 1 Axes>"
      ]
     },
     "metadata": {
      "needs_background": "light"
     },
     "output_type": "display_data"
    },
    {
     "name": "stderr",
     "output_type": "stream",
     "text": [
      " 50%|█████     | 1/2 [08:43<08:43, 523.09s/it]"
     ]
    },
    {
     "name": "stdout",
     "output_type": "stream",
     "text": [
      "--------------------------------------------------------------------------------\n",
      "> [2/2] Segment: 1, Shape: Raw(501, 119), OneHot(501, 230)\n",
      "--------------------------------------------------------------------------------\n",
      "> [K-Fold] 1/5\n",
      "[1/9] LightGBM0  : loss=240.101, val_loss=163.704, elasped=1.7s\n",
      "[2/9] LightGBM1  : loss=231.840, val_loss=159.776, elasped=2.5s\n",
      "[3/9] LightGBM2  : loss=236.323, val_loss=160.091, elasped=2.5s\n",
      "[4/9] LightGBM3  : loss=246.121, val_loss=161.748, elasped=3.0s\n",
      "[5/9] LightGBM4  : loss=278.458, val_loss=171.099, elasped=2.3s\n",
      "[6/9] LightGBM5  : loss=250.171, val_loss=163.083, elasped=2.8s\n",
      "[7/9] LightGBM6  : loss=254.016, val_loss=164.333, elasped=2.5s\n",
      "[8/9] LightGBM7  : loss=276.069, val_loss=169.888, elasped=2.1s\n",
      "[9/9] LightGBM8  : loss=277.635, val_loss=169.791, elasped=2.1s\n",
      "<Weighted Ensemble(weight='balanced')> loss=253.895, val_loss=163.646, elasped=21.5s\n",
      "> [K-Fold] 2/5\n",
      "[1/9] LightGBM0  : loss=203.895, val_loss=207.674, elasped=2.1s\n",
      "[2/9] LightGBM1  : loss=194.828, val_loss=201.973, elasped=4.5s\n",
      "[3/9] LightGBM2  : loss=201.329, val_loss=199.242, elasped=3.6s\n",
      "[4/9] LightGBM3  : loss=193.501, val_loss=205.973, elasped=3.8s\n",
      "[5/9] LightGBM4  : loss=225.696, val_loss=221.224, elasped=2.9s\n",
      "[6/9] LightGBM5  : loss=203.763, val_loss=212.127, elasped=3.5s\n",
      "[7/9] LightGBM6  : loss=203.506, val_loss=211.008, elasped=3.5s\n",
      "[8/9] LightGBM7  : loss=225.370, val_loss=223.031, elasped=2.6s\n",
      "[9/9] LightGBM8  : loss=222.356, val_loss=220.704, elasped=3.7s\n",
      "<Weighted Ensemble(weight='balanced')> loss=207.294, val_loss=210.029, elasped=30.3s\n",
      "> [K-Fold] 3/5\n",
      "[1/9] LightGBM0  : loss=226.419, val_loss=130.900, elasped=2.1s\n",
      "[2/9] LightGBM1  : loss=228.982, val_loss=131.591, elasped=3.2s\n",
      "[3/9] LightGBM2  : loss=242.816, val_loss=127.122, elasped=2.7s\n",
      "[4/9] LightGBM3  : loss=242.763, val_loss=126.601, elasped=2.5s\n",
      "[5/9] LightGBM4  : loss=267.462, val_loss=133.972, elasped=1.9s\n",
      "[6/9] LightGBM5  : loss=236.268, val_loss=126.396, elasped=2.7s\n",
      "[7/9] LightGBM6  : loss=244.022, val_loss=127.256, elasped=2.4s\n",
      "[8/9] LightGBM7  : loss=267.428, val_loss=135.805, elasped=2.0s\n",
      "[9/9] LightGBM8  : loss=270.751, val_loss=137.461, elasped=1.9s\n",
      "<Weighted Ensemble(weight='balanced')> loss=246.591, val_loss=129.033, elasped=21.5s\n",
      "> [K-Fold] 4/5\n",
      "[1/9] LightGBM0  : loss=52.347, val_loss=385.316, elasped=2.7s\n",
      "[2/9] LightGBM1  : loss=126.220, val_loss=440.541, elasped=4.7s\n",
      "[3/9] LightGBM2  : loss=126.001, val_loss=446.969, elasped=4.0s\n",
      "[4/9] LightGBM3  : loss=136.224, val_loss=447.304, elasped=3.7s\n",
      "[5/9] LightGBM4  : loss=154.225, val_loss=472.089, elasped=4.9s\n",
      "[6/9] LightGBM5  : loss=137.503, val_loss=451.851, elasped=3.3s\n",
      "[7/9] LightGBM6  : loss=139.613, val_loss=454.731, elasped=3.4s\n",
      "[8/9] LightGBM7  : loss=154.358, val_loss=472.498, elasped=5.4s\n",
      "[9/9] LightGBM8  : loss=154.755, val_loss=473.420, elasped=5.6s\n",
      "<Weighted Ensemble(weight='balanced')> loss=128.634, val_loss=447.794, elasped=37.8s\n",
      "> [K-Fold] 5/5\n",
      "[1/9] LightGBM0  : loss=194.407, val_loss=133.527, elasped=1.8s\n",
      "[2/9] LightGBM1  : loss=193.210, val_loss=131.228, elasped=3.6s\n",
      "[3/9] LightGBM2  : loss=194.619, val_loss=131.147, elasped=4.0s\n",
      "[4/9] LightGBM3  : loss=217.412, val_loss=123.606, elasped=2.8s\n",
      "[5/9] LightGBM4  : loss=255.232, val_loss=113.035, elasped=2.2s\n",
      "[6/9] LightGBM5  : loss=216.181, val_loss=123.876, elasped=2.9s\n",
      "[7/9] LightGBM6  : loss=225.850, val_loss=121.985, elasped=2.8s\n",
      "[8/9] LightGBM7  : loss=246.128, val_loss=113.837, elasped=2.1s\n",
      "[9/9] LightGBM8  : loss=250.706, val_loss=111.807, elasped=2.4s\n",
      "<Weighted Ensemble(weight='balanced')> loss=222.209, val_loss=118.575, elasped=24.5s\n"
     ]
    },
    {
     "data": {
      "image/png": "[encoded data removed]",
      "text/plain": [
       "<Figure size 1080x504 with 1 Axes>"
      ]
     },
     "metadata": {
      "needs_background": "light"
     },
     "output_type": "display_data"
    },
    {
     "name": "stderr",
     "output_type": "stream",
     "text": [
      "100%|██████████| 2/2 [11:02<00:00, 331.07s/it]"
     ]
    },
    {
     "name": "stdout",
     "output_type": "stream",
     "text": [
      "CPU times: user 37min 26s, sys: 7min 25s, total: 44min 52s\n",
      "Wall time: 11min 2s\n"
     ]
    },
    {
     "name": "stderr",
     "output_type": "stream",
     "text": [
      "\n"
     ]
    }
   ],
   "source": [
    "%%time\n",
    "# \n",
    "\n",
    "stacking_save_path = save_folder+'/stacking_segment{}_k{}.pickle'\n",
    "\n",
    "stacking_models = {}\n",
    "stacking_feature_info = {}\n",
    "stacking_scores = []\n",
    "\n",
    "s_i = 0\n",
    "for segment in tqdm(segment_list):\n",
    "    s_i+=1\n",
    "    gc_collect_all(verbose=False)\n",
    "    \n",
    "    # segment에 해당하는 데이터추출\n",
    "    if segment!='NoSegment':\n",
    "        _X         = split_segment(X        ,segment_feature,segment)\n",
    "        _X_oh      = split_segment(X_oh     ,segment_feature,segment)\n",
    "        _X_test    = split_segment(X_test   ,segment_feature,segment)\n",
    "        _X_test_oh = split_segment(X_test_oh,segment_feature,segment)\n",
    "        _y         = y[X[segment_feature]==segment]\n",
    "    else:\n",
    "        _X = X.copy()\n",
    "        _X_oh = X_oh.copy()\n",
    "        _X_test = X_test.copy()\n",
    "        _X_test_oh = X_test_oh.copy()\n",
    "        _y = y.copy()\n",
    "    \n",
    "    model_list = [load_model(hyperparameters,ens_save_path.format(segment,k)) for k in range(1,6)]\n",
    "    \n",
    "    features    = model_list[0].features\n",
    "    oh_features = model_list[0].oh_features\n",
    "    _X = _X[features]\n",
    "    _X_oh = _X_oh[oh_features]\n",
    "    _X_test = _X_test[features]\n",
    "    _X_test_oh = _X_test_oh[oh_features]\n",
    "    \n",
    "    tr_pred = pd.DataFrame(index=_X.index)\n",
    "    te_pred = pd.DataFrame(index=_X_test.index)\n",
    "    if stacking_direction=='all':\n",
    "        for i,model in enumerate(model_list,1):\n",
    "            tr_pred[f'pred{i}'] = model.predict(_X,_X_oh)\n",
    "            te_pred[f'pred{i}'] = model.predict(_X_test,_X_test_oh)\n",
    "    elif stacking_direction=='mean':\n",
    "        tr_pred['pred'] = np.mean([model.predict(_X,_X_oh)           for model in model_list],axis=0)\n",
    "        te_pred['pred'] = np.mean([model.predict(_X_test,_X_test_oh) for model in model_list],axis=0)\n",
    "\n",
    "    _X_new         = pd.concat([_X        ,tr_pred],axis=1)\n",
    "    _X_oh_new      = pd.concat([_X_oh     ,tr_pred],axis=1)\n",
    "    _X_test_new    = pd.concat([_X_test   ,te_pred],axis=1)\n",
    "    _X_test_oh_new = pd.concat([_X_test_oh,te_pred],axis=1)\n",
    "    \n",
    "    # categorical feature에서 unique인 컬럼을 제외\n",
    "    fixed_cat_features = [col for col in cat_features if col in _X_new.columns]\n",
    "    \n",
    "    # progress\n",
    "    progress = '> [{}/{}] Segment: {}, Shape: Raw{}, OneHot{}'.format(s_i,len(segment_list),segment,_X.shape,_X_oh.shape)\n",
    "    print('-'*80)\n",
    "    print(progress)\n",
    "    print('-'*80)\n",
    "    \n",
    "    # kfold\n",
    "    kf = KFold(n_splits=CFG.N_SPLITS,random_state=1000*s_i+CFG.SEED,shuffle=True)\n",
    "    \n",
    "    _models = []\n",
    "    _scores = []\n",
    "    k=0\n",
    "    for tr_idx,val_idx in kf.split(_X):\n",
    "        k+=1\n",
    "        print('> [K-Fold] {}/{}'.format(k,CFG.N_SPLITS))\n",
    "        \n",
    "        # kfold dataset\n",
    "        X_tr   , X_va    = _X_new   .iloc[tr_idx], _X_new   .iloc[val_idx]\n",
    "        X_tr_oh, X_va_oh = _X_oh_new.iloc[tr_idx], _X_oh_new.iloc[val_idx]\n",
    "        y_tr   , y_va    = _y       .iloc[tr_idx], _y       .iloc[val_idx]\n",
    "\n",
    "        # define the model\n",
    "        ensemble_model = WeightedEnsembleRegressor(\n",
    "            hyperparameters=hyperparameters,\n",
    "            weight='balanced',\n",
    "            inverse_transform=target_transform.inverse_transform,\n",
    "        )\n",
    "\n",
    "        # fit the model\n",
    "        ensemble_model.fit(\n",
    "            X_tr,y_tr,\n",
    "            eval_set=[(X_va,y_va)],\n",
    "            oh_set=[(X_tr_oh,X_va_oh)],\n",
    "            cat_features=fixed_cat_features,\n",
    "            verbose=0,\n",
    "        )\n",
    "\n",
    "        # save the model\n",
    "        ensemble_model.save_model(stacking_save_path.format(segment,k))\n",
    "\n",
    "        # prediction\n",
    "        y_pred = ensemble_model.predict(X_va,X_va_oh).flatten()\n",
    "        y_true = target_transform.inverse_transform(y_va.values)\n",
    "        \n",
    "        # caculate score\n",
    "        score = mean_absolute_error(y_true=y_true,y_pred=y_pred)\n",
    "        \n",
    "        # append inner loop\n",
    "        _models.append(ensemble_model)\n",
    "        _scores.append([segment,k,len(X_tr),len(X_va),score])\n",
    "    \n",
    "    # append outer loop\n",
    "    stacking_models[segment] = _models\n",
    "    stacking_scores.append(_scores)\n",
    "    stacking_feature_info[segment] = {\n",
    "        'cat_features':fixed_cat_features,\n",
    "        'features':_X_new.columns.tolist(),\n",
    "        'oh_features':_X_oh_new.columns.tolist(),\n",
    "    }\n",
    "\n",
    "    # plotting after kfold\n",
    "    y_pred = np.mean([m.predict(_X_new,_X_oh_new) for m in _models],axis=0)\n",
    "    y_true = _y.values\n",
    "    y_true = target_transform.inverse_transform(y_true).flatten()\n",
    "\n",
    "    score = mean_squared_error(y_true=y_true,y_pred=y_pred)**0.5\n",
    "\n",
    "    plt.figure(figsize=(15,7))\n",
    "    sns.scatterplot(x=y_true,y=y_pred)\n",
    "    abline(0,1)\n",
    "    plt.grid()\n",
    "    plt.title('Segment={}(Raw{}, OneHot{}), Score={:.4f}'.format(segment,_X.shape,_X_oh.shape,score))\n",
    "    plt.tight_layout()\n",
    "    plt.show()"
   ]
  },
  {
   "cell_type": "code",
   "execution_count": 82,
   "id": "59a6ec99-2809-43b4-b9aa-37fd4e994c5d",
   "metadata": {},
   "outputs": [],
   "source": [
    "# np.array([r.get_best_iteration() for m in _models for r in m.regressors])\n",
    "# np.array([r.best_iteration_ for m in _models for r in m.regressors])"
   ]
  },
  {
   "cell_type": "code",
   "execution_count": 83,
   "id": "055012f6-63ae-4a59-94b2-1307169fd7d3",
   "metadata": {},
   "outputs": [],
   "source": [
    "# m = stacking_models['NoSegment'][0]\n",
    "\n",
    "# imp_df = pd.DataFrame({\n",
    "#     'feature':m.features,\n",
    "#     'imp':m.regressors[0].feature_importances_,\n",
    "# }).sort_values('imp',ascending=False)\n",
    "# imp_df = imp_df[:20]\n",
    "\n",
    "# plt.figure(figsize=(15,7))\n",
    "# sns.barplot(x=imp_df.imp,y=imp_df.feature)\n",
    "# plt.grid()\n",
    "# plt.show()"
   ]
  },
  {
   "cell_type": "code",
   "execution_count": 85,
   "id": "2d0183db-2cc4-441f-a3fd-6087c5f1cd42",
   "metadata": {},
   "outputs": [
    {
     "data": {
      "text/html": [
       "<div>\n",
       "<style scoped>\n",
       "    .dataframe tbody tr th:only-of-type {\n",
       "        vertical-align: middle;\n",
       "    }\n",
       "\n",
       "    .dataframe tbody tr th {\n",
       "        vertical-align: top;\n",
       "    }\n",
       "\n",
       "    .dataframe thead th {\n",
       "        text-align: right;\n",
       "    }\n",
       "</style>\n",
       "<table border=\"1\" class=\"dataframe\">\n",
       "  <thead>\n",
       "    <tr style=\"text-align: right;\">\n",
       "      <th></th>\n",
       "      <th>segment</th>\n",
       "      <th>k</th>\n",
       "      <th>n_train</th>\n",
       "      <th>n_val</th>\n",
       "      <th>rmse</th>\n",
       "    </tr>\n",
       "  </thead>\n",
       "  <tbody>\n",
       "    <tr>\n",
       "      <th>1</th>\n",
       "      <td>0</td>\n",
       "      <td>2</td>\n",
       "      <td>4297</td>\n",
       "      <td>1074</td>\n",
       "      <td>37.144850</td>\n",
       "    </tr>\n",
       "    <tr>\n",
       "      <th>0</th>\n",
       "      <td>0</td>\n",
       "      <td>1</td>\n",
       "      <td>4296</td>\n",
       "      <td>1075</td>\n",
       "      <td>37.618244</td>\n",
       "    </tr>\n",
       "    <tr>\n",
       "      <th>2</th>\n",
       "      <td>0</td>\n",
       "      <td>3</td>\n",
       "      <td>4297</td>\n",
       "      <td>1074</td>\n",
       "      <td>39.193396</td>\n",
       "    </tr>\n",
       "    <tr>\n",
       "      <th>3</th>\n",
       "      <td>0</td>\n",
       "      <td>4</td>\n",
       "      <td>4297</td>\n",
       "      <td>1074</td>\n",
       "      <td>39.439804</td>\n",
       "    </tr>\n",
       "    <tr>\n",
       "      <th>4</th>\n",
       "      <td>0</td>\n",
       "      <td>5</td>\n",
       "      <td>4297</td>\n",
       "      <td>1074</td>\n",
       "      <td>40.182532</td>\n",
       "    </tr>\n",
       "  </tbody>\n",
       "</table>\n",
       "</div>"
      ],
      "text/plain": [
       "  segment  k  n_train  n_val       rmse\n",
       "1       0  2     4297   1074  37.144850\n",
       "0       0  1     4296   1075  37.618244\n",
       "2       0  3     4297   1074  39.193396\n",
       "3       0  4     4297   1074  39.439804\n",
       "4       0  5     4297   1074  40.182532"
      ]
     },
     "metadata": {},
     "output_type": "display_data"
    },
    {
     "data": {
      "text/html": [
       "<div>\n",
       "<style scoped>\n",
       "    .dataframe tbody tr th:only-of-type {\n",
       "        vertical-align: middle;\n",
       "    }\n",
       "\n",
       "    .dataframe tbody tr th {\n",
       "        vertical-align: top;\n",
       "    }\n",
       "\n",
       "    .dataframe thead th {\n",
       "        text-align: right;\n",
       "    }\n",
       "</style>\n",
       "<table border=\"1\" class=\"dataframe\">\n",
       "  <thead>\n",
       "    <tr style=\"text-align: right;\">\n",
       "      <th></th>\n",
       "      <th>segment</th>\n",
       "      <th>k</th>\n",
       "      <th>n_train</th>\n",
       "      <th>n_val</th>\n",
       "      <th>rmse</th>\n",
       "    </tr>\n",
       "  </thead>\n",
       "  <tbody>\n",
       "    <tr>\n",
       "      <th>4</th>\n",
       "      <td>1</td>\n",
       "      <td>5</td>\n",
       "      <td>401</td>\n",
       "      <td>100</td>\n",
       "      <td>82.533050</td>\n",
       "    </tr>\n",
       "    <tr>\n",
       "      <th>2</th>\n",
       "      <td>1</td>\n",
       "      <td>3</td>\n",
       "      <td>401</td>\n",
       "      <td>100</td>\n",
       "      <td>88.312613</td>\n",
       "    </tr>\n",
       "    <tr>\n",
       "      <th>0</th>\n",
       "      <td>1</td>\n",
       "      <td>1</td>\n",
       "      <td>400</td>\n",
       "      <td>101</td>\n",
       "      <td>105.325896</td>\n",
       "    </tr>\n",
       "    <tr>\n",
       "      <th>1</th>\n",
       "      <td>1</td>\n",
       "      <td>2</td>\n",
       "      <td>401</td>\n",
       "      <td>100</td>\n",
       "      <td>125.660007</td>\n",
       "    </tr>\n",
       "    <tr>\n",
       "      <th>3</th>\n",
       "      <td>1</td>\n",
       "      <td>4</td>\n",
       "      <td>401</td>\n",
       "      <td>100</td>\n",
       "      <td>181.992410</td>\n",
       "    </tr>\n",
       "  </tbody>\n",
       "</table>\n",
       "</div>"
      ],
      "text/plain": [
       "  segment  k  n_train  n_val        rmse\n",
       "4       1  5      401    100   82.533050\n",
       "2       1  3      401    100   88.312613\n",
       "0       1  1      400    101  105.325896\n",
       "1       1  2      401    100  125.660007\n",
       "3       1  4      401    100  181.992410"
      ]
     },
     "metadata": {},
     "output_type": "display_data"
    }
   ],
   "source": [
    "score_df = pd.concat([\n",
    "    pd.DataFrame(s,columns=['segment','k','n_train','n_val','rmse']) for s in stacking_scores\n",
    "],axis=0)\n",
    "display(score_df.sort_values('rmse').head())\n",
    "display(score_df.sort_values('rmse').tail())"
   ]
  },
  {
   "cell_type": "code",
   "execution_count": 86,
   "id": "b044978b-2c6a-4699-9b3b-7397c12f8e73",
   "metadata": {},
   "outputs": [],
   "source": [
    "X      = train_fn.drop(target_feature,axis=1)\n",
    "X_test = test_fn.copy()\n",
    "y      = train_fn[target_feature]\n",
    "\n",
    "ohe = OneHotEncoder()\n",
    "ohe.fit(X,cat_features)\n",
    "X_oh      = ohe.transform(X)\n",
    "X_test_oh = ohe.transform(X_test)\n",
    "\n",
    "if segment_feature is not None:\n",
    "    segment_list = X[segment_feature].unique()\n",
    "else:\n",
    "    segment_list = ['NoSegment']"
   ]
  },
  {
   "cell_type": "code",
   "execution_count": 87,
   "id": "418ba559-b690-4510-bb07-048521550933",
   "metadata": {},
   "outputs": [
    {
     "name": "stderr",
     "output_type": "stream",
     "text": [
      "100%|██████████| 2/2 [00:17<00:00,  8.58s/it]\n"
     ]
    }
   ],
   "source": [
    "tr_pred_list = []\n",
    "te_pred_list = []\n",
    "for segment in tqdm(segment_list):\n",
    "    gc_collect_all(verbose=False)\n",
    "    \n",
    "    # segment에 해당하는 데이터추출\n",
    "    if segment!='NoSegment':\n",
    "        _X         = split_segment(X        ,segment_feature,segment)\n",
    "        _X_oh      = split_segment(X_oh     ,segment_feature,segment)\n",
    "        _X_test    = split_segment(X_test   ,segment_feature,segment)\n",
    "        _X_test_oh = split_segment(X_test_oh,segment_feature,segment)\n",
    "        _y         = y[X[segment_feature]==segment]\n",
    "    else:\n",
    "        _X = X.copy()\n",
    "        _X_oh = X_oh.copy()\n",
    "        _X_test = X_test.copy()\n",
    "        _X_test_oh = X_test_oh.copy()\n",
    "        _y = y.copy()\n",
    "    \n",
    "    ens_model_list = [load_model(hyperparameters,ens_save_path.format(segment,k)) for k in range(1,6)]\n",
    "    stacking_model_list = [load_model(hyperparameters,stacking_save_path.format(segment,k)) for k in range(1,6)]\n",
    "    \n",
    "    ens_features = ens_model_list[0].features\n",
    "    ens_oh_features = ens_model_list[0].oh_features\n",
    "    if stacking_direction=='all':\n",
    "        for i,model in enumerate(ens_model_list):\n",
    "            # train\n",
    "            tr_pred_ = model.predict(_X[ens_features],_X_oh[ens_oh_features])\n",
    "            _X[f'pred{i+1}']    = tr_pred_\n",
    "            _X_oh[f'pred{i+1}'] = tr_pred_\n",
    "            # test\n",
    "            te_pred_ = model.predict(_X_test[ens_features],_X_test_oh[ens_oh_features])\n",
    "            _X_test[f'pred{i+1}']    = te_pred_\n",
    "            _X_test_oh[f'pred{i+1}'] = te_pred_\n",
    "    elif stacking_direction=='mean':\n",
    "        # train\n",
    "        tr_pred_ = np.mean([model.predict(_X[ens_features],_X_oh[ens_oh_features]) for model in ens_model_list],axis=0)\n",
    "        _X['pred'] = tr_pred_\n",
    "        _X_oh['pred'] = tr_pred_\n",
    "        # test\n",
    "        te_pred_ = np.mean([model.predict(_X_test[ens_features],_X_test_oh[ens_oh_features]) for model in ens_model_list],axis=0)\n",
    "        _X_test['pred'] = te_pred_\n",
    "        _X_test_oh['pred'] = te_pred_\n",
    "    \n",
    "    stacking_features = stacking_model_list[0].features\n",
    "    stacking_oh_features = stacking_model_list[0].oh_features\n",
    "    \n",
    "    _X = _X[stacking_features]\n",
    "    _X_oh = _X_oh[stacking_oh_features]\n",
    "    _X_test = _X_test[stacking_features]\n",
    "    _X_test_oh = _X_test_oh[stacking_oh_features]\n",
    "\n",
    "    tr_pred = np.mean([model.predict(_X,_X_oh) for model in stacking_model_list],axis=0)\n",
    "    tr_pred = pd.DataFrame(tr_pred,index=_X.index)\n",
    "    tr_pred_list.append(tr_pred)\n",
    "    \n",
    "    te_pred = np.mean([model.predict(_X_test[_X.columns],_X_test_oh[_X_oh.columns]) for model in stacking_model_list],axis=0)\n",
    "    te_pred = pd.DataFrame(te_pred,index=_X_test.index)\n",
    "    te_pred_list.append(te_pred)"
   ]
  },
  {
   "cell_type": "code",
   "execution_count": 88,
   "id": "b504572d-c56a-44e7-bf30-a59b72d847f4",
   "metadata": {},
   "outputs": [],
   "source": [
    "tr_pred_df = pd.concat(tr_pred_list,axis=0).sort_index()\n",
    "te_pred_df = pd.concat(te_pred_list,axis=0).sort_index()"
   ]
  },
  {
   "cell_type": "code",
   "execution_count": 89,
   "id": "0560d60a-d362-4443-bedd-ed61172dc613",
   "metadata": {},
   "outputs": [
    {
     "data": {
      "text/plain": [
       "91.61067446191912"
      ]
     },
     "execution_count": 89,
     "metadata": {},
     "output_type": "execute_result"
    }
   ],
   "source": [
    "mean_squared_error(y_pred=tr_pred_df.values.flatten(),y_true=target_transform.inverse_transform(y))**0.5"
   ]
  },
  {
   "cell_type": "code",
   "execution_count": 90,
   "id": "326c1594-938f-46f6-94b9-7eee4adaeaca",
   "metadata": {},
   "outputs": [],
   "source": [
    "submit = pd.read_csv('./data/sample_submission.csv')\n",
    "submit[CFG.TARGET] = te_pred_df.values"
   ]
  },
  {
   "cell_type": "code",
   "execution_count": 91,
   "id": "6d5f4b7b-aa83-48a5-929e-c6ed16496b35",
   "metadata": {},
   "outputs": [
    {
     "data": {
      "text/html": [
       "<div>\n",
       "<style scoped>\n",
       "    .dataframe tbody tr th:only-of-type {\n",
       "        vertical-align: middle;\n",
       "    }\n",
       "\n",
       "    .dataframe tbody tr th {\n",
       "        vertical-align: top;\n",
       "    }\n",
       "\n",
       "    .dataframe thead th {\n",
       "        text-align: right;\n",
       "    }\n",
       "</style>\n",
       "<table border=\"1\" class=\"dataframe\">\n",
       "  <thead>\n",
       "    <tr style=\"text-align: right;\">\n",
       "      <th></th>\n",
       "      <th>ID</th>\n",
       "      <th>수요량</th>\n",
       "    </tr>\n",
       "  </thead>\n",
       "  <tbody>\n",
       "    <tr>\n",
       "      <th>0</th>\n",
       "      <td>TEST_0000</td>\n",
       "      <td>233.092514</td>\n",
       "    </tr>\n",
       "    <tr>\n",
       "      <th>1</th>\n",
       "      <td>TEST_0001</td>\n",
       "      <td>44.267553</td>\n",
       "    </tr>\n",
       "    <tr>\n",
       "      <th>2</th>\n",
       "      <td>TEST_0002</td>\n",
       "      <td>314.974164</td>\n",
       "    </tr>\n",
       "    <tr>\n",
       "      <th>3</th>\n",
       "      <td>TEST_0003</td>\n",
       "      <td>129.412921</td>\n",
       "    </tr>\n",
       "    <tr>\n",
       "      <th>4</th>\n",
       "      <td>TEST_0004</td>\n",
       "      <td>216.050453</td>\n",
       "    </tr>\n",
       "  </tbody>\n",
       "</table>\n",
       "</div>"
      ],
      "text/plain": [
       "          ID         수요량\n",
       "0  TEST_0000  233.092514\n",
       "1  TEST_0001   44.267553\n",
       "2  TEST_0002  314.974164\n",
       "3  TEST_0003  129.412921\n",
       "4  TEST_0004  216.050453"
      ]
     },
     "execution_count": 91,
     "metadata": {},
     "output_type": "execute_result"
    }
   ],
   "source": [
    "submit.head()"
   ]
  },
  {
   "cell_type": "code",
   "execution_count": 92,
   "id": "cc6cc894-65d9-46f0-9172-9f8d8b90292a",
   "metadata": {},
   "outputs": [
    {
     "data": {
      "text/plain": [
       "'./mc/kf_weiens_lgball_segment_프로모션여부_log'"
      ]
     },
     "execution_count": 92,
     "metadata": {},
     "output_type": "execute_result"
    }
   ],
   "source": [
    "save_folder"
   ]
  },
  {
   "cell_type": "code",
   "execution_count": 93,
   "id": "2e84c444-df56-49b3-a89f-ea84ff48a067",
   "metadata": {},
   "outputs": [],
   "source": [
    "# public :  (log)\n",
    "path = './out/16_stacking_kf_weiens_lgball_log_segment_{}.csv'.format('_'.join(segment_features).replace(' ',''))\n",
    "submit.to_csv(path,index=False)"
   ]
  },
  {
   "cell_type": "markdown",
   "id": "c6654e8f-18d8-425d-898a-ff5fb657e2d6",
   "metadata": {},
   "source": [
    "<br>"
   ]
  },
  {
   "cell_type": "code",
   "execution_count": null,
   "id": "869f8e94-c44b-444b-acd6-4cf5de287aa5",
   "metadata": {},
   "outputs": [],
   "source": [
    "import pandas as pd\n",
    "a = pd.read_csv('./out/1_kf_weiens_catall_log_NoSegment.csv')\n",
    "b = pd.read_csv('./out/2_stacking_kf_weiens_catall_log_NoSegment.csv')\n",
    "\n",
    "mean_squared_error(a[CFG.TARGET],b[CFG.TARGET])**0.5"
   ]
  },
  {
   "cell_type": "code",
   "execution_count": null,
   "id": "81a52c2e-107c-48d0-b6e0-0b8034db1791",
   "metadata": {},
   "outputs": [],
   "source": [
    "submit = pd.read_csv('./data/sample_submission.csv')\n",
    "submit[CFG.TARGET] = 0.5*a[CFG.TARGET] + 0.5*b[CFG.TARGET]\n",
    "\n",
    "# public : mean - 122.1668775864 (log)\n",
    "submit.to_csv('./out/3_wei_mean(ens,stacking).csv',index=False)"
   ]
  },
  {
   "cell_type": "code",
   "execution_count": null,
   "id": "52334d2f-2472-4f8e-80c2-40958dbd33dc",
   "metadata": {},
   "outputs": [],
   "source": []
  }
 ],
 "metadata": {
  "kernelspec": {
   "display_name": "Python 3",
   "language": "python",
   "name": "python3"
  },
  "language_info": {
   "codemirror_mode": {
    "name": "ipython",
    "version": 3
   },
   "file_extension": ".py",
   "mimetype": "text/x-python",
   "name": "python",
   "nbconvert_exporter": "python",
   "pygments_lexer": "ipython3",
   "version": "3.8.10"
  },
  "toc-autonumbering": true
 },
 "nbformat": 4,
 "nbformat_minor": 5
}
