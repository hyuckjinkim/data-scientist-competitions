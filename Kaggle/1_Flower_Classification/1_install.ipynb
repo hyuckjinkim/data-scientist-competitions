{
 "cells": [
  {
   "cell_type": "markdown",
   "id": "5d1e416e-6cde-45ad-9c5f-ee11ab3a58a2",
   "metadata": {},
   "source": [
    "---\n",
    "# Setting Kaggle\n",
    "---"
   ]
  },
  {
   "cell_type": "markdown",
   "id": "7c6aa2a7-53f3-4483-9c17-ac02c15b2d1d",
   "metadata": {},
   "source": [
    "<br>\n",
    "\n",
    "## kaggle.json 다운로드\n",
    "- 참조 : https://freshrimpsushi.github.io/posts/how-to-fix-oserror-could-not-find-kaggle.json/"
   ]
  },
  {
   "cell_type": "markdown",
   "id": "b419214c-3d65-4333-8328-5acc8ecb677c",
   "metadata": {},
   "source": [
    "<br>\n",
    "\n",
    "## kaggle 파일 옮기기"
   ]
  },
  {
   "cell_type": "code",
   "execution_count": 1,
   "id": "39baf196-6a0c-41c8-8c78-c43f71becbd4",
   "metadata": {},
   "outputs": [
    {
     "name": "stdout",
     "output_type": "stream",
     "text": [
      "/Users/khj/MyPython/Kaggle/1_Flower_Classification\n"
     ]
    }
   ],
   "source": [
    "!pwd"
   ]
  },
  {
   "cell_type": "code",
   "execution_count": 2,
   "id": "b4fd3b78-0b5c-4df6-9e0b-a1ba57a121ea",
   "metadata": {},
   "outputs": [],
   "source": [
    "!cp /Users/khj/MyPython/Kaggle/kaggle.json ~/.kaggle/kaggle.json"
   ]
  },
  {
   "cell_type": "markdown",
   "id": "fadb0ace-4a5e-499a-a2c7-9a7cacc6b9f6",
   "metadata": {},
   "source": [
    "<br>\n",
    "\n",
    "## kaggle install"
   ]
  },
  {
   "cell_type": "code",
   "execution_count": 3,
   "id": "92cd895a-374e-4b08-9dbc-12a371a973c8",
   "metadata": {},
   "outputs": [
    {
     "name": "stdout",
     "output_type": "stream",
     "text": [
      "Requirement already satisfied: kaggle in /Users/khj/.pyenv/versions/3.8.10/lib/python3.8/site-packages (1.5.12)\n",
      "Requirement already satisfied: six>=1.10 in /Users/khj/.pyenv/versions/3.8.10/lib/python3.8/site-packages (from kaggle) (1.16.0)\n",
      "Requirement already satisfied: certifi in /Users/khj/.pyenv/versions/3.8.10/lib/python3.8/site-packages (from kaggle) (2022.9.24)\n",
      "Requirement already satisfied: python-dateutil in /Users/khj/.pyenv/versions/3.8.10/lib/python3.8/site-packages (from kaggle) (2.8.2)\n",
      "Requirement already satisfied: requests in /Users/khj/.pyenv/versions/3.8.10/lib/python3.8/site-packages (from kaggle) (2.28.1)\n",
      "Requirement already satisfied: tqdm in /Users/khj/.pyenv/versions/3.8.10/lib/python3.8/site-packages (from kaggle) (4.64.1)\n",
      "Requirement already satisfied: python-slugify in /Users/khj/.pyenv/versions/3.8.10/lib/python3.8/site-packages (from kaggle) (7.0.0)\n",
      "Requirement already satisfied: urllib3 in /Users/khj/.pyenv/versions/3.8.10/lib/python3.8/site-packages (from kaggle) (1.26.13)\n",
      "Requirement already satisfied: text-unidecode>=1.3 in /Users/khj/.pyenv/versions/3.8.10/lib/python3.8/site-packages (from python-slugify->kaggle) (1.3)\n",
      "Requirement already satisfied: idna<4,>=2.5 in /Users/khj/.pyenv/versions/3.8.10/lib/python3.8/site-packages (from requests->kaggle) (3.4)\n",
      "Requirement already satisfied: charset-normalizer<3,>=2 in /Users/khj/.pyenv/versions/3.8.10/lib/python3.8/site-packages (from requests->kaggle) (2.1.1)\n"
     ]
    }
   ],
   "source": [
    "!pip install kaggle"
   ]
  },
  {
   "cell_type": "markdown",
   "id": "8e0971c9-00c0-443b-9526-1e676d9d8b3c",
   "metadata": {},
   "source": [
    "<br>\n",
    "\n",
    "---\n",
    "# Kaggle Dataset Download\n",
    "---\n",
    "- kaggle competition의 data에서 맨아래쪽에서 dataset download 코드 실행\n",
    "- 참조 : https://www.kaggle.com/competitions/tpu-getting-started/data"
   ]
  },
  {
   "cell_type": "code",
   "execution_count": 4,
   "id": "b4615f33-9ec9-46c3-9c48-f6295e49be75",
   "metadata": {},
   "outputs": [
    {
     "name": "stdout",
     "output_type": "stream",
     "text": [
      "Warning: Your Kaggle API key is readable by other users on this system! To fix this, you can run 'chmod 600 /Users/khj/.kaggle/kaggle.json'\n",
      "Downloading tpu-getting-started.zip to /Users/khj/MyPython/Kaggle/1_Flower_Classification\n",
      "100%|█████████████████████████████████████▉| 4.79G/4.79G [02:34<00:00, 32.8MB/s]\n",
      "100%|██████████████████████████████████████| 4.79G/4.79G [02:34<00:00, 33.2MB/s]\n"
     ]
    }
   ],
   "source": [
    "# 다운로드\n",
    "!kaggle competitions download -c tpu-getting-started"
   ]
  },
  {
   "cell_type": "code",
   "execution_count": 6,
   "id": "a3373045-1c45-4e60-a21c-281264dfbbe4",
   "metadata": {},
   "outputs": [],
   "source": [
    "# data folder로 이동\n",
    "!mv tpu-getting-started.zip ./data/tpu-getting-started.zip"
   ]
  },
  {
   "cell_type": "code",
   "execution_count": 8,
   "id": "6a72a072-d613-4e9f-9711-00cadd080f25",
   "metadata": {},
   "outputs": [
    {
     "name": "stdout",
     "output_type": "stream",
     "text": [
      "Archive:  ./data/tpu-getting-started.zip\n",
      "  inflating: ./data/sample_submission.csv  \n",
      "  inflating: ./data/tfrecords-jpeg-192x192/test/00-192x192-462.tfrec  \n",
      "  inflating: ./data/tfrecords-jpeg-192x192/test/01-192x192-462.tfrec  \n",
      "  inflating: ./data/tfrecords-jpeg-192x192/test/02-192x192-462.tfrec  \n",
      "  inflating: ./data/tfrecords-jpeg-192x192/test/03-192x192-462.tfrec  \n",
      "  inflating: ./data/tfrecords-jpeg-192x192/test/04-192x192-462.tfrec  \n",
      "  inflating: ./data/tfrecords-jpeg-192x192/test/05-192x192-462.tfrec  \n",
      "  inflating: ./data/tfrecords-jpeg-192x192/test/06-192x192-462.tfrec  \n",
      "  inflating: ./data/tfrecords-jpeg-192x192/test/07-192x192-462.tfrec  \n",
      "  inflating: ./data/tfrecords-jpeg-192x192/test/08-192x192-462.tfrec  \n",
      "  inflating: ./data/tfrecords-jpeg-192x192/test/09-192x192-462.tfrec  \n",
      "  inflating: ./data/tfrecords-jpeg-192x192/test/10-192x192-462.tfrec  \n",
      "  inflating: ./data/tfrecords-jpeg-192x192/test/11-192x192-462.tfrec  \n",
      "  inflating: ./data/tfrecords-jpeg-192x192/test/12-192x192-462.tfrec  \n",
      "  inflating: ./data/tfrecords-jpeg-192x192/test/13-192x192-462.tfrec  \n",
      "  inflating: ./data/tfrecords-jpeg-192x192/test/14-192x192-462.tfrec  \n",
      "  inflating: ./data/tfrecords-jpeg-192x192/test/15-192x192-452.tfrec  \n",
      "  inflating: ./data/tfrecords-jpeg-192x192/train/00-192x192-798.tfrec  \n",
      "  inflating: ./data/tfrecords-jpeg-192x192/train/01-192x192-798.tfrec  \n",
      "  inflating: ./data/tfrecords-jpeg-192x192/train/02-192x192-798.tfrec  \n",
      "  inflating: ./data/tfrecords-jpeg-192x192/train/03-192x192-798.tfrec  \n",
      "  inflating: ./data/tfrecords-jpeg-192x192/train/04-192x192-798.tfrec  \n",
      "  inflating: ./data/tfrecords-jpeg-192x192/train/05-192x192-798.tfrec  \n",
      "  inflating: ./data/tfrecords-jpeg-192x192/train/06-192x192-798.tfrec  \n",
      "  inflating: ./data/tfrecords-jpeg-192x192/train/07-192x192-798.tfrec  \n",
      "  inflating: ./data/tfrecords-jpeg-192x192/train/08-192x192-798.tfrec  \n",
      "  inflating: ./data/tfrecords-jpeg-192x192/train/09-192x192-798.tfrec  \n",
      "  inflating: ./data/tfrecords-jpeg-192x192/train/10-192x192-798.tfrec  \n",
      "  inflating: ./data/tfrecords-jpeg-192x192/train/11-192x192-798.tfrec  \n",
      "  inflating: ./data/tfrecords-jpeg-192x192/train/12-192x192-798.tfrec  \n",
      "  inflating: ./data/tfrecords-jpeg-192x192/train/13-192x192-798.tfrec  \n",
      "  inflating: ./data/tfrecords-jpeg-192x192/train/14-192x192-798.tfrec  \n",
      "  inflating: ./data/tfrecords-jpeg-192x192/train/15-192x192-783.tfrec  \n",
      "  inflating: ./data/tfrecords-jpeg-192x192/val/00-192x192-232.tfrec  \n",
      "  inflating: ./data/tfrecords-jpeg-192x192/val/01-192x192-232.tfrec  \n",
      "  inflating: ./data/tfrecords-jpeg-192x192/val/02-192x192-232.tfrec  \n",
      "  inflating: ./data/tfrecords-jpeg-192x192/val/03-192x192-232.tfrec  \n",
      "  inflating: ./data/tfrecords-jpeg-192x192/val/04-192x192-232.tfrec  \n",
      "  inflating: ./data/tfrecords-jpeg-192x192/val/05-192x192-232.tfrec  \n",
      "  inflating: ./data/tfrecords-jpeg-192x192/val/06-192x192-232.tfrec  \n",
      "  inflating: ./data/tfrecords-jpeg-192x192/val/07-192x192-232.tfrec  \n",
      "  inflating: ./data/tfrecords-jpeg-192x192/val/08-192x192-232.tfrec  \n",
      "  inflating: ./data/tfrecords-jpeg-192x192/val/09-192x192-232.tfrec  \n",
      "  inflating: ./data/tfrecords-jpeg-192x192/val/10-192x192-232.tfrec  \n",
      "  inflating: ./data/tfrecords-jpeg-192x192/val/11-192x192-232.tfrec  \n",
      "  inflating: ./data/tfrecords-jpeg-192x192/val/12-192x192-232.tfrec  \n",
      "  inflating: ./data/tfrecords-jpeg-192x192/val/13-192x192-232.tfrec  \n",
      "  inflating: ./data/tfrecords-jpeg-192x192/val/14-192x192-232.tfrec  \n",
      "  inflating: ./data/tfrecords-jpeg-192x192/val/15-192x192-232.tfrec  \n",
      "  inflating: ./data/tfrecords-jpeg-224x224/test/00-224x224-462.tfrec  \n",
      "  inflating: ./data/tfrecords-jpeg-224x224/test/01-224x224-462.tfrec  \n",
      "  inflating: ./data/tfrecords-jpeg-224x224/test/02-224x224-462.tfrec  \n",
      "  inflating: ./data/tfrecords-jpeg-224x224/test/03-224x224-462.tfrec  \n",
      "  inflating: ./data/tfrecords-jpeg-224x224/test/04-224x224-462.tfrec  \n",
      "  inflating: ./data/tfrecords-jpeg-224x224/test/05-224x224-462.tfrec  \n",
      "  inflating: ./data/tfrecords-jpeg-224x224/test/06-224x224-462.tfrec  \n",
      "  inflating: ./data/tfrecords-jpeg-224x224/test/07-224x224-462.tfrec  \n",
      "  inflating: ./data/tfrecords-jpeg-224x224/test/08-224x224-462.tfrec  \n",
      "  inflating: ./data/tfrecords-jpeg-224x224/test/09-224x224-462.tfrec  \n",
      "  inflating: ./data/tfrecords-jpeg-224x224/test/10-224x224-462.tfrec  \n",
      "  inflating: ./data/tfrecords-jpeg-224x224/test/11-224x224-462.tfrec  \n",
      "  inflating: ./data/tfrecords-jpeg-224x224/test/12-224x224-462.tfrec  \n",
      "  inflating: ./data/tfrecords-jpeg-224x224/test/13-224x224-462.tfrec  \n",
      "  inflating: ./data/tfrecords-jpeg-224x224/test/14-224x224-462.tfrec  \n",
      "  inflating: ./data/tfrecords-jpeg-224x224/test/15-224x224-452.tfrec  \n",
      "  inflating: ./data/tfrecords-jpeg-224x224/train/00-224x224-798.tfrec  \n",
      "  inflating: ./data/tfrecords-jpeg-224x224/train/01-224x224-798.tfrec  \n",
      "  inflating: ./data/tfrecords-jpeg-224x224/train/02-224x224-798.tfrec  \n",
      "  inflating: ./data/tfrecords-jpeg-224x224/train/03-224x224-798.tfrec  \n",
      "  inflating: ./data/tfrecords-jpeg-224x224/train/04-224x224-798.tfrec  \n",
      "  inflating: ./data/tfrecords-jpeg-224x224/train/05-224x224-798.tfrec  \n",
      "  inflating: ./data/tfrecords-jpeg-224x224/train/06-224x224-798.tfrec  \n",
      "  inflating: ./data/tfrecords-jpeg-224x224/train/07-224x224-798.tfrec  \n",
      "  inflating: ./data/tfrecords-jpeg-224x224/train/08-224x224-798.tfrec  \n",
      "  inflating: ./data/tfrecords-jpeg-224x224/train/09-224x224-798.tfrec  \n",
      "  inflating: ./data/tfrecords-jpeg-224x224/train/10-224x224-798.tfrec  \n",
      "  inflating: ./data/tfrecords-jpeg-224x224/train/11-224x224-798.tfrec  \n",
      "  inflating: ./data/tfrecords-jpeg-224x224/train/12-224x224-798.tfrec  \n",
      "  inflating: ./data/tfrecords-jpeg-224x224/train/13-224x224-798.tfrec  \n",
      "  inflating: ./data/tfrecords-jpeg-224x224/train/14-224x224-798.tfrec  \n",
      "  inflating: ./data/tfrecords-jpeg-224x224/train/15-224x224-783.tfrec  \n",
      "  inflating: ./data/tfrecords-jpeg-224x224/val/00-224x224-232.tfrec  \n",
      "  inflating: ./data/tfrecords-jpeg-224x224/val/01-224x224-232.tfrec  \n",
      "  inflating: ./data/tfrecords-jpeg-224x224/val/02-224x224-232.tfrec  \n",
      "  inflating: ./data/tfrecords-jpeg-224x224/val/03-224x224-232.tfrec  \n",
      "  inflating: ./data/tfrecords-jpeg-224x224/val/04-224x224-232.tfrec  \n",
      "  inflating: ./data/tfrecords-jpeg-224x224/val/05-224x224-232.tfrec  \n",
      "  inflating: ./data/tfrecords-jpeg-224x224/val/06-224x224-232.tfrec  \n",
      "  inflating: ./data/tfrecords-jpeg-224x224/val/07-224x224-232.tfrec  \n",
      "  inflating: ./data/tfrecords-jpeg-224x224/val/08-224x224-232.tfrec  \n",
      "  inflating: ./data/tfrecords-jpeg-224x224/val/09-224x224-232.tfrec  \n",
      "  inflating: ./data/tfrecords-jpeg-224x224/val/10-224x224-232.tfrec  \n",
      "  inflating: ./data/tfrecords-jpeg-224x224/val/11-224x224-232.tfrec  \n",
      "  inflating: ./data/tfrecords-jpeg-224x224/val/12-224x224-232.tfrec  \n",
      "  inflating: ./data/tfrecords-jpeg-224x224/val/13-224x224-232.tfrec  \n",
      "  inflating: ./data/tfrecords-jpeg-224x224/val/14-224x224-232.tfrec  \n",
      "  inflating: ./data/tfrecords-jpeg-224x224/val/15-224x224-232.tfrec  \n",
      "  inflating: ./data/tfrecords-jpeg-331x331/test/00-331x331-462.tfrec  \n",
      "  inflating: ./data/tfrecords-jpeg-331x331/test/01-331x331-462.tfrec  \n",
      "  inflating: ./data/tfrecords-jpeg-331x331/test/02-331x331-462.tfrec  \n",
      "  inflating: ./data/tfrecords-jpeg-331x331/test/03-331x331-462.tfrec  \n",
      "  inflating: ./data/tfrecords-jpeg-331x331/test/04-331x331-462.tfrec  \n",
      "  inflating: ./data/tfrecords-jpeg-331x331/test/05-331x331-462.tfrec  \n",
      "  inflating: ./data/tfrecords-jpeg-331x331/test/06-331x331-462.tfrec  \n",
      "  inflating: ./data/tfrecords-jpeg-331x331/test/07-331x331-462.tfrec  \n",
      "  inflating: ./data/tfrecords-jpeg-331x331/test/08-331x331-462.tfrec  \n",
      "  inflating: ./data/tfrecords-jpeg-331x331/test/09-331x331-462.tfrec  \n",
      "  inflating: ./data/tfrecords-jpeg-331x331/test/10-331x331-462.tfrec  \n",
      "  inflating: ./data/tfrecords-jpeg-331x331/test/11-331x331-462.tfrec  \n",
      "  inflating: ./data/tfrecords-jpeg-331x331/test/12-331x331-462.tfrec  \n",
      "  inflating: ./data/tfrecords-jpeg-331x331/test/13-331x331-462.tfrec  \n",
      "  inflating: ./data/tfrecords-jpeg-331x331/test/14-331x331-462.tfrec  \n",
      "  inflating: ./data/tfrecords-jpeg-331x331/test/15-331x331-452.tfrec  \n",
      "  inflating: ./data/tfrecords-jpeg-331x331/train/00-331x331-798.tfrec  \n",
      "  inflating: ./data/tfrecords-jpeg-331x331/train/01-331x331-798.tfrec  \n",
      "  inflating: ./data/tfrecords-jpeg-331x331/train/02-331x331-798.tfrec  \n",
      "  inflating: ./data/tfrecords-jpeg-331x331/train/03-331x331-798.tfrec  \n",
      "  inflating: ./data/tfrecords-jpeg-331x331/train/04-331x331-798.tfrec  \n",
      "  inflating: ./data/tfrecords-jpeg-331x331/train/05-331x331-798.tfrec  \n",
      "  inflating: ./data/tfrecords-jpeg-331x331/train/06-331x331-798.tfrec  \n",
      "  inflating: ./data/tfrecords-jpeg-331x331/train/07-331x331-798.tfrec  \n",
      "  inflating: ./data/tfrecords-jpeg-331x331/train/08-331x331-798.tfrec  \n",
      "  inflating: ./data/tfrecords-jpeg-331x331/train/09-331x331-798.tfrec  \n",
      "  inflating: ./data/tfrecords-jpeg-331x331/train/10-331x331-798.tfrec  \n",
      "  inflating: ./data/tfrecords-jpeg-331x331/train/11-331x331-798.tfrec  \n",
      "  inflating: ./data/tfrecords-jpeg-331x331/train/12-331x331-798.tfrec  \n",
      "  inflating: ./data/tfrecords-jpeg-331x331/train/13-331x331-798.tfrec  \n",
      "  inflating: ./data/tfrecords-jpeg-331x331/train/14-331x331-798.tfrec  \n",
      "  inflating: ./data/tfrecords-jpeg-331x331/train/15-331x331-783.tfrec  \n",
      "  inflating: ./data/tfrecords-jpeg-331x331/val/00-331x331-232.tfrec  \n",
      "  inflating: ./data/tfrecords-jpeg-331x331/val/01-331x331-232.tfrec  \n",
      "  inflating: ./data/tfrecords-jpeg-331x331/val/02-331x331-232.tfrec  \n",
      "  inflating: ./data/tfrecords-jpeg-331x331/val/03-331x331-232.tfrec  \n",
      "  inflating: ./data/tfrecords-jpeg-331x331/val/04-331x331-232.tfrec  \n",
      "  inflating: ./data/tfrecords-jpeg-331x331/val/05-331x331-232.tfrec  \n",
      "  inflating: ./data/tfrecords-jpeg-331x331/val/06-331x331-232.tfrec  \n",
      "  inflating: ./data/tfrecords-jpeg-331x331/val/07-331x331-232.tfrec  \n",
      "  inflating: ./data/tfrecords-jpeg-331x331/val/08-331x331-232.tfrec  \n",
      "  inflating: ./data/tfrecords-jpeg-331x331/val/09-331x331-232.tfrec  \n",
      "  inflating: ./data/tfrecords-jpeg-331x331/val/10-331x331-232.tfrec  \n",
      "  inflating: ./data/tfrecords-jpeg-331x331/val/11-331x331-232.tfrec  \n",
      "  inflating: ./data/tfrecords-jpeg-331x331/val/12-331x331-232.tfrec  \n",
      "  inflating: ./data/tfrecords-jpeg-331x331/val/13-331x331-232.tfrec  \n",
      "  inflating: ./data/tfrecords-jpeg-331x331/val/14-331x331-232.tfrec  \n",
      "  inflating: ./data/tfrecords-jpeg-331x331/val/15-331x331-232.tfrec  \n",
      "  inflating: ./data/tfrecords-jpeg-512x512/test/00-512x512-462.tfrec  \n",
      "  inflating: ./data/tfrecords-jpeg-512x512/test/01-512x512-462.tfrec  \n",
      "  inflating: ./data/tfrecords-jpeg-512x512/test/02-512x512-462.tfrec  \n",
      "  inflating: ./data/tfrecords-jpeg-512x512/test/03-512x512-462.tfrec  \n",
      "  inflating: ./data/tfrecords-jpeg-512x512/test/04-512x512-462.tfrec  \n",
      "  inflating: ./data/tfrecords-jpeg-512x512/test/05-512x512-462.tfrec  \n",
      "  inflating: ./data/tfrecords-jpeg-512x512/test/06-512x512-462.tfrec  \n",
      "  inflating: ./data/tfrecords-jpeg-512x512/test/07-512x512-462.tfrec  \n",
      "  inflating: ./data/tfrecords-jpeg-512x512/test/08-512x512-462.tfrec  \n",
      "  inflating: ./data/tfrecords-jpeg-512x512/test/09-512x512-462.tfrec  \n",
      "  inflating: ./data/tfrecords-jpeg-512x512/test/10-512x512-462.tfrec  \n",
      "  inflating: ./data/tfrecords-jpeg-512x512/test/11-512x512-462.tfrec  \n",
      "  inflating: ./data/tfrecords-jpeg-512x512/test/12-512x512-462.tfrec  \n",
      "  inflating: ./data/tfrecords-jpeg-512x512/test/13-512x512-462.tfrec  \n",
      "  inflating: ./data/tfrecords-jpeg-512x512/test/14-512x512-462.tfrec  \n",
      "  inflating: ./data/tfrecords-jpeg-512x512/test/15-512x512-452.tfrec  \n",
      "  inflating: ./data/tfrecords-jpeg-512x512/train/00-512x512-798.tfrec  \n",
      "  inflating: ./data/tfrecords-jpeg-512x512/train/01-512x512-798.tfrec  \n",
      "  inflating: ./data/tfrecords-jpeg-512x512/train/02-512x512-798.tfrec  \n",
      "  inflating: ./data/tfrecords-jpeg-512x512/train/03-512x512-798.tfrec  \n",
      "  inflating: ./data/tfrecords-jpeg-512x512/train/04-512x512-798.tfrec  \n",
      "  inflating: ./data/tfrecords-jpeg-512x512/train/05-512x512-798.tfrec  \n",
      "  inflating: ./data/tfrecords-jpeg-512x512/train/06-512x512-798.tfrec  \n",
      "  inflating: ./data/tfrecords-jpeg-512x512/train/07-512x512-798.tfrec  \n",
      "  inflating: ./data/tfrecords-jpeg-512x512/train/08-512x512-798.tfrec  \n",
      "  inflating: ./data/tfrecords-jpeg-512x512/train/09-512x512-798.tfrec  \n",
      "  inflating: ./data/tfrecords-jpeg-512x512/train/10-512x512-798.tfrec  \n",
      "  inflating: ./data/tfrecords-jpeg-512x512/train/11-512x512-798.tfrec  \n",
      "  inflating: ./data/tfrecords-jpeg-512x512/train/12-512x512-798.tfrec  \n",
      "  inflating: ./data/tfrecords-jpeg-512x512/train/13-512x512-798.tfrec  \n",
      "  inflating: ./data/tfrecords-jpeg-512x512/train/14-512x512-798.tfrec  \n",
      "  inflating: ./data/tfrecords-jpeg-512x512/train/15-512x512-783.tfrec  \n",
      "  inflating: ./data/tfrecords-jpeg-512x512/val/00-512x512-232.tfrec  \n",
      "  inflating: ./data/tfrecords-jpeg-512x512/val/01-512x512-232.tfrec  \n",
      "  inflating: ./data/tfrecords-jpeg-512x512/val/02-512x512-232.tfrec  \n",
      "  inflating: ./data/tfrecords-jpeg-512x512/val/03-512x512-232.tfrec  \n",
      "  inflating: ./data/tfrecords-jpeg-512x512/val/04-512x512-232.tfrec  \n",
      "  inflating: ./data/tfrecords-jpeg-512x512/val/05-512x512-232.tfrec  \n",
      "  inflating: ./data/tfrecords-jpeg-512x512/val/06-512x512-232.tfrec  \n",
      "  inflating: ./data/tfrecords-jpeg-512x512/val/07-512x512-232.tfrec  \n",
      "  inflating: ./data/tfrecords-jpeg-512x512/val/08-512x512-232.tfrec  \n",
      "  inflating: ./data/tfrecords-jpeg-512x512/val/09-512x512-232.tfrec  \n",
      "  inflating: ./data/tfrecords-jpeg-512x512/val/10-512x512-232.tfrec  \n",
      "  inflating: ./data/tfrecords-jpeg-512x512/val/11-512x512-232.tfrec  \n",
      "  inflating: ./data/tfrecords-jpeg-512x512/val/12-512x512-232.tfrec  \n",
      "  inflating: ./data/tfrecords-jpeg-512x512/val/13-512x512-232.tfrec  \n",
      "  inflating: ./data/tfrecords-jpeg-512x512/val/14-512x512-232.tfrec  \n",
      "  inflating: ./data/tfrecords-jpeg-512x512/val/15-512x512-232.tfrec  \n"
     ]
    }
   ],
   "source": [
    "# unzip\n",
    "# -d ./data/ : data폴더에서 unzip 실행\n",
    "!unzip ./data/tpu-getting-started.zip -d ./data/"
   ]
  }
 ],
 "metadata": {
  "kernelspec": {
   "display_name": "Python 3 (ipykernel)",
   "language": "python",
   "name": "python3"
  },
  "language_info": {
   "codemirror_mode": {
    "name": "ipython",
    "version": 3
   },
   "file_extension": ".py",
   "mimetype": "text/x-python",
   "name": "python",
   "nbconvert_exporter": "python",
   "pygments_lexer": "ipython3",
   "version": "3.8.10"
  }
 },
 "nbformat": 4,
 "nbformat_minor": 5
}
