{
 "cells": [
  {
   "cell_type": "markdown",
   "id": "29e27eca-5dac-49dd-8873-de20e7ed1068",
   "metadata": {},
   "source": [
    "# Setting"
   ]
  },
  {
   "cell_type": "code",
   "execution_count": 1,
   "id": "a8027d5c-f05d-41d5-b5ba-ed24ea5c69ea",
   "metadata": {},
   "outputs": [],
   "source": [
    "import numpy as np\n",
    "import pandas as pd\n",
    "pd.set_option('display.max_rows', None)\n",
    "pd.set_option('display.max_columns', None)\n",
    "\n",
    "from tqdm import tqdm, trange\n",
    "\n",
    "import matplotlib.pyplot as plt\n",
    "import seaborn as sns"
   ]
  },
  {
   "cell_type": "code",
   "execution_count": 2,
   "id": "f61cf054-dbbf-4be3-b8fa-e6e83624601d",
   "metadata": {},
   "outputs": [],
   "source": [
    "submit = False\n",
    "\n",
    "class CFG:\n",
    "    if submit:\n",
    "        REF_PATH = '/kaggle/input/icr-identify-age-related-conditions/'\n",
    "    else:\n",
    "        REF_PATH = './data/'\n",
    "        \n",
    "    ADD_INTERACTION = False\n",
    "    FS_ALPHA = 0.01\n",
    "    \n",
    "    SEED = 0\n",
    "    N_SPLITS = 5\n",
    "    EPOCHS = 50000\n",
    "    ES = 300\n",
    "    LR = 0.001"
   ]
  },
  {
   "cell_type": "markdown",
   "id": "f31d5967-6e10-4a59-99b9-bf716a3ff733",
   "metadata": {},
   "source": [
    "<br></br>"
   ]
  },
  {
   "cell_type": "markdown",
   "id": "6290c6c0-36ef-4502-8fd2-4a99c5809695",
   "metadata": {},
   "source": [
    "# Data Load"
   ]
  },
  {
   "cell_type": "code",
   "execution_count": 3,
   "id": "578a801b-591c-4447-ac68-bbff47146c89",
   "metadata": {},
   "outputs": [],
   "source": [
    "train_df  = pd.read_csv(CFG.REF_PATH+'train.csv')\n",
    "test_df   = pd.read_csv(CFG.REF_PATH+'test.csv')\n",
    "greeks_df = pd.read_csv(CFG.REF_PATH+'greeks.csv')"
   ]
  },
  {
   "cell_type": "code",
   "execution_count": 4,
   "id": "3d54bff6-957a-4042-942b-4db04654db04",
   "metadata": {},
   "outputs": [],
   "source": [
    "train_df.columns  = [col.replace(' ','') for col in train_df.columns]\n",
    "test_df.columns   = [col.replace(' ','') for col in test_df.columns]\n",
    "greeks_df.columns = [col.replace(' ','') for col in greeks_df.columns]"
   ]
  },
  {
   "cell_type": "code",
   "execution_count": 5,
   "id": "76528847-d30c-49a0-bfdf-e960a7177c70",
   "metadata": {},
   "outputs": [
    {
     "data": {
      "text/plain": [
       "((617, 58), (617, 6))"
      ]
     },
     "execution_count": 5,
     "metadata": {},
     "output_type": "execute_result"
    }
   ],
   "source": [
    "train_df.shape, greeks_df.shape"
   ]
  },
  {
   "cell_type": "code",
   "execution_count": 6,
   "id": "d21ede17-60cc-4f00-91f7-474fd473bd13",
   "metadata": {},
   "outputs": [
    {
     "data": {
      "text/html": [
       "<div>\n",
       "<style scoped>\n",
       "    .dataframe tbody tr th:only-of-type {\n",
       "        vertical-align: middle;\n",
       "    }\n",
       "\n",
       "    .dataframe tbody tr th {\n",
       "        vertical-align: top;\n",
       "    }\n",
       "\n",
       "    .dataframe thead th {\n",
       "        text-align: right;\n",
       "    }\n",
       "</style>\n",
       "<table border=\"1\" class=\"dataframe\">\n",
       "  <thead>\n",
       "    <tr style=\"text-align: right;\">\n",
       "      <th></th>\n",
       "      <th>Id</th>\n",
       "      <th>AB</th>\n",
       "      <th>AF</th>\n",
       "      <th>AH</th>\n",
       "      <th>AM</th>\n",
       "      <th>AR</th>\n",
       "      <th>AX</th>\n",
       "      <th>AY</th>\n",
       "      <th>AZ</th>\n",
       "      <th>BC</th>\n",
       "      <th>BD</th>\n",
       "      <th>BN</th>\n",
       "      <th>BP</th>\n",
       "      <th>BQ</th>\n",
       "      <th>BR</th>\n",
       "      <th>BZ</th>\n",
       "      <th>CB</th>\n",
       "      <th>CC</th>\n",
       "      <th>CD</th>\n",
       "      <th>CF</th>\n",
       "      <th>CH</th>\n",
       "      <th>CL</th>\n",
       "      <th>CR</th>\n",
       "      <th>CS</th>\n",
       "      <th>CU</th>\n",
       "      <th>CW</th>\n",
       "      <th>DA</th>\n",
       "      <th>DE</th>\n",
       "      <th>DF</th>\n",
       "      <th>DH</th>\n",
       "      <th>DI</th>\n",
       "      <th>DL</th>\n",
       "      <th>DN</th>\n",
       "      <th>DU</th>\n",
       "      <th>DV</th>\n",
       "      <th>DY</th>\n",
       "      <th>EB</th>\n",
       "      <th>EE</th>\n",
       "      <th>EG</th>\n",
       "      <th>EH</th>\n",
       "      <th>EJ</th>\n",
       "      <th>EL</th>\n",
       "      <th>EP</th>\n",
       "      <th>EU</th>\n",
       "      <th>FC</th>\n",
       "      <th>FD</th>\n",
       "      <th>FE</th>\n",
       "      <th>FI</th>\n",
       "      <th>FL</th>\n",
       "      <th>FR</th>\n",
       "      <th>FS</th>\n",
       "      <th>GB</th>\n",
       "      <th>GE</th>\n",
       "      <th>GF</th>\n",
       "      <th>GH</th>\n",
       "      <th>GI</th>\n",
       "      <th>GL</th>\n",
       "      <th>Class</th>\n",
       "    </tr>\n",
       "  </thead>\n",
       "  <tbody>\n",
       "    <tr>\n",
       "      <th>0</th>\n",
       "      <td>000ff2bfdfe9</td>\n",
       "      <td>0.209377</td>\n",
       "      <td>3109.03329</td>\n",
       "      <td>85.200147</td>\n",
       "      <td>22.394407</td>\n",
       "      <td>8.138688</td>\n",
       "      <td>0.699861</td>\n",
       "      <td>0.025578</td>\n",
       "      <td>9.812214</td>\n",
       "      <td>5.555634</td>\n",
       "      <td>4126.58731</td>\n",
       "      <td>22.5984</td>\n",
       "      <td>175.638726</td>\n",
       "      <td>152.707705</td>\n",
       "      <td>823.928241</td>\n",
       "      <td>257.432377</td>\n",
       "      <td>47.223358</td>\n",
       "      <td>0.563481</td>\n",
       "      <td>23.387600</td>\n",
       "      <td>4.851915</td>\n",
       "      <td>0.023482</td>\n",
       "      <td>1.050225</td>\n",
       "      <td>0.069225</td>\n",
       "      <td>13.784111</td>\n",
       "      <td>1.302012</td>\n",
       "      <td>36.205956</td>\n",
       "      <td>69.08340</td>\n",
       "      <td>295.570575</td>\n",
       "      <td>0.23868</td>\n",
       "      <td>0.284232</td>\n",
       "      <td>89.245560</td>\n",
       "      <td>84.31664</td>\n",
       "      <td>29.657104</td>\n",
       "      <td>5.310690</td>\n",
       "      <td>1.74307</td>\n",
       "      <td>23.187704</td>\n",
       "      <td>7.294176</td>\n",
       "      <td>1.987283</td>\n",
       "      <td>1433.166750</td>\n",
       "      <td>0.949104</td>\n",
       "      <td>B</td>\n",
       "      <td>30.879420</td>\n",
       "      <td>78.526968</td>\n",
       "      <td>3.828384</td>\n",
       "      <td>13.394640</td>\n",
       "      <td>10.265073</td>\n",
       "      <td>9028.291921</td>\n",
       "      <td>3.583450</td>\n",
       "      <td>7.298162</td>\n",
       "      <td>1.73855</td>\n",
       "      <td>0.094822</td>\n",
       "      <td>11.339138</td>\n",
       "      <td>72.611063</td>\n",
       "      <td>2003.810319</td>\n",
       "      <td>22.136229</td>\n",
       "      <td>69.834944</td>\n",
       "      <td>0.120343</td>\n",
       "      <td>1</td>\n",
       "    </tr>\n",
       "    <tr>\n",
       "      <th>1</th>\n",
       "      <td>007255e47698</td>\n",
       "      <td>0.145282</td>\n",
       "      <td>978.76416</td>\n",
       "      <td>85.200147</td>\n",
       "      <td>36.968889</td>\n",
       "      <td>8.138688</td>\n",
       "      <td>3.632190</td>\n",
       "      <td>0.025578</td>\n",
       "      <td>13.517790</td>\n",
       "      <td>1.229900</td>\n",
       "      <td>5496.92824</td>\n",
       "      <td>19.4205</td>\n",
       "      <td>155.868030</td>\n",
       "      <td>14.754720</td>\n",
       "      <td>51.216883</td>\n",
       "      <td>257.432377</td>\n",
       "      <td>30.284345</td>\n",
       "      <td>0.484710</td>\n",
       "      <td>50.628208</td>\n",
       "      <td>6.085041</td>\n",
       "      <td>0.031442</td>\n",
       "      <td>1.113875</td>\n",
       "      <td>1.117800</td>\n",
       "      <td>28.310953</td>\n",
       "      <td>1.357182</td>\n",
       "      <td>37.476568</td>\n",
       "      <td>70.79836</td>\n",
       "      <td>178.553100</td>\n",
       "      <td>0.23868</td>\n",
       "      <td>0.363489</td>\n",
       "      <td>110.581815</td>\n",
       "      <td>75.74548</td>\n",
       "      <td>37.532000</td>\n",
       "      <td>0.005518</td>\n",
       "      <td>1.74307</td>\n",
       "      <td>17.222328</td>\n",
       "      <td>4.926396</td>\n",
       "      <td>0.858603</td>\n",
       "      <td>1111.287150</td>\n",
       "      <td>0.003042</td>\n",
       "      <td>A</td>\n",
       "      <td>109.125159</td>\n",
       "      <td>95.415086</td>\n",
       "      <td>52.260480</td>\n",
       "      <td>17.175984</td>\n",
       "      <td>0.296850</td>\n",
       "      <td>6785.003474</td>\n",
       "      <td>10.358927</td>\n",
       "      <td>0.173229</td>\n",
       "      <td>0.49706</td>\n",
       "      <td>0.568932</td>\n",
       "      <td>9.292698</td>\n",
       "      <td>72.611063</td>\n",
       "      <td>27981.562750</td>\n",
       "      <td>29.135430</td>\n",
       "      <td>32.131996</td>\n",
       "      <td>21.978000</td>\n",
       "      <td>0</td>\n",
       "    </tr>\n",
       "    <tr>\n",
       "      <th>2</th>\n",
       "      <td>013f2bd269f5</td>\n",
       "      <td>0.470030</td>\n",
       "      <td>2635.10654</td>\n",
       "      <td>85.200147</td>\n",
       "      <td>32.360553</td>\n",
       "      <td>8.138688</td>\n",
       "      <td>6.732840</td>\n",
       "      <td>0.025578</td>\n",
       "      <td>12.824570</td>\n",
       "      <td>1.229900</td>\n",
       "      <td>5135.78024</td>\n",
       "      <td>26.4825</td>\n",
       "      <td>128.988531</td>\n",
       "      <td>219.320160</td>\n",
       "      <td>482.141594</td>\n",
       "      <td>257.432377</td>\n",
       "      <td>32.563713</td>\n",
       "      <td>0.495852</td>\n",
       "      <td>85.955376</td>\n",
       "      <td>5.376488</td>\n",
       "      <td>0.036218</td>\n",
       "      <td>1.050225</td>\n",
       "      <td>0.700350</td>\n",
       "      <td>39.364743</td>\n",
       "      <td>1.009611</td>\n",
       "      <td>21.459644</td>\n",
       "      <td>70.81970</td>\n",
       "      <td>321.426625</td>\n",
       "      <td>0.23868</td>\n",
       "      <td>0.210441</td>\n",
       "      <td>120.056438</td>\n",
       "      <td>65.46984</td>\n",
       "      <td>28.053464</td>\n",
       "      <td>1.289739</td>\n",
       "      <td>1.74307</td>\n",
       "      <td>36.861352</td>\n",
       "      <td>7.813674</td>\n",
       "      <td>8.146651</td>\n",
       "      <td>1494.076488</td>\n",
       "      <td>0.377208</td>\n",
       "      <td>B</td>\n",
       "      <td>109.125159</td>\n",
       "      <td>78.526968</td>\n",
       "      <td>5.390628</td>\n",
       "      <td>224.207424</td>\n",
       "      <td>8.745201</td>\n",
       "      <td>8338.906181</td>\n",
       "      <td>11.626917</td>\n",
       "      <td>7.709560</td>\n",
       "      <td>0.97556</td>\n",
       "      <td>1.198821</td>\n",
       "      <td>37.077772</td>\n",
       "      <td>88.609437</td>\n",
       "      <td>13676.957810</td>\n",
       "      <td>28.022851</td>\n",
       "      <td>35.192676</td>\n",
       "      <td>0.196941</td>\n",
       "      <td>0</td>\n",
       "    </tr>\n",
       "    <tr>\n",
       "      <th>3</th>\n",
       "      <td>043ac50845d5</td>\n",
       "      <td>0.252107</td>\n",
       "      <td>3819.65177</td>\n",
       "      <td>120.201618</td>\n",
       "      <td>77.112203</td>\n",
       "      <td>8.138688</td>\n",
       "      <td>3.685344</td>\n",
       "      <td>0.025578</td>\n",
       "      <td>11.053708</td>\n",
       "      <td>1.229900</td>\n",
       "      <td>4169.67738</td>\n",
       "      <td>23.6577</td>\n",
       "      <td>237.282264</td>\n",
       "      <td>11.050410</td>\n",
       "      <td>661.518640</td>\n",
       "      <td>257.432377</td>\n",
       "      <td>15.201914</td>\n",
       "      <td>0.717882</td>\n",
       "      <td>88.159360</td>\n",
       "      <td>2.347652</td>\n",
       "      <td>0.029054</td>\n",
       "      <td>1.400300</td>\n",
       "      <td>0.636075</td>\n",
       "      <td>41.116960</td>\n",
       "      <td>0.722727</td>\n",
       "      <td>21.530392</td>\n",
       "      <td>47.27586</td>\n",
       "      <td>196.607985</td>\n",
       "      <td>0.23868</td>\n",
       "      <td>0.292431</td>\n",
       "      <td>139.824570</td>\n",
       "      <td>71.57120</td>\n",
       "      <td>24.354856</td>\n",
       "      <td>2.655345</td>\n",
       "      <td>1.74307</td>\n",
       "      <td>52.003884</td>\n",
       "      <td>7.386060</td>\n",
       "      <td>3.813326</td>\n",
       "      <td>15691.552180</td>\n",
       "      <td>0.614484</td>\n",
       "      <td>B</td>\n",
       "      <td>31.674357</td>\n",
       "      <td>78.526968</td>\n",
       "      <td>31.323372</td>\n",
       "      <td>59.301984</td>\n",
       "      <td>7.884336</td>\n",
       "      <td>10965.766040</td>\n",
       "      <td>14.852022</td>\n",
       "      <td>6.122162</td>\n",
       "      <td>0.49706</td>\n",
       "      <td>0.284466</td>\n",
       "      <td>18.529584</td>\n",
       "      <td>82.416803</td>\n",
       "      <td>2094.262452</td>\n",
       "      <td>39.948656</td>\n",
       "      <td>90.493248</td>\n",
       "      <td>0.155829</td>\n",
       "      <td>0</td>\n",
       "    </tr>\n",
       "    <tr>\n",
       "      <th>4</th>\n",
       "      <td>044fb8a146ec</td>\n",
       "      <td>0.380297</td>\n",
       "      <td>3733.04844</td>\n",
       "      <td>85.200147</td>\n",
       "      <td>14.103738</td>\n",
       "      <td>8.138688</td>\n",
       "      <td>3.942255</td>\n",
       "      <td>0.054810</td>\n",
       "      <td>3.396778</td>\n",
       "      <td>102.151980</td>\n",
       "      <td>5728.73412</td>\n",
       "      <td>24.0108</td>\n",
       "      <td>324.546318</td>\n",
       "      <td>149.717165</td>\n",
       "      <td>6074.859475</td>\n",
       "      <td>257.432377</td>\n",
       "      <td>82.213495</td>\n",
       "      <td>0.536467</td>\n",
       "      <td>72.644264</td>\n",
       "      <td>30.537722</td>\n",
       "      <td>0.025472</td>\n",
       "      <td>1.050225</td>\n",
       "      <td>0.693150</td>\n",
       "      <td>31.724726</td>\n",
       "      <td>0.827550</td>\n",
       "      <td>34.415360</td>\n",
       "      <td>74.06532</td>\n",
       "      <td>200.178160</td>\n",
       "      <td>0.23868</td>\n",
       "      <td>0.207708</td>\n",
       "      <td>97.920120</td>\n",
       "      <td>52.83888</td>\n",
       "      <td>26.019912</td>\n",
       "      <td>1.144902</td>\n",
       "      <td>1.74307</td>\n",
       "      <td>9.064856</td>\n",
       "      <td>7.350720</td>\n",
       "      <td>3.490846</td>\n",
       "      <td>1403.656300</td>\n",
       "      <td>0.164268</td>\n",
       "      <td>B</td>\n",
       "      <td>109.125159</td>\n",
       "      <td>91.994825</td>\n",
       "      <td>51.141336</td>\n",
       "      <td>29.102640</td>\n",
       "      <td>4.274640</td>\n",
       "      <td>16198.049590</td>\n",
       "      <td>13.666727</td>\n",
       "      <td>8.153058</td>\n",
       "      <td>48.50134</td>\n",
       "      <td>0.121914</td>\n",
       "      <td>16.408728</td>\n",
       "      <td>146.109943</td>\n",
       "      <td>8524.370502</td>\n",
       "      <td>45.381316</td>\n",
       "      <td>36.262628</td>\n",
       "      <td>0.096614</td>\n",
       "      <td>1</td>\n",
       "    </tr>\n",
       "  </tbody>\n",
       "</table>\n",
       "</div>"
      ],
      "text/plain": [
       "             Id        AB          AF          AH         AM        AR  \\\n",
       "0  000ff2bfdfe9  0.209377  3109.03329   85.200147  22.394407  8.138688   \n",
       "1  007255e47698  0.145282   978.76416   85.200147  36.968889  8.138688   \n",
       "2  013f2bd269f5  0.470030  2635.10654   85.200147  32.360553  8.138688   \n",
       "3  043ac50845d5  0.252107  3819.65177  120.201618  77.112203  8.138688   \n",
       "4  044fb8a146ec  0.380297  3733.04844   85.200147  14.103738  8.138688   \n",
       "\n",
       "         AX        AY         AZ          BC          BD       BN          BP  \\\n",
       "0  0.699861  0.025578   9.812214    5.555634  4126.58731  22.5984  175.638726   \n",
       "1  3.632190  0.025578  13.517790    1.229900  5496.92824  19.4205  155.868030   \n",
       "2  6.732840  0.025578  12.824570    1.229900  5135.78024  26.4825  128.988531   \n",
       "3  3.685344  0.025578  11.053708    1.229900  4169.67738  23.6577  237.282264   \n",
       "4  3.942255  0.054810   3.396778  102.151980  5728.73412  24.0108  324.546318   \n",
       "\n",
       "           BQ           BR          BZ         CB        CC         CD  \\\n",
       "0  152.707705   823.928241  257.432377  47.223358  0.563481  23.387600   \n",
       "1   14.754720    51.216883  257.432377  30.284345  0.484710  50.628208   \n",
       "2  219.320160   482.141594  257.432377  32.563713  0.495852  85.955376   \n",
       "3   11.050410   661.518640  257.432377  15.201914  0.717882  88.159360   \n",
       "4  149.717165  6074.859475  257.432377  82.213495  0.536467  72.644264   \n",
       "\n",
       "          CF        CH        CL        CR         CS        CU         CW  \\\n",
       "0   4.851915  0.023482  1.050225  0.069225  13.784111  1.302012  36.205956   \n",
       "1   6.085041  0.031442  1.113875  1.117800  28.310953  1.357182  37.476568   \n",
       "2   5.376488  0.036218  1.050225  0.700350  39.364743  1.009611  21.459644   \n",
       "3   2.347652  0.029054  1.400300  0.636075  41.116960  0.722727  21.530392   \n",
       "4  30.537722  0.025472  1.050225  0.693150  31.724726  0.827550  34.415360   \n",
       "\n",
       "         DA          DE       DF        DH          DI        DL         DN  \\\n",
       "0  69.08340  295.570575  0.23868  0.284232   89.245560  84.31664  29.657104   \n",
       "1  70.79836  178.553100  0.23868  0.363489  110.581815  75.74548  37.532000   \n",
       "2  70.81970  321.426625  0.23868  0.210441  120.056438  65.46984  28.053464   \n",
       "3  47.27586  196.607985  0.23868  0.292431  139.824570  71.57120  24.354856   \n",
       "4  74.06532  200.178160  0.23868  0.207708   97.920120  52.83888  26.019912   \n",
       "\n",
       "         DU       DV         DY        EB        EE            EG        EH  \\\n",
       "0  5.310690  1.74307  23.187704  7.294176  1.987283   1433.166750  0.949104   \n",
       "1  0.005518  1.74307  17.222328  4.926396  0.858603   1111.287150  0.003042   \n",
       "2  1.289739  1.74307  36.861352  7.813674  8.146651   1494.076488  0.377208   \n",
       "3  2.655345  1.74307  52.003884  7.386060  3.813326  15691.552180  0.614484   \n",
       "4  1.144902  1.74307   9.064856  7.350720  3.490846   1403.656300  0.164268   \n",
       "\n",
       "  EJ          EL         EP         EU          FC         FD            FE  \\\n",
       "0  B   30.879420  78.526968   3.828384   13.394640  10.265073   9028.291921   \n",
       "1  A  109.125159  95.415086  52.260480   17.175984   0.296850   6785.003474   \n",
       "2  B  109.125159  78.526968   5.390628  224.207424   8.745201   8338.906181   \n",
       "3  B   31.674357  78.526968  31.323372   59.301984   7.884336  10965.766040   \n",
       "4  B  109.125159  91.994825  51.141336   29.102640   4.274640  16198.049590   \n",
       "\n",
       "          FI        FL        FR        FS         GB          GE  \\\n",
       "0   3.583450  7.298162   1.73855  0.094822  11.339138   72.611063   \n",
       "1  10.358927  0.173229   0.49706  0.568932   9.292698   72.611063   \n",
       "2  11.626917  7.709560   0.97556  1.198821  37.077772   88.609437   \n",
       "3  14.852022  6.122162   0.49706  0.284466  18.529584   82.416803   \n",
       "4  13.666727  8.153058  48.50134  0.121914  16.408728  146.109943   \n",
       "\n",
       "             GF         GH         GI         GL  Class  \n",
       "0   2003.810319  22.136229  69.834944   0.120343      1  \n",
       "1  27981.562750  29.135430  32.131996  21.978000      0  \n",
       "2  13676.957810  28.022851  35.192676   0.196941      0  \n",
       "3   2094.262452  39.948656  90.493248   0.155829      0  \n",
       "4   8524.370502  45.381316  36.262628   0.096614      1  "
      ]
     },
     "execution_count": 6,
     "metadata": {},
     "output_type": "execute_result"
    }
   ],
   "source": [
    "train_df.head()"
   ]
  },
  {
   "cell_type": "code",
   "execution_count": 7,
   "id": "918c56ac-8140-4959-ac34-a236b63c9464",
   "metadata": {},
   "outputs": [
    {
     "data": {
      "text/html": [
       "<div>\n",
       "<style scoped>\n",
       "    .dataframe tbody tr th:only-of-type {\n",
       "        vertical-align: middle;\n",
       "    }\n",
       "\n",
       "    .dataframe tbody tr th {\n",
       "        vertical-align: top;\n",
       "    }\n",
       "\n",
       "    .dataframe thead th {\n",
       "        text-align: right;\n",
       "    }\n",
       "</style>\n",
       "<table border=\"1\" class=\"dataframe\">\n",
       "  <thead>\n",
       "    <tr style=\"text-align: right;\">\n",
       "      <th></th>\n",
       "      <th>Id</th>\n",
       "      <th>Alpha</th>\n",
       "      <th>Beta</th>\n",
       "      <th>Gamma</th>\n",
       "      <th>Delta</th>\n",
       "      <th>Epsilon</th>\n",
       "    </tr>\n",
       "  </thead>\n",
       "  <tbody>\n",
       "    <tr>\n",
       "      <th>0</th>\n",
       "      <td>000ff2bfdfe9</td>\n",
       "      <td>B</td>\n",
       "      <td>C</td>\n",
       "      <td>G</td>\n",
       "      <td>D</td>\n",
       "      <td>3/19/2019</td>\n",
       "    </tr>\n",
       "    <tr>\n",
       "      <th>1</th>\n",
       "      <td>007255e47698</td>\n",
       "      <td>A</td>\n",
       "      <td>C</td>\n",
       "      <td>M</td>\n",
       "      <td>B</td>\n",
       "      <td>Unknown</td>\n",
       "    </tr>\n",
       "    <tr>\n",
       "      <th>2</th>\n",
       "      <td>013f2bd269f5</td>\n",
       "      <td>A</td>\n",
       "      <td>C</td>\n",
       "      <td>M</td>\n",
       "      <td>B</td>\n",
       "      <td>Unknown</td>\n",
       "    </tr>\n",
       "    <tr>\n",
       "      <th>3</th>\n",
       "      <td>043ac50845d5</td>\n",
       "      <td>A</td>\n",
       "      <td>C</td>\n",
       "      <td>M</td>\n",
       "      <td>B</td>\n",
       "      <td>Unknown</td>\n",
       "    </tr>\n",
       "    <tr>\n",
       "      <th>4</th>\n",
       "      <td>044fb8a146ec</td>\n",
       "      <td>D</td>\n",
       "      <td>B</td>\n",
       "      <td>F</td>\n",
       "      <td>B</td>\n",
       "      <td>3/25/2020</td>\n",
       "    </tr>\n",
       "  </tbody>\n",
       "</table>\n",
       "</div>"
      ],
      "text/plain": [
       "             Id Alpha Beta Gamma Delta    Epsilon\n",
       "0  000ff2bfdfe9     B    C     G     D  3/19/2019\n",
       "1  007255e47698     A    C     M     B    Unknown\n",
       "2  013f2bd269f5     A    C     M     B    Unknown\n",
       "3  043ac50845d5     A    C     M     B    Unknown\n",
       "4  044fb8a146ec     D    B     F     B  3/25/2020"
      ]
     },
     "execution_count": 7,
     "metadata": {},
     "output_type": "execute_result"
    }
   ],
   "source": [
    "greeks_df.head()"
   ]
  },
  {
   "cell_type": "code",
   "execution_count": 8,
   "id": "2081c836-2cba-4d51-bf33-e2eca58b06dd",
   "metadata": {},
   "outputs": [
    {
     "data": {
      "text/plain": [
       "([], [])"
      ]
     },
     "execution_count": 8,
     "metadata": {},
     "output_type": "execute_result"
    }
   ],
   "source": [
    "list(set(train_df.Id)-set(greeks_df.Id)), list(set(greeks_df.Id)-set(train_df.Id))"
   ]
  },
  {
   "cell_type": "code",
   "execution_count": 9,
   "id": "a26dcafb-2b0f-4218-be3f-9a2121a4a901",
   "metadata": {},
   "outputs": [],
   "source": [
    "# [train.csv] The training set\n",
    "#\n",
    "# - Id \n",
    "#   : Unique identifier for each observation.\n",
    "#\n",
    "# - AB-GL \n",
    "#   : Fifty-six anonymized health characteristics.\n",
    "#   : All are numeric except for EJ, which is categorical.\n",
    "#\n",
    "# - Class\n",
    "#   : A binary target\n",
    "#   : 1 indicates the subject has been diagnosed with one of the three conditions, \n",
    "#   : 0 indicates they have not.\n",
    "#\n",
    "# [greeks.csv] Supplemental metadata, only available for the training set.\n",
    "#\n",
    "# - Alpha\n",
    "#   : Identifies the type of age-related condition, if present.\n",
    "#   - A : No age-related condition. Corresponds to class 0\n",
    "#   - B, D, G : The three age-related conditions. Correspond to class 1\n",
    "# - Beta, Gamma, Delta\n",
    "#   : Three experimental characteristics.\n",
    "# - Epsilon\n",
    "#   : The date the data for this subject was collected.\n",
    "#   : Note that all of the data in the test set was collected after the training set was collected."
   ]
  },
  {
   "cell_type": "markdown",
   "id": "345d23c8-b5c5-4917-9cd4-620f0676b472",
   "metadata": {},
   "source": [
    "<br></br>"
   ]
  },
  {
   "cell_type": "markdown",
   "id": "314bb68c-0f21-46cd-8620-c7f14a446dc4",
   "metadata": {},
   "source": [
    "# Preprocess"
   ]
  },
  {
   "cell_type": "markdown",
   "id": "777d1b43-5563-43fb-9353-46ea2e1a294a",
   "metadata": {},
   "source": [
    "<br>"
   ]
  },
  {
   "cell_type": "markdown",
   "id": "e7101beb-397e-48e7-a290-b5b261e7be8c",
   "metadata": {},
   "source": [
    "## Add Interactions"
   ]
  },
  {
   "cell_type": "code",
   "execution_count": 10,
   "id": "bcc8bd77-660e-4d9d-bf6a-99eb1b0963ae",
   "metadata": {},
   "outputs": [],
   "source": [
    "import warnings\n",
    "class AddInteraction:\n",
    "    def __init__(self):\n",
    "        warnings.simplefilter(action='ignore', category=pd.errors.PerformanceWarning)\n",
    "        \n",
    "    def fit(self,features):\n",
    "        self.features = features\n",
    "        self.interaction_features = []\n",
    "        for i in range(len(self.features)):\n",
    "            for j in range(len(self.features)):\n",
    "                if i>j:\n",
    "                    col_i = self.features[i]\n",
    "                    col_j = self.features[j]\n",
    "                    self.interaction_features.append([col_i,col_j])\n",
    "                    \n",
    "    def transform(self,data):\n",
    "        d = data.copy()\n",
    "        for col_i,col_j in self.interaction_features:\n",
    "            d[f'{col_i}*{col_j}'] = d[col_i]*d[col_j]\n",
    "        return d"
   ]
  },
  {
   "cell_type": "code",
   "execution_count": 11,
   "id": "fc92f33d-4f5e-42d9-8413-8c0c30c0cdd8",
   "metadata": {},
   "outputs": [],
   "source": [
    "# define features type\n",
    "target_feature = 'Class'\n",
    "unuse_features = ['Id']\n",
    "cat_features = ['EJ']\n",
    "num_features = list(set(train_df.columns)-set([target_feature]+cat_features+unuse_features))"
   ]
  },
  {
   "cell_type": "code",
   "execution_count": 12,
   "id": "cb11e025-d124-4d07-b19c-f166dd7d5e89",
   "metadata": {},
   "outputs": [],
   "source": [
    "if CFG.ADD_INTERACTION:\n",
    "    interaction_maker = AddInteraction()\n",
    "    interaction_maker.fit(num_features)\n",
    "    train_df2 = interaction_maker.transform(train_df)\n",
    "    test_df2  = interaction_maker.transform(test_df)\n",
    "else:\n",
    "    train_df2 = train_df.copy()\n",
    "    test_df2  = test_df.copy()"
   ]
  },
  {
   "cell_type": "code",
   "execution_count": 13,
   "id": "84d71c3a-c463-48fc-83f4-01c93391f48c",
   "metadata": {},
   "outputs": [],
   "source": [
    "# define numerical type features\n",
    "num_features = list(set(train_df2.columns)-set([target_feature]+cat_features+unuse_features))"
   ]
  },
  {
   "cell_type": "markdown",
   "id": "913798aa-582f-4649-9401-467f03160738",
   "metadata": {},
   "source": [
    "<br>"
   ]
  },
  {
   "cell_type": "markdown",
   "id": "1760ae08-3008-49f9-a2fd-5689efa6c9eb",
   "metadata": {},
   "source": [
    "## Feature Selection"
   ]
  },
  {
   "cell_type": "markdown",
   "id": "26c9f82b-9d17-4a88-9da4-30357db3777c",
   "metadata": {},
   "source": [
    "### Numerical"
   ]
  },
  {
   "cell_type": "code",
   "execution_count": 14,
   "id": "b7daedf9-949a-42a1-aa63-8ed66a29b836",
   "metadata": {},
   "outputs": [],
   "source": [
    "from statsmodels.formula.api import ols\n",
    "from statsmodels.stats.anova import anova_lm"
   ]
  },
  {
   "cell_type": "code",
   "execution_count": 15,
   "id": "b753a414-9de0-4fe9-bd5b-573f6e7489a8",
   "metadata": {},
   "outputs": [],
   "source": [
    "def log_offset(x):\n",
    "    if min(x)>0:\n",
    "        offset = 0\n",
    "    elif min(x)==0:\n",
    "        offset = 1e-3\n",
    "    else:\n",
    "        offset = min(x)+1e-3\n",
    "        print('minimum = {:.3f}'.format(min(x)))\n",
    "    return np.log(x+offset)"
   ]
  },
  {
   "cell_type": "code",
   "execution_count": 16,
   "id": "7a654d88-808a-424c-b822-1718793ce684",
   "metadata": {},
   "outputs": [
    {
     "name": "stderr",
     "output_type": "stream",
     "text": [
      "100%|██████████| 1540/1540 [00:10<00:00, 151.86it/s]\n"
     ]
    }
   ],
   "source": [
    "pvalue_list = []\n",
    "for col in tqdm(num_features):\n",
    "    ols_data = train_df2[[col,target_feature]].copy()\n",
    "    ols_data.columns = ['feature','target']\n",
    "\n",
    "    formula = 'feature ~ C(target)'\n",
    "    model = ols(formula=formula,data=ols_data).fit()\n",
    "    pvalue = anova_lm(model)['PR(>F)']['C(target)']\n",
    "    \n",
    "    pvalue_list.append([col,pvalue])\n",
    "    \n",
    "pvalue_df = pd.DataFrame(pvalue_list,columns=['feature','pvalue']).sort_values('pvalue',ascending=False)\n",
    "unsignificant_features = pvalue_df[pvalue_df.pvalue>CFG.FS_ALPHA].feature.tolist()"
   ]
  },
  {
   "cell_type": "code",
   "execution_count": 17,
   "id": "cbc5d7af-654c-4d41-a572-9a66d5a0cc23",
   "metadata": {},
   "outputs": [
    {
     "name": "stderr",
     "output_type": "stream",
     "text": [
      "100%|██████████| 825/825 [00:05<00:00, 145.72it/s]\n"
     ]
    }
   ],
   "source": [
    "log_pvalue_list = []\n",
    "for col in tqdm(unsignificant_features):\n",
    "    ols_data = train_df2[[col,target_feature]].copy()\n",
    "    ols_data.columns = ['feature','target']\n",
    "    ols_data['feature'] = log_offset(ols_data['feature'])\n",
    "\n",
    "    formula = 'feature ~ C(target)'\n",
    "    model = ols(formula=formula,data=ols_data).fit()\n",
    "    pvalue = anova_lm(model)['PR(>F)']['C(target)']\n",
    "    \n",
    "    log_pvalue_list.append([col,pvalue])\n",
    "    \n",
    "log_pvalue_df = pd.DataFrame(log_pvalue_list,columns=['feature','pvalue']).sort_values('pvalue',ascending=False)\n",
    "delete_features = log_pvalue_df[log_pvalue_df.pvalue>CFG.FS_ALPHA].feature.tolist()"
   ]
  },
  {
   "cell_type": "code",
   "execution_count": 18,
   "id": "a9e7dd36-1579-4c4e-9299-d50a9bcee6f8",
   "metadata": {},
   "outputs": [],
   "source": [
    "train_df3 = train_df2.copy()\n",
    "test_df3  = test_df2.copy()\n",
    "\n",
    "train_df3.drop(columns=delete_features,inplace=True)\n",
    "test_df3 .drop(columns=delete_features,inplace=True)\n",
    "\n",
    "log_features = list(set(unsignificant_features)-set(delete_features))\n",
    "for col in log_features:\n",
    "    train_df3[col] = log_offset(train_df3[col])\n",
    "    test_df3 [col] = log_offset(test_df3 [col])"
   ]
  },
  {
   "cell_type": "code",
   "execution_count": 19,
   "id": "5890dfa4-768e-470a-b946-e5068565532c",
   "metadata": {},
   "outputs": [
    {
     "data": {
      "text/plain": [
       "((617, 1543), (617, 990))"
      ]
     },
     "execution_count": 19,
     "metadata": {},
     "output_type": "execute_result"
    }
   ],
   "source": [
    "train_df2.shape,train_df3.shape"
   ]
  },
  {
   "cell_type": "code",
   "execution_count": 20,
   "id": "2daacdfe-9c7e-4711-8323-a354d422975b",
   "metadata": {},
   "outputs": [],
   "source": [
    "# define features type\n",
    "target_feature = 'Class'\n",
    "unuse_features = ['Id']\n",
    "cat_features = ['EJ']\n",
    "num_features = list(set(train_df3.columns)-set([target_feature]+cat_features+unuse_features))"
   ]
  },
  {
   "cell_type": "markdown",
   "id": "1e15dcce-1919-4744-aa92-f72c53df8e3f",
   "metadata": {},
   "source": [
    "<br></br>"
   ]
  },
  {
   "cell_type": "markdown",
   "id": "84154860-5e28-4f35-9899-3031764fc370",
   "metadata": {},
   "source": [
    "# Modeling"
   ]
  },
  {
   "cell_type": "markdown",
   "id": "94380d98-edb0-422b-bd75-14070307a420",
   "metadata": {},
   "source": [
    "- No Interaction, Binary\n",
    "- No Interaction, MultiClass\n",
    "- Interaction, Binary\n",
    "- Interaction, MultiClass"
   ]
  },
  {
   "cell_type": "code",
   "execution_count": 21,
   "id": "4147f32b-68b1-4b9e-84eb-a73f40abf3ae",
   "metadata": {},
   "outputs": [],
   "source": [
    "from sklearn.utils.class_weight import compute_class_weight\n",
    "from catboost import CatBoostClassifier, Pool\n",
    "from sklearn.model_selection import StratifiedKFold"
   ]
  },
  {
   "cell_type": "code",
   "execution_count": 22,
   "id": "d2b02541-57ff-4ef1-b4de-77d560bda693",
   "metadata": {},
   "outputs": [],
   "source": [
    "def balanced_log_loss(y_true, y_pred):\n",
    "    N_0 = np.sum(1 - y_true)\n",
    "    N_1 = np.sum(y_true)\n",
    "    p_1 = np.clip(y_pred, 1e-15, 1 - 1e-15)\n",
    "    p_0 = 1 - p_1\n",
    "    log_loss_0 = -np.sum((1 - y_true) * np.log(p_0))\n",
    "    log_loss_1 = -np.sum(y_true * np.log(p_1))\n",
    "    w_0 = 1 / N_0\n",
    "    w_1 = 1 / N_1\n",
    "    _balanced_log_loss = 2*(w_0 * log_loss_0 + w_1 * log_loss_1) / (w_0 + w_1)\n",
    "    return _balanced_log_loss/(N_0+N_1)"
   ]
  },
  {
   "cell_type": "code",
   "execution_count": 23,
   "id": "e725241a-1f00-42d3-95f5-5a19940eab64",
   "metadata": {},
   "outputs": [],
   "source": [
    "# from sklearn.metrics import log_loss\n",
    "# from numba import njit\n",
    "\n",
    "# @njit\n",
    "# def balanced_log_loss(y_true, y_pred):\n",
    "#     N_0 = np.sum(1 - y_true)\n",
    "#     N_1 = np.sum(y_true)\n",
    "#     p_1 = np.clip(y_pred, 1e-15, 1 - 1e-15)\n",
    "#     p_0 = 1 - p_1\n",
    "#     log_loss_0 = -np.sum((1 - y_true) * np.log(p_0))\n",
    "#     log_loss_1 = -np.sum(y_true * np.log(p_1))\n",
    "#     w_0 = 1 / N_0\n",
    "#     w_1 = 1 / N_1\n",
    "#     _balanced_log_loss = 2*(w_0 * log_loss_0 + w_1 * log_loss_1) / (w_0 + w_1)\n",
    "#     return _balanced_log_loss/(N_0+N_1)\n",
    "\n",
    "\n",
    "# class BalancedLogLoss(object):\n",
    "#     def get_final_error(self, error, weight):\n",
    "#         return error / (weight + 1e-15)\n",
    "    \n",
    "#     def is_max_optimal(self):\n",
    "#         return False\n",
    "    \n",
    "#     def evaluate(self, approxes, target, weight):\n",
    "#         assert len(approxes) == 1\n",
    "#         assert len(target) == len(approxes[0])\n",
    "#         loss = balanced_log_loss(y_true=target,y_pred=approxes[0])\n",
    "#         return loss, np.sum(weight)"
   ]
  },
  {
   "cell_type": "code",
   "execution_count": 24,
   "id": "7c1899e8-bf75-43c7-8a65-d3279a3ac667",
   "metadata": {},
   "outputs": [],
   "source": [
    "params = {\n",
    "    'random_state' : CFG.SEED,\n",
    "    'iterations' : CFG.EPOCHS,\n",
    "    'early_stopping_rounds' : CFG.ES,\n",
    "    'metric_period' : CFG.EPOCHS//10,\n",
    "    'learning_rate' : CFG.LR,\n",
    "    'allow_writing_files' : False,\n",
    "    'loss_function' : 'MultiClass',\n",
    "    'eval_metric' : 'MultiClass:use_weights=False',\n",
    "    'auto_class_weights' : 'Balanced',\n",
    "    'use_best_model' : True,\n",
    "    'l2_leaf_reg' : 1,\n",
    "    'grow_policy' : 'Lossguide',\n",
    "    'max_ctr_complexity' : 15,\n",
    "    'max_depth' : 10,\n",
    "    'max_leaves' : 64,\n",
    "    'min_data_in_leaf' : 40,\n",
    "}"
   ]
  },
  {
   "cell_type": "code",
   "execution_count": 25,
   "id": "27908861-8dfc-49a5-a079-64eb29c026ed",
   "metadata": {},
   "outputs": [
    {
     "name": "stderr",
     "output_type": "stream",
     "text": [
      "  0%|          | 0/5 [00:00<?, ?it/s]Warning: Overfitting detector is active, thus evaluation metric is calculated on every iteration. 'metric_period' is ignored for evaluation metric.\n"
     ]
    },
    {
     "name": "stdout",
     "output_type": "stream",
     "text": [
      "0:\tlearn: 0.6926406\ttest: 0.6927058\tbest: 0.6927058 (0)\ttotal: 125ms\tremaining: 1h 44m 9s\n",
      "5000:\tlearn: 0.0909479\ttest: 0.2082547\tbest: 0.2082547 (5000)\ttotal: 4m 27s\tremaining: 40m 6s\n",
      "10000:\tlearn: 0.0186619\ttest: 0.1689961\tbest: 0.1689745 (9985)\ttotal: 8m 16s\tremaining: 33m 4s\n",
      "Stopped by overfitting detector  (300 iterations wait)\n",
      "\n",
      "bestTest = 0.1681398815\n",
      "bestIteration = 12075\n",
      "\n",
      "Shrink model to first 12076 iterations.\n"
     ]
    },
    {
     "name": "stderr",
     "output_type": "stream",
     "text": [
      " 20%|██        | 1/5 [09:52<39:31, 592.84s/it]"
     ]
    },
    {
     "name": "stdout",
     "output_type": "stream",
     "text": [
      "Balanced Log Loss: 0.1425\n",
      "0:\tlearn: 0.6926638\ttest: 0.6927337\tbest: 0.6927337 (0)\ttotal: 51.8ms\tremaining: 43m 11s\n"
     ]
    },
    {
     "name": "stderr",
     "output_type": "stream",
     "text": [
      "Warning: Overfitting detector is active, thus evaluation metric is calculated on every iteration. 'metric_period' is ignored for evaluation metric.\n"
     ]
    },
    {
     "name": "stdout",
     "output_type": "stream",
     "text": [
      "5000:\tlearn: 0.0909475\ttest: 0.2229898\tbest: 0.2229898 (5000)\ttotal: 4m 38s\tremaining: 41m 44s\n",
      "10000:\tlearn: 0.0181292\ttest: 0.1670946\tbest: 0.1670946 (10000)\ttotal: 8m 30s\tremaining: 34m 3s\n",
      "Stopped by overfitting detector  (300 iterations wait)\n",
      "\n",
      "bestTest = 0.1624942923\n",
      "bestIteration = 13158\n",
      "\n",
      "Shrink model to first 13159 iterations.\n"
     ]
    },
    {
     "name": "stderr",
     "output_type": "stream",
     "text": [
      " 40%|████      | 2/5 [20:47<31:27, 629.09s/it]"
     ]
    },
    {
     "name": "stdout",
     "output_type": "stream",
     "text": [
      "Balanced Log Loss: 0.0988\n"
     ]
    },
    {
     "name": "stderr",
     "output_type": "stream",
     "text": [
      "Warning: Overfitting detector is active, thus evaluation metric is calculated on every iteration. 'metric_period' is ignored for evaluation metric.\n"
     ]
    },
    {
     "name": "stdout",
     "output_type": "stream",
     "text": [
      "0:\tlearn: 0.6925223\ttest: 0.6924854\tbest: 0.6924854 (0)\ttotal: 50.3ms\tremaining: 41m 52s\n",
      "5000:\tlearn: 0.0935762\ttest: 0.1797091\tbest: 0.1797091 (5000)\ttotal: 4m 18s\tremaining: 38m 41s\n",
      "10000:\tlearn: 0.0187822\ttest: 0.1340759\tbest: 0.1340759 (10000)\ttotal: 8m 12s\tremaining: 32m 48s\n",
      "Stopped by overfitting detector  (300 iterations wait)\n",
      "\n",
      "bestTest = 0.1308734517\n",
      "bestIteration = 12414\n",
      "\n",
      "Shrink model to first 12415 iterations.\n"
     ]
    },
    {
     "name": "stderr",
     "output_type": "stream",
     "text": [
      " 60%|██████    | 3/5 [30:55<20:38, 619.37s/it]"
     ]
    },
    {
     "name": "stdout",
     "output_type": "stream",
     "text": [
      "Balanced Log Loss: 0.1558\n",
      "0:\tlearn: 0.6926368\ttest: 0.6926080\tbest: 0.6926080 (0)\ttotal: 52.3ms\tremaining: 43m 33s\n"
     ]
    },
    {
     "name": "stderr",
     "output_type": "stream",
     "text": [
      "Warning: Overfitting detector is active, thus evaluation metric is calculated on every iteration. 'metric_period' is ignored for evaluation metric.\n"
     ]
    },
    {
     "name": "stdout",
     "output_type": "stream",
     "text": [
      "5000:\tlearn: 0.0912916\ttest: 0.1867547\tbest: 0.1867547 (5000)\ttotal: 4m 15s\tremaining: 38m 22s\n",
      "10000:\tlearn: 0.0182723\ttest: 0.1501732\tbest: 0.1499930 (9735)\ttotal: 7m 59s\tremaining: 31m 59s\n",
      "Stopped by overfitting detector  (300 iterations wait)\n",
      "\n",
      "bestTest = 0.1499929522\n",
      "bestIteration = 9735\n",
      "\n",
      "Shrink model to first 9736 iterations.\n"
     ]
    },
    {
     "name": "stderr",
     "output_type": "stream",
     "text": [
      " 80%|████████  | 4/5 [38:57<09:25, 565.20s/it]"
     ]
    },
    {
     "name": "stdout",
     "output_type": "stream",
     "text": [
      "Balanced Log Loss: 0.1585\n"
     ]
    },
    {
     "name": "stderr",
     "output_type": "stream",
     "text": [
      "Warning: Overfitting detector is active, thus evaluation metric is calculated on every iteration. 'metric_period' is ignored for evaluation metric.\n"
     ]
    },
    {
     "name": "stdout",
     "output_type": "stream",
     "text": [
      "0:\tlearn: 0.6925250\ttest: 0.6927122\tbest: 0.6927122 (0)\ttotal: 55ms\tremaining: 45m 52s\n",
      "5000:\tlearn: 0.0876065\ttest: 0.2147668\tbest: 0.2147668 (5000)\ttotal: 4m 16s\tremaining: 38m 26s\n",
      "Stopped by overfitting detector  (300 iterations wait)\n",
      "\n",
      "bestTest = 0.1925224447\n",
      "bestIteration = 7589\n",
      "\n",
      "Shrink model to first 7590 iterations.\n"
     ]
    },
    {
     "name": "stderr",
     "output_type": "stream",
     "text": [
      "100%|██████████| 5/5 [45:26<00:00, 545.30s/it]"
     ]
    },
    {
     "name": "stdout",
     "output_type": "stream",
     "text": [
      "Balanced Log Loss: 0.2167\n"
     ]
    },
    {
     "name": "stderr",
     "output_type": "stream",
     "text": [
      "\n"
     ]
    }
   ],
   "source": [
    "%%time\n",
    "\n",
    "skf = StratifiedKFold(n_splits=CFG.N_SPLITS,shuffle=True,random_state=CFG.SEED)\n",
    "\n",
    "X = train_df3[cat_features+num_features]\n",
    "y = train_df3[target_feature]\n",
    "\n",
    "models = []\n",
    "loss = []\n",
    "weights = []\n",
    "for train_idx, val_idx in tqdm(skf.split(X,y),total=CFG.N_SPLITS):\n",
    "    X_train, y_train = X.iloc[train_idx], y.iloc[train_idx]\n",
    "    X_val  , y_val   = X.iloc[val_idx]  , y.iloc[val_idx]\n",
    "    \n",
    "    train_dataset = Pool(X_train,y_train,cat_features=cat_features)\n",
    "    val_dataset   = Pool(X_val  ,y_val  ,cat_features=cat_features)\n",
    "    \n",
    "    model = CatBoostClassifier(**params)\n",
    "    model.fit(\n",
    "        train_dataset,\n",
    "        eval_set=val_dataset,\n",
    "    )\n",
    "    _loss = balanced_log_loss(y_val.values, model.predict_proba(X_val)[:, 1])\n",
    "    print('Balanced Log Loss: {:.4f}'.format(_loss))\n",
    "    \n",
    "    models.append(model)\n",
    "    loss.append(_loss)"
   ]
  },
  {
   "cell_type": "markdown",
   "id": "bc8b2179-797a-4b58-83be-33050299db7c",
   "metadata": {},
   "source": [
    "<br></br>"
   ]
  },
  {
   "cell_type": "markdown",
   "id": "eee2f485-7f24-45c2-a7e6-3a749c8141d7",
   "metadata": {},
   "source": [
    "# Inference"
   ]
  },
  {
   "cell_type": "markdown",
   "id": "0f37adbf-c18f-4446-a2b9-2515e4b9722e",
   "metadata": {},
   "source": [
    "<br>"
   ]
  },
  {
   "cell_type": "markdown",
   "id": "8df02120-9c5f-490b-8c31-5631871e9923",
   "metadata": {},
   "source": [
    "## Train"
   ]
  },
  {
   "cell_type": "code",
   "execution_count": 26,
   "id": "4e57507f-a7ea-4297-9894-815cbe7c0ab4",
   "metadata": {},
   "outputs": [],
   "source": [
    "weights = 1/np.array(loss)\n",
    "weights /= sum(weights)"
   ]
  },
  {
   "cell_type": "code",
   "execution_count": 27,
   "id": "5895a6cb-82ba-43c9-a626-b309f244361a",
   "metadata": {},
   "outputs": [
    {
     "data": {
      "text/plain": [
       "array([0.20354879, 0.29356178, 0.18610282, 0.18297168, 0.13381492])"
      ]
     },
     "execution_count": 27,
     "metadata": {},
     "output_type": "execute_result"
    }
   ],
   "source": [
    "weights"
   ]
  },
  {
   "cell_type": "code",
   "execution_count": 28,
   "id": "4a669687-97fb-466f-8f68-5e11d150cd48",
   "metadata": {},
   "outputs": [
    {
     "data": {
      "text/plain": [
       "array([[0.02888468, 0.97111532],\n",
       "       [0.99605022, 0.00394978],\n",
       "       [0.96638477, 0.03361523],\n",
       "       ...,\n",
       "       [0.98868558, 0.01131442],\n",
       "       [0.99144951, 0.00855049],\n",
       "       [0.98994238, 0.01005762]])"
      ]
     },
     "execution_count": 28,
     "metadata": {},
     "output_type": "execute_result"
    }
   ],
   "source": [
    "dataset = Pool(X,y,cat_features=cat_features)\n",
    "\n",
    "y_probas = np.zeros((len(X),2))\n",
    "for weight,model in zip(weights,models):\n",
    "    y_probas[:, 0] += weight * model.predict_proba(dataset)[:, 0]\n",
    "    y_probas[:, 1] += weight * model.predict_proba(dataset)[:, 1]\n",
    "y_probas /= sum(weights)\n",
    "y_probas"
   ]
  },
  {
   "cell_type": "code",
   "execution_count": 29,
   "id": "b9b13de9-adb9-44d3-bbfb-50dd6b9a8c89",
   "metadata": {},
   "outputs": [
    {
     "data": {
      "text/plain": [
       "0.02335291447762833"
      ]
     },
     "execution_count": 29,
     "metadata": {},
     "output_type": "execute_result"
    }
   ],
   "source": [
    "balanced_log_loss(y_true=y,y_pred=y_probas[:,1])"
   ]
  },
  {
   "cell_type": "code",
   "execution_count": null,
   "id": "1c2ba2be-e648-42ec-927c-772142d8e651",
   "metadata": {},
   "outputs": [],
   "source": [
    "# 0.02449824840323153"
   ]
  },
  {
   "cell_type": "code",
   "execution_count": null,
   "id": "950a5ef6-7d2d-4ef3-b38c-849fd81d6af2",
   "metadata": {},
   "outputs": [],
   "source": [
    "pd.crosstab(y,[0 if p>q else 1 for p,q in y_probas])"
   ]
  },
  {
   "cell_type": "markdown",
   "id": "f5d7806f-b2ed-4a98-997e-b3cbbb44783e",
   "metadata": {},
   "source": [
    "<br>"
   ]
  },
  {
   "cell_type": "markdown",
   "id": "c10b1d02-eba1-43be-83da-d24872890099",
   "metadata": {},
   "source": [
    "## Test"
   ]
  },
  {
   "cell_type": "code",
   "execution_count": null,
   "id": "d594488a-3993-47f5-8ed2-bfe643a04a2e",
   "metadata": {},
   "outputs": [],
   "source": [
    "dataset = Pool(test_df3[cat_features+num_features],cat_features=cat_features)\n",
    "\n",
    "y_probas = np.zeros((len(test_df3),2))\n",
    "for weight,model in zip(weights,models):\n",
    "    y_probas[:, 0] += weight * model.predict_proba(dataset)[:, 0]\n",
    "    y_probas[:, 1] += weight * model.predict_proba(dataset)[:, 1]\n",
    "y_probas /= sum(weights)\n",
    "y_probas"
   ]
  },
  {
   "cell_type": "code",
   "execution_count": null,
   "id": "afeccf10-1632-4c06-b97d-6732743ac654",
   "metadata": {},
   "outputs": [],
   "source": [
    "# submit = pd.read_csv('./data/sample_submission.csv')\n",
    "submit = pd.read_csv(CFG.REF_PATH+'sample_submission.csv')\n",
    "submit['class_0'] = y_probas[:,0]\n",
    "submit['class_1'] = y_probas[:,1]"
   ]
  },
  {
   "cell_type": "code",
   "execution_count": null,
   "id": "919f2aba-ee3c-414f-a455-8c031d2dc15f",
   "metadata": {},
   "outputs": [],
   "source": [
    "submit.to_csv('/kaggle/working/submission.csv', index=False)"
   ]
  }
 ],
 "metadata": {
  "kernelspec": {
   "display_name": "Python 3",
   "language": "python",
   "name": "python3"
  },
  "language_info": {
   "codemirror_mode": {
    "name": "ipython",
    "version": 3
   },
   "file_extension": ".py",
   "mimetype": "text/x-python",
   "name": "python",
   "nbconvert_exporter": "python",
   "pygments_lexer": "ipython3",
   "version": "3.8.10"
  },
  "toc-autonumbering": true
 },
 "nbformat": 4,
 "nbformat_minor": 5
}
