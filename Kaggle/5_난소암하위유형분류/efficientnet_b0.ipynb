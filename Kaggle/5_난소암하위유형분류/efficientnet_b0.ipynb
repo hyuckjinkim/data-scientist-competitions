{
 "cells": [
  {
   "cell_type": "markdown",
   "id": "c560cf4f",
   "metadata": {
    "papermill": {
     "duration": 0.023846,
     "end_time": "2024-01-03T18:54:42.376749",
     "exception": false,
     "start_time": "2024-01-03T18:54:42.352903",
     "status": "completed"
    },
    "tags": []
   },
   "source": [
    "# Todo\n",
    "1. Grad CAM : [introduction](https://csm-kr.tistory.com/74), [kaggle code](https://www.kaggle.com/code/bonhart/inceptionv3-tta-grad-cam-pytorch)\n",
    "\n",
    "\n"
   ]
  },
  {
   "cell_type": "code",
   "execution_count": 1,
   "id": "913f9624",
   "metadata": {
    "execution": {
     "iopub.execute_input": "2024-01-03T18:54:42.424110Z",
     "iopub.status.busy": "2024-01-03T18:54:42.423698Z",
     "iopub.status.idle": "2024-01-03T18:54:42.428428Z",
     "shell.execute_reply": "2024-01-03T18:54:42.427573Z"
    },
    "papermill": {
     "duration": 0.031205,
     "end_time": "2024-01-03T18:54:42.430674",
     "exception": false,
     "start_time": "2024-01-03T18:54:42.399469",
     "status": "completed"
    },
    "tags": []
   },
   "outputs": [],
   "source": [
    "# !pip install torchsummary\n",
    "# from torchsummary import summary"
   ]
  },
  {
   "cell_type": "code",
   "execution_count": 2,
   "id": "4106e905",
   "metadata": {
    "execution": {
     "iopub.execute_input": "2024-01-03T18:54:42.476697Z",
     "iopub.status.busy": "2024-01-03T18:54:42.476006Z",
     "iopub.status.idle": "2024-01-03T18:54:42.479798Z",
     "shell.execute_reply": "2024-01-03T18:54:42.478982Z"
    },
    "papermill": {
     "duration": 0.027939,
     "end_time": "2024-01-03T18:54:42.481773",
     "exception": false,
     "start_time": "2024-01-03T18:54:42.453834",
     "status": "completed"
    },
    "tags": []
   },
   "outputs": [],
   "source": [
    "# https://www.kaggle.com/code/thatgeeman/uploading-a-large-dataset-to-kaggle-api\n",
    "# !pip install kaggle --user"
   ]
  },
  {
   "cell_type": "markdown",
   "id": "135b0aa7",
   "metadata": {
    "papermill": {
     "duration": 0.021233,
     "end_time": "2024-01-03T18:54:42.524575",
     "exception": false,
     "start_time": "2024-01-03T18:54:42.503342",
     "status": "completed"
    },
    "tags": []
   },
   "source": [
    "# Install from kaggle dataset"
   ]
  },
  {
   "cell_type": "code",
   "execution_count": 3,
   "id": "dffb557d",
   "metadata": {
    "execution": {
     "iopub.execute_input": "2024-01-03T18:54:42.571130Z",
     "iopub.status.busy": "2024-01-03T18:54:42.570754Z",
     "iopub.status.idle": "2024-01-03T18:54:42.576362Z",
     "shell.execute_reply": "2024-01-03T18:54:42.575396Z"
    },
    "papermill": {
     "duration": 0.031349,
     "end_time": "2024-01-03T18:54:42.578555",
     "exception": false,
     "start_time": "2024-01-03T18:54:42.547206",
     "status": "completed"
    },
    "tags": []
   },
   "outputs": [],
   "source": [
    "# # kaggle dataset 생성\n",
    "# # 참조 : https://www.kaggle.com/code/gunesevitan/libvips-pyvips-installation-and-getting-started\n",
    "# # 방법 : 아래의 코드로 zip파일 생성 -> 다운로드 -> 압축해제 -> kaggle dataset에 업로드\n",
    "\n",
    "# # (1) libvips\n",
    "\n",
    "# # download\n",
    "# !sudo apt-get update\n",
    "# !sudo apt-get install libvips-dev -y --no-install-recommends --download-only -o dir::cache='./'\n",
    "\n",
    "# # save\n",
    "# !mkdir ./libvips\n",
    "# !mv ./archives/* ./libvips\n",
    "# !rm -rf ./archives\n",
    "# !ls ./libvips\n",
    "# !zip libvips.zip libvips/*\n",
    "# !mv libvips/libvips.zip ./\n",
    "\n",
    "# # (2) pyvips\n",
    "# # download\n",
    "# !pip install pyvips\n",
    "# !pip wheel pyvips\n",
    "\n",
    "# # save\n",
    "# !mkdir pyvips\n",
    "# !mv *.whl ./pyvips\n",
    "# !zip pyvips/pyvips.zip pyvips/*\n",
    "# !mv pyvips/pyvips.zip ./\n",
    "\n",
    "# # (3) torch_optimizer\n",
    "# # download\n",
    "# !pip install -q torch_optimizer\n",
    "# !pip wheel torch_optimizer\n",
    "\n",
    "# # save\n",
    "# !mkdir torch_optimizer\n",
    "# !mv *.whl ./torch_optimizer\n",
    "# !zip torch_optimizer/torch_optimizer.zip torch_optimizer/*\n",
    "# !mv torch_optimizer/torch_optimizer.zip ./"
   ]
  },
  {
   "cell_type": "code",
   "execution_count": 4,
   "id": "c959f083",
   "metadata": {
    "execution": {
     "iopub.execute_input": "2024-01-03T18:54:42.627531Z",
     "iopub.status.busy": "2024-01-03T18:54:42.626641Z",
     "iopub.status.idle": "2024-01-03T18:55:34.758924Z",
     "shell.execute_reply": "2024-01-03T18:55:34.757665Z"
    },
    "papermill": {
     "duration": 52.158974,
     "end_time": "2024-01-03T18:55:34.761637",
     "exception": false,
     "start_time": "2024-01-03T18:54:42.602663",
     "status": "completed"
    },
    "tags": []
   },
   "outputs": [
    {
     "name": "stdout",
     "output_type": "stream",
     "text": [
      "yes: standard output: Broken pipe\r\n"
     ]
    }
   ],
   "source": [
    "PACKAGE_DATASET = 'pip-packages-ubc'\n",
    "\n",
    "!yes | sudo dpkg -i /kaggle/input/{PACKAGE_DATASET}/libvips/*.deb >/dev/null 2>&1\n",
    "!pip install -q pyvips -f /kaggle/input/{PACKAGE_DATASET}/pyvips/ --no-index\n",
    "!pip install -q torch_optimizer -f /kaggle/input/{PACKAGE_DATASET}/torch_optimizer/ --no-index"
   ]
  },
  {
   "cell_type": "markdown",
   "id": "db3c8377",
   "metadata": {
    "papermill": {
     "duration": 0.023359,
     "end_time": "2024-01-03T18:55:34.808866",
     "exception": false,
     "start_time": "2024-01-03T18:55:34.785507",
     "status": "completed"
    },
    "tags": []
   },
   "source": [
    "# Import Libraries"
   ]
  },
  {
   "cell_type": "code",
   "execution_count": 5,
   "id": "c38e1680",
   "metadata": {
    "execution": {
     "iopub.execute_input": "2024-01-03T18:55:34.912204Z",
     "iopub.status.busy": "2024-01-03T18:55:34.911695Z",
     "iopub.status.idle": "2024-01-03T18:55:35.358199Z",
     "shell.execute_reply": "2024-01-03T18:55:35.357172Z"
    },
    "papermill": {
     "duration": 0.474505,
     "end_time": "2024-01-03T18:55:35.360798",
     "exception": false,
     "start_time": "2024-01-03T18:55:34.886293",
     "status": "completed"
    },
    "tags": []
   },
   "outputs": [],
   "source": [
    "import pyvips"
   ]
  },
  {
   "cell_type": "code",
   "execution_count": 6,
   "id": "770621b8",
   "metadata": {
    "_cell_guid": "b1076dfc-b9ad-4769-8c92-a6c4dae69d19",
    "_uuid": "8f2839f25d086af736a60e9eeb907d3b93b6e0e5",
    "execution": {
     "iopub.execute_input": "2024-01-03T18:55:35.407871Z",
     "iopub.status.busy": "2024-01-03T18:55:35.406956Z",
     "iopub.status.idle": "2024-01-03T18:55:45.872719Z",
     "shell.execute_reply": "2024-01-03T18:55:45.871511Z"
    },
    "papermill": {
     "duration": 10.492154,
     "end_time": "2024-01-03T18:55:45.875575",
     "exception": false,
     "start_time": "2024-01-03T18:55:35.383421",
     "status": "completed"
    },
    "tags": []
   },
   "outputs": [
    {
     "name": "stderr",
     "output_type": "stream",
     "text": [
      "/opt/conda/lib/python3.10/site-packages/scipy/__init__.py:146: UserWarning: A NumPy version >=1.16.5 and <1.23.0 is required for this version of SciPy (detected version 1.24.3\n",
      "  warnings.warn(f\"A NumPy version >={np_minversion} and <{np_maxversion}\"\n"
     ]
    }
   ],
   "source": [
    "import os\n",
    "import gc\n",
    "import cv2\n",
    "import math\n",
    "import copy\n",
    "from copy import deepcopy\n",
    "import time\n",
    "import random\n",
    "import glob\n",
    "\n",
    "from PIL import Image\n",
    "from matplotlib import pyplot as plt\n",
    "\n",
    "# For data manipulation\n",
    "import numpy as np\n",
    "import pandas as pd\n",
    "\n",
    "# Pytorch Imports\n",
    "import torch\n",
    "import torch.nn as nn\n",
    "import torch.optim as optim\n",
    "import torch.nn.functional as F\n",
    "from torch.optim import lr_scheduler\n",
    "from torch.utils.data import Dataset, DataLoader\n",
    "from torch.cuda import amp\n",
    "import torchvision\n",
    "from torchmetrics.classification import MulticlassAccuracy, MulticlassF1Score\n",
    "\n",
    "# Pytorch Lightning Imports\n",
    "import pytorch_lightning as pl\n",
    "from pytorch_lightning.callbacks import EarlyStopping, ModelCheckpoint\n",
    "\n",
    "# Torch Optimizer\n",
    "from torch_optimizer import AdaBound, RAdam, Yogi\n",
    "\n",
    "# Utils\n",
    "import multiprocessing as mp\n",
    "from joblib import Parallel, delayed\n",
    "from tqdm.auto import tqdm, trange\n",
    "# from collections import defaultdict\n",
    "\n",
    "# Image Packages\n",
    "from PIL import Image\n",
    "\n",
    "# Sklearn Imports\n",
    "from sklearn.preprocessing import LabelEncoder\n",
    "from sklearn.model_selection import train_test_split #StratifiedKFold\n",
    "from sklearn.metrics import accuracy_score, f1_score, balanced_accuracy_score\n",
    "\n",
    "# For Image Models\n",
    "import timm\n",
    "\n",
    "# Albumentations for augmentations\n",
    "#import albumentations as A\n",
    "#from albumentations.pytorch import ToTensorV2\n",
    "from torchvision import transforms as T\n",
    "# from torchvision.transforms import InterpolationMode\n",
    "\n",
    "import warnings\n",
    "warnings.filterwarnings(\"ignore\")\n",
    "\n",
    "# For descriptive error messages\n",
    "os.environ['CUDA_LAUNCH_BLOCKING'] = \"1\"\n",
    "\n",
    "# For VIPS\n",
    "os.environ['VIPS_CONCURRENCY'] = '4'\n",
    "# set VIPS_DISC_THRESHOLD to a small number to prefer the use of disc, set it to a large number to prefer RAM\n",
    "os.environ['VIPS_DISC_THRESHOLD'] = '15gb'"
   ]
  },
  {
   "cell_type": "code",
   "execution_count": 7,
   "id": "027f7328",
   "metadata": {
    "execution": {
     "iopub.execute_input": "2024-01-03T18:55:45.928390Z",
     "iopub.status.busy": "2024-01-03T18:55:45.927553Z",
     "iopub.status.idle": "2024-01-03T18:55:45.933576Z",
     "shell.execute_reply": "2024-01-03T18:55:45.932626Z"
    },
    "papermill": {
     "duration": 0.031772,
     "end_time": "2024-01-03T18:55:45.935640",
     "exception": false,
     "start_time": "2024-01-03T18:55:45.903868",
     "status": "completed"
    },
    "tags": []
   },
   "outputs": [],
   "source": [
    "import os\n",
    "def mkdir(paths,verbose=True)->None:\n",
    "    if isinstance(paths,str):\n",
    "        paths = [paths]\n",
    "    for path in paths:\n",
    "        if not os.path.exists(path):\n",
    "            os.mkdir(path)\n",
    "            if verbose:\n",
    "                print('directory created: {}'.format(path))"
   ]
  },
  {
   "cell_type": "code",
   "execution_count": 8,
   "id": "27a6bc0c",
   "metadata": {
    "execution": {
     "iopub.execute_input": "2024-01-03T18:55:45.985075Z",
     "iopub.status.busy": "2024-01-03T18:55:45.984097Z",
     "iopub.status.idle": "2024-01-03T18:55:45.991147Z",
     "shell.execute_reply": "2024-01-03T18:55:45.990181Z"
    },
    "papermill": {
     "duration": 0.034065,
     "end_time": "2024-01-03T18:55:45.993281",
     "exception": false,
     "start_time": "2024-01-03T18:55:45.959216",
     "status": "completed"
    },
    "tags": []
   },
   "outputs": [],
   "source": [
    "def set_seed(seed=42):\n",
    "    '''\n",
    "    Sets the seed of the entire notebook so results are the same every time we run.\n",
    "    This is for REPRODUCIBILITY.\n",
    "    '''\n",
    "    random.seed(seed)\n",
    "    np.random.seed(seed)\n",
    "    torch.manual_seed(seed)\n",
    "    torch.cuda.manual_seed(seed)\n",
    "    # When running on the CuDNN backend, two further options must be set\n",
    "    torch.backends.cudnn.deterministic = True\n",
    "    torch.backends.cudnn.benchmark = False\n",
    "    # Set a fixed value for the hash seed\n",
    "    os.environ['PYTHONHASHSEED'] = str(seed)"
   ]
  },
  {
   "cell_type": "code",
   "execution_count": 9,
   "id": "cbeaf0bc",
   "metadata": {
    "execution": {
     "iopub.execute_input": "2024-01-03T18:55:46.039838Z",
     "iopub.status.busy": "2024-01-03T18:55:46.038918Z",
     "iopub.status.idle": "2024-01-03T18:55:46.044448Z",
     "shell.execute_reply": "2024-01-03T18:55:46.043532Z"
    },
    "papermill": {
     "duration": 0.030591,
     "end_time": "2024-01-03T18:55:46.046546",
     "exception": false,
     "start_time": "2024-01-03T18:55:46.015955",
     "status": "completed"
    },
    "tags": []
   },
   "outputs": [],
   "source": [
    "def flush():\n",
    "    while True:\n",
    "        k = gc.collect()\n",
    "        if k==0:\n",
    "            break\n",
    "    if torch.cuda.is_available():\n",
    "        torch.cuda.empty_cache()\n",
    "        torch.cuda.reset_peak_memory_stats()"
   ]
  },
  {
   "cell_type": "code",
   "execution_count": 10,
   "id": "ff93b2cd",
   "metadata": {
    "execution": {
     "iopub.execute_input": "2024-01-03T18:55:46.092762Z",
     "iopub.status.busy": "2024-01-03T18:55:46.091871Z",
     "iopub.status.idle": "2024-01-03T18:55:46.096622Z",
     "shell.execute_reply": "2024-01-03T18:55:46.095760Z"
    },
    "papermill": {
     "duration": 0.030759,
     "end_time": "2024-01-03T18:55:46.098692",
     "exception": false,
     "start_time": "2024-01-03T18:55:46.067933",
     "status": "completed"
    },
    "tags": []
   },
   "outputs": [],
   "source": [
    "# !pip install GPUtil\n",
    "\n",
    "# import torch\n",
    "# from GPUtil import showUtilization as gpu_usage\n",
    "# from numba import cuda\n",
    "\n",
    "# def free_gpu_cache():\n",
    "#     print(\"Initial GPU Usage\")\n",
    "#     gpu_usage()\n",
    "\n",
    "#     torch.cuda.empty_cache()\n",
    "\n",
    "#     cuda.select_device(0)\n",
    "#     cuda.close()\n",
    "#     cuda.select_device(0)\n",
    "\n",
    "#     print(\"GPU Usage after emptying the cache\")\n",
    "#     gpu_usage()\n",
    "\n",
    "# free_gpu_cache()           "
   ]
  },
  {
   "cell_type": "markdown",
   "id": "7210118a",
   "metadata": {
    "papermill": {
     "duration": 0.02299,
     "end_time": "2024-01-03T18:55:46.144528",
     "exception": false,
     "start_time": "2024-01-03T18:55:46.121538",
     "status": "completed"
    },
    "tags": []
   },
   "source": [
    "<br>\n",
    "\n",
    "# Configure Setting"
   ]
  },
  {
   "cell_type": "code",
   "execution_count": 11,
   "id": "5d97196f",
   "metadata": {
    "execution": {
     "iopub.execute_input": "2024-01-03T18:55:46.193266Z",
     "iopub.status.busy": "2024-01-03T18:55:46.192546Z",
     "iopub.status.idle": "2024-01-03T18:55:46.196910Z",
     "shell.execute_reply": "2024-01-03T18:55:46.195936Z"
    },
    "papermill": {
     "duration": 0.030808,
     "end_time": "2024-01-03T18:55:46.199027",
     "exception": false,
     "start_time": "2024-01-03T18:55:46.168219",
     "status": "completed"
    },
    "tags": []
   },
   "outputs": [],
   "source": [
    "# [m for m in timm.list_models() if m.startswith('efficientnet')]\n",
    "# [m for m in timm.list_models() if m.startswith('res')]"
   ]
  },
  {
   "cell_type": "code",
   "execution_count": 12,
   "id": "de5c4329",
   "metadata": {
    "execution": {
     "iopub.execute_input": "2024-01-03T18:55:46.246030Z",
     "iopub.status.busy": "2024-01-03T18:55:46.245023Z",
     "iopub.status.idle": "2024-01-03T18:55:46.261024Z",
     "shell.execute_reply": "2024-01-03T18:55:46.260005Z"
    },
    "papermill": {
     "duration": 0.041932,
     "end_time": "2024-01-03T18:55:46.263441",
     "exception": false,
     "start_time": "2024-01-03T18:55:46.221509",
     "status": "completed"
    },
    "tags": []
   },
   "outputs": [],
   "source": [
    "class CFG:\n",
    "    \n",
    "    # Path\n",
    "    ROOT_DIR = '/kaggle/input/UBC-OCEAN'\n",
    "    TRAIN_IMAGE_DIR = os.path.join(ROOT_DIR,'train_images')\n",
    "    TRAIN_THUMBNAIL_DIR = os.path.join(ROOT_DIR,'train_thumbnails')\n",
    "    TEST_IMAGE_DIR = os.path.join(ROOT_DIR,'test_images')\n",
    "    TEST_THUMBNAIL_DIR = os.path.join(ROOT_DIR,'test_thumbnails')\n",
    "    \n",
    "    # Hyper-parameter\n",
    "    SEED = 42\n",
    "    IMG_SIZE = 1024 #2048\n",
    "    MODEL_NAME =  'efficientnet_b0' # 'tf_efficientnetv2_s_in21ft1k', \"efficientnet_b0\"\n",
    "    NUM_CLASSES = 5\n",
    "    #BATCH_SIZE = 8 # for train\n",
    "    BATCH_SIZE = 1 # for submission\n",
    "    DEVICE = torch.device(\"cuda:0\" if torch.cuda.is_available() else \"cpu\")"
   ]
  },
  {
   "cell_type": "code",
   "execution_count": 13,
   "id": "b11194cf",
   "metadata": {
    "execution": {
     "iopub.execute_input": "2024-01-03T18:55:46.313250Z",
     "iopub.status.busy": "2024-01-03T18:55:46.312857Z",
     "iopub.status.idle": "2024-01-03T18:55:46.317034Z",
     "shell.execute_reply": "2024-01-03T18:55:46.316075Z"
    },
    "papermill": {
     "duration": 0.03164,
     "end_time": "2024-01-03T18:55:46.319251",
     "exception": false,
     "start_time": "2024-01-03T18:55:46.287611",
     "status": "completed"
    },
    "tags": []
   },
   "outputs": [],
   "source": [
    "# !rm -rf checkpoints/\n",
    "# dirs = ['checkpoints/',f'checkpoints/{CFG.MODEL_NAME}_{CFG.IMG_SIZE}']\n",
    "# mkdir(dirs)"
   ]
  },
  {
   "cell_type": "code",
   "execution_count": 14,
   "id": "417c47a0",
   "metadata": {
    "execution": {
     "iopub.execute_input": "2024-01-03T18:55:46.369056Z",
     "iopub.status.busy": "2024-01-03T18:55:46.368093Z",
     "iopub.status.idle": "2024-01-03T18:55:46.860830Z",
     "shell.execute_reply": "2024-01-03T18:55:46.859790Z"
    },
    "papermill": {
     "duration": 0.520232,
     "end_time": "2024-01-03T18:55:46.863447",
     "exception": false,
     "start_time": "2024-01-03T18:55:46.343215",
     "status": "completed"
    },
    "tags": []
   },
   "outputs": [],
   "source": [
    "set_seed(CFG.SEED)\n",
    "flush()"
   ]
  },
  {
   "cell_type": "markdown",
   "id": "0072ea36",
   "metadata": {
    "papermill": {
     "duration": 0.023257,
     "end_time": "2024-01-03T18:55:46.910538",
     "exception": false,
     "start_time": "2024-01-03T18:55:46.887281",
     "status": "completed"
    },
    "tags": []
   },
   "source": [
    "<br>\n",
    "\n",
    "# Image Preprocessing"
   ]
  },
  {
   "cell_type": "code",
   "execution_count": 15,
   "id": "bf1098ec",
   "metadata": {
    "execution": {
     "iopub.execute_input": "2024-01-03T18:55:46.959940Z",
     "iopub.status.busy": "2024-01-03T18:55:46.959030Z",
     "iopub.status.idle": "2024-01-03T18:55:46.965002Z",
     "shell.execute_reply": "2024-01-03T18:55:46.964070Z"
    },
    "papermill": {
     "duration": 0.033543,
     "end_time": "2024-01-03T18:55:46.967149",
     "exception": false,
     "start_time": "2024-01-03T18:55:46.933606",
     "status": "completed"
    },
    "tags": []
   },
   "outputs": [],
   "source": [
    "def get_file_path(image_id,is_test=False):\n",
    "    image_dir     = CFG.TEST_IMAGE_DIR if is_test else CFG.TRAIN_IMAGE_DIR\n",
    "    thumbnail_dir = CFG.TEST_THUMBNAIL_DIR if is_test else CFG.TRAIN_THUMBNAIL_DIR\n",
    "    if os.path.exists(f\"{thumbnail_dir}/{image_id}_thumbnail.png\"):\n",
    "        return f\"{thumbnail_dir}/{image_id}_thumbnail.png\"\n",
    "    else:\n",
    "        return f\"{image_dir}/{image_id}.png\""
   ]
  },
  {
   "cell_type": "code",
   "execution_count": 16,
   "id": "4bc4aa52",
   "metadata": {
    "execution": {
     "iopub.execute_input": "2024-01-03T18:55:47.013364Z",
     "iopub.status.busy": "2024-01-03T18:55:47.012602Z",
     "iopub.status.idle": "2024-01-03T18:55:47.018737Z",
     "shell.execute_reply": "2024-01-03T18:55:47.017703Z"
    },
    "papermill": {
     "duration": 0.031381,
     "end_time": "2024-01-03T18:55:47.020712",
     "exception": false,
     "start_time": "2024-01-03T18:55:46.989331",
     "status": "completed"
    },
    "tags": []
   },
   "outputs": [],
   "source": [
    "def save_thumbnail(img_path: str, out_dir: str, size: int = 3000) -> None:\n",
    "    image_id = os.path.basename(img_path).replace('_thumbnail','')\n",
    "    save_path = os.path.join(out_dir, image_id)\n",
    "    img = pyvips.Image.thumbnail(img_path, size).numpy()[..., :3]\n",
    "    plt.imsave(save_path, img)"
   ]
  },
  {
   "cell_type": "code",
   "execution_count": 17,
   "id": "df6ce5e8",
   "metadata": {
    "execution": {
     "iopub.execute_input": "2024-01-03T18:55:47.066378Z",
     "iopub.status.busy": "2024-01-03T18:55:47.065569Z",
     "iopub.status.idle": "2024-01-03T18:55:47.075140Z",
     "shell.execute_reply": "2024-01-03T18:55:47.074252Z"
    },
    "papermill": {
     "duration": 0.034608,
     "end_time": "2024-01-03T18:55:47.077369",
     "exception": false,
     "start_time": "2024-01-03T18:55:47.042761",
     "status": "completed"
    },
    "tags": []
   },
   "outputs": [],
   "source": [
    "# mask dataset : https://www.kaggle.com/datasets/sohier/ubc-ovarian-cancer-competition-supplemental-masks/data\n",
    "# using mask : https://www.kaggle.com/code/jirkaborovec/cancer-subtype-eda-load-wsi-segmentation\n",
    "# function ref : https://www.kaggle.com/code/jirkaborovec/cancer-subtype-baseline-with-lightning-timm\n",
    "def prune_image_rows_cols(img, threshold):\n",
    "    # delete empty columns\n",
    "    for l in reversed(range(img.shape[1])):\n",
    "        if (np.sum(img[:, l]) / float(img.shape[0])) < threshold:\n",
    "            img = np.delete(img, l, 1)\n",
    "    # delete empty rows\n",
    "    for l in reversed(range(img.shape[0])):\n",
    "        if (np.sum(img[l, :]) / float(img.shape[1])) < threshold:\n",
    "            img = np.delete(img, l, 0)\n",
    "    return img\n",
    "\n",
    "def prune_scale_image(img_path: str, out_dir: str, threshold: float = 0.001) -> None:\n",
    "    img = np.array(Image.open(img_path))\n",
    "    img = prune_image_rows_cols(img,threshold)\n",
    "    mask = np.sum(img[..., :3], axis=2) == 0\n",
    "    img[mask, :] = 255\n",
    "    img = Image.fromarray(img)\n",
    "    #img.thumbnail((size, size))\n",
    "    img.save(os.path.join(out_dir, os.path.basename(img_path)))"
   ]
  },
  {
   "cell_type": "code",
   "execution_count": 18,
   "id": "4306f4c7",
   "metadata": {
    "execution": {
     "iopub.execute_input": "2024-01-03T18:55:47.124031Z",
     "iopub.status.busy": "2024-01-03T18:55:47.123180Z",
     "iopub.status.idle": "2024-01-03T18:55:47.128809Z",
     "shell.execute_reply": "2024-01-03T18:55:47.127893Z"
    },
    "papermill": {
     "duration": 0.030952,
     "end_time": "2024-01-03T18:55:47.130832",
     "exception": false,
     "start_time": "2024-01-03T18:55:47.099880",
     "status": "completed"
    },
    "tags": []
   },
   "outputs": [],
   "source": [
    "ids = ['CC', 'EC', 'HGSC', 'LGSC', 'MC']\n",
    "labels = range(len(ids))\n",
    "\n",
    "id2label = {id:label for id,label in zip(ids,labels)}\n",
    "label2id = {label:id for id,label in zip(ids,labels)}"
   ]
  },
  {
   "cell_type": "code",
   "execution_count": 19,
   "id": "63c08e88",
   "metadata": {
    "execution": {
     "iopub.execute_input": "2024-01-03T18:55:47.176943Z",
     "iopub.status.busy": "2024-01-03T18:55:47.176568Z",
     "iopub.status.idle": "2024-01-03T18:55:47.190179Z",
     "shell.execute_reply": "2024-01-03T18:55:47.189176Z"
    },
    "papermill": {
     "duration": 0.039409,
     "end_time": "2024-01-03T18:55:47.192315",
     "exception": false,
     "start_time": "2024-01-03T18:55:47.152906",
     "status": "completed"
    },
    "tags": []
   },
   "outputs": [],
   "source": [
    "class ImagePreprocess:\n",
    "    def __init__(self,n_jobs=os.cpu_count()):\n",
    "        self.n_jobs = n_jobs\n",
    "        \n",
    "    def run(self, inference_mode=True):\n",
    "        \n",
    "        # image information dataset load\n",
    "        self.df = self._get_data(inference_mode)\n",
    "        \n",
    "        # label encoding\n",
    "        if not inference_mode:\n",
    "            self.df['label'] = self.df['label'].map(id2label)\n",
    "        \n",
    "        # get thumbnail and save\n",
    "        self._thumbnail_step(self.df, inference_mode)\n",
    "        \n",
    "        # prune and save\n",
    "        self._prune_step(self.df, inference_mode)\n",
    "        \n",
    "        return self.df\n",
    "        \n",
    "    def _get_data(self, inference_mode):\n",
    "        if inference_mode:\n",
    "            path = f'{CFG.ROOT_DIR}/sample_submission.csv'\n",
    "        else:\n",
    "            path = f'{CFG.ROOT_DIR}/train.csv'\n",
    "            \n",
    "        df = pd.read_csv(path)\n",
    "        df['file_path'] = df['image_id'].apply(lambda x: get_file_path(x,is_test=inference_mode))\n",
    "        \n",
    "        return df\n",
    "\n",
    "    def _reset_file_path(self, save_dir) -> None:\n",
    "        self.df['file_path'] = self.df['image_id'].apply(lambda id: f'{save_dir}/{id}.png')\n",
    "    \n",
    "    def _thumbnail_step(self, df, inference_mode) -> None:\n",
    "        thumbnail_size = 3000\n",
    "        \n",
    "        # setting save path\n",
    "        if inference_mode:\n",
    "            save_dir = 'test_thumbnails'\n",
    "        else:\n",
    "            save_dir = 'train_thumbnails'\n",
    "        \n",
    "        # make directory\n",
    "        mkdir(save_dir,verbose=True)\n",
    "        \n",
    "        # get thumbnail\n",
    "        Parallel(n_jobs=self.n_jobs)(\n",
    "            delayed(save_thumbnail)(file_path, save_dir, thumbnail_size)\n",
    "            for file_path in tqdm(df['file_path'],desc='Thumbnail')\n",
    "        )\n",
    "        \n",
    "        # change file path\n",
    "        self._reset_file_path(save_dir)\n",
    "        \n",
    "    def _prune_step(self, df, inference_mode) -> None:\n",
    "        # setting save path\n",
    "        if inference_mode:\n",
    "            save_dir = 'test_prune'\n",
    "        else:\n",
    "            save_dir = 'train_prune'\n",
    "        \n",
    "        # make directory\n",
    "        mkdir(save_dir,verbose=True)\n",
    "        \n",
    "        # train images\n",
    "        Parallel(n_jobs=self.n_jobs)(\n",
    "            delayed(prune_scale_image)(file_path, save_dir)\n",
    "            for file_path in tqdm(df['file_path'],desc='Prune')\n",
    "        )\n",
    "        \n",
    "        # change file path\n",
    "        self._reset_file_path(save_dir)"
   ]
  },
  {
   "cell_type": "code",
   "execution_count": 20,
   "id": "8f9775a1",
   "metadata": {
    "execution": {
     "iopub.execute_input": "2024-01-03T18:55:47.238321Z",
     "iopub.status.busy": "2024-01-03T18:55:47.237965Z",
     "iopub.status.idle": "2024-01-03T18:55:52.755298Z",
     "shell.execute_reply": "2024-01-03T18:55:52.754130Z"
    },
    "papermill": {
     "duration": 5.543861,
     "end_time": "2024-01-03T18:55:52.758028",
     "exception": false,
     "start_time": "2024-01-03T18:55:47.214167",
     "status": "completed"
    },
    "tags": []
   },
   "outputs": [
    {
     "name": "stdout",
     "output_type": "stream",
     "text": [
      "Image Preprocess\n",
      "directory created: test_thumbnails\n"
     ]
    },
    {
     "data": {
      "application/vnd.jupyter.widget-view+json": {
       "model_id": "c6d30dd4a25c4cbbb428b16408b7021a",
       "version_major": 2,
       "version_minor": 0
      },
      "text/plain": [
       "Thumbnail:   0%|          | 0/1 [00:00<?, ?it/s]"
      ]
     },
     "metadata": {},
     "output_type": "display_data"
    },
    {
     "name": "stdout",
     "output_type": "stream",
     "text": [
      "directory created: test_prune\n"
     ]
    },
    {
     "data": {
      "application/vnd.jupyter.widget-view+json": {
       "model_id": "7e3b5e1b1a53473294ca9958ed805a4c",
       "version_major": 2,
       "version_minor": 0
      },
      "text/plain": [
       "Prune:   0%|          | 0/1 [00:00<?, ?it/s]"
      ]
     },
     "metadata": {},
     "output_type": "display_data"
    }
   ],
   "source": [
    "print('Image Preprocess')\n",
    "image_preprocessor = ImagePreprocess()\n",
    "# df     = image_preprocessor.run(inference_mode=False)\n",
    "df_sub = image_preprocessor.run(inference_mode=True)"
   ]
  },
  {
   "cell_type": "code",
   "execution_count": 21,
   "id": "0bbe7b04",
   "metadata": {
    "execution": {
     "iopub.execute_input": "2024-01-03T18:55:52.810980Z",
     "iopub.status.busy": "2024-01-03T18:55:52.809994Z",
     "iopub.status.idle": "2024-01-03T18:55:52.825462Z",
     "shell.execute_reply": "2024-01-03T18:55:52.824410Z"
    },
    "papermill": {
     "duration": 0.04419,
     "end_time": "2024-01-03T18:55:52.827609",
     "exception": false,
     "start_time": "2024-01-03T18:55:52.783419",
     "status": "completed"
    },
    "tags": []
   },
   "outputs": [
    {
     "data": {
      "text/html": [
       "<div>\n",
       "<style scoped>\n",
       "    .dataframe tbody tr th:only-of-type {\n",
       "        vertical-align: middle;\n",
       "    }\n",
       "\n",
       "    .dataframe tbody tr th {\n",
       "        vertical-align: top;\n",
       "    }\n",
       "\n",
       "    .dataframe thead th {\n",
       "        text-align: right;\n",
       "    }\n",
       "</style>\n",
       "<table border=\"1\" class=\"dataframe\">\n",
       "  <thead>\n",
       "    <tr style=\"text-align: right;\">\n",
       "      <th></th>\n",
       "      <th>image_id</th>\n",
       "      <th>label</th>\n",
       "      <th>file_path</th>\n",
       "    </tr>\n",
       "  </thead>\n",
       "  <tbody>\n",
       "    <tr>\n",
       "      <th>0</th>\n",
       "      <td>41</td>\n",
       "      <td>HGSC</td>\n",
       "      <td>test_prune/41.png</td>\n",
       "    </tr>\n",
       "  </tbody>\n",
       "</table>\n",
       "</div>"
      ],
      "text/plain": [
       "   image_id label          file_path\n",
       "0        41  HGSC  test_prune/41.png"
      ]
     },
     "execution_count": 21,
     "metadata": {},
     "output_type": "execute_result"
    }
   ],
   "source": [
    "df_sub"
   ]
  },
  {
   "cell_type": "code",
   "execution_count": 22,
   "id": "41f39274",
   "metadata": {
    "execution": {
     "iopub.execute_input": "2024-01-03T18:55:52.879753Z",
     "iopub.status.busy": "2024-01-03T18:55:52.878779Z",
     "iopub.status.idle": "2024-01-03T18:55:52.883761Z",
     "shell.execute_reply": "2024-01-03T18:55:52.882756Z"
    },
    "papermill": {
     "duration": 0.034048,
     "end_time": "2024-01-03T18:55:52.886144",
     "exception": false,
     "start_time": "2024-01-03T18:55:52.852096",
     "status": "completed"
    },
    "tags": []
   },
   "outputs": [],
   "source": [
    "del image_preprocessor"
   ]
  },
  {
   "cell_type": "code",
   "execution_count": 23,
   "id": "05ecf457",
   "metadata": {
    "execution": {
     "iopub.execute_input": "2024-01-03T18:55:52.935760Z",
     "iopub.status.busy": "2024-01-03T18:55:52.935386Z",
     "iopub.status.idle": "2024-01-03T18:55:52.940415Z",
     "shell.execute_reply": "2024-01-03T18:55:52.939309Z"
    },
    "papermill": {
     "duration": 0.032305,
     "end_time": "2024-01-03T18:55:52.942745",
     "exception": false,
     "start_time": "2024-01-03T18:55:52.910440",
     "status": "completed"
    },
    "tags": []
   },
   "outputs": [],
   "source": [
    "# path = f'/kaggle/input/UBC-OCEAN/train_thumbnails/706_thumbnail.png'\n",
    "# path = '/kaggle/input/image-preprocessed-ubc/train_prune/train_prune/27851.png'\n",
    "\n",
    "# img = plt.imread(path)\n",
    "\n",
    "# plt.figure(figsize=(15,7))\n",
    "# plt.imshow(img)\n",
    "# plt.show()\n",
    "\n",
    "# plt.figure(figsize=(15,7))\n",
    "# plt.imshow(prune_image_rows_cols(img,0.1))\n",
    "# plt.show()"
   ]
  },
  {
   "cell_type": "code",
   "execution_count": 24,
   "id": "83a2ce26",
   "metadata": {
    "execution": {
     "iopub.execute_input": "2024-01-03T18:55:52.993676Z",
     "iopub.status.busy": "2024-01-03T18:55:52.993284Z",
     "iopub.status.idle": "2024-01-03T18:55:52.997824Z",
     "shell.execute_reply": "2024-01-03T18:55:52.996812Z"
    },
    "papermill": {
     "duration": 0.033591,
     "end_time": "2024-01-03T18:55:53.000231",
     "exception": false,
     "start_time": "2024-01-03T18:55:52.966640",
     "status": "completed"
    },
    "tags": []
   },
   "outputs": [],
   "source": [
    "# !zip -qq train_prune.zip train_prune/*\n",
    "# !zip -qq test_prune.zip test_prune/*"
   ]
  },
  {
   "cell_type": "markdown",
   "id": "8a271928",
   "metadata": {
    "papermill": {
     "duration": 0.022762,
     "end_time": "2024-01-03T18:55:53.046378",
     "exception": false,
     "start_time": "2024-01-03T18:55:53.023616",
     "status": "completed"
    },
    "tags": []
   },
   "source": [
    "<br>\n",
    "\n",
    "# Reference (Crop)"
   ]
  },
  {
   "cell_type": "code",
   "execution_count": 25,
   "id": "458c3142",
   "metadata": {
    "execution": {
     "iopub.execute_input": "2024-01-03T18:55:53.094893Z",
     "iopub.status.busy": "2024-01-03T18:55:53.093960Z",
     "iopub.status.idle": "2024-01-03T18:55:53.108819Z",
     "shell.execute_reply": "2024-01-03T18:55:53.108068Z"
    },
    "papermill": {
     "duration": 0.041328,
     "end_time": "2024-01-03T18:55:53.110946",
     "exception": false,
     "start_time": "2024-01-03T18:55:53.069618",
     "status": "completed"
    },
    "tags": []
   },
   "outputs": [],
   "source": [
    "path_fmt = '/kaggle/input/image-preprocessed-ubc/{}_prune/{}_prune/{}.png'\n",
    "\n",
    "df = pd.read_csv('/kaggle/input/UBC-OCEAN/train.csv')\n",
    "df['file_path'] = df['image_id'].apply(lambda x: path_fmt.format('train','train',x))"
   ]
  },
  {
   "cell_type": "code",
   "execution_count": 26,
   "id": "b30562dc",
   "metadata": {
    "execution": {
     "iopub.execute_input": "2024-01-03T18:55:53.159256Z",
     "iopub.status.busy": "2024-01-03T18:55:53.158871Z",
     "iopub.status.idle": "2024-01-03T18:55:53.169570Z",
     "shell.execute_reply": "2024-01-03T18:55:53.168604Z"
    },
    "papermill": {
     "duration": 0.036763,
     "end_time": "2024-01-03T18:55:53.171628",
     "exception": false,
     "start_time": "2024-01-03T18:55:53.134865",
     "status": "completed"
    },
    "tags": []
   },
   "outputs": [],
   "source": [
    "df['label'] = df['label'].map(id2label)"
   ]
  },
  {
   "cell_type": "code",
   "execution_count": 27,
   "id": "8f8d2367",
   "metadata": {
    "execution": {
     "iopub.execute_input": "2024-01-03T18:55:53.227179Z",
     "iopub.status.busy": "2024-01-03T18:55:53.226390Z",
     "iopub.status.idle": "2024-01-03T18:55:53.231074Z",
     "shell.execute_reply": "2024-01-03T18:55:53.230060Z"
    },
    "papermill": {
     "duration": 0.035437,
     "end_time": "2024-01-03T18:55:53.233401",
     "exception": false,
     "start_time": "2024-01-03T18:55:53.197964",
     "status": "completed"
    },
    "tags": []
   },
   "outputs": [],
   "source": [
    "# file_path = df.file_path.values[1]\n",
    "# img = Image.open(file_path)\n",
    "\n",
    "# fig, ax = plt.subplots(1, 2,figsize=(15,7),sharex=False,sharey=False)\n",
    "# ax[0].imshow(img)\n",
    "# ax[1].imshow(img.resize((CFG.IMG_SIZE,CFG.IMG_SIZE)))\n",
    "# plt.tight_layout()\n",
    "# plt.show()"
   ]
  },
  {
   "cell_type": "markdown",
   "id": "58a32be7",
   "metadata": {
    "papermill": {
     "duration": 0.025412,
     "end_time": "2024-01-03T18:55:53.284524",
     "exception": false,
     "start_time": "2024-01-03T18:55:53.259112",
     "status": "completed"
    },
    "tags": []
   },
   "source": [
    "## method 1"
   ]
  },
  {
   "cell_type": "code",
   "execution_count": 28,
   "id": "95b9df09",
   "metadata": {
    "execution": {
     "iopub.execute_input": "2024-01-03T18:55:53.337893Z",
     "iopub.status.busy": "2024-01-03T18:55:53.336969Z",
     "iopub.status.idle": "2024-01-03T18:55:53.355785Z",
     "shell.execute_reply": "2024-01-03T18:55:53.354778Z"
    },
    "papermill": {
     "duration": 0.048185,
     "end_time": "2024-01-03T18:55:53.358026",
     "exception": false,
     "start_time": "2024-01-03T18:55:53.309841",
     "status": "completed"
    },
    "tags": []
   },
   "outputs": [],
   "source": [
    "# 참조 : https://www.kaggle.com/code/xiaocao123/lb-0-45\n",
    "def get_cropped_images(file_path, image_id, label=None, th_area=1000, return_image=False):\n",
    "    # 🖼️ Open the image using the PIL library\n",
    "    image = Image.open(file_path)\n",
    "    \n",
    "    # 🔄 Calculate the aspect ratio\n",
    "    as_ratio = image.size[0] / image.size[1]\n",
    "    \n",
    "    sxs, exs, sys, eys = [], [], [], []\n",
    "    \n",
    "    if as_ratio >= 1.5:\n",
    "        # 💡 If aspect ratio is greater than or equal to 1.5, perform cropping\n",
    "        \n",
    "        # 🎭 Create a mask using maximum value condition\n",
    "        mask = np.max(np.array(image) > 0, axis=-1).astype(np.uint8)\n",
    "        \n",
    "        # 🖼️ Find connected components in the mask\n",
    "        retval, labels = cv2.connectedComponents(mask)\n",
    "        \n",
    "        if retval >= as_ratio:\n",
    "            # 🔄 Loop through connected components\n",
    "            x, y = np.meshgrid(np.arange(image.size[0]), np.arange(image.size[1]))\n",
    "            for label in range(1, retval):\n",
    "                # 🚫 Skip small components\n",
    "                area = np.sum(labels == label)\n",
    "                if area < th_area:\n",
    "                    continue\n",
    "                \n",
    "                # 🔄 Get coordinates of connected components\n",
    "                xs, ys = x[labels == label], y[labels == label]\n",
    "                \n",
    "                # 🎯 Calculate cropping boundaries\n",
    "                sx, ex = np.min(xs), np.max(xs)\n",
    "                cx = (sx + ex) // 2\n",
    "                crop_size = image.size[1]\n",
    "                sx = max(0, cx - crop_size // 2)\n",
    "                ex = min(sx + crop_size - 1, image.size[0] - 1)\n",
    "                sx = ex - crop_size + 1\n",
    "                sy, ey = 0, image.size[1] - 1\n",
    "                \n",
    "                # 📊 Append cropping boundaries to lists\n",
    "                sxs.append(sx)\n",
    "                exs.append(ex)\n",
    "                sys.append(sy)\n",
    "                eys.append(ey)\n",
    "        else:\n",
    "            # 🎯 If no connected components found, divide the image into equal parts\n",
    "            crop_size = image.size[1]\n",
    "            for i in range(int(as_ratio)):\n",
    "                sxs.append(i * crop_size)\n",
    "                exs.append((i + 1) * crop_size - 1)\n",
    "                sys.append(0)\n",
    "                eys.append(crop_size - 1)\n",
    "    else:\n",
    "        # 🎯 If aspect ratio is less than 1.5, use the entire image without cropping\n",
    "        sxs, exs, sys, eys = [0,], [image.size[0] - 1], [0,], [image.size[1] - 1]\n",
    "\n",
    "    if return_image:\n",
    "        images = []\n",
    "        for sx,ex,sy,ey in zip(sxs[::-1],exs[::-1],sys[::-1],eys[::-1]):\n",
    "            print(f'x=({sx},{ex}), y=({sy},{ey})')\n",
    "            img = np.array(image)[ sy:ey, sx:ex, : ]\n",
    "            images.append(img)\n",
    "\n",
    "        return images\n",
    "    \n",
    "    else:\n",
    "        # 📊 Create a DataFrame with image_id, file_path, and cropping boundaries\n",
    "        df_crop = pd.DataFrame()\n",
    "        df_crop[\"image_id\"] = [image_id] * len(sxs)\n",
    "        df_crop[\"file_path\"] = [file_path] * len(sxs)\n",
    "        df_crop[\"sx\"] = sxs\n",
    "        df_crop[\"ex\"] = exs\n",
    "        df_crop[\"sy\"] = sys\n",
    "        df_crop[\"ey\"] = eys\n",
    "        if label is not None:\n",
    "            df_crop[\"label\"] = label\n",
    "        \n",
    "        return df_crop"
   ]
  },
  {
   "cell_type": "code",
   "execution_count": 29,
   "id": "e54e0b5b",
   "metadata": {
    "execution": {
     "iopub.execute_input": "2024-01-03T18:55:53.406095Z",
     "iopub.status.busy": "2024-01-03T18:55:53.405353Z",
     "iopub.status.idle": "2024-01-03T18:55:56.042574Z",
     "shell.execute_reply": "2024-01-03T18:55:56.041605Z"
    },
    "papermill": {
     "duration": 2.664562,
     "end_time": "2024-01-03T18:55:56.046398",
     "exception": false,
     "start_time": "2024-01-03T18:55:53.381836",
     "status": "completed"
    },
    "tags": []
   },
   "outputs": [
    {
     "data": {
      "image/png": "[encoded data removed]",
      "text/plain": [
       "<Figure size 640x480 with 1 Axes>"
      ]
     },
     "metadata": {},
     "output_type": "display_data"
    },
    {
     "name": "stdout",
     "output_type": "stream",
     "text": [
      "x=(616,2382), y=(0,1766)\n"
     ]
    },
    {
     "data": {
      "image/png": "[encoded data removed]",
      "text/plain": [
       "<Figure size 640x480 with 1 Axes>"
      ]
     },
     "metadata": {},
     "output_type": "display_data"
    }
   ],
   "source": [
    "i = 7 # 3,7\n",
    "\n",
    "file_path = df.file_path.values[i]\n",
    "image_id  = df.image_id.values[i]\n",
    "\n",
    "img = plt.imread(file_path)\n",
    "plt.imshow(img)\n",
    "plt.show()\n",
    "\n",
    "for img in get_cropped_images(file_path, image_id, None, th_area=1000, return_image=True):\n",
    "    plt.imshow(img)\n",
    "    plt.show()"
   ]
  },
  {
   "cell_type": "code",
   "execution_count": 30,
   "id": "b9066528",
   "metadata": {
    "execution": {
     "iopub.execute_input": "2024-01-03T18:55:56.111059Z",
     "iopub.status.busy": "2024-01-03T18:55:56.110674Z",
     "iopub.status.idle": "2024-01-03T18:56:38.802054Z",
     "shell.execute_reply": "2024-01-03T18:56:38.801141Z"
    },
    "papermill": {
     "duration": 42.726577,
     "end_time": "2024-01-03T18:56:38.804612",
     "exception": false,
     "start_time": "2024-01-03T18:55:56.078035",
     "status": "completed"
    },
    "tags": []
   },
   "outputs": [
    {
     "name": "stdout",
     "output_type": "stream",
     "text": [
      "Image Crop\n"
     ]
    },
    {
     "data": {
      "application/vnd.jupyter.widget-view+json": {
       "model_id": "54dcd6d50911422b8156b77f533948fa",
       "version_major": 2,
       "version_minor": 0
      },
      "text/plain": [
       "crop:   0%|          | 0/538 [00:00<?, ?it/s]"
      ]
     },
     "metadata": {},
     "output_type": "display_data"
    }
   ],
   "source": [
    "# crop image\n",
    "print('Image Crop')\n",
    "crop_df = Parallel(n_jobs=os.cpu_count())(\n",
    "    delayed(get_cropped_images)(file_path, image_id, label, th_area=1000, return_image=False)\n",
    "    for file_path,image_id,label in tqdm(df[['file_path','image_id','label']].values,desc='crop')\n",
    ")\n",
    "crop_df = pd.concat(crop_df,axis=0).reset_index(drop=True)\n",
    "\n",
    "# delete duplicated image\n",
    "crop_df = crop_df.drop_duplicates(subset=[\"image_id\", \"sx\", \"ex\", \"sy\", \"ey\"]).reset_index(drop=True)"
   ]
  },
  {
   "cell_type": "code",
   "execution_count": 31,
   "id": "060b95fe",
   "metadata": {
    "execution": {
     "iopub.execute_input": "2024-01-03T18:56:38.869634Z",
     "iopub.status.busy": "2024-01-03T18:56:38.868959Z",
     "iopub.status.idle": "2024-01-03T18:56:38.881237Z",
     "shell.execute_reply": "2024-01-03T18:56:38.880263Z"
    },
    "papermill": {
     "duration": 0.047231,
     "end_time": "2024-01-03T18:56:38.883638",
     "exception": false,
     "start_time": "2024-01-03T18:56:38.836407",
     "status": "completed"
    },
    "tags": []
   },
   "outputs": [
    {
     "data": {
      "text/html": [
       "<div>\n",
       "<style scoped>\n",
       "    .dataframe tbody tr th:only-of-type {\n",
       "        vertical-align: middle;\n",
       "    }\n",
       "\n",
       "    .dataframe tbody tr th {\n",
       "        vertical-align: top;\n",
       "    }\n",
       "\n",
       "    .dataframe thead th {\n",
       "        text-align: right;\n",
       "    }\n",
       "</style>\n",
       "<table border=\"1\" class=\"dataframe\">\n",
       "  <thead>\n",
       "    <tr style=\"text-align: right;\">\n",
       "      <th></th>\n",
       "      <th>image_id</th>\n",
       "      <th>file_path</th>\n",
       "      <th>sx</th>\n",
       "      <th>ex</th>\n",
       "      <th>sy</th>\n",
       "      <th>ey</th>\n",
       "      <th>label</th>\n",
       "    </tr>\n",
       "  </thead>\n",
       "  <tbody>\n",
       "    <tr>\n",
       "      <th>3</th>\n",
       "      <td>281</td>\n",
       "      <td>/kaggle/input/image-preprocessed-ubc/train_pru...</td>\n",
       "      <td>0</td>\n",
       "      <td>1101</td>\n",
       "      <td>0</td>\n",
       "      <td>1101</td>\n",
       "      <td>3</td>\n",
       "    </tr>\n",
       "    <tr>\n",
       "      <th>4</th>\n",
       "      <td>281</td>\n",
       "      <td>/kaggle/input/image-preprocessed-ubc/train_pru...</td>\n",
       "      <td>1102</td>\n",
       "      <td>2203</td>\n",
       "      <td>0</td>\n",
       "      <td>1101</td>\n",
       "      <td>3</td>\n",
       "    </tr>\n",
       "  </tbody>\n",
       "</table>\n",
       "</div>"
      ],
      "text/plain": [
       "   image_id                                          file_path    sx    ex  \\\n",
       "3       281  /kaggle/input/image-preprocessed-ubc/train_pru...     0  1101   \n",
       "4       281  /kaggle/input/image-preprocessed-ubc/train_pru...  1102  2203   \n",
       "\n",
       "   sy    ey  label  \n",
       "3   0  1101      3  \n",
       "4   0  1101      3  "
      ]
     },
     "execution_count": 31,
     "metadata": {},
     "output_type": "execute_result"
    }
   ],
   "source": [
    "crop_df[crop_df.image_id==281]"
   ]
  },
  {
   "cell_type": "markdown",
   "id": "c9ce0068",
   "metadata": {
    "papermill": {
     "duration": 0.031668,
     "end_time": "2024-01-03T18:56:38.948415",
     "exception": false,
     "start_time": "2024-01-03T18:56:38.916747",
     "status": "completed"
    },
    "tags": []
   },
   "source": [
    "<br>\n",
    "\n",
    "## method 2"
   ]
  },
  {
   "cell_type": "code",
   "execution_count": 32,
   "id": "ca675906",
   "metadata": {
    "execution": {
     "iopub.execute_input": "2024-01-03T18:56:39.015007Z",
     "iopub.status.busy": "2024-01-03T18:56:39.014615Z",
     "iopub.status.idle": "2024-01-03T18:56:39.019212Z",
     "shell.execute_reply": "2024-01-03T18:56:39.018246Z"
    },
    "papermill": {
     "duration": 0.040761,
     "end_time": "2024-01-03T18:56:39.021495",
     "exception": false,
     "start_time": "2024-01-03T18:56:38.980734",
     "status": "completed"
    },
    "tags": []
   },
   "outputs": [],
   "source": [
    "# # 잘된 케이스 : 3, 8, 11\n",
    "# # 이상하게 나뉜 케이스 : 7, 20\n",
    "# i = 20\n",
    "\n",
    "# file_path = df.file_path.values[i]\n",
    "# image_id  = df.image_id.values[i]\n",
    "\n",
    "# img = plt.imread(file_path)\n",
    "# plt.imshow(img)\n",
    "# plt.show()"
   ]
  },
  {
   "cell_type": "code",
   "execution_count": 33,
   "id": "102fc631",
   "metadata": {
    "execution": {
     "iopub.execute_input": "2024-01-03T18:56:39.088046Z",
     "iopub.status.busy": "2024-01-03T18:56:39.087086Z",
     "iopub.status.idle": "2024-01-03T18:56:39.092538Z",
     "shell.execute_reply": "2024-01-03T18:56:39.091601Z"
    },
    "papermill": {
     "duration": 0.040826,
     "end_time": "2024-01-03T18:56:39.094662",
     "exception": false,
     "start_time": "2024-01-03T18:56:39.053836",
     "status": "completed"
    },
    "tags": []
   },
   "outputs": [],
   "source": [
    "# img = cv2.imread(file_path)\n",
    "\n",
    "# # 그레이스케일 이미지로 변환\n",
    "# gray = cv2.cvtColor(img, cv2.COLOR_BGR2GRAY)\n",
    "\n",
    "# # 임계값 처리하여 흰색 배경 찾기\n",
    "# # 여기서는 배경이 흰색이므로 높은 임계값을 사용합니다.\n",
    "# _, thresh = cv2.threshold(gray, 240, 255, cv2.THRESH_BINARY_INV)\n",
    "\n",
    "# # 컨투어(경계) 찾기\n",
    "# contours, _ = cv2.findContours(thresh, cv2.RETR_EXTERNAL, cv2.CHAIN_APPROX_SIMPLE)\n",
    "\n",
    "# cropped_list = []\n",
    "# # 각 컨투어에 대해\n",
    "# for i, contour in enumerate(contours):\n",
    "#     # 컨투어의 영역이 너무 작으면 무시 (잡음 제거)\n",
    "#     if cv2.contourArea(contour) < 5000:\n",
    "#         continue\n",
    "\n",
    "#     # 바운딩 박스 계산\n",
    "#     x, y, w, h = cv2.boundingRect(contour)\n",
    "\n",
    "#     # 이미지 자르기\n",
    "#     cropped = img[y:y+h, x:x+w]\n",
    "    \n",
    "#     cropped_list.append(cropped)"
   ]
  },
  {
   "cell_type": "code",
   "execution_count": 34,
   "id": "a879fd1e",
   "metadata": {
    "execution": {
     "iopub.execute_input": "2024-01-03T18:56:39.161666Z",
     "iopub.status.busy": "2024-01-03T18:56:39.160904Z",
     "iopub.status.idle": "2024-01-03T18:56:39.165575Z",
     "shell.execute_reply": "2024-01-03T18:56:39.164739Z"
    },
    "papermill": {
     "duration": 0.040295,
     "end_time": "2024-01-03T18:56:39.167684",
     "exception": false,
     "start_time": "2024-01-03T18:56:39.127389",
     "status": "completed"
    },
    "tags": []
   },
   "outputs": [],
   "source": [
    "# for cropped in cropped_list:\n",
    "#     plt.imshow(cropped)\n",
    "#     plt.grid()\n",
    "#     plt.show()"
   ]
  },
  {
   "cell_type": "markdown",
   "id": "81bdd4b7",
   "metadata": {
    "papermill": {
     "duration": 0.030609,
     "end_time": "2024-01-03T18:56:39.229387",
     "exception": false,
     "start_time": "2024-01-03T18:56:39.198778",
     "status": "completed"
    },
    "tags": []
   },
   "source": [
    "<br>\n",
    "\n",
    "# Normalization"
   ]
  },
  {
   "cell_type": "code",
   "execution_count": 35,
   "id": "bd0a6340",
   "metadata": {
    "execution": {
     "iopub.execute_input": "2024-01-03T18:56:39.295947Z",
     "iopub.status.busy": "2024-01-03T18:56:39.295197Z",
     "iopub.status.idle": "2024-01-03T18:56:39.302727Z",
     "shell.execute_reply": "2024-01-03T18:56:39.301724Z"
    },
    "papermill": {
     "duration": 0.04318,
     "end_time": "2024-01-03T18:56:39.304746",
     "exception": false,
     "start_time": "2024-01-03T18:56:39.261566",
     "status": "completed"
    },
    "tags": []
   },
   "outputs": [],
   "source": [
    "def get_color_mean_std(img_path, sx, ex, sy, ey):\n",
    "    img = np.array(Image.open(img_path))\n",
    "    img = img[ sy:ey, sx:ex, : ]\n",
    "    mask = np.sum(img[..., :3], axis=2) == 0\n",
    "    img[mask, :] = 255\n",
    "    if np.max(img) > 1.5:\n",
    "        img = img / 255.0\n",
    "    clr_mean = {i: np.mean(img[..., i]) for i in range(3)}\n",
    "    clr_std = {i: np.std(img[..., i]) for i in range(3)}\n",
    "    return clr_mean, clr_std"
   ]
  },
  {
   "cell_type": "code",
   "execution_count": 36,
   "id": "2c180497",
   "metadata": {
    "execution": {
     "iopub.execute_input": "2024-01-03T18:56:39.369479Z",
     "iopub.status.busy": "2024-01-03T18:56:39.369131Z",
     "iopub.status.idle": "2024-01-03T18:56:39.376685Z",
     "shell.execute_reply": "2024-01-03T18:56:39.375901Z"
    },
    "papermill": {
     "duration": 0.042076,
     "end_time": "2024-01-03T18:56:39.378490",
     "exception": false,
     "start_time": "2024-01-03T18:56:39.336414",
     "status": "completed"
    },
    "tags": []
   },
   "outputs": [],
   "source": [
    "def normalizations(df, n_jobs=os.cpu_count()):\n",
    "    clr_mean_std = Parallel(n_jobs=n_jobs)(\n",
    "        delayed(get_color_mean_std)(file_path,sx,ex,sy,ey)\n",
    "        for file_path,sx,ex,sy,ey in tqdm(df[['file_path','sx','ex','sy','ey']].values,desc='normalizations')\n",
    "    )\n",
    "\n",
    "    img_color_mean = pd.DataFrame([c[0] for c in clr_mean_std]).describe()\n",
    "    img_color_std = pd.DataFrame([c[1] for c in clr_mean_std]).describe()\n",
    "\n",
    "    img_color_mean = list(img_color_mean.T[\"mean\"])\n",
    "    img_color_std = list(img_color_std.T[\"mean\"])\n",
    "    \n",
    "    return img_color_mean, img_color_std"
   ]
  },
  {
   "cell_type": "code",
   "execution_count": 37,
   "id": "a451424b",
   "metadata": {
    "execution": {
     "iopub.execute_input": "2024-01-03T18:56:39.444019Z",
     "iopub.status.busy": "2024-01-03T18:56:39.443249Z",
     "iopub.status.idle": "2024-01-03T18:56:39.448487Z",
     "shell.execute_reply": "2024-01-03T18:56:39.447546Z"
    },
    "papermill": {
     "duration": 0.041521,
     "end_time": "2024-01-03T18:56:39.450546",
     "exception": false,
     "start_time": "2024-01-03T18:56:39.409025",
     "status": "completed"
    },
    "tags": []
   },
   "outputs": [],
   "source": [
    "# img_color_mean, img_color_std = normalizations(crop_df)\n",
    "\n",
    "# print(f'{img_color_mean=}')\n",
    "# print(f'{img_color_std=}')\n",
    "\n",
    "# # without crop\n",
    "# img_color_mean=[0.9001133967153825, 0.8353600807517803, 0.8962360255565811]\n",
    "# img_color_std=[0.11116642528209666, 0.16542502014636812, 0.10758222882570265]\n",
    "\n",
    "# with crop\n",
    "img_color_mean=[0.9099105921297389, 0.8503578319400451, 0.90624604547801]\n",
    "img_color_std=[0.10478636034627896, 0.15453931526271314, 0.10123684458412788]"
   ]
  },
  {
   "cell_type": "markdown",
   "id": "ee7a6391",
   "metadata": {
    "papermill": {
     "duration": 0.030389,
     "end_time": "2024-01-03T18:56:39.512999",
     "exception": false,
     "start_time": "2024-01-03T18:56:39.482610",
     "status": "completed"
    },
    "tags": []
   },
   "source": [
    "<br>\n",
    "\n",
    "# Prepare Dataset\n",
    "\n",
    "\n"
   ]
  },
  {
   "cell_type": "code",
   "execution_count": 38,
   "id": "026053ab",
   "metadata": {
    "execution": {
     "iopub.execute_input": "2024-01-03T18:56:39.577116Z",
     "iopub.status.busy": "2024-01-03T18:56:39.576733Z",
     "iopub.status.idle": "2024-01-03T18:56:39.653748Z",
     "shell.execute_reply": "2024-01-03T18:56:39.652820Z"
    },
    "papermill": {
     "duration": 0.112664,
     "end_time": "2024-01-03T18:56:39.656004",
     "exception": false,
     "start_time": "2024-01-03T18:56:39.543340",
     "status": "completed"
    },
    "tags": []
   },
   "outputs": [
    {
     "data": {
      "text/plain": [
       "tensor([0.1495, 0.0687, 0.0628, 0.3071, 0.4120])"
      ]
     },
     "execution_count": 38,
     "metadata": {},
     "output_type": "execute_result"
    }
   ],
   "source": [
    "class_counts = crop_df['label'].value_counts().sort_index().values / len(crop_df)\n",
    "class_weights = 1 / class_counts\n",
    "class_weights /= sum(class_weights)\n",
    "class_weights = torch.tensor(class_weights, dtype=torch.float)\n",
    "class_weights"
   ]
  },
  {
   "cell_type": "code",
   "execution_count": 39,
   "id": "8bb61865",
   "metadata": {
    "execution": {
     "iopub.execute_input": "2024-01-03T18:56:39.721066Z",
     "iopub.status.busy": "2024-01-03T18:56:39.720376Z",
     "iopub.status.idle": "2024-01-03T18:56:39.725621Z",
     "shell.execute_reply": "2024-01-03T18:56:39.724790Z"
    },
    "papermill": {
     "duration": 0.039638,
     "end_time": "2024-01-03T18:56:39.727589",
     "exception": false,
     "start_time": "2024-01-03T18:56:39.687951",
     "status": "completed"
    },
    "tags": []
   },
   "outputs": [],
   "source": [
    "def bacc(output,label):\n",
    "    output = output.detach().cpu().argmax(-1)\n",
    "    label = label.detach().cpu()\n",
    "    return balanced_accuracy_score(label,output)"
   ]
  },
  {
   "cell_type": "code",
   "execution_count": 40,
   "id": "38d51d7f",
   "metadata": {
    "execution": {
     "iopub.execute_input": "2024-01-03T18:56:39.794324Z",
     "iopub.status.busy": "2024-01-03T18:56:39.793619Z",
     "iopub.status.idle": "2024-01-03T18:56:39.804307Z",
     "shell.execute_reply": "2024-01-03T18:56:39.803351Z"
    },
    "papermill": {
     "duration": 0.047681,
     "end_time": "2024-01-03T18:56:39.806507",
     "exception": false,
     "start_time": "2024-01-03T18:56:39.758826",
     "status": "completed"
    },
    "tags": []
   },
   "outputs": [],
   "source": [
    "class UBCDataset(Dataset):\n",
    "    def __init__(self, df, transforms=None, is_test=False):\n",
    "        self.df = df\n",
    "        self.file_paths = df['file_path'].values\n",
    "        self.labels = df['label'].values\n",
    "        self.transforms = transforms\n",
    "        self.is_test = is_test\n",
    "        \n",
    "        if not self.is_test:\n",
    "            self.sxs = df['sx'].values\n",
    "            self.exs = df['ex'].values\n",
    "            self.sys = df['sy'].values\n",
    "            self.eys = df['ey'].values\n",
    "        \n",
    "    def __len__(self):\n",
    "        return len(self.df)\n",
    "    \n",
    "    def __getitem__(self, index):\n",
    "        file_path = self.file_paths[index]\n",
    "        img = cv2.imread(file_path)\n",
    "        img = cv2.cvtColor(img, cv2.COLOR_BGR2RGB)\n",
    "        \n",
    "        if not self.is_test:\n",
    "            sx, ex, sy, ey = self.sxs[index], self.exs[index], self.sys[index], self.eys[index]\n",
    "            img = img[ sy:ey, sx:ex, : ]\n",
    "\n",
    "        if self.transforms:\n",
    "            img = self.transforms(Image.fromarray(img))\n",
    "            \n",
    "        if self.is_test:\n",
    "            return img\n",
    "        else:\n",
    "            label = self.labels[index]\n",
    "            return img, torch.tensor(label, dtype=torch.long)            "
   ]
  },
  {
   "cell_type": "code",
   "execution_count": 41,
   "id": "4c1c23e5",
   "metadata": {
    "execution": {
     "iopub.execute_input": "2024-01-03T18:56:39.874204Z",
     "iopub.status.busy": "2024-01-03T18:56:39.873512Z",
     "iopub.status.idle": "2024-01-03T18:56:39.881451Z",
     "shell.execute_reply": "2024-01-03T18:56:39.880395Z"
    },
    "papermill": {
     "duration": 0.043312,
     "end_time": "2024-01-03T18:56:39.883592",
     "exception": false,
     "start_time": "2024-01-03T18:56:39.840280",
     "status": "completed"
    },
    "tags": []
   },
   "outputs": [],
   "source": [
    "# img_color_mean, img_color_std = [0.485, 0.456, 0.406], [0.229, 0.224, 0.225]\n",
    "# img_color_mean, img_color_std = [0.9001133967153825, 0.8353600807517803, 0.8962360255565811],\\\n",
    "#                                 [0.11116642528209666, 0.16542502014636812, 0.10758222882570265]\n",
    "img_color_mean, img_color_std = [0.9099105921297389, 0.8503578319400451, 0.90624604547801],\\\n",
    "                                [0.10478636034627896, 0.15453931526271314, 0.10123684458412788]\n",
    "\n",
    "transforms = {\n",
    "    'train' : T.Compose([\n",
    "                T.Resize((CFG.IMG_SIZE,CFG.IMG_SIZE)),\n",
    "                #A.CenterCrop(512),\n",
    "                #T.RandomResizedCrop(512, interpolation=InterpolationMode.BICUBIC, antialias=True),\n",
    "                T.RandomHorizontalFlip(),\n",
    "                T.RandomVerticalFlip(),\n",
    "                T.RandomRotation(degrees=10),\n",
    "                T.ColorJitter(),\n",
    "                T.ToTensor(),\n",
    "                T.Normalize(img_color_mean, img_color_std),\n",
    "            ]),\n",
    "    'valid' : T.Compose([\n",
    "                T.Resize((CFG.IMG_SIZE,CFG.IMG_SIZE)),\n",
    "                #T.CenterCrop(512),\n",
    "                T.ToTensor(),\n",
    "                T.Normalize(img_color_mean, img_color_std),\n",
    "            ]),\n",
    "}"
   ]
  },
  {
   "cell_type": "markdown",
   "id": "785a3be3",
   "metadata": {
    "papermill": {
     "duration": 0.031929,
     "end_time": "2024-01-03T18:56:39.948063",
     "exception": false,
     "start_time": "2024-01-03T18:56:39.916134",
     "status": "completed"
    },
    "tags": []
   },
   "source": [
    "<br>\n",
    "\n",
    "# Train"
   ]
  },
  {
   "cell_type": "code",
   "execution_count": 42,
   "id": "55cc78dd",
   "metadata": {
    "execution": {
     "iopub.execute_input": "2024-01-03T18:56:40.016198Z",
     "iopub.status.busy": "2024-01-03T18:56:40.015522Z",
     "iopub.status.idle": "2024-01-03T18:56:40.027058Z",
     "shell.execute_reply": "2024-01-03T18:56:40.026096Z"
    },
    "papermill": {
     "duration": 0.04765,
     "end_time": "2024-01-03T18:56:40.029162",
     "exception": false,
     "start_time": "2024-01-03T18:56:39.981512",
     "status": "completed"
    },
    "tags": []
   },
   "outputs": [],
   "source": [
    "class EarlyStopping:\n",
    "    \"\"\"Early stops the training if validation loss doesn't improve after a given patience.\"\"\"\n",
    "    def __init__(self, patience=7, verbose=False, delta=0, path:str=None, trace_func=print):\n",
    "        \"\"\"\n",
    "        Args:\n",
    "            patience (int): How long to wait after last time validation loss improved.\n",
    "                            Default: 7\n",
    "            verbose (bool): If True, prints a message for each validation loss improvement. \n",
    "                            Default: False\n",
    "            delta (float): Minimum change in the monitored quantity to qualify as an improvement.\n",
    "                            Default: 0\n",
    "            path (str): Path for the checkpoint to be saved to.\n",
    "                            Default: None\n",
    "            trace_func (function): trace print function.\n",
    "                            Default: print            \n",
    "        \"\"\"\n",
    "        self.patience = patience\n",
    "        self.verbose = verbose\n",
    "        self.counter = 0\n",
    "        self.best_score = None\n",
    "        self.early_stop = False\n",
    "        self.val_loss_min = np.Inf\n",
    "        self.delta = delta\n",
    "        self.path = path\n",
    "        self.trace_func = trace_func\n",
    "        \n",
    "    def __call__(self, val_loss, model):\n",
    "\n",
    "        score = -val_loss\n",
    "\n",
    "        if self.best_score is None:\n",
    "            self.best_score = score\n",
    "            self.save_checkpoint(val_loss, model)\n",
    "        elif score < self.best_score + self.delta:\n",
    "            self.counter += 1\n",
    "            if self.verbose:\n",
    "                self.trace_func(f'EarlyStopping counter: {self.counter} out of {self.patience}')\n",
    "            if self.counter >= self.patience:\n",
    "                self.early_stop = True\n",
    "        else:\n",
    "            self.best_score = score\n",
    "            self.save_checkpoint(val_loss, model)\n",
    "            self.counter = 0\n",
    "\n",
    "    def save_checkpoint(self, val_loss, model):\n",
    "        '''Saves model when validation loss decrease.'''\n",
    "        # if self.verbose:\n",
    "        #     self.trace_func(f'Validation loss decreased ({self.val_loss_min:.6f} --> {val_loss:.6f}).  Saving model ...')\n",
    "        if self.path is not None:\n",
    "            torch.save(model.state_dict(), self.path)\n",
    "        self.val_loss_min = val_loss"
   ]
  },
  {
   "cell_type": "code",
   "execution_count": 43,
   "id": "7855c226",
   "metadata": {
    "execution": {
     "iopub.execute_input": "2024-01-03T18:56:40.095597Z",
     "iopub.status.busy": "2024-01-03T18:56:40.095064Z",
     "iopub.status.idle": "2024-01-03T18:56:40.113765Z",
     "shell.execute_reply": "2024-01-03T18:56:40.112863Z"
    },
    "papermill": {
     "duration": 0.054434,
     "end_time": "2024-01-03T18:56:40.115885",
     "exception": false,
     "start_time": "2024-01-03T18:56:40.061451",
     "status": "completed"
    },
    "tags": []
   },
   "outputs": [],
   "source": [
    "def train(\n",
    "    model, train_loader, valid_loader, criterion, custom_metric, epochs,\n",
    "    optimizer, scheduler=None, early_stopping=None, device='cpu', metric_period=1,\n",
    "    verbose=True, save_dir = './checkpoints',\n",
    "):\n",
    "    model.to(device)\n",
    "    criterion.to(device)\n",
    "\n",
    "    best_loss  = 999999999\n",
    "    best_epoch = 1\n",
    "    best_model = None\n",
    "    is_best    = np.nan\n",
    "    best_model_state = deepcopy(model.state_dict())\n",
    "    \n",
    "    start_time = time.time()\n",
    "    epoch_s = time.time()\n",
    "    train_batch_num = 0\n",
    "    for epoch in range(1, epochs+1):\n",
    "        \n",
    "        # training step\n",
    "        train_loss = 0\n",
    "        train_metric_value = 0\n",
    "        pbar = tqdm(train_loader,desc='Train')\n",
    "        model.train()\n",
    "        for img, label in pbar:\n",
    "            img = img.to(device)\n",
    "            label = label.to(device)\n",
    "\n",
    "            optimizer.zero_grad()\n",
    "            output = model(img)#.float()\n",
    "            \n",
    "            loss = criterion(output, label)\n",
    "            metric_value = custom_metric(output, label)\n",
    "            \n",
    "            loss.backward()  # Getting gradients\n",
    "            optimizer.step() # Updating parameters\n",
    "            \n",
    "            train_loss += loss.item()\n",
    "            train_metric_value += metric_value\n",
    "            train_batch_num += 1\n",
    "            \n",
    "            desc = '[Train] loss: {:.4f}, metric: {:.4f}'.format(loss.item(),metric_value)\n",
    "            pbar.set_description(desc)\n",
    "            \n",
    "        train_loss /= train_batch_num\n",
    "        train_metric_value /= train_batch_num\n",
    "\n",
    "        # valiation step\n",
    "        valid_loss = 0\n",
    "        valid_metric_value = 0\n",
    "        valid_batch_num = 0\n",
    "        pbar = tqdm(valid_loader,desc='Validation')\n",
    "        model.eval()\n",
    "        with torch.no_grad():\n",
    "            for img, label in pbar:\n",
    "                img = img.to(device)\n",
    "                label = label.to(device)\n",
    "                output = model(img)#.float()\n",
    "\n",
    "                loss = criterion(output, label)\n",
    "                metric_value = custom_metric(output, label)\n",
    "                \n",
    "                valid_loss += loss.item()\n",
    "                valid_metric_value += metric_value\n",
    "                valid_batch_num += 1\n",
    "                \n",
    "                desc = '[Validation] loss: {:.4f}, metric: {:.4f}'.format(loss.item(),metric_value)\n",
    "                pbar.set_description(desc)\n",
    "\n",
    "            valid_loss /= valid_batch_num\n",
    "            valid_metric_value /= valid_batch_num\n",
    "\n",
    "        epoch_e = time.time()\n",
    "            \n",
    "        if scheduler is not None:\n",
    "            scheduler.step(valid_loss)\n",
    "\n",
    "        # update the best epoch & best loss\n",
    "        if (best_loss > valid_loss) | (epoch==1):\n",
    "            best_epoch = epoch\n",
    "            best_loss = valid_loss\n",
    "            best_model = model\n",
    "            is_best = 1\n",
    "            best_model_state = deepcopy(model.state_dict())\n",
    "            save_path = os.path.join(save_dir,'epoch({})-val_loss({:.3f}).pt'.format(epoch,valid_loss))\n",
    "            torch.save(best_model_state, save_path)\n",
    "        else:\n",
    "            is_best = 0\n",
    "            \n",
    "        # 결과물 printing\n",
    "        if (verbose) & (epoch % metric_period == 0):\n",
    "            mark = '*' if is_best else ' '\n",
    "            epoch_str = str(epoch).zfill(len(str(epochs)))\n",
    "            progress = '{}[{}/{}] loss: {:.4f}, metric: {:.4f}, val_loss: {:.4f}, val_metric: {:.4f}, best_epoch: {}, elapsed: {:.2f}s, total: {:.2f}s, remaining: {:.2f}s'\\\n",
    "                .format(\n",
    "                    mark,\n",
    "                    epoch_str,\n",
    "                    epochs,\n",
    "                    train_loss,\n",
    "                    train_metric_value,\n",
    "                    valid_loss,\n",
    "                    valid_metric_value,\n",
    "                    best_epoch,\n",
    "                    epoch_e-epoch_s,\n",
    "                    epoch_e-start_time,\n",
    "                    (epoch_e-epoch_s)*(epochs-epoch)/metric_period,\n",
    "                )\n",
    "            epoch_s = time.time()\n",
    "            print(progress)\n",
    "\n",
    "        # early stopping 여부를 체크. 현재 과적합 상황 추적\n",
    "        if early_stopping is not None:\n",
    "            early_stopping(valid_loss, model)\n",
    "            if early_stopping.early_stop:\n",
    "                break\n",
    "                \n",
    "        #print(model.state_dict()['linear.weight'])\n",
    "\n",
    "    model.load_state_dict(best_model_state)\n",
    "    return best_model"
   ]
  },
  {
   "cell_type": "code",
   "execution_count": 44,
   "id": "2ba0399e",
   "metadata": {
    "execution": {
     "iopub.execute_input": "2024-01-03T18:56:40.181947Z",
     "iopub.status.busy": "2024-01-03T18:56:40.181558Z",
     "iopub.status.idle": "2024-01-03T18:56:40.190021Z",
     "shell.execute_reply": "2024-01-03T18:56:40.189004Z"
    },
    "papermill": {
     "duration": 0.044874,
     "end_time": "2024-01-03T18:56:40.192403",
     "exception": false,
     "start_time": "2024-01-03T18:56:40.147529",
     "status": "completed"
    },
    "tags": []
   },
   "outputs": [],
   "source": [
    "class GeM(nn.Module):\n",
    "    def __init__(self, p=3, eps=1e-6):\n",
    "        super(GeM, self).__init__()\n",
    "        self.p = nn.Parameter(torch.ones(1)*p)\n",
    "        self.eps = eps\n",
    "\n",
    "    def forward(self, x):\n",
    "        return self.gem(x, p=self.p, eps=self.eps)\n",
    "        \n",
    "    def gem(self, x, p=3, eps=1e-6):\n",
    "        return F.avg_pool2d(x.clamp(min=eps).pow(p), (x.size(-2), x.size(-1))).pow(1./p)\n",
    "        \n",
    "    def __repr__(self):\n",
    "        return self.__class__.__name__ + \\\n",
    "                '(' + 'p=' + '{:.4f}'.format(self.p.data.tolist()[0]) + \\\n",
    "                ', ' + 'eps=' + str(self.eps) + ')'"
   ]
  },
  {
   "cell_type": "code",
   "execution_count": 45,
   "id": "7da15f30",
   "metadata": {
    "execution": {
     "iopub.execute_input": "2024-01-03T18:56:40.258963Z",
     "iopub.status.busy": "2024-01-03T18:56:40.257901Z",
     "iopub.status.idle": "2024-01-03T18:56:40.266468Z",
     "shell.execute_reply": "2024-01-03T18:56:40.265573Z"
    },
    "papermill": {
     "duration": 0.044995,
     "end_time": "2024-01-03T18:56:40.269018",
     "exception": false,
     "start_time": "2024-01-03T18:56:40.224023",
     "status": "completed"
    },
    "tags": []
   },
   "outputs": [],
   "source": [
    "class UBCModel(nn.Module):\n",
    "    def __init__(self, model_name, num_classes, pretrained=True):\n",
    "        super().__init__()\n",
    "        self.num_classes = num_classes\n",
    "        \n",
    "        self.model = timm.create_model(model_name, pretrained=pretrained)\n",
    "        self.arch = self.model.pretrained_cfg.get('architecture')\n",
    "        # for param in self.model.parameters():\n",
    "        #     param.requires_grad = False\n",
    "        \n",
    "        in_features = self.model.classifier.in_features\n",
    "        self.model.classifier = nn.Identity()\n",
    "        self.model.global_pool = nn.Identity()\n",
    "        self.pooling = GeM()\n",
    "        self.fc = nn.Linear(in_features, num_classes)\n",
    "\n",
    "    def forward(self, images):\n",
    "        features = self.model(images)\n",
    "        pooled_features = self.pooling(features).flatten(1)\n",
    "        output = self.fc(pooled_features)\n",
    "        return output"
   ]
  },
  {
   "cell_type": "code",
   "execution_count": 46,
   "id": "6fe27ede",
   "metadata": {
    "execution": {
     "iopub.execute_input": "2024-01-03T18:56:40.342039Z",
     "iopub.status.busy": "2024-01-03T18:56:40.341343Z",
     "iopub.status.idle": "2024-01-03T18:56:40.355995Z",
     "shell.execute_reply": "2024-01-03T18:56:40.354750Z"
    },
    "papermill": {
     "duration": 0.053616,
     "end_time": "2024-01-03T18:56:40.358716",
     "exception": false,
     "start_time": "2024-01-03T18:56:40.305100",
     "status": "completed"
    },
    "tags": []
   },
   "outputs": [],
   "source": [
    "# .iloc[:50]\n",
    "train_data, val_data = train_test_split(crop_df, test_size=0.2, shuffle=True, \n",
    "                                        random_state=CFG.SEED, stratify=crop_df['label'])\n",
    "\n",
    "train_dataset = UBCDataset(train_data, transforms['train'], is_test=False)\n",
    "valid_dataset = UBCDataset(val_data  , transforms['valid'], is_test=False)\n",
    "\n",
    "train_loader = DataLoader(train_dataset, batch_size=CFG.BATCH_SIZE, num_workers=2, shuffle=False, pin_memory=True)\n",
    "valid_loader = DataLoader(valid_dataset, batch_size=CFG.BATCH_SIZE, num_workers=2, shuffle=False, pin_memory=True)"
   ]
  },
  {
   "cell_type": "code",
   "execution_count": 47,
   "id": "9cfd80fb",
   "metadata": {
    "execution": {
     "iopub.execute_input": "2024-01-03T18:56:40.432611Z",
     "iopub.status.busy": "2024-01-03T18:56:40.432228Z",
     "iopub.status.idle": "2024-01-03T18:56:40.436648Z",
     "shell.execute_reply": "2024-01-03T18:56:40.435613Z"
    },
    "papermill": {
     "duration": 0.042685,
     "end_time": "2024-01-03T18:56:40.439211",
     "exception": false,
     "start_time": "2024-01-03T18:56:40.396526",
     "status": "completed"
    },
    "tags": []
   },
   "outputs": [],
   "source": [
    "# image = [img for img,label in train_loader][0]"
   ]
  },
  {
   "cell_type": "code",
   "execution_count": 48,
   "id": "0478fc8f",
   "metadata": {
    "execution": {
     "iopub.execute_input": "2024-01-03T18:56:40.506272Z",
     "iopub.status.busy": "2024-01-03T18:56:40.505517Z",
     "iopub.status.idle": "2024-01-03T18:56:40.509634Z",
     "shell.execute_reply": "2024-01-03T18:56:40.508773Z"
    },
    "papermill": {
     "duration": 0.038004,
     "end_time": "2024-01-03T18:56:40.511816",
     "exception": false,
     "start_time": "2024-01-03T18:56:40.473812",
     "status": "completed"
    },
    "tags": []
   },
   "outputs": [],
   "source": [
    "lr = 5e-4"
   ]
  },
  {
   "cell_type": "code",
   "execution_count": 49,
   "id": "1a05e3f0",
   "metadata": {
    "execution": {
     "iopub.execute_input": "2024-01-03T18:56:40.575955Z",
     "iopub.status.busy": "2024-01-03T18:56:40.575608Z",
     "iopub.status.idle": "2024-01-03T18:56:43.855977Z",
     "shell.execute_reply": "2024-01-03T18:56:43.854998Z"
    },
    "papermill": {
     "duration": 3.315868,
     "end_time": "2024-01-03T18:56:43.858486",
     "exception": false,
     "start_time": "2024-01-03T18:56:40.542618",
     "status": "completed"
    },
    "tags": []
   },
   "outputs": [],
   "source": [
    "# model = UBCModel(CFG.MODEL_NAME,CFG.NUM_CLASSES,pretrained=True) # for train\n",
    "model = UBCModel(CFG.MODEL_NAME,CFG.NUM_CLASSES,pretrained=False)  # for submission\n",
    "model = model.to(CFG.DEVICE)\n",
    "\n",
    "criterion = nn.CrossEntropyLoss(weight=class_weights)\n",
    "\n",
    "# optimizer = torch.optim.AdamW(params = model.parameters(), lr=lr)#, weight_decay=1e-5)\n",
    "# optimizer = torch.optim.SGD(params = model.parameters(), lr=lr, momentum=0.9)\n",
    "optimizer = AdaBound(model.parameters(), lr=lr)\n",
    "#optimizer = RAdam(self.parameters(), lr=lr)\n",
    "#optimizer = Lion(self.parameters(), lr=lr, weight_decay=1e-2)\n",
    "#optimizer = Adan(self.parameters(), lr=self.learn_rate * 10, betas=(0.02, 0.08, 0.01), weight_decay=0.02)\n",
    "\n",
    "# scheduler = torch.optim.lr_scheduler.ReduceLROnPlateau(\n",
    "#     optimizer, mode='min', factor=0.5, patience=2, threshold_mode='abs',min_lr=1e-7, verbose=True)\n",
    "scheduler = None\n",
    "\n",
    "# early_stopping = EarlyStopping(patience=10, verbose=True, path=None)\n",
    "early_stopping = None"
   ]
  },
  {
   "cell_type": "code",
   "execution_count": 50,
   "id": "2b5275c2",
   "metadata": {
    "execution": {
     "iopub.execute_input": "2024-01-03T18:56:43.923737Z",
     "iopub.status.busy": "2024-01-03T18:56:43.922967Z",
     "iopub.status.idle": "2024-01-03T18:56:43.927153Z",
     "shell.execute_reply": "2024-01-03T18:56:43.926266Z"
    },
    "papermill": {
     "duration": 0.038468,
     "end_time": "2024-01-03T18:56:43.929231",
     "exception": false,
     "start_time": "2024-01-03T18:56:43.890763",
     "status": "completed"
    },
    "tags": []
   },
   "outputs": [],
   "source": [
    "# summary(model,input_size=(3,256,256))"
   ]
  },
  {
   "cell_type": "code",
   "execution_count": 51,
   "id": "f3aa3dd0",
   "metadata": {
    "execution": {
     "iopub.execute_input": "2024-01-03T18:56:43.996286Z",
     "iopub.status.busy": "2024-01-03T18:56:43.995496Z",
     "iopub.status.idle": "2024-01-03T18:56:43.999712Z",
     "shell.execute_reply": "2024-01-03T18:56:43.998802Z"
    },
    "papermill": {
     "duration": 0.039735,
     "end_time": "2024-01-03T18:56:44.001795",
     "exception": false,
     "start_time": "2024-01-03T18:56:43.962060",
     "status": "completed"
    },
    "tags": []
   },
   "outputs": [],
   "source": [
    "# imgs = [img for img,label in valid_loader][0]\n",
    "# labels = [label for img,label in valid_loader][0]\n",
    "# validation(model, valid_loader, criterion, custom_metric, 'cuda')"
   ]
  },
  {
   "cell_type": "code",
   "execution_count": 52,
   "id": "b081540d",
   "metadata": {
    "execution": {
     "iopub.execute_input": "2024-01-03T18:56:44.067335Z",
     "iopub.status.busy": "2024-01-03T18:56:44.066937Z",
     "iopub.status.idle": "2024-01-03T18:56:44.529009Z",
     "shell.execute_reply": "2024-01-03T18:56:44.528031Z"
    },
    "papermill": {
     "duration": 0.496981,
     "end_time": "2024-01-03T18:56:44.531042",
     "exception": false,
     "start_time": "2024-01-03T18:56:44.034061",
     "status": "completed"
    },
    "tags": []
   },
   "outputs": [],
   "source": [
    "flush()"
   ]
  },
  {
   "cell_type": "code",
   "execution_count": 53,
   "id": "d23efea0",
   "metadata": {
    "execution": {
     "iopub.execute_input": "2024-01-03T18:56:44.594691Z",
     "iopub.status.busy": "2024-01-03T18:56:44.594280Z",
     "iopub.status.idle": "2024-01-03T18:56:44.598889Z",
     "shell.execute_reply": "2024-01-03T18:56:44.598072Z"
    },
    "papermill": {
     "duration": 0.038918,
     "end_time": "2024-01-03T18:56:44.600868",
     "exception": false,
     "start_time": "2024-01-03T18:56:44.561950",
     "status": "completed"
    },
    "tags": []
   },
   "outputs": [],
   "source": [
    "# epochs = 128\n",
    "\n",
    "# best_model = train(\n",
    "#     model,\n",
    "#     train_loader, valid_loader,\n",
    "#     criterion, bacc,\n",
    "#     epochs,\n",
    "#     optimizer, scheduler, early_stopping,\n",
    "#     device = 'cuda',\n",
    "#     metric_period = 1,\n",
    "#     verbose = True,\n",
    "#     save_dir = f'checkpoints/{CFG.MODEL_NAME}_{CFG.IMG_SIZE}',\n",
    "# )"
   ]
  },
  {
   "cell_type": "code",
   "execution_count": 54,
   "id": "15192821",
   "metadata": {
    "execution": {
     "iopub.execute_input": "2024-01-03T18:56:44.663879Z",
     "iopub.status.busy": "2024-01-03T18:56:44.663528Z",
     "iopub.status.idle": "2024-01-03T18:56:44.874422Z",
     "shell.execute_reply": "2024-01-03T18:56:44.873387Z"
    },
    "papermill": {
     "duration": 0.244261,
     "end_time": "2024-01-03T18:56:44.876477",
     "exception": false,
     "start_time": "2024-01-03T18:56:44.632216",
     "status": "completed"
    },
    "tags": []
   },
   "outputs": [],
   "source": [
    "flush()"
   ]
  },
  {
   "cell_type": "code",
   "execution_count": 55,
   "id": "e108b943",
   "metadata": {
    "execution": {
     "iopub.execute_input": "2024-01-03T18:56:44.943325Z",
     "iopub.status.busy": "2024-01-03T18:56:44.942561Z",
     "iopub.status.idle": "2024-01-03T18:56:44.947080Z",
     "shell.execute_reply": "2024-01-03T18:56:44.946109Z"
    },
    "papermill": {
     "duration": 0.040235,
     "end_time": "2024-01-03T18:56:44.949324",
     "exception": false,
     "start_time": "2024-01-03T18:56:44.909089",
     "status": "completed"
    },
    "tags": []
   },
   "outputs": [],
   "source": [
    "# sorted(glob.glob(f'checkpoints/{CFG.MODEL_NAME}_{CFG.IMG_SIZE}/*'))\n",
    "# !cp 'checkpoints/efficientnet_b0_1024/epoch(4)-val_loss(1.233).pt' 'epoch(4)-val_loss(1.233).pt'"
   ]
  },
  {
   "cell_type": "markdown",
   "id": "de0c4162",
   "metadata": {
    "papermill": {
     "duration": 0.033847,
     "end_time": "2024-01-03T18:56:45.017822",
     "exception": false,
     "start_time": "2024-01-03T18:56:44.983975",
     "status": "completed"
    },
    "tags": []
   },
   "source": [
    "<br>\n",
    "\n",
    "# Check Performance"
   ]
  },
  {
   "cell_type": "code",
   "execution_count": 56,
   "id": "145f8bdc",
   "metadata": {
    "execution": {
     "iopub.execute_input": "2024-01-03T18:56:45.084459Z",
     "iopub.status.busy": "2024-01-03T18:56:45.083695Z",
     "iopub.status.idle": "2024-01-03T18:56:45.091111Z",
     "shell.execute_reply": "2024-01-03T18:56:45.090176Z"
    },
    "papermill": {
     "duration": 0.043097,
     "end_time": "2024-01-03T18:56:45.093414",
     "exception": false,
     "start_time": "2024-01-03T18:56:45.050317",
     "status": "completed"
    },
    "tags": []
   },
   "outputs": [],
   "source": [
    "def predict(model, test_loader, device):\n",
    "    model.to(device)\n",
    "    model.eval()\n",
    "    outputs = []\n",
    "    with torch.no_grad():\n",
    "        for img in tqdm(test_loader,desc='test batch'):\n",
    "            img = img.to(device)\n",
    "            output = model(img)#.float()\n",
    "            outputs.append(output)\n",
    "    \n",
    "    outputs = torch.cat(outputs)\n",
    "    \n",
    "    probas = F.softmax(outputs,dim=1).data.squeeze()\n",
    "    preds = torch.argmax(outputs,dim=1)\n",
    "    \n",
    "    return preds.detach().cpu().numpy(), probas.detach().cpu().numpy()"
   ]
  },
  {
   "cell_type": "code",
   "execution_count": 57,
   "id": "0419e41f",
   "metadata": {
    "execution": {
     "iopub.execute_input": "2024-01-03T18:56:45.162017Z",
     "iopub.status.busy": "2024-01-03T18:56:45.161616Z",
     "iopub.status.idle": "2024-01-03T18:56:45.704669Z",
     "shell.execute_reply": "2024-01-03T18:56:45.703680Z"
    },
    "papermill": {
     "duration": 0.57998,
     "end_time": "2024-01-03T18:56:45.707018",
     "exception": false,
     "start_time": "2024-01-03T18:56:45.127038",
     "status": "completed"
    },
    "tags": []
   },
   "outputs": [
    {
     "name": "stdout",
     "output_type": "stream",
     "text": [
      "Saved Model Load\n"
     ]
    },
    {
     "data": {
      "text/plain": [
       "<All keys matched successfully>"
      ]
     },
     "execution_count": 57,
     "metadata": {},
     "output_type": "execute_result"
    }
   ],
   "source": [
    "print('Saved Model Load')\n",
    "\n",
    "# path = 'checkpoints/efficientnet_b0_1024/epoch(4)-val_loss(1.233).pt'\n",
    "path = '/kaggle/input/model-checkpoints-ubc/epoch(4)-val_loss(1.233).pt'\n",
    "\n",
    "model = UBCModel(CFG.MODEL_NAME,CFG.NUM_CLASSES,pretrained=False)\n",
    "model.to(CFG.DEVICE)\n",
    "model.load_state_dict(torch.load(path))"
   ]
  },
  {
   "cell_type": "code",
   "execution_count": 58,
   "id": "df914f49",
   "metadata": {
    "execution": {
     "iopub.execute_input": "2024-01-03T18:56:45.774758Z",
     "iopub.status.busy": "2024-01-03T18:56:45.774400Z",
     "iopub.status.idle": "2024-01-03T18:56:45.780737Z",
     "shell.execute_reply": "2024-01-03T18:56:45.779784Z"
    },
    "papermill": {
     "duration": 0.043493,
     "end_time": "2024-01-03T18:56:45.783608",
     "exception": false,
     "start_time": "2024-01-03T18:56:45.740115",
     "status": "completed"
    },
    "tags": []
   },
   "outputs": [
    {
     "name": "stdout",
     "output_type": "stream",
     "text": [
      "Data Loader\n"
     ]
    }
   ],
   "source": [
    "print('Data Loader')\n",
    "\n",
    "# train_dataset = UBCDataset(train_data, transforms['valid'], is_test=True)\n",
    "# train_loader  = DataLoader(train_dataset, batch_size=CFG.BATCH_SIZE, num_workers=2, shuffle=False, pin_memory=True)\n",
    "\n",
    "# valid_dataset = UBCDataset(val_data, transforms['valid'], is_test=True)\n",
    "# valid_loader  = DataLoader(valid_dataset, batch_size=CFG.BATCH_SIZE, num_workers=2, shuffle=False, pin_memory=True)\n",
    "\n",
    "test_dataset = UBCDataset(df_sub, transforms['valid'], is_test=True)\n",
    "test_loader  = DataLoader(test_dataset, batch_size=CFG.BATCH_SIZE, num_workers=0, shuffle=False, pin_memory=True)"
   ]
  },
  {
   "cell_type": "code",
   "execution_count": 59,
   "id": "68c76bae",
   "metadata": {
    "execution": {
     "iopub.execute_input": "2024-01-03T18:56:45.861783Z",
     "iopub.status.busy": "2024-01-03T18:56:45.861021Z",
     "iopub.status.idle": "2024-01-03T18:56:50.852187Z",
     "shell.execute_reply": "2024-01-03T18:56:50.851286Z"
    },
    "papermill": {
     "duration": 5.037768,
     "end_time": "2024-01-03T18:56:50.854322",
     "exception": false,
     "start_time": "2024-01-03T18:56:45.816554",
     "status": "completed"
    },
    "tags": []
   },
   "outputs": [
    {
     "name": "stdout",
     "output_type": "stream",
     "text": [
      "Prediction\n"
     ]
    },
    {
     "data": {
      "application/vnd.jupyter.widget-view+json": {
       "model_id": "7808dc6ac0cc45c3961e39407cc22d49",
       "version_major": 2,
       "version_minor": 0
      },
      "text/plain": [
       "test batch:   0%|          | 0/1 [00:00<?, ?it/s]"
      ]
     },
     "metadata": {},
     "output_type": "display_data"
    }
   ],
   "source": [
    "print('Prediction')\n",
    "\n",
    "# train_preds, train_probas = predict(model, train_loader, CFG.DEVICE)\n",
    "# valid_preds, valid_probas = predict(model, valid_loader, CFG.DEVICE)\n",
    "test_preds, test_probas = predict(model, test_loader, CFG.DEVICE)"
   ]
  },
  {
   "cell_type": "code",
   "execution_count": 60,
   "id": "3ee2a95f",
   "metadata": {
    "execution": {
     "iopub.execute_input": "2024-01-03T18:56:50.922326Z",
     "iopub.status.busy": "2024-01-03T18:56:50.921911Z",
     "iopub.status.idle": "2024-01-03T18:56:50.929949Z",
     "shell.execute_reply": "2024-01-03T18:56:50.928927Z"
    },
    "papermill": {
     "duration": 0.045107,
     "end_time": "2024-01-03T18:56:50.932006",
     "exception": false,
     "start_time": "2024-01-03T18:56:50.886899",
     "status": "completed"
    },
    "tags": []
   },
   "outputs": [],
   "source": [
    "def highlight_diag(df):\n",
    "    a = np.full(df.shape, '', dtype='<U24')\n",
    "    np.fill_diagonal(a, 'background-color: yellow')\n",
    "    return pd.DataFrame(a, index=df.index, columns=df.columns)\n",
    "\n",
    "def performances(preds,data):\n",
    "    display(pd.crosstab(preds, data['label']).style.apply(highlight_diag, axis=None))\n",
    "    for score_fn in [accuracy_score, f1_score, balanced_accuracy_score]:\n",
    "        if score_fn.__name__=='f1_score':\n",
    "            score = score_fn(preds, data['label'],average='macro')\n",
    "        else:\n",
    "            score = score_fn(preds, data['label'])\n",
    "        print(f'{score_fn.__name__}: {100*score:.2f}%')"
   ]
  },
  {
   "cell_type": "code",
   "execution_count": 61,
   "id": "f7d4dbf8",
   "metadata": {
    "execution": {
     "iopub.execute_input": "2024-01-03T18:56:51.002485Z",
     "iopub.status.busy": "2024-01-03T18:56:51.001373Z",
     "iopub.status.idle": "2024-01-03T18:56:51.006057Z",
     "shell.execute_reply": "2024-01-03T18:56:51.005170Z"
    },
    "papermill": {
     "duration": 0.042152,
     "end_time": "2024-01-03T18:56:51.008262",
     "exception": false,
     "start_time": "2024-01-03T18:56:50.966110",
     "status": "completed"
    },
    "tags": []
   },
   "outputs": [],
   "source": [
    "# performances(train_preds,train_data)\n",
    "# performances(valid_preds,val_data)"
   ]
  },
  {
   "cell_type": "markdown",
   "id": "5d6ed6ef",
   "metadata": {
    "papermill": {
     "duration": 0.030711,
     "end_time": "2024-01-03T18:56:51.072070",
     "exception": false,
     "start_time": "2024-01-03T18:56:51.041359",
     "status": "completed"
    },
    "tags": []
   },
   "source": [
    "<br>\n",
    "\n",
    "# Reference (Pytorch Lightning)"
   ]
  },
  {
   "cell_type": "code",
   "execution_count": 62,
   "id": "6212a33d",
   "metadata": {
    "execution": {
     "iopub.execute_input": "2024-01-03T18:56:51.138793Z",
     "iopub.status.busy": "2024-01-03T18:56:51.138137Z",
     "iopub.status.idle": "2024-01-03T18:56:51.150081Z",
     "shell.execute_reply": "2024-01-03T18:56:51.149171Z"
    },
    "papermill": {
     "duration": 0.048222,
     "end_time": "2024-01-03T18:56:51.152086",
     "exception": false,
     "start_time": "2024-01-03T18:56:51.103864",
     "status": "completed"
    },
    "tags": []
   },
   "outputs": [],
   "source": [
    "class UBCDataModule(pl.LightningDataModule):\n",
    "    def __init__(\n",
    "        self,\n",
    "        df,\n",
    "        batch_size: int = 32,\n",
    "        num_workers: int = None,\n",
    "        transforms = {'train': None, 'valid': None},\n",
    "    ):\n",
    "        super().__init__()\n",
    "        self.df = df\n",
    "        self.batch_size = batch_size\n",
    "        self.num_workers = num_workers or mp.cpu_count()\n",
    "        self.train_dataset = None\n",
    "        self.valid_dataset = None\n",
    "        self.train_transforms = transforms['train']\n",
    "        self.valid_transforms = transforms['valid']\n",
    "\n",
    "    def prepare_data(self):\n",
    "        pass\n",
    "\n",
    "    @property\n",
    "    def num_classes(self) -> int:\n",
    "        assert self.train_dataset and self.valid_dataset\n",
    "        return len(set(self.train_dataset.labels_unique + self.valid_dataset.labels_unique))\n",
    "\n",
    "    def setup(self, stage=None):\n",
    "        train_data, val_data = train_test_split(self.df, test_size=0.2, shuffle=True, \n",
    "                                                random_state=CFG.SEED, stratify=self.df['label'])\n",
    "\n",
    "        self.train_dataset = UBCDataset(train_data, self.train_transforms)\n",
    "        self.valid_dataset = UBCDataset(val_data  , self.valid_transforms)\n",
    "        #self.test_dataset  = UBCDataset(self.df   , self.valid_transforms)\n",
    "\n",
    "    def train_dataloader(self):\n",
    "        return DataLoader(\n",
    "            self.train_dataset,\n",
    "            batch_size=self.batch_size,\n",
    "            num_workers=self.num_workers,\n",
    "            shuffle=False,\n",
    "            pin_memory=True,\n",
    "        )\n",
    "\n",
    "    def val_dataloader(self):\n",
    "        return DataLoader(\n",
    "            self.valid_dataset,\n",
    "            batch_size=self.batch_size,\n",
    "            num_workers=self.num_workers,\n",
    "            shuffle=False,\n",
    "            pin_memory=True,\n",
    "        )\n",
    "\n",
    "    def test_dataloader(self):\n",
    "        pass\n",
    "        # return DataLoader(\n",
    "        #     self.test_dataset,\n",
    "        #     batch_size=self.batch_size,\n",
    "        #     num_workers=self.num_workers,\n",
    "        #     shuffle=False,\n",
    "        #     pin_memory=True,\n",
    "        # )"
   ]
  },
  {
   "cell_type": "code",
   "execution_count": 63,
   "id": "5ddd7128",
   "metadata": {
    "execution": {
     "iopub.execute_input": "2024-01-03T18:56:51.220029Z",
     "iopub.status.busy": "2024-01-03T18:56:51.219168Z",
     "iopub.status.idle": "2024-01-03T18:56:51.238076Z",
     "shell.execute_reply": "2024-01-03T18:56:51.237234Z"
    },
    "papermill": {
     "duration": 0.05557,
     "end_time": "2024-01-03T18:56:51.239994",
     "exception": false,
     "start_time": "2024-01-03T18:56:51.184424",
     "status": "completed"
    },
    "tags": []
   },
   "outputs": [],
   "source": [
    "class UBCModel(pl.LightningModule):\n",
    "\n",
    "    def __init__(self, net, lr: float = 1e-4):\n",
    "        super().__init__()\n",
    "        self.net = net\n",
    "        self.arch = net.pretrained_cfg.get('architecture')\n",
    "        self.num_classes = net.num_classes\n",
    "        self.learn_rate = lr\n",
    "        self.accuracy = MulticlassAccuracy(num_classes=self.num_classes)\n",
    "        self.f1_score = MulticlassF1Score(num_classes=self.num_classes)\n",
    "        self.balanced_accuracy = bacc\n",
    "        self.softmax = nn.Softmax(dim=1)\n",
    "        \n",
    "        self.net.to(self.device)\n",
    "        \n",
    "#         self.train_step_outputs = []\n",
    "#         self.validation_step_outputs = []\n",
    "        \n",
    "        if TV_GE_0_16:\n",
    "            # expriment with CutMix | MixUp with torch 2.1+\n",
    "            # https://pytorch.org/vision/stable/auto_examples/transforms/plot_cutmix_mixup.html#where-to-use-mixup-and-cutmix\n",
    "            cutmix = v2.CutMix(num_classes=net.num_classes)\n",
    "            mixup = v2.MixUp(num_classes=net.num_classes)\n",
    "            self.cutmix_or_mixup = v2.RandomChoice([cutmix, mixup])\n",
    "\n",
    "    def forward(self, x):\n",
    "        y = self.net(x)\n",
    "        y = self.softmax(y)\n",
    "        if y.isnan().any():\n",
    "            y = torch.ones_like(y) / self.num_classes\n",
    "        return y\n",
    "\n",
    "    def compute_loss(self, y_hat, y):\n",
    "        return F.cross_entropy(y_hat, y).to(self.device)\n",
    "\n",
    "    def training_step(self, batch, batch_idx):\n",
    "        perf = self.__share_step(batch, 'train')\n",
    "        #self.train_step_outputs.append(perf)\n",
    "    \n",
    "    def validation_step(self, batch, batch_idx):\n",
    "        perf = self.__share_step(batch, 'val')\n",
    "        #self.validation_step_outputs.append(perf)\n",
    "        \n",
    "    def test_step(self, batch, batch_idx):\n",
    "        perf = self.__share_step(batch, 'test')\n",
    "        \n",
    "    def __share_step(self, batch, mode):\n",
    "        flush()\n",
    "        \n",
    "        x, y = batch\n",
    "        x = x.to(self.device)\n",
    "        y = y.to(self.device)\n",
    "        \n",
    "        p_hat = self(x)\n",
    "        y_hat = torch.argmax(p_hat, axis=1)\n",
    "        \n",
    "        loss = self.compute_loss(p_hat, y)\n",
    "        acc_score  = self.accuracy(y_hat, y)\n",
    "        f1_score   = self.f1_score(y_hat, y)\n",
    "        bacc_score = self.balanced_accuracy(p_hat, y)\n",
    "\n",
    "        self.log(f\"{mode}_loss\", loss, logger=True, prog_bar=True)\n",
    "        self.log(f\"{mode}_acc\", acc_score, logger=True, prog_bar=False)\n",
    "        self.log(f\"{mode}_f1\", f1_score, logger=True, prog_bar=False)\n",
    "        self.log(f\"{mode}_bacc\", bacc_score, logger=True, prog_bar=True)\n",
    "        \n",
    "        return loss\n",
    "        \n",
    "    #     return {\n",
    "    #         'loss': loss,\n",
    "    #         'acc': acc_score,\n",
    "    #         'f1': f1_score,\n",
    "    #         'bacc': torch.tensor(bacc_score),\n",
    "    #     }\n",
    "\n",
    "    # def on_train_epoch_end(self):\n",
    "    #     self.__share_epoch_end('train')\n",
    "    #     self.train_step_outputs.clear()\n",
    "\n",
    "    # def on_validation_epoch_end(self):\n",
    "    #     self.__share_epoch_end('val')\n",
    "    #     self.validation_step_outputs.clear()\n",
    "\n",
    "    # def __share_epoch_end(self, mode):\n",
    "    #     if mode=='train':\n",
    "    #         outputs = self.train_step_outputs\n",
    "    #     elif mode=='val':\n",
    "    #         outputs = self.validation_step_outputs\n",
    "\n",
    "    #     avg_loss = torch.stack([x['loss'] for x in outputs]).mean()\n",
    "    #     avg_acc  = torch.stack([x['acc'] for x in outputs]).mean()\n",
    "    #     avg_f1   = torch.stack([x['f1'] for x in outputs]).mean()\n",
    "    #     avg_bacc = torch.stack([x['bacc'] for x in outputs]).mean()\n",
    "\n",
    "    #     self.log(f\"{mode}_loss\", avg_loss, logger=True, prog_bar=True)\n",
    "    #     self.log(f\"{mode}_acc\", avg_acc, logger=True, prog_bar=False)\n",
    "    #     self.log(f\"{mode}_f1\", avg_f1, logger=True, prog_bar=False)\n",
    "    #     self.log(f\"{mode}_bacc\", avg_bacc, logger=True, prog_bar=True)\n",
    "        \n",
    "    def configure_optimizers(self):\n",
    "        optimizer = AdaBound(self.parameters(), lr=self.learn_rate)\n",
    "        #optimizer = RAdam(self.parameters(), lr=self.learn_rate)\n",
    "        #optimizer = torch.optim.AdamW(self.parameters(), lr=self.learn_rate)\n",
    "        #optimizer = Lion(self.parameters(), lr=self.learn_rate, weight_decay=1e-2)\n",
    "        #optimizer = Adan(self.parameters(), lr=self.learn_rate * 10, betas=(0.02, 0.08, 0.01), weight_decay=0.02)\n",
    "        \n",
    "        #scheduler = torch.optim.lr_scheduler.CosineAnnealingLR(\n",
    "        #    optimizer, T_max=self.trainer.max_epochs, eta_min=1e-6, verbose=True)\n",
    "        scheduler = torch.optim.lr_scheduler.CyclicLR(\n",
    "            optimizer, base_lr=self.learn_rate, max_lr=self.learn_rate * 5,\n",
    "            step_size_up=5, cycle_momentum=False, mode=\"triangular2\", verbose=True)\n",
    "        #scheduler = torch.optim.lr_scheduler.OneCycleLR(\n",
    "        #    optimizer, max_lr=self.learn_rate * 5, steps_per_epoch=1, epochs=self.trainer.max_epochs)\n",
    "        return [optimizer], [scheduler]"
   ]
  },
  {
   "cell_type": "code",
   "execution_count": 64,
   "id": "7000491b",
   "metadata": {
    "execution": {
     "iopub.execute_input": "2024-01-03T18:56:51.308777Z",
     "iopub.status.busy": "2024-01-03T18:56:51.308072Z",
     "iopub.status.idle": "2024-01-03T18:56:51.312738Z",
     "shell.execute_reply": "2024-01-03T18:56:51.311652Z"
    },
    "papermill": {
     "duration": 0.041621,
     "end_time": "2024-01-03T18:56:51.315025",
     "exception": false,
     "start_time": "2024-01-03T18:56:51.273404",
     "status": "completed"
    },
    "tags": []
   },
   "outputs": [],
   "source": [
    "# net = timm.create_model(CFG.MODEL_NAME, pretrained=True, num_classes=CFG.NUM_CLASSES)\n",
    "# model = UBCModel(net, lr=1e-4)"
   ]
  },
  {
   "cell_type": "code",
   "execution_count": 65,
   "id": "26b8329d",
   "metadata": {
    "execution": {
     "iopub.execute_input": "2024-01-03T18:56:51.383000Z",
     "iopub.status.busy": "2024-01-03T18:56:51.382033Z",
     "iopub.status.idle": "2024-01-03T18:56:51.387161Z",
     "shell.execute_reply": "2024-01-03T18:56:51.386364Z"
    },
    "papermill": {
     "duration": 0.040062,
     "end_time": "2024-01-03T18:56:51.389089",
     "exception": false,
     "start_time": "2024-01-03T18:56:51.349027",
     "status": "completed"
    },
    "tags": []
   },
   "outputs": [],
   "source": [
    "# from pytorch_lightning.callbacks import EarlyStopping\n",
    "# logger = pl.loggers.CSVLogger(save_dir='logs/', name=model.arch)\n",
    "# es = EarlyStopping(monitor='val_loss', mode='min', patience=5, verbose=True)\n",
    "# mc = ModelCheckpoint(monitor='val_loss', mode='min', save_top_k=5, dirpath='mc', filename=\"checkpoint-{epoch:03d}-{val_loss:.2f}\")\n",
    "# # \"val_loss\" metric이 높은 상위 5개 checkpoint를 저장\n",
    "\n",
    "# # ==============================\n",
    "\n",
    "# trainer = pl.Trainer(\n",
    "#     accelerator=\"cuda\",\n",
    "#     devices=1,\n",
    "#     logger=logger,\n",
    "#     max_epochs=128,\n",
    "#     #precision=16,\n",
    "#     #accumulate_grad_batches=14,\n",
    "#     callbacks=[mc],#[es,mc],\n",
    "#     #fast_dev_run=True,\n",
    "#     #val_check_interval=0.5,\n",
    "# )\n",
    "\n",
    "# # ==============================\n",
    "\n",
    "# # trainer.tune(model, datamodule=datamodule)\n",
    "# trainer.fit(model=model, datamodule=datamodule)"
   ]
  },
  {
   "cell_type": "code",
   "execution_count": 66,
   "id": "341be7f3",
   "metadata": {
    "execution": {
     "iopub.execute_input": "2024-01-03T18:56:51.455007Z",
     "iopub.status.busy": "2024-01-03T18:56:51.454103Z",
     "iopub.status.idle": "2024-01-03T18:56:51.458965Z",
     "shell.execute_reply": "2024-01-03T18:56:51.457930Z"
    },
    "papermill": {
     "duration": 0.040708,
     "end_time": "2024-01-03T18:56:51.461321",
     "exception": false,
     "start_time": "2024-01-03T18:56:51.420613",
     "status": "completed"
    },
    "tags": []
   },
   "outputs": [],
   "source": [
    "# model = UBCModel.load_from_checkpoint(model_path, net=net, lr=1e-4)\n",
    "# model.eval()\n",
    "\n",
    "# with torch.no_grad():\n",
    "#     output_list = []\n",
    "#     label_list = []\n",
    "#     for img,label in tqdm(datamodule.test_dataloader()):\n",
    "#         img = img.to(CFG.DEVICE)\n",
    "#         label = label.to(CFG.DEVICE)\n",
    "        \n",
    "#         output = model(img)\n",
    "        \n",
    "#         output_list.append(output)\n",
    "#         label_list.append(label)"
   ]
  },
  {
   "cell_type": "code",
   "execution_count": 67,
   "id": "e6216637",
   "metadata": {
    "execution": {
     "iopub.execute_input": "2024-01-03T18:56:51.529647Z",
     "iopub.status.busy": "2024-01-03T18:56:51.528967Z",
     "iopub.status.idle": "2024-01-03T18:56:51.533707Z",
     "shell.execute_reply": "2024-01-03T18:56:51.532656Z"
    },
    "papermill": {
     "duration": 0.041068,
     "end_time": "2024-01-03T18:56:51.535926",
     "exception": false,
     "start_time": "2024-01-03T18:56:51.494858",
     "status": "completed"
    },
    "tags": []
   },
   "outputs": [],
   "source": [
    "# pred = torch.argmax(torch.cat(output_list),axis=1).detach().cpu().numpy()\n",
    "# true = torch.cat(label_list).detach().cpu().numpy()\n",
    "# pd.crosstab(true,pred)"
   ]
  },
  {
   "cell_type": "markdown",
   "id": "6ba3d840",
   "metadata": {
    "papermill": {
     "duration": 0.033725,
     "end_time": "2024-01-03T18:56:51.602891",
     "exception": false,
     "start_time": "2024-01-03T18:56:51.569166",
     "status": "completed"
    },
    "tags": []
   },
   "source": [
    "<br>\n",
    "\n",
    "# Inference"
   ]
  },
  {
   "cell_type": "code",
   "execution_count": 68,
   "id": "9300a0e3",
   "metadata": {
    "execution": {
     "iopub.execute_input": "2024-01-03T18:56:51.673500Z",
     "iopub.status.busy": "2024-01-03T18:56:51.672538Z",
     "iopub.status.idle": "2024-01-03T18:56:51.683914Z",
     "shell.execute_reply": "2024-01-03T18:56:51.682729Z"
    },
    "papermill": {
     "duration": 0.049738,
     "end_time": "2024-01-03T18:56:51.686153",
     "exception": false,
     "start_time": "2024-01-03T18:56:51.636415",
     "status": "completed"
    },
    "tags": []
   },
   "outputs": [
    {
     "name": "stdout",
     "output_type": "stream",
     "text": [
      "Inference\n"
     ]
    }
   ],
   "source": [
    "print('Inference')\n",
    "\n",
    "# df_sub = pd.read_csv('/kaggle/input/UBC-OCEAN/sample_submission.csv')\n",
    "df_sub['label'] = test_preds\n",
    "df_sub['label'] = df_sub['label'].map(label2id)\n",
    "df_sub[[\"image_id\", \"label\"]].to_csv(\"submission.csv\", index=False)"
   ]
  },
  {
   "cell_type": "code",
   "execution_count": 69,
   "id": "f3d02ae2",
   "metadata": {
    "execution": {
     "iopub.execute_input": "2024-01-03T18:56:51.756053Z",
     "iopub.status.busy": "2024-01-03T18:56:51.755053Z",
     "iopub.status.idle": "2024-01-03T18:56:51.759642Z",
     "shell.execute_reply": "2024-01-03T18:56:51.758641Z"
    },
    "papermill": {
     "duration": 0.04061,
     "end_time": "2024-01-03T18:56:51.761645",
     "exception": false,
     "start_time": "2024-01-03T18:56:51.721035",
     "status": "completed"
    },
    "tags": []
   },
   "outputs": [],
   "source": [
    "# pd.read_csv('submission.csv')"
   ]
  },
  {
   "cell_type": "code",
   "execution_count": null,
   "id": "fe3a3e5e",
   "metadata": {
    "papermill": {
     "duration": 0.035194,
     "end_time": "2024-01-03T18:56:51.830899",
     "exception": false,
     "start_time": "2024-01-03T18:56:51.795705",
     "status": "completed"
    },
    "tags": []
   },
   "outputs": [],
   "source": []
  }
 ],
 "metadata": {
  "kaggle": {
   "accelerator": "gpu",
   "dataSources": [
    {
     "databundleVersionId": 6924515,
     "sourceId": 45867,
     "sourceType": "competition"
    },
    {
     "datasetId": 4214349,
     "sourceId": 7291773,
     "sourceType": "datasetVersion"
    },
    {
     "datasetId": 4234028,
     "sourceId": 7298838,
     "sourceType": "datasetVersion"
    },
    {
     "datasetId": 4248028,
     "sourceId": 7320144,
     "sourceType": "datasetVersion"
    }
   ],
   "dockerImageVersionId": 30626,
   "isGpuEnabled": true,
   "isInternetEnabled": false,
   "language": "python",
   "sourceType": "notebook"
  },
  "kernelspec": {
   "display_name": "Python 3",
   "language": "python",
   "name": "python3"
  },
  "language_info": {
   "codemirror_mode": {
    "name": "ipython",
    "version": 3
   },
   "file_extension": ".py",
   "mimetype": "text/x-python",
   "name": "python",
   "nbconvert_exporter": "python",
   "pygments_lexer": "ipython3",
   "version": "3.10.12"
  },
  "papermill": {
   "default_parameters": {},
   "duration": 136.017807,
   "end_time": "2024-01-03T18:56:54.689020",
   "environment_variables": {},
   "exception": null,
   "input_path": "__notebook__.ipynb",
   "output_path": "__notebook__.ipynb",
   "parameters": {},
   "start_time": "2024-01-03T18:54:38.671213",
   "version": "2.4.0"
  },
  "widgets": {
   "application/vnd.jupyter.widget-state+json": {
    "state": {
     "01c28d812a5048b2824e7c88a2cf9701": {
      "model_module": "@jupyter-widgets/controls",
      "model_module_version": "1.5.0",
      "model_name": "HTMLModel",
      "state": {
       "_dom_classes": [],
       "_model_module": "@jupyter-widgets/controls",
       "_model_module_version": "1.5.0",
       "_model_name": "HTMLModel",
       "_view_count": null,
       "_view_module": "@jupyter-widgets/controls",
       "_view_module_version": "1.5.0",
       "_view_name": "HTMLView",
       "description": "",
       "description_tooltip": null,
       "layout": "IPY_MODEL_2d7e87d5e0bf44fd98fe76600ce78d9f",
       "placeholder": "​",
       "style": "IPY_MODEL_62a01d2d7b24480397300d4f8ad2b84c",
       "value": "Thumbnail: 100%"
      }
     },
     "167576a34e064fa1ab23d2b01891d210": {
      "model_module": "@jupyter-widgets/base",
      "model_module_version": "1.2.0",
      "model_name": "LayoutModel",
      "state": {
       "_model_module": "@jupyter-widgets/base",
       "_model_module_version": "1.2.0",
       "_model_name": "LayoutModel",
       "_view_count": null,
       "_view_module": "@jupyter-widgets/base",
       "_view_module_version": "1.2.0",
       "_view_name": "LayoutView",
       "align_content": null,
       "align_items": null,
       "align_self": null,
       "border": null,
       "bottom": null,
       "display": null,
       "flex": null,
       "flex_flow": null,
       "grid_area": null,
       "grid_auto_columns": null,
       "grid_auto_flow": null,
       "grid_auto_rows": null,
       "grid_column": null,
       "grid_gap": null,
       "grid_row": null,
       "grid_template_areas": null,
       "grid_template_columns": null,
       "grid_template_rows": null,
       "height": null,
       "justify_content": null,
       "justify_items": null,
       "left": null,
       "margin": null,
       "max_height": null,
       "max_width": null,
       "min_height": null,
       "min_width": null,
       "object_fit": null,
       "object_position": null,
       "order": null,
       "overflow": null,
       "overflow_x": null,
       "overflow_y": null,
       "padding": null,
       "right": null,
       "top": null,
       "visibility": null,
       "width": null
      }
     },
     "17b4ad30ee0048858879a89cef6ddabd": {
      "model_module": "@jupyter-widgets/controls",
      "model_module_version": "1.5.0",
      "model_name": "ProgressStyleModel",
      "state": {
       "_model_module": "@jupyter-widgets/controls",
       "_model_module_version": "1.5.0",
       "_model_name": "ProgressStyleModel",
       "_view_count": null,
       "_view_module": "@jupyter-widgets/base",
       "_view_module_version": "1.2.0",
       "_view_name": "StyleView",
       "bar_color": null,
       "description_width": ""
      }
     },
     "20dfcaed64db48ee816dc0d19f0da533": {
      "model_module": "@jupyter-widgets/controls",
      "model_module_version": "1.5.0",
      "model_name": "HTMLModel",
      "state": {
       "_dom_classes": [],
       "_model_module": "@jupyter-widgets/controls",
       "_model_module_version": "1.5.0",
       "_model_name": "HTMLModel",
       "_view_count": null,
       "_view_module": "@jupyter-widgets/controls",
       "_view_module_version": "1.5.0",
       "_view_name": "HTMLView",
       "description": "",
       "description_tooltip": null,
       "layout": "IPY_MODEL_a6947a37985342d7aadf7f2d6749d5b6",
       "placeholder": "​",
       "style": "IPY_MODEL_788b2bcfa460409ba5c946e9be8630e8",
       "value": " 1/1 [00:00&lt;00:00, 52.96it/s]"
      }
     },
     "22ce8a064be64381833548e279ad663b": {
      "model_module": "@jupyter-widgets/base",
      "model_module_version": "1.2.0",
      "model_name": "LayoutModel",
      "state": {
       "_model_module": "@jupyter-widgets/base",
       "_model_module_version": "1.2.0",
       "_model_name": "LayoutModel",
       "_view_count": null,
       "_view_module": "@jupyter-widgets/base",
       "_view_module_version": "1.2.0",
       "_view_name": "LayoutView",
       "align_content": null,
       "align_items": null,
       "align_self": null,
       "border": null,
       "bottom": null,
       "display": null,
       "flex": null,
       "flex_flow": null,
       "grid_area": null,
       "grid_auto_columns": null,
       "grid_auto_flow": null,
       "grid_auto_rows": null,
       "grid_column": null,
       "grid_gap": null,
       "grid_row": null,
       "grid_template_areas": null,
       "grid_template_columns": null,
       "grid_template_rows": null,
       "height": null,
       "justify_content": null,
       "justify_items": null,
       "left": null,
       "margin": null,
       "max_height": null,
       "max_width": null,
       "min_height": null,
       "min_width": null,
       "object_fit": null,
       "object_position": null,
       "order": null,
       "overflow": null,
       "overflow_x": null,
       "overflow_y": null,
       "padding": null,
       "right": null,
       "top": null,
       "visibility": null,
       "width": null
      }
     },
     "2d7e87d5e0bf44fd98fe76600ce78d9f": {
      "model_module": "@jupyter-widgets/base",
      "model_module_version": "1.2.0",
      "model_name": "LayoutModel",
      "state": {
       "_model_module": "@jupyter-widgets/base",
       "_model_module_version": "1.2.0",
       "_model_name": "LayoutModel",
       "_view_count": null,
       "_view_module": "@jupyter-widgets/base",
       "_view_module_version": "1.2.0",
       "_view_name": "LayoutView",
       "align_content": null,
       "align_items": null,
       "align_self": null,
       "border": null,
       "bottom": null,
       "display": null,
       "flex": null,
       "flex_flow": null,
       "grid_area": null,
       "grid_auto_columns": null,
       "grid_auto_flow": null,
       "grid_auto_rows": null,
       "grid_column": null,
       "grid_gap": null,
       "grid_row": null,
       "grid_template_areas": null,
       "grid_template_columns": null,
       "grid_template_rows": null,
       "height": null,
       "justify_content": null,
       "justify_items": null,
       "left": null,
       "margin": null,
       "max_height": null,
       "max_width": null,
       "min_height": null,
       "min_width": null,
       "object_fit": null,
       "object_position": null,
       "order": null,
       "overflow": null,
       "overflow_x": null,
       "overflow_y": null,
       "padding": null,
       "right": null,
       "top": null,
       "visibility": null,
       "width": null
      }
     },
     "30d3cfe28a144028abca67eccc7021f0": {
      "model_module": "@jupyter-widgets/controls",
      "model_module_version": "1.5.0",
      "model_name": "DescriptionStyleModel",
      "state": {
       "_model_module": "@jupyter-widgets/controls",
       "_model_module_version": "1.5.0",
       "_model_name": "DescriptionStyleModel",
       "_view_count": null,
       "_view_module": "@jupyter-widgets/base",
       "_view_module_version": "1.2.0",
       "_view_name": "StyleView",
       "description_width": ""
      }
     },
     "32aef6689dba4286a9c5ec3674a26996": {
      "model_module": "@jupyter-widgets/base",
      "model_module_version": "1.2.0",
      "model_name": "LayoutModel",
      "state": {
       "_model_module": "@jupyter-widgets/base",
       "_model_module_version": "1.2.0",
       "_model_name": "LayoutModel",
       "_view_count": null,
       "_view_module": "@jupyter-widgets/base",
       "_view_module_version": "1.2.0",
       "_view_name": "LayoutView",
       "align_content": null,
       "align_items": null,
       "align_self": null,
       "border": null,
       "bottom": null,
       "display": null,
       "flex": null,
       "flex_flow": null,
       "grid_area": null,
       "grid_auto_columns": null,
       "grid_auto_flow": null,
       "grid_auto_rows": null,
       "grid_column": null,
       "grid_gap": null,
       "grid_row": null,
       "grid_template_areas": null,
       "grid_template_columns": null,
       "grid_template_rows": null,
       "height": null,
       "justify_content": null,
       "justify_items": null,
       "left": null,
       "margin": null,
       "max_height": null,
       "max_width": null,
       "min_height": null,
       "min_width": null,
       "object_fit": null,
       "object_position": null,
       "order": null,
       "overflow": null,
       "overflow_x": null,
       "overflow_y": null,
       "padding": null,
       "right": null,
       "top": null,
       "visibility": null,
       "width": null
      }
     },
     "3712728d292d4170873df14f43d03b4e": {
      "model_module": "@jupyter-widgets/controls",
      "model_module_version": "1.5.0",
      "model_name": "FloatProgressModel",
      "state": {
       "_dom_classes": [],
       "_model_module": "@jupyter-widgets/controls",
       "_model_module_version": "1.5.0",
       "_model_name": "FloatProgressModel",
       "_view_count": null,
       "_view_module": "@jupyter-widgets/controls",
       "_view_module_version": "1.5.0",
       "_view_name": "ProgressView",
       "bar_style": "success",
       "description": "",
       "description_tooltip": null,
       "layout": "IPY_MODEL_d43598b0791c4cda87d7d6e0972d992d",
       "max": 538.0,
       "min": 0.0,
       "orientation": "horizontal",
       "style": "IPY_MODEL_dbadd8671e9e4583b1dd76482c6f5c20",
       "value": 538.0
      }
     },
     "382a8506ef83461fac3a8de69c53ba00": {
      "model_module": "@jupyter-widgets/base",
      "model_module_version": "1.2.0",
      "model_name": "LayoutModel",
      "state": {
       "_model_module": "@jupyter-widgets/base",
       "_model_module_version": "1.2.0",
       "_model_name": "LayoutModel",
       "_view_count": null,
       "_view_module": "@jupyter-widgets/base",
       "_view_module_version": "1.2.0",
       "_view_name": "LayoutView",
       "align_content": null,
       "align_items": null,
       "align_self": null,
       "border": null,
       "bottom": null,
       "display": null,
       "flex": null,
       "flex_flow": null,
       "grid_area": null,
       "grid_auto_columns": null,
       "grid_auto_flow": null,
       "grid_auto_rows": null,
       "grid_column": null,
       "grid_gap": null,
       "grid_row": null,
       "grid_template_areas": null,
       "grid_template_columns": null,
       "grid_template_rows": null,
       "height": null,
       "justify_content": null,
       "justify_items": null,
       "left": null,
       "margin": null,
       "max_height": null,
       "max_width": null,
       "min_height": null,
       "min_width": null,
       "object_fit": null,
       "object_position": null,
       "order": null,
       "overflow": null,
       "overflow_x": null,
       "overflow_y": null,
       "padding": null,
       "right": null,
       "top": null,
       "visibility": null,
       "width": null
      }
     },
     "3a3bc7a1615741acaa402d4a321bab09": {
      "model_module": "@jupyter-widgets/base",
      "model_module_version": "1.2.0",
      "model_name": "LayoutModel",
      "state": {
       "_model_module": "@jupyter-widgets/base",
       "_model_module_version": "1.2.0",
       "_model_name": "LayoutModel",
       "_view_count": null,
       "_view_module": "@jupyter-widgets/base",
       "_view_module_version": "1.2.0",
       "_view_name": "LayoutView",
       "align_content": null,
       "align_items": null,
       "align_self": null,
       "border": null,
       "bottom": null,
       "display": null,
       "flex": null,
       "flex_flow": null,
       "grid_area": null,
       "grid_auto_columns": null,
       "grid_auto_flow": null,
       "grid_auto_rows": null,
       "grid_column": null,
       "grid_gap": null,
       "grid_row": null,
       "grid_template_areas": null,
       "grid_template_columns": null,
       "grid_template_rows": null,
       "height": null,
       "justify_content": null,
       "justify_items": null,
       "left": null,
       "margin": null,
       "max_height": null,
       "max_width": null,
       "min_height": null,
       "min_width": null,
       "object_fit": null,
       "object_position": null,
       "order": null,
       "overflow": null,
       "overflow_x": null,
       "overflow_y": null,
       "padding": null,
       "right": null,
       "top": null,
       "visibility": null,
       "width": null
      }
     },
     "3a9f224161654b0988eddb41a80773bb": {
      "model_module": "@jupyter-widgets/controls",
      "model_module_version": "1.5.0",
      "model_name": "HTMLModel",
      "state": {
       "_dom_classes": [],
       "_model_module": "@jupyter-widgets/controls",
       "_model_module_version": "1.5.0",
       "_model_name": "HTMLModel",
       "_view_count": null,
       "_view_module": "@jupyter-widgets/controls",
       "_view_module_version": "1.5.0",
       "_view_name": "HTMLView",
       "description": "",
       "description_tooltip": null,
       "layout": "IPY_MODEL_32aef6689dba4286a9c5ec3674a26996",
       "placeholder": "​",
       "style": "IPY_MODEL_30d3cfe28a144028abca67eccc7021f0",
       "value": " 1/1 [00:04&lt;00:00,  4.97s/it]"
      }
     },
     "3b4d5ed1350c4aed8b81758598ac185c": {
      "model_module": "@jupyter-widgets/controls",
      "model_module_version": "1.5.0",
      "model_name": "DescriptionStyleModel",
      "state": {
       "_model_module": "@jupyter-widgets/controls",
       "_model_module_version": "1.5.0",
       "_model_name": "DescriptionStyleModel",
       "_view_count": null,
       "_view_module": "@jupyter-widgets/base",
       "_view_module_version": "1.2.0",
       "_view_name": "StyleView",
       "description_width": ""
      }
     },
     "437ff7f77400451c8957c6d4ede398f1": {
      "model_module": "@jupyter-widgets/controls",
      "model_module_version": "1.5.0",
      "model_name": "FloatProgressModel",
      "state": {
       "_dom_classes": [],
       "_model_module": "@jupyter-widgets/controls",
       "_model_module_version": "1.5.0",
       "_model_name": "FloatProgressModel",
       "_view_count": null,
       "_view_module": "@jupyter-widgets/controls",
       "_view_module_version": "1.5.0",
       "_view_name": "ProgressView",
       "bar_style": "success",
       "description": "",
       "description_tooltip": null,
       "layout": "IPY_MODEL_574e5d74c3884637b77bf55ddb20809a",
       "max": 1.0,
       "min": 0.0,
       "orientation": "horizontal",
       "style": "IPY_MODEL_67cb106e0c1f4a27b0cc2b300afc4748",
       "value": 1.0
      }
     },
     "4dfc6b83d57643108d7adabb58d604e7": {
      "model_module": "@jupyter-widgets/controls",
      "model_module_version": "1.5.0",
      "model_name": "DescriptionStyleModel",
      "state": {
       "_model_module": "@jupyter-widgets/controls",
       "_model_module_version": "1.5.0",
       "_model_name": "DescriptionStyleModel",
       "_view_count": null,
       "_view_module": "@jupyter-widgets/base",
       "_view_module_version": "1.2.0",
       "_view_name": "StyleView",
       "description_width": ""
      }
     },
     "54dcd6d50911422b8156b77f533948fa": {
      "model_module": "@jupyter-widgets/controls",
      "model_module_version": "1.5.0",
      "model_name": "HBoxModel",
      "state": {
       "_dom_classes": [],
       "_model_module": "@jupyter-widgets/controls",
       "_model_module_version": "1.5.0",
       "_model_name": "HBoxModel",
       "_view_count": null,
       "_view_module": "@jupyter-widgets/controls",
       "_view_module_version": "1.5.0",
       "_view_name": "HBoxView",
       "box_style": "",
       "children": [
        "IPY_MODEL_c8bcee5805124e48b989478883bf40e5",
        "IPY_MODEL_3712728d292d4170873df14f43d03b4e",
        "IPY_MODEL_5a08e2a7f8da4134933a9b2256c0fe1f"
       ],
       "layout": "IPY_MODEL_c2c625c288c449ecb652a308e3d35572"
      }
     },
     "574e5d74c3884637b77bf55ddb20809a": {
      "model_module": "@jupyter-widgets/base",
      "model_module_version": "1.2.0",
      "model_name": "LayoutModel",
      "state": {
       "_model_module": "@jupyter-widgets/base",
       "_model_module_version": "1.2.0",
       "_model_name": "LayoutModel",
       "_view_count": null,
       "_view_module": "@jupyter-widgets/base",
       "_view_module_version": "1.2.0",
       "_view_name": "LayoutView",
       "align_content": null,
       "align_items": null,
       "align_self": null,
       "border": null,
       "bottom": null,
       "display": null,
       "flex": null,
       "flex_flow": null,
       "grid_area": null,
       "grid_auto_columns": null,
       "grid_auto_flow": null,
       "grid_auto_rows": null,
       "grid_column": null,
       "grid_gap": null,
       "grid_row": null,
       "grid_template_areas": null,
       "grid_template_columns": null,
       "grid_template_rows": null,
       "height": null,
       "justify_content": null,
       "justify_items": null,
       "left": null,
       "margin": null,
       "max_height": null,
       "max_width": null,
       "min_height": null,
       "min_width": null,
       "object_fit": null,
       "object_position": null,
       "order": null,
       "overflow": null,
       "overflow_x": null,
       "overflow_y": null,
       "padding": null,
       "right": null,
       "top": null,
       "visibility": null,
       "width": null
      }
     },
     "5a08e2a7f8da4134933a9b2256c0fe1f": {
      "model_module": "@jupyter-widgets/controls",
      "model_module_version": "1.5.0",
      "model_name": "HTMLModel",
      "state": {
       "_dom_classes": [],
       "_model_module": "@jupyter-widgets/controls",
       "_model_module_version": "1.5.0",
       "_model_name": "HTMLModel",
       "_view_count": null,
       "_view_module": "@jupyter-widgets/controls",
       "_view_module_version": "1.5.0",
       "_view_name": "HTMLView",
       "description": "",
       "description_tooltip": null,
       "layout": "IPY_MODEL_a531e171dc0e4a5c9bd6b97370dccdcd",
       "placeholder": "​",
       "style": "IPY_MODEL_b849587aee7f4d90bd74e2a86df80925",
       "value": " 538/538 [00:41&lt;00:00, 12.17it/s]"
      }
     },
     "62a01d2d7b24480397300d4f8ad2b84c": {
      "model_module": "@jupyter-widgets/controls",
      "model_module_version": "1.5.0",
      "model_name": "DescriptionStyleModel",
      "state": {
       "_model_module": "@jupyter-widgets/controls",
       "_model_module_version": "1.5.0",
       "_model_name": "DescriptionStyleModel",
       "_view_count": null,
       "_view_module": "@jupyter-widgets/base",
       "_view_module_version": "1.2.0",
       "_view_name": "StyleView",
       "description_width": ""
      }
     },
     "67cb106e0c1f4a27b0cc2b300afc4748": {
      "model_module": "@jupyter-widgets/controls",
      "model_module_version": "1.5.0",
      "model_name": "ProgressStyleModel",
      "state": {
       "_model_module": "@jupyter-widgets/controls",
       "_model_module_version": "1.5.0",
       "_model_name": "ProgressStyleModel",
       "_view_count": null,
       "_view_module": "@jupyter-widgets/base",
       "_view_module_version": "1.2.0",
       "_view_name": "StyleView",
       "bar_color": null,
       "description_width": ""
      }
     },
     "71b0c58f5c204c23b1611b78bc9a8e06": {
      "model_module": "@jupyter-widgets/base",
      "model_module_version": "1.2.0",
      "model_name": "LayoutModel",
      "state": {
       "_model_module": "@jupyter-widgets/base",
       "_model_module_version": "1.2.0",
       "_model_name": "LayoutModel",
       "_view_count": null,
       "_view_module": "@jupyter-widgets/base",
       "_view_module_version": "1.2.0",
       "_view_name": "LayoutView",
       "align_content": null,
       "align_items": null,
       "align_self": null,
       "border": null,
       "bottom": null,
       "display": null,
       "flex": null,
       "flex_flow": null,
       "grid_area": null,
       "grid_auto_columns": null,
       "grid_auto_flow": null,
       "grid_auto_rows": null,
       "grid_column": null,
       "grid_gap": null,
       "grid_row": null,
       "grid_template_areas": null,
       "grid_template_columns": null,
       "grid_template_rows": null,
       "height": null,
       "justify_content": null,
       "justify_items": null,
       "left": null,
       "margin": null,
       "max_height": null,
       "max_width": null,
       "min_height": null,
       "min_width": null,
       "object_fit": null,
       "object_position": null,
       "order": null,
       "overflow": null,
       "overflow_x": null,
       "overflow_y": null,
       "padding": null,
       "right": null,
       "top": null,
       "visibility": null,
       "width": null
      }
     },
     "7808dc6ac0cc45c3961e39407cc22d49": {
      "model_module": "@jupyter-widgets/controls",
      "model_module_version": "1.5.0",
      "model_name": "HBoxModel",
      "state": {
       "_dom_classes": [],
       "_model_module": "@jupyter-widgets/controls",
       "_model_module_version": "1.5.0",
       "_model_name": "HBoxModel",
       "_view_count": null,
       "_view_module": "@jupyter-widgets/controls",
       "_view_module_version": "1.5.0",
       "_view_name": "HBoxView",
       "box_style": "",
       "children": [
        "IPY_MODEL_e23cf7acc00d4c0ab49a5d5f7784b284",
        "IPY_MODEL_437ff7f77400451c8957c6d4ede398f1",
        "IPY_MODEL_3a9f224161654b0988eddb41a80773bb"
       ],
       "layout": "IPY_MODEL_b086cd14f6644cb48a694e27cbc42a44"
      }
     },
     "788b2bcfa460409ba5c946e9be8630e8": {
      "model_module": "@jupyter-widgets/controls",
      "model_module_version": "1.5.0",
      "model_name": "DescriptionStyleModel",
      "state": {
       "_model_module": "@jupyter-widgets/controls",
       "_model_module_version": "1.5.0",
       "_model_name": "DescriptionStyleModel",
       "_view_count": null,
       "_view_module": "@jupyter-widgets/base",
       "_view_module_version": "1.2.0",
       "_view_name": "StyleView",
       "description_width": ""
      }
     },
     "7b5a1d46bd9b405793fd82427a09ea1a": {
      "model_module": "@jupyter-widgets/controls",
      "model_module_version": "1.5.0",
      "model_name": "HTMLModel",
      "state": {
       "_dom_classes": [],
       "_model_module": "@jupyter-widgets/controls",
       "_model_module_version": "1.5.0",
       "_model_name": "HTMLModel",
       "_view_count": null,
       "_view_module": "@jupyter-widgets/controls",
       "_view_module_version": "1.5.0",
       "_view_name": "HTMLView",
       "description": "",
       "description_tooltip": null,
       "layout": "IPY_MODEL_71b0c58f5c204c23b1611b78bc9a8e06",
       "placeholder": "​",
       "style": "IPY_MODEL_7f445282ce3640018c892b2c144481ab",
       "value": " 1/1 [00:00&lt;00:00, 30.10it/s]"
      }
     },
     "7e3b5e1b1a53473294ca9958ed805a4c": {
      "model_module": "@jupyter-widgets/controls",
      "model_module_version": "1.5.0",
      "model_name": "HBoxModel",
      "state": {
       "_dom_classes": [],
       "_model_module": "@jupyter-widgets/controls",
       "_model_module_version": "1.5.0",
       "_model_name": "HBoxModel",
       "_view_count": null,
       "_view_module": "@jupyter-widgets/controls",
       "_view_module_version": "1.5.0",
       "_view_name": "HBoxView",
       "box_style": "",
       "children": [
        "IPY_MODEL_a2808ae9dfa241db85c5aa4ff7703ee2",
        "IPY_MODEL_9412e45cde3e4d41aa2edd093c474246",
        "IPY_MODEL_20dfcaed64db48ee816dc0d19f0da533"
       ],
       "layout": "IPY_MODEL_3a3bc7a1615741acaa402d4a321bab09"
      }
     },
     "7f445282ce3640018c892b2c144481ab": {
      "model_module": "@jupyter-widgets/controls",
      "model_module_version": "1.5.0",
      "model_name": "DescriptionStyleModel",
      "state": {
       "_model_module": "@jupyter-widgets/controls",
       "_model_module_version": "1.5.0",
       "_model_name": "DescriptionStyleModel",
       "_view_count": null,
       "_view_module": "@jupyter-widgets/base",
       "_view_module_version": "1.2.0",
       "_view_name": "StyleView",
       "description_width": ""
      }
     },
     "841b7493333f44ae824cfe723c583e06": {
      "model_module": "@jupyter-widgets/controls",
      "model_module_version": "1.5.0",
      "model_name": "FloatProgressModel",
      "state": {
       "_dom_classes": [],
       "_model_module": "@jupyter-widgets/controls",
       "_model_module_version": "1.5.0",
       "_model_name": "FloatProgressModel",
       "_view_count": null,
       "_view_module": "@jupyter-widgets/controls",
       "_view_module_version": "1.5.0",
       "_view_name": "ProgressView",
       "bar_style": "success",
       "description": "",
       "description_tooltip": null,
       "layout": "IPY_MODEL_22ce8a064be64381833548e279ad663b",
       "max": 1.0,
       "min": 0.0,
       "orientation": "horizontal",
       "style": "IPY_MODEL_17b4ad30ee0048858879a89cef6ddabd",
       "value": 1.0
      }
     },
     "9412e45cde3e4d41aa2edd093c474246": {
      "model_module": "@jupyter-widgets/controls",
      "model_module_version": "1.5.0",
      "model_name": "FloatProgressModel",
      "state": {
       "_dom_classes": [],
       "_model_module": "@jupyter-widgets/controls",
       "_model_module_version": "1.5.0",
       "_model_name": "FloatProgressModel",
       "_view_count": null,
       "_view_module": "@jupyter-widgets/controls",
       "_view_module_version": "1.5.0",
       "_view_name": "ProgressView",
       "bar_style": "success",
       "description": "",
       "description_tooltip": null,
       "layout": "IPY_MODEL_e1f618f8b132472593b40c8f93908ab0",
       "max": 1.0,
       "min": 0.0,
       "orientation": "horizontal",
       "style": "IPY_MODEL_bb6505f01867412d996612344f4ec264",
       "value": 1.0
      }
     },
     "a2808ae9dfa241db85c5aa4ff7703ee2": {
      "model_module": "@jupyter-widgets/controls",
      "model_module_version": "1.5.0",
      "model_name": "HTMLModel",
      "state": {
       "_dom_classes": [],
       "_model_module": "@jupyter-widgets/controls",
       "_model_module_version": "1.5.0",
       "_model_name": "HTMLModel",
       "_view_count": null,
       "_view_module": "@jupyter-widgets/controls",
       "_view_module_version": "1.5.0",
       "_view_name": "HTMLView",
       "description": "",
       "description_tooltip": null,
       "layout": "IPY_MODEL_c8d8577488764cb9aa65f101c5d8b430",
       "placeholder": "​",
       "style": "IPY_MODEL_4dfc6b83d57643108d7adabb58d604e7",
       "value": "Prune: 100%"
      }
     },
     "a531e171dc0e4a5c9bd6b97370dccdcd": {
      "model_module": "@jupyter-widgets/base",
      "model_module_version": "1.2.0",
      "model_name": "LayoutModel",
      "state": {
       "_model_module": "@jupyter-widgets/base",
       "_model_module_version": "1.2.0",
       "_model_name": "LayoutModel",
       "_view_count": null,
       "_view_module": "@jupyter-widgets/base",
       "_view_module_version": "1.2.0",
       "_view_name": "LayoutView",
       "align_content": null,
       "align_items": null,
       "align_self": null,
       "border": null,
       "bottom": null,
       "display": null,
       "flex": null,
       "flex_flow": null,
       "grid_area": null,
       "grid_auto_columns": null,
       "grid_auto_flow": null,
       "grid_auto_rows": null,
       "grid_column": null,
       "grid_gap": null,
       "grid_row": null,
       "grid_template_areas": null,
       "grid_template_columns": null,
       "grid_template_rows": null,
       "height": null,
       "justify_content": null,
       "justify_items": null,
       "left": null,
       "margin": null,
       "max_height": null,
       "max_width": null,
       "min_height": null,
       "min_width": null,
       "object_fit": null,
       "object_position": null,
       "order": null,
       "overflow": null,
       "overflow_x": null,
       "overflow_y": null,
       "padding": null,
       "right": null,
       "top": null,
       "visibility": null,
       "width": null
      }
     },
     "a6947a37985342d7aadf7f2d6749d5b6": {
      "model_module": "@jupyter-widgets/base",
      "model_module_version": "1.2.0",
      "model_name": "LayoutModel",
      "state": {
       "_model_module": "@jupyter-widgets/base",
       "_model_module_version": "1.2.0",
       "_model_name": "LayoutModel",
       "_view_count": null,
       "_view_module": "@jupyter-widgets/base",
       "_view_module_version": "1.2.0",
       "_view_name": "LayoutView",
       "align_content": null,
       "align_items": null,
       "align_self": null,
       "border": null,
       "bottom": null,
       "display": null,
       "flex": null,
       "flex_flow": null,
       "grid_area": null,
       "grid_auto_columns": null,
       "grid_auto_flow": null,
       "grid_auto_rows": null,
       "grid_column": null,
       "grid_gap": null,
       "grid_row": null,
       "grid_template_areas": null,
       "grid_template_columns": null,
       "grid_template_rows": null,
       "height": null,
       "justify_content": null,
       "justify_items": null,
       "left": null,
       "margin": null,
       "max_height": null,
       "max_width": null,
       "min_height": null,
       "min_width": null,
       "object_fit": null,
       "object_position": null,
       "order": null,
       "overflow": null,
       "overflow_x": null,
       "overflow_y": null,
       "padding": null,
       "right": null,
       "top": null,
       "visibility": null,
       "width": null
      }
     },
     "b086cd14f6644cb48a694e27cbc42a44": {
      "model_module": "@jupyter-widgets/base",
      "model_module_version": "1.2.0",
      "model_name": "LayoutModel",
      "state": {
       "_model_module": "@jupyter-widgets/base",
       "_model_module_version": "1.2.0",
       "_model_name": "LayoutModel",
       "_view_count": null,
       "_view_module": "@jupyter-widgets/base",
       "_view_module_version": "1.2.0",
       "_view_name": "LayoutView",
       "align_content": null,
       "align_items": null,
       "align_self": null,
       "border": null,
       "bottom": null,
       "display": null,
       "flex": null,
       "flex_flow": null,
       "grid_area": null,
       "grid_auto_columns": null,
       "grid_auto_flow": null,
       "grid_auto_rows": null,
       "grid_column": null,
       "grid_gap": null,
       "grid_row": null,
       "grid_template_areas": null,
       "grid_template_columns": null,
       "grid_template_rows": null,
       "height": null,
       "justify_content": null,
       "justify_items": null,
       "left": null,
       "margin": null,
       "max_height": null,
       "max_width": null,
       "min_height": null,
       "min_width": null,
       "object_fit": null,
       "object_position": null,
       "order": null,
       "overflow": null,
       "overflow_x": null,
       "overflow_y": null,
       "padding": null,
       "right": null,
       "top": null,
       "visibility": null,
       "width": null
      }
     },
     "b5c77a5031e0428ca42616b1cc57af9b": {
      "model_module": "@jupyter-widgets/base",
      "model_module_version": "1.2.0",
      "model_name": "LayoutModel",
      "state": {
       "_model_module": "@jupyter-widgets/base",
       "_model_module_version": "1.2.0",
       "_model_name": "LayoutModel",
       "_view_count": null,
       "_view_module": "@jupyter-widgets/base",
       "_view_module_version": "1.2.0",
       "_view_name": "LayoutView",
       "align_content": null,
       "align_items": null,
       "align_self": null,
       "border": null,
       "bottom": null,
       "display": null,
       "flex": null,
       "flex_flow": null,
       "grid_area": null,
       "grid_auto_columns": null,
       "grid_auto_flow": null,
       "grid_auto_rows": null,
       "grid_column": null,
       "grid_gap": null,
       "grid_row": null,
       "grid_template_areas": null,
       "grid_template_columns": null,
       "grid_template_rows": null,
       "height": null,
       "justify_content": null,
       "justify_items": null,
       "left": null,
       "margin": null,
       "max_height": null,
       "max_width": null,
       "min_height": null,
       "min_width": null,
       "object_fit": null,
       "object_position": null,
       "order": null,
       "overflow": null,
       "overflow_x": null,
       "overflow_y": null,
       "padding": null,
       "right": null,
       "top": null,
       "visibility": null,
       "width": null
      }
     },
     "b849587aee7f4d90bd74e2a86df80925": {
      "model_module": "@jupyter-widgets/controls",
      "model_module_version": "1.5.0",
      "model_name": "DescriptionStyleModel",
      "state": {
       "_model_module": "@jupyter-widgets/controls",
       "_model_module_version": "1.5.0",
       "_model_name": "DescriptionStyleModel",
       "_view_count": null,
       "_view_module": "@jupyter-widgets/base",
       "_view_module_version": "1.2.0",
       "_view_name": "StyleView",
       "description_width": ""
      }
     },
     "bb6505f01867412d996612344f4ec264": {
      "model_module": "@jupyter-widgets/controls",
      "model_module_version": "1.5.0",
      "model_name": "ProgressStyleModel",
      "state": {
       "_model_module": "@jupyter-widgets/controls",
       "_model_module_version": "1.5.0",
       "_model_name": "ProgressStyleModel",
       "_view_count": null,
       "_view_module": "@jupyter-widgets/base",
       "_view_module_version": "1.2.0",
       "_view_name": "StyleView",
       "bar_color": null,
       "description_width": ""
      }
     },
     "c2c625c288c449ecb652a308e3d35572": {
      "model_module": "@jupyter-widgets/base",
      "model_module_version": "1.2.0",
      "model_name": "LayoutModel",
      "state": {
       "_model_module": "@jupyter-widgets/base",
       "_model_module_version": "1.2.0",
       "_model_name": "LayoutModel",
       "_view_count": null,
       "_view_module": "@jupyter-widgets/base",
       "_view_module_version": "1.2.0",
       "_view_name": "LayoutView",
       "align_content": null,
       "align_items": null,
       "align_self": null,
       "border": null,
       "bottom": null,
       "display": null,
       "flex": null,
       "flex_flow": null,
       "grid_area": null,
       "grid_auto_columns": null,
       "grid_auto_flow": null,
       "grid_auto_rows": null,
       "grid_column": null,
       "grid_gap": null,
       "grid_row": null,
       "grid_template_areas": null,
       "grid_template_columns": null,
       "grid_template_rows": null,
       "height": null,
       "justify_content": null,
       "justify_items": null,
       "left": null,
       "margin": null,
       "max_height": null,
       "max_width": null,
       "min_height": null,
       "min_width": null,
       "object_fit": null,
       "object_position": null,
       "order": null,
       "overflow": null,
       "overflow_x": null,
       "overflow_y": null,
       "padding": null,
       "right": null,
       "top": null,
       "visibility": null,
       "width": null
      }
     },
     "c6d30dd4a25c4cbbb428b16408b7021a": {
      "model_module": "@jupyter-widgets/controls",
      "model_module_version": "1.5.0",
      "model_name": "HBoxModel",
      "state": {
       "_dom_classes": [],
       "_model_module": "@jupyter-widgets/controls",
       "_model_module_version": "1.5.0",
       "_model_name": "HBoxModel",
       "_view_count": null,
       "_view_module": "@jupyter-widgets/controls",
       "_view_module_version": "1.5.0",
       "_view_name": "HBoxView",
       "box_style": "",
       "children": [
        "IPY_MODEL_01c28d812a5048b2824e7c88a2cf9701",
        "IPY_MODEL_841b7493333f44ae824cfe723c583e06",
        "IPY_MODEL_7b5a1d46bd9b405793fd82427a09ea1a"
       ],
       "layout": "IPY_MODEL_b5c77a5031e0428ca42616b1cc57af9b"
      }
     },
     "c8bcee5805124e48b989478883bf40e5": {
      "model_module": "@jupyter-widgets/controls",
      "model_module_version": "1.5.0",
      "model_name": "HTMLModel",
      "state": {
       "_dom_classes": [],
       "_model_module": "@jupyter-widgets/controls",
       "_model_module_version": "1.5.0",
       "_model_name": "HTMLModel",
       "_view_count": null,
       "_view_module": "@jupyter-widgets/controls",
       "_view_module_version": "1.5.0",
       "_view_name": "HTMLView",
       "description": "",
       "description_tooltip": null,
       "layout": "IPY_MODEL_167576a34e064fa1ab23d2b01891d210",
       "placeholder": "​",
       "style": "IPY_MODEL_f26c66a07fb94b5dae5e8ab3423b22cb",
       "value": "crop: 100%"
      }
     },
     "c8d8577488764cb9aa65f101c5d8b430": {
      "model_module": "@jupyter-widgets/base",
      "model_module_version": "1.2.0",
      "model_name": "LayoutModel",
      "state": {
       "_model_module": "@jupyter-widgets/base",
       "_model_module_version": "1.2.0",
       "_model_name": "LayoutModel",
       "_view_count": null,
       "_view_module": "@jupyter-widgets/base",
       "_view_module_version": "1.2.0",
       "_view_name": "LayoutView",
       "align_content": null,
       "align_items": null,
       "align_self": null,
       "border": null,
       "bottom": null,
       "display": null,
       "flex": null,
       "flex_flow": null,
       "grid_area": null,
       "grid_auto_columns": null,
       "grid_auto_flow": null,
       "grid_auto_rows": null,
       "grid_column": null,
       "grid_gap": null,
       "grid_row": null,
       "grid_template_areas": null,
       "grid_template_columns": null,
       "grid_template_rows": null,
       "height": null,
       "justify_content": null,
       "justify_items": null,
       "left": null,
       "margin": null,
       "max_height": null,
       "max_width": null,
       "min_height": null,
       "min_width": null,
       "object_fit": null,
       "object_position": null,
       "order": null,
       "overflow": null,
       "overflow_x": null,
       "overflow_y": null,
       "padding": null,
       "right": null,
       "top": null,
       "visibility": null,
       "width": null
      }
     },
     "d43598b0791c4cda87d7d6e0972d992d": {
      "model_module": "@jupyter-widgets/base",
      "model_module_version": "1.2.0",
      "model_name": "LayoutModel",
      "state": {
       "_model_module": "@jupyter-widgets/base",
       "_model_module_version": "1.2.0",
       "_model_name": "LayoutModel",
       "_view_count": null,
       "_view_module": "@jupyter-widgets/base",
       "_view_module_version": "1.2.0",
       "_view_name": "LayoutView",
       "align_content": null,
       "align_items": null,
       "align_self": null,
       "border": null,
       "bottom": null,
       "display": null,
       "flex": null,
       "flex_flow": null,
       "grid_area": null,
       "grid_auto_columns": null,
       "grid_auto_flow": null,
       "grid_auto_rows": null,
       "grid_column": null,
       "grid_gap": null,
       "grid_row": null,
       "grid_template_areas": null,
       "grid_template_columns": null,
       "grid_template_rows": null,
       "height": null,
       "justify_content": null,
       "justify_items": null,
       "left": null,
       "margin": null,
       "max_height": null,
       "max_width": null,
       "min_height": null,
       "min_width": null,
       "object_fit": null,
       "object_position": null,
       "order": null,
       "overflow": null,
       "overflow_x": null,
       "overflow_y": null,
       "padding": null,
       "right": null,
       "top": null,
       "visibility": null,
       "width": null
      }
     },
     "dbadd8671e9e4583b1dd76482c6f5c20": {
      "model_module": "@jupyter-widgets/controls",
      "model_module_version": "1.5.0",
      "model_name": "ProgressStyleModel",
      "state": {
       "_model_module": "@jupyter-widgets/controls",
       "_model_module_version": "1.5.0",
       "_model_name": "ProgressStyleModel",
       "_view_count": null,
       "_view_module": "@jupyter-widgets/base",
       "_view_module_version": "1.2.0",
       "_view_name": "StyleView",
       "bar_color": null,
       "description_width": ""
      }
     },
     "e1f618f8b132472593b40c8f93908ab0": {
      "model_module": "@jupyter-widgets/base",
      "model_module_version": "1.2.0",
      "model_name": "LayoutModel",
      "state": {
       "_model_module": "@jupyter-widgets/base",
       "_model_module_version": "1.2.0",
       "_model_name": "LayoutModel",
       "_view_count": null,
       "_view_module": "@jupyter-widgets/base",
       "_view_module_version": "1.2.0",
       "_view_name": "LayoutView",
       "align_content": null,
       "align_items": null,
       "align_self": null,
       "border": null,
       "bottom": null,
       "display": null,
       "flex": null,
       "flex_flow": null,
       "grid_area": null,
       "grid_auto_columns": null,
       "grid_auto_flow": null,
       "grid_auto_rows": null,
       "grid_column": null,
       "grid_gap": null,
       "grid_row": null,
       "grid_template_areas": null,
       "grid_template_columns": null,
       "grid_template_rows": null,
       "height": null,
       "justify_content": null,
       "justify_items": null,
       "left": null,
       "margin": null,
       "max_height": null,
       "max_width": null,
       "min_height": null,
       "min_width": null,
       "object_fit": null,
       "object_position": null,
       "order": null,
       "overflow": null,
       "overflow_x": null,
       "overflow_y": null,
       "padding": null,
       "right": null,
       "top": null,
       "visibility": null,
       "width": null
      }
     },
     "e23cf7acc00d4c0ab49a5d5f7784b284": {
      "model_module": "@jupyter-widgets/controls",
      "model_module_version": "1.5.0",
      "model_name": "HTMLModel",
      "state": {
       "_dom_classes": [],
       "_model_module": "@jupyter-widgets/controls",
       "_model_module_version": "1.5.0",
       "_model_name": "HTMLModel",
       "_view_count": null,
       "_view_module": "@jupyter-widgets/controls",
       "_view_module_version": "1.5.0",
       "_view_name": "HTMLView",
       "description": "",
       "description_tooltip": null,
       "layout": "IPY_MODEL_382a8506ef83461fac3a8de69c53ba00",
       "placeholder": "​",
       "style": "IPY_MODEL_3b4d5ed1350c4aed8b81758598ac185c",
       "value": "test batch: 100%"
      }
     },
     "f26c66a07fb94b5dae5e8ab3423b22cb": {
      "model_module": "@jupyter-widgets/controls",
      "model_module_version": "1.5.0",
      "model_name": "DescriptionStyleModel",
      "state": {
       "_model_module": "@jupyter-widgets/controls",
       "_model_module_version": "1.5.0",
       "_model_name": "DescriptionStyleModel",
       "_view_count": null,
       "_view_module": "@jupyter-widgets/base",
       "_view_module_version": "1.2.0",
       "_view_name": "StyleView",
       "description_width": ""
      }
     }
    },
    "version_major": 2,
    "version_minor": 0
   }
  }
 },
 "nbformat": 4,
 "nbformat_minor": 5
}
