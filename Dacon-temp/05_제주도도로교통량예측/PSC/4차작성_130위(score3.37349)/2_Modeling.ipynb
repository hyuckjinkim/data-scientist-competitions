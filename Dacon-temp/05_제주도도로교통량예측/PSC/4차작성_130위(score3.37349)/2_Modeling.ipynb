{
 "cells": [
  {
   "cell_type": "markdown",
   "id": "bd1923cf",
   "metadata": {},
   "source": [
    "- 파일제출 : LightGBM K-Fold"
   ]
  },
  {
   "cell_type": "markdown",
   "id": "09ba3f0f",
   "metadata": {
    "tags": []
   },
   "source": [
    "---\n",
    "# Setting\n",
    "---"
   ]
  },
  {
   "cell_type": "code",
   "execution_count": 1,
   "id": "3b42c643",
   "metadata": {},
   "outputs": [],
   "source": [
    "# !pip install datatable\n",
    "# !pip install pytimekr"
   ]
  },
  {
   "cell_type": "code",
   "execution_count": 38,
   "id": "1c888587",
   "metadata": {},
   "outputs": [],
   "source": [
    "# d MyPython/2_Dacon_JEJU/DAT/\n",
    "# unzip open.zip"
   ]
  },
  {
   "cell_type": "code",
   "execution_count": 39,
   "id": "0ef23583",
   "metadata": {},
   "outputs": [],
   "source": [
    "import matplotlib as mpl\n",
    "import matplotlib.font_manager as fm\n",
    "\n",
    "fe = fm.FontEntry(fname='../NanumFont/NanumGothic.ttf',name='NanumGothic')\n",
    "fm.fontManager.ttflist.insert(0, fe)  # or append is fine\n",
    "mpl.rcParams['font.family'] = fe.name # = 'your custom ttf font name'"
   ]
  },
  {
   "cell_type": "code",
   "execution_count": 40,
   "id": "54140d23",
   "metadata": {},
   "outputs": [],
   "source": [
    "import os\n",
    "import sys\n",
    "import pandas as pd\n",
    "pd.set_option('display.max_rows', None)\n",
    "pd.set_option('display.max_columns', None)\n",
    "pd.set_option('display.width', None)\n",
    "\n",
    "import numpy as np\n",
    "from tqdm import tqdm, trange\n",
    "tqdm.pandas()\n",
    "\n",
    "import warnings\n",
    "warnings.filterwarnings(action='ignore')\n",
    "warnings.simplefilter(action='ignore', category=FutureWarning) # FutureWarning 제거\n",
    "os.environ['PYTHONWARNINGS']='ignore::FutureWarning'\n",
    "\n",
    "import itertools\n",
    "import datetime\n",
    "from pytimekr import pytimekr\n",
    "import matplotlib.pyplot as plt\n",
    "import seaborn as sns\n",
    "\n",
    "import multiprocessing as mp\n",
    "from joblib import Parallel, delayed\n",
    "\n",
    "import datatable as dt"
   ]
  },
  {
   "cell_type": "code",
   "execution_count": 5,
   "id": "2c2979ea",
   "metadata": {},
   "outputs": [],
   "source": [
    "# https://stackoverflow.com/questions/24983493/tracking-progress-of-joblib-parallel-execution\n",
    "\n",
    "import contextlib\n",
    "import joblib\n",
    "from tqdm import tqdm\n",
    "\n",
    "@contextlib.contextmanager\n",
    "def tqdm_joblib(tqdm_object):\n",
    "    \"\"\"Context manager to patch joblib to report into tqdm progress bar given as argument\"\"\"\n",
    "    class TqdmBatchCompletionCallback(joblib.parallel.BatchCompletionCallBack):\n",
    "        def __call__(self, *args, **kwargs):\n",
    "            tqdm_object.update(n=self.batch_size)\n",
    "            return super().__call__(*args, **kwargs)\n",
    "\n",
    "    old_batch_callback = joblib.parallel.BatchCompletionCallBack\n",
    "    joblib.parallel.BatchCompletionCallBack = TqdmBatchCompletionCallback\n",
    "    try:\n",
    "        yield tqdm_object\n",
    "    finally:\n",
    "        joblib.parallel.BatchCompletionCallBack = old_batch_callback\n",
    "        tqdm_object.close()"
   ]
  },
  {
   "cell_type": "code",
   "execution_count": 6,
   "id": "6fb7d159",
   "metadata": {},
   "outputs": [],
   "source": [
    "def abline(slope, intercept, color):\n",
    "    axes = plt.gca()\n",
    "    x_vals = np.array(axes.get_xlim())\n",
    "    y_vals = intercept + slope * x_vals\n",
    "    plt.plot(x_vals, y_vals, '--',color=color)\n",
    "    \n",
    "def createFolder(directory):\n",
    "    try:\n",
    "        if not os.path.exists(directory):\n",
    "            os.makedirs(directory)\n",
    "    except OSError:\n",
    "        print('Error: Creating directory. ' + directory)\n",
    "        \n",
    "def cnt(x):\n",
    "    vc = x.value_counts().sort_index()\n",
    "    res = pd.DataFrame({\n",
    "        'index' : vc.index,\n",
    "        'freq'  : vc.values,\n",
    "    })\n",
    "    res['rate'] = 100 * res['freq'] / res['freq'].sum()\n",
    "    return res"
   ]
  },
  {
   "cell_type": "code",
   "execution_count": 7,
   "id": "32688d2c",
   "metadata": {},
   "outputs": [],
   "source": [
    "from sklearn.metrics import mean_absolute_error\n",
    "\n",
    "# verbose=0로 만들어주는 함수\n",
    "# (참조) https://stackoverflow.com/questions/11130156/suppress-stdout-stderr-print-from-python-functions\n",
    "class suppress_stdout_stderr(object):\n",
    "    '''\n",
    "    A context manager for doing a \"deep suppression\" of stdout and stderr in\n",
    "    Python, i.e. will suppress all print, even if the print originates in a\n",
    "    compiled C/Fortran sub-function.\n",
    "       This will not suppress raised exceptions, since exceptions are printed\n",
    "    to stderr just before a script exits, and after the context manager has\n",
    "    exited (at least, I think that is why it lets exceptions through).\n",
    "\n",
    "    '''\n",
    "    def __init__(self):\n",
    "        # Open a pair of null files\n",
    "        self.null_fds = [os.open(os.devnull, os.O_RDWR) for x in range(2)]\n",
    "        # Save the actual stdout (1) and stderr (2) file descriptors.\n",
    "        self.save_fds = (os.dup(1), os.dup(2))\n",
    "\n",
    "    def __enter__(self):\n",
    "        # Assign the null pointers to stdout and stderr.\n",
    "        os.dup2(self.null_fds[0], 1)\n",
    "        os.dup2(self.null_fds[1], 2)\n",
    "\n",
    "    def __exit__(self, *_):\n",
    "        # Re-assign the real stdout/stderr back to (1) and (2)\n",
    "        os.dup2(self.save_fds[0], 1)\n",
    "        os.dup2(self.save_fds[1], 2)\n",
    "        # Close the null files\n",
    "        os.close(self.null_fds[0])\n",
    "        os.close(self.null_fds[1])"
   ]
  },
  {
   "cell_type": "code",
   "execution_count": 8,
   "id": "b7f527f8",
   "metadata": {},
   "outputs": [
    {
     "data": {
      "text/plain": [
       "'/home/ec2-user/SageMaker/Temp/Dacon/5_제주도도로교통량예측/PSC'"
      ]
     },
     "execution_count": 8,
     "metadata": {},
     "output_type": "execute_result"
    }
   ],
   "source": [
    "os.getcwd()"
   ]
  },
  {
   "cell_type": "code",
   "execution_count": 9,
   "id": "86b5bbcf",
   "metadata": {},
   "outputs": [
    {
     "name": "stdout",
     "output_type": "stream",
     "text": [
      "2022-11-11 11:18:25.191766\n"
     ]
    }
   ],
   "source": [
    "DAT_PATH = \"../DAT/\"\n",
    "start_time = datetime.datetime.now()\n",
    "\n",
    "print(start_time)"
   ]
  },
  {
   "cell_type": "markdown",
   "id": "96b18874",
   "metadata": {},
   "source": [
    "<br>\n",
    "\n",
    "User Functions"
   ]
  },
  {
   "cell_type": "code",
   "execution_count": 10,
   "id": "3beacf3e",
   "metadata": {},
   "outputs": [],
   "source": [
    "# from lib.MyModel import *"
   ]
  },
  {
   "cell_type": "markdown",
   "id": "0eb62479",
   "metadata": {},
   "source": [
    "<br></br>"
   ]
  },
  {
   "cell_type": "markdown",
   "id": "cd498856",
   "metadata": {},
   "source": [
    "---\n",
    "# Data Load\n",
    "---"
   ]
  },
  {
   "cell_type": "code",
   "execution_count": 11,
   "id": "035680dd",
   "metadata": {},
   "outputs": [
    {
     "name": "stdout",
     "output_type": "stream",
     "text": [
      "CPU times: user 22.2 s, sys: 19.6 s, total: 41.8 s\n",
      "Wall time: 32.6 s\n"
     ]
    }
   ],
   "source": [
    "%%time\n",
    "\n",
    "train_df7 = pd.read_parquet('../OUT/train_df7.parquet.gz')\n",
    "test_df7  = pd.read_parquet('../OUT/test_df7.parquet.gz')\n",
    "\n",
    "X_train   = pd.read_parquet('../OUT/X_train.parquet.gz')\n",
    "X_test    = pd.read_parquet('../OUT/X_test.parquet.gz')\n",
    "y_train   = pd.read_csv('../OUT/y_train.csv')"
   ]
  },
  {
   "cell_type": "code",
   "execution_count": 21,
   "id": "2d2ff426",
   "metadata": {},
   "outputs": [],
   "source": [
    "cat_features = train_df7\\\n",
    "    .drop(['id','target','base_date'],axis=1)\\\n",
    "    .select_dtypes(include=[object])\\\n",
    "    .columns.tolist()\n",
    "\n",
    "num_features = [x for x in train_df7.drop(['id','target','base_date'],axis=1).columns \n",
    "                if x not in cat_features]"
   ]
  },
  {
   "cell_type": "code",
   "execution_count": 26,
   "id": "bce84c2e",
   "metadata": {},
   "outputs": [],
   "source": [
    "segment_features = 'segment'\n",
    "\n",
    "del_features = ['day','start_node_name','end_node_name'] # 'road_name',\n",
    "\n",
    "new_cat_features = [col for col in cat_features if col not in [segment_features]+del_features]\n",
    "new_num_features = [col for col in num_features if col not in [segment_features]+del_features]"
   ]
  },
  {
   "cell_type": "code",
   "execution_count": 27,
   "id": "7c22d8e5",
   "metadata": {},
   "outputs": [
    {
     "data": {
      "text/plain": [
       "road_name                61\n",
       "weight_restricted         4\n",
       "road_type                 2\n",
       "start_turn_restricted     2\n",
       "end_turn_restricted       2\n",
       "weekday                   7\n",
       "weekend                   2\n",
       "holiday                   2\n",
       "address                   2\n",
       "stnId                     2\n",
       "rnQcflg                   2\n",
       "wd                       17\n",
       "ssQcflg                   3\n",
       "clfmAbbrCd               26\n",
       "base_hour_3_interval      8\n",
       "dtype: int64"
      ]
     },
     "execution_count": 27,
     "metadata": {},
     "output_type": "execute_result"
    }
   ],
   "source": [
    "X_train[new_cat_features].apply(lambda x: x.nunique())"
   ]
  },
  {
   "cell_type": "markdown",
   "id": "0608ae83",
   "metadata": {},
   "source": [
    "<br>\n",
    "\n",
    "One-Hot Encoding"
   ]
  },
  {
   "cell_type": "code",
   "execution_count": null,
   "id": "35059179",
   "metadata": {},
   "outputs": [],
   "source": [
    "# # 6분\n",
    "\n",
    "# print('(1) data concat')\n",
    "# tmp = pd.concat([\n",
    "#     X_train.assign(group='train'),\n",
    "#     X_test .assign(group='test'),\n",
    "# ],axis=0)\n",
    "\n",
    "# print('(2) onehot encoding')\n",
    "# tmp = pd.get_dummies(tmp, columns=new_cat_features)\n",
    "\n",
    "# print('(3) data split')\n",
    "# X_train_oh = tmp[tmp['group']=='train'].drop('group',axis=1)\n",
    "# X_test_oh  = tmp[tmp['group']=='test' ].drop('group',axis=1)\n",
    "\n",
    "# X_train_oh.to_parquet('../OUT/X_train_oh.parquet.gz')\n",
    "# X_test_oh .to_parquet('../OUT/X_test_oh.parquet.gz')"
   ]
  },
  {
   "cell_type": "markdown",
   "id": "a813983f",
   "metadata": {},
   "source": [
    "<br></br>"
   ]
  },
  {
   "cell_type": "markdown",
   "id": "9421bd71",
   "metadata": {},
   "source": [
    "---\n",
    "# Transformation & Scaling\n",
    "---"
   ]
  },
  {
   "cell_type": "code",
   "execution_count": 28,
   "id": "52d03509",
   "metadata": {},
   "outputs": [],
   "source": [
    "from sklearn.preprocessing import MinMaxScaler, StandardScaler, RobustScaler"
   ]
  },
  {
   "cell_type": "markdown",
   "id": "1ec93e74",
   "metadata": {},
   "source": [
    "<br>\n",
    "\n",
    "Setting Methods"
   ]
  },
  {
   "cell_type": "code",
   "execution_count": 29,
   "id": "a73fe455",
   "metadata": {},
   "outputs": [
    {
     "name": "stdout",
     "output_type": "stream",
     "text": [
      "(1) Transformation method : identity(offset=0.0001)\n",
      "(2) Scaling method : MinMaxScaler\n"
     ]
    }
   ],
   "source": [
    "transform_method = ['identity','log','sqrt'][0]\n",
    "offset = 1e-4\n",
    "scaling_method = MinMaxScaler\n",
    "\n",
    "print(f'(1) Transformation method : {transform_method}(offset={offset})')\n",
    "print(f'(2) Scaling method : {scaling_method.__name__}')"
   ]
  },
  {
   "cell_type": "markdown",
   "id": "3dd6ec8a",
   "metadata": {},
   "source": [
    "<br></br>"
   ]
  },
  {
   "cell_type": "markdown",
   "id": "e27e7bbc",
   "metadata": {},
   "source": [
    "---\n",
    "# Modeling\n",
    "---"
   ]
  },
  {
   "cell_type": "code",
   "execution_count": 30,
   "id": "bfed5236",
   "metadata": {},
   "outputs": [],
   "source": [
    "def identity(x):\n",
    "    return x\n",
    "\n",
    "def transformation(x,offset=1e-4,method=['log','sqrt','identity']):\n",
    "    #x = pd.Series(x)\n",
    "    \n",
    "    if method=='log':\n",
    "        res = np.log(x+offset)\n",
    "    elif method=='sqrt':\n",
    "        res = np.sqrt(x+offset)\n",
    "    elif method=='identity':\n",
    "        res = identity(x)\n",
    "    else:\n",
    "        raise('Unknown Transformation Method')\n",
    "    \n",
    "    return res\n",
    "\n",
    "def inverse_transformation(x,offset,method=['log','sqrt','identity']):\n",
    "    #x = pd.Series(x)\n",
    "    \n",
    "    if method=='log':\n",
    "        res = np.exp(x)-offset\n",
    "    elif method=='sqrt':\n",
    "        res = (x**2)-offset\n",
    "    elif method=='identity':\n",
    "        res = identity(x)\n",
    "    else:\n",
    "        raise('Unknown Transformation Method')\n",
    "        \n",
    "    return res"
   ]
  },
  {
   "cell_type": "markdown",
   "id": "1e04c8ee",
   "metadata": {},
   "source": [
    "<br>\n",
    "\n",
    "## AutoML"
   ]
  },
  {
   "cell_type": "code",
   "execution_count": 18,
   "id": "74cbd5b4",
   "metadata": {},
   "outputs": [],
   "source": [
    "# !pip install pycaret"
   ]
  },
  {
   "cell_type": "code",
   "execution_count": 17,
   "id": "7fc1d6ea",
   "metadata": {},
   "outputs": [],
   "source": [
    "# !conda install -c conda-forge cudf \n",
    "\n",
    "from pycaret.regression import *"
   ]
  },
  {
   "cell_type": "code",
   "execution_count": null,
   "id": "ec6bdff1",
   "metadata": {},
   "outputs": [],
   "source": [
    "# AUTOML_COMP_PLOT(automl)"
   ]
  },
  {
   "cell_type": "code",
   "execution_count": null,
   "id": "bbcc8e9e",
   "metadata": {},
   "outputs": [],
   "source": [
    "%%time\n",
    "\n",
    "print('(1) data concat')\n",
    "tmp = pd.concat([\n",
    "    X_train.assign(group='train'),\n",
    "    X_test .assign(group='test'),\n",
    "],axis=0)\n",
    "\n",
    "print('(2) get dummies')\n",
    "tmp = pd.get_dummies(tmp, columns=new_cat_features)\n",
    "\n",
    "print('(3) data split')\n",
    "X_train_oh = tmp[tmp['group']=='train'].drop('group',axis=1)\n",
    "X_test_oh  = tmp[tmp['group']=='test' ].drop('group',axis=1)"
   ]
  },
  {
   "cell_type": "code",
   "execution_count": null,
   "id": "81efb814",
   "metadata": {},
   "outputs": [],
   "source": [
    "# train에만 있는 segment length, test에만 있는 segment length 확인\n",
    "tr_segment = X_train_oh[segment_features].value_counts().sort_values(ascending=False).index\n",
    "te_segment = X_test_oh [segment_features] .value_counts().index\n",
    "segment    = [seg for seg in tr_segment if seg in te_segment]\n",
    "\n",
    "len(list(set(tr_segment)-set(te_segment))),len(list(set(te_segment)-set(tr_segment)))"
   ]
  },
  {
   "cell_type": "code",
   "execution_count": null,
   "id": "2ea003f1",
   "metadata": {
    "tags": []
   },
   "outputs": [],
   "source": [
    "%%time\n",
    "\n",
    "from sklearn.linear_model import LinearRegression\n",
    "import pickle\n",
    "\n",
    "tr_segment = X_train_oh[segment_features].value_counts().sort_values(ascending=False).index\n",
    "te_segment = X_test_oh [segment_features].value_counts().index\n",
    "segment    = [seg for seg in tr_segment if seg in te_segment]\n",
    "\n",
    "# now_date = str(datetime.datetime.now()).replace(' ','').replace('-','').replace(':','').replace('.','')[:14]\n",
    "now_date = str(datetime.datetime.now())\n",
    "now_date = now_date[:now_date.find('.')]\n",
    "# createFolder(f'../MDL/{now_date}/')\n",
    "print(now_date)\n",
    "\n",
    "models = []\n",
    "train_fn = []\n",
    "test_fn = []\n",
    "iter = 0\n",
    "\n",
    "pbar = tqdm(segment)\n",
    "for segment_x in pbar:\n",
    "    iter += 1\n",
    "\n",
    "    X_tr = X_train_oh[X_train_oh[segment_features]==segment_x]\n",
    "    X_te = X_test_oh[X_test_oh[segment_features]==segment_x]\n",
    "    \n",
    "    y_tr = y_train[X_train_oh[segment_features]==segment_x]\n",
    "    y_tr = transformation(y_tr,offset=offset,method=transform_method)\n",
    "    \n",
    "    scalers = {}\n",
    "    for col in new_num_features:\n",
    "        scaler = scaling_method()\n",
    "        scalers[col] = scaler\n",
    "\n",
    "        X_tr[col] = scaler.fit_transform(np.array(X_tr[col]).reshape(-1,1))\n",
    "        X_te[col] = scaler.transform(np.array(X_te[col]).reshape(-1,1))\n",
    "    \n",
    "    progress = f'{segment_x} : {X_tr.shape[0]:,}/{X_train_oh.shape[0]:,}({X_tr.shape[0]/X_train_oh.shape[0]*100:.2f}%)'\n",
    "    pbar.set_description(progress)\n",
    "\n",
    "    model = LinearRegression()\n",
    "    model.fit(X_tr.drop([segment_features,'id'],axis=1),y_tr)\n",
    "\n",
    "    # save (https://stackoverflow.com/questions/64320741/linearregression-object-has-no-attribute-save)\n",
    "    models.append(model)\n",
    "    # pickle.dump(model, open(f'../MDL/{now_date}/lr_{segment_x}.sav', 'wb'))\n",
    "\n",
    "    X_tr['pred'] = model.predict(X_tr.drop([segment_features,'id'],axis=1))\n",
    "    X_te['pred'] = model.predict(X_te.drop([segment_features,'id'],axis=1))\n",
    "\n",
    "    # inverse transformation\n",
    "    X_tr['pred'] = inverse_transformation(X_tr['pred'],offset=offset,method=transform_method)\n",
    "    X_te['pred'] = inverse_transformation(X_te['pred'],offset=offset,method=transform_method)\n",
    "    \n",
    "    y_tr = inverse_transformation(y_tr,offset=offset,method=transform_method)\n",
    "\n",
    "    train_fn.append(pd.concat([X_tr[['id',segment_features,'pred']],y_tr],axis=1))\n",
    "    test_fn .append(X_te[['id',segment_features,'pred']])"
   ]
  },
  {
   "cell_type": "code",
   "execution_count": null,
   "id": "570905e5",
   "metadata": {},
   "outputs": [],
   "source": [
    "train_fn = pd.concat(train_fn,axis=0)\n",
    "test_fn  = pd.concat(test_fn ,axis=0)"
   ]
  },
  {
   "cell_type": "code",
   "execution_count": null,
   "id": "86d37935",
   "metadata": {},
   "outputs": [],
   "source": [
    "from sklearn.metrics import mean_absolute_error\n",
    "\n",
    "mean_absolute_error(y_true=train_fn['target'],y_pred=train_fn['pred'])"
   ]
  },
  {
   "cell_type": "code",
   "execution_count": null,
   "id": "d7e59370",
   "metadata": {},
   "outputs": [],
   "source": [
    "plt.figure(figsize=(15,7))\n",
    "sns.scatterplot(train_fn['target'],train_fn['pred'],alpha=0.5)\n",
    "plt.xlabel('true')\n",
    "plt.ylabel('prediction')\n",
    "abline(slope=1,intercept=0,color='red')\n",
    "plt.show()"
   ]
  },
  {
   "cell_type": "code",
   "execution_count": null,
   "id": "437decc1",
   "metadata": {},
   "outputs": [],
   "source": [
    "# iter=0\n",
    "# for seg in segment:\n",
    "#     iter+=1\n",
    "#     print(f'\\n({iter}/{train_fn.segment.nunique()}) {seg}')\n",
    "    \n",
    "#     tmp = train_fn[train_fn.segment==seg]\n",
    "\n",
    "#     plt.figure(figsize=(15,7))\n",
    "#     sns.scatterplot(tmp['target'],tmp['pred'],alpha=0.5)\n",
    "#     plt.xlabel('true')\n",
    "#     plt.ylabel('prediction')\n",
    "#     abline(slope=1,intercept=0,color='red')\n",
    "#     plt.show()"
   ]
  },
  {
   "cell_type": "code",
   "execution_count": null,
   "id": "a8f0bdae",
   "metadata": {},
   "outputs": [],
   "source": [
    "train_df5['pred_lr'] = train_fn['pred']\n",
    "test_df5 ['pred_lr'] = test_fn ['pred']"
   ]
  },
  {
   "cell_type": "markdown",
   "id": "72b31f0a",
   "metadata": {},
   "source": [
    "<br>\n",
    "\n",
    "## LightGBM - 단일모델"
   ]
  },
  {
   "cell_type": "code",
   "execution_count": 69,
   "id": "a9a14f18",
   "metadata": {},
   "outputs": [],
   "source": [
    "# # 참조 : https://github.com/microsoft/LightGBM/issues/4843\n",
    "# brew install cmake\n",
    "# brew install libomp\n",
    "# git clone --recursive https://github.com/microsoft/LightGBM\n",
    "# cd LightGBM\n",
    "# mkdir build\n",
    "# cd build\n",
    "# cmake ..\n",
    "# make -j4"
   ]
  },
  {
   "cell_type": "code",
   "execution_count": null,
   "id": "6ba4b205",
   "metadata": {},
   "outputs": [
    {
     "name": "stdout",
     "output_type": "stream",
     "text": [
      "2022-11-11 12:47:19\n"
     ]
    },
    {
     "name": "stderr",
     "output_type": "stream",
     "text": [
      "50_106_0 : 88,540/4,686,836(1.89%):  56%|█████▌    | 14/25 [46:54<18:45, 102.36s/it]   "
     ]
    }
   ],
   "source": [
    "%%time\n",
    "\n",
    "import lightgbm as lgb\n",
    "\n",
    "params = {\n",
    "    'task': 'train', \n",
    "    'boosting_type': 'gbdt',\n",
    "    'objective': 'regression',\n",
    "    'num_iterations': 5000,\n",
    "    'learning_rate': 0.01,\n",
    "    'metric': 'MAE',\n",
    "    'verbose': -1,\n",
    "    'random_state': 0,\n",
    "    #'device':'gpu',\n",
    "}\n",
    "\n",
    "tr_segment = X_train[segment_features].value_counts().sort_values(ascending=False).index\n",
    "te_segment = X_test [segment_features] .value_counts().index\n",
    "segment    = [seg for seg in tr_segment if seg in te_segment]\n",
    "\n",
    "# now_date = str(datetime.datetime.now()).replace(' ','').replace('-','').replace(':','').replace('.','')[:14]\n",
    "now_date = str(datetime.datetime.now())\n",
    "now_date = now_date[:now_date.find('.')]\n",
    "# createFolder(f'../MDL/{now_date}/')\n",
    "print(now_date)\n",
    "\n",
    "models = []\n",
    "train_fn = []\n",
    "test_fn = []\n",
    "iter = 0\n",
    "\n",
    "pbar = tqdm(segment)\n",
    "for segment_x in pbar:\n",
    "    iter += 1\n",
    "    \n",
    "    X_tr = X_train[X_train[segment_features]==segment_x]\n",
    "    X_te = X_test [X_test [segment_features]==segment_x]\n",
    "    \n",
    "    y_tr = y_train[X_train[segment_features]==segment_x]\n",
    "    y_tr = transformation(y_tr,offset=offset,method=transform_method)\n",
    "\n",
    "    scalers = {}\n",
    "    for col in new_num_features:\n",
    "        scaler = scaling_method()\n",
    "        scalers[col] = scaler\n",
    "        \n",
    "        X_tr[col] = scaler.fit_transform(np.array(X_tr[col]).reshape(-1,1))\n",
    "        X_te[col] = scaler.transform(np.array(X_te[col]).reshape(-1,1))\n",
    "    \n",
    "    progress = f'{segment_x} : {X_tr.shape[0]:,}/{X_train.shape[0]:,}({X_tr.shape[0]/X_train.shape[0]*100:.2f}%)'\n",
    "    pbar.set_description(progress)\n",
    "    \n",
    "    X_tr[new_cat_features] = X_tr[new_cat_features].astype('category')\n",
    "    X_te[new_cat_features] = X_te[new_cat_features].astype('category')\n",
    "    \n",
    "    # iterations default=1,000\n",
    "    model = lgb.LGBMRegressor(**params)\n",
    "    model.fit(X_tr.drop([segment_features,'id'],axis=1),y_tr)\n",
    "\n",
    "    # save\n",
    "    models.append(model)\n",
    "    # model.save_model(f'../MDL/{now_date}/catboost_{segment_x}.cbm')\n",
    "    \n",
    "    X_tr['pred'] = model.predict(X_tr.drop([segment_features,'id'],axis=1))\n",
    "    X_te['pred'] = model.predict(X_te.drop([segment_features,'id'],axis=1))\n",
    "    \n",
    "    # inverse transformation\n",
    "    X_tr['pred'] = inverse_transformation(X_tr['pred'],offset=offset,method=transform_method)\n",
    "    X_te['pred'] = inverse_transformation(X_te['pred'],offset=offset,method=transform_method)\n",
    "    \n",
    "    y_tr = inverse_transformation(y_tr,offset=offset,method=transform_method)\n",
    "    \n",
    "    train_fn.append(pd.concat([X_tr[['id',segment_features,'pred']],y_tr],axis=1))\n",
    "    test_fn .append(X_te[['id',segment_features,'pred']])"
   ]
  },
  {
   "cell_type": "code",
   "execution_count": null,
   "id": "c5f23115",
   "metadata": {},
   "outputs": [],
   "source": [
    "train_fn = pd.concat(train_fn,axis=0)\n",
    "test_fn  = pd.concat(test_fn ,axis=0)"
   ]
  },
  {
   "cell_type": "code",
   "execution_count": null,
   "id": "dd07e2c9",
   "metadata": {},
   "outputs": [],
   "source": [
    "from sklearn.metrics import mean_absolute_error\n",
    "\n",
    "mean_absolute_error(y_true=train_fn['target'],y_pred=train_fn['pred'])"
   ]
  },
  {
   "cell_type": "code",
   "execution_count": null,
   "id": "77645c94",
   "metadata": {},
   "outputs": [],
   "source": [
    "plt.figure(figsize=(15,7))\n",
    "sns.scatterplot(train_fn['target'],train_fn['pred'],alpha=0.5)\n",
    "plt.xlabel('true')\n",
    "plt.ylabel('prediction')\n",
    "abline(slope=1,intercept=0,color='red')\n",
    "plt.show()"
   ]
  },
  {
   "cell_type": "code",
   "execution_count": null,
   "id": "40289a94",
   "metadata": {},
   "outputs": [],
   "source": [
    "# iter=0\n",
    "# for seg in segment:\n",
    "#     iter+=1\n",
    "#     print(f'\\n({iter}/{train_fn.segment.nunique()}) {seg}')\n",
    "    \n",
    "#     tmp = train_fn[train_fn.segment==seg]\n",
    "\n",
    "#     plt.figure(figsize=(15,7))\n",
    "#     sns.scatterplot(tmp['target'],tmp['pred'],alpha=0.5)\n",
    "#     plt.xlabel('true')\n",
    "#     plt.ylabel('prediction')\n",
    "#     abline(slope=1,intercept=0,color='red')\n",
    "#     plt.show()"
   ]
  },
  {
   "cell_type": "code",
   "execution_count": null,
   "id": "8614d198",
   "metadata": {},
   "outputs": [],
   "source": [
    "train_df7['pred_lgb5000_0.01'] = train_fn['pred']\n",
    "test_df7 ['pred_lgb5000_0'] = test_fn ['pred']"
   ]
  },
  {
   "cell_type": "code",
   "execution_count": null,
   "id": "3842b810",
   "metadata": {},
   "outputs": [],
   "source": [
    "import matplotlib.pyplot as plt\n",
    "import seaborn as sns\n",
    "import warnings\n",
    "warnings.simplefilter(action='ignore', category=FutureWarning)\n",
    "\n",
    "feature_imp_df = pd.DataFrame(X_train.columns,columns=['feature_name'])\n",
    "\n",
    "iter=0\n",
    "for model in models:\n",
    "    iter+=1\n",
    "    \n",
    "    feature_imp = pd.DataFrame(\n",
    "        sorted(zip(X_train.columns,model.feature_importances_)), \n",
    "        columns=['feature_name','importance']\n",
    "    )\n",
    "    \n",
    "    feature_imp[f'importance_{iter}'] = feature_imp['importance'] / feature_imp['importance'].sum()\n",
    "    \n",
    "    feature_imp_df = pd.merge(\n",
    "        feature_imp_df,\n",
    "        feature_imp[['feature_name',f'importance_{iter}']],\n",
    "        how='left',\n",
    "        on=['feature_name'],\n",
    "    )\n",
    "\n",
    "feature_imp_df = feature_imp_df.dropna()\n",
    "\n",
    "imp_cols = [col for col in feature_imp_df.columns if col.find('importance_')>=0]\n",
    "feature_imp_df['importance'] = feature_imp_df[imp_cols].apply(lambda x: sum(x),axis=1)\n",
    "feature_imp_df['importance'] = 100 * feature_imp_df['importance'] / feature_imp_df['importance'].sum()\n",
    "    \n",
    "plt.figure(figsize=(20, 15))\n",
    "sns.barplot(x=\"importance\", y=\"feature_name\", data=feature_imp_df.sort_values(by='importance', ascending=False))\n",
    "plt.title('LightGBM Features (avg over folds)')\n",
    "plt.tight_layout()\n",
    "plt.show()"
   ]
  },
  {
   "cell_type": "code",
   "execution_count": null,
   "id": "348593c2",
   "metadata": {},
   "outputs": [],
   "source": [
    "lgb_check_df = feature_imp_df[['feature_name','importance']].sort_values('importance',ascending=False)\n",
    "lgb_check_df['cum_importance'] = lgb_check_df['importance'].cumsum()\n",
    "\n",
    "cutoff = 99\n",
    "print(f'cumulative import ≥ {cutoff}% : {np.where(lgb_check_df[\"cum_importance\"]<=cutoff,1,0).sum()} / {lgb_check_df.shape[0]}')\n",
    "display(lgb_check_df.head())"
   ]
  },
  {
   "cell_type": "code",
   "execution_count": null,
   "id": "58bd769d",
   "metadata": {},
   "outputs": [],
   "source": [
    "train_df7.to_parquet('../OUT/train_fn.parquet.gz')\n",
    "test_df7 .to_parquet('../OUT/test_fn.parquet.gz')"
   ]
  },
  {
   "cell_type": "markdown",
   "id": "cfe8e81b",
   "metadata": {},
   "source": [
    "<br>\n",
    "\n",
    "## CatBoost - 단일모델"
   ]
  },
  {
   "cell_type": "code",
   "execution_count": 52,
   "id": "05439de9",
   "metadata": {},
   "outputs": [],
   "source": [
    "# !pip install catboost"
   ]
  },
  {
   "cell_type": "code",
   "execution_count": 54,
   "id": "3c6203d1",
   "metadata": {
    "tags": []
   },
   "outputs": [
    {
     "name": "stdout",
     "output_type": "stream",
     "text": [
      "2022-11-11 11:48:32\n"
     ]
    },
    {
     "name": "stderr",
     "output_type": "stream",
     "text": [
      "50_107_0 : 566,823/4,686,836(12.09%):   0%|          | 0/25 [00:02<?, ?it/s]"
     ]
    },
    {
     "name": "stdout",
     "output_type": "stream",
     "text": [
      "0:\tlearn: 9.3883602\ttotal: 75.6ms\tremaining: 6m 17s\n",
      "1000:\tlearn: 3.8409234\ttotal: 47.5s\tremaining: 3m 9s\n",
      "2000:\tlearn: 3.5600805\ttotal: 1m 34s\tremaining: 2m 21s\n",
      "3000:\tlearn: 3.4552903\ttotal: 2m 21s\tremaining: 1m 34s\n",
      "4000:\tlearn: 3.3986910\ttotal: 3m 8s\tremaining: 47s\n",
      "4999:\tlearn: 3.3605495\ttotal: 3m 55s\tremaining: 0us\n"
     ]
    },
    {
     "name": "stderr",
     "output_type": "stream",
     "text": [
      "60_107_0 : 468,359/4,686,836(9.99%):   4%|▍         | 1/25 [04:06<1:37:51, 244.67s/it] "
     ]
    },
    {
     "name": "stdout",
     "output_type": "stream",
     "text": [
      "0:\tlearn: 9.0216084\ttotal: 59.3ms\tremaining: 4m 56s\n",
      "1000:\tlearn: 4.1560630\ttotal: 39.6s\tremaining: 2m 38s\n",
      "2000:\tlearn: 3.9442172\ttotal: 1m 19s\tremaining: 1m 59s\n",
      "3000:\tlearn: 3.8704442\ttotal: 2m\tremaining: 1m 20s\n",
      "4000:\tlearn: 3.8306014\ttotal: 2m 40s\tremaining: 40.1s\n",
      "4999:\tlearn: 3.8027827\ttotal: 3m 20s\tremaining: 0us\n"
     ]
    },
    {
     "name": "stderr",
     "output_type": "stream",
     "text": [
      "60_103_0 : 467,783/4,686,836(9.98%):   8%|▊         | 2/25 [07:35<1:25:37, 223.36s/it]"
     ]
    },
    {
     "name": "stdout",
     "output_type": "stream",
     "text": [
      "0:\tlearn: 10.0697663\ttotal: 63.6ms\tremaining: 5m 17s\n",
      "1000:\tlearn: 4.0105928\ttotal: 40.6s\tremaining: 2m 42s\n",
      "2000:\tlearn: 3.6651233\ttotal: 1m 21s\tremaining: 2m 1s\n",
      "3000:\tlearn: 3.5364544\ttotal: 2m 1s\tremaining: 1m 20s\n",
      "4000:\tlearn: 3.4673454\ttotal: 2m 40s\tremaining: 40.2s\n",
      "4999:\tlearn: 3.4228796\ttotal: 3m 20s\tremaining: 0us\n"
     ]
    },
    {
     "name": "stderr",
     "output_type": "stream",
     "text": [
      "70_103_0 : 459,378/4,686,836(9.80%):  12%|█▏        | 3/25 [11:03<1:19:21, 216.43s/it]"
     ]
    },
    {
     "name": "stdout",
     "output_type": "stream",
     "text": [
      "0:\tlearn: 12.1894224\ttotal: 60.5ms\tremaining: 5m 2s\n",
      "1000:\tlearn: 4.3484043\ttotal: 40.6s\tremaining: 2m 42s\n",
      "2000:\tlearn: 4.0054051\ttotal: 1m 20s\tremaining: 2m\n",
      "3000:\tlearn: 3.8563544\ttotal: 1m 59s\tremaining: 1m 19s\n",
      "4000:\tlearn: 3.7704410\ttotal: 2m 38s\tremaining: 39.6s\n",
      "4999:\tlearn: 3.7136840\ttotal: 3m 16s\tremaining: 0us\n"
     ]
    },
    {
     "name": "stderr",
     "output_type": "stream",
     "text": [
      "80_103_0 : 409,679/4,686,836(8.74%):  16%|█▌        | 4/25 [14:27<1:14:04, 211.63s/it]"
     ]
    },
    {
     "name": "stdout",
     "output_type": "stream",
     "text": [
      "0:\tlearn: 11.6827956\ttotal: 61ms\tremaining: 5m 4s\n",
      "1000:\tlearn: 3.5403978\ttotal: 34.8s\tremaining: 2m 18s\n",
      "2000:\tlearn: 3.2570976\ttotal: 1m 9s\tremaining: 1m 43s\n",
      "3000:\tlearn: 3.1555916\ttotal: 1m 43s\tremaining: 1m 8s\n",
      "4000:\tlearn: 3.0995359\ttotal: 2m 17s\tremaining: 34.4s\n",
      "4999:\tlearn: 3.0588851\ttotal: 2m 52s\tremaining: 0us\n"
     ]
    },
    {
     "name": "stderr",
     "output_type": "stream",
     "text": [
      "70_106_0 : 354,068/4,686,836(7.55%):  20%|██        | 5/25 [17:26<1:06:38, 199.92s/it]"
     ]
    },
    {
     "name": "stdout",
     "output_type": "stream",
     "text": [
      "0:\tlearn: 10.9428090\ttotal: 50.9ms\tremaining: 4m 14s\n",
      "1000:\tlearn: 4.0996475\ttotal: 30.9s\tremaining: 2m 3s\n",
      "2000:\tlearn: 3.8455727\ttotal: 1m 1s\tremaining: 1m 32s\n",
      "3000:\tlearn: 3.7502877\ttotal: 1m 32s\tremaining: 1m 1s\n",
      "4000:\tlearn: 3.6984403\ttotal: 2m 3s\tremaining: 30.8s\n",
      "4999:\tlearn: 3.6613091\ttotal: 2m 34s\tremaining: 0us\n"
     ]
    },
    {
     "name": "stderr",
     "output_type": "stream",
     "text": [
      "60_106_0 : 295,832/4,686,836(6.31%):  24%|██▍       | 6/25 [20:06<59:03, 186.50s/it]  "
     ]
    },
    {
     "name": "stdout",
     "output_type": "stream",
     "text": [
      "0:\tlearn: 8.1110182\ttotal: 42.6ms\tremaining: 3m 32s\n",
      "1000:\tlearn: 3.1751733\ttotal: 26.5s\tremaining: 1m 45s\n",
      "2000:\tlearn: 2.9952697\ttotal: 52.9s\tremaining: 1m 19s\n",
      "3000:\tlearn: 2.9224378\ttotal: 1m 19s\tremaining: 52.7s\n",
      "4000:\tlearn: 2.8823456\ttotal: 1m 45s\tremaining: 26.3s\n",
      "4999:\tlearn: 2.8534246\ttotal: 2m 11s\tremaining: 0us\n"
     ]
    },
    {
     "name": "stderr",
     "output_type": "stream",
     "text": [
      "50_103_0 : 287,306/4,686,836(6.13%):  28%|██▊       | 7/25 [22:23<51:04, 170.23s/it]"
     ]
    },
    {
     "name": "stdout",
     "output_type": "stream",
     "text": [
      "0:\tlearn: 9.3838042\ttotal: 39.1ms\tremaining: 3m 15s\n",
      "1000:\tlearn: 3.3771053\ttotal: 24.2s\tremaining: 1m 36s\n",
      "2000:\tlearn: 3.1579361\ttotal: 47.6s\tremaining: 1m 11s\n",
      "3000:\tlearn: 3.0817600\ttotal: 1m 10s\tremaining: 47.1s\n",
      "4000:\tlearn: 3.0416603\ttotal: 1m 33s\tremaining: 23.4s\n",
      "4999:\tlearn: 3.0151039\ttotal: 1m 56s\tremaining: 0us\n"
     ]
    },
    {
     "name": "stderr",
     "output_type": "stream",
     "text": [
      "60_103_1 : 225,125/4,686,836(4.80%):  32%|███▏      | 8/25 [24:25<43:53, 154.90s/it]"
     ]
    },
    {
     "name": "stdout",
     "output_type": "stream",
     "text": [
      "0:\tlearn: 8.0106208\ttotal: 38.4ms\tremaining: 3m 11s\n",
      "1000:\tlearn: 2.8038795\ttotal: 23.1s\tremaining: 1m 32s\n",
      "2000:\tlearn: 2.6384686\ttotal: 45.9s\tremaining: 1m 8s\n",
      "3000:\tlearn: 2.5750561\ttotal: 1m 8s\tremaining: 45.7s\n",
      "4000:\tlearn: 2.5373917\ttotal: 1m 31s\tremaining: 22.8s\n",
      "4999:\tlearn: 2.5090186\ttotal: 1m 54s\tremaining: 0us\n"
     ]
    },
    {
     "name": "stderr",
     "output_type": "stream",
     "text": [
      "80_103_1 : 146,504/4,686,836(3.13%):  36%|███▌      | 9/25 [26:24<38:19, 143.70s/it]"
     ]
    },
    {
     "name": "stdout",
     "output_type": "stream",
     "text": [
      "0:\tlearn: 11.9115365\ttotal: 31.5ms\tremaining: 2m 37s\n",
      "1000:\tlearn: 2.7714971\ttotal: 17.7s\tremaining: 1m 10s\n",
      "2000:\tlearn: 2.6375314\ttotal: 34.9s\tremaining: 52.4s\n",
      "3000:\tlearn: 2.5839478\ttotal: 52.1s\tremaining: 34.7s\n",
      "4000:\tlearn: 2.5461920\ttotal: 1m 9s\tremaining: 17.3s\n",
      "4999:\tlearn: 2.5163829\ttotal: 1m 26s\tremaining: 0us\n"
     ]
    },
    {
     "name": "stderr",
     "output_type": "stream",
     "text": [
      "30_107_0 : 139,631/4,686,836(2.98%):  40%|████      | 10/25 [27:54<31:49, 127.28s/it]"
     ]
    },
    {
     "name": "stdout",
     "output_type": "stream",
     "text": [
      "0:\tlearn: 7.9625880\ttotal: 29.8ms\tremaining: 2m 28s\n",
      "1000:\tlearn: 3.0593034\ttotal: 16s\tremaining: 1m 3s\n",
      "2000:\tlearn: 3.0042263\ttotal: 31.5s\tremaining: 47.2s\n",
      "3000:\tlearn: 2.9711919\ttotal: 47.1s\tremaining: 31.4s\n",
      "4000:\tlearn: 2.9466460\ttotal: 1m 2s\tremaining: 15.7s\n",
      "4999:\tlearn: 2.9254372\ttotal: 1m 18s\tremaining: 0us\n"
     ]
    },
    {
     "name": "stderr",
     "output_type": "stream",
     "text": [
      "60_106_1 : 123,864/4,686,836(2.64%):  44%|████▍     | 11/25 [29:16<26:29, 113.50s/it]"
     ]
    },
    {
     "name": "stdout",
     "output_type": "stream",
     "text": [
      "0:\tlearn: 6.1562672\ttotal: 29.8ms\tremaining: 2m 28s\n",
      "1000:\tlearn: 2.4203769\ttotal: 16.4s\tremaining: 1m 5s\n",
      "2000:\tlearn: 2.3498441\ttotal: 32.3s\tremaining: 48.4s\n",
      "3000:\tlearn: 2.3116954\ttotal: 48.2s\tremaining: 32.1s\n",
      "4000:\tlearn: 2.2849357\ttotal: 1m 4s\tremaining: 16.1s\n",
      "4999:\tlearn: 2.2627241\ttotal: 1m 20s\tremaining: 0us\n"
     ]
    },
    {
     "name": "stderr",
     "output_type": "stream",
     "text": [
      "50_103_1 : 89,790/4,686,836(1.92%):  48%|████▊     | 12/25 [30:40<22:38, 104.53s/it] "
     ]
    },
    {
     "name": "stdout",
     "output_type": "stream",
     "text": [
      "0:\tlearn: 8.7969192\ttotal: 23.6ms\tremaining: 1m 58s\n",
      "1000:\tlearn: 3.3160085\ttotal: 14.3s\tremaining: 57s\n",
      "2000:\tlearn: 3.2449215\ttotal: 28.2s\tremaining: 42.2s\n",
      "3000:\tlearn: 3.2029287\ttotal: 41.7s\tremaining: 27.8s\n",
      "4000:\tlearn: 3.1705316\ttotal: 55.4s\tremaining: 13.8s\n",
      "4999:\tlearn: 3.1422813\ttotal: 1m 9s\tremaining: 0us\n"
     ]
    },
    {
     "name": "stderr",
     "output_type": "stream",
     "text": [
      "80_107_0 : 89,530/4,686,836(1.91%):  52%|█████▏    | 13/25 [31:52<18:55, 94.64s/it] "
     ]
    },
    {
     "name": "stdout",
     "output_type": "stream",
     "text": [
      "0:\tlearn: 7.6736813\ttotal: 23.4ms\tremaining: 1m 56s\n",
      "1000:\tlearn: 3.3169343\ttotal: 13s\tremaining: 51.7s\n",
      "2000:\tlearn: 3.1978733\ttotal: 25.7s\tremaining: 38.5s\n",
      "3000:\tlearn: 3.1275505\ttotal: 38.5s\tremaining: 25.6s\n",
      "4000:\tlearn: 3.0737190\ttotal: 51.2s\tremaining: 12.8s\n",
      "4999:\tlearn: 3.0282426\ttotal: 1m 4s\tremaining: 0us\n"
     ]
    },
    {
     "name": "stderr",
     "output_type": "stream",
     "text": [
      "50_106_0 : 88,540/4,686,836(1.89%):  56%|█████▌    | 14/25 [32:59<15:47, 86.16s/it]"
     ]
    },
    {
     "name": "stdout",
     "output_type": "stream",
     "text": [
      "0:\tlearn: 9.9191834\ttotal: 24.5ms\tremaining: 2m 2s\n",
      "1000:\tlearn: 3.4918158\ttotal: 13.9s\tremaining: 55.5s\n",
      "2000:\tlearn: 3.4210110\ttotal: 27.3s\tremaining: 40.9s\n",
      "3000:\tlearn: 3.3810555\ttotal: 40.8s\tremaining: 27.2s\n",
      "4000:\tlearn: 3.3502908\ttotal: 54.5s\tremaining: 13.6s\n",
      "4999:\tlearn: 3.3228753\ttotal: 1m 8s\tremaining: 0us\n"
     ]
    },
    {
     "name": "stderr",
     "output_type": "stream",
     "text": [
      "70_107_0 : 86,648/4,686,836(1.85%):  60%|██████    | 15/25 [34:09<13:34, 81.50s/it]"
     ]
    },
    {
     "name": "stdout",
     "output_type": "stream",
     "text": [
      "0:\tlearn: 11.1465542\ttotal: 24.4ms\tremaining: 2m 1s\n",
      "1000:\tlearn: 3.3572580\ttotal: 14s\tremaining: 56.1s\n",
      "2000:\tlearn: 3.2240376\ttotal: 27.8s\tremaining: 41.6s\n",
      "3000:\tlearn: 3.1608678\ttotal: 41.6s\tremaining: 27.7s\n",
      "4000:\tlearn: 3.1146990\ttotal: 55.4s\tremaining: 13.8s\n",
      "4999:\tlearn: 3.0787013\ttotal: 1m 9s\tremaining: 0us\n"
     ]
    },
    {
     "name": "stderr",
     "output_type": "stream",
     "text": [
      "60_107_1 : 84,610/4,686,836(1.81%):  64%|██████▍   | 16/25 [35:21<11:46, 78.54s/it]"
     ]
    },
    {
     "name": "stdout",
     "output_type": "stream",
     "text": [
      "0:\tlearn: 10.8078286\ttotal: 26.4ms\tremaining: 2m 11s\n",
      "1000:\tlearn: 3.1905282\ttotal: 14.7s\tremaining: 58.8s\n",
      "2000:\tlearn: 3.1268120\ttotal: 28.9s\tremaining: 43.3s\n",
      "3000:\tlearn: 3.0870952\ttotal: 42.9s\tremaining: 28.6s\n",
      "4000:\tlearn: 3.0555468\ttotal: 57.1s\tremaining: 14.3s\n",
      "4999:\tlearn: 3.0271450\ttotal: 1m 11s\tremaining: 0us\n"
     ]
    },
    {
     "name": "stderr",
     "output_type": "stream",
     "text": [
      "50_107_1 : 40,539/4,686,836(0.86%):  68%|██████▊   | 17/25 [36:35<10:17, 77.17s/it]"
     ]
    },
    {
     "name": "stdout",
     "output_type": "stream",
     "text": [
      "0:\tlearn: 7.6266412\ttotal: 31.2ms\tremaining: 2m 36s\n",
      "1000:\tlearn: 2.9137707\ttotal: 31.2s\tremaining: 2m 4s\n",
      "2000:\tlearn: 2.8621453\ttotal: 59.9s\tremaining: 1m 29s\n",
      "3000:\tlearn: 2.8361479\ttotal: 1m 28s\tremaining: 59.1s\n",
      "4000:\tlearn: 2.8193300\ttotal: 1m 57s\tremaining: 29.3s\n",
      "4999:\tlearn: 2.8064304\ttotal: 2m 25s\tremaining: 0us\n"
     ]
    },
    {
     "name": "stderr",
     "output_type": "stream",
     "text": [
      "80_107_1 : 38,584/4,686,836(0.82%):  72%|███████▏  | 18/25 [39:02<11:27, 98.23s/it]"
     ]
    },
    {
     "name": "stdout",
     "output_type": "stream",
     "text": [
      "0:\tlearn: 6.8078616\ttotal: 33.1ms\tremaining: 2m 45s\n",
      "1000:\tlearn: 2.8194619\ttotal: 30.5s\tremaining: 2m 1s\n",
      "2000:\tlearn: 2.7406810\ttotal: 58.9s\tremaining: 1m 28s\n",
      "3000:\tlearn: 2.7047629\ttotal: 1m 26s\tremaining: 57.6s\n",
      "4000:\tlearn: 2.6821298\ttotal: 1m 53s\tremaining: 28.4s\n",
      "4999:\tlearn: 2.6648971\ttotal: 2m 20s\tremaining: 0us\n"
     ]
    },
    {
     "name": "stderr",
     "output_type": "stream",
     "text": [
      "70_106_1 : 36,381/4,686,836(0.78%):  76%|███████▌  | 19/25 [41:25<11:09, 111.52s/it]"
     ]
    },
    {
     "name": "stdout",
     "output_type": "stream",
     "text": [
      "0:\tlearn: 5.4237961\ttotal: 32.9ms\tremaining: 2m 44s\n",
      "1000:\tlearn: 2.2916035\ttotal: 29.9s\tremaining: 1m 59s\n",
      "2000:\tlearn: 2.2051227\ttotal: 58.3s\tremaining: 1m 27s\n",
      "3000:\tlearn: 2.1610639\ttotal: 1m 25s\tremaining: 57.2s\n",
      "4000:\tlearn: 2.1366132\ttotal: 1m 50s\tremaining: 27.7s\n",
      "4999:\tlearn: 2.1168770\ttotal: 2m 16s\tremaining: 0us\n"
     ]
    },
    {
     "name": "stderr",
     "output_type": "stream",
     "text": [
      "70_107_1 : 34,545/4,686,836(0.74%):  80%|████████  | 20/25 [43:43<09:57, 119.43s/it]"
     ]
    },
    {
     "name": "stdout",
     "output_type": "stream",
     "text": [
      "0:\tlearn: 11.5125814\ttotal: 31.6ms\tremaining: 2m 37s\n",
      "1000:\tlearn: 3.0754021\ttotal: 31.2s\tremaining: 2m 4s\n",
      "2000:\tlearn: 3.0046766\ttotal: 59.9s\tremaining: 1m 29s\n",
      "3000:\tlearn: 2.9688305\ttotal: 1m 27s\tremaining: 58.4s\n",
      "4000:\tlearn: 2.9455683\ttotal: 1m 54s\tremaining: 28.5s\n",
      "4999:\tlearn: 2.9280734\ttotal: 2m 20s\tremaining: 0us\n"
     ]
    },
    {
     "name": "stderr",
     "output_type": "stream",
     "text": [
      "30_107_1 : 30,706/4,686,836(0.66%):  84%|████████▍ | 21/25 [46:05<08:25, 126.34s/it]"
     ]
    },
    {
     "name": "stdout",
     "output_type": "stream",
     "text": [
      "0:\tlearn: 6.4448189\ttotal: 28.3ms\tremaining: 2m 21s\n",
      "1000:\tlearn: 2.9529398\ttotal: 28.1s\tremaining: 1m 52s\n",
      "2000:\tlearn: 2.9180308\ttotal: 55s\tremaining: 1m 22s\n",
      "3000:\tlearn: 2.9009332\ttotal: 1m 20s\tremaining: 53.8s\n",
      "4000:\tlearn: 2.8903176\ttotal: 1m 46s\tremaining: 26.6s\n",
      "4999:\tlearn: 2.8805298\ttotal: 2m 12s\tremaining: 0us\n"
     ]
    },
    {
     "name": "stderr",
     "output_type": "stream",
     "text": [
      "30_103_0 : 25,807/4,686,836(0.55%):  88%|████████▊ | 22/25 [48:19<06:25, 128.63s/it]"
     ]
    },
    {
     "name": "stdout",
     "output_type": "stream",
     "text": [
      "0:\tlearn: 11.0240051\ttotal: 29.3ms\tremaining: 2m 26s\n",
      "1000:\tlearn: 2.9132130\ttotal: 27.8s\tremaining: 1m 51s\n",
      "2000:\tlearn: 2.8546870\ttotal: 54s\tremaining: 1m 20s\n",
      "3000:\tlearn: 2.8240230\ttotal: 1m 19s\tremaining: 53s\n",
      "4000:\tlearn: 2.8042222\ttotal: 1m 44s\tremaining: 26.2s\n",
      "4999:\tlearn: 2.7895063\ttotal: 2m 10s\tremaining: 0us\n"
     ]
    },
    {
     "name": "stderr",
     "output_type": "stream",
     "text": [
      "70_103_1 : 24,057/4,686,836(0.51%):  92%|█████████▏| 23/25 [50:31<04:19, 129.73s/it]"
     ]
    },
    {
     "name": "stdout",
     "output_type": "stream",
     "text": [
      "0:\tlearn: 8.0716631\ttotal: 26ms\tremaining: 2m 9s\n",
      "1000:\tlearn: 3.5187137\ttotal: 24.4s\tremaining: 1m 37s\n",
      "2000:\tlearn: 3.4716289\ttotal: 46.9s\tremaining: 1m 10s\n",
      "3000:\tlearn: 3.4462101\ttotal: 1m 8s\tremaining: 45.9s\n",
      "4000:\tlearn: 3.4271710\ttotal: 1m 31s\tremaining: 22.7s\n",
      "4999:\tlearn: 3.4114794\ttotal: 1m 53s\tremaining: 0us\n"
     ]
    },
    {
     "name": "stderr",
     "output_type": "stream",
     "text": [
      "30_103_1 : 11,940/4,686,836(0.25%):  96%|█████████▌| 24/25 [52:26<02:05, 125.32s/it]"
     ]
    },
    {
     "name": "stdout",
     "output_type": "stream",
     "text": [
      "0:\tlearn: 4.1214484\ttotal: 24.3ms\tremaining: 2m 1s\n",
      "1000:\tlearn: 2.1668688\ttotal: 21.8s\tremaining: 1m 27s\n",
      "2000:\tlearn: 2.1302711\ttotal: 42s\tremaining: 1m 2s\n",
      "3000:\tlearn: 2.1094601\ttotal: 1m 1s\tremaining: 41.2s\n",
      "4000:\tlearn: 2.0945072\ttotal: 1m 21s\tremaining: 20.5s\n"
     ]
    },
    {
     "name": "stderr",
     "output_type": "stream",
     "text": [
      "30_103_1 : 11,940/4,686,836(0.25%): 100%|██████████| 25/25 [54:09<00:00, 129.97s/it]"
     ]
    },
    {
     "name": "stdout",
     "output_type": "stream",
     "text": [
      "4999:\tlearn: 2.0833153\ttotal: 1m 42s\tremaining: 0us\n",
      "CPU times: user 1h 5min 59s, sys: 4min 20s, total: 1h 10min 20s\n",
      "Wall time: 54min 9s\n"
     ]
    },
    {
     "name": "stderr",
     "output_type": "stream",
     "text": [
      "\n"
     ]
    }
   ],
   "source": [
    "%%time\n",
    "\n",
    "from catboost import CatBoostRegressor, Pool\n",
    "\n",
    "tr_segment = X_train[segment_features].value_counts().sort_values(ascending=False).index\n",
    "te_segment = X_test [segment_features].value_counts().index\n",
    "segment    = [seg for seg in tr_segment if seg in te_segment]\n",
    "\n",
    "# now_date = str(datetime.datetime.now()).replace(' ','').replace('-','').replace(':','').replace('.','')[:14]\n",
    "now_date = str(datetime.datetime.now())\n",
    "now_date = now_date[:now_date.find('.')]\n",
    "# createFolder(f'../MDL/{now_date}/')\n",
    "print(now_date)\n",
    "\n",
    "models = []\n",
    "train_fn = []\n",
    "test_fn = []\n",
    "iter = 0\n",
    "\n",
    "pbar = tqdm(segment)\n",
    "for segment_x in pbar:\n",
    "    iter += 1\n",
    "    \n",
    "    X_tr = X_train[X_train[segment_features]==segment_x]\n",
    "    X_te = X_test [X_test [segment_features]==segment_x]\n",
    "    \n",
    "    y_tr = y_train[X_train[segment_features]==segment_x]\n",
    "    y_tr = transformation(y_tr,offset=offset,method=transform_method)\n",
    "    \n",
    "    scalers = {}\n",
    "    for col in new_num_features:\n",
    "        scaler = scaling_method()\n",
    "        scalers[col] = scaler\n",
    "        \n",
    "        X_tr[col] = scaler.fit_transform(np.array(X_tr[col]).reshape(-1,1))\n",
    "        X_te[col] = scaler.transform(np.array(X_te[col]).reshape(-1,1))\n",
    "\n",
    "    progress = f'{segment_x} : {X_tr.shape[0]:,}/{X_train.shape[0]:,}({X_tr.shape[0]/X_train.shape[0]*100:.2f}%)'\n",
    "    pbar.set_description(progress)\n",
    "    \n",
    "    train_data = Pool(\n",
    "        X_tr.drop([segment_features,'id'],axis=1),\n",
    "        y_tr,\n",
    "        cat_features=new_cat_features\n",
    "    )\n",
    "    test_data  = Pool(\n",
    "        X_te.drop([segment_features,'id'],axis=1),\n",
    "        cat_features=new_cat_features\n",
    "    )\n",
    "    \n",
    "    params = {\n",
    "        'loss_function' : 'RMSE',\n",
    "        'eval_metric' : 'MAE',\n",
    "        'iterations' : 5000,\n",
    "        'early_stopping_rounds' : 100,\n",
    "        'verbose' : 1,\n",
    "        'random_state' : 42,\n",
    "        'metric_period' : 1000,\n",
    "        'learning_rate' : 0.01,\n",
    "    }\n",
    "    \n",
    "    GPU_ENABLED=True\n",
    "    if GPU_ENABLED:\n",
    "        params['task_type'] = 'GPU'\n",
    "        params['bootstrap_type'] = \"Poisson\"\n",
    "\n",
    "    # iterations default=1,000\n",
    "    model = CatBoostRegressor(**params)\n",
    "    model.fit(train_data)\n",
    "\n",
    "    # save\n",
    "    models.append(model)\n",
    "    # model.save_model(f'../MDL/{now_date}/catboost_{segment_x}.cbm')\n",
    "    \n",
    "    X_tr['pred'] = model.predict(train_data)\n",
    "    X_te['pred'] = model.predict(test_data)\n",
    "    \n",
    "    # inverse transformation\n",
    "    X_tr['pred'] = inverse_transformation(X_tr['pred'],offset=offset,method=transform_method)\n",
    "    X_te['pred'] = inverse_transformation(X_te['pred'],offset=offset,method=transform_method)\n",
    "    \n",
    "    y_tr = inverse_transformation(y_tr,offset=offset,method=transform_method)\n",
    "    \n",
    "    train_fn.append(pd.concat([X_tr[['id',segment_features,'pred']],y_tr],axis=1))\n",
    "    test_fn .append(X_te[['id',segment_features,'pred']])"
   ]
  },
  {
   "cell_type": "code",
   "execution_count": 55,
   "id": "bdeee02b",
   "metadata": {},
   "outputs": [],
   "source": [
    "train_fn = pd.concat(train_fn,axis=0)\n",
    "test_fn  = pd.concat(test_fn ,axis=0)"
   ]
  },
  {
   "cell_type": "code",
   "execution_count": 56,
   "id": "bc4900fb",
   "metadata": {},
   "outputs": [
    {
     "data": {
      "text/plain": [
       "3.2178845438849986"
      ]
     },
     "execution_count": 56,
     "metadata": {},
     "output_type": "execute_result"
    }
   ],
   "source": [
    "from sklearn.metrics import mean_absolute_error\n",
    "\n",
    "mean_absolute_error(y_true=train_fn['target'],y_pred=train_fn['pred'])"
   ]
  },
  {
   "cell_type": "code",
   "execution_count": 57,
   "id": "93e40740",
   "metadata": {},
   "outputs": [
    {
     "data": {
      "image/png": "[encoded data removed]",
      "text/plain": [
       "<Figure size 1080x504 with 1 Axes>"
      ]
     },
     "metadata": {
      "needs_background": "light"
     },
     "output_type": "display_data"
    }
   ],
   "source": [
    "plt.figure(figsize=(15,7))\n",
    "sns.scatterplot(train_fn['target'],train_fn['pred'],alpha=0.5)\n",
    "plt.xlabel('true')\n",
    "plt.ylabel('prediction')\n",
    "abline(slope=1,intercept=0,color='red')\n",
    "plt.show()"
   ]
  },
  {
   "cell_type": "code",
   "execution_count": 58,
   "id": "a71726f3",
   "metadata": {},
   "outputs": [],
   "source": [
    "# iter=0\n",
    "# for seg in segment:\n",
    "#     iter+=1\n",
    "#     print(f'\\n({iter}/{train_fn.segment.nunique()}) {seg}')\n",
    "    \n",
    "#     tmp = train_fn[train_fn.segment==seg]\n",
    "#     mae = mean_absolute_error(y_true=tmp['target'],y_pred=tmp['pred'])\n",
    "\n",
    "#     plt.figure(figsize=(15,7))\n",
    "#     sns.scatterplot(tmp['target'],tmp['pred'],alpha=0.5)\n",
    "#     plt.xlabel('true')\n",
    "#     plt.ylabel('prediction')\n",
    "#     plt.title(f'MAE : {mae:.4f}')\n",
    "#     abline(slope=1,intercept=0,color='red')\n",
    "#     plt.show()"
   ]
  },
  {
   "cell_type": "code",
   "execution_count": 60,
   "id": "b7f34e83",
   "metadata": {},
   "outputs": [],
   "source": [
    "train_df7['pred_cat'] = train_fn['pred']\n",
    "test_df7 ['pred_cat'] = test_fn ['pred']"
   ]
  },
  {
   "cell_type": "code",
   "execution_count": 62,
   "id": "f969ede0",
   "metadata": {},
   "outputs": [
    {
     "data": {
      "image/png": "[encoded data removed]",
      "text/plain": [
       "<Figure size 1440x1080 with 1 Axes>"
      ]
     },
     "metadata": {
      "needs_background": "light"
     },
     "output_type": "display_data"
    }
   ],
   "source": [
    "import matplotlib.pyplot as plt\n",
    "import seaborn as sns\n",
    "import warnings\n",
    "warnings.simplefilter(action='ignore', category=FutureWarning)\n",
    "\n",
    "feature_imp_df = pd.DataFrame(X_train.columns,columns=['feature_name'])\n",
    "\n",
    "iter=0\n",
    "for model in models:\n",
    "    iter+=1\n",
    "    \n",
    "    feature_imp = pd.DataFrame(\n",
    "        sorted(zip(X_train.columns,model.feature_importances_)), \n",
    "        columns=['feature_name','importance']\n",
    "    )\n",
    "    \n",
    "    feature_imp[f'importance_{iter}'] = feature_imp['importance'] / feature_imp['importance'].sum()\n",
    "    \n",
    "    feature_imp_df = pd.merge(\n",
    "        feature_imp_df,\n",
    "        feature_imp[['feature_name',f'importance_{iter}']],\n",
    "        how='left',\n",
    "        on=['feature_name'],\n",
    "    )\n",
    "\n",
    "feature_imp_df = feature_imp_df.dropna()\n",
    "\n",
    "imp_cols = [col for col in feature_imp_df.columns if col.find('importance_')>=0]\n",
    "feature_imp_df['importance'] = feature_imp_df[imp_cols].apply(lambda x: sum(x),axis=1)\n",
    "feature_imp_df['importance'] = 100 * feature_imp_df['importance'] / feature_imp_df['importance'].sum()\n",
    "    \n",
    "plt.figure(figsize=(20, 15))\n",
    "sns.barplot(x=\"importance\", y=\"feature_name\", data=feature_imp_df.sort_values(by='importance', ascending=False))\n",
    "plt.title('CatBoost Features (avg over folds)')\n",
    "plt.tight_layout()\n",
    "plt.show()"
   ]
  },
  {
   "cell_type": "code",
   "execution_count": 64,
   "id": "da0322f5",
   "metadata": {},
   "outputs": [
    {
     "name": "stdout",
     "output_type": "stream",
     "text": [
      "cumulative import ≥ 99% : 119 / 178\n"
     ]
    },
    {
     "data": {
      "text/html": [
       "<div>\n",
       "<style scoped>\n",
       "    .dataframe tbody tr th:only-of-type {\n",
       "        vertical-align: middle;\n",
       "    }\n",
       "\n",
       "    .dataframe tbody tr th {\n",
       "        vertical-align: top;\n",
       "    }\n",
       "\n",
       "    .dataframe thead th {\n",
       "        text-align: right;\n",
       "    }\n",
       "</style>\n",
       "<table border=\"1\" class=\"dataframe\">\n",
       "  <thead>\n",
       "    <tr style=\"text-align: right;\">\n",
       "      <th></th>\n",
       "      <th>feature_name</th>\n",
       "      <th>importance</th>\n",
       "      <th>cum_importance</th>\n",
       "    </tr>\n",
       "  </thead>\n",
       "  <tbody>\n",
       "    <tr>\n",
       "      <th>5</th>\n",
       "      <td>start_latitude</td>\n",
       "      <td>16.962945</td>\n",
       "      <td>16.962945</td>\n",
       "    </tr>\n",
       "    <tr>\n",
       "      <th>4</th>\n",
       "      <td>road_type</td>\n",
       "      <td>13.958709</td>\n",
       "      <td>30.921655</td>\n",
       "    </tr>\n",
       "    <tr>\n",
       "      <th>177</th>\n",
       "      <td>qurRate_합계</td>\n",
       "      <td>13.211441</td>\n",
       "      <td>44.133096</td>\n",
       "    </tr>\n",
       "    <tr>\n",
       "      <th>1</th>\n",
       "      <td>lane_count</td>\n",
       "      <td>11.107641</td>\n",
       "      <td>55.240737</td>\n",
       "    </tr>\n",
       "    <tr>\n",
       "      <th>12</th>\n",
       "      <td>latitude_diff</td>\n",
       "      <td>9.311522</td>\n",
       "      <td>64.552259</td>\n",
       "    </tr>\n",
       "  </tbody>\n",
       "</table>\n",
       "</div>"
      ],
      "text/plain": [
       "       feature_name  importance  cum_importance\n",
       "5    start_latitude   16.962945       16.962945\n",
       "4         road_type   13.958709       30.921655\n",
       "177      qurRate_합계   13.211441       44.133096\n",
       "1        lane_count   11.107641       55.240737\n",
       "12    latitude_diff    9.311522       64.552259"
      ]
     },
     "metadata": {},
     "output_type": "display_data"
    }
   ],
   "source": [
    "cat_check_df = feature_imp_df[['feature_name','importance']].sort_values('importance',ascending=False)\n",
    "cat_check_df['cum_importance'] = cat_check_df['importance'].cumsum()\n",
    "\n",
    "cutoff = 99\n",
    "print(f'cumulative import ≥ {cutoff}% : {np.where(cat_check_df[\"cum_importance\"]<=cutoff,1,0).sum()} / {cat_check_df.shape[0]}')\n",
    "display(cat_check_df.head())"
   ]
  },
  {
   "cell_type": "code",
   "execution_count": 66,
   "id": "33ff68ce",
   "metadata": {},
   "outputs": [],
   "source": [
    "train_df7.to_parquet('../OUT/train_fn.parquet.gz')\n",
    "test_df7 .to_parquet('../OUT/test_fn.parquet.gz')"
   ]
  },
  {
   "cell_type": "markdown",
   "id": "f217a624",
   "metadata": {},
   "source": [
    "<br>\n",
    "\n",
    "## CatBoost - Kfold (제외)"
   ]
  },
  {
   "cell_type": "code",
   "execution_count": null,
   "id": "daee4183",
   "metadata": {},
   "outputs": [],
   "source": [
    "from sklearn.model_selection import KFold\n",
    "\n",
    "kf = KFold(n_splits=5)"
   ]
  },
  {
   "cell_type": "code",
   "execution_count": null,
   "id": "69ae8cee",
   "metadata": {},
   "outputs": [],
   "source": [
    "%%time\n",
    "\n",
    "from catboost import CatBoostRegressor, Pool\n",
    "\n",
    "tr_segment = X_train[segment_features].value_counts().sort_values(ascending=False).index\n",
    "te_segment = X_test [segment_features].value_counts().index\n",
    "segment    = [seg for seg in tr_segment if seg in te_segment]\n",
    "\n",
    "# now_date = str(datetime.datetime.now()).replace(' ','').replace('-','').replace(':','').replace('.','')[:14]\n",
    "now_date = str(datetime.datetime.now())\n",
    "now_date = now_date[:now_date.find('.')]\n",
    "# createFolder(f'../MDL/{now_date}/')\n",
    "print(now_date)\n",
    "\n",
    "models = []\n",
    "train_fn = []\n",
    "test_fn = []\n",
    "iter = 0\n",
    "\n",
    "pbar = tqdm(segment)\n",
    "for segment_x in pbar:\n",
    "    iter += 1\n",
    "    \n",
    "    X_tr = X_train[X_train[segment_features]==segment_x]\n",
    "    X_te = X_test [X_test [segment_features]==segment_x]\n",
    "\n",
    "    y_tr = y_train[X_train[segment_features]==segment_x]\n",
    "    y_tr = transformation(y_tr,offset=offset,method=transform_method)\n",
    "    \n",
    "    scalers = {}\n",
    "    for col in new_num_features:\n",
    "        scaler = scaling_method()\n",
    "        scalers[col] = scaler\n",
    "        \n",
    "        X_tr[col] = scaler.fit_transform(np.array(X_tr[col]).reshape(-1,1))\n",
    "        X_te[col] = scaler.transform(np.array(X_te[col]).reshape(-1,1))\n",
    "    \n",
    "    progress = f'{segment_x} : {X_tr.shape[0]:,}/{X_train.shape[0]:,}({X_tr.shape[0]/X_train.shape[0]*100:.2f}%)'\n",
    "    pbar.set_description(progress)\n",
    "    # print('-'*100)\n",
    "    # print(progress)\n",
    "    # print('-'*100)\n",
    "    \n",
    "    models_kf = []\n",
    "    for train_idx, valid_idx in kf.split(X_tr):\n",
    "    \n",
    "        X_tr_kf = X_tr.iloc[train_idx,:]\n",
    "        X_va_kf = X_tr.iloc[valid_idx,:]\n",
    "        y_tr_kf = y_tr.iloc[train_idx]\n",
    "        y_va_kf = y_tr.iloc[valid_idx]\n",
    "    \n",
    "        train_data_kf = Pool(\n",
    "            X_tr_kf.drop([segment_features,'id'],axis=1),\n",
    "            y_tr_kf,\n",
    "            cat_features=new_cat_features,\n",
    "        )\n",
    "        valid_data_kf = Pool(\n",
    "            X_va_kf.drop([segment_features,'id'],axis=1),\n",
    "            y_va_kf,\n",
    "            cat_features=new_cat_features,\n",
    "        )\n",
    "\n",
    "        # iterations default=1,000\n",
    "        model = CatBoostRegressor(\n",
    "            loss_function = 'MAE',\n",
    "            eval_metric = 'MAE',\n",
    "            iterations=1000,\n",
    "            early_stopping_rounds=30,\n",
    "            verbose=0,\n",
    "            random_state=42,\n",
    "            # metric_period=500,\n",
    "            #task_type='GPU',\n",
    "        )\n",
    "        model.fit(train_data_kf,eval_set=valid_data_kf,use_best_model=True)\n",
    "\n",
    "        # save\n",
    "        models_kf.append(model)\n",
    "        #model.save_model(f'../MDL/{now_date}/catboost_{segment_x}.cbm')\n",
    "        \n",
    "    train_data = Pool(\n",
    "        X_tr.drop([segment_features,'id'],axis=1),\n",
    "        y_tr,\n",
    "        cat_features=new_cat_features,\n",
    "    )\n",
    "    test_data = Pool(\n",
    "        X_te.drop([segment_features,'id'],axis=1),\n",
    "        cat_features=new_cat_features,\n",
    "    )\n",
    "    \n",
    "    X_tr['pred'] = np.mean(np.array([model.predict(train_data) for model in models_kf]),axis=0)\n",
    "    X_te['pred'] = np.mean(np.array([model.predict(test_data)  for model in models_kf]),axis=0)\n",
    "\n",
    "    # inverse transformation\n",
    "    X_tr['pred'] = inverse_transformation(X_tr['pred'],offset=offset,method=transform_method)\n",
    "    X_te['pred'] = inverse_transformation(X_te['pred'],offset=offset,method=transform_method)\n",
    "\n",
    "    y_tr = inverse_transformation(y_tr,offset=offset,method=transform_method)\n",
    "\n",
    "    train_fn.append(pd.concat([X_tr[['id',segment_features,'pred']],y_tr],axis=1))\n",
    "    test_fn .append(X_te[['id',segment_features,'pred']])\n",
    "    \n",
    "    mae = mean_absolute_error(y_true=y_tr,y_pred=X_tr['pred'])\n",
    "    print(f'MAE : {mae:.4f}')"
   ]
  },
  {
   "cell_type": "code",
   "execution_count": null,
   "id": "f6db6c8b",
   "metadata": {},
   "outputs": [],
   "source": [
    "train_fn = pd.concat(train_fn,axis=0)\n",
    "test_fn  = pd.concat(test_fn ,axis=0)"
   ]
  },
  {
   "cell_type": "code",
   "execution_count": null,
   "id": "7abe843c",
   "metadata": {},
   "outputs": [],
   "source": [
    "from sklearn.metrics import mean_absolute_error\n",
    "\n",
    "mean_absolute_error(y_true=train_fn['target'],y_pred=train_fn['pred'])"
   ]
  },
  {
   "cell_type": "code",
   "execution_count": null,
   "id": "4f45b086",
   "metadata": {},
   "outputs": [],
   "source": [
    "plt.figure(figsize=(15,7))\n",
    "sns.scatterplot(train_fn['target'],train_fn['pred'],alpha=0.5)\n",
    "plt.xlabel('true')\n",
    "plt.ylabel('prediction')\n",
    "abline(slope=1,intercept=0,color='red')\n",
    "plt.show()"
   ]
  },
  {
   "cell_type": "code",
   "execution_count": null,
   "id": "003821c0",
   "metadata": {},
   "outputs": [],
   "source": [
    "# iter=0\n",
    "# for seg in segment:\n",
    "#     iter+=1\n",
    "#     print(f'\\n({iter}/{train_fn.segment.nunique()}) {seg}')\n",
    "    \n",
    "#     tmp = train_fn[train_fn.segment==seg]\n",
    "#     mae = mean_absolute_error(y_true=tmp['target'],y_pred=tmp['pred'])\n",
    "\n",
    "#     plt.figure(figsize=(15,7))\n",
    "#     sns.scatterplot(tmp['target'],tmp['pred'],alpha=0.5)\n",
    "#     plt.xlabel('true')\n",
    "#     plt.ylabel('prediction')\n",
    "#     plt.title(f'MAE : {mae:.4f}')\n",
    "#     abline(slope=1,intercept=0,color='red')\n",
    "#     plt.show()"
   ]
  },
  {
   "cell_type": "code",
   "execution_count": null,
   "id": "53d4b571",
   "metadata": {},
   "outputs": [],
   "source": [
    "# submission = test_fn[['id','pred']].rename(columns={'pred':'target'}).sort_values('id')\n",
    "# submission.to_csv(f'../OUT/submission_{now_date}.csv',index=False)"
   ]
  },
  {
   "cell_type": "code",
   "execution_count": null,
   "id": "e3fca098",
   "metadata": {},
   "outputs": [],
   "source": [
    "train_df6['pred_cat_kf'] = train_fn['pred']\n",
    "test_df6 ['pred_cat_kf'] = test_fn ['pred']"
   ]
  },
  {
   "cell_type": "markdown",
   "id": "3c527762",
   "metadata": {},
   "source": [
    "<br>\n",
    "\n",
    "## LightGBM - Kfold (제외)"
   ]
  },
  {
   "cell_type": "code",
   "execution_count": null,
   "id": "7ab5b0d7",
   "metadata": {},
   "outputs": [],
   "source": [
    "from sklearn.model_selection import KFold\n",
    "\n",
    "kf = KFold(n_splits=5)"
   ]
  },
  {
   "cell_type": "code",
   "execution_count": null,
   "id": "36fad0a3",
   "metadata": {},
   "outputs": [],
   "source": [
    "%%time\n",
    "\n",
    "import lightgbm as lgb\n",
    "\n",
    "params = {\n",
    "    'task': 'train', \n",
    "    'boosting_type': 'gbdt',\n",
    "    'objective': 'regression',\n",
    "    'num_iterations': 1000,\n",
    "    'learning_rate': 0.05,\n",
    "    'metric': 'MAE',\n",
    "    'verbose': 0,\n",
    "    'n_jobs': -1,\n",
    "    'random_state': 0,\n",
    "}\n",
    "\n",
    "tr_segment = X_train[segment_features].value_counts().sort_values(ascending=False).index\n",
    "te_segment = X_test [segment_features].value_counts().index\n",
    "segment    = [seg for seg in tr_segment if seg in te_segment]\n",
    "\n",
    "# now_date = str(datetime.datetime.now()).replace(' ','').replace('-','').replace(':','').replace('.','')[:14]\n",
    "now_date = str(datetime.datetime.now())\n",
    "now_date = now_date[:now_date.find('.')]\n",
    "# createFolder(f'../MDL/{now_date}/')\n",
    "print(now_date)\n",
    "\n",
    "models = []\n",
    "train_fn = []\n",
    "test_fn = []\n",
    "iter = 0\n",
    "\n",
    "pbar = tqdm(segment)\n",
    "for segment_x in pbar:\n",
    "    iter += 1\n",
    "    \n",
    "    X_tr = X_train[X_train[segment_features]==segment_x]\n",
    "    X_te = X_test [X_test [segment_features]==segment_x]\n",
    "\n",
    "    y_tr = y_train[X_train[segment_features]==segment_x]\n",
    "    y_tr = transformation(y_tr,offset=offset,method=transform_method)\n",
    "    \n",
    "    scalers = {}\n",
    "    for col in new_num_features:\n",
    "        scaler = scaling_method()\n",
    "        scalers[col] = scaler\n",
    "        \n",
    "        X_tr[col] = scaler.fit_transform(np.array(X_tr[col]).reshape(-1,1))\n",
    "        X_te[col] = scaler.transform(np.array(X_te[col]).reshape(-1,1))\n",
    "    \n",
    "    progress = f'{segment_x} : {X_tr.shape[0]:,}/{X_train.shape[0]:,}({X_tr.shape[0]/X_train.shape[0]*100:.2f}%)'\n",
    "    pbar.set_description(progress)\n",
    "\n",
    "    X_tr[new_cat_features] = X_tr[new_cat_features].astype('category')\n",
    "    X_te[new_cat_features] = X_te[new_cat_features].astype('category')\n",
    "    \n",
    "    models_kf = []\n",
    "    # pbar2 = tqdm(kf.split(X_tr),total=5)\n",
    "    for train_idx, valid_idx in kf.split(X_tr):\n",
    "    \n",
    "        X_tr_kf = X_tr.iloc[train_idx,:]\n",
    "        X_va_kf = X_tr.iloc[valid_idx,:]\n",
    "        y_tr_kf = y_tr.iloc[train_idx]\n",
    "        y_va_kf = y_tr.iloc[valid_idx]\n",
    "\n",
    "        # iterations default=1,000\n",
    "        model = lgb.LGBMRegressor(**params)\n",
    "        model.fit(\n",
    "            X_tr_kf.drop([segment_features,'id'],axis=1),\n",
    "            y_tr_kf,\n",
    "            eval_set=[(\n",
    "                X_va_kf.drop([segment_features,'id'],axis=1),\n",
    "                y_va_kf\n",
    "            )],\n",
    "            eval_metric='MAE',\n",
    "            early_stopping_rounds=50,\n",
    "            verbose=-1,\n",
    "        )\n",
    "\n",
    "        # save\n",
    "        models_kf.append(model)\n",
    "        #model.save_model(f'../MDL/{now_date}/catboost_{segment_x}.cbm')\n",
    "    \n",
    "    X_tr['pred'] = np.mean(\n",
    "        np.array([model.predict(X_tr.drop([segment_features,'id'],axis=1)) for model in models_kf]),\n",
    "        axis=0\n",
    "    )\n",
    "    X_te['pred'] = np.mean(\n",
    "        np.array([model.predict(X_te.drop([segment_features,'id'],axis=1)) for model in models_kf]),\n",
    "        axis=0\n",
    "    )\n",
    "\n",
    "    # inverse transformation\n",
    "    X_tr['pred'] = inverse_transformation(X_tr['pred'],offset=offset,method=transform_method)\n",
    "    X_te['pred'] = inverse_transformation(X_te['pred'],offset=offset,method=transform_method)\n",
    "\n",
    "    y_tr = inverse_transformation(y_tr,offset=offset,method=transform_method)\n",
    "\n",
    "    train_fn.append(pd.concat([X_tr[['id',segment_features,'pred']],y_tr],axis=1))\n",
    "    test_fn .append(X_te[['id',segment_features,'pred']])\n",
    "    \n",
    "    mae = mean_absolute_error(y_true=y_tr,y_pred=X_tr['pred'])\n",
    "    print(f'MAE : {mae:.4f}')"
   ]
  },
  {
   "cell_type": "code",
   "execution_count": null,
   "id": "4570d244",
   "metadata": {},
   "outputs": [],
   "source": [
    "train_fn = pd.concat(train_fn,axis=0)\n",
    "test_fn  = pd.concat(test_fn ,axis=0)"
   ]
  },
  {
   "cell_type": "code",
   "execution_count": null,
   "id": "ff66efbd",
   "metadata": {},
   "outputs": [],
   "source": [
    "from sklearn.metrics import mean_absolute_error\n",
    "\n",
    "mean_absolute_error(y_true=train_fn['target'],y_pred=train_fn['pred'])"
   ]
  },
  {
   "cell_type": "code",
   "execution_count": null,
   "id": "63eb3296",
   "metadata": {},
   "outputs": [],
   "source": [
    "plt.figure(figsize=(15,7))\n",
    "sns.scatterplot(train_fn['target'],train_fn['pred'],alpha=0.5)\n",
    "plt.xlabel('true')\n",
    "plt.ylabel('prediction')\n",
    "abline(slope=1,intercept=0,color='red')\n",
    "plt.show()"
   ]
  },
  {
   "cell_type": "code",
   "execution_count": null,
   "id": "d6dfd693",
   "metadata": {},
   "outputs": [],
   "source": [
    "# iter=0\n",
    "# for seg in segment:\n",
    "#     iter+=1\n",
    "#     print(f'\\n({iter}/{train_fn.segment.nunique()}) {seg}')\n",
    "    \n",
    "#     tmp = train_fn[train_fn.segment==seg]\n",
    "#     mae = mean_absolute_error(y_true=tmp['target'],y_pred=tmp['pred'])\n",
    "\n",
    "#     plt.figure(figsize=(15,7))\n",
    "#     sns.scatterplot(tmp['target'],tmp['pred'],alpha=0.5)\n",
    "#     plt.xlabel('true')\n",
    "#     plt.ylabel('prediction')\n",
    "#     plt.title(f'MAE : {mae:.4f}')\n",
    "#     abline(slope=1,intercept=0,color='red')\n",
    "#     plt.show()"
   ]
  },
  {
   "cell_type": "code",
   "execution_count": null,
   "id": "b32527b9",
   "metadata": {},
   "outputs": [],
   "source": [
    "submission = test_fn[['id','pred']].rename(columns={'pred':'target'}).sort_values('id')\n",
    "submission.to_csv(f'../OUT/submission_{now_date}.csv',index=False)"
   ]
  },
  {
   "cell_type": "code",
   "execution_count": null,
   "id": "f810fc7f",
   "metadata": {},
   "outputs": [],
   "source": [
    "train_df6['pred_cat_kf'] = train_fn['pred']\n",
    "test_df6 ['pred_cat_kf'] = test_fn ['pred']"
   ]
  },
  {
   "cell_type": "code",
   "execution_count": null,
   "id": "0774bfb9",
   "metadata": {},
   "outputs": [],
   "source": [
    "train_df6.to_parquet(f'../OUT/train_df6_lgb_kf_{now_date}.parquet')\n",
    "test_df6 .to_parquet(f'../OUT/test_df6_lgb_kf_{now_date}.parquet')"
   ]
  },
  {
   "cell_type": "markdown",
   "id": "85f57b7e",
   "metadata": {},
   "source": [
    "<br>\n",
    "\n",
    "## Ensemble"
   ]
  },
  {
   "cell_type": "code",
   "execution_count": null,
   "id": "9f599342",
   "metadata": {},
   "outputs": [],
   "source": [
    "# train_df3 = pd.read_parquet(f'../OUT/train_df3_{now_date}.parquet')\n",
    "# test_df3  = pd.read_parquet(f'../OUT/test_df3_{now_date}.parquet')"
   ]
  },
  {
   "cell_type": "code",
   "execution_count": null,
   "id": "dffb3e51",
   "metadata": {},
   "outputs": [],
   "source": [
    "pred_cols = ['pred_lgb','pred_cat']\n",
    "train_df6['pred_ensemble'] = (train_df6['pred_lgb']+train_df6['pred_cat'])/2\n",
    "test_df6 ['pred_ensemble'] = (test_df6 ['pred_lgb']+test_df6 ['pred_cat'])/2\n",
    "\n",
    "# pred_cols = ['pred_lgb','pred_cat','pred_cat_kf']\n",
    "# train_df5['pred_ensemble'] = (train_df5['pred_lgb']+train_df5['pred_cat']+train_df5['pred_cat_kf'])/3\n",
    "# test_df5 ['pred_ensemble'] = (test_df5 ['pred_lgb']+test_df5 ['pred_cat']+test_df5 ['pred_cat_kf'])/3"
   ]
  },
  {
   "cell_type": "code",
   "execution_count": null,
   "id": "5da5cef3",
   "metadata": {},
   "outputs": [],
   "source": [
    "# ['pred_lr','pred_lgb','pred_cat','pred_cat_kf','pred_ensemble']\n",
    "for col in ['pred_lgb','pred_cat','pred_ensemble']:\n",
    "    tmp = train_df6[~train_df6['pred_ensemble'].isnull()]\n",
    "    print(f'{col} MAE : {mean_absolute_error(y_true=tmp.target,y_pred=tmp[col]):.4f}')"
   ]
  },
  {
   "cell_type": "code",
   "execution_count": null,
   "id": "e7dddb5b",
   "metadata": {},
   "outputs": [],
   "source": [
    "train_df6[[col for col in train_df6.columns if col.find('pred_')>=0]].corr()"
   ]
  },
  {
   "cell_type": "code",
   "execution_count": null,
   "id": "841910f3",
   "metadata": {},
   "outputs": [],
   "source": [
    "train_df6.to_parquet(f'../OUT/train_df6_{now_date}.parquet')\n",
    "test_df6 .to_parquet(f'../OUT/test_df6_{now_date}.parquet')"
   ]
  },
  {
   "cell_type": "markdown",
   "id": "a9aa9ff5",
   "metadata": {},
   "source": [
    "<br>\n",
    "\n",
    "## Stacking"
   ]
  },
  {
   "cell_type": "code",
   "execution_count": null,
   "id": "955c06bd",
   "metadata": {},
   "outputs": [],
   "source": [
    "from sklearn.linear_model import LinearRegression\n",
    "meta_learner = LinearRegression()"
   ]
  },
  {
   "cell_type": "code",
   "execution_count": null,
   "id": "885e6b1b",
   "metadata": {},
   "outputs": [],
   "source": [
    "X_train = train_df6.drop(['target','base_date']+del_features+['pred_ensemble'],axis=1)\n",
    "y_train = train_df6.target\n",
    "\n",
    "X_test  = test_df6 .drop(['base_date']+del_features+['pred_ensemble'],axis=1)"
   ]
  },
  {
   "cell_type": "code",
   "execution_count": null,
   "id": "2fc7021d",
   "metadata": {},
   "outputs": [],
   "source": [
    "%%time\n",
    "\n",
    "tmp = pd.concat([\n",
    "    X_train.assign(group='train'),\n",
    "    X_test .assign(group='test'),\n",
    "],axis=0)\n",
    "\n",
    "tmp = pd.get_dummies(tmp, columns=new_cat_features)\n",
    "\n",
    "X_train_oh = tmp[tmp['group']=='train'].drop('group',axis=1)\n",
    "X_test_oh  = tmp[tmp['group']=='test' ].drop('group',axis=1)"
   ]
  },
  {
   "cell_type": "code",
   "execution_count": null,
   "id": "279b2050",
   "metadata": {},
   "outputs": [],
   "source": [
    "# train에만 있는 segment length, test에만 있는 segment length 확인\n",
    "tr_segment = X_train_oh[segment_features].value_counts().sort_values(ascending=False).index\n",
    "te_segment = X_test_oh [segment_features].value_counts().index\n",
    "segment    = [seg for seg in tr_segment if seg in te_segment]\n",
    "\n",
    "len(list(set(tr_segment)-set(te_segment))),len(list(set(te_segment)-set(tr_segment)))"
   ]
  },
  {
   "cell_type": "code",
   "execution_count": null,
   "id": "634cd6b8",
   "metadata": {
    "tags": []
   },
   "outputs": [],
   "source": [
    "%%time\n",
    "\n",
    "from sklearn.linear_model import LinearRegression\n",
    "import pickle\n",
    "\n",
    "tr_segment = X_train_oh[segment_features].value_counts().sort_values(ascending=False).index\n",
    "te_segment = X_test_oh [segment_features].value_counts().index\n",
    "segment    = [seg for seg in tr_segment if seg in te_segment]\n",
    "\n",
    "# now_date = str(datetime.datetime.now()).replace(' ','').replace('-','').replace(':','').replace('.','')[:14]\n",
    "now_date = str(datetime.datetime.now())\n",
    "now_date = now_date[:now_date.find('.')]\n",
    "# createFolder(f'../MDL/{now_date}/')\n",
    "print(now_date)\n",
    "\n",
    "meta_learners = []\n",
    "train_fn = []\n",
    "test_fn = []\n",
    "iter = 0\n",
    "\n",
    "pbar = tqdm(segment)\n",
    "for segment_x in pbar:\n",
    "    iter += 1\n",
    "\n",
    "    X_tr = X_train_oh[X_train_oh[segment_features]==segment_x]\n",
    "    X_te = X_test_oh [X_test_oh[segment_features]==segment_x]\n",
    "    \n",
    "    y_tr = y_train[X_train_oh[segment_features]==segment_x]\n",
    "    y_tr = transformation(y_tr,offset=offset,method=transform_method)\n",
    "    \n",
    "    scalers = {}\n",
    "    for col in new_num_features:\n",
    "        scaler = scaling_method()\n",
    "        scalers[col] = scaler\n",
    "        \n",
    "        X_tr[col] = scaler.fit_transform(np.array(X_tr[col]).reshape(-1,1))\n",
    "        X_te[col] = scaler.transform(np.array(X_te[col]).reshape(-1,1))\n",
    "    \n",
    "    progress = f'{segment_x} : {X_tr.shape[0]:,}/{X_train_oh.shape[0]:,}({X_tr.shape[0]/X_train_oh.shape[0]*100:.2f}%)'\n",
    "    pbar.set_description(progress)\n",
    "\n",
    "    meta_learner.fit(X_tr.drop([segment_features,'id'],axis=1),y_tr)\n",
    "\n",
    "    # save (https://stackoverflow.com/questions/64320741/linearregression-object-has-no-attribute-save)\n",
    "    meta_learners.append(meta_learner)\n",
    "    # pickle.dump(model, open(f'../MDL/{now_date}/lr_{segment_x}.sav', 'wb'))\n",
    "\n",
    "    X_tr['pred'] = meta_learner.predict(X_tr.drop([segment_features,'id'],axis=1))\n",
    "    X_te['pred'] = meta_learner.predict(X_te.drop([segment_features,'id'],axis=1))\n",
    "\n",
    "    # inverse transformation\n",
    "    X_tr['pred'] = inverse_transformation(X_tr['pred'],offset=offset,method=transform_method)\n",
    "    X_te['pred'] = inverse_transformation(X_te['pred'],offset=offset,method=transform_method)\n",
    "    \n",
    "    y_tr = inverse_transformation(y_tr,offset=offset,method=transform_method)\n",
    "\n",
    "    train_fn.append(pd.concat([X_tr[['id',segment_features,'pred']],y_tr],axis=1))\n",
    "    test_fn .append(X_te[['id',segment_features,'pred']])"
   ]
  },
  {
   "cell_type": "code",
   "execution_count": null,
   "id": "af7eed3c",
   "metadata": {},
   "outputs": [],
   "source": [
    "train_fn = pd.concat(train_fn,axis=0)\n",
    "test_fn  = pd.concat(test_fn ,axis=0)"
   ]
  },
  {
   "cell_type": "code",
   "execution_count": null,
   "id": "0724f405",
   "metadata": {},
   "outputs": [],
   "source": [
    "from sklearn.metrics import mean_absolute_error\n",
    "\n",
    "mean_absolute_error(y_true=train_fn['target'],y_pred=train_fn['pred'])"
   ]
  },
  {
   "cell_type": "code",
   "execution_count": null,
   "id": "d80e29bb",
   "metadata": {},
   "outputs": [],
   "source": [
    "plt.figure(figsize=(15,7))\n",
    "sns.scatterplot(train_fn['target'],train_fn['pred'],alpha=0.5)\n",
    "plt.xlabel('true')\n",
    "plt.ylabel('prediction')\n",
    "abline(slope=1,intercept=0,color='red')\n",
    "plt.show()"
   ]
  },
  {
   "cell_type": "code",
   "execution_count": null,
   "id": "1ecd3cef",
   "metadata": {},
   "outputs": [],
   "source": [
    "# iter=0\n",
    "# for seg in segment:\n",
    "#     iter+=1\n",
    "#     print(f'\\n({iter}/{train_fn.segment.nunique()}) {seg}')\n",
    "    \n",
    "#     tmp = train_fn[train_fn.segment==seg]\n",
    "\n",
    "#     plt.figure(figsize=(15,7))\n",
    "#     sns.scatterplot(tmp['target'],tmp['pred'],alpha=0.5)\n",
    "#     plt.xlabel('true')\n",
    "#     plt.ylabel('prediction')\n",
    "#     abline(slope=1,intercept=0,color='red')\n",
    "#     plt.show()"
   ]
  },
  {
   "cell_type": "code",
   "execution_count": null,
   "id": "2d7f1439",
   "metadata": {},
   "outputs": [],
   "source": [
    "train_df6['pred_stacking'] = train_fn['pred']\n",
    "test_df6 ['pred_stacking'] = test_fn ['pred']"
   ]
  },
  {
   "cell_type": "code",
   "execution_count": null,
   "id": "71271823",
   "metadata": {},
   "outputs": [],
   "source": [
    "train_df6.to_parquet(f'../OUT/train_df6_{now_date}.parquet')\n",
    "test_df6 .to_parquet(f'../OUT/test_df6_{now_date}.parquet')"
   ]
  },
  {
   "cell_type": "code",
   "execution_count": null,
   "id": "91ffc20a",
   "metadata": {},
   "outputs": [],
   "source": [
    "# ['pred_lr','pred_lgb','pred_cat','pred_cat_kf','pred_ensemble','pred_stacking']\n",
    "for col in ['pred_lr','pred_lgb','pred_cat','pred_ensemble','pred_stacking']:\n",
    "    tmp = train_df5[~train_df5['pred_lr'].isnull()]\n",
    "    print(f'{col} MAE : {mean_absolute_error(y_true=tmp.target,y_pred=tmp[col]):.4f}')"
   ]
  },
  {
   "cell_type": "code",
   "execution_count": null,
   "id": "748eb433",
   "metadata": {},
   "outputs": [],
   "source": [
    "final_model = ['ensemble','stacking'][1]\n",
    "\n",
    "submission = test_df6\\\n",
    "    [['id',f'pred_{final_model}']]\\\n",
    "    .rename(columns={f'pred_{final_model}':'target'})\\\n",
    "    .sort_values('id')\n",
    "submission.to_csv(f'../OUT/submission_{now_date}_{final_model}.csv',index=False)"
   ]
  },
  {
   "cell_type": "code",
   "execution_count": null,
   "id": "36868232",
   "metadata": {},
   "outputs": [],
   "source": [
    "submission.head()"
   ]
  },
  {
   "cell_type": "markdown",
   "id": "f214ed0e",
   "metadata": {},
   "source": [
    "<br></br>"
   ]
  },
  {
   "cell_type": "code",
   "execution_count": null,
   "id": "2f0021b4",
   "metadata": {},
   "outputs": [],
   "source": [
    "end_time = datetime.datetime.now()\n",
    "run_time = end_time-start_time\n",
    "\n",
    "print('='*45)\n",
    "print(f'> start time : {start_time}')\n",
    "print(f'>   end time : {end_time}')\n",
    "print(f'>   run time : {run_time:}')\n",
    "print('='*45)"
   ]
  }
 ],
 "metadata": {
  "kernelspec": {
   "display_name": "conda_tensorflow2_p38",
   "language": "python",
   "name": "conda_tensorflow2_p38"
  },
  "language_info": {
   "codemirror_mode": {
    "name": "ipython",
    "version": 3
   },
   "file_extension": ".py",
   "mimetype": "text/x-python",
   "name": "python",
   "nbconvert_exporter": "python",
   "pygments_lexer": "ipython3",
   "version": "3.8.12"
  },
  "toc-autonumbering": true,
  "toc-showtags": false
 },
 "nbformat": 4,
 "nbformat_minor": 5
}
