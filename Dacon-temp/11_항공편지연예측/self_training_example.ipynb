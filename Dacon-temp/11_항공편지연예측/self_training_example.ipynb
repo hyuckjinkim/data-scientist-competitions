{
  "nbformat": 4,
  "nbformat_minor": 0,
  "metadata": {
    "colab": {
      "provenance": []
    },
    "kernelspec": {
      "name": "python3",
      "display_name": "Python 3"
    },
    "language_info": {
      "name": "python"
    }
  },
  "cells": [
    {
      "cell_type": "code",
      "source": [
        "#!sudo apt-get install -y fonts-nanum\n",
        "#!sudo fc-cache -fv\n",
        "#!rm ~/.cache/matplotlib -rf\n"
      ],
      "metadata": {
        "id": "5eHKFqQPmbCY"
      },
      "execution_count": 1,
      "outputs": []
    },
    {
      "cell_type": "code",
      "execution_count": 2,
      "metadata": {
        "colab": {
          "base_uri": "https://localhost:8080/"
        },
        "id": "9yk_Wsw-ZBC-",
        "outputId": "2cf9b2e1-1e34-4ef2-ab92-e2dd8460737b"
      },
      "outputs": [
        {
          "output_type": "stream",
          "name": "stdout",
          "text": [
            "Drive already mounted at /content/drive; to attempt to forcibly remount, call drive.mount(\"/content/drive\", force_remount=True).\n"
          ]
        }
      ],
      "source": [
        "import pandas as pd\n",
        "from google.colab import drive\n",
        "drive.mount('/content/drive')"
      ]
    },
    {
      "cell_type": "code",
      "source": [
        "file_dir = '/content/drive/MyDrive/데이콘/데이콘 항공편 지연/데이콘_항공편_지연'"
      ],
      "metadata": {
        "id": "KqYS4CHdZEM9"
      },
      "execution_count": 3,
      "outputs": []
    },
    {
      "cell_type": "code",
      "source": [
        "import numpy as np\n",
        "import random\n",
        "import os\n",
        "import gc\n",
        "\n",
        "from sklearn.ensemble import RandomForestClassifier\n",
        "from sklearn.preprocessing import LabelEncoder"
      ],
      "metadata": {
        "id": "EzaG7pBGZEc5"
      },
      "execution_count": 4,
      "outputs": []
    },
    {
      "cell_type": "code",
      "source": [
        "def seed_everything(seed):\n",
        "    random.seed(seed)\n",
        "    os.environ['PYTHONHASHSEED'] = str(seed)\n",
        "    np.random.seed(seed)\n",
        "seed_everything(42) # Seed 고정"
      ],
      "metadata": {
        "id": "ePHdYx55ZOA7"
      },
      "execution_count": 5,
      "outputs": []
    },
    {
      "cell_type": "code",
      "source": [
        "def csv_to_parquet(csv_path, save_name):\n",
        "    df = pd.read_csv(csv_path)\n",
        "    df.to_parquet(f'./{save_name}.parquet')\n",
        "    del df\n",
        "    gc.collect()\n",
        "    print(save_name, 'Done.')"
      ],
      "metadata": {
        "id": "dlLvr5q3ZPOh"
      },
      "execution_count": 6,
      "outputs": []
    },
    {
      "cell_type": "code",
      "source": [
        "csv_to_parquet(file_dir + '/train.csv', 'train')\n",
        "csv_to_parquet(file_dir + '/test.csv', 'test')"
      ],
      "metadata": {
        "colab": {
          "base_uri": "https://localhost:8080/"
        },
        "id": "2aEOklZ9ZQYD",
        "outputId": "4821537f-7eba-4917-86df-ce9f8aa02121"
      },
      "execution_count": 7,
      "outputs": [
        {
          "output_type": "stream",
          "name": "stdout",
          "text": [
            "train Done.\n",
            "test Done.\n"
          ]
        }
      ]
    },
    {
      "cell_type": "code",
      "source": [
        "train = pd.read_parquet('/content/train.parquet')\n",
        "test = pd.read_parquet('/content/test.parquet')\n",
        "sample_submission = pd.read_csv(file_dir+'/sample_submission.csv', index_col = 0)"
      ],
      "metadata": {
        "id": "hy_Two4JZRPJ"
      },
      "execution_count": 8,
      "outputs": []
    },
    {
      "cell_type": "code",
      "source": [
        "import matplotlib\n",
        "\n",
        "matplotlib.rcParams['font.family'] = 'NanumBarunGothic'\n",
        "matplotlib.rcParams['axes.unicode_minus'] = False\n",
        "\n",
        "column = ['결손값 개수']\n",
        "axis_1 = pd.DataFrame(data = train.isnull().sum(axis=1), columns = column)\n",
        "axis_1 = axis_1.sort_values(by = '결손값 개수', ascending = False)\n",
        "\n",
        "train.isnull().sum(axis=0)\n",
        "train_row_NaN = pd.DataFrame(train.isnull().sum(axis=0), columns = column)\n",
        "train_row_NaN = train_row_NaN.sort_values(by = '결손값 개수', ascending = False)\n",
        "train_row_su = train.shape[0]\n",
        "train_row_NaN['결손값_ratio'] = train_row_NaN['결손값 개수']/train_row_su\n",
        "\n",
        "import matplotlib.pyplot as plt\n",
        "import matplotlib.patches as mpatches\n",
        "\n",
        "plt.figure(figsize = (16,8))\n",
        "x = np.arange(len(train_row_NaN.index))\n",
        "plt.subplot(1, 2, 1)\n",
        "plt.xticks(x, train_row_NaN.index)\n",
        "plt.xticks(rotation=90)\n",
        "plt.legend(handles=[mpatches.Patch(color='orange'),\n",
        "                    mpatches.Patch(color='red')], \n",
        "           labels=['Partial values in columns are NaN', 'All values in columns are NaN'])\n",
        "\n",
        "def color(data):\n",
        "    if data == 1:\n",
        "        return 'red'\n",
        "    else:\n",
        "        return 'orange'\n",
        "plt.bar(x, train_row_NaN['결손값_ratio'], color = [color(i) for i in train_row_NaN['결손값_ratio']])\n",
        "plt.title('Train data NaN check')\n",
        "\n",
        "test.isnull().sum(axis=0)\n",
        "test_row_NaN = pd.DataFrame(test.isnull().sum(axis=0), columns = column)\n",
        "test_row_NaN = test_row_NaN.sort_values(by = '결손값 개수', ascending = False)\n",
        "test_row_su = test.shape[0]\n",
        "test_row_NaN['결손값_ratio'] = test_row_NaN['결손값 개수']/test_row_su\n",
        "\n",
        "plt.subplot(1, 2, 2)\n",
        "x2 = np.arange(len(test_row_NaN.index))\n",
        "plt.xticks(x2, test_row_NaN.index)\n",
        "plt.xticks(rotation=90)\n",
        "plt.legend(handles=[mpatches.Patch(color='orange'),\n",
        "                    mpatches.Patch(color='red')], \n",
        "           labels=['Partial values in columns are NaN', 'All values in columns are NaN'])\n",
        "plt.bar(x2, test_row_NaN['결손값_ratio'], color = [color(i) for i in test_row_NaN['결손값_ratio']])\n",
        "plt.title('Test data NaN check')\n",
        "\n",
        "print(train_row_NaN)\n",
        "print(test_row_NaN)\n",
        "plt.show()"
      ],
      "metadata": {
        "colab": {
          "base_uri": "https://localhost:8080/",
          "height": 1000
        },
        "id": "tXeC_Pk8ceh2",
        "outputId": "441e064d-3985-4c74-97ed-75d5529624d1"
      },
      "execution_count": 14,
      "outputs": [
        {
          "output_type": "stream",
          "name": "stdout",
          "text": [
            "                          결손값 개수  결손값_ratio\n",
            "Delay                     744999   0.744999\n",
            "Destination_State         109079   0.109079\n",
            "Estimated_Arrival_Time    109040   0.109040\n",
            "Estimated_Departure_Time  109019   0.109019\n",
            "Origin_State              109015   0.109015\n",
            "Carrier_ID(DOT)           108997   0.108997\n",
            "Carrier_Code(IATA)        108990   0.108990\n",
            "Airline                   108920   0.108920\n",
            "Cancelled                      0   0.000000\n",
            "Diverted                       0   0.000000\n",
            "Origin_Airport                 0   0.000000\n",
            "Origin_Airport_ID              0   0.000000\n",
            "Month                          0   0.000000\n",
            "Destination_Airport            0   0.000000\n",
            "Destination_Airport_ID         0   0.000000\n",
            "Day_of_Month                   0   0.000000\n",
            "Distance                       0   0.000000\n",
            "Tail_Number                    0   0.000000\n",
            "ID                             0   0.000000\n",
            "                          결손값 개수  결손값_ratio\n",
            "Estimated_Arrival_Time    109048   0.109048\n",
            "Carrier_ID(DOT)           109006   0.109006\n",
            "Carrier_Code(IATA)        108993   0.108993\n",
            "Estimated_Departure_Time  108984   0.108984\n",
            "Airline                   106527   0.106527\n",
            "Destination_State         106523   0.106523\n",
            "Origin_State              106505   0.106505\n",
            "Destination_Airport            0   0.000000\n",
            "Distance                       0   0.000000\n",
            "Destination_Airport_ID         0   0.000000\n",
            "ID                             0   0.000000\n",
            "Month                          0   0.000000\n",
            "Origin_Airport_ID              0   0.000000\n",
            "Origin_Airport                 0   0.000000\n",
            "Diverted                       0   0.000000\n",
            "Cancelled                      0   0.000000\n",
            "Day_of_Month                   0   0.000000\n",
            "Tail_Number                    0   0.000000\n"
          ]
        },
        {
          "output_type": "display_data",
          "data": {
            "text/plain": [
              "<Figure size 1600x800 with 2 Axes>"
            ],
            "image/png": "[encoded data removed]"
          },
          "metadata": {}
        }
      ]
    },
    {
      "cell_type": "markdown",
      "source": [
        "기존 train 데이터로 self training을 진행하여 null이 있는 열을 학습시켜야함.\n",
        "순서는 null이 적은 값부터 많은 순서대로 학습 <br>\n",
        "Airline > Carrier_ID(DOT) > Carrier_Code(IATA) > Estimated_Departure_Time > Estimated_Arrival_Time > delay <br>  \n",
        "\n",
        "예시로 Airline을 채우는 self_training에 대한 코드 "
      ],
      "metadata": {
        "id": "3x53B1zqbCVc"
      }
    },
    {
      "cell_type": "code",
      "source": [
        "# 준지도 학습 전 라벨링\n",
        "from sklearn.semi_supervised import SelfTrainingClassifier\n",
        "from sklearn.ensemble import RandomForestClassifier\n",
        "from sklearn.preprocessing import LabelEncoder\n",
        " \n",
        "train_lb = train.__deepcopy__()\n",
        "test_lb = test.__deepcopy__()\n",
        "\n",
        "label_st = train_lb.drop(columns = ['Airline'])\n",
        "train_st = train_lb[(train_lb['Airline'].astype(str) != 'None')].drop(columns = ['Airline'])\n",
        "X_nan = train_lb[(train_lb['Airline'].astype(str) == 'None')].drop(columns = ['Airline'])\n",
        "\n",
        "# NULL이 없으면서 라벨링이 필요한 열들 정리\n",
        "qual_col = ['Origin_Airport', 'Origin_State', 'Destination_Airport', 'Destination_State', 'Tail_Number']\n",
        "\n",
        "for i in qual_col:\n",
        "    le = LabelEncoder()\n",
        "    le=le.fit(label_st[i])\n",
        "    for label in np.unique(test[i].dropna()):\n",
        "        if label not in le.classes_: \n",
        "            le.classes_ = np.append(le.classes_, label)\n",
        "    train_lb[i] = le.transform(train_lb[i])\n",
        "    train_st[i]=le.transform(train_st[i])\n",
        "    X_nan[i]=le.transform(X_nan[i])\n"
      ],
      "metadata": {
        "id": "8zt-SjpnbSaY"
      },
      "execution_count": 18,
      "outputs": []
    },
    {
      "cell_type": "markdown",
      "source": [
        "사이킷런의 SelfTrainingClassifier을 사용하여 준지도학습\n",
        "\n",
        "https://scikit-learn.org/stable/modules/generated/sklearn.semi_supervised.SelfTrainingClassifier.html\n",
        "\n",
        "다른 self_train으로는 \n",
        "\n",
        "PyCaret: create_model() 함수에서 method 매개변수에 SelfTraining을 지정\n",
        "\n",
        "Scikit-multilearn: Scikit-multilearn의 MLkNN 분류기\n",
        "\n",
        "ModAL: ModAL은 SelfLearner 클래스\n",
        "\n",
        "가 있다고 합니다. (by Chat_gpt)"
      ],
      "metadata": {
        "id": "PRSXai-XoHRm"
      }
    },
    {
      "cell_type": "code",
      "source": [
        "# Airline self_training\n",
        "original_col = ['Cancelled','Diverted','Origin_Airport','Origin_Airport_ID', 'Origin_State', 'Destination_Airport', 'Destination_Airport_ID', 'Destination_State', 'Tail_Number', 'Month', 'Day_of_Month','Distance']\n",
        "\n",
        "X = train_st[original_col]\n",
        "y = train_lb[(train_lb['Airline'].astype(str) != 'None')][original_col + ['Airline']]['Airline']\n",
        "\n",
        "stclf = SelfTrainingClassifier(\n",
        "    base_estimator = RandomForestClassifier(n_estimators = 100),\n",
        "    verbose = True)\n",
        "\n",
        "stclf.fit(X, y)    "
      ],
      "metadata": {
        "colab": {
          "base_uri": "https://localhost:8080/",
          "height": 154
        },
        "id": "gnP_YwJ8gxcu",
        "outputId": "ec16a13f-bdbe-44d1-a73a-786aff9f0581"
      },
      "execution_count": 11,
      "outputs": [
        {
          "output_type": "stream",
          "name": "stderr",
          "text": [
            "/usr/local/lib/python3.9/dist-packages/sklearn/semi_supervised/_self_training.py:212: UserWarning: y contains no unlabeled samples\n",
            "  warnings.warn(\"y contains no unlabeled samples\", UserWarning)\n"
          ]
        },
        {
          "output_type": "execute_result",
          "data": {
            "text/plain": [
              "SelfTrainingClassifier(base_estimator=RandomForestClassifier(), verbose=True)"
            ],
            "text/html": [
              "<style>#sk-container-id-1 {color: black;background-color: white;}#sk-container-id-1 pre{padding: 0;}#sk-container-id-1 div.sk-toggleable {background-color: white;}#sk-container-id-1 label.sk-toggleable__label {cursor: pointer;display: block;width: 100%;margin-bottom: 0;padding: 0.3em;box-sizing: border-box;text-align: center;}#sk-container-id-1 label.sk-toggleable__label-arrow:before {content: \"▸\";float: left;margin-right: 0.25em;color: #696969;}#sk-container-id-1 label.sk-toggleable__label-arrow:hover:before {color: black;}#sk-container-id-1 div.sk-estimator:hover label.sk-toggleable__label-arrow:before {color: black;}#sk-container-id-1 div.sk-toggleable__content {max-height: 0;max-width: 0;overflow: hidden;text-align: left;background-color: #f0f8ff;}#sk-container-id-1 div.sk-toggleable__content pre {margin: 0.2em;color: black;border-radius: 0.25em;background-color: #f0f8ff;}#sk-container-id-1 input.sk-toggleable__control:checked~div.sk-toggleable__content {max-height: 200px;max-width: 100%;overflow: auto;}#sk-container-id-1 input.sk-toggleable__control:checked~label.sk-toggleable__label-arrow:before {content: \"▾\";}#sk-container-id-1 div.sk-estimator input.sk-toggleable__control:checked~label.sk-toggleable__label {background-color: #d4ebff;}#sk-container-id-1 div.sk-label input.sk-toggleable__control:checked~label.sk-toggleable__label {background-color: #d4ebff;}#sk-container-id-1 input.sk-hidden--visually {border: 0;clip: rect(1px 1px 1px 1px);clip: rect(1px, 1px, 1px, 1px);height: 1px;margin: -1px;overflow: hidden;padding: 0;position: absolute;width: 1px;}#sk-container-id-1 div.sk-estimator {font-family: monospace;background-color: #f0f8ff;border: 1px dotted black;border-radius: 0.25em;box-sizing: border-box;margin-bottom: 0.5em;}#sk-container-id-1 div.sk-estimator:hover {background-color: #d4ebff;}#sk-container-id-1 div.sk-parallel-item::after {content: \"\";width: 100%;border-bottom: 1px solid gray;flex-grow: 1;}#sk-container-id-1 div.sk-label:hover label.sk-toggleable__label {background-color: #d4ebff;}#sk-container-id-1 div.sk-serial::before {content: \"\";position: absolute;border-left: 1px solid gray;box-sizing: border-box;top: 0;bottom: 0;left: 50%;z-index: 0;}#sk-container-id-1 div.sk-serial {display: flex;flex-direction: column;align-items: center;background-color: white;padding-right: 0.2em;padding-left: 0.2em;position: relative;}#sk-container-id-1 div.sk-item {position: relative;z-index: 1;}#sk-container-id-1 div.sk-parallel {display: flex;align-items: stretch;justify-content: center;background-color: white;position: relative;}#sk-container-id-1 div.sk-item::before, #sk-container-id-1 div.sk-parallel-item::before {content: \"\";position: absolute;border-left: 1px solid gray;box-sizing: border-box;top: 0;bottom: 0;left: 50%;z-index: -1;}#sk-container-id-1 div.sk-parallel-item {display: flex;flex-direction: column;z-index: 1;position: relative;background-color: white;}#sk-container-id-1 div.sk-parallel-item:first-child::after {align-self: flex-end;width: 50%;}#sk-container-id-1 div.sk-parallel-item:last-child::after {align-self: flex-start;width: 50%;}#sk-container-id-1 div.sk-parallel-item:only-child::after {width: 0;}#sk-container-id-1 div.sk-dashed-wrapped {border: 1px dashed gray;margin: 0 0.4em 0.5em 0.4em;box-sizing: border-box;padding-bottom: 0.4em;background-color: white;}#sk-container-id-1 div.sk-label label {font-family: monospace;font-weight: bold;display: inline-block;line-height: 1.2em;}#sk-container-id-1 div.sk-label-container {text-align: center;}#sk-container-id-1 div.sk-container {/* jupyter's `normalize.less` sets `[hidden] { display: none; }` but bootstrap.min.css set `[hidden] { display: none !important; }` so we also need the `!important` here to be able to override the default hidden behavior on the sphinx rendered scikit-learn.org. See: https://github.com/scikit-learn/scikit-learn/issues/21755 */display: inline-block !important;position: relative;}#sk-container-id-1 div.sk-text-repr-fallback {display: none;}</style><div id=\"sk-container-id-1\" class=\"sk-top-container\"><div class=\"sk-text-repr-fallback\"><pre>SelfTrainingClassifier(base_estimator=RandomForestClassifier(), verbose=True)</pre><b>In a Jupyter environment, please rerun this cell to show the HTML representation or trust the notebook. <br />On GitHub, the HTML representation is unable to render, please try loading this page with nbviewer.org.</b></div><div class=\"sk-container\" hidden><div class=\"sk-item sk-dashed-wrapped\"><div class=\"sk-label-container\"><div class=\"sk-label sk-toggleable\"><input class=\"sk-toggleable__control sk-hidden--visually\" id=\"sk-estimator-id-1\" type=\"checkbox\" ><label for=\"sk-estimator-id-1\" class=\"sk-toggleable__label sk-toggleable__label-arrow\">SelfTrainingClassifier</label><div class=\"sk-toggleable__content\"><pre>SelfTrainingClassifier(base_estimator=RandomForestClassifier(), verbose=True)</pre></div></div></div><div class=\"sk-parallel\"><div class=\"sk-parallel-item\"><div class=\"sk-item\"><div class=\"sk-label-container\"><div class=\"sk-label sk-toggleable\"><input class=\"sk-toggleable__control sk-hidden--visually\" id=\"sk-estimator-id-2\" type=\"checkbox\" ><label for=\"sk-estimator-id-2\" class=\"sk-toggleable__label sk-toggleable__label-arrow\">base_estimator: RandomForestClassifier</label><div class=\"sk-toggleable__content\"><pre>RandomForestClassifier()</pre></div></div></div><div class=\"sk-serial\"><div class=\"sk-item\"><div class=\"sk-estimator sk-toggleable\"><input class=\"sk-toggleable__control sk-hidden--visually\" id=\"sk-estimator-id-3\" type=\"checkbox\" ><label for=\"sk-estimator-id-3\" class=\"sk-toggleable__label sk-toggleable__label-arrow\">RandomForestClassifier</label><div class=\"sk-toggleable__content\"><pre>RandomForestClassifier()</pre></div></div></div></div></div></div></div></div></div></div>"
            ]
          },
          "metadata": {},
          "execution_count": 11
        }
      ]
    },
    {
      "cell_type": "code",
      "source": [
        "# 결과값 삽입\n",
        "\n",
        "X_nan['Airline_pred'] = stclf.predict(X_nan[original_col])\n",
        "train_lb.loc[train_lb['Airline'].astype(str) == 'None', 'Airline'] = X_nan['Airline_pred']"
      ],
      "metadata": {
        "id": "pDwycZwMjJZj"
      },
      "execution_count": 19,
      "outputs": []
    },
    {
      "cell_type": "code",
      "source": [
        "train_lb[train_lb['Airline'].isna()]"
      ],
      "metadata": {
        "colab": {
          "base_uri": "https://localhost:8080/",
          "height": 113
        },
        "id": "tkipcnF6mXVl",
        "outputId": "5a542ff3-693b-430c-a3cc-c62138d2dc16"
      },
      "execution_count": 20,
      "outputs": [
        {
          "output_type": "execute_result",
          "data": {
            "text/plain": [
              "Empty DataFrame\n",
              "Columns: [ID, Month, Day_of_Month, Estimated_Departure_Time, Estimated_Arrival_Time, Cancelled, Diverted, Origin_Airport, Origin_Airport_ID, Origin_State, Destination_Airport, Destination_Airport_ID, Destination_State, Distance, Airline, Carrier_Code(IATA), Carrier_ID(DOT), Tail_Number, Delay]\n",
              "Index: []"
            ],
            "text/html": [
              "\n",
              "  <div id=\"df-9a16e154-6430-465b-9fde-9673e04a53a6\">\n",
              "    <div class=\"colab-df-container\">\n",
              "      <div>\n",
              "<style scoped>\n",
              "    .dataframe tbody tr th:only-of-type {\n",
              "        vertical-align: middle;\n",
              "    }\n",
              "\n",
              "    .dataframe tbody tr th {\n",
              "        vertical-align: top;\n",
              "    }\n",
              "\n",
              "    .dataframe thead th {\n",
              "        text-align: right;\n",
              "    }\n",
              "</style>\n",
              "<table border=\"1\" class=\"dataframe\">\n",
              "  <thead>\n",
              "    <tr style=\"text-align: right;\">\n",
              "      <th></th>\n",
              "      <th>ID</th>\n",
              "      <th>Month</th>\n",
              "      <th>Day_of_Month</th>\n",
              "      <th>Estimated_Departure_Time</th>\n",
              "      <th>Estimated_Arrival_Time</th>\n",
              "      <th>Cancelled</th>\n",
              "      <th>Diverted</th>\n",
              "      <th>Origin_Airport</th>\n",
              "      <th>Origin_Airport_ID</th>\n",
              "      <th>Origin_State</th>\n",
              "      <th>Destination_Airport</th>\n",
              "      <th>Destination_Airport_ID</th>\n",
              "      <th>Destination_State</th>\n",
              "      <th>Distance</th>\n",
              "      <th>Airline</th>\n",
              "      <th>Carrier_Code(IATA)</th>\n",
              "      <th>Carrier_ID(DOT)</th>\n",
              "      <th>Tail_Number</th>\n",
              "      <th>Delay</th>\n",
              "    </tr>\n",
              "  </thead>\n",
              "  <tbody>\n",
              "  </tbody>\n",
              "</table>\n",
              "</div>\n",
              "      <button class=\"colab-df-convert\" onclick=\"convertToInteractive('df-9a16e154-6430-465b-9fde-9673e04a53a6')\"\n",
              "              title=\"Convert this dataframe to an interactive table.\"\n",
              "              style=\"display:none;\">\n",
              "        \n",
              "  <svg xmlns=\"http://www.w3.org/2000/svg\" height=\"24px\"viewBox=\"0 0 24 24\"\n",
              "       width=\"24px\">\n",
              "    <path d=\"M0 0h24v24H0V0z\" fill=\"none\"/>\n",
              "    <path d=\"M18.56 5.44l.94 2.06.94-2.06 2.06-.94-2.06-.94-.94-2.06-.94 2.06-2.06.94zm-11 1L8.5 8.5l.94-2.06 2.06-.94-2.06-.94L8.5 2.5l-.94 2.06-2.06.94zm10 10l.94 2.06.94-2.06 2.06-.94-2.06-.94-.94-2.06-.94 2.06-2.06.94z\"/><path d=\"M17.41 7.96l-1.37-1.37c-.4-.4-.92-.59-1.43-.59-.52 0-1.04.2-1.43.59L10.3 9.45l-7.72 7.72c-.78.78-.78 2.05 0 2.83L4 21.41c.39.39.9.59 1.41.59.51 0 1.02-.2 1.41-.59l7.78-7.78 2.81-2.81c.8-.78.8-2.07 0-2.86zM5.41 20L4 18.59l7.72-7.72 1.47 1.35L5.41 20z\"/>\n",
              "  </svg>\n",
              "      </button>\n",
              "      \n",
              "  <style>\n",
              "    .colab-df-container {\n",
              "      display:flex;\n",
              "      flex-wrap:wrap;\n",
              "      gap: 12px;\n",
              "    }\n",
              "\n",
              "    .colab-df-convert {\n",
              "      background-color: #E8F0FE;\n",
              "      border: none;\n",
              "      border-radius: 50%;\n",
              "      cursor: pointer;\n",
              "      display: none;\n",
              "      fill: #1967D2;\n",
              "      height: 32px;\n",
              "      padding: 0 0 0 0;\n",
              "      width: 32px;\n",
              "    }\n",
              "\n",
              "    .colab-df-convert:hover {\n",
              "      background-color: #E2EBFA;\n",
              "      box-shadow: 0px 1px 2px rgba(60, 64, 67, 0.3), 0px 1px 3px 1px rgba(60, 64, 67, 0.15);\n",
              "      fill: #174EA6;\n",
              "    }\n",
              "\n",
              "    [theme=dark] .colab-df-convert {\n",
              "      background-color: #3B4455;\n",
              "      fill: #D2E3FC;\n",
              "    }\n",
              "\n",
              "    [theme=dark] .colab-df-convert:hover {\n",
              "      background-color: #434B5C;\n",
              "      box-shadow: 0px 1px 3px 1px rgba(0, 0, 0, 0.15);\n",
              "      filter: drop-shadow(0px 1px 2px rgba(0, 0, 0, 0.3));\n",
              "      fill: #FFFFFF;\n",
              "    }\n",
              "  </style>\n",
              "\n",
              "      <script>\n",
              "        const buttonEl =\n",
              "          document.querySelector('#df-9a16e154-6430-465b-9fde-9673e04a53a6 button.colab-df-convert');\n",
              "        buttonEl.style.display =\n",
              "          google.colab.kernel.accessAllowed ? 'block' : 'none';\n",
              "\n",
              "        async function convertToInteractive(key) {\n",
              "          const element = document.querySelector('#df-9a16e154-6430-465b-9fde-9673e04a53a6');\n",
              "          const dataTable =\n",
              "            await google.colab.kernel.invokeFunction('convertToInteractive',\n",
              "                                                     [key], {});\n",
              "          if (!dataTable) return;\n",
              "\n",
              "          const docLinkHtml = 'Like what you see? Visit the ' +\n",
              "            '<a target=\"_blank\" href=https://colab.research.google.com/notebooks/data_table.ipynb>data table notebook</a>'\n",
              "            + ' to learn more about interactive tables.';\n",
              "          element.innerHTML = '';\n",
              "          dataTable['output_type'] = 'display_data';\n",
              "          await google.colab.output.renderOutput(dataTable, element);\n",
              "          const docLink = document.createElement('div');\n",
              "          docLink.innerHTML = docLinkHtml;\n",
              "          element.appendChild(docLink);\n",
              "        }\n",
              "      </script>\n",
              "    </div>\n",
              "  </div>\n",
              "  "
            ]
          },
          "metadata": {},
          "execution_count": 20
        }
      ]
    },
    {
      "cell_type": "code",
      "source": [
        "train_lb['Airline'].unique()"
      ],
      "metadata": {
        "colab": {
          "base_uri": "https://localhost:8080/"
        },
        "id": "bv4oEFbkqA3g",
        "outputId": "be4a84f6-5b66-4485-daa1-900a9ab497b4"
      },
      "execution_count": 21,
      "outputs": [
        {
          "output_type": "execute_result",
          "data": {
            "text/plain": [
              "array(['Southwest Airlines Co.', 'SkyWest Airlines Inc.',\n",
              "       'American Airlines Inc.', 'United Air Lines Inc.',\n",
              "       'Republic Airlines', 'ExpressJet Airlines Inc.',\n",
              "       'Delta Air Lines Inc.', 'Air Wisconsin Airlines Corp',\n",
              "       'Horizon Air', 'JetBlue Airways', 'Spirit Air Lines',\n",
              "       'Alaska Airlines Inc.', 'Mesa Airlines Inc.',\n",
              "       'Frontier Airlines Inc.', 'Trans States Airlines',\n",
              "       'Endeavor Air Inc.', 'Comair Inc.', 'Capital Cargo International',\n",
              "       'Envoy Air', 'Hawaiian Airlines Inc.', 'Allegiant Air',\n",
              "       'Virgin America', 'Peninsula Airways Inc.', 'Compass Airlines',\n",
              "       'GoJet Airlines, LLC d/b/a United Express',\n",
              "       'Commutair Aka Champlain Enterprises, Inc.',\n",
              "       'Empire Airlines Inc.', 'Cape Air'], dtype=object)"
            ]
          },
          "metadata": {},
          "execution_count": 21
        }
      ]
    }
  ]
}