{
 "cells": [
  {
   "cell_type": "markdown",
   "id": "6b987cd1-0680-4fb8-a482-f5567577e80f",
   "metadata": {},
   "source": [
    "# Library Setting"
   ]
  },
  {
   "cell_type": "code",
   "execution_count": 1,
   "id": "0eeab870-95ed-41a6-b815-1bdf2dee38fb",
   "metadata": {},
   "outputs": [],
   "source": [
    "from tqdm import tqdm\n",
    "tqdm.pandas()\n",
    "\n",
    "import numpy as np\n",
    "import pandas as pd\n",
    "pd.set_option('display.max_rows', None)\n",
    "pd.set_option('display.max_columns', None)\n",
    "\n",
    "import seaborn as sns\n",
    "import matplotlib.pyplot as plt\n",
    "from matplotlib import rc\n",
    "rc('font', family='AppleGothic')\n",
    "plt.rcParams['axes.unicode_minus'] = False"
   ]
  },
  {
   "cell_type": "markdown",
   "id": "756f2cfe-7bf1-4cc3-b7e3-90b0886eab54",
   "metadata": {},
   "source": [
    "<br></br>"
   ]
  },
  {
   "cell_type": "markdown",
   "id": "3afbf58b-29ed-4ab7-9a2c-f51c6b08c00a",
   "metadata": {},
   "source": [
    "# Data"
   ]
  },
  {
   "cell_type": "markdown",
   "id": "09d8ae59-c4c3-47f8-854a-6cfc780a2adc",
   "metadata": {},
   "source": [
    "## Data Load"
   ]
  },
  {
   "cell_type": "code",
   "execution_count": 2,
   "id": "3a824834-ad27-424a-8f55-7c4ca73eaab7",
   "metadata": {},
   "outputs": [],
   "source": [
    "train_df = pd.read_csv('./data/train.csv')\n",
    "test_df  = pd.read_csv('./data/test.csv')"
   ]
  },
  {
   "cell_type": "code",
   "execution_count": 3,
   "id": "da88a595-b068-4b4b-97a9-4e6bcf863305",
   "metadata": {},
   "outputs": [
    {
     "data": {
      "text/plain": [
       "((84406, 20), (17289, 19))"
      ]
     },
     "execution_count": 3,
     "metadata": {},
     "output_type": "execute_result"
    }
   ],
   "source": [
    "train_df.shape, test_df.shape"
   ]
  },
  {
   "cell_type": "code",
   "execution_count": 4,
   "id": "50d6f038-af80-42c0-a33e-e62dcd8bdfc3",
   "metadata": {},
   "outputs": [
    {
     "data": {
      "text/html": [
       "<div>\n",
       "<style scoped>\n",
       "    .dataframe tbody tr th:only-of-type {\n",
       "        vertical-align: middle;\n",
       "    }\n",
       "\n",
       "    .dataframe tbody tr th {\n",
       "        vertical-align: top;\n",
       "    }\n",
       "\n",
       "    .dataframe thead th {\n",
       "        text-align: right;\n",
       "    }\n",
       "</style>\n",
       "<table border=\"1\" class=\"dataframe\">\n",
       "  <thead>\n",
       "    <tr style=\"text-align: right;\">\n",
       "      <th></th>\n",
       "      <th>ID</th>\n",
       "      <th>월</th>\n",
       "      <th>요일</th>\n",
       "      <th>시간</th>\n",
       "      <th>소관경찰서</th>\n",
       "      <th>소관지역</th>\n",
       "      <th>사건발생거리</th>\n",
       "      <th>강수량(mm)</th>\n",
       "      <th>강설량(mm)</th>\n",
       "      <th>적설량(cm)</th>\n",
       "      <th>풍향</th>\n",
       "      <th>안개</th>\n",
       "      <th>짙은안개</th>\n",
       "      <th>번개</th>\n",
       "      <th>진눈깨비</th>\n",
       "      <th>서리</th>\n",
       "      <th>연기/연무</th>\n",
       "      <th>눈날림</th>\n",
       "      <th>범죄발생지</th>\n",
       "      <th>TARGET</th>\n",
       "    </tr>\n",
       "  </thead>\n",
       "  <tbody>\n",
       "    <tr>\n",
       "      <th>0</th>\n",
       "      <td>TRAIN_00000</td>\n",
       "      <td>9</td>\n",
       "      <td>화요일</td>\n",
       "      <td>10</td>\n",
       "      <td>137</td>\n",
       "      <td>8.0</td>\n",
       "      <td>2.611124</td>\n",
       "      <td>0.000</td>\n",
       "      <td>0.0</td>\n",
       "      <td>0.0</td>\n",
       "      <td>245.0</td>\n",
       "      <td>0.0</td>\n",
       "      <td>0.0</td>\n",
       "      <td>0.0</td>\n",
       "      <td>0.0</td>\n",
       "      <td>0.0</td>\n",
       "      <td>0.0</td>\n",
       "      <td>0.0</td>\n",
       "      <td>차도</td>\n",
       "      <td>2</td>\n",
       "    </tr>\n",
       "    <tr>\n",
       "      <th>1</th>\n",
       "      <td>TRAIN_00001</td>\n",
       "      <td>11</td>\n",
       "      <td>화요일</td>\n",
       "      <td>6</td>\n",
       "      <td>438</td>\n",
       "      <td>13.0</td>\n",
       "      <td>3.209093</td>\n",
       "      <td>0.000</td>\n",
       "      <td>0.0</td>\n",
       "      <td>0.0</td>\n",
       "      <td>200.0</td>\n",
       "      <td>0.0</td>\n",
       "      <td>0.0</td>\n",
       "      <td>0.0</td>\n",
       "      <td>0.0</td>\n",
       "      <td>0.0</td>\n",
       "      <td>0.0</td>\n",
       "      <td>0.0</td>\n",
       "      <td>차도</td>\n",
       "      <td>0</td>\n",
       "    </tr>\n",
       "    <tr>\n",
       "      <th>2</th>\n",
       "      <td>TRAIN_00002</td>\n",
       "      <td>8</td>\n",
       "      <td>일요일</td>\n",
       "      <td>6</td>\n",
       "      <td>1729</td>\n",
       "      <td>47.0</td>\n",
       "      <td>1.619597</td>\n",
       "      <td>0.000</td>\n",
       "      <td>0.0</td>\n",
       "      <td>0.0</td>\n",
       "      <td>40.0</td>\n",
       "      <td>1.0</td>\n",
       "      <td>0.0</td>\n",
       "      <td>0.0</td>\n",
       "      <td>0.0</td>\n",
       "      <td>0.0</td>\n",
       "      <td>1.0</td>\n",
       "      <td>0.0</td>\n",
       "      <td>인도</td>\n",
       "      <td>1</td>\n",
       "    </tr>\n",
       "    <tr>\n",
       "      <th>3</th>\n",
       "      <td>TRAIN_00003</td>\n",
       "      <td>5</td>\n",
       "      <td>월요일</td>\n",
       "      <td>6</td>\n",
       "      <td>2337</td>\n",
       "      <td>53.0</td>\n",
       "      <td>1.921615</td>\n",
       "      <td>11.375</td>\n",
       "      <td>0.0</td>\n",
       "      <td>0.0</td>\n",
       "      <td>225.0</td>\n",
       "      <td>1.0</td>\n",
       "      <td>1.0</td>\n",
       "      <td>0.0</td>\n",
       "      <td>0.0</td>\n",
       "      <td>0.0</td>\n",
       "      <td>0.0</td>\n",
       "      <td>0.0</td>\n",
       "      <td>주거지</td>\n",
       "      <td>1</td>\n",
       "    </tr>\n",
       "    <tr>\n",
       "      <th>4</th>\n",
       "      <td>TRAIN_00004</td>\n",
       "      <td>9</td>\n",
       "      <td>일요일</td>\n",
       "      <td>11</td>\n",
       "      <td>1439</td>\n",
       "      <td>41.0</td>\n",
       "      <td>1.789721</td>\n",
       "      <td>0.000</td>\n",
       "      <td>0.0</td>\n",
       "      <td>0.0</td>\n",
       "      <td>255.0</td>\n",
       "      <td>0.0</td>\n",
       "      <td>0.0</td>\n",
       "      <td>0.0</td>\n",
       "      <td>0.0</td>\n",
       "      <td>0.0</td>\n",
       "      <td>0.0</td>\n",
       "      <td>0.0</td>\n",
       "      <td>주유소</td>\n",
       "      <td>2</td>\n",
       "    </tr>\n",
       "  </tbody>\n",
       "</table>\n",
       "</div>"
      ],
      "text/plain": [
       "            ID   월   요일  시간  소관경찰서  소관지역    사건발생거리  강수량(mm)  강설량(mm)  적설량(cm)  \\\n",
       "0  TRAIN_00000   9  화요일  10    137   8.0  2.611124    0.000      0.0      0.0   \n",
       "1  TRAIN_00001  11  화요일   6    438  13.0  3.209093    0.000      0.0      0.0   \n",
       "2  TRAIN_00002   8  일요일   6   1729  47.0  1.619597    0.000      0.0      0.0   \n",
       "3  TRAIN_00003   5  월요일   6   2337  53.0  1.921615   11.375      0.0      0.0   \n",
       "4  TRAIN_00004   9  일요일  11   1439  41.0  1.789721    0.000      0.0      0.0   \n",
       "\n",
       "      풍향   안개  짙은안개   번개  진눈깨비   서리  연기/연무  눈날림 범죄발생지  TARGET  \n",
       "0  245.0  0.0   0.0  0.0   0.0  0.0    0.0  0.0    차도       2  \n",
       "1  200.0  0.0   0.0  0.0   0.0  0.0    0.0  0.0    차도       0  \n",
       "2   40.0  1.0   0.0  0.0   0.0  0.0    1.0  0.0    인도       1  \n",
       "3  225.0  1.0   1.0  0.0   0.0  0.0    0.0  0.0   주거지       1  \n",
       "4  255.0  0.0   0.0  0.0   0.0  0.0    0.0  0.0   주유소       2  "
      ]
     },
     "execution_count": 4,
     "metadata": {},
     "output_type": "execute_result"
    }
   ],
   "source": [
    "train_df.head()"
   ]
  },
  {
   "cell_type": "markdown",
   "id": "a18c323f-9e86-4fe2-9e09-395d4e290050",
   "metadata": {},
   "source": [
    "<br>"
   ]
  },
  {
   "cell_type": "markdown",
   "id": "cd0aab2e-3a95-4013-a15e-d141663182ea",
   "metadata": {},
   "source": [
    "## Resetting Columns Type"
   ]
  },
  {
   "cell_type": "code",
   "execution_count": 5,
   "id": "a6428eae-5d63-4ec8-bc73-fbb926f618db",
   "metadata": {},
   "outputs": [],
   "source": [
    "def type_resetting(data):\n",
    "    d = data.copy()\n",
    "    target_feature = ['TARGET']\n",
    "    cat_features = ['ID','월','요일','시간','소관경찰서','소관지역','범죄발생지']\n",
    "    num_features = [col for col in d.columns if col not in cat_features]\n",
    "    for col in cat_features:\n",
    "        d[col] = d[col].astype(str)\n",
    "    for col in num_features:\n",
    "        d[col] = d[col].astype(float)\n",
    "    if 'TARGET' in d.columns:\n",
    "        d['TARGET'] = d['TARGET'].astype(str)\n",
    "        d = d.rename(columns={'TARGET':'target'})\n",
    "    return d"
   ]
  },
  {
   "cell_type": "code",
   "execution_count": 6,
   "id": "857df10c-7dbb-48cc-b762-a69ff04786ec",
   "metadata": {},
   "outputs": [],
   "source": [
    "unuse_features = ['ID']\n",
    "\n",
    "train_df2 = type_resetting(train_df)\n",
    "test_df2  = type_resetting(test_df)\n",
    "\n",
    "train_df2.drop(columns=unuse_features,inplace=True)\n",
    "test_df2 .drop(columns=unuse_features,inplace=True)"
   ]
  },
  {
   "cell_type": "markdown",
   "id": "204816d7-af14-427d-bc50-32b876febd64",
   "metadata": {},
   "source": [
    "<br></br>"
   ]
  },
  {
   "cell_type": "markdown",
   "id": "c5254fac-62ad-4ca8-98d9-0cc687d11af2",
   "metadata": {},
   "source": [
    "# New Features"
   ]
  },
  {
   "cell_type": "code",
   "execution_count": 7,
   "id": "0b5850c5-7ba2-4223-a30d-161461984599",
   "metadata": {},
   "outputs": [],
   "source": [
    "def new_features(data):\n",
    "    d = data.copy()\n",
    "    \n",
    "    # (1) 강수,강설,적설여부 : 강수량이 0이면 강수여부=0, 강수\n",
    "    d['강수여부'] = np.where(d['강수량(mm)']==0,0,1)\n",
    "    d['강설여부'] = np.where(d['강설량(mm)']==0,0,1)\n",
    "    d['적설여부'] = np.where(d['적설량(cm)']==0,0,1)\n",
    "    \n",
    "    # (2) 주말여부, 계절\n",
    "    d['주말여부'] = np.where((d['요일']=='토요일')|(d['요일']=='일요일'),1,0)\n",
    "    d['계절'] = ['겨울' if month in [12,1,2] else\n",
    "                '봄'  if month in [3,4,5]  else\n",
    "                '여름' if month in [6,7,8] else\n",
    "                '가을' if month in [9,10,11] else\n",
    "                'Unknown' for month in d['월'].astype(int)]\n",
    "    \n",
    "    # (3) 강수 grouping\n",
    "    # - 참조 : https://namu.wiki/w/%EA%B0%95%EC%9A%B0%EB%9F%89#s-2\n",
    "    d['강수량_체감'] = ['0'  if rainfall==0   else\n",
    "                     '1'  if rainfall<=1   else\n",
    "                     '2'  if rainfall<=2.5 else\n",
    "                     '3'  if rainfall<=5.0 else\n",
    "                     '4'  if rainfall<=10  else\n",
    "                     '5'  if rainfall<=15  else\n",
    "                     '6'  if rainfall<=20  else\n",
    "                     '7'  if rainfall<=30  else\n",
    "                     '8'  if rainfall<=40  else\n",
    "                     '9'  if rainfall<=50  else\n",
    "                     '10' if rainfall<=70  else\n",
    "                     '11' if rainfall<=110 else\n",
    "                     '12' for rainfall in d['강수량(mm)']]\n",
    "    \n",
    "    # (4) 풍향\n",
    "    d['풍향_방위'] = ['N'  if (direction>=337.5) or  (direction< 22.5) else\n",
    "                    'NE' if (direction>= 22.5) and (direction< 67.5) else\n",
    "                    'E'  if (direction>= 67.5) and (direction<112.5) else\n",
    "                    'SE' if (direction>=112.5) and (direction<157.5) else\n",
    "                    'S'  if (direction>=157.5) and (direction<202.5) else\n",
    "                    'SW' if (direction>=202.5) and (direction<247.5) else\n",
    "                    'W'  if (direction>=247.5) and (direction<292.5) else\n",
    "                    'NW' if (direction>=292.5) and (direction<337.5) else\n",
    "                    'Unknown' for direction in d['풍향']]\n",
    "    \n",
    "    return d"
   ]
  },
  {
   "cell_type": "code",
   "execution_count": 8,
   "id": "b4b71491-75b4-49ac-ac54-253a2d5fdbf3",
   "metadata": {},
   "outputs": [],
   "source": [
    "train_df3 = new_features(train_df2)\n",
    "test_df3  = new_features(test_df2)"
   ]
  },
  {
   "cell_type": "code",
   "execution_count": 9,
   "id": "bfa09b13-62ca-425d-bab5-299828454fc7",
   "metadata": {},
   "outputs": [],
   "source": [
    "target_feature = 'target'\n",
    "cat_features = train_df3.columns[train_df3.dtypes==object]\n",
    "cat_features = list(set(cat_features)-set([target_feature]))\n",
    "num_features = [col for col in train_df3.columns if col not in cat_features+[target_feature]]"
   ]
  },
  {
   "cell_type": "code",
   "execution_count": 10,
   "id": "5cf0ed61-9984-4d88-9ee4-014913866ac4",
   "metadata": {},
   "outputs": [
    {
     "data": {
      "text/html": [
       "<div>\n",
       "<style scoped>\n",
       "    .dataframe tbody tr th:only-of-type {\n",
       "        vertical-align: middle;\n",
       "    }\n",
       "\n",
       "    .dataframe tbody tr th {\n",
       "        vertical-align: top;\n",
       "    }\n",
       "\n",
       "    .dataframe thead th {\n",
       "        text-align: right;\n",
       "    }\n",
       "</style>\n",
       "<table border=\"1\" class=\"dataframe\">\n",
       "  <thead>\n",
       "    <tr style=\"text-align: right;\">\n",
       "      <th></th>\n",
       "      <th>월</th>\n",
       "      <th>요일</th>\n",
       "      <th>시간</th>\n",
       "      <th>소관경찰서</th>\n",
       "      <th>소관지역</th>\n",
       "      <th>사건발생거리</th>\n",
       "      <th>강수량(mm)</th>\n",
       "      <th>강설량(mm)</th>\n",
       "      <th>적설량(cm)</th>\n",
       "      <th>풍향</th>\n",
       "      <th>안개</th>\n",
       "      <th>짙은안개</th>\n",
       "      <th>번개</th>\n",
       "      <th>진눈깨비</th>\n",
       "      <th>서리</th>\n",
       "      <th>연기/연무</th>\n",
       "      <th>눈날림</th>\n",
       "      <th>범죄발생지</th>\n",
       "      <th>target</th>\n",
       "      <th>강수여부</th>\n",
       "      <th>강설여부</th>\n",
       "      <th>적설여부</th>\n",
       "      <th>주말여부</th>\n",
       "      <th>계절</th>\n",
       "      <th>강수량_체감</th>\n",
       "      <th>풍향_방위</th>\n",
       "    </tr>\n",
       "  </thead>\n",
       "  <tbody>\n",
       "    <tr>\n",
       "      <th>0</th>\n",
       "      <td>9</td>\n",
       "      <td>화요일</td>\n",
       "      <td>10</td>\n",
       "      <td>137</td>\n",
       "      <td>8.0</td>\n",
       "      <td>2.611124</td>\n",
       "      <td>0.000</td>\n",
       "      <td>0.0</td>\n",
       "      <td>0.0</td>\n",
       "      <td>245.0</td>\n",
       "      <td>0.0</td>\n",
       "      <td>0.0</td>\n",
       "      <td>0.0</td>\n",
       "      <td>0.0</td>\n",
       "      <td>0.0</td>\n",
       "      <td>0.0</td>\n",
       "      <td>0.0</td>\n",
       "      <td>차도</td>\n",
       "      <td>2.0</td>\n",
       "      <td>0</td>\n",
       "      <td>0</td>\n",
       "      <td>0</td>\n",
       "      <td>0</td>\n",
       "      <td>가을</td>\n",
       "      <td>0</td>\n",
       "      <td>SW</td>\n",
       "    </tr>\n",
       "    <tr>\n",
       "      <th>1</th>\n",
       "      <td>11</td>\n",
       "      <td>화요일</td>\n",
       "      <td>6</td>\n",
       "      <td>438</td>\n",
       "      <td>13.0</td>\n",
       "      <td>3.209093</td>\n",
       "      <td>0.000</td>\n",
       "      <td>0.0</td>\n",
       "      <td>0.0</td>\n",
       "      <td>200.0</td>\n",
       "      <td>0.0</td>\n",
       "      <td>0.0</td>\n",
       "      <td>0.0</td>\n",
       "      <td>0.0</td>\n",
       "      <td>0.0</td>\n",
       "      <td>0.0</td>\n",
       "      <td>0.0</td>\n",
       "      <td>차도</td>\n",
       "      <td>0.0</td>\n",
       "      <td>0</td>\n",
       "      <td>0</td>\n",
       "      <td>0</td>\n",
       "      <td>0</td>\n",
       "      <td>가을</td>\n",
       "      <td>0</td>\n",
       "      <td>S</td>\n",
       "    </tr>\n",
       "    <tr>\n",
       "      <th>2</th>\n",
       "      <td>8</td>\n",
       "      <td>일요일</td>\n",
       "      <td>6</td>\n",
       "      <td>1729</td>\n",
       "      <td>47.0</td>\n",
       "      <td>1.619597</td>\n",
       "      <td>0.000</td>\n",
       "      <td>0.0</td>\n",
       "      <td>0.0</td>\n",
       "      <td>40.0</td>\n",
       "      <td>1.0</td>\n",
       "      <td>0.0</td>\n",
       "      <td>0.0</td>\n",
       "      <td>0.0</td>\n",
       "      <td>0.0</td>\n",
       "      <td>1.0</td>\n",
       "      <td>0.0</td>\n",
       "      <td>인도</td>\n",
       "      <td>1.0</td>\n",
       "      <td>0</td>\n",
       "      <td>0</td>\n",
       "      <td>0</td>\n",
       "      <td>1</td>\n",
       "      <td>여름</td>\n",
       "      <td>0</td>\n",
       "      <td>NE</td>\n",
       "    </tr>\n",
       "    <tr>\n",
       "      <th>3</th>\n",
       "      <td>5</td>\n",
       "      <td>월요일</td>\n",
       "      <td>6</td>\n",
       "      <td>2337</td>\n",
       "      <td>53.0</td>\n",
       "      <td>1.921615</td>\n",
       "      <td>11.375</td>\n",
       "      <td>0.0</td>\n",
       "      <td>0.0</td>\n",
       "      <td>225.0</td>\n",
       "      <td>1.0</td>\n",
       "      <td>1.0</td>\n",
       "      <td>0.0</td>\n",
       "      <td>0.0</td>\n",
       "      <td>0.0</td>\n",
       "      <td>0.0</td>\n",
       "      <td>0.0</td>\n",
       "      <td>주거지</td>\n",
       "      <td>1.0</td>\n",
       "      <td>1</td>\n",
       "      <td>0</td>\n",
       "      <td>0</td>\n",
       "      <td>0</td>\n",
       "      <td>봄</td>\n",
       "      <td>5</td>\n",
       "      <td>SW</td>\n",
       "    </tr>\n",
       "    <tr>\n",
       "      <th>4</th>\n",
       "      <td>9</td>\n",
       "      <td>일요일</td>\n",
       "      <td>11</td>\n",
       "      <td>1439</td>\n",
       "      <td>41.0</td>\n",
       "      <td>1.789721</td>\n",
       "      <td>0.000</td>\n",
       "      <td>0.0</td>\n",
       "      <td>0.0</td>\n",
       "      <td>255.0</td>\n",
       "      <td>0.0</td>\n",
       "      <td>0.0</td>\n",
       "      <td>0.0</td>\n",
       "      <td>0.0</td>\n",
       "      <td>0.0</td>\n",
       "      <td>0.0</td>\n",
       "      <td>0.0</td>\n",
       "      <td>주유소</td>\n",
       "      <td>2.0</td>\n",
       "      <td>0</td>\n",
       "      <td>0</td>\n",
       "      <td>0</td>\n",
       "      <td>1</td>\n",
       "      <td>가을</td>\n",
       "      <td>0</td>\n",
       "      <td>W</td>\n",
       "    </tr>\n",
       "  </tbody>\n",
       "</table>\n",
       "</div>"
      ],
      "text/plain": [
       "    월   요일  시간 소관경찰서  소관지역    사건발생거리  강수량(mm)  강설량(mm)  적설량(cm)     풍향   안개  \\\n",
       "0   9  화요일  10   137   8.0  2.611124    0.000      0.0      0.0  245.0  0.0   \n",
       "1  11  화요일   6   438  13.0  3.209093    0.000      0.0      0.0  200.0  0.0   \n",
       "2   8  일요일   6  1729  47.0  1.619597    0.000      0.0      0.0   40.0  1.0   \n",
       "3   5  월요일   6  2337  53.0  1.921615   11.375      0.0      0.0  225.0  1.0   \n",
       "4   9  일요일  11  1439  41.0  1.789721    0.000      0.0      0.0  255.0  0.0   \n",
       "\n",
       "   짙은안개   번개  진눈깨비   서리  연기/연무  눈날림 범죄발생지 target  강수여부  강설여부  적설여부  주말여부  계절  \\\n",
       "0   0.0  0.0   0.0  0.0    0.0  0.0    차도    2.0     0     0     0     0  가을   \n",
       "1   0.0  0.0   0.0  0.0    0.0  0.0    차도    0.0     0     0     0     0  가을   \n",
       "2   0.0  0.0   0.0  0.0    1.0  0.0    인도    1.0     0     0     0     1  여름   \n",
       "3   1.0  0.0   0.0  0.0    0.0  0.0   주거지    1.0     1     0     0     0   봄   \n",
       "4   0.0  0.0   0.0  0.0    0.0  0.0   주유소    2.0     0     0     0     1  가을   \n",
       "\n",
       "  강수량_체감 풍향_방위  \n",
       "0      0    SW  \n",
       "1      0     S  \n",
       "2      0    NE  \n",
       "3      5    SW  \n",
       "4      0     W  "
      ]
     },
     "execution_count": 10,
     "metadata": {},
     "output_type": "execute_result"
    }
   ],
   "source": [
    "train_df3.head()"
   ]
  },
  {
   "cell_type": "markdown",
   "id": "65939305-7703-474a-912d-3841f3eed25d",
   "metadata": {},
   "source": [
    "<br></br>"
   ]
  },
  {
   "cell_type": "markdown",
   "id": "f97f1466-3f68-43ec-a104-181930321dce",
   "metadata": {},
   "source": [
    "# EDA"
   ]
  },
  {
   "cell_type": "code",
   "execution_count": 13,
   "id": "4d1e3686-4ea5-4147-a968-4dc93785c50c",
   "metadata": {},
   "outputs": [],
   "source": [
    "# i=0\n",
    "# for col in num_features:\n",
    "#     i+=1\n",
    "#     print('\\n({}/{}) {}'.format(i,len(num_features),col))\n",
    "#     plt.figure(figsize=(15,7))\n",
    "#     sns.violinplot(x=train_df3['target'],y=train_df3[col])\n",
    "#     plt.show()"
   ]
  },
  {
   "cell_type": "markdown",
   "id": "6920fd41-52ab-4de1-82a4-d9a5b28a4346",
   "metadata": {},
   "source": [
    "<br></br>"
   ]
  },
  {
   "cell_type": "markdown",
   "id": "8c6171ab-e115-43a0-906e-ea644ee74b86",
   "metadata": {},
   "source": [
    "# Add the Interaction Term"
   ]
  },
  {
   "cell_type": "code",
   "execution_count": 14,
   "id": "f82abcfe-c565-4f93-a661-17119bb5bd7e",
   "metadata": {},
   "outputs": [],
   "source": [
    "import warnings\n",
    "from tqdm import trange\n",
    "def add_interaction_term(data,num_features):\n",
    "    warnings.simplefilter(action='ignore', category=pd.errors.PerformanceWarning)\n",
    "    \n",
    "    d = data.copy()\n",
    "    for i in range(len(num_features)):\n",
    "        for j in range(len(num_features)):\n",
    "            if i>j:\n",
    "                col_i = num_features[i]\n",
    "                col_j = num_features[j]\n",
    "                d[f'{col_i}*{col_j}'] = d[col_i]*d[col_j]\n",
    "                \n",
    "    return d"
   ]
  },
  {
   "cell_type": "code",
   "execution_count": 15,
   "id": "36e4645b-0183-4b9b-bf52-5bdcd4c9ec60",
   "metadata": {},
   "outputs": [],
   "source": [
    "train_df4 = add_interaction_term(train_df3,num_features)\n",
    "test_df4  = add_interaction_term(test_df3 ,num_features)"
   ]
  },
  {
   "cell_type": "code",
   "execution_count": 16,
   "id": "c812b622-9fb3-465c-b184-130e8707e5db",
   "metadata": {},
   "outputs": [],
   "source": [
    "target_feature = 'target'\n",
    "cat_features = train_df4.columns[train_df4.dtypes==object]\n",
    "cat_features = list(set(cat_features)-set([target_feature]))\n",
    "num_features = [col for col in train_df4.columns if col not in cat_features+[target_feature]]"
   ]
  },
  {
   "cell_type": "markdown",
   "id": "c3732aa9-e9d7-41d5-8e8c-667699fe5a30",
   "metadata": {},
   "source": [
    "<br></br>"
   ]
  },
  {
   "cell_type": "markdown",
   "id": "eec950f8-0d43-4b9a-97ed-6feac553dba3",
   "metadata": {},
   "source": [
    "# Feature Selection"
   ]
  },
  {
   "cell_type": "code",
   "execution_count": 17,
   "id": "f2532068-1601-4dc1-ac5c-0f29f76753d6",
   "metadata": {},
   "outputs": [],
   "source": [
    "# import statsmodels.api as sm\n",
    "from statsmodels.formula.api import ols\n",
    "from statsmodels.stats.anova import anova_lm"
   ]
  },
  {
   "cell_type": "code",
   "execution_count": 19,
   "id": "6a732a1f-9c59-4c33-9cf8-383f5e2844bf",
   "metadata": {},
   "outputs": [
    {
     "name": "stderr",
     "output_type": "stream",
     "text": [
      "100%|██████████| 136/136 [00:42<00:00,  3.21it/s]\n"
     ]
    }
   ],
   "source": [
    "pvalue_list = []\n",
    "for col in tqdm(num_features):\n",
    "    d = train_df4[[col,'target']].rename(columns={col:'feature'})\n",
    "    \n",
    "    model = ols(f'feature ~ C(target)',data=d).fit()\n",
    "    pvalue = anova_lm(model).values[0][-1]\n",
    "    pvalue_list.append([col,pvalue])"
   ]
  },
  {
   "cell_type": "code",
   "execution_count": 20,
   "id": "97d9904f-4360-4e44-9e16-528fb48e66ec",
   "metadata": {},
   "outputs": [
    {
     "data": {
      "text/html": [
       "<div>\n",
       "<style scoped>\n",
       "    .dataframe tbody tr th:only-of-type {\n",
       "        vertical-align: middle;\n",
       "    }\n",
       "\n",
       "    .dataframe tbody tr th {\n",
       "        vertical-align: top;\n",
       "    }\n",
       "\n",
       "    .dataframe thead th {\n",
       "        text-align: right;\n",
       "    }\n",
       "</style>\n",
       "<table border=\"1\" class=\"dataframe\">\n",
       "  <thead>\n",
       "    <tr style=\"text-align: right;\">\n",
       "      <th></th>\n",
       "      <th>feature</th>\n",
       "      <th>pvalue</th>\n",
       "    </tr>\n",
       "  </thead>\n",
       "  <tbody>\n",
       "    <tr>\n",
       "      <th>65</th>\n",
       "      <td>연기/연무*풍향</td>\n",
       "      <td>0.9556</td>\n",
       "    </tr>\n",
       "    <tr>\n",
       "      <th>88</th>\n",
       "      <td>강수여부*짙은안개</td>\n",
       "      <td>0.9136</td>\n",
       "    </tr>\n",
       "    <tr>\n",
       "      <th>32</th>\n",
       "      <td>짙은안개*강수량(mm)</td>\n",
       "      <td>0.9084</td>\n",
       "    </tr>\n",
       "    <tr>\n",
       "      <th>35</th>\n",
       "      <td>짙은안개*풍향</td>\n",
       "      <td>0.8769</td>\n",
       "    </tr>\n",
       "    <tr>\n",
       "      <th>113</th>\n",
       "      <td>적설여부*짙은안개</td>\n",
       "      <td>0.8632</td>\n",
       "    </tr>\n",
       "    <tr>\n",
       "      <th>10</th>\n",
       "      <td>연기/연무</td>\n",
       "      <td>0.8591</td>\n",
       "    </tr>\n",
       "    <tr>\n",
       "      <th>34</th>\n",
       "      <td>짙은안개*적설량(cm)</td>\n",
       "      <td>0.8396</td>\n",
       "    </tr>\n",
       "    <tr>\n",
       "      <th>66</th>\n",
       "      <td>연기/연무*안개</td>\n",
       "      <td>0.8337</td>\n",
       "    </tr>\n",
       "    <tr>\n",
       "      <th>100</th>\n",
       "      <td>강설여부*짙은안개</td>\n",
       "      <td>0.7973</td>\n",
       "    </tr>\n",
       "    <tr>\n",
       "      <th>68</th>\n",
       "      <td>연기/연무*번개</td>\n",
       "      <td>0.7782</td>\n",
       "    </tr>\n",
       "    <tr>\n",
       "      <th>61</th>\n",
       "      <td>연기/연무*사건발생거리</td>\n",
       "      <td>0.6640</td>\n",
       "    </tr>\n",
       "    <tr>\n",
       "      <th>89</th>\n",
       "      <td>강수여부*번개</td>\n",
       "      <td>0.6289</td>\n",
       "    </tr>\n",
       "    <tr>\n",
       "      <th>36</th>\n",
       "      <td>짙은안개*안개</td>\n",
       "      <td>0.6252</td>\n",
       "    </tr>\n",
       "    <tr>\n",
       "      <th>6</th>\n",
       "      <td>짙은안개</td>\n",
       "      <td>0.6252</td>\n",
       "    </tr>\n",
       "    <tr>\n",
       "      <th>33</th>\n",
       "      <td>짙은안개*강설량(mm)</td>\n",
       "      <td>0.5946</td>\n",
       "    </tr>\n",
       "    <tr>\n",
       "      <th>31</th>\n",
       "      <td>짙은안개*사건발생거리</td>\n",
       "      <td>0.5807</td>\n",
       "    </tr>\n",
       "    <tr>\n",
       "      <th>92</th>\n",
       "      <td>강수여부*연기/연무</td>\n",
       "      <td>0.5750</td>\n",
       "    </tr>\n",
       "    <tr>\n",
       "      <th>127</th>\n",
       "      <td>주말여부*짙은안개</td>\n",
       "      <td>0.4875</td>\n",
       "    </tr>\n",
       "    <tr>\n",
       "      <th>42</th>\n",
       "      <td>번개*안개</td>\n",
       "      <td>0.3728</td>\n",
       "    </tr>\n",
       "    <tr>\n",
       "      <th>62</th>\n",
       "      <td>연기/연무*강수량(mm)</td>\n",
       "      <td>0.3615</td>\n",
       "    </tr>\n",
       "    <tr>\n",
       "      <th>77</th>\n",
       "      <td>눈날림*짙은안개</td>\n",
       "      <td>0.3114</td>\n",
       "    </tr>\n",
       "    <tr>\n",
       "      <th>16</th>\n",
       "      <td>강수량(mm)*사건발생거리</td>\n",
       "      <td>0.2996</td>\n",
       "    </tr>\n",
       "    <tr>\n",
       "      <th>22</th>\n",
       "      <td>풍향*사건발생거리</td>\n",
       "      <td>0.2992</td>\n",
       "    </tr>\n",
       "    <tr>\n",
       "      <th>1</th>\n",
       "      <td>강수량(mm)</td>\n",
       "      <td>0.2833</td>\n",
       "    </tr>\n",
       "    <tr>\n",
       "      <th>83</th>\n",
       "      <td>강수여부*강수량(mm)</td>\n",
       "      <td>0.2833</td>\n",
       "    </tr>\n",
       "    <tr>\n",
       "      <th>87</th>\n",
       "      <td>강수여부*안개</td>\n",
       "      <td>0.2593</td>\n",
       "    </tr>\n",
       "    <tr>\n",
       "      <th>5</th>\n",
       "      <td>안개</td>\n",
       "      <td>0.2581</td>\n",
       "    </tr>\n",
       "    <tr>\n",
       "      <th>26</th>\n",
       "      <td>안개*사건발생거리</td>\n",
       "      <td>0.2475</td>\n",
       "    </tr>\n",
       "    <tr>\n",
       "      <th>4</th>\n",
       "      <td>풍향</td>\n",
       "      <td>0.2434</td>\n",
       "    </tr>\n",
       "    <tr>\n",
       "      <th>82</th>\n",
       "      <td>강수여부*사건발생거리</td>\n",
       "      <td>0.2077</td>\n",
       "    </tr>\n",
       "    <tr>\n",
       "      <th>67</th>\n",
       "      <td>연기/연무*짙은안개</td>\n",
       "      <td>0.1937</td>\n",
       "    </tr>\n",
       "    <tr>\n",
       "      <th>38</th>\n",
       "      <td>번개*강수량(mm)</td>\n",
       "      <td>0.1293</td>\n",
       "    </tr>\n",
       "    <tr>\n",
       "      <th>41</th>\n",
       "      <td>번개*풍향</td>\n",
       "      <td>0.1104</td>\n",
       "    </tr>\n",
       "    <tr>\n",
       "      <th>37</th>\n",
       "      <td>번개*사건발생거리</td>\n",
       "      <td>0.1090</td>\n",
       "    </tr>\n",
       "    <tr>\n",
       "      <th>23</th>\n",
       "      <td>풍향*강수량(mm)</td>\n",
       "      <td>0.1080</td>\n",
       "    </tr>\n",
       "    <tr>\n",
       "      <th>7</th>\n",
       "      <td>번개</td>\n",
       "      <td>0.0967</td>\n",
       "    </tr>\n",
       "    <tr>\n",
       "      <th>30</th>\n",
       "      <td>안개*풍향</td>\n",
       "      <td>0.0912</td>\n",
       "    </tr>\n",
       "    <tr>\n",
       "      <th>27</th>\n",
       "      <td>안개*강수량(mm)</td>\n",
       "      <td>0.0903</td>\n",
       "    </tr>\n",
       "    <tr>\n",
       "      <th>25</th>\n",
       "      <td>풍향*적설량(cm)</td>\n",
       "      <td>0.0788</td>\n",
       "    </tr>\n",
       "  </tbody>\n",
       "</table>\n",
       "</div>"
      ],
      "text/plain": [
       "            feature  pvalue\n",
       "65         연기/연무*풍향  0.9556\n",
       "88        강수여부*짙은안개  0.9136\n",
       "32     짙은안개*강수량(mm)  0.9084\n",
       "35          짙은안개*풍향  0.8769\n",
       "113       적설여부*짙은안개  0.8632\n",
       "10            연기/연무  0.8591\n",
       "34     짙은안개*적설량(cm)  0.8396\n",
       "66         연기/연무*안개  0.8337\n",
       "100       강설여부*짙은안개  0.7973\n",
       "68         연기/연무*번개  0.7782\n",
       "61     연기/연무*사건발생거리  0.6640\n",
       "89          강수여부*번개  0.6289\n",
       "36          짙은안개*안개  0.6252\n",
       "6              짙은안개  0.6252\n",
       "33     짙은안개*강설량(mm)  0.5946\n",
       "31      짙은안개*사건발생거리  0.5807\n",
       "92       강수여부*연기/연무  0.5750\n",
       "127       주말여부*짙은안개  0.4875\n",
       "42            번개*안개  0.3728\n",
       "62    연기/연무*강수량(mm)  0.3615\n",
       "77         눈날림*짙은안개  0.3114\n",
       "16   강수량(mm)*사건발생거리  0.2996\n",
       "22        풍향*사건발생거리  0.2992\n",
       "1           강수량(mm)  0.2833\n",
       "83     강수여부*강수량(mm)  0.2833\n",
       "87          강수여부*안개  0.2593\n",
       "5                안개  0.2581\n",
       "26        안개*사건발생거리  0.2475\n",
       "4                풍향  0.2434\n",
       "82      강수여부*사건발생거리  0.2077\n",
       "67       연기/연무*짙은안개  0.1937\n",
       "38       번개*강수량(mm)  0.1293\n",
       "41            번개*풍향  0.1104\n",
       "37        번개*사건발생거리  0.1090\n",
       "23       풍향*강수량(mm)  0.1080\n",
       "7                번개  0.0967\n",
       "30            안개*풍향  0.0912\n",
       "27       안개*강수량(mm)  0.0903\n",
       "25       풍향*적설량(cm)  0.0788"
      ]
     },
     "execution_count": 20,
     "metadata": {},
     "output_type": "execute_result"
    }
   ],
   "source": [
    "pvalue_df = pd.DataFrame(pvalue_list,columns=['feature','pvalue'])\\\n",
    "    .sort_values('pvalue',ascending=False)\n",
    "\n",
    "pvalue_df[pvalue_df.pvalue>=0.05].round(4)"
   ]
  },
  {
   "cell_type": "markdown",
   "id": "65170a3e-52fb-4628-ba05-1aafd0d1aac1",
   "metadata": {},
   "source": [
    "<br></br>"
   ]
  },
  {
   "cell_type": "markdown",
   "id": "51975f4c-015e-421f-935f-3d2c3d716531",
   "metadata": {},
   "source": [
    "# Modeling"
   ]
  },
  {
   "cell_type": "code",
   "execution_count": 21,
   "id": "70aff036-67e1-4cbb-ad2e-0d02f7c466c9",
   "metadata": {},
   "outputs": [],
   "source": [
    "from sklearn.model_selection import train_test_split, StratifiedKFold\n",
    "from catboost import CatBoostClassifier, Pool\n",
    "from sklearn.metrics import f1_score"
   ]
  },
  {
   "cell_type": "code",
   "execution_count": 22,
   "id": "0980fa79-83f1-4404-afdc-105256b9c5ef",
   "metadata": {},
   "outputs": [],
   "source": [
    "n_splits = 10\n",
    "iterations = 5000\n",
    "learning_rate = 0.03\n",
    "random_state = 0"
   ]
  },
  {
   "cell_type": "code",
   "execution_count": 23,
   "id": "74623452-baf2-46fe-9170-edbdb8825e4a",
   "metadata": {},
   "outputs": [
    {
     "name": "stderr",
     "output_type": "stream",
     "text": [
      "  0%|          | 0/10 [00:00<?, ?it/s]Warning: Overfitting detector is active, thus evaluation metric is calculated on every iteration. 'metric_period' is ignored for evaluation metric.\n"
     ]
    },
    {
     "name": "stdout",
     "output_type": "stream",
     "text": [
      "0:\tlearn: 1.0912754\ttest: 1.0913207\tbest: 1.0913207 (0)\ttotal: 163ms\tremaining: 13m 35s\n",
      "1000:\tlearn: 0.9332570\ttest: 0.9553949\tbest: 0.9553876 (998)\ttotal: 1m 40s\tremaining: 6m 40s\n",
      "2000:\tlearn: 0.9103208\ttest: 0.9543703\tbest: 0.9543382 (1916)\ttotal: 3m 30s\tremaining: 5m 14s\n",
      "3000:\tlearn: 0.8886717\ttest: 0.9538221\tbest: 0.9537743 (2911)\ttotal: 5m 19s\tremaining: 3m 32s\n",
      "4000:\tlearn: 0.8676297\ttest: 0.9543466\tbest: 0.9536965 (3131)\ttotal: 7m 9s\tremaining: 1m 47s\n",
      "Stopped by overfitting detector  (1000 iterations wait)\n",
      "\n",
      "bestTest = 0.9536964652\n",
      "bestIteration = 3131\n",
      "\n",
      "Shrink model to first 3132 iterations.\n"
     ]
    },
    {
     "name": "stderr",
     "output_type": "stream",
     "text": [
      " 10%|█         | 1/10 [07:24<1:06:44, 444.97s/it]"
     ]
    },
    {
     "name": "stdout",
     "output_type": "stream",
     "text": [
      "K-Fold 1, Macro F1 Score: 0.5207\n"
     ]
    },
    {
     "name": "stderr",
     "output_type": "stream",
     "text": [
      "Warning: Overfitting detector is active, thus evaluation metric is calculated on every iteration. 'metric_period' is ignored for evaluation metric.\n"
     ]
    },
    {
     "name": "stdout",
     "output_type": "stream",
     "text": [
      "0:\tlearn: 1.0915495\ttest: 1.0914052\tbest: 1.0914052 (0)\ttotal: 98.6ms\tremaining: 8m 12s\n",
      "1000:\tlearn: 0.9338254\ttest: 0.9544255\tbest: 0.9544255 (1000)\ttotal: 1m 48s\tremaining: 7m 11s\n",
      "2000:\tlearn: 0.9104151\ttest: 0.9537730\tbest: 0.9537585 (1740)\ttotal: 3m 40s\tremaining: 5m 30s\n",
      "Stopped by overfitting detector  (1000 iterations wait)\n",
      "\n",
      "bestTest = 0.9537584534\n",
      "bestIteration = 1740\n",
      "\n",
      "Shrink model to first 1741 iterations.\n"
     ]
    },
    {
     "name": "stderr",
     "output_type": "stream",
     "text": [
      " 20%|██        | 2/10 [12:28<48:15, 361.91s/it]  "
     ]
    },
    {
     "name": "stdout",
     "output_type": "stream",
     "text": [
      "K-Fold 2, Macro F1 Score: 0.5301\n"
     ]
    },
    {
     "name": "stderr",
     "output_type": "stream",
     "text": [
      "Warning: Overfitting detector is active, thus evaluation metric is calculated on every iteration. 'metric_period' is ignored for evaluation metric.\n"
     ]
    },
    {
     "name": "stdout",
     "output_type": "stream",
     "text": [
      "0:\tlearn: 1.0913073\ttest: 1.0912482\tbest: 1.0912482 (0)\ttotal: 91.8ms\tremaining: 7m 38s\n",
      "1000:\tlearn: 0.9332133\ttest: 0.9550335\tbest: 0.9550306 (998)\ttotal: 1m 45s\tremaining: 7m 2s\n",
      "2000:\tlearn: 0.9096015\ttest: 0.9541865\tbest: 0.9541626 (1948)\ttotal: 3m 36s\tremaining: 5m 24s\n",
      "3000:\tlearn: 0.8873045\ttest: 0.9539336\tbest: 0.9539104 (2983)\ttotal: 5m 24s\tremaining: 3m 36s\n",
      "4000:\tlearn: 0.8658252\ttest: 0.9538708\tbest: 0.9538156 (3976)\ttotal: 7m 16s\tremaining: 1m 49s\n",
      "Stopped by overfitting detector  (1000 iterations wait)\n",
      "\n",
      "bestTest = 0.9538156037\n",
      "bestIteration = 3976\n",
      "\n",
      "Shrink model to first 3977 iterations.\n"
     ]
    },
    {
     "name": "stderr",
     "output_type": "stream",
     "text": [
      " 30%|███       | 3/10 [21:33<51:56, 445.22s/it]"
     ]
    },
    {
     "name": "stdout",
     "output_type": "stream",
     "text": [
      "K-Fold 3, Macro F1 Score: 0.5209\n"
     ]
    },
    {
     "name": "stderr",
     "output_type": "stream",
     "text": [
      "Warning: Overfitting detector is active, thus evaluation metric is calculated on every iteration. 'metric_period' is ignored for evaluation metric.\n"
     ]
    },
    {
     "name": "stdout",
     "output_type": "stream",
     "text": [
      "0:\tlearn: 1.0912834\ttest: 1.0911736\tbest: 1.0911736 (0)\ttotal: 98.8ms\tremaining: 8m 13s\n",
      "1000:\tlearn: 0.9328735\ttest: 0.9577779\tbest: 0.9577192 (932)\ttotal: 1m 45s\tremaining: 6m 59s\n",
      "2000:\tlearn: 0.9090370\ttest: 0.9565107\tbest: 0.9564600 (1852)\ttotal: 3m 31s\tremaining: 5m 16s\n",
      "3000:\tlearn: 0.8867312\ttest: 0.9565603\tbest: 0.9563108 (2440)\ttotal: 5m 30s\tremaining: 3m 40s\n",
      "Stopped by overfitting detector  (1000 iterations wait)\n",
      "\n",
      "bestTest = 0.9563107531\n",
      "bestIteration = 2440\n",
      "\n",
      "Shrink model to first 2441 iterations.\n"
     ]
    },
    {
     "name": "stderr",
     "output_type": "stream",
     "text": [
      " 40%|████      | 4/10 [27:51<41:54, 419.02s/it]"
     ]
    },
    {
     "name": "stdout",
     "output_type": "stream",
     "text": [
      "K-Fold 4, Macro F1 Score: 0.5283\n"
     ]
    },
    {
     "name": "stderr",
     "output_type": "stream",
     "text": [
      "Warning: Overfitting detector is active, thus evaluation metric is calculated on every iteration. 'metric_period' is ignored for evaluation metric.\n"
     ]
    },
    {
     "name": "stdout",
     "output_type": "stream",
     "text": [
      "0:\tlearn: 1.0912898\ttest: 1.0911633\tbest: 1.0911633 (0)\ttotal: 83.5ms\tremaining: 6m 57s\n",
      "1000:\tlearn: 0.9339203\ttest: 0.9507823\tbest: 0.9507764 (998)\ttotal: 1m 45s\tremaining: 6m 59s\n",
      "2000:\tlearn: 0.9104542\ttest: 0.9495053\tbest: 0.9493762 (1932)\ttotal: 3m 35s\tremaining: 5m 23s\n",
      "3000:\tlearn: 0.8879462\ttest: 0.9493883\tbest: 0.9493062 (2871)\ttotal: 5m 28s\tremaining: 3m 38s\n",
      "Stopped by overfitting detector  (1000 iterations wait)\n",
      "\n",
      "bestTest = 0.9493062071\n",
      "bestIteration = 2871\n",
      "\n",
      "Shrink model to first 2872 iterations.\n"
     ]
    },
    {
     "name": "stderr",
     "output_type": "stream",
     "text": [
      " 50%|█████     | 5/10 [34:53<34:59, 419.90s/it]"
     ]
    },
    {
     "name": "stdout",
     "output_type": "stream",
     "text": [
      "K-Fold 5, Macro F1 Score: 0.5283\n"
     ]
    },
    {
     "name": "stderr",
     "output_type": "stream",
     "text": [
      "Warning: Overfitting detector is active, thus evaluation metric is calculated on every iteration. 'metric_period' is ignored for evaluation metric.\n"
     ]
    },
    {
     "name": "stdout",
     "output_type": "stream",
     "text": [
      "0:\tlearn: 1.0911912\ttest: 1.0913705\tbest: 1.0913705 (0)\ttotal: 90ms\tremaining: 7m 29s\n",
      "1000:\tlearn: 0.9331821\ttest: 0.9592079\tbest: 0.9592079 (1000)\ttotal: 1m 42s\tremaining: 6m 49s\n",
      "2000:\tlearn: 0.9097428\ttest: 0.9576721\tbest: 0.9576688 (1998)\ttotal: 3m 28s\tremaining: 5m 12s\n",
      "3000:\tlearn: 0.8876152\ttest: 0.9579893\tbest: 0.9576685 (2002)\ttotal: 5m 19s\tremaining: 3m 33s\n",
      "Stopped by overfitting detector  (1000 iterations wait)\n",
      "\n",
      "bestTest = 0.9576685463\n",
      "bestIteration = 2002\n",
      "\n",
      "Shrink model to first 2003 iterations.\n"
     ]
    },
    {
     "name": "stderr",
     "output_type": "stream",
     "text": [
      " 60%|██████    | 6/10 [40:14<25:44, 386.21s/it]"
     ]
    },
    {
     "name": "stdout",
     "output_type": "stream",
     "text": [
      "K-Fold 6, Macro F1 Score: 0.5209\n"
     ]
    },
    {
     "name": "stderr",
     "output_type": "stream",
     "text": [
      "Warning: Overfitting detector is active, thus evaluation metric is calculated on every iteration. 'metric_period' is ignored for evaluation metric.\n"
     ]
    },
    {
     "name": "stdout",
     "output_type": "stream",
     "text": [
      "0:\tlearn: 1.0913413\ttest: 1.0911253\tbest: 1.0911253 (0)\ttotal: 90.9ms\tremaining: 7m 34s\n",
      "1000:\tlearn: 0.9336059\ttest: 0.9522815\tbest: 0.9522709 (996)\ttotal: 1m 42s\tremaining: 6m 50s\n",
      "2000:\tlearn: 0.9097525\ttest: 0.9517178\tbest: 0.9516517 (1737)\ttotal: 3m 27s\tremaining: 5m 11s\n",
      "3000:\tlearn: 0.8873729\ttest: 0.9521076\tbest: 0.9516146 (2176)\ttotal: 5m 12s\tremaining: 3m 28s\n",
      "Stopped by overfitting detector  (1000 iterations wait)\n",
      "\n",
      "bestTest = 0.9516146402\n",
      "bestIteration = 2176\n",
      "\n",
      "Shrink model to first 2177 iterations.\n"
     ]
    },
    {
     "name": "stderr",
     "output_type": "stream",
     "text": [
      " 70%|███████   | 7/10 [45:46<18:25, 368.52s/it]"
     ]
    },
    {
     "name": "stdout",
     "output_type": "stream",
     "text": [
      "K-Fold 7, Macro F1 Score: 0.5315\n"
     ]
    },
    {
     "name": "stderr",
     "output_type": "stream",
     "text": [
      "Warning: Overfitting detector is active, thus evaluation metric is calculated on every iteration. 'metric_period' is ignored for evaluation metric.\n"
     ]
    },
    {
     "name": "stdout",
     "output_type": "stream",
     "text": [
      "0:\tlearn: 1.0912654\ttest: 1.0912577\tbest: 1.0912577 (0)\ttotal: 93.1ms\tremaining: 7m 45s\n",
      "1000:\tlearn: 0.9337555\ttest: 0.9511083\tbest: 0.9511063 (976)\ttotal: 1m 41s\tremaining: 6m 46s\n",
      "2000:\tlearn: 0.9102722\ttest: 0.9502144\tbest: 0.9501981 (1966)\ttotal: 3m 26s\tremaining: 5m 10s\n",
      "3000:\tlearn: 0.8881909\ttest: 0.9500503\tbest: 0.9498829 (2564)\ttotal: 5m 11s\tremaining: 3m 27s\n",
      "Stopped by overfitting detector  (1000 iterations wait)\n",
      "\n",
      "bestTest = 0.9498829037\n",
      "bestIteration = 2564\n",
      "\n",
      "Shrink model to first 2565 iterations.\n"
     ]
    },
    {
     "name": "stderr",
     "output_type": "stream",
     "text": [
      " 80%|████████  | 8/10 [51:58<12:19, 369.58s/it]"
     ]
    },
    {
     "name": "stdout",
     "output_type": "stream",
     "text": [
      "K-Fold 8, Macro F1 Score: 0.5334\n"
     ]
    },
    {
     "name": "stderr",
     "output_type": "stream",
     "text": [
      "Warning: Overfitting detector is active, thus evaluation metric is calculated on every iteration. 'metric_period' is ignored for evaluation metric.\n"
     ]
    },
    {
     "name": "stdout",
     "output_type": "stream",
     "text": [
      "0:\tlearn: 1.0914227\ttest: 1.0914441\tbest: 1.0914441 (0)\ttotal: 94.4ms\tremaining: 7m 51s\n",
      "1000:\tlearn: 0.9339823\ttest: 0.9549176\tbest: 0.9549146 (988)\ttotal: 1m 42s\tremaining: 6m 47s\n",
      "2000:\tlearn: 0.9105646\ttest: 0.9545786\tbest: 0.9543960 (1815)\ttotal: 3m 27s\tremaining: 5m 10s\n",
      "Stopped by overfitting detector  (1000 iterations wait)\n",
      "\n",
      "bestTest = 0.9543959511\n",
      "bestIteration = 1815\n",
      "\n",
      "Shrink model to first 1816 iterations.\n"
     ]
    },
    {
     "name": "stderr",
     "output_type": "stream",
     "text": [
      " 90%|█████████ | 9/10 [56:52<05:46, 346.19s/it]"
     ]
    },
    {
     "name": "stdout",
     "output_type": "stream",
     "text": [
      "K-Fold 9, Macro F1 Score: 0.5293\n"
     ]
    },
    {
     "name": "stderr",
     "output_type": "stream",
     "text": [
      "Warning: Overfitting detector is active, thus evaluation metric is calculated on every iteration. 'metric_period' is ignored for evaluation metric.\n"
     ]
    },
    {
     "name": "stdout",
     "output_type": "stream",
     "text": [
      "0:\tlearn: 1.0913111\ttest: 1.0911598\tbest: 1.0911598 (0)\ttotal: 97.7ms\tremaining: 8m 8s\n",
      "1000:\tlearn: 0.9344133\ttest: 0.9533156\tbest: 0.9532756 (990)\ttotal: 1m 43s\tremaining: 6m 53s\n",
      "2000:\tlearn: 0.9113436\ttest: 0.9526017\tbest: 0.9524942 (1826)\ttotal: 3m 28s\tremaining: 5m 13s\n",
      "Stopped by overfitting detector  (1000 iterations wait)\n",
      "\n",
      "bestTest = 0.9524942431\n",
      "bestIteration = 1826\n",
      "\n",
      "Shrink model to first 1827 iterations.\n"
     ]
    },
    {
     "name": "stderr",
     "output_type": "stream",
     "text": [
      "100%|██████████| 10/10 [1:01:50<00:00, 371.03s/it]"
     ]
    },
    {
     "name": "stdout",
     "output_type": "stream",
     "text": [
      "K-Fold 10, Macro F1 Score: 0.5252\n"
     ]
    },
    {
     "name": "stderr",
     "output_type": "stream",
     "text": [
      "\n"
     ]
    }
   ],
   "source": [
    "X = train_df4.drop(target_feature,axis=1)\n",
    "y = train_df4[target_feature]\n",
    "\n",
    "skf = StratifiedKFold(n_splits=n_splits)\n",
    "models = []\n",
    "scores = []\n",
    "\n",
    "k=0\n",
    "for train_idx, valid_idx in tqdm(skf.split(X,y),total=n_splits):\n",
    "    k+=1\n",
    "    X_train, y_train = X.iloc[train_idx], y.iloc[train_idx]\n",
    "    X_valid, y_valid = X.iloc[valid_idx], y.iloc[valid_idx]\n",
    "    \n",
    "    train_dataset = Pool(X_train,y_train,cat_features=cat_features)\n",
    "    valid_dataset = Pool(X_valid,y_valid,cat_features=cat_features)\n",
    "\n",
    "    model = CatBoostClassifier(\n",
    "        random_state=random_state,\n",
    "        iterations=iterations,\n",
    "        learning_rate=learning_rate,\n",
    "        allow_writing_files=False,\n",
    "    )\n",
    "    model.fit(\n",
    "        train_dataset,\n",
    "        eval_set=valid_dataset,\n",
    "        metric_period=int(iterations/5),\n",
    "        early_stopping_rounds=int(iterations/5),\n",
    "    )\n",
    "    #model.save_model(f'./model_checkpoints/kfold_model_{k}.cbm')\n",
    "    \n",
    "    y_pred = model.predict(valid_dataset).flatten()\n",
    "    y_true = y_valid.values\n",
    "    score = f1_score(y_true=y_true,y_pred=y_pred,average='macro')\n",
    "    \n",
    "    print('K-Fold {}, Macro F1 Score: {:.4f}'.format(k,score))\n",
    "    \n",
    "    models.append(model)\n",
    "    scores.append(score)"
   ]
  },
  {
   "cell_type": "code",
   "execution_count": 24,
   "id": "929f2867-3a3e-48ba-8473-853c00ca1073",
   "metadata": {},
   "outputs": [],
   "source": [
    "import pickle\n",
    "with open('./model_checkpoints/kfold_models.pkl', 'wb') as f:\n",
    "\tpickle.dump(models, f, protocol=pickle.HIGHEST_PROTOCOL)"
   ]
  },
  {
   "cell_type": "markdown",
   "id": "3618d610-07af-4601-8c4c-46a28305d832",
   "metadata": {},
   "source": [
    "<br></br>"
   ]
  },
  {
   "cell_type": "markdown",
   "id": "fcd44d6d-9b90-4421-8bec-863468034ae6",
   "metadata": {},
   "source": [
    "# Inference"
   ]
  },
  {
   "cell_type": "code",
   "execution_count": 31,
   "id": "5cd0aca6-de0c-42bc-a461-1e7c522ad753",
   "metadata": {},
   "outputs": [],
   "source": [
    "import pickle\n",
    "with open('./model_checkpoints/kfold_models_10.pkl', 'rb') as f:\n",
    "    models = pickle.load(f)"
   ]
  },
  {
   "cell_type": "markdown",
   "id": "5d3ec3df-3016-40c2-a6e6-1865192fe67d",
   "metadata": {},
   "source": [
    "<br>"
   ]
  },
  {
   "cell_type": "markdown",
   "id": "30ec9e4c-17ad-4876-8539-29c3771ef6b8",
   "metadata": {},
   "source": [
    "## Train dataset"
   ]
  },
  {
   "cell_type": "code",
   "execution_count": 32,
   "id": "e79406b1-928d-4875-bdd9-9d340b4d2fe2",
   "metadata": {},
   "outputs": [
    {
     "name": "stderr",
     "output_type": "stream",
     "text": [
      "100%|██████████| 10/10 [00:05<00:00,  1.76it/s]\n"
     ]
    }
   ],
   "source": [
    "pred_dict = {}\n",
    "i=0\n",
    "for model in tqdm(models):\n",
    "    i+=1\n",
    "    dataset = Pool(train_df4.drop(target_feature,axis=1),cat_features=cat_features)\n",
    "    pred_dict[str(i)] = model.predict(dataset).flatten()"
   ]
  },
  {
   "cell_type": "code",
   "execution_count": 33,
   "id": "61793893-9f17-457f-a40d-c7381d691852",
   "metadata": {},
   "outputs": [
    {
     "name": "stderr",
     "output_type": "stream",
     "text": [
      "100%|██████████| 84406/84406 [00:15<00:00, 5356.10it/s]\n"
     ]
    }
   ],
   "source": [
    "preds_hard_voting = pd.DataFrame(pred_dict)\\\n",
    "    .progress_apply(lambda x: x.value_counts().sort_values(ascending=False).index.tolist()[0],axis=1)"
   ]
  },
  {
   "cell_type": "code",
   "execution_count": 34,
   "id": "043a5129-99e5-43cd-a2ca-aa609d85f05a",
   "metadata": {},
   "outputs": [
    {
     "data": {
      "text/html": [
       "<div>\n",
       "<style scoped>\n",
       "    .dataframe tbody tr th:only-of-type {\n",
       "        vertical-align: middle;\n",
       "    }\n",
       "\n",
       "    .dataframe tbody tr th {\n",
       "        vertical-align: top;\n",
       "    }\n",
       "\n",
       "    .dataframe thead th {\n",
       "        text-align: right;\n",
       "    }\n",
       "</style>\n",
       "<table border=\"1\" class=\"dataframe\">\n",
       "  <thead>\n",
       "    <tr style=\"text-align: right;\">\n",
       "      <th>true</th>\n",
       "      <th>0.0</th>\n",
       "      <th>1.0</th>\n",
       "      <th>2.0</th>\n",
       "    </tr>\n",
       "    <tr>\n",
       "      <th>pred</th>\n",
       "      <th></th>\n",
       "      <th></th>\n",
       "      <th></th>\n",
       "    </tr>\n",
       "  </thead>\n",
       "  <tbody>\n",
       "    <tr>\n",
       "      <th>0.0</th>\n",
       "      <td>26797</td>\n",
       "      <td>9122</td>\n",
       "      <td>10058</td>\n",
       "    </tr>\n",
       "    <tr>\n",
       "      <th>1.0</th>\n",
       "      <td>4280</td>\n",
       "      <td>12275</td>\n",
       "      <td>3246</td>\n",
       "    </tr>\n",
       "    <tr>\n",
       "      <th>2.0</th>\n",
       "      <td>5376</td>\n",
       "      <td>4000</td>\n",
       "      <td>9252</td>\n",
       "    </tr>\n",
       "  </tbody>\n",
       "</table>\n",
       "</div>"
      ],
      "text/plain": [
       "true    0.0    1.0    2.0\n",
       "pred                     \n",
       "0.0   26797   9122  10058\n",
       "1.0    4280  12275   3246\n",
       "2.0    5376   4000   9252"
      ]
     },
     "metadata": {},
     "output_type": "display_data"
    },
    {
     "name": "stdout",
     "output_type": "stream",
     "text": [
      "Macro F1 Score: 0.548\n"
     ]
    }
   ],
   "source": [
    "display(pd.crosstab(preds_hard_voting.values,y,rownames=['pred'],colnames=['true']))\n",
    "score = f1_score(y_true=train_df4[target_feature],y_pred=preds_hard_voting.values,average='macro')\n",
    "print('Macro F1 Score: {:.3f}'.format(score))"
   ]
  },
  {
   "cell_type": "markdown",
   "id": "8ede19c6-7ee1-4865-a26b-918a862c4812",
   "metadata": {},
   "source": [
    "<br>"
   ]
  },
  {
   "cell_type": "markdown",
   "id": "999f7cee-27a6-4f1d-9ef1-09c068a81976",
   "metadata": {},
   "source": [
    "## Test dataset"
   ]
  },
  {
   "cell_type": "code",
   "execution_count": 35,
   "id": "589743f4-b431-4522-b4b7-30d8061673d0",
   "metadata": {},
   "outputs": [
    {
     "name": "stderr",
     "output_type": "stream",
     "text": [
      "100%|██████████| 10/10 [00:01<00:00,  7.72it/s]\n"
     ]
    }
   ],
   "source": [
    "pred_dict = {}\n",
    "i=0\n",
    "for model in tqdm(models):\n",
    "    i+=1\n",
    "    dataset = Pool(test_df4,cat_features=cat_features)\n",
    "    pred_dict[str(i)] = model.predict(dataset).flatten()"
   ]
  },
  {
   "cell_type": "code",
   "execution_count": 36,
   "id": "4987d500-c906-4d74-bbba-a56594943f0f",
   "metadata": {},
   "outputs": [
    {
     "name": "stderr",
     "output_type": "stream",
     "text": [
      "100%|██████████| 17289/17289 [00:03<00:00, 5195.74it/s]\n"
     ]
    }
   ],
   "source": [
    "preds_hard_voting = pd.DataFrame(pred_dict)\\\n",
    "    .progress_apply(lambda x: x.value_counts().sort_values(ascending=False).index.tolist()[0],axis=1)"
   ]
  },
  {
   "cell_type": "code",
   "execution_count": 37,
   "id": "c7a7087e-0e3b-4802-9477-26acc16c4ad9",
   "metadata": {},
   "outputs": [],
   "source": [
    "submit = pd.read_csv('./data/sample_submission.csv')\n",
    "submit['TARGET'] = preds_hard_voting\n",
    "submit['TARGET'] = submit['TARGET'].astype(float).astype(int)\n",
    "submit.to_csv('./out/submission_kfold10.csv',index=False)"
   ]
  },
  {
   "cell_type": "code",
   "execution_count": null,
   "id": "c87bce96-4e19-4554-a418-3de4bf7365f6",
   "metadata": {},
   "outputs": [],
   "source": []
  }
 ],
 "metadata": {
  "kernelspec": {
   "display_name": "Python 3",
   "language": "python",
   "name": "python3"
  },
  "language_info": {
   "codemirror_mode": {
    "name": "ipython",
    "version": 3
   },
   "file_extension": ".py",
   "mimetype": "text/x-python",
   "name": "python",
   "nbconvert_exporter": "python",
   "pygments_lexer": "ipython3",
   "version": "3.8.10"
  },
  "toc-autonumbering": true
 },
 "nbformat": 4,
 "nbformat_minor": 5
}
