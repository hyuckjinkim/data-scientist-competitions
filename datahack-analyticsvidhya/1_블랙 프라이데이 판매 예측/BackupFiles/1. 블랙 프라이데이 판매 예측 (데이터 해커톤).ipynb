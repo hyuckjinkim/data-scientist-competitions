{
 "cells": [
  {
   "cell_type": "markdown",
   "metadata": {
    "id": "C7Opz1eilyWi"
   },
   "source": [
    "--- \n",
    "\n",
    "# **코드 설명**\n",
    "\n",
    "---\n",
    "\n",
    "- 파 일 명 : 블랙 프라이데이 판매 예측 <br>\n",
    "- 시작날짜 : 2021.11.25 <br>\n",
    "- 수정날짜 : 2021.11.25 <br>\n",
    "- 작 성 자 : 김혁진 <br>\n",
    "- 작성주제 : DataHackaton / 블랙 프라이데이 판매 예측 <br>\n",
    "\n",
    "--- \n",
    "\n",
    "- **순서** <br>\n",
    "  0. 기본설정 <br>\n",
    "    0.0. Google Drive Mount <br>\n",
    "    0.1. GPU 사용 <br>\n",
    "    0.2. Import Modules <br>\n",
    "    0.3. Initial Values\n",
    "    0.4. Set Off the Warning <br>\n",
    "    0.5. User Defined Function <br>\n",
    "\n",
    "  1. Data Load <br>\n",
    "\n",
    "  2. EDA\n",
    "  \n",
    "---\n",
    "\n",
    "- **참조**\n",
    "\n",
    "  (1) 대회 홈페이지 : [DataHackaton](https://datahack.analyticsvidhya.com/contest/black-friday/#MySubmissions) <br>\n",
    "  (2) 하이퍼 파리미터 설명 : [Naver Blog](https://blog.naver.com/wideeyed/221333529176) <br>\n",
    "  (3) Class문 설명 : [Github](https://zzsza.github.io/development/2020/07/05/python-class/) <br>\n",
    "  (4) GPU 설정 : [Medium](https://medium.com/@am.sharma/lgbm-on-colab-with-gpu-c1c09e83f2af) <br>\n",
    "  (5) RAM 모두사용으로 세션다운 : [Tistory](https://somjang.tistory.com/entry/Google-Colab-%EC%9E%90%EC%A3%BC%EB%81%8A%EA%B8%B0%EB%8A%94-%EB%9F%B0%ED%83%80%EC%9E%84-%EB%B0%A9%EC%A7%80%ED%95%98%EA%B8%B0)\n",
    "\n",
    "---\n",
    "\n",
    "- **고려사항** <br>\n",
    "  (1) AutoEncoder로 파생변수 생성해보기\n",
    "\n",
    "---"
   ]
  },
  {
   "cell_type": "markdown",
   "metadata": {
    "id": "Y934Gjg1mHCY"
   },
   "source": [
    "># **0. 기본설정**"
   ]
  },
  {
   "cell_type": "markdown",
   "metadata": {},
   "source": [
    "### markdown : tabular left align"
   ]
  },
  {
   "cell_type": "code",
   "execution_count": 1,
   "metadata": {},
   "outputs": [
    {
     "data": {
      "text/html": [
       "<style>\n",
       "    table {float:left}\n",
       "</style>\n"
      ],
      "text/plain": [
       "<IPython.core.display.HTML object>"
      ]
     },
     "metadata": {},
     "output_type": "display_data"
    }
   ],
   "source": [
    "%%html\n",
    "<style>\n",
    "    table {float:left}\n",
    "</style>"
   ]
  },
  {
   "cell_type": "code",
   "execution_count": 2,
   "metadata": {
    "id": "XWLUxJdBlvcz"
   },
   "outputs": [
    {
     "data": {
      "text/html": [
       "<style>.container { width:80% !important; }</style>"
      ],
      "text/plain": [
       "<IPython.core.display.HTML object>"
      ]
     },
     "metadata": {},
     "output_type": "display_data"
    }
   ],
   "source": [
    "# # 0.0.1 Google Drive Mount\n",
    "# # (Google Drive 사용 시 설정)\n",
    "# from google.colab import drive\n",
    "# drive.mount('/content/drive', force_remount = True) # 새로운 창에서 key 를 받아서 입력해야합니다. \n",
    "\n",
    "# # 0.0.2. 쥬피터 노트북 화면 넓게 사용\n",
    "#출처: https://taehooh.tistory.com/entry/Jupyter-Notebook-주피터노트북-화면-넓게-쓰는방법 [블로그]\n",
    "from IPython.core.display import display, HTML \n",
    "display(HTML(\"<style>.container { width:80% !important; }</style>\"))\n",
    "\n",
    "# # 0.0.3. 메모리 에러\n",
    "# https://growingsaja.tistory.com/477"
   ]
  },
  {
   "cell_type": "code",
   "execution_count": null,
   "metadata": {
    "id": "dVnlAGV4mNpg"
   },
   "outputs": [],
   "source": [
    "# # 0.1. GPU 사용 (6분)\n",
    "# !git clone --recursive https://github.com/Microsoft/LightGBM\n",
    "# !mkdir build\n",
    "# %cd /content/LightGBM\n",
    "# !cmake -DUSE_GPU=1 #avoid ..\n",
    "# !make -j$(nproc)\n",
    "# !sudo apt-get -y install python-pip\n",
    "# !sudo -H pip install setuptools pandas numpy scipy scikit-learn -U\n",
    "# %cd /content/LightGBM/python-package"
   ]
  },
  {
   "cell_type": "code",
   "execution_count": null,
   "metadata": {
    "id": "1WCgOrI4mV9v"
   },
   "outputs": [],
   "source": [
    "# !pip uninstall pandas -y\n",
    "# !pip uninstall numpy  -y\n",
    "# !pip uninstall lightgbm -y\n",
    "\n",
    "# !pip install pandas==1.1.0\n",
    "# !pip install numpy==1.21.2\n",
    "# !pip install -U scikit-learn\n",
    "# !pip install lightgbm --install-option=--gpu\n",
    "\n",
    "# !pip install pandasql\n",
    "# !pip install seaborn\n",
    "# !pip install plotnine\n",
    "# !pip install pandasql"
   ]
  },
  {
   "cell_type": "code",
   "execution_count": 3,
   "metadata": {
    "id": "WH9SZ7U8mXYP",
    "scrolled": true
   },
   "outputs": [],
   "source": [
    "# 0.2. Import Modules\n",
    "\n",
    "# jupyter notebook 전용\n",
    "from tqdm.notebook import tqdm\n",
    "\n",
    "import pandas as pd\n",
    "import numpy as np\n",
    "# from tqdm import tqdm\n",
    "import warnings\n",
    "import random\n",
    "import os\n",
    "import time\n",
    "\n",
    "from collections import Counter as cnt\n",
    "\n",
    "# plotting\n",
    "import seaborn as sns\n",
    "sns.set(rc={'figure.figsize':(11.7, 8.27)})\n",
    "sns.set_style('whitegrid')\n",
    "\n",
    "import matplotlib.pyplot as plt\n",
    "%matplotlib inline\n",
    "plt.rcParams['figure.figsize'] = [11.7, 8.27] # [15, 10] # [11.7,8.27] - A4 size\n",
    "\n",
    "from plotnine import *\n",
    "from pandasql import sqldf\n",
    "sql = lambda q: sqldf(q, globals())\n",
    "\n",
    "# modeling\n",
    "from sklearn.linear_model import LinearRegression\n",
    "from sklearn.ensemble import RandomForestClassifier\n",
    "from sklearn.preprocessing import MinMaxScaler\n",
    "# import lightgbm\n",
    "# !pip install lightgbm --install-option=--gpu --install-option=\"--opencl-include-dir=/usr/local/cuda/include/\" --install-option=\"--opencl-library=/usr/local/cuda/lib64/libOpenCL.so\""
   ]
  },
  {
   "cell_type": "code",
   "execution_count": 9,
   "metadata": {
    "id": "81fFYpfcmaNn"
   },
   "outputs": [],
   "source": [
    "# 0.3. Initial Values\n",
    "SEED = 777\n",
    "\n",
    "# jupyter.notebook : 'os.getcwd() + '/DAT/블랙 프라이데이 판매 예측/''\n",
    "# google.colab : '/content/drive/MyDrive/Python/4. 블랙프라이데이 판매예측/DAT/'\n",
    "DATA_PATH = os.getcwd() + '/DAT/1. 블랙 프라이데이 판매 예측(데이터 해커톤)/'\n",
    "SCALE = False"
   ]
  },
  {
   "cell_type": "code",
   "execution_count": 5,
   "metadata": {
    "id": "ZUVSryAKmhPf"
   },
   "outputs": [],
   "source": [
    "# 0.4. Set Off the Warning\n",
    "pd.set_option('mode.chained_assignment', None)\n",
    "warnings.filterwarnings(action='ignore')"
   ]
  },
  {
   "cell_type": "code",
   "execution_count": 6,
   "metadata": {
    "id": "wPuSMIUKmjv_"
   },
   "outputs": [],
   "source": [
    "# 0.5. User Defined Function\n",
    "# 0.5.1. Seed Fix\n",
    "def seed_everything(seed: int = 1):\n",
    "    random.seed(seed)\n",
    "    np.random.seed(seed)\n",
    "    os.environ[\"PYTHONHASHSEED\"] = str(seed)\n",
    "    # torch.manual_seed(seed)\n",
    "    # torch.cuda.manual_seed(seed)  # type: ignore\n",
    "    # torch.backends.cudnn.deterministic = True  # type: ignore\n",
    "    # torch.backends.cudnn.benchmark = True  # type: ignore\n",
    "    \n",
    "seed_everything(SEED)\n",
    "\n",
    "# 0.5.2. View all columns\n",
    "def View(data):\n",
    "\n",
    "    pd.set_option('display.max_rows', 500)\n",
    "    pd.set_option('display.max_columns', 500)\n",
    "    pd.set_option('display.width', 1000)\n",
    "    \n",
    "    print(data)\n",
    "\n",
    "    pd.set_option('display.max_rows', 0)\n",
    "    pd.set_option('display.max_columns', 0)\n",
    "    pd.set_option('display.width', 0)\n",
    "\n",
    "# 0.5.3. minmax function\n",
    "def minmax(x):\n",
    "    return min(x),max(x)\n",
    "\n",
    "# 0.5.4. 컬럼dict에서 target 제거\n",
    "def removekey(dict, key):\n",
    "    tmp = dict.copy()\n",
    "    del tmp[key]\n",
    "    return tmp\n",
    "\n",
    "# 0.5.5. 각 컬럼의 missing 개수를 파악하는 함수\n",
    "def missing_column_check(data):\n",
    "    num_na = []\n",
    "    for col_nm in data.columns:\n",
    "        data[col_nm] = data[col_nm].astype(COL_TYPE[col_nm])\n",
    "\n",
    "    # str인 경우에는 blank(공백)도 있는지 확인\n",
    "    if COL_TYPE[col_nm]=='str':\n",
    "        num_na_x = data[col_nm].str.strip().isnull().sum() + sum(data[col_nm].str.strip()=='')\n",
    "    \n",
    "    # numeric인 경우에는 null의 개수만 확인\n",
    "    else:\n",
    "        num_na_x = data[col_nm].isnull().sum()\n",
    "    \n",
    "    num_na = num_na + [num_na_x]\n",
    "\n",
    "    return(num_na)"
   ]
  },
  {
   "cell_type": "code",
   "execution_count": 7,
   "metadata": {
    "id": "E59m4pv0mlb3"
   },
   "outputs": [
    {
     "name": "stdout",
     "output_type": "stream",
     "text": [
      "3.8.8 (default, Apr 13 2021, 15:08:03) [MSC v.1916 64 bit (AMD64)]\n"
     ]
    }
   ],
   "source": [
    "# 최근버전 확인\n",
    "import sys\n",
    "print(sys.version)"
   ]
  },
  {
   "cell_type": "markdown",
   "metadata": {
    "id": "2OWzPjCEvQmb"
   },
   "source": [
    "># **1. Data Load**"
   ]
  },
  {
   "cell_type": "markdown",
   "metadata": {},
   "source": [
    "|변수명 | 변수정보 |\n",
    "|:---:|:---|\n",
    "| User_ID | 사용자 ID |\n",
    "| Product_ID | 제품 ID |\n",
    "| Gender | 사용자의 성별 |\n",
    "| Age | 나이(구간) |\n",
    "| Occupation | 직업(마스킹됨) |\n",
    "| City_Category | 도시의 범주(A,B,C) |\n",
    "| Stay_In_Current_City_Years | 현재 도시에 체류한 기간 |\n",
    "| Marital_Status | 결혼 여부 |\n",
    "| Product_Category_1 | 제품 카테고리 (마스킹됨) |\n",
    "| Product_Category_2 | 제품 카테고리2 (마스킹됨,다른 카테고리에도 속할 수 있음) |\n",
    "| Product_Category_3 | 제품 카테고리3 (마스킹됨,다른 카테고리에도 속할 수 있음) |\n",
    "| Purchase | 구매금액(Target) |"
   ]
  },
  {
   "cell_type": "code",
   "execution_count": 11,
   "metadata": {
    "id": "uEbXku8RmnAH",
    "scrolled": true
   },
   "outputs": [
    {
     "data": {
      "text/plain": [
       "'C:\\\\Users\\\\My/DAT/1. 블랙 프라이데이 판매 예측(데이터 해커톤)/train.csv'"
      ]
     },
     "execution_count": 11,
     "metadata": {},
     "output_type": "execute_result"
    }
   ],
   "source": [
    "# column type 변환\n",
    "DTYPE_DICT = {\n",
    "    'User_ID'                     : str,\n",
    "    'Product_ID'                  : str,\n",
    "    'Gender'                      : str,\n",
    "    'Age'                         : str,\n",
    "    'Occupation'                  : str,\n",
    "    'City_Category'               : str,\n",
    "    'Stay_In_Current_City_Years'  : str,\n",
    "    'Marital_Status'              : str,\n",
    "    'Product_Category_1'          : str,\n",
    "    'Product_Category_2'          : str,\n",
    "    'Product_Category_3'          : str,\n",
    "    'Purchase'                    : float\n",
    "}\n",
    "\n",
    "# Train Data Load (550,068 rows, 12 columns)\n",
    "train = pd.read_csv(DATA_PATH + \"train.csv\", dtype = DTYPE_DICT)\n",
    "train\n",
    "\n",
    "# DATA_PATH + \"train.csv\""
   ]
  },
  {
   "cell_type": "code",
   "execution_count": null,
   "metadata": {
    "id": "FEw7TTfjWf98"
   },
   "outputs": [],
   "source": [
    "# Product_Category_2, 3은 null값이 있음\n",
    "train.info()"
   ]
  },
  {
   "cell_type": "code",
   "execution_count": null,
   "metadata": {
    "id": "7D3kH0mW3TxT"
   },
   "outputs": [],
   "source": [
    "# Test Data Load (233,599 rows, 11 columns - without target)\n",
    "test = pd.read_csv(DATA_PATH + 'test.csv', dtype = removekey(DTYPE_DICT,'Purchase'))\n",
    "test"
   ]
  },
  {
   "cell_type": "markdown",
   "metadata": {
    "id": "CQcgNq4YvtSJ"
   },
   "source": [
    "<br> </br>\n",
    "\n",
    "># **2. EDA (1-Dimension)**\n",
    "\n",
    "## 2.1. Overall View\n",
    "\n",
    "### 2.1.1. vs oneself : Target인 Purchase를 제외하고는 모두 Categorical 변수 → Count 확인"
   ]
  },
  {
   "cell_type": "code",
   "execution_count": null,
   "metadata": {
    "scrolled": true
   },
   "outputs": [],
   "source": [
    "# 기존 max_rows\n",
    "org_max_r = 60\n",
    "\n",
    "# 각 변수 level 별 count/mean_count 확인\n",
    "pd.set_option('max_rows',4)\n",
    "for iter,col in enumerate(train.columns[:-1]):\n",
    "    cnt = train[col].value_counts(dropna=False).reset_index()  # NA포함 count\n",
    "    d   = pd.DataFrame({col : cnt['index'],'CNT' : cnt[col]})  # to DataFrame\n",
    "  \n",
    "    d['mean'] = str(round(d['CNT'].agg(np.mean),1))            # mean of counts\n",
    "    d['mean'][1:] = ''\n",
    "\n",
    "    print('-'*60, '\\n', d)\n",
    "    del d\n",
    "\n",
    "pd.set_option('max_rows',org_max_r)"
   ]
  },
  {
   "cell_type": "markdown",
   "metadata": {},
   "source": [
    "|변수명|설명|\n",
    "|:---:|:---|\n",
    "|User_ID | 최대 1,026번이나 구매한 사람이 있고, 평균적으로 93번정도 구매했음|\n",
    "|Product_ID | 최대 1,880번이나 구매된 제품이 있고, 평균적으로 151번정도 구매됨|\n",
    "|Gender | 남자가 75.3%, 여자가 24.7% -> 많이/적게 산 제품의 남녀 비중 확인|\n",
    "|Age | 26-35세, 36-45세 가 많았음. -> 위와 동일|\n",
    "|Occupation | 마스킹이 제대로 되어, 순서에 의미가 없음 -> 많이/적게 산 직업의 구매비중이 높/낮은지, 구매금액이 높/낮은지 확인|\n",
    "|City_Category | 은 B,C,A순으로 구매가 많음 -> 위와 동일|\n",
    "|Stay_In_Current_City_Years | 적게 살았을수록 구매회수가 많고, 적게 살았을수록 구매회수가 적음 -> 초기에 살 때 많이 사야하는 품목들이 많은 것으로 보임|\n",
    "|Marital_Satatus | 미혼인 경우 구매회수가 많음 (59.0%)|\n",
    "|Product_Category | 제품 카테고리도 마스킹이 제대로 되어, 순서에 의미가 없음|"
   ]
  },
  {
   "cell_type": "markdown",
   "metadata": {},
   "source": [
    "<br> </br>\n",
    "### 2.1.2. vs Target : 전체적인 산점도 확인 (Categorical 이더라도 Purchase간의 관계확인)"
   ]
  },
  {
   "cell_type": "code",
   "execution_count": null,
   "metadata": {
    "scrolled": false
   },
   "outputs": [],
   "source": [
    "# 전체적으로 보기 위해, pairplot을 사용\n",
    "pairplot_df = train.copy()\n",
    "\n",
    "# 필요없는 변수 제거\n",
    "for del_col in ['User_ID','Product_ID','Product_Category_2','Product_Category_3']:\n",
    "    del pairplot_df[del_col]\n",
    "\n",
    "# str -> int 변환\n",
    "for col_str2int in pairplot_df.columns:\n",
    "    pairplot_df[col_str2int] = pairplot_df[col_str2int].astype('category').cat.codes\n",
    "\n",
    "# pairplot\n",
    "sns.pairplot(pairplot_df,\n",
    "             x_vars=['Gender','Age','Occupation','City_Category','Stay_In_Current_City_Years','Marital_Status','Product_Category_1'],\n",
    "             y_vars=['Purchase'])"
   ]
  },
  {
   "cell_type": "markdown",
   "metadata": {},
   "source": [
    "- 전체적으로 Purchase 값의 최소,최대값이 각 변수마다 차이가 나지않는 것으로 보임 (pairplot으로는 상세하게 확인하기 힘드니, 아래에서 상세하게 확인)\n",
    "- Product_Category_1은 값이 각 값마다 구간별로 흩어져 있는 것 같은데.. 확인필요함"
   ]
  },
  {
   "cell_type": "markdown",
   "metadata": {},
   "source": [
    "<br> </br>\n",
    "## 2.2. Categorical Variable"
   ]
  },
  {
   "cell_type": "markdown",
   "metadata": {
    "id": "VzpGncF3z_KA"
   },
   "source": [
    "### 2.2.1. User_ID"
   ]
  },
  {
   "cell_type": "code",
   "execution_count": null,
   "metadata": {
    "id": "gPyqryoorjJA"
   },
   "outputs": [],
   "source": [
    "# 1. 사용자   - 5,891명 (최소,최대) : (6,1026)번 구매함\n",
    "#               한명의 사람이 많이 구매하는 경우가 있음\n",
    "#               구매 회수는 포아송분포랑 비슷한 것 같음\n",
    "\n",
    "print('전체 구매자 수 :',train['User_ID'].value_counts().count(), '명\\n')\n",
    "\n",
    "# (1) Q0 ~ Q4\n",
    "print('Q0-Q4 : ',\n",
    "      train['User_ID'].value_counts().quantile([0,0.25,0.50,0.75,1]).values)\n",
    "\n",
    "# (2) Q3보다 많이 구매한 사람은 1467명\n",
    "q1_q3 = train['User_ID'].value_counts().quantile([0.25,0.75]).values\n",
    "\n",
    "print('Q1보다 적게 구매한 사람 :',\n",
    "      train['User_ID'].value_counts()[train['User_ID'].value_counts()<q1_q3[0]].shape[0], '명')\n",
    "print('Q3보다 많이 구매한 사람 :',\n",
    "      train['User_ID'].value_counts()[train['User_ID'].value_counts()>q1_q3[1]].shape[0], '명')\n",
    "print('(수리통계학적으로 Q1~Q3는 50%)\\n')\n",
    "\n",
    "# (3) upper whisker보다 많이 구매한 사람은 473명\n",
    "from matplotlib.cbook import boxplot_stats\n",
    "stats = boxplot_stats(train['User_ID'].value_counts())[0]\n",
    "print('Lower/Upper Whisker :',stats['whislo'], stats['whishi'])\n",
    "\n",
    "print('Upper Whisker보다 많이 구매한 사람 :',\n",
    "      train['User_ID'].value_counts()[train['User_ID'].value_counts()>stats['whishi']].shape[0],\n",
    "      '(',round(train['User_ID'].value_counts()[train['User_ID'].value_counts()>stats['whishi']].shape[0]/train['User_ID'].value_counts().count(),3)*100,'%)')\n",
    "\n",
    "# boxplot\n",
    "def box_hist_plot(val):\n",
    "    f, (ax_box, ax_hist) = plt.subplots(2, sharex=True, \n",
    "                                    gridspec_kw={\"height_ratios\": (.15, .85)})\n",
    "\n",
    "    sns.boxplot(val, ax=ax_box)\n",
    "    sns.distplot(val, ax=ax_hist)\n",
    "\n",
    "    ax_box.set(yticks=[])\n",
    "    sns.despine(ax=ax_hist)\n",
    "    sns.despine(ax=ax_box, left=True)\n",
    "    \n",
    "box_hist_plot(train['User_ID'].value_counts())\n",
    "plt.axvline(x=stats['whishi'], color='r', linestyle=':')\n",
    "plt.show()"
   ]
  },
  {
   "cell_type": "markdown",
   "metadata": {
    "id": "1UO8ChV15QOs"
   },
   "source": [
    "### 2.2.2. Product_ID"
   ]
  },
  {
   "cell_type": "code",
   "execution_count": null,
   "metadata": {},
   "outputs": [],
   "source": [
    "tmp = train.copy()\n",
    "\n",
    "# 첫째자리는 P로 동일함\n",
    "print('첫째 자리 :',cnt([x[0] for x in tmp['Product_ID']]), '\\n')\n",
    "\n",
    "# 8,9자리가 있음\n",
    "tmp['Product_ID_len'] = [len(x) for x in tmp['Product_ID']]\n",
    "print('전체 글자 수 :\\n',tmp['Product_ID_len'].value_counts(), '\\n')\n",
    "\n",
    "# P00123456로 유추됨!"
   ]
  },
  {
   "cell_type": "code",
   "execution_count": null,
   "metadata": {
    "scrolled": true
   },
   "outputs": [],
   "source": [
    "# 8자리의 substr(2,4)은 모두 00,\n",
    "# 9자리의 substr(2,4)도 모두 00\n",
    "\n",
    "# 앞에서 부터\n",
    "for i in range(1,9):\n",
    "    \n",
    "    cnt_x = pd.DataFrame([x [i:i+2] for x in tmp['Product_ID'][tmp['Product_ID_len']==8]]).value_counts().count()\n",
    "    cnt_y = pd.DataFrame([x [i:i+2] for x in tmp['Product_ID'][tmp['Product_ID_len']==9]]).value_counts().count()\n",
    "    \n",
    "    if cnt_x<10 and cnt_y<10:\n",
    "    \n",
    "        print('='*80,'i=',i,'\\n',\n",
    "              pd.DataFrame([x [i:i+2] for x in tmp['Product_ID'][tmp['Product_ID_len']==8]]).value_counts(),'\\n','-'*80,'\\n',\n",
    "              pd.DataFrame([x [i:i+2] for x in tmp['Product_ID'][tmp['Product_ID_len']==9]]).value_counts())"
   ]
  },
  {
   "cell_type": "code",
   "execution_count": null,
   "metadata": {
    "scrolled": true
   },
   "outputs": [],
   "source": [
    "# 뒤에서 부터\n",
    "for i in range(0,10):\n",
    "    \n",
    "#     if i==1:\n",
    "#         print('i=',i,'P00123456'[-2:])\n",
    "#     else:\n",
    "#         print('i=',i,'P00123456'[-i:-i+2])\n",
    "\n",
    "    if i==1:\n",
    "        \n",
    "        cnt_x = pd.DataFrame([x [-2:] for x in tmp['Product_ID'][tmp['Product_ID_len']==8]]).value_counts().count()\n",
    "        cnt_y = pd.DataFrame([x [-2:] for x in tmp['Product_ID'][tmp['Product_ID_len']==9]]).value_counts().count()\n",
    "        \n",
    "        if cnt_x<10 and cnt_y<10:\n",
    "        \n",
    "            print('='*80,'i=',i,'\\n',\n",
    "                  pd.DataFrame([x [-2:] for x in tmp['Product_ID'][tmp['Product_ID_len']==8]]).value_counts(),'\\n','-'*80,'\\n',\n",
    "                  pd.DataFrame([x [-2:] for x in tmp['Product_ID'][tmp['Product_ID_len']==9]]).value_counts())\n",
    "    else:\n",
    "        \n",
    "        cnt_x = pd.DataFrame([x [-i:-i+2] for x in tmp['Product_ID'][tmp['Product_ID_len']==8]]).value_counts().count()\n",
    "        cnt_y = pd.DataFrame([x [-i:-i+2] for x in tmp['Product_ID'][tmp['Product_ID_len']==9]]).value_counts().count()\n",
    "        \n",
    "        if cnt_x<10 and cnt_y<10:\n",
    "\n",
    "            print('='*80,'i=',i,'\\n',\n",
    "            pd.DataFrame([x [-i:-i+2] for x in tmp['Product_ID'][tmp['Product_ID_len']==8]]).value_counts(),'\\n','-'*80,'\\n',\n",
    "            pd.DataFrame([x [-i:-i+2] for x in tmp['Product_ID'][tmp['Product_ID_len']==9]]).value_counts())"
   ]
  },
  {
   "cell_type": "markdown",
   "metadata": {},
   "source": [
    "- 앞/뒤로 2자리 씩 봤을 때, P 이후에 0을 넣어주는게 제일 알맞아보임\n",
    "- 이렇게하면, Product_ID의 형태는 'P00123456'의 형태로 보임 (숫자가 커지면 'P12345678'으로 바뀔 것으로 예상)"
   ]
  },
  {
   "cell_type": "code",
   "execution_count": null,
   "metadata": {},
   "outputs": [],
   "source": [
    "# 맨앞자리에 0을 넣어줌\n",
    "tmp['Product_ID'][tmp['Product_ID_len']==8] = [x[0] + '0' + x[1:] for x in tmp['Product_ID'][tmp['Product_ID_len']==8]]"
   ]
  },
  {
   "cell_type": "markdown",
   "metadata": {},
   "source": [
    "<br> </br>\n",
    "Product_ID를 수정한 이후, i번째 자리에서의 k자리 조합을 확인 (특별하게 부여된 패턴이 있는지 확인) \\\n",
    "위와는 다르게, 굳이 모든 패턴을 다 볼 필요는 없고, Freq만 확인 \\\n",
    "(Product_Category_1이 20가지인데, 이 이상이 되는 건 확인하지 않기로 함)"
   ]
  },
  {
   "cell_type": "code",
   "execution_count": null,
   "metadata": {},
   "outputs": [],
   "source": [
    "# P00123456의 형태\n",
    "n_total = 0\n",
    "for k in range(2,7):      # 2~7자리 조합\n",
    "    print('-'*50,'k=',k)\n",
    "    for i in range(2,9-k+1):  # 1~6번째 자리\n",
    "        \n",
    "        freq = pd.DataFrame([x [i:i+k] for x in tmp['Product_ID']]).value_counts().shape[0]\n",
    "        \n",
    "        n_total += +1\n",
    "        blank = ' ' if n_total < 10 else ''\n",
    "        \n",
    "        print(f'n_total={n_total} {blank}/ i,k,freq = {i},{k},{freq}')\n",
    "        \n",
    "        if n_total == 6+5+4+3+2:\n",
    "            print('-'*50)"
   ]
  },
  {
   "cell_type": "markdown",
   "metadata": {},
   "source": [
    "나눠볼만한 Cases : [i,k,cases] = \n",
    "- 2자리 : [2,2,4 case],[6,2,13 case],[7,2,6 case] \n",
    "- 3자리 : [6,3,15 case] "
   ]
  },
  {
   "cell_type": "code",
   "execution_count": null,
   "metadata": {},
   "outputs": [],
   "source": [
    "tmp['Product_ID_34'] = [x[2:4] for x in tmp['Product_ID']]\n",
    "tmp['Product_ID_78'] = [x[6:8] for x in tmp['Product_ID']]\n",
    "tmp['Product_ID_89'] = [x[7:9] for x in tmp['Product_ID']] # 딱 나뉨 : 대부분 42라서 그럼\n",
    "tmp['Product_ID_79'] = [x[6:9] for x in tmp['Product_ID']]\n",
    "\n",
    "pd.crosstab(tmp['Product_ID_89'],tmp['Product_Category_1'].fillna('-999'))"
   ]
  },
  {
   "cell_type": "markdown",
   "metadata": {},
   "source": [
    "#"
   ]
  },
  {
   "cell_type": "code",
   "execution_count": null,
   "metadata": {},
   "outputs": [],
   "source": [
    "plt.scatter(train['Product_Category_1'].astype('category').cat.codes,\n",
    "            train['Purchase'],\n",
    "            s = 3)\n",
    "\n",
    "\n",
    "plt.axhline(5500, color='red', linestyle=':', linewidth=2)"
   ]
  },
  {
   "cell_type": "code",
   "execution_count": null,
   "metadata": {},
   "outputs": [],
   "source": [
    "sub = train[[x=='1' for x in train['Product_Category_1']]]\n",
    "\n",
    "# 1번 카테고리 그룹\n",
    "sub_1 = sub[[            x<5000  for x in sub['Product_Category_1'].astype(int)]]\n",
    "sub_2 = sub[[x>5000  and x<10000 for x in sub['Product_Category_1'].astype(int)]]\n",
    "sub_3 = sub[[x>10000 and x<15000 for x in sub['Product_Category_1'].astype(int)]]\n",
    "sub_4 = sub[[x>15000 and x<17500 for x in sub['Product_Category_1'].astype(int)]]\n",
    "sub_5 = sub[[x>17500             for x in sub['Product_Category_1'].astype(int)]]\n",
    "\n",
    "# 2번 카테고리 그룹, ...\n",
    "\n",
    "for iter in range(1,6):\n",
    "    if len(eval(f'sub_{iter}')['Product_Category_2'].value_counts()) > 0:\n",
    "        print(display(pd.crosstab(eval(f'sub_{iter}')['Product_Category_1'], \n",
    "                                  eval(f'sub_{iter}')['Product_Category_2'].fillna('missing'),\n",
    "                                  margins = True)))"
   ]
  },
  {
   "cell_type": "code",
   "execution_count": null,
   "metadata": {
    "id": "-FJ9QnOW6jpS"
   },
   "outputs": [],
   "source": [
    "# Purchase 변수에 대해서 histgram + density plot\n",
    "def density_plot(data, var, binwidth, hue = None):\n",
    "\n",
    "    from matplotlib.ticker import PercentFormatter\n",
    "\n",
    "    fig, ax1 = plt.subplots()\n",
    "    sns.histplot(data = data, x = var, hue = hue,\n",
    "                 kde = True, stat = 'probability', \n",
    "                 color = 'lightskyblue', label = 'Probabilities',\n",
    "                 binwidth = binwidth, ax = ax1,)\n",
    "    ax2 = ax1.twinx()\n",
    "    sns.kdeplot(data = data, x = var, hue = hue,\n",
    "                color = 'red', label = 'kde density',\n",
    "                lw = 2, ax = ax2)\n",
    "    ax2.set_ylim(0, ax1.get_ylim()[1] / binwidth)                  # similir limits on the y-axis to align the plots\n",
    "    ax2.yaxis.set_major_formatter(PercentFormatter(1 / binwidth))  # show axis such that 1/binwidth corresponds to 100%\n",
    "\n",
    "# 어려 분포가 섞여있는걸로 보임\n",
    "# > 대락 8000, 15500, 19000 쯤에 평균을 가지는 mixed normal dist.\n",
    "# > 1) 평균 : 8000 , 범위 : 8000\n",
    "# > 2) 평균 : 15500, 범위 :  \n",
    "density_plot(train, var='Purchase', binwidth = 1000)"
   ]
  },
  {
   "cell_type": "code",
   "execution_count": null,
   "metadata": {
    "id": "0kBkxakpACrc",
    "scrolled": true
   },
   "outputs": [],
   "source": [
    "# mix된 분포를 나누기 위해, 그룹핑해서 볼 변수들\n",
    "group_var = ['Gender','Age','Occupation','City_Category','Stay_In_Current_City_Years','Marital_Status']\n",
    "\n",
    "for iter,var in enumerate(tqdm(group_var, position=0, leave=True)):\n",
    "    g = sns.FacetGrid(data=train, hue=var, height=5, aspect = 2)\n",
    "    g = g.map(sns.kdeplot, 'Purchase', shade=False)\n",
    "    g.add_legend()\n",
    "    g.fig.suptitle(str(iter+1) + '. ' + var, fontsize = 25, y = 1.05)\n",
    "    \n",
    "    print(g, '\\n')\n",
    "    del g\n",
    "\n",
    "# => 나뉘지 않음"
   ]
  },
  {
   "cell_type": "code",
   "execution_count": null,
   "metadata": {
    "id": "BGgFx_Z5IleX"
   },
   "outputs": [],
   "source": [
    "# Product_Category_1로 나눠보기\n",
    "# _2, _3은 missing이 많아서..\n",
    "\n",
    "# # fig, ax1 = plt.subplots(1)\n",
    "\n",
    "# # 전체\n",
    "# p = sns.FacetGrid(data=train, hue=None, height=5, aspect = 2) #, col_wrap = 2)\n",
    "# p.map(sns.kdeplot, 'Purchase', shade=False, alpha = 0.5, linewidth = 5, ax = ax1).set(yscale = 'log')\n",
    "\n",
    "iter_list = [str(x) for x in list(range(0,21))[1:]]\n",
    "for iter in range(0,5):\n",
    "\n",
    "    iter_list_x = iter_list[4*iter:4*iter+4]\n",
    "    sub = train[[x in iter_list_x for x in train['Product_Category_1'].values]]\n",
    "\n",
    "    g = sns.FacetGrid(data=sub, hue='Product_Category_1', height=5, aspect = 2) #, col_wrap = 2)\n",
    "    g.map(sns.kdeplot, 'Purchase', shade=False, alpha = 0.5, ax = ax1).set(yscale = 'log')\n",
    "    g.add_legend()\n",
    "    g.fig.suptitle('Product_Category_1', fontsize = 25, y = 1.05)\n",
    "\n",
    "    \n",
    "# 14,15,16 and 6,7 (x범위 고려o)\n",
    "# ..."
   ]
  },
  {
   "cell_type": "code",
   "execution_count": null,
   "metadata": {
    "id": "T7RIrZPYjont"
   },
   "outputs": [],
   "source": [
    "# 제품구분 별 boxplot\n",
    "sub = train.copy()\n",
    "sub['Product_Category_1'] = sub['Product_Category_1'].astype(int)\n",
    "\n",
    "p1 = sns.boxplot(x='Product_Category_1',y='Purchase',data=sub)\n",
    "\n",
    "vls = [8000, 15500, 19000]\n",
    "for vl in vls:\n",
    "    p1 = plt.axhline(y=vl, color='r', linestyle='--', alpha=0.7)"
   ]
  },
  {
   "cell_type": "code",
   "execution_count": null,
   "metadata": {
    "id": "1xLe9nx9nnLT"
   },
   "outputs": [],
   "source": [
    "import math\n",
    "# train['Product_Category_1'].value_counts()\n",
    "\n",
    "sub = train.copy()\n",
    "sub['Product_Category_1'] = sub['Product_Category_1'].astype(int)\n",
    "sub['Product_Category_2'] = sub['Product_Category_2'].fillna('-999').astype(int)\n",
    "sub['Product_Category_3'] = sub['Product_Category_3'].fillna('-999').astype(int)\n",
    "\n",
    "not_nan_val_2 = [x!=-999 for x in train['Product_Category_2'].fillna('-999').astype(int)]\n",
    "pd.crosstab(sub['Product_Category_1'][not_nan_val_2], sub['Product_Category_2'][not_nan_val_2].fillna(-999))\n",
    "\n",
    "not_nan_val_3 = [x!=-999 for x in train['Product_Category_3'].fillna('-999').astype(int)]\n",
    "pd.crosstab(sub['Product_Category_1'][not_nan_val_3], sub['Product_Category_3'][not_nan_val_3].fillna(-999))"
   ]
  },
  {
   "cell_type": "code",
   "execution_count": null,
   "metadata": {
    "id": "HB6Yteh8YOvQ"
   },
   "outputs": [],
   "source": [
    "print(train['Product_Category_1'].value_counts())"
   ]
  },
  {
   "cell_type": "code",
   "execution_count": null,
   "metadata": {
    "id": "45WTr5KmWz9n"
   },
   "outputs": [],
   "source": [
    "from sklearn.cluster import KMeans \n",
    "\n",
    "# k-means clustering 실행\n",
    "kmeans = KMeans(n_clusters=3)\n",
    "kmeans.fit(pd.DataFrame(train['Product_Category_1'],train['Purchase']))\n",
    "\n",
    "kmeans.labels_\n",
    "\n",
    "train['Product_Category_1_subgroup'] = kmeans.labels_\n",
    "\n",
    "pd.crosstab(train['Product_Category_1'].astype(int),train['Product_Category_1_subgroup'].astype(int))"
   ]
  },
  {
   "cell_type": "code",
   "execution_count": null,
   "metadata": {
    "id": "EAbu4IpZzJOI"
   },
   "outputs": [],
   "source": [
    "sub = train.copy()\n",
    "sub['Product_Category_1'] = sub['Product_Category_1'].astype(int)\n",
    "\n",
    "ggplot(aes(x='Product_Category_1',y='Purchase',color='Gender'), data = sub) +\\\n",
    "  geom_point()\n",
    "\n",
    "# plt.scatter(sub['Product_Category_1'],sub['Purchase'])"
   ]
  },
  {
   "cell_type": "markdown",
   "metadata": {
    "id": "9sgRfjSG6rS2"
   },
   "source": [
    "<br></br>\n",
    "\n",
    "* Continuous Variable : Purchase"
   ]
  },
  {
   "cell_type": "markdown",
   "metadata": {},
   "source": [
    "#"
   ]
  },
  {
   "cell_type": "code",
   "execution_count": null,
   "metadata": {
    "id": "IguZgnF0H9Fl"
   },
   "outputs": [],
   "source": [
    "# 위에서 정확하게 보지못한 변수들을 bar plot으로 확인\n",
    "plot_col = ['Age', 'Occupation', 'City_Category', 'Stay_In_Current_City_Years', 'Product_Category_1', 'Product_Category_2', 'Product_Category_3']\n",
    "plot_df  = train[plot_col]\n",
    "\n",
    "# 각 변수별 level별 barplot\n",
    "for iter,col in enumerate(plot_col):\n",
    "\n",
    "    # na값을 'NA'로 변환\n",
    "    null_idx = plot_df[col].isnull()\n",
    "    plot_df[col][null_idx] = 'NA'\n",
    "\n",
    "    # count 계산\n",
    "    cnt = plot_df[col].value_counts(dropna=False).reset_index()\n",
    "    d   = pd.DataFrame({col : cnt['index'],\n",
    "                      'CNT' : cnt[col]})\n",
    "\n",
    "    # barplot\n",
    "    plt.figure()\n",
    "    plt.bar(d[col],d['CNT'])\n",
    "    plt.title(str(iter+1) + ' : '+col, fontsize = 20, loc = 'left')\n",
    "    plt.show()\n",
    "    print('\\n')"
   ]
  },
  {
   "cell_type": "code",
   "execution_count": null,
   "metadata": {
    "id": "2hSkoT-W0y1r"
   },
   "outputs": [],
   "source": [
    "# q1보다크면 1, q2보다 크면 2, q3보다크면 3"
   ]
  },
  {
   "cell_type": "markdown",
   "metadata": {},
   "source": [
    "### Product_ID vs Else"
   ]
  },
  {
   "cell_type": "code",
   "execution_count": null,
   "metadata": {},
   "outputs": [],
   "source": [
    "# 이전 카테고리2와 동일하면 입력안하는 시스템일 수도 있음\n",
    "tmp = train.copy()\n",
    "\n",
    "# user_id + product_id = unique\n",
    "tmp['product_by_user'] = tmp['User_ID'] + '_' + tmp['Product_ID']\n",
    "tmp.groupby(['product_by_user'])['product_by_user'].count()\n",
    "\n",
    "# isnan의 개수에 대한 tabular\n",
    "tmp['isnan_cate2'] = [x=='-999' for x in tmp['Product_Category_2'].fillna('-999')]\n",
    "nan_tbl = pd.crosstab(tmp['User_ID'],tmp['isnan_cate2']).reset_index()\n",
    "\n",
    "# False(nan이 아닌) 개수가 1미만(=0)은 없음\n",
    "sum(nan_tbl[False]<1), sum(nan_tbl[True]<1)"
   ]
  },
  {
   "cell_type": "code",
   "execution_count": null,
   "metadata": {
    "scrolled": true
   },
   "outputs": [],
   "source": [
    "# nan이 없는 것들을 살펴보면\n",
    "nan_tbl[nan_tbl[True]<1]\n",
    "\n",
    "tmp[tmp['User_ID']==nan_tbl['User_ID'][3]]\\\n",
    "    [['User_ID','Product_ID','Product_Category_2']]\n",
    "\n",
    "# 뭔가 그런패턴을 알아볼수있는지 잘모르겠음"
   ]
  },
  {
   "cell_type": "markdown",
   "metadata": {},
   "source": [
    "### 파생변수 생성"
   ]
  },
  {
   "cell_type": "code",
   "execution_count": null,
   "metadata": {
    "id": "CvBGUPdA0qFL"
   },
   "outputs": [],
   "source": [
    "# 파생변수\n",
    "\n",
    "def new_feature_fn(data):\n",
    "    data['n_purchase'] = data.groupby('User_ID')['User_ID'].transform('count') # 이건 train, test 합쳐서 하는게 좋아보임\n",
    "    data['n_purchase_q1'] = train['User_ID'].value_counts().quantile([0.25]).values\n",
    "    data['n_purchase_q1'] = train['User_ID'].value_counts().quantile([0.25]).values\n",
    "    \n",
    "    data['Product_ID_len'] = [len(x) for x in data['Product_ID']]\n",
    "    \n",
    "    data['Product_ID'][data['Product_ID_len']==8] = [x[0] + '0' + x[1:] for x in data['Product_ID'][data['Product_ID_len']==8]]\n",
    "    \n",
    "    data['Product_ID_34'] = [x[2:4] for x in data['Product_ID']]\n",
    "    data['Product_ID_78'] = [x[6:8] for x in data['Product_ID']]\n",
    "    data['Product_ID_89'] = [x[7:9] for x in data['Product_ID']]\n",
    "    data['Product_ID_79'] = [x[6:9] for x in data['Product_ID']]\n",
    "    \n",
    "    del data['Product_ID_len']\n",
    "    \n",
    "    return data\n",
    "\n",
    "new_feature_fn(train)"
   ]
  }
 ],
 "metadata": {
  "colab": {
   "authorship_tag": "ABX9TyMrkVNtlBuXwPNhwOWmmA4/",
   "collapsed_sections": [
    "C7Opz1eilyWi"
   ],
   "name": "블랙 프라이데이 판매 예측.ipynb의 사본",
   "private_outputs": true,
   "provenance": [
    {
     "file_id": "1XqLoaCTfH57p-WmzrXFGfH7XioDxEKKK",
     "timestamp": 1638355329548
    }
   ]
  },
  "kernelspec": {
   "display_name": "Python 3",
   "language": "python",
   "name": "python3"
  },
  "language_info": {
   "codemirror_mode": {
    "name": "ipython",
    "version": 3
   },
   "file_extension": ".py",
   "mimetype": "text/x-python",
   "name": "python",
   "nbconvert_exporter": "python",
   "pygments_lexer": "ipython3",
   "version": "3.8.8"
  }
 },
 "nbformat": 4,
 "nbformat_minor": 1
}
