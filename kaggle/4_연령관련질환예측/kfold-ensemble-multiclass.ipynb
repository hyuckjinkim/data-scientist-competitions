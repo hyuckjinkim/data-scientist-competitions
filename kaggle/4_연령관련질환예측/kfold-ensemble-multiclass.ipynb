{
 "cells": [
  {
   "cell_type": "markdown",
   "id": "88a2092b",
   "metadata": {
    "papermill": {
     "duration": 0.021204,
     "end_time": "2023-06-18T16:03:08.132595",
     "exception": false,
     "start_time": "2023-06-18T16:03:08.111391",
     "status": "completed"
    },
    "tags": []
   },
   "source": [
    "# Setting"
   ]
  },
  {
   "cell_type": "code",
   "execution_count": 1,
   "id": "5de9cbeb",
   "metadata": {
    "execution": {
     "iopub.execute_input": "2023-06-18T16:03:08.172931Z",
     "iopub.status.busy": "2023-06-18T16:03:08.172490Z",
     "iopub.status.idle": "2023-06-18T16:03:08.178919Z",
     "shell.execute_reply": "2023-06-18T16:03:08.177833Z"
    },
    "papermill": {
     "duration": 0.02976,
     "end_time": "2023-06-18T16:03:08.181675",
     "exception": false,
     "start_time": "2023-06-18T16:03:08.151915",
     "status": "completed"
    },
    "tags": []
   },
   "outputs": [],
   "source": [
    "# ## (1) TabPFN을 Internet off에서 사용하기 위한, 패키지 다운로드\n",
    "# ##     -> Internet on(또는 Local)에서 아래의 코드로 실행 후, pip-packages.zip을 다운로드\n",
    "\n",
    "# ## (1-1) /kaggle/working(Local에서는 해당 Path)에 /pip-packages/에 tabpfn.whl파일 다운로드\n",
    "# !pip download tabpfn --no-deps -d ./pip-packages\n",
    "\n",
    "# ## (1-2) tabpfn install\n",
    "# !pip install tabpfn\n",
    "\n",
    "# ## (1-3) 모델실행하면 .cpkt파일 생성됨 (cpu, cuda:0에 따라서 설치되는파일이 다른 것으로 보이므로 선택잘해야함)\n",
    "# from tabpfn import TabPFNClassifier\n",
    "# TabPFNClassifier(N_ensemble_configurations=64,device='cpu')\n",
    "\n",
    "# ## (1-4) .cpkt파일을 /pip-packages/로 이동\n",
    "# !mv /opt/conda/lib/python3.10/site-packages/tabpfn/models_diff/prior_diff_real_checkpoint_n_0_epoch_100.cpkt pip-packages/\n",
    "\n",
    "# ## (1-5) /pip-packages/에 필요한 파일들을 다 모았으므로, 압축해줌\n",
    "# !zip -r pip-packages.zip pip-packages\n",
    "\n",
    "# ## (1-6) pip-packages.zip을 다운로드\n",
    "\n",
    "# ## (1-7) Kaggle Dataset에 업로드\n",
    "#        -> Kaggle Dataset 또는 현재창 우측의 +Add Data 옆의 데이터 업로드를 누른 후,\n",
    "#        -> (1)에서 다운받은 pip-packages.zip을 pip-packages-icr의 이름으로 업로드\n",
    "#        -> 업로드 된 zip파일은 나의 kaggle dataset에 저장되므로 영구적으로 사용가능"
   ]
  },
  {
   "cell_type": "code",
   "execution_count": 2,
   "id": "7e9b9d2a",
   "metadata": {
    "execution": {
     "iopub.execute_input": "2023-06-18T16:03:08.222056Z",
     "iopub.status.busy": "2023-06-18T16:03:08.221601Z",
     "iopub.status.idle": "2023-06-18T16:03:26.415242Z",
     "shell.execute_reply": "2023-06-18T16:03:26.413615Z"
    },
    "papermill": {
     "duration": 18.217102,
     "end_time": "2023-06-18T16:03:26.418094",
     "exception": false,
     "start_time": "2023-06-18T16:03:08.200992",
     "status": "completed"
    },
    "tags": []
   },
   "outputs": [
    {
     "name": "stdout",
     "output_type": "stream",
     "text": [
      "Looking in links: file:///kaggle/input/pip-packages-icr/pip-packages/\r\n",
      "Processing /kaggle/input/pip-packages-icr/pip-packages/tabpfn-0.1.9-py3-none-any.whl\r\n",
      "Requirement already satisfied: numpy>=1.21.2 in /opt/conda/lib/python3.10/site-packages (from tabpfn) (1.23.5)\r\n",
      "Requirement already satisfied: pyyaml>=5.4.1 in /opt/conda/lib/python3.10/site-packages (from tabpfn) (5.4.1)\r\n",
      "Requirement already satisfied: requests>=2.23.0 in /opt/conda/lib/python3.10/site-packages (from tabpfn) (2.28.2)\r\n",
      "Requirement already satisfied: scikit-learn>=0.24.2 in /opt/conda/lib/python3.10/site-packages (from tabpfn) (1.2.2)\r\n",
      "Requirement already satisfied: torch>=1.9.0 in /opt/conda/lib/python3.10/site-packages (from tabpfn) (2.0.0+cpu)\r\n",
      "Requirement already satisfied: charset-normalizer<4,>=2 in /opt/conda/lib/python3.10/site-packages (from requests>=2.23.0->tabpfn) (2.1.1)\r\n",
      "Requirement already satisfied: idna<4,>=2.5 in /opt/conda/lib/python3.10/site-packages (from requests>=2.23.0->tabpfn) (3.4)\r\n",
      "Requirement already satisfied: urllib3<1.27,>=1.21.1 in /opt/conda/lib/python3.10/site-packages (from requests>=2.23.0->tabpfn) (1.26.15)\r\n",
      "Requirement already satisfied: certifi>=2017.4.17 in /opt/conda/lib/python3.10/site-packages (from requests>=2.23.0->tabpfn) (2023.5.7)\r\n",
      "Requirement already satisfied: scipy>=1.3.2 in /opt/conda/lib/python3.10/site-packages (from scikit-learn>=0.24.2->tabpfn) (1.10.1)\r\n",
      "Requirement already satisfied: joblib>=1.1.1 in /opt/conda/lib/python3.10/site-packages (from scikit-learn>=0.24.2->tabpfn) (1.2.0)\r\n",
      "Requirement already satisfied: threadpoolctl>=2.0.0 in /opt/conda/lib/python3.10/site-packages (from scikit-learn>=0.24.2->tabpfn) (3.1.0)\r\n",
      "Requirement already satisfied: filelock in /opt/conda/lib/python3.10/site-packages (from torch>=1.9.0->tabpfn) (3.12.0)\r\n",
      "Requirement already satisfied: typing-extensions in /opt/conda/lib/python3.10/site-packages (from torch>=1.9.0->tabpfn) (4.5.0)\r\n",
      "Requirement already satisfied: sympy in /opt/conda/lib/python3.10/site-packages (from torch>=1.9.0->tabpfn) (1.12)\r\n",
      "Requirement already satisfied: networkx in /opt/conda/lib/python3.10/site-packages (from torch>=1.9.0->tabpfn) (3.1)\r\n",
      "Requirement already satisfied: jinja2 in /opt/conda/lib/python3.10/site-packages (from torch>=1.9.0->tabpfn) (3.1.2)\r\n",
      "Requirement already satisfied: MarkupSafe>=2.0 in /opt/conda/lib/python3.10/site-packages (from jinja2->torch>=1.9.0->tabpfn) (2.1.2)\r\n",
      "Requirement already satisfied: mpmath>=0.19 in /opt/conda/lib/python3.10/site-packages (from sympy->torch>=1.9.0->tabpfn) (1.3.0)\r\n",
      "Installing collected packages: tabpfn\r\n",
      "Successfully installed tabpfn-0.1.9\r\n",
      "\u001b[33mWARNING: Running pip as the 'root' user can result in broken permissions and conflicting behaviour with the system package manager. It is recommended to use a virtual environment instead: https://pip.pypa.io/warnings/venv\u001b[0m\u001b[33m\r\n",
      "\u001b[0m"
     ]
    }
   ],
   "source": [
    "## (2) TabPFN을 Internet off에서 사용하기 위한, 패키지 업로드\n",
    "\n",
    "## (2-1) Kaggle Dataset 로드\n",
    "#        -> 우측의 +Add Data > Your Datasets > pip-packages-icr 클릭\n",
    "\n",
    "## (2-2) 아래의 쿼리로 Internet off 상태로 다운로드 가능함\n",
    "!pip install tabpfn --no-index --find-links=file:///kaggle/input/pip-packages-icr/pip-packages/\n",
    "\n",
    "## (2-3) TabPFN의 .cpkt파일을 불러오는 /opt/conda/lib으로 폴더생성 및 복사\n",
    "##       -> 이후에 모델실행가능해짐\n",
    "!mkdir -p /opt/conda/lib/python3.10/site-packages/tabpfn/models_diff\n",
    "!cp /kaggle/input/pip-packages-icr/pip-packages/prior_diff_real_checkpoint_n_0_epoch_100.cpkt /opt/conda/lib/python3.10/site-packages/tabpfn/models_diff/"
   ]
  },
  {
   "cell_type": "code",
   "execution_count": 3,
   "id": "74acd379",
   "metadata": {
    "execution": {
     "iopub.execute_input": "2023-06-18T16:03:26.463214Z",
     "iopub.status.busy": "2023-06-18T16:03:26.462761Z",
     "iopub.status.idle": "2023-06-18T16:03:27.968934Z",
     "shell.execute_reply": "2023-06-18T16:03:27.967698Z"
    },
    "papermill": {
     "duration": 1.531098,
     "end_time": "2023-06-18T16:03:27.971762",
     "exception": false,
     "start_time": "2023-06-18T16:03:26.440664",
     "status": "completed"
    },
    "tags": []
   },
   "outputs": [],
   "source": [
    "import numpy as np\n",
    "import pandas as pd\n",
    "pd.set_option('display.max_rows', None)\n",
    "pd.set_option('display.max_columns', None)\n",
    "\n",
    "from tqdm import tqdm, trange\n",
    "\n",
    "import matplotlib.pyplot as plt\n",
    "import seaborn as sns"
   ]
  },
  {
   "cell_type": "code",
   "execution_count": 4,
   "id": "7516230c",
   "metadata": {
    "execution": {
     "iopub.execute_input": "2023-06-18T16:03:28.014061Z",
     "iopub.status.busy": "2023-06-18T16:03:28.013675Z",
     "iopub.status.idle": "2023-06-18T16:03:28.019902Z",
     "shell.execute_reply": "2023-06-18T16:03:28.018712Z"
    },
    "papermill": {
     "duration": 0.030203,
     "end_time": "2023-06-18T16:03:28.022152",
     "exception": false,
     "start_time": "2023-06-18T16:03:27.991949",
     "status": "completed"
    },
    "tags": []
   },
   "outputs": [],
   "source": [
    "class CFG:\n",
    "    REF_PATH = '/kaggle/input/icr-identify-age-related-conditions/'\n",
    "    #REF_PATH = './data/'\n",
    "    \n",
    "    VERBOSE = False\n",
    "    \n",
    "    #DEVICE = 'cuda:0'\n",
    "    DEVICE = 'cpu'\n",
    "        \n",
    "    ADD_INTERACTION = False #False\n",
    "    FS_ALPHA = 0.01\n",
    "    \n",
    "    SEED = 0\n",
    "    N_SPLITS = 5\n",
    "    EPOCHS = 50000\n",
    "    ES = 300\n",
    "    LR = 0.001"
   ]
  },
  {
   "cell_type": "markdown",
   "id": "2cb2a5f1",
   "metadata": {
    "papermill": {
     "duration": 0.019582,
     "end_time": "2023-06-18T16:03:28.061827",
     "exception": false,
     "start_time": "2023-06-18T16:03:28.042245",
     "status": "completed"
    },
    "tags": []
   },
   "source": [
    "<br></br>"
   ]
  },
  {
   "cell_type": "markdown",
   "id": "02f9a967",
   "metadata": {
    "papermill": {
     "duration": 0.019596,
     "end_time": "2023-06-18T16:03:28.101614",
     "exception": false,
     "start_time": "2023-06-18T16:03:28.082018",
     "status": "completed"
    },
    "tags": []
   },
   "source": [
    "# Data Load"
   ]
  },
  {
   "cell_type": "code",
   "execution_count": 5,
   "id": "43abb56a",
   "metadata": {
    "execution": {
     "iopub.execute_input": "2023-06-18T16:03:28.143538Z",
     "iopub.status.busy": "2023-06-18T16:03:28.142775Z",
     "iopub.status.idle": "2023-06-18T16:03:28.196117Z",
     "shell.execute_reply": "2023-06-18T16:03:28.195007Z"
    },
    "papermill": {
     "duration": 0.077365,
     "end_time": "2023-06-18T16:03:28.198843",
     "exception": false,
     "start_time": "2023-06-18T16:03:28.121478",
     "status": "completed"
    },
    "tags": []
   },
   "outputs": [],
   "source": [
    "train_df  = pd.read_csv(CFG.REF_PATH+'train.csv')\n",
    "test_df   = pd.read_csv(CFG.REF_PATH+'test.csv')\n",
    "greeks_df = pd.read_csv(CFG.REF_PATH+'greeks.csv')"
   ]
  },
  {
   "cell_type": "code",
   "execution_count": 6,
   "id": "a4156de9",
   "metadata": {
    "execution": {
     "iopub.execute_input": "2023-06-18T16:03:28.240839Z",
     "iopub.status.busy": "2023-06-18T16:03:28.240396Z",
     "iopub.status.idle": "2023-06-18T16:03:28.246847Z",
     "shell.execute_reply": "2023-06-18T16:03:28.246017Z"
    },
    "papermill": {
     "duration": 0.02962,
     "end_time": "2023-06-18T16:03:28.248882",
     "exception": false,
     "start_time": "2023-06-18T16:03:28.219262",
     "status": "completed"
    },
    "tags": []
   },
   "outputs": [],
   "source": [
    "train_df.columns  = [col.replace(' ','') for col in train_df.columns]\n",
    "test_df.columns   = [col.replace(' ','') for col in test_df.columns]\n",
    "greeks_df.columns = [col.replace(' ','') for col in greeks_df.columns]"
   ]
  },
  {
   "cell_type": "code",
   "execution_count": 7,
   "id": "4b8b03a6",
   "metadata": {
    "execution": {
     "iopub.execute_input": "2023-06-18T16:03:28.290737Z",
     "iopub.status.busy": "2023-06-18T16:03:28.290047Z",
     "iopub.status.idle": "2023-06-18T16:03:28.297344Z",
     "shell.execute_reply": "2023-06-18T16:03:28.296565Z"
    },
    "papermill": {
     "duration": 0.030833,
     "end_time": "2023-06-18T16:03:28.299558",
     "exception": false,
     "start_time": "2023-06-18T16:03:28.268725",
     "status": "completed"
    },
    "tags": []
   },
   "outputs": [
    {
     "data": {
      "text/plain": [
       "((617, 58), (617, 6))"
      ]
     },
     "execution_count": 7,
     "metadata": {},
     "output_type": "execute_result"
    }
   ],
   "source": [
    "train_df.shape, greeks_df.shape"
   ]
  },
  {
   "cell_type": "code",
   "execution_count": 8,
   "id": "b2d0377c",
   "metadata": {
    "execution": {
     "iopub.execute_input": "2023-06-18T16:03:28.341603Z",
     "iopub.status.busy": "2023-06-18T16:03:28.340973Z",
     "iopub.status.idle": "2023-06-18T16:03:28.412328Z",
     "shell.execute_reply": "2023-06-18T16:03:28.410725Z"
    },
    "papermill": {
     "duration": 0.095529,
     "end_time": "2023-06-18T16:03:28.415107",
     "exception": false,
     "start_time": "2023-06-18T16:03:28.319578",
     "status": "completed"
    },
    "tags": []
   },
   "outputs": [
    {
     "data": {
      "text/html": [
       "<div>\n",
       "<style scoped>\n",
       "    .dataframe tbody tr th:only-of-type {\n",
       "        vertical-align: middle;\n",
       "    }\n",
       "\n",
       "    .dataframe tbody tr th {\n",
       "        vertical-align: top;\n",
       "    }\n",
       "\n",
       "    .dataframe thead th {\n",
       "        text-align: right;\n",
       "    }\n",
       "</style>\n",
       "<table border=\"1\" class=\"dataframe\">\n",
       "  <thead>\n",
       "    <tr style=\"text-align: right;\">\n",
       "      <th></th>\n",
       "      <th>Id</th>\n",
       "      <th>AB</th>\n",
       "      <th>AF</th>\n",
       "      <th>AH</th>\n",
       "      <th>AM</th>\n",
       "      <th>AR</th>\n",
       "      <th>AX</th>\n",
       "      <th>AY</th>\n",
       "      <th>AZ</th>\n",
       "      <th>BC</th>\n",
       "      <th>BD</th>\n",
       "      <th>BN</th>\n",
       "      <th>BP</th>\n",
       "      <th>BQ</th>\n",
       "      <th>BR</th>\n",
       "      <th>BZ</th>\n",
       "      <th>CB</th>\n",
       "      <th>CC</th>\n",
       "      <th>CD</th>\n",
       "      <th>CF</th>\n",
       "      <th>CH</th>\n",
       "      <th>CL</th>\n",
       "      <th>CR</th>\n",
       "      <th>CS</th>\n",
       "      <th>CU</th>\n",
       "      <th>CW</th>\n",
       "      <th>DA</th>\n",
       "      <th>DE</th>\n",
       "      <th>DF</th>\n",
       "      <th>DH</th>\n",
       "      <th>DI</th>\n",
       "      <th>DL</th>\n",
       "      <th>DN</th>\n",
       "      <th>DU</th>\n",
       "      <th>DV</th>\n",
       "      <th>DY</th>\n",
       "      <th>EB</th>\n",
       "      <th>EE</th>\n",
       "      <th>EG</th>\n",
       "      <th>EH</th>\n",
       "      <th>EJ</th>\n",
       "      <th>EL</th>\n",
       "      <th>EP</th>\n",
       "      <th>EU</th>\n",
       "      <th>FC</th>\n",
       "      <th>FD</th>\n",
       "      <th>FE</th>\n",
       "      <th>FI</th>\n",
       "      <th>FL</th>\n",
       "      <th>FR</th>\n",
       "      <th>FS</th>\n",
       "      <th>GB</th>\n",
       "      <th>GE</th>\n",
       "      <th>GF</th>\n",
       "      <th>GH</th>\n",
       "      <th>GI</th>\n",
       "      <th>GL</th>\n",
       "      <th>Class</th>\n",
       "    </tr>\n",
       "  </thead>\n",
       "  <tbody>\n",
       "    <tr>\n",
       "      <th>0</th>\n",
       "      <td>000ff2bfdfe9</td>\n",
       "      <td>0.209377</td>\n",
       "      <td>3109.03329</td>\n",
       "      <td>85.200147</td>\n",
       "      <td>22.394407</td>\n",
       "      <td>8.138688</td>\n",
       "      <td>0.699861</td>\n",
       "      <td>0.025578</td>\n",
       "      <td>9.812214</td>\n",
       "      <td>5.555634</td>\n",
       "      <td>4126.58731</td>\n",
       "      <td>22.5984</td>\n",
       "      <td>175.638726</td>\n",
       "      <td>152.707705</td>\n",
       "      <td>823.928241</td>\n",
       "      <td>257.432377</td>\n",
       "      <td>47.223358</td>\n",
       "      <td>0.563481</td>\n",
       "      <td>23.387600</td>\n",
       "      <td>4.851915</td>\n",
       "      <td>0.023482</td>\n",
       "      <td>1.050225</td>\n",
       "      <td>0.069225</td>\n",
       "      <td>13.784111</td>\n",
       "      <td>1.302012</td>\n",
       "      <td>36.205956</td>\n",
       "      <td>69.08340</td>\n",
       "      <td>295.570575</td>\n",
       "      <td>0.23868</td>\n",
       "      <td>0.284232</td>\n",
       "      <td>89.245560</td>\n",
       "      <td>84.31664</td>\n",
       "      <td>29.657104</td>\n",
       "      <td>5.310690</td>\n",
       "      <td>1.74307</td>\n",
       "      <td>23.187704</td>\n",
       "      <td>7.294176</td>\n",
       "      <td>1.987283</td>\n",
       "      <td>1433.166750</td>\n",
       "      <td>0.949104</td>\n",
       "      <td>B</td>\n",
       "      <td>30.879420</td>\n",
       "      <td>78.526968</td>\n",
       "      <td>3.828384</td>\n",
       "      <td>13.394640</td>\n",
       "      <td>10.265073</td>\n",
       "      <td>9028.291921</td>\n",
       "      <td>3.583450</td>\n",
       "      <td>7.298162</td>\n",
       "      <td>1.73855</td>\n",
       "      <td>0.094822</td>\n",
       "      <td>11.339138</td>\n",
       "      <td>72.611063</td>\n",
       "      <td>2003.810319</td>\n",
       "      <td>22.136229</td>\n",
       "      <td>69.834944</td>\n",
       "      <td>0.120343</td>\n",
       "      <td>1</td>\n",
       "    </tr>\n",
       "    <tr>\n",
       "      <th>1</th>\n",
       "      <td>007255e47698</td>\n",
       "      <td>0.145282</td>\n",
       "      <td>978.76416</td>\n",
       "      <td>85.200147</td>\n",
       "      <td>36.968889</td>\n",
       "      <td>8.138688</td>\n",
       "      <td>3.632190</td>\n",
       "      <td>0.025578</td>\n",
       "      <td>13.517790</td>\n",
       "      <td>1.229900</td>\n",
       "      <td>5496.92824</td>\n",
       "      <td>19.4205</td>\n",
       "      <td>155.868030</td>\n",
       "      <td>14.754720</td>\n",
       "      <td>51.216883</td>\n",
       "      <td>257.432377</td>\n",
       "      <td>30.284345</td>\n",
       "      <td>0.484710</td>\n",
       "      <td>50.628208</td>\n",
       "      <td>6.085041</td>\n",
       "      <td>0.031442</td>\n",
       "      <td>1.113875</td>\n",
       "      <td>1.117800</td>\n",
       "      <td>28.310953</td>\n",
       "      <td>1.357182</td>\n",
       "      <td>37.476568</td>\n",
       "      <td>70.79836</td>\n",
       "      <td>178.553100</td>\n",
       "      <td>0.23868</td>\n",
       "      <td>0.363489</td>\n",
       "      <td>110.581815</td>\n",
       "      <td>75.74548</td>\n",
       "      <td>37.532000</td>\n",
       "      <td>0.005518</td>\n",
       "      <td>1.74307</td>\n",
       "      <td>17.222328</td>\n",
       "      <td>4.926396</td>\n",
       "      <td>0.858603</td>\n",
       "      <td>1111.287150</td>\n",
       "      <td>0.003042</td>\n",
       "      <td>A</td>\n",
       "      <td>109.125159</td>\n",
       "      <td>95.415086</td>\n",
       "      <td>52.260480</td>\n",
       "      <td>17.175984</td>\n",
       "      <td>0.296850</td>\n",
       "      <td>6785.003474</td>\n",
       "      <td>10.358927</td>\n",
       "      <td>0.173229</td>\n",
       "      <td>0.49706</td>\n",
       "      <td>0.568932</td>\n",
       "      <td>9.292698</td>\n",
       "      <td>72.611063</td>\n",
       "      <td>27981.562750</td>\n",
       "      <td>29.135430</td>\n",
       "      <td>32.131996</td>\n",
       "      <td>21.978000</td>\n",
       "      <td>0</td>\n",
       "    </tr>\n",
       "    <tr>\n",
       "      <th>2</th>\n",
       "      <td>013f2bd269f5</td>\n",
       "      <td>0.470030</td>\n",
       "      <td>2635.10654</td>\n",
       "      <td>85.200147</td>\n",
       "      <td>32.360553</td>\n",
       "      <td>8.138688</td>\n",
       "      <td>6.732840</td>\n",
       "      <td>0.025578</td>\n",
       "      <td>12.824570</td>\n",
       "      <td>1.229900</td>\n",
       "      <td>5135.78024</td>\n",
       "      <td>26.4825</td>\n",
       "      <td>128.988531</td>\n",
       "      <td>219.320160</td>\n",
       "      <td>482.141594</td>\n",
       "      <td>257.432377</td>\n",
       "      <td>32.563713</td>\n",
       "      <td>0.495852</td>\n",
       "      <td>85.955376</td>\n",
       "      <td>5.376488</td>\n",
       "      <td>0.036218</td>\n",
       "      <td>1.050225</td>\n",
       "      <td>0.700350</td>\n",
       "      <td>39.364743</td>\n",
       "      <td>1.009611</td>\n",
       "      <td>21.459644</td>\n",
       "      <td>70.81970</td>\n",
       "      <td>321.426625</td>\n",
       "      <td>0.23868</td>\n",
       "      <td>0.210441</td>\n",
       "      <td>120.056438</td>\n",
       "      <td>65.46984</td>\n",
       "      <td>28.053464</td>\n",
       "      <td>1.289739</td>\n",
       "      <td>1.74307</td>\n",
       "      <td>36.861352</td>\n",
       "      <td>7.813674</td>\n",
       "      <td>8.146651</td>\n",
       "      <td>1494.076488</td>\n",
       "      <td>0.377208</td>\n",
       "      <td>B</td>\n",
       "      <td>109.125159</td>\n",
       "      <td>78.526968</td>\n",
       "      <td>5.390628</td>\n",
       "      <td>224.207424</td>\n",
       "      <td>8.745201</td>\n",
       "      <td>8338.906181</td>\n",
       "      <td>11.626917</td>\n",
       "      <td>7.709560</td>\n",
       "      <td>0.97556</td>\n",
       "      <td>1.198821</td>\n",
       "      <td>37.077772</td>\n",
       "      <td>88.609437</td>\n",
       "      <td>13676.957810</td>\n",
       "      <td>28.022851</td>\n",
       "      <td>35.192676</td>\n",
       "      <td>0.196941</td>\n",
       "      <td>0</td>\n",
       "    </tr>\n",
       "    <tr>\n",
       "      <th>3</th>\n",
       "      <td>043ac50845d5</td>\n",
       "      <td>0.252107</td>\n",
       "      <td>3819.65177</td>\n",
       "      <td>120.201618</td>\n",
       "      <td>77.112203</td>\n",
       "      <td>8.138688</td>\n",
       "      <td>3.685344</td>\n",
       "      <td>0.025578</td>\n",
       "      <td>11.053708</td>\n",
       "      <td>1.229900</td>\n",
       "      <td>4169.67738</td>\n",
       "      <td>23.6577</td>\n",
       "      <td>237.282264</td>\n",
       "      <td>11.050410</td>\n",
       "      <td>661.518640</td>\n",
       "      <td>257.432377</td>\n",
       "      <td>15.201914</td>\n",
       "      <td>0.717882</td>\n",
       "      <td>88.159360</td>\n",
       "      <td>2.347652</td>\n",
       "      <td>0.029054</td>\n",
       "      <td>1.400300</td>\n",
       "      <td>0.636075</td>\n",
       "      <td>41.116960</td>\n",
       "      <td>0.722727</td>\n",
       "      <td>21.530392</td>\n",
       "      <td>47.27586</td>\n",
       "      <td>196.607985</td>\n",
       "      <td>0.23868</td>\n",
       "      <td>0.292431</td>\n",
       "      <td>139.824570</td>\n",
       "      <td>71.57120</td>\n",
       "      <td>24.354856</td>\n",
       "      <td>2.655345</td>\n",
       "      <td>1.74307</td>\n",
       "      <td>52.003884</td>\n",
       "      <td>7.386060</td>\n",
       "      <td>3.813326</td>\n",
       "      <td>15691.552180</td>\n",
       "      <td>0.614484</td>\n",
       "      <td>B</td>\n",
       "      <td>31.674357</td>\n",
       "      <td>78.526968</td>\n",
       "      <td>31.323372</td>\n",
       "      <td>59.301984</td>\n",
       "      <td>7.884336</td>\n",
       "      <td>10965.766040</td>\n",
       "      <td>14.852022</td>\n",
       "      <td>6.122162</td>\n",
       "      <td>0.49706</td>\n",
       "      <td>0.284466</td>\n",
       "      <td>18.529584</td>\n",
       "      <td>82.416803</td>\n",
       "      <td>2094.262452</td>\n",
       "      <td>39.948656</td>\n",
       "      <td>90.493248</td>\n",
       "      <td>0.155829</td>\n",
       "      <td>0</td>\n",
       "    </tr>\n",
       "    <tr>\n",
       "      <th>4</th>\n",
       "      <td>044fb8a146ec</td>\n",
       "      <td>0.380297</td>\n",
       "      <td>3733.04844</td>\n",
       "      <td>85.200147</td>\n",
       "      <td>14.103738</td>\n",
       "      <td>8.138688</td>\n",
       "      <td>3.942255</td>\n",
       "      <td>0.054810</td>\n",
       "      <td>3.396778</td>\n",
       "      <td>102.151980</td>\n",
       "      <td>5728.73412</td>\n",
       "      <td>24.0108</td>\n",
       "      <td>324.546318</td>\n",
       "      <td>149.717165</td>\n",
       "      <td>6074.859475</td>\n",
       "      <td>257.432377</td>\n",
       "      <td>82.213495</td>\n",
       "      <td>0.536467</td>\n",
       "      <td>72.644264</td>\n",
       "      <td>30.537722</td>\n",
       "      <td>0.025472</td>\n",
       "      <td>1.050225</td>\n",
       "      <td>0.693150</td>\n",
       "      <td>31.724726</td>\n",
       "      <td>0.827550</td>\n",
       "      <td>34.415360</td>\n",
       "      <td>74.06532</td>\n",
       "      <td>200.178160</td>\n",
       "      <td>0.23868</td>\n",
       "      <td>0.207708</td>\n",
       "      <td>97.920120</td>\n",
       "      <td>52.83888</td>\n",
       "      <td>26.019912</td>\n",
       "      <td>1.144902</td>\n",
       "      <td>1.74307</td>\n",
       "      <td>9.064856</td>\n",
       "      <td>7.350720</td>\n",
       "      <td>3.490846</td>\n",
       "      <td>1403.656300</td>\n",
       "      <td>0.164268</td>\n",
       "      <td>B</td>\n",
       "      <td>109.125159</td>\n",
       "      <td>91.994825</td>\n",
       "      <td>51.141336</td>\n",
       "      <td>29.102640</td>\n",
       "      <td>4.274640</td>\n",
       "      <td>16198.049590</td>\n",
       "      <td>13.666727</td>\n",
       "      <td>8.153058</td>\n",
       "      <td>48.50134</td>\n",
       "      <td>0.121914</td>\n",
       "      <td>16.408728</td>\n",
       "      <td>146.109943</td>\n",
       "      <td>8524.370502</td>\n",
       "      <td>45.381316</td>\n",
       "      <td>36.262628</td>\n",
       "      <td>0.096614</td>\n",
       "      <td>1</td>\n",
       "    </tr>\n",
       "  </tbody>\n",
       "</table>\n",
       "</div>"
      ],
      "text/plain": [
       "             Id        AB          AF          AH         AM        AR  \\\n",
       "0  000ff2bfdfe9  0.209377  3109.03329   85.200147  22.394407  8.138688   \n",
       "1  007255e47698  0.145282   978.76416   85.200147  36.968889  8.138688   \n",
       "2  013f2bd269f5  0.470030  2635.10654   85.200147  32.360553  8.138688   \n",
       "3  043ac50845d5  0.252107  3819.65177  120.201618  77.112203  8.138688   \n",
       "4  044fb8a146ec  0.380297  3733.04844   85.200147  14.103738  8.138688   \n",
       "\n",
       "         AX        AY         AZ          BC          BD       BN          BP  \\\n",
       "0  0.699861  0.025578   9.812214    5.555634  4126.58731  22.5984  175.638726   \n",
       "1  3.632190  0.025578  13.517790    1.229900  5496.92824  19.4205  155.868030   \n",
       "2  6.732840  0.025578  12.824570    1.229900  5135.78024  26.4825  128.988531   \n",
       "3  3.685344  0.025578  11.053708    1.229900  4169.67738  23.6577  237.282264   \n",
       "4  3.942255  0.054810   3.396778  102.151980  5728.73412  24.0108  324.546318   \n",
       "\n",
       "           BQ           BR          BZ         CB        CC         CD  \\\n",
       "0  152.707705   823.928241  257.432377  47.223358  0.563481  23.387600   \n",
       "1   14.754720    51.216883  257.432377  30.284345  0.484710  50.628208   \n",
       "2  219.320160   482.141594  257.432377  32.563713  0.495852  85.955376   \n",
       "3   11.050410   661.518640  257.432377  15.201914  0.717882  88.159360   \n",
       "4  149.717165  6074.859475  257.432377  82.213495  0.536467  72.644264   \n",
       "\n",
       "          CF        CH        CL        CR         CS        CU         CW  \\\n",
       "0   4.851915  0.023482  1.050225  0.069225  13.784111  1.302012  36.205956   \n",
       "1   6.085041  0.031442  1.113875  1.117800  28.310953  1.357182  37.476568   \n",
       "2   5.376488  0.036218  1.050225  0.700350  39.364743  1.009611  21.459644   \n",
       "3   2.347652  0.029054  1.400300  0.636075  41.116960  0.722727  21.530392   \n",
       "4  30.537722  0.025472  1.050225  0.693150  31.724726  0.827550  34.415360   \n",
       "\n",
       "         DA          DE       DF        DH          DI        DL         DN  \\\n",
       "0  69.08340  295.570575  0.23868  0.284232   89.245560  84.31664  29.657104   \n",
       "1  70.79836  178.553100  0.23868  0.363489  110.581815  75.74548  37.532000   \n",
       "2  70.81970  321.426625  0.23868  0.210441  120.056438  65.46984  28.053464   \n",
       "3  47.27586  196.607985  0.23868  0.292431  139.824570  71.57120  24.354856   \n",
       "4  74.06532  200.178160  0.23868  0.207708   97.920120  52.83888  26.019912   \n",
       "\n",
       "         DU       DV         DY        EB        EE            EG        EH  \\\n",
       "0  5.310690  1.74307  23.187704  7.294176  1.987283   1433.166750  0.949104   \n",
       "1  0.005518  1.74307  17.222328  4.926396  0.858603   1111.287150  0.003042   \n",
       "2  1.289739  1.74307  36.861352  7.813674  8.146651   1494.076488  0.377208   \n",
       "3  2.655345  1.74307  52.003884  7.386060  3.813326  15691.552180  0.614484   \n",
       "4  1.144902  1.74307   9.064856  7.350720  3.490846   1403.656300  0.164268   \n",
       "\n",
       "  EJ          EL         EP         EU          FC         FD            FE  \\\n",
       "0  B   30.879420  78.526968   3.828384   13.394640  10.265073   9028.291921   \n",
       "1  A  109.125159  95.415086  52.260480   17.175984   0.296850   6785.003474   \n",
       "2  B  109.125159  78.526968   5.390628  224.207424   8.745201   8338.906181   \n",
       "3  B   31.674357  78.526968  31.323372   59.301984   7.884336  10965.766040   \n",
       "4  B  109.125159  91.994825  51.141336   29.102640   4.274640  16198.049590   \n",
       "\n",
       "          FI        FL        FR        FS         GB          GE  \\\n",
       "0   3.583450  7.298162   1.73855  0.094822  11.339138   72.611063   \n",
       "1  10.358927  0.173229   0.49706  0.568932   9.292698   72.611063   \n",
       "2  11.626917  7.709560   0.97556  1.198821  37.077772   88.609437   \n",
       "3  14.852022  6.122162   0.49706  0.284466  18.529584   82.416803   \n",
       "4  13.666727  8.153058  48.50134  0.121914  16.408728  146.109943   \n",
       "\n",
       "             GF         GH         GI         GL  Class  \n",
       "0   2003.810319  22.136229  69.834944   0.120343      1  \n",
       "1  27981.562750  29.135430  32.131996  21.978000      0  \n",
       "2  13676.957810  28.022851  35.192676   0.196941      0  \n",
       "3   2094.262452  39.948656  90.493248   0.155829      0  \n",
       "4   8524.370502  45.381316  36.262628   0.096614      1  "
      ]
     },
     "execution_count": 8,
     "metadata": {},
     "output_type": "execute_result"
    }
   ],
   "source": [
    "train_df.head()"
   ]
  },
  {
   "cell_type": "code",
   "execution_count": 9,
   "id": "6169fbc0",
   "metadata": {
    "execution": {
     "iopub.execute_input": "2023-06-18T16:03:28.460487Z",
     "iopub.status.busy": "2023-06-18T16:03:28.460108Z",
     "iopub.status.idle": "2023-06-18T16:03:28.473716Z",
     "shell.execute_reply": "2023-06-18T16:03:28.472577Z"
    },
    "papermill": {
     "duration": 0.039891,
     "end_time": "2023-06-18T16:03:28.476211",
     "exception": false,
     "start_time": "2023-06-18T16:03:28.436320",
     "status": "completed"
    },
    "tags": []
   },
   "outputs": [
    {
     "data": {
      "text/html": [
       "<div>\n",
       "<style scoped>\n",
       "    .dataframe tbody tr th:only-of-type {\n",
       "        vertical-align: middle;\n",
       "    }\n",
       "\n",
       "    .dataframe tbody tr th {\n",
       "        vertical-align: top;\n",
       "    }\n",
       "\n",
       "    .dataframe thead th {\n",
       "        text-align: right;\n",
       "    }\n",
       "</style>\n",
       "<table border=\"1\" class=\"dataframe\">\n",
       "  <thead>\n",
       "    <tr style=\"text-align: right;\">\n",
       "      <th></th>\n",
       "      <th>Id</th>\n",
       "      <th>Alpha</th>\n",
       "      <th>Beta</th>\n",
       "      <th>Gamma</th>\n",
       "      <th>Delta</th>\n",
       "      <th>Epsilon</th>\n",
       "    </tr>\n",
       "  </thead>\n",
       "  <tbody>\n",
       "    <tr>\n",
       "      <th>0</th>\n",
       "      <td>000ff2bfdfe9</td>\n",
       "      <td>B</td>\n",
       "      <td>C</td>\n",
       "      <td>G</td>\n",
       "      <td>D</td>\n",
       "      <td>3/19/2019</td>\n",
       "    </tr>\n",
       "    <tr>\n",
       "      <th>1</th>\n",
       "      <td>007255e47698</td>\n",
       "      <td>A</td>\n",
       "      <td>C</td>\n",
       "      <td>M</td>\n",
       "      <td>B</td>\n",
       "      <td>Unknown</td>\n",
       "    </tr>\n",
       "    <tr>\n",
       "      <th>2</th>\n",
       "      <td>013f2bd269f5</td>\n",
       "      <td>A</td>\n",
       "      <td>C</td>\n",
       "      <td>M</td>\n",
       "      <td>B</td>\n",
       "      <td>Unknown</td>\n",
       "    </tr>\n",
       "    <tr>\n",
       "      <th>3</th>\n",
       "      <td>043ac50845d5</td>\n",
       "      <td>A</td>\n",
       "      <td>C</td>\n",
       "      <td>M</td>\n",
       "      <td>B</td>\n",
       "      <td>Unknown</td>\n",
       "    </tr>\n",
       "    <tr>\n",
       "      <th>4</th>\n",
       "      <td>044fb8a146ec</td>\n",
       "      <td>D</td>\n",
       "      <td>B</td>\n",
       "      <td>F</td>\n",
       "      <td>B</td>\n",
       "      <td>3/25/2020</td>\n",
       "    </tr>\n",
       "  </tbody>\n",
       "</table>\n",
       "</div>"
      ],
      "text/plain": [
       "             Id Alpha Beta Gamma Delta    Epsilon\n",
       "0  000ff2bfdfe9     B    C     G     D  3/19/2019\n",
       "1  007255e47698     A    C     M     B    Unknown\n",
       "2  013f2bd269f5     A    C     M     B    Unknown\n",
       "3  043ac50845d5     A    C     M     B    Unknown\n",
       "4  044fb8a146ec     D    B     F     B  3/25/2020"
      ]
     },
     "execution_count": 9,
     "metadata": {},
     "output_type": "execute_result"
    }
   ],
   "source": [
    "greeks_df.head()"
   ]
  },
  {
   "cell_type": "code",
   "execution_count": 10,
   "id": "2b81263d",
   "metadata": {
    "execution": {
     "iopub.execute_input": "2023-06-18T16:03:28.521435Z",
     "iopub.status.busy": "2023-06-18T16:03:28.520710Z",
     "iopub.status.idle": "2023-06-18T16:03:28.529454Z",
     "shell.execute_reply": "2023-06-18T16:03:28.528421Z"
    },
    "papermill": {
     "duration": 0.03452,
     "end_time": "2023-06-18T16:03:28.532053",
     "exception": false,
     "start_time": "2023-06-18T16:03:28.497533",
     "status": "completed"
    },
    "tags": []
   },
   "outputs": [
    {
     "data": {
      "text/plain": [
       "([], [])"
      ]
     },
     "execution_count": 10,
     "metadata": {},
     "output_type": "execute_result"
    }
   ],
   "source": [
    "list(set(train_df.Id)-set(greeks_df.Id)), list(set(greeks_df.Id)-set(train_df.Id))"
   ]
  },
  {
   "cell_type": "code",
   "execution_count": 11,
   "id": "d1d24057",
   "metadata": {
    "execution": {
     "iopub.execute_input": "2023-06-18T16:03:28.582393Z",
     "iopub.status.busy": "2023-06-18T16:03:28.581592Z",
     "iopub.status.idle": "2023-06-18T16:03:28.587619Z",
     "shell.execute_reply": "2023-06-18T16:03:28.586596Z"
    },
    "papermill": {
     "duration": 0.031834,
     "end_time": "2023-06-18T16:03:28.590171",
     "exception": false,
     "start_time": "2023-06-18T16:03:28.558337",
     "status": "completed"
    },
    "tags": []
   },
   "outputs": [],
   "source": [
    "# [train.csv] The training set\n",
    "#\n",
    "# - Id \n",
    "#   : Unique identifier for each observation.\n",
    "#\n",
    "# - AB-GL \n",
    "#   : Fifty-six anonymized health characteristics.\n",
    "#   : All are numeric except for EJ, which is categorical.\n",
    "#\n",
    "# - Class\n",
    "#   : A binary target\n",
    "#   : 1 indicates the subject has been diagnosed with one of the three conditions, \n",
    "#   : 0 indicates they have not.\n",
    "#\n",
    "# [greeks.csv] Supplemental metadata, only available for the training set.\n",
    "#\n",
    "# - Alpha\n",
    "#   : Identifies the type of age-related condition, if present.\n",
    "#   - A : No age-related condition. Corresponds to class 0\n",
    "#   - B, D, G : The three age-related conditions. Correspond to class 1\n",
    "# - Beta, Gamma, Delta\n",
    "#   : Three experimental characteristics.\n",
    "# - Epsilon\n",
    "#   : The date the data for this subject was collected.\n",
    "#   : Note that all of the data in the test set was collected after the training set was collected."
   ]
  },
  {
   "cell_type": "code",
   "execution_count": 12,
   "id": "ebed791a",
   "metadata": {
    "execution": {
     "iopub.execute_input": "2023-06-18T16:03:28.635900Z",
     "iopub.status.busy": "2023-06-18T16:03:28.635496Z",
     "iopub.status.idle": "2023-06-18T16:03:28.794714Z",
     "shell.execute_reply": "2023-06-18T16:03:28.793551Z"
    },
    "papermill": {
     "duration": 0.185339,
     "end_time": "2023-06-18T16:03:28.797385",
     "exception": false,
     "start_time": "2023-06-18T16:03:28.612046",
     "status": "completed"
    },
    "tags": []
   },
   "outputs": [],
   "source": [
    "from sklearn.preprocessing import LabelEncoder\n",
    "\n",
    "le = LabelEncoder()\n",
    "train_df['Class'] = le.fit_transform(greeks_df['Alpha'])\n",
    "assert le.classes_[0]=='A', \\\n",
    "    \"First label must be 'A'\""
   ]
  },
  {
   "cell_type": "code",
   "execution_count": 13,
   "id": "2ff78971",
   "metadata": {
    "execution": {
     "iopub.execute_input": "2023-06-18T16:03:28.842512Z",
     "iopub.status.busy": "2023-06-18T16:03:28.841672Z",
     "iopub.status.idle": "2023-06-18T16:03:28.874403Z",
     "shell.execute_reply": "2023-06-18T16:03:28.873134Z"
    },
    "papermill": {
     "duration": 0.05818,
     "end_time": "2023-06-18T16:03:28.877163",
     "exception": false,
     "start_time": "2023-06-18T16:03:28.818983",
     "status": "completed"
    },
    "tags": []
   },
   "outputs": [],
   "source": [
    "from datetime import datetime\n",
    "times = greeks_df.Epsilon.copy()\n",
    "times[greeks_df.Epsilon != 'Unknown'] = greeks_df.Epsilon[greeks_df.Epsilon != 'Unknown']\\\n",
    "    .map(lambda x: datetime.strptime(x,'%m/%d/%Y').toordinal())\n",
    "times[greeks_df.Epsilon == 'Unknown'] = np.nan\n",
    "\n",
    "train_df['epsilon'] = times\n",
    "test_df ['epsilon'] = train_df.epsilon.max() + 1"
   ]
  },
  {
   "cell_type": "code",
   "execution_count": 14,
   "id": "f8b3a8f3",
   "metadata": {
    "execution": {
     "iopub.execute_input": "2023-06-18T16:03:28.922296Z",
     "iopub.status.busy": "2023-06-18T16:03:28.921879Z",
     "iopub.status.idle": "2023-06-18T16:03:28.979798Z",
     "shell.execute_reply": "2023-06-18T16:03:28.978416Z"
    },
    "papermill": {
     "duration": 0.083641,
     "end_time": "2023-06-18T16:03:28.982339",
     "exception": false,
     "start_time": "2023-06-18T16:03:28.898698",
     "status": "completed"
    },
    "tags": []
   },
   "outputs": [
    {
     "data": {
      "text/html": [
       "<div>\n",
       "<style scoped>\n",
       "    .dataframe tbody tr th:only-of-type {\n",
       "        vertical-align: middle;\n",
       "    }\n",
       "\n",
       "    .dataframe tbody tr th {\n",
       "        vertical-align: top;\n",
       "    }\n",
       "\n",
       "    .dataframe thead th {\n",
       "        text-align: right;\n",
       "    }\n",
       "</style>\n",
       "<table border=\"1\" class=\"dataframe\">\n",
       "  <thead>\n",
       "    <tr style=\"text-align: right;\">\n",
       "      <th></th>\n",
       "      <th>Id</th>\n",
       "      <th>AB</th>\n",
       "      <th>AF</th>\n",
       "      <th>AH</th>\n",
       "      <th>AM</th>\n",
       "      <th>AR</th>\n",
       "      <th>AX</th>\n",
       "      <th>AY</th>\n",
       "      <th>AZ</th>\n",
       "      <th>BC</th>\n",
       "      <th>BD</th>\n",
       "      <th>BN</th>\n",
       "      <th>BP</th>\n",
       "      <th>BQ</th>\n",
       "      <th>BR</th>\n",
       "      <th>BZ</th>\n",
       "      <th>CB</th>\n",
       "      <th>CC</th>\n",
       "      <th>CD</th>\n",
       "      <th>CF</th>\n",
       "      <th>CH</th>\n",
       "      <th>CL</th>\n",
       "      <th>CR</th>\n",
       "      <th>CS</th>\n",
       "      <th>CU</th>\n",
       "      <th>CW</th>\n",
       "      <th>DA</th>\n",
       "      <th>DE</th>\n",
       "      <th>DF</th>\n",
       "      <th>DH</th>\n",
       "      <th>DI</th>\n",
       "      <th>DL</th>\n",
       "      <th>DN</th>\n",
       "      <th>DU</th>\n",
       "      <th>DV</th>\n",
       "      <th>DY</th>\n",
       "      <th>EB</th>\n",
       "      <th>EE</th>\n",
       "      <th>EG</th>\n",
       "      <th>EH</th>\n",
       "      <th>EJ</th>\n",
       "      <th>EL</th>\n",
       "      <th>EP</th>\n",
       "      <th>EU</th>\n",
       "      <th>FC</th>\n",
       "      <th>FD</th>\n",
       "      <th>FE</th>\n",
       "      <th>FI</th>\n",
       "      <th>FL</th>\n",
       "      <th>FR</th>\n",
       "      <th>FS</th>\n",
       "      <th>GB</th>\n",
       "      <th>GE</th>\n",
       "      <th>GF</th>\n",
       "      <th>GH</th>\n",
       "      <th>GI</th>\n",
       "      <th>GL</th>\n",
       "      <th>Class</th>\n",
       "      <th>epsilon</th>\n",
       "    </tr>\n",
       "  </thead>\n",
       "  <tbody>\n",
       "    <tr>\n",
       "      <th>0</th>\n",
       "      <td>000ff2bfdfe9</td>\n",
       "      <td>0.209377</td>\n",
       "      <td>3109.03329</td>\n",
       "      <td>85.200147</td>\n",
       "      <td>22.394407</td>\n",
       "      <td>8.138688</td>\n",
       "      <td>0.699861</td>\n",
       "      <td>0.025578</td>\n",
       "      <td>9.812214</td>\n",
       "      <td>5.555634</td>\n",
       "      <td>4126.58731</td>\n",
       "      <td>22.5984</td>\n",
       "      <td>175.638726</td>\n",
       "      <td>152.707705</td>\n",
       "      <td>823.928241</td>\n",
       "      <td>257.432377</td>\n",
       "      <td>47.223358</td>\n",
       "      <td>0.563481</td>\n",
       "      <td>23.387600</td>\n",
       "      <td>4.851915</td>\n",
       "      <td>0.023482</td>\n",
       "      <td>1.050225</td>\n",
       "      <td>0.069225</td>\n",
       "      <td>13.784111</td>\n",
       "      <td>1.302012</td>\n",
       "      <td>36.205956</td>\n",
       "      <td>69.08340</td>\n",
       "      <td>295.570575</td>\n",
       "      <td>0.23868</td>\n",
       "      <td>0.284232</td>\n",
       "      <td>89.245560</td>\n",
       "      <td>84.31664</td>\n",
       "      <td>29.657104</td>\n",
       "      <td>5.310690</td>\n",
       "      <td>1.74307</td>\n",
       "      <td>23.187704</td>\n",
       "      <td>7.294176</td>\n",
       "      <td>1.987283</td>\n",
       "      <td>1433.166750</td>\n",
       "      <td>0.949104</td>\n",
       "      <td>B</td>\n",
       "      <td>30.879420</td>\n",
       "      <td>78.526968</td>\n",
       "      <td>3.828384</td>\n",
       "      <td>13.394640</td>\n",
       "      <td>10.265073</td>\n",
       "      <td>9028.291921</td>\n",
       "      <td>3.583450</td>\n",
       "      <td>7.298162</td>\n",
       "      <td>1.73855</td>\n",
       "      <td>0.094822</td>\n",
       "      <td>11.339138</td>\n",
       "      <td>72.611063</td>\n",
       "      <td>2003.810319</td>\n",
       "      <td>22.136229</td>\n",
       "      <td>69.834944</td>\n",
       "      <td>0.120343</td>\n",
       "      <td>1</td>\n",
       "      <td>737137.0</td>\n",
       "    </tr>\n",
       "    <tr>\n",
       "      <th>1</th>\n",
       "      <td>007255e47698</td>\n",
       "      <td>0.145282</td>\n",
       "      <td>978.76416</td>\n",
       "      <td>85.200147</td>\n",
       "      <td>36.968889</td>\n",
       "      <td>8.138688</td>\n",
       "      <td>3.632190</td>\n",
       "      <td>0.025578</td>\n",
       "      <td>13.517790</td>\n",
       "      <td>1.229900</td>\n",
       "      <td>5496.92824</td>\n",
       "      <td>19.4205</td>\n",
       "      <td>155.868030</td>\n",
       "      <td>14.754720</td>\n",
       "      <td>51.216883</td>\n",
       "      <td>257.432377</td>\n",
       "      <td>30.284345</td>\n",
       "      <td>0.484710</td>\n",
       "      <td>50.628208</td>\n",
       "      <td>6.085041</td>\n",
       "      <td>0.031442</td>\n",
       "      <td>1.113875</td>\n",
       "      <td>1.117800</td>\n",
       "      <td>28.310953</td>\n",
       "      <td>1.357182</td>\n",
       "      <td>37.476568</td>\n",
       "      <td>70.79836</td>\n",
       "      <td>178.553100</td>\n",
       "      <td>0.23868</td>\n",
       "      <td>0.363489</td>\n",
       "      <td>110.581815</td>\n",
       "      <td>75.74548</td>\n",
       "      <td>37.532000</td>\n",
       "      <td>0.005518</td>\n",
       "      <td>1.74307</td>\n",
       "      <td>17.222328</td>\n",
       "      <td>4.926396</td>\n",
       "      <td>0.858603</td>\n",
       "      <td>1111.287150</td>\n",
       "      <td>0.003042</td>\n",
       "      <td>A</td>\n",
       "      <td>109.125159</td>\n",
       "      <td>95.415086</td>\n",
       "      <td>52.260480</td>\n",
       "      <td>17.175984</td>\n",
       "      <td>0.296850</td>\n",
       "      <td>6785.003474</td>\n",
       "      <td>10.358927</td>\n",
       "      <td>0.173229</td>\n",
       "      <td>0.49706</td>\n",
       "      <td>0.568932</td>\n",
       "      <td>9.292698</td>\n",
       "      <td>72.611063</td>\n",
       "      <td>27981.562750</td>\n",
       "      <td>29.135430</td>\n",
       "      <td>32.131996</td>\n",
       "      <td>21.978000</td>\n",
       "      <td>0</td>\n",
       "      <td>NaN</td>\n",
       "    </tr>\n",
       "    <tr>\n",
       "      <th>2</th>\n",
       "      <td>013f2bd269f5</td>\n",
       "      <td>0.470030</td>\n",
       "      <td>2635.10654</td>\n",
       "      <td>85.200147</td>\n",
       "      <td>32.360553</td>\n",
       "      <td>8.138688</td>\n",
       "      <td>6.732840</td>\n",
       "      <td>0.025578</td>\n",
       "      <td>12.824570</td>\n",
       "      <td>1.229900</td>\n",
       "      <td>5135.78024</td>\n",
       "      <td>26.4825</td>\n",
       "      <td>128.988531</td>\n",
       "      <td>219.320160</td>\n",
       "      <td>482.141594</td>\n",
       "      <td>257.432377</td>\n",
       "      <td>32.563713</td>\n",
       "      <td>0.495852</td>\n",
       "      <td>85.955376</td>\n",
       "      <td>5.376488</td>\n",
       "      <td>0.036218</td>\n",
       "      <td>1.050225</td>\n",
       "      <td>0.700350</td>\n",
       "      <td>39.364743</td>\n",
       "      <td>1.009611</td>\n",
       "      <td>21.459644</td>\n",
       "      <td>70.81970</td>\n",
       "      <td>321.426625</td>\n",
       "      <td>0.23868</td>\n",
       "      <td>0.210441</td>\n",
       "      <td>120.056438</td>\n",
       "      <td>65.46984</td>\n",
       "      <td>28.053464</td>\n",
       "      <td>1.289739</td>\n",
       "      <td>1.74307</td>\n",
       "      <td>36.861352</td>\n",
       "      <td>7.813674</td>\n",
       "      <td>8.146651</td>\n",
       "      <td>1494.076488</td>\n",
       "      <td>0.377208</td>\n",
       "      <td>B</td>\n",
       "      <td>109.125159</td>\n",
       "      <td>78.526968</td>\n",
       "      <td>5.390628</td>\n",
       "      <td>224.207424</td>\n",
       "      <td>8.745201</td>\n",
       "      <td>8338.906181</td>\n",
       "      <td>11.626917</td>\n",
       "      <td>7.709560</td>\n",
       "      <td>0.97556</td>\n",
       "      <td>1.198821</td>\n",
       "      <td>37.077772</td>\n",
       "      <td>88.609437</td>\n",
       "      <td>13676.957810</td>\n",
       "      <td>28.022851</td>\n",
       "      <td>35.192676</td>\n",
       "      <td>0.196941</td>\n",
       "      <td>0</td>\n",
       "      <td>NaN</td>\n",
       "    </tr>\n",
       "    <tr>\n",
       "      <th>3</th>\n",
       "      <td>043ac50845d5</td>\n",
       "      <td>0.252107</td>\n",
       "      <td>3819.65177</td>\n",
       "      <td>120.201618</td>\n",
       "      <td>77.112203</td>\n",
       "      <td>8.138688</td>\n",
       "      <td>3.685344</td>\n",
       "      <td>0.025578</td>\n",
       "      <td>11.053708</td>\n",
       "      <td>1.229900</td>\n",
       "      <td>4169.67738</td>\n",
       "      <td>23.6577</td>\n",
       "      <td>237.282264</td>\n",
       "      <td>11.050410</td>\n",
       "      <td>661.518640</td>\n",
       "      <td>257.432377</td>\n",
       "      <td>15.201914</td>\n",
       "      <td>0.717882</td>\n",
       "      <td>88.159360</td>\n",
       "      <td>2.347652</td>\n",
       "      <td>0.029054</td>\n",
       "      <td>1.400300</td>\n",
       "      <td>0.636075</td>\n",
       "      <td>41.116960</td>\n",
       "      <td>0.722727</td>\n",
       "      <td>21.530392</td>\n",
       "      <td>47.27586</td>\n",
       "      <td>196.607985</td>\n",
       "      <td>0.23868</td>\n",
       "      <td>0.292431</td>\n",
       "      <td>139.824570</td>\n",
       "      <td>71.57120</td>\n",
       "      <td>24.354856</td>\n",
       "      <td>2.655345</td>\n",
       "      <td>1.74307</td>\n",
       "      <td>52.003884</td>\n",
       "      <td>7.386060</td>\n",
       "      <td>3.813326</td>\n",
       "      <td>15691.552180</td>\n",
       "      <td>0.614484</td>\n",
       "      <td>B</td>\n",
       "      <td>31.674357</td>\n",
       "      <td>78.526968</td>\n",
       "      <td>31.323372</td>\n",
       "      <td>59.301984</td>\n",
       "      <td>7.884336</td>\n",
       "      <td>10965.766040</td>\n",
       "      <td>14.852022</td>\n",
       "      <td>6.122162</td>\n",
       "      <td>0.49706</td>\n",
       "      <td>0.284466</td>\n",
       "      <td>18.529584</td>\n",
       "      <td>82.416803</td>\n",
       "      <td>2094.262452</td>\n",
       "      <td>39.948656</td>\n",
       "      <td>90.493248</td>\n",
       "      <td>0.155829</td>\n",
       "      <td>0</td>\n",
       "      <td>NaN</td>\n",
       "    </tr>\n",
       "    <tr>\n",
       "      <th>4</th>\n",
       "      <td>044fb8a146ec</td>\n",
       "      <td>0.380297</td>\n",
       "      <td>3733.04844</td>\n",
       "      <td>85.200147</td>\n",
       "      <td>14.103738</td>\n",
       "      <td>8.138688</td>\n",
       "      <td>3.942255</td>\n",
       "      <td>0.054810</td>\n",
       "      <td>3.396778</td>\n",
       "      <td>102.151980</td>\n",
       "      <td>5728.73412</td>\n",
       "      <td>24.0108</td>\n",
       "      <td>324.546318</td>\n",
       "      <td>149.717165</td>\n",
       "      <td>6074.859475</td>\n",
       "      <td>257.432377</td>\n",
       "      <td>82.213495</td>\n",
       "      <td>0.536467</td>\n",
       "      <td>72.644264</td>\n",
       "      <td>30.537722</td>\n",
       "      <td>0.025472</td>\n",
       "      <td>1.050225</td>\n",
       "      <td>0.693150</td>\n",
       "      <td>31.724726</td>\n",
       "      <td>0.827550</td>\n",
       "      <td>34.415360</td>\n",
       "      <td>74.06532</td>\n",
       "      <td>200.178160</td>\n",
       "      <td>0.23868</td>\n",
       "      <td>0.207708</td>\n",
       "      <td>97.920120</td>\n",
       "      <td>52.83888</td>\n",
       "      <td>26.019912</td>\n",
       "      <td>1.144902</td>\n",
       "      <td>1.74307</td>\n",
       "      <td>9.064856</td>\n",
       "      <td>7.350720</td>\n",
       "      <td>3.490846</td>\n",
       "      <td>1403.656300</td>\n",
       "      <td>0.164268</td>\n",
       "      <td>B</td>\n",
       "      <td>109.125159</td>\n",
       "      <td>91.994825</td>\n",
       "      <td>51.141336</td>\n",
       "      <td>29.102640</td>\n",
       "      <td>4.274640</td>\n",
       "      <td>16198.049590</td>\n",
       "      <td>13.666727</td>\n",
       "      <td>8.153058</td>\n",
       "      <td>48.50134</td>\n",
       "      <td>0.121914</td>\n",
       "      <td>16.408728</td>\n",
       "      <td>146.109943</td>\n",
       "      <td>8524.370502</td>\n",
       "      <td>45.381316</td>\n",
       "      <td>36.262628</td>\n",
       "      <td>0.096614</td>\n",
       "      <td>2</td>\n",
       "      <td>737509.0</td>\n",
       "    </tr>\n",
       "  </tbody>\n",
       "</table>\n",
       "</div>"
      ],
      "text/plain": [
       "             Id        AB          AF          AH         AM        AR  \\\n",
       "0  000ff2bfdfe9  0.209377  3109.03329   85.200147  22.394407  8.138688   \n",
       "1  007255e47698  0.145282   978.76416   85.200147  36.968889  8.138688   \n",
       "2  013f2bd269f5  0.470030  2635.10654   85.200147  32.360553  8.138688   \n",
       "3  043ac50845d5  0.252107  3819.65177  120.201618  77.112203  8.138688   \n",
       "4  044fb8a146ec  0.380297  3733.04844   85.200147  14.103738  8.138688   \n",
       "\n",
       "         AX        AY         AZ          BC          BD       BN          BP  \\\n",
       "0  0.699861  0.025578   9.812214    5.555634  4126.58731  22.5984  175.638726   \n",
       "1  3.632190  0.025578  13.517790    1.229900  5496.92824  19.4205  155.868030   \n",
       "2  6.732840  0.025578  12.824570    1.229900  5135.78024  26.4825  128.988531   \n",
       "3  3.685344  0.025578  11.053708    1.229900  4169.67738  23.6577  237.282264   \n",
       "4  3.942255  0.054810   3.396778  102.151980  5728.73412  24.0108  324.546318   \n",
       "\n",
       "           BQ           BR          BZ         CB        CC         CD  \\\n",
       "0  152.707705   823.928241  257.432377  47.223358  0.563481  23.387600   \n",
       "1   14.754720    51.216883  257.432377  30.284345  0.484710  50.628208   \n",
       "2  219.320160   482.141594  257.432377  32.563713  0.495852  85.955376   \n",
       "3   11.050410   661.518640  257.432377  15.201914  0.717882  88.159360   \n",
       "4  149.717165  6074.859475  257.432377  82.213495  0.536467  72.644264   \n",
       "\n",
       "          CF        CH        CL        CR         CS        CU         CW  \\\n",
       "0   4.851915  0.023482  1.050225  0.069225  13.784111  1.302012  36.205956   \n",
       "1   6.085041  0.031442  1.113875  1.117800  28.310953  1.357182  37.476568   \n",
       "2   5.376488  0.036218  1.050225  0.700350  39.364743  1.009611  21.459644   \n",
       "3   2.347652  0.029054  1.400300  0.636075  41.116960  0.722727  21.530392   \n",
       "4  30.537722  0.025472  1.050225  0.693150  31.724726  0.827550  34.415360   \n",
       "\n",
       "         DA          DE       DF        DH          DI        DL         DN  \\\n",
       "0  69.08340  295.570575  0.23868  0.284232   89.245560  84.31664  29.657104   \n",
       "1  70.79836  178.553100  0.23868  0.363489  110.581815  75.74548  37.532000   \n",
       "2  70.81970  321.426625  0.23868  0.210441  120.056438  65.46984  28.053464   \n",
       "3  47.27586  196.607985  0.23868  0.292431  139.824570  71.57120  24.354856   \n",
       "4  74.06532  200.178160  0.23868  0.207708   97.920120  52.83888  26.019912   \n",
       "\n",
       "         DU       DV         DY        EB        EE            EG        EH  \\\n",
       "0  5.310690  1.74307  23.187704  7.294176  1.987283   1433.166750  0.949104   \n",
       "1  0.005518  1.74307  17.222328  4.926396  0.858603   1111.287150  0.003042   \n",
       "2  1.289739  1.74307  36.861352  7.813674  8.146651   1494.076488  0.377208   \n",
       "3  2.655345  1.74307  52.003884  7.386060  3.813326  15691.552180  0.614484   \n",
       "4  1.144902  1.74307   9.064856  7.350720  3.490846   1403.656300  0.164268   \n",
       "\n",
       "  EJ          EL         EP         EU          FC         FD            FE  \\\n",
       "0  B   30.879420  78.526968   3.828384   13.394640  10.265073   9028.291921   \n",
       "1  A  109.125159  95.415086  52.260480   17.175984   0.296850   6785.003474   \n",
       "2  B  109.125159  78.526968   5.390628  224.207424   8.745201   8338.906181   \n",
       "3  B   31.674357  78.526968  31.323372   59.301984   7.884336  10965.766040   \n",
       "4  B  109.125159  91.994825  51.141336   29.102640   4.274640  16198.049590   \n",
       "\n",
       "          FI        FL        FR        FS         GB          GE  \\\n",
       "0   3.583450  7.298162   1.73855  0.094822  11.339138   72.611063   \n",
       "1  10.358927  0.173229   0.49706  0.568932   9.292698   72.611063   \n",
       "2  11.626917  7.709560   0.97556  1.198821  37.077772   88.609437   \n",
       "3  14.852022  6.122162   0.49706  0.284466  18.529584   82.416803   \n",
       "4  13.666727  8.153058  48.50134  0.121914  16.408728  146.109943   \n",
       "\n",
       "             GF         GH         GI         GL  Class   epsilon  \n",
       "0   2003.810319  22.136229  69.834944   0.120343      1  737137.0  \n",
       "1  27981.562750  29.135430  32.131996  21.978000      0       NaN  \n",
       "2  13676.957810  28.022851  35.192676   0.196941      0       NaN  \n",
       "3   2094.262452  39.948656  90.493248   0.155829      0       NaN  \n",
       "4   8524.370502  45.381316  36.262628   0.096614      2  737509.0  "
      ]
     },
     "execution_count": 14,
     "metadata": {},
     "output_type": "execute_result"
    }
   ],
   "source": [
    "train_df.head()"
   ]
  },
  {
   "cell_type": "markdown",
   "id": "2c1d2cb9",
   "metadata": {
    "papermill": {
     "duration": 0.021915,
     "end_time": "2023-06-18T16:03:29.026865",
     "exception": false,
     "start_time": "2023-06-18T16:03:29.004950",
     "status": "completed"
    },
    "tags": []
   },
   "source": [
    "<br></br>"
   ]
  },
  {
   "cell_type": "markdown",
   "id": "98adfe8c",
   "metadata": {
    "papermill": {
     "duration": 0.021495,
     "end_time": "2023-06-18T16:03:29.070368",
     "exception": false,
     "start_time": "2023-06-18T16:03:29.048873",
     "status": "completed"
    },
    "tags": []
   },
   "source": [
    "# Preprocess"
   ]
  },
  {
   "cell_type": "markdown",
   "id": "685d0928",
   "metadata": {
    "papermill": {
     "duration": 0.021767,
     "end_time": "2023-06-18T16:03:29.114017",
     "exception": false,
     "start_time": "2023-06-18T16:03:29.092250",
     "status": "completed"
    },
    "tags": []
   },
   "source": [
    "## Imputation"
   ]
  },
  {
   "cell_type": "code",
   "execution_count": 15,
   "id": "56d5b5fc",
   "metadata": {
    "execution": {
     "iopub.execute_input": "2023-06-18T16:03:29.159510Z",
     "iopub.status.busy": "2023-06-18T16:03:29.159133Z",
     "iopub.status.idle": "2023-06-18T16:03:29.165046Z",
     "shell.execute_reply": "2023-06-18T16:03:29.163944Z"
    },
    "papermill": {
     "duration": 0.031409,
     "end_time": "2023-06-18T16:03:29.167284",
     "exception": false,
     "start_time": "2023-06-18T16:03:29.135875",
     "status": "completed"
    },
    "tags": []
   },
   "outputs": [],
   "source": [
    "# define features type\n",
    "target_feature = 'Class'\n",
    "unuse_features = ['Id']\n",
    "cat_features = ['EJ']\n",
    "num_features = list(set(train_df.columns)-set([target_feature]+cat_features+unuse_features))"
   ]
  },
  {
   "cell_type": "code",
   "execution_count": 16,
   "id": "db9cfbd2",
   "metadata": {
    "execution": {
     "iopub.execute_input": "2023-06-18T16:03:29.213020Z",
     "iopub.status.busy": "2023-06-18T16:03:29.212574Z",
     "iopub.status.idle": "2023-06-18T16:03:29.577965Z",
     "shell.execute_reply": "2023-06-18T16:03:29.577003Z"
    },
    "papermill": {
     "duration": 0.391414,
     "end_time": "2023-06-18T16:03:29.580693",
     "exception": false,
     "start_time": "2023-06-18T16:03:29.189279",
     "status": "completed"
    },
    "tags": []
   },
   "outputs": [],
   "source": [
    "from sklearn.impute import SimpleImputer\n",
    "imputer = SimpleImputer(missing_values=np.nan, strategy='median')\n",
    "train_df[num_features] = imputer.fit_transform(train_df[num_features])\n",
    "test_df [num_features] = imputer.transform(test_df[num_features])"
   ]
  },
  {
   "cell_type": "markdown",
   "id": "1dc56a29",
   "metadata": {
    "papermill": {
     "duration": 0.021706,
     "end_time": "2023-06-18T16:03:29.624406",
     "exception": false,
     "start_time": "2023-06-18T16:03:29.602700",
     "status": "completed"
    },
    "tags": []
   },
   "source": [
    "<br>"
   ]
  },
  {
   "cell_type": "markdown",
   "id": "944a1070",
   "metadata": {
    "papermill": {
     "duration": 0.02154,
     "end_time": "2023-06-18T16:03:29.667875",
     "exception": false,
     "start_time": "2023-06-18T16:03:29.646335",
     "status": "completed"
    },
    "tags": []
   },
   "source": [
    "## Add Interactions"
   ]
  },
  {
   "cell_type": "code",
   "execution_count": 17,
   "id": "dd561eb4",
   "metadata": {
    "execution": {
     "iopub.execute_input": "2023-06-18T16:03:29.713402Z",
     "iopub.status.busy": "2023-06-18T16:03:29.713036Z",
     "iopub.status.idle": "2023-06-18T16:03:29.724893Z",
     "shell.execute_reply": "2023-06-18T16:03:29.723728Z"
    },
    "papermill": {
     "duration": 0.037268,
     "end_time": "2023-06-18T16:03:29.727102",
     "exception": false,
     "start_time": "2023-06-18T16:03:29.689834",
     "status": "completed"
    },
    "tags": []
   },
   "outputs": [],
   "source": [
    "import warnings\n",
    "from scipy.stats import pearsonr\n",
    "\n",
    "class AddInteraction:\n",
    "    def __init__(self):\n",
    "        warnings.simplefilter(action='ignore', category=pd.errors.PerformanceWarning)\n",
    "        \n",
    "    def fit(self,data,features,corr_cutoff=0.7):\n",
    "        self.fit_data = data\n",
    "        self.features = features\n",
    "        self.corr_cutoff = corr_cutoff\n",
    "        self.interaction_features = []\n",
    "        for i in range(len(self.features)):\n",
    "            for j in range(len(self.features)):\n",
    "                if i>j:\n",
    "                    col_i = self.features[i]\n",
    "                    col_j = self.features[j]\n",
    "                    corr_i,_ = pearsonr(data[col_i],data[col_i]*data[col_j])\n",
    "                    corr_j,_ = pearsonr(data[col_j],data[col_i]*data[col_j])\n",
    "                    if (np.abs(corr_i)<corr_cutoff) & (np.abs(corr_j)<corr_cutoff):\n",
    "                        self.interaction_features.append([col_i,col_j])\n",
    "                    \n",
    "    def transform(self,data):\n",
    "        d = data.copy()\n",
    "        for col_i,col_j in self.interaction_features:\n",
    "            d[f'{col_i}*{col_j}'] = d[col_i]*d[col_j]\n",
    "        return d"
   ]
  },
  {
   "cell_type": "code",
   "execution_count": 18,
   "id": "0c8ac659",
   "metadata": {
    "execution": {
     "iopub.execute_input": "2023-06-18T16:03:29.774060Z",
     "iopub.status.busy": "2023-06-18T16:03:29.773604Z",
     "iopub.status.idle": "2023-06-18T16:03:29.782929Z",
     "shell.execute_reply": "2023-06-18T16:03:29.781653Z"
    },
    "papermill": {
     "duration": 0.035785,
     "end_time": "2023-06-18T16:03:29.785403",
     "exception": false,
     "start_time": "2023-06-18T16:03:29.749618",
     "status": "completed"
    },
    "tags": []
   },
   "outputs": [],
   "source": [
    "train_df2 = train_df.copy()\n",
    "test_df2  = test_df.copy()\n",
    "\n",
    "if CFG.ADD_INTERACTION:\n",
    "    interaction_maker = AddInteraction()\n",
    "    interaction_maker.fit(train_df2,num_features,corr_cutoff=0.7)\n",
    "    train_df2 = interaction_maker.transform(train_df2)\n",
    "    test_df2  = interaction_maker.transform(test_df2)"
   ]
  },
  {
   "cell_type": "code",
   "execution_count": 19,
   "id": "fd185812",
   "metadata": {
    "execution": {
     "iopub.execute_input": "2023-06-18T16:03:29.830731Z",
     "iopub.status.busy": "2023-06-18T16:03:29.830310Z",
     "iopub.status.idle": "2023-06-18T16:03:29.837258Z",
     "shell.execute_reply": "2023-06-18T16:03:29.836378Z"
    },
    "papermill": {
     "duration": 0.0323,
     "end_time": "2023-06-18T16:03:29.839589",
     "exception": false,
     "start_time": "2023-06-18T16:03:29.807289",
     "status": "completed"
    },
    "tags": []
   },
   "outputs": [
    {
     "data": {
      "text/plain": [
       "((617, 59), (5, 58))"
      ]
     },
     "execution_count": 19,
     "metadata": {},
     "output_type": "execute_result"
    }
   ],
   "source": [
    "train_df2.shape,test_df2.shape"
   ]
  },
  {
   "cell_type": "code",
   "execution_count": 20,
   "id": "558c34d0",
   "metadata": {
    "execution": {
     "iopub.execute_input": "2023-06-18T16:03:29.885814Z",
     "iopub.status.busy": "2023-06-18T16:03:29.885094Z",
     "iopub.status.idle": "2023-06-18T16:03:29.889580Z",
     "shell.execute_reply": "2023-06-18T16:03:29.888731Z"
    },
    "papermill": {
     "duration": 0.030667,
     "end_time": "2023-06-18T16:03:29.892186",
     "exception": false,
     "start_time": "2023-06-18T16:03:29.861519",
     "status": "completed"
    },
    "tags": []
   },
   "outputs": [],
   "source": [
    "# define numerical type features\n",
    "num_features = list(set(train_df2.columns)-set([target_feature]+cat_features+unuse_features))"
   ]
  },
  {
   "cell_type": "markdown",
   "id": "6e5f2ace",
   "metadata": {
    "papermill": {
     "duration": 0.021611,
     "end_time": "2023-06-18T16:03:29.936277",
     "exception": false,
     "start_time": "2023-06-18T16:03:29.914666",
     "status": "completed"
    },
    "tags": []
   },
   "source": [
    "<br>"
   ]
  },
  {
   "cell_type": "markdown",
   "id": "88f6c21c",
   "metadata": {
    "papermill": {
     "duration": 0.021608,
     "end_time": "2023-06-18T16:03:29.980223",
     "exception": false,
     "start_time": "2023-06-18T16:03:29.958615",
     "status": "completed"
    },
    "tags": []
   },
   "source": [
    "## Feature Selection"
   ]
  },
  {
   "cell_type": "markdown",
   "id": "e93bbab9",
   "metadata": {
    "papermill": {
     "duration": 0.021702,
     "end_time": "2023-06-18T16:03:30.024909",
     "exception": false,
     "start_time": "2023-06-18T16:03:30.003207",
     "status": "completed"
    },
    "tags": []
   },
   "source": [
    "### Numerical"
   ]
  },
  {
   "cell_type": "code",
   "execution_count": 21,
   "id": "72b823cd",
   "metadata": {
    "execution": {
     "iopub.execute_input": "2023-06-18T16:03:30.070847Z",
     "iopub.status.busy": "2023-06-18T16:03:30.070160Z",
     "iopub.status.idle": "2023-06-18T16:03:30.572604Z",
     "shell.execute_reply": "2023-06-18T16:03:30.571448Z"
    },
    "papermill": {
     "duration": 0.528544,
     "end_time": "2023-06-18T16:03:30.575351",
     "exception": false,
     "start_time": "2023-06-18T16:03:30.046807",
     "status": "completed"
    },
    "tags": []
   },
   "outputs": [],
   "source": [
    "from statsmodels.formula.api import ols\n",
    "from statsmodels.stats.anova import anova_lm"
   ]
  },
  {
   "cell_type": "code",
   "execution_count": 22,
   "id": "d1251f0d",
   "metadata": {
    "execution": {
     "iopub.execute_input": "2023-06-18T16:03:30.622420Z",
     "iopub.status.busy": "2023-06-18T16:03:30.621160Z",
     "iopub.status.idle": "2023-06-18T16:03:30.627601Z",
     "shell.execute_reply": "2023-06-18T16:03:30.626548Z"
    },
    "papermill": {
     "duration": 0.032135,
     "end_time": "2023-06-18T16:03:30.629943",
     "exception": false,
     "start_time": "2023-06-18T16:03:30.597808",
     "status": "completed"
    },
    "tags": []
   },
   "outputs": [],
   "source": [
    "def log_offset(x):\n",
    "    if min(x)>0:\n",
    "        offset = 0\n",
    "    elif min(x)==0:\n",
    "        offset = 1e-3\n",
    "    else:\n",
    "        offset = min(x)+1e-3\n",
    "        print('minimum = {:.3f}'.format(min(x)))\n",
    "    return np.log(x+offset)"
   ]
  },
  {
   "cell_type": "code",
   "execution_count": 23,
   "id": "0bea0d21",
   "metadata": {
    "execution": {
     "iopub.execute_input": "2023-06-18T16:03:30.675824Z",
     "iopub.status.busy": "2023-06-18T16:03:30.675404Z",
     "iopub.status.idle": "2023-06-18T16:03:30.682515Z",
     "shell.execute_reply": "2023-06-18T16:03:30.681172Z"
    },
    "papermill": {
     "duration": 0.03316,
     "end_time": "2023-06-18T16:03:30.685099",
     "exception": false,
     "start_time": "2023-06-18T16:03:30.651939",
     "status": "completed"
    },
    "tags": []
   },
   "outputs": [
    {
     "data": {
      "text/plain": [
       "0.01"
      ]
     },
     "execution_count": 23,
     "metadata": {},
     "output_type": "execute_result"
    }
   ],
   "source": [
    "CFG.FS_ALPHA"
   ]
  },
  {
   "cell_type": "code",
   "execution_count": 24,
   "id": "abf90443",
   "metadata": {
    "execution": {
     "iopub.execute_input": "2023-06-18T16:03:30.732951Z",
     "iopub.status.busy": "2023-06-18T16:03:30.732045Z",
     "iopub.status.idle": "2023-06-18T16:03:31.720098Z",
     "shell.execute_reply": "2023-06-18T16:03:31.718897Z"
    },
    "papermill": {
     "duration": 1.01508,
     "end_time": "2023-06-18T16:03:31.723177",
     "exception": false,
     "start_time": "2023-06-18T16:03:30.708097",
     "status": "completed"
    },
    "tags": []
   },
   "outputs": [
    {
     "name": "stderr",
     "output_type": "stream",
     "text": [
      "100%|██████████| 56/56 [00:00<00:00, 57.52it/s]\n"
     ]
    }
   ],
   "source": [
    "pvalue_list = []\n",
    "for col in tqdm(num_features):\n",
    "    ols_data = train_df2[[col,target_feature]].copy()\n",
    "    ols_data.columns = ['feature','target']\n",
    "\n",
    "    formula = 'feature ~ C(target)'\n",
    "    model = ols(formula=formula,data=ols_data).fit()\n",
    "    pvalue = anova_lm(model)['PR(>F)']['C(target)']\n",
    "    \n",
    "    pvalue_list.append([col,pvalue])\n",
    "    \n",
    "pvalue_df = pd.DataFrame(pvalue_list,columns=['feature','pvalue']).sort_values('pvalue',ascending=False)\n",
    "unsignificant_features = pvalue_df[pvalue_df.pvalue>CFG.FS_ALPHA].feature.tolist()"
   ]
  },
  {
   "cell_type": "code",
   "execution_count": 25,
   "id": "6927fd02",
   "metadata": {
    "execution": {
     "iopub.execute_input": "2023-06-18T16:03:31.774575Z",
     "iopub.status.busy": "2023-06-18T16:03:31.774200Z",
     "iopub.status.idle": "2023-06-18T16:03:32.203125Z",
     "shell.execute_reply": "2023-06-18T16:03:32.201888Z"
    },
    "papermill": {
     "duration": 0.457559,
     "end_time": "2023-06-18T16:03:32.205977",
     "exception": false,
     "start_time": "2023-06-18T16:03:31.748418",
     "status": "completed"
    },
    "tags": []
   },
   "outputs": [
    {
     "name": "stderr",
     "output_type": "stream",
     "text": [
      "100%|██████████| 22/22 [00:00<00:00, 53.04it/s]\n"
     ]
    }
   ],
   "source": [
    "log_pvalue_list = []\n",
    "for col in tqdm(unsignificant_features):\n",
    "    ols_data = train_df2[[col,target_feature]].copy()\n",
    "    ols_data.columns = ['feature','target']\n",
    "    ols_data['feature'] = log_offset(ols_data['feature'])\n",
    "\n",
    "    formula = 'feature ~ C(target)'\n",
    "    model = ols(formula=formula,data=ols_data).fit()\n",
    "    pvalue = anova_lm(model)['PR(>F)']['C(target)']\n",
    "    \n",
    "    log_pvalue_list.append([col,pvalue])\n",
    "    \n",
    "log_pvalue_df = pd.DataFrame(log_pvalue_list,columns=['feature','pvalue']).sort_values('pvalue',ascending=False)\n",
    "delete_features = log_pvalue_df[log_pvalue_df.pvalue>CFG.FS_ALPHA].feature.tolist()"
   ]
  },
  {
   "cell_type": "code",
   "execution_count": 26,
   "id": "d10715e2",
   "metadata": {
    "execution": {
     "iopub.execute_input": "2023-06-18T16:03:32.256600Z",
     "iopub.status.busy": "2023-06-18T16:03:32.256004Z",
     "iopub.status.idle": "2023-06-18T16:03:32.270286Z",
     "shell.execute_reply": "2023-06-18T16:03:32.269335Z"
    },
    "papermill": {
     "duration": 0.042269,
     "end_time": "2023-06-18T16:03:32.272810",
     "exception": false,
     "start_time": "2023-06-18T16:03:32.230541",
     "status": "completed"
    },
    "tags": []
   },
   "outputs": [],
   "source": [
    "train_df3 = train_df2.copy()\n",
    "test_df3  = test_df2.copy()\n",
    "\n",
    "train_df3.drop(columns=delete_features,inplace=True)\n",
    "test_df3 .drop(columns=delete_features,inplace=True)\n",
    "\n",
    "log_features = list(set(unsignificant_features)-set(delete_features))\n",
    "for col in log_features:\n",
    "    train_df3[col] = log_offset(train_df3[col])\n",
    "    test_df3 [col] = log_offset(test_df3 [col])"
   ]
  },
  {
   "cell_type": "code",
   "execution_count": 27,
   "id": "f7b050c9",
   "metadata": {
    "execution": {
     "iopub.execute_input": "2023-06-18T16:03:32.322607Z",
     "iopub.status.busy": "2023-06-18T16:03:32.321913Z",
     "iopub.status.idle": "2023-06-18T16:03:32.326801Z",
     "shell.execute_reply": "2023-06-18T16:03:32.325904Z"
    },
    "papermill": {
     "duration": 0.032783,
     "end_time": "2023-06-18T16:03:32.329313",
     "exception": false,
     "start_time": "2023-06-18T16:03:32.296530",
     "status": "completed"
    },
    "tags": []
   },
   "outputs": [],
   "source": [
    "if CFG.VERBOSE:\n",
    "    print('> Log Features:', log_features)\n",
    "    print('> Delete Features:', delete_features)"
   ]
  },
  {
   "cell_type": "code",
   "execution_count": 28,
   "id": "a45c0bf0",
   "metadata": {
    "execution": {
     "iopub.execute_input": "2023-06-18T16:03:32.384699Z",
     "iopub.status.busy": "2023-06-18T16:03:32.384302Z",
     "iopub.status.idle": "2023-06-18T16:03:32.391594Z",
     "shell.execute_reply": "2023-06-18T16:03:32.390443Z"
    },
    "papermill": {
     "duration": 0.041776,
     "end_time": "2023-06-18T16:03:32.395142",
     "exception": false,
     "start_time": "2023-06-18T16:03:32.353366",
     "status": "completed"
    },
    "tags": []
   },
   "outputs": [
    {
     "data": {
      "text/plain": [
       "((617, 59), (617, 42))"
      ]
     },
     "execution_count": 28,
     "metadata": {},
     "output_type": "execute_result"
    }
   ],
   "source": [
    "train_df2.shape,train_df3.shape"
   ]
  },
  {
   "cell_type": "code",
   "execution_count": 29,
   "id": "83dc2983",
   "metadata": {
    "execution": {
     "iopub.execute_input": "2023-06-18T16:03:32.450378Z",
     "iopub.status.busy": "2023-06-18T16:03:32.449765Z",
     "iopub.status.idle": "2023-06-18T16:03:32.456968Z",
     "shell.execute_reply": "2023-06-18T16:03:32.455926Z"
    },
    "papermill": {
     "duration": 0.038902,
     "end_time": "2023-06-18T16:03:32.459841",
     "exception": false,
     "start_time": "2023-06-18T16:03:32.420939",
     "status": "completed"
    },
    "tags": []
   },
   "outputs": [],
   "source": [
    "# define features type\n",
    "target_feature = 'Class'\n",
    "unuse_features = ['Id']\n",
    "cat_features = ['EJ']\n",
    "num_features = list(set(train_df3.columns)-set([target_feature]+cat_features+unuse_features))"
   ]
  },
  {
   "cell_type": "markdown",
   "id": "3113b374",
   "metadata": {
    "papermill": {
     "duration": 0.023982,
     "end_time": "2023-06-18T16:03:32.508186",
     "exception": false,
     "start_time": "2023-06-18T16:03:32.484204",
     "status": "completed"
    },
    "tags": []
   },
   "source": [
    "<br></br>"
   ]
  },
  {
   "cell_type": "markdown",
   "id": "52e9df97",
   "metadata": {
    "papermill": {
     "duration": 0.023422,
     "end_time": "2023-06-18T16:03:32.555431",
     "exception": false,
     "start_time": "2023-06-18T16:03:32.532009",
     "status": "completed"
    },
    "tags": []
   },
   "source": [
    "# Modeling"
   ]
  },
  {
   "cell_type": "markdown",
   "id": "e2edbf12",
   "metadata": {
    "papermill": {
     "duration": 0.023989,
     "end_time": "2023-06-18T16:03:32.605551",
     "exception": false,
     "start_time": "2023-06-18T16:03:32.581562",
     "status": "completed"
    },
    "tags": []
   },
   "source": [
    "- No Interaction, Binary\n",
    "- No Interaction, MultiClass\n",
    "- Interaction, Binary\n",
    "- Interaction, MultiClass"
   ]
  },
  {
   "cell_type": "code",
   "execution_count": 30,
   "id": "057d1b9d",
   "metadata": {
    "execution": {
     "iopub.execute_input": "2023-06-18T16:03:32.654931Z",
     "iopub.status.busy": "2023-06-18T16:03:32.654505Z",
     "iopub.status.idle": "2023-06-18T16:03:32.660046Z",
     "shell.execute_reply": "2023-06-18T16:03:32.659150Z"
    },
    "papermill": {
     "duration": 0.03307,
     "end_time": "2023-06-18T16:03:32.662370",
     "exception": false,
     "start_time": "2023-06-18T16:03:32.629300",
     "status": "completed"
    },
    "tags": []
   },
   "outputs": [],
   "source": [
    "from sklearn.model_selection import StratifiedKFold"
   ]
  },
  {
   "cell_type": "code",
   "execution_count": 31,
   "id": "be964585",
   "metadata": {
    "execution": {
     "iopub.execute_input": "2023-06-18T16:03:32.712564Z",
     "iopub.status.busy": "2023-06-18T16:03:32.711808Z",
     "iopub.status.idle": "2023-06-18T16:03:32.719275Z",
     "shell.execute_reply": "2023-06-18T16:03:32.718431Z"
    },
    "papermill": {
     "duration": 0.035227,
     "end_time": "2023-06-18T16:03:32.721617",
     "exception": false,
     "start_time": "2023-06-18T16:03:32.686390",
     "status": "completed"
    },
    "tags": []
   },
   "outputs": [],
   "source": [
    "def balanced_log_loss(y_true, y_pred):\n",
    "    N_0 = np.sum(1 - y_true)\n",
    "    N_1 = np.sum(y_true)\n",
    "    p_1 = np.clip(y_pred, 1e-15, 1 - 1e-15)\n",
    "    p_0 = 1 - p_1\n",
    "    log_loss_0 = -np.sum((1 - y_true) * np.log(p_0))\n",
    "    log_loss_1 = -np.sum(y_true * np.log(p_1))\n",
    "    w_0 = 1 / N_0\n",
    "    w_1 = 1 / N_1\n",
    "    _balanced_log_loss = 2*(w_0 * log_loss_0 + w_1 * log_loss_1) / (w_0 + w_1)\n",
    "    return _balanced_log_loss/(N_0+N_1)"
   ]
  },
  {
   "cell_type": "code",
   "execution_count": 32,
   "id": "8c63362b",
   "metadata": {
    "execution": {
     "iopub.execute_input": "2023-06-18T16:03:32.781292Z",
     "iopub.status.busy": "2023-06-18T16:03:32.780719Z",
     "iopub.status.idle": "2023-06-18T16:03:32.790056Z",
     "shell.execute_reply": "2023-06-18T16:03:32.788963Z"
    },
    "papermill": {
     "duration": 0.040213,
     "end_time": "2023-06-18T16:03:32.792531",
     "exception": false,
     "start_time": "2023-06-18T16:03:32.752318",
     "status": "completed"
    },
    "tags": []
   },
   "outputs": [],
   "source": [
    "class OneHotEncoder:\n",
    "    def __init__(self):\n",
    "        pass\n",
    "    \n",
    "    def fit(self,data,columns):\n",
    "        self.transform_list = []\n",
    "        for col in cat_features:\n",
    "            for i,value in enumerate(sorted(data[col].unique())):\n",
    "                if i>0:\n",
    "                    self.transform_list.append([col,value])\n",
    "        \n",
    "    def transform(self,data):\n",
    "        new_data = data.copy()\n",
    "        for col,value in self.transform_list:\n",
    "            new_data[f'{col}_{value}'] = np.where(new_data[col]==value,1,0)\n",
    "        drop_columns = pd.unique(np.array(self.transform_list)[:,0])\n",
    "        new_data.drop(columns=drop_columns,inplace=True)\n",
    "        return new_data"
   ]
  },
  {
   "cell_type": "code",
   "execution_count": 33,
   "id": "855c8dca",
   "metadata": {
    "execution": {
     "iopub.execute_input": "2023-06-18T16:03:32.846831Z",
     "iopub.status.busy": "2023-06-18T16:03:32.846161Z",
     "iopub.status.idle": "2023-06-18T16:03:32.855458Z",
     "shell.execute_reply": "2023-06-18T16:03:32.854128Z"
    },
    "papermill": {
     "duration": 0.040447,
     "end_time": "2023-06-18T16:03:32.858017",
     "exception": false,
     "start_time": "2023-06-18T16:03:32.817570",
     "status": "completed"
    },
    "tags": []
   },
   "outputs": [],
   "source": [
    "def get_weighted_proba(ps):\n",
    "    p = np.mean(ps,axis=0)\n",
    "    class_0_est_instances = p[:,0].sum()\n",
    "    others_est_instances = p[:,1:].sum()\n",
    "    # we reweight the probs, since the loss is also balanced like this\n",
    "    # our models out of the box optimize CE\n",
    "    # with these changes they optimize balanced CE\n",
    "    new_p = p * np.array([\n",
    "        [1/(class_0_est_instances if i==0 else others_est_instances)\n",
    "         for i in range(p.shape[1])]\n",
    "    ])\n",
    "    new_p = new_p / np.sum(new_p,axis=1,keepdims=1)\n",
    "    new_p = np.concatenate((new_p[:,:1],np.sum(new_p[:,1:],1,keepdims=True)), 1)\n",
    "    return new_p\n",
    "\n",
    "def proba_multiclass_to_binary(ps,power=1):\n",
    "    class_0_proba = ps[:,0].reshape(-1,1)**power\n",
    "    class_1_proba = (1-class_0_proba).reshape(-1,1)\n",
    "    return np.concatenate((class_0_proba,class_1_proba),axis=1)"
   ]
  },
  {
   "cell_type": "code",
   "execution_count": 34,
   "id": "6d1da3e3",
   "metadata": {
    "execution": {
     "iopub.execute_input": "2023-06-18T16:03:32.910587Z",
     "iopub.status.busy": "2023-06-18T16:03:32.910162Z",
     "iopub.status.idle": "2023-06-18T16:03:37.003944Z",
     "shell.execute_reply": "2023-06-18T16:03:37.002574Z"
    },
    "papermill": {
     "duration": 4.124126,
     "end_time": "2023-06-18T16:03:37.008063",
     "exception": false,
     "start_time": "2023-06-18T16:03:32.883937",
     "status": "completed"
    },
    "tags": []
   },
   "outputs": [],
   "source": [
    "from copy import deepcopy\n",
    "from catboost import CatBoostClassifier, Pool\n",
    "from xgboost import XGBClassifier\n",
    "from tabpfn import TabPFNClassifier"
   ]
  },
  {
   "cell_type": "code",
   "execution_count": 35,
   "id": "712df219",
   "metadata": {
    "execution": {
     "iopub.execute_input": "2023-06-18T16:03:37.059518Z",
     "iopub.status.busy": "2023-06-18T16:03:37.058596Z",
     "iopub.status.idle": "2023-06-18T16:03:37.665471Z",
     "shell.execute_reply": "2023-06-18T16:03:37.664166Z"
    },
    "papermill": {
     "duration": 0.635527,
     "end_time": "2023-06-18T16:03:37.668002",
     "exception": false,
     "start_time": "2023-06-18T16:03:37.032475",
     "status": "completed"
    },
    "tags": []
   },
   "outputs": [
    {
     "name": "stdout",
     "output_type": "stream",
     "text": [
      "Loading model that can be used for inference only\n",
      "Using a Transformer with 25.82 M parameters\n"
     ]
    }
   ],
   "source": [
    "# (1) CatBoost\n",
    "params_catboost = {\n",
    "    'random_state':CFG.SEED,\n",
    "    'early_stopping_rounds' : CFG.ES,\n",
    "    'learning_rate' : CFG.LR,\n",
    "    'iterations' : CFG.EPOCHS,\n",
    "    'loss_function': 'MultiClass',\n",
    "    'auto_class_weights' : 'Balanced',\n",
    "    'grow_policy' : 'Lossguide', # 'SymmetricTree','Depthwise'\n",
    "    'use_best_model' : True,\n",
    "    'allow_writing_files' : False,\n",
    "    'verbose' : False,\n",
    "    'max_depth': 10,\n",
    "    'l2_leaf_reg' : 1,\n",
    "}\n",
    "ref_catboost_model = CatBoostClassifier(**params_catboost)\n",
    "\n",
    "# (2) XGBoost\n",
    "params_xgboost = {\n",
    "    'random_state':CFG.SEED,\n",
    "    'early_stopping_rounds' : CFG.ES,\n",
    "    'learning_rate' : CFG.LR,\n",
    "    'n_estimators' : CFG.EPOCHS,\n",
    "    'loss_function': 'MultiClass',\n",
    "    'verbosity' : 0,\n",
    "    'max_depth': 10,\n",
    "    'n_jobs' : -1,\n",
    "}\n",
    "ref_xgboost_model = XGBClassifier(**params_xgboost)\n",
    "\n",
    "# (3) TabPFN\n",
    "ref_tabpfn_model = TabPFNClassifier(N_ensemble_configurations=64,seed=CFG.SEED,device=CFG.DEVICE)"
   ]
  },
  {
   "cell_type": "code",
   "execution_count": 36,
   "id": "65a3aad0",
   "metadata": {
    "execution": {
     "iopub.execute_input": "2023-06-18T16:03:37.721792Z",
     "iopub.status.busy": "2023-06-18T16:03:37.720985Z",
     "iopub.status.idle": "2023-06-18T16:25:48.061332Z",
     "shell.execute_reply": "2023-06-18T16:25:48.060126Z"
    },
    "papermill": {
     "duration": 1330.393475,
     "end_time": "2023-06-18T16:25:48.086408",
     "exception": false,
     "start_time": "2023-06-18T16:03:37.692933",
     "status": "completed"
    },
    "tags": []
   },
   "outputs": [
    {
     "name": "stderr",
     "output_type": "stream",
     "text": [
      "[1/3] CatBoost Fitting...:  20%|██        | 1/5 [03:12<12:50, 192.64s/it]"
     ]
    },
    {
     "name": "stdout",
     "output_type": "stream",
     "text": [
      "[5.157170066838859, 3.21735287458906, 3.5877528682740087]\n"
     ]
    },
    {
     "name": "stderr",
     "output_type": "stream",
     "text": [
      "[1/3] CatBoost Fitting...:  40%|████      | 2/5 [08:01<12:27, 249.17s/it]"
     ]
    },
    {
     "name": "stdout",
     "output_type": "stream",
     "text": [
      "[10.522386720058682, 7.2081215820352496, 9.238794971231245]\n"
     ]
    },
    {
     "name": "stderr",
     "output_type": "stream",
     "text": [
      "[1/3] CatBoost Fitting...:  60%|██████    | 3/5 [12:13<08:21, 250.55s/it]"
     ]
    },
    {
     "name": "stdout",
     "output_type": "stream",
     "text": [
      "[5.4352062491735476, 2.906922647181294, 3.2647828974429447]\n"
     ]
    },
    {
     "name": "stderr",
     "output_type": "stream",
     "text": [
      "[1/3] CatBoost Fitting...:  80%|████████  | 4/5 [15:31<03:49, 229.79s/it]"
     ]
    },
    {
     "name": "stdout",
     "output_type": "stream",
     "text": [
      "[6.152115665418651, 5.089869427170583, 8.240076235512792]\n"
     ]
    },
    {
     "name": "stderr",
     "output_type": "stream",
     "text": [
      "[3/3] TabPFN Fitting...: 100%|██████████| 5/5 [22:10<00:00, 266.06s/it]"
     ]
    },
    {
     "name": "stdout",
     "output_type": "stream",
     "text": [
      "[8.166515086370426, 5.064131794275468, 4.623688666728858]\n",
      "CPU times: user 1h 17min 12s, sys: 3min 30s, total: 1h 20min 43s\n",
      "Wall time: 22min 10s\n"
     ]
    },
    {
     "name": "stderr",
     "output_type": "stream",
     "text": [
      "\n"
     ]
    }
   ],
   "source": [
    "%%time\n",
    "# 10분\n",
    "\n",
    "proba_power = 1\n",
    "skf = StratifiedKFold(n_splits=CFG.N_SPLITS,shuffle=True,random_state=CFG.SEED)\n",
    "\n",
    "X = train_df3[cat_features+num_features]\n",
    "y = train_df3[target_feature]\n",
    "\n",
    "# one-hot encoding for XGB, TabPFN\n",
    "oh_encoder = OneHotEncoder()\n",
    "oh_encoder.fit(X,cat_features)\n",
    "X_oh = oh_encoder.transform(X)\n",
    "\n",
    "models = []\n",
    "weights = []\n",
    "preds = []\n",
    "\n",
    "pbar = tqdm(skf.split(X,y),total=CFG.N_SPLITS)\n",
    "for train_idx,val_idx in pbar:\n",
    "    # define train/val dataset\n",
    "    X_train, y_train = X.iloc[train_idx], y.iloc[train_idx]\n",
    "    X_val  , y_val   = X.iloc[val_idx  ], y.iloc[val_idx  ]\n",
    "    X_train_oh, X_val_oh = X_oh.iloc[train_idx], X_oh.iloc[val_idx]\n",
    "    \n",
    "    # dataset for CatBOost\n",
    "    catboost_traindata = Pool(X_train,y_train,cat_features=cat_features)\n",
    "    catboost_valdata   = Pool(X_val  ,y_val  ,cat_features=cat_features)\n",
    "    \n",
    "    # model copy\n",
    "    model_catboost = deepcopy(ref_catboost_model)\n",
    "    model_xgboost  = deepcopy(ref_xgboost_model)\n",
    "    model_tabpfn   = deepcopy(ref_tabpfn_model)\n",
    "    \n",
    "    # modeling - catboost\n",
    "    pbar.set_description('[1/3] CatBoost Fitting...')\n",
    "    model_catboost.fit(catboost_traindata,eval_set=catboost_valdata)\n",
    "    pred_catboost = model_catboost.predict_proba(X_val)\n",
    "    p_catboost = proba_multiclass_to_binary(pred_catboost,power=proba_power)\n",
    "    loss_catboost = balanced_log_loss(np.where(y_val==0,0,1), p_catboost[:, 1])\n",
    "    \n",
    "    # modeling - xgboost\n",
    "    pbar.set_description('[2/3] XGBoost Fitting...')\n",
    "    model_xgboost.fit(X_train_oh,y_train,eval_set=[(X_val_oh,y_val)],verbose=0)\n",
    "    pred_xgboost  = model_xgboost.predict_proba(X_val_oh)\n",
    "    p_xgboost = proba_multiclass_to_binary(pred_xgboost,power=proba_power)\n",
    "    loss_xgboost = balanced_log_loss(np.where(y_val==0,0,1), p_xgboost[:, 1])\n",
    "    \n",
    "    # modeling - tabpfn\n",
    "    pbar.set_description('[3/3] TabPFN Fitting...')\n",
    "    model_tabpfn.fit(X_train_oh,y_train)\n",
    "    pred_tabpfn = model_tabpfn.predict_proba(X_val_oh)\n",
    "    p_tabpfn = proba_multiclass_to_binary(pred_tabpfn,power=proba_power)\n",
    "    loss_tabpfn = balanced_log_loss(np.where(y_val==0,0,1), p_tabpfn[:, 1])\n",
    "    \n",
    "    # appending\n",
    "    models += [model_catboost,model_xgboost,model_tabpfn]\n",
    "    weights += [1/loss_catboost, 1/loss_xgboost, 1/loss_tabpfn]\n",
    "    preds += [pred_catboost, pred_xgboost, pred_tabpfn]\n",
    "    print([1/loss_catboost, 1/loss_xgboost, 1/loss_tabpfn])"
   ]
  },
  {
   "cell_type": "code",
   "execution_count": 37,
   "id": "d19d5a43",
   "metadata": {
    "execution": {
     "iopub.execute_input": "2023-06-18T16:25:48.143747Z",
     "iopub.status.busy": "2023-06-18T16:25:48.143309Z",
     "iopub.status.idle": "2023-06-18T16:25:48.151878Z",
     "shell.execute_reply": "2023-06-18T16:25:48.150764Z"
    },
    "papermill": {
     "duration": 0.040181,
     "end_time": "2023-06-18T16:25:48.154473",
     "exception": false,
     "start_time": "2023-06-18T16:25:48.114292",
     "status": "completed"
    },
    "tags": []
   },
   "outputs": [
    {
     "data": {
      "text/plain": [
       "array([0.19390479, 0.31081452, 0.278726  , 0.09503547, 0.1387324 ,\n",
       "       0.10823922, 0.18398566, 0.3440064 , 0.30629908, 0.16254571,\n",
       "       0.19646869, 0.1213581 , 0.12245125, 0.19746721, 0.21627754])"
      ]
     },
     "execution_count": 37,
     "metadata": {},
     "output_type": "execute_result"
    }
   ],
   "source": [
    "1/np.array(weights)"
   ]
  },
  {
   "cell_type": "markdown",
   "id": "057957be",
   "metadata": {
    "papermill": {
     "duration": 0.02793,
     "end_time": "2023-06-18T16:25:48.211002",
     "exception": false,
     "start_time": "2023-06-18T16:25:48.183072",
     "status": "completed"
    },
    "tags": []
   },
   "source": [
    "<br></br>"
   ]
  },
  {
   "cell_type": "markdown",
   "id": "f4af4486",
   "metadata": {
    "papermill": {
     "duration": 0.027185,
     "end_time": "2023-06-18T16:25:48.266227",
     "exception": false,
     "start_time": "2023-06-18T16:25:48.239042",
     "status": "completed"
    },
    "tags": []
   },
   "source": [
    "# Inference"
   ]
  },
  {
   "cell_type": "markdown",
   "id": "58d1c5dc",
   "metadata": {
    "papermill": {
     "duration": 0.02618,
     "end_time": "2023-06-18T16:25:48.318975",
     "exception": false,
     "start_time": "2023-06-18T16:25:48.292795",
     "status": "completed"
    },
    "tags": []
   },
   "source": [
    "## Train"
   ]
  },
  {
   "cell_type": "code",
   "execution_count": 38,
   "id": "482d5e94",
   "metadata": {
    "execution": {
     "iopub.execute_input": "2023-06-18T16:25:48.374018Z",
     "iopub.status.busy": "2023-06-18T16:25:48.373608Z",
     "iopub.status.idle": "2023-06-18T16:30:24.162790Z",
     "shell.execute_reply": "2023-06-18T16:30:24.161679Z"
    },
    "papermill": {
     "duration": 275.847781,
     "end_time": "2023-06-18T16:30:24.193372",
     "exception": false,
     "start_time": "2023-06-18T16:25:48.345591",
     "status": "completed"
    },
    "tags": []
   },
   "outputs": [
    {
     "name": "stderr",
     "output_type": "stream",
     "text": [
      "100%|██████████| 15/15 [04:35<00:00, 18.38s/it]\n"
     ]
    }
   ],
   "source": [
    "# 방법1 : get_weighted_proba\n",
    "def get_predict_proba(model):\n",
    "    if str(model).find('catboost')>=0:\n",
    "        pred_proba = model.predict_proba(X_pool)\n",
    "    else:\n",
    "        pred_proba = model.predict_proba(X_oh)\n",
    "    return pred_proba\n",
    "\n",
    "X = train_df3[cat_features+num_features]\n",
    "y = train_df3[target_feature]\n",
    "X_oh = oh_encoder.transform(X)\n",
    "X_pool = Pool(X,y,cat_features=cat_features)\n",
    "\n",
    "# 5분\n",
    "ps = [get_predict_proba(model) for model in tqdm(models)]\n",
    "p = get_weighted_proba(ps)"
   ]
  },
  {
   "cell_type": "code",
   "execution_count": 39,
   "id": "16e7d19a",
   "metadata": {
    "execution": {
     "iopub.execute_input": "2023-06-18T16:30:24.251740Z",
     "iopub.status.busy": "2023-06-18T16:30:24.251294Z",
     "iopub.status.idle": "2023-06-18T16:30:24.289962Z",
     "shell.execute_reply": "2023-06-18T16:30:24.288813Z"
    },
    "papermill": {
     "duration": 0.07109,
     "end_time": "2023-06-18T16:30:24.292354",
     "exception": false,
     "start_time": "2023-06-18T16:30:24.221264",
     "status": "completed"
    },
    "tags": []
   },
   "outputs": [
    {
     "name": "stdout",
     "output_type": "stream",
     "text": [
      "1.707554299442405\n"
     ]
    },
    {
     "data": {
      "text/html": [
       "<div>\n",
       "<style scoped>\n",
       "    .dataframe tbody tr th:only-of-type {\n",
       "        vertical-align: middle;\n",
       "    }\n",
       "\n",
       "    .dataframe tbody tr th {\n",
       "        vertical-align: top;\n",
       "    }\n",
       "\n",
       "    .dataframe thead th {\n",
       "        text-align: right;\n",
       "    }\n",
       "</style>\n",
       "<table border=\"1\" class=\"dataframe\">\n",
       "  <thead>\n",
       "    <tr style=\"text-align: right;\">\n",
       "      <th>col_0</th>\n",
       "      <th>0</th>\n",
       "      <th>1</th>\n",
       "    </tr>\n",
       "    <tr>\n",
       "      <th>row_0</th>\n",
       "      <th></th>\n",
       "      <th></th>\n",
       "    </tr>\n",
       "  </thead>\n",
       "  <tbody>\n",
       "    <tr>\n",
       "      <th>0</th>\n",
       "      <td>0</td>\n",
       "      <td>108</td>\n",
       "    </tr>\n",
       "    <tr>\n",
       "      <th>1</th>\n",
       "      <td>486</td>\n",
       "      <td>23</td>\n",
       "    </tr>\n",
       "  </tbody>\n",
       "</table>\n",
       "</div>"
      ],
      "text/plain": [
       "col_0    0    1\n",
       "row_0          \n",
       "0        0  108\n",
       "1      486   23"
      ]
     },
     "execution_count": 39,
     "metadata": {},
     "output_type": "execute_result"
    }
   ],
   "source": [
    "print(balanced_log_loss(y_true=np.where(y==0,1,0),y_pred=p[:,1]))\n",
    "pd.crosstab(np.where(y==0,1,0),np.where(p[:,1]>0.5,1,0))"
   ]
  },
  {
   "cell_type": "code",
   "execution_count": 40,
   "id": "12c075df",
   "metadata": {
    "execution": {
     "iopub.execute_input": "2023-06-18T16:30:24.351459Z",
     "iopub.status.busy": "2023-06-18T16:30:24.351076Z",
     "iopub.status.idle": "2023-06-18T16:34:58.588702Z",
     "shell.execute_reply": "2023-06-18T16:34:58.587537Z"
    },
    "papermill": {
     "duration": 274.299607,
     "end_time": "2023-06-18T16:34:58.621026",
     "exception": false,
     "start_time": "2023-06-18T16:30:24.321419",
     "status": "completed"
    },
    "tags": []
   },
   "outputs": [
    {
     "name": "stderr",
     "output_type": "stream",
     "text": [
      "TabPFN: 100%|██████████| 15/15 [04:34<00:00, 18.28s/it]"
     ]
    },
    {
     "name": "stdout",
     "output_type": "stream",
     "text": [
      "> Balanced Logloss: 0.0567\n",
      "CPU times: user 7min 24s, sys: 1min 41s, total: 9min 5s\n",
      "Wall time: 4min 34s\n"
     ]
    },
    {
     "name": "stderr",
     "output_type": "stream",
     "text": [
      "\n"
     ]
    }
   ],
   "source": [
    "%%time\n",
    "# 방법2 : weighted sum\n",
    "# 10분\n",
    "\n",
    "X = train_df3[cat_features+num_features]\n",
    "y = train_df3[target_feature]\n",
    "X_oh = oh_encoder.transform(X)\n",
    "X_pool = Pool(X,y,cat_features=cat_features)\n",
    "\n",
    "normalized_weights = weights.copy()\n",
    "normalized_weights /= sum(weights)\n",
    "\n",
    "y_probas = np.zeros((len(X),2))\n",
    "pbar = tqdm(zip(normalized_weights,models),total=len(models))\n",
    "for weight,model in pbar:\n",
    "    pbar.set_description(str(model).split('Classifier')[0])\n",
    "    if str(model).find('catboost')>=0:\n",
    "        pred_proba = model.predict_proba(X_pool)\n",
    "    else:\n",
    "        pred_proba = model.predict_proba(X_oh)\n",
    "    pred_proba = get_weighted_proba([pred_proba])\n",
    "    y_probas[:, 0] += weight * pred_proba[:, 0]\n",
    "    y_probas[:, 1] += weight * pred_proba[:, 1]\n",
    "y_probas /= sum(normalized_weights)\n",
    "\n",
    "score = balanced_log_loss(y_true=np.where(y==0,0,1),y_pred=y_probas[:,1])\n",
    "print('> Balanced Logloss: {:.4f}'.format(score))"
   ]
  },
  {
   "cell_type": "code",
   "execution_count": 41,
   "id": "b08b1075",
   "metadata": {
    "execution": {
     "iopub.execute_input": "2023-06-18T16:34:58.685261Z",
     "iopub.status.busy": "2023-06-18T16:34:58.684821Z",
     "iopub.status.idle": "2023-06-18T16:34:58.707231Z",
     "shell.execute_reply": "2023-06-18T16:34:58.706231Z"
    },
    "papermill": {
     "duration": 0.057362,
     "end_time": "2023-06-18T16:34:58.709304",
     "exception": false,
     "start_time": "2023-06-18T16:34:58.651942",
     "status": "completed"
    },
    "tags": []
   },
   "outputs": [
    {
     "name": "stdout",
     "output_type": "stream",
     "text": [
      "0.05670455055454736\n"
     ]
    },
    {
     "data": {
      "text/html": [
       "<div>\n",
       "<style scoped>\n",
       "    .dataframe tbody tr th:only-of-type {\n",
       "        vertical-align: middle;\n",
       "    }\n",
       "\n",
       "    .dataframe tbody tr th {\n",
       "        vertical-align: top;\n",
       "    }\n",
       "\n",
       "    .dataframe thead th {\n",
       "        text-align: right;\n",
       "    }\n",
       "</style>\n",
       "<table border=\"1\" class=\"dataframe\">\n",
       "  <thead>\n",
       "    <tr style=\"text-align: right;\">\n",
       "      <th>col_0</th>\n",
       "      <th>0</th>\n",
       "      <th>1</th>\n",
       "    </tr>\n",
       "    <tr>\n",
       "      <th>row_0</th>\n",
       "      <th></th>\n",
       "      <th></th>\n",
       "    </tr>\n",
       "  </thead>\n",
       "  <tbody>\n",
       "    <tr>\n",
       "      <th>0</th>\n",
       "      <td>499</td>\n",
       "      <td>10</td>\n",
       "    </tr>\n",
       "    <tr>\n",
       "      <th>1</th>\n",
       "      <td>0</td>\n",
       "      <td>108</td>\n",
       "    </tr>\n",
       "  </tbody>\n",
       "</table>\n",
       "</div>"
      ],
      "text/plain": [
       "col_0    0    1\n",
       "row_0          \n",
       "0      499   10\n",
       "1        0  108"
      ]
     },
     "execution_count": 41,
     "metadata": {},
     "output_type": "execute_result"
    }
   ],
   "source": [
    "print(balanced_log_loss(y_true=np.where(y==0,0,1),y_pred=y_probas[:,1]))\n",
    "pd.crosstab(np.where(y==0,0,1),np.where(y_probas[:,1]>0.5,1,0))"
   ]
  },
  {
   "cell_type": "code",
   "execution_count": 42,
   "id": "67559fbe",
   "metadata": {
    "execution": {
     "iopub.execute_input": "2023-06-18T16:34:58.773714Z",
     "iopub.status.busy": "2023-06-18T16:34:58.773201Z",
     "iopub.status.idle": "2023-06-18T16:34:58.778551Z",
     "shell.execute_reply": "2023-06-18T16:34:58.777679Z"
    },
    "papermill": {
     "duration": 0.051806,
     "end_time": "2023-06-18T16:34:58.792368",
     "exception": false,
     "start_time": "2023-06-18T16:34:58.740562",
     "status": "completed"
    },
    "tags": []
   },
   "outputs": [],
   "source": [
    "# perpect_cutoff_list = np.arange(0.01,1.00,0.01)\n",
    "# loss_list = []\n",
    "# for perpect_cutoff in perpect_cutoff_list:\n",
    "#     p = np.array([\n",
    "#         1 if _p>perpect_cutoff else\n",
    "#         0 if _p<1-perpect_cutoff else\n",
    "#         _p for _p in y_probas[:,1]\n",
    "#     ])\n",
    "#     loss = balanced_log_loss(y_true=np.where(y==0,0,1),y_pred=p)\n",
    "#     loss_list.append(loss)\n",
    "    \n",
    "# perpect_cutoff = perpect_cutoff_list[np.argmin(loss_list)]\n",
    "# perpect_cutoff, min(loss_list)\n",
    "# # (0.68, 0.015370262171626037)"
   ]
  },
  {
   "cell_type": "code",
   "execution_count": 43,
   "id": "4ce5f538",
   "metadata": {
    "execution": {
     "iopub.execute_input": "2023-06-18T16:34:58.858476Z",
     "iopub.status.busy": "2023-06-18T16:34:58.858046Z",
     "iopub.status.idle": "2023-06-18T16:34:58.864320Z",
     "shell.execute_reply": "2023-06-18T16:34:58.863106Z"
    },
    "papermill": {
     "duration": 0.042568,
     "end_time": "2023-06-18T16:34:58.866665",
     "exception": false,
     "start_time": "2023-06-18T16:34:58.824097",
     "status": "completed"
    },
    "tags": []
   },
   "outputs": [],
   "source": [
    "perpect_cutoff = 0.9\n",
    "\n",
    "p = np.array([\n",
    "    1 if _p>perpect_cutoff else\n",
    "    0 if _p<1-perpect_cutoff else\n",
    "    _p for _p in y_probas[:,1]\n",
    "])"
   ]
  },
  {
   "cell_type": "code",
   "execution_count": 44,
   "id": "7bf2c88b",
   "metadata": {
    "execution": {
     "iopub.execute_input": "2023-06-18T16:34:58.933046Z",
     "iopub.status.busy": "2023-06-18T16:34:58.932588Z",
     "iopub.status.idle": "2023-06-18T16:34:58.956389Z",
     "shell.execute_reply": "2023-06-18T16:34:58.955256Z"
    },
    "papermill": {
     "duration": 0.059406,
     "end_time": "2023-06-18T16:34:58.959159",
     "exception": false,
     "start_time": "2023-06-18T16:34:58.899753",
     "status": "completed"
    },
    "tags": []
   },
   "outputs": [
    {
     "name": "stdout",
     "output_type": "stream",
     "text": [
      "0.04031020699254364\n"
     ]
    },
    {
     "data": {
      "text/html": [
       "<div>\n",
       "<style scoped>\n",
       "    .dataframe tbody tr th:only-of-type {\n",
       "        vertical-align: middle;\n",
       "    }\n",
       "\n",
       "    .dataframe tbody tr th {\n",
       "        vertical-align: top;\n",
       "    }\n",
       "\n",
       "    .dataframe thead th {\n",
       "        text-align: right;\n",
       "    }\n",
       "</style>\n",
       "<table border=\"1\" class=\"dataframe\">\n",
       "  <thead>\n",
       "    <tr style=\"text-align: right;\">\n",
       "      <th>col_0</th>\n",
       "      <th>0</th>\n",
       "      <th>1</th>\n",
       "    </tr>\n",
       "    <tr>\n",
       "      <th>row_0</th>\n",
       "      <th></th>\n",
       "      <th></th>\n",
       "    </tr>\n",
       "  </thead>\n",
       "  <tbody>\n",
       "    <tr>\n",
       "      <th>0</th>\n",
       "      <td>499</td>\n",
       "      <td>10</td>\n",
       "    </tr>\n",
       "    <tr>\n",
       "      <th>1</th>\n",
       "      <td>0</td>\n",
       "      <td>108</td>\n",
       "    </tr>\n",
       "  </tbody>\n",
       "</table>\n",
       "</div>"
      ],
      "text/plain": [
       "col_0    0    1\n",
       "row_0          \n",
       "0      499   10\n",
       "1        0  108"
      ]
     },
     "execution_count": 44,
     "metadata": {},
     "output_type": "execute_result"
    }
   ],
   "source": [
    "print(balanced_log_loss(y_true=np.where(y==0,0,1),y_pred=p))\n",
    "pd.crosstab(np.where(y==0,0,1),np.where(p>0.5,1,0))"
   ]
  },
  {
   "cell_type": "code",
   "execution_count": 45,
   "id": "ea28f8f5",
   "metadata": {
    "execution": {
     "iopub.execute_input": "2023-06-18T16:34:59.026003Z",
     "iopub.status.busy": "2023-06-18T16:34:59.025078Z",
     "iopub.status.idle": "2023-06-18T16:34:59.034649Z",
     "shell.execute_reply": "2023-06-18T16:34:59.033504Z"
    },
    "papermill": {
     "duration": 0.04605,
     "end_time": "2023-06-18T16:34:59.037087",
     "exception": false,
     "start_time": "2023-06-18T16:34:58.991037",
     "status": "completed"
    },
    "tags": []
   },
   "outputs": [
    {
     "data": {
      "text/plain": [
       "(array([0.99004409, 0.04434641, 0.20876597, 0.28704236, 0.95464085,\n",
       "        0.03399911, 0.16382117, 0.13211506, 0.08881177, 0.05879234,\n",
       "        0.98235293, 0.11320526, 0.09225092, 0.98138482, 0.27878605,\n",
       "        0.26565323, 0.12176372, 0.12295437, 0.24905388, 0.07909173,\n",
       "        0.27998439, 0.07290713, 0.08549804, 0.05338045, 0.15696462,\n",
       "        0.08419632, 0.26907518, 0.03400026, 0.06520853, 0.22892108,\n",
       "        0.0763918 , 0.91206686, 0.98511162, 0.08163223, 0.14430544,\n",
       "        0.03547691, 0.97875118, 0.03423529, 0.03593482, 0.12773998]),\n",
       " array([1.        , 0.        , 0.20876597, 0.28704236, 1.        ,\n",
       "        0.        , 0.16382117, 0.13211506, 0.        , 0.        ,\n",
       "        1.        , 0.11320526, 0.        , 1.        , 0.27878605,\n",
       "        0.26565323, 0.12176372, 0.12295437, 0.24905388, 0.        ,\n",
       "        0.27998439, 0.        , 0.        , 0.        , 0.15696462,\n",
       "        0.        , 0.26907518, 0.        , 0.        , 0.22892108,\n",
       "        0.        , 1.        , 1.        , 0.        , 0.14430544,\n",
       "        0.        , 1.        , 0.        , 0.        , 0.12773998]))"
      ]
     },
     "execution_count": 45,
     "metadata": {},
     "output_type": "execute_result"
    }
   ],
   "source": [
    "n_check = 40\n",
    "y_probas[:,1][:n_check], p[:n_check]"
   ]
  },
  {
   "cell_type": "markdown",
   "id": "c9b5ce8c",
   "metadata": {
    "papermill": {
     "duration": 0.032883,
     "end_time": "2023-06-18T16:34:59.102482",
     "exception": false,
     "start_time": "2023-06-18T16:34:59.069599",
     "status": "completed"
    },
    "tags": []
   },
   "source": [
    "<br>"
   ]
  },
  {
   "cell_type": "markdown",
   "id": "924ae446",
   "metadata": {
    "papermill": {
     "duration": 0.03587,
     "end_time": "2023-06-18T16:34:59.170887",
     "exception": false,
     "start_time": "2023-06-18T16:34:59.135017",
     "status": "completed"
    },
    "tags": []
   },
   "source": [
    "## Test"
   ]
  },
  {
   "cell_type": "code",
   "execution_count": 46,
   "id": "9073b393",
   "metadata": {
    "execution": {
     "iopub.execute_input": "2023-06-18T16:34:59.237465Z",
     "iopub.status.busy": "2023-06-18T16:34:59.236625Z",
     "iopub.status.idle": "2023-06-18T16:37:11.610354Z",
     "shell.execute_reply": "2023-06-18T16:37:11.609034Z"
    },
    "papermill": {
     "duration": 132.410036,
     "end_time": "2023-06-18T16:37:11.613050",
     "exception": false,
     "start_time": "2023-06-18T16:34:59.203014",
     "status": "completed"
    },
    "tags": []
   },
   "outputs": [
    {
     "name": "stderr",
     "output_type": "stream",
     "text": [
      "TabPFN: 100%|██████████| 15/15 [02:12<00:00,  8.82s/it]"
     ]
    },
    {
     "name": "stdout",
     "output_type": "stream",
     "text": [
      "CPU times: user 3min 51s, sys: 30.8 s, total: 4min 22s\n",
      "Wall time: 2min 12s\n"
     ]
    },
    {
     "name": "stderr",
     "output_type": "stream",
     "text": [
      "\n"
     ]
    }
   ],
   "source": [
    "%%time\n",
    "# 10분\n",
    "\n",
    "X_test = test_df3[cat_features+num_features]\n",
    "X_test_oh = oh_encoder.transform(X_test)\n",
    "X_test_pool = Pool(X_test,cat_features=cat_features)\n",
    "\n",
    "normalized_weights = weights.copy()\n",
    "normalized_weights /= sum(weights)\n",
    "\n",
    "y_probas = np.zeros((len(X_test),2))\n",
    "pbar = tqdm(zip(normalized_weights,models),total=len(models))\n",
    "for weight,model in pbar:\n",
    "    pbar.set_description(str(model).split('Classifier')[0])\n",
    "    if str(model).find('catboost')>=0:\n",
    "        pred_proba = model.predict_proba(X_test_pool)\n",
    "    else:\n",
    "        pred_proba = model.predict_proba(X_test_oh)\n",
    "    y_probas[:, 0] += weight * pred_proba[:, 0]\n",
    "    y_probas[:, 1] += weight * pred_proba[:, 1]\n",
    "y_probas /= sum(normalized_weights)"
   ]
  },
  {
   "cell_type": "code",
   "execution_count": 47,
   "id": "1184ecae",
   "metadata": {
    "execution": {
     "iopub.execute_input": "2023-06-18T16:37:11.684068Z",
     "iopub.status.busy": "2023-06-18T16:37:11.683278Z",
     "iopub.status.idle": "2023-06-18T16:37:11.689194Z",
     "shell.execute_reply": "2023-06-18T16:37:11.687916Z"
    },
    "papermill": {
     "duration": 0.043946,
     "end_time": "2023-06-18T16:37:11.691514",
     "exception": false,
     "start_time": "2023-06-18T16:37:11.647568",
     "status": "completed"
    },
    "tags": []
   },
   "outputs": [],
   "source": [
    "p = np.array([\n",
    "    1 if _p>perpect_cutoff else\n",
    "    0 if _p<1-perpect_cutoff else\n",
    "    _p for _p in y_probas[:,1]\n",
    "])\n",
    "\n",
    "# p = y_probas[:,1]"
   ]
  },
  {
   "cell_type": "code",
   "execution_count": 48,
   "id": "f8aeca56",
   "metadata": {
    "execution": {
     "iopub.execute_input": "2023-06-18T16:37:11.764671Z",
     "iopub.status.busy": "2023-06-18T16:37:11.763715Z",
     "iopub.status.idle": "2023-06-18T16:37:11.771981Z",
     "shell.execute_reply": "2023-06-18T16:37:11.770730Z"
    },
    "papermill": {
     "duration": 0.047142,
     "end_time": "2023-06-18T16:37:11.774327",
     "exception": false,
     "start_time": "2023-06-18T16:37:11.727185",
     "status": "completed"
    },
    "tags": []
   },
   "outputs": [
    {
     "data": {
      "text/plain": [
       "(array([0.10251965, 0.10251965, 0.10251965, 0.10251965, 0.10251965]),\n",
       " array([0.10251965, 0.10251965, 0.10251965, 0.10251965, 0.10251965]))"
      ]
     },
     "execution_count": 48,
     "metadata": {},
     "output_type": "execute_result"
    }
   ],
   "source": [
    "y_probas[:,1], p"
   ]
  },
  {
   "cell_type": "code",
   "execution_count": 49,
   "id": "fed7d596",
   "metadata": {
    "execution": {
     "iopub.execute_input": "2023-06-18T16:37:11.846689Z",
     "iopub.status.busy": "2023-06-18T16:37:11.846242Z",
     "iopub.status.idle": "2023-06-18T16:37:11.860583Z",
     "shell.execute_reply": "2023-06-18T16:37:11.859419Z"
    },
    "papermill": {
     "duration": 0.05323,
     "end_time": "2023-06-18T16:37:11.863385",
     "exception": false,
     "start_time": "2023-06-18T16:37:11.810155",
     "status": "completed"
    },
    "tags": []
   },
   "outputs": [],
   "source": [
    "# submit = pd.read_csv('./data/sample_submission.csv')\n",
    "submit = pd.read_csv(CFG.REF_PATH+'sample_submission.csv')\n",
    "submit['class_0'] = p\n",
    "submit['class_1'] = 1-p"
   ]
  },
  {
   "cell_type": "code",
   "execution_count": 50,
   "id": "9b1b8a61",
   "metadata": {
    "execution": {
     "iopub.execute_input": "2023-06-18T16:37:11.937605Z",
     "iopub.status.busy": "2023-06-18T16:37:11.935953Z",
     "iopub.status.idle": "2023-06-18T16:37:11.948607Z",
     "shell.execute_reply": "2023-06-18T16:37:11.947544Z"
    },
    "papermill": {
     "duration": 0.051855,
     "end_time": "2023-06-18T16:37:11.950959",
     "exception": false,
     "start_time": "2023-06-18T16:37:11.899104",
     "status": "completed"
    },
    "tags": []
   },
   "outputs": [
    {
     "data": {
      "text/html": [
       "<div>\n",
       "<style scoped>\n",
       "    .dataframe tbody tr th:only-of-type {\n",
       "        vertical-align: middle;\n",
       "    }\n",
       "\n",
       "    .dataframe tbody tr th {\n",
       "        vertical-align: top;\n",
       "    }\n",
       "\n",
       "    .dataframe thead th {\n",
       "        text-align: right;\n",
       "    }\n",
       "</style>\n",
       "<table border=\"1\" class=\"dataframe\">\n",
       "  <thead>\n",
       "    <tr style=\"text-align: right;\">\n",
       "      <th></th>\n",
       "      <th>Id</th>\n",
       "      <th>class_0</th>\n",
       "      <th>class_1</th>\n",
       "    </tr>\n",
       "  </thead>\n",
       "  <tbody>\n",
       "    <tr>\n",
       "      <th>0</th>\n",
       "      <td>00eed32682bb</td>\n",
       "      <td>0.10252</td>\n",
       "      <td>0.89748</td>\n",
       "    </tr>\n",
       "    <tr>\n",
       "      <th>1</th>\n",
       "      <td>010ebe33f668</td>\n",
       "      <td>0.10252</td>\n",
       "      <td>0.89748</td>\n",
       "    </tr>\n",
       "    <tr>\n",
       "      <th>2</th>\n",
       "      <td>02fa521e1838</td>\n",
       "      <td>0.10252</td>\n",
       "      <td>0.89748</td>\n",
       "    </tr>\n",
       "    <tr>\n",
       "      <th>3</th>\n",
       "      <td>040e15f562a2</td>\n",
       "      <td>0.10252</td>\n",
       "      <td>0.89748</td>\n",
       "    </tr>\n",
       "    <tr>\n",
       "      <th>4</th>\n",
       "      <td>046e85c7cc7f</td>\n",
       "      <td>0.10252</td>\n",
       "      <td>0.89748</td>\n",
       "    </tr>\n",
       "  </tbody>\n",
       "</table>\n",
       "</div>"
      ],
      "text/plain": [
       "             Id  class_0  class_1\n",
       "0  00eed32682bb  0.10252  0.89748\n",
       "1  010ebe33f668  0.10252  0.89748\n",
       "2  02fa521e1838  0.10252  0.89748\n",
       "3  040e15f562a2  0.10252  0.89748\n",
       "4  046e85c7cc7f  0.10252  0.89748"
      ]
     },
     "execution_count": 50,
     "metadata": {},
     "output_type": "execute_result"
    }
   ],
   "source": [
    "submit"
   ]
  },
  {
   "cell_type": "code",
   "execution_count": 51,
   "id": "49ecb29f",
   "metadata": {
    "execution": {
     "iopub.execute_input": "2023-06-18T16:37:12.022720Z",
     "iopub.status.busy": "2023-06-18T16:37:12.021500Z",
     "iopub.status.idle": "2023-06-18T16:37:12.033565Z",
     "shell.execute_reply": "2023-06-18T16:37:12.032716Z"
    },
    "papermill": {
     "duration": 0.05041,
     "end_time": "2023-06-18T16:37:12.036123",
     "exception": false,
     "start_time": "2023-06-18T16:37:11.985713",
     "status": "completed"
    },
    "tags": []
   },
   "outputs": [],
   "source": [
    "submit.to_csv('/kaggle/working/submission.csv', index=False)"
   ]
  }
 ],
 "metadata": {
  "kernelspec": {
   "display_name": "Python 3",
   "language": "python",
   "name": "python3"
  },
  "language_info": {
   "codemirror_mode": {
    "name": "ipython",
    "version": 3
   },
   "file_extension": ".py",
   "mimetype": "text/x-python",
   "name": "python",
   "nbconvert_exporter": "python",
   "pygments_lexer": "ipython3",
   "version": "3.10.10"
  },
  "papermill": {
   "default_parameters": {},
   "duration": 2058.822898,
   "end_time": "2023-06-18T16:37:14.468839",
   "environment_variables": {},
   "exception": null,
   "input_path": "__notebook__.ipynb",
   "output_path": "__notebook__.ipynb",
   "parameters": {},
   "start_time": "2023-06-18T16:02:55.645941",
   "version": "2.4.0"
  }
 },
 "nbformat": 4,
 "nbformat_minor": 5
}
