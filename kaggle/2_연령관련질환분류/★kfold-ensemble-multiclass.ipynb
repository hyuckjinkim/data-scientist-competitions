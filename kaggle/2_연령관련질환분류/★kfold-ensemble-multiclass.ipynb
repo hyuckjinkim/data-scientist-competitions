{
 "cells": [
  {
   "cell_type": "markdown",
   "id": "e74c444a",
   "metadata": {
    "papermill": {
     "duration": 0.013239,
     "end_time": "2023-06-05T04:51:44.049973",
     "exception": false,
     "start_time": "2023-06-05T04:51:44.036734",
     "status": "completed"
    },
    "tags": []
   },
   "source": [
    "# Setting"
   ]
  },
  {
   "cell_type": "code",
   "execution_count": 1,
   "id": "cde7fbf6",
   "metadata": {
    "execution": {
     "iopub.execute_input": "2023-06-05T04:51:44.076063Z",
     "iopub.status.busy": "2023-06-05T04:51:44.074809Z",
     "iopub.status.idle": "2023-06-05T04:51:44.082105Z",
     "shell.execute_reply": "2023-06-05T04:51:44.080938Z"
    },
    "papermill": {
     "duration": 0.022918,
     "end_time": "2023-06-05T04:51:44.084639",
     "exception": false,
     "start_time": "2023-06-05T04:51:44.061721",
     "status": "completed"
    },
    "tags": []
   },
   "outputs": [],
   "source": [
    "# ## (1) TabPFN을 Internet off에서 사용하기 위한, 패키지 다운로드\n",
    "# ##     -> Internet on(또는 Local)에서 아래의 코드로 실행 후, pip-packages.zip을 다운로드\n",
    "\n",
    "# ## (1-1) /kaggle/working(Local에서는 해당 Path)에 /pip-packages/에 tabpfn.whl파일 다운로드\n",
    "# !pip download tabpfn --no-deps -d ./pip-packages\n",
    "\n",
    "# ## (1-2) tabpfn install\n",
    "# !pip install tabpfn\n",
    "\n",
    "# ## (1-3) 모델실행하면 .cpkt파일 생성됨 (cpu, cuda:0에 따라서 설치되는파일이 다른 것으로 보이므로 선택잘해야함)\n",
    "# from tabpfn import TabPFNClassifier\n",
    "# TabPFNClassifier(N_ensemble_configurations=64,device='cpu')\n",
    "\n",
    "# ## (1-4) .cpkt파일을 /pip-packages/로 이동\n",
    "# !mv /opt/conda/lib/python3.10/site-packages/tabpfn/models_diff/prior_diff_real_checkpoint_n_0_epoch_100.cpkt pip-packages/\n",
    "\n",
    "# ## (1-5) /pip-packages/에 필요한 파일들을 다 모았으므로, 압축해줌\n",
    "# !zip -r pip-packages.zip pip-packages\n",
    "\n",
    "# ## (1-6) pip-packages.zip을 다운로드\n",
    "\n",
    "# ## (1-7) Kaggle Dataset에 업로드\n",
    "#        -> Kaggle Dataset 또는 현재창 우측의 +Add Data 옆의 데이터 업로드를 누른 후,\n",
    "#        -> (1)에서 다운받은 pip-packages.zip을 pip-packages-icr의 이름으로 업로드\n",
    "#        -> 업로드 된 zip파일은 나의 kaggle dataset에 저장되므로 영구적으로 사용가능"
   ]
  },
  {
   "cell_type": "code",
   "execution_count": 2,
   "id": "6c7b0b08",
   "metadata": {
    "execution": {
     "iopub.execute_input": "2023-06-05T04:51:44.110767Z",
     "iopub.status.busy": "2023-06-05T04:51:44.110140Z",
     "iopub.status.idle": "2023-06-05T04:51:56.435563Z",
     "shell.execute_reply": "2023-06-05T04:51:56.434777Z"
    },
    "papermill": {
     "duration": 12.341106,
     "end_time": "2023-06-05T04:51:56.437942",
     "exception": false,
     "start_time": "2023-06-05T04:51:44.096836",
     "status": "completed"
    },
    "tags": []
   },
   "outputs": [
    {
     "name": "stdout",
     "output_type": "stream",
     "text": [
      "Looking in links: file:///kaggle/input/pip-packages-icr/pip-packages/\r\n",
      "Processing /kaggle/input/pip-packages-icr/pip-packages/tabpfn-0.1.9-py3-none-any.whl\r\n",
      "Requirement already satisfied: numpy>=1.21.2 in /opt/conda/lib/python3.10/site-packages (from tabpfn) (1.23.5)\r\n",
      "Requirement already satisfied: pyyaml>=5.4.1 in /opt/conda/lib/python3.10/site-packages (from tabpfn) (5.4.1)\r\n",
      "Requirement already satisfied: requests>=2.23.0 in /opt/conda/lib/python3.10/site-packages (from tabpfn) (2.28.2)\r\n",
      "Requirement already satisfied: scikit-learn>=0.24.2 in /opt/conda/lib/python3.10/site-packages (from tabpfn) (1.2.2)\r\n",
      "Requirement already satisfied: torch>=1.9.0 in /opt/conda/lib/python3.10/site-packages (from tabpfn) (2.0.0+cpu)\r\n",
      "Requirement already satisfied: charset-normalizer<4,>=2 in /opt/conda/lib/python3.10/site-packages (from requests>=2.23.0->tabpfn) (2.1.1)\r\n",
      "Requirement already satisfied: idna<4,>=2.5 in /opt/conda/lib/python3.10/site-packages (from requests>=2.23.0->tabpfn) (3.4)\r\n",
      "Requirement already satisfied: urllib3<1.27,>=1.21.1 in /opt/conda/lib/python3.10/site-packages (from requests>=2.23.0->tabpfn) (1.26.15)\r\n",
      "Requirement already satisfied: certifi>=2017.4.17 in /opt/conda/lib/python3.10/site-packages (from requests>=2.23.0->tabpfn) (2023.5.7)\r\n",
      "Requirement already satisfied: scipy>=1.3.2 in /opt/conda/lib/python3.10/site-packages (from scikit-learn>=0.24.2->tabpfn) (1.10.1)\r\n",
      "Requirement already satisfied: joblib>=1.1.1 in /opt/conda/lib/python3.10/site-packages (from scikit-learn>=0.24.2->tabpfn) (1.2.0)\r\n",
      "Requirement already satisfied: threadpoolctl>=2.0.0 in /opt/conda/lib/python3.10/site-packages (from scikit-learn>=0.24.2->tabpfn) (3.1.0)\r\n",
      "Requirement already satisfied: filelock in /opt/conda/lib/python3.10/site-packages (from torch>=1.9.0->tabpfn) (3.12.0)\r\n",
      "Requirement already satisfied: typing-extensions in /opt/conda/lib/python3.10/site-packages (from torch>=1.9.0->tabpfn) (4.5.0)\r\n",
      "Requirement already satisfied: sympy in /opt/conda/lib/python3.10/site-packages (from torch>=1.9.0->tabpfn) (1.12)\r\n",
      "Requirement already satisfied: networkx in /opt/conda/lib/python3.10/site-packages (from torch>=1.9.0->tabpfn) (3.1)\r\n",
      "Requirement already satisfied: jinja2 in /opt/conda/lib/python3.10/site-packages (from torch>=1.9.0->tabpfn) (3.1.2)\r\n",
      "Requirement already satisfied: MarkupSafe>=2.0 in /opt/conda/lib/python3.10/site-packages (from jinja2->torch>=1.9.0->tabpfn) (2.1.2)\r\n",
      "Requirement already satisfied: mpmath>=0.19 in /opt/conda/lib/python3.10/site-packages (from sympy->torch>=1.9.0->tabpfn) (1.3.0)\r\n",
      "Installing collected packages: tabpfn\r\n",
      "Successfully installed tabpfn-0.1.9\r\n",
      "\u001b[33mWARNING: Running pip as the 'root' user can result in broken permissions and conflicting behaviour with the system package manager. It is recommended to use a virtual environment instead: https://pip.pypa.io/warnings/venv\u001b[0m\u001b[33m\r\n",
      "\u001b[0m"
     ]
    }
   ],
   "source": [
    "## (2) TabPFN을 Internet off에서 사용하기 위한, 패키지 업로드\n",
    "\n",
    "## (2-1) Kaggle Dataset 로드\n",
    "#        -> 우측의 +Add Data > Your Datasets > pip-packages-icr 클릭\n",
    "\n",
    "## (2-2) 아래의 쿼리로 Internet off 상태로 다운로드 가능함\n",
    "!pip install tabpfn --no-index --find-links=file:///kaggle/input/pip-packages-icr/pip-packages/\n",
    "\n",
    "## (2-3) TabPFN의 .cpkt파일을 불러오는 /opt/conda/lib으로 폴더생성 및 복사\n",
    "##       -> 이후에 모델실행가능해짐\n",
    "!mkdir -p /opt/conda/lib/python3.10/site-packages/tabpfn/models_diff\n",
    "!cp /kaggle/input/pip-packages-icr/pip-packages/prior_diff_real_checkpoint_n_0_epoch_100.cpkt /opt/conda/lib/python3.10/site-packages/tabpfn/models_diff/"
   ]
  },
  {
   "cell_type": "code",
   "execution_count": 3,
   "id": "0a810c22",
   "metadata": {
    "execution": {
     "iopub.execute_input": "2023-06-05T04:51:56.464325Z",
     "iopub.status.busy": "2023-06-05T04:51:56.463883Z",
     "iopub.status.idle": "2023-06-05T04:51:58.022178Z",
     "shell.execute_reply": "2023-06-05T04:51:58.021080Z"
    },
    "papermill": {
     "duration": 1.57443,
     "end_time": "2023-06-05T04:51:58.024719",
     "exception": false,
     "start_time": "2023-06-05T04:51:56.450289",
     "status": "completed"
    },
    "tags": []
   },
   "outputs": [],
   "source": [
    "import numpy as np\n",
    "import pandas as pd\n",
    "pd.set_option('display.max_rows', None)\n",
    "pd.set_option('display.max_columns', None)\n",
    "\n",
    "from tqdm import tqdm, trange\n",
    "\n",
    "import matplotlib.pyplot as plt\n",
    "import seaborn as sns"
   ]
  },
  {
   "cell_type": "code",
   "execution_count": 4,
   "id": "a8661543",
   "metadata": {
    "execution": {
     "iopub.execute_input": "2023-06-05T04:51:58.051387Z",
     "iopub.status.busy": "2023-06-05T04:51:58.050987Z",
     "iopub.status.idle": "2023-06-05T04:51:58.056867Z",
     "shell.execute_reply": "2023-06-05T04:51:58.055493Z"
    },
    "papermill": {
     "duration": 0.02302,
     "end_time": "2023-06-05T04:51:58.060240",
     "exception": false,
     "start_time": "2023-06-05T04:51:58.037220",
     "status": "completed"
    },
    "tags": []
   },
   "outputs": [],
   "source": [
    "class CFG:\n",
    "    REF_PATH = '/kaggle/input/icr-identify-age-related-conditions/'\n",
    "    #REF_PATH = './data/'\n",
    "    \n",
    "    VERBOSE = False\n",
    "    \n",
    "    #DEVICE = 'cuda:0'\n",
    "    DEVICE = 'cpu'\n",
    "        \n",
    "    ADD_INTERACTION = False\n",
    "    FS_ALPHA = 0.01\n",
    "    \n",
    "    SEED = 0\n",
    "    N_SPLITS = 5\n",
    "    EPOCHS = 50000\n",
    "    ES = 300\n",
    "    LR = 0.001"
   ]
  },
  {
   "cell_type": "markdown",
   "id": "a69f4ae6",
   "metadata": {
    "papermill": {
     "duration": 0.012413,
     "end_time": "2023-06-05T04:51:58.085812",
     "exception": false,
     "start_time": "2023-06-05T04:51:58.073399",
     "status": "completed"
    },
    "tags": []
   },
   "source": [
    "<br></br>"
   ]
  },
  {
   "cell_type": "markdown",
   "id": "e63cd87e",
   "metadata": {
    "papermill": {
     "duration": 0.012124,
     "end_time": "2023-06-05T04:51:58.110398",
     "exception": false,
     "start_time": "2023-06-05T04:51:58.098274",
     "status": "completed"
    },
    "tags": []
   },
   "source": [
    "# Data Load"
   ]
  },
  {
   "cell_type": "code",
   "execution_count": 5,
   "id": "1e97e0c0",
   "metadata": {
    "execution": {
     "iopub.execute_input": "2023-06-05T04:51:58.136980Z",
     "iopub.status.busy": "2023-06-05T04:51:58.136621Z",
     "iopub.status.idle": "2023-06-05T04:51:58.185650Z",
     "shell.execute_reply": "2023-06-05T04:51:58.184571Z"
    },
    "papermill": {
     "duration": 0.065436,
     "end_time": "2023-06-05T04:51:58.188434",
     "exception": false,
     "start_time": "2023-06-05T04:51:58.122998",
     "status": "completed"
    },
    "tags": []
   },
   "outputs": [],
   "source": [
    "train_df  = pd.read_csv(CFG.REF_PATH+'train.csv')\n",
    "test_df   = pd.read_csv(CFG.REF_PATH+'test.csv')\n",
    "greeks_df = pd.read_csv(CFG.REF_PATH+'greeks.csv')"
   ]
  },
  {
   "cell_type": "code",
   "execution_count": 6,
   "id": "6fb3b739",
   "metadata": {
    "execution": {
     "iopub.execute_input": "2023-06-05T04:51:58.216282Z",
     "iopub.status.busy": "2023-06-05T04:51:58.215937Z",
     "iopub.status.idle": "2023-06-05T04:51:58.222475Z",
     "shell.execute_reply": "2023-06-05T04:51:58.221339Z"
    },
    "papermill": {
     "duration": 0.022937,
     "end_time": "2023-06-05T04:51:58.224458",
     "exception": false,
     "start_time": "2023-06-05T04:51:58.201521",
     "status": "completed"
    },
    "tags": []
   },
   "outputs": [],
   "source": [
    "train_df.columns  = [col.replace(' ','') for col in train_df.columns]\n",
    "test_df.columns   = [col.replace(' ','') for col in test_df.columns]\n",
    "greeks_df.columns = [col.replace(' ','') for col in greeks_df.columns]"
   ]
  },
  {
   "cell_type": "code",
   "execution_count": 7,
   "id": "5059b3c9",
   "metadata": {
    "execution": {
     "iopub.execute_input": "2023-06-05T04:51:58.251871Z",
     "iopub.status.busy": "2023-06-05T04:51:58.251238Z",
     "iopub.status.idle": "2023-06-05T04:51:58.257892Z",
     "shell.execute_reply": "2023-06-05T04:51:58.256600Z"
    },
    "papermill": {
     "duration": 0.022732,
     "end_time": "2023-06-05T04:51:58.259846",
     "exception": false,
     "start_time": "2023-06-05T04:51:58.237114",
     "status": "completed"
    },
    "tags": []
   },
   "outputs": [
    {
     "data": {
      "text/plain": [
       "((617, 58), (617, 6))"
      ]
     },
     "execution_count": 7,
     "metadata": {},
     "output_type": "execute_result"
    }
   ],
   "source": [
    "train_df.shape, greeks_df.shape"
   ]
  },
  {
   "cell_type": "code",
   "execution_count": 8,
   "id": "462dc901",
   "metadata": {
    "execution": {
     "iopub.execute_input": "2023-06-05T04:51:58.289439Z",
     "iopub.status.busy": "2023-06-05T04:51:58.288858Z",
     "iopub.status.idle": "2023-06-05T04:51:58.344462Z",
     "shell.execute_reply": "2023-06-05T04:51:58.343413Z"
    },
    "papermill": {
     "duration": 0.073063,
     "end_time": "2023-06-05T04:51:58.347332",
     "exception": false,
     "start_time": "2023-06-05T04:51:58.274269",
     "status": "completed"
    },
    "tags": []
   },
   "outputs": [
    {
     "data": {
      "text/html": [
       "<div>\n",
       "<style scoped>\n",
       "    .dataframe tbody tr th:only-of-type {\n",
       "        vertical-align: middle;\n",
       "    }\n",
       "\n",
       "    .dataframe tbody tr th {\n",
       "        vertical-align: top;\n",
       "    }\n",
       "\n",
       "    .dataframe thead th {\n",
       "        text-align: right;\n",
       "    }\n",
       "</style>\n",
       "<table border=\"1\" class=\"dataframe\">\n",
       "  <thead>\n",
       "    <tr style=\"text-align: right;\">\n",
       "      <th></th>\n",
       "      <th>Id</th>\n",
       "      <th>AB</th>\n",
       "      <th>AF</th>\n",
       "      <th>AH</th>\n",
       "      <th>AM</th>\n",
       "      <th>AR</th>\n",
       "      <th>AX</th>\n",
       "      <th>AY</th>\n",
       "      <th>AZ</th>\n",
       "      <th>BC</th>\n",
       "      <th>BD</th>\n",
       "      <th>BN</th>\n",
       "      <th>BP</th>\n",
       "      <th>BQ</th>\n",
       "      <th>BR</th>\n",
       "      <th>BZ</th>\n",
       "      <th>CB</th>\n",
       "      <th>CC</th>\n",
       "      <th>CD</th>\n",
       "      <th>CF</th>\n",
       "      <th>CH</th>\n",
       "      <th>CL</th>\n",
       "      <th>CR</th>\n",
       "      <th>CS</th>\n",
       "      <th>CU</th>\n",
       "      <th>CW</th>\n",
       "      <th>DA</th>\n",
       "      <th>DE</th>\n",
       "      <th>DF</th>\n",
       "      <th>DH</th>\n",
       "      <th>DI</th>\n",
       "      <th>DL</th>\n",
       "      <th>DN</th>\n",
       "      <th>DU</th>\n",
       "      <th>DV</th>\n",
       "      <th>DY</th>\n",
       "      <th>EB</th>\n",
       "      <th>EE</th>\n",
       "      <th>EG</th>\n",
       "      <th>EH</th>\n",
       "      <th>EJ</th>\n",
       "      <th>EL</th>\n",
       "      <th>EP</th>\n",
       "      <th>EU</th>\n",
       "      <th>FC</th>\n",
       "      <th>FD</th>\n",
       "      <th>FE</th>\n",
       "      <th>FI</th>\n",
       "      <th>FL</th>\n",
       "      <th>FR</th>\n",
       "      <th>FS</th>\n",
       "      <th>GB</th>\n",
       "      <th>GE</th>\n",
       "      <th>GF</th>\n",
       "      <th>GH</th>\n",
       "      <th>GI</th>\n",
       "      <th>GL</th>\n",
       "      <th>Class</th>\n",
       "    </tr>\n",
       "  </thead>\n",
       "  <tbody>\n",
       "    <tr>\n",
       "      <th>0</th>\n",
       "      <td>000ff2bfdfe9</td>\n",
       "      <td>0.209377</td>\n",
       "      <td>3109.03329</td>\n",
       "      <td>85.200147</td>\n",
       "      <td>22.394407</td>\n",
       "      <td>8.138688</td>\n",
       "      <td>0.699861</td>\n",
       "      <td>0.025578</td>\n",
       "      <td>9.812214</td>\n",
       "      <td>5.555634</td>\n",
       "      <td>4126.58731</td>\n",
       "      <td>22.5984</td>\n",
       "      <td>175.638726</td>\n",
       "      <td>152.707705</td>\n",
       "      <td>823.928241</td>\n",
       "      <td>257.432377</td>\n",
       "      <td>47.223358</td>\n",
       "      <td>0.563481</td>\n",
       "      <td>23.387600</td>\n",
       "      <td>4.851915</td>\n",
       "      <td>0.023482</td>\n",
       "      <td>1.050225</td>\n",
       "      <td>0.069225</td>\n",
       "      <td>13.784111</td>\n",
       "      <td>1.302012</td>\n",
       "      <td>36.205956</td>\n",
       "      <td>69.08340</td>\n",
       "      <td>295.570575</td>\n",
       "      <td>0.23868</td>\n",
       "      <td>0.284232</td>\n",
       "      <td>89.245560</td>\n",
       "      <td>84.31664</td>\n",
       "      <td>29.657104</td>\n",
       "      <td>5.310690</td>\n",
       "      <td>1.74307</td>\n",
       "      <td>23.187704</td>\n",
       "      <td>7.294176</td>\n",
       "      <td>1.987283</td>\n",
       "      <td>1433.166750</td>\n",
       "      <td>0.949104</td>\n",
       "      <td>B</td>\n",
       "      <td>30.879420</td>\n",
       "      <td>78.526968</td>\n",
       "      <td>3.828384</td>\n",
       "      <td>13.394640</td>\n",
       "      <td>10.265073</td>\n",
       "      <td>9028.291921</td>\n",
       "      <td>3.583450</td>\n",
       "      <td>7.298162</td>\n",
       "      <td>1.73855</td>\n",
       "      <td>0.094822</td>\n",
       "      <td>11.339138</td>\n",
       "      <td>72.611063</td>\n",
       "      <td>2003.810319</td>\n",
       "      <td>22.136229</td>\n",
       "      <td>69.834944</td>\n",
       "      <td>0.120343</td>\n",
       "      <td>1</td>\n",
       "    </tr>\n",
       "    <tr>\n",
       "      <th>1</th>\n",
       "      <td>007255e47698</td>\n",
       "      <td>0.145282</td>\n",
       "      <td>978.76416</td>\n",
       "      <td>85.200147</td>\n",
       "      <td>36.968889</td>\n",
       "      <td>8.138688</td>\n",
       "      <td>3.632190</td>\n",
       "      <td>0.025578</td>\n",
       "      <td>13.517790</td>\n",
       "      <td>1.229900</td>\n",
       "      <td>5496.92824</td>\n",
       "      <td>19.4205</td>\n",
       "      <td>155.868030</td>\n",
       "      <td>14.754720</td>\n",
       "      <td>51.216883</td>\n",
       "      <td>257.432377</td>\n",
       "      <td>30.284345</td>\n",
       "      <td>0.484710</td>\n",
       "      <td>50.628208</td>\n",
       "      <td>6.085041</td>\n",
       "      <td>0.031442</td>\n",
       "      <td>1.113875</td>\n",
       "      <td>1.117800</td>\n",
       "      <td>28.310953</td>\n",
       "      <td>1.357182</td>\n",
       "      <td>37.476568</td>\n",
       "      <td>70.79836</td>\n",
       "      <td>178.553100</td>\n",
       "      <td>0.23868</td>\n",
       "      <td>0.363489</td>\n",
       "      <td>110.581815</td>\n",
       "      <td>75.74548</td>\n",
       "      <td>37.532000</td>\n",
       "      <td>0.005518</td>\n",
       "      <td>1.74307</td>\n",
       "      <td>17.222328</td>\n",
       "      <td>4.926396</td>\n",
       "      <td>0.858603</td>\n",
       "      <td>1111.287150</td>\n",
       "      <td>0.003042</td>\n",
       "      <td>A</td>\n",
       "      <td>109.125159</td>\n",
       "      <td>95.415086</td>\n",
       "      <td>52.260480</td>\n",
       "      <td>17.175984</td>\n",
       "      <td>0.296850</td>\n",
       "      <td>6785.003474</td>\n",
       "      <td>10.358927</td>\n",
       "      <td>0.173229</td>\n",
       "      <td>0.49706</td>\n",
       "      <td>0.568932</td>\n",
       "      <td>9.292698</td>\n",
       "      <td>72.611063</td>\n",
       "      <td>27981.562750</td>\n",
       "      <td>29.135430</td>\n",
       "      <td>32.131996</td>\n",
       "      <td>21.978000</td>\n",
       "      <td>0</td>\n",
       "    </tr>\n",
       "    <tr>\n",
       "      <th>2</th>\n",
       "      <td>013f2bd269f5</td>\n",
       "      <td>0.470030</td>\n",
       "      <td>2635.10654</td>\n",
       "      <td>85.200147</td>\n",
       "      <td>32.360553</td>\n",
       "      <td>8.138688</td>\n",
       "      <td>6.732840</td>\n",
       "      <td>0.025578</td>\n",
       "      <td>12.824570</td>\n",
       "      <td>1.229900</td>\n",
       "      <td>5135.78024</td>\n",
       "      <td>26.4825</td>\n",
       "      <td>128.988531</td>\n",
       "      <td>219.320160</td>\n",
       "      <td>482.141594</td>\n",
       "      <td>257.432377</td>\n",
       "      <td>32.563713</td>\n",
       "      <td>0.495852</td>\n",
       "      <td>85.955376</td>\n",
       "      <td>5.376488</td>\n",
       "      <td>0.036218</td>\n",
       "      <td>1.050225</td>\n",
       "      <td>0.700350</td>\n",
       "      <td>39.364743</td>\n",
       "      <td>1.009611</td>\n",
       "      <td>21.459644</td>\n",
       "      <td>70.81970</td>\n",
       "      <td>321.426625</td>\n",
       "      <td>0.23868</td>\n",
       "      <td>0.210441</td>\n",
       "      <td>120.056438</td>\n",
       "      <td>65.46984</td>\n",
       "      <td>28.053464</td>\n",
       "      <td>1.289739</td>\n",
       "      <td>1.74307</td>\n",
       "      <td>36.861352</td>\n",
       "      <td>7.813674</td>\n",
       "      <td>8.146651</td>\n",
       "      <td>1494.076488</td>\n",
       "      <td>0.377208</td>\n",
       "      <td>B</td>\n",
       "      <td>109.125159</td>\n",
       "      <td>78.526968</td>\n",
       "      <td>5.390628</td>\n",
       "      <td>224.207424</td>\n",
       "      <td>8.745201</td>\n",
       "      <td>8338.906181</td>\n",
       "      <td>11.626917</td>\n",
       "      <td>7.709560</td>\n",
       "      <td>0.97556</td>\n",
       "      <td>1.198821</td>\n",
       "      <td>37.077772</td>\n",
       "      <td>88.609437</td>\n",
       "      <td>13676.957810</td>\n",
       "      <td>28.022851</td>\n",
       "      <td>35.192676</td>\n",
       "      <td>0.196941</td>\n",
       "      <td>0</td>\n",
       "    </tr>\n",
       "    <tr>\n",
       "      <th>3</th>\n",
       "      <td>043ac50845d5</td>\n",
       "      <td>0.252107</td>\n",
       "      <td>3819.65177</td>\n",
       "      <td>120.201618</td>\n",
       "      <td>77.112203</td>\n",
       "      <td>8.138688</td>\n",
       "      <td>3.685344</td>\n",
       "      <td>0.025578</td>\n",
       "      <td>11.053708</td>\n",
       "      <td>1.229900</td>\n",
       "      <td>4169.67738</td>\n",
       "      <td>23.6577</td>\n",
       "      <td>237.282264</td>\n",
       "      <td>11.050410</td>\n",
       "      <td>661.518640</td>\n",
       "      <td>257.432377</td>\n",
       "      <td>15.201914</td>\n",
       "      <td>0.717882</td>\n",
       "      <td>88.159360</td>\n",
       "      <td>2.347652</td>\n",
       "      <td>0.029054</td>\n",
       "      <td>1.400300</td>\n",
       "      <td>0.636075</td>\n",
       "      <td>41.116960</td>\n",
       "      <td>0.722727</td>\n",
       "      <td>21.530392</td>\n",
       "      <td>47.27586</td>\n",
       "      <td>196.607985</td>\n",
       "      <td>0.23868</td>\n",
       "      <td>0.292431</td>\n",
       "      <td>139.824570</td>\n",
       "      <td>71.57120</td>\n",
       "      <td>24.354856</td>\n",
       "      <td>2.655345</td>\n",
       "      <td>1.74307</td>\n",
       "      <td>52.003884</td>\n",
       "      <td>7.386060</td>\n",
       "      <td>3.813326</td>\n",
       "      <td>15691.552180</td>\n",
       "      <td>0.614484</td>\n",
       "      <td>B</td>\n",
       "      <td>31.674357</td>\n",
       "      <td>78.526968</td>\n",
       "      <td>31.323372</td>\n",
       "      <td>59.301984</td>\n",
       "      <td>7.884336</td>\n",
       "      <td>10965.766040</td>\n",
       "      <td>14.852022</td>\n",
       "      <td>6.122162</td>\n",
       "      <td>0.49706</td>\n",
       "      <td>0.284466</td>\n",
       "      <td>18.529584</td>\n",
       "      <td>82.416803</td>\n",
       "      <td>2094.262452</td>\n",
       "      <td>39.948656</td>\n",
       "      <td>90.493248</td>\n",
       "      <td>0.155829</td>\n",
       "      <td>0</td>\n",
       "    </tr>\n",
       "    <tr>\n",
       "      <th>4</th>\n",
       "      <td>044fb8a146ec</td>\n",
       "      <td>0.380297</td>\n",
       "      <td>3733.04844</td>\n",
       "      <td>85.200147</td>\n",
       "      <td>14.103738</td>\n",
       "      <td>8.138688</td>\n",
       "      <td>3.942255</td>\n",
       "      <td>0.054810</td>\n",
       "      <td>3.396778</td>\n",
       "      <td>102.151980</td>\n",
       "      <td>5728.73412</td>\n",
       "      <td>24.0108</td>\n",
       "      <td>324.546318</td>\n",
       "      <td>149.717165</td>\n",
       "      <td>6074.859475</td>\n",
       "      <td>257.432377</td>\n",
       "      <td>82.213495</td>\n",
       "      <td>0.536467</td>\n",
       "      <td>72.644264</td>\n",
       "      <td>30.537722</td>\n",
       "      <td>0.025472</td>\n",
       "      <td>1.050225</td>\n",
       "      <td>0.693150</td>\n",
       "      <td>31.724726</td>\n",
       "      <td>0.827550</td>\n",
       "      <td>34.415360</td>\n",
       "      <td>74.06532</td>\n",
       "      <td>200.178160</td>\n",
       "      <td>0.23868</td>\n",
       "      <td>0.207708</td>\n",
       "      <td>97.920120</td>\n",
       "      <td>52.83888</td>\n",
       "      <td>26.019912</td>\n",
       "      <td>1.144902</td>\n",
       "      <td>1.74307</td>\n",
       "      <td>9.064856</td>\n",
       "      <td>7.350720</td>\n",
       "      <td>3.490846</td>\n",
       "      <td>1403.656300</td>\n",
       "      <td>0.164268</td>\n",
       "      <td>B</td>\n",
       "      <td>109.125159</td>\n",
       "      <td>91.994825</td>\n",
       "      <td>51.141336</td>\n",
       "      <td>29.102640</td>\n",
       "      <td>4.274640</td>\n",
       "      <td>16198.049590</td>\n",
       "      <td>13.666727</td>\n",
       "      <td>8.153058</td>\n",
       "      <td>48.50134</td>\n",
       "      <td>0.121914</td>\n",
       "      <td>16.408728</td>\n",
       "      <td>146.109943</td>\n",
       "      <td>8524.370502</td>\n",
       "      <td>45.381316</td>\n",
       "      <td>36.262628</td>\n",
       "      <td>0.096614</td>\n",
       "      <td>1</td>\n",
       "    </tr>\n",
       "  </tbody>\n",
       "</table>\n",
       "</div>"
      ],
      "text/plain": [
       "             Id        AB          AF          AH         AM        AR  \\\n",
       "0  000ff2bfdfe9  0.209377  3109.03329   85.200147  22.394407  8.138688   \n",
       "1  007255e47698  0.145282   978.76416   85.200147  36.968889  8.138688   \n",
       "2  013f2bd269f5  0.470030  2635.10654   85.200147  32.360553  8.138688   \n",
       "3  043ac50845d5  0.252107  3819.65177  120.201618  77.112203  8.138688   \n",
       "4  044fb8a146ec  0.380297  3733.04844   85.200147  14.103738  8.138688   \n",
       "\n",
       "         AX        AY         AZ          BC          BD       BN          BP  \\\n",
       "0  0.699861  0.025578   9.812214    5.555634  4126.58731  22.5984  175.638726   \n",
       "1  3.632190  0.025578  13.517790    1.229900  5496.92824  19.4205  155.868030   \n",
       "2  6.732840  0.025578  12.824570    1.229900  5135.78024  26.4825  128.988531   \n",
       "3  3.685344  0.025578  11.053708    1.229900  4169.67738  23.6577  237.282264   \n",
       "4  3.942255  0.054810   3.396778  102.151980  5728.73412  24.0108  324.546318   \n",
       "\n",
       "           BQ           BR          BZ         CB        CC         CD  \\\n",
       "0  152.707705   823.928241  257.432377  47.223358  0.563481  23.387600   \n",
       "1   14.754720    51.216883  257.432377  30.284345  0.484710  50.628208   \n",
       "2  219.320160   482.141594  257.432377  32.563713  0.495852  85.955376   \n",
       "3   11.050410   661.518640  257.432377  15.201914  0.717882  88.159360   \n",
       "4  149.717165  6074.859475  257.432377  82.213495  0.536467  72.644264   \n",
       "\n",
       "          CF        CH        CL        CR         CS        CU         CW  \\\n",
       "0   4.851915  0.023482  1.050225  0.069225  13.784111  1.302012  36.205956   \n",
       "1   6.085041  0.031442  1.113875  1.117800  28.310953  1.357182  37.476568   \n",
       "2   5.376488  0.036218  1.050225  0.700350  39.364743  1.009611  21.459644   \n",
       "3   2.347652  0.029054  1.400300  0.636075  41.116960  0.722727  21.530392   \n",
       "4  30.537722  0.025472  1.050225  0.693150  31.724726  0.827550  34.415360   \n",
       "\n",
       "         DA          DE       DF        DH          DI        DL         DN  \\\n",
       "0  69.08340  295.570575  0.23868  0.284232   89.245560  84.31664  29.657104   \n",
       "1  70.79836  178.553100  0.23868  0.363489  110.581815  75.74548  37.532000   \n",
       "2  70.81970  321.426625  0.23868  0.210441  120.056438  65.46984  28.053464   \n",
       "3  47.27586  196.607985  0.23868  0.292431  139.824570  71.57120  24.354856   \n",
       "4  74.06532  200.178160  0.23868  0.207708   97.920120  52.83888  26.019912   \n",
       "\n",
       "         DU       DV         DY        EB        EE            EG        EH  \\\n",
       "0  5.310690  1.74307  23.187704  7.294176  1.987283   1433.166750  0.949104   \n",
       "1  0.005518  1.74307  17.222328  4.926396  0.858603   1111.287150  0.003042   \n",
       "2  1.289739  1.74307  36.861352  7.813674  8.146651   1494.076488  0.377208   \n",
       "3  2.655345  1.74307  52.003884  7.386060  3.813326  15691.552180  0.614484   \n",
       "4  1.144902  1.74307   9.064856  7.350720  3.490846   1403.656300  0.164268   \n",
       "\n",
       "  EJ          EL         EP         EU          FC         FD            FE  \\\n",
       "0  B   30.879420  78.526968   3.828384   13.394640  10.265073   9028.291921   \n",
       "1  A  109.125159  95.415086  52.260480   17.175984   0.296850   6785.003474   \n",
       "2  B  109.125159  78.526968   5.390628  224.207424   8.745201   8338.906181   \n",
       "3  B   31.674357  78.526968  31.323372   59.301984   7.884336  10965.766040   \n",
       "4  B  109.125159  91.994825  51.141336   29.102640   4.274640  16198.049590   \n",
       "\n",
       "          FI        FL        FR        FS         GB          GE  \\\n",
       "0   3.583450  7.298162   1.73855  0.094822  11.339138   72.611063   \n",
       "1  10.358927  0.173229   0.49706  0.568932   9.292698   72.611063   \n",
       "2  11.626917  7.709560   0.97556  1.198821  37.077772   88.609437   \n",
       "3  14.852022  6.122162   0.49706  0.284466  18.529584   82.416803   \n",
       "4  13.666727  8.153058  48.50134  0.121914  16.408728  146.109943   \n",
       "\n",
       "             GF         GH         GI         GL  Class  \n",
       "0   2003.810319  22.136229  69.834944   0.120343      1  \n",
       "1  27981.562750  29.135430  32.131996  21.978000      0  \n",
       "2  13676.957810  28.022851  35.192676   0.196941      0  \n",
       "3   2094.262452  39.948656  90.493248   0.155829      0  \n",
       "4   8524.370502  45.381316  36.262628   0.096614      1  "
      ]
     },
     "execution_count": 8,
     "metadata": {},
     "output_type": "execute_result"
    }
   ],
   "source": [
    "train_df.head()"
   ]
  },
  {
   "cell_type": "code",
   "execution_count": 9,
   "id": "07a6a410",
   "metadata": {
    "execution": {
     "iopub.execute_input": "2023-06-05T04:51:58.376807Z",
     "iopub.status.busy": "2023-06-05T04:51:58.376451Z",
     "iopub.status.idle": "2023-06-05T04:51:58.387956Z",
     "shell.execute_reply": "2023-06-05T04:51:58.386622Z"
    },
    "papermill": {
     "duration": 0.028215,
     "end_time": "2023-06-05T04:51:58.390449",
     "exception": false,
     "start_time": "2023-06-05T04:51:58.362234",
     "status": "completed"
    },
    "tags": []
   },
   "outputs": [
    {
     "data": {
      "text/html": [
       "<div>\n",
       "<style scoped>\n",
       "    .dataframe tbody tr th:only-of-type {\n",
       "        vertical-align: middle;\n",
       "    }\n",
       "\n",
       "    .dataframe tbody tr th {\n",
       "        vertical-align: top;\n",
       "    }\n",
       "\n",
       "    .dataframe thead th {\n",
       "        text-align: right;\n",
       "    }\n",
       "</style>\n",
       "<table border=\"1\" class=\"dataframe\">\n",
       "  <thead>\n",
       "    <tr style=\"text-align: right;\">\n",
       "      <th></th>\n",
       "      <th>Id</th>\n",
       "      <th>Alpha</th>\n",
       "      <th>Beta</th>\n",
       "      <th>Gamma</th>\n",
       "      <th>Delta</th>\n",
       "      <th>Epsilon</th>\n",
       "    </tr>\n",
       "  </thead>\n",
       "  <tbody>\n",
       "    <tr>\n",
       "      <th>0</th>\n",
       "      <td>000ff2bfdfe9</td>\n",
       "      <td>B</td>\n",
       "      <td>C</td>\n",
       "      <td>G</td>\n",
       "      <td>D</td>\n",
       "      <td>3/19/2019</td>\n",
       "    </tr>\n",
       "    <tr>\n",
       "      <th>1</th>\n",
       "      <td>007255e47698</td>\n",
       "      <td>A</td>\n",
       "      <td>C</td>\n",
       "      <td>M</td>\n",
       "      <td>B</td>\n",
       "      <td>Unknown</td>\n",
       "    </tr>\n",
       "    <tr>\n",
       "      <th>2</th>\n",
       "      <td>013f2bd269f5</td>\n",
       "      <td>A</td>\n",
       "      <td>C</td>\n",
       "      <td>M</td>\n",
       "      <td>B</td>\n",
       "      <td>Unknown</td>\n",
       "    </tr>\n",
       "    <tr>\n",
       "      <th>3</th>\n",
       "      <td>043ac50845d5</td>\n",
       "      <td>A</td>\n",
       "      <td>C</td>\n",
       "      <td>M</td>\n",
       "      <td>B</td>\n",
       "      <td>Unknown</td>\n",
       "    </tr>\n",
       "    <tr>\n",
       "      <th>4</th>\n",
       "      <td>044fb8a146ec</td>\n",
       "      <td>D</td>\n",
       "      <td>B</td>\n",
       "      <td>F</td>\n",
       "      <td>B</td>\n",
       "      <td>3/25/2020</td>\n",
       "    </tr>\n",
       "  </tbody>\n",
       "</table>\n",
       "</div>"
      ],
      "text/plain": [
       "             Id Alpha Beta Gamma Delta    Epsilon\n",
       "0  000ff2bfdfe9     B    C     G     D  3/19/2019\n",
       "1  007255e47698     A    C     M     B    Unknown\n",
       "2  013f2bd269f5     A    C     M     B    Unknown\n",
       "3  043ac50845d5     A    C     M     B    Unknown\n",
       "4  044fb8a146ec     D    B     F     B  3/25/2020"
      ]
     },
     "execution_count": 9,
     "metadata": {},
     "output_type": "execute_result"
    }
   ],
   "source": [
    "greeks_df.head()"
   ]
  },
  {
   "cell_type": "code",
   "execution_count": 10,
   "id": "a96f7cea",
   "metadata": {
    "execution": {
     "iopub.execute_input": "2023-06-05T04:51:58.419738Z",
     "iopub.status.busy": "2023-06-05T04:51:58.419305Z",
     "iopub.status.idle": "2023-06-05T04:51:58.428212Z",
     "shell.execute_reply": "2023-06-05T04:51:58.426779Z"
    },
    "papermill": {
     "duration": 0.026787,
     "end_time": "2023-06-05T04:51:58.430647",
     "exception": false,
     "start_time": "2023-06-05T04:51:58.403860",
     "status": "completed"
    },
    "tags": []
   },
   "outputs": [
    {
     "data": {
      "text/plain": [
       "([], [])"
      ]
     },
     "execution_count": 10,
     "metadata": {},
     "output_type": "execute_result"
    }
   ],
   "source": [
    "list(set(train_df.Id)-set(greeks_df.Id)), list(set(greeks_df.Id)-set(train_df.Id))"
   ]
  },
  {
   "cell_type": "code",
   "execution_count": 11,
   "id": "b63fbba0",
   "metadata": {
    "execution": {
     "iopub.execute_input": "2023-06-05T04:51:58.458349Z",
     "iopub.status.busy": "2023-06-05T04:51:58.457975Z",
     "iopub.status.idle": "2023-06-05T04:51:58.462889Z",
     "shell.execute_reply": "2023-06-05T04:51:58.461999Z"
    },
    "papermill": {
     "duration": 0.021303,
     "end_time": "2023-06-05T04:51:58.465093",
     "exception": false,
     "start_time": "2023-06-05T04:51:58.443790",
     "status": "completed"
    },
    "tags": []
   },
   "outputs": [],
   "source": [
    "# [train.csv] The training set\n",
    "#\n",
    "# - Id \n",
    "#   : Unique identifier for each observation.\n",
    "#\n",
    "# - AB-GL \n",
    "#   : Fifty-six anonymized health characteristics.\n",
    "#   : All are numeric except for EJ, which is categorical.\n",
    "#\n",
    "# - Class\n",
    "#   : A binary target\n",
    "#   : 1 indicates the subject has been diagnosed with one of the three conditions, \n",
    "#   : 0 indicates they have not.\n",
    "#\n",
    "# [greeks.csv] Supplemental metadata, only available for the training set.\n",
    "#\n",
    "# - Alpha\n",
    "#   : Identifies the type of age-related condition, if present.\n",
    "#   - A : No age-related condition. Corresponds to class 0\n",
    "#   - B, D, G : The three age-related conditions. Correspond to class 1\n",
    "# - Beta, Gamma, Delta\n",
    "#   : Three experimental characteristics.\n",
    "# - Epsilon\n",
    "#   : The date the data for this subject was collected.\n",
    "#   : Note that all of the data in the test set was collected after the training set was collected."
   ]
  },
  {
   "cell_type": "code",
   "execution_count": 12,
   "id": "5150473d",
   "metadata": {
    "execution": {
     "iopub.execute_input": "2023-06-05T04:51:58.493615Z",
     "iopub.status.busy": "2023-06-05T04:51:58.493231Z",
     "iopub.status.idle": "2023-06-05T04:51:58.686754Z",
     "shell.execute_reply": "2023-06-05T04:51:58.685267Z"
    },
    "papermill": {
     "duration": 0.210915,
     "end_time": "2023-06-05T04:51:58.689172",
     "exception": false,
     "start_time": "2023-06-05T04:51:58.478257",
     "status": "completed"
    },
    "tags": []
   },
   "outputs": [],
   "source": [
    "from sklearn.preprocessing import LabelEncoder\n",
    "\n",
    "le = LabelEncoder()\n",
    "train_df['Class'] = le.fit_transform(greeks_df['Alpha'])"
   ]
  },
  {
   "cell_type": "code",
   "execution_count": 13,
   "id": "d403aed9",
   "metadata": {
    "execution": {
     "iopub.execute_input": "2023-06-05T04:51:58.718532Z",
     "iopub.status.busy": "2023-06-05T04:51:58.718160Z",
     "iopub.status.idle": "2023-06-05T04:51:58.724077Z",
     "shell.execute_reply": "2023-06-05T04:51:58.722574Z"
    },
    "papermill": {
     "duration": 0.02353,
     "end_time": "2023-06-05T04:51:58.726265",
     "exception": false,
     "start_time": "2023-06-05T04:51:58.702735",
     "status": "completed"
    },
    "tags": []
   },
   "outputs": [],
   "source": [
    "assert le.classes_[0]=='A', \\\n",
    "    \"First label must be 'A'\""
   ]
  },
  {
   "cell_type": "code",
   "execution_count": 14,
   "id": "ebc45f3c",
   "metadata": {
    "execution": {
     "iopub.execute_input": "2023-06-05T04:51:58.753648Z",
     "iopub.status.busy": "2023-06-05T04:51:58.753264Z",
     "iopub.status.idle": "2023-06-05T04:51:58.794246Z",
     "shell.execute_reply": "2023-06-05T04:51:58.792792Z"
    },
    "papermill": {
     "duration": 0.057829,
     "end_time": "2023-06-05T04:51:58.797027",
     "exception": false,
     "start_time": "2023-06-05T04:51:58.739198",
     "status": "completed"
    },
    "tags": []
   },
   "outputs": [
    {
     "data": {
      "text/html": [
       "<div>\n",
       "<style scoped>\n",
       "    .dataframe tbody tr th:only-of-type {\n",
       "        vertical-align: middle;\n",
       "    }\n",
       "\n",
       "    .dataframe tbody tr th {\n",
       "        vertical-align: top;\n",
       "    }\n",
       "\n",
       "    .dataframe thead th {\n",
       "        text-align: right;\n",
       "    }\n",
       "</style>\n",
       "<table border=\"1\" class=\"dataframe\">\n",
       "  <thead>\n",
       "    <tr style=\"text-align: right;\">\n",
       "      <th></th>\n",
       "      <th>Id</th>\n",
       "      <th>AB</th>\n",
       "      <th>AF</th>\n",
       "      <th>AH</th>\n",
       "      <th>AM</th>\n",
       "      <th>AR</th>\n",
       "      <th>AX</th>\n",
       "      <th>AY</th>\n",
       "      <th>AZ</th>\n",
       "      <th>BC</th>\n",
       "      <th>BD</th>\n",
       "      <th>BN</th>\n",
       "      <th>BP</th>\n",
       "      <th>BQ</th>\n",
       "      <th>BR</th>\n",
       "      <th>BZ</th>\n",
       "      <th>CB</th>\n",
       "      <th>CC</th>\n",
       "      <th>CD</th>\n",
       "      <th>CF</th>\n",
       "      <th>CH</th>\n",
       "      <th>CL</th>\n",
       "      <th>CR</th>\n",
       "      <th>CS</th>\n",
       "      <th>CU</th>\n",
       "      <th>CW</th>\n",
       "      <th>DA</th>\n",
       "      <th>DE</th>\n",
       "      <th>DF</th>\n",
       "      <th>DH</th>\n",
       "      <th>DI</th>\n",
       "      <th>DL</th>\n",
       "      <th>DN</th>\n",
       "      <th>DU</th>\n",
       "      <th>DV</th>\n",
       "      <th>DY</th>\n",
       "      <th>EB</th>\n",
       "      <th>EE</th>\n",
       "      <th>EG</th>\n",
       "      <th>EH</th>\n",
       "      <th>EJ</th>\n",
       "      <th>EL</th>\n",
       "      <th>EP</th>\n",
       "      <th>EU</th>\n",
       "      <th>FC</th>\n",
       "      <th>FD</th>\n",
       "      <th>FE</th>\n",
       "      <th>FI</th>\n",
       "      <th>FL</th>\n",
       "      <th>FR</th>\n",
       "      <th>FS</th>\n",
       "      <th>GB</th>\n",
       "      <th>GE</th>\n",
       "      <th>GF</th>\n",
       "      <th>GH</th>\n",
       "      <th>GI</th>\n",
       "      <th>GL</th>\n",
       "      <th>Class</th>\n",
       "    </tr>\n",
       "  </thead>\n",
       "  <tbody>\n",
       "    <tr>\n",
       "      <th>0</th>\n",
       "      <td>000ff2bfdfe9</td>\n",
       "      <td>0.209377</td>\n",
       "      <td>3109.03329</td>\n",
       "      <td>85.200147</td>\n",
       "      <td>22.394407</td>\n",
       "      <td>8.138688</td>\n",
       "      <td>0.699861</td>\n",
       "      <td>0.025578</td>\n",
       "      <td>9.812214</td>\n",
       "      <td>5.555634</td>\n",
       "      <td>4126.58731</td>\n",
       "      <td>22.5984</td>\n",
       "      <td>175.638726</td>\n",
       "      <td>152.707705</td>\n",
       "      <td>823.928241</td>\n",
       "      <td>257.432377</td>\n",
       "      <td>47.223358</td>\n",
       "      <td>0.563481</td>\n",
       "      <td>23.387600</td>\n",
       "      <td>4.851915</td>\n",
       "      <td>0.023482</td>\n",
       "      <td>1.050225</td>\n",
       "      <td>0.069225</td>\n",
       "      <td>13.784111</td>\n",
       "      <td>1.302012</td>\n",
       "      <td>36.205956</td>\n",
       "      <td>69.08340</td>\n",
       "      <td>295.570575</td>\n",
       "      <td>0.23868</td>\n",
       "      <td>0.284232</td>\n",
       "      <td>89.245560</td>\n",
       "      <td>84.31664</td>\n",
       "      <td>29.657104</td>\n",
       "      <td>5.310690</td>\n",
       "      <td>1.74307</td>\n",
       "      <td>23.187704</td>\n",
       "      <td>7.294176</td>\n",
       "      <td>1.987283</td>\n",
       "      <td>1433.166750</td>\n",
       "      <td>0.949104</td>\n",
       "      <td>B</td>\n",
       "      <td>30.879420</td>\n",
       "      <td>78.526968</td>\n",
       "      <td>3.828384</td>\n",
       "      <td>13.394640</td>\n",
       "      <td>10.265073</td>\n",
       "      <td>9028.291921</td>\n",
       "      <td>3.583450</td>\n",
       "      <td>7.298162</td>\n",
       "      <td>1.73855</td>\n",
       "      <td>0.094822</td>\n",
       "      <td>11.339138</td>\n",
       "      <td>72.611063</td>\n",
       "      <td>2003.810319</td>\n",
       "      <td>22.136229</td>\n",
       "      <td>69.834944</td>\n",
       "      <td>0.120343</td>\n",
       "      <td>1</td>\n",
       "    </tr>\n",
       "    <tr>\n",
       "      <th>1</th>\n",
       "      <td>007255e47698</td>\n",
       "      <td>0.145282</td>\n",
       "      <td>978.76416</td>\n",
       "      <td>85.200147</td>\n",
       "      <td>36.968889</td>\n",
       "      <td>8.138688</td>\n",
       "      <td>3.632190</td>\n",
       "      <td>0.025578</td>\n",
       "      <td>13.517790</td>\n",
       "      <td>1.229900</td>\n",
       "      <td>5496.92824</td>\n",
       "      <td>19.4205</td>\n",
       "      <td>155.868030</td>\n",
       "      <td>14.754720</td>\n",
       "      <td>51.216883</td>\n",
       "      <td>257.432377</td>\n",
       "      <td>30.284345</td>\n",
       "      <td>0.484710</td>\n",
       "      <td>50.628208</td>\n",
       "      <td>6.085041</td>\n",
       "      <td>0.031442</td>\n",
       "      <td>1.113875</td>\n",
       "      <td>1.117800</td>\n",
       "      <td>28.310953</td>\n",
       "      <td>1.357182</td>\n",
       "      <td>37.476568</td>\n",
       "      <td>70.79836</td>\n",
       "      <td>178.553100</td>\n",
       "      <td>0.23868</td>\n",
       "      <td>0.363489</td>\n",
       "      <td>110.581815</td>\n",
       "      <td>75.74548</td>\n",
       "      <td>37.532000</td>\n",
       "      <td>0.005518</td>\n",
       "      <td>1.74307</td>\n",
       "      <td>17.222328</td>\n",
       "      <td>4.926396</td>\n",
       "      <td>0.858603</td>\n",
       "      <td>1111.287150</td>\n",
       "      <td>0.003042</td>\n",
       "      <td>A</td>\n",
       "      <td>109.125159</td>\n",
       "      <td>95.415086</td>\n",
       "      <td>52.260480</td>\n",
       "      <td>17.175984</td>\n",
       "      <td>0.296850</td>\n",
       "      <td>6785.003474</td>\n",
       "      <td>10.358927</td>\n",
       "      <td>0.173229</td>\n",
       "      <td>0.49706</td>\n",
       "      <td>0.568932</td>\n",
       "      <td>9.292698</td>\n",
       "      <td>72.611063</td>\n",
       "      <td>27981.562750</td>\n",
       "      <td>29.135430</td>\n",
       "      <td>32.131996</td>\n",
       "      <td>21.978000</td>\n",
       "      <td>0</td>\n",
       "    </tr>\n",
       "    <tr>\n",
       "      <th>2</th>\n",
       "      <td>013f2bd269f5</td>\n",
       "      <td>0.470030</td>\n",
       "      <td>2635.10654</td>\n",
       "      <td>85.200147</td>\n",
       "      <td>32.360553</td>\n",
       "      <td>8.138688</td>\n",
       "      <td>6.732840</td>\n",
       "      <td>0.025578</td>\n",
       "      <td>12.824570</td>\n",
       "      <td>1.229900</td>\n",
       "      <td>5135.78024</td>\n",
       "      <td>26.4825</td>\n",
       "      <td>128.988531</td>\n",
       "      <td>219.320160</td>\n",
       "      <td>482.141594</td>\n",
       "      <td>257.432377</td>\n",
       "      <td>32.563713</td>\n",
       "      <td>0.495852</td>\n",
       "      <td>85.955376</td>\n",
       "      <td>5.376488</td>\n",
       "      <td>0.036218</td>\n",
       "      <td>1.050225</td>\n",
       "      <td>0.700350</td>\n",
       "      <td>39.364743</td>\n",
       "      <td>1.009611</td>\n",
       "      <td>21.459644</td>\n",
       "      <td>70.81970</td>\n",
       "      <td>321.426625</td>\n",
       "      <td>0.23868</td>\n",
       "      <td>0.210441</td>\n",
       "      <td>120.056438</td>\n",
       "      <td>65.46984</td>\n",
       "      <td>28.053464</td>\n",
       "      <td>1.289739</td>\n",
       "      <td>1.74307</td>\n",
       "      <td>36.861352</td>\n",
       "      <td>7.813674</td>\n",
       "      <td>8.146651</td>\n",
       "      <td>1494.076488</td>\n",
       "      <td>0.377208</td>\n",
       "      <td>B</td>\n",
       "      <td>109.125159</td>\n",
       "      <td>78.526968</td>\n",
       "      <td>5.390628</td>\n",
       "      <td>224.207424</td>\n",
       "      <td>8.745201</td>\n",
       "      <td>8338.906181</td>\n",
       "      <td>11.626917</td>\n",
       "      <td>7.709560</td>\n",
       "      <td>0.97556</td>\n",
       "      <td>1.198821</td>\n",
       "      <td>37.077772</td>\n",
       "      <td>88.609437</td>\n",
       "      <td>13676.957810</td>\n",
       "      <td>28.022851</td>\n",
       "      <td>35.192676</td>\n",
       "      <td>0.196941</td>\n",
       "      <td>0</td>\n",
       "    </tr>\n",
       "    <tr>\n",
       "      <th>3</th>\n",
       "      <td>043ac50845d5</td>\n",
       "      <td>0.252107</td>\n",
       "      <td>3819.65177</td>\n",
       "      <td>120.201618</td>\n",
       "      <td>77.112203</td>\n",
       "      <td>8.138688</td>\n",
       "      <td>3.685344</td>\n",
       "      <td>0.025578</td>\n",
       "      <td>11.053708</td>\n",
       "      <td>1.229900</td>\n",
       "      <td>4169.67738</td>\n",
       "      <td>23.6577</td>\n",
       "      <td>237.282264</td>\n",
       "      <td>11.050410</td>\n",
       "      <td>661.518640</td>\n",
       "      <td>257.432377</td>\n",
       "      <td>15.201914</td>\n",
       "      <td>0.717882</td>\n",
       "      <td>88.159360</td>\n",
       "      <td>2.347652</td>\n",
       "      <td>0.029054</td>\n",
       "      <td>1.400300</td>\n",
       "      <td>0.636075</td>\n",
       "      <td>41.116960</td>\n",
       "      <td>0.722727</td>\n",
       "      <td>21.530392</td>\n",
       "      <td>47.27586</td>\n",
       "      <td>196.607985</td>\n",
       "      <td>0.23868</td>\n",
       "      <td>0.292431</td>\n",
       "      <td>139.824570</td>\n",
       "      <td>71.57120</td>\n",
       "      <td>24.354856</td>\n",
       "      <td>2.655345</td>\n",
       "      <td>1.74307</td>\n",
       "      <td>52.003884</td>\n",
       "      <td>7.386060</td>\n",
       "      <td>3.813326</td>\n",
       "      <td>15691.552180</td>\n",
       "      <td>0.614484</td>\n",
       "      <td>B</td>\n",
       "      <td>31.674357</td>\n",
       "      <td>78.526968</td>\n",
       "      <td>31.323372</td>\n",
       "      <td>59.301984</td>\n",
       "      <td>7.884336</td>\n",
       "      <td>10965.766040</td>\n",
       "      <td>14.852022</td>\n",
       "      <td>6.122162</td>\n",
       "      <td>0.49706</td>\n",
       "      <td>0.284466</td>\n",
       "      <td>18.529584</td>\n",
       "      <td>82.416803</td>\n",
       "      <td>2094.262452</td>\n",
       "      <td>39.948656</td>\n",
       "      <td>90.493248</td>\n",
       "      <td>0.155829</td>\n",
       "      <td>0</td>\n",
       "    </tr>\n",
       "    <tr>\n",
       "      <th>4</th>\n",
       "      <td>044fb8a146ec</td>\n",
       "      <td>0.380297</td>\n",
       "      <td>3733.04844</td>\n",
       "      <td>85.200147</td>\n",
       "      <td>14.103738</td>\n",
       "      <td>8.138688</td>\n",
       "      <td>3.942255</td>\n",
       "      <td>0.054810</td>\n",
       "      <td>3.396778</td>\n",
       "      <td>102.151980</td>\n",
       "      <td>5728.73412</td>\n",
       "      <td>24.0108</td>\n",
       "      <td>324.546318</td>\n",
       "      <td>149.717165</td>\n",
       "      <td>6074.859475</td>\n",
       "      <td>257.432377</td>\n",
       "      <td>82.213495</td>\n",
       "      <td>0.536467</td>\n",
       "      <td>72.644264</td>\n",
       "      <td>30.537722</td>\n",
       "      <td>0.025472</td>\n",
       "      <td>1.050225</td>\n",
       "      <td>0.693150</td>\n",
       "      <td>31.724726</td>\n",
       "      <td>0.827550</td>\n",
       "      <td>34.415360</td>\n",
       "      <td>74.06532</td>\n",
       "      <td>200.178160</td>\n",
       "      <td>0.23868</td>\n",
       "      <td>0.207708</td>\n",
       "      <td>97.920120</td>\n",
       "      <td>52.83888</td>\n",
       "      <td>26.019912</td>\n",
       "      <td>1.144902</td>\n",
       "      <td>1.74307</td>\n",
       "      <td>9.064856</td>\n",
       "      <td>7.350720</td>\n",
       "      <td>3.490846</td>\n",
       "      <td>1403.656300</td>\n",
       "      <td>0.164268</td>\n",
       "      <td>B</td>\n",
       "      <td>109.125159</td>\n",
       "      <td>91.994825</td>\n",
       "      <td>51.141336</td>\n",
       "      <td>29.102640</td>\n",
       "      <td>4.274640</td>\n",
       "      <td>16198.049590</td>\n",
       "      <td>13.666727</td>\n",
       "      <td>8.153058</td>\n",
       "      <td>48.50134</td>\n",
       "      <td>0.121914</td>\n",
       "      <td>16.408728</td>\n",
       "      <td>146.109943</td>\n",
       "      <td>8524.370502</td>\n",
       "      <td>45.381316</td>\n",
       "      <td>36.262628</td>\n",
       "      <td>0.096614</td>\n",
       "      <td>2</td>\n",
       "    </tr>\n",
       "  </tbody>\n",
       "</table>\n",
       "</div>"
      ],
      "text/plain": [
       "             Id        AB          AF          AH         AM        AR  \\\n",
       "0  000ff2bfdfe9  0.209377  3109.03329   85.200147  22.394407  8.138688   \n",
       "1  007255e47698  0.145282   978.76416   85.200147  36.968889  8.138688   \n",
       "2  013f2bd269f5  0.470030  2635.10654   85.200147  32.360553  8.138688   \n",
       "3  043ac50845d5  0.252107  3819.65177  120.201618  77.112203  8.138688   \n",
       "4  044fb8a146ec  0.380297  3733.04844   85.200147  14.103738  8.138688   \n",
       "\n",
       "         AX        AY         AZ          BC          BD       BN          BP  \\\n",
       "0  0.699861  0.025578   9.812214    5.555634  4126.58731  22.5984  175.638726   \n",
       "1  3.632190  0.025578  13.517790    1.229900  5496.92824  19.4205  155.868030   \n",
       "2  6.732840  0.025578  12.824570    1.229900  5135.78024  26.4825  128.988531   \n",
       "3  3.685344  0.025578  11.053708    1.229900  4169.67738  23.6577  237.282264   \n",
       "4  3.942255  0.054810   3.396778  102.151980  5728.73412  24.0108  324.546318   \n",
       "\n",
       "           BQ           BR          BZ         CB        CC         CD  \\\n",
       "0  152.707705   823.928241  257.432377  47.223358  0.563481  23.387600   \n",
       "1   14.754720    51.216883  257.432377  30.284345  0.484710  50.628208   \n",
       "2  219.320160   482.141594  257.432377  32.563713  0.495852  85.955376   \n",
       "3   11.050410   661.518640  257.432377  15.201914  0.717882  88.159360   \n",
       "4  149.717165  6074.859475  257.432377  82.213495  0.536467  72.644264   \n",
       "\n",
       "          CF        CH        CL        CR         CS        CU         CW  \\\n",
       "0   4.851915  0.023482  1.050225  0.069225  13.784111  1.302012  36.205956   \n",
       "1   6.085041  0.031442  1.113875  1.117800  28.310953  1.357182  37.476568   \n",
       "2   5.376488  0.036218  1.050225  0.700350  39.364743  1.009611  21.459644   \n",
       "3   2.347652  0.029054  1.400300  0.636075  41.116960  0.722727  21.530392   \n",
       "4  30.537722  0.025472  1.050225  0.693150  31.724726  0.827550  34.415360   \n",
       "\n",
       "         DA          DE       DF        DH          DI        DL         DN  \\\n",
       "0  69.08340  295.570575  0.23868  0.284232   89.245560  84.31664  29.657104   \n",
       "1  70.79836  178.553100  0.23868  0.363489  110.581815  75.74548  37.532000   \n",
       "2  70.81970  321.426625  0.23868  0.210441  120.056438  65.46984  28.053464   \n",
       "3  47.27586  196.607985  0.23868  0.292431  139.824570  71.57120  24.354856   \n",
       "4  74.06532  200.178160  0.23868  0.207708   97.920120  52.83888  26.019912   \n",
       "\n",
       "         DU       DV         DY        EB        EE            EG        EH  \\\n",
       "0  5.310690  1.74307  23.187704  7.294176  1.987283   1433.166750  0.949104   \n",
       "1  0.005518  1.74307  17.222328  4.926396  0.858603   1111.287150  0.003042   \n",
       "2  1.289739  1.74307  36.861352  7.813674  8.146651   1494.076488  0.377208   \n",
       "3  2.655345  1.74307  52.003884  7.386060  3.813326  15691.552180  0.614484   \n",
       "4  1.144902  1.74307   9.064856  7.350720  3.490846   1403.656300  0.164268   \n",
       "\n",
       "  EJ          EL         EP         EU          FC         FD            FE  \\\n",
       "0  B   30.879420  78.526968   3.828384   13.394640  10.265073   9028.291921   \n",
       "1  A  109.125159  95.415086  52.260480   17.175984   0.296850   6785.003474   \n",
       "2  B  109.125159  78.526968   5.390628  224.207424   8.745201   8338.906181   \n",
       "3  B   31.674357  78.526968  31.323372   59.301984   7.884336  10965.766040   \n",
       "4  B  109.125159  91.994825  51.141336   29.102640   4.274640  16198.049590   \n",
       "\n",
       "          FI        FL        FR        FS         GB          GE  \\\n",
       "0   3.583450  7.298162   1.73855  0.094822  11.339138   72.611063   \n",
       "1  10.358927  0.173229   0.49706  0.568932   9.292698   72.611063   \n",
       "2  11.626917  7.709560   0.97556  1.198821  37.077772   88.609437   \n",
       "3  14.852022  6.122162   0.49706  0.284466  18.529584   82.416803   \n",
       "4  13.666727  8.153058  48.50134  0.121914  16.408728  146.109943   \n",
       "\n",
       "             GF         GH         GI         GL  Class  \n",
       "0   2003.810319  22.136229  69.834944   0.120343      1  \n",
       "1  27981.562750  29.135430  32.131996  21.978000      0  \n",
       "2  13676.957810  28.022851  35.192676   0.196941      0  \n",
       "3   2094.262452  39.948656  90.493248   0.155829      0  \n",
       "4   8524.370502  45.381316  36.262628   0.096614      2  "
      ]
     },
     "execution_count": 14,
     "metadata": {},
     "output_type": "execute_result"
    }
   ],
   "source": [
    "train_df.head()"
   ]
  },
  {
   "cell_type": "markdown",
   "id": "7c1da6f8",
   "metadata": {
    "papermill": {
     "duration": 0.013191,
     "end_time": "2023-06-05T04:51:58.823759",
     "exception": false,
     "start_time": "2023-06-05T04:51:58.810568",
     "status": "completed"
    },
    "tags": []
   },
   "source": [
    "<br></br>"
   ]
  },
  {
   "cell_type": "markdown",
   "id": "4e479399",
   "metadata": {
    "papermill": {
     "duration": 0.012882,
     "end_time": "2023-06-05T04:51:58.849995",
     "exception": false,
     "start_time": "2023-06-05T04:51:58.837113",
     "status": "completed"
    },
    "tags": []
   },
   "source": [
    "# Preprocess"
   ]
  },
  {
   "cell_type": "markdown",
   "id": "6f143d03",
   "metadata": {
    "papermill": {
     "duration": 0.013168,
     "end_time": "2023-06-05T04:51:58.876452",
     "exception": false,
     "start_time": "2023-06-05T04:51:58.863284",
     "status": "completed"
    },
    "tags": []
   },
   "source": [
    "<br>"
   ]
  },
  {
   "cell_type": "markdown",
   "id": "eb07c3c4",
   "metadata": {
    "papermill": {
     "duration": 0.012957,
     "end_time": "2023-06-05T04:51:58.902738",
     "exception": false,
     "start_time": "2023-06-05T04:51:58.889781",
     "status": "completed"
    },
    "tags": []
   },
   "source": [
    "## Add Interactions"
   ]
  },
  {
   "cell_type": "code",
   "execution_count": 15,
   "id": "0b632ce3",
   "metadata": {
    "execution": {
     "iopub.execute_input": "2023-06-05T04:51:58.931583Z",
     "iopub.status.busy": "2023-06-05T04:51:58.930471Z",
     "iopub.status.idle": "2023-06-05T04:51:58.938446Z",
     "shell.execute_reply": "2023-06-05T04:51:58.937006Z"
    },
    "papermill": {
     "duration": 0.02498,
     "end_time": "2023-06-05T04:51:58.940789",
     "exception": false,
     "start_time": "2023-06-05T04:51:58.915809",
     "status": "completed"
    },
    "tags": []
   },
   "outputs": [],
   "source": [
    "import warnings\n",
    "class AddInteraction:\n",
    "    def __init__(self):\n",
    "        warnings.simplefilter(action='ignore', category=pd.errors.PerformanceWarning)\n",
    "        \n",
    "    def fit(self,features):\n",
    "        self.features = features\n",
    "        self.interaction_features = []\n",
    "        for i in range(len(self.features)):\n",
    "            for j in range(len(self.features)):\n",
    "                if i>j:\n",
    "                    col_i = self.features[i]\n",
    "                    col_j = self.features[j]\n",
    "                    self.interaction_features.append([col_i,col_j])\n",
    "                    \n",
    "    def transform(self,data):\n",
    "        d = data.copy()\n",
    "        for col_i,col_j in self.interaction_features:\n",
    "            d[f'{col_i}*{col_j}'] = d[col_i]*d[col_j]\n",
    "        return d"
   ]
  },
  {
   "cell_type": "code",
   "execution_count": 16,
   "id": "164bd271",
   "metadata": {
    "execution": {
     "iopub.execute_input": "2023-06-05T04:51:58.968903Z",
     "iopub.status.busy": "2023-06-05T04:51:58.968057Z",
     "iopub.status.idle": "2023-06-05T04:51:58.973122Z",
     "shell.execute_reply": "2023-06-05T04:51:58.972310Z"
    },
    "papermill": {
     "duration": 0.020693,
     "end_time": "2023-06-05T04:51:58.974739",
     "exception": false,
     "start_time": "2023-06-05T04:51:58.954046",
     "status": "completed"
    },
    "tags": []
   },
   "outputs": [],
   "source": [
    "# define features type\n",
    "target_feature = 'Class'\n",
    "unuse_features = ['Id']\n",
    "cat_features = ['EJ']\n",
    "num_features = list(set(train_df.columns)-set([target_feature]+cat_features+unuse_features))"
   ]
  },
  {
   "cell_type": "code",
   "execution_count": 17,
   "id": "913f6afe",
   "metadata": {
    "execution": {
     "iopub.execute_input": "2023-06-05T04:51:59.004007Z",
     "iopub.status.busy": "2023-06-05T04:51:59.003644Z",
     "iopub.status.idle": "2023-06-05T04:51:59.008713Z",
     "shell.execute_reply": "2023-06-05T04:51:59.007738Z"
    },
    "papermill": {
     "duration": 0.022656,
     "end_time": "2023-06-05T04:51:59.010900",
     "exception": false,
     "start_time": "2023-06-05T04:51:58.988244",
     "status": "completed"
    },
    "tags": []
   },
   "outputs": [],
   "source": [
    "if CFG.ADD_INTERACTION:\n",
    "    interaction_maker = AddInteraction()\n",
    "    interaction_maker.fit(num_features)\n",
    "    train_df2 = interaction_maker.transform(train_df)\n",
    "    test_df2  = interaction_maker.transform(test_df)\n",
    "else:\n",
    "    train_df2 = train_df.copy()\n",
    "    test_df2  = test_df.copy()"
   ]
  },
  {
   "cell_type": "code",
   "execution_count": 18,
   "id": "1b610731",
   "metadata": {
    "execution": {
     "iopub.execute_input": "2023-06-05T04:51:59.040447Z",
     "iopub.status.busy": "2023-06-05T04:51:59.039878Z",
     "iopub.status.idle": "2023-06-05T04:51:59.044716Z",
     "shell.execute_reply": "2023-06-05T04:51:59.043664Z"
    },
    "papermill": {
     "duration": 0.022658,
     "end_time": "2023-06-05T04:51:59.047263",
     "exception": false,
     "start_time": "2023-06-05T04:51:59.024605",
     "status": "completed"
    },
    "tags": []
   },
   "outputs": [],
   "source": [
    "# define numerical type features\n",
    "num_features = list(set(train_df2.columns)-set([target_feature]+cat_features+unuse_features))"
   ]
  },
  {
   "cell_type": "markdown",
   "id": "debc1083",
   "metadata": {
    "papermill": {
     "duration": 0.013921,
     "end_time": "2023-06-05T04:51:59.074800",
     "exception": false,
     "start_time": "2023-06-05T04:51:59.060879",
     "status": "completed"
    },
    "tags": []
   },
   "source": [
    "<br>"
   ]
  },
  {
   "cell_type": "markdown",
   "id": "cf3855f1",
   "metadata": {
    "papermill": {
     "duration": 0.013001,
     "end_time": "2023-06-05T04:51:59.102552",
     "exception": false,
     "start_time": "2023-06-05T04:51:59.089551",
     "status": "completed"
    },
    "tags": []
   },
   "source": [
    "## Feature Selection"
   ]
  },
  {
   "cell_type": "markdown",
   "id": "b4e6d4e5",
   "metadata": {
    "papermill": {
     "duration": 0.013472,
     "end_time": "2023-06-05T04:51:59.129683",
     "exception": false,
     "start_time": "2023-06-05T04:51:59.116211",
     "status": "completed"
    },
    "tags": []
   },
   "source": [
    "### Numerical"
   ]
  },
  {
   "cell_type": "code",
   "execution_count": 19,
   "id": "92815b3f",
   "metadata": {
    "execution": {
     "iopub.execute_input": "2023-06-05T04:51:59.160447Z",
     "iopub.status.busy": "2023-06-05T04:51:59.159876Z",
     "iopub.status.idle": "2023-06-05T04:51:59.622660Z",
     "shell.execute_reply": "2023-06-05T04:51:59.621011Z"
    },
    "papermill": {
     "duration": 0.480429,
     "end_time": "2023-06-05T04:51:59.624990",
     "exception": false,
     "start_time": "2023-06-05T04:51:59.144561",
     "status": "completed"
    },
    "tags": []
   },
   "outputs": [],
   "source": [
    "from statsmodels.formula.api import ols\n",
    "from statsmodels.stats.anova import anova_lm"
   ]
  },
  {
   "cell_type": "code",
   "execution_count": 20,
   "id": "51f85f8c",
   "metadata": {
    "execution": {
     "iopub.execute_input": "2023-06-05T04:51:59.654323Z",
     "iopub.status.busy": "2023-06-05T04:51:59.653399Z",
     "iopub.status.idle": "2023-06-05T04:51:59.658317Z",
     "shell.execute_reply": "2023-06-05T04:51:59.657757Z"
    },
    "papermill": {
     "duration": 0.021895,
     "end_time": "2023-06-05T04:51:59.660344",
     "exception": false,
     "start_time": "2023-06-05T04:51:59.638449",
     "status": "completed"
    },
    "tags": []
   },
   "outputs": [],
   "source": [
    "def log_offset(x):\n",
    "    if min(x)>0:\n",
    "        offset = 0\n",
    "    elif min(x)==0:\n",
    "        offset = 1e-3\n",
    "    else:\n",
    "        offset = min(x)+1e-3\n",
    "        print('minimum = {:.3f}'.format(min(x)))\n",
    "    return np.log(x+offset)"
   ]
  },
  {
   "cell_type": "code",
   "execution_count": 21,
   "id": "0e14d6a1",
   "metadata": {
    "execution": {
     "iopub.execute_input": "2023-06-05T04:51:59.689468Z",
     "iopub.status.busy": "2023-06-05T04:51:59.689105Z",
     "iopub.status.idle": "2023-06-05T04:51:59.694905Z",
     "shell.execute_reply": "2023-06-05T04:51:59.693688Z"
    },
    "papermill": {
     "duration": 0.023209,
     "end_time": "2023-06-05T04:51:59.697304",
     "exception": false,
     "start_time": "2023-06-05T04:51:59.674095",
     "status": "completed"
    },
    "tags": []
   },
   "outputs": [
    {
     "data": {
      "text/plain": [
       "0.01"
      ]
     },
     "execution_count": 21,
     "metadata": {},
     "output_type": "execute_result"
    }
   ],
   "source": [
    "CFG.FS_ALPHA"
   ]
  },
  {
   "cell_type": "code",
   "execution_count": 22,
   "id": "70710eb2",
   "metadata": {
    "execution": {
     "iopub.execute_input": "2023-06-05T04:51:59.728420Z",
     "iopub.status.busy": "2023-06-05T04:51:59.727825Z",
     "iopub.status.idle": "2023-06-05T04:52:00.399151Z",
     "shell.execute_reply": "2023-06-05T04:52:00.397996Z"
    },
    "papermill": {
     "duration": 0.689919,
     "end_time": "2023-06-05T04:52:00.401322",
     "exception": false,
     "start_time": "2023-06-05T04:51:59.711403",
     "status": "completed"
    },
    "tags": []
   },
   "outputs": [
    {
     "name": "stderr",
     "output_type": "stream",
     "text": [
      "100%|██████████| 55/55 [00:00<00:00, 83.32it/s]\n"
     ]
    }
   ],
   "source": [
    "pvalue_list = []\n",
    "for col in tqdm(num_features):\n",
    "    ols_data = train_df2[[col,target_feature]].copy()\n",
    "    ols_data.columns = ['feature','target']\n",
    "\n",
    "    formula = 'feature ~ C(target)'\n",
    "    model = ols(formula=formula,data=ols_data).fit()\n",
    "    pvalue = anova_lm(model)['PR(>F)']['C(target)']\n",
    "    \n",
    "    pvalue_list.append([col,pvalue])\n",
    "    \n",
    "pvalue_df = pd.DataFrame(pvalue_list,columns=['feature','pvalue']).sort_values('pvalue',ascending=False)\n",
    "unsignificant_features = pvalue_df[pvalue_df.pvalue>CFG.FS_ALPHA].feature.tolist()"
   ]
  },
  {
   "cell_type": "code",
   "execution_count": 23,
   "id": "1d2f451f",
   "metadata": {
    "execution": {
     "iopub.execute_input": "2023-06-05T04:52:00.430064Z",
     "iopub.status.busy": "2023-06-05T04:52:00.429732Z",
     "iopub.status.idle": "2023-06-05T04:52:00.714343Z",
     "shell.execute_reply": "2023-06-05T04:52:00.712710Z"
    },
    "papermill": {
     "duration": 0.302175,
     "end_time": "2023-06-05T04:52:00.717306",
     "exception": false,
     "start_time": "2023-06-05T04:52:00.415131",
     "status": "completed"
    },
    "tags": []
   },
   "outputs": [
    {
     "name": "stderr",
     "output_type": "stream",
     "text": [
      "100%|██████████| 22/22 [00:00<00:00, 80.40it/s]\n"
     ]
    }
   ],
   "source": [
    "log_pvalue_list = []\n",
    "for col in tqdm(unsignificant_features):\n",
    "    ols_data = train_df2[[col,target_feature]].copy()\n",
    "    ols_data.columns = ['feature','target']\n",
    "    ols_data['feature'] = log_offset(ols_data['feature'])\n",
    "\n",
    "    formula = 'feature ~ C(target)'\n",
    "    model = ols(formula=formula,data=ols_data).fit()\n",
    "    pvalue = anova_lm(model)['PR(>F)']['C(target)']\n",
    "    \n",
    "    log_pvalue_list.append([col,pvalue])\n",
    "    \n",
    "log_pvalue_df = pd.DataFrame(log_pvalue_list,columns=['feature','pvalue']).sort_values('pvalue',ascending=False)\n",
    "delete_features = log_pvalue_df[log_pvalue_df.pvalue>CFG.FS_ALPHA].feature.tolist()"
   ]
  },
  {
   "cell_type": "code",
   "execution_count": 24,
   "id": "814f62c0",
   "metadata": {
    "execution": {
     "iopub.execute_input": "2023-06-05T04:52:00.748451Z",
     "iopub.status.busy": "2023-06-05T04:52:00.748087Z",
     "iopub.status.idle": "2023-06-05T04:52:00.763480Z",
     "shell.execute_reply": "2023-06-05T04:52:00.762076Z"
    },
    "papermill": {
     "duration": 0.033994,
     "end_time": "2023-06-05T04:52:00.766156",
     "exception": false,
     "start_time": "2023-06-05T04:52:00.732162",
     "status": "completed"
    },
    "tags": []
   },
   "outputs": [],
   "source": [
    "train_df3 = train_df2.copy()\n",
    "test_df3  = test_df2.copy()\n",
    "\n",
    "train_df3.drop(columns=delete_features,inplace=True)\n",
    "test_df3 .drop(columns=delete_features,inplace=True)\n",
    "\n",
    "log_features = list(set(unsignificant_features)-set(delete_features))\n",
    "for col in log_features:\n",
    "    train_df3[col] = log_offset(train_df3[col])\n",
    "    test_df3 [col] = log_offset(test_df3 [col])"
   ]
  },
  {
   "cell_type": "code",
   "execution_count": 25,
   "id": "10b4309e",
   "metadata": {
    "execution": {
     "iopub.execute_input": "2023-06-05T04:52:00.798765Z",
     "iopub.status.busy": "2023-06-05T04:52:00.798363Z",
     "iopub.status.idle": "2023-06-05T04:52:00.804428Z",
     "shell.execute_reply": "2023-06-05T04:52:00.803387Z"
    },
    "papermill": {
     "duration": 0.024795,
     "end_time": "2023-06-05T04:52:00.806865",
     "exception": false,
     "start_time": "2023-06-05T04:52:00.782070",
     "status": "completed"
    },
    "tags": []
   },
   "outputs": [],
   "source": [
    "if CFG.VERBOSE:\n",
    "    print('> Log Features:', log_features)\n",
    "    print('> Delete Features:', delete_features)"
   ]
  },
  {
   "cell_type": "code",
   "execution_count": 26,
   "id": "ecbc3cd0",
   "metadata": {
    "execution": {
     "iopub.execute_input": "2023-06-05T04:52:00.838337Z",
     "iopub.status.busy": "2023-06-05T04:52:00.837312Z",
     "iopub.status.idle": "2023-06-05T04:52:00.844526Z",
     "shell.execute_reply": "2023-06-05T04:52:00.843175Z"
    },
    "papermill": {
     "duration": 0.025041,
     "end_time": "2023-06-05T04:52:00.846457",
     "exception": false,
     "start_time": "2023-06-05T04:52:00.821416",
     "status": "completed"
    },
    "tags": []
   },
   "outputs": [
    {
     "data": {
      "text/plain": [
       "((617, 58), (617, 42))"
      ]
     },
     "execution_count": 26,
     "metadata": {},
     "output_type": "execute_result"
    }
   ],
   "source": [
    "train_df2.shape,train_df3.shape"
   ]
  },
  {
   "cell_type": "code",
   "execution_count": 27,
   "id": "45354917",
   "metadata": {
    "execution": {
     "iopub.execute_input": "2023-06-05T04:52:00.877281Z",
     "iopub.status.busy": "2023-06-05T04:52:00.876958Z",
     "iopub.status.idle": "2023-06-05T04:52:00.881383Z",
     "shell.execute_reply": "2023-06-05T04:52:00.880492Z"
    },
    "papermill": {
     "duration": 0.022415,
     "end_time": "2023-06-05T04:52:00.883645",
     "exception": false,
     "start_time": "2023-06-05T04:52:00.861230",
     "status": "completed"
    },
    "tags": []
   },
   "outputs": [],
   "source": [
    "# define features type\n",
    "target_feature = 'Class'\n",
    "unuse_features = ['Id']\n",
    "cat_features = ['EJ']\n",
    "num_features = list(set(train_df3.columns)-set([target_feature]+cat_features+unuse_features))"
   ]
  },
  {
   "cell_type": "markdown",
   "id": "d876124b",
   "metadata": {
    "papermill": {
     "duration": 0.014816,
     "end_time": "2023-06-05T04:52:00.913279",
     "exception": false,
     "start_time": "2023-06-05T04:52:00.898463",
     "status": "completed"
    },
    "tags": []
   },
   "source": [
    "<br></br>"
   ]
  },
  {
   "cell_type": "markdown",
   "id": "fe3f7b20",
   "metadata": {
    "papermill": {
     "duration": 0.01455,
     "end_time": "2023-06-05T04:52:00.942676",
     "exception": false,
     "start_time": "2023-06-05T04:52:00.928126",
     "status": "completed"
    },
    "tags": []
   },
   "source": [
    "# Modeling"
   ]
  },
  {
   "cell_type": "markdown",
   "id": "ee23f57b",
   "metadata": {
    "papermill": {
     "duration": 0.014832,
     "end_time": "2023-06-05T04:52:00.973012",
     "exception": false,
     "start_time": "2023-06-05T04:52:00.958180",
     "status": "completed"
    },
    "tags": []
   },
   "source": [
    "- No Interaction, Binary\n",
    "- No Interaction, MultiClass\n",
    "- Interaction, Binary\n",
    "- Interaction, MultiClass"
   ]
  },
  {
   "cell_type": "code",
   "execution_count": 28,
   "id": "77f4bf3d",
   "metadata": {
    "execution": {
     "iopub.execute_input": "2023-06-05T04:52:01.004934Z",
     "iopub.status.busy": "2023-06-05T04:52:01.004032Z",
     "iopub.status.idle": "2023-06-05T04:52:01.138777Z",
     "shell.execute_reply": "2023-06-05T04:52:01.137011Z"
    },
    "papermill": {
     "duration": 0.154044,
     "end_time": "2023-06-05T04:52:01.141881",
     "exception": false,
     "start_time": "2023-06-05T04:52:00.987837",
     "status": "completed"
    },
    "tags": []
   },
   "outputs": [],
   "source": [
    "from sklearn.model_selection import StratifiedKFold"
   ]
  },
  {
   "cell_type": "code",
   "execution_count": 29,
   "id": "c88764c3",
   "metadata": {
    "execution": {
     "iopub.execute_input": "2023-06-05T04:52:01.179937Z",
     "iopub.status.busy": "2023-06-05T04:52:01.179110Z",
     "iopub.status.idle": "2023-06-05T04:52:01.187296Z",
     "shell.execute_reply": "2023-06-05T04:52:01.185753Z"
    },
    "papermill": {
     "duration": 0.029666,
     "end_time": "2023-06-05T04:52:01.189665",
     "exception": false,
     "start_time": "2023-06-05T04:52:01.159999",
     "status": "completed"
    },
    "tags": []
   },
   "outputs": [],
   "source": [
    "def balanced_log_loss(y_true, y_pred):\n",
    "    N_0 = np.sum(1 - y_true)\n",
    "    N_1 = np.sum(y_true)\n",
    "    p_1 = np.clip(y_pred, 1e-15, 1 - 1e-15)\n",
    "    p_0 = 1 - p_1\n",
    "    log_loss_0 = -np.sum((1 - y_true) * np.log(p_0))\n",
    "    log_loss_1 = -np.sum(y_true * np.log(p_1))\n",
    "    w_0 = 1 / N_0\n",
    "    w_1 = 1 / N_1\n",
    "    _balanced_log_loss = 2*(w_0 * log_loss_0 + w_1 * log_loss_1) / (w_0 + w_1)\n",
    "    return _balanced_log_loss/(N_0+N_1)"
   ]
  },
  {
   "cell_type": "code",
   "execution_count": 30,
   "id": "c9c51ca9",
   "metadata": {
    "execution": {
     "iopub.execute_input": "2023-06-05T04:52:01.221548Z",
     "iopub.status.busy": "2023-06-05T04:52:01.221140Z",
     "iopub.status.idle": "2023-06-05T04:52:01.230237Z",
     "shell.execute_reply": "2023-06-05T04:52:01.228651Z"
    },
    "papermill": {
     "duration": 0.028163,
     "end_time": "2023-06-05T04:52:01.232829",
     "exception": false,
     "start_time": "2023-06-05T04:52:01.204666",
     "status": "completed"
    },
    "tags": []
   },
   "outputs": [],
   "source": [
    "class OneHotEncoder:\n",
    "    def __init__(self):\n",
    "        pass\n",
    "    \n",
    "    def fit(self,data,columns):\n",
    "        self.transform_list = []\n",
    "        for col in cat_features:\n",
    "            for i,value in enumerate(sorted(data[col].unique())):\n",
    "                if i>0:\n",
    "                    self.transform_list.append([col,value])\n",
    "        \n",
    "    def transform(self,data):\n",
    "        new_data = data.copy()\n",
    "        for col,value in self.transform_list:\n",
    "            new_data[f'{col}_{value}'] = np.where(new_data[col]==value,1,0)\n",
    "        drop_columns = pd.unique(np.array(self.transform_list)[:,0])\n",
    "        new_data.drop(columns=drop_columns,inplace=True)\n",
    "        return new_data"
   ]
  },
  {
   "cell_type": "code",
   "execution_count": 31,
   "id": "ce96a9ff",
   "metadata": {
    "execution": {
     "iopub.execute_input": "2023-06-05T04:52:01.267553Z",
     "iopub.status.busy": "2023-06-05T04:52:01.267117Z",
     "iopub.status.idle": "2023-06-05T04:52:01.275003Z",
     "shell.execute_reply": "2023-06-05T04:52:01.273231Z"
    },
    "papermill": {
     "duration": 0.028902,
     "end_time": "2023-06-05T04:52:01.277658",
     "exception": false,
     "start_time": "2023-06-05T04:52:01.248756",
     "status": "completed"
    },
    "tags": []
   },
   "outputs": [],
   "source": [
    "def get_weighted_proba(ps):\n",
    "    p = np.mean(ps,axis=0)\n",
    "    class_0_est_instances = p[:,0].sum()\n",
    "    others_est_instances = p[:,1:].sum()\n",
    "    # we reweight the probs, since the loss is also balanced like this\n",
    "    # our models out of the box optimize CE\n",
    "    # with these changes they optimize balanced CE\n",
    "    new_p = p * np.array([[1/(class_0_est_instances if i==0 else others_est_instances) for i in range(p.shape[1])]])\n",
    "    new_p = new_p / np.sum(new_p,axis=1,keepdims=1)\n",
    "    new_p = np.concatenate((new_p[:,:1],np.sum(new_p[:,1:],1,keepdims=True)), 1)\n",
    "    return new_p"
   ]
  },
  {
   "cell_type": "code",
   "execution_count": 32,
   "id": "74767f2b",
   "metadata": {
    "execution": {
     "iopub.execute_input": "2023-06-05T04:52:01.311612Z",
     "iopub.status.busy": "2023-06-05T04:52:01.311205Z",
     "iopub.status.idle": "2023-06-05T04:52:05.034198Z",
     "shell.execute_reply": "2023-06-05T04:52:05.032763Z"
    },
    "papermill": {
     "duration": 3.743175,
     "end_time": "2023-06-05T04:52:05.036457",
     "exception": false,
     "start_time": "2023-06-05T04:52:01.293282",
     "status": "completed"
    },
    "tags": []
   },
   "outputs": [],
   "source": [
    "from copy import deepcopy\n",
    "from catboost import CatBoostClassifier, Pool\n",
    "from xgboost import XGBClassifier\n",
    "from tabpfn import TabPFNClassifier"
   ]
  },
  {
   "cell_type": "code",
   "execution_count": 33,
   "id": "d3132da9",
   "metadata": {
    "execution": {
     "iopub.execute_input": "2023-06-05T04:52:05.066448Z",
     "iopub.status.busy": "2023-06-05T04:52:05.065909Z",
     "iopub.status.idle": "2023-06-05T04:52:05.501268Z",
     "shell.execute_reply": "2023-06-05T04:52:05.500091Z"
    },
    "papermill": {
     "duration": 0.452151,
     "end_time": "2023-06-05T04:52:05.503001",
     "exception": false,
     "start_time": "2023-06-05T04:52:05.050850",
     "status": "completed"
    },
    "tags": []
   },
   "outputs": [
    {
     "name": "stdout",
     "output_type": "stream",
     "text": [
      "Loading model that can be used for inference only\n",
      "Using a Transformer with 25.82 M parameters\n"
     ]
    }
   ],
   "source": [
    "# (1) CatBoost\n",
    "params_catboost = {\n",
    "    'random_state':CFG.SEED,\n",
    "    'early_stopping_rounds' : CFG.ES,\n",
    "    'learning_rate' : CFG.LR,\n",
    "    'iterations' : CFG.EPOCHS,\n",
    "    'loss_function': 'MultiClass',\n",
    "    'auto_class_weights' : 'Balanced',\n",
    "    'grow_policy' : 'Lossguide', # 'SymmetricTree','Depthwise'\n",
    "    'use_best_model' : True,\n",
    "    'allow_writing_files' : False,\n",
    "    'verbose' : False,\n",
    "    'max_depth': 10,\n",
    "    'l2_leaf_reg' : 1,\n",
    "}\n",
    "ref_catboost_model = CatBoostClassifier(**params_catboost)\n",
    "\n",
    "# (2) XGBoost\n",
    "params_xgboost = {\n",
    "    'random_state':CFG.SEED,\n",
    "    'early_stopping_rounds' : CFG.ES,\n",
    "    'learning_rate' : CFG.LR,\n",
    "    'n_estimators' : CFG.EPOCHS,\n",
    "    'loss_function': 'MultiClass',\n",
    "    'verbosity' : 0,\n",
    "    'max_depth': 10,\n",
    "    'n_jobs' : -1,\n",
    "}\n",
    "ref_xgboost_model = XGBClassifier(**params_xgboost)\n",
    "\n",
    "# (3) TabPFN\n",
    "ref_tabpfn_model = TabPFNClassifier(N_ensemble_configurations=64,seed=CFG.SEED,device=CFG.DEVICE)"
   ]
  },
  {
   "cell_type": "code",
   "execution_count": 34,
   "id": "9400692c",
   "metadata": {
    "execution": {
     "iopub.execute_input": "2023-06-05T04:52:05.535736Z",
     "iopub.status.busy": "2023-06-05T04:52:05.535342Z",
     "iopub.status.idle": "2023-06-05T05:07:16.413562Z",
     "shell.execute_reply": "2023-06-05T05:07:16.411899Z"
    },
    "papermill": {
     "duration": 910.896458,
     "end_time": "2023-06-05T05:07:16.415884",
     "exception": false,
     "start_time": "2023-06-05T04:52:05.519426",
     "status": "completed"
    },
    "tags": []
   },
   "outputs": [
    {
     "name": "stderr",
     "output_type": "stream",
     "text": [
      "[3/3] TabPFN Fitting...: 100%|██████████| 5/5 [15:10<00:00, 182.17s/it]"
     ]
    },
    {
     "name": "stdout",
     "output_type": "stream",
     "text": [
      "CPU times: user 53min 42s, sys: 1min 50s, total: 55min 33s\n",
      "Wall time: 15min 10s\n"
     ]
    },
    {
     "name": "stderr",
     "output_type": "stream",
     "text": [
      "\n"
     ]
    }
   ],
   "source": [
    "%%time\n",
    "# 10분\n",
    "\n",
    "skf = StratifiedKFold(n_splits=CFG.N_SPLITS,shuffle=True,random_state=CFG.SEED)\n",
    "\n",
    "X = train_df3[cat_features+num_features]\n",
    "y = train_df3[target_feature]\n",
    "\n",
    "# one-hot encoding for XGB, TabPFN\n",
    "oh_encoder = OneHotEncoder()\n",
    "oh_encoder.fit(X,cat_features)\n",
    "X_oh = oh_encoder.transform(X)\n",
    "\n",
    "models = []\n",
    "weights = []\n",
    "preds = []\n",
    "\n",
    "pbar = tqdm(skf.split(X,y),total=CFG.N_SPLITS)\n",
    "for train_idx,val_idx in pbar:\n",
    "    # define train/val dataset\n",
    "    X_train, y_train = X.iloc[train_idx], y.iloc[train_idx]\n",
    "    X_val  , y_val   = X.iloc[val_idx  ], y.iloc[val_idx  ]\n",
    "    X_train_oh, X_val_oh = X_oh.iloc[train_idx], X_oh.iloc[val_idx]\n",
    "    \n",
    "    # dataset for CatBOost\n",
    "    catboost_traindata = Pool(X_train,y_train,cat_features=cat_features)\n",
    "    catboost_valdata   = Pool(X_val  ,y_val  ,cat_features=cat_features)\n",
    "    \n",
    "    # model copy\n",
    "    model_catboost = deepcopy(ref_catboost_model)\n",
    "    model_xgboost  = deepcopy(ref_xgboost_model)\n",
    "    model_tabpfn   = deepcopy(ref_tabpfn_model)\n",
    "    \n",
    "    # modeling - catboost\n",
    "    pbar.set_description('[1/3] CatBoost Fitting...')\n",
    "    model_catboost.fit(catboost_traindata,eval_set=catboost_valdata)\n",
    "    pred_catboost = model_catboost.predict_proba(X_val)\n",
    "    p_catboost = get_weighted_proba([pred_catboost])\n",
    "    loss_catboost = balanced_log_loss(np.where(y_val==0,0,1), p_catboost[:, 1])\n",
    "    \n",
    "    # modeling - xgboost\n",
    "    pbar.set_description('[2/3] XGBoost Fitting...')\n",
    "    model_xgboost.fit(X_train_oh,y_train,eval_set=[(X_val_oh,y_val)],verbose=0)\n",
    "    pred_xgboost  = model_xgboost.predict_proba(X_val_oh)\n",
    "    p_xgboost = get_weighted_proba([pred_xgboost])\n",
    "    loss_xgboost = balanced_log_loss(np.where(y_val==0,0,1), p_xgboost[:, 1])\n",
    "    \n",
    "    # modeling - tabpfn\n",
    "    pbar.set_description('[3/3] TabPFN Fitting...')\n",
    "    model_tabpfn.fit(X_train_oh,y_train)\n",
    "    pred_tabpfn = model_tabpfn.predict_proba(X_val_oh)\n",
    "    p_tabpfn = get_weighted_proba([pred_tabpfn])\n",
    "    loss_tabpfn = balanced_log_loss(np.where(y_val==0,0,1), p_tabpfn[:, 1])\n",
    "    \n",
    "    # appending\n",
    "    models += [model_catboost,model_xgboost,model_tabpfn]\n",
    "    weights += [1/loss_catboost, 1/loss_xgboost, 1/loss_tabpfn]\n",
    "    preds += [pred_catboost, pred_xgboost, pred_tabpfn]"
   ]
  },
  {
   "cell_type": "markdown",
   "id": "f8d8c9f9",
   "metadata": {
    "papermill": {
     "duration": 0.015819,
     "end_time": "2023-06-05T05:07:16.448419",
     "exception": false,
     "start_time": "2023-06-05T05:07:16.432600",
     "status": "completed"
    },
    "tags": []
   },
   "source": [
    "<br></br>"
   ]
  },
  {
   "cell_type": "markdown",
   "id": "82e9fa88",
   "metadata": {
    "papermill": {
     "duration": 0.016033,
     "end_time": "2023-06-05T05:07:16.480841",
     "exception": false,
     "start_time": "2023-06-05T05:07:16.464808",
     "status": "completed"
    },
    "tags": []
   },
   "source": [
    "# Inference"
   ]
  },
  {
   "cell_type": "markdown",
   "id": "429b76cf",
   "metadata": {
    "papermill": {
     "duration": 0.015902,
     "end_time": "2023-06-05T05:07:16.513053",
     "exception": false,
     "start_time": "2023-06-05T05:07:16.497151",
     "status": "completed"
    },
    "tags": []
   },
   "source": [
    "## Train"
   ]
  },
  {
   "cell_type": "code",
   "execution_count": 35,
   "id": "b736aee0",
   "metadata": {
    "execution": {
     "iopub.execute_input": "2023-06-05T05:07:16.548042Z",
     "iopub.status.busy": "2023-06-05T05:07:16.547337Z",
     "iopub.status.idle": "2023-06-05T05:07:16.552138Z",
     "shell.execute_reply": "2023-06-05T05:07:16.551146Z"
    },
    "papermill": {
     "duration": 0.024626,
     "end_time": "2023-06-05T05:07:16.554267",
     "exception": false,
     "start_time": "2023-06-05T05:07:16.529641",
     "status": "completed"
    },
    "tags": []
   },
   "outputs": [],
   "source": [
    "# X = train_df3[cat_features+num_features]\n",
    "# y = train_df3[target_feature]\n",
    "# X_oh = oh_encoder.transform(X)\n",
    "# X_pool = Pool(X,y,cat_features=cat_features)\n",
    "\n",
    "# normalized_weights = weights.copy()\n",
    "# normalized_weights /= sum(weights)\n",
    "\n",
    "# def get_predict_proba(model):\n",
    "#     if str(model).find('catboost')>=0:\n",
    "#         pred_proba = model.predict_proba(X_pool)\n",
    "#     else:\n",
    "#         pred_proba = model.predict_proba(X_oh)\n",
    "#     return pred_proba\n",
    "\n",
    "# ps = [get_predict_proba(model) for model in tqdm(models)]\n",
    "# p = get_weighted_proba(ps)\n",
    "\n",
    "# balanced_log_loss(y_true=np.where(y==0,0,1),y_pred=p[:,1])\n",
    "# pd.crosstab(np.where(y==0,0,1),np.where(p[:,1]>0.5,1,0))"
   ]
  },
  {
   "cell_type": "code",
   "execution_count": 36,
   "id": "98bca2ae",
   "metadata": {
    "execution": {
     "iopub.execute_input": "2023-06-05T05:07:16.588665Z",
     "iopub.status.busy": "2023-06-05T05:07:16.588086Z",
     "iopub.status.idle": "2023-06-05T05:10:21.137848Z",
     "shell.execute_reply": "2023-06-05T05:10:21.136562Z"
    },
    "papermill": {
     "duration": 184.586655,
     "end_time": "2023-06-05T05:10:21.157499",
     "exception": false,
     "start_time": "2023-06-05T05:07:16.570844",
     "status": "completed"
    },
    "tags": []
   },
   "outputs": [
    {
     "name": "stderr",
     "output_type": "stream",
     "text": [
      "TabPFN: 100%|██████████| 15/15 [03:04<00:00, 12.30s/it]"
     ]
    },
    {
     "name": "stdout",
     "output_type": "stream",
     "text": [
      "> Balanced Logloss: 0.0559\n",
      "CPU times: user 5min 10s, sys: 54.8 s, total: 6min 5s\n",
      "Wall time: 3min 4s\n"
     ]
    },
    {
     "name": "stderr",
     "output_type": "stream",
     "text": [
      "\n"
     ]
    }
   ],
   "source": [
    "%%time\n",
    "# 10분\n",
    "\n",
    "X = train_df3[cat_features+num_features]\n",
    "y = train_df3[target_feature]\n",
    "X_oh = oh_encoder.transform(X)\n",
    "X_pool = Pool(X,y,cat_features=cat_features)\n",
    "\n",
    "normalized_weights = weights.copy()\n",
    "normalized_weights /= sum(weights)\n",
    "\n",
    "y_probas = np.zeros((len(X),2))\n",
    "pbar = tqdm(zip(normalized_weights,models),total=len(models))\n",
    "for weight,model in pbar:\n",
    "    pbar.set_description(str(model).split('Classifier')[0])\n",
    "    if str(model).find('catboost')>=0:\n",
    "        pred_proba = model.predict_proba(X_pool)\n",
    "    else:\n",
    "        pred_proba = model.predict_proba(X_oh)\n",
    "    pred_proba = get_weighted_proba([pred_proba])\n",
    "    y_probas[:, 0] += weight * pred_proba[:, 0]\n",
    "    y_probas[:, 1] += weight * pred_proba[:, 1]\n",
    "y_probas /= sum(normalized_weights)\n",
    "\n",
    "score = balanced_log_loss(y_true=np.where(y==0,0,1),y_pred=y_probas[:,1])\n",
    "print('> Balanced Logloss: {:.4f}'.format(score))"
   ]
  },
  {
   "cell_type": "code",
   "execution_count": 37,
   "id": "a15231f9",
   "metadata": {
    "execution": {
     "iopub.execute_input": "2023-06-05T05:10:21.196086Z",
     "iopub.status.busy": "2023-06-05T05:10:21.195740Z",
     "iopub.status.idle": "2023-06-05T05:10:21.203851Z",
     "shell.execute_reply": "2023-06-05T05:10:21.203020Z"
    },
    "papermill": {
     "duration": 0.03006,
     "end_time": "2023-06-05T05:10:21.205553",
     "exception": false,
     "start_time": "2023-06-05T05:10:21.175493",
     "status": "completed"
    },
    "tags": []
   },
   "outputs": [
    {
     "data": {
      "text/plain": [
       "0.055938090139480624"
      ]
     },
     "execution_count": 37,
     "metadata": {},
     "output_type": "execute_result"
    }
   ],
   "source": [
    "balanced_log_loss(y_true=np.where(y==0,0,1),y_pred=y_probas[:,1])"
   ]
  },
  {
   "cell_type": "code",
   "execution_count": 38,
   "id": "0feea47f",
   "metadata": {
    "execution": {
     "iopub.execute_input": "2023-06-05T05:10:21.243095Z",
     "iopub.status.busy": "2023-06-05T05:10:21.242154Z",
     "iopub.status.idle": "2023-06-05T05:10:21.277359Z",
     "shell.execute_reply": "2023-06-05T05:10:21.275883Z"
    },
    "papermill": {
     "duration": 0.056373,
     "end_time": "2023-06-05T05:10:21.279600",
     "exception": false,
     "start_time": "2023-06-05T05:10:21.223227",
     "status": "completed"
    },
    "tags": []
   },
   "outputs": [
    {
     "data": {
      "text/html": [
       "<div>\n",
       "<style scoped>\n",
       "    .dataframe tbody tr th:only-of-type {\n",
       "        vertical-align: middle;\n",
       "    }\n",
       "\n",
       "    .dataframe tbody tr th {\n",
       "        vertical-align: top;\n",
       "    }\n",
       "\n",
       "    .dataframe thead th {\n",
       "        text-align: right;\n",
       "    }\n",
       "</style>\n",
       "<table border=\"1\" class=\"dataframe\">\n",
       "  <thead>\n",
       "    <tr style=\"text-align: right;\">\n",
       "      <th>col_0</th>\n",
       "      <th>0</th>\n",
       "      <th>1</th>\n",
       "    </tr>\n",
       "    <tr>\n",
       "      <th>row_0</th>\n",
       "      <th></th>\n",
       "      <th></th>\n",
       "    </tr>\n",
       "  </thead>\n",
       "  <tbody>\n",
       "    <tr>\n",
       "      <th>0</th>\n",
       "      <td>501</td>\n",
       "      <td>8</td>\n",
       "    </tr>\n",
       "    <tr>\n",
       "      <th>1</th>\n",
       "      <td>0</td>\n",
       "      <td>108</td>\n",
       "    </tr>\n",
       "  </tbody>\n",
       "</table>\n",
       "</div>"
      ],
      "text/plain": [
       "col_0    0    1\n",
       "row_0          \n",
       "0      501    8\n",
       "1        0  108"
      ]
     },
     "execution_count": 38,
     "metadata": {},
     "output_type": "execute_result"
    }
   ],
   "source": [
    "pd.crosstab(np.where(y==0,0,1),np.where(y_probas[:,1]>0.5,1,0))"
   ]
  },
  {
   "cell_type": "code",
   "execution_count": 39,
   "id": "3f804fed",
   "metadata": {
    "execution": {
     "iopub.execute_input": "2023-06-05T05:10:21.320474Z",
     "iopub.status.busy": "2023-06-05T05:10:21.320103Z",
     "iopub.status.idle": "2023-06-05T05:10:21.325340Z",
     "shell.execute_reply": "2023-06-05T05:10:21.324213Z"
    },
    "papermill": {
     "duration": 0.029279,
     "end_time": "2023-06-05T05:10:21.327617",
     "exception": false,
     "start_time": "2023-06-05T05:10:21.298338",
     "status": "completed"
    },
    "tags": []
   },
   "outputs": [],
   "source": [
    "# perpect_cutoff_list = np.arange(0.01,1.00,0.01)\n",
    "# loss_list = []\n",
    "# for perpect_cutoff in perpect_cutoff_list:\n",
    "#     p = np.array([\n",
    "#         1 if _p>perpect_cutoff else\n",
    "#         0 if _p<1-perpect_cutoff else\n",
    "#         _p for _p in y_probas[:,1]\n",
    "#     ])\n",
    "#     loss = balanced_log_loss(y_true=np.where(y==0,0,1),y_pred=p)\n",
    "#     loss_list.append(loss)\n",
    "    \n",
    "# perpect_cutoff = perpect_cutoff_list[np.argmin(loss_list)]\n",
    "# perpect_cutoff, min(loss_list)"
   ]
  },
  {
   "cell_type": "code",
   "execution_count": 40,
   "id": "290a5cb2",
   "metadata": {
    "execution": {
     "iopub.execute_input": "2023-06-05T05:10:21.369912Z",
     "iopub.status.busy": "2023-06-05T05:10:21.369606Z",
     "iopub.status.idle": "2023-06-05T05:10:21.374500Z",
     "shell.execute_reply": "2023-06-05T05:10:21.373945Z"
    },
    "papermill": {
     "duration": 0.027575,
     "end_time": "2023-06-05T05:10:21.376868",
     "exception": false,
     "start_time": "2023-06-05T05:10:21.349293",
     "status": "completed"
    },
    "tags": []
   },
   "outputs": [],
   "source": [
    "perpect_cutoff = 0.91\n",
    "\n",
    "p = np.array([\n",
    "    1 if _p>perpect_cutoff else\n",
    "    0 if _p<1-perpect_cutoff else\n",
    "    _p for _p in y_probas[:,1]\n",
    "])"
   ]
  },
  {
   "cell_type": "code",
   "execution_count": 41,
   "id": "0a12502f",
   "metadata": {
    "execution": {
     "iopub.execute_input": "2023-06-05T05:10:21.422659Z",
     "iopub.status.busy": "2023-06-05T05:10:21.422310Z",
     "iopub.status.idle": "2023-06-05T05:10:21.438389Z",
     "shell.execute_reply": "2023-06-05T05:10:21.437580Z"
    },
    "papermill": {
     "duration": 0.042281,
     "end_time": "2023-06-05T05:10:21.440962",
     "exception": false,
     "start_time": "2023-06-05T05:10:21.398681",
     "status": "completed"
    },
    "tags": []
   },
   "outputs": [
    {
     "data": {
      "text/html": [
       "<div>\n",
       "<style scoped>\n",
       "    .dataframe tbody tr th:only-of-type {\n",
       "        vertical-align: middle;\n",
       "    }\n",
       "\n",
       "    .dataframe tbody tr th {\n",
       "        vertical-align: top;\n",
       "    }\n",
       "\n",
       "    .dataframe thead th {\n",
       "        text-align: right;\n",
       "    }\n",
       "</style>\n",
       "<table border=\"1\" class=\"dataframe\">\n",
       "  <thead>\n",
       "    <tr style=\"text-align: right;\">\n",
       "      <th>col_0</th>\n",
       "      <th>0</th>\n",
       "      <th>1</th>\n",
       "    </tr>\n",
       "    <tr>\n",
       "      <th>row_0</th>\n",
       "      <th></th>\n",
       "      <th></th>\n",
       "    </tr>\n",
       "  </thead>\n",
       "  <tbody>\n",
       "    <tr>\n",
       "      <th>0</th>\n",
       "      <td>501</td>\n",
       "      <td>8</td>\n",
       "    </tr>\n",
       "    <tr>\n",
       "      <th>1</th>\n",
       "      <td>0</td>\n",
       "      <td>108</td>\n",
       "    </tr>\n",
       "  </tbody>\n",
       "</table>\n",
       "</div>"
      ],
      "text/plain": [
       "col_0    0    1\n",
       "row_0          \n",
       "0      501    8\n",
       "1        0  108"
      ]
     },
     "execution_count": 41,
     "metadata": {},
     "output_type": "execute_result"
    }
   ],
   "source": [
    "pd.crosstab(np.where(y==0,0,1),np.where(p>0.5,1,0))"
   ]
  },
  {
   "cell_type": "code",
   "execution_count": 42,
   "id": "ffad1e90",
   "metadata": {
    "execution": {
     "iopub.execute_input": "2023-06-05T05:10:21.483473Z",
     "iopub.status.busy": "2023-06-05T05:10:21.482409Z",
     "iopub.status.idle": "2023-06-05T05:10:21.488907Z",
     "shell.execute_reply": "2023-06-05T05:10:21.488257Z"
    },
    "papermill": {
     "duration": 0.030403,
     "end_time": "2023-06-05T05:10:21.490733",
     "exception": false,
     "start_time": "2023-06-05T05:10:21.460330",
     "status": "completed"
    },
    "tags": []
   },
   "outputs": [
    {
     "data": {
      "text/plain": [
       "(array([0.98801932, 0.04736639, 0.23540083, 0.2624002 , 0.96195203,\n",
       "        0.0380132 , 0.12345578, 0.0933746 , 0.04880723, 0.06550546,\n",
       "        0.98278385, 0.11079846, 0.08843821, 0.98827127, 0.23487176,\n",
       "        0.1728463 , 0.12895694, 0.13275088, 0.16500355, 0.08392026,\n",
       "        0.32654554, 0.07728118, 0.10329577, 0.04870972, 0.18363623,\n",
       "        0.08042384, 0.18544461, 0.03696367, 0.0686319 , 0.2453528 ,\n",
       "        0.08745756, 0.91776304, 0.99119315, 0.11093085, 0.16155819,\n",
       "        0.03784089, 0.97184653, 0.04014851, 0.04215263, 0.18418787]),\n",
       " array([1.        , 0.        , 0.23540083, 0.2624002 , 1.        ,\n",
       "        0.        , 0.12345578, 0.0933746 , 0.        , 0.        ,\n",
       "        1.        , 0.11079846, 0.        , 1.        , 0.23487176,\n",
       "        0.1728463 , 0.12895694, 0.13275088, 0.16500355, 0.        ,\n",
       "        0.32654554, 0.        , 0.10329577, 0.        , 0.18363623,\n",
       "        0.        , 0.18544461, 0.        , 0.        , 0.2453528 ,\n",
       "        0.        , 1.        , 1.        , 0.11093085, 0.16155819,\n",
       "        0.        , 1.        , 0.        , 0.        , 0.18418787]))"
      ]
     },
     "execution_count": 42,
     "metadata": {},
     "output_type": "execute_result"
    }
   ],
   "source": [
    "n_check = 40\n",
    "y_probas[:,1][:n_check], p[:n_check]"
   ]
  },
  {
   "cell_type": "markdown",
   "id": "b7c6c74c",
   "metadata": {
    "papermill": {
     "duration": 0.02103,
     "end_time": "2023-06-05T05:10:21.535769",
     "exception": false,
     "start_time": "2023-06-05T05:10:21.514739",
     "status": "completed"
    },
    "tags": []
   },
   "source": [
    "<br>"
   ]
  },
  {
   "cell_type": "markdown",
   "id": "238e103d",
   "metadata": {
    "papermill": {
     "duration": 0.01824,
     "end_time": "2023-06-05T05:10:21.572786",
     "exception": false,
     "start_time": "2023-06-05T05:10:21.554546",
     "status": "completed"
    },
    "tags": []
   },
   "source": [
    "## Test"
   ]
  },
  {
   "cell_type": "code",
   "execution_count": 43,
   "id": "ec0a5d5f",
   "metadata": {
    "execution": {
     "iopub.execute_input": "2023-06-05T05:10:21.618793Z",
     "iopub.status.busy": "2023-06-05T05:10:21.618038Z",
     "iopub.status.idle": "2023-06-05T05:11:52.619184Z",
     "shell.execute_reply": "2023-06-05T05:11:52.618282Z"
    },
    "papermill": {
     "duration": 91.028798,
     "end_time": "2023-06-05T05:11:52.622055",
     "exception": false,
     "start_time": "2023-06-05T05:10:21.593257",
     "status": "completed"
    },
    "tags": []
   },
   "outputs": [
    {
     "name": "stderr",
     "output_type": "stream",
     "text": [
      "TabPFN: 100%|██████████| 15/15 [01:30<00:00,  6.07s/it]"
     ]
    },
    {
     "name": "stdout",
     "output_type": "stream",
     "text": [
      "CPU times: user 2min 46s, sys: 14.3 s, total: 3min\n",
      "Wall time: 1min 30s\n"
     ]
    },
    {
     "name": "stderr",
     "output_type": "stream",
     "text": [
      "\n"
     ]
    }
   ],
   "source": [
    "%%time\n",
    "# 10분\n",
    "\n",
    "X_test = test_df3[cat_features+num_features]\n",
    "X_test_oh = oh_encoder.transform(X_test)\n",
    "X_test_pool = Pool(X_test,cat_features=cat_features)\n",
    "\n",
    "normalized_weights = weights.copy()\n",
    "normalized_weights /= sum(weights)\n",
    "\n",
    "y_probas = np.zeros((len(X_test),2))\n",
    "pbar = tqdm(zip(normalized_weights,models),total=len(models))\n",
    "for weight,model in pbar:\n",
    "    pbar.set_description(str(model).split('Classifier')[0])\n",
    "    if str(model).find('catboost')>=0:\n",
    "        pred_proba = model.predict_proba(X_test_pool)\n",
    "    else:\n",
    "        pred_proba = model.predict_proba(X_test_oh)\n",
    "    y_probas[:, 0] += weight * pred_proba[:, 0]\n",
    "    y_probas[:, 1] += weight * pred_proba[:, 1]\n",
    "y_probas /= sum(normalized_weights)"
   ]
  },
  {
   "cell_type": "code",
   "execution_count": 44,
   "id": "9fa93481",
   "metadata": {
    "execution": {
     "iopub.execute_input": "2023-06-05T05:11:52.664757Z",
     "iopub.status.busy": "2023-06-05T05:11:52.664105Z",
     "iopub.status.idle": "2023-06-05T05:11:52.668204Z",
     "shell.execute_reply": "2023-06-05T05:11:52.667624Z"
    },
    "papermill": {
     "duration": 0.02803,
     "end_time": "2023-06-05T05:11:52.669866",
     "exception": false,
     "start_time": "2023-06-05T05:11:52.641836",
     "status": "completed"
    },
    "tags": []
   },
   "outputs": [],
   "source": [
    "perpect_cutoff = 0.85\n",
    "\n",
    "p = np.array([\n",
    "    1 if _p>perpect_cutoff else\n",
    "    0 if _p<1-perpect_cutoff else\n",
    "    _p for _p in y_probas[:,1]\n",
    "])"
   ]
  },
  {
   "cell_type": "code",
   "execution_count": 45,
   "id": "b3f14664",
   "metadata": {
    "execution": {
     "iopub.execute_input": "2023-06-05T05:11:52.711943Z",
     "iopub.status.busy": "2023-06-05T05:11:52.711127Z",
     "iopub.status.idle": "2023-06-05T05:11:52.717196Z",
     "shell.execute_reply": "2023-06-05T05:11:52.716320Z"
    },
    "papermill": {
     "duration": 0.029307,
     "end_time": "2023-06-05T05:11:52.718977",
     "exception": false,
     "start_time": "2023-06-05T05:11:52.689670",
     "status": "completed"
    },
    "tags": []
   },
   "outputs": [
    {
     "data": {
      "text/plain": [
       "(array([0.1385413, 0.1385413, 0.1385413, 0.1385413, 0.1385413]),\n",
       " array([0, 0, 0, 0, 0]))"
      ]
     },
     "execution_count": 45,
     "metadata": {},
     "output_type": "execute_result"
    }
   ],
   "source": [
    "y_probas[:,1], p"
   ]
  },
  {
   "cell_type": "code",
   "execution_count": 46,
   "id": "67451aa9",
   "metadata": {
    "execution": {
     "iopub.execute_input": "2023-06-05T05:11:52.760698Z",
     "iopub.status.busy": "2023-06-05T05:11:52.760173Z",
     "iopub.status.idle": "2023-06-05T05:11:52.777045Z",
     "shell.execute_reply": "2023-06-05T05:11:52.775913Z"
    },
    "papermill": {
     "duration": 0.040938,
     "end_time": "2023-06-05T05:11:52.779732",
     "exception": false,
     "start_time": "2023-06-05T05:11:52.738794",
     "status": "completed"
    },
    "tags": []
   },
   "outputs": [],
   "source": [
    "# submit = pd.read_csv('./data/sample_submission.csv')\n",
    "submit = pd.read_csv(CFG.REF_PATH+'sample_submission.csv')\n",
    "submit['class_0'] = 1-p\n",
    "submit['class_1'] = p"
   ]
  },
  {
   "cell_type": "code",
   "execution_count": 47,
   "id": "5556b775",
   "metadata": {
    "execution": {
     "iopub.execute_input": "2023-06-05T05:11:52.824241Z",
     "iopub.status.busy": "2023-06-05T05:11:52.823912Z",
     "iopub.status.idle": "2023-06-05T05:11:52.834084Z",
     "shell.execute_reply": "2023-06-05T05:11:52.832660Z"
    },
    "papermill": {
     "duration": 0.034995,
     "end_time": "2023-06-05T05:11:52.836595",
     "exception": false,
     "start_time": "2023-06-05T05:11:52.801600",
     "status": "completed"
    },
    "tags": []
   },
   "outputs": [
    {
     "data": {
      "text/html": [
       "<div>\n",
       "<style scoped>\n",
       "    .dataframe tbody tr th:only-of-type {\n",
       "        vertical-align: middle;\n",
       "    }\n",
       "\n",
       "    .dataframe tbody tr th {\n",
       "        vertical-align: top;\n",
       "    }\n",
       "\n",
       "    .dataframe thead th {\n",
       "        text-align: right;\n",
       "    }\n",
       "</style>\n",
       "<table border=\"1\" class=\"dataframe\">\n",
       "  <thead>\n",
       "    <tr style=\"text-align: right;\">\n",
       "      <th></th>\n",
       "      <th>Id</th>\n",
       "      <th>class_0</th>\n",
       "      <th>class_1</th>\n",
       "    </tr>\n",
       "  </thead>\n",
       "  <tbody>\n",
       "    <tr>\n",
       "      <th>0</th>\n",
       "      <td>00eed32682bb</td>\n",
       "      <td>1</td>\n",
       "      <td>0</td>\n",
       "    </tr>\n",
       "    <tr>\n",
       "      <th>1</th>\n",
       "      <td>010ebe33f668</td>\n",
       "      <td>1</td>\n",
       "      <td>0</td>\n",
       "    </tr>\n",
       "    <tr>\n",
       "      <th>2</th>\n",
       "      <td>02fa521e1838</td>\n",
       "      <td>1</td>\n",
       "      <td>0</td>\n",
       "    </tr>\n",
       "    <tr>\n",
       "      <th>3</th>\n",
       "      <td>040e15f562a2</td>\n",
       "      <td>1</td>\n",
       "      <td>0</td>\n",
       "    </tr>\n",
       "    <tr>\n",
       "      <th>4</th>\n",
       "      <td>046e85c7cc7f</td>\n",
       "      <td>1</td>\n",
       "      <td>0</td>\n",
       "    </tr>\n",
       "  </tbody>\n",
       "</table>\n",
       "</div>"
      ],
      "text/plain": [
       "             Id  class_0  class_1\n",
       "0  00eed32682bb        1        0\n",
       "1  010ebe33f668        1        0\n",
       "2  02fa521e1838        1        0\n",
       "3  040e15f562a2        1        0\n",
       "4  046e85c7cc7f        1        0"
      ]
     },
     "execution_count": 47,
     "metadata": {},
     "output_type": "execute_result"
    }
   ],
   "source": [
    "submit"
   ]
  },
  {
   "cell_type": "code",
   "execution_count": 48,
   "id": "a66dfb94",
   "metadata": {
    "execution": {
     "iopub.execute_input": "2023-06-05T05:11:52.879692Z",
     "iopub.status.busy": "2023-06-05T05:11:52.879238Z",
     "iopub.status.idle": "2023-06-05T05:11:52.891045Z",
     "shell.execute_reply": "2023-06-05T05:11:52.889269Z"
    },
    "papermill": {
     "duration": 0.036379,
     "end_time": "2023-06-05T05:11:52.893530",
     "exception": false,
     "start_time": "2023-06-05T05:11:52.857151",
     "status": "completed"
    },
    "tags": []
   },
   "outputs": [],
   "source": [
    "submit.to_csv('/kaggle/working/submission.csv', index=False)"
   ]
  }
 ],
 "metadata": {
  "kernelspec": {
   "display_name": "Python 3",
   "language": "python",
   "name": "python3"
  },
  "language_info": {
   "codemirror_mode": {
    "name": "ipython",
    "version": 3
   },
   "file_extension": ".py",
   "mimetype": "text/x-python",
   "name": "python",
   "nbconvert_exporter": "python",
   "pygments_lexer": "ipython3",
   "version": "3.10.10"
  },
  "papermill": {
   "default_parameters": {},
   "duration": 1219.739674,
   "end_time": "2023-06-05T05:11:54.641978",
   "environment_variables": {},
   "exception": null,
   "input_path": "__notebook__.ipynb",
   "output_path": "__notebook__.ipynb",
   "parameters": {},
   "start_time": "2023-06-05T04:51:34.902304",
   "version": "2.4.0"
  }
 },
 "nbformat": 4,
 "nbformat_minor": 5
}
