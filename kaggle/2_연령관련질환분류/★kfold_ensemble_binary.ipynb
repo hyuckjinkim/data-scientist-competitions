{
 "cells": [
  {
   "cell_type": "markdown",
   "metadata": {},
   "source": [
    "# Setting"
   ]
  },
  {
   "cell_type": "code",
   "execution_count": 1,
   "metadata": {
    "execution": {
     "iopub.execute_input": "2023-06-04T21:19:18.607945Z",
     "iopub.status.busy": "2023-06-04T21:19:18.607611Z",
     "iopub.status.idle": "2023-06-04T21:19:18.643848Z",
     "shell.execute_reply": "2023-06-04T21:19:18.642996Z",
     "shell.execute_reply.started": "2023-06-04T21:19:18.607905Z"
    }
   },
   "outputs": [],
   "source": [
    "# ## (1) TabPFN을 Internet off에서 사용하기 위한, 패키지 다운로드\n",
    "# ##     -> Internet on(또는 Local)에서 아래의 코드로 실행 후, pip-packages.zip을 다운로드\n",
    "\n",
    "# ## (1-1) /kaggle/working(Local에서는 해당 Path)에 /pip-packages/에 tabpfn.whl파일 다운로드\n",
    "# !pip download tabpfn --no-deps -d ./pip-packages\n",
    "\n",
    "# ## (1-2) tabpfn install\n",
    "# !pip install tabpfn\n",
    "\n",
    "# ## (1-3) 모델실행하면 .cpkt파일 생성됨 (cpu, cuda:0에 따라서 설치되는파일이 다른 것으로 보이므로 선택잘해야함)\n",
    "# from tabpfn import TabPFNClassifier\n",
    "# TabPFNClassifier(N_ensemble_configurations=64,device='cpu')\n",
    "\n",
    "# ## (1-4) .cpkt파일을 /pip-packages/로 이동\n",
    "# !mv /opt/conda/lib/python3.10/site-packages/tabpfn/models_diff/prior_diff_real_checkpoint_n_0_epoch_100.cpkt pip-packages/\n",
    "\n",
    "# ## (1-5) /pip-packages/에 필요한 파일들을 다 모았으므로, 압축해줌\n",
    "# !zip -r pip-packages.zip pip-packages\n",
    "\n",
    "# ## (1-6) pip-packages.zip을 다운로드\n",
    "\n",
    "# ## (1-7) Kaggle Dataset에 업로드\n",
    "#        -> Kaggle Dataset 또는 현재창 우측의 +Add Data 옆의 데이터 업로드를 누른 후,\n",
    "#        -> (1)에서 다운받은 pip-packages.zip을 pip-packages-icr의 이름으로 업로드\n",
    "#        -> 업로드 된 zip파일은 나의 kaggle dataset에 저장되므로 영구적으로 사용가능"
   ]
  },
  {
   "cell_type": "code",
   "execution_count": 2,
   "metadata": {
    "execution": {
     "iopub.execute_input": "2023-06-04T21:19:18.896116Z",
     "iopub.status.busy": "2023-06-04T21:19:18.895793Z",
     "iopub.status.idle": "2023-06-04T21:19:32.163738Z",
     "shell.execute_reply": "2023-06-04T21:19:32.162882Z",
     "shell.execute_reply.started": "2023-06-04T21:19:18.896094Z"
    }
   },
   "outputs": [
    {
     "name": "stdout",
     "output_type": "stream",
     "text": [
      "Looking in links: file:///kaggle/input/pip-packages-icr/pip-packages/\n",
      "Processing /kaggle/input/pip-packages-icr/pip-packages/tabpfn-0.1.9-py3-none-any.whl\n",
      "Requirement already satisfied: numpy>=1.21.2 in /opt/conda/lib/python3.10/site-packages (from tabpfn) (1.23.5)\n",
      "Requirement already satisfied: pyyaml>=5.4.1 in /opt/conda/lib/python3.10/site-packages (from tabpfn) (5.4.1)\n",
      "Requirement already satisfied: requests>=2.23.0 in /opt/conda/lib/python3.10/site-packages (from tabpfn) (2.28.2)\n",
      "Requirement already satisfied: scikit-learn>=0.24.2 in /opt/conda/lib/python3.10/site-packages (from tabpfn) (1.2.2)\n",
      "Requirement already satisfied: torch>=1.9.0 in /opt/conda/lib/python3.10/site-packages (from tabpfn) (2.0.0+cpu)\n",
      "Requirement already satisfied: charset-normalizer<4,>=2 in /opt/conda/lib/python3.10/site-packages (from requests>=2.23.0->tabpfn) (2.1.1)\n",
      "Requirement already satisfied: idna<4,>=2.5 in /opt/conda/lib/python3.10/site-packages (from requests>=2.23.0->tabpfn) (3.4)\n",
      "Requirement already satisfied: urllib3<1.27,>=1.21.1 in /opt/conda/lib/python3.10/site-packages (from requests>=2.23.0->tabpfn) (1.26.15)\n",
      "Requirement already satisfied: certifi>=2017.4.17 in /opt/conda/lib/python3.10/site-packages (from requests>=2.23.0->tabpfn) (2023.5.7)\n",
      "Requirement already satisfied: scipy>=1.3.2 in /opt/conda/lib/python3.10/site-packages (from scikit-learn>=0.24.2->tabpfn) (1.10.1)\n",
      "Requirement already satisfied: joblib>=1.1.1 in /opt/conda/lib/python3.10/site-packages (from scikit-learn>=0.24.2->tabpfn) (1.2.0)\n",
      "Requirement already satisfied: threadpoolctl>=2.0.0 in /opt/conda/lib/python3.10/site-packages (from scikit-learn>=0.24.2->tabpfn) (3.1.0)\n",
      "Requirement already satisfied: filelock in /opt/conda/lib/python3.10/site-packages (from torch>=1.9.0->tabpfn) (3.12.0)\n",
      "Requirement already satisfied: typing-extensions in /opt/conda/lib/python3.10/site-packages (from torch>=1.9.0->tabpfn) (4.5.0)\n",
      "Requirement already satisfied: sympy in /opt/conda/lib/python3.10/site-packages (from torch>=1.9.0->tabpfn) (1.12)\n",
      "Requirement already satisfied: networkx in /opt/conda/lib/python3.10/site-packages (from torch>=1.9.0->tabpfn) (3.1)\n",
      "Requirement already satisfied: jinja2 in /opt/conda/lib/python3.10/site-packages (from torch>=1.9.0->tabpfn) (3.1.2)\n",
      "Requirement already satisfied: MarkupSafe>=2.0 in /opt/conda/lib/python3.10/site-packages (from jinja2->torch>=1.9.0->tabpfn) (2.1.2)\n",
      "Requirement already satisfied: mpmath>=0.19 in /opt/conda/lib/python3.10/site-packages (from sympy->torch>=1.9.0->tabpfn) (1.3.0)\n",
      "Installing collected packages: tabpfn\n",
      "Successfully installed tabpfn-0.1.9\n",
      "\u001b[33mWARNING: Running pip as the 'root' user can result in broken permissions and conflicting behaviour with the system package manager. It is recommended to use a virtual environment instead: https://pip.pypa.io/warnings/venv\u001b[0m\u001b[33m\n",
      "\u001b[0m"
     ]
    }
   ],
   "source": [
    "## (2) TabPFN을 Internet off에서 사용하기 위한, 패키지 업로드\n",
    "\n",
    "## (2-1) Kaggle Dataset 로드\n",
    "#        -> 우측의 +Add Data > Your Datasets > pip-packages-icr 클릭\n",
    "\n",
    "## (2-2) 아래의 쿼리로 Internet off 상태로 다운로드 가능함\n",
    "!pip install tabpfn --no-index --find-links=file:///kaggle/input/pip-packages-icr/pip-packages/\n",
    "\n",
    "## (2-3) TabPFN의 .cpkt파일을 불러오는 /opt/conda/lib으로 폴더생성 및 복사\n",
    "##       -> 이후에 모델실행가능해짐\n",
    "!mkdir -p /opt/conda/lib/python3.10/site-packages/tabpfn/models_diff\n",
    "!cp /kaggle/input/pip-packages-icr/pip-packages/prior_diff_real_checkpoint_n_0_epoch_100.cpkt /opt/conda/lib/python3.10/site-packages/tabpfn/models_diff/"
   ]
  },
  {
   "cell_type": "code",
   "execution_count": 3,
   "metadata": {
    "execution": {
     "iopub.execute_input": "2023-06-04T21:19:32.166195Z",
     "iopub.status.busy": "2023-06-04T21:19:32.165549Z",
     "iopub.status.idle": "2023-06-04T21:19:32.908071Z",
     "shell.execute_reply": "2023-06-04T21:19:32.906393Z",
     "shell.execute_reply.started": "2023-06-04T21:19:32.166164Z"
    }
   },
   "outputs": [],
   "source": [
    "import numpy as np\n",
    "import pandas as pd\n",
    "pd.set_option('display.max_rows', None)\n",
    "pd.set_option('display.max_columns', None)\n",
    "\n",
    "from tqdm import tqdm, trange\n",
    "\n",
    "import matplotlib.pyplot as plt\n",
    "import seaborn as sns"
   ]
  },
  {
   "cell_type": "code",
   "execution_count": 5,
   "metadata": {
    "execution": {
     "iopub.execute_input": "2023-06-04T21:19:41.620686Z",
     "iopub.status.busy": "2023-06-04T21:19:41.620260Z",
     "iopub.status.idle": "2023-06-04T21:19:41.627349Z",
     "shell.execute_reply": "2023-06-04T21:19:41.626034Z",
     "shell.execute_reply.started": "2023-06-04T21:19:41.620654Z"
    }
   },
   "outputs": [],
   "source": [
    "class CFG:\n",
    "    REF_PATH = '/kaggle/input/icr-identify-age-related-conditions/'\n",
    "    #REF_PATH = './data/'\n",
    "    \n",
    "    VERBOSE = False\n",
    "    \n",
    "    #DEVICE = 'cuda:0'\n",
    "    DEVICE = 'cpu'\n",
    "        \n",
    "    ADD_INTERACTION = False\n",
    "    FS_ALPHA = 0.01\n",
    "    \n",
    "    SEED = 0\n",
    "    N_SPLITS = 5\n",
    "    EPOCHS = 50000\n",
    "    ES = 300\n",
    "    LR = 0.001"
   ]
  },
  {
   "cell_type": "markdown",
   "metadata": {},
   "source": [
    "<br></br>"
   ]
  },
  {
   "cell_type": "markdown",
   "metadata": {},
   "source": [
    "# Data Load"
   ]
  },
  {
   "cell_type": "code",
   "execution_count": 6,
   "metadata": {
    "execution": {
     "iopub.execute_input": "2023-06-04T21:19:42.731012Z",
     "iopub.status.busy": "2023-06-04T21:19:42.730632Z",
     "iopub.status.idle": "2023-06-04T21:19:42.779734Z",
     "shell.execute_reply": "2023-06-04T21:19:42.778695Z",
     "shell.execute_reply.started": "2023-06-04T21:19:42.730983Z"
    }
   },
   "outputs": [],
   "source": [
    "train_df  = pd.read_csv(CFG.REF_PATH+'train.csv')\n",
    "test_df   = pd.read_csv(CFG.REF_PATH+'test.csv')\n",
    "greeks_df = pd.read_csv(CFG.REF_PATH+'greeks.csv')"
   ]
  },
  {
   "cell_type": "code",
   "execution_count": 7,
   "metadata": {
    "execution": {
     "iopub.execute_input": "2023-06-04T21:19:42.927058Z",
     "iopub.status.busy": "2023-06-04T21:19:42.926481Z",
     "iopub.status.idle": "2023-06-04T21:19:42.932623Z",
     "shell.execute_reply": "2023-06-04T21:19:42.931864Z",
     "shell.execute_reply.started": "2023-06-04T21:19:42.927029Z"
    }
   },
   "outputs": [],
   "source": [
    "train_df.columns  = [col.replace(' ','') for col in train_df.columns]\n",
    "test_df.columns   = [col.replace(' ','') for col in test_df.columns]\n",
    "greeks_df.columns = [col.replace(' ','') for col in greeks_df.columns]"
   ]
  },
  {
   "cell_type": "code",
   "execution_count": 8,
   "metadata": {
    "execution": {
     "iopub.execute_input": "2023-06-04T21:19:43.238104Z",
     "iopub.status.busy": "2023-06-04T21:19:43.237568Z",
     "iopub.status.idle": "2023-06-04T21:19:43.245005Z",
     "shell.execute_reply": "2023-06-04T21:19:43.244164Z",
     "shell.execute_reply.started": "2023-06-04T21:19:43.238074Z"
    }
   },
   "outputs": [
    {
     "data": {
      "text/plain": [
       "((617, 58), (617, 6))"
      ]
     },
     "execution_count": 8,
     "metadata": {},
     "output_type": "execute_result"
    }
   ],
   "source": [
    "train_df.shape, greeks_df.shape"
   ]
  },
  {
   "cell_type": "code",
   "execution_count": 9,
   "metadata": {
    "execution": {
     "iopub.execute_input": "2023-06-04T21:19:43.946602Z",
     "iopub.status.busy": "2023-06-04T21:19:43.946023Z",
     "iopub.status.idle": "2023-06-04T21:19:44.013352Z",
     "shell.execute_reply": "2023-06-04T21:19:44.012040Z",
     "shell.execute_reply.started": "2023-06-04T21:19:43.946556Z"
    }
   },
   "outputs": [
    {
     "data": {
      "text/html": [
       "<div>\n",
       "<style scoped>\n",
       "    .dataframe tbody tr th:only-of-type {\n",
       "        vertical-align: middle;\n",
       "    }\n",
       "\n",
       "    .dataframe tbody tr th {\n",
       "        vertical-align: top;\n",
       "    }\n",
       "\n",
       "    .dataframe thead th {\n",
       "        text-align: right;\n",
       "    }\n",
       "</style>\n",
       "<table border=\"1\" class=\"dataframe\">\n",
       "  <thead>\n",
       "    <tr style=\"text-align: right;\">\n",
       "      <th></th>\n",
       "      <th>Id</th>\n",
       "      <th>AB</th>\n",
       "      <th>AF</th>\n",
       "      <th>AH</th>\n",
       "      <th>AM</th>\n",
       "      <th>AR</th>\n",
       "      <th>AX</th>\n",
       "      <th>AY</th>\n",
       "      <th>AZ</th>\n",
       "      <th>BC</th>\n",
       "      <th>BD</th>\n",
       "      <th>BN</th>\n",
       "      <th>BP</th>\n",
       "      <th>BQ</th>\n",
       "      <th>BR</th>\n",
       "      <th>BZ</th>\n",
       "      <th>CB</th>\n",
       "      <th>CC</th>\n",
       "      <th>CD</th>\n",
       "      <th>CF</th>\n",
       "      <th>CH</th>\n",
       "      <th>CL</th>\n",
       "      <th>CR</th>\n",
       "      <th>CS</th>\n",
       "      <th>CU</th>\n",
       "      <th>CW</th>\n",
       "      <th>DA</th>\n",
       "      <th>DE</th>\n",
       "      <th>DF</th>\n",
       "      <th>DH</th>\n",
       "      <th>DI</th>\n",
       "      <th>DL</th>\n",
       "      <th>DN</th>\n",
       "      <th>DU</th>\n",
       "      <th>DV</th>\n",
       "      <th>DY</th>\n",
       "      <th>EB</th>\n",
       "      <th>EE</th>\n",
       "      <th>EG</th>\n",
       "      <th>EH</th>\n",
       "      <th>EJ</th>\n",
       "      <th>EL</th>\n",
       "      <th>EP</th>\n",
       "      <th>EU</th>\n",
       "      <th>FC</th>\n",
       "      <th>FD</th>\n",
       "      <th>FE</th>\n",
       "      <th>FI</th>\n",
       "      <th>FL</th>\n",
       "      <th>FR</th>\n",
       "      <th>FS</th>\n",
       "      <th>GB</th>\n",
       "      <th>GE</th>\n",
       "      <th>GF</th>\n",
       "      <th>GH</th>\n",
       "      <th>GI</th>\n",
       "      <th>GL</th>\n",
       "      <th>Class</th>\n",
       "    </tr>\n",
       "  </thead>\n",
       "  <tbody>\n",
       "    <tr>\n",
       "      <th>0</th>\n",
       "      <td>000ff2bfdfe9</td>\n",
       "      <td>0.209377</td>\n",
       "      <td>3109.03329</td>\n",
       "      <td>85.200147</td>\n",
       "      <td>22.394407</td>\n",
       "      <td>8.138688</td>\n",
       "      <td>0.699861</td>\n",
       "      <td>0.025578</td>\n",
       "      <td>9.812214</td>\n",
       "      <td>5.555634</td>\n",
       "      <td>4126.58731</td>\n",
       "      <td>22.5984</td>\n",
       "      <td>175.638726</td>\n",
       "      <td>152.707705</td>\n",
       "      <td>823.928241</td>\n",
       "      <td>257.432377</td>\n",
       "      <td>47.223358</td>\n",
       "      <td>0.563481</td>\n",
       "      <td>23.387600</td>\n",
       "      <td>4.851915</td>\n",
       "      <td>0.023482</td>\n",
       "      <td>1.050225</td>\n",
       "      <td>0.069225</td>\n",
       "      <td>13.784111</td>\n",
       "      <td>1.302012</td>\n",
       "      <td>36.205956</td>\n",
       "      <td>69.08340</td>\n",
       "      <td>295.570575</td>\n",
       "      <td>0.23868</td>\n",
       "      <td>0.284232</td>\n",
       "      <td>89.245560</td>\n",
       "      <td>84.31664</td>\n",
       "      <td>29.657104</td>\n",
       "      <td>5.310690</td>\n",
       "      <td>1.74307</td>\n",
       "      <td>23.187704</td>\n",
       "      <td>7.294176</td>\n",
       "      <td>1.987283</td>\n",
       "      <td>1433.166750</td>\n",
       "      <td>0.949104</td>\n",
       "      <td>B</td>\n",
       "      <td>30.879420</td>\n",
       "      <td>78.526968</td>\n",
       "      <td>3.828384</td>\n",
       "      <td>13.394640</td>\n",
       "      <td>10.265073</td>\n",
       "      <td>9028.291921</td>\n",
       "      <td>3.583450</td>\n",
       "      <td>7.298162</td>\n",
       "      <td>1.73855</td>\n",
       "      <td>0.094822</td>\n",
       "      <td>11.339138</td>\n",
       "      <td>72.611063</td>\n",
       "      <td>2003.810319</td>\n",
       "      <td>22.136229</td>\n",
       "      <td>69.834944</td>\n",
       "      <td>0.120343</td>\n",
       "      <td>1</td>\n",
       "    </tr>\n",
       "    <tr>\n",
       "      <th>1</th>\n",
       "      <td>007255e47698</td>\n",
       "      <td>0.145282</td>\n",
       "      <td>978.76416</td>\n",
       "      <td>85.200147</td>\n",
       "      <td>36.968889</td>\n",
       "      <td>8.138688</td>\n",
       "      <td>3.632190</td>\n",
       "      <td>0.025578</td>\n",
       "      <td>13.517790</td>\n",
       "      <td>1.229900</td>\n",
       "      <td>5496.92824</td>\n",
       "      <td>19.4205</td>\n",
       "      <td>155.868030</td>\n",
       "      <td>14.754720</td>\n",
       "      <td>51.216883</td>\n",
       "      <td>257.432377</td>\n",
       "      <td>30.284345</td>\n",
       "      <td>0.484710</td>\n",
       "      <td>50.628208</td>\n",
       "      <td>6.085041</td>\n",
       "      <td>0.031442</td>\n",
       "      <td>1.113875</td>\n",
       "      <td>1.117800</td>\n",
       "      <td>28.310953</td>\n",
       "      <td>1.357182</td>\n",
       "      <td>37.476568</td>\n",
       "      <td>70.79836</td>\n",
       "      <td>178.553100</td>\n",
       "      <td>0.23868</td>\n",
       "      <td>0.363489</td>\n",
       "      <td>110.581815</td>\n",
       "      <td>75.74548</td>\n",
       "      <td>37.532000</td>\n",
       "      <td>0.005518</td>\n",
       "      <td>1.74307</td>\n",
       "      <td>17.222328</td>\n",
       "      <td>4.926396</td>\n",
       "      <td>0.858603</td>\n",
       "      <td>1111.287150</td>\n",
       "      <td>0.003042</td>\n",
       "      <td>A</td>\n",
       "      <td>109.125159</td>\n",
       "      <td>95.415086</td>\n",
       "      <td>52.260480</td>\n",
       "      <td>17.175984</td>\n",
       "      <td>0.296850</td>\n",
       "      <td>6785.003474</td>\n",
       "      <td>10.358927</td>\n",
       "      <td>0.173229</td>\n",
       "      <td>0.49706</td>\n",
       "      <td>0.568932</td>\n",
       "      <td>9.292698</td>\n",
       "      <td>72.611063</td>\n",
       "      <td>27981.562750</td>\n",
       "      <td>29.135430</td>\n",
       "      <td>32.131996</td>\n",
       "      <td>21.978000</td>\n",
       "      <td>0</td>\n",
       "    </tr>\n",
       "    <tr>\n",
       "      <th>2</th>\n",
       "      <td>013f2bd269f5</td>\n",
       "      <td>0.470030</td>\n",
       "      <td>2635.10654</td>\n",
       "      <td>85.200147</td>\n",
       "      <td>32.360553</td>\n",
       "      <td>8.138688</td>\n",
       "      <td>6.732840</td>\n",
       "      <td>0.025578</td>\n",
       "      <td>12.824570</td>\n",
       "      <td>1.229900</td>\n",
       "      <td>5135.78024</td>\n",
       "      <td>26.4825</td>\n",
       "      <td>128.988531</td>\n",
       "      <td>219.320160</td>\n",
       "      <td>482.141594</td>\n",
       "      <td>257.432377</td>\n",
       "      <td>32.563713</td>\n",
       "      <td>0.495852</td>\n",
       "      <td>85.955376</td>\n",
       "      <td>5.376488</td>\n",
       "      <td>0.036218</td>\n",
       "      <td>1.050225</td>\n",
       "      <td>0.700350</td>\n",
       "      <td>39.364743</td>\n",
       "      <td>1.009611</td>\n",
       "      <td>21.459644</td>\n",
       "      <td>70.81970</td>\n",
       "      <td>321.426625</td>\n",
       "      <td>0.23868</td>\n",
       "      <td>0.210441</td>\n",
       "      <td>120.056438</td>\n",
       "      <td>65.46984</td>\n",
       "      <td>28.053464</td>\n",
       "      <td>1.289739</td>\n",
       "      <td>1.74307</td>\n",
       "      <td>36.861352</td>\n",
       "      <td>7.813674</td>\n",
       "      <td>8.146651</td>\n",
       "      <td>1494.076488</td>\n",
       "      <td>0.377208</td>\n",
       "      <td>B</td>\n",
       "      <td>109.125159</td>\n",
       "      <td>78.526968</td>\n",
       "      <td>5.390628</td>\n",
       "      <td>224.207424</td>\n",
       "      <td>8.745201</td>\n",
       "      <td>8338.906181</td>\n",
       "      <td>11.626917</td>\n",
       "      <td>7.709560</td>\n",
       "      <td>0.97556</td>\n",
       "      <td>1.198821</td>\n",
       "      <td>37.077772</td>\n",
       "      <td>88.609437</td>\n",
       "      <td>13676.957810</td>\n",
       "      <td>28.022851</td>\n",
       "      <td>35.192676</td>\n",
       "      <td>0.196941</td>\n",
       "      <td>0</td>\n",
       "    </tr>\n",
       "    <tr>\n",
       "      <th>3</th>\n",
       "      <td>043ac50845d5</td>\n",
       "      <td>0.252107</td>\n",
       "      <td>3819.65177</td>\n",
       "      <td>120.201618</td>\n",
       "      <td>77.112203</td>\n",
       "      <td>8.138688</td>\n",
       "      <td>3.685344</td>\n",
       "      <td>0.025578</td>\n",
       "      <td>11.053708</td>\n",
       "      <td>1.229900</td>\n",
       "      <td>4169.67738</td>\n",
       "      <td>23.6577</td>\n",
       "      <td>237.282264</td>\n",
       "      <td>11.050410</td>\n",
       "      <td>661.518640</td>\n",
       "      <td>257.432377</td>\n",
       "      <td>15.201914</td>\n",
       "      <td>0.717882</td>\n",
       "      <td>88.159360</td>\n",
       "      <td>2.347652</td>\n",
       "      <td>0.029054</td>\n",
       "      <td>1.400300</td>\n",
       "      <td>0.636075</td>\n",
       "      <td>41.116960</td>\n",
       "      <td>0.722727</td>\n",
       "      <td>21.530392</td>\n",
       "      <td>47.27586</td>\n",
       "      <td>196.607985</td>\n",
       "      <td>0.23868</td>\n",
       "      <td>0.292431</td>\n",
       "      <td>139.824570</td>\n",
       "      <td>71.57120</td>\n",
       "      <td>24.354856</td>\n",
       "      <td>2.655345</td>\n",
       "      <td>1.74307</td>\n",
       "      <td>52.003884</td>\n",
       "      <td>7.386060</td>\n",
       "      <td>3.813326</td>\n",
       "      <td>15691.552180</td>\n",
       "      <td>0.614484</td>\n",
       "      <td>B</td>\n",
       "      <td>31.674357</td>\n",
       "      <td>78.526968</td>\n",
       "      <td>31.323372</td>\n",
       "      <td>59.301984</td>\n",
       "      <td>7.884336</td>\n",
       "      <td>10965.766040</td>\n",
       "      <td>14.852022</td>\n",
       "      <td>6.122162</td>\n",
       "      <td>0.49706</td>\n",
       "      <td>0.284466</td>\n",
       "      <td>18.529584</td>\n",
       "      <td>82.416803</td>\n",
       "      <td>2094.262452</td>\n",
       "      <td>39.948656</td>\n",
       "      <td>90.493248</td>\n",
       "      <td>0.155829</td>\n",
       "      <td>0</td>\n",
       "    </tr>\n",
       "    <tr>\n",
       "      <th>4</th>\n",
       "      <td>044fb8a146ec</td>\n",
       "      <td>0.380297</td>\n",
       "      <td>3733.04844</td>\n",
       "      <td>85.200147</td>\n",
       "      <td>14.103738</td>\n",
       "      <td>8.138688</td>\n",
       "      <td>3.942255</td>\n",
       "      <td>0.054810</td>\n",
       "      <td>3.396778</td>\n",
       "      <td>102.151980</td>\n",
       "      <td>5728.73412</td>\n",
       "      <td>24.0108</td>\n",
       "      <td>324.546318</td>\n",
       "      <td>149.717165</td>\n",
       "      <td>6074.859475</td>\n",
       "      <td>257.432377</td>\n",
       "      <td>82.213495</td>\n",
       "      <td>0.536467</td>\n",
       "      <td>72.644264</td>\n",
       "      <td>30.537722</td>\n",
       "      <td>0.025472</td>\n",
       "      <td>1.050225</td>\n",
       "      <td>0.693150</td>\n",
       "      <td>31.724726</td>\n",
       "      <td>0.827550</td>\n",
       "      <td>34.415360</td>\n",
       "      <td>74.06532</td>\n",
       "      <td>200.178160</td>\n",
       "      <td>0.23868</td>\n",
       "      <td>0.207708</td>\n",
       "      <td>97.920120</td>\n",
       "      <td>52.83888</td>\n",
       "      <td>26.019912</td>\n",
       "      <td>1.144902</td>\n",
       "      <td>1.74307</td>\n",
       "      <td>9.064856</td>\n",
       "      <td>7.350720</td>\n",
       "      <td>3.490846</td>\n",
       "      <td>1403.656300</td>\n",
       "      <td>0.164268</td>\n",
       "      <td>B</td>\n",
       "      <td>109.125159</td>\n",
       "      <td>91.994825</td>\n",
       "      <td>51.141336</td>\n",
       "      <td>29.102640</td>\n",
       "      <td>4.274640</td>\n",
       "      <td>16198.049590</td>\n",
       "      <td>13.666727</td>\n",
       "      <td>8.153058</td>\n",
       "      <td>48.50134</td>\n",
       "      <td>0.121914</td>\n",
       "      <td>16.408728</td>\n",
       "      <td>146.109943</td>\n",
       "      <td>8524.370502</td>\n",
       "      <td>45.381316</td>\n",
       "      <td>36.262628</td>\n",
       "      <td>0.096614</td>\n",
       "      <td>1</td>\n",
       "    </tr>\n",
       "  </tbody>\n",
       "</table>\n",
       "</div>"
      ],
      "text/plain": [
       "             Id        AB          AF          AH         AM        AR  \\\n",
       "0  000ff2bfdfe9  0.209377  3109.03329   85.200147  22.394407  8.138688   \n",
       "1  007255e47698  0.145282   978.76416   85.200147  36.968889  8.138688   \n",
       "2  013f2bd269f5  0.470030  2635.10654   85.200147  32.360553  8.138688   \n",
       "3  043ac50845d5  0.252107  3819.65177  120.201618  77.112203  8.138688   \n",
       "4  044fb8a146ec  0.380297  3733.04844   85.200147  14.103738  8.138688   \n",
       "\n",
       "         AX        AY         AZ          BC          BD       BN          BP  \\\n",
       "0  0.699861  0.025578   9.812214    5.555634  4126.58731  22.5984  175.638726   \n",
       "1  3.632190  0.025578  13.517790    1.229900  5496.92824  19.4205  155.868030   \n",
       "2  6.732840  0.025578  12.824570    1.229900  5135.78024  26.4825  128.988531   \n",
       "3  3.685344  0.025578  11.053708    1.229900  4169.67738  23.6577  237.282264   \n",
       "4  3.942255  0.054810   3.396778  102.151980  5728.73412  24.0108  324.546318   \n",
       "\n",
       "           BQ           BR          BZ         CB        CC         CD  \\\n",
       "0  152.707705   823.928241  257.432377  47.223358  0.563481  23.387600   \n",
       "1   14.754720    51.216883  257.432377  30.284345  0.484710  50.628208   \n",
       "2  219.320160   482.141594  257.432377  32.563713  0.495852  85.955376   \n",
       "3   11.050410   661.518640  257.432377  15.201914  0.717882  88.159360   \n",
       "4  149.717165  6074.859475  257.432377  82.213495  0.536467  72.644264   \n",
       "\n",
       "          CF        CH        CL        CR         CS        CU         CW  \\\n",
       "0   4.851915  0.023482  1.050225  0.069225  13.784111  1.302012  36.205956   \n",
       "1   6.085041  0.031442  1.113875  1.117800  28.310953  1.357182  37.476568   \n",
       "2   5.376488  0.036218  1.050225  0.700350  39.364743  1.009611  21.459644   \n",
       "3   2.347652  0.029054  1.400300  0.636075  41.116960  0.722727  21.530392   \n",
       "4  30.537722  0.025472  1.050225  0.693150  31.724726  0.827550  34.415360   \n",
       "\n",
       "         DA          DE       DF        DH          DI        DL         DN  \\\n",
       "0  69.08340  295.570575  0.23868  0.284232   89.245560  84.31664  29.657104   \n",
       "1  70.79836  178.553100  0.23868  0.363489  110.581815  75.74548  37.532000   \n",
       "2  70.81970  321.426625  0.23868  0.210441  120.056438  65.46984  28.053464   \n",
       "3  47.27586  196.607985  0.23868  0.292431  139.824570  71.57120  24.354856   \n",
       "4  74.06532  200.178160  0.23868  0.207708   97.920120  52.83888  26.019912   \n",
       "\n",
       "         DU       DV         DY        EB        EE            EG        EH  \\\n",
       "0  5.310690  1.74307  23.187704  7.294176  1.987283   1433.166750  0.949104   \n",
       "1  0.005518  1.74307  17.222328  4.926396  0.858603   1111.287150  0.003042   \n",
       "2  1.289739  1.74307  36.861352  7.813674  8.146651   1494.076488  0.377208   \n",
       "3  2.655345  1.74307  52.003884  7.386060  3.813326  15691.552180  0.614484   \n",
       "4  1.144902  1.74307   9.064856  7.350720  3.490846   1403.656300  0.164268   \n",
       "\n",
       "  EJ          EL         EP         EU          FC         FD            FE  \\\n",
       "0  B   30.879420  78.526968   3.828384   13.394640  10.265073   9028.291921   \n",
       "1  A  109.125159  95.415086  52.260480   17.175984   0.296850   6785.003474   \n",
       "2  B  109.125159  78.526968   5.390628  224.207424   8.745201   8338.906181   \n",
       "3  B   31.674357  78.526968  31.323372   59.301984   7.884336  10965.766040   \n",
       "4  B  109.125159  91.994825  51.141336   29.102640   4.274640  16198.049590   \n",
       "\n",
       "          FI        FL        FR        FS         GB          GE  \\\n",
       "0   3.583450  7.298162   1.73855  0.094822  11.339138   72.611063   \n",
       "1  10.358927  0.173229   0.49706  0.568932   9.292698   72.611063   \n",
       "2  11.626917  7.709560   0.97556  1.198821  37.077772   88.609437   \n",
       "3  14.852022  6.122162   0.49706  0.284466  18.529584   82.416803   \n",
       "4  13.666727  8.153058  48.50134  0.121914  16.408728  146.109943   \n",
       "\n",
       "             GF         GH         GI         GL  Class  \n",
       "0   2003.810319  22.136229  69.834944   0.120343      1  \n",
       "1  27981.562750  29.135430  32.131996  21.978000      0  \n",
       "2  13676.957810  28.022851  35.192676   0.196941      0  \n",
       "3   2094.262452  39.948656  90.493248   0.155829      0  \n",
       "4   8524.370502  45.381316  36.262628   0.096614      1  "
      ]
     },
     "execution_count": 9,
     "metadata": {},
     "output_type": "execute_result"
    }
   ],
   "source": [
    "train_df.head()"
   ]
  },
  {
   "cell_type": "code",
   "execution_count": 10,
   "metadata": {
    "execution": {
     "iopub.execute_input": "2023-06-04T21:19:44.111147Z",
     "iopub.status.busy": "2023-06-04T21:19:44.110796Z",
     "iopub.status.idle": "2023-06-04T21:19:44.121858Z",
     "shell.execute_reply": "2023-06-04T21:19:44.120677Z",
     "shell.execute_reply.started": "2023-06-04T21:19:44.111123Z"
    }
   },
   "outputs": [
    {
     "data": {
      "text/html": [
       "<div>\n",
       "<style scoped>\n",
       "    .dataframe tbody tr th:only-of-type {\n",
       "        vertical-align: middle;\n",
       "    }\n",
       "\n",
       "    .dataframe tbody tr th {\n",
       "        vertical-align: top;\n",
       "    }\n",
       "\n",
       "    .dataframe thead th {\n",
       "        text-align: right;\n",
       "    }\n",
       "</style>\n",
       "<table border=\"1\" class=\"dataframe\">\n",
       "  <thead>\n",
       "    <tr style=\"text-align: right;\">\n",
       "      <th></th>\n",
       "      <th>Id</th>\n",
       "      <th>Alpha</th>\n",
       "      <th>Beta</th>\n",
       "      <th>Gamma</th>\n",
       "      <th>Delta</th>\n",
       "      <th>Epsilon</th>\n",
       "    </tr>\n",
       "  </thead>\n",
       "  <tbody>\n",
       "    <tr>\n",
       "      <th>0</th>\n",
       "      <td>000ff2bfdfe9</td>\n",
       "      <td>B</td>\n",
       "      <td>C</td>\n",
       "      <td>G</td>\n",
       "      <td>D</td>\n",
       "      <td>3/19/2019</td>\n",
       "    </tr>\n",
       "    <tr>\n",
       "      <th>1</th>\n",
       "      <td>007255e47698</td>\n",
       "      <td>A</td>\n",
       "      <td>C</td>\n",
       "      <td>M</td>\n",
       "      <td>B</td>\n",
       "      <td>Unknown</td>\n",
       "    </tr>\n",
       "    <tr>\n",
       "      <th>2</th>\n",
       "      <td>013f2bd269f5</td>\n",
       "      <td>A</td>\n",
       "      <td>C</td>\n",
       "      <td>M</td>\n",
       "      <td>B</td>\n",
       "      <td>Unknown</td>\n",
       "    </tr>\n",
       "    <tr>\n",
       "      <th>3</th>\n",
       "      <td>043ac50845d5</td>\n",
       "      <td>A</td>\n",
       "      <td>C</td>\n",
       "      <td>M</td>\n",
       "      <td>B</td>\n",
       "      <td>Unknown</td>\n",
       "    </tr>\n",
       "    <tr>\n",
       "      <th>4</th>\n",
       "      <td>044fb8a146ec</td>\n",
       "      <td>D</td>\n",
       "      <td>B</td>\n",
       "      <td>F</td>\n",
       "      <td>B</td>\n",
       "      <td>3/25/2020</td>\n",
       "    </tr>\n",
       "  </tbody>\n",
       "</table>\n",
       "</div>"
      ],
      "text/plain": [
       "             Id Alpha Beta Gamma Delta    Epsilon\n",
       "0  000ff2bfdfe9     B    C     G     D  3/19/2019\n",
       "1  007255e47698     A    C     M     B    Unknown\n",
       "2  013f2bd269f5     A    C     M     B    Unknown\n",
       "3  043ac50845d5     A    C     M     B    Unknown\n",
       "4  044fb8a146ec     D    B     F     B  3/25/2020"
      ]
     },
     "execution_count": 10,
     "metadata": {},
     "output_type": "execute_result"
    }
   ],
   "source": [
    "greeks_df.head()"
   ]
  },
  {
   "cell_type": "code",
   "execution_count": 11,
   "metadata": {
    "execution": {
     "iopub.execute_input": "2023-06-04T21:19:44.291625Z",
     "iopub.status.busy": "2023-06-04T21:19:44.291272Z",
     "iopub.status.idle": "2023-06-04T21:19:44.300357Z",
     "shell.execute_reply": "2023-06-04T21:19:44.298717Z",
     "shell.execute_reply.started": "2023-06-04T21:19:44.291603Z"
    }
   },
   "outputs": [
    {
     "data": {
      "text/plain": [
       "([], [])"
      ]
     },
     "execution_count": 11,
     "metadata": {},
     "output_type": "execute_result"
    }
   ],
   "source": [
    "list(set(train_df.Id)-set(greeks_df.Id)), list(set(greeks_df.Id)-set(train_df.Id))"
   ]
  },
  {
   "cell_type": "code",
   "execution_count": 12,
   "metadata": {
    "execution": {
     "iopub.execute_input": "2023-06-04T21:19:44.461049Z",
     "iopub.status.busy": "2023-06-04T21:19:44.460698Z",
     "iopub.status.idle": "2023-06-04T21:19:44.466783Z",
     "shell.execute_reply": "2023-06-04T21:19:44.465621Z",
     "shell.execute_reply.started": "2023-06-04T21:19:44.461025Z"
    }
   },
   "outputs": [],
   "source": [
    "# [train.csv] The training set\n",
    "#\n",
    "# - Id \n",
    "#   : Unique identifier for each observation.\n",
    "#\n",
    "# - AB-GL \n",
    "#   : Fifty-six anonymized health characteristics.\n",
    "#   : All are numeric except for EJ, which is categorical.\n",
    "#\n",
    "# - Class\n",
    "#   : A binary target\n",
    "#   : 1 indicates the subject has been diagnosed with one of the three conditions, \n",
    "#   : 0 indicates they have not.\n",
    "#\n",
    "# [greeks.csv] Supplemental metadata, only available for the training set.\n",
    "#\n",
    "# - Alpha\n",
    "#   : Identifies the type of age-related condition, if present.\n",
    "#   - A : No age-related condition. Corresponds to class 0\n",
    "#   - B, D, G : The three age-related conditions. Correspond to class 1\n",
    "# - Beta, Gamma, Delta\n",
    "#   : Three experimental characteristics.\n",
    "# - Epsilon\n",
    "#   : The date the data for this subject was collected.\n",
    "#   : Note that all of the data in the test set was collected after the training set was collected."
   ]
  },
  {
   "cell_type": "markdown",
   "metadata": {},
   "source": [
    "<br></br>"
   ]
  },
  {
   "cell_type": "markdown",
   "metadata": {},
   "source": [
    "# Preprocess"
   ]
  },
  {
   "cell_type": "markdown",
   "metadata": {},
   "source": [
    "<br>"
   ]
  },
  {
   "cell_type": "markdown",
   "metadata": {},
   "source": [
    "## Add Interactions"
   ]
  },
  {
   "cell_type": "code",
   "execution_count": 13,
   "metadata": {
    "execution": {
     "iopub.execute_input": "2023-06-04T21:19:45.388553Z",
     "iopub.status.busy": "2023-06-04T21:19:45.388027Z",
     "iopub.status.idle": "2023-06-04T21:19:45.398317Z",
     "shell.execute_reply": "2023-06-04T21:19:45.395593Z",
     "shell.execute_reply.started": "2023-06-04T21:19:45.388511Z"
    }
   },
   "outputs": [],
   "source": [
    "import warnings\n",
    "class AddInteraction:\n",
    "    def __init__(self):\n",
    "        warnings.simplefilter(action='ignore', category=pd.errors.PerformanceWarning)\n",
    "        \n",
    "    def fit(self,features):\n",
    "        self.features = features\n",
    "        self.interaction_features = []\n",
    "        for i in range(len(self.features)):\n",
    "            for j in range(len(self.features)):\n",
    "                if i>j:\n",
    "                    col_i = self.features[i]\n",
    "                    col_j = self.features[j]\n",
    "                    self.interaction_features.append([col_i,col_j])\n",
    "                    \n",
    "    def transform(self,data):\n",
    "        d = data.copy()\n",
    "        for col_i,col_j in self.interaction_features:\n",
    "            d[f'{col_i}*{col_j}'] = d[col_i]*d[col_j]\n",
    "        return d"
   ]
  },
  {
   "cell_type": "code",
   "execution_count": 14,
   "metadata": {
    "execution": {
     "iopub.execute_input": "2023-06-04T21:19:45.585370Z",
     "iopub.status.busy": "2023-06-04T21:19:45.583545Z",
     "iopub.status.idle": "2023-06-04T21:19:45.590378Z",
     "shell.execute_reply": "2023-06-04T21:19:45.589270Z",
     "shell.execute_reply.started": "2023-06-04T21:19:45.585300Z"
    }
   },
   "outputs": [],
   "source": [
    "# define features type\n",
    "target_feature = 'Class'\n",
    "unuse_features = ['Id']\n",
    "cat_features = ['EJ']\n",
    "num_features = list(set(train_df.columns)-set([target_feature]+cat_features+unuse_features))"
   ]
  },
  {
   "cell_type": "code",
   "execution_count": 15,
   "metadata": {
    "execution": {
     "iopub.execute_input": "2023-06-04T21:19:45.792301Z",
     "iopub.status.busy": "2023-06-04T21:19:45.791904Z",
     "iopub.status.idle": "2023-06-04T21:19:45.800402Z",
     "shell.execute_reply": "2023-06-04T21:19:45.798449Z",
     "shell.execute_reply.started": "2023-06-04T21:19:45.792278Z"
    }
   },
   "outputs": [],
   "source": [
    "if CFG.ADD_INTERACTION:\n",
    "    interaction_maker = AddInteraction()\n",
    "    interaction_maker.fit(num_features)\n",
    "    train_df2 = interaction_maker.transform(train_df)\n",
    "    test_df2  = interaction_maker.transform(test_df)\n",
    "else:\n",
    "    train_df2 = train_df.copy()\n",
    "    test_df2  = test_df.copy()"
   ]
  },
  {
   "cell_type": "code",
   "execution_count": 16,
   "metadata": {
    "execution": {
     "iopub.execute_input": "2023-06-04T21:19:46.256249Z",
     "iopub.status.busy": "2023-06-04T21:19:46.255683Z",
     "iopub.status.idle": "2023-06-04T21:19:46.261960Z",
     "shell.execute_reply": "2023-06-04T21:19:46.260591Z",
     "shell.execute_reply.started": "2023-06-04T21:19:46.256225Z"
    }
   },
   "outputs": [],
   "source": [
    "# define numerical type features\n",
    "num_features = list(set(train_df2.columns)-set([target_feature]+cat_features+unuse_features))"
   ]
  },
  {
   "cell_type": "markdown",
   "metadata": {},
   "source": [
    "<br>"
   ]
  },
  {
   "cell_type": "markdown",
   "metadata": {},
   "source": [
    "## Feature Selection"
   ]
  },
  {
   "cell_type": "markdown",
   "metadata": {},
   "source": [
    "### Numerical"
   ]
  },
  {
   "cell_type": "code",
   "execution_count": 17,
   "metadata": {
    "execution": {
     "iopub.execute_input": "2023-06-04T21:19:47.455841Z",
     "iopub.status.busy": "2023-06-04T21:19:47.455506Z",
     "iopub.status.idle": "2023-06-04T21:19:47.927183Z",
     "shell.execute_reply": "2023-06-04T21:19:47.926088Z",
     "shell.execute_reply.started": "2023-06-04T21:19:47.455819Z"
    }
   },
   "outputs": [],
   "source": [
    "from statsmodels.formula.api import ols\n",
    "from statsmodels.stats.anova import anova_lm"
   ]
  },
  {
   "cell_type": "code",
   "execution_count": 18,
   "metadata": {
    "execution": {
     "iopub.execute_input": "2023-06-04T21:19:47.929987Z",
     "iopub.status.busy": "2023-06-04T21:19:47.929399Z",
     "iopub.status.idle": "2023-06-04T21:19:47.936558Z",
     "shell.execute_reply": "2023-06-04T21:19:47.934680Z",
     "shell.execute_reply.started": "2023-06-04T21:19:47.929954Z"
    }
   },
   "outputs": [],
   "source": [
    "def log_offset(x):\n",
    "    if min(x)>0:\n",
    "        offset = 0\n",
    "    elif min(x)==0:\n",
    "        offset = 1e-3\n",
    "    else:\n",
    "        offset = min(x)+1e-3\n",
    "        print('minimum = {:.3f}'.format(min(x)))\n",
    "    return np.log(x+offset)"
   ]
  },
  {
   "cell_type": "code",
   "execution_count": 19,
   "metadata": {
    "execution": {
     "iopub.execute_input": "2023-06-04T21:19:47.938888Z",
     "iopub.status.busy": "2023-06-04T21:19:47.937820Z",
     "iopub.status.idle": "2023-06-04T21:19:47.955433Z",
     "shell.execute_reply": "2023-06-04T21:19:47.954049Z",
     "shell.execute_reply.started": "2023-06-04T21:19:47.938836Z"
    }
   },
   "outputs": [
    {
     "data": {
      "text/plain": [
       "0.01"
      ]
     },
     "execution_count": 19,
     "metadata": {},
     "output_type": "execute_result"
    }
   ],
   "source": [
    "CFG.FS_ALPHA"
   ]
  },
  {
   "cell_type": "code",
   "execution_count": 20,
   "metadata": {
    "execution": {
     "iopub.execute_input": "2023-06-04T21:19:48.100667Z",
     "iopub.status.busy": "2023-06-04T21:19:48.100347Z",
     "iopub.status.idle": "2023-06-04T21:19:48.809313Z",
     "shell.execute_reply": "2023-06-04T21:19:48.808054Z",
     "shell.execute_reply.started": "2023-06-04T21:19:48.100645Z"
    }
   },
   "outputs": [
    {
     "name": "stderr",
     "output_type": "stream",
     "text": [
      "100%|██████████| 55/55 [00:00<00:00, 79.29it/s]\n"
     ]
    }
   ],
   "source": [
    "pvalue_list = []\n",
    "for col in tqdm(num_features):\n",
    "    ols_data = train_df2[[col,target_feature]].copy()\n",
    "    ols_data.columns = ['feature','target']\n",
    "\n",
    "    formula = 'feature ~ C(target)'\n",
    "    model = ols(formula=formula,data=ols_data).fit()\n",
    "    pvalue = anova_lm(model)['PR(>F)']['C(target)']\n",
    "    \n",
    "    pvalue_list.append([col,pvalue])\n",
    "    \n",
    "pvalue_df = pd.DataFrame(pvalue_list,columns=['feature','pvalue']).sort_values('pvalue',ascending=False)\n",
    "unsignificant_features = pvalue_df[pvalue_df.pvalue>CFG.FS_ALPHA].feature.tolist()"
   ]
  },
  {
   "cell_type": "code",
   "execution_count": 21,
   "metadata": {
    "execution": {
     "iopub.execute_input": "2023-06-04T21:19:56.371387Z",
     "iopub.status.busy": "2023-06-04T21:19:56.371027Z",
     "iopub.status.idle": "2023-06-04T21:19:56.762558Z",
     "shell.execute_reply": "2023-06-04T21:19:56.760984Z",
     "shell.execute_reply.started": "2023-06-04T21:19:56.371363Z"
    }
   },
   "outputs": [
    {
     "name": "stderr",
     "output_type": "stream",
     "text": [
      "100%|██████████| 29/29 [00:00<00:00, 77.06it/s]\n"
     ]
    }
   ],
   "source": [
    "log_pvalue_list = []\n",
    "for col in tqdm(unsignificant_features):\n",
    "    ols_data = train_df2[[col,target_feature]].copy()\n",
    "    ols_data.columns = ['feature','target']\n",
    "    ols_data['feature'] = log_offset(ols_data['feature'])\n",
    "\n",
    "    formula = 'feature ~ C(target)'\n",
    "    model = ols(formula=formula,data=ols_data).fit()\n",
    "    pvalue = anova_lm(model)['PR(>F)']['C(target)']\n",
    "    \n",
    "    log_pvalue_list.append([col,pvalue])\n",
    "    \n",
    "log_pvalue_df = pd.DataFrame(log_pvalue_list,columns=['feature','pvalue']).sort_values('pvalue',ascending=False)\n",
    "delete_features = log_pvalue_df[log_pvalue_df.pvalue>CFG.FS_ALPHA].feature.tolist()"
   ]
  },
  {
   "cell_type": "code",
   "execution_count": 22,
   "metadata": {
    "execution": {
     "iopub.execute_input": "2023-06-04T21:19:56.846974Z",
     "iopub.status.busy": "2023-06-04T21:19:56.846614Z",
     "iopub.status.idle": "2023-06-04T21:19:56.863094Z",
     "shell.execute_reply": "2023-06-04T21:19:56.861749Z",
     "shell.execute_reply.started": "2023-06-04T21:19:56.846915Z"
    }
   },
   "outputs": [],
   "source": [
    "train_df3 = train_df2.copy()\n",
    "test_df3  = test_df2.copy()\n",
    "\n",
    "train_df3.drop(columns=delete_features,inplace=True)\n",
    "test_df3 .drop(columns=delete_features,inplace=True)\n",
    "\n",
    "log_features = list(set(unsignificant_features)-set(delete_features))\n",
    "for col in log_features:\n",
    "    train_df3[col] = log_offset(train_df3[col])\n",
    "    test_df3 [col] = log_offset(test_df3 [col])"
   ]
  },
  {
   "cell_type": "code",
   "execution_count": 23,
   "metadata": {
    "execution": {
     "iopub.execute_input": "2023-06-04T21:19:57.296435Z",
     "iopub.status.busy": "2023-06-04T21:19:57.296085Z",
     "iopub.status.idle": "2023-06-04T21:19:57.302631Z",
     "shell.execute_reply": "2023-06-04T21:19:57.300345Z",
     "shell.execute_reply.started": "2023-06-04T21:19:57.296412Z"
    }
   },
   "outputs": [],
   "source": [
    "if CFG.VERBOSE:\n",
    "    print('> Log Features:', log_features)\n",
    "    print('> Delete Features:', delete_features)"
   ]
  },
  {
   "cell_type": "code",
   "execution_count": 24,
   "metadata": {
    "execution": {
     "iopub.execute_input": "2023-06-04T21:19:57.581078Z",
     "iopub.status.busy": "2023-06-04T21:19:57.580635Z",
     "iopub.status.idle": "2023-06-04T21:19:57.589697Z",
     "shell.execute_reply": "2023-06-04T21:19:57.588109Z",
     "shell.execute_reply.started": "2023-06-04T21:19:57.581047Z"
    }
   },
   "outputs": [
    {
     "data": {
      "text/plain": [
       "((617, 58), (617, 34))"
      ]
     },
     "execution_count": 24,
     "metadata": {},
     "output_type": "execute_result"
    }
   ],
   "source": [
    "train_df2.shape,train_df3.shape"
   ]
  },
  {
   "cell_type": "code",
   "execution_count": 25,
   "metadata": {
    "execution": {
     "iopub.execute_input": "2023-06-04T21:19:57.839906Z",
     "iopub.status.busy": "2023-06-04T21:19:57.839592Z",
     "iopub.status.idle": "2023-06-04T21:19:57.845094Z",
     "shell.execute_reply": "2023-06-04T21:19:57.843867Z",
     "shell.execute_reply.started": "2023-06-04T21:19:57.839885Z"
    }
   },
   "outputs": [],
   "source": [
    "# define features type\n",
    "target_feature = 'Class'\n",
    "unuse_features = ['Id']\n",
    "cat_features = ['EJ']\n",
    "num_features = list(set(train_df3.columns)-set([target_feature]+cat_features+unuse_features))"
   ]
  },
  {
   "cell_type": "markdown",
   "metadata": {},
   "source": [
    "<br></br>"
   ]
  },
  {
   "cell_type": "markdown",
   "metadata": {
    "tags": []
   },
   "source": [
    "# Modeling"
   ]
  },
  {
   "cell_type": "markdown",
   "metadata": {},
   "source": [
    "- No Interaction, Binary\n",
    "- No Interaction, MultiClass\n",
    "- Interaction, Binary\n",
    "- Interaction, MultiClass"
   ]
  },
  {
   "cell_type": "code",
   "execution_count": 26,
   "metadata": {
    "execution": {
     "iopub.execute_input": "2023-06-04T21:19:58.905166Z",
     "iopub.status.busy": "2023-06-04T21:19:58.904742Z",
     "iopub.status.idle": "2023-06-04T21:19:59.102369Z",
     "shell.execute_reply": "2023-06-04T21:19:59.100671Z",
     "shell.execute_reply.started": "2023-06-04T21:19:58.905133Z"
    }
   },
   "outputs": [],
   "source": [
    "from sklearn.model_selection import StratifiedKFold"
   ]
  },
  {
   "cell_type": "code",
   "execution_count": 27,
   "metadata": {
    "execution": {
     "iopub.execute_input": "2023-06-04T21:19:59.161598Z",
     "iopub.status.busy": "2023-06-04T21:19:59.161284Z",
     "iopub.status.idle": "2023-06-04T21:19:59.168190Z",
     "shell.execute_reply": "2023-06-04T21:19:59.166727Z",
     "shell.execute_reply.started": "2023-06-04T21:19:59.161577Z"
    }
   },
   "outputs": [],
   "source": [
    "def balanced_log_loss(y_true, y_pred):\n",
    "    N_0 = np.sum(1 - y_true)\n",
    "    N_1 = np.sum(y_true)\n",
    "    p_1 = np.clip(y_pred, 1e-15, 1 - 1e-15)\n",
    "    p_0 = 1 - p_1\n",
    "    log_loss_0 = -np.sum((1 - y_true) * np.log(p_0))\n",
    "    log_loss_1 = -np.sum(y_true * np.log(p_1))\n",
    "    w_0 = 1 / N_0\n",
    "    w_1 = 1 / N_1\n",
    "    _balanced_log_loss = 2*(w_0 * log_loss_0 + w_1 * log_loss_1) / (w_0 + w_1)\n",
    "    return _balanced_log_loss/(N_0+N_1)"
   ]
  },
  {
   "cell_type": "code",
   "execution_count": 28,
   "metadata": {
    "execution": {
     "iopub.execute_input": "2023-06-04T21:19:59.549566Z",
     "iopub.status.busy": "2023-06-04T21:19:59.549173Z",
     "iopub.status.idle": "2023-06-04T21:19:59.557159Z",
     "shell.execute_reply": "2023-06-04T21:19:59.555780Z",
     "shell.execute_reply.started": "2023-06-04T21:19:59.549535Z"
    }
   },
   "outputs": [],
   "source": [
    "class OneHotEncoder:\n",
    "    def __init__(self):\n",
    "        pass\n",
    "    \n",
    "    def fit(self,data,columns):\n",
    "        self.transform_list = []\n",
    "        for col in cat_features:\n",
    "            for i,value in enumerate(sorted(data[col].unique())):\n",
    "                if i>0:\n",
    "                    self.transform_list.append([col,value])\n",
    "        \n",
    "    def transform(self,data):\n",
    "        new_data = data.copy()\n",
    "        for col,value in self.transform_list:\n",
    "            new_data[f'{col}_{value}'] = np.where(new_data[col]==value,1,0)\n",
    "        drop_columns = pd.unique(np.array(self.transform_list)[:,0])\n",
    "        new_data.drop(columns=drop_columns,inplace=True)\n",
    "        return new_data"
   ]
  },
  {
   "cell_type": "code",
   "execution_count": 29,
   "metadata": {
    "execution": {
     "iopub.execute_input": "2023-06-04T21:19:59.906266Z",
     "iopub.status.busy": "2023-06-04T21:19:59.905846Z",
     "iopub.status.idle": "2023-06-04T21:20:03.721668Z",
     "shell.execute_reply": "2023-06-04T21:20:03.720068Z",
     "shell.execute_reply.started": "2023-06-04T21:19:59.906240Z"
    }
   },
   "outputs": [],
   "source": [
    "from copy import deepcopy\n",
    "from catboost import CatBoostClassifier, Pool\n",
    "from xgboost import XGBClassifier\n",
    "from tabpfn import TabPFNClassifier"
   ]
  },
  {
   "cell_type": "code",
   "execution_count": 30,
   "metadata": {
    "execution": {
     "iopub.execute_input": "2023-06-04T21:20:03.726746Z",
     "iopub.status.busy": "2023-06-04T21:20:03.725817Z",
     "iopub.status.idle": "2023-06-04T21:20:04.172356Z",
     "shell.execute_reply": "2023-06-04T21:20:04.171422Z",
     "shell.execute_reply.started": "2023-06-04T21:20:03.726711Z"
    }
   },
   "outputs": [
    {
     "name": "stdout",
     "output_type": "stream",
     "text": [
      "Loading model that can be used for inference only\n",
      "Using a Transformer with 25.82 M parameters\n"
     ]
    }
   ],
   "source": [
    "# (1) CatBoost\n",
    "params_catboost = {\n",
    "    'random_state':CFG.SEED,\n",
    "    'early_stopping_rounds' : CFG.ES,\n",
    "    'learning_rate' : CFG.LR,\n",
    "    'iterations' : CFG.EPOCHS,\n",
    "    'loss_function': 'Logloss',\n",
    "    'auto_class_weights' : 'Balanced',\n",
    "    'grow_policy' : 'Lossguide', # 'SymmetricTree','Depthwise'\n",
    "    'use_best_model' : True,\n",
    "    'allow_writing_files' : False,\n",
    "    'verbose' : False,\n",
    "    'max_depth': 10,\n",
    "    'l2_leaf_reg' : 1,\n",
    "}\n",
    "ref_catboost_model = CatBoostClassifier(**params_catboost)\n",
    "\n",
    "# (2) XGBoost\n",
    "params_xgboost = {\n",
    "    'random_state':CFG.SEED,\n",
    "    'early_stopping_rounds' : CFG.ES,\n",
    "    'learning_rate' : CFG.LR,\n",
    "    'n_estimators' : CFG.EPOCHS,\n",
    "    'loss_function': 'Logloss',\n",
    "    'verbosity' : 0,\n",
    "    'max_depth': 10,\n",
    "    'n_jobs' : -1,\n",
    "}\n",
    "ref_xgboost_model = XGBClassifier(**params_xgboost)\n",
    "\n",
    "# (3) TabPFN\n",
    "ref_tabpfn_model = TabPFNClassifier(N_ensemble_configurations=64,seed=CFG.SEED,device=CFG.DEVICE)"
   ]
  },
  {
   "cell_type": "code",
   "execution_count": 31,
   "metadata": {
    "execution": {
     "iopub.execute_input": "2023-06-04T21:20:04.174674Z",
     "iopub.status.busy": "2023-06-04T21:20:04.173846Z",
     "iopub.status.idle": "2023-06-04T21:27:04.937741Z",
     "shell.execute_reply": "2023-06-04T21:27:04.936361Z",
     "shell.execute_reply.started": "2023-06-04T21:20:04.174645Z"
    }
   },
   "outputs": [
    {
     "name": "stderr",
     "output_type": "stream",
     "text": [
      "[3/3] TabPFN Fitting...: 100%|██████████| 5/5 [07:00<00:00, 84.15s/it]   "
     ]
    },
    {
     "name": "stdout",
     "output_type": "stream",
     "text": [
      "CPU times: user 21min 51s, sys: 1min 15s, total: 23min 7s\n",
      "Wall time: 7min\n"
     ]
    },
    {
     "name": "stderr",
     "output_type": "stream",
     "text": [
      "\n"
     ]
    }
   ],
   "source": [
    "%%time\n",
    "# 10분\n",
    "\n",
    "skf = StratifiedKFold(n_splits=CFG.N_SPLITS,shuffle=True,random_state=CFG.SEED)\n",
    "\n",
    "X = train_df3[cat_features+num_features]\n",
    "y = train_df3[target_feature]\n",
    "\n",
    "# one-hot encoding for XGB, TabPFN\n",
    "oh_encoder = OneHotEncoder()\n",
    "oh_encoder.fit(X,cat_features)\n",
    "X_oh = oh_encoder.transform(X)\n",
    "\n",
    "models = []\n",
    "weights = []\n",
    "preds = []\n",
    "\n",
    "pbar = tqdm(skf.split(X,y),total=CFG.N_SPLITS)\n",
    "for train_idx,val_idx in pbar:\n",
    "    # define train/val dataset\n",
    "    X_train, y_train = X.iloc[train_idx], y.iloc[train_idx]\n",
    "    X_val  , y_val   = X.iloc[val_idx  ], y.iloc[val_idx  ]\n",
    "    X_train_oh, X_val_oh = X_oh.iloc[train_idx], X_oh.iloc[val_idx]\n",
    "    \n",
    "    # dataset for CatBOost\n",
    "    catboost_traindata = Pool(X_train,y_train,cat_features=cat_features)\n",
    "    catboost_valdata   = Pool(X_val  ,y_val  ,cat_features=cat_features)\n",
    "    \n",
    "    # model copy\n",
    "    model_catboost = deepcopy(ref_catboost_model)\n",
    "    model_xgboost  = deepcopy(ref_xgboost_model)\n",
    "    model_tabpfn   = deepcopy(ref_tabpfn_model)\n",
    "    \n",
    "    # modeling - catboost\n",
    "    pbar.set_description('[1/3] CatBoost Fitting...')\n",
    "    model_catboost.fit(catboost_traindata,eval_set=catboost_valdata)\n",
    "    pred_catboost = model_catboost.predict_proba(X_val)\n",
    "    loss_catboost = balanced_log_loss(y_val.values, pred_catboost[:, 1])\n",
    "    \n",
    "    # modeling - xgboost\n",
    "    pbar.set_description('[2/3] XGBoost Fitting...')\n",
    "    model_xgboost.fit(X_train_oh,y_train,eval_set=[(X_val_oh,y_val)],verbose=0)\n",
    "    pred_xgboost  = model_xgboost.predict_proba(X_val_oh)\n",
    "    loss_xgboost  = balanced_log_loss(y_val.values, pred_xgboost[:, 1])\n",
    "    \n",
    "    # modeling - tabpfn\n",
    "    pbar.set_description('[3/3] TabPFN Fitting...')\n",
    "    model_tabpfn.fit(X_train_oh,y_train)\n",
    "    pred_tabpfn   = model_tabpfn.predict_proba(X_val_oh)\n",
    "    loss_tabpfn   = balanced_log_loss(y_val.values, pred_tabpfn[:, 1])\n",
    "\n",
    "    # appending\n",
    "    models += [model_catboost,model_xgboost,model_tabpfn]\n",
    "    weights += [1/loss_catboost, 1/loss_xgboost, 1/loss_tabpfn]\n",
    "    preds += [pred_catboost, pred_xgboost, pred_tabpfn]"
   ]
  },
  {
   "cell_type": "markdown",
   "metadata": {},
   "source": [
    "<br></br>"
   ]
  },
  {
   "cell_type": "markdown",
   "metadata": {},
   "source": [
    "# Inference"
   ]
  },
  {
   "cell_type": "markdown",
   "metadata": {},
   "source": [
    "## Train"
   ]
  },
  {
   "cell_type": "code",
   "execution_count": 32,
   "metadata": {
    "execution": {
     "iopub.execute_input": "2023-06-04T21:27:04.940192Z",
     "iopub.status.busy": "2023-06-04T21:27:04.939860Z",
     "iopub.status.idle": "2023-06-04T21:30:19.354400Z",
     "shell.execute_reply": "2023-06-04T21:30:19.353283Z",
     "shell.execute_reply.started": "2023-06-04T21:27:04.940169Z"
    }
   },
   "outputs": [
    {
     "name": "stderr",
     "output_type": "stream",
     "text": [
      "TabPFN: 100%|██████████| 15/15 [03:14<00:00, 12.96s/it]                 "
     ]
    },
    {
     "name": "stdout",
     "output_type": "stream",
     "text": [
      "> Balanced Logloss: 0.0411\n",
      "CPU times: user 5min 24s, sys: 58.6 s, total: 6min 23s\n",
      "Wall time: 3min 14s\n"
     ]
    },
    {
     "name": "stderr",
     "output_type": "stream",
     "text": [
      "\n"
     ]
    }
   ],
   "source": [
    "%%time\n",
    "# 10분\n",
    "\n",
    "X = train_df3[cat_features+num_features]\n",
    "y = train_df3[target_feature]\n",
    "X_oh = oh_encoder.transform(X)\n",
    "X_pool = Pool(X,y,cat_features=cat_features)\n",
    "\n",
    "normalized_weights = weights.copy()\n",
    "normalized_weights /= sum(weights)\n",
    "\n",
    "y_probas = np.zeros((len(X),2))\n",
    "pbar = tqdm(zip(normalized_weights,models),total=len(models))\n",
    "for weight,model in pbar:\n",
    "    pbar.set_description(str(model).split('Classifier')[0])\n",
    "    if str(model).find('catboost')>=0:\n",
    "        pred_proba = model.predict_proba(X_pool)\n",
    "    else:\n",
    "        pred_proba = model.predict_proba(X_oh)\n",
    "    y_probas[:, 0] += weight * pred_proba[:, 0]\n",
    "    y_probas[:, 1] += weight * pred_proba[:, 1]\n",
    "y_probas /= sum(normalized_weights)\n",
    "\n",
    "score = balanced_log_loss(y_true=y.values,y_pred=y_probas[:,1])\n",
    "print('> Balanced Logloss: {:.4f}'.format(score))"
   ]
  },
  {
   "cell_type": "code",
   "execution_count": 33,
   "metadata": {
    "execution": {
     "iopub.execute_input": "2023-06-04T21:30:19.356623Z",
     "iopub.status.busy": "2023-06-04T21:30:19.356203Z",
     "iopub.status.idle": "2023-06-04T21:30:19.366266Z",
     "shell.execute_reply": "2023-06-04T21:30:19.364540Z",
     "shell.execute_reply.started": "2023-06-04T21:30:19.356589Z"
    }
   },
   "outputs": [
    {
     "data": {
      "text/plain": [
       "0.04105928976534601"
      ]
     },
     "execution_count": 33,
     "metadata": {},
     "output_type": "execute_result"
    }
   ],
   "source": [
    "balanced_log_loss(y_true=y,y_pred=y_probas[:,1])"
   ]
  },
  {
   "cell_type": "code",
   "execution_count": 34,
   "metadata": {
    "execution": {
     "iopub.execute_input": "2023-06-04T21:30:19.368677Z",
     "iopub.status.busy": "2023-06-04T21:30:19.368270Z",
     "iopub.status.idle": "2023-06-04T21:30:19.420256Z",
     "shell.execute_reply": "2023-06-04T21:30:19.418666Z",
     "shell.execute_reply.started": "2023-06-04T21:30:19.368646Z"
    }
   },
   "outputs": [
    {
     "data": {
      "text/html": [
       "<div>\n",
       "<style scoped>\n",
       "    .dataframe tbody tr th:only-of-type {\n",
       "        vertical-align: middle;\n",
       "    }\n",
       "\n",
       "    .dataframe tbody tr th {\n",
       "        vertical-align: top;\n",
       "    }\n",
       "\n",
       "    .dataframe thead th {\n",
       "        text-align: right;\n",
       "    }\n",
       "</style>\n",
       "<table border=\"1\" class=\"dataframe\">\n",
       "  <thead>\n",
       "    <tr style=\"text-align: right;\">\n",
       "      <th>col_0</th>\n",
       "      <th>0</th>\n",
       "      <th>1</th>\n",
       "    </tr>\n",
       "    <tr>\n",
       "      <th>Class</th>\n",
       "      <th></th>\n",
       "      <th></th>\n",
       "    </tr>\n",
       "  </thead>\n",
       "  <tbody>\n",
       "    <tr>\n",
       "      <th>0</th>\n",
       "      <td>509</td>\n",
       "      <td>0</td>\n",
       "    </tr>\n",
       "    <tr>\n",
       "      <th>1</th>\n",
       "      <td>0</td>\n",
       "      <td>108</td>\n",
       "    </tr>\n",
       "  </tbody>\n",
       "</table>\n",
       "</div>"
      ],
      "text/plain": [
       "col_0    0    1\n",
       "Class          \n",
       "0      509    0\n",
       "1        0  108"
      ]
     },
     "execution_count": 34,
     "metadata": {},
     "output_type": "execute_result"
    }
   ],
   "source": [
    "pd.crosstab(y,[0 if p>q else 1 for p,q in y_probas])"
   ]
  },
  {
   "cell_type": "markdown",
   "metadata": {},
   "source": [
    "<br>"
   ]
  },
  {
   "cell_type": "markdown",
   "metadata": {},
   "source": [
    "## Test"
   ]
  },
  {
   "cell_type": "code",
   "execution_count": 41,
   "metadata": {
    "execution": {
     "iopub.execute_input": "2023-06-04T21:34:51.684771Z",
     "iopub.status.busy": "2023-06-04T21:34:51.684426Z",
     "iopub.status.idle": "2023-06-04T21:36:29.747159Z",
     "shell.execute_reply": "2023-06-04T21:36:29.746271Z",
     "shell.execute_reply.started": "2023-06-04T21:34:51.684747Z"
    }
   },
   "outputs": [
    {
     "name": "stderr",
     "output_type": "stream",
     "text": [
      "TabPFN: 100%|██████████| 15/15 [01:38<00:00,  6.54s/it]                 "
     ]
    },
    {
     "name": "stdout",
     "output_type": "stream",
     "text": [
      "CPU times: user 2min 56s, sys: 18.2 s, total: 3min 14s\n",
      "Wall time: 1min 38s\n"
     ]
    },
    {
     "name": "stderr",
     "output_type": "stream",
     "text": [
      "\n"
     ]
    }
   ],
   "source": [
    "%%time\n",
    "# 10분\n",
    "\n",
    "X_test = test_df3[cat_features+num_features]\n",
    "X_test_oh = oh_encoder.transform(X_test)\n",
    "X_test_pool = Pool(X_test,cat_features=cat_features)\n",
    "\n",
    "normalized_weights = weights.copy()\n",
    "normalized_weights /= sum(weights)\n",
    "\n",
    "y_probas = np.zeros((len(X_test),2))\n",
    "pbar = tqdm(zip(normalized_weights,models),total=len(models))\n",
    "for weight,model in pbar:\n",
    "    pbar.set_description(str(model).split('Classifier')[0])\n",
    "    if str(model).find('catboost')>=0:\n",
    "        pred_proba = model.predict_proba(X_test_pool)\n",
    "    else:\n",
    "        pred_proba = model.predict_proba(X_test_oh)\n",
    "    y_probas[:, 0] += weight * pred_proba[:, 0]\n",
    "    y_probas[:, 1] += weight * pred_proba[:, 1]\n",
    "y_probas /= sum(normalized_weights)"
   ]
  },
  {
   "cell_type": "code",
   "execution_count": 47,
   "metadata": {
    "execution": {
     "iopub.execute_input": "2023-06-04T21:37:59.435742Z",
     "iopub.status.busy": "2023-06-04T21:37:59.435323Z",
     "iopub.status.idle": "2023-06-04T21:37:59.441884Z",
     "shell.execute_reply": "2023-06-04T21:37:59.440735Z",
     "shell.execute_reply.started": "2023-06-04T21:37:59.435708Z"
    }
   },
   "outputs": [],
   "source": [
    "perpect_cutoff = 0.85\n",
    "\n",
    "p = np.array([\n",
    "    1 if _p>perpect_cutoff else\n",
    "    0 if _p<1-perpect_cutoff else\n",
    "    _p for _p in y_probas[:,1]\n",
    "])"
   ]
  },
  {
   "cell_type": "code",
   "execution_count": 48,
   "metadata": {
    "execution": {
     "iopub.execute_input": "2023-06-04T21:37:59.781891Z",
     "iopub.status.busy": "2023-06-04T21:37:59.781538Z",
     "iopub.status.idle": "2023-06-04T21:37:59.789118Z",
     "shell.execute_reply": "2023-06-04T21:37:59.787996Z",
     "shell.execute_reply.started": "2023-06-04T21:37:59.781868Z"
    }
   },
   "outputs": [
    {
     "data": {
      "text/plain": [
       "(array([0.23085975, 0.23085975, 0.23085975, 0.23085975, 0.23085975]),\n",
       " array([0.23085975, 0.23085975, 0.23085975, 0.23085975, 0.23085975]))"
      ]
     },
     "execution_count": 48,
     "metadata": {},
     "output_type": "execute_result"
    }
   ],
   "source": [
    "y_probas[:,1], p"
   ]
  },
  {
   "cell_type": "code",
   "execution_count": 49,
   "metadata": {
    "execution": {
     "iopub.execute_input": "2023-06-04T21:38:01.108167Z",
     "iopub.status.busy": "2023-06-04T21:38:01.107831Z",
     "iopub.status.idle": "2023-06-04T21:38:01.116557Z",
     "shell.execute_reply": "2023-06-04T21:38:01.115095Z",
     "shell.execute_reply.started": "2023-06-04T21:38:01.108146Z"
    }
   },
   "outputs": [],
   "source": [
    "# submit = pd.read_csv('./data/sample_submission.csv')\n",
    "submit = pd.read_csv(CFG.REF_PATH+'sample_submission.csv')\n",
    "submit['class_0'] = 1-p\n",
    "submit['class_1'] = p"
   ]
  },
  {
   "cell_type": "code",
   "execution_count": 50,
   "metadata": {
    "execution": {
     "iopub.execute_input": "2023-06-04T21:38:03.294192Z",
     "iopub.status.busy": "2023-06-04T21:38:03.293823Z",
     "iopub.status.idle": "2023-06-04T21:38:03.307101Z",
     "shell.execute_reply": "2023-06-04T21:38:03.305096Z",
     "shell.execute_reply.started": "2023-06-04T21:38:03.294169Z"
    }
   },
   "outputs": [],
   "source": [
    "submit.to_csv('/kaggle/working/submission.csv', index=False)"
   ]
  }
 ],
 "metadata": {
  "kernelspec": {
   "display_name": "Python 3",
   "language": "python",
   "name": "python3"
  },
  "language_info": {
   "codemirror_mode": {
    "name": "ipython",
    "version": 3
   },
   "file_extension": ".py",
   "mimetype": "text/x-python",
   "name": "python",
   "nbconvert_exporter": "python",
   "pygments_lexer": "ipython3",
   "version": "3.8.10"
  }
 },
 "nbformat": 4,
 "nbformat_minor": 4
}
