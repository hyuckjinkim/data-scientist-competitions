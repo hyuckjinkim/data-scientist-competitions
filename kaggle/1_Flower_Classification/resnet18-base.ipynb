{
 "cells": [
  {
   "cell_type": "code",
   "execution_count": 41,
   "metadata": {
    "_cell_guid": "b1076dfc-b9ad-4769-8c92-a6c4dae69d19",
    "_uuid": "8f2839f25d086af736a60e9eeb907d3b93b6e0e5",
    "execution": {
     "iopub.execute_input": "2022-11-28T08:58:26.319945Z",
     "iopub.status.busy": "2022-11-28T08:58:26.319114Z",
     "iopub.status.idle": "2022-11-28T08:58:26.361607Z",
     "shell.execute_reply": "2022-11-28T08:58:26.360664Z",
     "shell.execute_reply.started": "2022-11-28T08:58:26.319903Z"
    }
   },
   "outputs": [
    {
     "name": "stdout",
     "output_type": "stream",
     "text": [
      "/kaggle/input/tpu-getting-started/sample_submission.csv\n",
      "/kaggle/input/tpu-getting-started/tfrecords-jpeg-224x224/val/09-224x224-232.tfrec\n",
      "/kaggle/input/tpu-getting-started/tfrecords-jpeg-224x224/val/14-224x224-232.tfrec\n",
      "/kaggle/input/tpu-getting-started/tfrecords-jpeg-224x224/val/01-224x224-232.tfrec\n",
      "/kaggle/input/tpu-getting-started/tfrecords-jpeg-224x224/val/13-224x224-232.tfrec\n",
      "/kaggle/input/tpu-getting-started/tfrecords-jpeg-224x224/val/00-224x224-232.tfrec\n",
      "/kaggle/input/tpu-getting-started/tfrecords-jpeg-224x224/val/07-224x224-232.tfrec\n",
      "/kaggle/input/tpu-getting-started/tfrecords-jpeg-224x224/val/12-224x224-232.tfrec\n",
      "/kaggle/input/tpu-getting-started/tfrecords-jpeg-224x224/val/11-224x224-232.tfrec\n",
      "/kaggle/input/tpu-getting-started/tfrecords-jpeg-224x224/val/05-224x224-232.tfrec\n",
      "/kaggle/input/tpu-getting-started/tfrecords-jpeg-224x224/val/04-224x224-232.tfrec\n",
      "/kaggle/input/tpu-getting-started/tfrecords-jpeg-224x224/val/15-224x224-232.tfrec\n",
      "/kaggle/input/tpu-getting-started/tfrecords-jpeg-224x224/val/06-224x224-232.tfrec\n",
      "/kaggle/input/tpu-getting-started/tfrecords-jpeg-224x224/val/02-224x224-232.tfrec\n",
      "/kaggle/input/tpu-getting-started/tfrecords-jpeg-224x224/val/03-224x224-232.tfrec\n",
      "/kaggle/input/tpu-getting-started/tfrecords-jpeg-224x224/val/08-224x224-232.tfrec\n",
      "/kaggle/input/tpu-getting-started/tfrecords-jpeg-224x224/val/10-224x224-232.tfrec\n",
      "/kaggle/input/tpu-getting-started/tfrecords-jpeg-224x224/test/04-224x224-462.tfrec\n",
      "/kaggle/input/tpu-getting-started/tfrecords-jpeg-224x224/test/06-224x224-462.tfrec\n",
      "/kaggle/input/tpu-getting-started/tfrecords-jpeg-224x224/test/05-224x224-462.tfrec\n",
      "/kaggle/input/tpu-getting-started/tfrecords-jpeg-224x224/test/08-224x224-462.tfrec\n",
      "/kaggle/input/tpu-getting-started/tfrecords-jpeg-224x224/test/15-224x224-452.tfrec\n",
      "/kaggle/input/tpu-getting-started/tfrecords-jpeg-224x224/test/09-224x224-462.tfrec\n",
      "/kaggle/input/tpu-getting-started/tfrecords-jpeg-224x224/test/10-224x224-462.tfrec\n",
      "/kaggle/input/tpu-getting-started/tfrecords-jpeg-224x224/test/07-224x224-462.tfrec\n",
      "/kaggle/input/tpu-getting-started/tfrecords-jpeg-224x224/test/00-224x224-462.tfrec\n",
      "/kaggle/input/tpu-getting-started/tfrecords-jpeg-224x224/test/01-224x224-462.tfrec\n",
      "/kaggle/input/tpu-getting-started/tfrecords-jpeg-224x224/test/12-224x224-462.tfrec\n",
      "/kaggle/input/tpu-getting-started/tfrecords-jpeg-224x224/test/14-224x224-462.tfrec\n",
      "/kaggle/input/tpu-getting-started/tfrecords-jpeg-224x224/test/03-224x224-462.tfrec\n",
      "/kaggle/input/tpu-getting-started/tfrecords-jpeg-224x224/test/02-224x224-462.tfrec\n",
      "/kaggle/input/tpu-getting-started/tfrecords-jpeg-224x224/test/11-224x224-462.tfrec\n",
      "/kaggle/input/tpu-getting-started/tfrecords-jpeg-224x224/test/13-224x224-462.tfrec\n",
      "/kaggle/input/tpu-getting-started/tfrecords-jpeg-224x224/train/13-224x224-798.tfrec\n",
      "/kaggle/input/tpu-getting-started/tfrecords-jpeg-224x224/train/11-224x224-798.tfrec\n",
      "/kaggle/input/tpu-getting-started/tfrecords-jpeg-224x224/train/05-224x224-798.tfrec\n",
      "/kaggle/input/tpu-getting-started/tfrecords-jpeg-224x224/train/00-224x224-798.tfrec\n",
      "/kaggle/input/tpu-getting-started/tfrecords-jpeg-224x224/train/02-224x224-798.tfrec\n",
      "/kaggle/input/tpu-getting-started/tfrecords-jpeg-224x224/train/14-224x224-798.tfrec\n",
      "/kaggle/input/tpu-getting-started/tfrecords-jpeg-224x224/train/06-224x224-798.tfrec\n",
      "/kaggle/input/tpu-getting-started/tfrecords-jpeg-224x224/train/10-224x224-798.tfrec\n",
      "/kaggle/input/tpu-getting-started/tfrecords-jpeg-224x224/train/01-224x224-798.tfrec\n",
      "/kaggle/input/tpu-getting-started/tfrecords-jpeg-224x224/train/03-224x224-798.tfrec\n",
      "/kaggle/input/tpu-getting-started/tfrecords-jpeg-224x224/train/08-224x224-798.tfrec\n",
      "/kaggle/input/tpu-getting-started/tfrecords-jpeg-224x224/train/09-224x224-798.tfrec\n",
      "/kaggle/input/tpu-getting-started/tfrecords-jpeg-224x224/train/15-224x224-783.tfrec\n",
      "/kaggle/input/tpu-getting-started/tfrecords-jpeg-224x224/train/07-224x224-798.tfrec\n",
      "/kaggle/input/tpu-getting-started/tfrecords-jpeg-224x224/train/04-224x224-798.tfrec\n",
      "/kaggle/input/tpu-getting-started/tfrecords-jpeg-224x224/train/12-224x224-798.tfrec\n",
      "/kaggle/input/tpu-getting-started/tfrecords-jpeg-331x331/val/05-331x331-232.tfrec\n",
      "/kaggle/input/tpu-getting-started/tfrecords-jpeg-331x331/val/08-331x331-232.tfrec\n",
      "/kaggle/input/tpu-getting-started/tfrecords-jpeg-331x331/val/01-331x331-232.tfrec\n",
      "/kaggle/input/tpu-getting-started/tfrecords-jpeg-331x331/val/03-331x331-232.tfrec\n",
      "/kaggle/input/tpu-getting-started/tfrecords-jpeg-331x331/val/13-331x331-232.tfrec\n",
      "/kaggle/input/tpu-getting-started/tfrecords-jpeg-331x331/val/10-331x331-232.tfrec\n",
      "/kaggle/input/tpu-getting-started/tfrecords-jpeg-331x331/val/07-331x331-232.tfrec\n",
      "/kaggle/input/tpu-getting-started/tfrecords-jpeg-331x331/val/04-331x331-232.tfrec\n",
      "/kaggle/input/tpu-getting-started/tfrecords-jpeg-331x331/val/14-331x331-232.tfrec\n",
      "/kaggle/input/tpu-getting-started/tfrecords-jpeg-331x331/val/15-331x331-232.tfrec\n",
      "/kaggle/input/tpu-getting-started/tfrecords-jpeg-331x331/val/12-331x331-232.tfrec\n",
      "/kaggle/input/tpu-getting-started/tfrecords-jpeg-331x331/val/11-331x331-232.tfrec\n",
      "/kaggle/input/tpu-getting-started/tfrecords-jpeg-331x331/val/02-331x331-232.tfrec\n",
      "/kaggle/input/tpu-getting-started/tfrecords-jpeg-331x331/val/00-331x331-232.tfrec\n",
      "/kaggle/input/tpu-getting-started/tfrecords-jpeg-331x331/val/06-331x331-232.tfrec\n",
      "/kaggle/input/tpu-getting-started/tfrecords-jpeg-331x331/val/09-331x331-232.tfrec\n",
      "/kaggle/input/tpu-getting-started/tfrecords-jpeg-331x331/test/14-331x331-462.tfrec\n",
      "/kaggle/input/tpu-getting-started/tfrecords-jpeg-331x331/test/13-331x331-462.tfrec\n",
      "/kaggle/input/tpu-getting-started/tfrecords-jpeg-331x331/test/03-331x331-462.tfrec\n",
      "/kaggle/input/tpu-getting-started/tfrecords-jpeg-331x331/test/05-331x331-462.tfrec\n",
      "/kaggle/input/tpu-getting-started/tfrecords-jpeg-331x331/test/09-331x331-462.tfrec\n",
      "/kaggle/input/tpu-getting-started/tfrecords-jpeg-331x331/test/04-331x331-462.tfrec\n",
      "/kaggle/input/tpu-getting-started/tfrecords-jpeg-331x331/test/01-331x331-462.tfrec\n",
      "/kaggle/input/tpu-getting-started/tfrecords-jpeg-331x331/test/11-331x331-462.tfrec\n",
      "/kaggle/input/tpu-getting-started/tfrecords-jpeg-331x331/test/07-331x331-462.tfrec\n",
      "/kaggle/input/tpu-getting-started/tfrecords-jpeg-331x331/test/08-331x331-462.tfrec\n",
      "/kaggle/input/tpu-getting-started/tfrecords-jpeg-331x331/test/00-331x331-462.tfrec\n",
      "/kaggle/input/tpu-getting-started/tfrecords-jpeg-331x331/test/02-331x331-462.tfrec\n",
      "/kaggle/input/tpu-getting-started/tfrecords-jpeg-331x331/test/15-331x331-452.tfrec\n",
      "/kaggle/input/tpu-getting-started/tfrecords-jpeg-331x331/test/10-331x331-462.tfrec\n",
      "/kaggle/input/tpu-getting-started/tfrecords-jpeg-331x331/test/12-331x331-462.tfrec\n",
      "/kaggle/input/tpu-getting-started/tfrecords-jpeg-331x331/test/06-331x331-462.tfrec\n",
      "/kaggle/input/tpu-getting-started/tfrecords-jpeg-331x331/train/15-331x331-783.tfrec\n",
      "/kaggle/input/tpu-getting-started/tfrecords-jpeg-331x331/train/02-331x331-798.tfrec\n",
      "/kaggle/input/tpu-getting-started/tfrecords-jpeg-331x331/train/14-331x331-798.tfrec\n",
      "/kaggle/input/tpu-getting-started/tfrecords-jpeg-331x331/train/04-331x331-798.tfrec\n",
      "/kaggle/input/tpu-getting-started/tfrecords-jpeg-331x331/train/08-331x331-798.tfrec\n",
      "/kaggle/input/tpu-getting-started/tfrecords-jpeg-331x331/train/12-331x331-798.tfrec\n",
      "/kaggle/input/tpu-getting-started/tfrecords-jpeg-331x331/train/03-331x331-798.tfrec\n",
      "/kaggle/input/tpu-getting-started/tfrecords-jpeg-331x331/train/05-331x331-798.tfrec\n",
      "/kaggle/input/tpu-getting-started/tfrecords-jpeg-331x331/train/00-331x331-798.tfrec\n",
      "/kaggle/input/tpu-getting-started/tfrecords-jpeg-331x331/train/06-331x331-798.tfrec\n",
      "/kaggle/input/tpu-getting-started/tfrecords-jpeg-331x331/train/07-331x331-798.tfrec\n",
      "/kaggle/input/tpu-getting-started/tfrecords-jpeg-331x331/train/09-331x331-798.tfrec\n",
      "/kaggle/input/tpu-getting-started/tfrecords-jpeg-331x331/train/10-331x331-798.tfrec\n",
      "/kaggle/input/tpu-getting-started/tfrecords-jpeg-331x331/train/01-331x331-798.tfrec\n",
      "/kaggle/input/tpu-getting-started/tfrecords-jpeg-331x331/train/13-331x331-798.tfrec\n",
      "/kaggle/input/tpu-getting-started/tfrecords-jpeg-331x331/train/11-331x331-798.tfrec\n",
      "/kaggle/input/tpu-getting-started/tfrecords-jpeg-192x192/val/05-192x192-232.tfrec\n",
      "/kaggle/input/tpu-getting-started/tfrecords-jpeg-192x192/val/07-192x192-232.tfrec\n",
      "/kaggle/input/tpu-getting-started/tfrecords-jpeg-192x192/val/15-192x192-232.tfrec\n",
      "/kaggle/input/tpu-getting-started/tfrecords-jpeg-192x192/val/08-192x192-232.tfrec\n",
      "/kaggle/input/tpu-getting-started/tfrecords-jpeg-192x192/val/06-192x192-232.tfrec\n",
      "/kaggle/input/tpu-getting-started/tfrecords-jpeg-192x192/val/00-192x192-232.tfrec\n",
      "/kaggle/input/tpu-getting-started/tfrecords-jpeg-192x192/val/11-192x192-232.tfrec\n",
      "/kaggle/input/tpu-getting-started/tfrecords-jpeg-192x192/val/04-192x192-232.tfrec\n",
      "/kaggle/input/tpu-getting-started/tfrecords-jpeg-192x192/val/09-192x192-232.tfrec\n",
      "/kaggle/input/tpu-getting-started/tfrecords-jpeg-192x192/val/02-192x192-232.tfrec\n",
      "/kaggle/input/tpu-getting-started/tfrecords-jpeg-192x192/val/10-192x192-232.tfrec\n",
      "/kaggle/input/tpu-getting-started/tfrecords-jpeg-192x192/val/12-192x192-232.tfrec\n",
      "/kaggle/input/tpu-getting-started/tfrecords-jpeg-192x192/val/14-192x192-232.tfrec\n",
      "/kaggle/input/tpu-getting-started/tfrecords-jpeg-192x192/val/13-192x192-232.tfrec\n",
      "/kaggle/input/tpu-getting-started/tfrecords-jpeg-192x192/val/03-192x192-232.tfrec\n",
      "/kaggle/input/tpu-getting-started/tfrecords-jpeg-192x192/val/01-192x192-232.tfrec\n",
      "/kaggle/input/tpu-getting-started/tfrecords-jpeg-192x192/test/06-192x192-462.tfrec\n",
      "/kaggle/input/tpu-getting-started/tfrecords-jpeg-192x192/test/12-192x192-462.tfrec\n",
      "/kaggle/input/tpu-getting-started/tfrecords-jpeg-192x192/test/08-192x192-462.tfrec\n",
      "/kaggle/input/tpu-getting-started/tfrecords-jpeg-192x192/test/07-192x192-462.tfrec\n",
      "/kaggle/input/tpu-getting-started/tfrecords-jpeg-192x192/test/00-192x192-462.tfrec\n",
      "/kaggle/input/tpu-getting-started/tfrecords-jpeg-192x192/test/03-192x192-462.tfrec\n",
      "/kaggle/input/tpu-getting-started/tfrecords-jpeg-192x192/test/13-192x192-462.tfrec\n",
      "/kaggle/input/tpu-getting-started/tfrecords-jpeg-192x192/test/05-192x192-462.tfrec\n",
      "/kaggle/input/tpu-getting-started/tfrecords-jpeg-192x192/test/01-192x192-462.tfrec\n",
      "/kaggle/input/tpu-getting-started/tfrecords-jpeg-192x192/test/14-192x192-462.tfrec\n",
      "/kaggle/input/tpu-getting-started/tfrecords-jpeg-192x192/test/10-192x192-462.tfrec\n",
      "/kaggle/input/tpu-getting-started/tfrecords-jpeg-192x192/test/04-192x192-462.tfrec\n",
      "/kaggle/input/tpu-getting-started/tfrecords-jpeg-192x192/test/15-192x192-452.tfrec\n",
      "/kaggle/input/tpu-getting-started/tfrecords-jpeg-192x192/test/09-192x192-462.tfrec\n",
      "/kaggle/input/tpu-getting-started/tfrecords-jpeg-192x192/test/11-192x192-462.tfrec\n",
      "/kaggle/input/tpu-getting-started/tfrecords-jpeg-192x192/test/02-192x192-462.tfrec\n",
      "/kaggle/input/tpu-getting-started/tfrecords-jpeg-192x192/train/06-192x192-798.tfrec\n",
      "/kaggle/input/tpu-getting-started/tfrecords-jpeg-192x192/train/11-192x192-798.tfrec\n",
      "/kaggle/input/tpu-getting-started/tfrecords-jpeg-192x192/train/12-192x192-798.tfrec\n",
      "/kaggle/input/tpu-getting-started/tfrecords-jpeg-192x192/train/03-192x192-798.tfrec\n",
      "/kaggle/input/tpu-getting-started/tfrecords-jpeg-192x192/train/09-192x192-798.tfrec\n",
      "/kaggle/input/tpu-getting-started/tfrecords-jpeg-192x192/train/08-192x192-798.tfrec\n",
      "/kaggle/input/tpu-getting-started/tfrecords-jpeg-192x192/train/04-192x192-798.tfrec\n",
      "/kaggle/input/tpu-getting-started/tfrecords-jpeg-192x192/train/05-192x192-798.tfrec\n",
      "/kaggle/input/tpu-getting-started/tfrecords-jpeg-192x192/train/14-192x192-798.tfrec\n",
      "/kaggle/input/tpu-getting-started/tfrecords-jpeg-192x192/train/07-192x192-798.tfrec\n",
      "/kaggle/input/tpu-getting-started/tfrecords-jpeg-192x192/train/13-192x192-798.tfrec\n",
      "/kaggle/input/tpu-getting-started/tfrecords-jpeg-192x192/train/15-192x192-783.tfrec\n",
      "/kaggle/input/tpu-getting-started/tfrecords-jpeg-192x192/train/02-192x192-798.tfrec\n",
      "/kaggle/input/tpu-getting-started/tfrecords-jpeg-192x192/train/10-192x192-798.tfrec\n",
      "/kaggle/input/tpu-getting-started/tfrecords-jpeg-192x192/train/01-192x192-798.tfrec\n",
      "/kaggle/input/tpu-getting-started/tfrecords-jpeg-192x192/train/00-192x192-798.tfrec\n",
      "/kaggle/input/tpu-getting-started/tfrecords-jpeg-512x512/val/02-512x512-232.tfrec\n",
      "/kaggle/input/tpu-getting-started/tfrecords-jpeg-512x512/val/12-512x512-232.tfrec\n",
      "/kaggle/input/tpu-getting-started/tfrecords-jpeg-512x512/val/09-512x512-232.tfrec\n",
      "/kaggle/input/tpu-getting-started/tfrecords-jpeg-512x512/val/00-512x512-232.tfrec\n",
      "/kaggle/input/tpu-getting-started/tfrecords-jpeg-512x512/val/13-512x512-232.tfrec\n",
      "/kaggle/input/tpu-getting-started/tfrecords-jpeg-512x512/val/03-512x512-232.tfrec\n",
      "/kaggle/input/tpu-getting-started/tfrecords-jpeg-512x512/val/14-512x512-232.tfrec\n",
      "/kaggle/input/tpu-getting-started/tfrecords-jpeg-512x512/val/04-512x512-232.tfrec\n",
      "/kaggle/input/tpu-getting-started/tfrecords-jpeg-512x512/val/10-512x512-232.tfrec\n",
      "/kaggle/input/tpu-getting-started/tfrecords-jpeg-512x512/val/05-512x512-232.tfrec\n",
      "/kaggle/input/tpu-getting-started/tfrecords-jpeg-512x512/val/08-512x512-232.tfrec\n",
      "/kaggle/input/tpu-getting-started/tfrecords-jpeg-512x512/val/11-512x512-232.tfrec\n",
      "/kaggle/input/tpu-getting-started/tfrecords-jpeg-512x512/val/07-512x512-232.tfrec\n",
      "/kaggle/input/tpu-getting-started/tfrecords-jpeg-512x512/val/15-512x512-232.tfrec\n",
      "/kaggle/input/tpu-getting-started/tfrecords-jpeg-512x512/val/01-512x512-232.tfrec\n",
      "/kaggle/input/tpu-getting-started/tfrecords-jpeg-512x512/val/06-512x512-232.tfrec\n",
      "/kaggle/input/tpu-getting-started/tfrecords-jpeg-512x512/test/15-512x512-452.tfrec\n",
      "/kaggle/input/tpu-getting-started/tfrecords-jpeg-512x512/test/02-512x512-462.tfrec\n",
      "/kaggle/input/tpu-getting-started/tfrecords-jpeg-512x512/test/03-512x512-462.tfrec\n",
      "/kaggle/input/tpu-getting-started/tfrecords-jpeg-512x512/test/01-512x512-462.tfrec\n",
      "/kaggle/input/tpu-getting-started/tfrecords-jpeg-512x512/test/00-512x512-462.tfrec\n",
      "/kaggle/input/tpu-getting-started/tfrecords-jpeg-512x512/test/13-512x512-462.tfrec\n",
      "/kaggle/input/tpu-getting-started/tfrecords-jpeg-512x512/test/07-512x512-462.tfrec\n",
      "/kaggle/input/tpu-getting-started/tfrecords-jpeg-512x512/test/10-512x512-462.tfrec\n",
      "/kaggle/input/tpu-getting-started/tfrecords-jpeg-512x512/test/04-512x512-462.tfrec\n",
      "/kaggle/input/tpu-getting-started/tfrecords-jpeg-512x512/test/14-512x512-462.tfrec\n",
      "/kaggle/input/tpu-getting-started/tfrecords-jpeg-512x512/test/09-512x512-462.tfrec\n",
      "/kaggle/input/tpu-getting-started/tfrecords-jpeg-512x512/test/08-512x512-462.tfrec\n",
      "/kaggle/input/tpu-getting-started/tfrecords-jpeg-512x512/test/11-512x512-462.tfrec\n",
      "/kaggle/input/tpu-getting-started/tfrecords-jpeg-512x512/test/05-512x512-462.tfrec\n",
      "/kaggle/input/tpu-getting-started/tfrecords-jpeg-512x512/test/06-512x512-462.tfrec\n",
      "/kaggle/input/tpu-getting-started/tfrecords-jpeg-512x512/test/12-512x512-462.tfrec\n",
      "/kaggle/input/tpu-getting-started/tfrecords-jpeg-512x512/train/05-512x512-798.tfrec\n",
      "/kaggle/input/tpu-getting-started/tfrecords-jpeg-512x512/train/00-512x512-798.tfrec\n",
      "/kaggle/input/tpu-getting-started/tfrecords-jpeg-512x512/train/11-512x512-798.tfrec\n",
      "/kaggle/input/tpu-getting-started/tfrecords-jpeg-512x512/train/15-512x512-783.tfrec\n",
      "/kaggle/input/tpu-getting-started/tfrecords-jpeg-512x512/train/10-512x512-798.tfrec\n",
      "/kaggle/input/tpu-getting-started/tfrecords-jpeg-512x512/train/12-512x512-798.tfrec\n",
      "/kaggle/input/tpu-getting-started/tfrecords-jpeg-512x512/train/01-512x512-798.tfrec\n",
      "/kaggle/input/tpu-getting-started/tfrecords-jpeg-512x512/train/14-512x512-798.tfrec\n",
      "/kaggle/input/tpu-getting-started/tfrecords-jpeg-512x512/train/13-512x512-798.tfrec\n",
      "/kaggle/input/tpu-getting-started/tfrecords-jpeg-512x512/train/07-512x512-798.tfrec\n",
      "/kaggle/input/tpu-getting-started/tfrecords-jpeg-512x512/train/03-512x512-798.tfrec\n",
      "/kaggle/input/tpu-getting-started/tfrecords-jpeg-512x512/train/06-512x512-798.tfrec\n",
      "/kaggle/input/tpu-getting-started/tfrecords-jpeg-512x512/train/08-512x512-798.tfrec\n",
      "/kaggle/input/tpu-getting-started/tfrecords-jpeg-512x512/train/02-512x512-798.tfrec\n",
      "/kaggle/input/tpu-getting-started/tfrecords-jpeg-512x512/train/09-512x512-798.tfrec\n",
      "/kaggle/input/tpu-getting-started/tfrecords-jpeg-512x512/train/04-512x512-798.tfrec\n"
     ]
    }
   ],
   "source": [
    "# This Python 3 environment comes with many helpful analytics libraries installed\n",
    "# It is defined by the kaggle/python Docker image: https://github.com/kaggle/docker-python\n",
    "# For example, here's several helpful packages to load\n",
    "\n",
    "import numpy as np # linear algebra\n",
    "import pandas as pd # data processing, CSV file I/O (e.g. pd.read_csv)\n",
    "\n",
    "# Input data files are available in the read-only \"../input/\" directory\n",
    "# For example, running this (by clicking run or pressing Shift+Enter) will list all files under the input directory\n",
    "\n",
    "import os\n",
    "for dirname, _, filenames in os.walk('/kaggle/input'):\n",
    "    for filename in filenames:\n",
    "        print(os.path.join(dirname, filename))\n",
    "\n",
    "# You can write up to 20GB to the current directory (/kaggle/working/) that gets preserved as output when you create a version using \"Save & Run All\" \n",
    "# You can also write temporary files to /kaggle/temp/, but they won't be saved outside of the current session"
   ]
  },
  {
   "cell_type": "code",
   "execution_count": 42,
   "metadata": {
    "execution": {
     "iopub.execute_input": "2022-11-28T08:58:26.363479Z",
     "iopub.status.busy": "2022-11-28T08:58:26.363246Z",
     "iopub.status.idle": "2022-11-28T08:58:26.373290Z",
     "shell.execute_reply": "2022-11-28T08:58:26.372278Z",
     "shell.execute_reply.started": "2022-11-28T08:58:26.363451Z"
    }
   },
   "outputs": [
    {
     "name": "stdout",
     "output_type": "stream",
     "text": [
      "16 16 16\n"
     ]
    }
   ],
   "source": [
    "train_imgs = os.listdir(\"/kaggle/input/tpu-getting-started/tfrecords-jpeg-192x192/train\")\n",
    "test_imgs = os.listdir(\"/kaggle/input/tpu-getting-started/tfrecords-jpeg-192x192/test\")\n",
    "val_imgs = os.listdir(\"/kaggle/input/tpu-getting-started/tfrecords-jpeg-192x192/val\")\n",
    "print(len(train_imgs),len(test_imgs),len(val_imgs))"
   ]
  },
  {
   "cell_type": "code",
   "execution_count": 43,
   "metadata": {
    "execution": {
     "iopub.execute_input": "2022-11-28T08:58:26.376648Z",
     "iopub.status.busy": "2022-11-28T08:58:26.375897Z",
     "iopub.status.idle": "2022-11-28T08:58:27.499969Z",
     "shell.execute_reply": "2022-11-28T08:58:27.498840Z",
     "shell.execute_reply.started": "2022-11-28T08:58:26.376610Z"
    }
   },
   "outputs": [
    {
     "name": "stdout",
     "output_type": "stream",
     "text": [
      "tpu-getting-started\n"
     ]
    }
   ],
   "source": [
    "!ls /kaggle/input"
   ]
  },
  {
   "cell_type": "code",
   "execution_count": 44,
   "metadata": {
    "execution": {
     "iopub.execute_input": "2022-11-28T08:58:27.501986Z",
     "iopub.status.busy": "2022-11-28T08:58:27.501693Z",
     "iopub.status.idle": "2022-11-28T08:58:37.175318Z",
     "shell.execute_reply": "2022-11-28T08:58:37.174327Z",
     "shell.execute_reply.started": "2022-11-28T08:58:27.501950Z"
    }
   },
   "outputs": [
    {
     "name": "stdout",
     "output_type": "stream",
     "text": [
      "Collecting torch-xla==1.11\n",
      "  Using cached https://storage.googleapis.com/tpu-pytorch/wheels/colab/torch_xla-1.11-cp37-cp37m-linux_x86_64.whl (152.9 MB)\n",
      "Requirement already satisfied: cloud-tpu-client==0.10 in /opt/conda/lib/python3.7/site-packages (0.10)\n",
      "Requirement already satisfied: torch==1.11.0 in /opt/conda/lib/python3.7/site-packages (1.11.0)\n",
      "Requirement already satisfied: google-api-python-client==1.8.0 in /opt/conda/lib/python3.7/site-packages (from cloud-tpu-client==0.10) (1.8.0)\n",
      "Requirement already satisfied: oauth2client in /opt/conda/lib/python3.7/site-packages (from cloud-tpu-client==0.10) (4.1.3)\n",
      "Requirement already satisfied: typing-extensions in /opt/conda/lib/python3.7/site-packages (from torch==1.11.0) (3.7.4.3)\n",
      "Requirement already satisfied: six<2dev,>=1.6.1 in /opt/conda/lib/python3.7/site-packages (from google-api-python-client==1.8.0->cloud-tpu-client==0.10) (1.15.0)\n",
      "Requirement already satisfied: google-auth>=1.4.1 in /opt/conda/lib/python3.7/site-packages (from google-api-python-client==1.8.0->cloud-tpu-client==0.10) (1.34.0)\n",
      "Requirement already satisfied: google-api-core<2dev,>=1.13.0 in /opt/conda/lib/python3.7/site-packages (from google-api-python-client==1.8.0->cloud-tpu-client==0.10) (1.31.1)\n",
      "Requirement already satisfied: httplib2<1dev,>=0.9.2 in /opt/conda/lib/python3.7/site-packages (from google-api-python-client==1.8.0->cloud-tpu-client==0.10) (0.19.1)\n",
      "Requirement already satisfied: uritemplate<4dev,>=3.0.0 in /opt/conda/lib/python3.7/site-packages (from google-api-python-client==1.8.0->cloud-tpu-client==0.10) (3.0.1)\n",
      "Requirement already satisfied: google-auth-httplib2>=0.0.3 in /opt/conda/lib/python3.7/site-packages (from google-api-python-client==1.8.0->cloud-tpu-client==0.10) (0.1.0)\n",
      "Requirement already satisfied: googleapis-common-protos<2.0dev,>=1.6.0 in /opt/conda/lib/python3.7/site-packages (from google-api-core<2dev,>=1.13.0->google-api-python-client==1.8.0->cloud-tpu-client==0.10) (1.53.0)\n",
      "Requirement already satisfied: requests<3.0.0dev,>=2.18.0 in /opt/conda/lib/python3.7/site-packages (from google-api-core<2dev,>=1.13.0->google-api-python-client==1.8.0->cloud-tpu-client==0.10) (2.25.1)\n",
      "Requirement already satisfied: setuptools>=40.3.0 in /opt/conda/lib/python3.7/site-packages (from google-api-core<2dev,>=1.13.0->google-api-python-client==1.8.0->cloud-tpu-client==0.10) (57.4.0)\n",
      "Requirement already satisfied: pytz in /opt/conda/lib/python3.7/site-packages (from google-api-core<2dev,>=1.13.0->google-api-python-client==1.8.0->cloud-tpu-client==0.10) (2021.1)\n",
      "Requirement already satisfied: protobuf>=3.12.0 in /opt/conda/lib/python3.7/site-packages (from google-api-core<2dev,>=1.13.0->google-api-python-client==1.8.0->cloud-tpu-client==0.10) (3.18.0)\n",
      "Requirement already satisfied: packaging>=14.3 in /opt/conda/lib/python3.7/site-packages (from google-api-core<2dev,>=1.13.0->google-api-python-client==1.8.0->cloud-tpu-client==0.10) (21.0)\n",
      "Requirement already satisfied: cachetools<5.0,>=2.0.0 in /opt/conda/lib/python3.7/site-packages (from google-auth>=1.4.1->google-api-python-client==1.8.0->cloud-tpu-client==0.10) (4.2.2)\n",
      "Requirement already satisfied: rsa<5,>=3.1.4 in /opt/conda/lib/python3.7/site-packages (from google-auth>=1.4.1->google-api-python-client==1.8.0->cloud-tpu-client==0.10) (4.7.2)\n",
      "Requirement already satisfied: pyasn1-modules>=0.2.1 in /opt/conda/lib/python3.7/site-packages (from google-auth>=1.4.1->google-api-python-client==1.8.0->cloud-tpu-client==0.10) (0.2.7)\n",
      "Requirement already satisfied: pyparsing<3,>=2.4.2 in /opt/conda/lib/python3.7/site-packages (from httplib2<1dev,>=0.9.2->google-api-python-client==1.8.0->cloud-tpu-client==0.10) (2.4.7)\n",
      "Requirement already satisfied: pyasn1<0.5.0,>=0.4.6 in /opt/conda/lib/python3.7/site-packages (from pyasn1-modules>=0.2.1->google-auth>=1.4.1->google-api-python-client==1.8.0->cloud-tpu-client==0.10) (0.4.8)\n",
      "Requirement already satisfied: idna<3,>=2.5 in /opt/conda/lib/python3.7/site-packages (from requests<3.0.0dev,>=2.18.0->google-api-core<2dev,>=1.13.0->google-api-python-client==1.8.0->cloud-tpu-client==0.10) (2.10)\n",
      "Requirement already satisfied: urllib3<1.27,>=1.21.1 in /opt/conda/lib/python3.7/site-packages (from requests<3.0.0dev,>=2.18.0->google-api-core<2dev,>=1.13.0->google-api-python-client==1.8.0->cloud-tpu-client==0.10) (1.26.6)\n",
      "Requirement already satisfied: chardet<5,>=3.0.2 in /opt/conda/lib/python3.7/site-packages (from requests<3.0.0dev,>=2.18.0->google-api-core<2dev,>=1.13.0->google-api-python-client==1.8.0->cloud-tpu-client==0.10) (4.0.0)\n",
      "Requirement already satisfied: certifi>=2017.4.17 in /opt/conda/lib/python3.7/site-packages (from requests<3.0.0dev,>=2.18.0->google-api-core<2dev,>=1.13.0->google-api-python-client==1.8.0->cloud-tpu-client==0.10) (2021.5.30)\n",
      "\u001b[33mWARNING: Running pip as the 'root' user can result in broken permissions and conflicting behaviour with the system package manager. It is recommended to use a virtual environment instead: https://pip.pypa.io/warnings/venv\u001b[0m\n"
     ]
    }
   ],
   "source": [
    "!pip install cloud-tpu-client==0.10 torch==1.11.0 https://storage.googleapis.com/tpu-pytorch/wheels/colab/torch_xla-1.11-cp37-cp37m-linux_x86_64.whl"
   ]
  },
  {
   "cell_type": "code",
   "execution_count": 45,
   "metadata": {
    "execution": {
     "iopub.execute_input": "2022-11-28T08:58:37.178171Z",
     "iopub.status.busy": "2022-11-28T08:58:37.177888Z",
     "iopub.status.idle": "2022-11-28T08:58:37.185537Z",
     "shell.execute_reply": "2022-11-28T08:58:37.184910Z",
     "shell.execute_reply.started": "2022-11-28T08:58:37.178124Z"
    }
   },
   "outputs": [],
   "source": [
    "import pandas as pd\n",
    "from PIL import Image\n",
    "import tensorflow as tf\n",
    "import io\n",
    "\n",
    "import torch\n",
    "import torch.nn as nn\n",
    "from torch import Tensor\n",
    "import torch.nn.functional as F\n",
    "from torch.utils.data import Dataset , DataLoader\n",
    "from torchvision import transforms , models\n",
    "from torch.optim import SGD\n",
    "\n",
    "import torch_xla\n",
    "import torch_xla.core.xla_model as xm\n",
    "import torch_xla.distributed.parallel_loader as pl\n",
    "import torch_xla.distributed.xla_multiprocessing as xmp"
   ]
  },
  {
   "cell_type": "code",
   "execution_count": 46,
   "metadata": {
    "execution": {
     "iopub.execute_input": "2022-11-28T08:58:37.186596Z",
     "iopub.status.busy": "2022-11-28T08:58:37.186380Z",
     "iopub.status.idle": "2022-11-28T08:58:37.232866Z",
     "shell.execute_reply": "2022-11-28T08:58:37.231703Z",
     "shell.execute_reply.started": "2022-11-28T08:58:37.186563Z"
    }
   },
   "outputs": [],
   "source": [
    "train_feature_description = {\n",
    "    'class': tf.io.FixedLenFeature([], tf.int64),\n",
    "    'id': tf.io.FixedLenFeature([], tf.string),\n",
    "    'image': tf.io.FixedLenFeature([], tf.string),\n",
    "}\n",
    "test_feature_description = {\n",
    "    'id': tf.io.FixedLenFeature([], tf.string),\n",
    "    'image': tf.io.FixedLenFeature([], tf.string),\n",
    "}"
   ]
  },
  {
   "cell_type": "code",
   "execution_count": 47,
   "metadata": {
    "execution": {
     "iopub.execute_input": "2022-11-28T08:58:37.234526Z",
     "iopub.status.busy": "2022-11-28T08:58:37.234272Z",
     "iopub.status.idle": "2022-11-28T08:58:37.245799Z",
     "shell.execute_reply": "2022-11-28T08:58:37.244948Z",
     "shell.execute_reply.started": "2022-11-28T08:58:37.234498Z"
    }
   },
   "outputs": [],
   "source": [
    "def _parse_image_function(example_proto):\n",
    " return tf.io.parse_single_example(example_proto, train_feature_description)\n",
    "def second_parse_image_function(example_proto):\n",
    " return tf.io.parse_single_example(example_proto, test_feature_description)"
   ]
  },
  {
   "cell_type": "code",
   "execution_count": 48,
   "metadata": {
    "execution": {
     "iopub.execute_input": "2022-11-28T08:58:37.247699Z",
     "iopub.status.busy": "2022-11-28T08:58:37.246961Z",
     "iopub.status.idle": "2022-11-28T08:58:37.511542Z",
     "shell.execute_reply": "2022-11-28T08:58:37.510664Z",
     "shell.execute_reply.started": "2022-11-28T08:58:37.247668Z"
    }
   },
   "outputs": [],
   "source": [
    "train_lis = []\n",
    "val_lis = []\n",
    "test_lis = []\n",
    "\n",
    "for i in train_imgs:\n",
    "  train_lis.append(tf.data.TFRecordDataset(\"/kaggle/input/tpu-getting-started/tfrecords-jpeg-192x192/train/\"+i))\n",
    "\n",
    "for i in val_imgs:\n",
    "  val_lis.append(tf.data.TFRecordDataset(\"/kaggle/input/tpu-getting-started/tfrecords-jpeg-192x192/val/\"+i))\n",
    "\n",
    "for i in test_imgs:\n",
    "  test_lis.append(tf.data.TFRecordDataset(\"/kaggle/input/tpu-getting-started/tfrecords-jpeg-192x192/test/\"+i))"
   ]
  },
  {
   "cell_type": "code",
   "execution_count": 49,
   "metadata": {
    "execution": {
     "iopub.execute_input": "2022-11-28T08:58:37.513020Z",
     "iopub.status.busy": "2022-11-28T08:58:37.512781Z",
     "iopub.status.idle": "2022-11-28T08:58:46.777996Z",
     "shell.execute_reply": "2022-11-28T08:58:46.776901Z",
     "shell.execute_reply.started": "2022-11-28T08:58:37.512993Z"
    }
   },
   "outputs": [],
   "source": [
    "train_ids = []\n",
    "train_classes = []\n",
    "train_images = []\n",
    "\n",
    "val_ids = []\n",
    "val_classes = []\n",
    "val_images = []\n",
    "\n",
    "test_ids = []\n",
    "test_images = []\n",
    "\n",
    "for tl in train_lis:\n",
    "  temp = tl.map(_parse_image_function)\n",
    "  for t in temp:\n",
    "    train_classes.append(t[\"class\"].numpy())\n",
    "    train_ids.append(str(t[\"id\"].numpy())[2:-1])\n",
    "    train_images.append(t[\"image\"].numpy())\n",
    "    \n",
    "for tl in val_lis:\n",
    "  temp = tl.map(_parse_image_function)\n",
    "  for t in temp:\n",
    "    val_classes.append(t[\"class\"].numpy())\n",
    "    val_ids.append(str(t[\"id\"].numpy())[2:-1])\n",
    "    val_images.append(t[\"image\"].numpy())\n",
    "\n",
    "for tl in test_lis:\n",
    "  temp = tl.map(second_parse_image_function)\n",
    "  for t in temp:\n",
    "    test_ids.append(str(t[\"id\"].numpy())[2:-1])\n",
    "    test_images.append(t[\"image\"].numpy())"
   ]
  },
  {
   "cell_type": "code",
   "execution_count": 50,
   "metadata": {
    "execution": {
     "iopub.execute_input": "2022-11-28T08:58:46.779909Z",
     "iopub.status.busy": "2022-11-28T08:58:46.779565Z",
     "iopub.status.idle": "2022-11-28T08:58:46.788066Z",
     "shell.execute_reply": "2022-11-28T08:58:46.787015Z",
     "shell.execute_reply.started": "2022-11-28T08:58:46.779863Z"
    }
   },
   "outputs": [],
   "source": [
    "class CustDat(Dataset):\n",
    "    def __init__(self , images , classes , ids , transform , mode):\n",
    "        self.images = images\n",
    "        self.classes = classes\n",
    "        self.ids = ids\n",
    "        self.transform = transform\n",
    "        self.mode = mode\n",
    "        \n",
    "    def __len__(self):\n",
    "        return len(self.images)\n",
    "    \n",
    "    def __getitem__(self , idx):\n",
    "        img = Image.open(io.BytesIO(self.images[idx]))\n",
    "        img = self.transform(img)\n",
    "        if self.mode == \"test\":\n",
    "            idd = self.ids[idx]\n",
    "            return (img , idd)\n",
    "        else:\n",
    "            label = self.classes[idx]\n",
    "            return (img , label)"
   ]
  },
  {
   "cell_type": "code",
   "execution_count": 51,
   "metadata": {
    "execution": {
     "iopub.execute_input": "2022-11-28T08:58:46.789800Z",
     "iopub.status.busy": "2022-11-28T08:58:46.789505Z",
     "iopub.status.idle": "2022-11-28T08:58:46.801692Z",
     "shell.execute_reply": "2022-11-28T08:58:46.800691Z",
     "shell.execute_reply.started": "2022-11-28T08:58:46.789763Z"
    }
   },
   "outputs": [],
   "source": [
    "transform = transforms.Compose([\n",
    "    transforms.Resize((120 , 120)) , \n",
    "    transforms.ToTensor() , \n",
    "    transforms.Normalize((0 , 0 , 0) , (1 , 1 , 1))\n",
    "])"
   ]
  },
  {
   "cell_type": "code",
   "execution_count": 52,
   "metadata": {
    "execution": {
     "iopub.execute_input": "2022-11-28T08:58:46.803714Z",
     "iopub.status.busy": "2022-11-28T08:58:46.803402Z",
     "iopub.status.idle": "2022-11-28T08:58:46.859205Z",
     "shell.execute_reply": "2022-11-28T08:58:46.858391Z",
     "shell.execute_reply.started": "2022-11-28T08:58:46.803675Z"
    }
   },
   "outputs": [],
   "source": [
    "train_cust = CustDat(train_images , train_classes , None , transform , \"train\")\n",
    "val_cust = CustDat(val_images , val_classes , None , transform , \"val\")\n",
    "test_cust = CustDat(test_images , None , test_ids , transform , \"test\")"
   ]
  },
  {
   "cell_type": "code",
   "execution_count": 53,
   "metadata": {
    "execution": {
     "iopub.execute_input": "2022-11-28T08:58:46.862786Z",
     "iopub.status.busy": "2022-11-28T08:58:46.862430Z",
     "iopub.status.idle": "2022-11-28T08:58:46.878767Z",
     "shell.execute_reply": "2022-11-28T08:58:46.877791Z",
     "shell.execute_reply.started": "2022-11-28T08:58:46.862748Z"
    }
   },
   "outputs": [],
   "source": [
    "class BasicBlock(nn.Module):\n",
    "    def __init__(self, in_channels: int, out_channels: int):\n",
    "        super().__init__()\n",
    "        self.conv1 = nn.Conv2d(in_channels=in_channels, out_channels=out_channels, kernel_size=3, padding=1)\n",
    "        self.bn1 = nn.BatchNorm2d(out_channels)\n",
    "        self.relu = nn.ReLU(inplace=True)\n",
    "        self.conv2 = nn.Conv2d(in_channels=out_channels, out_channels=out_channels, kernel_size=1)\n",
    "        self.bn2 = nn.BatchNorm2d(out_channels)\n",
    "        self.downsample = nn.Conv2d(in_channels=in_channels, out_channels=out_channels, kernel_size=1)\n",
    "\n",
    "    def forward(self, x: Tensor) -> Tensor:\n",
    "        identity = self.downsample(x)\n",
    "\n",
    "        out = self.conv1(x)\n",
    "        out = self.bn1(out)\n",
    "        out = self.relu(out)\n",
    "\n",
    "        out = self.conv2(out)\n",
    "        out = self.bn2(out)\n",
    "\n",
    "        out += identity\n",
    "        out = self.relu(out)\n",
    "\n",
    "        return out\n",
    "\n",
    "\n",
    "class ResNet18(nn.Module):\n",
    "    def __init__(self,\n",
    "                 image_size: int,\n",
    "                 in_channels: int,\n",
    "                 num_classes: int,\n",
    "                 base_width=8,\n",
    "                 ):\n",
    "        super().__init__()\n",
    "        self.image_size = image_size\n",
    "        self.embed = nn.Conv2d(in_channels=in_channels, out_channels=base_width * 1, kernel_size=1)\n",
    "        self.bn1 = nn.BatchNorm2d(base_width * 1)\n",
    "        self.relu = nn.ReLU(inplace=True)\n",
    "        self.block1 = BasicBlock(in_channels=base_width * 1, out_channels=base_width * 1)\n",
    "        self.block2 = BasicBlock(in_channels=base_width * 1, out_channels=base_width * 2)\n",
    "        self.block3 = BasicBlock(in_channels=base_width * 2, out_channels=base_width * 4)\n",
    "        self.block4 = BasicBlock(in_channels=base_width * 4, out_channels=base_width * 8)\n",
    "        self.avgpool = nn.AdaptiveAvgPool2d((1, 1))\n",
    "        self.fc = nn.Linear(base_width * 8, num_classes)\n",
    "\n",
    "    def forward(self, x: Tensor) -> Tensor:\n",
    "        x = self.embed(x)\n",
    "        x = self.bn1(x)\n",
    "        x = self.relu(x)\n",
    "\n",
    "        x = self.block1(x)\n",
    "        x = self.block2(x)\n",
    "        x = self.block3(x)\n",
    "        x = self.block4(x)\n",
    "\n",
    "        x = self.avgpool(x)\n",
    "        x = torch.flatten(x, 1)\n",
    "        x = self.fc(x)\n",
    "\n",
    "        return x"
   ]
  },
  {
   "cell_type": "code",
   "execution_count": 54,
   "metadata": {
    "execution": {
     "iopub.execute_input": "2022-11-28T08:58:46.883763Z",
     "iopub.status.busy": "2022-11-28T08:58:46.883479Z",
     "iopub.status.idle": "2022-11-28T08:58:49.930844Z",
     "shell.execute_reply": "2022-11-28T08:58:49.930207Z",
     "shell.execute_reply.started": "2022-11-28T08:58:46.883737Z"
    }
   },
   "outputs": [
    {
     "name": "stderr",
     "output_type": "stream",
     "text": [
      "Downloading: \"https://download.pytorch.org/models/resnet18-5c106cde.pth\" to /root/.cache/torch/hub/checkpoints/resnet18-5c106cde.pth\n"
     ]
    },
    {
     "data": {
      "application/vnd.jupyter.widget-view+json": {
       "model_id": "2caa46d921a44a168ffa39905224df0a",
       "version_major": 2,
       "version_minor": 0
      },
      "text/plain": [
       "  0%|          | 0.00/44.7M [00:00<?, ?B/s]"
      ]
     },
     "metadata": {},
     "output_type": "display_data"
    }
   ],
   "source": [
    "temp_model = models.resnet18(pretrained=True)"
   ]
  },
  {
   "cell_type": "code",
   "execution_count": 55,
   "metadata": {
    "execution": {
     "iopub.execute_input": "2022-11-28T08:58:49.933116Z",
     "iopub.status.busy": "2022-11-28T08:58:49.932290Z",
     "iopub.status.idle": "2022-11-28T08:58:49.937138Z",
     "shell.execute_reply": "2022-11-28T08:58:49.936217Z",
     "shell.execute_reply.started": "2022-11-28T08:58:49.933084Z"
    }
   },
   "outputs": [],
   "source": [
    "tot_fr = temp_model.fc.in_features"
   ]
  },
  {
   "cell_type": "code",
   "execution_count": 56,
   "metadata": {
    "execution": {
     "iopub.execute_input": "2022-11-28T08:58:49.938659Z",
     "iopub.status.busy": "2022-11-28T08:58:49.938429Z",
     "iopub.status.idle": "2022-11-28T08:58:50.002544Z",
     "shell.execute_reply": "2022-11-28T08:58:50.001873Z",
     "shell.execute_reply.started": "2022-11-28T08:58:49.938632Z"
    }
   },
   "outputs": [],
   "source": [
    "temp_model.fc = nn.Linear(tot_fr , len(train_classes))"
   ]
  },
  {
   "cell_type": "code",
   "execution_count": 57,
   "metadata": {
    "execution": {
     "iopub.execute_input": "2022-11-28T08:58:50.004375Z",
     "iopub.status.busy": "2022-11-28T08:58:50.003945Z",
     "iopub.status.idle": "2022-11-28T08:58:50.021082Z",
     "shell.execute_reply": "2022-11-28T08:58:50.020336Z",
     "shell.execute_reply.started": "2022-11-28T08:58:50.004344Z"
    }
   },
   "outputs": [],
   "source": [
    "temp_model = ResNet18(192, 3, len(train_classes))"
   ]
  },
  {
   "cell_type": "code",
   "execution_count": 58,
   "metadata": {
    "execution": {
     "iopub.execute_input": "2022-11-28T08:58:50.023224Z",
     "iopub.status.busy": "2022-11-28T08:58:50.022720Z",
     "iopub.status.idle": "2022-11-28T08:58:50.027740Z",
     "shell.execute_reply": "2022-11-28T08:58:50.026922Z",
     "shell.execute_reply.started": "2022-11-28T08:58:50.023190Z"
    }
   },
   "outputs": [],
   "source": [
    "SERIAL_EXEC = xmp.MpSerialExecutor()\n",
    "WRAPPED_MODEL = xmp.MpModelWrapper(temp_model)"
   ]
  },
  {
   "cell_type": "code",
   "execution_count": 59,
   "metadata": {
    "execution": {
     "iopub.execute_input": "2022-11-28T08:58:50.029456Z",
     "iopub.status.busy": "2022-11-28T08:58:50.029122Z",
     "iopub.status.idle": "2022-11-28T08:58:50.047852Z",
     "shell.execute_reply": "2022-11-28T08:58:50.047208Z",
     "shell.execute_reply.started": "2022-11-28T08:58:50.029417Z"
    }
   },
   "outputs": [],
   "source": [
    "def run(rank):\n",
    "  train_sampler = torch.utils.data.distributed.DistributedSampler(\n",
    "      train_cust , \n",
    "      num_replicas = 8 , \n",
    "      rank = xm.get_ordinal() , \n",
    "      shuffle = True , \n",
    "      seed = 0\n",
    "  )\n",
    "  val_sampler = torch.utils.data.distributed.DistributedSampler(\n",
    "      val_cust , \n",
    "      num_replicas = 8 , \n",
    "      rank = xm.get_ordinal() , \n",
    "      shuffle = True , \n",
    "      seed = 0\n",
    "  )\n",
    "  train_loader = DataLoader(\n",
    "      train_cust , \n",
    "      batch_size = 16 , \n",
    "      sampler = train_sampler , \n",
    "      num_workers = 1 , \n",
    "      drop_last = False\n",
    "  )\n",
    "  val_loader = DataLoader(\n",
    "      val_cust , \n",
    "      batch_size = 16 , \n",
    "      sampler = val_sampler , \n",
    "      num_workers = 1 , \n",
    "      drop_last = False\n",
    "  )\n",
    "  test_loader = DataLoader(\n",
    "      test_cust , \n",
    "      batch_size = 16 ,\n",
    "      num_workers = 1 , \n",
    "      drop_last = False\n",
    "  )\n",
    "  device = xm.xla_device()\n",
    "  model = WRAPPED_MODEL.to(device)\n",
    "  lr = 0.01 * xm.xrt_world_size()\n",
    "  optimizer = SGD(model.parameters() , lr = lr)\n",
    "  loss_fn = nn.CrossEntropyLoss()\n",
    "\n",
    "  num_epochs = 10\n",
    "\n",
    "  for epoch in range(num_epochs):\n",
    "\n",
    "    #training\n",
    "    para_loader = pl.ParallelLoader(train_loader , [device])\n",
    "    train_loss = []\n",
    "    train_corr = 0\n",
    "    train_sam = 0\n",
    "    model.train()\n",
    "    for x , (data , label) in enumerate(para_loader.per_device_loader(device)):\n",
    "      optimizer.zero_grad()\n",
    "      output = model(data)\n",
    "      loss = loss_fn(output , label)\n",
    "      #accuracy\n",
    "      _ , pred = torch.max(output , 1)\n",
    "      train_corr += (pred == label).sum()\n",
    "      train_sam += label.shape[0]\n",
    "      loss.backward()\n",
    "      train_loss.append(loss.item())\n",
    "      xm.optimizer_step(optimizer)\n",
    "      \n",
    "    #evaluation\n",
    "    model.eval()\n",
    "    val_loss = []\n",
    "    val_corr = 0\n",
    "    val_sam = 0\n",
    "    with torch.no_grad():\n",
    "      para_loader = pl.ParallelLoader(val_loader , [device])\n",
    "      for x , (data , label) in enumerate(para_loader.per_device_loader(device)):\n",
    "        output = model(data)\n",
    "        loss = loss_fn(output , label)\n",
    "        #accuracy\n",
    "        _ , pred = torch.max(output , 1)\n",
    "        val_corr += (pred == label).sum()\n",
    "        val_sam += label.shape[0]\n",
    "        val_loss.append(loss.item())\n",
    "\n",
    "    t_ac = 100.0 * train_corr / train_sam\n",
    "    v_ac = 100.0 * val_corr / val_sam\n",
    "    t_lo = torch.sum(torch.Tensor(train_loss))\n",
    "    v_lo = torch.sum(torch.Tensor(val_loss))\n",
    "    \n",
    "    print(\"epoch is \",epoch,\" train accu \",t_ac,\" train loss \",t_lo,\" val accu \",v_ac,\" val loss \",v_lo)\n",
    "  \n",
    "  if xm.is_master_ordinal():\n",
    "    dic = {}\n",
    "    model.eval()\n",
    "    with torch.no_grad():\n",
    "      para_loader = pl.ParallelLoader(test_loader , [device])\n",
    "      for x , (data , ids) in enumerate(para_loader.per_device_loader(device)):\n",
    "        output = model(data)\n",
    "        _ , pred = torch.max(output , 1)\n",
    "        for i in range(pred.shape[0]):\n",
    "          dic[ids[i]] = int(pred[i].cpu().detach().numpy())\n",
    "      df = pd.DataFrame(dic.items())\n",
    "      df.to_csv(\"fin_sub.csv\")"
   ]
  },
  {
   "cell_type": "code",
   "execution_count": null,
   "metadata": {
    "execution": {
     "iopub.execute_input": "2022-11-28T08:58:50.049521Z",
     "iopub.status.busy": "2022-11-28T08:58:50.048852Z"
    }
   },
   "outputs": [
    {
     "name": "stdout",
     "output_type": "stream",
     "text": [
      "epoch is  0  train accu  tensor(10.0313, device='xla:0')  train loss  epoch is epoch is tensor(670.5270)epoch is  0   val accu  0   train accu tensor(11.4224, device='xla:0') train accu     val loss  tensor(8.9655, device='xla:0') 0tensor(124.9245)tensor(9.3417, device='xla:0')  train loss  \n",
      "epoch is   tensor(674.2007) train accu     train loss  val accu  tensor(10.7837, device='xla:0') 0  train accu   tensor(673.1263)tensor(10.9914, device='xla:0') train loss epoch is     val accu  val loss  tensor(9.5925, device='xla:1') tensor(662.9042)  tensor(12.9310, device='xla:0') tensor(126.6379) 0 val loss  val accu    train accu \n",
      " train loss epoch is   tensor(672.6152)  tensor(13.5776, device='xla:0') epoch is  val accu tensor(7.1473, device='xla:0')0 tensor(121.0084)   0 train accu  val loss  \n",
      " tensor(10.7759, device='xla:1') train loss   tensor(8.7147, device='xla:0') train accu     train loss  val loss  tensor(123.0841) \n",
      "tensor(678.3636)tensor(124.5447) \n",
      " tensor(8.0251, device='xla:0')tensor(669.6432)  val accu   val accu    train loss tensor(12.0690, device='xla:0') tensor(14.4397, device='xla:0') tensor(673.9743) val loss    val loss   tensor(122.0637)\n",
      " val accu  tensor(126.4085)\n",
      "tensor(12.7155, device='xla:0')  val loss  tensor(127.0305)\n",
      "epoch is  1  train accu epoch is   1tensor(13.4796, device='xla:0')   train loss  train accu   epoch is  1tensor(384.7223) tensor(11.2853, device='xla:0') train accu  epoch is epoch is  1   train loss   tensor(10.9091, device='xla:0') val accu 1  train accu      train accu  train loss tensor(391.7602) tensor(11.4107, device='xla:0')   tensor(15.7328, device='xla:0')tensor(390.6707)  val accu   val accu tensor(10.7210, device='xla:1')  val loss    train loss tensor(15.0862, device='xla:0')epoch is tensor(15.7328, device='xla:0')  val loss      train loss  tensor(108.2825)tensor(393.0364)\n",
      " tensor(112.4651) val loss   val accu  \n",
      "tensor(392.3441) 1tensor(110.1433) tensor(14.4397, device='xla:0')  train accu  val accu    epoch is \n",
      "tensor(10.9718, device='xla:0') val loss tensor(13.5776, device='xla:1')   1  val loss    train loss  train accu tensor(111.3302)tensor(108.1898)\n",
      " tensor(398.0998)\n",
      "   val accu tensor(10.4702, device='xla:0')   train loss tensor(11.4224, device='xla:0')   val loss epoch is tensor(397.4763)  1  val accu  tensor(111.3303)\n",
      " train accu   tensor(15.5172, device='xla:0')tensor(11.5360, device='xla:0')   train loss   val loss  tensor(394.7990)tensor(111.6519)  val accu \n",
      " tensor(13.5776, device='xla:0')  val loss  tensor(110.7774)\n"
     ]
    }
   ],
   "source": [
    "xmp.spawn(run , nprocs = 8 , start_method = \"fork\")"
   ]
  },
  {
   "cell_type": "code",
   "execution_count": null,
   "metadata": {},
   "outputs": [],
   "source": [
    "os.listdir()"
   ]
  },
  {
   "cell_type": "code",
   "execution_count": null,
   "metadata": {},
   "outputs": [],
   "source": [
    "dff = pd.read_csv('fin_sub.csv')\n",
    "dff.head()"
   ]
  },
  {
   "cell_type": "code",
   "execution_count": null,
   "metadata": {},
   "outputs": [],
   "source": [
    "fin = pd.DataFrame({\"id\":dff[\"0\"].values , \"label\":dff[\"1\"].values})"
   ]
  },
  {
   "cell_type": "code",
   "execution_count": null,
   "metadata": {},
   "outputs": [],
   "source": [
    "fin.to_csv('submission.csv' , index = False)"
   ]
  },
  {
   "cell_type": "code",
   "execution_count": null,
   "metadata": {},
   "outputs": [],
   "source": [
    "os.listdir()"
   ]
  },
  {
   "cell_type": "code",
   "execution_count": null,
   "metadata": {},
   "outputs": [],
   "source": [
    "os.remove(\"fin_sub.csv\")"
   ]
  },
  {
   "cell_type": "code",
   "execution_count": null,
   "metadata": {},
   "outputs": [],
   "source": [
    "fin.head()"
   ]
  },
  {
   "cell_type": "code",
   "execution_count": null,
   "metadata": {},
   "outputs": [],
   "source": []
  }
 ],
 "metadata": {
  "kernelspec": {
   "display_name": "Python 3 (ipykernel)",
   "language": "python",
   "name": "python3"
  },
  "language_info": {
   "codemirror_mode": {
    "name": "ipython",
    "version": 3
   },
   "file_extension": ".py",
   "mimetype": "text/x-python",
   "name": "python",
   "nbconvert_exporter": "python",
   "pygments_lexer": "ipython3",
   "version": "3.8.10"
  }
 },
 "nbformat": 4,
 "nbformat_minor": 4
}
